{
  "cells": [
    {
      "cell_type": "code",
      "execution_count": null,
      "metadata": {
        "id": "y8_8UslWPwBT"
      },
      "outputs": [],
      "source": [
        "import numpy as np\n",
        "import pandas as pd\n",
        "from sklearn.model_selection import train_test_split\n",
        "\n",
        "from numpy import mean\n",
        "from numpy import std\n",
        "\n",
        "from matplotlib import pyplot\n",
        "from sklearn.metrics import accuracy_score,confusion_matrix,classification_report\n",
        "from sklearn.preprocessing import QuantileTransformer\n",
        "from sklearn.pipeline import Pipeline\n",
        "\n",
        "from scipy.stats import mode"
      ]
    },
    {
      "cell_type": "code",
      "execution_count": null,
      "metadata": {
        "id": "h28AuzD_P2G6"
      },
      "outputs": [],
      "source": [
        "from pydrive.auth import GoogleAuth\n",
        "from pydrive.drive import GoogleDrive\n",
        "from google.colab import auth\n",
        "from oauth2client.client import GoogleCredentials"
      ]
    },
    {
      "cell_type": "code",
      "execution_count": null,
      "metadata": {
        "id": "F-F5aOYSP2LF"
      },
      "outputs": [],
      "source": [
        "auth.authenticate_user()\n",
        "gauth = GoogleAuth()\n",
        "gauth.credentials = GoogleCredentials.get_application_default()\n",
        "drive = GoogleDrive(gauth)"
      ]
    },
    {
      "cell_type": "code",
      "execution_count": null,
      "metadata": {
        "colab": {
          "base_uri": "https://localhost:8080/"
        },
        "id": "W55D-9irP2OD",
        "outputId": "22a5ce1c-4306-4176-f799-29f129e2ffba"
      },
      "outputs": [
        {
          "output_type": "stream",
          "name": "stdout",
          "text": [
            "Mounted at /content/gdrive\n"
          ]
        }
      ],
      "source": [
        "#npz files can only be loaded using /gdrive path\n",
        "from google.colab import drive\n",
        "drive.mount('/content/gdrive')\n",
        "#%cd /gdrive"
      ]
    },
    {
      "cell_type": "code",
      "execution_count": null,
      "metadata": {
        "colab": {
          "base_uri": "https://localhost:8080/"
        },
        "id": "PludW6j-P6vX",
        "outputId": "1f81073e-0d8c-4468-d72c-e5f07c1baec9"
      },
      "outputs": [
        {
          "output_type": "stream",
          "name": "stdout",
          "text": [
            "Looking in indexes: https://pypi.org/simple, https://us-python.pkg.dev/colab-wheels/public/simple/\n",
            "Collecting mne\n",
            "  Downloading mne-1.0.3-py3-none-any.whl (7.5 MB)\n",
            "\u001b[K     |████████████████████████████████| 7.5 MB 3.7 MB/s \n",
            "\u001b[?25hRequirement already satisfied: jinja2 in /usr/local/lib/python3.7/dist-packages (from mne) (2.11.3)\n",
            "Requirement already satisfied: packaging in /usr/local/lib/python3.7/dist-packages (from mne) (21.3)\n",
            "Requirement already satisfied: tqdm in /usr/local/lib/python3.7/dist-packages (from mne) (4.64.0)\n",
            "Requirement already satisfied: matplotlib in /usr/local/lib/python3.7/dist-packages (from mne) (3.2.2)\n",
            "Requirement already satisfied: pooch>=1.5 in /usr/local/lib/python3.7/dist-packages (from mne) (1.6.0)\n",
            "Requirement already satisfied: numpy>=1.15.4 in /usr/local/lib/python3.7/dist-packages (from mne) (1.21.6)\n",
            "Requirement already satisfied: decorator in /usr/local/lib/python3.7/dist-packages (from mne) (4.4.2)\n",
            "Requirement already satisfied: scipy>=1.1.0 in /usr/local/lib/python3.7/dist-packages (from mne) (1.7.3)\n",
            "Requirement already satisfied: appdirs>=1.3.0 in /usr/local/lib/python3.7/dist-packages (from pooch>=1.5->mne) (1.4.4)\n",
            "Requirement already satisfied: requests>=2.19.0 in /usr/local/lib/python3.7/dist-packages (from pooch>=1.5->mne) (2.23.0)\n",
            "Requirement already satisfied: pyparsing!=3.0.5,>=2.0.2 in /usr/local/lib/python3.7/dist-packages (from packaging->mne) (3.0.9)\n",
            "Requirement already satisfied: chardet<4,>=3.0.2 in /usr/local/lib/python3.7/dist-packages (from requests>=2.19.0->pooch>=1.5->mne) (3.0.4)\n",
            "Requirement already satisfied: urllib3!=1.25.0,!=1.25.1,<1.26,>=1.21.1 in /usr/local/lib/python3.7/dist-packages (from requests>=2.19.0->pooch>=1.5->mne) (1.24.3)\n",
            "Requirement already satisfied: idna<3,>=2.5 in /usr/local/lib/python3.7/dist-packages (from requests>=2.19.0->pooch>=1.5->mne) (2.10)\n",
            "Requirement already satisfied: certifi>=2017.4.17 in /usr/local/lib/python3.7/dist-packages (from requests>=2.19.0->pooch>=1.5->mne) (2022.6.15)\n",
            "Requirement already satisfied: MarkupSafe>=0.23 in /usr/local/lib/python3.7/dist-packages (from jinja2->mne) (2.0.1)\n",
            "Requirement already satisfied: kiwisolver>=1.0.1 in /usr/local/lib/python3.7/dist-packages (from matplotlib->mne) (1.4.3)\n",
            "Requirement already satisfied: python-dateutil>=2.1 in /usr/local/lib/python3.7/dist-packages (from matplotlib->mne) (2.8.2)\n",
            "Requirement already satisfied: cycler>=0.10 in /usr/local/lib/python3.7/dist-packages (from matplotlib->mne) (0.11.0)\n",
            "Requirement already satisfied: typing-extensions in /usr/local/lib/python3.7/dist-packages (from kiwisolver>=1.0.1->matplotlib->mne) (4.1.1)\n",
            "Requirement already satisfied: six>=1.5 in /usr/local/lib/python3.7/dist-packages (from python-dateutil>=2.1->matplotlib->mne) (1.15.0)\n",
            "Installing collected packages: mne\n",
            "Successfully installed mne-1.0.3\n"
          ]
        }
      ],
      "source": [
        "!pip install mne"
      ]
    },
    {
      "cell_type": "code",
      "execution_count": null,
      "metadata": {
        "id": "_1O1bfmjP6w2"
      },
      "outputs": [],
      "source": [
        "#import pyeeg\n",
        "from tensorflow import keras "
      ]
    },
    {
      "cell_type": "code",
      "execution_count": null,
      "metadata": {
        "id": "I9Lglo7-P60e"
      },
      "outputs": [],
      "source": [
        "%matplotlib inline\n",
        "\n",
        "import glob\n",
        "import math\n",
        "import ntpath\n",
        "import random, os, sys\n",
        "import numpy as np\n",
        "import pandas as pd\n",
        "import tensorflow as tf\n",
        "import matplotlib.pyplot as plt\n",
        "import seaborn as sns\n",
        "#import edfreader\n",
        "#import models\n",
        "import mne\n",
        "#import pyeeg\n",
        "import warnings\n",
        "warnings.filterwarnings('ignore')\n",
        "\n",
        "from matplotlib.backends.backend_pdf import PdfPages\n",
        "from mne.datasets.sleep_physionet._utils import _fetch_one, _data_path, AGE_SLEEP_RECORDS, _check_subjects\n",
        "from datetime import datetime\n",
        "from mne import Epochs, pick_types, find_events\n",
        "from mne.io import concatenate_raws, read_raw_edf\n",
        "from mne.time_frequency import psd_welch\n",
        "from sklearn.ensemble import RandomForestClassifier\n",
        "from sklearn.metrics import classification_report\n",
        "\n",
        "from tqdm.notebook import tqdm\n",
        "from sklearn.model_selection import train_test_split\n",
        "from tensorflow import keras\n",
        "\n",
        "from tensorflow.keras.utils import to_categorical\n",
        "\n",
        "from tensorflow.keras.callbacks import ModelCheckpoint, ReduceLROnPlateau, CSVLogger\n",
        "import imblearn\n",
        "from imblearn.over_sampling import SMOTE\n",
        "from sklearn.svm import SVC\n",
        "import joblib\n",
        "\n",
        "from sklearn.metrics import make_scorer, f1_score, accuracy_score, classification_report, log_loss\n",
        "from sklearn.metrics import roc_auc_score, confusion_matrix, roc_auc_score, roc_curve\n",
        "\n",
        "from sklearn.tree import DecisionTreeClassifier\n",
        "from sklearn.neighbors import KNeighborsClassifier\n",
        "from sklearn.ensemble import RandomForestClassifier, AdaBoostClassifier, GradientBoostingClassifier\n",
        "from sklearn.naive_bayes import GaussianNB\n",
        "from sklearn.discriminant_analysis import LinearDiscriminantAnalysis\n",
        "from sklearn.discriminant_analysis import QuadraticDiscriminantAnalysis\n",
        "#from xgboost import XGBClassifier\n",
        "#import xgboost"
      ]
    },
    {
      "cell_type": "code",
      "execution_count": null,
      "metadata": {
        "id": "tf6-foYQQFUF"
      },
      "outputs": [],
      "source": [
        "VBS = True  # constant boolean to enable/disbale verbose\n",
        "EPOCH_SEC_SIZE = 30  # Epoch duration selection\n",
        "seed = 42  # seed value for the random seeds\n",
        "batch_size = 64\n",
        "number_of_files = 100 #100 npz files, 50 subjects, each suject has 2 nights, so 2 files per subject (50*2)=100\n",
        "\n",
        "# values to label the stages\n",
        "UNKNOWN = -1\n",
        "W = 0\n",
        "N1 = 1\n",
        "N2 = 2\n",
        "N3 = 3\n",
        "REM = 4\n",
        "\n",
        "# making string dictionary for the label values\n",
        "label_dict = {\n",
        "    \"UNKNOWN\"  : UNKNOWN,\n",
        "    \"W\"        : W,\n",
        "    \"N1\"       : N1,\n",
        "    \"N2\"       : N2,\n",
        "    \"N3\"       : N3,\n",
        "    \"REM\"      : REM\n",
        "}\n",
        "\n",
        "# converting from label values to strings \n",
        "class_dict = {\n",
        "    -1: \"UNKNOWN\",\n",
        "    0 : \"W\",\n",
        "    1 : \"N1\",\n",
        "    2 : \"N2\",\n",
        "    3 : \"N3\",\n",
        "    4 : \"REM\"\n",
        "}\n",
        "\n",
        "# annotation dictionary to convert from string to label values\n",
        "annot2label = {\n",
        "    \"Sleep stage ?\": -1,\n",
        "    \"Movement time\": -1,\n",
        "    \"Sleep stage W\": 0,\n",
        "    \"Sleep stage 1\": 1,\n",
        "    \"Sleep stage 2\": 2,\n",
        "    \"Sleep stage 3\": 3,\n",
        "    \"Sleep stage 4\": 3,\n",
        "    \"Sleep stage R\": 4\n",
        "}\n",
        "#project_path = os.path.abspath(os.getcwd())  # finding the current project path in windows"
      ]
    },
    {
      "cell_type": "code",
      "execution_count": null,
      "metadata": {
        "id": "LVIQYKRqQFZF"
      },
      "outputs": [],
      "source": [
        "from tensorflow.keras import optimizers, losses, activations, models\n",
        "from tensorflow.keras.models import Model, load_model\n",
        "from tensorflow.keras.layers import GlobalMaxPool1D, GlobalAveragePooling1D, concatenate, SpatialDropout1D, TimeDistributed, Bidirectional, LSTM\n",
        "from tensorflow.keras.layers import Input, Conv1D, Dense, Dropout, MaxPool1D, Activation\n",
        "from tensorflow.keras.layers import Reshape, LSTM, TimeDistributed, Bidirectional, BatchNormalization, Flatten, RepeatVector\n",
        "from tensorflow.keras.optimizers import Adam\n",
        "#from keras_contrib.layers import CRF\n",
        "\n",
        "from scipy.signal import butter, lfilter\n"
      ]
    },
    {
      "cell_type": "code",
      "execution_count": null,
      "metadata": {
        "id": "Kd4xCZ9aQcL5"
      },
      "outputs": [],
      "source": [
        "Fs = 100\n",
        "from keras.utils import np_utils"
      ]
    },
    {
      "cell_type": "code",
      "execution_count": null,
      "metadata": {
        "id": "wIn4t2wFToOT"
      },
      "outputs": [],
      "source": [
        "dt=pd.read_csv('/content/gdrive/My Drive/physionet/ensemble/50_subs/x_train_sub.csv',header=None)"
      ]
    },
    {
      "cell_type": "code",
      "source": [
        "dt[3000].value_counts()"
      ],
      "metadata": {
        "colab": {
          "base_uri": "https://localhost:8080/"
        },
        "id": "4Ulql6kCLL1I",
        "outputId": "14085b30-c98b-48b0-f3fa-8d66415dc51f"
      },
      "execution_count": null,
      "outputs": [
        {
          "output_type": "execute_result",
          "data": {
            "text/plain": [
              "0    2557\n",
              "2     658\n",
              "1     565\n",
              "4     208\n",
              "Name: 3000, dtype: int64"
            ]
          },
          "metadata": {},
          "execution_count": 10
        }
      ]
    },
    {
      "cell_type": "code",
      "execution_count": null,
      "metadata": {
        "id": "y5cw0csyQcNu"
      },
      "outputs": [],
      "source": [
        "transfer_set_with_tri_trained_sub_labeled_dt=pd.read_csv('/content/gdrive/My Drive/physionet/ensemble/50_subs/transfer_set_plus_sub_dt_with_tri_trained_labels_keras_way.csv',header=None)"
      ]
    },
    {
      "cell_type": "code",
      "execution_count": null,
      "metadata": {
        "id": "9j7JLQOhT6rQ"
      },
      "outputs": [],
      "source": [
        "transfer_set_with_tri_trained_sub_labeled_dt=pd.read_csv('/content/gdrive/My Drive/physionet/ensemble/50_subs/transfer_set_plus_sub_dt_with_tri_trained_labels_keras_way_sub_473_trial_2.csv',header=None) #the transfer set + subject specific train data , inc semi sup tri-trained labels obtained the keras way (train_on_batch)"
      ]
    },
    {
      "cell_type": "code",
      "execution_count": null,
      "metadata": {
        "colab": {
          "base_uri": "https://localhost:8080/",
          "height": 488
        },
        "id": "URKgybX3RH_T",
        "outputId": "04130c05-ce2e-49ee-b64f-b80caff3dd4a"
      },
      "outputs": [
        {
          "output_type": "execute_result",
          "data": {
            "text/plain": [
              "            0         1         2         3         4         5         6     \\\n",
              "0       0.068014  0.082915  0.077628  0.074744  0.060804  0.063688  0.050710   \n",
              "1       0.104729  0.054513 -0.020131 -0.064918 -0.122825 -0.127801 -0.107443   \n",
              "2       0.002281 -0.031309 -0.007672 -0.020527 -0.003110 -0.011404  0.006013   \n",
              "3      -0.025235 -0.037732 -0.033406 -0.031964 -0.034848 -0.041097 -0.031484   \n",
              "4       0.097914 -0.100520 -0.044574 -0.079540 -0.071235 -0.029713 -0.041951   \n",
              "...          ...       ...       ...       ...       ...       ...       ...   \n",
              "120701  0.007788  0.000649 -0.011726 -0.019817 -0.029336 -0.035047 -0.036951   \n",
              "120702 -0.294326 -0.221001 -0.269121 -0.249873 -0.320907 -0.250331 -0.277370   \n",
              "120703  0.024639  0.031055  0.038846  0.029222  0.026472  0.018681  0.002183   \n",
              "120704 -0.014315 -0.056019 -0.067934 -0.050978 -0.059685 -0.082141 -0.104597   \n",
              "120705 -0.184497 -0.171171 -0.171646 -0.166887 -0.164507 -0.138806 -0.150704   \n",
              "\n",
              "            7         8         9     ...      2991      2992      2993  \\\n",
              "0       0.029561  0.010815  0.008412  ... -0.010334 -0.016102 -0.034368   \n",
              "1      -0.086633 -0.051799 -0.033251  ... -0.123729 -0.120563 -0.129158   \n",
              "2      -0.029236 -0.025089 -0.042091  ...  0.088122  0.057850  0.027992   \n",
              "3      -0.025716 -0.019948 -0.030522  ... -0.015141 -0.013699 -0.018025   \n",
              "4       0.000445 -0.031024  0.172217  ...  0.167409  0.220732  0.191011   \n",
              "...          ...       ...       ...  ...       ...       ...       ...   \n",
              "120701 -0.037427 -0.037427 -0.038379  ... -0.013154 -0.018389 -0.024101   \n",
              "120702 -0.308533 -0.328239 -0.289743  ... -0.039062 -0.097264 -0.113304   \n",
              "120703 -0.004691  0.012724 -0.001942  ... -0.008357 -0.006983 -0.010191   \n",
              "120704 -0.077558 -0.062435 -0.057394  ... -0.058310 -0.082599 -0.095890   \n",
              "120705 -0.149753 -0.140709 -0.144517  ...  0.036822  0.032062  0.032538   \n",
              "\n",
              "            2994      2995      2996      2997      2998      2999  3000  \n",
              "0      -0.055998 -0.074263 -0.071860 -0.077147 -0.084838 -0.090125     4  \n",
              "1      -0.149968 -0.173945 -0.187064 -0.171231 -0.149516 -0.121467     3  \n",
              "2       0.038359  0.040847  0.053703  0.072779  0.055362  0.029651     2  \n",
              "3      -0.020909 -0.021390 -0.002644 -0.020428 -0.025235 -0.024754     2  \n",
              "4       0.119767  0.165661  0.270996  0.200190  0.246520  0.166535     0  \n",
              "...          ...       ...       ...       ...       ...       ...   ...  \n",
              "120701 -0.041235 -0.047422 -0.060749 -0.054562 -0.045043 -0.038379     2  \n",
              "120702 -0.148134 -0.158216 -0.162341 -0.165549 -0.171506 -0.164632     0  \n",
              "120703 -0.020731 -0.021189 -0.013399 -0.007899 -0.015232 -0.024397     0  \n",
              "120704 -0.072517 -0.067934 -0.083058 -0.112388 -0.105972 -0.112846     2  \n",
              "120705  0.030634  0.018259  0.009692  0.009216  0.011120  0.001125     4  \n",
              "\n",
              "[120706 rows x 3001 columns]"
            ],
            "text/html": [
              "\n",
              "  <div id=\"df-6e1cfbf4-059f-4728-ad7a-be68d97b4eb9\">\n",
              "    <div class=\"colab-df-container\">\n",
              "      <div>\n",
              "<style scoped>\n",
              "    .dataframe tbody tr th:only-of-type {\n",
              "        vertical-align: middle;\n",
              "    }\n",
              "\n",
              "    .dataframe tbody tr th {\n",
              "        vertical-align: top;\n",
              "    }\n",
              "\n",
              "    .dataframe thead th {\n",
              "        text-align: right;\n",
              "    }\n",
              "</style>\n",
              "<table border=\"1\" class=\"dataframe\">\n",
              "  <thead>\n",
              "    <tr style=\"text-align: right;\">\n",
              "      <th></th>\n",
              "      <th>0</th>\n",
              "      <th>1</th>\n",
              "      <th>2</th>\n",
              "      <th>3</th>\n",
              "      <th>4</th>\n",
              "      <th>5</th>\n",
              "      <th>6</th>\n",
              "      <th>7</th>\n",
              "      <th>8</th>\n",
              "      <th>9</th>\n",
              "      <th>...</th>\n",
              "      <th>2991</th>\n",
              "      <th>2992</th>\n",
              "      <th>2993</th>\n",
              "      <th>2994</th>\n",
              "      <th>2995</th>\n",
              "      <th>2996</th>\n",
              "      <th>2997</th>\n",
              "      <th>2998</th>\n",
              "      <th>2999</th>\n",
              "      <th>3000</th>\n",
              "    </tr>\n",
              "  </thead>\n",
              "  <tbody>\n",
              "    <tr>\n",
              "      <th>0</th>\n",
              "      <td>0.068014</td>\n",
              "      <td>0.082915</td>\n",
              "      <td>0.077628</td>\n",
              "      <td>0.074744</td>\n",
              "      <td>0.060804</td>\n",
              "      <td>0.063688</td>\n",
              "      <td>0.050710</td>\n",
              "      <td>0.029561</td>\n",
              "      <td>0.010815</td>\n",
              "      <td>0.008412</td>\n",
              "      <td>...</td>\n",
              "      <td>-0.010334</td>\n",
              "      <td>-0.016102</td>\n",
              "      <td>-0.034368</td>\n",
              "      <td>-0.055998</td>\n",
              "      <td>-0.074263</td>\n",
              "      <td>-0.071860</td>\n",
              "      <td>-0.077147</td>\n",
              "      <td>-0.084838</td>\n",
              "      <td>-0.090125</td>\n",
              "      <td>4</td>\n",
              "    </tr>\n",
              "    <tr>\n",
              "      <th>1</th>\n",
              "      <td>0.104729</td>\n",
              "      <td>0.054513</td>\n",
              "      <td>-0.020131</td>\n",
              "      <td>-0.064918</td>\n",
              "      <td>-0.122825</td>\n",
              "      <td>-0.127801</td>\n",
              "      <td>-0.107443</td>\n",
              "      <td>-0.086633</td>\n",
              "      <td>-0.051799</td>\n",
              "      <td>-0.033251</td>\n",
              "      <td>...</td>\n",
              "      <td>-0.123729</td>\n",
              "      <td>-0.120563</td>\n",
              "      <td>-0.129158</td>\n",
              "      <td>-0.149968</td>\n",
              "      <td>-0.173945</td>\n",
              "      <td>-0.187064</td>\n",
              "      <td>-0.171231</td>\n",
              "      <td>-0.149516</td>\n",
              "      <td>-0.121467</td>\n",
              "      <td>3</td>\n",
              "    </tr>\n",
              "    <tr>\n",
              "      <th>2</th>\n",
              "      <td>0.002281</td>\n",
              "      <td>-0.031309</td>\n",
              "      <td>-0.007672</td>\n",
              "      <td>-0.020527</td>\n",
              "      <td>-0.003110</td>\n",
              "      <td>-0.011404</td>\n",
              "      <td>0.006013</td>\n",
              "      <td>-0.029236</td>\n",
              "      <td>-0.025089</td>\n",
              "      <td>-0.042091</td>\n",
              "      <td>...</td>\n",
              "      <td>0.088122</td>\n",
              "      <td>0.057850</td>\n",
              "      <td>0.027992</td>\n",
              "      <td>0.038359</td>\n",
              "      <td>0.040847</td>\n",
              "      <td>0.053703</td>\n",
              "      <td>0.072779</td>\n",
              "      <td>0.055362</td>\n",
              "      <td>0.029651</td>\n",
              "      <td>2</td>\n",
              "    </tr>\n",
              "    <tr>\n",
              "      <th>3</th>\n",
              "      <td>-0.025235</td>\n",
              "      <td>-0.037732</td>\n",
              "      <td>-0.033406</td>\n",
              "      <td>-0.031964</td>\n",
              "      <td>-0.034848</td>\n",
              "      <td>-0.041097</td>\n",
              "      <td>-0.031484</td>\n",
              "      <td>-0.025716</td>\n",
              "      <td>-0.019948</td>\n",
              "      <td>-0.030522</td>\n",
              "      <td>...</td>\n",
              "      <td>-0.015141</td>\n",
              "      <td>-0.013699</td>\n",
              "      <td>-0.018025</td>\n",
              "      <td>-0.020909</td>\n",
              "      <td>-0.021390</td>\n",
              "      <td>-0.002644</td>\n",
              "      <td>-0.020428</td>\n",
              "      <td>-0.025235</td>\n",
              "      <td>-0.024754</td>\n",
              "      <td>2</td>\n",
              "    </tr>\n",
              "    <tr>\n",
              "      <th>4</th>\n",
              "      <td>0.097914</td>\n",
              "      <td>-0.100520</td>\n",
              "      <td>-0.044574</td>\n",
              "      <td>-0.079540</td>\n",
              "      <td>-0.071235</td>\n",
              "      <td>-0.029713</td>\n",
              "      <td>-0.041951</td>\n",
              "      <td>0.000445</td>\n",
              "      <td>-0.031024</td>\n",
              "      <td>0.172217</td>\n",
              "      <td>...</td>\n",
              "      <td>0.167409</td>\n",
              "      <td>0.220732</td>\n",
              "      <td>0.191011</td>\n",
              "      <td>0.119767</td>\n",
              "      <td>0.165661</td>\n",
              "      <td>0.270996</td>\n",
              "      <td>0.200190</td>\n",
              "      <td>0.246520</td>\n",
              "      <td>0.166535</td>\n",
              "      <td>0</td>\n",
              "    </tr>\n",
              "    <tr>\n",
              "      <th>...</th>\n",
              "      <td>...</td>\n",
              "      <td>...</td>\n",
              "      <td>...</td>\n",
              "      <td>...</td>\n",
              "      <td>...</td>\n",
              "      <td>...</td>\n",
              "      <td>...</td>\n",
              "      <td>...</td>\n",
              "      <td>...</td>\n",
              "      <td>...</td>\n",
              "      <td>...</td>\n",
              "      <td>...</td>\n",
              "      <td>...</td>\n",
              "      <td>...</td>\n",
              "      <td>...</td>\n",
              "      <td>...</td>\n",
              "      <td>...</td>\n",
              "      <td>...</td>\n",
              "      <td>...</td>\n",
              "      <td>...</td>\n",
              "      <td>...</td>\n",
              "    </tr>\n",
              "    <tr>\n",
              "      <th>120701</th>\n",
              "      <td>0.007788</td>\n",
              "      <td>0.000649</td>\n",
              "      <td>-0.011726</td>\n",
              "      <td>-0.019817</td>\n",
              "      <td>-0.029336</td>\n",
              "      <td>-0.035047</td>\n",
              "      <td>-0.036951</td>\n",
              "      <td>-0.037427</td>\n",
              "      <td>-0.037427</td>\n",
              "      <td>-0.038379</td>\n",
              "      <td>...</td>\n",
              "      <td>-0.013154</td>\n",
              "      <td>-0.018389</td>\n",
              "      <td>-0.024101</td>\n",
              "      <td>-0.041235</td>\n",
              "      <td>-0.047422</td>\n",
              "      <td>-0.060749</td>\n",
              "      <td>-0.054562</td>\n",
              "      <td>-0.045043</td>\n",
              "      <td>-0.038379</td>\n",
              "      <td>2</td>\n",
              "    </tr>\n",
              "    <tr>\n",
              "      <th>120702</th>\n",
              "      <td>-0.294326</td>\n",
              "      <td>-0.221001</td>\n",
              "      <td>-0.269121</td>\n",
              "      <td>-0.249873</td>\n",
              "      <td>-0.320907</td>\n",
              "      <td>-0.250331</td>\n",
              "      <td>-0.277370</td>\n",
              "      <td>-0.308533</td>\n",
              "      <td>-0.328239</td>\n",
              "      <td>-0.289743</td>\n",
              "      <td>...</td>\n",
              "      <td>-0.039062</td>\n",
              "      <td>-0.097264</td>\n",
              "      <td>-0.113304</td>\n",
              "      <td>-0.148134</td>\n",
              "      <td>-0.158216</td>\n",
              "      <td>-0.162341</td>\n",
              "      <td>-0.165549</td>\n",
              "      <td>-0.171506</td>\n",
              "      <td>-0.164632</td>\n",
              "      <td>0</td>\n",
              "    </tr>\n",
              "    <tr>\n",
              "      <th>120703</th>\n",
              "      <td>0.024639</td>\n",
              "      <td>0.031055</td>\n",
              "      <td>0.038846</td>\n",
              "      <td>0.029222</td>\n",
              "      <td>0.026472</td>\n",
              "      <td>0.018681</td>\n",
              "      <td>0.002183</td>\n",
              "      <td>-0.004691</td>\n",
              "      <td>0.012724</td>\n",
              "      <td>-0.001942</td>\n",
              "      <td>...</td>\n",
              "      <td>-0.008357</td>\n",
              "      <td>-0.006983</td>\n",
              "      <td>-0.010191</td>\n",
              "      <td>-0.020731</td>\n",
              "      <td>-0.021189</td>\n",
              "      <td>-0.013399</td>\n",
              "      <td>-0.007899</td>\n",
              "      <td>-0.015232</td>\n",
              "      <td>-0.024397</td>\n",
              "      <td>0</td>\n",
              "    </tr>\n",
              "    <tr>\n",
              "      <th>120704</th>\n",
              "      <td>-0.014315</td>\n",
              "      <td>-0.056019</td>\n",
              "      <td>-0.067934</td>\n",
              "      <td>-0.050978</td>\n",
              "      <td>-0.059685</td>\n",
              "      <td>-0.082141</td>\n",
              "      <td>-0.104597</td>\n",
              "      <td>-0.077558</td>\n",
              "      <td>-0.062435</td>\n",
              "      <td>-0.057394</td>\n",
              "      <td>...</td>\n",
              "      <td>-0.058310</td>\n",
              "      <td>-0.082599</td>\n",
              "      <td>-0.095890</td>\n",
              "      <td>-0.072517</td>\n",
              "      <td>-0.067934</td>\n",
              "      <td>-0.083058</td>\n",
              "      <td>-0.112388</td>\n",
              "      <td>-0.105972</td>\n",
              "      <td>-0.112846</td>\n",
              "      <td>2</td>\n",
              "    </tr>\n",
              "    <tr>\n",
              "      <th>120705</th>\n",
              "      <td>-0.184497</td>\n",
              "      <td>-0.171171</td>\n",
              "      <td>-0.171646</td>\n",
              "      <td>-0.166887</td>\n",
              "      <td>-0.164507</td>\n",
              "      <td>-0.138806</td>\n",
              "      <td>-0.150704</td>\n",
              "      <td>-0.149753</td>\n",
              "      <td>-0.140709</td>\n",
              "      <td>-0.144517</td>\n",
              "      <td>...</td>\n",
              "      <td>0.036822</td>\n",
              "      <td>0.032062</td>\n",
              "      <td>0.032538</td>\n",
              "      <td>0.030634</td>\n",
              "      <td>0.018259</td>\n",
              "      <td>0.009692</td>\n",
              "      <td>0.009216</td>\n",
              "      <td>0.011120</td>\n",
              "      <td>0.001125</td>\n",
              "      <td>4</td>\n",
              "    </tr>\n",
              "  </tbody>\n",
              "</table>\n",
              "<p>120706 rows × 3001 columns</p>\n",
              "</div>\n",
              "      <button class=\"colab-df-convert\" onclick=\"convertToInteractive('df-6e1cfbf4-059f-4728-ad7a-be68d97b4eb9')\"\n",
              "              title=\"Convert this dataframe to an interactive table.\"\n",
              "              style=\"display:none;\">\n",
              "        \n",
              "  <svg xmlns=\"http://www.w3.org/2000/svg\" height=\"24px\"viewBox=\"0 0 24 24\"\n",
              "       width=\"24px\">\n",
              "    <path d=\"M0 0h24v24H0V0z\" fill=\"none\"/>\n",
              "    <path d=\"M18.56 5.44l.94 2.06.94-2.06 2.06-.94-2.06-.94-.94-2.06-.94 2.06-2.06.94zm-11 1L8.5 8.5l.94-2.06 2.06-.94-2.06-.94L8.5 2.5l-.94 2.06-2.06.94zm10 10l.94 2.06.94-2.06 2.06-.94-2.06-.94-.94-2.06-.94 2.06-2.06.94z\"/><path d=\"M17.41 7.96l-1.37-1.37c-.4-.4-.92-.59-1.43-.59-.52 0-1.04.2-1.43.59L10.3 9.45l-7.72 7.72c-.78.78-.78 2.05 0 2.83L4 21.41c.39.39.9.59 1.41.59.51 0 1.02-.2 1.41-.59l7.78-7.78 2.81-2.81c.8-.78.8-2.07 0-2.86zM5.41 20L4 18.59l7.72-7.72 1.47 1.35L5.41 20z\"/>\n",
              "  </svg>\n",
              "      </button>\n",
              "      \n",
              "  <style>\n",
              "    .colab-df-container {\n",
              "      display:flex;\n",
              "      flex-wrap:wrap;\n",
              "      gap: 12px;\n",
              "    }\n",
              "\n",
              "    .colab-df-convert {\n",
              "      background-color: #E8F0FE;\n",
              "      border: none;\n",
              "      border-radius: 50%;\n",
              "      cursor: pointer;\n",
              "      display: none;\n",
              "      fill: #1967D2;\n",
              "      height: 32px;\n",
              "      padding: 0 0 0 0;\n",
              "      width: 32px;\n",
              "    }\n",
              "\n",
              "    .colab-df-convert:hover {\n",
              "      background-color: #E2EBFA;\n",
              "      box-shadow: 0px 1px 2px rgba(60, 64, 67, 0.3), 0px 1px 3px 1px rgba(60, 64, 67, 0.15);\n",
              "      fill: #174EA6;\n",
              "    }\n",
              "\n",
              "    [theme=dark] .colab-df-convert {\n",
              "      background-color: #3B4455;\n",
              "      fill: #D2E3FC;\n",
              "    }\n",
              "\n",
              "    [theme=dark] .colab-df-convert:hover {\n",
              "      background-color: #434B5C;\n",
              "      box-shadow: 0px 1px 3px 1px rgba(0, 0, 0, 0.15);\n",
              "      filter: drop-shadow(0px 1px 2px rgba(0, 0, 0, 0.3));\n",
              "      fill: #FFFFFF;\n",
              "    }\n",
              "  </style>\n",
              "\n",
              "      <script>\n",
              "        const buttonEl =\n",
              "          document.querySelector('#df-6e1cfbf4-059f-4728-ad7a-be68d97b4eb9 button.colab-df-convert');\n",
              "        buttonEl.style.display =\n",
              "          google.colab.kernel.accessAllowed ? 'block' : 'none';\n",
              "\n",
              "        async function convertToInteractive(key) {\n",
              "          const element = document.querySelector('#df-6e1cfbf4-059f-4728-ad7a-be68d97b4eb9');\n",
              "          const dataTable =\n",
              "            await google.colab.kernel.invokeFunction('convertToInteractive',\n",
              "                                                     [key], {});\n",
              "          if (!dataTable) return;\n",
              "\n",
              "          const docLinkHtml = 'Like what you see? Visit the ' +\n",
              "            '<a target=\"_blank\" href=https://colab.research.google.com/notebooks/data_table.ipynb>data table notebook</a>'\n",
              "            + ' to learn more about interactive tables.';\n",
              "          element.innerHTML = '';\n",
              "          dataTable['output_type'] = 'display_data';\n",
              "          await google.colab.output.renderOutput(dataTable, element);\n",
              "          const docLink = document.createElement('div');\n",
              "          docLink.innerHTML = docLinkHtml;\n",
              "          element.appendChild(docLink);\n",
              "        }\n",
              "      </script>\n",
              "    </div>\n",
              "  </div>\n",
              "  "
            ]
          },
          "metadata": {},
          "execution_count": 12
        }
      ],
      "source": [
        "transfer_set_with_tri_trained_sub_labeled_dt"
      ]
    },
    {
      "cell_type": "code",
      "execution_count": null,
      "metadata": {
        "colab": {
          "base_uri": "https://localhost:8080/"
        },
        "id": "aORZsLjVQcQW",
        "outputId": "89388d59-57fe-4c64-b8f6-03496eecf18b"
      },
      "outputs": [
        {
          "output_type": "stream",
          "name": "stdout",
          "text": [
            "\u001b[?25l\r\u001b[K     |██▌                             | 10 kB 34.8 MB/s eta 0:00:01\r\u001b[K     |█████                           | 20 kB 36.3 MB/s eta 0:00:01\r\u001b[K     |███████▍                        | 30 kB 23.9 MB/s eta 0:00:01\r\u001b[K     |█████████▉                      | 40 kB 14.0 MB/s eta 0:00:01\r\u001b[K     |████████████▎                   | 51 kB 12.6 MB/s eta 0:00:01\r\u001b[K     |██████████████▊                 | 61 kB 14.8 MB/s eta 0:00:01\r\u001b[K     |█████████████████▏              | 71 kB 14.0 MB/s eta 0:00:01\r\u001b[K     |███████████████████▋            | 81 kB 12.1 MB/s eta 0:00:01\r\u001b[K     |██████████████████████          | 92 kB 13.4 MB/s eta 0:00:01\r\u001b[K     |████████████████████████▌       | 102 kB 14.0 MB/s eta 0:00:01\r\u001b[K     |███████████████████████████     | 112 kB 14.0 MB/s eta 0:00:01\r\u001b[K     |█████████████████████████████▍  | 122 kB 14.0 MB/s eta 0:00:01\r\u001b[K     |███████████████████████████████▉| 133 kB 14.0 MB/s eta 0:00:01\r\u001b[K     |████████████████████████████████| 133 kB 14.0 MB/s \n",
            "\u001b[?25h"
          ]
        }
      ],
      "source": [
        "pip install -q -U keras-tuner"
      ]
    },
    {
      "cell_type": "code",
      "execution_count": null,
      "metadata": {
        "id": "HAqMkbOUQcR5"
      },
      "outputs": [],
      "source": [
        "x_dt=transfer_set_with_tri_trained_sub_labeled_dt.drop([3000],axis=1)\n",
        "y_dt=transfer_set_with_tri_trained_sub_labeled_dt[3000]"
      ]
    },
    {
      "cell_type": "code",
      "execution_count": null,
      "metadata": {
        "id": "24HuXo3SQcVf"
      },
      "outputs": [],
      "source": [
        "y_dt_=np_utils.to_categorical(y_dt)"
      ]
    },
    {
      "cell_type": "code",
      "execution_count": null,
      "metadata": {
        "colab": {
          "base_uri": "https://localhost:8080/"
        },
        "id": "EInfGISPVZkk",
        "outputId": "9f665cab-e348-4fd6-eaf4-c2313ca9c6b8"
      },
      "outputs": [
        {
          "output_type": "execute_result",
          "data": {
            "text/plain": [
              "array([[0., 0., 0., 0., 1.],\n",
              "       [0., 0., 0., 1., 0.],\n",
              "       [0., 0., 1., 0., 0.],\n",
              "       ...,\n",
              "       [1., 0., 0., 0., 0.],\n",
              "       [0., 0., 1., 0., 0.],\n",
              "       [0., 0., 0., 0., 1.]], dtype=float32)"
            ]
          },
          "metadata": {},
          "execution_count": 16
        }
      ],
      "source": [
        "y_dt_"
      ]
    },
    {
      "cell_type": "code",
      "execution_count": null,
      "metadata": {
        "colab": {
          "base_uri": "https://localhost:8080/"
        },
        "id": "-MFbvxnbRw_K",
        "outputId": "6d9496df-d37c-4cab-8294-dde4459cead0"
      },
      "outputs": [
        {
          "output_type": "execute_result",
          "data": {
            "text/plain": [
              "(120706, 3000)"
            ]
          },
          "metadata": {},
          "execution_count": 17
        }
      ],
      "source": [
        "x_dt.shape"
      ]
    },
    {
      "cell_type": "code",
      "execution_count": null,
      "metadata": {
        "colab": {
          "base_uri": "https://localhost:8080/",
          "height": 488
        },
        "id": "_pscT85Y9Wu6",
        "outputId": "f13d11bb-13e1-4746-cc92-bc3c5c219062"
      },
      "outputs": [
        {
          "output_type": "execute_result",
          "data": {
            "text/plain": [
              "            0         1         2         3         4         5         6     \\\n",
              "0       0.068014  0.082915  0.077628  0.074744  0.060804  0.063688  0.050710   \n",
              "1       0.104729  0.054513 -0.020131 -0.064918 -0.122825 -0.127801 -0.107443   \n",
              "2       0.002281 -0.031309 -0.007672 -0.020527 -0.003110 -0.011404  0.006013   \n",
              "3      -0.025235 -0.037732 -0.033406 -0.031964 -0.034848 -0.041097 -0.031484   \n",
              "4       0.097914 -0.100520 -0.044574 -0.079540 -0.071235 -0.029713 -0.041951   \n",
              "...          ...       ...       ...       ...       ...       ...       ...   \n",
              "120701  0.007788  0.000649 -0.011726 -0.019817 -0.029336 -0.035047 -0.036951   \n",
              "120702 -0.294326 -0.221001 -0.269121 -0.249873 -0.320907 -0.250331 -0.277370   \n",
              "120703  0.024639  0.031055  0.038846  0.029222  0.026472  0.018681  0.002183   \n",
              "120704 -0.014315 -0.056019 -0.067934 -0.050978 -0.059685 -0.082141 -0.104597   \n",
              "120705 -0.184497 -0.171171 -0.171646 -0.166887 -0.164507 -0.138806 -0.150704   \n",
              "\n",
              "            7         8         9     ...      2990      2991      2992  \\\n",
              "0       0.029561  0.010815  0.008412  ... -0.007450 -0.010334 -0.016102   \n",
              "1      -0.086633 -0.051799 -0.033251  ... -0.102467 -0.123729 -0.120563   \n",
              "2      -0.029236 -0.025089 -0.042091  ...  0.054532  0.088122  0.057850   \n",
              "3      -0.025716 -0.019948 -0.030522  ... -0.012738 -0.015141 -0.013699   \n",
              "4       0.000445 -0.031024  0.172217  ...  0.264003  0.167409  0.220732   \n",
              "...          ...       ...       ...  ...       ...       ...       ...   \n",
              "120701 -0.037427 -0.037427 -0.038379  ...  0.004933 -0.013154 -0.018389   \n",
              "120702 -0.308533 -0.328239 -0.289743  ... -0.022106 -0.039062 -0.097264   \n",
              "120703 -0.004691  0.012724 -0.001942  ... -0.000567 -0.008357 -0.006983   \n",
              "120704 -0.077558 -0.062435 -0.057394  ... -0.039062 -0.058310 -0.082599   \n",
              "120705 -0.149753 -0.140709 -0.144517  ...  0.039201  0.036822  0.032062   \n",
              "\n",
              "            2993      2994      2995      2996      2997      2998      2999  \n",
              "0      -0.034368 -0.055998 -0.074263 -0.071860 -0.077147 -0.084838 -0.090125  \n",
              "1      -0.129158 -0.149968 -0.173945 -0.187064 -0.171231 -0.149516 -0.121467  \n",
              "2       0.027992  0.038359  0.040847  0.053703  0.072779  0.055362  0.029651  \n",
              "3      -0.018025 -0.020909 -0.021390 -0.002644 -0.020428 -0.025235 -0.024754  \n",
              "4       0.191011  0.119767  0.165661  0.270996  0.200190  0.246520  0.166535  \n",
              "...          ...       ...       ...       ...       ...       ...       ...  \n",
              "120701 -0.024101 -0.041235 -0.047422 -0.060749 -0.054562 -0.045043 -0.038379  \n",
              "120702 -0.113304 -0.148134 -0.158216 -0.162341 -0.165549 -0.171506 -0.164632  \n",
              "120703 -0.010191 -0.020731 -0.021189 -0.013399 -0.007899 -0.015232 -0.024397  \n",
              "120704 -0.095890 -0.072517 -0.067934 -0.083058 -0.112388 -0.105972 -0.112846  \n",
              "120705  0.032538  0.030634  0.018259  0.009692  0.009216  0.011120  0.001125  \n",
              "\n",
              "[120706 rows x 3000 columns]"
            ],
            "text/html": [
              "\n",
              "  <div id=\"df-49e094cf-e006-4e33-ad0d-39028995aa23\">\n",
              "    <div class=\"colab-df-container\">\n",
              "      <div>\n",
              "<style scoped>\n",
              "    .dataframe tbody tr th:only-of-type {\n",
              "        vertical-align: middle;\n",
              "    }\n",
              "\n",
              "    .dataframe tbody tr th {\n",
              "        vertical-align: top;\n",
              "    }\n",
              "\n",
              "    .dataframe thead th {\n",
              "        text-align: right;\n",
              "    }\n",
              "</style>\n",
              "<table border=\"1\" class=\"dataframe\">\n",
              "  <thead>\n",
              "    <tr style=\"text-align: right;\">\n",
              "      <th></th>\n",
              "      <th>0</th>\n",
              "      <th>1</th>\n",
              "      <th>2</th>\n",
              "      <th>3</th>\n",
              "      <th>4</th>\n",
              "      <th>5</th>\n",
              "      <th>6</th>\n",
              "      <th>7</th>\n",
              "      <th>8</th>\n",
              "      <th>9</th>\n",
              "      <th>...</th>\n",
              "      <th>2990</th>\n",
              "      <th>2991</th>\n",
              "      <th>2992</th>\n",
              "      <th>2993</th>\n",
              "      <th>2994</th>\n",
              "      <th>2995</th>\n",
              "      <th>2996</th>\n",
              "      <th>2997</th>\n",
              "      <th>2998</th>\n",
              "      <th>2999</th>\n",
              "    </tr>\n",
              "  </thead>\n",
              "  <tbody>\n",
              "    <tr>\n",
              "      <th>0</th>\n",
              "      <td>0.068014</td>\n",
              "      <td>0.082915</td>\n",
              "      <td>0.077628</td>\n",
              "      <td>0.074744</td>\n",
              "      <td>0.060804</td>\n",
              "      <td>0.063688</td>\n",
              "      <td>0.050710</td>\n",
              "      <td>0.029561</td>\n",
              "      <td>0.010815</td>\n",
              "      <td>0.008412</td>\n",
              "      <td>...</td>\n",
              "      <td>-0.007450</td>\n",
              "      <td>-0.010334</td>\n",
              "      <td>-0.016102</td>\n",
              "      <td>-0.034368</td>\n",
              "      <td>-0.055998</td>\n",
              "      <td>-0.074263</td>\n",
              "      <td>-0.071860</td>\n",
              "      <td>-0.077147</td>\n",
              "      <td>-0.084838</td>\n",
              "      <td>-0.090125</td>\n",
              "    </tr>\n",
              "    <tr>\n",
              "      <th>1</th>\n",
              "      <td>0.104729</td>\n",
              "      <td>0.054513</td>\n",
              "      <td>-0.020131</td>\n",
              "      <td>-0.064918</td>\n",
              "      <td>-0.122825</td>\n",
              "      <td>-0.127801</td>\n",
              "      <td>-0.107443</td>\n",
              "      <td>-0.086633</td>\n",
              "      <td>-0.051799</td>\n",
              "      <td>-0.033251</td>\n",
              "      <td>...</td>\n",
              "      <td>-0.102467</td>\n",
              "      <td>-0.123729</td>\n",
              "      <td>-0.120563</td>\n",
              "      <td>-0.129158</td>\n",
              "      <td>-0.149968</td>\n",
              "      <td>-0.173945</td>\n",
              "      <td>-0.187064</td>\n",
              "      <td>-0.171231</td>\n",
              "      <td>-0.149516</td>\n",
              "      <td>-0.121467</td>\n",
              "    </tr>\n",
              "    <tr>\n",
              "      <th>2</th>\n",
              "      <td>0.002281</td>\n",
              "      <td>-0.031309</td>\n",
              "      <td>-0.007672</td>\n",
              "      <td>-0.020527</td>\n",
              "      <td>-0.003110</td>\n",
              "      <td>-0.011404</td>\n",
              "      <td>0.006013</td>\n",
              "      <td>-0.029236</td>\n",
              "      <td>-0.025089</td>\n",
              "      <td>-0.042091</td>\n",
              "      <td>...</td>\n",
              "      <td>0.054532</td>\n",
              "      <td>0.088122</td>\n",
              "      <td>0.057850</td>\n",
              "      <td>0.027992</td>\n",
              "      <td>0.038359</td>\n",
              "      <td>0.040847</td>\n",
              "      <td>0.053703</td>\n",
              "      <td>0.072779</td>\n",
              "      <td>0.055362</td>\n",
              "      <td>0.029651</td>\n",
              "    </tr>\n",
              "    <tr>\n",
              "      <th>3</th>\n",
              "      <td>-0.025235</td>\n",
              "      <td>-0.037732</td>\n",
              "      <td>-0.033406</td>\n",
              "      <td>-0.031964</td>\n",
              "      <td>-0.034848</td>\n",
              "      <td>-0.041097</td>\n",
              "      <td>-0.031484</td>\n",
              "      <td>-0.025716</td>\n",
              "      <td>-0.019948</td>\n",
              "      <td>-0.030522</td>\n",
              "      <td>...</td>\n",
              "      <td>-0.012738</td>\n",
              "      <td>-0.015141</td>\n",
              "      <td>-0.013699</td>\n",
              "      <td>-0.018025</td>\n",
              "      <td>-0.020909</td>\n",
              "      <td>-0.021390</td>\n",
              "      <td>-0.002644</td>\n",
              "      <td>-0.020428</td>\n",
              "      <td>-0.025235</td>\n",
              "      <td>-0.024754</td>\n",
              "    </tr>\n",
              "    <tr>\n",
              "      <th>4</th>\n",
              "      <td>0.097914</td>\n",
              "      <td>-0.100520</td>\n",
              "      <td>-0.044574</td>\n",
              "      <td>-0.079540</td>\n",
              "      <td>-0.071235</td>\n",
              "      <td>-0.029713</td>\n",
              "      <td>-0.041951</td>\n",
              "      <td>0.000445</td>\n",
              "      <td>-0.031024</td>\n",
              "      <td>0.172217</td>\n",
              "      <td>...</td>\n",
              "      <td>0.264003</td>\n",
              "      <td>0.167409</td>\n",
              "      <td>0.220732</td>\n",
              "      <td>0.191011</td>\n",
              "      <td>0.119767</td>\n",
              "      <td>0.165661</td>\n",
              "      <td>0.270996</td>\n",
              "      <td>0.200190</td>\n",
              "      <td>0.246520</td>\n",
              "      <td>0.166535</td>\n",
              "    </tr>\n",
              "    <tr>\n",
              "      <th>...</th>\n",
              "      <td>...</td>\n",
              "      <td>...</td>\n",
              "      <td>...</td>\n",
              "      <td>...</td>\n",
              "      <td>...</td>\n",
              "      <td>...</td>\n",
              "      <td>...</td>\n",
              "      <td>...</td>\n",
              "      <td>...</td>\n",
              "      <td>...</td>\n",
              "      <td>...</td>\n",
              "      <td>...</td>\n",
              "      <td>...</td>\n",
              "      <td>...</td>\n",
              "      <td>...</td>\n",
              "      <td>...</td>\n",
              "      <td>...</td>\n",
              "      <td>...</td>\n",
              "      <td>...</td>\n",
              "      <td>...</td>\n",
              "      <td>...</td>\n",
              "    </tr>\n",
              "    <tr>\n",
              "      <th>120701</th>\n",
              "      <td>0.007788</td>\n",
              "      <td>0.000649</td>\n",
              "      <td>-0.011726</td>\n",
              "      <td>-0.019817</td>\n",
              "      <td>-0.029336</td>\n",
              "      <td>-0.035047</td>\n",
              "      <td>-0.036951</td>\n",
              "      <td>-0.037427</td>\n",
              "      <td>-0.037427</td>\n",
              "      <td>-0.038379</td>\n",
              "      <td>...</td>\n",
              "      <td>0.004933</td>\n",
              "      <td>-0.013154</td>\n",
              "      <td>-0.018389</td>\n",
              "      <td>-0.024101</td>\n",
              "      <td>-0.041235</td>\n",
              "      <td>-0.047422</td>\n",
              "      <td>-0.060749</td>\n",
              "      <td>-0.054562</td>\n",
              "      <td>-0.045043</td>\n",
              "      <td>-0.038379</td>\n",
              "    </tr>\n",
              "    <tr>\n",
              "      <th>120702</th>\n",
              "      <td>-0.294326</td>\n",
              "      <td>-0.221001</td>\n",
              "      <td>-0.269121</td>\n",
              "      <td>-0.249873</td>\n",
              "      <td>-0.320907</td>\n",
              "      <td>-0.250331</td>\n",
              "      <td>-0.277370</td>\n",
              "      <td>-0.308533</td>\n",
              "      <td>-0.328239</td>\n",
              "      <td>-0.289743</td>\n",
              "      <td>...</td>\n",
              "      <td>-0.022106</td>\n",
              "      <td>-0.039062</td>\n",
              "      <td>-0.097264</td>\n",
              "      <td>-0.113304</td>\n",
              "      <td>-0.148134</td>\n",
              "      <td>-0.158216</td>\n",
              "      <td>-0.162341</td>\n",
              "      <td>-0.165549</td>\n",
              "      <td>-0.171506</td>\n",
              "      <td>-0.164632</td>\n",
              "    </tr>\n",
              "    <tr>\n",
              "      <th>120703</th>\n",
              "      <td>0.024639</td>\n",
              "      <td>0.031055</td>\n",
              "      <td>0.038846</td>\n",
              "      <td>0.029222</td>\n",
              "      <td>0.026472</td>\n",
              "      <td>0.018681</td>\n",
              "      <td>0.002183</td>\n",
              "      <td>-0.004691</td>\n",
              "      <td>0.012724</td>\n",
              "      <td>-0.001942</td>\n",
              "      <td>...</td>\n",
              "      <td>-0.000567</td>\n",
              "      <td>-0.008357</td>\n",
              "      <td>-0.006983</td>\n",
              "      <td>-0.010191</td>\n",
              "      <td>-0.020731</td>\n",
              "      <td>-0.021189</td>\n",
              "      <td>-0.013399</td>\n",
              "      <td>-0.007899</td>\n",
              "      <td>-0.015232</td>\n",
              "      <td>-0.024397</td>\n",
              "    </tr>\n",
              "    <tr>\n",
              "      <th>120704</th>\n",
              "      <td>-0.014315</td>\n",
              "      <td>-0.056019</td>\n",
              "      <td>-0.067934</td>\n",
              "      <td>-0.050978</td>\n",
              "      <td>-0.059685</td>\n",
              "      <td>-0.082141</td>\n",
              "      <td>-0.104597</td>\n",
              "      <td>-0.077558</td>\n",
              "      <td>-0.062435</td>\n",
              "      <td>-0.057394</td>\n",
              "      <td>...</td>\n",
              "      <td>-0.039062</td>\n",
              "      <td>-0.058310</td>\n",
              "      <td>-0.082599</td>\n",
              "      <td>-0.095890</td>\n",
              "      <td>-0.072517</td>\n",
              "      <td>-0.067934</td>\n",
              "      <td>-0.083058</td>\n",
              "      <td>-0.112388</td>\n",
              "      <td>-0.105972</td>\n",
              "      <td>-0.112846</td>\n",
              "    </tr>\n",
              "    <tr>\n",
              "      <th>120705</th>\n",
              "      <td>-0.184497</td>\n",
              "      <td>-0.171171</td>\n",
              "      <td>-0.171646</td>\n",
              "      <td>-0.166887</td>\n",
              "      <td>-0.164507</td>\n",
              "      <td>-0.138806</td>\n",
              "      <td>-0.150704</td>\n",
              "      <td>-0.149753</td>\n",
              "      <td>-0.140709</td>\n",
              "      <td>-0.144517</td>\n",
              "      <td>...</td>\n",
              "      <td>0.039201</td>\n",
              "      <td>0.036822</td>\n",
              "      <td>0.032062</td>\n",
              "      <td>0.032538</td>\n",
              "      <td>0.030634</td>\n",
              "      <td>0.018259</td>\n",
              "      <td>0.009692</td>\n",
              "      <td>0.009216</td>\n",
              "      <td>0.011120</td>\n",
              "      <td>0.001125</td>\n",
              "    </tr>\n",
              "  </tbody>\n",
              "</table>\n",
              "<p>120706 rows × 3000 columns</p>\n",
              "</div>\n",
              "      <button class=\"colab-df-convert\" onclick=\"convertToInteractive('df-49e094cf-e006-4e33-ad0d-39028995aa23')\"\n",
              "              title=\"Convert this dataframe to an interactive table.\"\n",
              "              style=\"display:none;\">\n",
              "        \n",
              "  <svg xmlns=\"http://www.w3.org/2000/svg\" height=\"24px\"viewBox=\"0 0 24 24\"\n",
              "       width=\"24px\">\n",
              "    <path d=\"M0 0h24v24H0V0z\" fill=\"none\"/>\n",
              "    <path d=\"M18.56 5.44l.94 2.06.94-2.06 2.06-.94-2.06-.94-.94-2.06-.94 2.06-2.06.94zm-11 1L8.5 8.5l.94-2.06 2.06-.94-2.06-.94L8.5 2.5l-.94 2.06-2.06.94zm10 10l.94 2.06.94-2.06 2.06-.94-2.06-.94-.94-2.06-.94 2.06-2.06.94z\"/><path d=\"M17.41 7.96l-1.37-1.37c-.4-.4-.92-.59-1.43-.59-.52 0-1.04.2-1.43.59L10.3 9.45l-7.72 7.72c-.78.78-.78 2.05 0 2.83L4 21.41c.39.39.9.59 1.41.59.51 0 1.02-.2 1.41-.59l7.78-7.78 2.81-2.81c.8-.78.8-2.07 0-2.86zM5.41 20L4 18.59l7.72-7.72 1.47 1.35L5.41 20z\"/>\n",
              "  </svg>\n",
              "      </button>\n",
              "      \n",
              "  <style>\n",
              "    .colab-df-container {\n",
              "      display:flex;\n",
              "      flex-wrap:wrap;\n",
              "      gap: 12px;\n",
              "    }\n",
              "\n",
              "    .colab-df-convert {\n",
              "      background-color: #E8F0FE;\n",
              "      border: none;\n",
              "      border-radius: 50%;\n",
              "      cursor: pointer;\n",
              "      display: none;\n",
              "      fill: #1967D2;\n",
              "      height: 32px;\n",
              "      padding: 0 0 0 0;\n",
              "      width: 32px;\n",
              "    }\n",
              "\n",
              "    .colab-df-convert:hover {\n",
              "      background-color: #E2EBFA;\n",
              "      box-shadow: 0px 1px 2px rgba(60, 64, 67, 0.3), 0px 1px 3px 1px rgba(60, 64, 67, 0.15);\n",
              "      fill: #174EA6;\n",
              "    }\n",
              "\n",
              "    [theme=dark] .colab-df-convert {\n",
              "      background-color: #3B4455;\n",
              "      fill: #D2E3FC;\n",
              "    }\n",
              "\n",
              "    [theme=dark] .colab-df-convert:hover {\n",
              "      background-color: #434B5C;\n",
              "      box-shadow: 0px 1px 3px 1px rgba(0, 0, 0, 0.15);\n",
              "      filter: drop-shadow(0px 1px 2px rgba(0, 0, 0, 0.3));\n",
              "      fill: #FFFFFF;\n",
              "    }\n",
              "  </style>\n",
              "\n",
              "      <script>\n",
              "        const buttonEl =\n",
              "          document.querySelector('#df-49e094cf-e006-4e33-ad0d-39028995aa23 button.colab-df-convert');\n",
              "        buttonEl.style.display =\n",
              "          google.colab.kernel.accessAllowed ? 'block' : 'none';\n",
              "\n",
              "        async function convertToInteractive(key) {\n",
              "          const element = document.querySelector('#df-49e094cf-e006-4e33-ad0d-39028995aa23');\n",
              "          const dataTable =\n",
              "            await google.colab.kernel.invokeFunction('convertToInteractive',\n",
              "                                                     [key], {});\n",
              "          if (!dataTable) return;\n",
              "\n",
              "          const docLinkHtml = 'Like what you see? Visit the ' +\n",
              "            '<a target=\"_blank\" href=https://colab.research.google.com/notebooks/data_table.ipynb>data table notebook</a>'\n",
              "            + ' to learn more about interactive tables.';\n",
              "          element.innerHTML = '';\n",
              "          dataTable['output_type'] = 'display_data';\n",
              "          await google.colab.output.renderOutput(dataTable, element);\n",
              "          const docLink = document.createElement('div');\n",
              "          docLink.innerHTML = docLinkHtml;\n",
              "          element.appendChild(docLink);\n",
              "        }\n",
              "      </script>\n",
              "    </div>\n",
              "  </div>\n",
              "  "
            ]
          },
          "metadata": {},
          "execution_count": 18
        }
      ],
      "source": [
        "x_dt"
      ]
    },
    {
      "cell_type": "code",
      "execution_count": null,
      "metadata": {
        "id": "ZoKoYtGwRrAo"
      },
      "outputs": [],
      "source": [
        "x_dt_rshp=np.array(x_dt).reshape(120706,3000,1)"
      ]
    },
    {
      "cell_type": "code",
      "execution_count": null,
      "metadata": {
        "colab": {
          "base_uri": "https://localhost:8080/"
        },
        "id": "04kJP5r49Zdu",
        "outputId": "6dd34657-53c1-475b-9dff-c864170f7407"
      },
      "outputs": [
        {
          "output_type": "execute_result",
          "data": {
            "text/plain": [
              "array([[[ 0.0680144 ],\n",
              "        [ 0.08291509],\n",
              "        [ 0.07762775],\n",
              "        ...,\n",
              "        [-0.07714708],\n",
              "        [-0.08483776],\n",
              "        [-0.09012509]],\n",
              "\n",
              "       [[ 0.1047289 ],\n",
              "        [ 0.05451331],\n",
              "        [-0.02013147],\n",
              "        ...,\n",
              "        [-0.17123062],\n",
              "        [-0.14951577],\n",
              "        [-0.12146743]],\n",
              "\n",
              "       [[ 0.00228081],\n",
              "        [-0.03130934],\n",
              "        [-0.00767183],\n",
              "        ...,\n",
              "        [ 0.07277867],\n",
              "        [ 0.05536155],\n",
              "        [ 0.02965057]],\n",
              "\n",
              "       ...,\n",
              "\n",
              "       [[ 0.02463891],\n",
              "        [ 0.03105487],\n",
              "        [ 0.03884568],\n",
              "        ...,\n",
              "        [-0.0078992 ],\n",
              "        [-0.01523173],\n",
              "        [-0.02439739]],\n",
              "\n",
              "       [[-0.01431516],\n",
              "        [-0.05601893],\n",
              "        [-0.06793429],\n",
              "        ...,\n",
              "        [-0.11238776],\n",
              "        [-0.1059718 ],\n",
              "        [-0.11284604]],\n",
              "\n",
              "       [[-0.18449727],\n",
              "        [-0.17117053],\n",
              "        [-0.17164648],\n",
              "        ...,\n",
              "        [ 0.00921632],\n",
              "        [ 0.01112014],\n",
              "        [ 0.00112509]]])"
            ]
          },
          "metadata": {},
          "execution_count": 20
        }
      ],
      "source": [
        "x_dt_rshp"
      ]
    },
    {
      "cell_type": "code",
      "execution_count": null,
      "metadata": {
        "id": "cvwl-_MPR8z4"
      },
      "outputs": [],
      "source": [
        "import numpy as np\n",
        "np.random.seed(999)\n",
        "\n",
        "import tensorflow\n",
        "tensorflow.random.set_seed(999)\n",
        "\n",
        "import random\n",
        "#random.seed(999)"
      ]
    },
    {
      "cell_type": "code",
      "execution_count": null,
      "metadata": {
        "colab": {
          "base_uri": "https://localhost:8080/"
        },
        "id": "pi-d-1UxSBWe",
        "outputId": "d4215ead-a61d-409e-adb0-b4a2b0c5b32a"
      },
      "outputs": [
        {
          "output_type": "stream",
          "name": "stdout",
          "text": [
            "Looking in indexes: https://pypi.org/simple, https://us-python.pkg.dev/colab-wheels/public/simple/\n",
            "Collecting git+https://www.github.com/keras-team/keras-contrib.git\n",
            "  Cloning https://www.github.com/keras-team/keras-contrib.git to /tmp/pip-req-build-hfcd95t6\n",
            "  Running command git clone -q https://www.github.com/keras-team/keras-contrib.git /tmp/pip-req-build-hfcd95t6\n",
            "Requirement already satisfied: keras in /usr/local/lib/python3.7/dist-packages (from keras-contrib==2.0.8) (2.8.0)\n",
            "Building wheels for collected packages: keras-contrib\n",
            "  Building wheel for keras-contrib (setup.py) ... \u001b[?25l\u001b[?25hdone\n",
            "  Created wheel for keras-contrib: filename=keras_contrib-2.0.8-py3-none-any.whl size=101077 sha256=6d33a860659ce1d259e62e852ed03958481f6c6106dab0baf2f8423a31ec7eac\n",
            "  Stored in directory: /tmp/pip-ephem-wheel-cache-v4zir485/wheels/bb/1f/f2/b57495012683b6b20bbae94a3915ec79753111452d79886abc\n",
            "Successfully built keras-contrib\n",
            "Installing collected packages: keras-contrib\n",
            "Successfully installed keras-contrib-2.0.8\n"
          ]
        }
      ],
      "source": [
        "pip install git+https://www.github.com/keras-team/keras-contrib.git"
      ]
    },
    {
      "cell_type": "code",
      "execution_count": null,
      "metadata": {
        "id": "5u70hpGwSBZf"
      },
      "outputs": [],
      "source": [
        "from tensorflow.keras import optimizers, losses, activations, models\n",
        "from tensorflow.keras.models import Model, load_model\n",
        "from tensorflow.keras.layers import GlobalMaxPool1D, GlobalAveragePooling1D, concatenate, SpatialDropout1D, TimeDistributed, Bidirectional, LSTM\n",
        "from tensorflow.keras.layers import Input, Conv1D, Dense, Dropout, MaxPool1D, Activation\n",
        "from tensorflow.keras.layers import Reshape, LSTM, TimeDistributed, Bidirectional, BatchNormalization, Flatten, RepeatVector\n",
        "from tensorflow.keras.optimizers import Adam\n",
        "#from keras_contrib.layers import CRF\n",
        "\n",
        "from scipy.signal import butter, lfilter\n"
      ]
    },
    {
      "cell_type": "code",
      "execution_count": null,
      "metadata": {
        "id": "ZfwILbjiSEVL"
      },
      "outputs": [],
      "source": [
        "Fs = 100"
      ]
    },
    {
      "cell_type": "code",
      "execution_count": null,
      "metadata": {
        "id": "6mJDpenlSEaV"
      },
      "outputs": [],
      "source": [
        "#n_classes=5\n",
        "def model_b(n_classes=5, use_sub_layer=False, use_rnn=True, verbose=False):\n",
        "    inputLayer = Input(shape=(3000, 1), name='inLayer')\n",
        "    convFine = Conv1D(filters=64, kernel_size=int(Fs/2), strides=int(Fs/16), padding='same', activation='relu', name='fConv1')(inputLayer)\n",
        "    convFine = MaxPool1D(pool_size=8, strides=8, name='fMaxP1')(convFine)\n",
        "    convFine = Dropout(rate=0.5, name='fDrop1')(convFine)\n",
        "    convFine = Conv1D(filters=128, kernel_size=8, padding='same', activation='relu', name='fConv2')(convFine)\n",
        "    convFine = Conv1D(filters=128, kernel_size=8, padding='same', activation='relu', name='fConv3')(convFine)\n",
        "    convFine = Conv1D(filters=128, kernel_size=8, padding='same', activation='relu', name='fConv4')(convFine)\n",
        "    convFine = MaxPool1D(pool_size=4, strides=4, name='fMaxP2')(convFine)\n",
        "    fineShape = convFine.get_shape()\n",
        "    convFine = Flatten(name='fFlat1')(convFine)\n",
        "    \n",
        "    # network to learn coarse features\n",
        "    convCoarse = Conv1D(filters=32, kernel_size=Fs*4, strides=int(Fs/2), padding='same', activation='relu', name='cConv1')(inputLayer)\n",
        "    convCoarse = MaxPool1D(pool_size=4, strides=4, name='cMaxP1')(convCoarse)\n",
        "    convCoarse = Dropout(rate=0.5, name='cDrop1')(convCoarse)\n",
        "    convCoarse = Conv1D(filters=128, kernel_size=6, padding='same', activation='relu', name='cConv2')(convCoarse)\n",
        "    convCoarse = Conv1D(filters=128, kernel_size=6, padding='same', activation='relu', name='cConv3')(convCoarse)\n",
        "    convCoarse = Conv1D(filters=128, kernel_size=6, padding='same', activation='relu', name='cConv4')(convCoarse)\n",
        "    convCoarse = MaxPool1D(pool_size=2, strides=2, name='cMaxP2')(convCoarse)\n",
        "    coarseShape = convCoarse.get_shape()\n",
        "    convCoarse = Flatten(name='cFlat1')(convCoarse)\n",
        "    \n",
        "    # concatenate coarse and fine cnns\n",
        "    mergeLayer = concatenate([convFine, convCoarse], name='merge_1')\n",
        "    outLayer = Dropout(rate=0.5, name='mDrop1')(mergeLayer)\n",
        "    \n",
        "    outLayer = Reshape((1, outLayer.get_shape()[1]), name='reshape1')(outLayer)\n",
        "    outLayer = LSTM(64, return_sequences=True)(outLayer)\n",
        "    outLayer = LSTM(64, return_sequences=False)(outLayer)\n",
        "\n",
        "    # Classify\n",
        "    outLayer = Dense(n_classes, activation='softmax', name='outLayer')(outLayer)\n",
        "    model = Model(inputLayer, outLayer)\n",
        "    optimizer = Adam(lr=1e-4)\n",
        "    model.compile(optimizer=optimizer, loss='categorical_crossentropy', metrics=['acc'])\n",
        "    #model.compile(optimizer=optimizer, loss='categorical_crossentropy', metrics=['accuracy'])\n",
        "    if verbose:\n",
        "        model.summary()\n",
        "    return model"
      ]
    },
    {
      "cell_type": "code",
      "execution_count": null,
      "metadata": {
        "id": "w-Mz82AVSXve"
      },
      "outputs": [],
      "source": [
        "import keras_tuner as kt\n",
        "optimizer=Adam(lr=1e-4)"
      ]
    },
    {
      "cell_type": "code",
      "execution_count": null,
      "metadata": {
        "id": "pCere4UDK1-n"
      },
      "outputs": [],
      "source": [
        "class MyHyperModel(kt.HyperModel):\n",
        "    def build(self, hp):\n",
        "      model=model_b(verbose=VBS)\n",
        "      optimizer = Adam(lr=1e-4)\n",
        "      model.compile(optimizer=optimizer, loss='categorical_crossentropy', metrics=['acc'])\n",
        "      optimizer = Adam(lr=1e-4)\n",
        "      return model\n",
        "\n",
        "    def fit(self, hp, model, *args, **kwargs):\n",
        "        return model.fit(\n",
        "            x_dt_rshp, y_dt_,\n",
        "            epochs=hp.Choice(\"epochs\", [40, 50, 60, 70])\n",
        "        )"
      ]
    },
    {
      "cell_type": "code",
      "execution_count": null,
      "metadata": {
        "colab": {
          "base_uri": "https://localhost:8080/"
        },
        "id": "Syb581B5K4gW",
        "outputId": "7fc95e4b-8d01-426e-f5e9-4a0ac88e9279"
      },
      "outputs": [
        {
          "output_type": "stream",
          "name": "stdout",
          "text": [
            "Model: \"model\"\n",
            "__________________________________________________________________________________________________\n",
            " Layer (type)                   Output Shape         Param #     Connected to                     \n",
            "==================================================================================================\n",
            " inLayer (InputLayer)           [(None, 3000, 1)]    0           []                               \n",
            "                                                                                                  \n",
            " fConv1 (Conv1D)                (None, 500, 64)      3264        ['inLayer[0][0]']                \n",
            "                                                                                                  \n",
            " cConv1 (Conv1D)                (None, 60, 32)       12832       ['inLayer[0][0]']                \n",
            "                                                                                                  \n",
            " fMaxP1 (MaxPooling1D)          (None, 62, 64)       0           ['fConv1[0][0]']                 \n",
            "                                                                                                  \n",
            " cMaxP1 (MaxPooling1D)          (None, 15, 32)       0           ['cConv1[0][0]']                 \n",
            "                                                                                                  \n",
            " fDrop1 (Dropout)               (None, 62, 64)       0           ['fMaxP1[0][0]']                 \n",
            "                                                                                                  \n",
            " cDrop1 (Dropout)               (None, 15, 32)       0           ['cMaxP1[0][0]']                 \n",
            "                                                                                                  \n",
            " fConv2 (Conv1D)                (None, 62, 128)      65664       ['fDrop1[0][0]']                 \n",
            "                                                                                                  \n",
            " cConv2 (Conv1D)                (None, 15, 128)      24704       ['cDrop1[0][0]']                 \n",
            "                                                                                                  \n",
            " fConv3 (Conv1D)                (None, 62, 128)      131200      ['fConv2[0][0]']                 \n",
            "                                                                                                  \n",
            " cConv3 (Conv1D)                (None, 15, 128)      98432       ['cConv2[0][0]']                 \n",
            "                                                                                                  \n",
            " fConv4 (Conv1D)                (None, 62, 128)      131200      ['fConv3[0][0]']                 \n",
            "                                                                                                  \n",
            " cConv4 (Conv1D)                (None, 15, 128)      98432       ['cConv3[0][0]']                 \n",
            "                                                                                                  \n",
            " fMaxP2 (MaxPooling1D)          (None, 15, 128)      0           ['fConv4[0][0]']                 \n",
            "                                                                                                  \n",
            " cMaxP2 (MaxPooling1D)          (None, 7, 128)       0           ['cConv4[0][0]']                 \n",
            "                                                                                                  \n",
            " fFlat1 (Flatten)               (None, 1920)         0           ['fMaxP2[0][0]']                 \n",
            "                                                                                                  \n",
            " cFlat1 (Flatten)               (None, 896)          0           ['cMaxP2[0][0]']                 \n",
            "                                                                                                  \n",
            " merge_1 (Concatenate)          (None, 2816)         0           ['fFlat1[0][0]',                 \n",
            "                                                                  'cFlat1[0][0]']                 \n",
            "                                                                                                  \n",
            " mDrop1 (Dropout)               (None, 2816)         0           ['merge_1[0][0]']                \n",
            "                                                                                                  \n",
            " reshape1 (Reshape)             (None, 1, 2816)      0           ['mDrop1[0][0]']                 \n",
            "                                                                                                  \n",
            " lstm (LSTM)                    (None, 1, 64)        737536      ['reshape1[0][0]']               \n",
            "                                                                                                  \n",
            " lstm_1 (LSTM)                  (None, 64)           33024       ['lstm[0][0]']                   \n",
            "                                                                                                  \n",
            " outLayer (Dense)               (None, 5)            325         ['lstm_1[0][0]']                 \n",
            "                                                                                                  \n",
            "==================================================================================================\n",
            "Total params: 1,336,613\n",
            "Trainable params: 1,336,613\n",
            "Non-trainable params: 0\n",
            "__________________________________________________________________________________________________\n"
          ]
        }
      ],
      "source": [
        "tuner = kt.RandomSearch(\n",
        "    MyHyperModel(),\n",
        "    objective=\"loss\",\n",
        "    max_trials=3,\n",
        "    executions_per_trial=2,\n",
        "    overwrite=True,\n",
        "    #directory=\"my_dir\",\n",
        "    #project_name=\"tune_hypermodel\",\n",
        ")"
      ]
    },
    {
      "cell_type": "code",
      "execution_count": null,
      "metadata": {
        "id": "1iaJHIJQK78u"
      },
      "outputs": [],
      "source": [
        "tuner.search(x_dt_rshp, y_dt_)"
      ]
    },
    {
      "cell_type": "code",
      "execution_count": null,
      "metadata": {
        "colab": {
          "base_uri": "https://localhost:8080/"
        },
        "id": "5OSy0GqsK-gg",
        "outputId": "9ade2872-112c-422f-b198-4107ead0fdfd"
      },
      "outputs": [
        {
          "output_type": "stream",
          "name": "stdout",
          "text": [
            "Results summary\n",
            "Results in ./untitled_project\n",
            "Showing 10 best trials\n",
            "<keras_tuner.engine.objective.Objective object at 0x7fc7fc22be90>\n",
            "Trial summary\n",
            "Hyperparameters:\n",
            "epochs: 70\n",
            "Score: 0.05816647596657276\n",
            "Trial summary\n",
            "Hyperparameters:\n",
            "epochs: 50\n",
            "Score: 0.07576893270015717\n",
            "Trial summary\n",
            "Hyperparameters:\n",
            "epochs: 40\n",
            "Score: 0.08691780269145966\n"
          ]
        }
      ],
      "source": [
        "tuner.results_summary()"
      ]
    },
    {
      "cell_type": "markdown",
      "source": [
        "tuner.search()\n",
        "\n",
        "Trial 1:\n",
        "\n",
        "Trial 3 Complete [01h 11m 41s]\n",
        "\n",
        "loss: 0.05742859095335007\n",
        "\n",
        "Best loss So Far: 0.05742859095335007\n",
        "\n",
        "Total elapsed time: 02h 41m 55s\n",
        "\n",
        "INFO:tensorflow:Oracle triggered exit\n",
        "\n",
        "tuner.results_summary()\n",
        "\n",
        "Results summary\n",
        "\n",
        "Results in ./untitled_project\n",
        "\n",
        "Showing 10 best trials\n",
        "\n",
        "<keras_tuner.engine.objective.Objective object at 0x7ff72828d950>\n",
        "\n",
        "Trial summary\n",
        "\n",
        "Hyperparameters:\n",
        "\n",
        "epochs: 70\n",
        "\n",
        "Score: 0.05742859095335007\n",
        "\n",
        "Trial summary\n",
        "\n",
        "Hyperparameters:\n",
        "\n",
        "epochs: 50\n",
        "\n",
        "Score: 0.07531780749559402\n",
        "\n",
        "Trial summary\n",
        "\n",
        "Hyperparameters:\n",
        "\n",
        "epochs: 40\n",
        "\n",
        "Score: 0.08668727427721024"
      ],
      "metadata": {
        "id": "5QxeB5CkYS6k"
      }
    },
    {
      "cell_type": "markdown",
      "source": [
        "Trial 2\n",
        "\n",
        "tuner.serach()\n",
        "\n",
        "Trial 3 Complete [00h 41m 01s]\n",
        "\n",
        "loss: 0.08829596266150475\n",
        "\n",
        "Best loss So Far: 0.06591451540589333\n",
        "\n",
        "Total elapsed time: 02h 20m 29s\n",
        "\n",
        "INFO:tensorflow:Oracle triggered exit\n",
        "\n",
        "tuner.results_summary():\n",
        "\n",
        "Results summary\n",
        "\n",
        "Results in ./untitled_project\n",
        "\n",
        "Showing 10 best trials\n",
        "\n",
        "<keras_tuner.engine.objective.Objective object at 0x7f470d36c790>\n",
        "\n",
        "Trial summary\n",
        "\n",
        "Hyperparameters:\n",
        "\n",
        "epochs: 60\n",
        "\n",
        "Score: 0.06591451540589333\n",
        "\n",
        "Trial summary\n",
        "\n",
        "Hyperparameters:\n",
        "\n",
        "epochs: 40\n",
        "\n",
        "Score: 0.08692312240600586\n",
        "\n",
        "Trial summary\n",
        "\n",
        "Hyperparameters:\n",
        "\n",
        "epochs: 40\n",
        "\n",
        "Score: 0.08829596266150475"
      ],
      "metadata": {
        "id": "Kz9CmT5bTrtT"
      }
    },
    {
      "cell_type": "markdown",
      "source": [
        "Trial 3:\n",
        "\n",
        "Tuner.results_summary():\n",
        "\n",
        "Results summary\n",
        "\n",
        "Results in ./untitled_project\n",
        "\n",
        "Showing 10 best trials\n",
        "\n",
        "<keras_tuner.engine.objective.Objective object at 0x7fc7fc22be90>\n",
        "\n",
        "Trial summary\n",
        "\n",
        "Hyperparameters:\n",
        "\n",
        "epochs: 70\n",
        "\n",
        "Score: 0.05816647596657276\n",
        "\n",
        "Trial summary\n",
        "\n",
        "Hyperparameters:\n",
        "\n",
        "epochs: 50\n",
        "\n",
        "Score: 0.07576893270015717\n",
        "\n",
        "Trial summary\n",
        "\n",
        "Hyperparameters:\n",
        "\n",
        "epochs: 40\n",
        "\n",
        "Score: 0.08691780269145966"
      ],
      "metadata": {
        "id": "6kyvE_GhGsFy"
      }
    },
    {
      "cell_type": "code",
      "execution_count": null,
      "metadata": {
        "id": "D61RlqywAVww"
      },
      "outputs": [],
      "source": [
        ""
      ]
    },
    {
      "cell_type": "markdown",
      "metadata": {
        "id": "ecuqJMekBP7_"
      },
      "source": [
        "Training the teacher model for 40 epochs wrt to the transfer set, majority voted labels, x_sub_train, tri-trained labels"
      ]
    },
    {
      "cell_type": "code",
      "execution_count": null,
      "metadata": {
        "colab": {
          "base_uri": "https://localhost:8080/"
        },
        "id": "HrV59ncxSXxI",
        "outputId": "6cc1d32c-3468-4cd9-bb09-49d9ae3c578e"
      },
      "outputs": [
        {
          "output_type": "stream",
          "name": "stdout",
          "text": [
            "Model: \"model\"\n",
            "__________________________________________________________________________________________________\n",
            " Layer (type)                   Output Shape         Param #     Connected to                     \n",
            "==================================================================================================\n",
            " inLayer (InputLayer)           [(None, 3000, 1)]    0           []                               \n",
            "                                                                                                  \n",
            " fConv1 (Conv1D)                (None, 500, 64)      3264        ['inLayer[0][0]']                \n",
            "                                                                                                  \n",
            " cConv1 (Conv1D)                (None, 60, 32)       12832       ['inLayer[0][0]']                \n",
            "                                                                                                  \n",
            " fMaxP1 (MaxPooling1D)          (None, 62, 64)       0           ['fConv1[0][0]']                 \n",
            "                                                                                                  \n",
            " cMaxP1 (MaxPooling1D)          (None, 15, 32)       0           ['cConv1[0][0]']                 \n",
            "                                                                                                  \n",
            " fDrop1 (Dropout)               (None, 62, 64)       0           ['fMaxP1[0][0]']                 \n",
            "                                                                                                  \n",
            " cDrop1 (Dropout)               (None, 15, 32)       0           ['cMaxP1[0][0]']                 \n",
            "                                                                                                  \n",
            " fConv2 (Conv1D)                (None, 62, 128)      65664       ['fDrop1[0][0]']                 \n",
            "                                                                                                  \n",
            " cConv2 (Conv1D)                (None, 15, 128)      24704       ['cDrop1[0][0]']                 \n",
            "                                                                                                  \n",
            " fConv3 (Conv1D)                (None, 62, 128)      131200      ['fConv2[0][0]']                 \n",
            "                                                                                                  \n",
            " cConv3 (Conv1D)                (None, 15, 128)      98432       ['cConv2[0][0]']                 \n",
            "                                                                                                  \n",
            " fConv4 (Conv1D)                (None, 62, 128)      131200      ['fConv3[0][0]']                 \n",
            "                                                                                                  \n",
            " cConv4 (Conv1D)                (None, 15, 128)      98432       ['cConv3[0][0]']                 \n",
            "                                                                                                  \n",
            " fMaxP2 (MaxPooling1D)          (None, 15, 128)      0           ['fConv4[0][0]']                 \n",
            "                                                                                                  \n",
            " cMaxP2 (MaxPooling1D)          (None, 7, 128)       0           ['cConv4[0][0]']                 \n",
            "                                                                                                  \n",
            " fFlat1 (Flatten)               (None, 1920)         0           ['fMaxP2[0][0]']                 \n",
            "                                                                                                  \n",
            " cFlat1 (Flatten)               (None, 896)          0           ['cMaxP2[0][0]']                 \n",
            "                                                                                                  \n",
            " merge_1 (Concatenate)          (None, 2816)         0           ['fFlat1[0][0]',                 \n",
            "                                                                  'cFlat1[0][0]']                 \n",
            "                                                                                                  \n",
            " mDrop1 (Dropout)               (None, 2816)         0           ['merge_1[0][0]']                \n",
            "                                                                                                  \n",
            " reshape1 (Reshape)             (None, 1, 2816)      0           ['mDrop1[0][0]']                 \n",
            "                                                                                                  \n",
            " lstm (LSTM)                    (None, 1, 64)        737536      ['reshape1[0][0]']               \n",
            "                                                                                                  \n",
            " lstm_1 (LSTM)                  (None, 64)           33024       ['lstm[0][0]']                   \n",
            "                                                                                                  \n",
            " outLayer (Dense)               (None, 5)            325         ['lstm_1[0][0]']                 \n",
            "                                                                                                  \n",
            "==================================================================================================\n",
            "Total params: 1,336,613\n",
            "Trainable params: 1,336,613\n",
            "Non-trainable params: 0\n",
            "__________________________________________________________________________________________________\n"
          ]
        }
      ],
      "source": [
        "teacher_40_epochs=model_b(verbose=VBS)"
      ]
    },
    {
      "cell_type": "code",
      "execution_count": null,
      "metadata": {
        "colab": {
          "base_uri": "https://localhost:8080/"
        },
        "id": "6AVW-by2SX0z",
        "outputId": "c6809073-4757-4ec8-9bea-5295c1e86d5a"
      },
      "outputs": [
        {
          "output_type": "stream",
          "name": "stdout",
          "text": [
            "Model: \"model\"\n",
            "__________________________________________________________________________________________________\n",
            " Layer (type)                   Output Shape         Param #     Connected to                     \n",
            "==================================================================================================\n",
            " inLayer (InputLayer)           [(None, 3000, 1)]    0           []                               \n",
            "                                                                                                  \n",
            " fConv1 (Conv1D)                (None, 500, 64)      3264        ['inLayer[0][0]']                \n",
            "                                                                                                  \n",
            " cConv1 (Conv1D)                (None, 60, 32)       12832       ['inLayer[0][0]']                \n",
            "                                                                                                  \n",
            " fMaxP1 (MaxPooling1D)          (None, 62, 64)       0           ['fConv1[0][0]']                 \n",
            "                                                                                                  \n",
            " cMaxP1 (MaxPooling1D)          (None, 15, 32)       0           ['cConv1[0][0]']                 \n",
            "                                                                                                  \n",
            " fDrop1 (Dropout)               (None, 62, 64)       0           ['fMaxP1[0][0]']                 \n",
            "                                                                                                  \n",
            " cDrop1 (Dropout)               (None, 15, 32)       0           ['cMaxP1[0][0]']                 \n",
            "                                                                                                  \n",
            " fConv2 (Conv1D)                (None, 62, 128)      65664       ['fDrop1[0][0]']                 \n",
            "                                                                                                  \n",
            " cConv2 (Conv1D)                (None, 15, 128)      24704       ['cDrop1[0][0]']                 \n",
            "                                                                                                  \n",
            " fConv3 (Conv1D)                (None, 62, 128)      131200      ['fConv2[0][0]']                 \n",
            "                                                                                                  \n",
            " cConv3 (Conv1D)                (None, 15, 128)      98432       ['cConv2[0][0]']                 \n",
            "                                                                                                  \n",
            " fConv4 (Conv1D)                (None, 62, 128)      131200      ['fConv3[0][0]']                 \n",
            "                                                                                                  \n",
            " cConv4 (Conv1D)                (None, 15, 128)      98432       ['cConv3[0][0]']                 \n",
            "                                                                                                  \n",
            " fMaxP2 (MaxPooling1D)          (None, 15, 128)      0           ['fConv4[0][0]']                 \n",
            "                                                                                                  \n",
            " cMaxP2 (MaxPooling1D)          (None, 7, 128)       0           ['cConv4[0][0]']                 \n",
            "                                                                                                  \n",
            " fFlat1 (Flatten)               (None, 1920)         0           ['fMaxP2[0][0]']                 \n",
            "                                                                                                  \n",
            " cFlat1 (Flatten)               (None, 896)          0           ['cMaxP2[0][0]']                 \n",
            "                                                                                                  \n",
            " merge_1 (Concatenate)          (None, 2816)         0           ['fFlat1[0][0]',                 \n",
            "                                                                  'cFlat1[0][0]']                 \n",
            "                                                                                                  \n",
            " mDrop1 (Dropout)               (None, 2816)         0           ['merge_1[0][0]']                \n",
            "                                                                                                  \n",
            " reshape1 (Reshape)             (None, 1, 2816)      0           ['mDrop1[0][0]']                 \n",
            "                                                                                                  \n",
            " lstm (LSTM)                    (None, 1, 64)        737536      ['reshape1[0][0]']               \n",
            "                                                                                                  \n",
            " lstm_1 (LSTM)                  (None, 64)           33024       ['lstm[0][0]']                   \n",
            "                                                                                                  \n",
            " outLayer (Dense)               (None, 5)            325         ['lstm_1[0][0]']                 \n",
            "                                                                                                  \n",
            "==================================================================================================\n",
            "Total params: 1,336,613\n",
            "Trainable params: 1,336,613\n",
            "Non-trainable params: 0\n",
            "__________________________________________________________________________________________________\n"
          ]
        }
      ],
      "source": [
        "teacher_40_epochs.summary()"
      ]
    },
    {
      "cell_type": "code",
      "execution_count": null,
      "metadata": {
        "id": "6li9hd77SnCO"
      },
      "outputs": [],
      "source": [
        "teacher_40_epochs.compile(optimizer=optimizer, loss='categorical_crossentropy', metrics=['accuracy'])"
      ]
    },
    {
      "cell_type": "code",
      "execution_count": null,
      "metadata": {
        "id": "K1PfsofRTDi0"
      },
      "outputs": [],
      "source": [
        "checkpoint_teacher_model_40_epochs = \"/content/gdrive/My Drive/physionet/ensemble/tri_training/40_epochs_keras_way/teacher_40_epochs_wts_trial_3.ckpt\""
      ]
    },
    {
      "cell_type": "code",
      "execution_count": null,
      "metadata": {
        "id": "UTSY5HF3TDl8"
      },
      "outputs": [],
      "source": [
        "checkpoint_teacher_model_40_epochs_dir = os.path.dirname(checkpoint_teacher_model_40_epochs)"
      ]
    },
    {
      "cell_type": "code",
      "execution_count": null,
      "metadata": {
        "colab": {
          "base_uri": "https://localhost:8080/"
        },
        "id": "rye3iT_STanB",
        "outputId": "3442a456-8dec-4958-966a-d10c0e1c9c77"
      },
      "outputs": [
        {
          "output_type": "stream",
          "name": "stdout",
          "text": [
            "WARNING:tensorflow:`period` argument is deprecated. Please use `save_freq` to specify the frequency in number of batches seen.\n"
          ]
        }
      ],
      "source": [
        "cp_callback_teacher_model_40_epochs = tensorflow.keras.callbacks.ModelCheckpoint(\n",
        "    filepath=checkpoint_teacher_model_40_epochs,\n",
        "    monitor='accuracy', \n",
        "    verbose=1, \n",
        "    save_weights_only=True,\n",
        "    mode = 'max',\n",
        "    period=40)"
      ]
    },
    {
      "cell_type": "code",
      "execution_count": null,
      "metadata": {
        "colab": {
          "base_uri": "https://localhost:8080/"
        },
        "id": "Yz5rBuQSTao4",
        "outputId": "cf9a86ed-8c12-494d-af73-39f061880e4a"
      },
      "outputs": [
        {
          "output_type": "stream",
          "name": "stdout",
          "text": [
            "Epoch 1/40\n",
            "3773/3773 [==============================] - 44s 7ms/step - loss: 0.6679 - accuracy: 0.7315\n",
            "Epoch 2/40\n",
            "3773/3773 [==============================] - 30s 8ms/step - loss: 0.3830 - accuracy: 0.8499\n",
            "Epoch 3/40\n",
            "3773/3773 [==============================] - 28s 7ms/step - loss: 0.3174 - accuracy: 0.8746\n",
            "Epoch 4/40\n",
            "3773/3773 [==============================] - 28s 7ms/step - loss: 0.2790 - accuracy: 0.8901\n",
            "Epoch 5/40\n",
            "3773/3773 [==============================] - 27s 7ms/step - loss: 0.2483 - accuracy: 0.9018\n",
            "Epoch 6/40\n",
            "3773/3773 [==============================] - 28s 7ms/step - loss: 0.2271 - accuracy: 0.9096\n",
            "Epoch 7/40\n",
            "3773/3773 [==============================] - 28s 7ms/step - loss: 0.2100 - accuracy: 0.9165\n",
            "Epoch 8/40\n",
            "3773/3773 [==============================] - 28s 7ms/step - loss: 0.1988 - accuracy: 0.9219\n",
            "Epoch 9/40\n",
            "3773/3773 [==============================] - 28s 7ms/step - loss: 0.1899 - accuracy: 0.9246\n",
            "Epoch 10/40\n",
            "3773/3773 [==============================] - 28s 7ms/step - loss: 0.1825 - accuracy: 0.9273\n",
            "Epoch 11/40\n",
            "3773/3773 [==============================] - 28s 7ms/step - loss: 0.1740 - accuracy: 0.9306\n",
            "Epoch 12/40\n",
            "3773/3773 [==============================] - 29s 8ms/step - loss: 0.1668 - accuracy: 0.9338\n",
            "Epoch 13/40\n",
            "3773/3773 [==============================] - 28s 7ms/step - loss: 0.1623 - accuracy: 0.9362\n",
            "Epoch 14/40\n",
            "3773/3773 [==============================] - 28s 7ms/step - loss: 0.1550 - accuracy: 0.9383\n",
            "Epoch 15/40\n",
            "3773/3773 [==============================] - 28s 7ms/step - loss: 0.1518 - accuracy: 0.9395\n",
            "Epoch 16/40\n",
            "3773/3773 [==============================] - 27s 7ms/step - loss: 0.1484 - accuracy: 0.9409\n",
            "Epoch 17/40\n",
            "3773/3773 [==============================] - 27s 7ms/step - loss: 0.1440 - accuracy: 0.9428\n",
            "Epoch 18/40\n",
            "3773/3773 [==============================] - 28s 7ms/step - loss: 0.1387 - accuracy: 0.9453\n",
            "Epoch 19/40\n",
            "3773/3773 [==============================] - 28s 7ms/step - loss: 0.1373 - accuracy: 0.9449\n",
            "Epoch 20/40\n",
            "3773/3773 [==============================] - 29s 8ms/step - loss: 0.1328 - accuracy: 0.9476\n",
            "Epoch 21/40\n",
            "3773/3773 [==============================] - 28s 7ms/step - loss: 0.1312 - accuracy: 0.9480\n",
            "Epoch 22/40\n",
            "3773/3773 [==============================] - 28s 7ms/step - loss: 0.1282 - accuracy: 0.9493\n",
            "Epoch 23/40\n",
            "3773/3773 [==============================] - 27s 7ms/step - loss: 0.1222 - accuracy: 0.9523\n",
            "Epoch 24/40\n",
            "3773/3773 [==============================] - 27s 7ms/step - loss: 0.1224 - accuracy: 0.9517\n",
            "Epoch 25/40\n",
            "3773/3773 [==============================] - 27s 7ms/step - loss: 0.1186 - accuracy: 0.9534\n",
            "Epoch 26/40\n",
            "3773/3773 [==============================] - 27s 7ms/step - loss: 0.1173 - accuracy: 0.9544\n",
            "Epoch 27/40\n",
            "3773/3773 [==============================] - 27s 7ms/step - loss: 0.1148 - accuracy: 0.9547\n",
            "Epoch 28/40\n",
            "3773/3773 [==============================] - 27s 7ms/step - loss: 0.1118 - accuracy: 0.9563\n",
            "Epoch 29/40\n",
            "3773/3773 [==============================] - 27s 7ms/step - loss: 0.1085 - accuracy: 0.9574\n",
            "Epoch 30/40\n",
            "3773/3773 [==============================] - 29s 8ms/step - loss: 0.1078 - accuracy: 0.9579\n",
            "Epoch 31/40\n",
            "3773/3773 [==============================] - 28s 7ms/step - loss: 0.1048 - accuracy: 0.9587\n",
            "Epoch 32/40\n",
            "3773/3773 [==============================] - 27s 7ms/step - loss: 0.1042 - accuracy: 0.9592\n",
            "Epoch 33/40\n",
            "3773/3773 [==============================] - 27s 7ms/step - loss: 0.1022 - accuracy: 0.9601\n",
            "Epoch 34/40\n",
            "3773/3773 [==============================] - 28s 7ms/step - loss: 0.0992 - accuracy: 0.9610\n",
            "Epoch 35/40\n",
            "3773/3773 [==============================] - 29s 8ms/step - loss: 0.0995 - accuracy: 0.9614\n",
            "Epoch 36/40\n",
            "3773/3773 [==============================] - 27s 7ms/step - loss: 0.0965 - accuracy: 0.9626\n",
            "Epoch 37/40\n",
            "3773/3773 [==============================] - 27s 7ms/step - loss: 0.0940 - accuracy: 0.9637\n",
            "Epoch 38/40\n",
            "3773/3773 [==============================] - 27s 7ms/step - loss: 0.0926 - accuracy: 0.9643\n",
            "Epoch 39/40\n",
            "3773/3773 [==============================] - 27s 7ms/step - loss: 0.0898 - accuracy: 0.9650\n",
            "Epoch 40/40\n",
            "3773/3773 [==============================] - ETA: 0s - loss: 0.0888 - accuracy: 0.9659\n",
            "Epoch 40: saving model to /content/gdrive/My Drive/physionet/ensemble/tri_training/40_epochs_keras_way/teacher_40_epochs_wts_trial_3.ckpt\n",
            "3773/3773 [==============================] - 28s 7ms/step - loss: 0.0888 - accuracy: 0.9659\n"
          ]
        },
        {
          "output_type": "execute_result",
          "data": {
            "text/plain": [
              "<keras.callbacks.History at 0x7f5541bb9fd0>"
            ]
          },
          "metadata": {},
          "execution_count": 33
        }
      ],
      "source": [
        "teacher_40_epochs.fit(x_dt_rshp, y_dt_, epochs=40, callbacks=[cp_callback_teacher_model_40_epochs])"
      ]
    },
    {
      "cell_type": "code",
      "execution_count": null,
      "metadata": {
        "id": "aos4rfC2TasO"
      },
      "outputs": [],
      "source": [
        "latest_teacher_40_epochs=tensorflow.train.latest_checkpoint(checkpoint_teacher_model_40_epochs_dir)"
      ]
    },
    {
      "cell_type": "code",
      "execution_count": null,
      "metadata": {
        "colab": {
          "base_uri": "https://localhost:8080/"
        },
        "id": "k1UwwIUuT7t8",
        "outputId": "cb7b78a4-14d7-46bf-958c-fa06cee28ad2"
      },
      "outputs": [
        {
          "output_type": "stream",
          "name": "stdout",
          "text": [
            "/content/gdrive/My Drive/physionet/ensemble/tri_training/40_epochs_keras_way/teacher_40_epochs_wts_trial_3.ckpt\n",
            "/content/gdrive/My Drive/physionet/ensemble/tri_training/40_epochs_keras_way/teacher_40_epochs_wts_trial_3.ckpt\n"
          ]
        }
      ],
      "source": [
        "print(latest_teacher_40_epochs)\n",
        "print(checkpoint_teacher_model_40_epochs)"
      ]
    },
    {
      "cell_type": "code",
      "execution_count": null,
      "metadata": {
        "id": "0jeA64m0Ubl4"
      },
      "outputs": [],
      "source": [
        "sub_test_data=pd.read_csv('/content/gdrive/My Drive/physionet/ensemble/50_subs/x_test_sub.csv',header=None)"
      ]
    },
    {
      "cell_type": "code",
      "execution_count": null,
      "metadata": {
        "colab": {
          "base_uri": "https://localhost:8080/"
        },
        "id": "u7-l80euYUcJ",
        "outputId": "4734f5cd-9b61-486d-f4a6-bbc7a3bff0c3"
      },
      "outputs": [
        {
          "output_type": "execute_result",
          "data": {
            "text/plain": [
              "(997, 3001)"
            ]
          },
          "metadata": {},
          "execution_count": 37
        }
      ],
      "source": [
        "sub_test_data.shape"
      ]
    },
    {
      "cell_type": "code",
      "execution_count": null,
      "metadata": {
        "id": "hyAXUe9IUr96"
      },
      "outputs": [],
      "source": [
        "x_test_dt=sub_test_data.drop([3000],axis=1)\n",
        "y_test_dt=sub_test_data[3000]"
      ]
    },
    {
      "cell_type": "code",
      "execution_count": null,
      "metadata": {
        "id": "YBXjJZIJUsFR"
      },
      "outputs": [],
      "source": [
        "y_test_dt_=np_utils.to_categorical(y_test_dt)"
      ]
    },
    {
      "cell_type": "code",
      "execution_count": null,
      "metadata": {
        "colab": {
          "base_uri": "https://localhost:8080/"
        },
        "id": "U1R8-SHSU-OO",
        "outputId": "88eeea5e-a5cd-477b-ada3-d3cd9ed0e971"
      },
      "outputs": [
        {
          "output_type": "execute_result",
          "data": {
            "text/plain": [
              "array([[1., 0., 0., 0., 0.],\n",
              "       [1., 0., 0., 0., 0.],\n",
              "       [1., 0., 0., 0., 0.],\n",
              "       ...,\n",
              "       [0., 0., 1., 0., 0.],\n",
              "       [0., 0., 0., 0., 1.],\n",
              "       [1., 0., 0., 0., 0.]], dtype=float32)"
            ]
          },
          "metadata": {},
          "execution_count": 30
        }
      ],
      "source": [
        "y_test_dt_"
      ]
    },
    {
      "cell_type": "code",
      "execution_count": null,
      "metadata": {
        "colab": {
          "base_uri": "https://localhost:8080/",
          "height": 488
        },
        "id": "q-pIYHGEFDi-",
        "outputId": "dc8edc02-2d61-4209-ff5c-a7a52a763e1c"
      },
      "outputs": [
        {
          "output_type": "execute_result",
          "data": {
            "text/plain": [
              "         0         1         2         3         4         5         6     \\\n",
              "0   -0.045043 -0.060749 -0.036475 -0.148801 -0.090258 -0.033144 -0.089782   \n",
              "1    0.047095  0.051678  0.048011  0.055344  0.047095  0.053969  0.051219   \n",
              "2    0.039304  0.029680  0.024639  0.030597  0.038387  0.036554  0.050761   \n",
              "3   -0.050278 -0.048850 -0.049326 -0.055038 -0.052658 -0.051230 -0.035999   \n",
              "4   -0.077558 -0.068851 -0.067934 -0.068851 -0.067934 -0.072059 -0.071142   \n",
              "..        ...       ...       ...       ...       ...       ...       ...   \n",
              "992 -0.021721 -0.017437 -0.023625 -0.030288 -0.035999 -0.023625 -0.003634   \n",
              "993  0.015015  0.013640  0.007224  0.016848  0.022806  0.027847  0.031971   \n",
              "994 -0.006983 -0.001483 -0.001942 -0.007899  0.000350  0.002183  0.001266   \n",
              "995  0.261571  0.240490  0.223076  0.205202  0.196953  0.173123  0.160291   \n",
              "996 -0.007899 -0.001025 -0.004691 -0.005150 -0.005150  0.004474  0.014098   \n",
              "\n",
              "         7         8         9     ...      2990      2991      2992  \\\n",
              "0   -0.091686 -0.106441 -0.140709  ...  0.025399  0.018735 -0.010774   \n",
              "1    0.007224  0.011807  0.089257  ... -0.113763  0.085591 -0.123845   \n",
              "2    0.059468  0.050761  0.046178  ... -0.147676 -0.126136 -0.138968   \n",
              "3   -0.028384 -0.012678 -0.006966  ... -0.003159 -0.013154 -0.013630   \n",
              "4   -0.068851 -0.071142 -0.060602  ... -0.027605 -0.026231 -0.032188   \n",
              "..        ...       ...       ...  ...       ...       ...       ...   \n",
              "992  0.014452  0.014928  0.011120  ...  0.004933 -0.001255  0.003505   \n",
              "993  0.036554  0.024181  0.009516  ...  0.017306  0.032430  0.026472   \n",
              "994 -0.006983  0.000350  0.004933  ...  0.029222  0.007682  0.011349   \n",
              "995  0.153416  0.144251  0.119045  ...  0.034263  0.040679  0.059468   \n",
              "996  0.015932  0.007224 -0.000567  ... -0.015232 -0.017981 -0.011107   \n",
              "\n",
              "         2993      2994      2995      2996      2997      2998      2999  \n",
              "0   -0.001731  0.049197  0.061095  0.037774  0.085845  0.038250  0.019211  \n",
              "1    0.060843 -0.138510 -0.149050  0.010890 -0.095431 -0.128428  0.000808  \n",
              "2   -0.127053 -0.122928 -0.116512 -0.115137 -0.115596 -0.124761 -0.114679  \n",
              "3   -0.010298 -0.006966 -0.005062 -0.004110 -0.013154 -0.029812 -0.042663  \n",
              "4   -0.032188 -0.040437 -0.044562 -0.038604 -0.036313 -0.038146 -0.016607  \n",
              "..        ...       ...       ...       ...       ...       ...       ...  \n",
              "992 -0.003634 -0.007918 -0.013154 -0.012678 -0.020769 -0.018389 -0.014105  \n",
              "993  0.007682  0.004474  0.023722  0.042512  0.027847  0.027847  0.005391  \n",
              "994  0.020973  0.013640  0.007224 -0.001025 -0.006983 -0.011107 -0.010191  \n",
              "995  0.064968  0.064510  0.073675  0.075967  0.070926  0.055344  0.041137  \n",
              "996 -0.005150  0.008141  0.020973  0.008141 -0.010191 -0.003775 -0.012482  \n",
              "\n",
              "[997 rows x 3000 columns]"
            ],
            "text/html": [
              "\n",
              "  <div id=\"df-d77f5c51-0dcb-495d-97f7-e82f2cba97a2\">\n",
              "    <div class=\"colab-df-container\">\n",
              "      <div>\n",
              "<style scoped>\n",
              "    .dataframe tbody tr th:only-of-type {\n",
              "        vertical-align: middle;\n",
              "    }\n",
              "\n",
              "    .dataframe tbody tr th {\n",
              "        vertical-align: top;\n",
              "    }\n",
              "\n",
              "    .dataframe thead th {\n",
              "        text-align: right;\n",
              "    }\n",
              "</style>\n",
              "<table border=\"1\" class=\"dataframe\">\n",
              "  <thead>\n",
              "    <tr style=\"text-align: right;\">\n",
              "      <th></th>\n",
              "      <th>0</th>\n",
              "      <th>1</th>\n",
              "      <th>2</th>\n",
              "      <th>3</th>\n",
              "      <th>4</th>\n",
              "      <th>5</th>\n",
              "      <th>6</th>\n",
              "      <th>7</th>\n",
              "      <th>8</th>\n",
              "      <th>9</th>\n",
              "      <th>...</th>\n",
              "      <th>2990</th>\n",
              "      <th>2991</th>\n",
              "      <th>2992</th>\n",
              "      <th>2993</th>\n",
              "      <th>2994</th>\n",
              "      <th>2995</th>\n",
              "      <th>2996</th>\n",
              "      <th>2997</th>\n",
              "      <th>2998</th>\n",
              "      <th>2999</th>\n",
              "    </tr>\n",
              "  </thead>\n",
              "  <tbody>\n",
              "    <tr>\n",
              "      <th>0</th>\n",
              "      <td>-0.045043</td>\n",
              "      <td>-0.060749</td>\n",
              "      <td>-0.036475</td>\n",
              "      <td>-0.148801</td>\n",
              "      <td>-0.090258</td>\n",
              "      <td>-0.033144</td>\n",
              "      <td>-0.089782</td>\n",
              "      <td>-0.091686</td>\n",
              "      <td>-0.106441</td>\n",
              "      <td>-0.140709</td>\n",
              "      <td>...</td>\n",
              "      <td>0.025399</td>\n",
              "      <td>0.018735</td>\n",
              "      <td>-0.010774</td>\n",
              "      <td>-0.001731</td>\n",
              "      <td>0.049197</td>\n",
              "      <td>0.061095</td>\n",
              "      <td>0.037774</td>\n",
              "      <td>0.085845</td>\n",
              "      <td>0.038250</td>\n",
              "      <td>0.019211</td>\n",
              "    </tr>\n",
              "    <tr>\n",
              "      <th>1</th>\n",
              "      <td>0.047095</td>\n",
              "      <td>0.051678</td>\n",
              "      <td>0.048011</td>\n",
              "      <td>0.055344</td>\n",
              "      <td>0.047095</td>\n",
              "      <td>0.053969</td>\n",
              "      <td>0.051219</td>\n",
              "      <td>0.007224</td>\n",
              "      <td>0.011807</td>\n",
              "      <td>0.089257</td>\n",
              "      <td>...</td>\n",
              "      <td>-0.113763</td>\n",
              "      <td>0.085591</td>\n",
              "      <td>-0.123845</td>\n",
              "      <td>0.060843</td>\n",
              "      <td>-0.138510</td>\n",
              "      <td>-0.149050</td>\n",
              "      <td>0.010890</td>\n",
              "      <td>-0.095431</td>\n",
              "      <td>-0.128428</td>\n",
              "      <td>0.000808</td>\n",
              "    </tr>\n",
              "    <tr>\n",
              "      <th>2</th>\n",
              "      <td>0.039304</td>\n",
              "      <td>0.029680</td>\n",
              "      <td>0.024639</td>\n",
              "      <td>0.030597</td>\n",
              "      <td>0.038387</td>\n",
              "      <td>0.036554</td>\n",
              "      <td>0.050761</td>\n",
              "      <td>0.059468</td>\n",
              "      <td>0.050761</td>\n",
              "      <td>0.046178</td>\n",
              "      <td>...</td>\n",
              "      <td>-0.147676</td>\n",
              "      <td>-0.126136</td>\n",
              "      <td>-0.138968</td>\n",
              "      <td>-0.127053</td>\n",
              "      <td>-0.122928</td>\n",
              "      <td>-0.116512</td>\n",
              "      <td>-0.115137</td>\n",
              "      <td>-0.115596</td>\n",
              "      <td>-0.124761</td>\n",
              "      <td>-0.114679</td>\n",
              "    </tr>\n",
              "    <tr>\n",
              "      <th>3</th>\n",
              "      <td>-0.050278</td>\n",
              "      <td>-0.048850</td>\n",
              "      <td>-0.049326</td>\n",
              "      <td>-0.055038</td>\n",
              "      <td>-0.052658</td>\n",
              "      <td>-0.051230</td>\n",
              "      <td>-0.035999</td>\n",
              "      <td>-0.028384</td>\n",
              "      <td>-0.012678</td>\n",
              "      <td>-0.006966</td>\n",
              "      <td>...</td>\n",
              "      <td>-0.003159</td>\n",
              "      <td>-0.013154</td>\n",
              "      <td>-0.013630</td>\n",
              "      <td>-0.010298</td>\n",
              "      <td>-0.006966</td>\n",
              "      <td>-0.005062</td>\n",
              "      <td>-0.004110</td>\n",
              "      <td>-0.013154</td>\n",
              "      <td>-0.029812</td>\n",
              "      <td>-0.042663</td>\n",
              "    </tr>\n",
              "    <tr>\n",
              "      <th>4</th>\n",
              "      <td>-0.077558</td>\n",
              "      <td>-0.068851</td>\n",
              "      <td>-0.067934</td>\n",
              "      <td>-0.068851</td>\n",
              "      <td>-0.067934</td>\n",
              "      <td>-0.072059</td>\n",
              "      <td>-0.071142</td>\n",
              "      <td>-0.068851</td>\n",
              "      <td>-0.071142</td>\n",
              "      <td>-0.060602</td>\n",
              "      <td>...</td>\n",
              "      <td>-0.027605</td>\n",
              "      <td>-0.026231</td>\n",
              "      <td>-0.032188</td>\n",
              "      <td>-0.032188</td>\n",
              "      <td>-0.040437</td>\n",
              "      <td>-0.044562</td>\n",
              "      <td>-0.038604</td>\n",
              "      <td>-0.036313</td>\n",
              "      <td>-0.038146</td>\n",
              "      <td>-0.016607</td>\n",
              "    </tr>\n",
              "    <tr>\n",
              "      <th>...</th>\n",
              "      <td>...</td>\n",
              "      <td>...</td>\n",
              "      <td>...</td>\n",
              "      <td>...</td>\n",
              "      <td>...</td>\n",
              "      <td>...</td>\n",
              "      <td>...</td>\n",
              "      <td>...</td>\n",
              "      <td>...</td>\n",
              "      <td>...</td>\n",
              "      <td>...</td>\n",
              "      <td>...</td>\n",
              "      <td>...</td>\n",
              "      <td>...</td>\n",
              "      <td>...</td>\n",
              "      <td>...</td>\n",
              "      <td>...</td>\n",
              "      <td>...</td>\n",
              "      <td>...</td>\n",
              "      <td>...</td>\n",
              "      <td>...</td>\n",
              "    </tr>\n",
              "    <tr>\n",
              "      <th>992</th>\n",
              "      <td>-0.021721</td>\n",
              "      <td>-0.017437</td>\n",
              "      <td>-0.023625</td>\n",
              "      <td>-0.030288</td>\n",
              "      <td>-0.035999</td>\n",
              "      <td>-0.023625</td>\n",
              "      <td>-0.003634</td>\n",
              "      <td>0.014452</td>\n",
              "      <td>0.014928</td>\n",
              "      <td>0.011120</td>\n",
              "      <td>...</td>\n",
              "      <td>0.004933</td>\n",
              "      <td>-0.001255</td>\n",
              "      <td>0.003505</td>\n",
              "      <td>-0.003634</td>\n",
              "      <td>-0.007918</td>\n",
              "      <td>-0.013154</td>\n",
              "      <td>-0.012678</td>\n",
              "      <td>-0.020769</td>\n",
              "      <td>-0.018389</td>\n",
              "      <td>-0.014105</td>\n",
              "    </tr>\n",
              "    <tr>\n",
              "      <th>993</th>\n",
              "      <td>0.015015</td>\n",
              "      <td>0.013640</td>\n",
              "      <td>0.007224</td>\n",
              "      <td>0.016848</td>\n",
              "      <td>0.022806</td>\n",
              "      <td>0.027847</td>\n",
              "      <td>0.031971</td>\n",
              "      <td>0.036554</td>\n",
              "      <td>0.024181</td>\n",
              "      <td>0.009516</td>\n",
              "      <td>...</td>\n",
              "      <td>0.017306</td>\n",
              "      <td>0.032430</td>\n",
              "      <td>0.026472</td>\n",
              "      <td>0.007682</td>\n",
              "      <td>0.004474</td>\n",
              "      <td>0.023722</td>\n",
              "      <td>0.042512</td>\n",
              "      <td>0.027847</td>\n",
              "      <td>0.027847</td>\n",
              "      <td>0.005391</td>\n",
              "    </tr>\n",
              "    <tr>\n",
              "      <th>994</th>\n",
              "      <td>-0.006983</td>\n",
              "      <td>-0.001483</td>\n",
              "      <td>-0.001942</td>\n",
              "      <td>-0.007899</td>\n",
              "      <td>0.000350</td>\n",
              "      <td>0.002183</td>\n",
              "      <td>0.001266</td>\n",
              "      <td>-0.006983</td>\n",
              "      <td>0.000350</td>\n",
              "      <td>0.004933</td>\n",
              "      <td>...</td>\n",
              "      <td>0.029222</td>\n",
              "      <td>0.007682</td>\n",
              "      <td>0.011349</td>\n",
              "      <td>0.020973</td>\n",
              "      <td>0.013640</td>\n",
              "      <td>0.007224</td>\n",
              "      <td>-0.001025</td>\n",
              "      <td>-0.006983</td>\n",
              "      <td>-0.011107</td>\n",
              "      <td>-0.010191</td>\n",
              "    </tr>\n",
              "    <tr>\n",
              "      <th>995</th>\n",
              "      <td>0.261571</td>\n",
              "      <td>0.240490</td>\n",
              "      <td>0.223076</td>\n",
              "      <td>0.205202</td>\n",
              "      <td>0.196953</td>\n",
              "      <td>0.173123</td>\n",
              "      <td>0.160291</td>\n",
              "      <td>0.153416</td>\n",
              "      <td>0.144251</td>\n",
              "      <td>0.119045</td>\n",
              "      <td>...</td>\n",
              "      <td>0.034263</td>\n",
              "      <td>0.040679</td>\n",
              "      <td>0.059468</td>\n",
              "      <td>0.064968</td>\n",
              "      <td>0.064510</td>\n",
              "      <td>0.073675</td>\n",
              "      <td>0.075967</td>\n",
              "      <td>0.070926</td>\n",
              "      <td>0.055344</td>\n",
              "      <td>0.041137</td>\n",
              "    </tr>\n",
              "    <tr>\n",
              "      <th>996</th>\n",
              "      <td>-0.007899</td>\n",
              "      <td>-0.001025</td>\n",
              "      <td>-0.004691</td>\n",
              "      <td>-0.005150</td>\n",
              "      <td>-0.005150</td>\n",
              "      <td>0.004474</td>\n",
              "      <td>0.014098</td>\n",
              "      <td>0.015932</td>\n",
              "      <td>0.007224</td>\n",
              "      <td>-0.000567</td>\n",
              "      <td>...</td>\n",
              "      <td>-0.015232</td>\n",
              "      <td>-0.017981</td>\n",
              "      <td>-0.011107</td>\n",
              "      <td>-0.005150</td>\n",
              "      <td>0.008141</td>\n",
              "      <td>0.020973</td>\n",
              "      <td>0.008141</td>\n",
              "      <td>-0.010191</td>\n",
              "      <td>-0.003775</td>\n",
              "      <td>-0.012482</td>\n",
              "    </tr>\n",
              "  </tbody>\n",
              "</table>\n",
              "<p>997 rows × 3000 columns</p>\n",
              "</div>\n",
              "      <button class=\"colab-df-convert\" onclick=\"convertToInteractive('df-d77f5c51-0dcb-495d-97f7-e82f2cba97a2')\"\n",
              "              title=\"Convert this dataframe to an interactive table.\"\n",
              "              style=\"display:none;\">\n",
              "        \n",
              "  <svg xmlns=\"http://www.w3.org/2000/svg\" height=\"24px\"viewBox=\"0 0 24 24\"\n",
              "       width=\"24px\">\n",
              "    <path d=\"M0 0h24v24H0V0z\" fill=\"none\"/>\n",
              "    <path d=\"M18.56 5.44l.94 2.06.94-2.06 2.06-.94-2.06-.94-.94-2.06-.94 2.06-2.06.94zm-11 1L8.5 8.5l.94-2.06 2.06-.94-2.06-.94L8.5 2.5l-.94 2.06-2.06.94zm10 10l.94 2.06.94-2.06 2.06-.94-2.06-.94-.94-2.06-.94 2.06-2.06.94z\"/><path d=\"M17.41 7.96l-1.37-1.37c-.4-.4-.92-.59-1.43-.59-.52 0-1.04.2-1.43.59L10.3 9.45l-7.72 7.72c-.78.78-.78 2.05 0 2.83L4 21.41c.39.39.9.59 1.41.59.51 0 1.02-.2 1.41-.59l7.78-7.78 2.81-2.81c.8-.78.8-2.07 0-2.86zM5.41 20L4 18.59l7.72-7.72 1.47 1.35L5.41 20z\"/>\n",
              "  </svg>\n",
              "      </button>\n",
              "      \n",
              "  <style>\n",
              "    .colab-df-container {\n",
              "      display:flex;\n",
              "      flex-wrap:wrap;\n",
              "      gap: 12px;\n",
              "    }\n",
              "\n",
              "    .colab-df-convert {\n",
              "      background-color: #E8F0FE;\n",
              "      border: none;\n",
              "      border-radius: 50%;\n",
              "      cursor: pointer;\n",
              "      display: none;\n",
              "      fill: #1967D2;\n",
              "      height: 32px;\n",
              "      padding: 0 0 0 0;\n",
              "      width: 32px;\n",
              "    }\n",
              "\n",
              "    .colab-df-convert:hover {\n",
              "      background-color: #E2EBFA;\n",
              "      box-shadow: 0px 1px 2px rgba(60, 64, 67, 0.3), 0px 1px 3px 1px rgba(60, 64, 67, 0.15);\n",
              "      fill: #174EA6;\n",
              "    }\n",
              "\n",
              "    [theme=dark] .colab-df-convert {\n",
              "      background-color: #3B4455;\n",
              "      fill: #D2E3FC;\n",
              "    }\n",
              "\n",
              "    [theme=dark] .colab-df-convert:hover {\n",
              "      background-color: #434B5C;\n",
              "      box-shadow: 0px 1px 3px 1px rgba(0, 0, 0, 0.15);\n",
              "      filter: drop-shadow(0px 1px 2px rgba(0, 0, 0, 0.3));\n",
              "      fill: #FFFFFF;\n",
              "    }\n",
              "  </style>\n",
              "\n",
              "      <script>\n",
              "        const buttonEl =\n",
              "          document.querySelector('#df-d77f5c51-0dcb-495d-97f7-e82f2cba97a2 button.colab-df-convert');\n",
              "        buttonEl.style.display =\n",
              "          google.colab.kernel.accessAllowed ? 'block' : 'none';\n",
              "\n",
              "        async function convertToInteractive(key) {\n",
              "          const element = document.querySelector('#df-d77f5c51-0dcb-495d-97f7-e82f2cba97a2');\n",
              "          const dataTable =\n",
              "            await google.colab.kernel.invokeFunction('convertToInteractive',\n",
              "                                                     [key], {});\n",
              "          if (!dataTable) return;\n",
              "\n",
              "          const docLinkHtml = 'Like what you see? Visit the ' +\n",
              "            '<a target=\"_blank\" href=https://colab.research.google.com/notebooks/data_table.ipynb>data table notebook</a>'\n",
              "            + ' to learn more about interactive tables.';\n",
              "          element.innerHTML = '';\n",
              "          dataTable['output_type'] = 'display_data';\n",
              "          await google.colab.output.renderOutput(dataTable, element);\n",
              "          const docLink = document.createElement('div');\n",
              "          docLink.innerHTML = docLinkHtml;\n",
              "          element.appendChild(docLink);\n",
              "        }\n",
              "      </script>\n",
              "    </div>\n",
              "  </div>\n",
              "  "
            ]
          },
          "metadata": {},
          "execution_count": 31
        }
      ],
      "source": [
        "x_test_dt"
      ]
    },
    {
      "cell_type": "code",
      "execution_count": null,
      "metadata": {
        "colab": {
          "base_uri": "https://localhost:8080/"
        },
        "id": "Mq47u-c7U_81",
        "outputId": "faa70055-cadb-4272-ea5f-3f02d4779418"
      },
      "outputs": [
        {
          "output_type": "execute_result",
          "data": {
            "text/plain": [
              "(997, 3000)"
            ]
          },
          "metadata": {},
          "execution_count": 32
        }
      ],
      "source": [
        "x_test_dt.shape"
      ]
    },
    {
      "cell_type": "code",
      "execution_count": null,
      "metadata": {
        "id": "ntbZ9IIqVGLv"
      },
      "outputs": [],
      "source": [
        "x_test_dt_rshp=np.array(x_test_dt).reshape(997,3000,1)"
      ]
    },
    {
      "cell_type": "code",
      "execution_count": null,
      "metadata": {
        "colab": {
          "base_uri": "https://localhost:8080/"
        },
        "id": "7m8Qxd6dVM51",
        "outputId": "93dbc66f-7316-4c43-9c6a-fb6903a9b278"
      },
      "outputs": [
        {
          "output_type": "execute_result",
          "data": {
            "text/plain": [
              "array([[[-0.04504252],\n",
              "        [-0.06074903],\n",
              "        [-0.03647533],\n",
              "        ...,\n",
              "        [ 0.08584504],\n",
              "        [ 0.03824956],\n",
              "        [ 0.01921137]],\n",
              "\n",
              "       [[ 0.04709478],\n",
              "        [ 0.05167761],\n",
              "        [ 0.04801135],\n",
              "        ...,\n",
              "        [-0.09543128],\n",
              "        [-0.12842767],\n",
              "        [ 0.00080818]],\n",
              "\n",
              "       [[ 0.03930397],\n",
              "        [ 0.02968002],\n",
              "        [ 0.02463891],\n",
              "        ...,\n",
              "        [-0.11559574],\n",
              "        [-0.12476141],\n",
              "        [-0.11467918]],\n",
              "\n",
              "       ...,\n",
              "\n",
              "       [[-0.00698263],\n",
              "        [-0.00148324],\n",
              "        [-0.00194152],\n",
              "        ...,\n",
              "        [-0.00698263],\n",
              "        [-0.01110718],\n",
              "        [-0.01019062]],\n",
              "\n",
              "       [[ 0.2615713 ],\n",
              "        [ 0.24049027],\n",
              "        [ 0.22307551],\n",
              "        ...,\n",
              "        [ 0.07092551],\n",
              "        [ 0.05534388],\n",
              "        [ 0.0411371 ]],\n",
              "\n",
              "       [[-0.0078992 ],\n",
              "        [-0.00102495],\n",
              "        [-0.00469122],\n",
              "        ...,\n",
              "        [-0.01019062],\n",
              "        [-0.00377465],\n",
              "        [-0.01248203]]])"
            ]
          },
          "metadata": {},
          "execution_count": 34
        }
      ],
      "source": [
        "x_test_dt_rshp"
      ]
    },
    {
      "cell_type": "code",
      "execution_count": null,
      "metadata": {
        "colab": {
          "base_uri": "https://localhost:8080/"
        },
        "id": "cT3JPqj5T7xC",
        "outputId": "c86de9b8-94e3-48e1-f36b-9525aac0c161"
      },
      "outputs": [
        {
          "output_type": "stream",
          "name": "stdout",
          "text": [
            "32/32 [==============================] - 1s 6ms/step - loss: 1.2534 - accuracy: 0.7884\n"
          ]
        }
      ],
      "source": [
        "accuracy_teacher_model_40_epochs = teacher_40_epochs.evaluate(x_test_dt_rshp, y_test_dt_)"
      ]
    },
    {
      "cell_type": "code",
      "source": [
        "preds = teacher_40_epochs.predict(x_test_dt_rshp)"
      ],
      "metadata": {
        "id": "6Gpn4qXqq-kS"
      },
      "execution_count": null,
      "outputs": []
    },
    {
      "cell_type": "code",
      "source": [
        "preds_fin=np.argmax(preds,axis=1)"
      ],
      "metadata": {
        "id": "ih9w8V6GrJ_7"
      },
      "execution_count": null,
      "outputs": []
    },
    {
      "cell_type": "code",
      "source": [
        "from sklearn.metrics import confusion_matrix\n",
        "matrix = confusion_matrix(y_test_dt, preds_fin)\n",
        "matrix.diagonal()/matrix.sum(axis=1)"
      ],
      "metadata": {
        "colab": {
          "base_uri": "https://localhost:8080/"
        },
        "id": "wijypALRrZuL",
        "outputId": "1a0d08e3-aef4-4c4c-93cb-04e00b91321e"
      },
      "execution_count": null,
      "outputs": [
        {
          "output_type": "execute_result",
          "data": {
            "text/plain": [
              "array([0.90822785, 0.1496063 , 0.87428571, 0.63492063])"
            ]
          },
          "metadata": {},
          "execution_count": 48
        }
      ]
    },
    {
      "cell_type": "code",
      "source": [
        "#y_sub_dt\n",
        "from sklearn.metrics import precision_score, recall_score\n",
        "f1 = f1_score(y_test_dt, preds_fin, average=\"macro\")\n",
        "prec = precision_score(y_test_dt, preds_fin, average=\"macro\")\n",
        "recall = recall_score(y_test_dt, preds_fin, average=\"macro\")\n",
        "if VBS:\n",
        "    print(\"Precision: {}\".format(prec)) \n",
        "    print(\"Recall: {}\".format(recall))\n",
        "    print(\"F1 score: {}\".format(f1))\n",
        "\n",
        "    report = classification_report(y_test_dt, preds_fin, digits=6)\n",
        "    print(report)"
      ],
      "metadata": {
        "colab": {
          "base_uri": "https://localhost:8080/"
        },
        "id": "mSB-SWHQruk7",
        "outputId": "70460ee2-dec4-48b5-d00d-49e87cac0b4f"
      },
      "execution_count": null,
      "outputs": [
        {
          "output_type": "stream",
          "name": "stdout",
          "text": [
            "Precision: 0.5898636888324631\n",
            "Recall: 0.6417601241300533\n",
            "F1 score: 0.5816602371809771\n",
            "              precision    recall  f1-score   support\n",
            "\n",
            "           0   0.972881  0.908228  0.939444       632\n",
            "           1   0.404255  0.149606  0.218391       127\n",
            "           2   0.698630  0.874286  0.776650       175\n",
            "           4   0.283688  0.634921  0.392157        63\n",
            "\n",
            "    accuracy                       0.788365       997\n",
            "   macro avg   0.589864  0.641760  0.581660       997\n",
            "weighted avg   0.808760  0.788365  0.784437       997\n",
            "\n"
          ]
        }
      ]
    },
    {
      "cell_type": "markdown",
      "metadata": {
        "id": "UT4ksl55bqqV"
      },
      "source": [
        "Training the teacher model for 50 epochs wrt to the transfer set, majority voted labels, x_sub_train, tri-trained labels"
      ]
    },
    {
      "cell_type": "code",
      "execution_count": null,
      "metadata": {
        "id": "oS3fPBLIFKRG"
      },
      "outputs": [],
      "source": [
        "checkpoint_teacher_model_50_epochs = \"/content/gdrive/My Drive/physionet/ensemble/tri_training/50_epochs_keras_way/teacher_50_epochs_wts_trial_3.ckpt\""
      ]
    },
    {
      "cell_type": "code",
      "execution_count": null,
      "metadata": {
        "id": "Nt26p3OxcCK_"
      },
      "outputs": [],
      "source": [
        "checkpoint_teacher_model_50_epochs_dir = os.path.dirname(checkpoint_teacher_model_50_epochs)"
      ]
    },
    {
      "cell_type": "code",
      "execution_count": null,
      "metadata": {
        "colab": {
          "base_uri": "https://localhost:8080/"
        },
        "id": "PhBJpJ1fcXk8",
        "outputId": "49d4c936-2dd2-4535-831c-da11cbac6bfe"
      },
      "outputs": [
        {
          "output_type": "stream",
          "name": "stdout",
          "text": [
            "WARNING:tensorflow:`period` argument is deprecated. Please use `save_freq` to specify the frequency in number of batches seen.\n"
          ]
        }
      ],
      "source": [
        "cp_callback_teacher_model_50_epochs = tensorflow.keras.callbacks.ModelCheckpoint(\n",
        "    filepath=checkpoint_teacher_model_50_epochs,\n",
        "    monitor='accuracy', \n",
        "    verbose=1, \n",
        "    save_weights_only=True,\n",
        "    mode = 'max',\n",
        "    period=50)"
      ]
    },
    {
      "cell_type": "code",
      "execution_count": null,
      "metadata": {
        "colab": {
          "base_uri": "https://localhost:8080/"
        },
        "id": "W6TRZJzigSq2",
        "outputId": "c4b38eb3-5b1c-4a94-8b06-51c15986ce64"
      },
      "outputs": [
        {
          "output_type": "stream",
          "name": "stdout",
          "text": [
            "Model: \"model_1\"\n",
            "__________________________________________________________________________________________________\n",
            " Layer (type)                   Output Shape         Param #     Connected to                     \n",
            "==================================================================================================\n",
            " inLayer (InputLayer)           [(None, 3000, 1)]    0           []                               \n",
            "                                                                                                  \n",
            " fConv1 (Conv1D)                (None, 500, 64)      3264        ['inLayer[0][0]']                \n",
            "                                                                                                  \n",
            " cConv1 (Conv1D)                (None, 60, 32)       12832       ['inLayer[0][0]']                \n",
            "                                                                                                  \n",
            " fMaxP1 (MaxPooling1D)          (None, 62, 64)       0           ['fConv1[0][0]']                 \n",
            "                                                                                                  \n",
            " cMaxP1 (MaxPooling1D)          (None, 15, 32)       0           ['cConv1[0][0]']                 \n",
            "                                                                                                  \n",
            " fDrop1 (Dropout)               (None, 62, 64)       0           ['fMaxP1[0][0]']                 \n",
            "                                                                                                  \n",
            " cDrop1 (Dropout)               (None, 15, 32)       0           ['cMaxP1[0][0]']                 \n",
            "                                                                                                  \n",
            " fConv2 (Conv1D)                (None, 62, 128)      65664       ['fDrop1[0][0]']                 \n",
            "                                                                                                  \n",
            " cConv2 (Conv1D)                (None, 15, 128)      24704       ['cDrop1[0][0]']                 \n",
            "                                                                                                  \n",
            " fConv3 (Conv1D)                (None, 62, 128)      131200      ['fConv2[0][0]']                 \n",
            "                                                                                                  \n",
            " cConv3 (Conv1D)                (None, 15, 128)      98432       ['cConv2[0][0]']                 \n",
            "                                                                                                  \n",
            " fConv4 (Conv1D)                (None, 62, 128)      131200      ['fConv3[0][0]']                 \n",
            "                                                                                                  \n",
            " cConv4 (Conv1D)                (None, 15, 128)      98432       ['cConv3[0][0]']                 \n",
            "                                                                                                  \n",
            " fMaxP2 (MaxPooling1D)          (None, 15, 128)      0           ['fConv4[0][0]']                 \n",
            "                                                                                                  \n",
            " cMaxP2 (MaxPooling1D)          (None, 7, 128)       0           ['cConv4[0][0]']                 \n",
            "                                                                                                  \n",
            " fFlat1 (Flatten)               (None, 1920)         0           ['fMaxP2[0][0]']                 \n",
            "                                                                                                  \n",
            " cFlat1 (Flatten)               (None, 896)          0           ['cMaxP2[0][0]']                 \n",
            "                                                                                                  \n",
            " merge_1 (Concatenate)          (None, 2816)         0           ['fFlat1[0][0]',                 \n",
            "                                                                  'cFlat1[0][0]']                 \n",
            "                                                                                                  \n",
            " mDrop1 (Dropout)               (None, 2816)         0           ['merge_1[0][0]']                \n",
            "                                                                                                  \n",
            " reshape1 (Reshape)             (None, 1, 2816)      0           ['mDrop1[0][0]']                 \n",
            "                                                                                                  \n",
            " lstm_2 (LSTM)                  (None, 1, 64)        737536      ['reshape1[0][0]']               \n",
            "                                                                                                  \n",
            " lstm_3 (LSTM)                  (None, 64)           33024       ['lstm_2[0][0]']                 \n",
            "                                                                                                  \n",
            " outLayer (Dense)               (None, 5)            325         ['lstm_3[0][0]']                 \n",
            "                                                                                                  \n",
            "==================================================================================================\n",
            "Total params: 1,336,613\n",
            "Trainable params: 1,336,613\n",
            "Non-trainable params: 0\n",
            "__________________________________________________________________________________________________\n"
          ]
        }
      ],
      "source": [
        "teacher_50_epochs=model_b(verbose=VBS)"
      ]
    },
    {
      "cell_type": "code",
      "execution_count": null,
      "metadata": {
        "id": "8sJC-6k3gWN4"
      },
      "outputs": [],
      "source": [
        "teacher_50_epochs.compile(optimizer=optimizer, loss='categorical_crossentropy', metrics=['accuracy'])"
      ]
    },
    {
      "cell_type": "code",
      "execution_count": null,
      "metadata": {
        "colab": {
          "base_uri": "https://localhost:8080/"
        },
        "id": "pDJOS5pQcgHq",
        "outputId": "06f4aa41-7e70-4d72-a550-72361eb66a35"
      },
      "outputs": [
        {
          "output_type": "stream",
          "name": "stdout",
          "text": [
            "Epoch 1/50\n",
            "3773/3773 [==============================] - 55s 10ms/step - loss: 0.6916 - accuracy: 0.7215\n",
            "Epoch 2/50\n",
            "3773/3773 [==============================] - 37s 10ms/step - loss: 0.3945 - accuracy: 0.8451\n",
            "Epoch 3/50\n",
            "3773/3773 [==============================] - 37s 10ms/step - loss: 0.3197 - accuracy: 0.8739\n",
            "Epoch 4/50\n",
            "3773/3773 [==============================] - 37s 10ms/step - loss: 0.2779 - accuracy: 0.8906\n",
            "Epoch 5/50\n",
            "3773/3773 [==============================] - 37s 10ms/step - loss: 0.2471 - accuracy: 0.9026\n",
            "Epoch 6/50\n",
            "3773/3773 [==============================] - 37s 10ms/step - loss: 0.2222 - accuracy: 0.9124\n",
            "Epoch 7/50\n",
            "3773/3773 [==============================] - 37s 10ms/step - loss: 0.2055 - accuracy: 0.9184\n",
            "Epoch 8/50\n",
            "3773/3773 [==============================] - 38s 10ms/step - loss: 0.1928 - accuracy: 0.9233\n",
            "Epoch 9/50\n",
            "3773/3773 [==============================] - 37s 10ms/step - loss: 0.1840 - accuracy: 0.9263\n",
            "Epoch 10/50\n",
            "3773/3773 [==============================] - 37s 10ms/step - loss: 0.1747 - accuracy: 0.9304\n",
            "Epoch 11/50\n",
            "3773/3773 [==============================] - 37s 10ms/step - loss: 0.1681 - accuracy: 0.9332\n",
            "Epoch 12/50\n",
            "3773/3773 [==============================] - 37s 10ms/step - loss: 0.1617 - accuracy: 0.9356\n",
            "Epoch 13/50\n",
            "3773/3773 [==============================] - 38s 10ms/step - loss: 0.1570 - accuracy: 0.9368\n",
            "Epoch 14/50\n",
            "3773/3773 [==============================] - 37s 10ms/step - loss: 0.1512 - accuracy: 0.9393\n",
            "Epoch 15/50\n",
            "3773/3773 [==============================] - 37s 10ms/step - loss: 0.1451 - accuracy: 0.9417\n",
            "Epoch 16/50\n",
            "3773/3773 [==============================] - 38s 10ms/step - loss: 0.1421 - accuracy: 0.9439\n",
            "Epoch 17/50\n",
            "3773/3773 [==============================] - 37s 10ms/step - loss: 0.1388 - accuracy: 0.9448\n",
            "Epoch 18/50\n",
            "3773/3773 [==============================] - 37s 10ms/step - loss: 0.1364 - accuracy: 0.9458\n",
            "Epoch 19/50\n",
            "3773/3773 [==============================] - 37s 10ms/step - loss: 0.1327 - accuracy: 0.9474\n",
            "Epoch 20/50\n",
            "3773/3773 [==============================] - 37s 10ms/step - loss: 0.1291 - accuracy: 0.9490\n",
            "Epoch 21/50\n",
            "3773/3773 [==============================] - 37s 10ms/step - loss: 0.1259 - accuracy: 0.9504\n",
            "Epoch 22/50\n",
            "3773/3773 [==============================] - 37s 10ms/step - loss: 0.1238 - accuracy: 0.9511\n",
            "Epoch 23/50\n",
            "3773/3773 [==============================] - 37s 10ms/step - loss: 0.1215 - accuracy: 0.9519\n",
            "Epoch 24/50\n",
            "3773/3773 [==============================] - 37s 10ms/step - loss: 0.1177 - accuracy: 0.9534\n",
            "Epoch 25/50\n",
            "3773/3773 [==============================] - 38s 10ms/step - loss: 0.1167 - accuracy: 0.9537\n",
            "Epoch 26/50\n",
            "3773/3773 [==============================] - 37s 10ms/step - loss: 0.1139 - accuracy: 0.9553\n",
            "Epoch 27/50\n",
            "3773/3773 [==============================] - 37s 10ms/step - loss: 0.1112 - accuracy: 0.9570\n",
            "Epoch 28/50\n",
            "3773/3773 [==============================] - 37s 10ms/step - loss: 0.1091 - accuracy: 0.9572\n",
            "Epoch 29/50\n",
            "3773/3773 [==============================] - 37s 10ms/step - loss: 0.1068 - accuracy: 0.9583\n",
            "Epoch 30/50\n",
            "3773/3773 [==============================] - 37s 10ms/step - loss: 0.1056 - accuracy: 0.9594\n",
            "Epoch 31/50\n",
            "3773/3773 [==============================] - 37s 10ms/step - loss: 0.1029 - accuracy: 0.9602\n",
            "Epoch 32/50\n",
            "3773/3773 [==============================] - 37s 10ms/step - loss: 0.1013 - accuracy: 0.9610\n",
            "Epoch 33/50\n",
            "3773/3773 [==============================] - 38s 10ms/step - loss: 0.0992 - accuracy: 0.9616\n",
            "Epoch 34/50\n",
            "3773/3773 [==============================] - 37s 10ms/step - loss: 0.0968 - accuracy: 0.9623\n",
            "Epoch 35/50\n",
            "3773/3773 [==============================] - 37s 10ms/step - loss: 0.0967 - accuracy: 0.9626\n",
            "Epoch 36/50\n",
            "3773/3773 [==============================] - 37s 10ms/step - loss: 0.0951 - accuracy: 0.9629\n",
            "Epoch 37/50\n",
            "3773/3773 [==============================] - 37s 10ms/step - loss: 0.0922 - accuracy: 0.9644\n",
            "Epoch 38/50\n",
            "3773/3773 [==============================] - 37s 10ms/step - loss: 0.0901 - accuracy: 0.9648\n",
            "Epoch 39/50\n",
            "3773/3773 [==============================] - 37s 10ms/step - loss: 0.0894 - accuracy: 0.9653\n",
            "Epoch 40/50\n",
            "3773/3773 [==============================] - 37s 10ms/step - loss: 0.0893 - accuracy: 0.9652\n",
            "Epoch 41/50\n",
            "3773/3773 [==============================] - 37s 10ms/step - loss: 0.0870 - accuracy: 0.9670\n",
            "Epoch 42/50\n",
            "3773/3773 [==============================] - 38s 10ms/step - loss: 0.0858 - accuracy: 0.9668\n",
            "Epoch 43/50\n",
            "3773/3773 [==============================] - 37s 10ms/step - loss: 0.0835 - accuracy: 0.9673\n",
            "Epoch 44/50\n",
            "3773/3773 [==============================] - 37s 10ms/step - loss: 0.0830 - accuracy: 0.9683\n",
            "Epoch 45/50\n",
            "3773/3773 [==============================] - 37s 10ms/step - loss: 0.0805 - accuracy: 0.9687\n",
            "Epoch 46/50\n",
            "3773/3773 [==============================] - 37s 10ms/step - loss: 0.0818 - accuracy: 0.9689\n",
            "Epoch 47/50\n",
            "3773/3773 [==============================] - 37s 10ms/step - loss: 0.0795 - accuracy: 0.9692\n",
            "Epoch 48/50\n",
            "3773/3773 [==============================] - 37s 10ms/step - loss: 0.0779 - accuracy: 0.9700\n",
            "Epoch 49/50\n",
            "3773/3773 [==============================] - 37s 10ms/step - loss: 0.0769 - accuracy: 0.9703\n",
            "Epoch 50/50\n",
            "3771/3773 [============================>.] - ETA: 0s - loss: 0.0768 - accuracy: 0.9707\n",
            "Epoch 50: saving model to /content/gdrive/My Drive/physionet/ensemble/tri_training/50_epochs_keras_way/teacher_50_epochs_wts_trial_3.ckpt\n",
            "3773/3773 [==============================] - 38s 10ms/step - loss: 0.0767 - accuracy: 0.9707\n"
          ]
        },
        {
          "output_type": "execute_result",
          "data": {
            "text/plain": [
              "<keras.callbacks.History at 0x7f4f966467d0>"
            ]
          },
          "metadata": {},
          "execution_count": 39
        }
      ],
      "source": [
        "teacher_50_epochs.fit(x_dt_rshp, y_dt_, epochs=50, callbacks=[cp_callback_teacher_model_50_epochs])"
      ]
    },
    {
      "cell_type": "code",
      "execution_count": null,
      "metadata": {
        "id": "qkU2UceKcgYe"
      },
      "outputs": [],
      "source": [
        "latest_teacher_50_epochs=tensorflow.train.latest_checkpoint(checkpoint_teacher_model_50_epochs_dir)"
      ]
    },
    {
      "cell_type": "code",
      "execution_count": null,
      "metadata": {
        "colab": {
          "base_uri": "https://localhost:8080/"
        },
        "id": "G3peC8-Bcyfb",
        "outputId": "253583a4-c68e-40d0-d161-eb4f2f95745a"
      },
      "outputs": [
        {
          "output_type": "stream",
          "name": "stdout",
          "text": [
            "32/32 [==============================] - 1s 7ms/step - loss: 1.2691 - accuracy: 0.7914\n"
          ]
        }
      ],
      "source": [
        "accuracy_teacher_model_50_epochs = teacher_50_epochs.evaluate(x_test_dt_rshp, y_test_dt_)"
      ]
    },
    {
      "cell_type": "code",
      "source": [
        "preds = teacher_50_epochs.predict(x_test_dt_rshp)"
      ],
      "metadata": {
        "id": "SMaZDbUH8eQg"
      },
      "execution_count": null,
      "outputs": []
    },
    {
      "cell_type": "code",
      "source": [
        "preds_fin=np.argmax(preds,axis=1)"
      ],
      "metadata": {
        "id": "gZ_lQuIA8k3Y"
      },
      "execution_count": null,
      "outputs": []
    },
    {
      "cell_type": "code",
      "source": [
        "from sklearn.metrics import confusion_matrix\n",
        "matrix = confusion_matrix(y_test_dt, preds_fin)\n",
        "matrix.diagonal()/matrix.sum(axis=1)"
      ],
      "metadata": {
        "id": "Xe_wR06s8rjB",
        "outputId": "25c18ec3-a1ae-406e-b66c-83e00676fdec",
        "colab": {
          "base_uri": "https://localhost:8080/"
        }
      },
      "execution_count": null,
      "outputs": [
        {
          "output_type": "execute_result",
          "data": {
            "text/plain": [
              "array([0.92088608, 0.14173228, 0.88      , 0.55555556])"
            ]
          },
          "metadata": {},
          "execution_count": 44
        }
      ]
    },
    {
      "cell_type": "markdown",
      "metadata": {
        "id": "D3b-p6meod22"
      },
      "source": [
        "Training the teacher model for 60 epochs wrt to the transfer set, majority voted labels, x_sub_train, tri-trained labels"
      ]
    },
    {
      "cell_type": "code",
      "execution_count": null,
      "metadata": {
        "id": "ud4BWnIrcy4W"
      },
      "outputs": [],
      "source": [
        "checkpoint_teacher_model_60_epochs = \"/content/gdrive/My Drive/physionet/ensemble/tri_training/60_epochs_keras_way/teacher_60_epochs_wts_trial_3.ckpt\""
      ]
    },
    {
      "cell_type": "code",
      "execution_count": null,
      "metadata": {
        "id": "n7R-hMAoczAq"
      },
      "outputs": [],
      "source": [
        "checkpoint_teacher_model_60_epochs_dir = os.path.dirname(checkpoint_teacher_model_60_epochs)"
      ]
    },
    {
      "cell_type": "code",
      "execution_count": null,
      "metadata": {
        "colab": {
          "base_uri": "https://localhost:8080/"
        },
        "id": "YQ_ioC5EownV",
        "outputId": "75abae15-4deb-4429-f497-fb8615fc3716"
      },
      "outputs": [
        {
          "output_type": "stream",
          "name": "stdout",
          "text": [
            "WARNING:tensorflow:`period` argument is deprecated. Please use `save_freq` to specify the frequency in number of batches seen.\n"
          ]
        }
      ],
      "source": [
        "cp_callback_teacher_model_60_epochs = tensorflow.keras.callbacks.ModelCheckpoint(\n",
        "    filepath=checkpoint_teacher_model_60_epochs,\n",
        "    monitor='accuracy', \n",
        "    verbose=1, \n",
        "    save_weights_only=True,\n",
        "    mode = 'max',\n",
        "    period=60)"
      ]
    },
    {
      "cell_type": "code",
      "execution_count": null,
      "metadata": {
        "colab": {
          "base_uri": "https://localhost:8080/"
        },
        "id": "b5Nd2k5Fowqa",
        "outputId": "d15c79a4-cd1c-46d9-cf49-5fe6da5c9e95"
      },
      "outputs": [
        {
          "output_type": "stream",
          "name": "stdout",
          "text": [
            "Model: \"model\"\n",
            "__________________________________________________________________________________________________\n",
            " Layer (type)                   Output Shape         Param #     Connected to                     \n",
            "==================================================================================================\n",
            " inLayer (InputLayer)           [(None, 3000, 1)]    0           []                               \n",
            "                                                                                                  \n",
            " fConv1 (Conv1D)                (None, 500, 64)      3264        ['inLayer[0][0]']                \n",
            "                                                                                                  \n",
            " cConv1 (Conv1D)                (None, 60, 32)       12832       ['inLayer[0][0]']                \n",
            "                                                                                                  \n",
            " fMaxP1 (MaxPooling1D)          (None, 62, 64)       0           ['fConv1[0][0]']                 \n",
            "                                                                                                  \n",
            " cMaxP1 (MaxPooling1D)          (None, 15, 32)       0           ['cConv1[0][0]']                 \n",
            "                                                                                                  \n",
            " fDrop1 (Dropout)               (None, 62, 64)       0           ['fMaxP1[0][0]']                 \n",
            "                                                                                                  \n",
            " cDrop1 (Dropout)               (None, 15, 32)       0           ['cMaxP1[0][0]']                 \n",
            "                                                                                                  \n",
            " fConv2 (Conv1D)                (None, 62, 128)      65664       ['fDrop1[0][0]']                 \n",
            "                                                                                                  \n",
            " cConv2 (Conv1D)                (None, 15, 128)      24704       ['cDrop1[0][0]']                 \n",
            "                                                                                                  \n",
            " fConv3 (Conv1D)                (None, 62, 128)      131200      ['fConv2[0][0]']                 \n",
            "                                                                                                  \n",
            " cConv3 (Conv1D)                (None, 15, 128)      98432       ['cConv2[0][0]']                 \n",
            "                                                                                                  \n",
            " fConv4 (Conv1D)                (None, 62, 128)      131200      ['fConv3[0][0]']                 \n",
            "                                                                                                  \n",
            " cConv4 (Conv1D)                (None, 15, 128)      98432       ['cConv3[0][0]']                 \n",
            "                                                                                                  \n",
            " fMaxP2 (MaxPooling1D)          (None, 15, 128)      0           ['fConv4[0][0]']                 \n",
            "                                                                                                  \n",
            " cMaxP2 (MaxPooling1D)          (None, 7, 128)       0           ['cConv4[0][0]']                 \n",
            "                                                                                                  \n",
            " fFlat1 (Flatten)               (None, 1920)         0           ['fMaxP2[0][0]']                 \n",
            "                                                                                                  \n",
            " cFlat1 (Flatten)               (None, 896)          0           ['cMaxP2[0][0]']                 \n",
            "                                                                                                  \n",
            " merge_1 (Concatenate)          (None, 2816)         0           ['fFlat1[0][0]',                 \n",
            "                                                                  'cFlat1[0][0]']                 \n",
            "                                                                                                  \n",
            " mDrop1 (Dropout)               (None, 2816)         0           ['merge_1[0][0]']                \n",
            "                                                                                                  \n",
            " reshape1 (Reshape)             (None, 1, 2816)      0           ['mDrop1[0][0]']                 \n",
            "                                                                                                  \n",
            " lstm (LSTM)                    (None, 1, 64)        737536      ['reshape1[0][0]']               \n",
            "                                                                                                  \n",
            " lstm_1 (LSTM)                  (None, 64)           33024       ['lstm[0][0]']                   \n",
            "                                                                                                  \n",
            " outLayer (Dense)               (None, 5)            325         ['lstm_1[0][0]']                 \n",
            "                                                                                                  \n",
            "==================================================================================================\n",
            "Total params: 1,336,613\n",
            "Trainable params: 1,336,613\n",
            "Non-trainable params: 0\n",
            "__________________________________________________________________________________________________\n"
          ]
        }
      ],
      "source": [
        "teacher_60_epochs=model_b(verbose=VBS)"
      ]
    },
    {
      "cell_type": "code",
      "execution_count": null,
      "metadata": {
        "id": "t7QlyJqco8Oa"
      },
      "outputs": [],
      "source": [
        "teacher_60_epochs.compile(optimizer=optimizer, loss='categorical_crossentropy', metrics=['accuracy'])"
      ]
    },
    {
      "cell_type": "code",
      "execution_count": null,
      "metadata": {
        "colab": {
          "base_uri": "https://localhost:8080/"
        },
        "id": "rDX4Zg3-o9w0",
        "outputId": "ccda9327-e17b-4687-c82f-06d149da719e"
      },
      "outputs": [
        {
          "output_type": "stream",
          "name": "stdout",
          "text": [
            "Epoch 1/60\n",
            "3773/3773 [==============================] - 47s 8ms/step - loss: 0.6699 - accuracy: 0.7295\n",
            "Epoch 2/60\n",
            "3773/3773 [==============================] - 30s 8ms/step - loss: 0.3873 - accuracy: 0.8475\n",
            "Epoch 3/60\n",
            "3773/3773 [==============================] - 30s 8ms/step - loss: 0.3216 - accuracy: 0.8730\n",
            "Epoch 4/60\n",
            "3773/3773 [==============================] - 31s 8ms/step - loss: 0.2837 - accuracy: 0.8883\n",
            "Epoch 5/60\n",
            "3773/3773 [==============================] - 30s 8ms/step - loss: 0.2539 - accuracy: 0.9001\n",
            "Epoch 6/60\n",
            "3773/3773 [==============================] - 30s 8ms/step - loss: 0.2306 - accuracy: 0.9088\n",
            "Epoch 7/60\n",
            "3773/3773 [==============================] - 30s 8ms/step - loss: 0.2129 - accuracy: 0.9157\n",
            "Epoch 8/60\n",
            "3773/3773 [==============================] - 31s 8ms/step - loss: 0.2008 - accuracy: 0.9216\n",
            "Epoch 9/60\n",
            "3773/3773 [==============================] - 31s 8ms/step - loss: 0.1898 - accuracy: 0.9250\n",
            "Epoch 10/60\n",
            "3773/3773 [==============================] - 30s 8ms/step - loss: 0.1819 - accuracy: 0.9279\n",
            "Epoch 11/60\n",
            "3773/3773 [==============================] - 30s 8ms/step - loss: 0.1737 - accuracy: 0.9305\n",
            "Epoch 12/60\n",
            "3773/3773 [==============================] - 30s 8ms/step - loss: 0.1669 - accuracy: 0.9336\n",
            "Epoch 13/60\n",
            "3773/3773 [==============================] - 30s 8ms/step - loss: 0.1609 - accuracy: 0.9365\n",
            "Epoch 14/60\n",
            "3773/3773 [==============================] - 30s 8ms/step - loss: 0.1543 - accuracy: 0.9387\n",
            "Epoch 15/60\n",
            "3773/3773 [==============================] - 30s 8ms/step - loss: 0.1503 - accuracy: 0.9398\n",
            "Epoch 16/60\n",
            "3773/3773 [==============================] - 30s 8ms/step - loss: 0.1482 - accuracy: 0.9413\n",
            "Epoch 17/60\n",
            "3773/3773 [==============================] - 30s 8ms/step - loss: 0.1420 - accuracy: 0.9439\n",
            "Epoch 18/60\n",
            "3773/3773 [==============================] - 30s 8ms/step - loss: 0.1376 - accuracy: 0.9454\n",
            "Epoch 19/60\n",
            "3773/3773 [==============================] - 31s 8ms/step - loss: 0.1362 - accuracy: 0.9461\n",
            "Epoch 20/60\n",
            "3773/3773 [==============================] - 30s 8ms/step - loss: 0.1321 - accuracy: 0.9477\n",
            "Epoch 21/60\n",
            "3773/3773 [==============================] - 30s 8ms/step - loss: 0.1306 - accuracy: 0.9485\n",
            "Epoch 22/60\n",
            "3773/3773 [==============================] - 30s 8ms/step - loss: 0.1262 - accuracy: 0.9503\n",
            "Epoch 23/60\n",
            "3773/3773 [==============================] - 30s 8ms/step - loss: 0.1211 - accuracy: 0.9526\n",
            "Epoch 24/60\n",
            "3773/3773 [==============================] - 30s 8ms/step - loss: 0.1201 - accuracy: 0.9527\n",
            "Epoch 25/60\n",
            "3773/3773 [==============================] - 30s 8ms/step - loss: 0.1173 - accuracy: 0.9534\n",
            "Epoch 26/60\n",
            "3773/3773 [==============================] - 30s 8ms/step - loss: 0.1152 - accuracy: 0.9550\n",
            "Epoch 27/60\n",
            "3773/3773 [==============================] - 30s 8ms/step - loss: 0.1151 - accuracy: 0.9548\n",
            "Epoch 28/60\n",
            "3773/3773 [==============================] - 30s 8ms/step - loss: 0.1107 - accuracy: 0.9564\n",
            "Epoch 29/60\n",
            "3773/3773 [==============================] - 31s 8ms/step - loss: 0.1078 - accuracy: 0.9585\n",
            "Epoch 30/60\n",
            "3773/3773 [==============================] - 30s 8ms/step - loss: 0.1068 - accuracy: 0.9584\n",
            "Epoch 31/60\n",
            "3773/3773 [==============================] - 30s 8ms/step - loss: 0.1041 - accuracy: 0.9592\n",
            "Epoch 32/60\n",
            "3773/3773 [==============================] - 30s 8ms/step - loss: 0.1023 - accuracy: 0.9601\n",
            "Epoch 33/60\n",
            "3773/3773 [==============================] - 30s 8ms/step - loss: 0.1009 - accuracy: 0.9607\n",
            "Epoch 34/60\n",
            "3773/3773 [==============================] - 30s 8ms/step - loss: 0.0983 - accuracy: 0.9618\n",
            "Epoch 35/60\n",
            "3773/3773 [==============================] - 30s 8ms/step - loss: 0.0991 - accuracy: 0.9615\n",
            "Epoch 36/60\n",
            "3773/3773 [==============================] - 30s 8ms/step - loss: 0.0942 - accuracy: 0.9636\n",
            "Epoch 37/60\n",
            "3773/3773 [==============================] - 30s 8ms/step - loss: 0.0943 - accuracy: 0.9634\n",
            "Epoch 38/60\n",
            "3773/3773 [==============================] - 30s 8ms/step - loss: 0.0917 - accuracy: 0.9648\n",
            "Epoch 39/60\n",
            "3773/3773 [==============================] - 30s 8ms/step - loss: 0.0903 - accuracy: 0.9654\n",
            "Epoch 40/60\n",
            "3773/3773 [==============================] - 30s 8ms/step - loss: 0.0884 - accuracy: 0.9657\n",
            "Epoch 41/60\n",
            "3773/3773 [==============================] - 30s 8ms/step - loss: 0.0883 - accuracy: 0.9661\n",
            "Epoch 42/60\n",
            "3773/3773 [==============================] - 30s 8ms/step - loss: 0.0857 - accuracy: 0.9669\n",
            "Epoch 43/60\n",
            "3773/3773 [==============================] - 30s 8ms/step - loss: 0.0856 - accuracy: 0.9673\n",
            "Epoch 44/60\n",
            "3773/3773 [==============================] - 30s 8ms/step - loss: 0.0836 - accuracy: 0.9681\n",
            "Epoch 45/60\n",
            "3773/3773 [==============================] - 30s 8ms/step - loss: 0.0816 - accuracy: 0.9684\n",
            "Epoch 46/60\n",
            "3773/3773 [==============================] - 30s 8ms/step - loss: 0.0820 - accuracy: 0.9690\n",
            "Epoch 47/60\n",
            "3773/3773 [==============================] - 30s 8ms/step - loss: 0.0795 - accuracy: 0.9697\n",
            "Epoch 48/60\n",
            "3773/3773 [==============================] - 30s 8ms/step - loss: 0.0785 - accuracy: 0.9699\n",
            "Epoch 49/60\n",
            "3773/3773 [==============================] - 31s 8ms/step - loss: 0.0764 - accuracy: 0.9709\n",
            "Epoch 50/60\n",
            "3773/3773 [==============================] - 30s 8ms/step - loss: 0.0749 - accuracy: 0.9718\n",
            "Epoch 51/60\n",
            "3773/3773 [==============================] - 30s 8ms/step - loss: 0.0745 - accuracy: 0.9722\n",
            "Epoch 52/60\n",
            "3773/3773 [==============================] - 30s 8ms/step - loss: 0.0737 - accuracy: 0.9722\n",
            "Epoch 53/60\n",
            "3773/3773 [==============================] - 30s 8ms/step - loss: 0.0725 - accuracy: 0.9725\n",
            "Epoch 54/60\n",
            "3773/3773 [==============================] - 30s 8ms/step - loss: 0.0724 - accuracy: 0.9726\n",
            "Epoch 55/60\n",
            "3773/3773 [==============================] - 30s 8ms/step - loss: 0.0698 - accuracy: 0.9737\n",
            "Epoch 56/60\n",
            "3773/3773 [==============================] - 30s 8ms/step - loss: 0.0698 - accuracy: 0.9736\n",
            "Epoch 57/60\n",
            "3773/3773 [==============================] - 30s 8ms/step - loss: 0.0678 - accuracy: 0.9744\n",
            "Epoch 58/60\n",
            "3773/3773 [==============================] - 30s 8ms/step - loss: 0.0666 - accuracy: 0.9742\n",
            "Epoch 59/60\n",
            "3773/3773 [==============================] - 30s 8ms/step - loss: 0.0679 - accuracy: 0.9743\n",
            "Epoch 60/60\n",
            "3771/3773 [============================>.] - ETA: 0s - loss: 0.0667 - accuracy: 0.9751\n",
            "Epoch 60: saving model to /content/gdrive/My Drive/physionet/ensemble/tri_training/60_epochs_keras_way/teacher_60_epochs_wts_trial_3.ckpt\n",
            "3773/3773 [==============================] - 31s 8ms/step - loss: 0.0667 - accuracy: 0.9751\n"
          ]
        },
        {
          "output_type": "execute_result",
          "data": {
            "text/plain": [
              "<keras.callbacks.History at 0x7f84b7d97d50>"
            ]
          },
          "metadata": {},
          "execution_count": 31
        }
      ],
      "source": [
        "teacher_60_epochs.fit(x_dt_rshp, y_dt_, epochs=60, callbacks=[cp_callback_teacher_model_60_epochs])"
      ]
    },
    {
      "cell_type": "code",
      "execution_count": null,
      "metadata": {
        "id": "af-n5ZunpEZf"
      },
      "outputs": [],
      "source": [
        "latest_teacher_60_epochs=tensorflow.train.latest_checkpoint(checkpoint_teacher_model_60_epochs_dir)"
      ]
    },
    {
      "cell_type": "code",
      "execution_count": null,
      "metadata": {
        "colab": {
          "base_uri": "https://localhost:8080/"
        },
        "id": "U4fYa-mYpEfI",
        "outputId": "241a4168-9ce7-4160-bb03-f1103de446e8"
      },
      "outputs": [
        {
          "output_type": "stream",
          "name": "stdout",
          "text": [
            "32/32 [==============================] - 1s 6ms/step - loss: 1.3755 - accuracy: 0.7864\n"
          ]
        }
      ],
      "source": [
        "accuracy_teacher_model_60_epochs = teacher_60_epochs.evaluate(x_test_dt_rshp, y_test_dt_)"
      ]
    },
    {
      "cell_type": "markdown",
      "source": [
        "Training the teacher model for 70 epochs wrt to the transfer set, majority voted labels, x_sub_train, tri-trained labels"
      ],
      "metadata": {
        "id": "FPi0KR1HvbV1"
      }
    },
    {
      "cell_type": "code",
      "execution_count": null,
      "metadata": {
        "id": "QrzqoQjiei4D"
      },
      "outputs": [],
      "source": [
        "checkpoint_teacher_model_70_epochs = \"/content/gdrive/My Drive/physionet/ensemble/tri_training/70_epochs_keras_way/teacher_70_epochs_wts_trial_3.ckpt\""
      ]
    },
    {
      "cell_type": "code",
      "source": [
        "checkpoint_teacher_model_70_epochs_dir = os.path.dirname(checkpoint_teacher_model_70_epochs)"
      ],
      "metadata": {
        "id": "o-c-dARFvia7"
      },
      "execution_count": null,
      "outputs": []
    },
    {
      "cell_type": "code",
      "source": [
        "cp_callback_teacher_model_70_epochs = tensorflow.keras.callbacks.ModelCheckpoint(\n",
        "    filepath=checkpoint_teacher_model_70_epochs,\n",
        "    monitor='accuracy', \n",
        "    verbose=1, \n",
        "    save_weights_only=True,\n",
        "    mode = 'max',\n",
        "    period=70)"
      ],
      "metadata": {
        "colab": {
          "base_uri": "https://localhost:8080/"
        },
        "id": "OCgrP7AZvifj",
        "outputId": "746bbbbd-5985-4260-b548-eb7b832b72db"
      },
      "execution_count": null,
      "outputs": [
        {
          "output_type": "stream",
          "name": "stdout",
          "text": [
            "WARNING:tensorflow:`period` argument is deprecated. Please use `save_freq` to specify the frequency in number of batches seen.\n"
          ]
        }
      ]
    },
    {
      "cell_type": "code",
      "source": [
        "teacher_70_epochs=model_b(verbose=VBS)"
      ],
      "metadata": {
        "colab": {
          "base_uri": "https://localhost:8080/"
        },
        "id": "jJA46-9NvijW",
        "outputId": "8b4851a1-a76b-4efb-9fa6-38c19d96962b"
      },
      "execution_count": null,
      "outputs": [
        {
          "output_type": "stream",
          "name": "stdout",
          "text": [
            "Model: \"model\"\n",
            "__________________________________________________________________________________________________\n",
            " Layer (type)                   Output Shape         Param #     Connected to                     \n",
            "==================================================================================================\n",
            " inLayer (InputLayer)           [(None, 3000, 1)]    0           []                               \n",
            "                                                                                                  \n",
            " fConv1 (Conv1D)                (None, 500, 64)      3264        ['inLayer[0][0]']                \n",
            "                                                                                                  \n",
            " cConv1 (Conv1D)                (None, 60, 32)       12832       ['inLayer[0][0]']                \n",
            "                                                                                                  \n",
            " fMaxP1 (MaxPooling1D)          (None, 62, 64)       0           ['fConv1[0][0]']                 \n",
            "                                                                                                  \n",
            " cMaxP1 (MaxPooling1D)          (None, 15, 32)       0           ['cConv1[0][0]']                 \n",
            "                                                                                                  \n",
            " fDrop1 (Dropout)               (None, 62, 64)       0           ['fMaxP1[0][0]']                 \n",
            "                                                                                                  \n",
            " cDrop1 (Dropout)               (None, 15, 32)       0           ['cMaxP1[0][0]']                 \n",
            "                                                                                                  \n",
            " fConv2 (Conv1D)                (None, 62, 128)      65664       ['fDrop1[0][0]']                 \n",
            "                                                                                                  \n",
            " cConv2 (Conv1D)                (None, 15, 128)      24704       ['cDrop1[0][0]']                 \n",
            "                                                                                                  \n",
            " fConv3 (Conv1D)                (None, 62, 128)      131200      ['fConv2[0][0]']                 \n",
            "                                                                                                  \n",
            " cConv3 (Conv1D)                (None, 15, 128)      98432       ['cConv2[0][0]']                 \n",
            "                                                                                                  \n",
            " fConv4 (Conv1D)                (None, 62, 128)      131200      ['fConv3[0][0]']                 \n",
            "                                                                                                  \n",
            " cConv4 (Conv1D)                (None, 15, 128)      98432       ['cConv3[0][0]']                 \n",
            "                                                                                                  \n",
            " fMaxP2 (MaxPooling1D)          (None, 15, 128)      0           ['fConv4[0][0]']                 \n",
            "                                                                                                  \n",
            " cMaxP2 (MaxPooling1D)          (None, 7, 128)       0           ['cConv4[0][0]']                 \n",
            "                                                                                                  \n",
            " fFlat1 (Flatten)               (None, 1920)         0           ['fMaxP2[0][0]']                 \n",
            "                                                                                                  \n",
            " cFlat1 (Flatten)               (None, 896)          0           ['cMaxP2[0][0]']                 \n",
            "                                                                                                  \n",
            " merge_1 (Concatenate)          (None, 2816)         0           ['fFlat1[0][0]',                 \n",
            "                                                                  'cFlat1[0][0]']                 \n",
            "                                                                                                  \n",
            " mDrop1 (Dropout)               (None, 2816)         0           ['merge_1[0][0]']                \n",
            "                                                                                                  \n",
            " reshape1 (Reshape)             (None, 1, 2816)      0           ['mDrop1[0][0]']                 \n",
            "                                                                                                  \n",
            " lstm (LSTM)                    (None, 1, 64)        737536      ['reshape1[0][0]']               \n",
            "                                                                                                  \n",
            " lstm_1 (LSTM)                  (None, 64)           33024       ['lstm[0][0]']                   \n",
            "                                                                                                  \n",
            " outLayer (Dense)               (None, 5)            325         ['lstm_1[0][0]']                 \n",
            "                                                                                                  \n",
            "==================================================================================================\n",
            "Total params: 1,336,613\n",
            "Trainable params: 1,336,613\n",
            "Non-trainable params: 0\n",
            "__________________________________________________________________________________________________\n"
          ]
        }
      ]
    },
    {
      "cell_type": "code",
      "source": [
        "teacher_70_epochs.compile(optimizer=optimizer, loss='categorical_crossentropy', metrics=['accuracy'])"
      ],
      "metadata": {
        "id": "ePX6vKbJvinh"
      },
      "execution_count": null,
      "outputs": []
    },
    {
      "cell_type": "code",
      "source": [
        "teacher_70_epochs.fit(x_dt_rshp, y_dt_, epochs=70, callbacks=[cp_callback_teacher_model_70_epochs])"
      ],
      "metadata": {
        "colab": {
          "base_uri": "https://localhost:8080/"
        },
        "id": "GH_sY8SGwHBE",
        "outputId": "c505e5c1-5e5f-4c0e-ff79-03cd8e8f2014"
      },
      "execution_count": null,
      "outputs": [
        {
          "output_type": "stream",
          "name": "stdout",
          "text": [
            "Epoch 1/70\n",
            "3773/3773 [==============================] - 55s 10ms/step - loss: 0.6718 - accuracy: 0.7286\n",
            "Epoch 2/70\n",
            "3773/3773 [==============================] - 37s 10ms/step - loss: 0.3872 - accuracy: 0.8484\n",
            "Epoch 3/70\n",
            "3773/3773 [==============================] - 37s 10ms/step - loss: 0.3171 - accuracy: 0.8742\n",
            "Epoch 4/70\n",
            "3773/3773 [==============================] - 37s 10ms/step - loss: 0.2763 - accuracy: 0.8920\n",
            "Epoch 5/70\n",
            "3773/3773 [==============================] - 37s 10ms/step - loss: 0.2463 - accuracy: 0.9026\n",
            "Epoch 6/70\n",
            "3773/3773 [==============================] - 37s 10ms/step - loss: 0.2234 - accuracy: 0.9113\n",
            "Epoch 7/70\n",
            "3773/3773 [==============================] - 38s 10ms/step - loss: 0.2063 - accuracy: 0.9185\n",
            "Epoch 8/70\n",
            "3773/3773 [==============================] - 38s 10ms/step - loss: 0.1966 - accuracy: 0.9222\n",
            "Epoch 9/70\n",
            "3773/3773 [==============================] - 38s 10ms/step - loss: 0.1855 - accuracy: 0.9270\n",
            "Epoch 10/70\n",
            "3773/3773 [==============================] - 38s 10ms/step - loss: 0.1784 - accuracy: 0.9295\n",
            "Epoch 11/70\n",
            "3773/3773 [==============================] - 38s 10ms/step - loss: 0.1695 - accuracy: 0.9330\n",
            "Epoch 12/70\n",
            "3773/3773 [==============================] - 38s 10ms/step - loss: 0.1630 - accuracy: 0.9350\n",
            "Epoch 13/70\n",
            "3773/3773 [==============================] - 38s 10ms/step - loss: 0.1564 - accuracy: 0.9377\n",
            "Epoch 14/70\n",
            "3773/3773 [==============================] - 38s 10ms/step - loss: 0.1506 - accuracy: 0.9403\n",
            "Epoch 15/70\n",
            "3773/3773 [==============================] - 38s 10ms/step - loss: 0.1468 - accuracy: 0.9414\n",
            "Epoch 16/70\n",
            "3773/3773 [==============================] - 38s 10ms/step - loss: 0.1440 - accuracy: 0.9426\n",
            "Epoch 17/70\n",
            "3773/3773 [==============================] - 38s 10ms/step - loss: 0.1399 - accuracy: 0.9448\n",
            "Epoch 18/70\n",
            "3773/3773 [==============================] - 38s 10ms/step - loss: 0.1356 - accuracy: 0.9460\n",
            "Epoch 19/70\n",
            "3773/3773 [==============================] - 38s 10ms/step - loss: 0.1321 - accuracy: 0.9480\n",
            "Epoch 20/70\n",
            "3773/3773 [==============================] - 38s 10ms/step - loss: 0.1289 - accuracy: 0.9487\n",
            "Epoch 21/70\n",
            "3773/3773 [==============================] - 37s 10ms/step - loss: 0.1285 - accuracy: 0.9490\n",
            "Epoch 22/70\n",
            "3773/3773 [==============================] - 37s 10ms/step - loss: 0.1250 - accuracy: 0.9509\n",
            "Epoch 23/70\n",
            "3773/3773 [==============================] - 38s 10ms/step - loss: 0.1196 - accuracy: 0.9528\n",
            "Epoch 24/70\n",
            "3773/3773 [==============================] - 38s 10ms/step - loss: 0.1181 - accuracy: 0.9537\n",
            "Epoch 25/70\n",
            "3773/3773 [==============================] - 37s 10ms/step - loss: 0.1150 - accuracy: 0.9546\n",
            "Epoch 26/70\n",
            "3773/3773 [==============================] - 37s 10ms/step - loss: 0.1129 - accuracy: 0.9556\n",
            "Epoch 27/70\n",
            "3773/3773 [==============================] - 37s 10ms/step - loss: 0.1120 - accuracy: 0.9559\n",
            "Epoch 28/70\n",
            "3773/3773 [==============================] - 37s 10ms/step - loss: 0.1091 - accuracy: 0.9570\n",
            "Epoch 29/70\n",
            "3773/3773 [==============================] - 38s 10ms/step - loss: 0.1068 - accuracy: 0.9586\n",
            "Epoch 30/70\n",
            "3773/3773 [==============================] - 38s 10ms/step - loss: 0.1051 - accuracy: 0.9590\n",
            "Epoch 31/70\n",
            "3773/3773 [==============================] - 38s 10ms/step - loss: 0.1029 - accuracy: 0.9599\n",
            "Epoch 32/70\n",
            "3773/3773 [==============================] - 38s 10ms/step - loss: 0.1016 - accuracy: 0.9606\n",
            "Epoch 33/70\n",
            "3773/3773 [==============================] - 38s 10ms/step - loss: 0.0982 - accuracy: 0.9612\n",
            "Epoch 34/70\n",
            "3773/3773 [==============================] - 37s 10ms/step - loss: 0.0957 - accuracy: 0.9628\n",
            "Epoch 35/70\n",
            "3773/3773 [==============================] - 38s 10ms/step - loss: 0.0959 - accuracy: 0.9626\n",
            "Epoch 36/70\n",
            "3773/3773 [==============================] - 38s 10ms/step - loss: 0.0932 - accuracy: 0.9642\n",
            "Epoch 37/70\n",
            "3773/3773 [==============================] - 38s 10ms/step - loss: 0.0921 - accuracy: 0.9642\n",
            "Epoch 38/70\n",
            "3773/3773 [==============================] - 37s 10ms/step - loss: 0.0900 - accuracy: 0.9650\n",
            "Epoch 39/70\n",
            "3773/3773 [==============================] - 38s 10ms/step - loss: 0.0882 - accuracy: 0.9656\n",
            "Epoch 40/70\n",
            "3773/3773 [==============================] - 38s 10ms/step - loss: 0.0872 - accuracy: 0.9665\n",
            "Epoch 41/70\n",
            "3773/3773 [==============================] - 38s 10ms/step - loss: 0.0852 - accuracy: 0.9670\n",
            "Epoch 42/70\n",
            "3773/3773 [==============================] - 38s 10ms/step - loss: 0.0833 - accuracy: 0.9683\n",
            "Epoch 43/70\n",
            "3773/3773 [==============================] - 37s 10ms/step - loss: 0.0828 - accuracy: 0.9681\n",
            "Epoch 44/70\n",
            "3773/3773 [==============================] - 38s 10ms/step - loss: 0.0825 - accuracy: 0.9684\n",
            "Epoch 45/70\n",
            "3773/3773 [==============================] - 38s 10ms/step - loss: 0.0797 - accuracy: 0.9691\n",
            "Epoch 46/70\n",
            "3773/3773 [==============================] - 38s 10ms/step - loss: 0.0793 - accuracy: 0.9696\n",
            "Epoch 47/70\n",
            "3773/3773 [==============================] - 38s 10ms/step - loss: 0.0785 - accuracy: 0.9696\n",
            "Epoch 48/70\n",
            "3773/3773 [==============================] - 38s 10ms/step - loss: 0.0751 - accuracy: 0.9710\n",
            "Epoch 49/70\n",
            "3773/3773 [==============================] - 37s 10ms/step - loss: 0.0750 - accuracy: 0.9715\n",
            "Epoch 50/70\n",
            "3773/3773 [==============================] - 37s 10ms/step - loss: 0.0747 - accuracy: 0.9719\n",
            "Epoch 51/70\n",
            "3773/3773 [==============================] - 37s 10ms/step - loss: 0.0743 - accuracy: 0.9715\n",
            "Epoch 52/70\n",
            "3773/3773 [==============================] - 38s 10ms/step - loss: 0.0718 - accuracy: 0.9724\n",
            "Epoch 53/70\n",
            "3773/3773 [==============================] - 38s 10ms/step - loss: 0.0701 - accuracy: 0.9735\n",
            "Epoch 54/70\n",
            "3773/3773 [==============================] - 38s 10ms/step - loss: 0.0707 - accuracy: 0.9731\n",
            "Epoch 55/70\n",
            "3773/3773 [==============================] - 38s 10ms/step - loss: 0.0684 - accuracy: 0.9740\n",
            "Epoch 56/70\n",
            "3773/3773 [==============================] - 38s 10ms/step - loss: 0.0668 - accuracy: 0.9745\n",
            "Epoch 57/70\n",
            "3773/3773 [==============================] - 38s 10ms/step - loss: 0.0671 - accuracy: 0.9749\n",
            "Epoch 58/70\n",
            "3773/3773 [==============================] - 38s 10ms/step - loss: 0.0658 - accuracy: 0.9746\n",
            "Epoch 59/70\n",
            "3773/3773 [==============================] - 38s 10ms/step - loss: 0.0647 - accuracy: 0.9757\n",
            "Epoch 60/70\n",
            "3773/3773 [==============================] - 37s 10ms/step - loss: 0.0659 - accuracy: 0.9750\n",
            "Epoch 61/70\n",
            "3773/3773 [==============================] - 38s 10ms/step - loss: 0.0632 - accuracy: 0.9756\n",
            "Epoch 62/70\n",
            "3773/3773 [==============================] - 37s 10ms/step - loss: 0.0621 - accuracy: 0.9767\n",
            "Epoch 63/70\n",
            "3773/3773 [==============================] - 38s 10ms/step - loss: 0.0625 - accuracy: 0.9762\n",
            "Epoch 64/70\n",
            "3773/3773 [==============================] - 38s 10ms/step - loss: 0.0616 - accuracy: 0.9771\n",
            "Epoch 65/70\n",
            "3773/3773 [==============================] - 37s 10ms/step - loss: 0.0603 - accuracy: 0.9770\n",
            "Epoch 66/70\n",
            "3773/3773 [==============================] - 37s 10ms/step - loss: 0.0593 - accuracy: 0.9777\n",
            "Epoch 67/70\n",
            "3773/3773 [==============================] - 38s 10ms/step - loss: 0.0597 - accuracy: 0.9775\n",
            "Epoch 68/70\n",
            "3773/3773 [==============================] - 38s 10ms/step - loss: 0.0569 - accuracy: 0.9784\n",
            "Epoch 69/70\n",
            "3773/3773 [==============================] - 37s 10ms/step - loss: 0.0559 - accuracy: 0.9791\n",
            "Epoch 70/70\n",
            "3772/3773 [============================>.] - ETA: 0s - loss: 0.0565 - accuracy: 0.9793\n",
            "Epoch 70: saving model to /content/gdrive/My Drive/physionet/ensemble/tri_training/70_epochs_keras_way/teacher_70_epochs_wts_trial_3.ckpt\n",
            "3773/3773 [==============================] - 38s 10ms/step - loss: 0.0565 - accuracy: 0.9793\n"
          ]
        },
        {
          "output_type": "execute_result",
          "data": {
            "text/plain": [
              "<keras.callbacks.History at 0x7f3fa7c90110>"
            ]
          },
          "metadata": {},
          "execution_count": 33
        }
      ]
    },
    {
      "cell_type": "code",
      "source": [
        "latest_teacher_70_epochs=tensorflow.train.latest_checkpoint(checkpoint_teacher_model_70_epochs_dir)"
      ],
      "metadata": {
        "id": "DjjaJAyXv1ql"
      },
      "execution_count": null,
      "outputs": []
    },
    {
      "cell_type": "code",
      "source": [
        "accuracy_teacher_model_70_epochs = teacher_70_epochs.evaluate(x_test_dt_rshp, y_test_dt_)"
      ],
      "metadata": {
        "colab": {
          "base_uri": "https://localhost:8080/"
        },
        "id": "BR-jiiqHv1wI",
        "outputId": "a27d22da-2695-4a3c-d96f-28493b807d1c"
      },
      "execution_count": null,
      "outputs": [
        {
          "output_type": "stream",
          "name": "stdout",
          "text": [
            "32/32 [==============================] - 2s 7ms/step - loss: 1.3937 - accuracy: 0.7944\n"
          ]
        }
      ]
    },
    {
      "cell_type": "code",
      "source": [
        ""
      ],
      "metadata": {
        "id": "ZwrWzUHMv10Z"
      },
      "execution_count": null,
      "outputs": []
    },
    {
      "cell_type": "markdown",
      "metadata": {
        "id": "Yo8thb7--Ps8"
      },
      "source": [
        "KD using 70 epochs teacher, 80 epochs student, alpha: 0.9, temp: 5-->Trial 1\n",
        "\n",
        "KD using 60 epochs teacher, 70 epochs student , alpha: 0.9, temp: 5 ---->trial 2\n",
        "\n",
        "KD using 70 epochs teacher, 80 epochs student , alpha: 0.9, temp: 5 ---->trial 3"
      ]
    },
    {
      "cell_type": "code",
      "execution_count": null,
      "metadata": {
        "colab": {
          "base_uri": "https://localhost:8080/"
        },
        "id": "3eer5BYCiPBk",
        "outputId": "55cf9d2e-27a7-4ea4-a6cd-bf4a2279e871"
      },
      "outputs": [
        {
          "output_type": "stream",
          "name": "stdout",
          "text": [
            "Model: \"model\"\n",
            "__________________________________________________________________________________________________\n",
            " Layer (type)                   Output Shape         Param #     Connected to                     \n",
            "==================================================================================================\n",
            " inLayer (InputLayer)           [(None, 3000, 1)]    0           []                               \n",
            "                                                                                                  \n",
            " fConv1 (Conv1D)                (None, 500, 64)      3264        ['inLayer[0][0]']                \n",
            "                                                                                                  \n",
            " cConv1 (Conv1D)                (None, 60, 32)       12832       ['inLayer[0][0]']                \n",
            "                                                                                                  \n",
            " fMaxP1 (MaxPooling1D)          (None, 62, 64)       0           ['fConv1[0][0]']                 \n",
            "                                                                                                  \n",
            " cMaxP1 (MaxPooling1D)          (None, 15, 32)       0           ['cConv1[0][0]']                 \n",
            "                                                                                                  \n",
            " fDrop1 (Dropout)               (None, 62, 64)       0           ['fMaxP1[0][0]']                 \n",
            "                                                                                                  \n",
            " cDrop1 (Dropout)               (None, 15, 32)       0           ['cMaxP1[0][0]']                 \n",
            "                                                                                                  \n",
            " fConv2 (Conv1D)                (None, 62, 128)      65664       ['fDrop1[0][0]']                 \n",
            "                                                                                                  \n",
            " cConv2 (Conv1D)                (None, 15, 128)      24704       ['cDrop1[0][0]']                 \n",
            "                                                                                                  \n",
            " fConv3 (Conv1D)                (None, 62, 128)      131200      ['fConv2[0][0]']                 \n",
            "                                                                                                  \n",
            " cConv3 (Conv1D)                (None, 15, 128)      98432       ['cConv2[0][0]']                 \n",
            "                                                                                                  \n",
            " fConv4 (Conv1D)                (None, 62, 128)      131200      ['fConv3[0][0]']                 \n",
            "                                                                                                  \n",
            " cConv4 (Conv1D)                (None, 15, 128)      98432       ['cConv3[0][0]']                 \n",
            "                                                                                                  \n",
            " fMaxP2 (MaxPooling1D)          (None, 15, 128)      0           ['fConv4[0][0]']                 \n",
            "                                                                                                  \n",
            " cMaxP2 (MaxPooling1D)          (None, 7, 128)       0           ['cConv4[0][0]']                 \n",
            "                                                                                                  \n",
            " fFlat1 (Flatten)               (None, 1920)         0           ['fMaxP2[0][0]']                 \n",
            "                                                                                                  \n",
            " cFlat1 (Flatten)               (None, 896)          0           ['cMaxP2[0][0]']                 \n",
            "                                                                                                  \n",
            " merge_1 (Concatenate)          (None, 2816)         0           ['fFlat1[0][0]',                 \n",
            "                                                                  'cFlat1[0][0]']                 \n",
            "                                                                                                  \n",
            " mDrop1 (Dropout)               (None, 2816)         0           ['merge_1[0][0]']                \n",
            "                                                                                                  \n",
            " reshape1 (Reshape)             (None, 1, 2816)      0           ['mDrop1[0][0]']                 \n",
            "                                                                                                  \n",
            " lstm (LSTM)                    (None, 1, 64)        737536      ['reshape1[0][0]']               \n",
            "                                                                                                  \n",
            " lstm_1 (LSTM)                  (None, 64)           33024       ['lstm[0][0]']                   \n",
            "                                                                                                  \n",
            " outLayer (Dense)               (None, 5)            325         ['lstm_1[0][0]']                 \n",
            "                                                                                                  \n",
            "==================================================================================================\n",
            "Total params: 1,336,613\n",
            "Trainable params: 1,336,613\n",
            "Non-trainable params: 0\n",
            "__________________________________________________________________________________________________\n"
          ]
        }
      ],
      "source": [
        "teacher_model=model_b(verbose=VBS) #40 epochs teacher model"
      ]
    },
    {
      "cell_type": "code",
      "execution_count": null,
      "metadata": {
        "id": "TBWcMHzgiPEI",
        "colab": {
          "base_uri": "https://localhost:8080/"
        },
        "outputId": "72ac3416-64ba-4f21-b647-334ce93386b0"
      },
      "outputs": [
        {
          "output_type": "execute_result",
          "data": {
            "text/plain": [
              "<tensorflow.python.training.tracking.util.CheckpointLoadStatus at 0x7fb84b0eeed0>"
            ]
          },
          "metadata": {},
          "execution_count": 23
        }
      ],
      "source": [
        "teacher_checkpt_path=\"/content/gdrive/My Drive/physionet/ensemble/tri_training/40_epochs_keras_way/teacher_40_epochs_wts_trial_3.ckpt\"\n",
        "teacher_model.load_weights(teacher_checkpt_path)"
      ]
    },
    {
      "cell_type": "code",
      "execution_count": null,
      "metadata": {
        "id": "gH72DluqiPGy"
      },
      "outputs": [],
      "source": [
        "from keras.layers import Input, Dense, LSTM, MaxPooling1D, Conv1D\n",
        "from keras.models import Model"
      ]
    },
    {
      "cell_type": "code",
      "execution_count": null,
      "metadata": {
        "id": "zRYQc8QsiPJT"
      },
      "outputs": [],
      "source": [
        "teacher_model.compile(optimizer=optimizer, loss='categorical_crossentropy', metrics=['accuracy'])"
      ]
    },
    {
      "cell_type": "code",
      "execution_count": null,
      "metadata": {
        "colab": {
          "base_uri": "https://localhost:8080/"
        },
        "id": "Eeo8mEPJiPLx",
        "outputId": "b04a22e5-d858-43ec-e3e6-7f00e4a830cd"
      },
      "outputs": [
        {
          "output_type": "stream",
          "name": "stdout",
          "text": [
            "32/32 [==============================] - 12s 8ms/step - loss: 1.2534 - accuracy: 0.7884\n"
          ]
        }
      ],
      "source": [
        "accuracy_teacher_model = teacher_model.evaluate(x_test_dt_rshp, y_test_dt_)"
      ]
    },
    {
      "cell_type": "code",
      "execution_count": null,
      "metadata": {
        "id": "luBe1wVxiPQs"
      },
      "outputs": [],
      "source": [
        "preds_teacher_model = teacher_model.predict(x_test_dt_rshp)"
      ]
    },
    {
      "cell_type": "code",
      "execution_count": null,
      "metadata": {
        "id": "6zLJPzXUiPTK"
      },
      "outputs": [],
      "source": [
        "preds_teacher_model_fin=np.argmax(preds_teacher_model,axis=1)"
      ]
    },
    {
      "cell_type": "code",
      "execution_count": null,
      "metadata": {
        "colab": {
          "base_uri": "https://localhost:8080/"
        },
        "id": "I5N8D4W9iPVk",
        "outputId": "db0fa2bb-0485-4397-83ee-ac5de7615eb9"
      },
      "outputs": [
        {
          "output_type": "execute_result",
          "data": {
            "text/plain": [
              "array([0.90822785, 0.1496063 , 0.87428571, 0.63492063])"
            ]
          },
          "metadata": {},
          "execution_count": 35
        }
      ],
      "source": [
        "from sklearn.metrics import confusion_matrix\n",
        "matrix_teacher = confusion_matrix(y_test_dt, preds_teacher_model_fin)\n",
        "matrix_teacher.diagonal()/matrix_teacher.sum(axis=1)"
      ]
    },
    {
      "cell_type": "code",
      "execution_count": null,
      "metadata": {
        "colab": {
          "base_uri": "https://localhost:8080/"
        },
        "id": "MIpuDRZSiPYC",
        "outputId": "6adfef20-c9fb-4beb-e696-844c58ccdac7"
      },
      "outputs": [
        {
          "output_type": "stream",
          "name": "stdout",
          "text": [
            "              precision    recall  f1-score   support\n",
            "\n",
            "           0   0.972881  0.908228  0.939444       632\n",
            "           1   0.404255  0.149606  0.218391       127\n",
            "           2   0.698630  0.874286  0.776650       175\n",
            "           4   0.283688  0.634921  0.392157        63\n",
            "\n",
            "    accuracy                       0.788365       997\n",
            "   macro avg   0.589864  0.641760  0.581660       997\n",
            "weighted avg   0.808760  0.788365  0.784437       997\n",
            "\n"
          ]
        }
      ],
      "source": [
        "print(classification_report(y_test_dt, preds_teacher_model_fin, digits=6))"
      ]
    },
    {
      "cell_type": "code",
      "execution_count": null,
      "metadata": {
        "id": "aYmOTgTniPac"
      },
      "outputs": [],
      "source": [
        "#student model\n",
        "def get_model_1d_cnn():\n",
        "    nclass = 5\n",
        "    inp = Input(shape=(3000, 1))\n",
        "    img_1 = Conv1D(4, kernel_size=6, activation=activations.relu, strides=1, padding=\"valid\")(inp)\n",
        "    #img_1 = Conv1D(128, kernel_size=5, activation=activations.relu, strides=1, padding=\"valid\")(img_1)\n",
        "    img_1 = MaxPooling1D(pool_size=2)(img_1)\n",
        "    #img_1 = SpatialDropout1D(rate=0.2)(img_1)\n",
        "    img_1 = Conv1D(4, kernel_size=5, activation=activations.relu, strides=1, padding=\"valid\")(img_1)\n",
        "    #img_1 = Conv1D(256, kernel_size=7, activation=activations.relu, strides=1, padding=\"valid\")(img_1)\n",
        "    img_1 = MaxPooling1D(pool_size=2)(img_1)\n",
        "    #img_1 = SpatialDropout1D(rate=0.01)(img_1)\n",
        "    img_1 = Conv1D(10, kernel_size=4, activation=activations.relu, strides=1, padding=\"valid\")(img_1)\n",
        "    #img_1 = Conv1D(64, kernel_size=4, activation=activations.relu, strides=1, padding=\"valid\")(img_1)\n",
        "    img_1 = MaxPooling1D(pool_size=2)(img_1)\n",
        "    #img_1 = SpatialDropout1D(rate=0.01)(img_1)\n",
        "    img_1 = Conv1D(10, kernel_size=4, activation=activations.relu, strides=1, padding=\"valid\")(img_1)\n",
        "    img_1 = MaxPooling1D(pool_size=2)(img_1)\n",
        "    #img_1 = Conv1D(64, kernel_size=6, activation=activations.relu, strides=1, padding=\"valid\")(img_1)\n",
        "    #img_1 = MaxPooling1D(pool_size=2)(img_1)\n",
        "    img_1 = Flatten()(img_1)\n",
        "\n",
        "    \n",
        "    dense_1 = Dropout(rate=0.5)(img_1)\n",
        "    #dense_1 = Dropout(rate=0.05)(Dense(64, activation=activations.relu, name=\"dense_2\")(dense_1))\n",
        "    dense_1 = Dense(nclass, activation=activations.softmax)(dense_1)\n",
        "\n",
        "    model = Model(inputs=inp, outputs=dense_1)\n",
        "    opt = Adam(0.001)\n",
        "\n",
        "    model.compile(optimizer=opt, loss='categorical_crossentropy', metrics=['acc'])\n",
        "    model.summary()\n",
        "    return model"
      ]
    },
    {
      "cell_type": "code",
      "execution_count": null,
      "metadata": {
        "colab": {
          "base_uri": "https://localhost:8080/"
        },
        "id": "b-6A1GR9i8hj",
        "outputId": "a489cb2e-92a4-4097-a3ac-7ea4f978d56f"
      },
      "outputs": [
        {
          "output_type": "stream",
          "name": "stdout",
          "text": [
            "Model: \"model_1\"\n",
            "_________________________________________________________________\n",
            " Layer (type)                Output Shape              Param #   \n",
            "=================================================================\n",
            " input_1 (InputLayer)        [(None, 3000, 1)]         0         \n",
            "                                                                 \n",
            " conv1d (Conv1D)             (None, 2995, 4)           28        \n",
            "                                                                 \n",
            " max_pooling1d (MaxPooling1D  (None, 1497, 4)          0         \n",
            " )                                                               \n",
            "                                                                 \n",
            " conv1d_1 (Conv1D)           (None, 1493, 4)           84        \n",
            "                                                                 \n",
            " max_pooling1d_1 (MaxPooling  (None, 746, 4)           0         \n",
            " 1D)                                                             \n",
            "                                                                 \n",
            " conv1d_2 (Conv1D)           (None, 743, 10)           170       \n",
            "                                                                 \n",
            " max_pooling1d_2 (MaxPooling  (None, 371, 10)          0         \n",
            " 1D)                                                             \n",
            "                                                                 \n",
            " conv1d_3 (Conv1D)           (None, 368, 10)           410       \n",
            "                                                                 \n",
            " max_pooling1d_3 (MaxPooling  (None, 184, 10)          0         \n",
            " 1D)                                                             \n",
            "                                                                 \n",
            " flatten (Flatten)           (None, 1840)              0         \n",
            "                                                                 \n",
            " dropout (Dropout)           (None, 1840)              0         \n",
            "                                                                 \n",
            " dense (Dense)               (None, 5)                 9205      \n",
            "                                                                 \n",
            "=================================================================\n",
            "Total params: 9,897\n",
            "Trainable params: 9,897\n",
            "Non-trainable params: 0\n",
            "_________________________________________________________________\n"
          ]
        }
      ],
      "source": [
        "#student_model=get_model_cnn()\n",
        "student_model=get_model_1d_cnn()"
      ]
    },
    {
      "cell_type": "code",
      "execution_count": null,
      "metadata": {
        "id": "WWNZtFL7i8kD"
      },
      "outputs": [],
      "source": [
        "class Distiller(keras.Model):\n",
        "    def __init__(self, student, teacher):\n",
        "        super(Distiller, self).__init__()\n",
        "        self.teacher = teacher\n",
        "        self.student = student\n",
        "\n",
        "    def compile(\n",
        "        self,\n",
        "        optimizer,\n",
        "        metrics,\n",
        "        student_loss_fn,\n",
        "        distillation_loss_fn,\n",
        "        alpha=0.1,\n",
        "        temperature=3,\n",
        "    ):\n",
        "        \"\"\" Configure the distiller.\n",
        "\n",
        "        Args:\n",
        "            optimizer: Keras optimizer for the student weights\n",
        "            metrics: Keras metrics for evaluation\n",
        "            student_loss_fn: Loss function of difference between student\n",
        "                predictions and ground-truth\n",
        "            distillation_loss_fn: Loss function of difference between soft\n",
        "                student predictions and soft teacher predictions\n",
        "            alpha: weight to student_loss_fn and 1-alpha to distillation_loss_fn\n",
        "            temperature: Temperature for softening probability distributions.\n",
        "                Larger temperature gives softer distributions.\n",
        "        \"\"\"\n",
        "        super(Distiller, self).compile(optimizer=optimizer, metrics=metrics)\n",
        "        self.student_loss_fn = student_loss_fn\n",
        "        self.distillation_loss_fn = distillation_loss_fn\n",
        "        self.alpha = alpha\n",
        "        self.temperature = temperature\n",
        "\n",
        "    def train_step(self, data):\n",
        "        # Unpack data\n",
        "        x, y = data\n",
        "\n",
        "        # Forward pass of teacher\n",
        "        teacher_predictions = self.teacher(x, training=False)\n",
        "\n",
        "        with tf.GradientTape() as tape:\n",
        "            # Forward pass of student\n",
        "            student_predictions = self.student(x, training=True)\n",
        "\n",
        "            # Compute losses\n",
        "            student_loss = self.student_loss_fn(y, student_predictions)\n",
        "            distillation_loss = self.distillation_loss_fn(\n",
        "                tf.nn.softmax(teacher_predictions / self.temperature, axis=1),\n",
        "                tf.nn.softmax(student_predictions / self.temperature, axis=1),\n",
        "            )\n",
        "            loss = self.alpha * student_loss + (1 - self.alpha) * distillation_loss\n",
        "\n",
        "        # Compute gradients\n",
        "        trainable_vars = self.student.trainable_variables\n",
        "        gradients = tape.gradient(loss, trainable_vars)\n",
        "\n",
        "        # Update weights\n",
        "        self.optimizer.apply_gradients(zip(gradients, trainable_vars))\n",
        "\n",
        "        # Update the metrics configured in `compile()`.\n",
        "        self.compiled_metrics.update_state(y, student_predictions)\n",
        "\n",
        "        # Return a dict of performance\n",
        "        results = {m.name: m.result() for m in self.metrics}\n",
        "        results.update(\n",
        "            {\"student_loss\": student_loss, \"distillation_loss\": distillation_loss}\n",
        "        )\n",
        "        return results\n",
        "\n",
        "    def test_step(self, data):\n",
        "        # Unpack the data\n",
        "        x, y = data\n",
        "\n",
        "        # Compute predictions\n",
        "        y_prediction = self.student(x, training=False)\n",
        "\n",
        "        # Calculate the loss\n",
        "        student_loss = self.student_loss_fn(y, y_prediction)\n",
        "\n",
        "        # Update the metrics.\n",
        "        self.compiled_metrics.update_state(y, y_prediction)\n",
        "\n",
        "        # Return a dict of performance\n",
        "        results = {m.name: m.result() for m in self.metrics}\n",
        "        results.update({\"student_loss\": student_loss})\n",
        "        return results\n"
      ]
    },
    {
      "cell_type": "code",
      "execution_count": null,
      "metadata": {
        "id": "oQbBr_lAi8mS"
      },
      "outputs": [],
      "source": [
        "import tensorflow as tf\n",
        "from tensorflow import keras\n",
        "from tensorflow.keras import layers\n",
        "import numpy as np\n"
      ]
    },
    {
      "cell_type": "code",
      "execution_count": null,
      "metadata": {
        "colab": {
          "base_uri": "https://localhost:8080/"
        },
        "id": "S2-4CgooiPdA",
        "outputId": "46f251a0-a30e-4d62-c95f-c36397d39d51"
      },
      "outputs": [
        {
          "output_type": "stream",
          "name": "stdout",
          "text": [
            "Epoch 1/50\n",
            "3773/3773 [==============================] - 36s 8ms/step - categorical_accuracy: 0.6854 - student_loss: 0.7690 - distillation_loss: 0.0016\n",
            "Epoch 2/50\n",
            "3773/3773 [==============================] - 31s 8ms/step - categorical_accuracy: 0.7669 - student_loss: 0.5640 - distillation_loss: 0.0012\n",
            "Epoch 3/50\n",
            "3773/3773 [==============================] - 31s 8ms/step - categorical_accuracy: 0.7830 - student_loss: 0.5243 - distillation_loss: 0.0011\n",
            "Epoch 4/50\n",
            "3773/3773 [==============================] - 32s 8ms/step - categorical_accuracy: 0.7957 - student_loss: 0.4996 - distillation_loss: 0.0010\n",
            "Epoch 5/50\n",
            "3773/3773 [==============================] - 32s 8ms/step - categorical_accuracy: 0.8048 - student_loss: 0.4789 - distillation_loss: 9.9555e-04\n",
            "Epoch 6/50\n",
            "3773/3773 [==============================] - 31s 8ms/step - categorical_accuracy: 0.8152 - student_loss: 0.4556 - distillation_loss: 9.3949e-04\n",
            "Epoch 7/50\n",
            "3773/3773 [==============================] - 31s 8ms/step - categorical_accuracy: 0.8198 - student_loss: 0.4421 - distillation_loss: 9.0698e-04\n",
            "Epoch 8/50\n",
            "3773/3773 [==============================] - 32s 9ms/step - categorical_accuracy: 0.8294 - student_loss: 0.4265 - distillation_loss: 8.6696e-04\n",
            "Epoch 9/50\n",
            "3773/3773 [==============================] - 31s 8ms/step - categorical_accuracy: 0.8333 - student_loss: 0.4183 - distillation_loss: 8.4722e-04\n",
            "Epoch 10/50\n",
            "3773/3773 [==============================] - 31s 8ms/step - categorical_accuracy: 0.8374 - student_loss: 0.4103 - distillation_loss: 8.2622e-04\n",
            "Epoch 11/50\n",
            "3773/3773 [==============================] - 32s 8ms/step - categorical_accuracy: 0.8388 - student_loss: 0.4057 - distillation_loss: 8.1767e-04\n",
            "Epoch 12/50\n",
            "3773/3773 [==============================] - 31s 8ms/step - categorical_accuracy: 0.8404 - student_loss: 0.3978 - distillation_loss: 8.0283e-04\n",
            "Epoch 13/50\n",
            "3773/3773 [==============================] - 31s 8ms/step - categorical_accuracy: 0.8425 - student_loss: 0.3956 - distillation_loss: 7.9641e-04\n",
            "Epoch 14/50\n",
            "3773/3773 [==============================] - 31s 8ms/step - categorical_accuracy: 0.8438 - student_loss: 0.3924 - distillation_loss: 7.8797e-04\n",
            "Epoch 15/50\n",
            "3773/3773 [==============================] - 31s 8ms/step - categorical_accuracy: 0.8451 - student_loss: 0.3866 - distillation_loss: 7.7664e-04\n",
            "Epoch 16/50\n",
            "3773/3773 [==============================] - 31s 8ms/step - categorical_accuracy: 0.8465 - student_loss: 0.3878 - distillation_loss: 7.7544e-04\n",
            "Epoch 17/50\n",
            "3773/3773 [==============================] - 31s 8ms/step - categorical_accuracy: 0.8479 - student_loss: 0.3827 - distillation_loss: 7.6744e-04\n",
            "Epoch 18/50\n",
            "3773/3773 [==============================] - 31s 8ms/step - categorical_accuracy: 0.8479 - student_loss: 0.3799 - distillation_loss: 7.6143e-04\n",
            "Epoch 19/50\n",
            "3773/3773 [==============================] - 31s 8ms/step - categorical_accuracy: 0.8495 - student_loss: 0.3776 - distillation_loss: 7.5435e-04\n",
            "Epoch 20/50\n",
            "3773/3773 [==============================] - 31s 8ms/step - categorical_accuracy: 0.8520 - student_loss: 0.3729 - distillation_loss: 7.4546e-04\n",
            "Epoch 21/50\n",
            "3773/3773 [==============================] - 31s 8ms/step - categorical_accuracy: 0.8539 - student_loss: 0.3708 - distillation_loss: 7.3937e-04\n",
            "Epoch 22/50\n",
            "3773/3773 [==============================] - 31s 8ms/step - categorical_accuracy: 0.8510 - student_loss: 0.3693 - distillation_loss: 7.3847e-04\n",
            "Epoch 23/50\n",
            "3773/3773 [==============================] - 31s 8ms/step - categorical_accuracy: 0.8527 - student_loss: 0.3681 - distillation_loss: 7.3215e-04\n",
            "Epoch 24/50\n",
            "3773/3773 [==============================] - 31s 8ms/step - categorical_accuracy: 0.8536 - student_loss: 0.3677 - distillation_loss: 7.3415e-04\n",
            "Epoch 25/50\n",
            "3773/3773 [==============================] - 31s 8ms/step - categorical_accuracy: 0.8550 - student_loss: 0.3644 - distillation_loss: 7.2712e-04\n",
            "Epoch 26/50\n",
            "3773/3773 [==============================] - 31s 8ms/step - categorical_accuracy: 0.8544 - student_loss: 0.3643 - distillation_loss: 7.2468e-04\n",
            "Epoch 27/50\n",
            "3773/3773 [==============================] - 31s 8ms/step - categorical_accuracy: 0.8547 - student_loss: 0.3639 - distillation_loss: 7.2245e-04\n",
            "Epoch 28/50\n",
            "3773/3773 [==============================] - 31s 8ms/step - categorical_accuracy: 0.8561 - student_loss: 0.3613 - distillation_loss: 7.1979e-04\n",
            "Epoch 29/50\n",
            "3773/3773 [==============================] - 31s 8ms/step - categorical_accuracy: 0.8567 - student_loss: 0.3597 - distillation_loss: 7.1584e-04\n",
            "Epoch 30/50\n",
            "3773/3773 [==============================] - 31s 8ms/step - categorical_accuracy: 0.8588 - student_loss: 0.3553 - distillation_loss: 7.0750e-04\n",
            "Epoch 31/50\n",
            "3773/3773 [==============================] - 31s 8ms/step - categorical_accuracy: 0.8599 - student_loss: 0.3549 - distillation_loss: 7.0459e-04\n",
            "Epoch 32/50\n",
            "3773/3773 [==============================] - 31s 8ms/step - categorical_accuracy: 0.8595 - student_loss: 0.3540 - distillation_loss: 7.0428e-04\n",
            "Epoch 33/50\n",
            "3773/3773 [==============================] - 31s 8ms/step - categorical_accuracy: 0.8585 - student_loss: 0.3549 - distillation_loss: 7.0673e-04\n",
            "Epoch 34/50\n",
            "3773/3773 [==============================] - 31s 8ms/step - categorical_accuracy: 0.8599 - student_loss: 0.3518 - distillation_loss: 6.9861e-04\n",
            "Epoch 35/50\n",
            "3773/3773 [==============================] - 31s 8ms/step - categorical_accuracy: 0.8602 - student_loss: 0.3502 - distillation_loss: 6.9454e-04\n",
            "Epoch 36/50\n",
            "3773/3773 [==============================] - 31s 8ms/step - categorical_accuracy: 0.8603 - student_loss: 0.3511 - distillation_loss: 6.9610e-04\n",
            "Epoch 37/50\n",
            "3773/3773 [==============================] - 31s 8ms/step - categorical_accuracy: 0.8613 - student_loss: 0.3492 - distillation_loss: 6.9282e-04\n",
            "Epoch 38/50\n",
            "3773/3773 [==============================] - 31s 8ms/step - categorical_accuracy: 0.8615 - student_loss: 0.3493 - distillation_loss: 6.9074e-04\n",
            "Epoch 39/50\n",
            "3773/3773 [==============================] - 31s 8ms/step - categorical_accuracy: 0.8616 - student_loss: 0.3486 - distillation_loss: 6.8976e-04\n",
            "Epoch 40/50\n",
            "3773/3773 [==============================] - 31s 8ms/step - categorical_accuracy: 0.8620 - student_loss: 0.3461 - distillation_loss: 6.8783e-04\n",
            "Epoch 41/50\n",
            "3773/3773 [==============================] - 31s 8ms/step - categorical_accuracy: 0.8626 - student_loss: 0.3465 - distillation_loss: 6.8790e-04\n",
            "Epoch 42/50\n",
            "3773/3773 [==============================] - 31s 8ms/step - categorical_accuracy: 0.8637 - student_loss: 0.3437 - distillation_loss: 6.8159e-04\n",
            "Epoch 43/50\n",
            "3773/3773 [==============================] - 31s 8ms/step - categorical_accuracy: 0.8621 - student_loss: 0.3461 - distillation_loss: 6.8515e-04\n",
            "Epoch 44/50\n",
            "3773/3773 [==============================] - 31s 8ms/step - categorical_accuracy: 0.8631 - student_loss: 0.3454 - distillation_loss: 6.8549e-04\n",
            "Epoch 45/50\n",
            "3773/3773 [==============================] - 31s 8ms/step - categorical_accuracy: 0.8631 - student_loss: 0.3469 - distillation_loss: 6.8689e-04\n",
            "Epoch 46/50\n",
            "3773/3773 [==============================] - 31s 8ms/step - categorical_accuracy: 0.8641 - student_loss: 0.3416 - distillation_loss: 6.7791e-04\n",
            "Epoch 47/50\n",
            "3773/3773 [==============================] - 31s 8ms/step - categorical_accuracy: 0.8647 - student_loss: 0.3412 - distillation_loss: 6.7614e-04\n",
            "Epoch 48/50\n",
            "3773/3773 [==============================] - 31s 8ms/step - categorical_accuracy: 0.8644 - student_loss: 0.3429 - distillation_loss: 6.7855e-04\n",
            "Epoch 49/50\n",
            "3773/3773 [==============================] - 31s 8ms/step - categorical_accuracy: 0.8645 - student_loss: 0.3434 - distillation_loss: 6.8034e-04\n",
            "Epoch 50/50\n",
            "3773/3773 [==============================] - 31s 8ms/step - categorical_accuracy: 0.8664 - student_loss: 0.3377 - distillation_loss: 6.7010e-04\n"
          ]
        },
        {
          "output_type": "execute_result",
          "data": {
            "text/plain": [
              "<keras.callbacks.History at 0x7fb84b923650>"
            ]
          },
          "metadata": {},
          "execution_count": 41
        }
      ],
      "source": [
        "# Initialize and compile distiller\n",
        "distiller = Distiller(student=student_model, teacher=teacher_model)\n",
        "distiller.compile(\n",
        "    optimizer=keras.optimizers.Adam(),\n",
        "    metrics=[keras.metrics.CategoricalAccuracy()],\n",
        "    student_loss_fn=keras.losses.CategoricalCrossentropy(from_logits=True),\n",
        "    distillation_loss_fn=keras.losses.KLDivergence(),\n",
        "    alpha=0.9,\n",
        "    temperature=5,\n",
        ")\n",
        "\n",
        "# Distill teacher to student\n",
        "distiller.fit(x_dt_rshp, y_dt_, epochs=50)\n",
        "\n",
        "# Evaluate student on test dataset\n",
        "#distiller.evaluate(x_test, y_test)"
      ]
    },
    {
      "cell_type": "code",
      "execution_count": null,
      "metadata": {
        "colab": {
          "base_uri": "https://localhost:8080/"
        },
        "id": "Ne-3HG2ciPfc",
        "outputId": "af105a04-cd77-4c3d-8b6d-7da15e00166d"
      },
      "outputs": [
        {
          "output_type": "stream",
          "name": "stdout",
          "text": [
            "32/32 [==============================] - 0s 3ms/step - categorical_accuracy: 0.8004 - student_loss: 1.1084\n"
          ]
        }
      ],
      "source": [
        "accuracy_distiller = distiller.evaluate(x_test_dt_rshp, y_test_dt_)"
      ]
    },
    {
      "cell_type": "code",
      "execution_count": null,
      "metadata": {
        "id": "_JFHx11Ql6qc"
      },
      "outputs": [],
      "source": [
        "preds_student_model = student_model.predict(x_test_dt_rshp)"
      ]
    },
    {
      "cell_type": "code",
      "execution_count": null,
      "metadata": {
        "id": "c-korBpyjQx0"
      },
      "outputs": [],
      "source": [
        "preds_student_model_fin=np.argmax(preds_student_model,axis=1)"
      ]
    },
    {
      "cell_type": "code",
      "execution_count": null,
      "metadata": {
        "colab": {
          "base_uri": "https://localhost:8080/"
        },
        "id": "s8q9zAoWjQz7",
        "outputId": "f1dd4282-548b-44bc-ddb7-7a591db9f7d9"
      },
      "outputs": [
        {
          "output_type": "stream",
          "name": "stdout",
          "text": [
            "              precision    recall  f1-score   support\n",
            "\n",
            "           0   0.967374  0.938291  0.952610       632\n",
            "           1   0.428571  0.094488  0.154839       127\n",
            "           2   0.639676  0.902857  0.748815       175\n",
            "           4   0.321101  0.555556  0.406977        63\n",
            "\n",
            "    accuracy                       0.800401       997\n",
            "   macro avg   0.589181  0.622798  0.565810       997\n",
            "weighted avg   0.800382  0.800401  0.780739       997\n",
            "\n"
          ]
        }
      ],
      "source": [
        "print(classification_report(y_test_dt, preds_student_model_fin, digits=6))"
      ]
    },
    {
      "cell_type": "code",
      "execution_count": null,
      "metadata": {
        "colab": {
          "base_uri": "https://localhost:8080/"
        },
        "id": "InkAurvKjQ2F",
        "outputId": "0102b0d2-3882-4fa8-e454-561afd86a879"
      },
      "outputs": [
        {
          "output_type": "execute_result",
          "data": {
            "text/plain": [
              "array([0.93829114, 0.09448819, 0.90285714, 0.55555556])"
            ]
          },
          "metadata": {},
          "execution_count": 46
        }
      ],
      "source": [
        "from sklearn.metrics import confusion_matrix\n",
        "matrix = confusion_matrix(y_test_dt, preds_student_model_fin)\n",
        "matrix.diagonal()/matrix.sum(axis=1)"
      ]
    },
    {
      "cell_type": "code",
      "execution_count": null,
      "metadata": {
        "id": "Mqwkhe0KjQ4g"
      },
      "outputs": [],
      "source": [
        "preds_student_model = student_model.predict(x_test_dt_rshp)"
      ]
    },
    {
      "cell_type": "code",
      "execution_count": null,
      "metadata": {
        "id": "qif0ljABsle7"
      },
      "outputs": [],
      "source": [
        "#50 epochs teacher"
      ]
    },
    {
      "cell_type": "code",
      "execution_count": null,
      "metadata": {
        "colab": {
          "base_uri": "https://localhost:8080/"
        },
        "id": "_ulWwUrMspG8",
        "outputId": "3c2883e5-f174-4453-bea0-2defa22aceed"
      },
      "outputs": [
        {
          "output_type": "stream",
          "name": "stdout",
          "text": [
            "Model: \"model\"\n",
            "__________________________________________________________________________________________________\n",
            " Layer (type)                   Output Shape         Param #     Connected to                     \n",
            "==================================================================================================\n",
            " inLayer (InputLayer)           [(None, 3000, 1)]    0           []                               \n",
            "                                                                                                  \n",
            " fConv1 (Conv1D)                (None, 500, 64)      3264        ['inLayer[0][0]']                \n",
            "                                                                                                  \n",
            " cConv1 (Conv1D)                (None, 60, 32)       12832       ['inLayer[0][0]']                \n",
            "                                                                                                  \n",
            " fMaxP1 (MaxPooling1D)          (None, 62, 64)       0           ['fConv1[0][0]']                 \n",
            "                                                                                                  \n",
            " cMaxP1 (MaxPooling1D)          (None, 15, 32)       0           ['cConv1[0][0]']                 \n",
            "                                                                                                  \n",
            " fDrop1 (Dropout)               (None, 62, 64)       0           ['fMaxP1[0][0]']                 \n",
            "                                                                                                  \n",
            " cDrop1 (Dropout)               (None, 15, 32)       0           ['cMaxP1[0][0]']                 \n",
            "                                                                                                  \n",
            " fConv2 (Conv1D)                (None, 62, 128)      65664       ['fDrop1[0][0]']                 \n",
            "                                                                                                  \n",
            " cConv2 (Conv1D)                (None, 15, 128)      24704       ['cDrop1[0][0]']                 \n",
            "                                                                                                  \n",
            " fConv3 (Conv1D)                (None, 62, 128)      131200      ['fConv2[0][0]']                 \n",
            "                                                                                                  \n",
            " cConv3 (Conv1D)                (None, 15, 128)      98432       ['cConv2[0][0]']                 \n",
            "                                                                                                  \n",
            " fConv4 (Conv1D)                (None, 62, 128)      131200      ['fConv3[0][0]']                 \n",
            "                                                                                                  \n",
            " cConv4 (Conv1D)                (None, 15, 128)      98432       ['cConv3[0][0]']                 \n",
            "                                                                                                  \n",
            " fMaxP2 (MaxPooling1D)          (None, 15, 128)      0           ['fConv4[0][0]']                 \n",
            "                                                                                                  \n",
            " cMaxP2 (MaxPooling1D)          (None, 7, 128)       0           ['cConv4[0][0]']                 \n",
            "                                                                                                  \n",
            " fFlat1 (Flatten)               (None, 1920)         0           ['fMaxP2[0][0]']                 \n",
            "                                                                                                  \n",
            " cFlat1 (Flatten)               (None, 896)          0           ['cMaxP2[0][0]']                 \n",
            "                                                                                                  \n",
            " merge_1 (Concatenate)          (None, 2816)         0           ['fFlat1[0][0]',                 \n",
            "                                                                  'cFlat1[0][0]']                 \n",
            "                                                                                                  \n",
            " mDrop1 (Dropout)               (None, 2816)         0           ['merge_1[0][0]']                \n",
            "                                                                                                  \n",
            " reshape1 (Reshape)             (None, 1, 2816)      0           ['mDrop1[0][0]']                 \n",
            "                                                                                                  \n",
            " lstm (LSTM)                    (None, 1, 64)        737536      ['reshape1[0][0]']               \n",
            "                                                                                                  \n",
            " lstm_1 (LSTM)                  (None, 64)           33024       ['lstm[0][0]']                   \n",
            "                                                                                                  \n",
            " outLayer (Dense)               (None, 5)            325         ['lstm_1[0][0]']                 \n",
            "                                                                                                  \n",
            "==================================================================================================\n",
            "Total params: 1,336,613\n",
            "Trainable params: 1,336,613\n",
            "Non-trainable params: 0\n",
            "__________________________________________________________________________________________________\n"
          ]
        }
      ],
      "source": [
        "teacher_model=model_b(verbose=VBS) #50 epochs teacher model"
      ]
    },
    {
      "cell_type": "code",
      "execution_count": null,
      "metadata": {
        "colab": {
          "base_uri": "https://localhost:8080/"
        },
        "id": "x62kMm9XspJU",
        "outputId": "f9b87c0b-2882-418f-e256-bbe677119303"
      },
      "outputs": [
        {
          "output_type": "execute_result",
          "data": {
            "text/plain": [
              "<tensorflow.python.training.tracking.util.CheckpointLoadStatus at 0x7f9e3fbea450>"
            ]
          },
          "metadata": {},
          "execution_count": 29
        }
      ],
      "source": [
        "teacher_checkpt_path=\"/content/gdrive/My Drive/physionet/ensemble/tri_training/50_epochs_keras_way/teacher_50_epochs_wts_trial_3.ckpt\"\n",
        "teacher_model.load_weights(teacher_checkpt_path)"
      ]
    },
    {
      "cell_type": "code",
      "execution_count": null,
      "metadata": {
        "id": "_HUOpiiWspLg"
      },
      "outputs": [],
      "source": [
        "from keras.layers import Input, Dense, LSTM, MaxPooling1D, Conv1D\n",
        "from keras.models import Model"
      ]
    },
    {
      "cell_type": "code",
      "execution_count": null,
      "metadata": {
        "id": "_sdn_QwfspOH"
      },
      "outputs": [],
      "source": [
        "teacher_model.compile(optimizer=optimizer, loss='categorical_crossentropy', metrics=['accuracy'])"
      ]
    },
    {
      "cell_type": "code",
      "execution_count": null,
      "metadata": {
        "colab": {
          "base_uri": "https://localhost:8080/"
        },
        "id": "N_eyZFDSslhW",
        "outputId": "cdc8cce6-09fd-4544-8661-23c842e1755d"
      },
      "outputs": [
        {
          "output_type": "stream",
          "name": "stdout",
          "text": [
            "32/32 [==============================] - 11s 6ms/step - loss: 1.2691 - accuracy: 0.7914\n"
          ]
        }
      ],
      "source": [
        "accuracy_teacher_model = teacher_model.evaluate(x_test_dt_rshp, y_test_dt_)"
      ]
    },
    {
      "cell_type": "code",
      "execution_count": null,
      "metadata": {
        "id": "B5HOC6xFsljk"
      },
      "outputs": [],
      "source": [
        "preds_teacher_model = teacher_model.predict(x_test_dt_rshp)"
      ]
    },
    {
      "cell_type": "code",
      "execution_count": null,
      "metadata": {
        "id": "mlIyj0f8sll-"
      },
      "outputs": [],
      "source": [
        "preds_teacher_model_fin=np.argmax(preds_teacher_model,axis=1)"
      ]
    },
    {
      "cell_type": "code",
      "execution_count": null,
      "metadata": {
        "colab": {
          "base_uri": "https://localhost:8080/"
        },
        "id": "Q81k0XT-s8Yj",
        "outputId": "b4b5d666-80ee-48b3-9f7b-8affec2fe588"
      },
      "outputs": [
        {
          "output_type": "execute_result",
          "data": {
            "text/plain": [
              "array([0.92088608, 0.14173228, 0.88      , 0.55555556])"
            ]
          },
          "metadata": {},
          "execution_count": 35
        }
      ],
      "source": [
        "from sklearn.metrics import confusion_matrix\n",
        "matrix_teacher = confusion_matrix(y_test_dt, preds_teacher_model_fin)\n",
        "matrix_teacher.diagonal()/matrix_teacher.sum(axis=1)"
      ]
    },
    {
      "cell_type": "code",
      "execution_count": null,
      "metadata": {
        "colab": {
          "base_uri": "https://localhost:8080/"
        },
        "id": "LPT4YCPYs8az",
        "outputId": "a472da19-7672-4b22-ea9c-c4ff4c00854c"
      },
      "outputs": [
        {
          "output_type": "stream",
          "name": "stdout",
          "text": [
            "              precision    recall  f1-score   support\n",
            "\n",
            "           0   0.973244  0.920886  0.946341       632\n",
            "           1   0.352941  0.141732  0.202247       127\n",
            "           2   0.706422  0.880000  0.783715       175\n",
            "           4   0.269231  0.555556  0.362694        63\n",
            "\n",
            "    accuracy                       0.791374       997\n",
            "   macro avg   0.575460  0.624543  0.573749       997\n",
            "weighted avg   0.802908  0.791374  0.786131       997\n",
            "\n"
          ]
        }
      ],
      "source": [
        "print(classification_report(y_test_dt, preds_teacher_model_fin, digits=6))"
      ]
    },
    {
      "cell_type": "code",
      "execution_count": null,
      "metadata": {
        "id": "zl31BY8AtC_i"
      },
      "outputs": [],
      "source": [
        "#student model\n",
        "def get_model_1d_cnn():\n",
        "    nclass = 5\n",
        "    inp = Input(shape=(3000, 1))\n",
        "    img_1 = Conv1D(4, kernel_size=6, activation=activations.relu, strides=1, padding=\"valid\")(inp)\n",
        "    #img_1 = Conv1D(128, kernel_size=5, activation=activations.relu, strides=1, padding=\"valid\")(img_1)\n",
        "    img_1 = MaxPooling1D(pool_size=2)(img_1)\n",
        "    #img_1 = SpatialDropout1D(rate=0.2)(img_1)\n",
        "    img_1 = Conv1D(4, kernel_size=5, activation=activations.relu, strides=1, padding=\"valid\")(img_1)\n",
        "    #img_1 = Conv1D(256, kernel_size=7, activation=activations.relu, strides=1, padding=\"valid\")(img_1)\n",
        "    img_1 = MaxPooling1D(pool_size=2)(img_1)\n",
        "    #img_1 = SpatialDropout1D(rate=0.01)(img_1)\n",
        "    img_1 = Conv1D(10, kernel_size=4, activation=activations.relu, strides=1, padding=\"valid\")(img_1)\n",
        "    #img_1 = Conv1D(64, kernel_size=4, activation=activations.relu, strides=1, padding=\"valid\")(img_1)\n",
        "    img_1 = MaxPooling1D(pool_size=2)(img_1)\n",
        "    #img_1 = SpatialDropout1D(rate=0.01)(img_1)\n",
        "    img_1 = Conv1D(10, kernel_size=4, activation=activations.relu, strides=1, padding=\"valid\")(img_1)\n",
        "    img_1 = MaxPooling1D(pool_size=2)(img_1)\n",
        "    #img_1 = Conv1D(64, kernel_size=6, activation=activations.relu, strides=1, padding=\"valid\")(img_1)\n",
        "    #img_1 = MaxPooling1D(pool_size=2)(img_1)\n",
        "    img_1 = Flatten()(img_1)\n",
        "\n",
        "    \n",
        "    dense_1 = Dropout(rate=0.5)(img_1)\n",
        "    #dense_1 = Dropout(rate=0.05)(Dense(64, activation=activations.relu, name=\"dense_2\")(dense_1))\n",
        "    dense_1 = Dense(nclass, activation=activations.softmax)(dense_1)\n",
        "\n",
        "    model = Model(inputs=inp, outputs=dense_1)\n",
        "    opt = Adam(0.001)\n",
        "\n",
        "    model.compile(optimizer=opt, loss='categorical_crossentropy', metrics=['acc'])\n",
        "    model.summary()\n",
        "    return model"
      ]
    },
    {
      "cell_type": "code",
      "execution_count": null,
      "metadata": {
        "colab": {
          "base_uri": "https://localhost:8080/"
        },
        "id": "XZlCwdastDDt",
        "outputId": "663adc3b-7296-4126-8fc7-99ae1bf4796e"
      },
      "outputs": [
        {
          "output_type": "stream",
          "name": "stdout",
          "text": [
            "Model: \"model_1\"\n",
            "_________________________________________________________________\n",
            " Layer (type)                Output Shape              Param #   \n",
            "=================================================================\n",
            " input_1 (InputLayer)        [(None, 3000, 1)]         0         \n",
            "                                                                 \n",
            " conv1d (Conv1D)             (None, 2995, 4)           28        \n",
            "                                                                 \n",
            " max_pooling1d (MaxPooling1D  (None, 1497, 4)          0         \n",
            " )                                                               \n",
            "                                                                 \n",
            " conv1d_1 (Conv1D)           (None, 1493, 4)           84        \n",
            "                                                                 \n",
            " max_pooling1d_1 (MaxPooling  (None, 746, 4)           0         \n",
            " 1D)                                                             \n",
            "                                                                 \n",
            " conv1d_2 (Conv1D)           (None, 743, 10)           170       \n",
            "                                                                 \n",
            " max_pooling1d_2 (MaxPooling  (None, 371, 10)          0         \n",
            " 1D)                                                             \n",
            "                                                                 \n",
            " conv1d_3 (Conv1D)           (None, 368, 10)           410       \n",
            "                                                                 \n",
            " max_pooling1d_3 (MaxPooling  (None, 184, 10)          0         \n",
            " 1D)                                                             \n",
            "                                                                 \n",
            " flatten (Flatten)           (None, 1840)              0         \n",
            "                                                                 \n",
            " dropout (Dropout)           (None, 1840)              0         \n",
            "                                                                 \n",
            " dense (Dense)               (None, 5)                 9205      \n",
            "                                                                 \n",
            "=================================================================\n",
            "Total params: 9,897\n",
            "Trainable params: 9,897\n",
            "Non-trainable params: 0\n",
            "_________________________________________________________________\n"
          ]
        }
      ],
      "source": [
        "#student_model=get_model_cnn()\n",
        "student_model=get_model_1d_cnn()"
      ]
    },
    {
      "cell_type": "code",
      "execution_count": null,
      "metadata": {
        "colab": {
          "base_uri": "https://localhost:8080/"
        },
        "id": "as0rHhlxtDGG",
        "outputId": "efaf26fe-ade2-43e7-fffe-08370bb05080"
      },
      "outputs": [
        {
          "output_type": "stream",
          "name": "stdout",
          "text": [
            "Model: \"model_2\"\n",
            "_________________________________________________________________\n",
            " Layer (type)                Output Shape              Param #   \n",
            "=================================================================\n",
            " input_2 (InputLayer)        [(None, 3000, 1)]         0         \n",
            "                                                                 \n",
            " conv1d_4 (Conv1D)           (None, 2995, 4)           28        \n",
            "                                                                 \n",
            " max_pooling1d_4 (MaxPooling  (None, 1497, 4)          0         \n",
            " 1D)                                                             \n",
            "                                                                 \n",
            " conv1d_5 (Conv1D)           (None, 1493, 4)           84        \n",
            "                                                                 \n",
            " max_pooling1d_5 (MaxPooling  (None, 746, 4)           0         \n",
            " 1D)                                                             \n",
            "                                                                 \n",
            " conv1d_6 (Conv1D)           (None, 743, 10)           170       \n",
            "                                                                 \n",
            " max_pooling1d_6 (MaxPooling  (None, 371, 10)          0         \n",
            " 1D)                                                             \n",
            "                                                                 \n",
            " conv1d_7 (Conv1D)           (None, 368, 10)           410       \n",
            "                                                                 \n",
            " max_pooling1d_7 (MaxPooling  (None, 184, 10)          0         \n",
            " 1D)                                                             \n",
            "                                                                 \n",
            " flatten_1 (Flatten)         (None, 1840)              0         \n",
            "                                                                 \n",
            " dropout_1 (Dropout)         (None, 1840)              0         \n",
            "                                                                 \n",
            " dense_1 (Dense)             (None, 5)                 9205      \n",
            "                                                                 \n",
            "=================================================================\n",
            "Total params: 9,897\n",
            "Trainable params: 9,897\n",
            "Non-trainable params: 0\n",
            "_________________________________________________________________\n"
          ]
        }
      ],
      "source": [
        "#student_model=get_model_cnn()\n",
        "student_model=get_model_1d_cnn()"
      ]
    },
    {
      "cell_type": "code",
      "execution_count": null,
      "metadata": {
        "id": "wbYThMTDtDJA"
      },
      "outputs": [],
      "source": [
        "class Distiller(keras.Model):\n",
        "    def __init__(self, student, teacher):\n",
        "        super(Distiller, self).__init__()\n",
        "        self.teacher = teacher\n",
        "        self.student = student\n",
        "\n",
        "    def compile(\n",
        "        self,\n",
        "        optimizer,\n",
        "        metrics,\n",
        "        student_loss_fn,\n",
        "        distillation_loss_fn,\n",
        "        alpha=0.1,\n",
        "        temperature=3,\n",
        "    ):\n",
        "        \"\"\" Configure the distiller.\n",
        "\n",
        "        Args:\n",
        "            optimizer: Keras optimizer for the student weights\n",
        "            metrics: Keras metrics for evaluation\n",
        "            student_loss_fn: Loss function of difference between student\n",
        "                predictions and ground-truth\n",
        "            distillation_loss_fn: Loss function of difference between soft\n",
        "                student predictions and soft teacher predictions\n",
        "            alpha: weight to student_loss_fn and 1-alpha to distillation_loss_fn\n",
        "            temperature: Temperature for softening probability distributions.\n",
        "                Larger temperature gives softer distributions.\n",
        "        \"\"\"\n",
        "        super(Distiller, self).compile(optimizer=optimizer, metrics=metrics)\n",
        "        self.student_loss_fn = student_loss_fn\n",
        "        self.distillation_loss_fn = distillation_loss_fn\n",
        "        self.alpha = alpha\n",
        "        self.temperature = temperature\n",
        "\n",
        "    def train_step(self, data):\n",
        "        # Unpack data\n",
        "        x, y = data\n",
        "\n",
        "        # Forward pass of teacher\n",
        "        teacher_predictions = self.teacher(x, training=False)\n",
        "\n",
        "        with tf.GradientTape() as tape:\n",
        "            # Forward pass of student\n",
        "            student_predictions = self.student(x, training=True)\n",
        "\n",
        "            # Compute losses\n",
        "            student_loss = self.student_loss_fn(y, student_predictions)\n",
        "            distillation_loss = self.distillation_loss_fn(\n",
        "                tf.nn.softmax(teacher_predictions / self.temperature, axis=1),\n",
        "                tf.nn.softmax(student_predictions / self.temperature, axis=1),\n",
        "            )\n",
        "            loss = self.alpha * student_loss + (1 - self.alpha) * distillation_loss\n",
        "\n",
        "        # Compute gradients\n",
        "        trainable_vars = self.student.trainable_variables\n",
        "        gradients = tape.gradient(loss, trainable_vars)\n",
        "\n",
        "        # Update weights\n",
        "        self.optimizer.apply_gradients(zip(gradients, trainable_vars))\n",
        "\n",
        "        # Update the metrics configured in `compile()`.\n",
        "        self.compiled_metrics.update_state(y, student_predictions)\n",
        "\n",
        "        # Return a dict of performance\n",
        "        results = {m.name: m.result() for m in self.metrics}\n",
        "        results.update(\n",
        "            {\"student_loss\": student_loss, \"distillation_loss\": distillation_loss}\n",
        "        )\n",
        "        return results\n",
        "\n",
        "    def test_step(self, data):\n",
        "        # Unpack the data\n",
        "        x, y = data\n",
        "\n",
        "        # Compute predictions\n",
        "        y_prediction = self.student(x, training=False)\n",
        "\n",
        "        # Calculate the loss\n",
        "        student_loss = self.student_loss_fn(y, y_prediction)\n",
        "\n",
        "        # Update the metrics.\n",
        "        self.compiled_metrics.update_state(y, y_prediction)\n",
        "\n",
        "        # Return a dict of performance\n",
        "        results = {m.name: m.result() for m in self.metrics}\n",
        "        results.update({\"student_loss\": student_loss})\n",
        "        return results\n"
      ]
    },
    {
      "cell_type": "code",
      "execution_count": null,
      "metadata": {
        "colab": {
          "base_uri": "https://localhost:8080/"
        },
        "id": "pcgxJopBs8dJ",
        "outputId": "e8ba5742-bd47-4a46-c975-46143ceec606"
      },
      "outputs": [
        {
          "output_type": "stream",
          "name": "stdout",
          "text": [
            "Model: \"model_3\"\n",
            "_________________________________________________________________\n",
            " Layer (type)                Output Shape              Param #   \n",
            "=================================================================\n",
            " input_3 (InputLayer)        [(None, 3000, 1)]         0         \n",
            "                                                                 \n",
            " conv1d_8 (Conv1D)           (None, 2995, 4)           28        \n",
            "                                                                 \n",
            " max_pooling1d_8 (MaxPooling  (None, 1497, 4)          0         \n",
            " 1D)                                                             \n",
            "                                                                 \n",
            " conv1d_9 (Conv1D)           (None, 1493, 4)           84        \n",
            "                                                                 \n",
            " max_pooling1d_9 (MaxPooling  (None, 746, 4)           0         \n",
            " 1D)                                                             \n",
            "                                                                 \n",
            " conv1d_10 (Conv1D)          (None, 743, 10)           170       \n",
            "                                                                 \n",
            " max_pooling1d_10 (MaxPoolin  (None, 371, 10)          0         \n",
            " g1D)                                                            \n",
            "                                                                 \n",
            " conv1d_11 (Conv1D)          (None, 368, 10)           410       \n",
            "                                                                 \n",
            " max_pooling1d_11 (MaxPoolin  (None, 184, 10)          0         \n",
            " g1D)                                                            \n",
            "                                                                 \n",
            " flatten_2 (Flatten)         (None, 1840)              0         \n",
            "                                                                 \n",
            " dropout_2 (Dropout)         (None, 1840)              0         \n",
            "                                                                 \n",
            " dense_2 (Dense)             (None, 5)                 9205      \n",
            "                                                                 \n",
            "=================================================================\n",
            "Total params: 9,897\n",
            "Trainable params: 9,897\n",
            "Non-trainable params: 0\n",
            "_________________________________________________________________\n"
          ]
        }
      ],
      "source": [
        "#student_model=get_model_cnn()\n",
        "student_model=get_model_1d_cnn()"
      ]
    },
    {
      "cell_type": "code",
      "execution_count": null,
      "metadata": {
        "id": "sSjX4cYQtRiv"
      },
      "outputs": [],
      "source": [
        "class Distiller(keras.Model):\n",
        "    def __init__(self, student, teacher):\n",
        "        super(Distiller, self).__init__()\n",
        "        self.teacher = teacher\n",
        "        self.student = student\n",
        "\n",
        "    def compile(\n",
        "        self,\n",
        "        optimizer,\n",
        "        metrics,\n",
        "        student_loss_fn,\n",
        "        distillation_loss_fn,\n",
        "        alpha=0.1,\n",
        "        temperature=3,\n",
        "    ):\n",
        "        \"\"\" Configure the distiller.\n",
        "\n",
        "        Args:\n",
        "            optimizer: Keras optimizer for the student weights\n",
        "            metrics: Keras metrics for evaluation\n",
        "            student_loss_fn: Loss function of difference between student\n",
        "                predictions and ground-truth\n",
        "            distillation_loss_fn: Loss function of difference between soft\n",
        "                student predictions and soft teacher predictions\n",
        "            alpha: weight to student_loss_fn and 1-alpha to distillation_loss_fn\n",
        "            temperature: Temperature for softening probability distributions.\n",
        "                Larger temperature gives softer distributions.\n",
        "        \"\"\"\n",
        "        super(Distiller, self).compile(optimizer=optimizer, metrics=metrics)\n",
        "        self.student_loss_fn = student_loss_fn\n",
        "        self.distillation_loss_fn = distillation_loss_fn\n",
        "        self.alpha = alpha\n",
        "        self.temperature = temperature\n",
        "\n",
        "    def train_step(self, data):\n",
        "        # Unpack data\n",
        "        x, y = data\n",
        "\n",
        "        # Forward pass of teacher\n",
        "        teacher_predictions = self.teacher(x, training=False)\n",
        "\n",
        "        with tf.GradientTape() as tape:\n",
        "            # Forward pass of student\n",
        "            student_predictions = self.student(x, training=True)\n",
        "\n",
        "            # Compute losses\n",
        "            student_loss = self.student_loss_fn(y, student_predictions)\n",
        "            distillation_loss = self.distillation_loss_fn(\n",
        "                tf.nn.softmax(teacher_predictions / self.temperature, axis=1),\n",
        "                tf.nn.softmax(student_predictions / self.temperature, axis=1),\n",
        "            )\n",
        "            loss = self.alpha * student_loss + (1 - self.alpha) * distillation_loss\n",
        "\n",
        "        # Compute gradients\n",
        "        trainable_vars = self.student.trainable_variables\n",
        "        gradients = tape.gradient(loss, trainable_vars)\n",
        "\n",
        "        # Update weights\n",
        "        self.optimizer.apply_gradients(zip(gradients, trainable_vars))\n",
        "\n",
        "        # Update the metrics configured in `compile()`.\n",
        "        self.compiled_metrics.update_state(y, student_predictions)\n",
        "\n",
        "        # Return a dict of performance\n",
        "        results = {m.name: m.result() for m in self.metrics}\n",
        "        results.update(\n",
        "            {\"student_loss\": student_loss, \"distillation_loss\": distillation_loss}\n",
        "        )\n",
        "        return results\n",
        "\n",
        "    def test_step(self, data):\n",
        "        # Unpack the data\n",
        "        x, y = data\n",
        "\n",
        "        # Compute predictions\n",
        "        y_prediction = self.student(x, training=False)\n",
        "\n",
        "        # Calculate the loss\n",
        "        student_loss = self.student_loss_fn(y, y_prediction)\n",
        "\n",
        "        # Update the metrics.\n",
        "        self.compiled_metrics.update_state(y, y_prediction)\n",
        "\n",
        "        # Return a dict of performance\n",
        "        results = {m.name: m.result() for m in self.metrics}\n",
        "        results.update({\"student_loss\": student_loss})\n",
        "        return results\n"
      ]
    },
    {
      "cell_type": "code",
      "execution_count": null,
      "metadata": {
        "id": "mT3luyshtRlN"
      },
      "outputs": [],
      "source": [
        "import tensorflow as tf\n",
        "from tensorflow import keras\n",
        "from tensorflow.keras import layers\n",
        "import numpy as np\n"
      ]
    },
    {
      "cell_type": "code",
      "execution_count": null,
      "metadata": {
        "colab": {
          "base_uri": "https://localhost:8080/"
        },
        "id": "F0TJcDFRtRoF",
        "outputId": "7f26f81c-5028-44c5-f9ba-08cfdb393b14"
      },
      "outputs": [
        {
          "output_type": "stream",
          "name": "stdout",
          "text": [
            "Epoch 1/60\n",
            "3773/3773 [==============================] - 27s 6ms/step - categorical_accuracy: 0.7058 - student_loss: 0.7334 - distillation_loss: 0.0015\n",
            "Epoch 2/60\n",
            "3773/3773 [==============================] - 23s 6ms/step - categorical_accuracy: 0.7773 - student_loss: 0.5406 - distillation_loss: 0.0012\n",
            "Epoch 3/60\n",
            "3773/3773 [==============================] - 22s 6ms/step - categorical_accuracy: 0.7912 - student_loss: 0.5074 - distillation_loss: 0.0011\n",
            "Epoch 4/60\n",
            "3773/3773 [==============================] - 22s 6ms/step - categorical_accuracy: 0.8020 - student_loss: 0.4833 - distillation_loss: 0.0010\n",
            "Epoch 5/60\n",
            "3773/3773 [==============================] - 22s 6ms/step - categorical_accuracy: 0.8142 - student_loss: 0.4604 - distillation_loss: 9.8578e-04\n",
            "Epoch 6/60\n",
            "3773/3773 [==============================] - 22s 6ms/step - categorical_accuracy: 0.8218 - student_loss: 0.4406 - distillation_loss: 9.4275e-04\n",
            "Epoch 7/60\n",
            "3773/3773 [==============================] - 22s 6ms/step - categorical_accuracy: 0.8295 - student_loss: 0.4255 - distillation_loss: 9.0284e-04\n",
            "Epoch 8/60\n",
            "3773/3773 [==============================] - 22s 6ms/step - categorical_accuracy: 0.8370 - student_loss: 0.4123 - distillation_loss: 8.7054e-04\n",
            "Epoch 9/60\n",
            "3773/3773 [==============================] - 22s 6ms/step - categorical_accuracy: 0.8402 - student_loss: 0.4019 - distillation_loss: 8.4702e-04\n",
            "Epoch 10/60\n",
            "3773/3773 [==============================] - 22s 6ms/step - categorical_accuracy: 0.8449 - student_loss: 0.3914 - distillation_loss: 8.2300e-04\n",
            "Epoch 11/60\n",
            "3773/3773 [==============================] - 22s 6ms/step - categorical_accuracy: 0.8477 - student_loss: 0.3851 - distillation_loss: 8.0629e-04\n",
            "Epoch 12/60\n",
            "3773/3773 [==============================] - 22s 6ms/step - categorical_accuracy: 0.8516 - student_loss: 0.3790 - distillation_loss: 7.8882e-04\n",
            "Epoch 13/60\n",
            "3773/3773 [==============================] - 22s 6ms/step - categorical_accuracy: 0.8531 - student_loss: 0.3717 - distillation_loss: 7.7926e-04\n",
            "Epoch 14/60\n",
            "3773/3773 [==============================] - 22s 6ms/step - categorical_accuracy: 0.8567 - student_loss: 0.3646 - distillation_loss: 7.6404e-04\n",
            "Epoch 15/60\n",
            "3773/3773 [==============================] - 22s 6ms/step - categorical_accuracy: 0.8572 - student_loss: 0.3636 - distillation_loss: 7.5907e-04\n",
            "Epoch 16/60\n",
            "3773/3773 [==============================] - 22s 6ms/step - categorical_accuracy: 0.8587 - student_loss: 0.3606 - distillation_loss: 7.5166e-04\n",
            "Epoch 17/60\n",
            "3773/3773 [==============================] - 22s 6ms/step - categorical_accuracy: 0.8608 - student_loss: 0.3543 - distillation_loss: 7.3793e-04\n",
            "Epoch 18/60\n",
            "3773/3773 [==============================] - 22s 6ms/step - categorical_accuracy: 0.8615 - student_loss: 0.3516 - distillation_loss: 7.3521e-04\n",
            "Epoch 19/60\n",
            "3773/3773 [==============================] - 22s 6ms/step - categorical_accuracy: 0.8621 - student_loss: 0.3519 - distillation_loss: 7.3429e-04\n",
            "Epoch 20/60\n",
            "3773/3773 [==============================] - 22s 6ms/step - categorical_accuracy: 0.8648 - student_loss: 0.3459 - distillation_loss: 7.2284e-04\n",
            "Epoch 21/60\n",
            "3773/3773 [==============================] - 22s 6ms/step - categorical_accuracy: 0.8635 - student_loss: 0.3456 - distillation_loss: 7.2223e-04\n",
            "Epoch 22/60\n",
            "3773/3773 [==============================] - 22s 6ms/step - categorical_accuracy: 0.8649 - student_loss: 0.3442 - distillation_loss: 7.1756e-04\n",
            "Epoch 23/60\n",
            "3773/3773 [==============================] - 22s 6ms/step - categorical_accuracy: 0.8660 - student_loss: 0.3418 - distillation_loss: 7.1267e-04\n",
            "Epoch 24/60\n",
            "3773/3773 [==============================] - 22s 6ms/step - categorical_accuracy: 0.8664 - student_loss: 0.3409 - distillation_loss: 7.1052e-04\n",
            "Epoch 25/60\n",
            "3773/3773 [==============================] - 22s 6ms/step - categorical_accuracy: 0.8676 - student_loss: 0.3390 - distillation_loss: 7.0776e-04\n",
            "Epoch 26/60\n",
            "3773/3773 [==============================] - 22s 6ms/step - categorical_accuracy: 0.8661 - student_loss: 0.3403 - distillation_loss: 7.0993e-04\n",
            "Epoch 27/60\n",
            "3773/3773 [==============================] - 22s 6ms/step - categorical_accuracy: 0.8681 - student_loss: 0.3360 - distillation_loss: 7.0236e-04\n",
            "Epoch 28/60\n",
            "3773/3773 [==============================] - 22s 6ms/step - categorical_accuracy: 0.8686 - student_loss: 0.3347 - distillation_loss: 6.9879e-04\n",
            "Epoch 29/60\n",
            "3773/3773 [==============================] - 22s 6ms/step - categorical_accuracy: 0.8697 - student_loss: 0.3357 - distillation_loss: 6.9988e-04\n",
            "Epoch 30/60\n",
            "3773/3773 [==============================] - 22s 6ms/step - categorical_accuracy: 0.8688 - student_loss: 0.3328 - distillation_loss: 6.9482e-04\n",
            "Epoch 31/60\n",
            "3773/3773 [==============================] - 22s 6ms/step - categorical_accuracy: 0.8705 - student_loss: 0.3322 - distillation_loss: 6.9456e-04\n",
            "Epoch 32/60\n",
            "3773/3773 [==============================] - 22s 6ms/step - categorical_accuracy: 0.8697 - student_loss: 0.3312 - distillation_loss: 6.9323e-04\n",
            "Epoch 33/60\n",
            "3773/3773 [==============================] - 22s 6ms/step - categorical_accuracy: 0.8703 - student_loss: 0.3297 - distillation_loss: 6.8891e-04\n",
            "Epoch 34/60\n",
            "3773/3773 [==============================] - 22s 6ms/step - categorical_accuracy: 0.8703 - student_loss: 0.3295 - distillation_loss: 6.8643e-04\n",
            "Epoch 35/60\n",
            "3773/3773 [==============================] - 22s 6ms/step - categorical_accuracy: 0.8715 - student_loss: 0.3289 - distillation_loss: 6.8490e-04\n",
            "Epoch 36/60\n",
            "3773/3773 [==============================] - 22s 6ms/step - categorical_accuracy: 0.8722 - student_loss: 0.3267 - distillation_loss: 6.8212e-04\n",
            "Epoch 37/60\n",
            "3773/3773 [==============================] - 22s 6ms/step - categorical_accuracy: 0.8716 - student_loss: 0.3278 - distillation_loss: 6.8795e-04\n",
            "Epoch 38/60\n",
            "3773/3773 [==============================] - 22s 6ms/step - categorical_accuracy: 0.8716 - student_loss: 0.3253 - distillation_loss: 6.8097e-04\n",
            "Epoch 39/60\n",
            "3773/3773 [==============================] - 22s 6ms/step - categorical_accuracy: 0.8723 - student_loss: 0.3264 - distillation_loss: 6.8174e-04\n",
            "Epoch 40/60\n",
            "3773/3773 [==============================] - 22s 6ms/step - categorical_accuracy: 0.8705 - student_loss: 0.3261 - distillation_loss: 6.8404e-04\n",
            "Epoch 41/60\n",
            "3773/3773 [==============================] - 22s 6ms/step - categorical_accuracy: 0.8740 - student_loss: 0.3222 - distillation_loss: 6.7259e-04\n",
            "Epoch 42/60\n",
            "3773/3773 [==============================] - 22s 6ms/step - categorical_accuracy: 0.8723 - student_loss: 0.3245 - distillation_loss: 6.7571e-04\n",
            "Epoch 43/60\n",
            "3773/3773 [==============================] - 22s 6ms/step - categorical_accuracy: 0.8722 - student_loss: 0.3243 - distillation_loss: 6.7921e-04\n",
            "Epoch 44/60\n",
            "3773/3773 [==============================] - 22s 6ms/step - categorical_accuracy: 0.8726 - student_loss: 0.3241 - distillation_loss: 6.7655e-04\n",
            "Epoch 45/60\n",
            "3773/3773 [==============================] - 22s 6ms/step - categorical_accuracy: 0.8740 - student_loss: 0.3220 - distillation_loss: 6.7398e-04\n",
            "Epoch 46/60\n",
            "3773/3773 [==============================] - 22s 6ms/step - categorical_accuracy: 0.8728 - student_loss: 0.3212 - distillation_loss: 6.7482e-04\n",
            "Epoch 47/60\n",
            "3773/3773 [==============================] - 22s 6ms/step - categorical_accuracy: 0.8746 - student_loss: 0.3200 - distillation_loss: 6.6865e-04\n",
            "Epoch 48/60\n",
            "3773/3773 [==============================] - 22s 6ms/step - categorical_accuracy: 0.8729 - student_loss: 0.3219 - distillation_loss: 6.7499e-04\n",
            "Epoch 49/60\n",
            "3773/3773 [==============================] - 22s 6ms/step - categorical_accuracy: 0.8734 - student_loss: 0.3202 - distillation_loss: 6.7110e-04\n",
            "Epoch 50/60\n",
            "3773/3773 [==============================] - 22s 6ms/step - categorical_accuracy: 0.8733 - student_loss: 0.3194 - distillation_loss: 6.7192e-04\n",
            "Epoch 51/60\n",
            "3773/3773 [==============================] - 22s 6ms/step - categorical_accuracy: 0.8737 - student_loss: 0.3203 - distillation_loss: 6.7142e-04\n",
            "Epoch 52/60\n",
            "3773/3773 [==============================] - 22s 6ms/step - categorical_accuracy: 0.8741 - student_loss: 0.3182 - distillation_loss: 6.6849e-04\n",
            "Epoch 53/60\n",
            "3773/3773 [==============================] - 22s 6ms/step - categorical_accuracy: 0.8743 - student_loss: 0.3193 - distillation_loss: 6.6998e-04\n",
            "Epoch 54/60\n",
            "3773/3773 [==============================] - 22s 6ms/step - categorical_accuracy: 0.8735 - student_loss: 0.3201 - distillation_loss: 6.7148e-04\n",
            "Epoch 55/60\n",
            "3773/3773 [==============================] - 22s 6ms/step - categorical_accuracy: 0.8742 - student_loss: 0.3192 - distillation_loss: 6.6898e-04\n",
            "Epoch 56/60\n",
            "3773/3773 [==============================] - 22s 6ms/step - categorical_accuracy: 0.8742 - student_loss: 0.3189 - distillation_loss: 6.7022e-04\n",
            "Epoch 57/60\n",
            "3773/3773 [==============================] - 22s 6ms/step - categorical_accuracy: 0.8753 - student_loss: 0.3174 - distillation_loss: 6.6599e-04\n",
            "Epoch 58/60\n",
            "3773/3773 [==============================] - 22s 6ms/step - categorical_accuracy: 0.8754 - student_loss: 0.3180 - distillation_loss: 6.6367e-04\n",
            "Epoch 59/60\n",
            "3773/3773 [==============================] - 22s 6ms/step - categorical_accuracy: 0.8747 - student_loss: 0.3168 - distillation_loss: 6.6606e-04\n",
            "Epoch 60/60\n",
            "3773/3773 [==============================] - 22s 6ms/step - categorical_accuracy: 0.8744 - student_loss: 0.3172 - distillation_loss: 6.6663e-04\n"
          ]
        },
        {
          "output_type": "execute_result",
          "data": {
            "text/plain": [
              "<keras.callbacks.History at 0x7f9e3ad76d50>"
            ]
          },
          "metadata": {},
          "execution_count": 44
        }
      ],
      "source": [
        "# Initialize and compile distiller\n",
        "distiller = Distiller(student=student_model, teacher=teacher_model)\n",
        "distiller.compile(\n",
        "    optimizer=keras.optimizers.Adam(),\n",
        "    metrics=[keras.metrics.CategoricalAccuracy()],\n",
        "    student_loss_fn=keras.losses.CategoricalCrossentropy(from_logits=True),\n",
        "    distillation_loss_fn=keras.losses.KLDivergence(),\n",
        "    alpha=0.9,\n",
        "    temperature=5,\n",
        ")\n",
        "\n",
        "# Distill teacher to student\n",
        "distiller.fit(x_dt_rshp, y_dt_, epochs=60)\n",
        "\n",
        "# Evaluate student on test dataset\n",
        "#distiller.evaluate(x_test, y_test)"
      ]
    },
    {
      "cell_type": "code",
      "execution_count": null,
      "metadata": {
        "colab": {
          "base_uri": "https://localhost:8080/"
        },
        "id": "Ixi_mjTFtcvt",
        "outputId": "58d74906-7b6f-46bf-99ab-5db4d53a2574"
      },
      "outputs": [
        {
          "output_type": "stream",
          "name": "stdout",
          "text": [
            "32/32 [==============================] - 0s 3ms/step - categorical_accuracy: 0.7713 - student_loss: 1.2729\n"
          ]
        }
      ],
      "source": [
        "accuracy_distiller = distiller.evaluate(x_test_dt_rshp, y_test_dt_)"
      ]
    },
    {
      "cell_type": "code",
      "execution_count": null,
      "metadata": {
        "id": "glsndj49tcyJ"
      },
      "outputs": [],
      "source": [
        "preds_student_model = student_model.predict(x_test_dt_rshp)"
      ]
    },
    {
      "cell_type": "code",
      "execution_count": null,
      "metadata": {
        "id": "DYbYwVbCtc0k"
      },
      "outputs": [],
      "source": [
        "preds_student_model_fin=np.argmax(preds_student_model,axis=1)"
      ]
    },
    {
      "cell_type": "code",
      "execution_count": null,
      "metadata": {
        "colab": {
          "base_uri": "https://localhost:8080/"
        },
        "id": "4N-mLPWMtrSi",
        "outputId": "7e7802e6-e6c2-49bf-9214-32182fb98193"
      },
      "outputs": [
        {
          "output_type": "stream",
          "name": "stdout",
          "text": [
            "              precision    recall  f1-score   support\n",
            "\n",
            "           0   0.969543  0.906646  0.937040       632\n",
            "           1   0.178571  0.039370  0.064516       127\n",
            "           2   0.660714  0.845714  0.741855       175\n",
            "           4   0.279221  0.682540  0.396313        63\n",
            "\n",
            "    accuracy                       0.771314       997\n",
            "   macro avg   0.522012  0.618567  0.534931       997\n",
            "weighted avg   0.770959  0.771314  0.757468       997\n",
            "\n"
          ]
        }
      ],
      "source": [
        "print(classification_report(y_test_dt, preds_student_model_fin, digits=6))"
      ]
    },
    {
      "cell_type": "code",
      "execution_count": null,
      "metadata": {
        "colab": {
          "base_uri": "https://localhost:8080/"
        },
        "id": "V6sUAgE1trZN",
        "outputId": "95c9a9b2-20e1-40fe-c91c-dcc2d98151f8"
      },
      "outputs": [
        {
          "output_type": "execute_result",
          "data": {
            "text/plain": [
              "array([0.90664557, 0.03937008, 0.84571429, 0.68253968])"
            ]
          },
          "metadata": {},
          "execution_count": 49
        }
      ],
      "source": [
        "from sklearn.metrics import confusion_matrix\n",
        "matrix = confusion_matrix(y_test_dt, preds_student_model_fin)\n",
        "matrix.diagonal()/matrix.sum(axis=1)"
      ]
    },
    {
      "cell_type": "code",
      "execution_count": null,
      "metadata": {
        "id": "2t_yoUpVsloe"
      },
      "outputs": [],
      "source": [
        ""
      ]
    },
    {
      "cell_type": "code",
      "execution_count": null,
      "metadata": {
        "id": "O_E1J_UujwXz"
      },
      "outputs": [],
      "source": [
        "#60 epochs teacher"
      ]
    },
    {
      "cell_type": "code",
      "execution_count": null,
      "metadata": {
        "colab": {
          "base_uri": "https://localhost:8080/"
        },
        "id": "_ySEY_3H97av",
        "outputId": "84b795ee-9be9-4b84-94c2-ba89777a3050"
      },
      "outputs": [
        {
          "output_type": "stream",
          "name": "stdout",
          "text": [
            "Model: \"model_1\"\n",
            "__________________________________________________________________________________________________\n",
            " Layer (type)                   Output Shape         Param #     Connected to                     \n",
            "==================================================================================================\n",
            " inLayer (InputLayer)           [(None, 3000, 1)]    0           []                               \n",
            "                                                                                                  \n",
            " fConv1 (Conv1D)                (None, 500, 64)      3264        ['inLayer[0][0]']                \n",
            "                                                                                                  \n",
            " cConv1 (Conv1D)                (None, 60, 32)       12832       ['inLayer[0][0]']                \n",
            "                                                                                                  \n",
            " fMaxP1 (MaxPooling1D)          (None, 62, 64)       0           ['fConv1[0][0]']                 \n",
            "                                                                                                  \n",
            " cMaxP1 (MaxPooling1D)          (None, 15, 32)       0           ['cConv1[0][0]']                 \n",
            "                                                                                                  \n",
            " fDrop1 (Dropout)               (None, 62, 64)       0           ['fMaxP1[0][0]']                 \n",
            "                                                                                                  \n",
            " cDrop1 (Dropout)               (None, 15, 32)       0           ['cMaxP1[0][0]']                 \n",
            "                                                                                                  \n",
            " fConv2 (Conv1D)                (None, 62, 128)      65664       ['fDrop1[0][0]']                 \n",
            "                                                                                                  \n",
            " cConv2 (Conv1D)                (None, 15, 128)      24704       ['cDrop1[0][0]']                 \n",
            "                                                                                                  \n",
            " fConv3 (Conv1D)                (None, 62, 128)      131200      ['fConv2[0][0]']                 \n",
            "                                                                                                  \n",
            " cConv3 (Conv1D)                (None, 15, 128)      98432       ['cConv2[0][0]']                 \n",
            "                                                                                                  \n",
            " fConv4 (Conv1D)                (None, 62, 128)      131200      ['fConv3[0][0]']                 \n",
            "                                                                                                  \n",
            " cConv4 (Conv1D)                (None, 15, 128)      98432       ['cConv3[0][0]']                 \n",
            "                                                                                                  \n",
            " fMaxP2 (MaxPooling1D)          (None, 15, 128)      0           ['fConv4[0][0]']                 \n",
            "                                                                                                  \n",
            " cMaxP2 (MaxPooling1D)          (None, 7, 128)       0           ['cConv4[0][0]']                 \n",
            "                                                                                                  \n",
            " fFlat1 (Flatten)               (None, 1920)         0           ['fMaxP2[0][0]']                 \n",
            "                                                                                                  \n",
            " cFlat1 (Flatten)               (None, 896)          0           ['cMaxP2[0][0]']                 \n",
            "                                                                                                  \n",
            " merge_1 (Concatenate)          (None, 2816)         0           ['fFlat1[0][0]',                 \n",
            "                                                                  'cFlat1[0][0]']                 \n",
            "                                                                                                  \n",
            " mDrop1 (Dropout)               (None, 2816)         0           ['merge_1[0][0]']                \n",
            "                                                                                                  \n",
            " reshape1 (Reshape)             (None, 1, 2816)      0           ['mDrop1[0][0]']                 \n",
            "                                                                                                  \n",
            " lstm_2 (LSTM)                  (None, 1, 64)        737536      ['reshape1[0][0]']               \n",
            "                                                                                                  \n",
            " lstm_3 (LSTM)                  (None, 64)           33024       ['lstm_2[0][0]']                 \n",
            "                                                                                                  \n",
            " outLayer (Dense)               (None, 5)            325         ['lstm_3[0][0]']                 \n",
            "                                                                                                  \n",
            "==================================================================================================\n",
            "Total params: 1,336,613\n",
            "Trainable params: 1,336,613\n",
            "Non-trainable params: 0\n",
            "__________________________________________________________________________________________________\n"
          ]
        }
      ],
      "source": [
        "teacher_model=model_b(verbose=VBS) #60 epochs teacher model"
      ]
    },
    {
      "cell_type": "code",
      "execution_count": null,
      "metadata": {
        "colab": {
          "base_uri": "https://localhost:8080/"
        },
        "id": "XGYIvJM7_u1b",
        "outputId": "25e7ef2d-1f73-40b3-ca32-ea507d6e7f51"
      },
      "outputs": [
        {
          "output_type": "execute_result",
          "data": {
            "text/plain": [
              "<tensorflow.python.training.tracking.util.CheckpointLoadStatus at 0x7fea07ad2c10>"
            ]
          },
          "metadata": {},
          "execution_count": 29
        }
      ],
      "source": [
        "teacher_checkpt_path=\"/content/gdrive/My Drive/physionet/ensemble/tri_training/60_epochs_keras_way/teacher_60_epochs_wts_trial_3.ckpt\"\n",
        "teacher_model.load_weights(teacher_checkpt_path)"
      ]
    },
    {
      "cell_type": "code",
      "execution_count": null,
      "metadata": {
        "id": "WRiIVK51_HcR"
      },
      "outputs": [],
      "source": [
        "from keras.layers import Input, Dense, LSTM, MaxPooling1D, Conv1D\n",
        "from keras.models import Model"
      ]
    },
    {
      "cell_type": "code",
      "execution_count": null,
      "metadata": {
        "id": "1uiHElwVACnO"
      },
      "outputs": [],
      "source": [
        "teacher_model.compile(optimizer=optimizer, loss='categorical_crossentropy', metrics=['accuracy'])"
      ]
    },
    {
      "cell_type": "code",
      "execution_count": null,
      "metadata": {
        "colab": {
          "base_uri": "https://localhost:8080/"
        },
        "id": "QdT83AOVAGk2",
        "outputId": "59d40db3-666f-4f9b-c3cd-8df3fab027d5"
      },
      "outputs": [
        {
          "output_type": "stream",
          "name": "stdout",
          "text": [
            "32/32 [==============================] - 13s 6ms/step - loss: 1.3755 - accuracy: 0.7864\n"
          ]
        }
      ],
      "source": [
        "accuracy_teacher_model = teacher_model.evaluate(x_test_dt_rshp, y_test_dt_)"
      ]
    },
    {
      "cell_type": "code",
      "execution_count": null,
      "metadata": {
        "id": "QMFYsOt07jC5"
      },
      "outputs": [],
      "source": [
        "preds_teacher_model = teacher_model.predict(x_test_dt_rshp)"
      ]
    },
    {
      "cell_type": "code",
      "execution_count": null,
      "metadata": {
        "id": "Ta1e6ZZw7tyn"
      },
      "outputs": [],
      "source": [
        "preds_teacher_model_fin=np.argmax(preds_teacher_model,axis=1)"
      ]
    },
    {
      "cell_type": "code",
      "execution_count": null,
      "metadata": {
        "colab": {
          "base_uri": "https://localhost:8080/"
        },
        "id": "NfSliRi3WzTE",
        "outputId": "e40f27ed-abb9-49b7-bd47-cded0a1081d1"
      },
      "outputs": [
        {
          "output_type": "execute_result",
          "data": {
            "text/plain": [
              "array([0.91139241, 0.13385827, 0.88      , 0.58730159])"
            ]
          },
          "metadata": {},
          "execution_count": 35
        }
      ],
      "source": [
        "from sklearn.metrics import confusion_matrix\n",
        "matrix_teacher = confusion_matrix(y_test_dt, preds_teacher_model_fin)\n",
        "matrix_teacher.diagonal()/matrix_teacher.sum(axis=1)"
      ]
    },
    {
      "cell_type": "code",
      "execution_count": null,
      "metadata": {
        "colab": {
          "base_uri": "https://localhost:8080/"
        },
        "id": "fxu4u9vC7t_U",
        "outputId": "08d3569d-62dc-4bf0-ea5e-e574102afe42"
      },
      "outputs": [
        {
          "output_type": "stream",
          "name": "stdout",
          "text": [
            "              precision    recall  f1-score   support\n",
            "\n",
            "           0   0.972973  0.911392  0.941176       632\n",
            "           1   0.369565  0.133858  0.196532       127\n",
            "           2   0.696833  0.880000  0.777778       175\n",
            "           4   0.268116  0.587302  0.368159        63\n",
            "\n",
            "    accuracy                       0.786359       997\n",
            "   macro avg   0.576872  0.628138  0.570911       997\n",
            "weighted avg   0.803100  0.786359  0.781433       997\n",
            "\n"
          ]
        }
      ],
      "source": [
        "print(classification_report(y_test_dt, preds_teacher_model_fin, digits=6))"
      ]
    },
    {
      "cell_type": "code",
      "execution_count": null,
      "metadata": {
        "id": "TkEJ9sVn_VOf"
      },
      "outputs": [],
      "source": [
        "#student model\n",
        "def get_model_1d_cnn():\n",
        "    nclass = 5\n",
        "    inp = Input(shape=(3000, 1))\n",
        "    img_1 = Conv1D(4, kernel_size=6, activation=activations.relu, strides=1, padding=\"valid\")(inp)\n",
        "    #img_1 = Conv1D(128, kernel_size=5, activation=activations.relu, strides=1, padding=\"valid\")(img_1)\n",
        "    img_1 = MaxPooling1D(pool_size=2)(img_1)\n",
        "    #img_1 = SpatialDropout1D(rate=0.2)(img_1)\n",
        "    img_1 = Conv1D(4, kernel_size=5, activation=activations.relu, strides=1, padding=\"valid\")(img_1)\n",
        "    #img_1 = Conv1D(256, kernel_size=7, activation=activations.relu, strides=1, padding=\"valid\")(img_1)\n",
        "    img_1 = MaxPooling1D(pool_size=2)(img_1)\n",
        "    #img_1 = SpatialDropout1D(rate=0.01)(img_1)\n",
        "    img_1 = Conv1D(10, kernel_size=4, activation=activations.relu, strides=1, padding=\"valid\")(img_1)\n",
        "    #img_1 = Conv1D(64, kernel_size=4, activation=activations.relu, strides=1, padding=\"valid\")(img_1)\n",
        "    img_1 = MaxPooling1D(pool_size=2)(img_1)\n",
        "    #img_1 = SpatialDropout1D(rate=0.01)(img_1)\n",
        "    img_1 = Conv1D(10, kernel_size=4, activation=activations.relu, strides=1, padding=\"valid\")(img_1)\n",
        "    img_1 = MaxPooling1D(pool_size=2)(img_1)\n",
        "    #img_1 = Conv1D(64, kernel_size=6, activation=activations.relu, strides=1, padding=\"valid\")(img_1)\n",
        "    #img_1 = MaxPooling1D(pool_size=2)(img_1)\n",
        "    img_1 = Flatten()(img_1)\n",
        "\n",
        "    \n",
        "    dense_1 = Dropout(rate=0.5)(img_1)\n",
        "    #dense_1 = Dropout(rate=0.05)(Dense(64, activation=activations.relu, name=\"dense_2\")(dense_1))\n",
        "    dense_1 = Dense(nclass, activation=activations.softmax)(dense_1)\n",
        "\n",
        "    model = Model(inputs=inp, outputs=dense_1)\n",
        "    opt = Adam(0.001)\n",
        "\n",
        "    model.compile(optimizer=opt, loss='categorical_crossentropy', metrics=['acc'])\n",
        "    model.summary()\n",
        "    return model"
      ]
    },
    {
      "cell_type": "code",
      "execution_count": null,
      "metadata": {
        "colab": {
          "base_uri": "https://localhost:8080/"
        },
        "id": "3J4RBEGN_ZiJ",
        "outputId": "acff7307-0a32-4b71-cf68-537e3d48095f"
      },
      "outputs": [
        {
          "output_type": "stream",
          "name": "stdout",
          "text": [
            "Model: \"model_2\"\n",
            "_________________________________________________________________\n",
            " Layer (type)                Output Shape              Param #   \n",
            "=================================================================\n",
            " input_1 (InputLayer)        [(None, 3000, 1)]         0         \n",
            "                                                                 \n",
            " conv1d (Conv1D)             (None, 2995, 4)           28        \n",
            "                                                                 \n",
            " max_pooling1d (MaxPooling1D  (None, 1497, 4)          0         \n",
            " )                                                               \n",
            "                                                                 \n",
            " conv1d_1 (Conv1D)           (None, 1493, 4)           84        \n",
            "                                                                 \n",
            " max_pooling1d_1 (MaxPooling  (None, 746, 4)           0         \n",
            " 1D)                                                             \n",
            "                                                                 \n",
            " conv1d_2 (Conv1D)           (None, 743, 10)           170       \n",
            "                                                                 \n",
            " max_pooling1d_2 (MaxPooling  (None, 371, 10)          0         \n",
            " 1D)                                                             \n",
            "                                                                 \n",
            " conv1d_3 (Conv1D)           (None, 368, 10)           410       \n",
            "                                                                 \n",
            " max_pooling1d_3 (MaxPooling  (None, 184, 10)          0         \n",
            " 1D)                                                             \n",
            "                                                                 \n",
            " flatten (Flatten)           (None, 1840)              0         \n",
            "                                                                 \n",
            " dropout (Dropout)           (None, 1840)              0         \n",
            "                                                                 \n",
            " dense (Dense)               (None, 5)                 9205      \n",
            "                                                                 \n",
            "=================================================================\n",
            "Total params: 9,897\n",
            "Trainable params: 9,897\n",
            "Non-trainable params: 0\n",
            "_________________________________________________________________\n"
          ]
        }
      ],
      "source": [
        "#student_model=get_model_cnn()\n",
        "student_model=get_model_1d_cnn()"
      ]
    },
    {
      "cell_type": "code",
      "execution_count": null,
      "metadata": {
        "id": "G0sX0Geo_dX6"
      },
      "outputs": [],
      "source": [
        "class Distiller(keras.Model):\n",
        "    def __init__(self, student, teacher):\n",
        "        super(Distiller, self).__init__()\n",
        "        self.teacher = teacher\n",
        "        self.student = student\n",
        "\n",
        "    def compile(\n",
        "        self,\n",
        "        optimizer,\n",
        "        metrics,\n",
        "        student_loss_fn,\n",
        "        distillation_loss_fn,\n",
        "        alpha=0.1,\n",
        "        temperature=3,\n",
        "    ):\n",
        "        \"\"\" Configure the distiller.\n",
        "\n",
        "        Args:\n",
        "            optimizer: Keras optimizer for the student weights\n",
        "            metrics: Keras metrics for evaluation\n",
        "            student_loss_fn: Loss function of difference between student\n",
        "                predictions and ground-truth\n",
        "            distillation_loss_fn: Loss function of difference between soft\n",
        "                student predictions and soft teacher predictions\n",
        "            alpha: weight to student_loss_fn and 1-alpha to distillation_loss_fn\n",
        "            temperature: Temperature for softening probability distributions.\n",
        "                Larger temperature gives softer distributions.\n",
        "        \"\"\"\n",
        "        super(Distiller, self).compile(optimizer=optimizer, metrics=metrics)\n",
        "        self.student_loss_fn = student_loss_fn\n",
        "        self.distillation_loss_fn = distillation_loss_fn\n",
        "        self.alpha = alpha\n",
        "        self.temperature = temperature\n",
        "\n",
        "    def train_step(self, data):\n",
        "        # Unpack data\n",
        "        x, y = data\n",
        "\n",
        "        # Forward pass of teacher\n",
        "        teacher_predictions = self.teacher(x, training=False)\n",
        "\n",
        "        with tf.GradientTape() as tape:\n",
        "            # Forward pass of student\n",
        "            student_predictions = self.student(x, training=True)\n",
        "\n",
        "            # Compute losses\n",
        "            student_loss = self.student_loss_fn(y, student_predictions)\n",
        "            distillation_loss = self.distillation_loss_fn(\n",
        "                tf.nn.softmax(teacher_predictions / self.temperature, axis=1),\n",
        "                tf.nn.softmax(student_predictions / self.temperature, axis=1),\n",
        "            )\n",
        "            loss = self.alpha * student_loss + (1 - self.alpha) * distillation_loss\n",
        "\n",
        "        # Compute gradients\n",
        "        trainable_vars = self.student.trainable_variables\n",
        "        gradients = tape.gradient(loss, trainable_vars)\n",
        "\n",
        "        # Update weights\n",
        "        self.optimizer.apply_gradients(zip(gradients, trainable_vars))\n",
        "\n",
        "        # Update the metrics configured in `compile()`.\n",
        "        self.compiled_metrics.update_state(y, student_predictions)\n",
        "\n",
        "        # Return a dict of performance\n",
        "        results = {m.name: m.result() for m in self.metrics}\n",
        "        results.update(\n",
        "            {\"student_loss\": student_loss, \"distillation_loss\": distillation_loss}\n",
        "        )\n",
        "        return results\n",
        "\n",
        "    def test_step(self, data):\n",
        "        # Unpack the data\n",
        "        x, y = data\n",
        "\n",
        "        # Compute predictions\n",
        "        y_prediction = self.student(x, training=False)\n",
        "\n",
        "        # Calculate the loss\n",
        "        student_loss = self.student_loss_fn(y, y_prediction)\n",
        "\n",
        "        # Update the metrics.\n",
        "        self.compiled_metrics.update_state(y, y_prediction)\n",
        "\n",
        "        # Return a dict of performance\n",
        "        results = {m.name: m.result() for m in self.metrics}\n",
        "        results.update({\"student_loss\": student_loss})\n",
        "        return results\n"
      ]
    },
    {
      "cell_type": "code",
      "execution_count": null,
      "metadata": {
        "id": "0Ib38_K-AcPO"
      },
      "outputs": [],
      "source": [
        "import tensorflow as tf\n",
        "from tensorflow import keras\n",
        "from tensorflow.keras import layers\n",
        "import numpy as np\n"
      ]
    },
    {
      "cell_type": "code",
      "execution_count": null,
      "metadata": {
        "colab": {
          "base_uri": "https://localhost:8080/"
        },
        "id": "ERK-_WZyAg6M",
        "outputId": "feba39e0-6b67-4f6c-ab17-421ade54f8b5"
      },
      "outputs": [
        {
          "output_type": "stream",
          "name": "stdout",
          "text": [
            "Epoch 1/70\n",
            "3773/3773 [==============================] - 36s 8ms/step - categorical_accuracy: 0.7022 - student_loss: 0.7341 - distillation_loss: 0.0016\n",
            "Epoch 2/70\n",
            "3773/3773 [==============================] - 31s 8ms/step - categorical_accuracy: 0.7732 - student_loss: 0.5466 - distillation_loss: 0.0012\n",
            "Epoch 3/70\n",
            "3773/3773 [==============================] - 31s 8ms/step - categorical_accuracy: 0.7849 - student_loss: 0.5197 - distillation_loss: 0.0012\n",
            "Epoch 4/70\n",
            "3773/3773 [==============================] - 30s 8ms/step - categorical_accuracy: 0.7928 - student_loss: 0.5008 - distillation_loss: 0.0011\n",
            "Epoch 5/70\n",
            "3773/3773 [==============================] - 30s 8ms/step - categorical_accuracy: 0.8037 - student_loss: 0.4777 - distillation_loss: 0.0011\n",
            "Epoch 6/70\n",
            "3773/3773 [==============================] - 30s 8ms/step - categorical_accuracy: 0.8179 - student_loss: 0.4494 - distillation_loss: 9.8553e-04\n",
            "Epoch 7/70\n",
            "3773/3773 [==============================] - 30s 8ms/step - categorical_accuracy: 0.8296 - student_loss: 0.4209 - distillation_loss: 9.1660e-04\n",
            "Epoch 8/70\n",
            "3773/3773 [==============================] - 30s 8ms/step - categorical_accuracy: 0.8377 - student_loss: 0.4042 - distillation_loss: 8.7841e-04\n",
            "Epoch 9/70\n",
            "3773/3773 [==============================] - 30s 8ms/step - categorical_accuracy: 0.8432 - student_loss: 0.3923 - distillation_loss: 8.4555e-04\n",
            "Epoch 10/70\n",
            "3773/3773 [==============================] - 30s 8ms/step - categorical_accuracy: 0.8467 - student_loss: 0.3858 - distillation_loss: 8.3112e-04\n",
            "Epoch 11/70\n",
            "3773/3773 [==============================] - 31s 8ms/step - categorical_accuracy: 0.8494 - student_loss: 0.3788 - distillation_loss: 8.1585e-04\n",
            "Epoch 12/70\n",
            "3773/3773 [==============================] - 30s 8ms/step - categorical_accuracy: 0.8528 - student_loss: 0.3706 - distillation_loss: 7.9842e-04\n",
            "Epoch 13/70\n",
            "3773/3773 [==============================] - 30s 8ms/step - categorical_accuracy: 0.8547 - student_loss: 0.3684 - distillation_loss: 7.9442e-04\n",
            "Epoch 14/70\n",
            "3773/3773 [==============================] - 30s 8ms/step - categorical_accuracy: 0.8562 - student_loss: 0.3635 - distillation_loss: 7.8429e-04\n",
            "Epoch 15/70\n",
            "3773/3773 [==============================] - 30s 8ms/step - categorical_accuracy: 0.8585 - student_loss: 0.3581 - distillation_loss: 7.7158e-04\n",
            "Epoch 16/70\n",
            "3773/3773 [==============================] - 30s 8ms/step - categorical_accuracy: 0.8584 - student_loss: 0.3574 - distillation_loss: 7.7148e-04\n",
            "Epoch 17/70\n",
            "3773/3773 [==============================] - 30s 8ms/step - categorical_accuracy: 0.8576 - student_loss: 0.3568 - distillation_loss: 7.6899e-04\n",
            "Epoch 18/70\n",
            "3773/3773 [==============================] - 30s 8ms/step - categorical_accuracy: 0.8603 - student_loss: 0.3534 - distillation_loss: 7.6332e-04\n",
            "Epoch 19/70\n",
            "3773/3773 [==============================] - 30s 8ms/step - categorical_accuracy: 0.8602 - student_loss: 0.3542 - distillation_loss: 7.6207e-04\n",
            "Epoch 20/70\n",
            "3773/3773 [==============================] - 30s 8ms/step - categorical_accuracy: 0.8626 - student_loss: 0.3488 - distillation_loss: 7.5607e-04\n",
            "Epoch 21/70\n",
            "3773/3773 [==============================] - 31s 8ms/step - categorical_accuracy: 0.8621 - student_loss: 0.3493 - distillation_loss: 7.5468e-04\n",
            "Epoch 22/70\n",
            "3773/3773 [==============================] - 30s 8ms/step - categorical_accuracy: 0.8633 - student_loss: 0.3467 - distillation_loss: 7.4784e-04\n",
            "Epoch 23/70\n",
            "3773/3773 [==============================] - 30s 8ms/step - categorical_accuracy: 0.8632 - student_loss: 0.3472 - distillation_loss: 7.4935e-04\n",
            "Epoch 24/70\n",
            "3773/3773 [==============================] - 30s 8ms/step - categorical_accuracy: 0.8649 - student_loss: 0.3453 - distillation_loss: 7.4502e-04\n",
            "Epoch 25/70\n",
            "3773/3773 [==============================] - 30s 8ms/step - categorical_accuracy: 0.8647 - student_loss: 0.3446 - distillation_loss: 7.4275e-04\n",
            "Epoch 26/70\n",
            "3773/3773 [==============================] - 30s 8ms/step - categorical_accuracy: 0.8638 - student_loss: 0.3443 - distillation_loss: 7.4335e-04\n",
            "Epoch 27/70\n",
            "3773/3773 [==============================] - 30s 8ms/step - categorical_accuracy: 0.8650 - student_loss: 0.3425 - distillation_loss: 7.4028e-04\n",
            "Epoch 28/70\n",
            "3773/3773 [==============================] - 30s 8ms/step - categorical_accuracy: 0.8658 - student_loss: 0.3413 - distillation_loss: 7.3818e-04\n",
            "Epoch 29/70\n",
            "3773/3773 [==============================] - 30s 8ms/step - categorical_accuracy: 0.8668 - student_loss: 0.3393 - distillation_loss: 7.3547e-04\n",
            "Epoch 30/70\n",
            "3773/3773 [==============================] - 29s 8ms/step - categorical_accuracy: 0.8662 - student_loss: 0.3392 - distillation_loss: 7.3170e-04\n",
            "Epoch 31/70\n",
            "3773/3773 [==============================] - 30s 8ms/step - categorical_accuracy: 0.8683 - student_loss: 0.3367 - distillation_loss: 7.2726e-04\n",
            "Epoch 32/70\n",
            "3773/3773 [==============================] - 29s 8ms/step - categorical_accuracy: 0.8677 - student_loss: 0.3369 - distillation_loss: 7.2756e-04\n",
            "Epoch 33/70\n",
            "3773/3773 [==============================] - 29s 8ms/step - categorical_accuracy: 0.8675 - student_loss: 0.3368 - distillation_loss: 7.2668e-04\n",
            "Epoch 34/70\n",
            "3773/3773 [==============================] - 29s 8ms/step - categorical_accuracy: 0.8690 - student_loss: 0.3359 - distillation_loss: 7.2434e-04\n",
            "Epoch 35/70\n",
            "3773/3773 [==============================] - 29s 8ms/step - categorical_accuracy: 0.8670 - student_loss: 0.3348 - distillation_loss: 7.2673e-04\n",
            "Epoch 36/70\n",
            "3773/3773 [==============================] - 29s 8ms/step - categorical_accuracy: 0.8688 - student_loss: 0.3334 - distillation_loss: 7.2267e-04\n",
            "Epoch 37/70\n",
            "3773/3773 [==============================] - 30s 8ms/step - categorical_accuracy: 0.8681 - student_loss: 0.3362 - distillation_loss: 7.2539e-04\n",
            "Epoch 38/70\n",
            "3773/3773 [==============================] - 30s 8ms/step - categorical_accuracy: 0.8678 - student_loss: 0.3357 - distillation_loss: 7.2210e-04\n",
            "Epoch 39/70\n",
            "3773/3773 [==============================] - 30s 8ms/step - categorical_accuracy: 0.8686 - student_loss: 0.3343 - distillation_loss: 7.2062e-04\n",
            "Epoch 40/70\n",
            "3773/3773 [==============================] - 30s 8ms/step - categorical_accuracy: 0.8688 - student_loss: 0.3321 - distillation_loss: 7.1885e-04\n",
            "Epoch 41/70\n",
            "3773/3773 [==============================] - 30s 8ms/step - categorical_accuracy: 0.8700 - student_loss: 0.3317 - distillation_loss: 7.1519e-04\n",
            "Epoch 42/70\n",
            "3773/3773 [==============================] - 30s 8ms/step - categorical_accuracy: 0.8695 - student_loss: 0.3323 - distillation_loss: 7.1767e-04\n",
            "Epoch 43/70\n",
            "3773/3773 [==============================] - 30s 8ms/step - categorical_accuracy: 0.8690 - student_loss: 0.3337 - distillation_loss: 7.1889e-04\n",
            "Epoch 44/70\n",
            "3773/3773 [==============================] - 30s 8ms/step - categorical_accuracy: 0.8706 - student_loss: 0.3319 - distillation_loss: 7.1394e-04\n",
            "Epoch 45/70\n",
            "3773/3773 [==============================] - 30s 8ms/step - categorical_accuracy: 0.8703 - student_loss: 0.3315 - distillation_loss: 7.1292e-04\n",
            "Epoch 46/70\n",
            "3773/3773 [==============================] - 30s 8ms/step - categorical_accuracy: 0.8712 - student_loss: 0.3291 - distillation_loss: 7.1232e-04\n",
            "Epoch 47/70\n",
            "3773/3773 [==============================] - 30s 8ms/step - categorical_accuracy: 0.8698 - student_loss: 0.3294 - distillation_loss: 7.1138e-04\n",
            "Epoch 48/70\n",
            "3773/3773 [==============================] - 30s 8ms/step - categorical_accuracy: 0.8703 - student_loss: 0.3294 - distillation_loss: 7.1236e-04\n",
            "Epoch 49/70\n",
            "3773/3773 [==============================] - 30s 8ms/step - categorical_accuracy: 0.8715 - student_loss: 0.3283 - distillation_loss: 7.0867e-04\n",
            "Epoch 50/70\n",
            "3773/3773 [==============================] - 30s 8ms/step - categorical_accuracy: 0.8697 - student_loss: 0.3290 - distillation_loss: 7.1290e-04\n",
            "Epoch 51/70\n",
            "3773/3773 [==============================] - 30s 8ms/step - categorical_accuracy: 0.8714 - student_loss: 0.3270 - distillation_loss: 7.0422e-04\n",
            "Epoch 52/70\n",
            "3773/3773 [==============================] - 31s 8ms/step - categorical_accuracy: 0.8723 - student_loss: 0.3268 - distillation_loss: 7.0664e-04\n",
            "Epoch 53/70\n",
            "3773/3773 [==============================] - 30s 8ms/step - categorical_accuracy: 0.8719 - student_loss: 0.3274 - distillation_loss: 7.0722e-04\n",
            "Epoch 54/70\n",
            "3773/3773 [==============================] - 30s 8ms/step - categorical_accuracy: 0.8713 - student_loss: 0.3261 - distillation_loss: 7.0218e-04\n",
            "Epoch 55/70\n",
            "3773/3773 [==============================] - 30s 8ms/step - categorical_accuracy: 0.8713 - student_loss: 0.3256 - distillation_loss: 7.0290e-04\n",
            "Epoch 56/70\n",
            "3773/3773 [==============================] - 30s 8ms/step - categorical_accuracy: 0.8716 - student_loss: 0.3266 - distillation_loss: 7.0728e-04\n",
            "Epoch 57/70\n",
            "3773/3773 [==============================] - 30s 8ms/step - categorical_accuracy: 0.8721 - student_loss: 0.3250 - distillation_loss: 7.0610e-04\n",
            "Epoch 58/70\n",
            "3773/3773 [==============================] - 30s 8ms/step - categorical_accuracy: 0.8721 - student_loss: 0.3246 - distillation_loss: 7.0272e-04\n",
            "Epoch 59/70\n",
            "3773/3773 [==============================] - 30s 8ms/step - categorical_accuracy: 0.8727 - student_loss: 0.3240 - distillation_loss: 7.0009e-04\n",
            "Epoch 60/70\n",
            "3773/3773 [==============================] - 30s 8ms/step - categorical_accuracy: 0.8738 - student_loss: 0.3247 - distillation_loss: 7.0126e-04\n",
            "Epoch 61/70\n",
            "3773/3773 [==============================] - 30s 8ms/step - categorical_accuracy: 0.8731 - student_loss: 0.3252 - distillation_loss: 7.0326e-04\n",
            "Epoch 62/70\n",
            "3773/3773 [==============================] - 31s 8ms/step - categorical_accuracy: 0.8721 - student_loss: 0.3258 - distillation_loss: 7.0327e-04\n",
            "Epoch 63/70\n",
            "3773/3773 [==============================] - 30s 8ms/step - categorical_accuracy: 0.8726 - student_loss: 0.3241 - distillation_loss: 6.9920e-04\n",
            "Epoch 64/70\n",
            "3773/3773 [==============================] - 30s 8ms/step - categorical_accuracy: 0.8735 - student_loss: 0.3237 - distillation_loss: 7.0043e-04\n",
            "Epoch 65/70\n",
            "3773/3773 [==============================] - 30s 8ms/step - categorical_accuracy: 0.8739 - student_loss: 0.3228 - distillation_loss: 6.9752e-04\n",
            "Epoch 66/70\n",
            "3773/3773 [==============================] - 30s 8ms/step - categorical_accuracy: 0.8732 - student_loss: 0.3230 - distillation_loss: 6.9903e-04\n",
            "Epoch 67/70\n",
            "3773/3773 [==============================] - 30s 8ms/step - categorical_accuracy: 0.8725 - student_loss: 0.3229 - distillation_loss: 7.0072e-04\n",
            "Epoch 68/70\n",
            "3773/3773 [==============================] - 30s 8ms/step - categorical_accuracy: 0.8731 - student_loss: 0.3235 - distillation_loss: 6.9932e-04\n",
            "Epoch 69/70\n",
            "3773/3773 [==============================] - 30s 8ms/step - categorical_accuracy: 0.8729 - student_loss: 0.3213 - distillation_loss: 6.9168e-04\n",
            "Epoch 70/70\n",
            "3773/3773 [==============================] - 30s 8ms/step - categorical_accuracy: 0.8725 - student_loss: 0.3238 - distillation_loss: 6.9978e-04\n"
          ]
        },
        {
          "output_type": "execute_result",
          "data": {
            "text/plain": [
              "<keras.callbacks.History at 0x7fea0043cc50>"
            ]
          },
          "metadata": {},
          "execution_count": 41
        }
      ],
      "source": [
        "# Initialize and compile distiller\n",
        "distiller = Distiller(student=student_model, teacher=teacher_model)\n",
        "distiller.compile(\n",
        "    optimizer=keras.optimizers.Adam(),\n",
        "    metrics=[keras.metrics.CategoricalAccuracy()],\n",
        "    student_loss_fn=keras.losses.CategoricalCrossentropy(from_logits=True),\n",
        "    distillation_loss_fn=keras.losses.KLDivergence(),\n",
        "    alpha=0.9,\n",
        "    temperature=5,\n",
        ")\n",
        "\n",
        "# Distill teacher to student\n",
        "distiller.fit(x_dt_rshp, y_dt_, epochs=70)\n",
        "\n",
        "# Evaluate student on test dataset\n",
        "#distiller.evaluate(x_test, y_test)"
      ]
    },
    {
      "cell_type": "code",
      "execution_count": null,
      "metadata": {
        "colab": {
          "base_uri": "https://localhost:8080/"
        },
        "id": "Lsdid47DA73P",
        "outputId": "2d9275c0-afd6-41c2-d31d-1402e0e6d95d"
      },
      "outputs": [
        {
          "output_type": "stream",
          "name": "stdout",
          "text": [
            "32/32 [==============================] - 0s 4ms/step - categorical_accuracy: 0.7844 - student_loss: 1.4879\n"
          ]
        }
      ],
      "source": [
        "accuracy_distiller = distiller.evaluate(x_test_dt_rshp, y_test_dt_)"
      ]
    },
    {
      "cell_type": "code",
      "execution_count": null,
      "metadata": {
        "id": "2zKucfD-qVia"
      },
      "outputs": [],
      "source": [
        "preds_student_model = student_model.predict(x_test_dt_rshp)"
      ]
    },
    {
      "cell_type": "code",
      "execution_count": null,
      "metadata": {
        "id": "Sf3HHMgYqlwE"
      },
      "outputs": [],
      "source": [
        "preds_student_model_fin=np.argmax(preds_student_model,axis=1)"
      ]
    },
    {
      "cell_type": "code",
      "execution_count": null,
      "metadata": {
        "colab": {
          "base_uri": "https://localhost:8080/"
        },
        "id": "owRRLsNRqufA",
        "outputId": "a9169c7a-8f55-4102-8869-e250aa4f6783"
      },
      "outputs": [
        {
          "output_type": "stream",
          "name": "stdout",
          "text": [
            "              precision    recall  f1-score   support\n",
            "\n",
            "           0   0.970443  0.935127  0.952458       632\n",
            "           1   0.365854  0.118110  0.178571       127\n",
            "           2   0.763006  0.754286  0.758621       175\n",
            "           4   0.252874  0.698413  0.371308        63\n",
            "\n",
            "    accuracy                       0.784353       997\n",
            "   macro avg   0.588044  0.626484  0.565239       997\n",
            "weighted avg   0.811676  0.784353  0.783132       997\n",
            "\n"
          ]
        }
      ],
      "source": [
        "print(classification_report(y_test_dt, preds_student_model_fin, digits=6))"
      ]
    },
    {
      "cell_type": "code",
      "execution_count": null,
      "metadata": {
        "colab": {
          "base_uri": "https://localhost:8080/"
        },
        "id": "bpMto-Lv6v9E",
        "outputId": "948d3f0e-f808-41ee-9656-4ce32e578f7a"
      },
      "outputs": [
        {
          "output_type": "execute_result",
          "data": {
            "text/plain": [
              "array([0.93512658, 0.11811024, 0.75428571, 0.6984127 ])"
            ]
          },
          "metadata": {},
          "execution_count": 46
        }
      ],
      "source": [
        "from sklearn.metrics import confusion_matrix\n",
        "matrix = confusion_matrix(y_test_dt, preds_student_model_fin)\n",
        "matrix.diagonal()/matrix.sum(axis=1)"
      ]
    },
    {
      "cell_type": "code",
      "execution_count": null,
      "metadata": {
        "id": "POVa0zd76wK4"
      },
      "outputs": [],
      "source": [
        "cm = matrix.astype('float') / matrix.sum(axis=1)[:, np.newaxis]"
      ]
    },
    {
      "cell_type": "code",
      "execution_count": null,
      "metadata": {
        "colab": {
          "base_uri": "https://localhost:8080/"
        },
        "id": "YoUAcXG27MYk",
        "outputId": "7308324e-c330-4cf0-e322-876116807140"
      },
      "outputs": [
        {
          "output_type": "execute_result",
          "data": {
            "text/plain": [
              "array([0.93512658, 0.11811024, 0.75428571, 0.6984127 ])"
            ]
          },
          "metadata": {},
          "execution_count": 48
        }
      ],
      "source": [
        "cm.diagonal()"
      ]
    },
    {
      "cell_type": "code",
      "source": [
        "#70 epochs teacher"
      ],
      "metadata": {
        "id": "6NLAt_E0Qncv"
      },
      "execution_count": null,
      "outputs": []
    },
    {
      "cell_type": "code",
      "source": [
        "teacher_model=model_b(verbose=VBS) #70 epochs teacher model"
      ],
      "metadata": {
        "colab": {
          "base_uri": "https://localhost:8080/"
        },
        "id": "zW4HNos7Qne_",
        "outputId": "3aab79ee-c8b7-4f4e-f665-2439e9260001"
      },
      "execution_count": null,
      "outputs": [
        {
          "output_type": "stream",
          "name": "stdout",
          "text": [
            "Model: \"model\"\n",
            "__________________________________________________________________________________________________\n",
            " Layer (type)                   Output Shape         Param #     Connected to                     \n",
            "==================================================================================================\n",
            " inLayer (InputLayer)           [(None, 3000, 1)]    0           []                               \n",
            "                                                                                                  \n",
            " fConv1 (Conv1D)                (None, 500, 64)      3264        ['inLayer[0][0]']                \n",
            "                                                                                                  \n",
            " cConv1 (Conv1D)                (None, 60, 32)       12832       ['inLayer[0][0]']                \n",
            "                                                                                                  \n",
            " fMaxP1 (MaxPooling1D)          (None, 62, 64)       0           ['fConv1[0][0]']                 \n",
            "                                                                                                  \n",
            " cMaxP1 (MaxPooling1D)          (None, 15, 32)       0           ['cConv1[0][0]']                 \n",
            "                                                                                                  \n",
            " fDrop1 (Dropout)               (None, 62, 64)       0           ['fMaxP1[0][0]']                 \n",
            "                                                                                                  \n",
            " cDrop1 (Dropout)               (None, 15, 32)       0           ['cMaxP1[0][0]']                 \n",
            "                                                                                                  \n",
            " fConv2 (Conv1D)                (None, 62, 128)      65664       ['fDrop1[0][0]']                 \n",
            "                                                                                                  \n",
            " cConv2 (Conv1D)                (None, 15, 128)      24704       ['cDrop1[0][0]']                 \n",
            "                                                                                                  \n",
            " fConv3 (Conv1D)                (None, 62, 128)      131200      ['fConv2[0][0]']                 \n",
            "                                                                                                  \n",
            " cConv3 (Conv1D)                (None, 15, 128)      98432       ['cConv2[0][0]']                 \n",
            "                                                                                                  \n",
            " fConv4 (Conv1D)                (None, 62, 128)      131200      ['fConv3[0][0]']                 \n",
            "                                                                                                  \n",
            " cConv4 (Conv1D)                (None, 15, 128)      98432       ['cConv3[0][0]']                 \n",
            "                                                                                                  \n",
            " fMaxP2 (MaxPooling1D)          (None, 15, 128)      0           ['fConv4[0][0]']                 \n",
            "                                                                                                  \n",
            " cMaxP2 (MaxPooling1D)          (None, 7, 128)       0           ['cConv4[0][0]']                 \n",
            "                                                                                                  \n",
            " fFlat1 (Flatten)               (None, 1920)         0           ['fMaxP2[0][0]']                 \n",
            "                                                                                                  \n",
            " cFlat1 (Flatten)               (None, 896)          0           ['cMaxP2[0][0]']                 \n",
            "                                                                                                  \n",
            " merge_1 (Concatenate)          (None, 2816)         0           ['fFlat1[0][0]',                 \n",
            "                                                                  'cFlat1[0][0]']                 \n",
            "                                                                                                  \n",
            " mDrop1 (Dropout)               (None, 2816)         0           ['merge_1[0][0]']                \n",
            "                                                                                                  \n",
            " reshape1 (Reshape)             (None, 1, 2816)      0           ['mDrop1[0][0]']                 \n",
            "                                                                                                  \n",
            " lstm (LSTM)                    (None, 1, 64)        737536      ['reshape1[0][0]']               \n",
            "                                                                                                  \n",
            " lstm_1 (LSTM)                  (None, 64)           33024       ['lstm[0][0]']                   \n",
            "                                                                                                  \n",
            " outLayer (Dense)               (None, 5)            325         ['lstm_1[0][0]']                 \n",
            "                                                                                                  \n",
            "==================================================================================================\n",
            "Total params: 1,336,613\n",
            "Trainable params: 1,336,613\n",
            "Non-trainable params: 0\n",
            "__________________________________________________________________________________________________\n"
          ]
        }
      ]
    },
    {
      "cell_type": "code",
      "source": [
        "teacher_checkpt_path=\"/content/gdrive/My Drive/physionet/ensemble/tri_training/70_epochs_keras_way/teacher_70_epochs_wts_trial_3.ckpt\"\n",
        "teacher_model.load_weights(teacher_checkpt_path)"
      ],
      "metadata": {
        "colab": {
          "base_uri": "https://localhost:8080/"
        },
        "id": "0QJL9RkQQnhk",
        "outputId": "e4abeb13-8e53-45e3-aa90-f3ef0d6c58ad"
      },
      "execution_count": null,
      "outputs": [
        {
          "output_type": "execute_result",
          "data": {
            "text/plain": [
              "<tensorflow.python.training.tracking.util.CheckpointLoadStatus at 0x7f70f0ec7c90>"
            ]
          },
          "metadata": {},
          "execution_count": 27
        }
      ]
    },
    {
      "cell_type": "code",
      "source": [
        "teacher_model.compile(optimizer=optimizer, loss='categorical_crossentropy', metrics=['accuracy'])"
      ],
      "metadata": {
        "id": "r1NIXdgtQnkB"
      },
      "execution_count": null,
      "outputs": []
    },
    {
      "cell_type": "code",
      "source": [
        "accuracy_teacher_model = teacher_model.evaluate(x_test_dt_rshp, y_test_dt_)"
      ],
      "metadata": {
        "colab": {
          "base_uri": "https://localhost:8080/"
        },
        "id": "sxqBX8cdQnmf",
        "outputId": "da14286d-01e9-44af-b401-e64ca4d4ce05"
      },
      "execution_count": null,
      "outputs": [
        {
          "output_type": "stream",
          "name": "stdout",
          "text": [
            "32/32 [==============================] - 12s 6ms/step - loss: 1.3937 - accuracy: 0.7944\n"
          ]
        }
      ]
    },
    {
      "cell_type": "code",
      "source": [
        "preds_teacher_model = teacher_model.predict(x_test_dt_rshp)"
      ],
      "metadata": {
        "id": "bToGTIoBQnot"
      },
      "execution_count": null,
      "outputs": []
    },
    {
      "cell_type": "code",
      "source": [
        "preds_teacher_model_fin=np.argmax(preds_teacher_model,axis=1)"
      ],
      "metadata": {
        "id": "1FDGe7W4Qnq-"
      },
      "execution_count": null,
      "outputs": []
    },
    {
      "cell_type": "code",
      "source": [
        "from sklearn.metrics import confusion_matrix\n",
        "matrix_teacher = confusion_matrix(y_test_dt, preds_teacher_model_fin)\n",
        "matrix_teacher.diagonal()/matrix_teacher.sum(axis=1)"
      ],
      "metadata": {
        "colab": {
          "base_uri": "https://localhost:8080/"
        },
        "id": "01pbz9__Qntj",
        "outputId": "4df4106d-d366-4751-d35a-ba61e3953963"
      },
      "execution_count": null,
      "outputs": [
        {
          "output_type": "execute_result",
          "data": {
            "text/plain": [
              "array([0.92563291, 0.13385827, 0.88      , 0.57142857])"
            ]
          },
          "metadata": {},
          "execution_count": 32
        }
      ]
    },
    {
      "cell_type": "code",
      "source": [
        "print(classification_report(y_test_dt, preds_teacher_model_fin, digits=6))"
      ],
      "metadata": {
        "colab": {
          "base_uri": "https://localhost:8080/"
        },
        "id": "LEmm8dV1QnxI",
        "outputId": "09ec10e7-8cf3-4214-fa13-03f15dd75e0f"
      },
      "execution_count": null,
      "outputs": [
        {
          "output_type": "stream",
          "name": "stdout",
          "text": [
            "              precision    recall  f1-score   support\n",
            "\n",
            "           0   0.973378  0.925633  0.948905       632\n",
            "           1   0.369565  0.133858  0.196532       127\n",
            "           2   0.716279  0.880000  0.789744       175\n",
            "           4   0.266667  0.571429  0.363636        63\n",
            "\n",
            "    accuracy                       0.794383       997\n",
            "   macro avg   0.581472  0.627730  0.574704       997\n",
            "weighted avg   0.806678  0.794383  0.788146       997\n",
            "\n"
          ]
        }
      ]
    },
    {
      "cell_type": "code",
      "source": [
        "#student model\n",
        "def get_model_1d_cnn():\n",
        "    nclass = 5\n",
        "    inp = Input(shape=(3000, 1))\n",
        "    img_1 = Conv1D(4, kernel_size=6, activation=activations.relu, strides=1, padding=\"valid\")(inp)\n",
        "    #img_1 = Conv1D(128, kernel_size=5, activation=activations.relu, strides=1, padding=\"valid\")(img_1)\n",
        "    img_1 = MaxPooling1D(pool_size=2)(img_1)\n",
        "    #img_1 = SpatialDropout1D(rate=0.2)(img_1)\n",
        "    img_1 = Conv1D(4, kernel_size=5, activation=activations.relu, strides=1, padding=\"valid\")(img_1)\n",
        "    #img_1 = Conv1D(256, kernel_size=7, activation=activations.relu, strides=1, padding=\"valid\")(img_1)\n",
        "    img_1 = MaxPooling1D(pool_size=2)(img_1)\n",
        "    #img_1 = SpatialDropout1D(rate=0.01)(img_1)\n",
        "    img_1 = Conv1D(10, kernel_size=4, activation=activations.relu, strides=1, padding=\"valid\")(img_1)\n",
        "    #img_1 = Conv1D(64, kernel_size=4, activation=activations.relu, strides=1, padding=\"valid\")(img_1)\n",
        "    img_1 = MaxPooling1D(pool_size=2)(img_1)\n",
        "    #img_1 = SpatialDropout1D(rate=0.01)(img_1)\n",
        "    img_1 = Conv1D(10, kernel_size=4, activation=activations.relu, strides=1, padding=\"valid\")(img_1)\n",
        "    img_1 = MaxPooling1D(pool_size=2)(img_1)\n",
        "    #img_1 = Conv1D(64, kernel_size=6, activation=activations.relu, strides=1, padding=\"valid\")(img_1)\n",
        "    #img_1 = MaxPooling1D(pool_size=2)(img_1)\n",
        "    img_1 = Flatten()(img_1)\n",
        "\n",
        "    \n",
        "    dense_1 = Dropout(rate=0.5)(img_1)\n",
        "    #dense_1 = Dropout(rate=0.05)(Dense(64, activation=activations.relu, name=\"dense_2\")(dense_1))\n",
        "    dense_1 = Dense(nclass, activation=activations.softmax)(dense_1)\n",
        "\n",
        "    model = Model(inputs=inp, outputs=dense_1)\n",
        "    opt = Adam(0.001)\n",
        "\n",
        "    model.compile(optimizer=opt, loss='categorical_crossentropy', metrics=['acc'])\n",
        "    model.summary()\n",
        "    return model"
      ],
      "metadata": {
        "id": "ISZ6JWtIQnyv"
      },
      "execution_count": null,
      "outputs": []
    },
    {
      "cell_type": "code",
      "source": [
        "#student_model=get_model_cnn()\n",
        "student_model=get_model_1d_cnn()"
      ],
      "metadata": {
        "colab": {
          "base_uri": "https://localhost:8080/"
        },
        "id": "D9S3JxHCQn0y",
        "outputId": "c8bb8849-ec45-499d-8dc1-91a3b0b85c50"
      },
      "execution_count": null,
      "outputs": [
        {
          "output_type": "stream",
          "name": "stdout",
          "text": [
            "Model: \"model_1\"\n",
            "_________________________________________________________________\n",
            " Layer (type)                Output Shape              Param #   \n",
            "=================================================================\n",
            " input_2 (InputLayer)        [(None, 3000, 1)]         0         \n",
            "                                                                 \n",
            " conv1d_1 (Conv1D)           (None, 2995, 4)           28        \n",
            "                                                                 \n",
            " max_pooling1d (MaxPooling1D  (None, 1497, 4)          0         \n",
            " )                                                               \n",
            "                                                                 \n",
            " conv1d_2 (Conv1D)           (None, 1493, 4)           84        \n",
            "                                                                 \n",
            " max_pooling1d_1 (MaxPooling  (None, 746, 4)           0         \n",
            " 1D)                                                             \n",
            "                                                                 \n",
            " conv1d_3 (Conv1D)           (None, 743, 10)           170       \n",
            "                                                                 \n",
            " max_pooling1d_2 (MaxPooling  (None, 371, 10)          0         \n",
            " 1D)                                                             \n",
            "                                                                 \n",
            " conv1d_4 (Conv1D)           (None, 368, 10)           410       \n",
            "                                                                 \n",
            " max_pooling1d_3 (MaxPooling  (None, 184, 10)          0         \n",
            " 1D)                                                             \n",
            "                                                                 \n",
            " flatten (Flatten)           (None, 1840)              0         \n",
            "                                                                 \n",
            " dropout (Dropout)           (None, 1840)              0         \n",
            "                                                                 \n",
            " dense (Dense)               (None, 5)                 9205      \n",
            "                                                                 \n",
            "=================================================================\n",
            "Total params: 9,897\n",
            "Trainable params: 9,897\n",
            "Non-trainable params: 0\n",
            "_________________________________________________________________\n"
          ]
        }
      ]
    },
    {
      "cell_type": "code",
      "source": [
        "class Distiller(keras.Model):\n",
        "    def __init__(self, student, teacher):\n",
        "        super(Distiller, self).__init__()\n",
        "        self.teacher = teacher\n",
        "        self.student = student\n",
        "\n",
        "    def compile(\n",
        "        self,\n",
        "        optimizer,\n",
        "        metrics,\n",
        "        student_loss_fn,\n",
        "        distillation_loss_fn,\n",
        "        alpha=0.1,\n",
        "        temperature=3,\n",
        "    ):\n",
        "        \"\"\" Configure the distiller.\n",
        "\n",
        "        Args:\n",
        "            optimizer: Keras optimizer for the student weights\n",
        "            metrics: Keras metrics for evaluation\n",
        "            student_loss_fn: Loss function of difference between student\n",
        "                predictions and ground-truth\n",
        "            distillation_loss_fn: Loss function of difference between soft\n",
        "                student predictions and soft teacher predictions\n",
        "            alpha: weight to student_loss_fn and 1-alpha to distillation_loss_fn\n",
        "            temperature: Temperature for softening probability distributions.\n",
        "                Larger temperature gives softer distributions.\n",
        "        \"\"\"\n",
        "        super(Distiller, self).compile(optimizer=optimizer, metrics=metrics)\n",
        "        self.student_loss_fn = student_loss_fn\n",
        "        self.distillation_loss_fn = distillation_loss_fn\n",
        "        self.alpha = alpha\n",
        "        self.temperature = temperature\n",
        "\n",
        "    def train_step(self, data):\n",
        "        # Unpack data\n",
        "        x, y = data\n",
        "\n",
        "        # Forward pass of teacher\n",
        "        teacher_predictions = self.teacher(x, training=False)\n",
        "\n",
        "        with tf.GradientTape() as tape:\n",
        "            # Forward pass of student\n",
        "            student_predictions = self.student(x, training=True)\n",
        "\n",
        "            # Compute losses\n",
        "            student_loss = self.student_loss_fn(y, student_predictions)\n",
        "            distillation_loss = self.distillation_loss_fn(\n",
        "                tf.nn.softmax(teacher_predictions / self.temperature, axis=1),\n",
        "                tf.nn.softmax(student_predictions / self.temperature, axis=1),\n",
        "            )\n",
        "            loss = self.alpha * student_loss + (1 - self.alpha) * distillation_loss\n",
        "\n",
        "        # Compute gradients\n",
        "        trainable_vars = self.student.trainable_variables\n",
        "        gradients = tape.gradient(loss, trainable_vars)\n",
        "\n",
        "        # Update weights\n",
        "        self.optimizer.apply_gradients(zip(gradients, trainable_vars))\n",
        "\n",
        "        # Update the metrics configured in `compile()`.\n",
        "        self.compiled_metrics.update_state(y, student_predictions)\n",
        "\n",
        "        # Return a dict of performance\n",
        "        results = {m.name: m.result() for m in self.metrics}\n",
        "        results.update(\n",
        "            {\"student_loss\": student_loss, \"distillation_loss\": distillation_loss}\n",
        "        )\n",
        "        return results\n",
        "\n",
        "    def test_step(self, data):\n",
        "        # Unpack the data\n",
        "        x, y = data\n",
        "\n",
        "        # Compute predictions\n",
        "        y_prediction = self.student(x, training=False)\n",
        "\n",
        "        # Calculate the loss\n",
        "        student_loss = self.student_loss_fn(y, y_prediction)\n",
        "\n",
        "        # Update the metrics.\n",
        "        self.compiled_metrics.update_state(y, y_prediction)\n",
        "\n",
        "        # Return a dict of performance\n",
        "        results = {m.name: m.result() for m in self.metrics}\n",
        "        results.update({\"student_loss\": student_loss})\n",
        "        return results\n"
      ],
      "metadata": {
        "id": "Co3y6PxWRi6j"
      },
      "execution_count": null,
      "outputs": []
    },
    {
      "cell_type": "code",
      "source": [
        "# Initialize and compile distiller\n",
        "distiller = Distiller(student=student_model, teacher=teacher_model)\n",
        "distiller.compile(\n",
        "    optimizer=keras.optimizers.Adam(),\n",
        "    metrics=[keras.metrics.CategoricalAccuracy()],\n",
        "    student_loss_fn=keras.losses.CategoricalCrossentropy(from_logits=True),\n",
        "    distillation_loss_fn=keras.losses.KLDivergence(),\n",
        "    alpha=0.9,\n",
        "    temperature=5,\n",
        ")\n",
        "\n",
        "# Distill teacher to student\n",
        "distiller.fit(x_dt_rshp, y_dt_, epochs=80)\n",
        "\n",
        "# Evaluate student on test dataset\n",
        "#distiller.evaluate(x_test, y_test)"
      ],
      "metadata": {
        "colab": {
          "base_uri": "https://localhost:8080/"
        },
        "id": "x-l8e0DSRi9B",
        "outputId": "2d61fcd9-acc5-41b8-85de-7caa3fbd8232"
      },
      "execution_count": null,
      "outputs": [
        {
          "output_type": "stream",
          "name": "stdout",
          "text": [
            "Epoch 1/80\n",
            "3773/3773 [==============================] - 34s 8ms/step - categorical_accuracy: 0.6779 - student_loss: 0.8174 - distillation_loss: 0.0018\n",
            "Epoch 2/80\n",
            "3773/3773 [==============================] - 30s 8ms/step - categorical_accuracy: 0.7608 - student_loss: 0.5787 - distillation_loss: 0.0013\n",
            "Epoch 3/80\n",
            "3773/3773 [==============================] - 30s 8ms/step - categorical_accuracy: 0.7814 - student_loss: 0.5287 - distillation_loss: 0.0012\n",
            "Epoch 4/80\n",
            "3773/3773 [==============================] - 30s 8ms/step - categorical_accuracy: 0.7943 - student_loss: 0.5003 - distillation_loss: 0.0011\n",
            "Epoch 5/80\n",
            "3773/3773 [==============================] - 30s 8ms/step - categorical_accuracy: 0.8094 - student_loss: 0.4692 - distillation_loss: 0.0010\n",
            "Epoch 6/80\n",
            "3773/3773 [==============================] - 30s 8ms/step - categorical_accuracy: 0.8186 - student_loss: 0.4472 - distillation_loss: 9.7614e-04\n",
            "Epoch 7/80\n",
            "3773/3773 [==============================] - 30s 8ms/step - categorical_accuracy: 0.8263 - student_loss: 0.4316 - distillation_loss: 9.3963e-04\n",
            "Epoch 8/80\n",
            "3773/3773 [==============================] - 30s 8ms/step - categorical_accuracy: 0.8289 - student_loss: 0.4252 - distillation_loss: 9.2447e-04\n",
            "Epoch 9/80\n",
            "3773/3773 [==============================] - 30s 8ms/step - categorical_accuracy: 0.8321 - student_loss: 0.4184 - distillation_loss: 9.1060e-04\n",
            "Epoch 10/80\n",
            "3773/3773 [==============================] - 30s 8ms/step - categorical_accuracy: 0.8363 - student_loss: 0.4107 - distillation_loss: 8.9164e-04\n",
            "Epoch 11/80\n",
            "3773/3773 [==============================] - 29s 8ms/step - categorical_accuracy: 0.8365 - student_loss: 0.4084 - distillation_loss: 8.8935e-04\n",
            "Epoch 12/80\n",
            "3773/3773 [==============================] - 29s 8ms/step - categorical_accuracy: 0.8387 - student_loss: 0.4019 - distillation_loss: 8.7358e-04\n",
            "Epoch 13/80\n",
            "3773/3773 [==============================] - 30s 8ms/step - categorical_accuracy: 0.8402 - student_loss: 0.4009 - distillation_loss: 8.7082e-04\n",
            "Epoch 14/80\n",
            "3773/3773 [==============================] - 29s 8ms/step - categorical_accuracy: 0.8415 - student_loss: 0.3970 - distillation_loss: 8.6363e-04\n",
            "Epoch 15/80\n",
            "3773/3773 [==============================] - 29s 8ms/step - categorical_accuracy: 0.8433 - student_loss: 0.3951 - distillation_loss: 8.5808e-04\n",
            "Epoch 16/80\n",
            "3773/3773 [==============================] - 29s 8ms/step - categorical_accuracy: 0.8444 - student_loss: 0.3916 - distillation_loss: 8.4897e-04\n",
            "Epoch 17/80\n",
            "3773/3773 [==============================] - 29s 8ms/step - categorical_accuracy: 0.8452 - student_loss: 0.3882 - distillation_loss: 8.4250e-04\n",
            "Epoch 18/80\n",
            "3773/3773 [==============================] - 29s 8ms/step - categorical_accuracy: 0.8461 - student_loss: 0.3885 - distillation_loss: 8.4177e-04\n",
            "Epoch 19/80\n",
            "3773/3773 [==============================] - 30s 8ms/step - categorical_accuracy: 0.8471 - student_loss: 0.3836 - distillation_loss: 8.3256e-04\n",
            "Epoch 20/80\n",
            "3773/3773 [==============================] - 30s 8ms/step - categorical_accuracy: 0.8502 - student_loss: 0.3800 - distillation_loss: 8.2158e-04\n",
            "Epoch 21/80\n",
            "3773/3773 [==============================] - 30s 8ms/step - categorical_accuracy: 0.8481 - student_loss: 0.3795 - distillation_loss: 8.2486e-04\n",
            "Epoch 22/80\n",
            "3773/3773 [==============================] - 29s 8ms/step - categorical_accuracy: 0.8498 - student_loss: 0.3796 - distillation_loss: 8.2429e-04\n",
            "Epoch 23/80\n",
            "3773/3773 [==============================] - 29s 8ms/step - categorical_accuracy: 0.8516 - student_loss: 0.3764 - distillation_loss: 8.1679e-04\n",
            "Epoch 24/80\n",
            "3773/3773 [==============================] - 29s 8ms/step - categorical_accuracy: 0.8511 - student_loss: 0.3758 - distillation_loss: 8.1522e-04\n",
            "Epoch 25/80\n",
            "3773/3773 [==============================] - 30s 8ms/step - categorical_accuracy: 0.8519 - student_loss: 0.3750 - distillation_loss: 8.1320e-04\n",
            "Epoch 26/80\n",
            "3773/3773 [==============================] - 30s 8ms/step - categorical_accuracy: 0.8519 - student_loss: 0.3739 - distillation_loss: 8.1197e-04\n",
            "Epoch 27/80\n",
            "3773/3773 [==============================] - 29s 8ms/step - categorical_accuracy: 0.8531 - student_loss: 0.3722 - distillation_loss: 8.0455e-04\n",
            "Epoch 28/80\n",
            "3773/3773 [==============================] - 29s 8ms/step - categorical_accuracy: 0.8533 - student_loss: 0.3714 - distillation_loss: 8.0474e-04\n",
            "Epoch 29/80\n",
            "3773/3773 [==============================] - 29s 8ms/step - categorical_accuracy: 0.8541 - student_loss: 0.3710 - distillation_loss: 8.0259e-04\n",
            "Epoch 30/80\n",
            "3773/3773 [==============================] - 29s 8ms/step - categorical_accuracy: 0.8538 - student_loss: 0.3684 - distillation_loss: 7.9964e-04\n",
            "Epoch 31/80\n",
            "3773/3773 [==============================] - 29s 8ms/step - categorical_accuracy: 0.8554 - student_loss: 0.3678 - distillation_loss: 7.9714e-04\n",
            "Epoch 32/80\n",
            "3773/3773 [==============================] - 29s 8ms/step - categorical_accuracy: 0.8554 - student_loss: 0.3661 - distillation_loss: 7.9142e-04\n",
            "Epoch 33/80\n",
            "3773/3773 [==============================] - 29s 8ms/step - categorical_accuracy: 0.8557 - student_loss: 0.3647 - distillation_loss: 7.9124e-04\n",
            "Epoch 34/80\n",
            "3773/3773 [==============================] - 29s 8ms/step - categorical_accuracy: 0.8573 - student_loss: 0.3627 - distillation_loss: 7.8350e-04\n",
            "Epoch 35/80\n",
            "3773/3773 [==============================] - 29s 8ms/step - categorical_accuracy: 0.8564 - student_loss: 0.3639 - distillation_loss: 7.8568e-04\n",
            "Epoch 36/80\n",
            "3773/3773 [==============================] - 29s 8ms/step - categorical_accuracy: 0.8568 - student_loss: 0.3610 - distillation_loss: 7.8219e-04\n",
            "Epoch 37/80\n",
            "3773/3773 [==============================] - 29s 8ms/step - categorical_accuracy: 0.8574 - student_loss: 0.3612 - distillation_loss: 7.8238e-04\n",
            "Epoch 38/80\n",
            "3773/3773 [==============================] - 29s 8ms/step - categorical_accuracy: 0.8569 - student_loss: 0.3613 - distillation_loss: 7.8170e-04\n",
            "Epoch 39/80\n",
            "3773/3773 [==============================] - 30s 8ms/step - categorical_accuracy: 0.8578 - student_loss: 0.3608 - distillation_loss: 7.7826e-04\n",
            "Epoch 40/80\n",
            "3773/3773 [==============================] - 30s 8ms/step - categorical_accuracy: 0.8591 - student_loss: 0.3573 - distillation_loss: 7.7394e-04\n",
            "Epoch 41/80\n",
            "3773/3773 [==============================] - 30s 8ms/step - categorical_accuracy: 0.8587 - student_loss: 0.3577 - distillation_loss: 7.7392e-04\n",
            "Epoch 42/80\n",
            "3773/3773 [==============================] - 29s 8ms/step - categorical_accuracy: 0.8600 - student_loss: 0.3565 - distillation_loss: 7.6885e-04\n",
            "Epoch 43/80\n",
            "3773/3773 [==============================] - 30s 8ms/step - categorical_accuracy: 0.8589 - student_loss: 0.3584 - distillation_loss: 7.7603e-04\n",
            "Epoch 44/80\n",
            "3773/3773 [==============================] - 29s 8ms/step - categorical_accuracy: 0.8608 - student_loss: 0.3527 - distillation_loss: 7.6409e-04\n",
            "Epoch 45/80\n",
            "3773/3773 [==============================] - 29s 8ms/step - categorical_accuracy: 0.8605 - student_loss: 0.3575 - distillation_loss: 7.7059e-04\n",
            "Epoch 46/80\n",
            "3773/3773 [==============================] - 29s 8ms/step - categorical_accuracy: 0.8597 - student_loss: 0.3548 - distillation_loss: 7.6801e-04\n",
            "Epoch 47/80\n",
            "3773/3773 [==============================] - 30s 8ms/step - categorical_accuracy: 0.8593 - student_loss: 0.3529 - distillation_loss: 7.6560e-04\n",
            "Epoch 48/80\n",
            "3773/3773 [==============================] - 29s 8ms/step - categorical_accuracy: 0.8594 - student_loss: 0.3540 - distillation_loss: 7.6528e-04\n",
            "Epoch 49/80\n",
            "3773/3773 [==============================] - 29s 8ms/step - categorical_accuracy: 0.8599 - student_loss: 0.3529 - distillation_loss: 7.6361e-04\n",
            "Epoch 50/80\n",
            "3773/3773 [==============================] - 29s 8ms/step - categorical_accuracy: 0.8609 - student_loss: 0.3536 - distillation_loss: 7.6567e-04\n",
            "Epoch 51/80\n",
            "3773/3773 [==============================] - 30s 8ms/step - categorical_accuracy: 0.8624 - student_loss: 0.3487 - distillation_loss: 7.5303e-04\n",
            "Epoch 52/80\n",
            "3773/3773 [==============================] - 29s 8ms/step - categorical_accuracy: 0.8634 - student_loss: 0.3480 - distillation_loss: 7.5190e-04\n",
            "Epoch 53/80\n",
            "3773/3773 [==============================] - 29s 8ms/step - categorical_accuracy: 0.8627 - student_loss: 0.3499 - distillation_loss: 7.5826e-04\n",
            "Epoch 54/80\n",
            "3773/3773 [==============================] - 29s 8ms/step - categorical_accuracy: 0.8616 - student_loss: 0.3488 - distillation_loss: 7.5607e-04\n",
            "Epoch 55/80\n",
            "3773/3773 [==============================] - 30s 8ms/step - categorical_accuracy: 0.8630 - student_loss: 0.3482 - distillation_loss: 7.5243e-04\n",
            "Epoch 56/80\n",
            "3773/3773 [==============================] - 29s 8ms/step - categorical_accuracy: 0.8639 - student_loss: 0.3474 - distillation_loss: 7.5092e-04\n",
            "Epoch 57/80\n",
            "3773/3773 [==============================] - 29s 8ms/step - categorical_accuracy: 0.8647 - student_loss: 0.3449 - distillation_loss: 7.4471e-04\n",
            "Epoch 58/80\n",
            "3773/3773 [==============================] - 29s 8ms/step - categorical_accuracy: 0.8627 - student_loss: 0.3474 - distillation_loss: 7.5399e-04\n",
            "Epoch 59/80\n",
            "3773/3773 [==============================] - 29s 8ms/step - categorical_accuracy: 0.8645 - student_loss: 0.3450 - distillation_loss: 7.4571e-04\n",
            "Epoch 60/80\n",
            "3773/3773 [==============================] - 29s 8ms/step - categorical_accuracy: 0.8655 - student_loss: 0.3428 - distillation_loss: 7.4433e-04\n",
            "Epoch 61/80\n",
            "3773/3773 [==============================] - 29s 8ms/step - categorical_accuracy: 0.8641 - student_loss: 0.3455 - distillation_loss: 7.4800e-04\n",
            "Epoch 62/80\n",
            "3773/3773 [==============================] - 29s 8ms/step - categorical_accuracy: 0.8656 - student_loss: 0.3408 - distillation_loss: 7.3845e-04\n",
            "Epoch 63/80\n",
            "3773/3773 [==============================] - 29s 8ms/step - categorical_accuracy: 0.8638 - student_loss: 0.3431 - distillation_loss: 7.4449e-04\n",
            "Epoch 64/80\n",
            "3773/3773 [==============================] - 29s 8ms/step - categorical_accuracy: 0.8649 - student_loss: 0.3424 - distillation_loss: 7.4080e-04\n",
            "Epoch 65/80\n",
            "3773/3773 [==============================] - 29s 8ms/step - categorical_accuracy: 0.8654 - student_loss: 0.3426 - distillation_loss: 7.4131e-04\n",
            "Epoch 66/80\n",
            "3773/3773 [==============================] - 29s 8ms/step - categorical_accuracy: 0.8652 - student_loss: 0.3410 - distillation_loss: 7.3821e-04\n",
            "Epoch 67/80\n",
            "3773/3773 [==============================] - 29s 8ms/step - categorical_accuracy: 0.8646 - student_loss: 0.3404 - distillation_loss: 7.3989e-04\n",
            "Epoch 68/80\n",
            "3773/3773 [==============================] - 29s 8ms/step - categorical_accuracy: 0.8654 - student_loss: 0.3405 - distillation_loss: 7.3784e-04\n",
            "Epoch 69/80\n",
            "3773/3773 [==============================] - 29s 8ms/step - categorical_accuracy: 0.8642 - student_loss: 0.3426 - distillation_loss: 7.4164e-04\n",
            "Epoch 70/80\n",
            "3773/3773 [==============================] - 29s 8ms/step - categorical_accuracy: 0.8651 - student_loss: 0.3431 - distillation_loss: 7.4542e-04\n",
            "Epoch 71/80\n",
            "3773/3773 [==============================] - 30s 8ms/step - categorical_accuracy: 0.8661 - student_loss: 0.3378 - distillation_loss: 7.3411e-04\n",
            "Epoch 72/80\n",
            "3773/3773 [==============================] - 30s 8ms/step - categorical_accuracy: 0.8665 - student_loss: 0.3380 - distillation_loss: 7.3243e-04\n",
            "Epoch 73/80\n",
            "3773/3773 [==============================] - 30s 8ms/step - categorical_accuracy: 0.8655 - student_loss: 0.3403 - distillation_loss: 7.3675e-04\n",
            "Epoch 74/80\n",
            "3773/3773 [==============================] - 29s 8ms/step - categorical_accuracy: 0.8648 - student_loss: 0.3420 - distillation_loss: 7.4180e-04\n",
            "Epoch 75/80\n",
            "3773/3773 [==============================] - 30s 8ms/step - categorical_accuracy: 0.8664 - student_loss: 0.3394 - distillation_loss: 7.3385e-04\n",
            "Epoch 76/80\n",
            "3773/3773 [==============================] - 29s 8ms/step - categorical_accuracy: 0.8656 - student_loss: 0.3420 - distillation_loss: 7.3951e-04\n",
            "Epoch 77/80\n",
            "3773/3773 [==============================] - 29s 8ms/step - categorical_accuracy: 0.8651 - student_loss: 0.3415 - distillation_loss: 7.4195e-04\n",
            "Epoch 78/80\n",
            "3773/3773 [==============================] - 29s 8ms/step - categorical_accuracy: 0.8659 - student_loss: 0.3392 - distillation_loss: 7.3656e-04\n",
            "Epoch 79/80\n",
            "3773/3773 [==============================] - 30s 8ms/step - categorical_accuracy: 0.8671 - student_loss: 0.3377 - distillation_loss: 7.3256e-04\n",
            "Epoch 80/80\n",
            "3773/3773 [==============================] - 29s 8ms/step - categorical_accuracy: 0.8654 - student_loss: 0.3408 - distillation_loss: 7.3902e-04\n"
          ]
        },
        {
          "output_type": "execute_result",
          "data": {
            "text/plain": [
              "<keras.callbacks.History at 0x7f70e6c82750>"
            ]
          },
          "metadata": {},
          "execution_count": 40
        }
      ]
    },
    {
      "cell_type": "code",
      "source": [
        "accuracy_distiller = distiller.evaluate(x_test_dt_rshp, y_test_dt_)"
      ],
      "metadata": {
        "colab": {
          "base_uri": "https://localhost:8080/"
        },
        "id": "3nyPsGJuRi_r",
        "outputId": "586fc725-1a3d-4724-dc6e-256fc1935d36"
      },
      "execution_count": null,
      "outputs": [
        {
          "output_type": "stream",
          "name": "stdout",
          "text": [
            "32/32 [==============================] - 0s 3ms/step - categorical_accuracy: 0.7844 - student_loss: 1.0826\n"
          ]
        }
      ]
    },
    {
      "cell_type": "code",
      "source": [
        "preds_student_model = student_model.predict(x_test_dt_rshp)"
      ],
      "metadata": {
        "id": "O41Bl4pYRjCG"
      },
      "execution_count": null,
      "outputs": []
    },
    {
      "cell_type": "code",
      "source": [
        "preds_student_model_fin=np.argmax(preds_student_model,axis=1)"
      ],
      "metadata": {
        "id": "OnYLux9NR7pn"
      },
      "execution_count": null,
      "outputs": []
    },
    {
      "cell_type": "code",
      "source": [
        "print(classification_report(y_test_dt, preds_student_model_fin, digits=6))"
      ],
      "metadata": {
        "colab": {
          "base_uri": "https://localhost:8080/"
        },
        "id": "Bx_ub4I_R7sw",
        "outputId": "2b479bbb-d890-4472-ed29-2f3b8a26fd55"
      },
      "execution_count": null,
      "outputs": [
        {
          "output_type": "stream",
          "name": "stdout",
          "text": [
            "              precision    recall  f1-score   support\n",
            "\n",
            "           0   0.971667  0.922468  0.946429       632\n",
            "           1   0.312500  0.078740  0.125786       127\n",
            "           2   0.685185  0.845714  0.757033       175\n",
            "           4   0.275168  0.650794  0.386792        63\n",
            "\n",
            "    accuracy                       0.784353       997\n",
            "   macro avg   0.561130  0.624429  0.554010       997\n",
            "weighted avg   0.793404  0.784353  0.773286       997\n",
            "\n"
          ]
        }
      ]
    },
    {
      "cell_type": "code",
      "source": [
        "from sklearn.metrics import confusion_matrix\n",
        "matrix = confusion_matrix(y_test_dt, preds_student_model_fin)\n",
        "matrix.diagonal()/matrix.sum(axis=1)"
      ],
      "metadata": {
        "colab": {
          "base_uri": "https://localhost:8080/"
        },
        "id": "q9LxldctR7wi",
        "outputId": "1a4c9c76-1c6e-495e-b019-3a8b7150d43f"
      },
      "execution_count": null,
      "outputs": [
        {
          "output_type": "execute_result",
          "data": {
            "text/plain": [
              "array([0.92246835, 0.07874016, 0.84571429, 0.65079365])"
            ]
          },
          "metadata": {},
          "execution_count": 45
        }
      ]
    },
    {
      "cell_type": "code",
      "execution_count": null,
      "metadata": {
        "id": "SCuDFU5AH7wg"
      },
      "outputs": [],
      "source": [
        "#50 epochs teacher model\n",
        "\n",
        "#alpha=0.9, temp=4\n",
        "\n",
        "#50 epochs: 82.41\n",
        "#60 epochs: 84.53\n",
        "#70 epochs: 84.04\n",
        "\n",
        "#alpha=0.9, temp=5\n",
        "\n",
        "#50 epochs: 81.43\n",
        "#60 epochs: 83.88\n",
        "#70 epochs: \n",
        "\n",
        "#alpha=0.9, temp=3\n",
        "\n",
        "#50 epochs: 83.88\n",
        "#60 epochs: 83.06\n"
      ]
    },
    {
      "cell_type": "markdown",
      "metadata": {
        "id": "EM2a0FxnOKgK"
      },
      "source": [
        "Trying out diff teachers and different students for perspective(the teacher who's epochs had been tuned)"
      ]
    },
    {
      "cell_type": "code",
      "execution_count": null,
      "metadata": {
        "colab": {
          "base_uri": "https://localhost:8080/"
        },
        "id": "j8k30A9iTGt4",
        "outputId": "3fc37263-0047-4ebc-b1e7-d1fe7502a876"
      },
      "outputs": [
        {
          "output_type": "stream",
          "name": "stdout",
          "text": [
            "Model: \"model\"\n",
            "__________________________________________________________________________________________________\n",
            " Layer (type)                   Output Shape         Param #     Connected to                     \n",
            "==================================================================================================\n",
            " inLayer (InputLayer)           [(None, 3000, 1)]    0           []                               \n",
            "                                                                                                  \n",
            " fConv1 (Conv1D)                (None, 500, 64)      3264        ['inLayer[0][0]']                \n",
            "                                                                                                  \n",
            " cConv1 (Conv1D)                (None, 60, 32)       12832       ['inLayer[0][0]']                \n",
            "                                                                                                  \n",
            " fMaxP1 (MaxPooling1D)          (None, 62, 64)       0           ['fConv1[0][0]']                 \n",
            "                                                                                                  \n",
            " cMaxP1 (MaxPooling1D)          (None, 15, 32)       0           ['cConv1[0][0]']                 \n",
            "                                                                                                  \n",
            " fDrop1 (Dropout)               (None, 62, 64)       0           ['fMaxP1[0][0]']                 \n",
            "                                                                                                  \n",
            " cDrop1 (Dropout)               (None, 15, 32)       0           ['cMaxP1[0][0]']                 \n",
            "                                                                                                  \n",
            " fConv2 (Conv1D)                (None, 62, 128)      65664       ['fDrop1[0][0]']                 \n",
            "                                                                                                  \n",
            " cConv2 (Conv1D)                (None, 15, 128)      24704       ['cDrop1[0][0]']                 \n",
            "                                                                                                  \n",
            " fConv3 (Conv1D)                (None, 62, 128)      131200      ['fConv2[0][0]']                 \n",
            "                                                                                                  \n",
            " cConv3 (Conv1D)                (None, 15, 128)      98432       ['cConv2[0][0]']                 \n",
            "                                                                                                  \n",
            " fConv4 (Conv1D)                (None, 62, 128)      131200      ['fConv3[0][0]']                 \n",
            "                                                                                                  \n",
            " cConv4 (Conv1D)                (None, 15, 128)      98432       ['cConv3[0][0]']                 \n",
            "                                                                                                  \n",
            " fMaxP2 (MaxPooling1D)          (None, 15, 128)      0           ['fConv4[0][0]']                 \n",
            "                                                                                                  \n",
            " cMaxP2 (MaxPooling1D)          (None, 7, 128)       0           ['cConv4[0][0]']                 \n",
            "                                                                                                  \n",
            " fFlat1 (Flatten)               (None, 1920)         0           ['fMaxP2[0][0]']                 \n",
            "                                                                                                  \n",
            " cFlat1 (Flatten)               (None, 896)          0           ['cMaxP2[0][0]']                 \n",
            "                                                                                                  \n",
            " merge_1 (Concatenate)          (None, 2816)         0           ['fFlat1[0][0]',                 \n",
            "                                                                  'cFlat1[0][0]']                 \n",
            "                                                                                                  \n",
            " mDrop1 (Dropout)               (None, 2816)         0           ['merge_1[0][0]']                \n",
            "                                                                                                  \n",
            " reshape1 (Reshape)             (None, 1, 2816)      0           ['mDrop1[0][0]']                 \n",
            "                                                                                                  \n",
            " lstm (LSTM)                    (None, 1, 64)        737536      ['reshape1[0][0]']               \n",
            "                                                                                                  \n",
            " lstm_1 (LSTM)                  (None, 64)           33024       ['lstm[0][0]']                   \n",
            "                                                                                                  \n",
            " outLayer (Dense)               (None, 5)            325         ['lstm_1[0][0]']                 \n",
            "                                                                                                  \n",
            "==================================================================================================\n",
            "Total params: 1,336,613\n",
            "Trainable params: 1,336,613\n",
            "Non-trainable params: 0\n",
            "__________________________________________________________________________________________________\n"
          ]
        }
      ],
      "source": [
        "final_teacher_model=model_b(verbose=VBS) #60 epochs teacher model"
      ]
    },
    {
      "cell_type": "code",
      "execution_count": null,
      "metadata": {
        "id": "SBSSDyx6ORzi"
      },
      "outputs": [],
      "source": [
        "final_teacher_model.compile(optimizer=optimizer, loss='categorical_crossentropy', metrics=['accuracy'])"
      ]
    },
    {
      "cell_type": "code",
      "execution_count": null,
      "metadata": {
        "colab": {
          "base_uri": "https://localhost:8080/"
        },
        "id": "tabSL2YMOR1q",
        "outputId": "61957bd8-022a-472a-82bf-e7d65501dba5"
      },
      "outputs": [
        {
          "output_type": "stream",
          "name": "stdout",
          "text": [
            "Epoch 1/60\n",
            "3773/3773 [==============================] - 48s 8ms/step - loss: 0.6674 - accuracy: 0.7316\n",
            "Epoch 2/60\n",
            "3773/3773 [==============================] - 29s 8ms/step - loss: 0.3828 - accuracy: 0.8497\n",
            "Epoch 3/60\n",
            "3773/3773 [==============================] - 29s 8ms/step - loss: 0.3181 - accuracy: 0.8761\n",
            "Epoch 4/60\n",
            "3773/3773 [==============================] - 29s 8ms/step - loss: 0.2783 - accuracy: 0.8907\n",
            "Epoch 5/60\n",
            "3773/3773 [==============================] - 29s 8ms/step - loss: 0.2462 - accuracy: 0.9030\n",
            "Epoch 6/60\n",
            "3773/3773 [==============================] - 29s 8ms/step - loss: 0.2234 - accuracy: 0.9121\n",
            "Epoch 7/60\n",
            "3773/3773 [==============================] - 29s 8ms/step - loss: 0.2064 - accuracy: 0.9188\n",
            "Epoch 8/60\n",
            "3773/3773 [==============================] - 29s 8ms/step - loss: 0.1938 - accuracy: 0.9239\n",
            "Epoch 9/60\n",
            "3773/3773 [==============================] - 29s 8ms/step - loss: 0.1828 - accuracy: 0.9269\n",
            "Epoch 10/60\n",
            "3773/3773 [==============================] - 29s 8ms/step - loss: 0.1770 - accuracy: 0.9297\n",
            "Epoch 11/60\n",
            "3773/3773 [==============================] - 29s 8ms/step - loss: 0.1683 - accuracy: 0.9326\n",
            "Epoch 12/60\n",
            "3773/3773 [==============================] - 29s 8ms/step - loss: 0.1609 - accuracy: 0.9363\n",
            "Epoch 13/60\n",
            "3773/3773 [==============================] - 29s 8ms/step - loss: 0.1564 - accuracy: 0.9382\n",
            "Epoch 14/60\n",
            "3773/3773 [==============================] - 29s 8ms/step - loss: 0.1495 - accuracy: 0.9411\n",
            "Epoch 15/60\n",
            "3773/3773 [==============================] - 29s 8ms/step - loss: 0.1470 - accuracy: 0.9413\n",
            "Epoch 16/60\n",
            "3773/3773 [==============================] - 29s 8ms/step - loss: 0.1420 - accuracy: 0.9435\n",
            "Epoch 17/60\n",
            "3773/3773 [==============================] - 29s 8ms/step - loss: 0.1375 - accuracy: 0.9458\n",
            "Epoch 18/60\n",
            "3773/3773 [==============================] - 29s 8ms/step - loss: 0.1333 - accuracy: 0.9471\n",
            "Epoch 19/60\n",
            "3773/3773 [==============================] - 29s 8ms/step - loss: 0.1302 - accuracy: 0.9484\n",
            "Epoch 20/60\n",
            "3773/3773 [==============================] - 29s 8ms/step - loss: 0.1275 - accuracy: 0.9493\n",
            "Epoch 21/60\n",
            "3773/3773 [==============================] - 30s 8ms/step - loss: 0.1251 - accuracy: 0.9504\n",
            "Epoch 22/60\n",
            "3773/3773 [==============================] - 29s 8ms/step - loss: 0.1223 - accuracy: 0.9518\n",
            "Epoch 23/60\n",
            "3773/3773 [==============================] - 29s 8ms/step - loss: 0.1181 - accuracy: 0.9541\n",
            "Epoch 24/60\n",
            "3773/3773 [==============================] - 29s 8ms/step - loss: 0.1168 - accuracy: 0.9543\n",
            "Epoch 25/60\n",
            "3773/3773 [==============================] - 29s 8ms/step - loss: 0.1141 - accuracy: 0.9556\n",
            "Epoch 26/60\n",
            "3773/3773 [==============================] - 29s 8ms/step - loss: 0.1114 - accuracy: 0.9559\n",
            "Epoch 27/60\n",
            "3773/3773 [==============================] - 29s 8ms/step - loss: 0.1104 - accuracy: 0.9563\n",
            "Epoch 28/60\n",
            "3773/3773 [==============================] - 29s 8ms/step - loss: 0.1090 - accuracy: 0.9574\n",
            "Epoch 29/60\n",
            "3773/3773 [==============================] - 30s 8ms/step - loss: 0.1045 - accuracy: 0.9596\n",
            "Epoch 30/60\n",
            "3773/3773 [==============================] - 29s 8ms/step - loss: 0.1034 - accuracy: 0.9598\n",
            "Epoch 31/60\n",
            "3773/3773 [==============================] - 29s 8ms/step - loss: 0.1010 - accuracy: 0.9602\n",
            "Epoch 32/60\n",
            "3773/3773 [==============================] - 29s 8ms/step - loss: 0.1004 - accuracy: 0.9610\n",
            "Epoch 33/60\n",
            "3773/3773 [==============================] - 29s 8ms/step - loss: 0.0968 - accuracy: 0.9623\n",
            "Epoch 34/60\n",
            "3773/3773 [==============================] - 29s 8ms/step - loss: 0.0948 - accuracy: 0.9636\n",
            "Epoch 35/60\n",
            "3773/3773 [==============================] - 29s 8ms/step - loss: 0.0952 - accuracy: 0.9624\n",
            "Epoch 36/60\n",
            "3773/3773 [==============================] - 30s 8ms/step - loss: 0.0934 - accuracy: 0.9641\n",
            "Epoch 37/60\n",
            "3773/3773 [==============================] - 29s 8ms/step - loss: 0.0911 - accuracy: 0.9648\n",
            "Epoch 38/60\n",
            "3773/3773 [==============================] - 29s 8ms/step - loss: 0.0896 - accuracy: 0.9654\n",
            "Epoch 39/60\n",
            "3773/3773 [==============================] - 29s 8ms/step - loss: 0.0871 - accuracy: 0.9664\n",
            "Epoch 40/60\n",
            "3773/3773 [==============================] - 29s 8ms/step - loss: 0.0861 - accuracy: 0.9664\n",
            "Epoch 41/60\n",
            "3773/3773 [==============================] - 29s 8ms/step - loss: 0.0850 - accuracy: 0.9670\n",
            "Epoch 42/60\n",
            "3773/3773 [==============================] - 29s 8ms/step - loss: 0.0831 - accuracy: 0.9680\n",
            "Epoch 43/60\n",
            "3773/3773 [==============================] - 29s 8ms/step - loss: 0.0821 - accuracy: 0.9685\n",
            "Epoch 44/60\n",
            "3773/3773 [==============================] - 29s 8ms/step - loss: 0.0815 - accuracy: 0.9688\n",
            "Epoch 45/60\n",
            "3773/3773 [==============================] - 29s 8ms/step - loss: 0.0791 - accuracy: 0.9700\n",
            "Epoch 46/60\n",
            "3773/3773 [==============================] - 29s 8ms/step - loss: 0.0786 - accuracy: 0.9702\n",
            "Epoch 47/60\n",
            "3773/3773 [==============================] - 29s 8ms/step - loss: 0.0783 - accuracy: 0.9697\n",
            "Epoch 48/60\n",
            "3773/3773 [==============================] - 30s 8ms/step - loss: 0.0765 - accuracy: 0.9709\n",
            "Epoch 49/60\n",
            "3773/3773 [==============================] - 30s 8ms/step - loss: 0.0748 - accuracy: 0.9716\n",
            "Epoch 50/60\n",
            "3773/3773 [==============================] - 30s 8ms/step - loss: 0.0746 - accuracy: 0.9715\n",
            "Epoch 51/60\n",
            "3773/3773 [==============================] - 29s 8ms/step - loss: 0.0726 - accuracy: 0.9729\n",
            "Epoch 52/60\n",
            "3773/3773 [==============================] - 30s 8ms/step - loss: 0.0732 - accuracy: 0.9724\n",
            "Epoch 53/60\n",
            "3773/3773 [==============================] - 29s 8ms/step - loss: 0.0711 - accuracy: 0.9727\n",
            "Epoch 54/60\n",
            "3773/3773 [==============================] - 29s 8ms/step - loss: 0.0689 - accuracy: 0.9735\n",
            "Epoch 55/60\n",
            "3773/3773 [==============================] - 29s 8ms/step - loss: 0.0690 - accuracy: 0.9739\n",
            "Epoch 56/60\n",
            "3773/3773 [==============================] - 29s 8ms/step - loss: 0.0696 - accuracy: 0.9733\n",
            "Epoch 57/60\n",
            "3773/3773 [==============================] - 29s 8ms/step - loss: 0.0673 - accuracy: 0.9743\n",
            "Epoch 58/60\n",
            "3773/3773 [==============================] - 30s 8ms/step - loss: 0.0657 - accuracy: 0.9754\n",
            "Epoch 59/60\n",
            "3773/3773 [==============================] - 30s 8ms/step - loss: 0.0670 - accuracy: 0.9746\n",
            "Epoch 60/60\n",
            "3773/3773 [==============================] - 30s 8ms/step - loss: 0.0649 - accuracy: 0.9756\n"
          ]
        },
        {
          "output_type": "execute_result",
          "data": {
            "text/plain": [
              "<keras.callbacks.History at 0x7fdcc8bace50>"
            ]
          },
          "metadata": {},
          "execution_count": 31
        }
      ],
      "source": [
        "final_teacher_model.fit(x_dt_rshp, y_dt_, epochs=60)"
      ]
    },
    {
      "cell_type": "code",
      "execution_count": null,
      "metadata": {
        "colab": {
          "base_uri": "https://localhost:8080/"
        },
        "id": "TUAOgY8QOR3w",
        "outputId": "a828abdd-73dd-4a7c-cd0c-1e145dca6776"
      },
      "outputs": [
        {
          "output_type": "stream",
          "name": "stdout",
          "text": [
            "32/32 [==============================] - 1s 6ms/step - loss: 1.4617 - accuracy: 0.7753\n"
          ]
        }
      ],
      "source": [
        "accuracy_final_teacher_model = final_teacher_model.evaluate(x_test_dt_rshp, y_test_dt_)"
      ]
    },
    {
      "cell_type": "code",
      "execution_count": null,
      "metadata": {
        "id": "S4RUsethOR56"
      },
      "outputs": [],
      "source": [
        "preds_final_teacher_model = final_teacher_model.predict(x_test_dt_rshp)"
      ]
    },
    {
      "cell_type": "code",
      "execution_count": null,
      "metadata": {
        "id": "c8-ibYOeOR8i"
      },
      "outputs": [],
      "source": [
        "preds_final_teacher_model_fin=np.argmax(preds_final_teacher_model,axis=1)"
      ]
    },
    {
      "cell_type": "code",
      "execution_count": null,
      "metadata": {
        "colab": {
          "base_uri": "https://localhost:8080/"
        },
        "id": "DXxTXrZqOR-w",
        "outputId": "e2f124e2-36f6-4319-9772-5718dace1d41"
      },
      "outputs": [
        {
          "output_type": "execute_result",
          "data": {
            "text/plain": [
              "array([0.90506329, 0.11023622, 0.86857143, 0.55555556])"
            ]
          },
          "metadata": {},
          "execution_count": 35
        }
      ],
      "source": [
        "from sklearn.metrics import confusion_matrix\n",
        "matrix_final_teacher = confusion_matrix(y_test_dt, preds_final_teacher_model_fin)\n",
        "matrix_final_teacher.diagonal()/matrix_final_teacher.sum(axis=1)"
      ]
    },
    {
      "cell_type": "code",
      "execution_count": null,
      "metadata": {
        "colab": {
          "base_uri": "https://localhost:8080/"
        },
        "id": "UO6xVB_VOSA9",
        "outputId": "6bc8514b-634c-463c-993c-a0a5c5b18136"
      },
      "outputs": [
        {
          "output_type": "stream",
          "name": "stdout",
          "text": [
            "Precision: 0.5551027158170014\n",
            "Recall: 0.6098566239346663\n",
            "F1 score: 0.5517491265954609\n",
            "              precision    recall  f1-score   support\n",
            "\n",
            "           0   0.972789  0.905063  0.937705       632\n",
            "           1   0.318182  0.110236  0.163743       127\n",
            "           2   0.684685  0.868571  0.765743       175\n",
            "           4   0.244755  0.555556  0.339806        63\n",
            "\n",
            "    accuracy                       0.775326       997\n",
            "   macro avg   0.555103  0.609857  0.551749       997\n",
            "weighted avg   0.792830  0.775326  0.771151       997\n",
            "\n"
          ]
        }
      ],
      "source": [
        "#y_sub_dt\n",
        "from sklearn.metrics import precision_score, recall_score\n",
        "f1_final_teacher = f1_score(y_test_dt, preds_final_teacher_model_fin, average=\"macro\")\n",
        "prec_final_teacher = precision_score(y_test_dt, preds_final_teacher_model_fin, average=\"macro\")\n",
        "recall_final_teacher = recall_score(y_test_dt, preds_final_teacher_model_fin, average=\"macro\")\n",
        "if VBS:\n",
        "    print(\"Precision: {}\".format(prec_final_teacher)) \n",
        "    print(\"Recall: {}\".format(recall_final_teacher))\n",
        "    print(\"F1 score: {}\".format(f1_final_teacher))\n",
        "\n",
        "    report_final_teacher = classification_report(y_test_dt, preds_final_teacher_model_fin, digits=6)\n",
        "    print(report_final_teacher)"
      ]
    },
    {
      "cell_type": "code",
      "execution_count": null,
      "metadata": {
        "id": "ZbbN_3Z9OSC6"
      },
      "outputs": [],
      "source": [
        "#student model\n",
        "def get_model_1d_cnn():\n",
        "    nclass = 5\n",
        "    inp = Input(shape=(3000, 1))\n",
        "    img_1 = Conv1D(4, kernel_size=6, activation=activations.relu, strides=1, padding=\"valid\")(inp)\n",
        "    #img_1 = Conv1D(128, kernel_size=5, activation=activations.relu, strides=1, padding=\"valid\")(img_1)\n",
        "    img_1 = MaxPooling1D(pool_size=2)(img_1)\n",
        "    #img_1 = SpatialDropout1D(rate=0.2)(img_1)\n",
        "    img_1 = Conv1D(4, kernel_size=5, activation=activations.relu, strides=1, padding=\"valid\")(img_1)\n",
        "    #img_1 = Conv1D(256, kernel_size=7, activation=activations.relu, strides=1, padding=\"valid\")(img_1)\n",
        "    img_1 = MaxPooling1D(pool_size=2)(img_1)\n",
        "    #img_1 = SpatialDropout1D(rate=0.01)(img_1)\n",
        "    img_1 = Conv1D(10, kernel_size=4, activation=activations.relu, strides=1, padding=\"valid\")(img_1)\n",
        "    #img_1 = Conv1D(64, kernel_size=4, activation=activations.relu, strides=1, padding=\"valid\")(img_1)\n",
        "    img_1 = MaxPooling1D(pool_size=2)(img_1)\n",
        "    #img_1 = SpatialDropout1D(rate=0.01)(img_1)\n",
        "    img_1 = Conv1D(10, kernel_size=4, activation=activations.relu, strides=1, padding=\"valid\")(img_1)\n",
        "    img_1 = MaxPooling1D(pool_size=2)(img_1)\n",
        "    #img_1 = Conv1D(64, kernel_size=6, activation=activations.relu, strides=1, padding=\"valid\")(img_1)\n",
        "    #img_1 = MaxPooling1D(pool_size=2)(img_1)\n",
        "    img_1 = Flatten()(img_1)\n",
        "\n",
        "    \n",
        "    dense_1 = Dropout(rate=0.5)(img_1)\n",
        "    #dense_1 = Dropout(rate=0.05)(Dense(64, activation=activations.relu, name=\"dense_2\")(dense_1))\n",
        "    dense_1 = Dense(nclass, activation=activations.softmax)(dense_1)\n",
        "\n",
        "    model = Model(inputs=inp, outputs=dense_1)\n",
        "    opt = Adam(0.001)\n",
        "\n",
        "    model.compile(optimizer=opt, loss='categorical_crossentropy', metrics=['acc'])\n",
        "    model.summary()\n",
        "    return model"
      ]
    },
    {
      "cell_type": "code",
      "source": [
        "from keras.layers import Input, Dense, LSTM, MaxPooling1D, Conv1D\n",
        "from keras.models import Model"
      ],
      "metadata": {
        "id": "v6oIBsjVTYdX"
      },
      "execution_count": null,
      "outputs": []
    },
    {
      "cell_type": "code",
      "execution_count": null,
      "metadata": {
        "colab": {
          "base_uri": "https://localhost:8080/"
        },
        "id": "O8GedjGiOSFe",
        "outputId": "ec4002a4-6c4f-4af3-d71f-b1e778d2f147"
      },
      "outputs": [
        {
          "output_type": "stream",
          "name": "stdout",
          "text": [
            "Model: \"model_1\"\n",
            "_________________________________________________________________\n",
            " Layer (type)                Output Shape              Param #   \n",
            "=================================================================\n",
            " input_1 (InputLayer)        [(None, 3000, 1)]         0         \n",
            "                                                                 \n",
            " conv1d (Conv1D)             (None, 2995, 4)           28        \n",
            "                                                                 \n",
            " max_pooling1d (MaxPooling1D  (None, 1497, 4)          0         \n",
            " )                                                               \n",
            "                                                                 \n",
            " conv1d_1 (Conv1D)           (None, 1493, 4)           84        \n",
            "                                                                 \n",
            " max_pooling1d_1 (MaxPooling  (None, 746, 4)           0         \n",
            " 1D)                                                             \n",
            "                                                                 \n",
            " conv1d_2 (Conv1D)           (None, 743, 10)           170       \n",
            "                                                                 \n",
            " max_pooling1d_2 (MaxPooling  (None, 371, 10)          0         \n",
            " 1D)                                                             \n",
            "                                                                 \n",
            " conv1d_3 (Conv1D)           (None, 368, 10)           410       \n",
            "                                                                 \n",
            " max_pooling1d_3 (MaxPooling  (None, 184, 10)          0         \n",
            " 1D)                                                             \n",
            "                                                                 \n",
            " flatten (Flatten)           (None, 1840)              0         \n",
            "                                                                 \n",
            " dropout (Dropout)           (None, 1840)              0         \n",
            "                                                                 \n",
            " dense (Dense)               (None, 5)                 9205      \n",
            "                                                                 \n",
            "=================================================================\n",
            "Total params: 9,897\n",
            "Trainable params: 9,897\n",
            "Non-trainable params: 0\n",
            "_________________________________________________________________\n"
          ]
        }
      ],
      "source": [
        "#student_model=get_model_cnn()\n",
        "final_student_model=get_model_1d_cnn()"
      ]
    },
    {
      "cell_type": "code",
      "execution_count": null,
      "metadata": {
        "id": "vdm7PGWfOSHl"
      },
      "outputs": [],
      "source": [
        "class Distiller(keras.Model):\n",
        "    def __init__(self, student, teacher):\n",
        "        super(Distiller, self).__init__()\n",
        "        self.teacher = teacher\n",
        "        self.student = student\n",
        "\n",
        "    def compile(\n",
        "        self,\n",
        "        optimizer,\n",
        "        metrics,\n",
        "        student_loss_fn,\n",
        "        distillation_loss_fn,\n",
        "        alpha=0.1,\n",
        "        temperature=3,\n",
        "    ):\n",
        "        \"\"\" Configure the distiller.\n",
        "\n",
        "        Args:\n",
        "            optimizer: Keras optimizer for the student weights\n",
        "            metrics: Keras metrics for evaluation\n",
        "            student_loss_fn: Loss function of difference between student\n",
        "                predictions and ground-truth\n",
        "            distillation_loss_fn: Loss function of difference between soft\n",
        "                student predictions and soft teacher predictions\n",
        "            alpha: weight to student_loss_fn and 1-alpha to distillation_loss_fn\n",
        "            temperature: Temperature for softening probability distributions.\n",
        "                Larger temperature gives softer distributions.\n",
        "        \"\"\"\n",
        "        super(Distiller, self).compile(optimizer=optimizer, metrics=metrics)\n",
        "        self.student_loss_fn = student_loss_fn\n",
        "        self.distillation_loss_fn = distillation_loss_fn\n",
        "        self.alpha = alpha\n",
        "        self.temperature = temperature\n",
        "\n",
        "    def train_step(self, data):\n",
        "        # Unpack data\n",
        "        x, y = data\n",
        "\n",
        "        # Forward pass of teacher\n",
        "        teacher_predictions = self.teacher(x, training=False)\n",
        "\n",
        "        with tf.GradientTape() as tape:\n",
        "            # Forward pass of student\n",
        "            student_predictions = self.student(x, training=True)\n",
        "\n",
        "            # Compute losses\n",
        "            student_loss = self.student_loss_fn(y, student_predictions)\n",
        "            distillation_loss = self.distillation_loss_fn(\n",
        "                tf.nn.softmax(teacher_predictions / self.temperature, axis=1),\n",
        "                tf.nn.softmax(student_predictions / self.temperature, axis=1),\n",
        "            )\n",
        "            loss = self.alpha * student_loss + (1 - self.alpha) * distillation_loss\n",
        "\n",
        "        # Compute gradients\n",
        "        trainable_vars = self.student.trainable_variables\n",
        "        gradients = tape.gradient(loss, trainable_vars)\n",
        "\n",
        "        # Update weights\n",
        "        self.optimizer.apply_gradients(zip(gradients, trainable_vars))\n",
        "\n",
        "        # Update the metrics configured in `compile()`.\n",
        "        self.compiled_metrics.update_state(y, student_predictions)\n",
        "\n",
        "        # Return a dict of performance\n",
        "        results = {m.name: m.result() for m in self.metrics}\n",
        "        results.update(\n",
        "            {\"student_loss\": student_loss, \"distillation_loss\": distillation_loss}\n",
        "        )\n",
        "        return results\n",
        "\n",
        "    def test_step(self, data):\n",
        "        # Unpack the data\n",
        "        x, y = data\n",
        "\n",
        "        # Compute predictions\n",
        "        y_prediction = self.student(x, training=False)\n",
        "\n",
        "        # Calculate the loss\n",
        "        student_loss = self.student_loss_fn(y, y_prediction)\n",
        "\n",
        "        # Update the metrics.\n",
        "        self.compiled_metrics.update_state(y, y_prediction)\n",
        "\n",
        "        # Return a dict of performance\n",
        "        results = {m.name: m.result() for m in self.metrics}\n",
        "        results.update({\"student_loss\": student_loss})\n",
        "        return results\n"
      ]
    },
    {
      "cell_type": "code",
      "execution_count": null,
      "metadata": {
        "colab": {
          "base_uri": "https://localhost:8080/"
        },
        "id": "F2lGloSTOjgi",
        "outputId": "8a71d9bc-786e-446d-e76b-54197239da64"
      },
      "outputs": [
        {
          "output_type": "stream",
          "name": "stdout",
          "text": [
            "Epoch 1/70\n",
            "3773/3773 [==============================] - 32s 8ms/step - categorical_accuracy: 0.6896 - student_loss: 0.7606 - distillation_loss: 0.0016\n",
            "Epoch 2/70\n",
            "3773/3773 [==============================] - 30s 8ms/step - categorical_accuracy: 0.7724 - student_loss: 0.5544 - distillation_loss: 0.0012\n",
            "Epoch 3/70\n",
            "3773/3773 [==============================] - 30s 8ms/step - categorical_accuracy: 0.7892 - student_loss: 0.5130 - distillation_loss: 0.0011\n",
            "Epoch 4/70\n",
            "3773/3773 [==============================] - 29s 8ms/step - categorical_accuracy: 0.8034 - student_loss: 0.4833 - distillation_loss: 0.0010\n",
            "Epoch 5/70\n",
            "3773/3773 [==============================] - 29s 8ms/step - categorical_accuracy: 0.8139 - student_loss: 0.4605 - distillation_loss: 9.9406e-04\n",
            "Epoch 6/70\n",
            "3773/3773 [==============================] - 29s 8ms/step - categorical_accuracy: 0.8237 - student_loss: 0.4357 - distillation_loss: 9.3697e-04\n",
            "Epoch 7/70\n",
            "3773/3773 [==============================] - 29s 8ms/step - categorical_accuracy: 0.8312 - student_loss: 0.4198 - distillation_loss: 8.9760e-04\n",
            "Epoch 8/70\n",
            "3773/3773 [==============================] - 29s 8ms/step - categorical_accuracy: 0.8383 - student_loss: 0.4051 - distillation_loss: 8.6450e-04\n",
            "Epoch 9/70\n",
            "3773/3773 [==============================] - 29s 8ms/step - categorical_accuracy: 0.8433 - student_loss: 0.3948 - distillation_loss: 8.3927e-04\n",
            "Epoch 10/70\n",
            "3773/3773 [==============================] - 29s 8ms/step - categorical_accuracy: 0.8471 - student_loss: 0.3864 - distillation_loss: 8.2079e-04\n",
            "Epoch 11/70\n",
            "3773/3773 [==============================] - 29s 8ms/step - categorical_accuracy: 0.8495 - student_loss: 0.3806 - distillation_loss: 8.1044e-04\n",
            "Epoch 12/70\n",
            "3773/3773 [==============================] - 29s 8ms/step - categorical_accuracy: 0.8533 - student_loss: 0.3712 - distillation_loss: 7.8823e-04\n",
            "Epoch 13/70\n",
            "3773/3773 [==============================] - 30s 8ms/step - categorical_accuracy: 0.8533 - student_loss: 0.3698 - distillation_loss: 7.8880e-04\n",
            "Epoch 14/70\n",
            "3773/3773 [==============================] - 30s 8ms/step - categorical_accuracy: 0.8563 - student_loss: 0.3656 - distillation_loss: 7.7596e-04\n",
            "Epoch 15/70\n",
            "3773/3773 [==============================] - 30s 8ms/step - categorical_accuracy: 0.8569 - student_loss: 0.3608 - distillation_loss: 7.6826e-04\n",
            "Epoch 16/70\n",
            "3773/3773 [==============================] - 29s 8ms/step - categorical_accuracy: 0.8566 - student_loss: 0.3615 - distillation_loss: 7.6785e-04\n",
            "Epoch 17/70\n",
            "3773/3773 [==============================] - 29s 8ms/step - categorical_accuracy: 0.8587 - student_loss: 0.3583 - distillation_loss: 7.6365e-04\n",
            "Epoch 18/70\n",
            "3773/3773 [==============================] - 29s 8ms/step - categorical_accuracy: 0.8590 - student_loss: 0.3553 - distillation_loss: 7.5745e-04\n",
            "Epoch 19/70\n",
            "3773/3773 [==============================] - 29s 8ms/step - categorical_accuracy: 0.8607 - student_loss: 0.3534 - distillation_loss: 7.5003e-04\n",
            "Epoch 20/70\n",
            "3773/3773 [==============================] - 30s 8ms/step - categorical_accuracy: 0.8616 - student_loss: 0.3484 - distillation_loss: 7.4302e-04\n",
            "Epoch 21/70\n",
            "3773/3773 [==============================] - 29s 8ms/step - categorical_accuracy: 0.8616 - student_loss: 0.3487 - distillation_loss: 7.4445e-04\n",
            "Epoch 22/70\n",
            "3773/3773 [==============================] - 29s 8ms/step - categorical_accuracy: 0.8629 - student_loss: 0.3468 - distillation_loss: 7.3914e-04\n",
            "Epoch 23/70\n",
            "3773/3773 [==============================] - 29s 8ms/step - categorical_accuracy: 0.8632 - student_loss: 0.3454 - distillation_loss: 7.3651e-04\n",
            "Epoch 24/70\n",
            "3773/3773 [==============================] - 29s 8ms/step - categorical_accuracy: 0.8636 - student_loss: 0.3440 - distillation_loss: 7.3448e-04\n",
            "Epoch 25/70\n",
            "3773/3773 [==============================] - 29s 8ms/step - categorical_accuracy: 0.8655 - student_loss: 0.3432 - distillation_loss: 7.3101e-04\n",
            "Epoch 26/70\n",
            "3773/3773 [==============================] - 29s 8ms/step - categorical_accuracy: 0.8651 - student_loss: 0.3410 - distillation_loss: 7.2944e-04\n",
            "Epoch 27/70\n",
            "3773/3773 [==============================] - 29s 8ms/step - categorical_accuracy: 0.8671 - student_loss: 0.3392 - distillation_loss: 7.2095e-04\n",
            "Epoch 28/70\n",
            "3773/3773 [==============================] - 29s 8ms/step - categorical_accuracy: 0.8655 - student_loss: 0.3402 - distillation_loss: 7.2721e-04\n",
            "Epoch 29/70\n",
            "3773/3773 [==============================] - 29s 8ms/step - categorical_accuracy: 0.8662 - student_loss: 0.3375 - distillation_loss: 7.2094e-04\n",
            "Epoch 30/70\n",
            "3773/3773 [==============================] - 29s 8ms/step - categorical_accuracy: 0.8671 - student_loss: 0.3354 - distillation_loss: 7.1845e-04\n",
            "Epoch 31/70\n",
            "3773/3773 [==============================] - 29s 8ms/step - categorical_accuracy: 0.8676 - student_loss: 0.3347 - distillation_loss: 7.1564e-04\n",
            "Epoch 32/70\n",
            "3773/3773 [==============================] - 29s 8ms/step - categorical_accuracy: 0.8681 - student_loss: 0.3344 - distillation_loss: 7.1613e-04\n",
            "Epoch 33/70\n",
            "3773/3773 [==============================] - 29s 8ms/step - categorical_accuracy: 0.8691 - student_loss: 0.3349 - distillation_loss: 7.1552e-04\n",
            "Epoch 34/70\n",
            "3773/3773 [==============================] - 29s 8ms/step - categorical_accuracy: 0.8694 - student_loss: 0.3317 - distillation_loss: 7.0951e-04\n",
            "Epoch 35/70\n",
            "3773/3773 [==============================] - 29s 8ms/step - categorical_accuracy: 0.8697 - student_loss: 0.3320 - distillation_loss: 7.1064e-04\n",
            "Epoch 36/70\n",
            "3773/3773 [==============================] - 29s 8ms/step - categorical_accuracy: 0.8684 - student_loss: 0.3329 - distillation_loss: 7.1393e-04\n",
            "Epoch 37/70\n",
            "3773/3773 [==============================] - 29s 8ms/step - categorical_accuracy: 0.8690 - student_loss: 0.3314 - distillation_loss: 7.1130e-04\n",
            "Epoch 38/70\n",
            "3773/3773 [==============================] - 29s 8ms/step - categorical_accuracy: 0.8689 - student_loss: 0.3306 - distillation_loss: 7.0896e-04\n",
            "Epoch 39/70\n",
            "3773/3773 [==============================] - 29s 8ms/step - categorical_accuracy: 0.8687 - student_loss: 0.3307 - distillation_loss: 7.0930e-04\n",
            "Epoch 40/70\n",
            "3773/3773 [==============================] - 29s 8ms/step - categorical_accuracy: 0.8699 - student_loss: 0.3293 - distillation_loss: 7.0725e-04\n",
            "Epoch 41/70\n",
            "3773/3773 [==============================] - 29s 8ms/step - categorical_accuracy: 0.8706 - student_loss: 0.3286 - distillation_loss: 7.0501e-04\n",
            "Epoch 42/70\n",
            "3773/3773 [==============================] - 29s 8ms/step - categorical_accuracy: 0.8714 - student_loss: 0.3273 - distillation_loss: 7.0146e-04\n",
            "Epoch 43/70\n",
            "3773/3773 [==============================] - 29s 8ms/step - categorical_accuracy: 0.8715 - student_loss: 0.3275 - distillation_loss: 7.0056e-04\n",
            "Epoch 44/70\n",
            "3773/3773 [==============================] - 29s 8ms/step - categorical_accuracy: 0.8708 - student_loss: 0.3266 - distillation_loss: 7.0234e-04\n",
            "Epoch 45/70\n",
            "3773/3773 [==============================] - 29s 8ms/step - categorical_accuracy: 0.8714 - student_loss: 0.3273 - distillation_loss: 7.0145e-04\n",
            "Epoch 46/70\n",
            "3773/3773 [==============================] - 29s 8ms/step - categorical_accuracy: 0.8704 - student_loss: 0.3264 - distillation_loss: 7.0074e-04\n",
            "Epoch 47/70\n",
            "3773/3773 [==============================] - 29s 8ms/step - categorical_accuracy: 0.8721 - student_loss: 0.3256 - distillation_loss: 6.9604e-04\n",
            "Epoch 48/70\n",
            "3773/3773 [==============================] - 29s 8ms/step - categorical_accuracy: 0.8718 - student_loss: 0.3253 - distillation_loss: 6.9912e-04\n",
            "Epoch 49/70\n",
            "3773/3773 [==============================] - 29s 8ms/step - categorical_accuracy: 0.8711 - student_loss: 0.3269 - distillation_loss: 7.0203e-04\n",
            "Epoch 50/70\n",
            "3773/3773 [==============================] - 29s 8ms/step - categorical_accuracy: 0.8710 - student_loss: 0.3255 - distillation_loss: 6.9813e-04\n",
            "Epoch 51/70\n",
            "3773/3773 [==============================] - 29s 8ms/step - categorical_accuracy: 0.8736 - student_loss: 0.3240 - distillation_loss: 6.9328e-04\n",
            "Epoch 52/70\n",
            "3773/3773 [==============================] - 29s 8ms/step - categorical_accuracy: 0.8728 - student_loss: 0.3238 - distillation_loss: 6.9422e-04\n",
            "Epoch 53/70\n",
            "3773/3773 [==============================] - 29s 8ms/step - categorical_accuracy: 0.8715 - student_loss: 0.3236 - distillation_loss: 6.9659e-04\n",
            "Epoch 54/70\n",
            "3773/3773 [==============================] - 29s 8ms/step - categorical_accuracy: 0.8736 - student_loss: 0.3215 - distillation_loss: 6.9313e-04\n",
            "Epoch 55/70\n",
            "3773/3773 [==============================] - 29s 8ms/step - categorical_accuracy: 0.8731 - student_loss: 0.3219 - distillation_loss: 6.8912e-04\n",
            "Epoch 56/70\n",
            "3773/3773 [==============================] - 30s 8ms/step - categorical_accuracy: 0.8727 - student_loss: 0.3234 - distillation_loss: 6.9347e-04\n",
            "Epoch 57/70\n",
            "3773/3773 [==============================] - 29s 8ms/step - categorical_accuracy: 0.8720 - student_loss: 0.3243 - distillation_loss: 6.9779e-04\n",
            "Epoch 58/70\n",
            "3773/3773 [==============================] - 29s 8ms/step - categorical_accuracy: 0.8719 - student_loss: 0.3239 - distillation_loss: 6.9386e-04\n",
            "Epoch 59/70\n",
            "3773/3773 [==============================] - 29s 8ms/step - categorical_accuracy: 0.8726 - student_loss: 0.3226 - distillation_loss: 6.9153e-04\n",
            "Epoch 60/70\n",
            "3773/3773 [==============================] - 29s 8ms/step - categorical_accuracy: 0.8733 - student_loss: 0.3234 - distillation_loss: 6.9368e-04\n",
            "Epoch 61/70\n",
            "3773/3773 [==============================] - 29s 8ms/step - categorical_accuracy: 0.8732 - student_loss: 0.3213 - distillation_loss: 6.8864e-04\n",
            "Epoch 62/70\n",
            "3773/3773 [==============================] - 30s 8ms/step - categorical_accuracy: 0.8738 - student_loss: 0.3205 - distillation_loss: 6.8772e-04\n",
            "Epoch 63/70\n",
            "3773/3773 [==============================] - 30s 8ms/step - categorical_accuracy: 0.8746 - student_loss: 0.3204 - distillation_loss: 6.8510e-04\n",
            "Epoch 64/70\n",
            "3773/3773 [==============================] - 29s 8ms/step - categorical_accuracy: 0.8735 - student_loss: 0.3218 - distillation_loss: 6.9024e-04\n",
            "Epoch 65/70\n",
            "3773/3773 [==============================] - 29s 8ms/step - categorical_accuracy: 0.8737 - student_loss: 0.3229 - distillation_loss: 6.9270e-04\n",
            "Epoch 66/70\n",
            "3773/3773 [==============================] - 29s 8ms/step - categorical_accuracy: 0.8740 - student_loss: 0.3207 - distillation_loss: 6.8888e-04\n",
            "Epoch 67/70\n",
            "3773/3773 [==============================] - 29s 8ms/step - categorical_accuracy: 0.8734 - student_loss: 0.3215 - distillation_loss: 6.8791e-04\n",
            "Epoch 68/70\n",
            "3773/3773 [==============================] - 29s 8ms/step - categorical_accuracy: 0.8740 - student_loss: 0.3224 - distillation_loss: 6.8975e-04\n",
            "Epoch 69/70\n",
            "3773/3773 [==============================] - 29s 8ms/step - categorical_accuracy: 0.8746 - student_loss: 0.3215 - distillation_loss: 6.8565e-04\n",
            "Epoch 70/70\n",
            "3773/3773 [==============================] - 29s 8ms/step - categorical_accuracy: 0.8736 - student_loss: 0.3216 - distillation_loss: 6.8907e-04\n"
          ]
        },
        {
          "output_type": "execute_result",
          "data": {
            "text/plain": [
              "<keras.callbacks.History at 0x7fdcd514ed90>"
            ]
          },
          "metadata": {},
          "execution_count": 41
        }
      ],
      "source": [
        "# Initialize and compile distiller\n",
        "distiller = Distiller(student=final_student_model, teacher=final_teacher_model)\n",
        "distiller.compile(\n",
        "    optimizer=keras.optimizers.Adam(),\n",
        "    metrics=[keras.metrics.CategoricalAccuracy()],\n",
        "    student_loss_fn=keras.losses.CategoricalCrossentropy(from_logits=True),\n",
        "    distillation_loss_fn=keras.losses.KLDivergence(),\n",
        "    alpha=1.0,\n",
        "    temperature=5,\n",
        ")\n",
        "\n",
        "# Distill teacher to student\n",
        "distiller.fit(x_dt_rshp, y_dt_, epochs=70)\n",
        "\n",
        "# Evaluate student on test dataset\n",
        "#distiller.evaluate(x_test, y_test)"
      ]
    },
    {
      "cell_type": "code",
      "execution_count": null,
      "metadata": {
        "colab": {
          "base_uri": "https://localhost:8080/"
        },
        "id": "K3P_wSMqOjjB",
        "outputId": "21d23c39-baad-4afd-ce27-fa38a636e68f"
      },
      "outputs": [
        {
          "output_type": "stream",
          "name": "stdout",
          "text": [
            "32/32 [==============================] - 0s 3ms/step - categorical_accuracy: 0.7813 - student_loss: 1.0607\n"
          ]
        }
      ],
      "source": [
        "accuracy_distiller = distiller.evaluate(x_test_dt_rshp, y_test_dt_)"
      ]
    },
    {
      "cell_type": "code",
      "execution_count": null,
      "metadata": {
        "id": "iKYQ1K8zOjlS"
      },
      "outputs": [],
      "source": [
        "preds_final_student_model = final_student_model.predict(x_test_dt_rshp)"
      ]
    },
    {
      "cell_type": "code",
      "execution_count": null,
      "metadata": {
        "id": "zCX1c2fGOqPZ"
      },
      "outputs": [],
      "source": [
        "preds_final_student_model_fin=np.argmax(preds_final_student_model,axis=1)"
      ]
    },
    {
      "cell_type": "code",
      "execution_count": null,
      "metadata": {
        "colab": {
          "base_uri": "https://localhost:8080/"
        },
        "id": "j-Z4m0NyOqRq",
        "outputId": "ae079b27-f0d0-4d78-cbac-f2bfb6c8365b"
      },
      "outputs": [
        {
          "output_type": "execute_result",
          "data": {
            "text/plain": [
              "array([0.92405063, 0.1496063 , 0.82857143, 0.49206349])"
            ]
          },
          "metadata": {},
          "execution_count": 45
        }
      ],
      "source": [
        "from sklearn.metrics import confusion_matrix\n",
        "matrix_final_student = confusion_matrix(y_test_dt, preds_final_student_model_fin)\n",
        "matrix_final_student.diagonal()/matrix_final_student.sum(axis=1)"
      ]
    },
    {
      "cell_type": "code",
      "execution_count": null,
      "metadata": {
        "colab": {
          "base_uri": "https://localhost:8080/"
        },
        "id": "Gc_yaoTlOqT2",
        "outputId": "6c21851b-d2dd-49d1-c5f8-58fcd680ee75"
      },
      "outputs": [
        {
          "output_type": "stream",
          "name": "stdout",
          "text": [
            "Precision: 0.5590992708136313\n",
            "Recall: 0.5985729631897279\n",
            "F1 score: 0.5594939257388387\n",
            "              precision    recall  f1-score   support\n",
            "\n",
            "           0   0.966887  0.924051  0.944984       632\n",
            "           1   0.311475  0.149606  0.202128       127\n",
            "           2   0.721393  0.828571  0.771277       175\n",
            "           4   0.236641  0.492063  0.319588        63\n",
            "\n",
            "    accuracy                       0.781344       997\n",
            "   macro avg   0.559099  0.598573  0.559494       997\n",
            "weighted avg   0.794165  0.781344  0.780348       997\n",
            "\n"
          ]
        }
      ],
      "source": [
        "#y_sub_dt\n",
        "from sklearn.metrics import precision_score, recall_score\n",
        "f1_final_student = f1_score(y_test_dt, preds_final_student_model_fin, average=\"macro\")\n",
        "prec_final_student = precision_score(y_test_dt, preds_final_student_model_fin, average=\"macro\")\n",
        "recall_final_student = recall_score(y_test_dt, preds_final_student_model_fin, average=\"macro\")\n",
        "if VBS:\n",
        "    print(\"Precision: {}\".format(prec_final_student)) \n",
        "    print(\"Recall: {}\".format(recall_final_student))\n",
        "    print(\"F1 score: {}\".format(f1_final_student))\n",
        "\n",
        "    report_final_student = classification_report(y_test_dt, preds_final_student_model_fin, digits=6)\n",
        "    print(report_final_student)"
      ]
    },
    {
      "cell_type": "code",
      "execution_count": null,
      "metadata": {
        "id": "CPVFz6lTOqWD"
      },
      "outputs": [],
      "source": [
        ""
      ]
    }
  ],
  "metadata": {
    "colab": {
      "collapsed_sections": [],
      "name": "sub_473(sub_4)KD with personalization (trained the teacher model with different epoch combinations (40,50,60,70)).ipynb",
      "provenance": []
    },
    "kernelspec": {
      "display_name": "Python 3",
      "name": "python3"
    },
    "language_info": {
      "name": "python"
    },
    "gpuClass": "standard"
  },
  "nbformat": 4,
  "nbformat_minor": 0
}