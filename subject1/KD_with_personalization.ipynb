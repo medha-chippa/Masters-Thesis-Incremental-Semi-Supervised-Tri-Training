{
 "cells": [
  {
   "cell_type": "code",
   "execution_count": null,
   "metadata": {
    "id": "y8_8UslWPwBT"
   },
   "outputs": [],
   "source": [
    "import numpy as np\n",
    "import pandas as pd\n",
    "from sklearn.model_selection import train_test_split\n",
    "\n",
    "from numpy import mean\n",
    "from numpy import std\n",
    "\n",
    "from matplotlib import pyplot\n",
    "from sklearn.metrics import accuracy_score,confusion_matrix,classification_report\n",
    "from sklearn.preprocessing import QuantileTransformer\n",
    "from sklearn.pipeline import Pipeline\n",
    "\n",
    "from scipy.stats import mode"
   ]
  },
  {
   "cell_type": "code",
   "execution_count": null,
   "metadata": {
    "id": "h28AuzD_P2G6"
   },
   "outputs": [],
   "source": [
    "from pydrive.auth import GoogleAuth\n",
    "from pydrive.drive import GoogleDrive\n",
    "from google.colab import auth\n",
    "from oauth2client.client import GoogleCredentials"
   ]
  },
  {
   "cell_type": "code",
   "execution_count": null,
   "metadata": {
    "id": "F-F5aOYSP2LF"
   },
   "outputs": [],
   "source": [
    "auth.authenticate_user()\n",
    "gauth = GoogleAuth()\n",
    "gauth.credentials = GoogleCredentials.get_application_default()\n",
    "drive = GoogleDrive(gauth)"
   ]
  },
  {
   "cell_type": "code",
   "execution_count": null,
   "metadata": {
    "colab": {
     "base_uri": "https://localhost:8080/"
    },
    "id": "W55D-9irP2OD",
    "outputId": "243af1c4-6682-4601-a0dd-7d0b789874cb"
   },
   "outputs": [
    {
     "name": "stdout",
     "output_type": "stream",
     "text": [
      "Mounted at /content/gdrive\n"
     ]
    }
   ],
   "source": [
    "#npz files can only be loaded using /gdrive path\n",
    "from google.colab import drive\n",
    "drive.mount('/content/gdrive')\n",
    "#%cd /gdrive"
   ]
  },
  {
   "cell_type": "code",
   "execution_count": null,
   "metadata": {
    "colab": {
     "base_uri": "https://localhost:8080/"
    },
    "id": "PludW6j-P6vX",
    "outputId": "1448cd6a-db6d-494a-8627-15b459bd30bf"
   },
   "outputs": [
    {
     "name": "stdout",
     "output_type": "stream",
     "text": [
      "Looking in indexes: https://pypi.org/simple, https://us-python.pkg.dev/colab-wheels/public/simple/\n",
      "Collecting mne\n",
      "  Downloading mne-1.0.3-py3-none-any.whl (7.5 MB)\n",
      "\u001b[K     |████████████████████████████████| 7.5 MB 7.0 MB/s \n",
      "\u001b[?25hRequirement already satisfied: tqdm in /usr/local/lib/python3.7/dist-packages (from mne) (4.64.0)\n",
      "Requirement already satisfied: packaging in /usr/local/lib/python3.7/dist-packages (from mne) (21.3)\n",
      "Requirement already satisfied: matplotlib in /usr/local/lib/python3.7/dist-packages (from mne) (3.2.2)\n",
      "Requirement already satisfied: decorator in /usr/local/lib/python3.7/dist-packages (from mne) (4.4.2)\n",
      "Requirement already satisfied: pooch>=1.5 in /usr/local/lib/python3.7/dist-packages (from mne) (1.6.0)\n",
      "Requirement already satisfied: numpy>=1.15.4 in /usr/local/lib/python3.7/dist-packages (from mne) (1.21.6)\n",
      "Requirement already satisfied: jinja2 in /usr/local/lib/python3.7/dist-packages (from mne) (2.11.3)\n",
      "Requirement already satisfied: scipy>=1.1.0 in /usr/local/lib/python3.7/dist-packages (from mne) (1.7.3)\n",
      "Requirement already satisfied: requests>=2.19.0 in /usr/local/lib/python3.7/dist-packages (from pooch>=1.5->mne) (2.23.0)\n",
      "Requirement already satisfied: appdirs>=1.3.0 in /usr/local/lib/python3.7/dist-packages (from pooch>=1.5->mne) (1.4.4)\n",
      "Requirement already satisfied: pyparsing!=3.0.5,>=2.0.2 in /usr/local/lib/python3.7/dist-packages (from packaging->mne) (3.0.9)\n",
      "Requirement already satisfied: idna<3,>=2.5 in /usr/local/lib/python3.7/dist-packages (from requests>=2.19.0->pooch>=1.5->mne) (2.10)\n",
      "Requirement already satisfied: certifi>=2017.4.17 in /usr/local/lib/python3.7/dist-packages (from requests>=2.19.0->pooch>=1.5->mne) (2022.6.15)\n",
      "Requirement already satisfied: chardet<4,>=3.0.2 in /usr/local/lib/python3.7/dist-packages (from requests>=2.19.0->pooch>=1.5->mne) (3.0.4)\n",
      "Requirement already satisfied: urllib3!=1.25.0,!=1.25.1,<1.26,>=1.21.1 in /usr/local/lib/python3.7/dist-packages (from requests>=2.19.0->pooch>=1.5->mne) (1.24.3)\n",
      "Requirement already satisfied: MarkupSafe>=0.23 in /usr/local/lib/python3.7/dist-packages (from jinja2->mne) (2.0.1)\n",
      "Requirement already satisfied: kiwisolver>=1.0.1 in /usr/local/lib/python3.7/dist-packages (from matplotlib->mne) (1.4.3)\n",
      "Requirement already satisfied: cycler>=0.10 in /usr/local/lib/python3.7/dist-packages (from matplotlib->mne) (0.11.0)\n",
      "Requirement already satisfied: python-dateutil>=2.1 in /usr/local/lib/python3.7/dist-packages (from matplotlib->mne) (2.8.2)\n",
      "Requirement already satisfied: typing-extensions in /usr/local/lib/python3.7/dist-packages (from kiwisolver>=1.0.1->matplotlib->mne) (4.1.1)\n",
      "Requirement already satisfied: six>=1.5 in /usr/local/lib/python3.7/dist-packages (from python-dateutil>=2.1->matplotlib->mne) (1.15.0)\n",
      "Installing collected packages: mne\n",
      "Successfully installed mne-1.0.3\n"
     ]
    }
   ],
   "source": [
    "!pip install mne"
   ]
  },
  {
   "cell_type": "code",
   "execution_count": null,
   "metadata": {
    "id": "_1O1bfmjP6w2"
   },
   "outputs": [],
   "source": [
    "#import pyeeg\n",
    "from tensorflow import keras "
   ]
  },
  {
   "cell_type": "code",
   "execution_count": null,
   "metadata": {
    "id": "I9Lglo7-P60e"
   },
   "outputs": [],
   "source": [
    "%matplotlib inline\n",
    "\n",
    "import glob\n",
    "import math\n",
    "import ntpath\n",
    "import random, os, sys\n",
    "import numpy as np\n",
    "import pandas as pd\n",
    "import tensorflow as tf\n",
    "import matplotlib.pyplot as plt\n",
    "import seaborn as sns\n",
    "#import edfreader\n",
    "#import models\n",
    "import mne\n",
    "#import pyeeg\n",
    "import warnings\n",
    "warnings.filterwarnings('ignore')\n",
    "\n",
    "from matplotlib.backends.backend_pdf import PdfPages\n",
    "from mne.datasets.sleep_physionet._utils import _fetch_one, _data_path, AGE_SLEEP_RECORDS, _check_subjects\n",
    "from datetime import datetime\n",
    "from mne import Epochs, pick_types, find_events\n",
    "from mne.io import concatenate_raws, read_raw_edf\n",
    "from mne.time_frequency import psd_welch\n",
    "from sklearn.ensemble import RandomForestClassifier\n",
    "from sklearn.metrics import classification_report\n",
    "\n",
    "from tqdm.notebook import tqdm\n",
    "from sklearn.model_selection import train_test_split\n",
    "from tensorflow import keras\n",
    "\n",
    "from tensorflow.keras.utils import to_categorical\n",
    "\n",
    "from tensorflow.keras.callbacks import ModelCheckpoint, ReduceLROnPlateau, CSVLogger\n",
    "import imblearn\n",
    "from imblearn.over_sampling import SMOTE\n",
    "from sklearn.svm import SVC\n",
    "import joblib\n",
    "\n",
    "from sklearn.metrics import make_scorer, f1_score, accuracy_score, classification_report, log_loss\n",
    "from sklearn.metrics import roc_auc_score, confusion_matrix, roc_auc_score, roc_curve\n",
    "\n",
    "from sklearn.tree import DecisionTreeClassifier\n",
    "from sklearn.neighbors import KNeighborsClassifier\n",
    "from sklearn.ensemble import RandomForestClassifier, AdaBoostClassifier, GradientBoostingClassifier\n",
    "from sklearn.naive_bayes import GaussianNB\n",
    "from sklearn.discriminant_analysis import LinearDiscriminantAnalysis\n",
    "from sklearn.discriminant_analysis import QuadraticDiscriminantAnalysis\n",
    "#from xgboost import XGBClassifier\n",
    "#import xgboost"
   ]
  },
  {
   "cell_type": "code",
   "execution_count": null,
   "metadata": {
    "id": "tf6-foYQQFUF"
   },
   "outputs": [],
   "source": [
    "VBS = True  # constant boolean to enable/disbale verbose\n",
    "EPOCH_SEC_SIZE = 30  # Epoch duration selection\n",
    "seed = 42  # seed value for the random seeds\n",
    "batch_size = 64\n",
    "number_of_files = 100 #100 npz files, 50 subjects, each suject has 2 nights, so 2 files per subject (50*2)=100\n",
    "\n",
    "# values to label the stages\n",
    "UNKNOWN = -1\n",
    "W = 0\n",
    "N1 = 1\n",
    "N2 = 2\n",
    "N3 = 3\n",
    "REM = 4\n",
    "\n",
    "# making string dictionary for the label values\n",
    "label_dict = {\n",
    "    \"UNKNOWN\"  : UNKNOWN,\n",
    "    \"W\"        : W,\n",
    "    \"N1\"       : N1,\n",
    "    \"N2\"       : N2,\n",
    "    \"N3\"       : N3,\n",
    "    \"REM\"      : REM\n",
    "}\n",
    "\n",
    "# converting from label values to strings \n",
    "class_dict = {\n",
    "    -1: \"UNKNOWN\",\n",
    "    0 : \"W\",\n",
    "    1 : \"N1\",\n",
    "    2 : \"N2\",\n",
    "    3 : \"N3\",\n",
    "    4 : \"REM\"\n",
    "}\n",
    "\n",
    "# annotation dictionary to convert from string to label values\n",
    "annot2label = {\n",
    "    \"Sleep stage ?\": -1,\n",
    "    \"Movement time\": -1,\n",
    "    \"Sleep stage W\": 0,\n",
    "    \"Sleep stage 1\": 1,\n",
    "    \"Sleep stage 2\": 2,\n",
    "    \"Sleep stage 3\": 3,\n",
    "    \"Sleep stage 4\": 3,\n",
    "    \"Sleep stage R\": 4\n",
    "}\n",
    "#project_path = os.path.abspath(os.getcwd())  # finding the current project path in windows"
   ]
  },
  {
   "cell_type": "code",
   "execution_count": null,
   "metadata": {
    "id": "LVIQYKRqQFZF"
   },
   "outputs": [],
   "source": [
    "from tensorflow.keras import optimizers, losses, activations, models\n",
    "from tensorflow.keras.models import Model, load_model\n",
    "from tensorflow.keras.layers import GlobalMaxPool1D, GlobalAveragePooling1D, concatenate, SpatialDropout1D, TimeDistributed, Bidirectional, LSTM\n",
    "from tensorflow.keras.layers import Input, Conv1D, Dense, Dropout, MaxPool1D, Activation\n",
    "from tensorflow.keras.layers import Reshape, LSTM, TimeDistributed, Bidirectional, BatchNormalization, Flatten, RepeatVector\n",
    "from tensorflow.keras.optimizers import Adam\n",
    "#from keras_contrib.layers import CRF\n",
    "\n",
    "from scipy.signal import butter, lfilter\n"
   ]
  },
  {
   "cell_type": "code",
   "execution_count": null,
   "metadata": {
    "id": "Kd4xCZ9aQcL5"
   },
   "outputs": [],
   "source": [
    "Fs = 100\n",
    "from keras.utils import np_utils"
   ]
  },
  {
   "cell_type": "code",
   "execution_count": null,
   "metadata": {
    "id": "y5cw0csyQcNu"
   },
   "outputs": [],
   "source": [
    "transfer_set_with_tri_trained_sub_labeled_dt=pd.read_csv('/content/gdrive/My Drive/physionet/ensemble/50_subs/transfer_set_plus_sub_dt_with_tri_trained_labels_keras_way.csv',header=None)"
   ]
  },
  {
   "cell_type": "code",
   "execution_count": null,
   "metadata": {
    "id": "9j7JLQOhT6rQ"
   },
   "outputs": [],
   "source": [
    "transfer_set_with_tri_trained_sub_labeled_dt=pd.read_csv('/content/gdrive/My Drive/physionet/ensemble/50_subs/transfer_set_plus_sub_dt_with_tri_trained_labels_keras_way_sub_482_trial_3.csv',header=None) #the transfer set + subject specific train data , inc semi sup tri-trained labels obtained the keras way (train_on_batch)"
   ]
  },
  {
   "cell_type": "code",
   "execution_count": null,
   "metadata": {
    "colab": {
     "base_uri": "https://localhost:8080/",
     "height": 488
    },
    "id": "URKgybX3RH_T",
    "outputId": "f33b6e0d-8c78-498f-81c2-239be96411e5"
   },
   "outputs": [
    {
     "data": {
      "text/html": [
       "\n",
       "  <div id=\"df-2e551936-e3a6-489a-8bfc-5da3840ff52f\">\n",
       "    <div class=\"colab-df-container\">\n",
       "      <div>\n",
       "<style scoped>\n",
       "    .dataframe tbody tr th:only-of-type {\n",
       "        vertical-align: middle;\n",
       "    }\n",
       "\n",
       "    .dataframe tbody tr th {\n",
       "        vertical-align: top;\n",
       "    }\n",
       "\n",
       "    .dataframe thead th {\n",
       "        text-align: right;\n",
       "    }\n",
       "</style>\n",
       "<table border=\"1\" class=\"dataframe\">\n",
       "  <thead>\n",
       "    <tr style=\"text-align: right;\">\n",
       "      <th></th>\n",
       "      <th>0</th>\n",
       "      <th>1</th>\n",
       "      <th>2</th>\n",
       "      <th>3</th>\n",
       "      <th>4</th>\n",
       "      <th>5</th>\n",
       "      <th>6</th>\n",
       "      <th>7</th>\n",
       "      <th>8</th>\n",
       "      <th>9</th>\n",
       "      <th>...</th>\n",
       "      <th>2991</th>\n",
       "      <th>2992</th>\n",
       "      <th>2993</th>\n",
       "      <th>2994</th>\n",
       "      <th>2995</th>\n",
       "      <th>2996</th>\n",
       "      <th>2997</th>\n",
       "      <th>2998</th>\n",
       "      <th>2999</th>\n",
       "      <th>3000</th>\n",
       "    </tr>\n",
       "  </thead>\n",
       "  <tbody>\n",
       "    <tr>\n",
       "      <th>0</th>\n",
       "      <td>0.068014</td>\n",
       "      <td>0.082915</td>\n",
       "      <td>0.077628</td>\n",
       "      <td>0.074744</td>\n",
       "      <td>0.060804</td>\n",
       "      <td>0.063688</td>\n",
       "      <td>0.050710</td>\n",
       "      <td>0.029561</td>\n",
       "      <td>0.010815</td>\n",
       "      <td>0.008412</td>\n",
       "      <td>...</td>\n",
       "      <td>-0.010334</td>\n",
       "      <td>-0.016102</td>\n",
       "      <td>-0.034368</td>\n",
       "      <td>-0.055998</td>\n",
       "      <td>-0.074263</td>\n",
       "      <td>-0.071860</td>\n",
       "      <td>-0.077147</td>\n",
       "      <td>-0.084838</td>\n",
       "      <td>-0.090125</td>\n",
       "      <td>4</td>\n",
       "    </tr>\n",
       "    <tr>\n",
       "      <th>1</th>\n",
       "      <td>0.104729</td>\n",
       "      <td>0.054513</td>\n",
       "      <td>-0.020131</td>\n",
       "      <td>-0.064918</td>\n",
       "      <td>-0.122825</td>\n",
       "      <td>-0.127801</td>\n",
       "      <td>-0.107443</td>\n",
       "      <td>-0.086633</td>\n",
       "      <td>-0.051799</td>\n",
       "      <td>-0.033251</td>\n",
       "      <td>...</td>\n",
       "      <td>-0.123729</td>\n",
       "      <td>-0.120563</td>\n",
       "      <td>-0.129158</td>\n",
       "      <td>-0.149968</td>\n",
       "      <td>-0.173945</td>\n",
       "      <td>-0.187064</td>\n",
       "      <td>-0.171231</td>\n",
       "      <td>-0.149516</td>\n",
       "      <td>-0.121467</td>\n",
       "      <td>3</td>\n",
       "    </tr>\n",
       "    <tr>\n",
       "      <th>2</th>\n",
       "      <td>0.002281</td>\n",
       "      <td>-0.031309</td>\n",
       "      <td>-0.007672</td>\n",
       "      <td>-0.020527</td>\n",
       "      <td>-0.003110</td>\n",
       "      <td>-0.011404</td>\n",
       "      <td>0.006013</td>\n",
       "      <td>-0.029236</td>\n",
       "      <td>-0.025089</td>\n",
       "      <td>-0.042091</td>\n",
       "      <td>...</td>\n",
       "      <td>0.088122</td>\n",
       "      <td>0.057850</td>\n",
       "      <td>0.027992</td>\n",
       "      <td>0.038359</td>\n",
       "      <td>0.040847</td>\n",
       "      <td>0.053703</td>\n",
       "      <td>0.072779</td>\n",
       "      <td>0.055362</td>\n",
       "      <td>0.029651</td>\n",
       "      <td>2</td>\n",
       "    </tr>\n",
       "    <tr>\n",
       "      <th>3</th>\n",
       "      <td>-0.025235</td>\n",
       "      <td>-0.037732</td>\n",
       "      <td>-0.033406</td>\n",
       "      <td>-0.031964</td>\n",
       "      <td>-0.034848</td>\n",
       "      <td>-0.041097</td>\n",
       "      <td>-0.031484</td>\n",
       "      <td>-0.025716</td>\n",
       "      <td>-0.019948</td>\n",
       "      <td>-0.030522</td>\n",
       "      <td>...</td>\n",
       "      <td>-0.015141</td>\n",
       "      <td>-0.013699</td>\n",
       "      <td>-0.018025</td>\n",
       "      <td>-0.020909</td>\n",
       "      <td>-0.021390</td>\n",
       "      <td>-0.002644</td>\n",
       "      <td>-0.020428</td>\n",
       "      <td>-0.025235</td>\n",
       "      <td>-0.024754</td>\n",
       "      <td>2</td>\n",
       "    </tr>\n",
       "    <tr>\n",
       "      <th>4</th>\n",
       "      <td>0.097914</td>\n",
       "      <td>-0.100520</td>\n",
       "      <td>-0.044574</td>\n",
       "      <td>-0.079540</td>\n",
       "      <td>-0.071235</td>\n",
       "      <td>-0.029713</td>\n",
       "      <td>-0.041951</td>\n",
       "      <td>0.000445</td>\n",
       "      <td>-0.031024</td>\n",
       "      <td>0.172217</td>\n",
       "      <td>...</td>\n",
       "      <td>0.167409</td>\n",
       "      <td>0.220732</td>\n",
       "      <td>0.191011</td>\n",
       "      <td>0.119767</td>\n",
       "      <td>0.165661</td>\n",
       "      <td>0.270996</td>\n",
       "      <td>0.200190</td>\n",
       "      <td>0.246520</td>\n",
       "      <td>0.166535</td>\n",
       "      <td>0</td>\n",
       "    </tr>\n",
       "    <tr>\n",
       "      <th>...</th>\n",
       "      <td>...</td>\n",
       "      <td>...</td>\n",
       "      <td>...</td>\n",
       "      <td>...</td>\n",
       "      <td>...</td>\n",
       "      <td>...</td>\n",
       "      <td>...</td>\n",
       "      <td>...</td>\n",
       "      <td>...</td>\n",
       "      <td>...</td>\n",
       "      <td>...</td>\n",
       "      <td>...</td>\n",
       "      <td>...</td>\n",
       "      <td>...</td>\n",
       "      <td>...</td>\n",
       "      <td>...</td>\n",
       "      <td>...</td>\n",
       "      <td>...</td>\n",
       "      <td>...</td>\n",
       "      <td>...</td>\n",
       "      <td>...</td>\n",
       "    </tr>\n",
       "    <tr>\n",
       "      <th>119169</th>\n",
       "      <td>-0.002359</td>\n",
       "      <td>0.139156</td>\n",
       "      <td>-0.008791</td>\n",
       "      <td>0.067970</td>\n",
       "      <td>0.106136</td>\n",
       "      <td>0.143015</td>\n",
       "      <td>0.113426</td>\n",
       "      <td>0.005789</td>\n",
       "      <td>0.059822</td>\n",
       "      <td>0.031948</td>\n",
       "      <td>...</td>\n",
       "      <td>-0.274666</td>\n",
       "      <td>-0.113855</td>\n",
       "      <td>-0.155022</td>\n",
       "      <td>0.121145</td>\n",
       "      <td>-0.032377</td>\n",
       "      <td>0.225350</td>\n",
       "      <td>-0.048672</td>\n",
       "      <td>-0.414036</td>\n",
       "      <td>-0.345852</td>\n",
       "      <td>0</td>\n",
       "    </tr>\n",
       "    <tr>\n",
       "      <th>119170</th>\n",
       "      <td>-0.136259</td>\n",
       "      <td>-0.109391</td>\n",
       "      <td>-0.123891</td>\n",
       "      <td>-0.130714</td>\n",
       "      <td>-0.159288</td>\n",
       "      <td>-0.149053</td>\n",
       "      <td>-0.161847</td>\n",
       "      <td>-0.102141</td>\n",
       "      <td>-0.091905</td>\n",
       "      <td>-0.026228</td>\n",
       "      <td>...</td>\n",
       "      <td>-0.175068</td>\n",
       "      <td>-0.268039</td>\n",
       "      <td>-0.137538</td>\n",
       "      <td>-0.193406</td>\n",
       "      <td>-0.041581</td>\n",
       "      <td>-0.178906</td>\n",
       "      <td>-0.052243</td>\n",
       "      <td>-0.233495</td>\n",
       "      <td>-0.170376</td>\n",
       "      <td>0</td>\n",
       "    </tr>\n",
       "    <tr>\n",
       "      <th>119171</th>\n",
       "      <td>0.016081</td>\n",
       "      <td>0.049101</td>\n",
       "      <td>-0.076117</td>\n",
       "      <td>-0.019083</td>\n",
       "      <td>-0.055534</td>\n",
       "      <td>-0.042669</td>\n",
       "      <td>-0.136583</td>\n",
       "      <td>-0.041811</td>\n",
       "      <td>-0.082550</td>\n",
       "      <td>-0.010078</td>\n",
       "      <td>...</td>\n",
       "      <td>-0.121573</td>\n",
       "      <td>-0.110424</td>\n",
       "      <td>-0.085123</td>\n",
       "      <td>-0.070114</td>\n",
       "      <td>-0.073544</td>\n",
       "      <td>-0.042240</td>\n",
       "      <td>-0.027231</td>\n",
       "      <td>0.014366</td>\n",
       "      <td>-0.018225</td>\n",
       "      <td>0</td>\n",
       "    </tr>\n",
       "    <tr>\n",
       "      <th>119172</th>\n",
       "      <td>-0.009220</td>\n",
       "      <td>-0.006647</td>\n",
       "      <td>-0.006218</td>\n",
       "      <td>-0.010506</td>\n",
       "      <td>0.011364</td>\n",
       "      <td>-0.017368</td>\n",
       "      <td>-0.025515</td>\n",
       "      <td>-0.032377</td>\n",
       "      <td>-0.011793</td>\n",
       "      <td>0.010935</td>\n",
       "      <td>...</td>\n",
       "      <td>-0.045242</td>\n",
       "      <td>-0.006218</td>\n",
       "      <td>0.029804</td>\n",
       "      <td>0.075260</td>\n",
       "      <td>0.103991</td>\n",
       "      <td>0.104420</td>\n",
       "      <td>0.073544</td>\n",
       "      <td>0.057678</td>\n",
       "      <td>0.033663</td>\n",
       "      <td>2</td>\n",
       "    </tr>\n",
       "    <tr>\n",
       "      <th>119173</th>\n",
       "      <td>0.007890</td>\n",
       "      <td>-0.079964</td>\n",
       "      <td>-0.121332</td>\n",
       "      <td>-0.080390</td>\n",
       "      <td>-0.072714</td>\n",
       "      <td>-0.021963</td>\n",
       "      <td>0.009596</td>\n",
       "      <td>0.013434</td>\n",
       "      <td>0.027081</td>\n",
       "      <td>-0.027934</td>\n",
       "      <td>...</td>\n",
       "      <td>0.027508</td>\n",
       "      <td>0.044567</td>\n",
       "      <td>0.044993</td>\n",
       "      <td>0.051817</td>\n",
       "      <td>0.078685</td>\n",
       "      <td>0.100435</td>\n",
       "      <td>0.136685</td>\n",
       "      <td>0.148626</td>\n",
       "      <td>0.104273</td>\n",
       "      <td>2</td>\n",
       "    </tr>\n",
       "  </tbody>\n",
       "</table>\n",
       "<p>119174 rows × 3001 columns</p>\n",
       "</div>\n",
       "      <button class=\"colab-df-convert\" onclick=\"convertToInteractive('df-2e551936-e3a6-489a-8bfc-5da3840ff52f')\"\n",
       "              title=\"Convert this dataframe to an interactive table.\"\n",
       "              style=\"display:none;\">\n",
       "        \n",
       "  <svg xmlns=\"http://www.w3.org/2000/svg\" height=\"24px\"viewBox=\"0 0 24 24\"\n",
       "       width=\"24px\">\n",
       "    <path d=\"M0 0h24v24H0V0z\" fill=\"none\"/>\n",
       "    <path d=\"M18.56 5.44l.94 2.06.94-2.06 2.06-.94-2.06-.94-.94-2.06-.94 2.06-2.06.94zm-11 1L8.5 8.5l.94-2.06 2.06-.94-2.06-.94L8.5 2.5l-.94 2.06-2.06.94zm10 10l.94 2.06.94-2.06 2.06-.94-2.06-.94-.94-2.06-.94 2.06-2.06.94z\"/><path d=\"M17.41 7.96l-1.37-1.37c-.4-.4-.92-.59-1.43-.59-.52 0-1.04.2-1.43.59L10.3 9.45l-7.72 7.72c-.78.78-.78 2.05 0 2.83L4 21.41c.39.39.9.59 1.41.59.51 0 1.02-.2 1.41-.59l7.78-7.78 2.81-2.81c.8-.78.8-2.07 0-2.86zM5.41 20L4 18.59l7.72-7.72 1.47 1.35L5.41 20z\"/>\n",
       "  </svg>\n",
       "      </button>\n",
       "      \n",
       "  <style>\n",
       "    .colab-df-container {\n",
       "      display:flex;\n",
       "      flex-wrap:wrap;\n",
       "      gap: 12px;\n",
       "    }\n",
       "\n",
       "    .colab-df-convert {\n",
       "      background-color: #E8F0FE;\n",
       "      border: none;\n",
       "      border-radius: 50%;\n",
       "      cursor: pointer;\n",
       "      display: none;\n",
       "      fill: #1967D2;\n",
       "      height: 32px;\n",
       "      padding: 0 0 0 0;\n",
       "      width: 32px;\n",
       "    }\n",
       "\n",
       "    .colab-df-convert:hover {\n",
       "      background-color: #E2EBFA;\n",
       "      box-shadow: 0px 1px 2px rgba(60, 64, 67, 0.3), 0px 1px 3px 1px rgba(60, 64, 67, 0.15);\n",
       "      fill: #174EA6;\n",
       "    }\n",
       "\n",
       "    [theme=dark] .colab-df-convert {\n",
       "      background-color: #3B4455;\n",
       "      fill: #D2E3FC;\n",
       "    }\n",
       "\n",
       "    [theme=dark] .colab-df-convert:hover {\n",
       "      background-color: #434B5C;\n",
       "      box-shadow: 0px 1px 3px 1px rgba(0, 0, 0, 0.15);\n",
       "      filter: drop-shadow(0px 1px 2px rgba(0, 0, 0, 0.3));\n",
       "      fill: #FFFFFF;\n",
       "    }\n",
       "  </style>\n",
       "\n",
       "      <script>\n",
       "        const buttonEl =\n",
       "          document.querySelector('#df-2e551936-e3a6-489a-8bfc-5da3840ff52f button.colab-df-convert');\n",
       "        buttonEl.style.display =\n",
       "          google.colab.kernel.accessAllowed ? 'block' : 'none';\n",
       "\n",
       "        async function convertToInteractive(key) {\n",
       "          const element = document.querySelector('#df-2e551936-e3a6-489a-8bfc-5da3840ff52f');\n",
       "          const dataTable =\n",
       "            await google.colab.kernel.invokeFunction('convertToInteractive',\n",
       "                                                     [key], {});\n",
       "          if (!dataTable) return;\n",
       "\n",
       "          const docLinkHtml = 'Like what you see? Visit the ' +\n",
       "            '<a target=\"_blank\" href=https://colab.research.google.com/notebooks/data_table.ipynb>data table notebook</a>'\n",
       "            + ' to learn more about interactive tables.';\n",
       "          element.innerHTML = '';\n",
       "          dataTable['output_type'] = 'display_data';\n",
       "          await google.colab.output.renderOutput(dataTable, element);\n",
       "          const docLink = document.createElement('div');\n",
       "          docLink.innerHTML = docLinkHtml;\n",
       "          element.appendChild(docLink);\n",
       "        }\n",
       "      </script>\n",
       "    </div>\n",
       "  </div>\n",
       "  "
      ],
      "text/plain": [
       "            0         1         2         3         4         5         6     \\\n",
       "0       0.068014  0.082915  0.077628  0.074744  0.060804  0.063688  0.050710   \n",
       "1       0.104729  0.054513 -0.020131 -0.064918 -0.122825 -0.127801 -0.107443   \n",
       "2       0.002281 -0.031309 -0.007672 -0.020527 -0.003110 -0.011404  0.006013   \n",
       "3      -0.025235 -0.037732 -0.033406 -0.031964 -0.034848 -0.041097 -0.031484   \n",
       "4       0.097914 -0.100520 -0.044574 -0.079540 -0.071235 -0.029713 -0.041951   \n",
       "...          ...       ...       ...       ...       ...       ...       ...   \n",
       "119169 -0.002359  0.139156 -0.008791  0.067970  0.106136  0.143015  0.113426   \n",
       "119170 -0.136259 -0.109391 -0.123891 -0.130714 -0.159288 -0.149053 -0.161847   \n",
       "119171  0.016081  0.049101 -0.076117 -0.019083 -0.055534 -0.042669 -0.136583   \n",
       "119172 -0.009220 -0.006647 -0.006218 -0.010506  0.011364 -0.017368 -0.025515   \n",
       "119173  0.007890 -0.079964 -0.121332 -0.080390 -0.072714 -0.021963  0.009596   \n",
       "\n",
       "            7         8         9     ...      2991      2992      2993  \\\n",
       "0       0.029561  0.010815  0.008412  ... -0.010334 -0.016102 -0.034368   \n",
       "1      -0.086633 -0.051799 -0.033251  ... -0.123729 -0.120563 -0.129158   \n",
       "2      -0.029236 -0.025089 -0.042091  ...  0.088122  0.057850  0.027992   \n",
       "3      -0.025716 -0.019948 -0.030522  ... -0.015141 -0.013699 -0.018025   \n",
       "4       0.000445 -0.031024  0.172217  ...  0.167409  0.220732  0.191011   \n",
       "...          ...       ...       ...  ...       ...       ...       ...   \n",
       "119169  0.005789  0.059822  0.031948  ... -0.274666 -0.113855 -0.155022   \n",
       "119170 -0.102141 -0.091905 -0.026228  ... -0.175068 -0.268039 -0.137538   \n",
       "119171 -0.041811 -0.082550 -0.010078  ... -0.121573 -0.110424 -0.085123   \n",
       "119172 -0.032377 -0.011793  0.010935  ... -0.045242 -0.006218  0.029804   \n",
       "119173  0.013434  0.027081 -0.027934  ...  0.027508  0.044567  0.044993   \n",
       "\n",
       "            2994      2995      2996      2997      2998      2999  3000  \n",
       "0      -0.055998 -0.074263 -0.071860 -0.077147 -0.084838 -0.090125     4  \n",
       "1      -0.149968 -0.173945 -0.187064 -0.171231 -0.149516 -0.121467     3  \n",
       "2       0.038359  0.040847  0.053703  0.072779  0.055362  0.029651     2  \n",
       "3      -0.020909 -0.021390 -0.002644 -0.020428 -0.025235 -0.024754     2  \n",
       "4       0.119767  0.165661  0.270996  0.200190  0.246520  0.166535     0  \n",
       "...          ...       ...       ...       ...       ...       ...   ...  \n",
       "119169  0.121145 -0.032377  0.225350 -0.048672 -0.414036 -0.345852     0  \n",
       "119170 -0.193406 -0.041581 -0.178906 -0.052243 -0.233495 -0.170376     0  \n",
       "119171 -0.070114 -0.073544 -0.042240 -0.027231  0.014366 -0.018225     0  \n",
       "119172  0.075260  0.103991  0.104420  0.073544  0.057678  0.033663     2  \n",
       "119173  0.051817  0.078685  0.100435  0.136685  0.148626  0.104273     2  \n",
       "\n",
       "[119174 rows x 3001 columns]"
      ]
     },
     "execution_count": 12,
     "metadata": {},
     "output_type": "execute_result"
    }
   ],
   "source": [
    "transfer_set_with_tri_trained_sub_labeled_dt"
   ]
  },
  {
   "cell_type": "code",
   "execution_count": null,
   "metadata": {
    "colab": {
     "base_uri": "https://localhost:8080/"
    },
    "id": "aORZsLjVQcQW",
    "outputId": "5ef56008-db43-4923-df7f-9b46bbe0bb89"
   },
   "outputs": [
    {
     "name": "stdout",
     "output_type": "stream",
     "text": [
      "\u001b[?25l\r",
      "\u001b[K     |██▌                             | 10 kB 26.9 MB/s eta 0:00:01\r",
      "\u001b[K     |█████                           | 20 kB 31.3 MB/s eta 0:00:01\r",
      "\u001b[K     |███████▍                        | 30 kB 32.1 MB/s eta 0:00:01\r",
      "\u001b[K     |█████████▉                      | 40 kB 16.1 MB/s eta 0:00:01\r",
      "\u001b[K     |████████████▎                   | 51 kB 13.4 MB/s eta 0:00:01\r",
      "\u001b[K     |██████████████▊                 | 61 kB 15.3 MB/s eta 0:00:01\r",
      "\u001b[K     |█████████████████▏              | 71 kB 15.3 MB/s eta 0:00:01\r",
      "\u001b[K     |███████████████████▋            | 81 kB 13.0 MB/s eta 0:00:01\r",
      "\u001b[K     |██████████████████████          | 92 kB 14.4 MB/s eta 0:00:01\r",
      "\u001b[K     |████████████████████████▌       | 102 kB 14.7 MB/s eta 0:00:01\r",
      "\u001b[K     |███████████████████████████     | 112 kB 14.7 MB/s eta 0:00:01\r",
      "\u001b[K     |█████████████████████████████▍  | 122 kB 14.7 MB/s eta 0:00:01\r",
      "\u001b[K     |███████████████████████████████▉| 133 kB 14.7 MB/s eta 0:00:01\r",
      "\u001b[K     |████████████████████████████████| 133 kB 14.7 MB/s \n",
      "\u001b[?25h"
     ]
    }
   ],
   "source": [
    "pip install -q -U keras-tuner"
   ]
  },
  {
   "cell_type": "code",
   "execution_count": null,
   "metadata": {
    "id": "HAqMkbOUQcR5"
   },
   "outputs": [],
   "source": [
    "x_dt=transfer_set_with_tri_trained_sub_labeled_dt.drop([3000],axis=1)\n",
    "y_dt=transfer_set_with_tri_trained_sub_labeled_dt[3000]"
   ]
  },
  {
   "cell_type": "code",
   "execution_count": null,
   "metadata": {
    "id": "24HuXo3SQcVf"
   },
   "outputs": [],
   "source": [
    "y_dt_=np_utils.to_categorical(y_dt)"
   ]
  },
  {
   "cell_type": "code",
   "execution_count": null,
   "metadata": {
    "colab": {
     "base_uri": "https://localhost:8080/"
    },
    "id": "EInfGISPVZkk",
    "outputId": "d4f8eec8-eae1-4ad4-86d1-fe8ed5fe6161"
   },
   "outputs": [
    {
     "data": {
      "text/plain": [
       "array([[0., 0., 0., 0., 1.],\n",
       "       [0., 0., 0., 1., 0.],\n",
       "       [0., 0., 1., 0., 0.],\n",
       "       ...,\n",
       "       [0., 1., 0., 0., 0.],\n",
       "       [0., 0., 1., 0., 0.],\n",
       "       [0., 0., 1., 0., 0.]], dtype=float32)"
      ]
     },
     "execution_count": 16,
     "metadata": {},
     "output_type": "execute_result"
    }
   ],
   "source": [
    "y_dt_"
   ]
  },
  {
   "cell_type": "code",
   "execution_count": null,
   "metadata": {
    "colab": {
     "base_uri": "https://localhost:8080/"
    },
    "id": "-MFbvxnbRw_K",
    "outputId": "4932ec17-f47e-4fa7-b844-7814856d34c0"
   },
   "outputs": [
    {
     "data": {
      "text/plain": [
       "(119174, 3000)"
      ]
     },
     "execution_count": 17,
     "metadata": {},
     "output_type": "execute_result"
    }
   ],
   "source": [
    "x_dt.shape"
   ]
  },
  {
   "cell_type": "code",
   "execution_count": null,
   "metadata": {
    "colab": {
     "base_uri": "https://localhost:8080/",
     "height": 488
    },
    "id": "_pscT85Y9Wu6",
    "outputId": "5161f564-7bc8-44db-9f8d-995beea37b89"
   },
   "outputs": [
    {
     "data": {
      "text/html": [
       "\n",
       "  <div id=\"df-ea6bb5ca-00c1-45bc-a0c5-46a04f41d59f\">\n",
       "    <div class=\"colab-df-container\">\n",
       "      <div>\n",
       "<style scoped>\n",
       "    .dataframe tbody tr th:only-of-type {\n",
       "        vertical-align: middle;\n",
       "    }\n",
       "\n",
       "    .dataframe tbody tr th {\n",
       "        vertical-align: top;\n",
       "    }\n",
       "\n",
       "    .dataframe thead th {\n",
       "        text-align: right;\n",
       "    }\n",
       "</style>\n",
       "<table border=\"1\" class=\"dataframe\">\n",
       "  <thead>\n",
       "    <tr style=\"text-align: right;\">\n",
       "      <th></th>\n",
       "      <th>0</th>\n",
       "      <th>1</th>\n",
       "      <th>2</th>\n",
       "      <th>3</th>\n",
       "      <th>4</th>\n",
       "      <th>5</th>\n",
       "      <th>6</th>\n",
       "      <th>7</th>\n",
       "      <th>8</th>\n",
       "      <th>9</th>\n",
       "      <th>...</th>\n",
       "      <th>2990</th>\n",
       "      <th>2991</th>\n",
       "      <th>2992</th>\n",
       "      <th>2993</th>\n",
       "      <th>2994</th>\n",
       "      <th>2995</th>\n",
       "      <th>2996</th>\n",
       "      <th>2997</th>\n",
       "      <th>2998</th>\n",
       "      <th>2999</th>\n",
       "    </tr>\n",
       "  </thead>\n",
       "  <tbody>\n",
       "    <tr>\n",
       "      <th>0</th>\n",
       "      <td>0.068014</td>\n",
       "      <td>0.082915</td>\n",
       "      <td>0.077628</td>\n",
       "      <td>0.074744</td>\n",
       "      <td>0.060804</td>\n",
       "      <td>0.063688</td>\n",
       "      <td>0.050710</td>\n",
       "      <td>0.029561</td>\n",
       "      <td>0.010815</td>\n",
       "      <td>0.008412</td>\n",
       "      <td>...</td>\n",
       "      <td>-0.007450</td>\n",
       "      <td>-0.010334</td>\n",
       "      <td>-0.016102</td>\n",
       "      <td>-0.034368</td>\n",
       "      <td>-0.055998</td>\n",
       "      <td>-0.074263</td>\n",
       "      <td>-0.071860</td>\n",
       "      <td>-0.077147</td>\n",
       "      <td>-0.084838</td>\n",
       "      <td>-0.090125</td>\n",
       "    </tr>\n",
       "    <tr>\n",
       "      <th>1</th>\n",
       "      <td>0.104729</td>\n",
       "      <td>0.054513</td>\n",
       "      <td>-0.020131</td>\n",
       "      <td>-0.064918</td>\n",
       "      <td>-0.122825</td>\n",
       "      <td>-0.127801</td>\n",
       "      <td>-0.107443</td>\n",
       "      <td>-0.086633</td>\n",
       "      <td>-0.051799</td>\n",
       "      <td>-0.033251</td>\n",
       "      <td>...</td>\n",
       "      <td>-0.102467</td>\n",
       "      <td>-0.123729</td>\n",
       "      <td>-0.120563</td>\n",
       "      <td>-0.129158</td>\n",
       "      <td>-0.149968</td>\n",
       "      <td>-0.173945</td>\n",
       "      <td>-0.187064</td>\n",
       "      <td>-0.171231</td>\n",
       "      <td>-0.149516</td>\n",
       "      <td>-0.121467</td>\n",
       "    </tr>\n",
       "    <tr>\n",
       "      <th>2</th>\n",
       "      <td>0.002281</td>\n",
       "      <td>-0.031309</td>\n",
       "      <td>-0.007672</td>\n",
       "      <td>-0.020527</td>\n",
       "      <td>-0.003110</td>\n",
       "      <td>-0.011404</td>\n",
       "      <td>0.006013</td>\n",
       "      <td>-0.029236</td>\n",
       "      <td>-0.025089</td>\n",
       "      <td>-0.042091</td>\n",
       "      <td>...</td>\n",
       "      <td>0.054532</td>\n",
       "      <td>0.088122</td>\n",
       "      <td>0.057850</td>\n",
       "      <td>0.027992</td>\n",
       "      <td>0.038359</td>\n",
       "      <td>0.040847</td>\n",
       "      <td>0.053703</td>\n",
       "      <td>0.072779</td>\n",
       "      <td>0.055362</td>\n",
       "      <td>0.029651</td>\n",
       "    </tr>\n",
       "    <tr>\n",
       "      <th>3</th>\n",
       "      <td>-0.025235</td>\n",
       "      <td>-0.037732</td>\n",
       "      <td>-0.033406</td>\n",
       "      <td>-0.031964</td>\n",
       "      <td>-0.034848</td>\n",
       "      <td>-0.041097</td>\n",
       "      <td>-0.031484</td>\n",
       "      <td>-0.025716</td>\n",
       "      <td>-0.019948</td>\n",
       "      <td>-0.030522</td>\n",
       "      <td>...</td>\n",
       "      <td>-0.012738</td>\n",
       "      <td>-0.015141</td>\n",
       "      <td>-0.013699</td>\n",
       "      <td>-0.018025</td>\n",
       "      <td>-0.020909</td>\n",
       "      <td>-0.021390</td>\n",
       "      <td>-0.002644</td>\n",
       "      <td>-0.020428</td>\n",
       "      <td>-0.025235</td>\n",
       "      <td>-0.024754</td>\n",
       "    </tr>\n",
       "    <tr>\n",
       "      <th>4</th>\n",
       "      <td>0.097914</td>\n",
       "      <td>-0.100520</td>\n",
       "      <td>-0.044574</td>\n",
       "      <td>-0.079540</td>\n",
       "      <td>-0.071235</td>\n",
       "      <td>-0.029713</td>\n",
       "      <td>-0.041951</td>\n",
       "      <td>0.000445</td>\n",
       "      <td>-0.031024</td>\n",
       "      <td>0.172217</td>\n",
       "      <td>...</td>\n",
       "      <td>0.264003</td>\n",
       "      <td>0.167409</td>\n",
       "      <td>0.220732</td>\n",
       "      <td>0.191011</td>\n",
       "      <td>0.119767</td>\n",
       "      <td>0.165661</td>\n",
       "      <td>0.270996</td>\n",
       "      <td>0.200190</td>\n",
       "      <td>0.246520</td>\n",
       "      <td>0.166535</td>\n",
       "    </tr>\n",
       "    <tr>\n",
       "      <th>...</th>\n",
       "      <td>...</td>\n",
       "      <td>...</td>\n",
       "      <td>...</td>\n",
       "      <td>...</td>\n",
       "      <td>...</td>\n",
       "      <td>...</td>\n",
       "      <td>...</td>\n",
       "      <td>...</td>\n",
       "      <td>...</td>\n",
       "      <td>...</td>\n",
       "      <td>...</td>\n",
       "      <td>...</td>\n",
       "      <td>...</td>\n",
       "      <td>...</td>\n",
       "      <td>...</td>\n",
       "      <td>...</td>\n",
       "      <td>...</td>\n",
       "      <td>...</td>\n",
       "      <td>...</td>\n",
       "      <td>...</td>\n",
       "      <td>...</td>\n",
       "    </tr>\n",
       "    <tr>\n",
       "      <th>119169</th>\n",
       "      <td>-0.002359</td>\n",
       "      <td>0.139156</td>\n",
       "      <td>-0.008791</td>\n",
       "      <td>0.067970</td>\n",
       "      <td>0.106136</td>\n",
       "      <td>0.143015</td>\n",
       "      <td>0.113426</td>\n",
       "      <td>0.005789</td>\n",
       "      <td>0.059822</td>\n",
       "      <td>0.031948</td>\n",
       "      <td>...</td>\n",
       "      <td>-0.052532</td>\n",
       "      <td>-0.274666</td>\n",
       "      <td>-0.113855</td>\n",
       "      <td>-0.155022</td>\n",
       "      <td>0.121145</td>\n",
       "      <td>-0.032377</td>\n",
       "      <td>0.225350</td>\n",
       "      <td>-0.048672</td>\n",
       "      <td>-0.414036</td>\n",
       "      <td>-0.345852</td>\n",
       "    </tr>\n",
       "    <tr>\n",
       "      <th>119170</th>\n",
       "      <td>-0.136259</td>\n",
       "      <td>-0.109391</td>\n",
       "      <td>-0.123891</td>\n",
       "      <td>-0.130714</td>\n",
       "      <td>-0.159288</td>\n",
       "      <td>-0.149053</td>\n",
       "      <td>-0.161847</td>\n",
       "      <td>-0.102141</td>\n",
       "      <td>-0.091905</td>\n",
       "      <td>-0.026228</td>\n",
       "      <td>...</td>\n",
       "      <td>-0.323481</td>\n",
       "      <td>-0.175068</td>\n",
       "      <td>-0.268039</td>\n",
       "      <td>-0.137538</td>\n",
       "      <td>-0.193406</td>\n",
       "      <td>-0.041581</td>\n",
       "      <td>-0.178906</td>\n",
       "      <td>-0.052243</td>\n",
       "      <td>-0.233495</td>\n",
       "      <td>-0.170376</td>\n",
       "    </tr>\n",
       "    <tr>\n",
       "      <th>119171</th>\n",
       "      <td>0.016081</td>\n",
       "      <td>0.049101</td>\n",
       "      <td>-0.076117</td>\n",
       "      <td>-0.019083</td>\n",
       "      <td>-0.055534</td>\n",
       "      <td>-0.042669</td>\n",
       "      <td>-0.136583</td>\n",
       "      <td>-0.041811</td>\n",
       "      <td>-0.082550</td>\n",
       "      <td>-0.010078</td>\n",
       "      <td>...</td>\n",
       "      <td>-0.097559</td>\n",
       "      <td>-0.121573</td>\n",
       "      <td>-0.110424</td>\n",
       "      <td>-0.085123</td>\n",
       "      <td>-0.070114</td>\n",
       "      <td>-0.073544</td>\n",
       "      <td>-0.042240</td>\n",
       "      <td>-0.027231</td>\n",
       "      <td>0.014366</td>\n",
       "      <td>-0.018225</td>\n",
       "    </tr>\n",
       "    <tr>\n",
       "      <th>119172</th>\n",
       "      <td>-0.009220</td>\n",
       "      <td>-0.006647</td>\n",
       "      <td>-0.006218</td>\n",
       "      <td>-0.010506</td>\n",
       "      <td>0.011364</td>\n",
       "      <td>-0.017368</td>\n",
       "      <td>-0.025515</td>\n",
       "      <td>-0.032377</td>\n",
       "      <td>-0.011793</td>\n",
       "      <td>0.010935</td>\n",
       "      <td>...</td>\n",
       "      <td>-0.072258</td>\n",
       "      <td>-0.045242</td>\n",
       "      <td>-0.006218</td>\n",
       "      <td>0.029804</td>\n",
       "      <td>0.075260</td>\n",
       "      <td>0.103991</td>\n",
       "      <td>0.104420</td>\n",
       "      <td>0.073544</td>\n",
       "      <td>0.057678</td>\n",
       "      <td>0.033663</td>\n",
       "    </tr>\n",
       "    <tr>\n",
       "      <th>119173</th>\n",
       "      <td>0.007890</td>\n",
       "      <td>-0.079964</td>\n",
       "      <td>-0.121332</td>\n",
       "      <td>-0.080390</td>\n",
       "      <td>-0.072714</td>\n",
       "      <td>-0.021963</td>\n",
       "      <td>0.009596</td>\n",
       "      <td>0.013434</td>\n",
       "      <td>0.027081</td>\n",
       "      <td>-0.027934</td>\n",
       "      <td>...</td>\n",
       "      <td>-0.025375</td>\n",
       "      <td>0.027508</td>\n",
       "      <td>0.044567</td>\n",
       "      <td>0.044993</td>\n",
       "      <td>0.051817</td>\n",
       "      <td>0.078685</td>\n",
       "      <td>0.100435</td>\n",
       "      <td>0.136685</td>\n",
       "      <td>0.148626</td>\n",
       "      <td>0.104273</td>\n",
       "    </tr>\n",
       "  </tbody>\n",
       "</table>\n",
       "<p>119174 rows × 3000 columns</p>\n",
       "</div>\n",
       "      <button class=\"colab-df-convert\" onclick=\"convertToInteractive('df-ea6bb5ca-00c1-45bc-a0c5-46a04f41d59f')\"\n",
       "              title=\"Convert this dataframe to an interactive table.\"\n",
       "              style=\"display:none;\">\n",
       "        \n",
       "  <svg xmlns=\"http://www.w3.org/2000/svg\" height=\"24px\"viewBox=\"0 0 24 24\"\n",
       "       width=\"24px\">\n",
       "    <path d=\"M0 0h24v24H0V0z\" fill=\"none\"/>\n",
       "    <path d=\"M18.56 5.44l.94 2.06.94-2.06 2.06-.94-2.06-.94-.94-2.06-.94 2.06-2.06.94zm-11 1L8.5 8.5l.94-2.06 2.06-.94-2.06-.94L8.5 2.5l-.94 2.06-2.06.94zm10 10l.94 2.06.94-2.06 2.06-.94-2.06-.94-.94-2.06-.94 2.06-2.06.94z\"/><path d=\"M17.41 7.96l-1.37-1.37c-.4-.4-.92-.59-1.43-.59-.52 0-1.04.2-1.43.59L10.3 9.45l-7.72 7.72c-.78.78-.78 2.05 0 2.83L4 21.41c.39.39.9.59 1.41.59.51 0 1.02-.2 1.41-.59l7.78-7.78 2.81-2.81c.8-.78.8-2.07 0-2.86zM5.41 20L4 18.59l7.72-7.72 1.47 1.35L5.41 20z\"/>\n",
       "  </svg>\n",
       "      </button>\n",
       "      \n",
       "  <style>\n",
       "    .colab-df-container {\n",
       "      display:flex;\n",
       "      flex-wrap:wrap;\n",
       "      gap: 12px;\n",
       "    }\n",
       "\n",
       "    .colab-df-convert {\n",
       "      background-color: #E8F0FE;\n",
       "      border: none;\n",
       "      border-radius: 50%;\n",
       "      cursor: pointer;\n",
       "      display: none;\n",
       "      fill: #1967D2;\n",
       "      height: 32px;\n",
       "      padding: 0 0 0 0;\n",
       "      width: 32px;\n",
       "    }\n",
       "\n",
       "    .colab-df-convert:hover {\n",
       "      background-color: #E2EBFA;\n",
       "      box-shadow: 0px 1px 2px rgba(60, 64, 67, 0.3), 0px 1px 3px 1px rgba(60, 64, 67, 0.15);\n",
       "      fill: #174EA6;\n",
       "    }\n",
       "\n",
       "    [theme=dark] .colab-df-convert {\n",
       "      background-color: #3B4455;\n",
       "      fill: #D2E3FC;\n",
       "    }\n",
       "\n",
       "    [theme=dark] .colab-df-convert:hover {\n",
       "      background-color: #434B5C;\n",
       "      box-shadow: 0px 1px 3px 1px rgba(0, 0, 0, 0.15);\n",
       "      filter: drop-shadow(0px 1px 2px rgba(0, 0, 0, 0.3));\n",
       "      fill: #FFFFFF;\n",
       "    }\n",
       "  </style>\n",
       "\n",
       "      <script>\n",
       "        const buttonEl =\n",
       "          document.querySelector('#df-ea6bb5ca-00c1-45bc-a0c5-46a04f41d59f button.colab-df-convert');\n",
       "        buttonEl.style.display =\n",
       "          google.colab.kernel.accessAllowed ? 'block' : 'none';\n",
       "\n",
       "        async function convertToInteractive(key) {\n",
       "          const element = document.querySelector('#df-ea6bb5ca-00c1-45bc-a0c5-46a04f41d59f');\n",
       "          const dataTable =\n",
       "            await google.colab.kernel.invokeFunction('convertToInteractive',\n",
       "                                                     [key], {});\n",
       "          if (!dataTable) return;\n",
       "\n",
       "          const docLinkHtml = 'Like what you see? Visit the ' +\n",
       "            '<a target=\"_blank\" href=https://colab.research.google.com/notebooks/data_table.ipynb>data table notebook</a>'\n",
       "            + ' to learn more about interactive tables.';\n",
       "          element.innerHTML = '';\n",
       "          dataTable['output_type'] = 'display_data';\n",
       "          await google.colab.output.renderOutput(dataTable, element);\n",
       "          const docLink = document.createElement('div');\n",
       "          docLink.innerHTML = docLinkHtml;\n",
       "          element.appendChild(docLink);\n",
       "        }\n",
       "      </script>\n",
       "    </div>\n",
       "  </div>\n",
       "  "
      ],
      "text/plain": [
       "            0         1         2         3         4         5         6     \\\n",
       "0       0.068014  0.082915  0.077628  0.074744  0.060804  0.063688  0.050710   \n",
       "1       0.104729  0.054513 -0.020131 -0.064918 -0.122825 -0.127801 -0.107443   \n",
       "2       0.002281 -0.031309 -0.007672 -0.020527 -0.003110 -0.011404  0.006013   \n",
       "3      -0.025235 -0.037732 -0.033406 -0.031964 -0.034848 -0.041097 -0.031484   \n",
       "4       0.097914 -0.100520 -0.044574 -0.079540 -0.071235 -0.029713 -0.041951   \n",
       "...          ...       ...       ...       ...       ...       ...       ...   \n",
       "119169 -0.002359  0.139156 -0.008791  0.067970  0.106136  0.143015  0.113426   \n",
       "119170 -0.136259 -0.109391 -0.123891 -0.130714 -0.159288 -0.149053 -0.161847   \n",
       "119171  0.016081  0.049101 -0.076117 -0.019083 -0.055534 -0.042669 -0.136583   \n",
       "119172 -0.009220 -0.006647 -0.006218 -0.010506  0.011364 -0.017368 -0.025515   \n",
       "119173  0.007890 -0.079964 -0.121332 -0.080390 -0.072714 -0.021963  0.009596   \n",
       "\n",
       "            7         8         9     ...      2990      2991      2992  \\\n",
       "0       0.029561  0.010815  0.008412  ... -0.007450 -0.010334 -0.016102   \n",
       "1      -0.086633 -0.051799 -0.033251  ... -0.102467 -0.123729 -0.120563   \n",
       "2      -0.029236 -0.025089 -0.042091  ...  0.054532  0.088122  0.057850   \n",
       "3      -0.025716 -0.019948 -0.030522  ... -0.012738 -0.015141 -0.013699   \n",
       "4       0.000445 -0.031024  0.172217  ...  0.264003  0.167409  0.220732   \n",
       "...          ...       ...       ...  ...       ...       ...       ...   \n",
       "119169  0.005789  0.059822  0.031948  ... -0.052532 -0.274666 -0.113855   \n",
       "119170 -0.102141 -0.091905 -0.026228  ... -0.323481 -0.175068 -0.268039   \n",
       "119171 -0.041811 -0.082550 -0.010078  ... -0.097559 -0.121573 -0.110424   \n",
       "119172 -0.032377 -0.011793  0.010935  ... -0.072258 -0.045242 -0.006218   \n",
       "119173  0.013434  0.027081 -0.027934  ... -0.025375  0.027508  0.044567   \n",
       "\n",
       "            2993      2994      2995      2996      2997      2998      2999  \n",
       "0      -0.034368 -0.055998 -0.074263 -0.071860 -0.077147 -0.084838 -0.090125  \n",
       "1      -0.129158 -0.149968 -0.173945 -0.187064 -0.171231 -0.149516 -0.121467  \n",
       "2       0.027992  0.038359  0.040847  0.053703  0.072779  0.055362  0.029651  \n",
       "3      -0.018025 -0.020909 -0.021390 -0.002644 -0.020428 -0.025235 -0.024754  \n",
       "4       0.191011  0.119767  0.165661  0.270996  0.200190  0.246520  0.166535  \n",
       "...          ...       ...       ...       ...       ...       ...       ...  \n",
       "119169 -0.155022  0.121145 -0.032377  0.225350 -0.048672 -0.414036 -0.345852  \n",
       "119170 -0.137538 -0.193406 -0.041581 -0.178906 -0.052243 -0.233495 -0.170376  \n",
       "119171 -0.085123 -0.070114 -0.073544 -0.042240 -0.027231  0.014366 -0.018225  \n",
       "119172  0.029804  0.075260  0.103991  0.104420  0.073544  0.057678  0.033663  \n",
       "119173  0.044993  0.051817  0.078685  0.100435  0.136685  0.148626  0.104273  \n",
       "\n",
       "[119174 rows x 3000 columns]"
      ]
     },
     "execution_count": 18,
     "metadata": {},
     "output_type": "execute_result"
    }
   ],
   "source": [
    "x_dt"
   ]
  },
  {
   "cell_type": "code",
   "execution_count": null,
   "metadata": {
    "id": "ZoKoYtGwRrAo"
   },
   "outputs": [],
   "source": [
    "x_dt_rshp=np.array(x_dt).reshape(119174,3000,1)"
   ]
  },
  {
   "cell_type": "code",
   "execution_count": null,
   "metadata": {
    "colab": {
     "base_uri": "https://localhost:8080/"
    },
    "id": "04kJP5r49Zdu",
    "outputId": "ea731112-2665-454c-e609-14a45eb3ae06"
   },
   "outputs": [
    {
     "data": {
      "text/plain": [
       "array([[[ 0.0680144 ],\n",
       "        [ 0.08291509],\n",
       "        [ 0.07762775],\n",
       "        ...,\n",
       "        [-0.07714708],\n",
       "        [-0.08483776],\n",
       "        [-0.09012509]],\n",
       "\n",
       "       [[ 0.1047289 ],\n",
       "        [ 0.05451331],\n",
       "        [-0.02013147],\n",
       "        ...,\n",
       "        [-0.17123062],\n",
       "        [-0.14951577],\n",
       "        [-0.12146743]],\n",
       "\n",
       "       [[ 0.00228081],\n",
       "        [-0.03130934],\n",
       "        [-0.00767183],\n",
       "        ...,\n",
       "        [ 0.07277867],\n",
       "        [ 0.05536155],\n",
       "        [ 0.02965057]],\n",
       "\n",
       "       ...,\n",
       "\n",
       "       [[ 0.01608114],\n",
       "        [ 0.0491011 ],\n",
       "        [-0.07611742],\n",
       "        ...,\n",
       "        [-0.02723074],\n",
       "        [ 0.01436582],\n",
       "        [-0.0182253 ]],\n",
       "\n",
       "       [[-0.00921986],\n",
       "        [-0.00664687],\n",
       "        [-0.00621804],\n",
       "        ...,\n",
       "        [ 0.07354444],\n",
       "        [ 0.05767771],\n",
       "        [ 0.0336632 ]],\n",
       "\n",
       "       [[ 0.00788977],\n",
       "        [-0.07996394],\n",
       "        [-0.12133194],\n",
       "        ...,\n",
       "        [ 0.13668502],\n",
       "        [ 0.14862629],\n",
       "        [ 0.10427297]]])"
      ]
     },
     "execution_count": 20,
     "metadata": {},
     "output_type": "execute_result"
    }
   ],
   "source": [
    "x_dt_rshp"
   ]
  },
  {
   "cell_type": "code",
   "execution_count": null,
   "metadata": {
    "id": "cvwl-_MPR8z4"
   },
   "outputs": [],
   "source": [
    "import numpy as np\n",
    "np.random.seed(999)\n",
    "\n",
    "import tensorflow\n",
    "tensorflow.random.set_seed(999)\n",
    "\n",
    "import random\n",
    "#random.seed(999)"
   ]
  },
  {
   "cell_type": "code",
   "execution_count": null,
   "metadata": {
    "colab": {
     "base_uri": "https://localhost:8080/"
    },
    "id": "pi-d-1UxSBWe",
    "outputId": "57ebb822-d975-44d3-d5ad-e4084bbd069d"
   },
   "outputs": [
    {
     "name": "stdout",
     "output_type": "stream",
     "text": [
      "Looking in indexes: https://pypi.org/simple, https://us-python.pkg.dev/colab-wheels/public/simple/\n",
      "Collecting git+https://www.github.com/keras-team/keras-contrib.git\n",
      "  Cloning https://www.github.com/keras-team/keras-contrib.git to /tmp/pip-req-build-j2i63ve5\n",
      "  Running command git clone -q https://www.github.com/keras-team/keras-contrib.git /tmp/pip-req-build-j2i63ve5\n",
      "Requirement already satisfied: keras in /usr/local/lib/python3.7/dist-packages (from keras-contrib==2.0.8) (2.8.0)\n",
      "Building wheels for collected packages: keras-contrib\n",
      "  Building wheel for keras-contrib (setup.py) ... \u001b[?25l\u001b[?25hdone\n",
      "  Created wheel for keras-contrib: filename=keras_contrib-2.0.8-py3-none-any.whl size=101077 sha256=c06cf06ff0440a90798b6a3af3fca809f3bae6ce4ae017026221bd0e52d360ab\n",
      "  Stored in directory: /tmp/pip-ephem-wheel-cache-9b82zlp1/wheels/bb/1f/f2/b57495012683b6b20bbae94a3915ec79753111452d79886abc\n",
      "Successfully built keras-contrib\n",
      "Installing collected packages: keras-contrib\n",
      "Successfully installed keras-contrib-2.0.8\n"
     ]
    }
   ],
   "source": [
    "pip install git+https://www.github.com/keras-team/keras-contrib.git"
   ]
  },
  {
   "cell_type": "code",
   "execution_count": null,
   "metadata": {
    "id": "5u70hpGwSBZf"
   },
   "outputs": [],
   "source": [
    "from tensorflow.keras import optimizers, losses, activations, models\n",
    "from tensorflow.keras.models import Model, load_model\n",
    "from tensorflow.keras.layers import GlobalMaxPool1D, GlobalAveragePooling1D, concatenate, SpatialDropout1D, TimeDistributed, Bidirectional, LSTM\n",
    "from tensorflow.keras.layers import Input, Conv1D, Dense, Dropout, MaxPool1D, Activation\n",
    "from tensorflow.keras.layers import Reshape, LSTM, TimeDistributed, Bidirectional, BatchNormalization, Flatten, RepeatVector\n",
    "from tensorflow.keras.optimizers import Adam\n",
    "#from keras_contrib.layers import CRF\n",
    "\n",
    "from scipy.signal import butter, lfilter\n"
   ]
  },
  {
   "cell_type": "code",
   "execution_count": null,
   "metadata": {
    "id": "ZfwILbjiSEVL"
   },
   "outputs": [],
   "source": [
    "Fs = 100"
   ]
  },
  {
   "cell_type": "code",
   "execution_count": null,
   "metadata": {
    "id": "6mJDpenlSEaV"
   },
   "outputs": [],
   "source": [
    "#n_classes=5\n",
    "def model_b(n_classes=5, use_sub_layer=False, use_rnn=True, verbose=False):\n",
    "    inputLayer = Input(shape=(3000, 1), name='inLayer')\n",
    "    convFine = Conv1D(filters=64, kernel_size=int(Fs/2), strides=int(Fs/16), padding='same', activation='relu', name='fConv1')(inputLayer)\n",
    "    convFine = MaxPool1D(pool_size=8, strides=8, name='fMaxP1')(convFine)\n",
    "    convFine = Dropout(rate=0.5, name='fDrop1')(convFine)\n",
    "    convFine = Conv1D(filters=128, kernel_size=8, padding='same', activation='relu', name='fConv2')(convFine)\n",
    "    convFine = Conv1D(filters=128, kernel_size=8, padding='same', activation='relu', name='fConv3')(convFine)\n",
    "    convFine = Conv1D(filters=128, kernel_size=8, padding='same', activation='relu', name='fConv4')(convFine)\n",
    "    convFine = MaxPool1D(pool_size=4, strides=4, name='fMaxP2')(convFine)\n",
    "    fineShape = convFine.get_shape()\n",
    "    convFine = Flatten(name='fFlat1')(convFine)\n",
    "    \n",
    "    # network to learn coarse features\n",
    "    convCoarse = Conv1D(filters=32, kernel_size=Fs*4, strides=int(Fs/2), padding='same', activation='relu', name='cConv1')(inputLayer)\n",
    "    convCoarse = MaxPool1D(pool_size=4, strides=4, name='cMaxP1')(convCoarse)\n",
    "    convCoarse = Dropout(rate=0.5, name='cDrop1')(convCoarse)\n",
    "    convCoarse = Conv1D(filters=128, kernel_size=6, padding='same', activation='relu', name='cConv2')(convCoarse)\n",
    "    convCoarse = Conv1D(filters=128, kernel_size=6, padding='same', activation='relu', name='cConv3')(convCoarse)\n",
    "    convCoarse = Conv1D(filters=128, kernel_size=6, padding='same', activation='relu', name='cConv4')(convCoarse)\n",
    "    convCoarse = MaxPool1D(pool_size=2, strides=2, name='cMaxP2')(convCoarse)\n",
    "    coarseShape = convCoarse.get_shape()\n",
    "    convCoarse = Flatten(name='cFlat1')(convCoarse)\n",
    "    \n",
    "    # concatenate coarse and fine cnns\n",
    "    mergeLayer = concatenate([convFine, convCoarse], name='merge_1')\n",
    "    outLayer = Dropout(rate=0.5, name='mDrop1')(mergeLayer)\n",
    "    \n",
    "    outLayer = Reshape((1, outLayer.get_shape()[1]), name='reshape1')(outLayer)\n",
    "    outLayer = LSTM(64, return_sequences=True)(outLayer)\n",
    "    outLayer = LSTM(64, return_sequences=False)(outLayer)\n",
    "\n",
    "    # Classify\n",
    "    outLayer = Dense(n_classes, activation='softmax', name='outLayer')(outLayer)\n",
    "    model = Model(inputLayer, outLayer)\n",
    "    optimizer = Adam(lr=1e-4)\n",
    "    model.compile(optimizer=optimizer, loss='categorical_crossentropy', metrics=['acc'])\n",
    "    #model.compile(optimizer=optimizer, loss='categorical_crossentropy', metrics=['accuracy'])\n",
    "    if verbose:\n",
    "        model.summary()\n",
    "    return model"
   ]
  },
  {
   "cell_type": "code",
   "execution_count": null,
   "metadata": {
    "id": "w-Mz82AVSXve"
   },
   "outputs": [],
   "source": [
    "import keras_tuner as kt\n",
    "optimizer=Adam(lr=1e-4)"
   ]
  },
  {
   "cell_type": "code",
   "execution_count": null,
   "metadata": {
    "id": "pCere4UDK1-n"
   },
   "outputs": [],
   "source": [
    "class MyHyperModel(kt.HyperModel):\n",
    "    def build(self, hp):\n",
    "      model=model_b(verbose=VBS)\n",
    "      optimizer = Adam(lr=1e-4)\n",
    "      model.compile(optimizer=optimizer, loss='categorical_crossentropy', metrics=['acc'])\n",
    "      optimizer = Adam(lr=1e-4)\n",
    "      return model\n",
    "\n",
    "    def fit(self, hp, model, *args, **kwargs):\n",
    "        return model.fit(\n",
    "            x_dt_rshp, y_dt_,\n",
    "            epochs=hp.Choice(\"epochs\", [40, 50, 60, 70])\n",
    "        )"
   ]
  },
  {
   "cell_type": "code",
   "execution_count": null,
   "metadata": {
    "colab": {
     "base_uri": "https://localhost:8080/"
    },
    "id": "Syb581B5K4gW",
    "outputId": "d2944a95-04a7-4b98-a2b6-70be08e22e26"
   },
   "outputs": [
    {
     "name": "stdout",
     "output_type": "stream",
     "text": [
      "Model: \"model\"\n",
      "__________________________________________________________________________________________________\n",
      " Layer (type)                   Output Shape         Param #     Connected to                     \n",
      "==================================================================================================\n",
      " inLayer (InputLayer)           [(None, 3000, 1)]    0           []                               \n",
      "                                                                                                  \n",
      " fConv1 (Conv1D)                (None, 500, 64)      3264        ['inLayer[0][0]']                \n",
      "                                                                                                  \n",
      " cConv1 (Conv1D)                (None, 60, 32)       12832       ['inLayer[0][0]']                \n",
      "                                                                                                  \n",
      " fMaxP1 (MaxPooling1D)          (None, 62, 64)       0           ['fConv1[0][0]']                 \n",
      "                                                                                                  \n",
      " cMaxP1 (MaxPooling1D)          (None, 15, 32)       0           ['cConv1[0][0]']                 \n",
      "                                                                                                  \n",
      " fDrop1 (Dropout)               (None, 62, 64)       0           ['fMaxP1[0][0]']                 \n",
      "                                                                                                  \n",
      " cDrop1 (Dropout)               (None, 15, 32)       0           ['cMaxP1[0][0]']                 \n",
      "                                                                                                  \n",
      " fConv2 (Conv1D)                (None, 62, 128)      65664       ['fDrop1[0][0]']                 \n",
      "                                                                                                  \n",
      " cConv2 (Conv1D)                (None, 15, 128)      24704       ['cDrop1[0][0]']                 \n",
      "                                                                                                  \n",
      " fConv3 (Conv1D)                (None, 62, 128)      131200      ['fConv2[0][0]']                 \n",
      "                                                                                                  \n",
      " cConv3 (Conv1D)                (None, 15, 128)      98432       ['cConv2[0][0]']                 \n",
      "                                                                                                  \n",
      " fConv4 (Conv1D)                (None, 62, 128)      131200      ['fConv3[0][0]']                 \n",
      "                                                                                                  \n",
      " cConv4 (Conv1D)                (None, 15, 128)      98432       ['cConv3[0][0]']                 \n",
      "                                                                                                  \n",
      " fMaxP2 (MaxPooling1D)          (None, 15, 128)      0           ['fConv4[0][0]']                 \n",
      "                                                                                                  \n",
      " cMaxP2 (MaxPooling1D)          (None, 7, 128)       0           ['cConv4[0][0]']                 \n",
      "                                                                                                  \n",
      " fFlat1 (Flatten)               (None, 1920)         0           ['fMaxP2[0][0]']                 \n",
      "                                                                                                  \n",
      " cFlat1 (Flatten)               (None, 896)          0           ['cMaxP2[0][0]']                 \n",
      "                                                                                                  \n",
      " merge_1 (Concatenate)          (None, 2816)         0           ['fFlat1[0][0]',                 \n",
      "                                                                  'cFlat1[0][0]']                 \n",
      "                                                                                                  \n",
      " mDrop1 (Dropout)               (None, 2816)         0           ['merge_1[0][0]']                \n",
      "                                                                                                  \n",
      " reshape1 (Reshape)             (None, 1, 2816)      0           ['mDrop1[0][0]']                 \n",
      "                                                                                                  \n",
      " lstm (LSTM)                    (None, 1, 64)        737536      ['reshape1[0][0]']               \n",
      "                                                                                                  \n",
      " lstm_1 (LSTM)                  (None, 64)           33024       ['lstm[0][0]']                   \n",
      "                                                                                                  \n",
      " outLayer (Dense)               (None, 5)            325         ['lstm_1[0][0]']                 \n",
      "                                                                                                  \n",
      "==================================================================================================\n",
      "Total params: 1,336,613\n",
      "Trainable params: 1,336,613\n",
      "Non-trainable params: 0\n",
      "__________________________________________________________________________________________________\n"
     ]
    }
   ],
   "source": [
    "tuner = kt.RandomSearch(\n",
    "    MyHyperModel(),\n",
    "    objective=\"loss\",\n",
    "    max_trials=3,\n",
    "    executions_per_trial=2,\n",
    "    overwrite=True,\n",
    "    #directory=\"my_dir\",\n",
    "    #project_name=\"tune_hypermodel\",\n",
    ")"
   ]
  },
  {
   "cell_type": "code",
   "execution_count": null,
   "metadata": {
    "colab": {
     "base_uri": "https://localhost:8080/"
    },
    "id": "1iaJHIJQK78u",
    "outputId": "2bbfdae7-141e-4724-b23f-a91258fa25dc"
   },
   "outputs": [
    {
     "name": "stdout",
     "output_type": "stream",
     "text": [
      "Trial 3 Complete [00h 50m 40s]\n",
      "loss: 0.07310095801949501\n",
      "\n",
      "Best loss So Far: 0.06396068632602692\n",
      "Total elapsed time: 02h 29m 36s\n",
      "INFO:tensorflow:Oracle triggered exit\n"
     ]
    }
   ],
   "source": [
    "tuner.search(x_dt_rshp, y_dt_)"
   ]
  },
  {
   "cell_type": "code",
   "execution_count": null,
   "metadata": {
    "colab": {
     "base_uri": "https://localhost:8080/"
    },
    "id": "5OSy0GqsK-gg",
    "outputId": "80abb691-395a-453b-f457-a57a6778e21d"
   },
   "outputs": [
    {
     "name": "stdout",
     "output_type": "stream",
     "text": [
      "Results summary\n",
      "Results in ./untitled_project\n",
      "Showing 10 best trials\n",
      "<keras_tuner.engine.objective.Objective object at 0x7f865b012690>\n",
      "Trial summary\n",
      "Hyperparameters:\n",
      "epochs: 60\n",
      "Score: 0.06396068632602692\n",
      "Trial summary\n",
      "Hyperparameters:\n",
      "epochs: 50\n",
      "Score: 0.07310095801949501\n",
      "Trial summary\n",
      "Hyperparameters:\n",
      "epochs: 40\n",
      "Score: 0.0862153060734272\n"
     ]
    }
   ],
   "source": [
    "tuner.results_summary()"
   ]
  },
  {
   "cell_type": "markdown",
   "metadata": {
    "id": "jP6Emnp2A8_S"
   },
   "source": [
    "Trial 1:\n",
    "\n",
    "tuner.search() O/P:\n",
    "\n",
    "Trial 3 Complete [01h 13m 06s]\n",
    "\n",
    "loss: 0.06341969966888428\n",
    "\n",
    "Best loss So Far: 0.06341969966888428\n",
    "\n",
    "Total elapsed time: 03h 02m 59s\n",
    "\n",
    "INFO:tensorflow:Oracle triggered exit\n",
    "\n",
    "tuner.results_summary()\n",
    "\n",
    "Results summary\n",
    "\n",
    "Results in ./untitled_project\n",
    "\n",
    "Showing 10 best trials\n",
    "\n",
    "<keras_tuner.engine.objective.Objective object at 0x7fdd185aa050>\n",
    "\n",
    "Trial summary\n",
    "\n",
    "Hyperparameters:\n",
    "\n",
    "epochs: 60\n",
    "\n",
    "Score: 0.06341969966888428\n",
    "\n",
    "Trial summary\n",
    "\n",
    "Hyperparameters:\n",
    "\n",
    "epochs: 50\n",
    "\n",
    "Score: 0.07388429343700409\n",
    "\n",
    "Trial summary\n",
    "\n",
    "Hyperparameters:\n",
    "\n",
    "epochs: 40\n",
    "\n",
    "Score: 0.08759897947311401"
   ]
  },
  {
   "cell_type": "markdown",
   "metadata": {
    "id": "SlDyVmAGAWWO"
   },
   "source": [
    "Trial 2:\n",
    "\n",
    "tuner.search() O/P:\n",
    "\n",
    "Trial 3 Complete [01h 02m 14s]\n",
    "\n",
    "loss: 0.07305266708135605\n",
    "\n",
    "Best loss So Far: 0.06365969590842724\n",
    "\n",
    "Total elapsed time: 03h 05m 40s\n",
    "\n",
    "INFO:tensorflow:Oracle triggered exit\n",
    "\n",
    "tuner.results_summary():\n",
    "\n",
    "Results summary\n",
    "\n",
    "Results in ./untitled_project\n",
    "\n",
    "Showing 10 best trials\n",
    "\n",
    "<keras_tuner.engine.objective.Objective object at 0x7f2632cba5d0>\n",
    "\n",
    "Trial summary\n",
    "\n",
    "Hyperparameters:\n",
    "\n",
    "epochs: 60\n",
    "\n",
    "Score: 0.06365969590842724\n",
    "\n",
    "Trial summary\n",
    "\n",
    "Hyperparameters:\n",
    "\n",
    "epochs: 50\n",
    "\n",
    "Score: 0.07305266708135605\n",
    "\n",
    "Trial summary\n",
    "\n",
    "Hyperparameters:\n",
    "\n",
    "epochs: 40\n",
    "\n",
    "Score: 0.0875231996178627"
   ]
  },
  {
   "cell_type": "markdown",
   "metadata": {
    "id": "ayvHwC-BSThY"
   },
   "source": [
    "Trial 3:\n",
    "\n",
    "tuner.search() O/P:\n",
    "\n",
    "Trial 3 Complete [00h 50m 40s]\n",
    "\n",
    "loss: 0.07310095801949501\n",
    "\n",
    "Best loss So Far: 0.06396068632602692\n",
    "\n",
    "Total elapsed time: 02h 29m 36s\n",
    "\n",
    "INFO:tensorflow:Oracle triggered exit\n",
    "\n",
    "tuner.results_summary() O/P:\n",
    "\n",
    "Results summary\n",
    "\n",
    "Results in ./untitled_project\n",
    "\n",
    "Showing 10 best trials\n",
    "\n",
    "<keras_tuner.engine.objective.Objective object at 0x7f865b012690>\n",
    "\n",
    "Trial summary\n",
    "\n",
    "Hyperparameters:\n",
    "\n",
    "epochs: 60\n",
    "\n",
    "Score: 0.06396068632602692\n",
    "\n",
    "Trial summary\n",
    "\n",
    "Hyperparameters:\n",
    "\n",
    "epochs: 50\n",
    "\n",
    "Score: 0.07310095801949501\n",
    "\n",
    "Trial summary\n",
    "\n",
    "Hyperparameters:\n",
    "\n",
    "epochs: 40\n",
    "\n",
    "Score: 0.0862153060734272\n"
   ]
  },
  {
   "cell_type": "code",
   "execution_count": null,
   "metadata": {
    "id": "D61RlqywAVww"
   },
   "outputs": [],
   "source": []
  },
  {
   "cell_type": "markdown",
   "metadata": {
    "id": "ecuqJMekBP7_"
   },
   "source": [
    "Training the teacher model for 40 epochs wrt to the transfer set, majority voted labels, x_sub_train, tri-trained labels"
   ]
  },
  {
   "cell_type": "code",
   "execution_count": null,
   "metadata": {
    "colab": {
     "base_uri": "https://localhost:8080/"
    },
    "id": "HrV59ncxSXxI",
    "outputId": "2d867ad0-880b-4a0e-c22b-720022a64d75"
   },
   "outputs": [
    {
     "name": "stdout",
     "output_type": "stream",
     "text": [
      "Model: \"model\"\n",
      "__________________________________________________________________________________________________\n",
      " Layer (type)                   Output Shape         Param #     Connected to                     \n",
      "==================================================================================================\n",
      " inLayer (InputLayer)           [(None, 3000, 1)]    0           []                               \n",
      "                                                                                                  \n",
      " fConv1 (Conv1D)                (None, 500, 64)      3264        ['inLayer[0][0]']                \n",
      "                                                                                                  \n",
      " cConv1 (Conv1D)                (None, 60, 32)       12832       ['inLayer[0][0]']                \n",
      "                                                                                                  \n",
      " fMaxP1 (MaxPooling1D)          (None, 62, 64)       0           ['fConv1[0][0]']                 \n",
      "                                                                                                  \n",
      " cMaxP1 (MaxPooling1D)          (None, 15, 32)       0           ['cConv1[0][0]']                 \n",
      "                                                                                                  \n",
      " fDrop1 (Dropout)               (None, 62, 64)       0           ['fMaxP1[0][0]']                 \n",
      "                                                                                                  \n",
      " cDrop1 (Dropout)               (None, 15, 32)       0           ['cMaxP1[0][0]']                 \n",
      "                                                                                                  \n",
      " fConv2 (Conv1D)                (None, 62, 128)      65664       ['fDrop1[0][0]']                 \n",
      "                                                                                                  \n",
      " cConv2 (Conv1D)                (None, 15, 128)      24704       ['cDrop1[0][0]']                 \n",
      "                                                                                                  \n",
      " fConv3 (Conv1D)                (None, 62, 128)      131200      ['fConv2[0][0]']                 \n",
      "                                                                                                  \n",
      " cConv3 (Conv1D)                (None, 15, 128)      98432       ['cConv2[0][0]']                 \n",
      "                                                                                                  \n",
      " fConv4 (Conv1D)                (None, 62, 128)      131200      ['fConv3[0][0]']                 \n",
      "                                                                                                  \n",
      " cConv4 (Conv1D)                (None, 15, 128)      98432       ['cConv3[0][0]']                 \n",
      "                                                                                                  \n",
      " fMaxP2 (MaxPooling1D)          (None, 15, 128)      0           ['fConv4[0][0]']                 \n",
      "                                                                                                  \n",
      " cMaxP2 (MaxPooling1D)          (None, 7, 128)       0           ['cConv4[0][0]']                 \n",
      "                                                                                                  \n",
      " fFlat1 (Flatten)               (None, 1920)         0           ['fMaxP2[0][0]']                 \n",
      "                                                                                                  \n",
      " cFlat1 (Flatten)               (None, 896)          0           ['cMaxP2[0][0]']                 \n",
      "                                                                                                  \n",
      " merge_1 (Concatenate)          (None, 2816)         0           ['fFlat1[0][0]',                 \n",
      "                                                                  'cFlat1[0][0]']                 \n",
      "                                                                                                  \n",
      " mDrop1 (Dropout)               (None, 2816)         0           ['merge_1[0][0]']                \n",
      "                                                                                                  \n",
      " reshape1 (Reshape)             (None, 1, 2816)      0           ['mDrop1[0][0]']                 \n",
      "                                                                                                  \n",
      " lstm (LSTM)                    (None, 1, 64)        737536      ['reshape1[0][0]']               \n",
      "                                                                                                  \n",
      " lstm_1 (LSTM)                  (None, 64)           33024       ['lstm[0][0]']                   \n",
      "                                                                                                  \n",
      " outLayer (Dense)               (None, 5)            325         ['lstm_1[0][0]']                 \n",
      "                                                                                                  \n",
      "==================================================================================================\n",
      "Total params: 1,336,613\n",
      "Trainable params: 1,336,613\n",
      "Non-trainable params: 0\n",
      "__________________________________________________________________________________________________\n"
     ]
    }
   ],
   "source": [
    "teacher_40_epochs=model_b(verbose=VBS)"
   ]
  },
  {
   "cell_type": "code",
   "execution_count": null,
   "metadata": {
    "colab": {
     "base_uri": "https://localhost:8080/"
    },
    "id": "6AVW-by2SX0z",
    "outputId": "0e2a5341-b0bb-41ff-bf60-410f264daac4"
   },
   "outputs": [
    {
     "name": "stdout",
     "output_type": "stream",
     "text": [
      "Model: \"model\"\n",
      "__________________________________________________________________________________________________\n",
      " Layer (type)                   Output Shape         Param #     Connected to                     \n",
      "==================================================================================================\n",
      " inLayer (InputLayer)           [(None, 3000, 1)]    0           []                               \n",
      "                                                                                                  \n",
      " fConv1 (Conv1D)                (None, 500, 64)      3264        ['inLayer[0][0]']                \n",
      "                                                                                                  \n",
      " cConv1 (Conv1D)                (None, 60, 32)       12832       ['inLayer[0][0]']                \n",
      "                                                                                                  \n",
      " fMaxP1 (MaxPooling1D)          (None, 62, 64)       0           ['fConv1[0][0]']                 \n",
      "                                                                                                  \n",
      " cMaxP1 (MaxPooling1D)          (None, 15, 32)       0           ['cConv1[0][0]']                 \n",
      "                                                                                                  \n",
      " fDrop1 (Dropout)               (None, 62, 64)       0           ['fMaxP1[0][0]']                 \n",
      "                                                                                                  \n",
      " cDrop1 (Dropout)               (None, 15, 32)       0           ['cMaxP1[0][0]']                 \n",
      "                                                                                                  \n",
      " fConv2 (Conv1D)                (None, 62, 128)      65664       ['fDrop1[0][0]']                 \n",
      "                                                                                                  \n",
      " cConv2 (Conv1D)                (None, 15, 128)      24704       ['cDrop1[0][0]']                 \n",
      "                                                                                                  \n",
      " fConv3 (Conv1D)                (None, 62, 128)      131200      ['fConv2[0][0]']                 \n",
      "                                                                                                  \n",
      " cConv3 (Conv1D)                (None, 15, 128)      98432       ['cConv2[0][0]']                 \n",
      "                                                                                                  \n",
      " fConv4 (Conv1D)                (None, 62, 128)      131200      ['fConv3[0][0]']                 \n",
      "                                                                                                  \n",
      " cConv4 (Conv1D)                (None, 15, 128)      98432       ['cConv3[0][0]']                 \n",
      "                                                                                                  \n",
      " fMaxP2 (MaxPooling1D)          (None, 15, 128)      0           ['fConv4[0][0]']                 \n",
      "                                                                                                  \n",
      " cMaxP2 (MaxPooling1D)          (None, 7, 128)       0           ['cConv4[0][0]']                 \n",
      "                                                                                                  \n",
      " fFlat1 (Flatten)               (None, 1920)         0           ['fMaxP2[0][0]']                 \n",
      "                                                                                                  \n",
      " cFlat1 (Flatten)               (None, 896)          0           ['cMaxP2[0][0]']                 \n",
      "                                                                                                  \n",
      " merge_1 (Concatenate)          (None, 2816)         0           ['fFlat1[0][0]',                 \n",
      "                                                                  'cFlat1[0][0]']                 \n",
      "                                                                                                  \n",
      " mDrop1 (Dropout)               (None, 2816)         0           ['merge_1[0][0]']                \n",
      "                                                                                                  \n",
      " reshape1 (Reshape)             (None, 1, 2816)      0           ['mDrop1[0][0]']                 \n",
      "                                                                                                  \n",
      " lstm (LSTM)                    (None, 1, 64)        737536      ['reshape1[0][0]']               \n",
      "                                                                                                  \n",
      " lstm_1 (LSTM)                  (None, 64)           33024       ['lstm[0][0]']                   \n",
      "                                                                                                  \n",
      " outLayer (Dense)               (None, 5)            325         ['lstm_1[0][0]']                 \n",
      "                                                                                                  \n",
      "==================================================================================================\n",
      "Total params: 1,336,613\n",
      "Trainable params: 1,336,613\n",
      "Non-trainable params: 0\n",
      "__________________________________________________________________________________________________\n"
     ]
    }
   ],
   "source": [
    "teacher_40_epochs.summary()"
   ]
  },
  {
   "cell_type": "code",
   "execution_count": null,
   "metadata": {
    "id": "6li9hd77SnCO"
   },
   "outputs": [],
   "source": [
    "teacher_40_epochs.compile(optimizer=optimizer, loss='categorical_crossentropy', metrics=['accuracy'])"
   ]
  },
  {
   "cell_type": "code",
   "execution_count": null,
   "metadata": {
    "id": "K1PfsofRTDi0"
   },
   "outputs": [],
   "source": [
    "checkpoint_teacher_model_40_epochs = \"/content/gdrive/My Drive/physionet/ensemble/tri_training/40_epochs_keras_way/teacher_40_epochs_wts_trial_3.ckpt\""
   ]
  },
  {
   "cell_type": "code",
   "execution_count": null,
   "metadata": {
    "id": "UTSY5HF3TDl8"
   },
   "outputs": [],
   "source": [
    "checkpoint_teacher_model_40_epochs_dir = os.path.dirname(checkpoint_teacher_model_40_epochs)"
   ]
  },
  {
   "cell_type": "code",
   "execution_count": null,
   "metadata": {
    "colab": {
     "base_uri": "https://localhost:8080/"
    },
    "id": "rye3iT_STanB",
    "outputId": "db56cbe2-4980-41d2-8947-15268a20a8dc"
   },
   "outputs": [
    {
     "name": "stdout",
     "output_type": "stream",
     "text": [
      "WARNING:tensorflow:`period` argument is deprecated. Please use `save_freq` to specify the frequency in number of batches seen.\n"
     ]
    }
   ],
   "source": [
    "cp_callback_teacher_model_40_epochs = tensorflow.keras.callbacks.ModelCheckpoint(\n",
    "    filepath=checkpoint_teacher_model_40_epochs,\n",
    "    monitor='accuracy', \n",
    "    verbose=1, \n",
    "    save_weights_only=True,\n",
    "    mode = 'max',\n",
    "    period=40)"
   ]
  },
  {
   "cell_type": "code",
   "execution_count": null,
   "metadata": {
    "colab": {
     "base_uri": "https://localhost:8080/"
    },
    "id": "Yz5rBuQSTao4",
    "outputId": "6f946e11-a68f-481c-9f69-fb486bbcfca1"
   },
   "outputs": [
    {
     "name": "stdout",
     "output_type": "stream",
     "text": [
      "Epoch 1/40\n",
      "3725/3725 [==============================] - 45s 8ms/step - loss: 0.6869 - accuracy: 0.7230\n",
      "Epoch 2/40\n",
      "3725/3725 [==============================] - 29s 8ms/step - loss: 0.4055 - accuracy: 0.8402\n",
      "Epoch 3/40\n",
      "3725/3725 [==============================] - 29s 8ms/step - loss: 0.3322 - accuracy: 0.8681\n",
      "Epoch 4/40\n",
      "3725/3725 [==============================] - 29s 8ms/step - loss: 0.2861 - accuracy: 0.8862\n",
      "Epoch 5/40\n",
      "3725/3725 [==============================] - 29s 8ms/step - loss: 0.2563 - accuracy: 0.8990\n",
      "Epoch 6/40\n",
      "3725/3725 [==============================] - 30s 8ms/step - loss: 0.2307 - accuracy: 0.9085\n",
      "Epoch 7/40\n",
      "3725/3725 [==============================] - 29s 8ms/step - loss: 0.2164 - accuracy: 0.9156\n",
      "Epoch 8/40\n",
      "3725/3725 [==============================] - 29s 8ms/step - loss: 0.1994 - accuracy: 0.9211\n",
      "Epoch 9/40\n",
      "3725/3725 [==============================] - 30s 8ms/step - loss: 0.1896 - accuracy: 0.9253\n",
      "Epoch 10/40\n",
      "3725/3725 [==============================] - 29s 8ms/step - loss: 0.1807 - accuracy: 0.9278\n",
      "Epoch 11/40\n",
      "3725/3725 [==============================] - 29s 8ms/step - loss: 0.1742 - accuracy: 0.9304\n",
      "Epoch 12/40\n",
      "3725/3725 [==============================] - 29s 8ms/step - loss: 0.1661 - accuracy: 0.9341\n",
      "Epoch 13/40\n",
      "3725/3725 [==============================] - 29s 8ms/step - loss: 0.1599 - accuracy: 0.9363\n",
      "Epoch 14/40\n",
      "3725/3725 [==============================] - 29s 8ms/step - loss: 0.1524 - accuracy: 0.9388\n",
      "Epoch 15/40\n",
      "3725/3725 [==============================] - 29s 8ms/step - loss: 0.1482 - accuracy: 0.9412\n",
      "Epoch 16/40\n",
      "3725/3725 [==============================] - 30s 8ms/step - loss: 0.1453 - accuracy: 0.9430\n",
      "Epoch 17/40\n",
      "3725/3725 [==============================] - 30s 8ms/step - loss: 0.1390 - accuracy: 0.9450\n",
      "Epoch 18/40\n",
      "3725/3725 [==============================] - 30s 8ms/step - loss: 0.1349 - accuracy: 0.9472\n",
      "Epoch 19/40\n",
      "3725/3725 [==============================] - 30s 8ms/step - loss: 0.1330 - accuracy: 0.9474\n",
      "Epoch 20/40\n",
      "3725/3725 [==============================] - 29s 8ms/step - loss: 0.1293 - accuracy: 0.9485\n",
      "Epoch 21/40\n",
      "3725/3725 [==============================] - 29s 8ms/step - loss: 0.1257 - accuracy: 0.9502\n",
      "Epoch 22/40\n",
      "3725/3725 [==============================] - 30s 8ms/step - loss: 0.1230 - accuracy: 0.9519\n",
      "Epoch 23/40\n",
      "3725/3725 [==============================] - 29s 8ms/step - loss: 0.1208 - accuracy: 0.9524\n",
      "Epoch 24/40\n",
      "3725/3725 [==============================] - 30s 8ms/step - loss: 0.1190 - accuracy: 0.9538\n",
      "Epoch 25/40\n",
      "3725/3725 [==============================] - 30s 8ms/step - loss: 0.1154 - accuracy: 0.9544\n",
      "Epoch 26/40\n",
      "3725/3725 [==============================] - 30s 8ms/step - loss: 0.1112 - accuracy: 0.9568\n",
      "Epoch 27/40\n",
      "3725/3725 [==============================] - 30s 8ms/step - loss: 0.1090 - accuracy: 0.9575\n",
      "Epoch 28/40\n",
      "3725/3725 [==============================] - 30s 8ms/step - loss: 0.1077 - accuracy: 0.9584\n",
      "Epoch 29/40\n",
      "3725/3725 [==============================] - 30s 8ms/step - loss: 0.1055 - accuracy: 0.9589\n",
      "Epoch 30/40\n",
      "3725/3725 [==============================] - 30s 8ms/step - loss: 0.1024 - accuracy: 0.9607\n",
      "Epoch 31/40\n",
      "3725/3725 [==============================] - 29s 8ms/step - loss: 0.1018 - accuracy: 0.9606\n",
      "Epoch 32/40\n",
      "3725/3725 [==============================] - 30s 8ms/step - loss: 0.0982 - accuracy: 0.9620\n",
      "Epoch 33/40\n",
      "3725/3725 [==============================] - 29s 8ms/step - loss: 0.0975 - accuracy: 0.9619\n",
      "Epoch 34/40\n",
      "3725/3725 [==============================] - 30s 8ms/step - loss: 0.0973 - accuracy: 0.9621\n",
      "Epoch 35/40\n",
      "3725/3725 [==============================] - 29s 8ms/step - loss: 0.0945 - accuracy: 0.9633\n",
      "Epoch 36/40\n",
      "3725/3725 [==============================] - 30s 8ms/step - loss: 0.0919 - accuracy: 0.9641\n",
      "Epoch 37/40\n",
      "3725/3725 [==============================] - 30s 8ms/step - loss: 0.0911 - accuracy: 0.9649\n",
      "Epoch 38/40\n",
      "3725/3725 [==============================] - 30s 8ms/step - loss: 0.0895 - accuracy: 0.9655\n",
      "Epoch 39/40\n",
      "3725/3725 [==============================] - 30s 8ms/step - loss: 0.0872 - accuracy: 0.9662\n",
      "Epoch 40/40\n",
      "3721/3725 [============================>.] - ETA: 0s - loss: 0.0876 - accuracy: 0.9664\n",
      "Epoch 40: saving model to /content/gdrive/My Drive/physionet/ensemble/tri_training/40_epochs_keras_way/teacher_40_epochs_wts_trial_3.ckpt\n",
      "3725/3725 [==============================] - 31s 8ms/step - loss: 0.0876 - accuracy: 0.9664\n"
     ]
    },
    {
     "data": {
      "text/plain": [
       "<keras.callbacks.History at 0x7f6deb035f90>"
      ]
     },
     "execution_count": 28,
     "metadata": {},
     "output_type": "execute_result"
    }
   ],
   "source": [
    "teacher_40_epochs.fit(x_dt_rshp, y_dt_, epochs=40, callbacks=[cp_callback_teacher_model_40_epochs])"
   ]
  },
  {
   "cell_type": "code",
   "execution_count": null,
   "metadata": {
    "id": "aos4rfC2TasO"
   },
   "outputs": [],
   "source": [
    "latest_teacher_40_epochs=tensorflow.train.latest_checkpoint(checkpoint_teacher_model_40_epochs_dir)"
   ]
  },
  {
   "cell_type": "code",
   "execution_count": null,
   "metadata": {
    "colab": {
     "base_uri": "https://localhost:8080/"
    },
    "id": "k1UwwIUuT7t8",
    "outputId": "6f6db703-4f39-4c21-fe2b-3872a3847107"
   },
   "outputs": [
    {
     "name": "stdout",
     "output_type": "stream",
     "text": [
      "/content/gdrive/My Drive/physionet/ensemble/tri_training/40_epochs_keras_way/teacher_40_epochs_wts_trial_3.ckpt\n",
      "/content/gdrive/My Drive/physionet/ensemble/tri_training/40_epochs_keras_way/teacher_40_epochs_wts_trial_3.ckpt\n"
     ]
    }
   ],
   "source": [
    "print(latest_teacher_40_epochs)\n",
    "print(checkpoint_teacher_model_40_epochs)"
   ]
  },
  {
   "cell_type": "code",
   "execution_count": null,
   "metadata": {
    "id": "0jeA64m0Ubl4"
   },
   "outputs": [],
   "source": [
    "sub_test_data=pd.read_csv('/content/gdrive/My Drive/physionet/ensemble/50_subs/x_test_sub.csv',header=None)"
   ]
  },
  {
   "cell_type": "code",
   "execution_count": null,
   "metadata": {
    "colab": {
     "base_uri": "https://localhost:8080/"
    },
    "id": "u7-l80euYUcJ",
    "outputId": "45e8d696-b364-4b1f-a854-f3439e604009"
   },
   "outputs": [
    {
     "data": {
      "text/plain": [
       "(614, 3001)"
      ]
     },
     "execution_count": 32,
     "metadata": {},
     "output_type": "execute_result"
    }
   ],
   "source": [
    "sub_test_data.shape"
   ]
  },
  {
   "cell_type": "code",
   "execution_count": null,
   "metadata": {
    "id": "hyAXUe9IUr96"
   },
   "outputs": [],
   "source": [
    "x_test_dt=sub_test_data.drop([3000],axis=1)\n",
    "y_test_dt=sub_test_data[3000]"
   ]
  },
  {
   "cell_type": "code",
   "execution_count": null,
   "metadata": {
    "id": "YBXjJZIJUsFR"
   },
   "outputs": [],
   "source": [
    "y_test_dt_=np_utils.to_categorical(y_test_dt)"
   ]
  },
  {
   "cell_type": "code",
   "execution_count": null,
   "metadata": {
    "colab": {
     "base_uri": "https://localhost:8080/"
    },
    "id": "U1R8-SHSU-OO",
    "outputId": "64658077-718a-45de-8478-55c0c76e018f"
   },
   "outputs": [
    {
     "data": {
      "text/plain": [
       "array([[0., 0., 1., 0., 0.],\n",
       "       [0., 0., 1., 0., 0.],\n",
       "       [1., 0., 0., 0., 0.],\n",
       "       ...,\n",
       "       [1., 0., 0., 0., 0.],\n",
       "       [1., 0., 0., 0., 0.],\n",
       "       [1., 0., 0., 0., 0.]], dtype=float32)"
      ]
     },
     "execution_count": 35,
     "metadata": {},
     "output_type": "execute_result"
    }
   ],
   "source": [
    "y_test_dt_"
   ]
  },
  {
   "cell_type": "code",
   "execution_count": null,
   "metadata": {
    "colab": {
     "base_uri": "https://localhost:8080/",
     "height": 488
    },
    "id": "q-pIYHGEFDi-",
    "outputId": "c07a6bd6-eb99-456c-b155-0295d1f17f17"
   },
   "outputs": [
    {
     "data": {
      "text/html": [
       "\n",
       "  <div id=\"df-35773504-c843-47ff-a929-22aebd15d217\">\n",
       "    <div class=\"colab-df-container\">\n",
       "      <div>\n",
       "<style scoped>\n",
       "    .dataframe tbody tr th:only-of-type {\n",
       "        vertical-align: middle;\n",
       "    }\n",
       "\n",
       "    .dataframe tbody tr th {\n",
       "        vertical-align: top;\n",
       "    }\n",
       "\n",
       "    .dataframe thead th {\n",
       "        text-align: right;\n",
       "    }\n",
       "</style>\n",
       "<table border=\"1\" class=\"dataframe\">\n",
       "  <thead>\n",
       "    <tr style=\"text-align: right;\">\n",
       "      <th></th>\n",
       "      <th>0</th>\n",
       "      <th>1</th>\n",
       "      <th>2</th>\n",
       "      <th>3</th>\n",
       "      <th>4</th>\n",
       "      <th>5</th>\n",
       "      <th>6</th>\n",
       "      <th>7</th>\n",
       "      <th>8</th>\n",
       "      <th>9</th>\n",
       "      <th>...</th>\n",
       "      <th>2990</th>\n",
       "      <th>2991</th>\n",
       "      <th>2992</th>\n",
       "      <th>2993</th>\n",
       "      <th>2994</th>\n",
       "      <th>2995</th>\n",
       "      <th>2996</th>\n",
       "      <th>2997</th>\n",
       "      <th>2998</th>\n",
       "      <th>2999</th>\n",
       "    </tr>\n",
       "  </thead>\n",
       "  <tbody>\n",
       "    <tr>\n",
       "      <th>0</th>\n",
       "      <td>-0.115570</td>\n",
       "      <td>-0.115570</td>\n",
       "      <td>-0.110424</td>\n",
       "      <td>-0.144301</td>\n",
       "      <td>-0.218060</td>\n",
       "      <td>-0.275952</td>\n",
       "      <td>-0.265661</td>\n",
       "      <td>-0.247221</td>\n",
       "      <td>-0.216345</td>\n",
       "      <td>-0.156309</td>\n",
       "      <td>...</td>\n",
       "      <td>0.083836</td>\n",
       "      <td>0.090269</td>\n",
       "      <td>0.088982</td>\n",
       "      <td>0.078262</td>\n",
       "      <td>0.066254</td>\n",
       "      <td>0.066683</td>\n",
       "      <td>0.071829</td>\n",
       "      <td>0.099274</td>\n",
       "      <td>0.128006</td>\n",
       "      <td>0.128006</td>\n",
       "    </tr>\n",
       "    <tr>\n",
       "      <th>1</th>\n",
       "      <td>-0.001501</td>\n",
       "      <td>0.005360</td>\n",
       "      <td>-0.018654</td>\n",
       "      <td>-0.033234</td>\n",
       "      <td>-0.028088</td>\n",
       "      <td>-0.041811</td>\n",
       "      <td>-0.048243</td>\n",
       "      <td>-0.054676</td>\n",
       "      <td>-0.057678</td>\n",
       "      <td>-0.021227</td>\n",
       "      <td>...</td>\n",
       "      <td>-0.026802</td>\n",
       "      <td>-0.002359</td>\n",
       "      <td>0.026373</td>\n",
       "      <td>0.025087</td>\n",
       "      <td>0.042669</td>\n",
       "      <td>0.040953</td>\n",
       "      <td>0.019512</td>\n",
       "      <td>0.001501</td>\n",
       "      <td>-0.019941</td>\n",
       "      <td>-0.025515</td>\n",
       "    </tr>\n",
       "    <tr>\n",
       "      <th>2</th>\n",
       "      <td>-0.217289</td>\n",
       "      <td>-0.202789</td>\n",
       "      <td>-0.189994</td>\n",
       "      <td>-0.138391</td>\n",
       "      <td>-0.105552</td>\n",
       "      <td>-0.050111</td>\n",
       "      <td>0.061199</td>\n",
       "      <td>0.103420</td>\n",
       "      <td>0.173788</td>\n",
       "      <td>0.111097</td>\n",
       "      <td>...</td>\n",
       "      <td>0.054375</td>\n",
       "      <td>0.042861</td>\n",
       "      <td>-0.011728</td>\n",
       "      <td>0.003625</td>\n",
       "      <td>0.010022</td>\n",
       "      <td>0.015140</td>\n",
       "      <td>-0.043714</td>\n",
       "      <td>-0.021110</td>\n",
       "      <td>-0.042008</td>\n",
       "      <td>-0.064184</td>\n",
       "    </tr>\n",
       "    <tr>\n",
       "      <th>3</th>\n",
       "      <td>-0.003199</td>\n",
       "      <td>-0.100008</td>\n",
       "      <td>-0.153744</td>\n",
       "      <td>-0.026228</td>\n",
       "      <td>-0.022816</td>\n",
       "      <td>-0.045420</td>\n",
       "      <td>-0.077832</td>\n",
       "      <td>0.006184</td>\n",
       "      <td>-0.007463</td>\n",
       "      <td>-0.088493</td>\n",
       "      <td>...</td>\n",
       "      <td>0.019831</td>\n",
       "      <td>-0.040302</td>\n",
       "      <td>-0.027508</td>\n",
       "      <td>-0.043287</td>\n",
       "      <td>0.052243</td>\n",
       "      <td>-0.037743</td>\n",
       "      <td>-0.082096</td>\n",
       "      <td>-0.086361</td>\n",
       "      <td>-0.076979</td>\n",
       "      <td>-0.159715</td>\n",
       "    </tr>\n",
       "    <tr>\n",
       "      <th>4</th>\n",
       "      <td>-0.015140</td>\n",
       "      <td>0.006610</td>\n",
       "      <td>0.049684</td>\n",
       "      <td>0.073993</td>\n",
       "      <td>0.068449</td>\n",
       "      <td>0.046272</td>\n",
       "      <td>0.063331</td>\n",
       "      <td>0.069302</td>\n",
       "      <td>-0.001919</td>\n",
       "      <td>-0.024096</td>\n",
       "      <td>...</td>\n",
       "      <td>0.131141</td>\n",
       "      <td>0.113229</td>\n",
       "      <td>0.070155</td>\n",
       "      <td>0.035184</td>\n",
       "      <td>0.021110</td>\n",
       "      <td>0.023669</td>\n",
       "      <td>-0.008316</td>\n",
       "      <td>-0.006610</td>\n",
       "      <td>-0.000213</td>\n",
       "      <td>-0.024949</td>\n",
       "    </tr>\n",
       "    <tr>\n",
       "      <th>...</th>\n",
       "      <td>...</td>\n",
       "      <td>...</td>\n",
       "      <td>...</td>\n",
       "      <td>...</td>\n",
       "      <td>...</td>\n",
       "      <td>...</td>\n",
       "      <td>...</td>\n",
       "      <td>...</td>\n",
       "      <td>...</td>\n",
       "      <td>...</td>\n",
       "      <td>...</td>\n",
       "      <td>...</td>\n",
       "      <td>...</td>\n",
       "      <td>...</td>\n",
       "      <td>...</td>\n",
       "      <td>...</td>\n",
       "      <td>...</td>\n",
       "      <td>...</td>\n",
       "      <td>...</td>\n",
       "      <td>...</td>\n",
       "      <td>...</td>\n",
       "    </tr>\n",
       "    <tr>\n",
       "      <th>609</th>\n",
       "      <td>0.085082</td>\n",
       "      <td>0.089773</td>\n",
       "      <td>0.111097</td>\n",
       "      <td>0.126023</td>\n",
       "      <td>0.126023</td>\n",
       "      <td>0.118347</td>\n",
       "      <td>0.124744</td>\n",
       "      <td>0.136685</td>\n",
       "      <td>0.173788</td>\n",
       "      <td>0.195538</td>\n",
       "      <td>...</td>\n",
       "      <td>-0.049258</td>\n",
       "      <td>-0.036037</td>\n",
       "      <td>-0.003625</td>\n",
       "      <td>0.048831</td>\n",
       "      <td>0.037317</td>\n",
       "      <td>0.034331</td>\n",
       "      <td>0.002346</td>\n",
       "      <td>0.039449</td>\n",
       "      <td>0.043287</td>\n",
       "      <td>0.039875</td>\n",
       "    </tr>\n",
       "    <tr>\n",
       "      <th>610</th>\n",
       "      <td>0.003199</td>\n",
       "      <td>0.078258</td>\n",
       "      <td>0.191274</td>\n",
       "      <td>0.130288</td>\n",
       "      <td>0.138817</td>\n",
       "      <td>0.198524</td>\n",
       "      <td>0.181465</td>\n",
       "      <td>0.239465</td>\n",
       "      <td>0.233068</td>\n",
       "      <td>0.259936</td>\n",
       "      <td>...</td>\n",
       "      <td>-0.048405</td>\n",
       "      <td>0.042434</td>\n",
       "      <td>-0.030066</td>\n",
       "      <td>-0.125597</td>\n",
       "      <td>-0.037743</td>\n",
       "      <td>0.168244</td>\n",
       "      <td>-0.060773</td>\n",
       "      <td>-0.009596</td>\n",
       "      <td>-0.050537</td>\n",
       "      <td>-0.116214</td>\n",
       "    </tr>\n",
       "    <tr>\n",
       "      <th>611</th>\n",
       "      <td>0.112376</td>\n",
       "      <td>0.032625</td>\n",
       "      <td>0.057361</td>\n",
       "      <td>0.103420</td>\n",
       "      <td>0.048831</td>\n",
       "      <td>-0.019405</td>\n",
       "      <td>0.046699</td>\n",
       "      <td>0.028361</td>\n",
       "      <td>0.078685</td>\n",
       "      <td>0.061626</td>\n",
       "      <td>...</td>\n",
       "      <td>0.022816</td>\n",
       "      <td>0.018125</td>\n",
       "      <td>0.028361</td>\n",
       "      <td>0.088920</td>\n",
       "      <td>0.008743</td>\n",
       "      <td>-0.042008</td>\n",
       "      <td>0.085935</td>\n",
       "      <td>-0.185303</td>\n",
       "      <td>-0.135406</td>\n",
       "      <td>-0.201936</td>\n",
       "    </tr>\n",
       "    <tr>\n",
       "      <th>612</th>\n",
       "      <td>0.018225</td>\n",
       "      <td>0.008362</td>\n",
       "      <td>-0.019083</td>\n",
       "      <td>-0.067112</td>\n",
       "      <td>-0.049530</td>\n",
       "      <td>0.017368</td>\n",
       "      <td>0.037523</td>\n",
       "      <td>0.047386</td>\n",
       "      <td>0.026373</td>\n",
       "      <td>-0.008791</td>\n",
       "      <td>...</td>\n",
       "      <td>0.018654</td>\n",
       "      <td>-0.003216</td>\n",
       "      <td>0.004074</td>\n",
       "      <td>0.006218</td>\n",
       "      <td>-0.018225</td>\n",
       "      <td>-0.025944</td>\n",
       "      <td>-0.013508</td>\n",
       "      <td>0.011793</td>\n",
       "      <td>-0.036665</td>\n",
       "      <td>-0.057249</td>\n",
       "    </tr>\n",
       "    <tr>\n",
       "      <th>613</th>\n",
       "      <td>-0.013860</td>\n",
       "      <td>-0.022390</td>\n",
       "      <td>-0.063331</td>\n",
       "      <td>-0.078685</td>\n",
       "      <td>-0.010875</td>\n",
       "      <td>-0.023243</td>\n",
       "      <td>0.039449</td>\n",
       "      <td>0.030066</td>\n",
       "      <td>0.046272</td>\n",
       "      <td>0.099155</td>\n",
       "      <td>...</td>\n",
       "      <td>0.060346</td>\n",
       "      <td>0.107685</td>\n",
       "      <td>0.108538</td>\n",
       "      <td>0.102141</td>\n",
       "      <td>0.146067</td>\n",
       "      <td>0.043287</td>\n",
       "      <td>0.032625</td>\n",
       "      <td>-0.000213</td>\n",
       "      <td>-0.008743</td>\n",
       "      <td>-0.009596</td>\n",
       "    </tr>\n",
       "  </tbody>\n",
       "</table>\n",
       "<p>614 rows × 3000 columns</p>\n",
       "</div>\n",
       "      <button class=\"colab-df-convert\" onclick=\"convertToInteractive('df-35773504-c843-47ff-a929-22aebd15d217')\"\n",
       "              title=\"Convert this dataframe to an interactive table.\"\n",
       "              style=\"display:none;\">\n",
       "        \n",
       "  <svg xmlns=\"http://www.w3.org/2000/svg\" height=\"24px\"viewBox=\"0 0 24 24\"\n",
       "       width=\"24px\">\n",
       "    <path d=\"M0 0h24v24H0V0z\" fill=\"none\"/>\n",
       "    <path d=\"M18.56 5.44l.94 2.06.94-2.06 2.06-.94-2.06-.94-.94-2.06-.94 2.06-2.06.94zm-11 1L8.5 8.5l.94-2.06 2.06-.94-2.06-.94L8.5 2.5l-.94 2.06-2.06.94zm10 10l.94 2.06.94-2.06 2.06-.94-2.06-.94-.94-2.06-.94 2.06-2.06.94z\"/><path d=\"M17.41 7.96l-1.37-1.37c-.4-.4-.92-.59-1.43-.59-.52 0-1.04.2-1.43.59L10.3 9.45l-7.72 7.72c-.78.78-.78 2.05 0 2.83L4 21.41c.39.39.9.59 1.41.59.51 0 1.02-.2 1.41-.59l7.78-7.78 2.81-2.81c.8-.78.8-2.07 0-2.86zM5.41 20L4 18.59l7.72-7.72 1.47 1.35L5.41 20z\"/>\n",
       "  </svg>\n",
       "      </button>\n",
       "      \n",
       "  <style>\n",
       "    .colab-df-container {\n",
       "      display:flex;\n",
       "      flex-wrap:wrap;\n",
       "      gap: 12px;\n",
       "    }\n",
       "\n",
       "    .colab-df-convert {\n",
       "      background-color: #E8F0FE;\n",
       "      border: none;\n",
       "      border-radius: 50%;\n",
       "      cursor: pointer;\n",
       "      display: none;\n",
       "      fill: #1967D2;\n",
       "      height: 32px;\n",
       "      padding: 0 0 0 0;\n",
       "      width: 32px;\n",
       "    }\n",
       "\n",
       "    .colab-df-convert:hover {\n",
       "      background-color: #E2EBFA;\n",
       "      box-shadow: 0px 1px 2px rgba(60, 64, 67, 0.3), 0px 1px 3px 1px rgba(60, 64, 67, 0.15);\n",
       "      fill: #174EA6;\n",
       "    }\n",
       "\n",
       "    [theme=dark] .colab-df-convert {\n",
       "      background-color: #3B4455;\n",
       "      fill: #D2E3FC;\n",
       "    }\n",
       "\n",
       "    [theme=dark] .colab-df-convert:hover {\n",
       "      background-color: #434B5C;\n",
       "      box-shadow: 0px 1px 3px 1px rgba(0, 0, 0, 0.15);\n",
       "      filter: drop-shadow(0px 1px 2px rgba(0, 0, 0, 0.3));\n",
       "      fill: #FFFFFF;\n",
       "    }\n",
       "  </style>\n",
       "\n",
       "      <script>\n",
       "        const buttonEl =\n",
       "          document.querySelector('#df-35773504-c843-47ff-a929-22aebd15d217 button.colab-df-convert');\n",
       "        buttonEl.style.display =\n",
       "          google.colab.kernel.accessAllowed ? 'block' : 'none';\n",
       "\n",
       "        async function convertToInteractive(key) {\n",
       "          const element = document.querySelector('#df-35773504-c843-47ff-a929-22aebd15d217');\n",
       "          const dataTable =\n",
       "            await google.colab.kernel.invokeFunction('convertToInteractive',\n",
       "                                                     [key], {});\n",
       "          if (!dataTable) return;\n",
       "\n",
       "          const docLinkHtml = 'Like what you see? Visit the ' +\n",
       "            '<a target=\"_blank\" href=https://colab.research.google.com/notebooks/data_table.ipynb>data table notebook</a>'\n",
       "            + ' to learn more about interactive tables.';\n",
       "          element.innerHTML = '';\n",
       "          dataTable['output_type'] = 'display_data';\n",
       "          await google.colab.output.renderOutput(dataTable, element);\n",
       "          const docLink = document.createElement('div');\n",
       "          docLink.innerHTML = docLinkHtml;\n",
       "          element.appendChild(docLink);\n",
       "        }\n",
       "      </script>\n",
       "    </div>\n",
       "  </div>\n",
       "  "
      ],
      "text/plain": [
       "         0         1         2         3         4         5         6     \\\n",
       "0   -0.115570 -0.115570 -0.110424 -0.144301 -0.218060 -0.275952 -0.265661   \n",
       "1   -0.001501  0.005360 -0.018654 -0.033234 -0.028088 -0.041811 -0.048243   \n",
       "2   -0.217289 -0.202789 -0.189994 -0.138391 -0.105552 -0.050111  0.061199   \n",
       "3   -0.003199 -0.100008 -0.153744 -0.026228 -0.022816 -0.045420 -0.077832   \n",
       "4   -0.015140  0.006610  0.049684  0.073993  0.068449  0.046272  0.063331   \n",
       "..        ...       ...       ...       ...       ...       ...       ...   \n",
       "609  0.085082  0.089773  0.111097  0.126023  0.126023  0.118347  0.124744   \n",
       "610  0.003199  0.078258  0.191274  0.130288  0.138817  0.198524  0.181465   \n",
       "611  0.112376  0.032625  0.057361  0.103420  0.048831 -0.019405  0.046699   \n",
       "612  0.018225  0.008362 -0.019083 -0.067112 -0.049530  0.017368  0.037523   \n",
       "613 -0.013860 -0.022390 -0.063331 -0.078685 -0.010875 -0.023243  0.039449   \n",
       "\n",
       "         7         8         9     ...      2990      2991      2992  \\\n",
       "0   -0.247221 -0.216345 -0.156309  ...  0.083836  0.090269  0.088982   \n",
       "1   -0.054676 -0.057678 -0.021227  ... -0.026802 -0.002359  0.026373   \n",
       "2    0.103420  0.173788  0.111097  ...  0.054375  0.042861 -0.011728   \n",
       "3    0.006184 -0.007463 -0.088493  ...  0.019831 -0.040302 -0.027508   \n",
       "4    0.069302 -0.001919 -0.024096  ...  0.131141  0.113229  0.070155   \n",
       "..        ...       ...       ...  ...       ...       ...       ...   \n",
       "609  0.136685  0.173788  0.195538  ... -0.049258 -0.036037 -0.003625   \n",
       "610  0.239465  0.233068  0.259936  ... -0.048405  0.042434 -0.030066   \n",
       "611  0.028361  0.078685  0.061626  ...  0.022816  0.018125  0.028361   \n",
       "612  0.047386  0.026373 -0.008791  ...  0.018654 -0.003216  0.004074   \n",
       "613  0.030066  0.046272  0.099155  ...  0.060346  0.107685  0.108538   \n",
       "\n",
       "         2993      2994      2995      2996      2997      2998      2999  \n",
       "0    0.078262  0.066254  0.066683  0.071829  0.099274  0.128006  0.128006  \n",
       "1    0.025087  0.042669  0.040953  0.019512  0.001501 -0.019941 -0.025515  \n",
       "2    0.003625  0.010022  0.015140 -0.043714 -0.021110 -0.042008 -0.064184  \n",
       "3   -0.043287  0.052243 -0.037743 -0.082096 -0.086361 -0.076979 -0.159715  \n",
       "4    0.035184  0.021110  0.023669 -0.008316 -0.006610 -0.000213 -0.024949  \n",
       "..        ...       ...       ...       ...       ...       ...       ...  \n",
       "609  0.048831  0.037317  0.034331  0.002346  0.039449  0.043287  0.039875  \n",
       "610 -0.125597 -0.037743  0.168244 -0.060773 -0.009596 -0.050537 -0.116214  \n",
       "611  0.088920  0.008743 -0.042008  0.085935 -0.185303 -0.135406 -0.201936  \n",
       "612  0.006218 -0.018225 -0.025944 -0.013508  0.011793 -0.036665 -0.057249  \n",
       "613  0.102141  0.146067  0.043287  0.032625 -0.000213 -0.008743 -0.009596  \n",
       "\n",
       "[614 rows x 3000 columns]"
      ]
     },
     "execution_count": 36,
     "metadata": {},
     "output_type": "execute_result"
    }
   ],
   "source": [
    "x_test_dt"
   ]
  },
  {
   "cell_type": "code",
   "execution_count": null,
   "metadata": {
    "colab": {
     "base_uri": "https://localhost:8080/"
    },
    "id": "Mq47u-c7U_81",
    "outputId": "1db7339f-7094-4a86-e34e-b4ae38f71f77"
   },
   "outputs": [
    {
     "data": {
      "text/plain": [
       "(614, 3000)"
      ]
     },
     "execution_count": 37,
     "metadata": {},
     "output_type": "execute_result"
    }
   ],
   "source": [
    "x_test_dt.shape"
   ]
  },
  {
   "cell_type": "code",
   "execution_count": null,
   "metadata": {
    "id": "ntbZ9IIqVGLv"
   },
   "outputs": [],
   "source": [
    "x_test_dt_rshp=np.array(x_test_dt).reshape(614,3000,1)"
   ]
  },
  {
   "cell_type": "code",
   "execution_count": null,
   "metadata": {
    "colab": {
     "base_uri": "https://localhost:8080/"
    },
    "id": "7m8Qxd6dVM51",
    "outputId": "04ef4764-b267-476e-aaf7-e93857884d3b"
   },
   "outputs": [
    {
     "data": {
      "text/plain": [
       "array([[[-1.15569822e-01],\n",
       "        [-1.15569822e-01],\n",
       "        [-1.10423861e-01],\n",
       "        ...,\n",
       "        [ 9.92742659e-02],\n",
       "        [ 1.28005908e-01],\n",
       "        [ 1.28005908e-01]],\n",
       "\n",
       "       [[-1.50090688e-03],\n",
       "        [ 5.36038176e-03],\n",
       "        [-1.86541271e-02],\n",
       "        ...,\n",
       "        [ 1.50090688e-03],\n",
       "        [-1.99406186e-02],\n",
       "        [-2.55154162e-02]],\n",
       "\n",
       "       [[-2.17288668e-01],\n",
       "        [-2.02788530e-01],\n",
       "        [-1.89994296e-01],\n",
       "        ...,\n",
       "        [-2.11104773e-02],\n",
       "        [-4.20077189e-02],\n",
       "        [-6.41843840e-02]],\n",
       "\n",
       "       ...,\n",
       "\n",
       "       [[ 1.12375984e-01],\n",
       "        [ 3.26252836e-02],\n",
       "        [ 5.73607955e-02],\n",
       "        ...,\n",
       "        [-1.85303083e-01],\n",
       "        [-1.35405597e-01],\n",
       "        [-2.01935587e-01]],\n",
       "\n",
       "       [[ 1.82252966e-02],\n",
       "        [ 8.36219523e-03],\n",
       "        [-1.90829576e-02],\n",
       "        ...,\n",
       "        [ 1.17928392e-02],\n",
       "        [-3.66650091e-02],\n",
       "        [-5.72488751e-02]],\n",
       "\n",
       "       [[-1.38604151e-02],\n",
       "        [-2.23899008e-02],\n",
       "        [-6.33314366e-02],\n",
       "        ...,\n",
       "        [-2.13237160e-04],\n",
       "        [-8.74272310e-03],\n",
       "        [-9.59567167e-03]]])"
      ]
     },
     "execution_count": 39,
     "metadata": {},
     "output_type": "execute_result"
    }
   ],
   "source": [
    "x_test_dt_rshp"
   ]
  },
  {
   "cell_type": "code",
   "execution_count": null,
   "metadata": {
    "colab": {
     "base_uri": "https://localhost:8080/"
    },
    "id": "cT3JPqj5T7xC",
    "outputId": "38cecc15-9d56-4d67-d4b1-fda8e4497fd0"
   },
   "outputs": [
    {
     "name": "stdout",
     "output_type": "stream",
     "text": [
      "20/20 [==============================] - 1s 4ms/step - loss: 0.8506 - accuracy: 0.8648\n"
     ]
    }
   ],
   "source": [
    "accuracy_teacher_model_40_epochs = teacher_40_epochs.evaluate(x_test_dt_rshp, y_test_dt_)"
   ]
  },
  {
   "cell_type": "markdown",
   "metadata": {
    "id": "UT4ksl55bqqV"
   },
   "source": [
    "Training the teacher model for 50 epochs wrt to the transfer set, majority voted labels, x_sub_train, tri-trained labels"
   ]
  },
  {
   "cell_type": "code",
   "execution_count": null,
   "metadata": {
    "id": "oS3fPBLIFKRG"
   },
   "outputs": [],
   "source": [
    "checkpoint_teacher_model_50_epochs = \"/content/gdrive/My Drive/physionet/ensemble/tri_training/50_epochs_keras_way/teacher_50_epochs_wts_trial_3.ckpt\""
   ]
  },
  {
   "cell_type": "code",
   "execution_count": null,
   "metadata": {
    "id": "Nt26p3OxcCK_"
   },
   "outputs": [],
   "source": [
    "checkpoint_teacher_model_50_epochs_dir = os.path.dirname(checkpoint_teacher_model_50_epochs)"
   ]
  },
  {
   "cell_type": "code",
   "execution_count": null,
   "metadata": {
    "colab": {
     "base_uri": "https://localhost:8080/"
    },
    "id": "PhBJpJ1fcXk8",
    "outputId": "fd1d4e7e-1367-4467-9e96-f836b4eca453"
   },
   "outputs": [
    {
     "name": "stdout",
     "output_type": "stream",
     "text": [
      "WARNING:tensorflow:`period` argument is deprecated. Please use `save_freq` to specify the frequency in number of batches seen.\n"
     ]
    }
   ],
   "source": [
    "cp_callback_teacher_model_50_epochs = tensorflow.keras.callbacks.ModelCheckpoint(\n",
    "    filepath=checkpoint_teacher_model_50_epochs,\n",
    "    monitor='accuracy', \n",
    "    verbose=1, \n",
    "    save_weights_only=True,\n",
    "    mode = 'max',\n",
    "    period=50)"
   ]
  },
  {
   "cell_type": "code",
   "execution_count": null,
   "metadata": {
    "colab": {
     "base_uri": "https://localhost:8080/"
    },
    "id": "W6TRZJzigSq2",
    "outputId": "12282ced-289d-4ad3-b573-341f23b65999"
   },
   "outputs": [
    {
     "name": "stdout",
     "output_type": "stream",
     "text": [
      "Model: \"model\"\n",
      "__________________________________________________________________________________________________\n",
      " Layer (type)                   Output Shape         Param #     Connected to                     \n",
      "==================================================================================================\n",
      " inLayer (InputLayer)           [(None, 3000, 1)]    0           []                               \n",
      "                                                                                                  \n",
      " fConv1 (Conv1D)                (None, 500, 64)      3264        ['inLayer[0][0]']                \n",
      "                                                                                                  \n",
      " cConv1 (Conv1D)                (None, 60, 32)       12832       ['inLayer[0][0]']                \n",
      "                                                                                                  \n",
      " fMaxP1 (MaxPooling1D)          (None, 62, 64)       0           ['fConv1[0][0]']                 \n",
      "                                                                                                  \n",
      " cMaxP1 (MaxPooling1D)          (None, 15, 32)       0           ['cConv1[0][0]']                 \n",
      "                                                                                                  \n",
      " fDrop1 (Dropout)               (None, 62, 64)       0           ['fMaxP1[0][0]']                 \n",
      "                                                                                                  \n",
      " cDrop1 (Dropout)               (None, 15, 32)       0           ['cMaxP1[0][0]']                 \n",
      "                                                                                                  \n",
      " fConv2 (Conv1D)                (None, 62, 128)      65664       ['fDrop1[0][0]']                 \n",
      "                                                                                                  \n",
      " cConv2 (Conv1D)                (None, 15, 128)      24704       ['cDrop1[0][0]']                 \n",
      "                                                                                                  \n",
      " fConv3 (Conv1D)                (None, 62, 128)      131200      ['fConv2[0][0]']                 \n",
      "                                                                                                  \n",
      " cConv3 (Conv1D)                (None, 15, 128)      98432       ['cConv2[0][0]']                 \n",
      "                                                                                                  \n",
      " fConv4 (Conv1D)                (None, 62, 128)      131200      ['fConv3[0][0]']                 \n",
      "                                                                                                  \n",
      " cConv4 (Conv1D)                (None, 15, 128)      98432       ['cConv3[0][0]']                 \n",
      "                                                                                                  \n",
      " fMaxP2 (MaxPooling1D)          (None, 15, 128)      0           ['fConv4[0][0]']                 \n",
      "                                                                                                  \n",
      " cMaxP2 (MaxPooling1D)          (None, 7, 128)       0           ['cConv4[0][0]']                 \n",
      "                                                                                                  \n",
      " fFlat1 (Flatten)               (None, 1920)         0           ['fMaxP2[0][0]']                 \n",
      "                                                                                                  \n",
      " cFlat1 (Flatten)               (None, 896)          0           ['cMaxP2[0][0]']                 \n",
      "                                                                                                  \n",
      " merge_1 (Concatenate)          (None, 2816)         0           ['fFlat1[0][0]',                 \n",
      "                                                                  'cFlat1[0][0]']                 \n",
      "                                                                                                  \n",
      " mDrop1 (Dropout)               (None, 2816)         0           ['merge_1[0][0]']                \n",
      "                                                                                                  \n",
      " reshape1 (Reshape)             (None, 1, 2816)      0           ['mDrop1[0][0]']                 \n",
      "                                                                                                  \n",
      " lstm (LSTM)                    (None, 1, 64)        737536      ['reshape1[0][0]']               \n",
      "                                                                                                  \n",
      " lstm_1 (LSTM)                  (None, 64)           33024       ['lstm[0][0]']                   \n",
      "                                                                                                  \n",
      " outLayer (Dense)               (None, 5)            325         ['lstm_1[0][0]']                 \n",
      "                                                                                                  \n",
      "==================================================================================================\n",
      "Total params: 1,336,613\n",
      "Trainable params: 1,336,613\n",
      "Non-trainable params: 0\n",
      "__________________________________________________________________________________________________\n"
     ]
    }
   ],
   "source": [
    "teacher_50_epochs=model_b(verbose=VBS)"
   ]
  },
  {
   "cell_type": "code",
   "execution_count": null,
   "metadata": {
    "id": "8sJC-6k3gWN4"
   },
   "outputs": [],
   "source": [
    "teacher_50_epochs.compile(optimizer=optimizer, loss='categorical_crossentropy', metrics=['accuracy'])"
   ]
  },
  {
   "cell_type": "code",
   "execution_count": null,
   "metadata": {
    "colab": {
     "base_uri": "https://localhost:8080/"
    },
    "id": "pDJOS5pQcgHq",
    "outputId": "a4a1ac1e-814e-4a3f-b2b5-ff1910f34c8a"
   },
   "outputs": [
    {
     "name": "stdout",
     "output_type": "stream",
     "text": [
      "Epoch 1/50\n",
      "3725/3725 [==============================] - 45s 8ms/step - loss: 0.6855 - accuracy: 0.7243\n",
      "Epoch 2/50\n",
      "3725/3725 [==============================] - 29s 8ms/step - loss: 0.4078 - accuracy: 0.8393\n",
      "Epoch 3/50\n",
      "3725/3725 [==============================] - 29s 8ms/step - loss: 0.3371 - accuracy: 0.8656\n",
      "Epoch 4/50\n",
      "3725/3725 [==============================] - 29s 8ms/step - loss: 0.2911 - accuracy: 0.8845\n",
      "Epoch 5/50\n",
      "3725/3725 [==============================] - 29s 8ms/step - loss: 0.2593 - accuracy: 0.8978\n",
      "Epoch 6/50\n",
      "3725/3725 [==============================] - 29s 8ms/step - loss: 0.2345 - accuracy: 0.9074\n",
      "Epoch 7/50\n",
      "3725/3725 [==============================] - 29s 8ms/step - loss: 0.2176 - accuracy: 0.9144\n",
      "Epoch 8/50\n",
      "3725/3725 [==============================] - 29s 8ms/step - loss: 0.2018 - accuracy: 0.9193\n",
      "Epoch 9/50\n",
      "3725/3725 [==============================] - 29s 8ms/step - loss: 0.1917 - accuracy: 0.9239\n",
      "Epoch 10/50\n",
      "3725/3725 [==============================] - 29s 8ms/step - loss: 0.1833 - accuracy: 0.9273\n",
      "Epoch 11/50\n",
      "3725/3725 [==============================] - 29s 8ms/step - loss: 0.1760 - accuracy: 0.9302\n",
      "Epoch 12/50\n",
      "3725/3725 [==============================] - 29s 8ms/step - loss: 0.1672 - accuracy: 0.9343\n",
      "Epoch 13/50\n",
      "3725/3725 [==============================] - 29s 8ms/step - loss: 0.1613 - accuracy: 0.9354\n",
      "Epoch 14/50\n",
      "3725/3725 [==============================] - 29s 8ms/step - loss: 0.1539 - accuracy: 0.9389\n",
      "Epoch 15/50\n",
      "3725/3725 [==============================] - 29s 8ms/step - loss: 0.1485 - accuracy: 0.9412\n",
      "Epoch 16/50\n",
      "3725/3725 [==============================] - 29s 8ms/step - loss: 0.1459 - accuracy: 0.9417\n",
      "Epoch 17/50\n",
      "3725/3725 [==============================] - 29s 8ms/step - loss: 0.1405 - accuracy: 0.9438\n",
      "Epoch 18/50\n",
      "3725/3725 [==============================] - 28s 8ms/step - loss: 0.1358 - accuracy: 0.9461\n",
      "Epoch 19/50\n",
      "3725/3725 [==============================] - 28s 8ms/step - loss: 0.1328 - accuracy: 0.9480\n",
      "Epoch 20/50\n",
      "3725/3725 [==============================] - 28s 8ms/step - loss: 0.1305 - accuracy: 0.9476\n",
      "Epoch 21/50\n",
      "3725/3725 [==============================] - 28s 8ms/step - loss: 0.1258 - accuracy: 0.9503\n",
      "Epoch 22/50\n",
      "3725/3725 [==============================] - 28s 8ms/step - loss: 0.1235 - accuracy: 0.9520\n",
      "Epoch 23/50\n",
      "3725/3725 [==============================] - 28s 8ms/step - loss: 0.1202 - accuracy: 0.9524\n",
      "Epoch 24/50\n",
      "3725/3725 [==============================] - 28s 8ms/step - loss: 0.1195 - accuracy: 0.9534\n",
      "Epoch 25/50\n",
      "3725/3725 [==============================] - 29s 8ms/step - loss: 0.1158 - accuracy: 0.9546\n",
      "Epoch 26/50\n",
      "3725/3725 [==============================] - 29s 8ms/step - loss: 0.1121 - accuracy: 0.9566\n",
      "Epoch 27/50\n",
      "3725/3725 [==============================] - 29s 8ms/step - loss: 0.1096 - accuracy: 0.9568\n",
      "Epoch 28/50\n",
      "3725/3725 [==============================] - 29s 8ms/step - loss: 0.1081 - accuracy: 0.9579\n",
      "Epoch 29/50\n",
      "3725/3725 [==============================] - 29s 8ms/step - loss: 0.1059 - accuracy: 0.9590\n",
      "Epoch 30/50\n",
      "3725/3725 [==============================] - 29s 8ms/step - loss: 0.1032 - accuracy: 0.9594\n",
      "Epoch 31/50\n",
      "3725/3725 [==============================] - 29s 8ms/step - loss: 0.1031 - accuracy: 0.9597\n",
      "Epoch 32/50\n",
      "3725/3725 [==============================] - 29s 8ms/step - loss: 0.0994 - accuracy: 0.9618\n",
      "Epoch 33/50\n",
      "3725/3725 [==============================] - 29s 8ms/step - loss: 0.0981 - accuracy: 0.9614\n",
      "Epoch 34/50\n",
      "3725/3725 [==============================] - 28s 7ms/step - loss: 0.0966 - accuracy: 0.9626\n",
      "Epoch 35/50\n",
      "3725/3725 [==============================] - 28s 7ms/step - loss: 0.0947 - accuracy: 0.9635\n",
      "Epoch 36/50\n",
      "3725/3725 [==============================] - 28s 8ms/step - loss: 0.0933 - accuracy: 0.9634\n",
      "Epoch 37/50\n",
      "3725/3725 [==============================] - 28s 8ms/step - loss: 0.0904 - accuracy: 0.9647\n",
      "Epoch 38/50\n",
      "3725/3725 [==============================] - 28s 8ms/step - loss: 0.0905 - accuracy: 0.9654\n",
      "Epoch 39/50\n",
      "3725/3725 [==============================] - 28s 7ms/step - loss: 0.0881 - accuracy: 0.9661\n",
      "Epoch 40/50\n",
      "3725/3725 [==============================] - 28s 7ms/step - loss: 0.0882 - accuracy: 0.9661\n",
      "Epoch 41/50\n",
      "3725/3725 [==============================] - 28s 7ms/step - loss: 0.0856 - accuracy: 0.9667\n",
      "Epoch 42/50\n",
      "3725/3725 [==============================] - 28s 8ms/step - loss: 0.0830 - accuracy: 0.9680\n",
      "Epoch 43/50\n",
      "3725/3725 [==============================] - 28s 8ms/step - loss: 0.0832 - accuracy: 0.9676\n",
      "Epoch 44/50\n",
      "3725/3725 [==============================] - 28s 8ms/step - loss: 0.0807 - accuracy: 0.9690\n",
      "Epoch 45/50\n",
      "3725/3725 [==============================] - 28s 8ms/step - loss: 0.0790 - accuracy: 0.9695\n",
      "Epoch 46/50\n",
      "3725/3725 [==============================] - 28s 8ms/step - loss: 0.0785 - accuracy: 0.9698\n",
      "Epoch 47/50\n",
      "3725/3725 [==============================] - 29s 8ms/step - loss: 0.0764 - accuracy: 0.9706\n",
      "Epoch 48/50\n",
      "3725/3725 [==============================] - 29s 8ms/step - loss: 0.0769 - accuracy: 0.9711\n",
      "Epoch 49/50\n",
      "3725/3725 [==============================] - 29s 8ms/step - loss: 0.0757 - accuracy: 0.9712\n",
      "Epoch 50/50\n",
      "3724/3725 [============================>.] - ETA: 0s - loss: 0.0750 - accuracy: 0.9712\n",
      "Epoch 50: saving model to /content/gdrive/My Drive/physionet/ensemble/tri_training/50_epochs_keras_way/teacher_50_epochs_wts_trial_3.ckpt\n",
      "3725/3725 [==============================] - 29s 8ms/step - loss: 0.0750 - accuracy: 0.9712\n"
     ]
    },
    {
     "data": {
      "text/plain": [
       "<keras.callbacks.History at 0x7f0fb8667e90>"
      ]
     },
     "execution_count": 31,
     "metadata": {},
     "output_type": "execute_result"
    }
   ],
   "source": [
    "teacher_50_epochs.fit(x_dt_rshp, y_dt_, epochs=50, callbacks=[cp_callback_teacher_model_50_epochs])"
   ]
  },
  {
   "cell_type": "code",
   "execution_count": null,
   "metadata": {
    "id": "qkU2UceKcgYe"
   },
   "outputs": [],
   "source": [
    "latest_teacher_50_epochs=tensorflow.train.latest_checkpoint(checkpoint_teacher_model_50_epochs_dir)"
   ]
  },
  {
   "cell_type": "code",
   "execution_count": null,
   "metadata": {
    "colab": {
     "base_uri": "https://localhost:8080/"
    },
    "id": "G3peC8-Bcyfb",
    "outputId": "87393a0e-719c-4773-bc2a-750753760820"
   },
   "outputs": [
    {
     "name": "stdout",
     "output_type": "stream",
     "text": [
      "20/20 [==============================] - 1s 5ms/step - loss: 0.9905 - accuracy: 0.8567\n"
     ]
    }
   ],
   "source": [
    "accuracy_teacher_model_50_epochs = teacher_50_epochs.evaluate(x_test_dt_rshp, y_test_dt_)"
   ]
  },
  {
   "cell_type": "markdown",
   "metadata": {
    "id": "D3b-p6meod22"
   },
   "source": [
    "Training the teacher model for 60 epochs wrt to the transfer set, majority voted labels, x_sub_train, tri-trained labels"
   ]
  },
  {
   "cell_type": "code",
   "execution_count": null,
   "metadata": {
    "id": "ud4BWnIrcy4W"
   },
   "outputs": [],
   "source": [
    "checkpoint_teacher_model_60_epochs = \"/content/gdrive/My Drive/physionet/ensemble/tri_training/60_epochs_keras_way/teacher_60_epochs_wts_trial_3.ckpt\""
   ]
  },
  {
   "cell_type": "code",
   "execution_count": null,
   "metadata": {
    "id": "n7R-hMAoczAq"
   },
   "outputs": [],
   "source": [
    "checkpoint_teacher_model_60_epochs_dir = os.path.dirname(checkpoint_teacher_model_60_epochs)"
   ]
  },
  {
   "cell_type": "code",
   "execution_count": null,
   "metadata": {
    "colab": {
     "base_uri": "https://localhost:8080/"
    },
    "id": "YQ_ioC5EownV",
    "outputId": "005a367e-d50b-439a-e906-d4a61390b373"
   },
   "outputs": [
    {
     "name": "stdout",
     "output_type": "stream",
     "text": [
      "WARNING:tensorflow:`period` argument is deprecated. Please use `save_freq` to specify the frequency in number of batches seen.\n"
     ]
    }
   ],
   "source": [
    "cp_callback_teacher_model_60_epochs = tensorflow.keras.callbacks.ModelCheckpoint(\n",
    "    filepath=checkpoint_teacher_model_60_epochs,\n",
    "    monitor='accuracy', \n",
    "    verbose=1, \n",
    "    save_weights_only=True,\n",
    "    mode = 'max',\n",
    "    period=60)"
   ]
  },
  {
   "cell_type": "code",
   "execution_count": null,
   "metadata": {
    "colab": {
     "base_uri": "https://localhost:8080/"
    },
    "id": "b5Nd2k5Fowqa",
    "outputId": "b5467aed-8510-470f-dea1-c1fda1cfa53a"
   },
   "outputs": [
    {
     "name": "stdout",
     "output_type": "stream",
     "text": [
      "Model: \"model\"\n",
      "__________________________________________________________________________________________________\n",
      " Layer (type)                   Output Shape         Param #     Connected to                     \n",
      "==================================================================================================\n",
      " inLayer (InputLayer)           [(None, 3000, 1)]    0           []                               \n",
      "                                                                                                  \n",
      " fConv1 (Conv1D)                (None, 500, 64)      3264        ['inLayer[0][0]']                \n",
      "                                                                                                  \n",
      " cConv1 (Conv1D)                (None, 60, 32)       12832       ['inLayer[0][0]']                \n",
      "                                                                                                  \n",
      " fMaxP1 (MaxPooling1D)          (None, 62, 64)       0           ['fConv1[0][0]']                 \n",
      "                                                                                                  \n",
      " cMaxP1 (MaxPooling1D)          (None, 15, 32)       0           ['cConv1[0][0]']                 \n",
      "                                                                                                  \n",
      " fDrop1 (Dropout)               (None, 62, 64)       0           ['fMaxP1[0][0]']                 \n",
      "                                                                                                  \n",
      " cDrop1 (Dropout)               (None, 15, 32)       0           ['cMaxP1[0][0]']                 \n",
      "                                                                                                  \n",
      " fConv2 (Conv1D)                (None, 62, 128)      65664       ['fDrop1[0][0]']                 \n",
      "                                                                                                  \n",
      " cConv2 (Conv1D)                (None, 15, 128)      24704       ['cDrop1[0][0]']                 \n",
      "                                                                                                  \n",
      " fConv3 (Conv1D)                (None, 62, 128)      131200      ['fConv2[0][0]']                 \n",
      "                                                                                                  \n",
      " cConv3 (Conv1D)                (None, 15, 128)      98432       ['cConv2[0][0]']                 \n",
      "                                                                                                  \n",
      " fConv4 (Conv1D)                (None, 62, 128)      131200      ['fConv3[0][0]']                 \n",
      "                                                                                                  \n",
      " cConv4 (Conv1D)                (None, 15, 128)      98432       ['cConv3[0][0]']                 \n",
      "                                                                                                  \n",
      " fMaxP2 (MaxPooling1D)          (None, 15, 128)      0           ['fConv4[0][0]']                 \n",
      "                                                                                                  \n",
      " cMaxP2 (MaxPooling1D)          (None, 7, 128)       0           ['cConv4[0][0]']                 \n",
      "                                                                                                  \n",
      " fFlat1 (Flatten)               (None, 1920)         0           ['fMaxP2[0][0]']                 \n",
      "                                                                                                  \n",
      " cFlat1 (Flatten)               (None, 896)          0           ['cMaxP2[0][0]']                 \n",
      "                                                                                                  \n",
      " merge_1 (Concatenate)          (None, 2816)         0           ['fFlat1[0][0]',                 \n",
      "                                                                  'cFlat1[0][0]']                 \n",
      "                                                                                                  \n",
      " mDrop1 (Dropout)               (None, 2816)         0           ['merge_1[0][0]']                \n",
      "                                                                                                  \n",
      " reshape1 (Reshape)             (None, 1, 2816)      0           ['mDrop1[0][0]']                 \n",
      "                                                                                                  \n",
      " lstm (LSTM)                    (None, 1, 64)        737536      ['reshape1[0][0]']               \n",
      "                                                                                                  \n",
      " lstm_1 (LSTM)                  (None, 64)           33024       ['lstm[0][0]']                   \n",
      "                                                                                                  \n",
      " outLayer (Dense)               (None, 5)            325         ['lstm_1[0][0]']                 \n",
      "                                                                                                  \n",
      "==================================================================================================\n",
      "Total params: 1,336,613\n",
      "Trainable params: 1,336,613\n",
      "Non-trainable params: 0\n",
      "__________________________________________________________________________________________________\n"
     ]
    }
   ],
   "source": [
    "teacher_60_epochs=model_b(verbose=VBS)"
   ]
  },
  {
   "cell_type": "code",
   "execution_count": null,
   "metadata": {
    "id": "t7QlyJqco8Oa"
   },
   "outputs": [],
   "source": [
    "teacher_60_epochs.compile(optimizer=optimizer, loss='categorical_crossentropy', metrics=['accuracy'])"
   ]
  },
  {
   "cell_type": "code",
   "execution_count": null,
   "metadata": {
    "colab": {
     "base_uri": "https://localhost:8080/"
    },
    "id": "rDX4Zg3-o9w0",
    "outputId": "a995e55d-8799-4b8d-eb98-a26e5b36aa2c"
   },
   "outputs": [
    {
     "name": "stdout",
     "output_type": "stream",
     "text": [
      "Epoch 1/60\n",
      "3725/3725 [==============================] - 44s 8ms/step - loss: 0.6854 - accuracy: 0.7236\n",
      "Epoch 2/60\n",
      "3725/3725 [==============================] - 29s 8ms/step - loss: 0.4052 - accuracy: 0.8414\n",
      "Epoch 3/60\n",
      "3725/3725 [==============================] - 29s 8ms/step - loss: 0.3323 - accuracy: 0.8677\n",
      "Epoch 4/60\n",
      "3725/3725 [==============================] - 29s 8ms/step - loss: 0.2867 - accuracy: 0.8861\n",
      "Epoch 5/60\n",
      "3725/3725 [==============================] - 29s 8ms/step - loss: 0.2569 - accuracy: 0.8994\n",
      "Epoch 6/60\n",
      "3725/3725 [==============================] - 29s 8ms/step - loss: 0.2331 - accuracy: 0.9075\n",
      "Epoch 7/60\n",
      "3725/3725 [==============================] - 29s 8ms/step - loss: 0.2174 - accuracy: 0.9136\n",
      "Epoch 8/60\n",
      "3725/3725 [==============================] - 29s 8ms/step - loss: 0.2016 - accuracy: 0.9201\n",
      "Epoch 9/60\n",
      "3725/3725 [==============================] - 29s 8ms/step - loss: 0.1909 - accuracy: 0.9244\n",
      "Epoch 10/60\n",
      "3725/3725 [==============================] - 29s 8ms/step - loss: 0.1827 - accuracy: 0.9267\n",
      "Epoch 11/60\n",
      "3725/3725 [==============================] - 29s 8ms/step - loss: 0.1745 - accuracy: 0.9302\n",
      "Epoch 12/60\n",
      "3725/3725 [==============================] - 28s 8ms/step - loss: 0.1665 - accuracy: 0.9345\n",
      "Epoch 13/60\n",
      "3725/3725 [==============================] - 28s 8ms/step - loss: 0.1592 - accuracy: 0.9368\n",
      "Epoch 14/60\n",
      "3725/3725 [==============================] - 28s 8ms/step - loss: 0.1518 - accuracy: 0.9392\n",
      "Epoch 15/60\n",
      "3725/3725 [==============================] - 29s 8ms/step - loss: 0.1476 - accuracy: 0.9416\n",
      "Epoch 16/60\n",
      "3725/3725 [==============================] - 30s 8ms/step - loss: 0.1434 - accuracy: 0.9430\n",
      "Epoch 17/60\n",
      "3725/3725 [==============================] - 29s 8ms/step - loss: 0.1386 - accuracy: 0.9450\n",
      "Epoch 18/60\n",
      "3725/3725 [==============================] - 29s 8ms/step - loss: 0.1344 - accuracy: 0.9463\n",
      "Epoch 19/60\n",
      "3725/3725 [==============================] - 29s 8ms/step - loss: 0.1322 - accuracy: 0.9479\n",
      "Epoch 20/60\n",
      "3725/3725 [==============================] - 29s 8ms/step - loss: 0.1272 - accuracy: 0.9496\n",
      "Epoch 21/60\n",
      "3725/3725 [==============================] - 29s 8ms/step - loss: 0.1242 - accuracy: 0.9511\n",
      "Epoch 22/60\n",
      "3725/3725 [==============================] - 29s 8ms/step - loss: 0.1214 - accuracy: 0.9528\n",
      "Epoch 23/60\n",
      "3725/3725 [==============================] - 29s 8ms/step - loss: 0.1182 - accuracy: 0.9533\n",
      "Epoch 24/60\n",
      "3725/3725 [==============================] - 29s 8ms/step - loss: 0.1176 - accuracy: 0.9542\n",
      "Epoch 25/60\n",
      "3725/3725 [==============================] - 29s 8ms/step - loss: 0.1129 - accuracy: 0.9555\n",
      "Epoch 26/60\n",
      "3725/3725 [==============================] - 29s 8ms/step - loss: 0.1103 - accuracy: 0.9568\n",
      "Epoch 27/60\n",
      "3725/3725 [==============================] - 29s 8ms/step - loss: 0.1081 - accuracy: 0.9579\n",
      "Epoch 28/60\n",
      "3725/3725 [==============================] - 29s 8ms/step - loss: 0.1072 - accuracy: 0.9586\n",
      "Epoch 29/60\n",
      "3725/3725 [==============================] - 29s 8ms/step - loss: 0.1041 - accuracy: 0.9593\n",
      "Epoch 30/60\n",
      "3725/3725 [==============================] - 29s 8ms/step - loss: 0.1010 - accuracy: 0.9611\n",
      "Epoch 31/60\n",
      "3725/3725 [==============================] - 29s 8ms/step - loss: 0.1004 - accuracy: 0.9610\n",
      "Epoch 32/60\n",
      "3725/3725 [==============================] - 29s 8ms/step - loss: 0.0969 - accuracy: 0.9622\n",
      "Epoch 33/60\n",
      "3725/3725 [==============================] - 29s 8ms/step - loss: 0.0964 - accuracy: 0.9626\n",
      "Epoch 34/60\n",
      "3725/3725 [==============================] - 29s 8ms/step - loss: 0.0941 - accuracy: 0.9636\n",
      "Epoch 35/60\n",
      "3725/3725 [==============================] - 29s 8ms/step - loss: 0.0938 - accuracy: 0.9639\n",
      "Epoch 36/60\n",
      "3725/3725 [==============================] - 29s 8ms/step - loss: 0.0899 - accuracy: 0.9653\n",
      "Epoch 37/60\n",
      "3725/3725 [==============================] - 29s 8ms/step - loss: 0.0889 - accuracy: 0.9654\n",
      "Epoch 38/60\n",
      "3725/3725 [==============================] - 29s 8ms/step - loss: 0.0868 - accuracy: 0.9667\n",
      "Epoch 39/60\n",
      "3725/3725 [==============================] - 29s 8ms/step - loss: 0.0856 - accuracy: 0.9669\n",
      "Epoch 40/60\n",
      "3725/3725 [==============================] - 28s 8ms/step - loss: 0.0869 - accuracy: 0.9662\n",
      "Epoch 41/60\n",
      "3725/3725 [==============================] - 28s 8ms/step - loss: 0.0824 - accuracy: 0.9678\n",
      "Epoch 42/60\n",
      "3725/3725 [==============================] - 28s 8ms/step - loss: 0.0809 - accuracy: 0.9692\n",
      "Epoch 43/60\n",
      "3725/3725 [==============================] - 29s 8ms/step - loss: 0.0812 - accuracy: 0.9687\n",
      "Epoch 44/60\n",
      "3725/3725 [==============================] - 29s 8ms/step - loss: 0.0799 - accuracy: 0.9695\n",
      "Epoch 45/60\n",
      "3725/3725 [==============================] - 29s 8ms/step - loss: 0.0771 - accuracy: 0.9705\n",
      "Epoch 46/60\n",
      "3725/3725 [==============================] - 29s 8ms/step - loss: 0.0759 - accuracy: 0.9708\n",
      "Epoch 47/60\n",
      "3725/3725 [==============================] - 29s 8ms/step - loss: 0.0758 - accuracy: 0.9711\n",
      "Epoch 48/60\n",
      "3725/3725 [==============================] - 30s 8ms/step - loss: 0.0736 - accuracy: 0.9719\n",
      "Epoch 49/60\n",
      "3725/3725 [==============================] - 30s 8ms/step - loss: 0.0736 - accuracy: 0.9720\n",
      "Epoch 50/60\n",
      "3725/3725 [==============================] - 29s 8ms/step - loss: 0.0724 - accuracy: 0.9722\n",
      "Epoch 51/60\n",
      "3725/3725 [==============================] - 29s 8ms/step - loss: 0.0703 - accuracy: 0.9732\n",
      "Epoch 52/60\n",
      "3725/3725 [==============================] - 29s 8ms/step - loss: 0.0695 - accuracy: 0.9735\n",
      "Epoch 53/60\n",
      "3725/3725 [==============================] - 29s 8ms/step - loss: 0.0699 - accuracy: 0.9736\n",
      "Epoch 54/60\n",
      "3725/3725 [==============================] - 29s 8ms/step - loss: 0.0682 - accuracy: 0.9744\n",
      "Epoch 55/60\n",
      "3725/3725 [==============================] - 29s 8ms/step - loss: 0.0658 - accuracy: 0.9747\n",
      "Epoch 56/60\n",
      "3725/3725 [==============================] - 30s 8ms/step - loss: 0.0651 - accuracy: 0.9755\n",
      "Epoch 57/60\n",
      "3725/3725 [==============================] - 30s 8ms/step - loss: 0.0645 - accuracy: 0.9762\n",
      "Epoch 58/60\n",
      "3725/3725 [==============================] - 29s 8ms/step - loss: 0.0637 - accuracy: 0.9756\n",
      "Epoch 59/60\n",
      "3725/3725 [==============================] - 30s 8ms/step - loss: 0.0630 - accuracy: 0.9763\n",
      "Epoch 60/60\n",
      "3725/3725 [==============================] - ETA: 0s - loss: 0.0616 - accuracy: 0.9765\n",
      "Epoch 60: saving model to /content/gdrive/My Drive/physionet/ensemble/tri_training/60_epochs_keras_way/teacher_60_epochs_wts_trial_3.ckpt\n",
      "3725/3725 [==============================] - 29s 8ms/step - loss: 0.0616 - accuracy: 0.9765\n"
     ]
    },
    {
     "data": {
      "text/plain": [
       "<keras.callbacks.History at 0x7fa8db95b990>"
      ]
     },
     "execution_count": 33,
     "metadata": {},
     "output_type": "execute_result"
    }
   ],
   "source": [
    "teacher_60_epochs.fit(x_dt_rshp, y_dt_, epochs=60, callbacks=[cp_callback_teacher_model_60_epochs])"
   ]
  },
  {
   "cell_type": "code",
   "execution_count": null,
   "metadata": {
    "id": "af-n5ZunpEZf"
   },
   "outputs": [],
   "source": [
    "latest_teacher_60_epochs=tensorflow.train.latest_checkpoint(checkpoint_teacher_model_60_epochs_dir)"
   ]
  },
  {
   "cell_type": "code",
   "execution_count": null,
   "metadata": {
    "colab": {
     "base_uri": "https://localhost:8080/"
    },
    "id": "U4fYa-mYpEfI",
    "outputId": "6cab1994-5563-4a79-c370-92ea455789f4"
   },
   "outputs": [
    {
     "name": "stdout",
     "output_type": "stream",
     "text": [
      "20/20 [==============================] - 1s 5ms/step - loss: 0.9506 - accuracy: 0.8502\n"
     ]
    }
   ],
   "source": [
    "accuracy_teacher_model_60_epochs = teacher_60_epochs.evaluate(x_test_dt_rshp, y_test_dt_)"
   ]
  },
  {
   "cell_type": "code",
   "execution_count": null,
   "metadata": {
    "id": "QrzqoQjiei4D"
   },
   "outputs": [],
   "source": []
  },
  {
   "cell_type": "markdown",
   "metadata": {
    "id": "Yo8thb7--Ps8"
   },
   "source": [
    "KD using 60 epochs teacher, 70 epochs student, alpha: 0.9, temp: 5-->Trial 1\n",
    "\n",
    "KD using 60 epochs teacher, 70 epochs student , alpha: 0.9, temp: 5 ---->trial 2\n",
    "\n",
    "KD using  epochs teacher,  epochs student , alpha: 0.9, temp: 5 ---->trial 3"
   ]
  },
  {
   "cell_type": "code",
   "execution_count": null,
   "metadata": {
    "colab": {
     "base_uri": "https://localhost:8080/"
    },
    "id": "3eer5BYCiPBk",
    "outputId": "b4ece36f-f3ad-402e-c66a-6f58635c0de5"
   },
   "outputs": [
    {
     "name": "stdout",
     "output_type": "stream",
     "text": [
      "Model: \"model\"\n",
      "__________________________________________________________________________________________________\n",
      " Layer (type)                   Output Shape         Param #     Connected to                     \n",
      "==================================================================================================\n",
      " inLayer (InputLayer)           [(None, 3000, 1)]    0           []                               \n",
      "                                                                                                  \n",
      " fConv1 (Conv1D)                (None, 500, 64)      3264        ['inLayer[0][0]']                \n",
      "                                                                                                  \n",
      " cConv1 (Conv1D)                (None, 60, 32)       12832       ['inLayer[0][0]']                \n",
      "                                                                                                  \n",
      " fMaxP1 (MaxPooling1D)          (None, 62, 64)       0           ['fConv1[0][0]']                 \n",
      "                                                                                                  \n",
      " cMaxP1 (MaxPooling1D)          (None, 15, 32)       0           ['cConv1[0][0]']                 \n",
      "                                                                                                  \n",
      " fDrop1 (Dropout)               (None, 62, 64)       0           ['fMaxP1[0][0]']                 \n",
      "                                                                                                  \n",
      " cDrop1 (Dropout)               (None, 15, 32)       0           ['cMaxP1[0][0]']                 \n",
      "                                                                                                  \n",
      " fConv2 (Conv1D)                (None, 62, 128)      65664       ['fDrop1[0][0]']                 \n",
      "                                                                                                  \n",
      " cConv2 (Conv1D)                (None, 15, 128)      24704       ['cDrop1[0][0]']                 \n",
      "                                                                                                  \n",
      " fConv3 (Conv1D)                (None, 62, 128)      131200      ['fConv2[0][0]']                 \n",
      "                                                                                                  \n",
      " cConv3 (Conv1D)                (None, 15, 128)      98432       ['cConv2[0][0]']                 \n",
      "                                                                                                  \n",
      " fConv4 (Conv1D)                (None, 62, 128)      131200      ['fConv3[0][0]']                 \n",
      "                                                                                                  \n",
      " cConv4 (Conv1D)                (None, 15, 128)      98432       ['cConv3[0][0]']                 \n",
      "                                                                                                  \n",
      " fMaxP2 (MaxPooling1D)          (None, 15, 128)      0           ['fConv4[0][0]']                 \n",
      "                                                                                                  \n",
      " cMaxP2 (MaxPooling1D)          (None, 7, 128)       0           ['cConv4[0][0]']                 \n",
      "                                                                                                  \n",
      " fFlat1 (Flatten)               (None, 1920)         0           ['fMaxP2[0][0]']                 \n",
      "                                                                                                  \n",
      " cFlat1 (Flatten)               (None, 896)          0           ['cMaxP2[0][0]']                 \n",
      "                                                                                                  \n",
      " merge_1 (Concatenate)          (None, 2816)         0           ['fFlat1[0][0]',                 \n",
      "                                                                  'cFlat1[0][0]']                 \n",
      "                                                                                                  \n",
      " mDrop1 (Dropout)               (None, 2816)         0           ['merge_1[0][0]']                \n",
      "                                                                                                  \n",
      " reshape1 (Reshape)             (None, 1, 2816)      0           ['mDrop1[0][0]']                 \n",
      "                                                                                                  \n",
      " lstm (LSTM)                    (None, 1, 64)        737536      ['reshape1[0][0]']               \n",
      "                                                                                                  \n",
      " lstm_1 (LSTM)                  (None, 64)           33024       ['lstm[0][0]']                   \n",
      "                                                                                                  \n",
      " outLayer (Dense)               (None, 5)            325         ['lstm_1[0][0]']                 \n",
      "                                                                                                  \n",
      "==================================================================================================\n",
      "Total params: 1,336,613\n",
      "Trainable params: 1,336,613\n",
      "Non-trainable params: 0\n",
      "__________________________________________________________________________________________________\n"
     ]
    }
   ],
   "source": [
    "teacher_model=model_b(verbose=VBS) #40 epochs teacher model"
   ]
  },
  {
   "cell_type": "code",
   "execution_count": null,
   "metadata": {
    "colab": {
     "base_uri": "https://localhost:8080/"
    },
    "id": "TBWcMHzgiPEI",
    "outputId": "41466440-9a6c-434a-e98f-bba9eb041518"
   },
   "outputs": [
    {
     "data": {
      "text/plain": [
       "<tensorflow.python.training.tracking.util.CheckpointLoadStatus at 0x7fbe3b6d78d0>"
      ]
     },
     "execution_count": 27,
     "metadata": {},
     "output_type": "execute_result"
    }
   ],
   "source": [
    "teacher_checkpt_path=\"/content/gdrive/My Drive/physionet/ensemble/tri_training/40_epochs_keras_way/teacher_40_epochs_wts_trial_3.ckpt\"\n",
    "teacher_model.load_weights(teacher_checkpt_path)"
   ]
  },
  {
   "cell_type": "code",
   "execution_count": null,
   "metadata": {
    "id": "gH72DluqiPGy"
   },
   "outputs": [],
   "source": [
    "from keras.layers import Input, Dense, LSTM, MaxPooling1D, Conv1D\n",
    "from keras.models import Model"
   ]
  },
  {
   "cell_type": "code",
   "execution_count": null,
   "metadata": {
    "id": "zRYQc8QsiPJT"
   },
   "outputs": [],
   "source": [
    "teacher_model.compile(optimizer=optimizer, loss='categorical_crossentropy', metrics=['accuracy'])"
   ]
  },
  {
   "cell_type": "code",
   "execution_count": null,
   "metadata": {
    "colab": {
     "base_uri": "https://localhost:8080/"
    },
    "id": "Eeo8mEPJiPLx",
    "outputId": "48138e87-f74d-40b2-e6f7-84f358713ada"
   },
   "outputs": [
    {
     "name": "stdout",
     "output_type": "stream",
     "text": [
      "20/20 [==============================] - 12s 8ms/step - loss: 0.8506 - accuracy: 0.8648\n"
     ]
    }
   ],
   "source": [
    "accuracy_teacher_model = teacher_model.evaluate(x_test_dt_rshp, y_test_dt_)"
   ]
  },
  {
   "cell_type": "code",
   "execution_count": null,
   "metadata": {
    "id": "luBe1wVxiPQs"
   },
   "outputs": [],
   "source": [
    "preds_teacher_model = teacher_model.predict(x_test_dt_rshp)"
   ]
  },
  {
   "cell_type": "code",
   "execution_count": null,
   "metadata": {
    "id": "6zLJPzXUiPTK"
   },
   "outputs": [],
   "source": [
    "preds_teacher_model_fin=np.argmax(preds_teacher_model,axis=1)"
   ]
  },
  {
   "cell_type": "code",
   "execution_count": null,
   "metadata": {
    "colab": {
     "base_uri": "https://localhost:8080/"
    },
    "id": "I5N8D4W9iPVk",
    "outputId": "7cf49c7b-b7a1-4d39-edfd-41c47d1af672"
   },
   "outputs": [
    {
     "data": {
      "text/plain": [
       "array([0.94202899, 0.13157895, 0.95      , 0.83606557, 0.79746835])"
      ]
     },
     "execution_count": 33,
     "metadata": {},
     "output_type": "execute_result"
    }
   ],
   "source": [
    "from sklearn.metrics import confusion_matrix\n",
    "matrix_teacher = confusion_matrix(y_test_dt, preds_teacher_model_fin)\n",
    "matrix_teacher.diagonal()/matrix_teacher.sum(axis=1)"
   ]
  },
  {
   "cell_type": "code",
   "execution_count": null,
   "metadata": {
    "colab": {
     "base_uri": "https://localhost:8080/"
    },
    "id": "MIpuDRZSiPYC",
    "outputId": "e28faed2-3db2-4644-fcd2-637234dd0574"
   },
   "outputs": [
    {
     "name": "stdout",
     "output_type": "stream",
     "text": [
      "              precision    recall  f1-score   support\n",
      "\n",
      "           0   0.955882  0.942029  0.948905       276\n",
      "           1   0.333333  0.131579  0.188679        38\n",
      "           2   0.783505  0.950000  0.858757       160\n",
      "           3   0.944444  0.836066  0.886957        61\n",
      "           4   0.797468  0.797468  0.797468        79\n",
      "\n",
      "    accuracy                       0.864821       614\n",
      "   macro avg   0.762927  0.731428  0.736153       614\n",
      "weighted avg   0.850916  0.864821  0.852725       614\n",
      "\n"
     ]
    }
   ],
   "source": [
    "print(classification_report(y_test_dt, preds_teacher_model_fin, digits=6))"
   ]
  },
  {
   "cell_type": "code",
   "execution_count": null,
   "metadata": {
    "id": "aYmOTgTniPac"
   },
   "outputs": [],
   "source": [
    "#student model\n",
    "def get_model_1d_cnn():\n",
    "    nclass = 5\n",
    "    inp = Input(shape=(3000, 1))\n",
    "    img_1 = Conv1D(4, kernel_size=6, activation=activations.relu, strides=1, padding=\"valid\")(inp)\n",
    "    #img_1 = Conv1D(128, kernel_size=5, activation=activations.relu, strides=1, padding=\"valid\")(img_1)\n",
    "    img_1 = MaxPooling1D(pool_size=2)(img_1)\n",
    "    #img_1 = SpatialDropout1D(rate=0.2)(img_1)\n",
    "    img_1 = Conv1D(4, kernel_size=5, activation=activations.relu, strides=1, padding=\"valid\")(img_1)\n",
    "    #img_1 = Conv1D(256, kernel_size=7, activation=activations.relu, strides=1, padding=\"valid\")(img_1)\n",
    "    img_1 = MaxPooling1D(pool_size=2)(img_1)\n",
    "    #img_1 = SpatialDropout1D(rate=0.01)(img_1)\n",
    "    img_1 = Conv1D(10, kernel_size=4, activation=activations.relu, strides=1, padding=\"valid\")(img_1)\n",
    "    #img_1 = Conv1D(64, kernel_size=4, activation=activations.relu, strides=1, padding=\"valid\")(img_1)\n",
    "    img_1 = MaxPooling1D(pool_size=2)(img_1)\n",
    "    #img_1 = SpatialDropout1D(rate=0.01)(img_1)\n",
    "    img_1 = Conv1D(10, kernel_size=4, activation=activations.relu, strides=1, padding=\"valid\")(img_1)\n",
    "    img_1 = MaxPooling1D(pool_size=2)(img_1)\n",
    "    #img_1 = Conv1D(64, kernel_size=6, activation=activations.relu, strides=1, padding=\"valid\")(img_1)\n",
    "    #img_1 = MaxPooling1D(pool_size=2)(img_1)\n",
    "    img_1 = Flatten()(img_1)\n",
    "\n",
    "    \n",
    "    dense_1 = Dropout(rate=0.5)(img_1)\n",
    "    #dense_1 = Dropout(rate=0.05)(Dense(64, activation=activations.relu, name=\"dense_2\")(dense_1))\n",
    "    dense_1 = Dense(nclass, activation=activations.softmax)(dense_1)\n",
    "\n",
    "    model = Model(inputs=inp, outputs=dense_1)\n",
    "    opt = Adam(0.001)\n",
    "\n",
    "    model.compile(optimizer=opt, loss='categorical_crossentropy', metrics=['acc'])\n",
    "    model.summary()\n",
    "    return model"
   ]
  },
  {
   "cell_type": "code",
   "execution_count": null,
   "metadata": {
    "colab": {
     "base_uri": "https://localhost:8080/"
    },
    "id": "b-6A1GR9i8hj",
    "outputId": "65732184-89e8-4ba7-eb56-89316b1a5a8a"
   },
   "outputs": [
    {
     "name": "stdout",
     "output_type": "stream",
     "text": [
      "Model: \"model\"\n",
      "_________________________________________________________________\n",
      " Layer (type)                Output Shape              Param #   \n",
      "=================================================================\n",
      " input_1 (InputLayer)        [(None, 3000, 1)]         0         \n",
      "                                                                 \n",
      " conv1d (Conv1D)             (None, 2995, 4)           28        \n",
      "                                                                 \n",
      " max_pooling1d (MaxPooling1D  (None, 1497, 4)          0         \n",
      " )                                                               \n",
      "                                                                 \n",
      " conv1d_1 (Conv1D)           (None, 1493, 4)           84        \n",
      "                                                                 \n",
      " max_pooling1d_1 (MaxPooling  (None, 746, 4)           0         \n",
      " 1D)                                                             \n",
      "                                                                 \n",
      " conv1d_2 (Conv1D)           (None, 743, 10)           170       \n",
      "                                                                 \n",
      " max_pooling1d_2 (MaxPooling  (None, 371, 10)          0         \n",
      " 1D)                                                             \n",
      "                                                                 \n",
      " conv1d_3 (Conv1D)           (None, 368, 10)           410       \n",
      "                                                                 \n",
      " max_pooling1d_3 (MaxPooling  (None, 184, 10)          0         \n",
      " 1D)                                                             \n",
      "                                                                 \n",
      " flatten (Flatten)           (None, 1840)              0         \n",
      "                                                                 \n",
      " dropout (Dropout)           (None, 1840)              0         \n",
      "                                                                 \n",
      " dense (Dense)               (None, 5)                 9205      \n",
      "                                                                 \n",
      "=================================================================\n",
      "Total params: 9,897\n",
      "Trainable params: 9,897\n",
      "Non-trainable params: 0\n",
      "_________________________________________________________________\n"
     ]
    }
   ],
   "source": [
    "#student_model=get_model_cnn()\n",
    "student_model=get_model_1d_cnn()"
   ]
  },
  {
   "cell_type": "code",
   "execution_count": null,
   "metadata": {
    "id": "WWNZtFL7i8kD"
   },
   "outputs": [],
   "source": [
    "class Distiller(keras.Model):\n",
    "    def __init__(self, student, teacher):\n",
    "        super(Distiller, self).__init__()\n",
    "        self.teacher = teacher\n",
    "        self.student = student\n",
    "\n",
    "    def compile(\n",
    "        self,\n",
    "        optimizer,\n",
    "        metrics,\n",
    "        student_loss_fn,\n",
    "        distillation_loss_fn,\n",
    "        alpha=0.1,\n",
    "        temperature=3,\n",
    "    ):\n",
    "        \"\"\" Configure the distiller.\n",
    "\n",
    "        Args:\n",
    "            optimizer: Keras optimizer for the student weights\n",
    "            metrics: Keras metrics for evaluation\n",
    "            student_loss_fn: Loss function of difference between student\n",
    "                predictions and ground-truth\n",
    "            distillation_loss_fn: Loss function of difference between soft\n",
    "                student predictions and soft teacher predictions\n",
    "            alpha: weight to student_loss_fn and 1-alpha to distillation_loss_fn\n",
    "            temperature: Temperature for softening probability distributions.\n",
    "                Larger temperature gives softer distributions.\n",
    "        \"\"\"\n",
    "        super(Distiller, self).compile(optimizer=optimizer, metrics=metrics)\n",
    "        self.student_loss_fn = student_loss_fn\n",
    "        self.distillation_loss_fn = distillation_loss_fn\n",
    "        self.alpha = alpha\n",
    "        self.temperature = temperature\n",
    "\n",
    "    def train_step(self, data):\n",
    "        # Unpack data\n",
    "        x, y = data\n",
    "\n",
    "        # Forward pass of teacher\n",
    "        teacher_predictions = self.teacher(x, training=False)\n",
    "\n",
    "        with tf.GradientTape() as tape:\n",
    "            # Forward pass of student\n",
    "            student_predictions = self.student(x, training=True)\n",
    "\n",
    "            # Compute losses\n",
    "            student_loss = self.student_loss_fn(y, student_predictions)\n",
    "            distillation_loss = self.distillation_loss_fn(\n",
    "                tf.nn.softmax(teacher_predictions / self.temperature, axis=1),\n",
    "                tf.nn.softmax(student_predictions / self.temperature, axis=1),\n",
    "            )\n",
    "            loss = self.alpha * student_loss + (1 - self.alpha) * distillation_loss\n",
    "\n",
    "        # Compute gradients\n",
    "        trainable_vars = self.student.trainable_variables\n",
    "        gradients = tape.gradient(loss, trainable_vars)\n",
    "\n",
    "        # Update weights\n",
    "        self.optimizer.apply_gradients(zip(gradients, trainable_vars))\n",
    "\n",
    "        # Update the metrics configured in `compile()`.\n",
    "        self.compiled_metrics.update_state(y, student_predictions)\n",
    "\n",
    "        # Return a dict of performance\n",
    "        results = {m.name: m.result() for m in self.metrics}\n",
    "        results.update(\n",
    "            {\"student_loss\": student_loss, \"distillation_loss\": distillation_loss}\n",
    "        )\n",
    "        return results\n",
    "\n",
    "    def test_step(self, data):\n",
    "        # Unpack the data\n",
    "        x, y = data\n",
    "\n",
    "        # Compute predictions\n",
    "        y_prediction = self.student(x, training=False)\n",
    "\n",
    "        # Calculate the loss\n",
    "        student_loss = self.student_loss_fn(y, y_prediction)\n",
    "\n",
    "        # Update the metrics.\n",
    "        self.compiled_metrics.update_state(y, y_prediction)\n",
    "\n",
    "        # Return a dict of performance\n",
    "        results = {m.name: m.result() for m in self.metrics}\n",
    "        results.update({\"student_loss\": student_loss})\n",
    "        return results\n"
   ]
  },
  {
   "cell_type": "code",
   "execution_count": null,
   "metadata": {
    "id": "oQbBr_lAi8mS"
   },
   "outputs": [],
   "source": [
    "import tensorflow as tf\n",
    "from tensorflow import keras\n",
    "from tensorflow.keras import layers\n",
    "import numpy as np\n"
   ]
  },
  {
   "cell_type": "code",
   "execution_count": null,
   "metadata": {
    "colab": {
     "base_uri": "https://localhost:8080/"
    },
    "id": "S2-4CgooiPdA",
    "outputId": "6b68a777-300e-48da-b915-d258e1ec8c4f"
   },
   "outputs": [
    {
     "name": "stdout",
     "output_type": "stream",
     "text": [
      "Epoch 1/50\n",
      "3725/3725 [==============================] - 34s 8ms/step - categorical_accuracy: 0.7046 - student_loss: 0.7192 - distillation_loss: 0.0015\n",
      "Epoch 2/50\n",
      "3725/3725 [==============================] - 30s 8ms/step - categorical_accuracy: 0.7710 - student_loss: 0.5504 - distillation_loss: 0.0012\n",
      "Epoch 3/50\n",
      "3725/3725 [==============================] - 30s 8ms/step - categorical_accuracy: 0.7876 - student_loss: 0.5117 - distillation_loss: 0.0011\n",
      "Epoch 4/50\n",
      "3725/3725 [==============================] - 30s 8ms/step - categorical_accuracy: 0.7970 - student_loss: 0.4936 - distillation_loss: 0.0010\n",
      "Epoch 5/50\n",
      "3725/3725 [==============================] - 29s 8ms/step - categorical_accuracy: 0.8014 - student_loss: 0.4840 - distillation_loss: 0.0010\n",
      "Epoch 6/50\n",
      "3725/3725 [==============================] - 29s 8ms/step - categorical_accuracy: 0.8060 - student_loss: 0.4706 - distillation_loss: 9.8461e-04\n",
      "Epoch 7/50\n",
      "3725/3725 [==============================] - 29s 8ms/step - categorical_accuracy: 0.8093 - student_loss: 0.4655 - distillation_loss: 9.7230e-04\n",
      "Epoch 8/50\n",
      "3725/3725 [==============================] - 29s 8ms/step - categorical_accuracy: 0.8138 - student_loss: 0.4544 - distillation_loss: 9.4755e-04\n",
      "Epoch 9/50\n",
      "3725/3725 [==============================] - 29s 8ms/step - categorical_accuracy: 0.8171 - student_loss: 0.4457 - distillation_loss: 9.2777e-04\n",
      "Epoch 10/50\n",
      "3725/3725 [==============================] - 30s 8ms/step - categorical_accuracy: 0.8211 - student_loss: 0.4371 - distillation_loss: 9.0679e-04\n",
      "Epoch 11/50\n",
      "3725/3725 [==============================] - 29s 8ms/step - categorical_accuracy: 0.8302 - student_loss: 0.4202 - distillation_loss: 8.6194e-04\n",
      "Epoch 12/50\n",
      "3725/3725 [==============================] - 29s 8ms/step - categorical_accuracy: 0.8368 - student_loss: 0.4042 - distillation_loss: 8.2137e-04\n",
      "Epoch 13/50\n",
      "3725/3725 [==============================] - 29s 8ms/step - categorical_accuracy: 0.8414 - student_loss: 0.3933 - distillation_loss: 7.9739e-04\n",
      "Epoch 14/50\n",
      "3725/3725 [==============================] - 30s 8ms/step - categorical_accuracy: 0.8441 - student_loss: 0.3864 - distillation_loss: 7.7865e-04\n",
      "Epoch 15/50\n",
      "3725/3725 [==============================] - 30s 8ms/step - categorical_accuracy: 0.8470 - student_loss: 0.3802 - distillation_loss: 7.6567e-04\n",
      "Epoch 16/50\n",
      "3725/3725 [==============================] - 29s 8ms/step - categorical_accuracy: 0.8492 - student_loss: 0.3765 - distillation_loss: 7.5641e-04\n",
      "Epoch 17/50\n",
      "3725/3725 [==============================] - 29s 8ms/step - categorical_accuracy: 0.8536 - student_loss: 0.3701 - distillation_loss: 7.3986e-04\n",
      "Epoch 18/50\n",
      "3725/3725 [==============================] - 29s 8ms/step - categorical_accuracy: 0.8540 - student_loss: 0.3671 - distillation_loss: 7.3451e-04\n",
      "Epoch 19/50\n",
      "3725/3725 [==============================] - 29s 8ms/step - categorical_accuracy: 0.8562 - student_loss: 0.3648 - distillation_loss: 7.2943e-04\n",
      "Epoch 20/50\n",
      "3725/3725 [==============================] - 30s 8ms/step - categorical_accuracy: 0.8574 - student_loss: 0.3600 - distillation_loss: 7.1731e-04\n",
      "Epoch 21/50\n",
      "3725/3725 [==============================] - 29s 8ms/step - categorical_accuracy: 0.8592 - student_loss: 0.3561 - distillation_loss: 7.1161e-04\n",
      "Epoch 22/50\n",
      "3725/3725 [==============================] - 29s 8ms/step - categorical_accuracy: 0.8604 - student_loss: 0.3548 - distillation_loss: 7.0627e-04\n",
      "Epoch 23/50\n",
      "3725/3725 [==============================] - 30s 8ms/step - categorical_accuracy: 0.8614 - student_loss: 0.3513 - distillation_loss: 7.0022e-04\n",
      "Epoch 24/50\n",
      "3725/3725 [==============================] - 30s 8ms/step - categorical_accuracy: 0.8616 - student_loss: 0.3517 - distillation_loss: 7.0079e-04\n",
      "Epoch 25/50\n",
      "3725/3725 [==============================] - 30s 8ms/step - categorical_accuracy: 0.8640 - student_loss: 0.3467 - distillation_loss: 6.8810e-04\n",
      "Epoch 26/50\n",
      "3725/3725 [==============================] - 29s 8ms/step - categorical_accuracy: 0.8632 - student_loss: 0.3469 - distillation_loss: 6.8846e-04\n",
      "Epoch 27/50\n",
      "3725/3725 [==============================] - 29s 8ms/step - categorical_accuracy: 0.8629 - student_loss: 0.3469 - distillation_loss: 6.9110e-04\n",
      "Epoch 28/50\n",
      "3725/3725 [==============================] - 29s 8ms/step - categorical_accuracy: 0.8635 - student_loss: 0.3452 - distillation_loss: 6.8854e-04\n",
      "Epoch 29/50\n",
      "3725/3725 [==============================] - 29s 8ms/step - categorical_accuracy: 0.8649 - student_loss: 0.3420 - distillation_loss: 6.8110e-04\n",
      "Epoch 30/50\n",
      "3725/3725 [==============================] - 30s 8ms/step - categorical_accuracy: 0.8649 - student_loss: 0.3439 - distillation_loss: 6.8235e-04\n",
      "Epoch 31/50\n",
      "3725/3725 [==============================] - 29s 8ms/step - categorical_accuracy: 0.8658 - student_loss: 0.3419 - distillation_loss: 6.7820e-04\n",
      "Epoch 32/50\n",
      "3725/3725 [==============================] - 29s 8ms/step - categorical_accuracy: 0.8667 - student_loss: 0.3403 - distillation_loss: 6.7446e-04\n",
      "Epoch 33/50\n",
      "3725/3725 [==============================] - 29s 8ms/step - categorical_accuracy: 0.8668 - student_loss: 0.3381 - distillation_loss: 6.7085e-04\n",
      "Epoch 34/50\n",
      "3725/3725 [==============================] - 29s 8ms/step - categorical_accuracy: 0.8672 - student_loss: 0.3401 - distillation_loss: 6.7402e-04\n",
      "Epoch 35/50\n",
      "3725/3725 [==============================] - 29s 8ms/step - categorical_accuracy: 0.8667 - student_loss: 0.3375 - distillation_loss: 6.7048e-04\n",
      "Epoch 36/50\n",
      "3725/3725 [==============================] - 29s 8ms/step - categorical_accuracy: 0.8657 - student_loss: 0.3370 - distillation_loss: 6.7066e-04\n",
      "Epoch 37/50\n",
      "3725/3725 [==============================] - 30s 8ms/step - categorical_accuracy: 0.8662 - student_loss: 0.3388 - distillation_loss: 6.7396e-04\n",
      "Epoch 38/50\n",
      "3725/3725 [==============================] - 29s 8ms/step - categorical_accuracy: 0.8676 - student_loss: 0.3353 - distillation_loss: 6.6572e-04\n",
      "Epoch 39/50\n",
      "3725/3725 [==============================] - 29s 8ms/step - categorical_accuracy: 0.8674 - student_loss: 0.3376 - distillation_loss: 6.7076e-04\n",
      "Epoch 40/50\n",
      "3725/3725 [==============================] - 29s 8ms/step - categorical_accuracy: 0.8687 - student_loss: 0.3343 - distillation_loss: 6.6378e-04\n",
      "Epoch 41/50\n",
      "3725/3725 [==============================] - 29s 8ms/step - categorical_accuracy: 0.8691 - student_loss: 0.3318 - distillation_loss: 6.5863e-04\n",
      "Epoch 42/50\n",
      "3725/3725 [==============================] - 29s 8ms/step - categorical_accuracy: 0.8683 - student_loss: 0.3336 - distillation_loss: 6.6395e-04\n",
      "Epoch 43/50\n",
      "3725/3725 [==============================] - 29s 8ms/step - categorical_accuracy: 0.8698 - student_loss: 0.3315 - distillation_loss: 6.6025e-04\n",
      "Epoch 44/50\n",
      "3725/3725 [==============================] - 29s 8ms/step - categorical_accuracy: 0.8686 - student_loss: 0.3328 - distillation_loss: 6.6264e-04\n",
      "Epoch 45/50\n",
      "3725/3725 [==============================] - 29s 8ms/step - categorical_accuracy: 0.8696 - student_loss: 0.3314 - distillation_loss: 6.5852e-04\n",
      "Epoch 46/50\n",
      "3725/3725 [==============================] - 29s 8ms/step - categorical_accuracy: 0.8698 - student_loss: 0.3305 - distillation_loss: 6.5782e-04\n",
      "Epoch 47/50\n",
      "3725/3725 [==============================] - 29s 8ms/step - categorical_accuracy: 0.8703 - student_loss: 0.3290 - distillation_loss: 6.5375e-04\n",
      "Epoch 48/50\n",
      "3725/3725 [==============================] - 29s 8ms/step - categorical_accuracy: 0.8702 - student_loss: 0.3316 - distillation_loss: 6.5908e-04\n",
      "Epoch 49/50\n",
      "3725/3725 [==============================] - 29s 8ms/step - categorical_accuracy: 0.8699 - student_loss: 0.3308 - distillation_loss: 6.5726e-04\n",
      "Epoch 50/50\n",
      "3725/3725 [==============================] - 29s 8ms/step - categorical_accuracy: 0.8702 - student_loss: 0.3286 - distillation_loss: 6.5413e-04\n"
     ]
    },
    {
     "data": {
      "text/plain": [
       "<keras.callbacks.History at 0x7fbe374b62d0>"
      ]
     },
     "execution_count": 39,
     "metadata": {},
     "output_type": "execute_result"
    }
   ],
   "source": [
    "# Initialize and compile distiller\n",
    "distiller = Distiller(student=student_model, teacher=teacher_model)\n",
    "distiller.compile(\n",
    "    optimizer=keras.optimizers.Adam(),\n",
    "    metrics=[keras.metrics.CategoricalAccuracy()],\n",
    "    student_loss_fn=keras.losses.CategoricalCrossentropy(from_logits=True),\n",
    "    distillation_loss_fn=keras.losses.KLDivergence(),\n",
    "    alpha=0.9,\n",
    "    temperature=5,\n",
    ")\n",
    "\n",
    "# Distill teacher to student\n",
    "distiller.fit(x_dt_rshp, y_dt_, epochs=50)\n",
    "\n",
    "# Evaluate student on test dataset\n",
    "#distiller.evaluate(x_test, y_test)"
   ]
  },
  {
   "cell_type": "code",
   "execution_count": null,
   "metadata": {
    "colab": {
     "base_uri": "https://localhost:8080/"
    },
    "id": "Ne-3HG2ciPfc",
    "outputId": "e5f34b43-4eab-4c8d-c308-38cc2f98ce29"
   },
   "outputs": [
    {
     "name": "stdout",
     "output_type": "stream",
     "text": [
      "20/20 [==============================] - 0s 3ms/step - categorical_accuracy: 0.8355 - student_loss: 0.8070\n"
     ]
    }
   ],
   "source": [
    "accuracy_distiller = distiller.evaluate(x_test_dt_rshp, y_test_dt_)"
   ]
  },
  {
   "cell_type": "code",
   "execution_count": null,
   "metadata": {
    "id": "_JFHx11Ql6qc"
   },
   "outputs": [],
   "source": [
    "preds_student_model = student_model.predict(x_test_dt_rshp)"
   ]
  },
  {
   "cell_type": "code",
   "execution_count": null,
   "metadata": {
    "id": "c-korBpyjQx0"
   },
   "outputs": [],
   "source": [
    "preds_student_model_fin=np.argmax(preds_student_model,axis=1)"
   ]
  },
  {
   "cell_type": "code",
   "execution_count": null,
   "metadata": {
    "colab": {
     "base_uri": "https://localhost:8080/"
    },
    "id": "s8q9zAoWjQz7",
    "outputId": "f9155ec0-14ce-4669-8d3b-f05cc1836e3b"
   },
   "outputs": [
    {
     "name": "stdout",
     "output_type": "stream",
     "text": [
      "              precision    recall  f1-score   support\n",
      "\n",
      "           0   0.946237  0.956522  0.951351       276\n",
      "           1   0.250000  0.052632  0.086957        38\n",
      "           2   0.719212  0.912500  0.804408       160\n",
      "           3   0.811594  0.918033  0.861538        61\n",
      "           4   0.818182  0.569620  0.671642        79\n",
      "\n",
      "    accuracy                       0.835505       614\n",
      "   macro avg   0.709045  0.681861  0.675179       614\n",
      "weighted avg   0.814135  0.835505  0.814652       614\n",
      "\n"
     ]
    }
   ],
   "source": [
    "print(classification_report(y_test_dt, preds_student_model_fin, digits=6))"
   ]
  },
  {
   "cell_type": "code",
   "execution_count": null,
   "metadata": {
    "colab": {
     "base_uri": "https://localhost:8080/"
    },
    "id": "InkAurvKjQ2F",
    "outputId": "9004ab87-2c6a-42ac-872b-b4964a32a495"
   },
   "outputs": [
    {
     "data": {
      "text/plain": [
       "array([0.95652174, 0.05263158, 0.9125    , 0.91803279, 0.56962025])"
      ]
     },
     "execution_count": 44,
     "metadata": {},
     "output_type": "execute_result"
    }
   ],
   "source": [
    "from sklearn.metrics import confusion_matrix\n",
    "matrix = confusion_matrix(y_test_dt, preds_student_model_fin)\n",
    "matrix.diagonal()/matrix.sum(axis=1)"
   ]
  },
  {
   "cell_type": "code",
   "execution_count": null,
   "metadata": {
    "id": "Mqwkhe0KjQ4g"
   },
   "outputs": [],
   "source": [
    "preds_student_model = student_model.predict(x_test_dt_rshp)"
   ]
  },
  {
   "cell_type": "code",
   "execution_count": null,
   "metadata": {
    "id": "qif0ljABsle7"
   },
   "outputs": [],
   "source": [
    "#50 epochs teacher"
   ]
  },
  {
   "cell_type": "code",
   "execution_count": null,
   "metadata": {
    "colab": {
     "base_uri": "https://localhost:8080/"
    },
    "id": "_ulWwUrMspG8",
    "outputId": "f92126d9-214d-4e5a-98ce-87ebd16cb1ef"
   },
   "outputs": [
    {
     "name": "stdout",
     "output_type": "stream",
     "text": [
      "Model: \"model\"\n",
      "__________________________________________________________________________________________________\n",
      " Layer (type)                   Output Shape         Param #     Connected to                     \n",
      "==================================================================================================\n",
      " inLayer (InputLayer)           [(None, 3000, 1)]    0           []                               \n",
      "                                                                                                  \n",
      " fConv1 (Conv1D)                (None, 500, 64)      3264        ['inLayer[0][0]']                \n",
      "                                                                                                  \n",
      " cConv1 (Conv1D)                (None, 60, 32)       12832       ['inLayer[0][0]']                \n",
      "                                                                                                  \n",
      " fMaxP1 (MaxPooling1D)          (None, 62, 64)       0           ['fConv1[0][0]']                 \n",
      "                                                                                                  \n",
      " cMaxP1 (MaxPooling1D)          (None, 15, 32)       0           ['cConv1[0][0]']                 \n",
      "                                                                                                  \n",
      " fDrop1 (Dropout)               (None, 62, 64)       0           ['fMaxP1[0][0]']                 \n",
      "                                                                                                  \n",
      " cDrop1 (Dropout)               (None, 15, 32)       0           ['cMaxP1[0][0]']                 \n",
      "                                                                                                  \n",
      " fConv2 (Conv1D)                (None, 62, 128)      65664       ['fDrop1[0][0]']                 \n",
      "                                                                                                  \n",
      " cConv2 (Conv1D)                (None, 15, 128)      24704       ['cDrop1[0][0]']                 \n",
      "                                                                                                  \n",
      " fConv3 (Conv1D)                (None, 62, 128)      131200      ['fConv2[0][0]']                 \n",
      "                                                                                                  \n",
      " cConv3 (Conv1D)                (None, 15, 128)      98432       ['cConv2[0][0]']                 \n",
      "                                                                                                  \n",
      " fConv4 (Conv1D)                (None, 62, 128)      131200      ['fConv3[0][0]']                 \n",
      "                                                                                                  \n",
      " cConv4 (Conv1D)                (None, 15, 128)      98432       ['cConv3[0][0]']                 \n",
      "                                                                                                  \n",
      " fMaxP2 (MaxPooling1D)          (None, 15, 128)      0           ['fConv4[0][0]']                 \n",
      "                                                                                                  \n",
      " cMaxP2 (MaxPooling1D)          (None, 7, 128)       0           ['cConv4[0][0]']                 \n",
      "                                                                                                  \n",
      " fFlat1 (Flatten)               (None, 1920)         0           ['fMaxP2[0][0]']                 \n",
      "                                                                                                  \n",
      " cFlat1 (Flatten)               (None, 896)          0           ['cMaxP2[0][0]']                 \n",
      "                                                                                                  \n",
      " merge_1 (Concatenate)          (None, 2816)         0           ['fFlat1[0][0]',                 \n",
      "                                                                  'cFlat1[0][0]']                 \n",
      "                                                                                                  \n",
      " mDrop1 (Dropout)               (None, 2816)         0           ['merge_1[0][0]']                \n",
      "                                                                                                  \n",
      " reshape1 (Reshape)             (None, 1, 2816)      0           ['mDrop1[0][0]']                 \n",
      "                                                                                                  \n",
      " lstm (LSTM)                    (None, 1, 64)        737536      ['reshape1[0][0]']               \n",
      "                                                                                                  \n",
      " lstm_1 (LSTM)                  (None, 64)           33024       ['lstm[0][0]']                   \n",
      "                                                                                                  \n",
      " outLayer (Dense)               (None, 5)            325         ['lstm_1[0][0]']                 \n",
      "                                                                                                  \n",
      "==================================================================================================\n",
      "Total params: 1,336,613\n",
      "Trainable params: 1,336,613\n",
      "Non-trainable params: 0\n",
      "__________________________________________________________________________________________________\n"
     ]
    }
   ],
   "source": [
    "teacher_model=model_b(verbose=VBS) #50 epochs teacher model"
   ]
  },
  {
   "cell_type": "code",
   "execution_count": null,
   "metadata": {
    "colab": {
     "base_uri": "https://localhost:8080/"
    },
    "id": "x62kMm9XspJU",
    "outputId": "5f2c58d7-9e1c-44df-c244-40f344a6f953"
   },
   "outputs": [
    {
     "data": {
      "text/plain": [
       "<tensorflow.python.training.tracking.util.CheckpointLoadStatus at 0x7f1fecb1aad0>"
      ]
     },
     "execution_count": 30,
     "metadata": {},
     "output_type": "execute_result"
    }
   ],
   "source": [
    "teacher_checkpt_path=\"/content/gdrive/My Drive/physionet/ensemble/tri_training/50_epochs_keras_way/teacher_50_epochs_wts_trial_3.ckpt\"\n",
    "teacher_model.load_weights(teacher_checkpt_path)"
   ]
  },
  {
   "cell_type": "code",
   "execution_count": null,
   "metadata": {
    "id": "_HUOpiiWspLg"
   },
   "outputs": [],
   "source": [
    "from keras.layers import Input, Dense, LSTM, MaxPooling1D, Conv1D\n",
    "from keras.models import Model"
   ]
  },
  {
   "cell_type": "code",
   "execution_count": null,
   "metadata": {
    "id": "_sdn_QwfspOH"
   },
   "outputs": [],
   "source": [
    "teacher_model.compile(optimizer=optimizer, loss='categorical_crossentropy', metrics=['accuracy'])"
   ]
  },
  {
   "cell_type": "code",
   "execution_count": null,
   "metadata": {
    "colab": {
     "base_uri": "https://localhost:8080/"
    },
    "id": "N_eyZFDSslhW",
    "outputId": "4fd4cb01-adb4-45d7-edc6-5a0dde239380"
   },
   "outputs": [
    {
     "name": "stdout",
     "output_type": "stream",
     "text": [
      "20/20 [==============================] - 12s 8ms/step - loss: 0.9905 - accuracy: 0.8567\n"
     ]
    }
   ],
   "source": [
    "accuracy_teacher_model = teacher_model.evaluate(x_test_dt_rshp, y_test_dt_)"
   ]
  },
  {
   "cell_type": "code",
   "execution_count": null,
   "metadata": {
    "id": "B5HOC6xFsljk"
   },
   "outputs": [],
   "source": [
    "preds_teacher_model = teacher_model.predict(x_test_dt_rshp)"
   ]
  },
  {
   "cell_type": "code",
   "execution_count": null,
   "metadata": {
    "id": "mlIyj0f8sll-"
   },
   "outputs": [],
   "source": [
    "preds_teacher_model_fin=np.argmax(preds_teacher_model,axis=1)"
   ]
  },
  {
   "cell_type": "code",
   "execution_count": null,
   "metadata": {
    "colab": {
     "base_uri": "https://localhost:8080/"
    },
    "id": "Q81k0XT-s8Yj",
    "outputId": "0677bc4f-1257-4bb5-ae75-f14137254d46"
   },
   "outputs": [
    {
     "data": {
      "text/plain": [
       "array([0.9384058 , 0.15789474, 0.975     , 0.68852459, 0.79746835])"
      ]
     },
     "execution_count": 36,
     "metadata": {},
     "output_type": "execute_result"
    }
   ],
   "source": [
    "from sklearn.metrics import confusion_matrix\n",
    "matrix_teacher = confusion_matrix(y_test_dt, preds_teacher_model_fin)\n",
    "matrix_teacher.diagonal()/matrix_teacher.sum(axis=1)"
   ]
  },
  {
   "cell_type": "code",
   "execution_count": null,
   "metadata": {
    "colab": {
     "base_uri": "https://localhost:8080/"
    },
    "id": "LPT4YCPYs8az",
    "outputId": "196a9fc9-a1c9-431a-8437-9ad2451309a1"
   },
   "outputs": [
    {
     "name": "stdout",
     "output_type": "stream",
     "text": [
      "              precision    recall  f1-score   support\n",
      "\n",
      "           0   0.966418  0.938406  0.952206       276\n",
      "           1   0.461538  0.157895  0.235294        38\n",
      "           2   0.718894  0.975000  0.827586       160\n",
      "           3   0.976744  0.688525  0.807692        61\n",
      "           4   0.863014  0.797468  0.828947        79\n",
      "\n",
      "    accuracy                       0.856678       614\n",
      "   macro avg   0.797322  0.711459  0.730345       614\n",
      "weighted avg   0.858391  0.856678  0.845146       614\n",
      "\n"
     ]
    }
   ],
   "source": [
    "print(classification_report(y_test_dt, preds_teacher_model_fin, digits=6))"
   ]
  },
  {
   "cell_type": "code",
   "execution_count": null,
   "metadata": {
    "id": "zl31BY8AtC_i"
   },
   "outputs": [],
   "source": [
    "#student model\n",
    "def get_model_1d_cnn():\n",
    "    nclass = 5\n",
    "    inp = Input(shape=(3000, 1))\n",
    "    img_1 = Conv1D(4, kernel_size=6, activation=activations.relu, strides=1, padding=\"valid\")(inp)\n",
    "    #img_1 = Conv1D(128, kernel_size=5, activation=activations.relu, strides=1, padding=\"valid\")(img_1)\n",
    "    img_1 = MaxPooling1D(pool_size=2)(img_1)\n",
    "    #img_1 = SpatialDropout1D(rate=0.2)(img_1)\n",
    "    img_1 = Conv1D(4, kernel_size=5, activation=activations.relu, strides=1, padding=\"valid\")(img_1)\n",
    "    #img_1 = Conv1D(256, kernel_size=7, activation=activations.relu, strides=1, padding=\"valid\")(img_1)\n",
    "    img_1 = MaxPooling1D(pool_size=2)(img_1)\n",
    "    #img_1 = SpatialDropout1D(rate=0.01)(img_1)\n",
    "    img_1 = Conv1D(10, kernel_size=4, activation=activations.relu, strides=1, padding=\"valid\")(img_1)\n",
    "    #img_1 = Conv1D(64, kernel_size=4, activation=activations.relu, strides=1, padding=\"valid\")(img_1)\n",
    "    img_1 = MaxPooling1D(pool_size=2)(img_1)\n",
    "    #img_1 = SpatialDropout1D(rate=0.01)(img_1)\n",
    "    img_1 = Conv1D(10, kernel_size=4, activation=activations.relu, strides=1, padding=\"valid\")(img_1)\n",
    "    img_1 = MaxPooling1D(pool_size=2)(img_1)\n",
    "    #img_1 = Conv1D(64, kernel_size=6, activation=activations.relu, strides=1, padding=\"valid\")(img_1)\n",
    "    #img_1 = MaxPooling1D(pool_size=2)(img_1)\n",
    "    img_1 = Flatten()(img_1)\n",
    "\n",
    "    \n",
    "    dense_1 = Dropout(rate=0.5)(img_1)\n",
    "    #dense_1 = Dropout(rate=0.05)(Dense(64, activation=activations.relu, name=\"dense_2\")(dense_1))\n",
    "    dense_1 = Dense(nclass, activation=activations.softmax)(dense_1)\n",
    "\n",
    "    model = Model(inputs=inp, outputs=dense_1)\n",
    "    opt = Adam(0.001)\n",
    "\n",
    "    model.compile(optimizer=opt, loss='categorical_crossentropy', metrics=['acc'])\n",
    "    model.summary()\n",
    "    return model"
   ]
  },
  {
   "cell_type": "code",
   "execution_count": null,
   "metadata": {
    "colab": {
     "base_uri": "https://localhost:8080/"
    },
    "id": "XZlCwdastDDt",
    "outputId": "37dbd494-8613-4bb3-a40c-7310f3cc25a3"
   },
   "outputs": [
    {
     "name": "stdout",
     "output_type": "stream",
     "text": [
      "Model: \"model_1\"\n",
      "_________________________________________________________________\n",
      " Layer (type)                Output Shape              Param #   \n",
      "=================================================================\n",
      " input_1 (InputLayer)        [(None, 3000, 1)]         0         \n",
      "                                                                 \n",
      " conv1d (Conv1D)             (None, 2995, 4)           28        \n",
      "                                                                 \n",
      " max_pooling1d (MaxPooling1D  (None, 1497, 4)          0         \n",
      " )                                                               \n",
      "                                                                 \n",
      " conv1d_1 (Conv1D)           (None, 1493, 4)           84        \n",
      "                                                                 \n",
      " max_pooling1d_1 (MaxPooling  (None, 746, 4)           0         \n",
      " 1D)                                                             \n",
      "                                                                 \n",
      " conv1d_2 (Conv1D)           (None, 743, 10)           170       \n",
      "                                                                 \n",
      " max_pooling1d_2 (MaxPooling  (None, 371, 10)          0         \n",
      " 1D)                                                             \n",
      "                                                                 \n",
      " conv1d_3 (Conv1D)           (None, 368, 10)           410       \n",
      "                                                                 \n",
      " max_pooling1d_3 (MaxPooling  (None, 184, 10)          0         \n",
      " 1D)                                                             \n",
      "                                                                 \n",
      " flatten (Flatten)           (None, 1840)              0         \n",
      "                                                                 \n",
      " dropout (Dropout)           (None, 1840)              0         \n",
      "                                                                 \n",
      " dense (Dense)               (None, 5)                 9205      \n",
      "                                                                 \n",
      "=================================================================\n",
      "Total params: 9,897\n",
      "Trainable params: 9,897\n",
      "Non-trainable params: 0\n",
      "_________________________________________________________________\n"
     ]
    }
   ],
   "source": [
    "#student_model=get_model_cnn()\n",
    "student_model=get_model_1d_cnn()"
   ]
  },
  {
   "cell_type": "code",
   "execution_count": null,
   "metadata": {
    "colab": {
     "base_uri": "https://localhost:8080/"
    },
    "id": "as0rHhlxtDGG",
    "outputId": "1504e5ce-4f70-47af-f5e2-6f9f338662eb"
   },
   "outputs": [
    {
     "name": "stdout",
     "output_type": "stream",
     "text": [
      "Model: \"model_2\"\n",
      "_________________________________________________________________\n",
      " Layer (type)                Output Shape              Param #   \n",
      "=================================================================\n",
      " input_2 (InputLayer)        [(None, 3000, 1)]         0         \n",
      "                                                                 \n",
      " conv1d_4 (Conv1D)           (None, 2995, 4)           28        \n",
      "                                                                 \n",
      " max_pooling1d_4 (MaxPooling  (None, 1497, 4)          0         \n",
      " 1D)                                                             \n",
      "                                                                 \n",
      " conv1d_5 (Conv1D)           (None, 1493, 4)           84        \n",
      "                                                                 \n",
      " max_pooling1d_5 (MaxPooling  (None, 746, 4)           0         \n",
      " 1D)                                                             \n",
      "                                                                 \n",
      " conv1d_6 (Conv1D)           (None, 743, 10)           170       \n",
      "                                                                 \n",
      " max_pooling1d_6 (MaxPooling  (None, 371, 10)          0         \n",
      " 1D)                                                             \n",
      "                                                                 \n",
      " conv1d_7 (Conv1D)           (None, 368, 10)           410       \n",
      "                                                                 \n",
      " max_pooling1d_7 (MaxPooling  (None, 184, 10)          0         \n",
      " 1D)                                                             \n",
      "                                                                 \n",
      " flatten_1 (Flatten)         (None, 1840)              0         \n",
      "                                                                 \n",
      " dropout_1 (Dropout)         (None, 1840)              0         \n",
      "                                                                 \n",
      " dense_1 (Dense)             (None, 5)                 9205      \n",
      "                                                                 \n",
      "=================================================================\n",
      "Total params: 9,897\n",
      "Trainable params: 9,897\n",
      "Non-trainable params: 0\n",
      "_________________________________________________________________\n"
     ]
    }
   ],
   "source": [
    "#student_model=get_model_cnn()\n",
    "student_model=get_model_1d_cnn()"
   ]
  },
  {
   "cell_type": "code",
   "execution_count": null,
   "metadata": {
    "id": "wbYThMTDtDJA"
   },
   "outputs": [],
   "source": [
    "class Distiller(keras.Model):\n",
    "    def __init__(self, student, teacher):\n",
    "        super(Distiller, self).__init__()\n",
    "        self.teacher = teacher\n",
    "        self.student = student\n",
    "\n",
    "    def compile(\n",
    "        self,\n",
    "        optimizer,\n",
    "        metrics,\n",
    "        student_loss_fn,\n",
    "        distillation_loss_fn,\n",
    "        alpha=0.1,\n",
    "        temperature=3,\n",
    "    ):\n",
    "        \"\"\" Configure the distiller.\n",
    "\n",
    "        Args:\n",
    "            optimizer: Keras optimizer for the student weights\n",
    "            metrics: Keras metrics for evaluation\n",
    "            student_loss_fn: Loss function of difference between student\n",
    "                predictions and ground-truth\n",
    "            distillation_loss_fn: Loss function of difference between soft\n",
    "                student predictions and soft teacher predictions\n",
    "            alpha: weight to student_loss_fn and 1-alpha to distillation_loss_fn\n",
    "            temperature: Temperature for softening probability distributions.\n",
    "                Larger temperature gives softer distributions.\n",
    "        \"\"\"\n",
    "        super(Distiller, self).compile(optimizer=optimizer, metrics=metrics)\n",
    "        self.student_loss_fn = student_loss_fn\n",
    "        self.distillation_loss_fn = distillation_loss_fn\n",
    "        self.alpha = alpha\n",
    "        self.temperature = temperature\n",
    "\n",
    "    def train_step(self, data):\n",
    "        # Unpack data\n",
    "        x, y = data\n",
    "\n",
    "        # Forward pass of teacher\n",
    "        teacher_predictions = self.teacher(x, training=False)\n",
    "\n",
    "        with tf.GradientTape() as tape:\n",
    "            # Forward pass of student\n",
    "            student_predictions = self.student(x, training=True)\n",
    "\n",
    "            # Compute losses\n",
    "            student_loss = self.student_loss_fn(y, student_predictions)\n",
    "            distillation_loss = self.distillation_loss_fn(\n",
    "                tf.nn.softmax(teacher_predictions / self.temperature, axis=1),\n",
    "                tf.nn.softmax(student_predictions / self.temperature, axis=1),\n",
    "            )\n",
    "            loss = self.alpha * student_loss + (1 - self.alpha) * distillation_loss\n",
    "\n",
    "        # Compute gradients\n",
    "        trainable_vars = self.student.trainable_variables\n",
    "        gradients = tape.gradient(loss, trainable_vars)\n",
    "\n",
    "        # Update weights\n",
    "        self.optimizer.apply_gradients(zip(gradients, trainable_vars))\n",
    "\n",
    "        # Update the metrics configured in `compile()`.\n",
    "        self.compiled_metrics.update_state(y, student_predictions)\n",
    "\n",
    "        # Return a dict of performance\n",
    "        results = {m.name: m.result() for m in self.metrics}\n",
    "        results.update(\n",
    "            {\"student_loss\": student_loss, \"distillation_loss\": distillation_loss}\n",
    "        )\n",
    "        return results\n",
    "\n",
    "    def test_step(self, data):\n",
    "        # Unpack the data\n",
    "        x, y = data\n",
    "\n",
    "        # Compute predictions\n",
    "        y_prediction = self.student(x, training=False)\n",
    "\n",
    "        # Calculate the loss\n",
    "        student_loss = self.student_loss_fn(y, y_prediction)\n",
    "\n",
    "        # Update the metrics.\n",
    "        self.compiled_metrics.update_state(y, y_prediction)\n",
    "\n",
    "        # Return a dict of performance\n",
    "        results = {m.name: m.result() for m in self.metrics}\n",
    "        results.update({\"student_loss\": student_loss})\n",
    "        return results\n"
   ]
  },
  {
   "cell_type": "code",
   "execution_count": null,
   "metadata": {
    "colab": {
     "base_uri": "https://localhost:8080/"
    },
    "id": "pcgxJopBs8dJ",
    "outputId": "99d59713-d7ba-4c68-b9c5-f5ed526297a9"
   },
   "outputs": [
    {
     "name": "stdout",
     "output_type": "stream",
     "text": [
      "Model: \"model_3\"\n",
      "_________________________________________________________________\n",
      " Layer (type)                Output Shape              Param #   \n",
      "=================================================================\n",
      " input_3 (InputLayer)        [(None, 3000, 1)]         0         \n",
      "                                                                 \n",
      " conv1d_8 (Conv1D)           (None, 2995, 4)           28        \n",
      "                                                                 \n",
      " max_pooling1d_8 (MaxPooling  (None, 1497, 4)          0         \n",
      " 1D)                                                             \n",
      "                                                                 \n",
      " conv1d_9 (Conv1D)           (None, 1493, 4)           84        \n",
      "                                                                 \n",
      " max_pooling1d_9 (MaxPooling  (None, 746, 4)           0         \n",
      " 1D)                                                             \n",
      "                                                                 \n",
      " conv1d_10 (Conv1D)          (None, 743, 10)           170       \n",
      "                                                                 \n",
      " max_pooling1d_10 (MaxPoolin  (None, 371, 10)          0         \n",
      " g1D)                                                            \n",
      "                                                                 \n",
      " conv1d_11 (Conv1D)          (None, 368, 10)           410       \n",
      "                                                                 \n",
      " max_pooling1d_11 (MaxPoolin  (None, 184, 10)          0         \n",
      " g1D)                                                            \n",
      "                                                                 \n",
      " flatten_2 (Flatten)         (None, 1840)              0         \n",
      "                                                                 \n",
      " dropout_2 (Dropout)         (None, 1840)              0         \n",
      "                                                                 \n",
      " dense_2 (Dense)             (None, 5)                 9205      \n",
      "                                                                 \n",
      "=================================================================\n",
      "Total params: 9,897\n",
      "Trainable params: 9,897\n",
      "Non-trainable params: 0\n",
      "_________________________________________________________________\n"
     ]
    }
   ],
   "source": [
    "#student_model=get_model_cnn()\n",
    "student_model=get_model_1d_cnn()"
   ]
  },
  {
   "cell_type": "code",
   "execution_count": null,
   "metadata": {
    "id": "sSjX4cYQtRiv"
   },
   "outputs": [],
   "source": [
    "class Distiller(keras.Model):\n",
    "    def __init__(self, student, teacher):\n",
    "        super(Distiller, self).__init__()\n",
    "        self.teacher = teacher\n",
    "        self.student = student\n",
    "\n",
    "    def compile(\n",
    "        self,\n",
    "        optimizer,\n",
    "        metrics,\n",
    "        student_loss_fn,\n",
    "        distillation_loss_fn,\n",
    "        alpha=0.1,\n",
    "        temperature=3,\n",
    "    ):\n",
    "        \"\"\" Configure the distiller.\n",
    "\n",
    "        Args:\n",
    "            optimizer: Keras optimizer for the student weights\n",
    "            metrics: Keras metrics for evaluation\n",
    "            student_loss_fn: Loss function of difference between student\n",
    "                predictions and ground-truth\n",
    "            distillation_loss_fn: Loss function of difference between soft\n",
    "                student predictions and soft teacher predictions\n",
    "            alpha: weight to student_loss_fn and 1-alpha to distillation_loss_fn\n",
    "            temperature: Temperature for softening probability distributions.\n",
    "                Larger temperature gives softer distributions.\n",
    "        \"\"\"\n",
    "        super(Distiller, self).compile(optimizer=optimizer, metrics=metrics)\n",
    "        self.student_loss_fn = student_loss_fn\n",
    "        self.distillation_loss_fn = distillation_loss_fn\n",
    "        self.alpha = alpha\n",
    "        self.temperature = temperature\n",
    "\n",
    "    def train_step(self, data):\n",
    "        # Unpack data\n",
    "        x, y = data\n",
    "\n",
    "        # Forward pass of teacher\n",
    "        teacher_predictions = self.teacher(x, training=False)\n",
    "\n",
    "        with tf.GradientTape() as tape:\n",
    "            # Forward pass of student\n",
    "            student_predictions = self.student(x, training=True)\n",
    "\n",
    "            # Compute losses\n",
    "            student_loss = self.student_loss_fn(y, student_predictions)\n",
    "            distillation_loss = self.distillation_loss_fn(\n",
    "                tf.nn.softmax(teacher_predictions / self.temperature, axis=1),\n",
    "                tf.nn.softmax(student_predictions / self.temperature, axis=1),\n",
    "            )\n",
    "            loss = self.alpha * student_loss + (1 - self.alpha) * distillation_loss\n",
    "\n",
    "        # Compute gradients\n",
    "        trainable_vars = self.student.trainable_variables\n",
    "        gradients = tape.gradient(loss, trainable_vars)\n",
    "\n",
    "        # Update weights\n",
    "        self.optimizer.apply_gradients(zip(gradients, trainable_vars))\n",
    "\n",
    "        # Update the metrics configured in `compile()`.\n",
    "        self.compiled_metrics.update_state(y, student_predictions)\n",
    "\n",
    "        # Return a dict of performance\n",
    "        results = {m.name: m.result() for m in self.metrics}\n",
    "        results.update(\n",
    "            {\"student_loss\": student_loss, \"distillation_loss\": distillation_loss}\n",
    "        )\n",
    "        return results\n",
    "\n",
    "    def test_step(self, data):\n",
    "        # Unpack the data\n",
    "        x, y = data\n",
    "\n",
    "        # Compute predictions\n",
    "        y_prediction = self.student(x, training=False)\n",
    "\n",
    "        # Calculate the loss\n",
    "        student_loss = self.student_loss_fn(y, y_prediction)\n",
    "\n",
    "        # Update the metrics.\n",
    "        self.compiled_metrics.update_state(y, y_prediction)\n",
    "\n",
    "        # Return a dict of performance\n",
    "        results = {m.name: m.result() for m in self.metrics}\n",
    "        results.update({\"student_loss\": student_loss})\n",
    "        return results\n"
   ]
  },
  {
   "cell_type": "code",
   "execution_count": null,
   "metadata": {
    "id": "mT3luyshtRlN"
   },
   "outputs": [],
   "source": [
    "import tensorflow as tf\n",
    "from tensorflow import keras\n",
    "from tensorflow.keras import layers\n",
    "import numpy as np\n"
   ]
  },
  {
   "cell_type": "code",
   "execution_count": null,
   "metadata": {
    "colab": {
     "base_uri": "https://localhost:8080/"
    },
    "id": "F0TJcDFRtRoF",
    "outputId": "6ac232a3-11cf-4cca-d003-a010eae085d7"
   },
   "outputs": [
    {
     "name": "stdout",
     "output_type": "stream",
     "text": [
      "Epoch 1/60\n",
      "3725/3725 [==============================] - 34s 8ms/step - categorical_accuracy: 0.7096 - student_loss: 0.7175 - distillation_loss: 0.0015\n",
      "Epoch 2/60\n",
      "3725/3725 [==============================] - 30s 8ms/step - categorical_accuracy: 0.7743 - student_loss: 0.5450 - distillation_loss: 0.0012\n",
      "Epoch 3/60\n",
      "3725/3725 [==============================] - 30s 8ms/step - categorical_accuracy: 0.7878 - student_loss: 0.5111 - distillation_loss: 0.0011\n",
      "Epoch 4/60\n",
      "3725/3725 [==============================] - 30s 8ms/step - categorical_accuracy: 0.7983 - student_loss: 0.4880 - distillation_loss: 0.0011\n",
      "Epoch 5/60\n",
      "3725/3725 [==============================] - 30s 8ms/step - categorical_accuracy: 0.8092 - student_loss: 0.4675 - distillation_loss: 0.0010\n",
      "Epoch 6/60\n",
      "3725/3725 [==============================] - 30s 8ms/step - categorical_accuracy: 0.8183 - student_loss: 0.4469 - distillation_loss: 9.6809e-04\n",
      "Epoch 7/60\n",
      "3725/3725 [==============================] - 30s 8ms/step - categorical_accuracy: 0.8242 - student_loss: 0.4349 - distillation_loss: 9.3641e-04\n",
      "Epoch 8/60\n",
      "3725/3725 [==============================] - 30s 8ms/step - categorical_accuracy: 0.8326 - student_loss: 0.4181 - distillation_loss: 8.9335e-04\n",
      "Epoch 9/60\n",
      "3725/3725 [==============================] - 29s 8ms/step - categorical_accuracy: 0.8414 - student_loss: 0.3991 - distillation_loss: 8.4593e-04\n",
      "Epoch 10/60\n",
      "3725/3725 [==============================] - 29s 8ms/step - categorical_accuracy: 0.8476 - student_loss: 0.3870 - distillation_loss: 8.1694e-04\n",
      "Epoch 11/60\n",
      "3725/3725 [==============================] - 29s 8ms/step - categorical_accuracy: 0.8498 - student_loss: 0.3802 - distillation_loss: 8.0154e-04\n",
      "Epoch 12/60\n",
      "3725/3725 [==============================] - 30s 8ms/step - categorical_accuracy: 0.8517 - student_loss: 0.3728 - distillation_loss: 7.8725e-04\n",
      "Epoch 13/60\n",
      "3725/3725 [==============================] - 29s 8ms/step - categorical_accuracy: 0.8559 - student_loss: 0.3672 - distillation_loss: 7.7361e-04\n",
      "Epoch 14/60\n",
      "3725/3725 [==============================] - 29s 8ms/step - categorical_accuracy: 0.8565 - student_loss: 0.3634 - distillation_loss: 7.6351e-04\n",
      "Epoch 15/60\n",
      "3725/3725 [==============================] - 30s 8ms/step - categorical_accuracy: 0.8569 - student_loss: 0.3628 - distillation_loss: 7.6473e-04\n",
      "Epoch 16/60\n",
      "3725/3725 [==============================] - 29s 8ms/step - categorical_accuracy: 0.8589 - student_loss: 0.3568 - distillation_loss: 7.5254e-04\n",
      "Epoch 17/60\n",
      "3725/3725 [==============================] - 29s 8ms/step - categorical_accuracy: 0.8612 - student_loss: 0.3548 - distillation_loss: 7.5027e-04\n",
      "Epoch 18/60\n",
      "3725/3725 [==============================] - 29s 8ms/step - categorical_accuracy: 0.8622 - student_loss: 0.3530 - distillation_loss: 7.4346e-04\n",
      "Epoch 19/60\n",
      "3725/3725 [==============================] - 29s 8ms/step - categorical_accuracy: 0.8614 - student_loss: 0.3509 - distillation_loss: 7.4064e-04\n",
      "Epoch 20/60\n",
      "3725/3725 [==============================] - 29s 8ms/step - categorical_accuracy: 0.8635 - student_loss: 0.3486 - distillation_loss: 7.3238e-04\n",
      "Epoch 21/60\n",
      "3725/3725 [==============================] - 29s 8ms/step - categorical_accuracy: 0.8637 - student_loss: 0.3458 - distillation_loss: 7.2758e-04\n",
      "Epoch 22/60\n",
      "3725/3725 [==============================] - 30s 8ms/step - categorical_accuracy: 0.8639 - student_loss: 0.3443 - distillation_loss: 7.2616e-04\n",
      "Epoch 23/60\n",
      "3725/3725 [==============================] - 29s 8ms/step - categorical_accuracy: 0.8647 - student_loss: 0.3437 - distillation_loss: 7.2520e-04\n",
      "Epoch 24/60\n",
      "3725/3725 [==============================] - 29s 8ms/step - categorical_accuracy: 0.8649 - student_loss: 0.3422 - distillation_loss: 7.2203e-04\n",
      "Epoch 25/60\n",
      "3725/3725 [==============================] - 29s 8ms/step - categorical_accuracy: 0.8650 - student_loss: 0.3412 - distillation_loss: 7.2148e-04\n",
      "Epoch 26/60\n",
      "3725/3725 [==============================] - 29s 8ms/step - categorical_accuracy: 0.8655 - student_loss: 0.3403 - distillation_loss: 7.2016e-04\n",
      "Epoch 27/60\n",
      "3725/3725 [==============================] - 29s 8ms/step - categorical_accuracy: 0.8666 - student_loss: 0.3393 - distillation_loss: 7.1347e-04\n",
      "Epoch 28/60\n",
      "3725/3725 [==============================] - 29s 8ms/step - categorical_accuracy: 0.8673 - student_loss: 0.3375 - distillation_loss: 7.1288e-04\n",
      "Epoch 29/60\n",
      "3725/3725 [==============================] - 29s 8ms/step - categorical_accuracy: 0.8674 - student_loss: 0.3353 - distillation_loss: 7.1141e-04\n",
      "Epoch 30/60\n",
      "3725/3725 [==============================] - 29s 8ms/step - categorical_accuracy: 0.8667 - student_loss: 0.3376 - distillation_loss: 7.1454e-04\n",
      "Epoch 31/60\n",
      "3725/3725 [==============================] - 29s 8ms/step - categorical_accuracy: 0.8675 - student_loss: 0.3363 - distillation_loss: 7.0873e-04\n",
      "Epoch 32/60\n",
      "3725/3725 [==============================] - 29s 8ms/step - categorical_accuracy: 0.8687 - student_loss: 0.3347 - distillation_loss: 7.0854e-04\n",
      "Epoch 33/60\n",
      "3725/3725 [==============================] - 30s 8ms/step - categorical_accuracy: 0.8686 - student_loss: 0.3332 - distillation_loss: 7.0508e-04\n",
      "Epoch 34/60\n",
      "3725/3725 [==============================] - 29s 8ms/step - categorical_accuracy: 0.8688 - student_loss: 0.3347 - distillation_loss: 7.0821e-04\n",
      "Epoch 35/60\n",
      "3725/3725 [==============================] - 29s 8ms/step - categorical_accuracy: 0.8698 - student_loss: 0.3345 - distillation_loss: 7.0812e-04\n",
      "Epoch 36/60\n",
      "3725/3725 [==============================] - 29s 8ms/step - categorical_accuracy: 0.8686 - student_loss: 0.3333 - distillation_loss: 7.0355e-04\n",
      "Epoch 37/60\n",
      "3725/3725 [==============================] - 29s 8ms/step - categorical_accuracy: 0.8690 - student_loss: 0.3327 - distillation_loss: 7.0454e-04\n",
      "Epoch 38/60\n",
      "3725/3725 [==============================] - 30s 8ms/step - categorical_accuracy: 0.8681 - student_loss: 0.3326 - distillation_loss: 7.0744e-04\n",
      "Epoch 39/60\n",
      "3725/3725 [==============================] - 29s 8ms/step - categorical_accuracy: 0.8689 - student_loss: 0.3348 - distillation_loss: 7.0682e-04\n",
      "Epoch 40/60\n",
      "3725/3725 [==============================] - 29s 8ms/step - categorical_accuracy: 0.8702 - student_loss: 0.3314 - distillation_loss: 7.0122e-04\n",
      "Epoch 41/60\n",
      "3725/3725 [==============================] - 29s 8ms/step - categorical_accuracy: 0.8708 - student_loss: 0.3305 - distillation_loss: 7.0051e-04\n",
      "Epoch 42/60\n",
      "3725/3725 [==============================] - 29s 8ms/step - categorical_accuracy: 0.8691 - student_loss: 0.3311 - distillation_loss: 7.0335e-04\n",
      "Epoch 43/60\n",
      "3725/3725 [==============================] - 30s 8ms/step - categorical_accuracy: 0.8692 - student_loss: 0.3314 - distillation_loss: 7.0191e-04\n",
      "Epoch 44/60\n",
      "3725/3725 [==============================] - 30s 8ms/step - categorical_accuracy: 0.8711 - student_loss: 0.3291 - distillation_loss: 6.9369e-04\n",
      "Epoch 45/60\n",
      "3725/3725 [==============================] - 29s 8ms/step - categorical_accuracy: 0.8699 - student_loss: 0.3285 - distillation_loss: 6.9539e-04\n",
      "Epoch 46/60\n",
      "3725/3725 [==============================] - 29s 8ms/step - categorical_accuracy: 0.8704 - student_loss: 0.3295 - distillation_loss: 6.9891e-04\n",
      "Epoch 47/60\n",
      "3725/3725 [==============================] - 29s 8ms/step - categorical_accuracy: 0.8705 - student_loss: 0.3290 - distillation_loss: 6.9556e-04\n",
      "Epoch 48/60\n",
      "3725/3725 [==============================] - 29s 8ms/step - categorical_accuracy: 0.8709 - student_loss: 0.3297 - distillation_loss: 6.9728e-04\n",
      "Epoch 49/60\n",
      "3725/3725 [==============================] - 29s 8ms/step - categorical_accuracy: 0.8715 - student_loss: 0.3261 - distillation_loss: 6.9025e-04\n",
      "Epoch 50/60\n",
      "3725/3725 [==============================] - 29s 8ms/step - categorical_accuracy: 0.8699 - student_loss: 0.3285 - distillation_loss: 6.9707e-04\n",
      "Epoch 51/60\n",
      "3725/3725 [==============================] - 29s 8ms/step - categorical_accuracy: 0.8702 - student_loss: 0.3268 - distillation_loss: 6.9359e-04\n",
      "Epoch 52/60\n",
      "3725/3725 [==============================] - 29s 8ms/step - categorical_accuracy: 0.8706 - student_loss: 0.3272 - distillation_loss: 6.9694e-04\n",
      "Epoch 53/60\n",
      "3725/3725 [==============================] - 29s 8ms/step - categorical_accuracy: 0.8708 - student_loss: 0.3279 - distillation_loss: 6.9475e-04\n",
      "Epoch 54/60\n",
      "3725/3725 [==============================] - 30s 8ms/step - categorical_accuracy: 0.8705 - student_loss: 0.3268 - distillation_loss: 6.9391e-04\n",
      "Epoch 55/60\n",
      "3725/3725 [==============================] - 29s 8ms/step - categorical_accuracy: 0.8707 - student_loss: 0.3251 - distillation_loss: 6.9285e-04\n",
      "Epoch 56/60\n",
      "3725/3725 [==============================] - 29s 8ms/step - categorical_accuracy: 0.8716 - student_loss: 0.3259 - distillation_loss: 6.8958e-04\n",
      "Epoch 57/60\n",
      "3725/3725 [==============================] - 30s 8ms/step - categorical_accuracy: 0.8716 - student_loss: 0.3248 - distillation_loss: 6.8876e-04\n",
      "Epoch 58/60\n",
      "3725/3725 [==============================] - 29s 8ms/step - categorical_accuracy: 0.8719 - student_loss: 0.3253 - distillation_loss: 6.8828e-04\n",
      "Epoch 59/60\n",
      "3725/3725 [==============================] - 29s 8ms/step - categorical_accuracy: 0.8724 - student_loss: 0.3252 - distillation_loss: 6.8989e-04\n",
      "Epoch 60/60\n",
      "3725/3725 [==============================] - 29s 8ms/step - categorical_accuracy: 0.8713 - student_loss: 0.3265 - distillation_loss: 6.9393e-04\n"
     ]
    },
    {
     "data": {
      "text/plain": [
       "<keras.callbacks.History at 0x7f1fec9fa090>"
      ]
     },
     "execution_count": 45,
     "metadata": {},
     "output_type": "execute_result"
    }
   ],
   "source": [
    "# Initialize and compile distiller\n",
    "distiller = Distiller(student=student_model, teacher=teacher_model)\n",
    "distiller.compile(\n",
    "    optimizer=keras.optimizers.Adam(),\n",
    "    metrics=[keras.metrics.CategoricalAccuracy()],\n",
    "    student_loss_fn=keras.losses.CategoricalCrossentropy(from_logits=True),\n",
    "    distillation_loss_fn=keras.losses.KLDivergence(),\n",
    "    alpha=0.9,\n",
    "    temperature=5,\n",
    ")\n",
    "\n",
    "# Distill teacher to student\n",
    "distiller.fit(x_dt_rshp, y_dt_, epochs=60)\n",
    "\n",
    "# Evaluate student on test dataset\n",
    "#distiller.evaluate(x_test, y_test)"
   ]
  },
  {
   "cell_type": "code",
   "execution_count": null,
   "metadata": {
    "colab": {
     "base_uri": "https://localhost:8080/"
    },
    "id": "Ixi_mjTFtcvt",
    "outputId": "3894e5fb-c7f1-457d-91b8-0bd5e840d93b"
   },
   "outputs": [
    {
     "name": "stdout",
     "output_type": "stream",
     "text": [
      "20/20 [==============================] - 0s 3ms/step - categorical_accuracy: 0.8290 - student_loss: 0.7798\n"
     ]
    }
   ],
   "source": [
    "accuracy_distiller = distiller.evaluate(x_test_dt_rshp, y_test_dt_)"
   ]
  },
  {
   "cell_type": "code",
   "execution_count": null,
   "metadata": {
    "id": "glsndj49tcyJ"
   },
   "outputs": [],
   "source": [
    "preds_student_model = student_model.predict(x_test_dt_rshp)"
   ]
  },
  {
   "cell_type": "code",
   "execution_count": null,
   "metadata": {
    "id": "DYbYwVbCtc0k"
   },
   "outputs": [],
   "source": [
    "preds_student_model_fin=np.argmax(preds_student_model,axis=1)"
   ]
  },
  {
   "cell_type": "code",
   "execution_count": null,
   "metadata": {
    "colab": {
     "base_uri": "https://localhost:8080/"
    },
    "id": "4N-mLPWMtrSi",
    "outputId": "115fdc7e-1c83-436f-e131-8d2616ea15ae"
   },
   "outputs": [
    {
     "name": "stdout",
     "output_type": "stream",
     "text": [
      "              precision    recall  f1-score   support\n",
      "\n",
      "           0   0.929329  0.952899  0.940966       276\n",
      "           1   0.222222  0.052632  0.085106        38\n",
      "           2   0.717703  0.937500  0.813008       160\n",
      "           3   0.870370  0.770492  0.817391        61\n",
      "           4   0.796610  0.594937  0.681159        79\n",
      "\n",
      "    accuracy                       0.828990       614\n",
      "   macro avg   0.707247  0.661692  0.667526       614\n",
      "weighted avg   0.807486  0.828990  0.808949       614\n",
      "\n"
     ]
    }
   ],
   "source": [
    "print(classification_report(y_test_dt, preds_student_model_fin, digits=6))"
   ]
  },
  {
   "cell_type": "code",
   "execution_count": null,
   "metadata": {
    "colab": {
     "base_uri": "https://localhost:8080/"
    },
    "id": "V6sUAgE1trZN",
    "outputId": "1adc3bfd-4810-4e58-fb0a-5e5698361d26"
   },
   "outputs": [
    {
     "data": {
      "text/plain": [
       "array([0.95289855, 0.05263158, 0.9375    , 0.7704918 , 0.59493671])"
      ]
     },
     "execution_count": 50,
     "metadata": {},
     "output_type": "execute_result"
    }
   ],
   "source": [
    "from sklearn.metrics import confusion_matrix\n",
    "matrix = confusion_matrix(y_test_dt, preds_student_model_fin)\n",
    "matrix.diagonal()/matrix.sum(axis=1)"
   ]
  },
  {
   "cell_type": "code",
   "execution_count": null,
   "metadata": {
    "id": "2t_yoUpVsloe"
   },
   "outputs": [],
   "source": []
  },
  {
   "cell_type": "code",
   "execution_count": null,
   "metadata": {
    "id": "O_E1J_UujwXz"
   },
   "outputs": [],
   "source": [
    "#60 epochs teacher"
   ]
  },
  {
   "cell_type": "code",
   "execution_count": null,
   "metadata": {
    "colab": {
     "base_uri": "https://localhost:8080/"
    },
    "id": "_ySEY_3H97av",
    "outputId": "69e87fdb-1d97-414e-9dc8-964f32670fba"
   },
   "outputs": [
    {
     "name": "stdout",
     "output_type": "stream",
     "text": [
      "Model: \"model\"\n",
      "__________________________________________________________________________________________________\n",
      " Layer (type)                   Output Shape         Param #     Connected to                     \n",
      "==================================================================================================\n",
      " inLayer (InputLayer)           [(None, 3000, 1)]    0           []                               \n",
      "                                                                                                  \n",
      " fConv1 (Conv1D)                (None, 500, 64)      3264        ['inLayer[0][0]']                \n",
      "                                                                                                  \n",
      " cConv1 (Conv1D)                (None, 60, 32)       12832       ['inLayer[0][0]']                \n",
      "                                                                                                  \n",
      " fMaxP1 (MaxPooling1D)          (None, 62, 64)       0           ['fConv1[0][0]']                 \n",
      "                                                                                                  \n",
      " cMaxP1 (MaxPooling1D)          (None, 15, 32)       0           ['cConv1[0][0]']                 \n",
      "                                                                                                  \n",
      " fDrop1 (Dropout)               (None, 62, 64)       0           ['fMaxP1[0][0]']                 \n",
      "                                                                                                  \n",
      " cDrop1 (Dropout)               (None, 15, 32)       0           ['cMaxP1[0][0]']                 \n",
      "                                                                                                  \n",
      " fConv2 (Conv1D)                (None, 62, 128)      65664       ['fDrop1[0][0]']                 \n",
      "                                                                                                  \n",
      " cConv2 (Conv1D)                (None, 15, 128)      24704       ['cDrop1[0][0]']                 \n",
      "                                                                                                  \n",
      " fConv3 (Conv1D)                (None, 62, 128)      131200      ['fConv2[0][0]']                 \n",
      "                                                                                                  \n",
      " cConv3 (Conv1D)                (None, 15, 128)      98432       ['cConv2[0][0]']                 \n",
      "                                                                                                  \n",
      " fConv4 (Conv1D)                (None, 62, 128)      131200      ['fConv3[0][0]']                 \n",
      "                                                                                                  \n",
      " cConv4 (Conv1D)                (None, 15, 128)      98432       ['cConv3[0][0]']                 \n",
      "                                                                                                  \n",
      " fMaxP2 (MaxPooling1D)          (None, 15, 128)      0           ['fConv4[0][0]']                 \n",
      "                                                                                                  \n",
      " cMaxP2 (MaxPooling1D)          (None, 7, 128)       0           ['cConv4[0][0]']                 \n",
      "                                                                                                  \n",
      " fFlat1 (Flatten)               (None, 1920)         0           ['fMaxP2[0][0]']                 \n",
      "                                                                                                  \n",
      " cFlat1 (Flatten)               (None, 896)          0           ['cMaxP2[0][0]']                 \n",
      "                                                                                                  \n",
      " merge_1 (Concatenate)          (None, 2816)         0           ['fFlat1[0][0]',                 \n",
      "                                                                  'cFlat1[0][0]']                 \n",
      "                                                                                                  \n",
      " mDrop1 (Dropout)               (None, 2816)         0           ['merge_1[0][0]']                \n",
      "                                                                                                  \n",
      " reshape1 (Reshape)             (None, 1, 2816)      0           ['mDrop1[0][0]']                 \n",
      "                                                                                                  \n",
      " lstm (LSTM)                    (None, 1, 64)        737536      ['reshape1[0][0]']               \n",
      "                                                                                                  \n",
      " lstm_1 (LSTM)                  (None, 64)           33024       ['lstm[0][0]']                   \n",
      "                                                                                                  \n",
      " outLayer (Dense)               (None, 5)            325         ['lstm_1[0][0]']                 \n",
      "                                                                                                  \n",
      "==================================================================================================\n",
      "Total params: 1,336,613\n",
      "Trainable params: 1,336,613\n",
      "Non-trainable params: 0\n",
      "__________________________________________________________________________________________________\n"
     ]
    }
   ],
   "source": [
    "teacher_model=model_b(verbose=VBS) #60 epochs teacher model"
   ]
  },
  {
   "cell_type": "code",
   "execution_count": null,
   "metadata": {
    "colab": {
     "base_uri": "https://localhost:8080/"
    },
    "id": "XGYIvJM7_u1b",
    "outputId": "baa2610b-36ae-43c2-c89d-112b789a6364"
   },
   "outputs": [
    {
     "data": {
      "text/plain": [
       "<tensorflow.python.training.tracking.util.CheckpointLoadStatus at 0x7fde1a33ef90>"
      ]
     },
     "execution_count": 29,
     "metadata": {},
     "output_type": "execute_result"
    }
   ],
   "source": [
    "teacher_checkpt_path=\"/content/gdrive/My Drive/physionet/ensemble/tri_training/60_epochs_keras_way/teacher_60_epochs_wts_trial_3.ckpt\"\n",
    "teacher_model.load_weights(teacher_checkpt_path)"
   ]
  },
  {
   "cell_type": "code",
   "execution_count": null,
   "metadata": {
    "id": "WRiIVK51_HcR"
   },
   "outputs": [],
   "source": [
    "from keras.layers import Input, Dense, LSTM, MaxPooling1D, Conv1D\n",
    "from keras.models import Model"
   ]
  },
  {
   "cell_type": "code",
   "execution_count": null,
   "metadata": {
    "id": "1uiHElwVACnO"
   },
   "outputs": [],
   "source": [
    "teacher_model.compile(optimizer=optimizer, loss='categorical_crossentropy', metrics=['accuracy'])"
   ]
  },
  {
   "cell_type": "code",
   "execution_count": null,
   "metadata": {
    "colab": {
     "base_uri": "https://localhost:8080/"
    },
    "id": "QdT83AOVAGk2",
    "outputId": "fbbbd16f-3df7-4231-8f1a-e84e3099aa1a"
   },
   "outputs": [
    {
     "name": "stdout",
     "output_type": "stream",
     "text": [
      "20/20 [==============================] - 12s 8ms/step - loss: 0.9506 - accuracy: 0.8502\n"
     ]
    }
   ],
   "source": [
    "accuracy_teacher_model = teacher_model.evaluate(x_test_dt_rshp, y_test_dt_)"
   ]
  },
  {
   "cell_type": "code",
   "execution_count": null,
   "metadata": {
    "id": "QMFYsOt07jC5"
   },
   "outputs": [],
   "source": [
    "preds_teacher_model = teacher_model.predict(x_test_dt_rshp)"
   ]
  },
  {
   "cell_type": "code",
   "execution_count": null,
   "metadata": {
    "id": "Ta1e6ZZw7tyn"
   },
   "outputs": [],
   "source": [
    "preds_teacher_model_fin=np.argmax(preds_teacher_model,axis=1)"
   ]
  },
  {
   "cell_type": "code",
   "execution_count": null,
   "metadata": {
    "colab": {
     "base_uri": "https://localhost:8080/"
    },
    "id": "NfSliRi3WzTE",
    "outputId": "e74da971-095d-4f63-f5e6-cfda6cc636ec"
   },
   "outputs": [
    {
     "data": {
      "text/plain": [
       "array([0.95289855, 0.10526316, 0.95      , 0.67213115, 0.78481013])"
      ]
     },
     "execution_count": 35,
     "metadata": {},
     "output_type": "execute_result"
    }
   ],
   "source": [
    "from sklearn.metrics import confusion_matrix\n",
    "matrix_teacher = confusion_matrix(y_test_dt, preds_teacher_model_fin)\n",
    "matrix_teacher.diagonal()/matrix_teacher.sum(axis=1)"
   ]
  },
  {
   "cell_type": "code",
   "execution_count": null,
   "metadata": {
    "colab": {
     "base_uri": "https://localhost:8080/"
    },
    "id": "fxu4u9vC7t_U",
    "outputId": "1dea82cb-3d79-4954-a2da-80aacda77fc0"
   },
   "outputs": [
    {
     "name": "stdout",
     "output_type": "stream",
     "text": [
      "              precision    recall  f1-score   support\n",
      "\n",
      "           0   0.956364  0.952899  0.954628       276\n",
      "           1   0.333333  0.105263  0.160000        38\n",
      "           2   0.748768  0.950000  0.837466       160\n",
      "           3   0.953488  0.672131  0.788462        61\n",
      "           4   0.765432  0.784810  0.775000        79\n",
      "\n",
      "    accuracy                       0.850163       614\n",
      "   macro avg   0.751477  0.693021  0.703111       614\n",
      "weighted avg   0.838857  0.850163  0.835298       614\n",
      "\n"
     ]
    }
   ],
   "source": [
    "print(classification_report(y_test_dt, preds_teacher_model_fin, digits=6))"
   ]
  },
  {
   "cell_type": "code",
   "execution_count": null,
   "metadata": {
    "id": "TkEJ9sVn_VOf"
   },
   "outputs": [],
   "source": [
    "#student model\n",
    "def get_model_1d_cnn():\n",
    "    nclass = 5\n",
    "    inp = Input(shape=(3000, 1))\n",
    "    img_1 = Conv1D(4, kernel_size=6, activation=activations.relu, strides=1, padding=\"valid\")(inp)\n",
    "    #img_1 = Conv1D(128, kernel_size=5, activation=activations.relu, strides=1, padding=\"valid\")(img_1)\n",
    "    img_1 = MaxPooling1D(pool_size=2)(img_1)\n",
    "    #img_1 = SpatialDropout1D(rate=0.2)(img_1)\n",
    "    img_1 = Conv1D(4, kernel_size=5, activation=activations.relu, strides=1, padding=\"valid\")(img_1)\n",
    "    #img_1 = Conv1D(256, kernel_size=7, activation=activations.relu, strides=1, padding=\"valid\")(img_1)\n",
    "    img_1 = MaxPooling1D(pool_size=2)(img_1)\n",
    "    #img_1 = SpatialDropout1D(rate=0.01)(img_1)\n",
    "    img_1 = Conv1D(10, kernel_size=4, activation=activations.relu, strides=1, padding=\"valid\")(img_1)\n",
    "    #img_1 = Conv1D(64, kernel_size=4, activation=activations.relu, strides=1, padding=\"valid\")(img_1)\n",
    "    img_1 = MaxPooling1D(pool_size=2)(img_1)\n",
    "    #img_1 = SpatialDropout1D(rate=0.01)(img_1)\n",
    "    img_1 = Conv1D(10, kernel_size=4, activation=activations.relu, strides=1, padding=\"valid\")(img_1)\n",
    "    img_1 = MaxPooling1D(pool_size=2)(img_1)\n",
    "    #img_1 = Conv1D(64, kernel_size=6, activation=activations.relu, strides=1, padding=\"valid\")(img_1)\n",
    "    #img_1 = MaxPooling1D(pool_size=2)(img_1)\n",
    "    img_1 = Flatten()(img_1)\n",
    "\n",
    "    \n",
    "    dense_1 = Dropout(rate=0.5)(img_1)\n",
    "    #dense_1 = Dropout(rate=0.05)(Dense(64, activation=activations.relu, name=\"dense_2\")(dense_1))\n",
    "    dense_1 = Dense(nclass, activation=activations.softmax)(dense_1)\n",
    "\n",
    "    model = Model(inputs=inp, outputs=dense_1)\n",
    "    opt = Adam(0.001)\n",
    "\n",
    "    model.compile(optimizer=opt, loss='categorical_crossentropy', metrics=['acc'])\n",
    "    model.summary()\n",
    "    return model"
   ]
  },
  {
   "cell_type": "code",
   "execution_count": null,
   "metadata": {
    "colab": {
     "base_uri": "https://localhost:8080/"
    },
    "id": "3J4RBEGN_ZiJ",
    "outputId": "e2050472-4145-4ae4-ed62-578cec16239f"
   },
   "outputs": [
    {
     "name": "stdout",
     "output_type": "stream",
     "text": [
      "Model: \"model_1\"\n",
      "_________________________________________________________________\n",
      " Layer (type)                Output Shape              Param #   \n",
      "=================================================================\n",
      " input_1 (InputLayer)        [(None, 3000, 1)]         0         \n",
      "                                                                 \n",
      " conv1d (Conv1D)             (None, 2995, 4)           28        \n",
      "                                                                 \n",
      " max_pooling1d (MaxPooling1D  (None, 1497, 4)          0         \n",
      " )                                                               \n",
      "                                                                 \n",
      " conv1d_1 (Conv1D)           (None, 1493, 4)           84        \n",
      "                                                                 \n",
      " max_pooling1d_1 (MaxPooling  (None, 746, 4)           0         \n",
      " 1D)                                                             \n",
      "                                                                 \n",
      " conv1d_2 (Conv1D)           (None, 743, 10)           170       \n",
      "                                                                 \n",
      " max_pooling1d_2 (MaxPooling  (None, 371, 10)          0         \n",
      " 1D)                                                             \n",
      "                                                                 \n",
      " conv1d_3 (Conv1D)           (None, 368, 10)           410       \n",
      "                                                                 \n",
      " max_pooling1d_3 (MaxPooling  (None, 184, 10)          0         \n",
      " 1D)                                                             \n",
      "                                                                 \n",
      " flatten (Flatten)           (None, 1840)              0         \n",
      "                                                                 \n",
      " dropout (Dropout)           (None, 1840)              0         \n",
      "                                                                 \n",
      " dense (Dense)               (None, 5)                 9205      \n",
      "                                                                 \n",
      "=================================================================\n",
      "Total params: 9,897\n",
      "Trainable params: 9,897\n",
      "Non-trainable params: 0\n",
      "_________________________________________________________________\n"
     ]
    }
   ],
   "source": [
    "#student_model=get_model_cnn()\n",
    "student_model=get_model_1d_cnn()"
   ]
  },
  {
   "cell_type": "code",
   "execution_count": null,
   "metadata": {
    "id": "G0sX0Geo_dX6"
   },
   "outputs": [],
   "source": [
    "class Distiller(keras.Model):\n",
    "    def __init__(self, student, teacher):\n",
    "        super(Distiller, self).__init__()\n",
    "        self.teacher = teacher\n",
    "        self.student = student\n",
    "\n",
    "    def compile(\n",
    "        self,\n",
    "        optimizer,\n",
    "        metrics,\n",
    "        student_loss_fn,\n",
    "        distillation_loss_fn,\n",
    "        alpha=0.1,\n",
    "        temperature=3,\n",
    "    ):\n",
    "        \"\"\" Configure the distiller.\n",
    "\n",
    "        Args:\n",
    "            optimizer: Keras optimizer for the student weights\n",
    "            metrics: Keras metrics for evaluation\n",
    "            student_loss_fn: Loss function of difference between student\n",
    "                predictions and ground-truth\n",
    "            distillation_loss_fn: Loss function of difference between soft\n",
    "                student predictions and soft teacher predictions\n",
    "            alpha: weight to student_loss_fn and 1-alpha to distillation_loss_fn\n",
    "            temperature: Temperature for softening probability distributions.\n",
    "                Larger temperature gives softer distributions.\n",
    "        \"\"\"\n",
    "        super(Distiller, self).compile(optimizer=optimizer, metrics=metrics)\n",
    "        self.student_loss_fn = student_loss_fn\n",
    "        self.distillation_loss_fn = distillation_loss_fn\n",
    "        self.alpha = alpha\n",
    "        self.temperature = temperature\n",
    "\n",
    "    def train_step(self, data):\n",
    "        # Unpack data\n",
    "        x, y = data\n",
    "\n",
    "        # Forward pass of teacher\n",
    "        teacher_predictions = self.teacher(x, training=False)\n",
    "\n",
    "        with tf.GradientTape() as tape:\n",
    "            # Forward pass of student\n",
    "            student_predictions = self.student(x, training=True)\n",
    "\n",
    "            # Compute losses\n",
    "            student_loss = self.student_loss_fn(y, student_predictions)\n",
    "            distillation_loss = self.distillation_loss_fn(\n",
    "                tf.nn.softmax(teacher_predictions / self.temperature, axis=1),\n",
    "                tf.nn.softmax(student_predictions / self.temperature, axis=1),\n",
    "            )\n",
    "            loss = self.alpha * student_loss + (1 - self.alpha) * distillation_loss\n",
    "\n",
    "        # Compute gradients\n",
    "        trainable_vars = self.student.trainable_variables\n",
    "        gradients = tape.gradient(loss, trainable_vars)\n",
    "\n",
    "        # Update weights\n",
    "        self.optimizer.apply_gradients(zip(gradients, trainable_vars))\n",
    "\n",
    "        # Update the metrics configured in `compile()`.\n",
    "        self.compiled_metrics.update_state(y, student_predictions)\n",
    "\n",
    "        # Return a dict of performance\n",
    "        results = {m.name: m.result() for m in self.metrics}\n",
    "        results.update(\n",
    "            {\"student_loss\": student_loss, \"distillation_loss\": distillation_loss}\n",
    "        )\n",
    "        return results\n",
    "\n",
    "    def test_step(self, data):\n",
    "        # Unpack the data\n",
    "        x, y = data\n",
    "\n",
    "        # Compute predictions\n",
    "        y_prediction = self.student(x, training=False)\n",
    "\n",
    "        # Calculate the loss\n",
    "        student_loss = self.student_loss_fn(y, y_prediction)\n",
    "\n",
    "        # Update the metrics.\n",
    "        self.compiled_metrics.update_state(y, y_prediction)\n",
    "\n",
    "        # Return a dict of performance\n",
    "        results = {m.name: m.result() for m in self.metrics}\n",
    "        results.update({\"student_loss\": student_loss})\n",
    "        return results\n"
   ]
  },
  {
   "cell_type": "code",
   "execution_count": null,
   "metadata": {
    "id": "0Ib38_K-AcPO"
   },
   "outputs": [],
   "source": [
    "import tensorflow as tf\n",
    "from tensorflow import keras\n",
    "from tensorflow.keras import layers\n",
    "import numpy as np\n"
   ]
  },
  {
   "cell_type": "code",
   "execution_count": null,
   "metadata": {
    "colab": {
     "base_uri": "https://localhost:8080/"
    },
    "id": "ERK-_WZyAg6M",
    "outputId": "8471ca6f-9b77-4190-9732-726e462bf1bc"
   },
   "outputs": [
    {
     "name": "stdout",
     "output_type": "stream",
     "text": [
      "Epoch 1/70\n",
      "3725/3725 [==============================] - 33s 8ms/step - categorical_accuracy: 0.7003 - student_loss: 0.7316 - distillation_loss: 0.0016\n",
      "Epoch 2/70\n",
      "3725/3725 [==============================] - 29s 8ms/step - categorical_accuracy: 0.7681 - student_loss: 0.5597 - distillation_loss: 0.0012\n",
      "Epoch 3/70\n",
      "3725/3725 [==============================] - 28s 8ms/step - categorical_accuracy: 0.7840 - student_loss: 0.5226 - distillation_loss: 0.0012\n",
      "Epoch 4/70\n",
      "3725/3725 [==============================] - 29s 8ms/step - categorical_accuracy: 0.7941 - student_loss: 0.5018 - distillation_loss: 0.0011\n",
      "Epoch 5/70\n",
      "3725/3725 [==============================] - 28s 8ms/step - categorical_accuracy: 0.7989 - student_loss: 0.4884 - distillation_loss: 0.0011\n",
      "Epoch 6/70\n",
      "3725/3725 [==============================] - 29s 8ms/step - categorical_accuracy: 0.8046 - student_loss: 0.4744 - distillation_loss: 0.0011\n",
      "Epoch 7/70\n",
      "3725/3725 [==============================] - 28s 8ms/step - categorical_accuracy: 0.8089 - student_loss: 0.4670 - distillation_loss: 0.0010\n",
      "Epoch 8/70\n",
      "3725/3725 [==============================] - 29s 8ms/step - categorical_accuracy: 0.8134 - student_loss: 0.4545 - distillation_loss: 0.0010\n",
      "Epoch 9/70\n",
      "3725/3725 [==============================] - 29s 8ms/step - categorical_accuracy: 0.8193 - student_loss: 0.4434 - distillation_loss: 9.8709e-04\n",
      "Epoch 10/70\n",
      "3725/3725 [==============================] - 29s 8ms/step - categorical_accuracy: 0.8225 - student_loss: 0.4363 - distillation_loss: 9.7383e-04\n",
      "Epoch 11/70\n",
      "3725/3725 [==============================] - 28s 8ms/step - categorical_accuracy: 0.8262 - student_loss: 0.4294 - distillation_loss: 9.5706e-04\n",
      "Epoch 12/70\n",
      "3725/3725 [==============================] - 29s 8ms/step - categorical_accuracy: 0.8280 - student_loss: 0.4233 - distillation_loss: 9.4271e-04\n",
      "Epoch 13/70\n",
      "3725/3725 [==============================] - 29s 8ms/step - categorical_accuracy: 0.8316 - student_loss: 0.4140 - distillation_loss: 9.2128e-04\n",
      "Epoch 14/70\n",
      "3725/3725 [==============================] - 29s 8ms/step - categorical_accuracy: 0.8362 - student_loss: 0.4077 - distillation_loss: 8.9856e-04\n",
      "Epoch 15/70\n",
      "3725/3725 [==============================] - 29s 8ms/step - categorical_accuracy: 0.8405 - student_loss: 0.3975 - distillation_loss: 8.8111e-04\n",
      "Epoch 16/70\n",
      "3725/3725 [==============================] - 29s 8ms/step - categorical_accuracy: 0.8452 - student_loss: 0.3874 - distillation_loss: 8.5144e-04\n",
      "Epoch 17/70\n",
      "3725/3725 [==============================] - 29s 8ms/step - categorical_accuracy: 0.8480 - student_loss: 0.3791 - distillation_loss: 8.3281e-04\n",
      "Epoch 18/70\n",
      "3725/3725 [==============================] - 29s 8ms/step - categorical_accuracy: 0.8512 - student_loss: 0.3757 - distillation_loss: 8.2193e-04\n",
      "Epoch 19/70\n",
      "3725/3725 [==============================] - 29s 8ms/step - categorical_accuracy: 0.8528 - student_loss: 0.3695 - distillation_loss: 8.1218e-04\n",
      "Epoch 20/70\n",
      "3725/3725 [==============================] - 29s 8ms/step - categorical_accuracy: 0.8558 - student_loss: 0.3640 - distillation_loss: 7.9780e-04\n",
      "Epoch 21/70\n",
      "3725/3725 [==============================] - 29s 8ms/step - categorical_accuracy: 0.8559 - student_loss: 0.3629 - distillation_loss: 7.9144e-04\n",
      "Epoch 22/70\n",
      "3725/3725 [==============================] - 30s 8ms/step - categorical_accuracy: 0.8575 - student_loss: 0.3606 - distillation_loss: 7.8647e-04\n",
      "Epoch 23/70\n",
      "3725/3725 [==============================] - 30s 8ms/step - categorical_accuracy: 0.8580 - student_loss: 0.3567 - distillation_loss: 7.8279e-04\n",
      "Epoch 24/70\n",
      "3725/3725 [==============================] - 31s 8ms/step - categorical_accuracy: 0.8592 - student_loss: 0.3549 - distillation_loss: 7.7649e-04\n",
      "Epoch 25/70\n",
      "3725/3725 [==============================] - 30s 8ms/step - categorical_accuracy: 0.8615 - student_loss: 0.3514 - distillation_loss: 7.6784e-04\n",
      "Epoch 26/70\n",
      "3725/3725 [==============================] - 30s 8ms/step - categorical_accuracy: 0.8603 - student_loss: 0.3518 - distillation_loss: 7.7074e-04\n",
      "Epoch 27/70\n",
      "3725/3725 [==============================] - 29s 8ms/step - categorical_accuracy: 0.8616 - student_loss: 0.3494 - distillation_loss: 7.6399e-04\n",
      "Epoch 28/70\n",
      "3725/3725 [==============================] - 29s 8ms/step - categorical_accuracy: 0.8615 - student_loss: 0.3496 - distillation_loss: 7.6461e-04\n",
      "Epoch 29/70\n",
      "3725/3725 [==============================] - 29s 8ms/step - categorical_accuracy: 0.8632 - student_loss: 0.3462 - distillation_loss: 7.5793e-04\n",
      "Epoch 30/70\n",
      "3725/3725 [==============================] - 29s 8ms/step - categorical_accuracy: 0.8631 - student_loss: 0.3450 - distillation_loss: 7.5497e-04\n",
      "Epoch 31/70\n",
      "3725/3725 [==============================] - 29s 8ms/step - categorical_accuracy: 0.8635 - student_loss: 0.3435 - distillation_loss: 7.5338e-04\n",
      "Epoch 32/70\n",
      "3725/3725 [==============================] - 28s 8ms/step - categorical_accuracy: 0.8638 - student_loss: 0.3430 - distillation_loss: 7.5128e-04\n",
      "Epoch 33/70\n",
      "3725/3725 [==============================] - 30s 8ms/step - categorical_accuracy: 0.8641 - student_loss: 0.3408 - distillation_loss: 7.4508e-04\n",
      "Epoch 34/70\n",
      "3725/3725 [==============================] - 29s 8ms/step - categorical_accuracy: 0.8643 - student_loss: 0.3423 - distillation_loss: 7.4846e-04\n",
      "Epoch 35/70\n",
      "3725/3725 [==============================] - 29s 8ms/step - categorical_accuracy: 0.8650 - student_loss: 0.3393 - distillation_loss: 7.4392e-04\n",
      "Epoch 36/70\n",
      "3725/3725 [==============================] - 29s 8ms/step - categorical_accuracy: 0.8661 - student_loss: 0.3380 - distillation_loss: 7.4282e-04\n",
      "Epoch 37/70\n",
      "3725/3725 [==============================] - 30s 8ms/step - categorical_accuracy: 0.8660 - student_loss: 0.3378 - distillation_loss: 7.4065e-04\n",
      "Epoch 38/70\n",
      "3725/3725 [==============================] - 29s 8ms/step - categorical_accuracy: 0.8659 - student_loss: 0.3382 - distillation_loss: 7.4064e-04\n",
      "Epoch 39/70\n",
      "3725/3725 [==============================] - 29s 8ms/step - categorical_accuracy: 0.8667 - student_loss: 0.3374 - distillation_loss: 7.3943e-04\n",
      "Epoch 40/70\n",
      "3725/3725 [==============================] - 29s 8ms/step - categorical_accuracy: 0.8678 - student_loss: 0.3347 - distillation_loss: 7.3327e-04\n",
      "Epoch 41/70\n",
      "3725/3725 [==============================] - 29s 8ms/step - categorical_accuracy: 0.8686 - student_loss: 0.3337 - distillation_loss: 7.3129e-04\n",
      "Epoch 42/70\n",
      "3725/3725 [==============================] - 29s 8ms/step - categorical_accuracy: 0.8685 - student_loss: 0.3335 - distillation_loss: 7.3232e-04\n",
      "Epoch 43/70\n",
      "3725/3725 [==============================] - 29s 8ms/step - categorical_accuracy: 0.8679 - student_loss: 0.3338 - distillation_loss: 7.3017e-04\n",
      "Epoch 44/70\n",
      "3725/3725 [==============================] - 29s 8ms/step - categorical_accuracy: 0.8684 - student_loss: 0.3337 - distillation_loss: 7.2825e-04\n",
      "Epoch 45/70\n",
      "3725/3725 [==============================] - 29s 8ms/step - categorical_accuracy: 0.8681 - student_loss: 0.3329 - distillation_loss: 7.2725e-04\n",
      "Epoch 46/70\n",
      "3725/3725 [==============================] - 29s 8ms/step - categorical_accuracy: 0.8688 - student_loss: 0.3311 - distillation_loss: 7.2816e-04\n",
      "Epoch 47/70\n",
      "3725/3725 [==============================] - 29s 8ms/step - categorical_accuracy: 0.8705 - student_loss: 0.3300 - distillation_loss: 7.2121e-04\n",
      "Epoch 48/70\n",
      "3725/3725 [==============================] - 29s 8ms/step - categorical_accuracy: 0.8701 - student_loss: 0.3306 - distillation_loss: 7.2247e-04\n",
      "Epoch 49/70\n",
      "3725/3725 [==============================] - 29s 8ms/step - categorical_accuracy: 0.8692 - student_loss: 0.3286 - distillation_loss: 7.2017e-04\n",
      "Epoch 50/70\n",
      "3725/3725 [==============================] - 29s 8ms/step - categorical_accuracy: 0.8702 - student_loss: 0.3291 - distillation_loss: 7.2207e-04\n",
      "Epoch 51/70\n",
      "3725/3725 [==============================] - 29s 8ms/step - categorical_accuracy: 0.8695 - student_loss: 0.3291 - distillation_loss: 7.2220e-04\n",
      "Epoch 52/70\n",
      "3725/3725 [==============================] - 29s 8ms/step - categorical_accuracy: 0.8700 - student_loss: 0.3293 - distillation_loss: 7.2037e-04\n",
      "Epoch 53/70\n",
      "3725/3725 [==============================] - 29s 8ms/step - categorical_accuracy: 0.8702 - student_loss: 0.3296 - distillation_loss: 7.2084e-04\n",
      "Epoch 54/70\n",
      "3725/3725 [==============================] - 29s 8ms/step - categorical_accuracy: 0.8710 - student_loss: 0.3284 - distillation_loss: 7.2026e-04\n",
      "Epoch 55/70\n",
      "3725/3725 [==============================] - 29s 8ms/step - categorical_accuracy: 0.8709 - student_loss: 0.3250 - distillation_loss: 7.1605e-04\n",
      "Epoch 56/70\n",
      "3725/3725 [==============================] - 29s 8ms/step - categorical_accuracy: 0.8706 - student_loss: 0.3293 - distillation_loss: 7.2063e-04\n",
      "Epoch 57/70\n",
      "3725/3725 [==============================] - 29s 8ms/step - categorical_accuracy: 0.8718 - student_loss: 0.3249 - distillation_loss: 7.1425e-04\n",
      "Epoch 58/70\n",
      "3725/3725 [==============================] - 29s 8ms/step - categorical_accuracy: 0.8697 - student_loss: 0.3281 - distillation_loss: 7.1952e-04\n",
      "Epoch 59/70\n",
      "3725/3725 [==============================] - 29s 8ms/step - categorical_accuracy: 0.8706 - student_loss: 0.3274 - distillation_loss: 7.1762e-04\n",
      "Epoch 60/70\n",
      "3725/3725 [==============================] - 29s 8ms/step - categorical_accuracy: 0.8711 - student_loss: 0.3263 - distillation_loss: 7.1678e-04\n",
      "Epoch 61/70\n",
      "3725/3725 [==============================] - 29s 8ms/step - categorical_accuracy: 0.8715 - student_loss: 0.3255 - distillation_loss: 7.1382e-04\n",
      "Epoch 62/70\n",
      "3725/3725 [==============================] - 29s 8ms/step - categorical_accuracy: 0.8713 - student_loss: 0.3257 - distillation_loss: 7.1359e-04\n",
      "Epoch 63/70\n",
      "3725/3725 [==============================] - 29s 8ms/step - categorical_accuracy: 0.8725 - student_loss: 0.3250 - distillation_loss: 7.1252e-04\n",
      "Epoch 64/70\n",
      "3725/3725 [==============================] - 29s 8ms/step - categorical_accuracy: 0.8719 - student_loss: 0.3248 - distillation_loss: 7.1345e-04\n",
      "Epoch 65/70\n",
      "3725/3725 [==============================] - 29s 8ms/step - categorical_accuracy: 0.8714 - student_loss: 0.3254 - distillation_loss: 7.1328e-04\n",
      "Epoch 66/70\n",
      "3725/3725 [==============================] - 29s 8ms/step - categorical_accuracy: 0.8721 - student_loss: 0.3256 - distillation_loss: 7.1466e-04\n",
      "Epoch 67/70\n",
      "3725/3725 [==============================] - 29s 8ms/step - categorical_accuracy: 0.8725 - student_loss: 0.3241 - distillation_loss: 7.1351e-04\n",
      "Epoch 68/70\n",
      "3725/3725 [==============================] - 29s 8ms/step - categorical_accuracy: 0.8731 - student_loss: 0.3231 - distillation_loss: 7.0693e-04\n",
      "Epoch 69/70\n",
      "3725/3725 [==============================] - 29s 8ms/step - categorical_accuracy: 0.8731 - student_loss: 0.3238 - distillation_loss: 7.1006e-04\n",
      "Epoch 70/70\n",
      "3725/3725 [==============================] - 29s 8ms/step - categorical_accuracy: 0.8720 - student_loss: 0.3240 - distillation_loss: 7.1241e-04\n"
     ]
    },
    {
     "data": {
      "text/plain": [
       "<keras.callbacks.History at 0x7fde186d3c10>"
      ]
     },
     "execution_count": 41,
     "metadata": {},
     "output_type": "execute_result"
    }
   ],
   "source": [
    "# Initialize and compile distiller\n",
    "distiller = Distiller(student=student_model, teacher=teacher_model)\n",
    "distiller.compile(\n",
    "    optimizer=keras.optimizers.Adam(),\n",
    "    metrics=[keras.metrics.CategoricalAccuracy()],\n",
    "    student_loss_fn=keras.losses.CategoricalCrossentropy(from_logits=True),\n",
    "    distillation_loss_fn=keras.losses.KLDivergence(),\n",
    "    alpha=0.9,\n",
    "    temperature=5,\n",
    ")\n",
    "\n",
    "# Distill teacher to student\n",
    "distiller.fit(x_dt_rshp, y_dt_, epochs=70)\n",
    "\n",
    "# Evaluate student on test dataset\n",
    "#distiller.evaluate(x_test, y_test)"
   ]
  },
  {
   "cell_type": "code",
   "execution_count": null,
   "metadata": {
    "colab": {
     "base_uri": "https://localhost:8080/"
    },
    "id": "Lsdid47DA73P",
    "outputId": "23ecb16e-9287-46d7-ee94-3ae943ec8fd3"
   },
   "outputs": [
    {
     "name": "stdout",
     "output_type": "stream",
     "text": [
      "20/20 [==============================] - 0s 3ms/step - categorical_accuracy: 0.8404 - student_loss: 0.7854\n"
     ]
    }
   ],
   "source": [
    "accuracy_distiller = distiller.evaluate(x_test_dt_rshp, y_test_dt_)"
   ]
  },
  {
   "cell_type": "code",
   "execution_count": null,
   "metadata": {
    "id": "2zKucfD-qVia"
   },
   "outputs": [],
   "source": [
    "preds_student_model = student_model.predict(x_test_dt_rshp)"
   ]
  },
  {
   "cell_type": "code",
   "execution_count": null,
   "metadata": {
    "id": "Sf3HHMgYqlwE"
   },
   "outputs": [],
   "source": [
    "preds_student_model_fin=np.argmax(preds_student_model,axis=1)"
   ]
  },
  {
   "cell_type": "code",
   "execution_count": null,
   "metadata": {
    "colab": {
     "base_uri": "https://localhost:8080/"
    },
    "id": "owRRLsNRqufA",
    "outputId": "3f042c4b-54f9-493c-adde-8bead7c9a66d"
   },
   "outputs": [
    {
     "name": "stdout",
     "output_type": "stream",
     "text": [
      "              precision    recall  f1-score   support\n",
      "\n",
      "           0   0.939286  0.952899  0.946043       276\n",
      "           1   0.250000  0.052632  0.086957        38\n",
      "           2   0.728155  0.937500  0.819672       160\n",
      "           3   0.881356  0.852459  0.866667        61\n",
      "           4   0.803279  0.620253  0.700000        79\n",
      "\n",
      "    accuracy                       0.840391       614\n",
      "   macro avg   0.720415  0.683148  0.683868       614\n",
      "weighted avg   0.818354  0.840391  0.820401       614\n",
      "\n"
     ]
    }
   ],
   "source": [
    "print(classification_report(y_test_dt, preds_student_model_fin, digits=6))"
   ]
  },
  {
   "cell_type": "code",
   "execution_count": null,
   "metadata": {
    "colab": {
     "base_uri": "https://localhost:8080/"
    },
    "id": "bpMto-Lv6v9E",
    "outputId": "0ca51499-666f-4add-a6b4-78f96c6c4261"
   },
   "outputs": [
    {
     "data": {
      "text/plain": [
       "array([0.95289855, 0.05263158, 0.9375    , 0.85245902, 0.62025316])"
      ]
     },
     "execution_count": 46,
     "metadata": {},
     "output_type": "execute_result"
    }
   ],
   "source": [
    "from sklearn.metrics import confusion_matrix\n",
    "matrix = confusion_matrix(y_test_dt, preds_student_model_fin)\n",
    "matrix.diagonal()/matrix.sum(axis=1)"
   ]
  },
  {
   "cell_type": "code",
   "execution_count": null,
   "metadata": {
    "id": "POVa0zd76wK4"
   },
   "outputs": [],
   "source": [
    "cm = matrix.astype('float') / matrix.sum(axis=1)[:, np.newaxis]"
   ]
  },
  {
   "cell_type": "code",
   "execution_count": null,
   "metadata": {
    "colab": {
     "base_uri": "https://localhost:8080/"
    },
    "id": "YoUAcXG27MYk",
    "outputId": "f186b25f-d342-4085-9d4f-67c9173e86d6"
   },
   "outputs": [
    {
     "data": {
      "text/plain": [
       "array([0.95289855, 0.05263158, 0.9375    , 0.85245902, 0.62025316])"
      ]
     },
     "execution_count": 48,
     "metadata": {},
     "output_type": "execute_result"
    }
   ],
   "source": [
    "cm.diagonal()"
   ]
  },
  {
   "cell_type": "code",
   "execution_count": null,
   "metadata": {
    "id": "SCuDFU5AH7wg"
   },
   "outputs": [],
   "source": [
    "#50 epochs teacher model\n",
    "\n",
    "#alpha=0.9, temp=4\n",
    "\n",
    "#50 epochs: 82.41\n",
    "#60 epochs: 84.53\n",
    "#70 epochs: 84.04\n",
    "\n",
    "#alpha=0.9, temp=5\n",
    "\n",
    "#50 epochs: 81.43\n",
    "#60 epochs: 83.88\n",
    "#70 epochs: \n",
    "\n",
    "#alpha=0.9, temp=3\n",
    "\n",
    "#50 epochs: 83.88\n",
    "#60 epochs: 83.06\n"
   ]
  },
  {
   "cell_type": "markdown",
   "metadata": {
    "id": "EM2a0FxnOKgK"
   },
   "source": [
    "Trying out diff teachers and different students for perspective(the teacher who's epochs had been tuned)"
   ]
  },
  {
   "cell_type": "code",
   "execution_count": null,
   "metadata": {
    "colab": {
     "base_uri": "https://localhost:8080/"
    },
    "id": "j8k30A9iTGt4",
    "outputId": "20fb0158-b35d-4ec3-fac0-24c55265b8f0"
   },
   "outputs": [
    {
     "name": "stdout",
     "output_type": "stream",
     "text": [
      "Model: \"model\"\n",
      "__________________________________________________________________________________________________\n",
      " Layer (type)                   Output Shape         Param #     Connected to                     \n",
      "==================================================================================================\n",
      " inLayer (InputLayer)           [(None, 3000, 1)]    0           []                               \n",
      "                                                                                                  \n",
      " fConv1 (Conv1D)                (None, 500, 64)      3264        ['inLayer[0][0]']                \n",
      "                                                                                                  \n",
      " cConv1 (Conv1D)                (None, 60, 32)       12832       ['inLayer[0][0]']                \n",
      "                                                                                                  \n",
      " fMaxP1 (MaxPooling1D)          (None, 62, 64)       0           ['fConv1[0][0]']                 \n",
      "                                                                                                  \n",
      " cMaxP1 (MaxPooling1D)          (None, 15, 32)       0           ['cConv1[0][0]']                 \n",
      "                                                                                                  \n",
      " fDrop1 (Dropout)               (None, 62, 64)       0           ['fMaxP1[0][0]']                 \n",
      "                                                                                                  \n",
      " cDrop1 (Dropout)               (None, 15, 32)       0           ['cMaxP1[0][0]']                 \n",
      "                                                                                                  \n",
      " fConv2 (Conv1D)                (None, 62, 128)      65664       ['fDrop1[0][0]']                 \n",
      "                                                                                                  \n",
      " cConv2 (Conv1D)                (None, 15, 128)      24704       ['cDrop1[0][0]']                 \n",
      "                                                                                                  \n",
      " fConv3 (Conv1D)                (None, 62, 128)      131200      ['fConv2[0][0]']                 \n",
      "                                                                                                  \n",
      " cConv3 (Conv1D)                (None, 15, 128)      98432       ['cConv2[0][0]']                 \n",
      "                                                                                                  \n",
      " fConv4 (Conv1D)                (None, 62, 128)      131200      ['fConv3[0][0]']                 \n",
      "                                                                                                  \n",
      " cConv4 (Conv1D)                (None, 15, 128)      98432       ['cConv3[0][0]']                 \n",
      "                                                                                                  \n",
      " fMaxP2 (MaxPooling1D)          (None, 15, 128)      0           ['fConv4[0][0]']                 \n",
      "                                                                                                  \n",
      " cMaxP2 (MaxPooling1D)          (None, 7, 128)       0           ['cConv4[0][0]']                 \n",
      "                                                                                                  \n",
      " fFlat1 (Flatten)               (None, 1920)         0           ['fMaxP2[0][0]']                 \n",
      "                                                                                                  \n",
      " cFlat1 (Flatten)               (None, 896)          0           ['cMaxP2[0][0]']                 \n",
      "                                                                                                  \n",
      " merge_1 (Concatenate)          (None, 2816)         0           ['fFlat1[0][0]',                 \n",
      "                                                                  'cFlat1[0][0]']                 \n",
      "                                                                                                  \n",
      " mDrop1 (Dropout)               (None, 2816)         0           ['merge_1[0][0]']                \n",
      "                                                                                                  \n",
      " reshape1 (Reshape)             (None, 1, 2816)      0           ['mDrop1[0][0]']                 \n",
      "                                                                                                  \n",
      " lstm (LSTM)                    (None, 1, 64)        737536      ['reshape1[0][0]']               \n",
      "                                                                                                  \n",
      " lstm_1 (LSTM)                  (None, 64)           33024       ['lstm[0][0]']                   \n",
      "                                                                                                  \n",
      " outLayer (Dense)               (None, 5)            325         ['lstm_1[0][0]']                 \n",
      "                                                                                                  \n",
      "==================================================================================================\n",
      "Total params: 1,336,613\n",
      "Trainable params: 1,336,613\n",
      "Non-trainable params: 0\n",
      "__________________________________________________________________________________________________\n"
     ]
    }
   ],
   "source": [
    "final_teacher_model=model_b(verbose=VBS) #60 epochs teacher model"
   ]
  },
  {
   "cell_type": "code",
   "execution_count": null,
   "metadata": {
    "id": "SBSSDyx6ORzi"
   },
   "outputs": [],
   "source": [
    "final_teacher_model.compile(optimizer=optimizer, loss='categorical_crossentropy', metrics=['accuracy'])"
   ]
  },
  {
   "cell_type": "code",
   "execution_count": null,
   "metadata": {
    "colab": {
     "base_uri": "https://localhost:8080/"
    },
    "id": "tabSL2YMOR1q",
    "outputId": "163deedb-69fc-4b5b-c008-d7fa750c61fb"
   },
   "outputs": [
    {
     "name": "stdout",
     "output_type": "stream",
     "text": [
      "Epoch 1/60\n",
      "3725/3725 [==============================] - 45s 8ms/step - loss: 0.6851 - accuracy: 0.7238\n",
      "Epoch 2/60\n",
      "3725/3725 [==============================] - 29s 8ms/step - loss: 0.4053 - accuracy: 0.8412\n",
      "Epoch 3/60\n",
      "3725/3725 [==============================] - 29s 8ms/step - loss: 0.3292 - accuracy: 0.8688\n",
      "Epoch 4/60\n",
      "3725/3725 [==============================] - 29s 8ms/step - loss: 0.2831 - accuracy: 0.8881\n",
      "Epoch 5/60\n",
      "3725/3725 [==============================] - 29s 8ms/step - loss: 0.2532 - accuracy: 0.9002\n",
      "Epoch 6/60\n",
      "3725/3725 [==============================] - 29s 8ms/step - loss: 0.2305 - accuracy: 0.9087\n",
      "Epoch 7/60\n",
      "3725/3725 [==============================] - 29s 8ms/step - loss: 0.2154 - accuracy: 0.9146\n",
      "Epoch 8/60\n",
      "3725/3725 [==============================] - 29s 8ms/step - loss: 0.1998 - accuracy: 0.9208\n",
      "Epoch 9/60\n",
      "3725/3725 [==============================] - 30s 8ms/step - loss: 0.1895 - accuracy: 0.9250\n",
      "Epoch 10/60\n",
      "3725/3725 [==============================] - 29s 8ms/step - loss: 0.1807 - accuracy: 0.9287\n",
      "Epoch 11/60\n",
      "3725/3725 [==============================] - 29s 8ms/step - loss: 0.1732 - accuracy: 0.9306\n",
      "Epoch 12/60\n",
      "3725/3725 [==============================] - 29s 8ms/step - loss: 0.1649 - accuracy: 0.9347\n",
      "Epoch 13/60\n",
      "3725/3725 [==============================] - 29s 8ms/step - loss: 0.1586 - accuracy: 0.9363\n",
      "Epoch 14/60\n",
      "3725/3725 [==============================] - 29s 8ms/step - loss: 0.1523 - accuracy: 0.9390\n",
      "Epoch 15/60\n",
      "3725/3725 [==============================] - 29s 8ms/step - loss: 0.1484 - accuracy: 0.9406\n",
      "Epoch 16/60\n",
      "3725/3725 [==============================] - 29s 8ms/step - loss: 0.1432 - accuracy: 0.9428\n",
      "Epoch 17/60\n",
      "3725/3725 [==============================] - 29s 8ms/step - loss: 0.1387 - accuracy: 0.9447\n",
      "Epoch 18/60\n",
      "3725/3725 [==============================] - 29s 8ms/step - loss: 0.1335 - accuracy: 0.9468\n",
      "Epoch 19/60\n",
      "3725/3725 [==============================] - 30s 8ms/step - loss: 0.1329 - accuracy: 0.9478\n",
      "Epoch 20/60\n",
      "3725/3725 [==============================] - 29s 8ms/step - loss: 0.1279 - accuracy: 0.9490\n",
      "Epoch 21/60\n",
      "3725/3725 [==============================] - 29s 8ms/step - loss: 0.1253 - accuracy: 0.9511\n",
      "Epoch 22/60\n",
      "3725/3725 [==============================] - 29s 8ms/step - loss: 0.1219 - accuracy: 0.9521\n",
      "Epoch 23/60\n",
      "3725/3725 [==============================] - 29s 8ms/step - loss: 0.1197 - accuracy: 0.9533\n",
      "Epoch 24/60\n",
      "3725/3725 [==============================] - 29s 8ms/step - loss: 0.1193 - accuracy: 0.9533\n",
      "Epoch 25/60\n",
      "3725/3725 [==============================] - 29s 8ms/step - loss: 0.1137 - accuracy: 0.9556\n",
      "Epoch 26/60\n",
      "3725/3725 [==============================] - 29s 8ms/step - loss: 0.1104 - accuracy: 0.9563\n",
      "Epoch 27/60\n",
      "3725/3725 [==============================] - 28s 8ms/step - loss: 0.1084 - accuracy: 0.9572\n",
      "Epoch 28/60\n",
      "3725/3725 [==============================] - 28s 8ms/step - loss: 0.1081 - accuracy: 0.9575\n",
      "Epoch 29/60\n",
      "3725/3725 [==============================] - 28s 8ms/step - loss: 0.1060 - accuracy: 0.9591\n",
      "Epoch 30/60\n",
      "3725/3725 [==============================] - 29s 8ms/step - loss: 0.1023 - accuracy: 0.9601\n",
      "Epoch 31/60\n",
      "3725/3725 [==============================] - 29s 8ms/step - loss: 0.1016 - accuracy: 0.9603\n",
      "Epoch 32/60\n",
      "3725/3725 [==============================] - 29s 8ms/step - loss: 0.0976 - accuracy: 0.9621\n",
      "Epoch 33/60\n",
      "3725/3725 [==============================] - 29s 8ms/step - loss: 0.0974 - accuracy: 0.9617\n",
      "Epoch 34/60\n",
      "3725/3725 [==============================] - 29s 8ms/step - loss: 0.0968 - accuracy: 0.9623\n",
      "Epoch 35/60\n",
      "3725/3725 [==============================] - 28s 8ms/step - loss: 0.0936 - accuracy: 0.9639\n",
      "Epoch 36/60\n",
      "3725/3725 [==============================] - 28s 8ms/step - loss: 0.0922 - accuracy: 0.9644\n",
      "Epoch 37/60\n",
      "3725/3725 [==============================] - 28s 8ms/step - loss: 0.0915 - accuracy: 0.9649\n",
      "Epoch 38/60\n",
      "3725/3725 [==============================] - 29s 8ms/step - loss: 0.0877 - accuracy: 0.9668\n",
      "Epoch 39/60\n",
      "3725/3725 [==============================] - 29s 8ms/step - loss: 0.0882 - accuracy: 0.9663\n",
      "Epoch 40/60\n",
      "3725/3725 [==============================] - 28s 8ms/step - loss: 0.0877 - accuracy: 0.9663\n",
      "Epoch 41/60\n",
      "3725/3725 [==============================] - 29s 8ms/step - loss: 0.0849 - accuracy: 0.9666\n",
      "Epoch 42/60\n",
      "3725/3725 [==============================] - 28s 8ms/step - loss: 0.0829 - accuracy: 0.9684\n",
      "Epoch 43/60\n",
      "3725/3725 [==============================] - 29s 8ms/step - loss: 0.0825 - accuracy: 0.9684\n",
      "Epoch 44/60\n",
      "3725/3725 [==============================] - 29s 8ms/step - loss: 0.0818 - accuracy: 0.9687\n",
      "Epoch 45/60\n",
      "3725/3725 [==============================] - 29s 8ms/step - loss: 0.0800 - accuracy: 0.9693\n",
      "Epoch 46/60\n",
      "3725/3725 [==============================] - 28s 8ms/step - loss: 0.0788 - accuracy: 0.9703\n",
      "Epoch 47/60\n",
      "3725/3725 [==============================] - 29s 8ms/step - loss: 0.0768 - accuracy: 0.9702\n",
      "Epoch 48/60\n",
      "3725/3725 [==============================] - 29s 8ms/step - loss: 0.0755 - accuracy: 0.9710\n",
      "Epoch 49/60\n",
      "3725/3725 [==============================] - 29s 8ms/step - loss: 0.0758 - accuracy: 0.9714\n",
      "Epoch 50/60\n",
      "3725/3725 [==============================] - 28s 8ms/step - loss: 0.0730 - accuracy: 0.9717\n",
      "Epoch 51/60\n",
      "3725/3725 [==============================] - 28s 8ms/step - loss: 0.0734 - accuracy: 0.9717\n",
      "Epoch 52/60\n",
      "3725/3725 [==============================] - 29s 8ms/step - loss: 0.0710 - accuracy: 0.9739\n",
      "Epoch 53/60\n",
      "3725/3725 [==============================] - 29s 8ms/step - loss: 0.0706 - accuracy: 0.9735\n",
      "Epoch 54/60\n",
      "3725/3725 [==============================] - 29s 8ms/step - loss: 0.0694 - accuracy: 0.9737\n",
      "Epoch 55/60\n",
      "3725/3725 [==============================] - 29s 8ms/step - loss: 0.0679 - accuracy: 0.9741\n",
      "Epoch 56/60\n",
      "3725/3725 [==============================] - 29s 8ms/step - loss: 0.0679 - accuracy: 0.9739\n",
      "Epoch 57/60\n",
      "3725/3725 [==============================] - 29s 8ms/step - loss: 0.0659 - accuracy: 0.9750\n",
      "Epoch 58/60\n",
      "3725/3725 [==============================] - 29s 8ms/step - loss: 0.0643 - accuracy: 0.9754\n",
      "Epoch 59/60\n",
      "3725/3725 [==============================] - 29s 8ms/step - loss: 0.0640 - accuracy: 0.9758\n",
      "Epoch 60/60\n",
      "3725/3725 [==============================] - 28s 8ms/step - loss: 0.0633 - accuracy: 0.9759\n"
     ]
    },
    {
     "data": {
      "text/plain": [
       "<keras.callbacks.History at 0x7f52ca178f50>"
      ]
     },
     "execution_count": 33,
     "metadata": {},
     "output_type": "execute_result"
    }
   ],
   "source": [
    "final_teacher_model.fit(x_dt_rshp, y_dt_, epochs=60)"
   ]
  },
  {
   "cell_type": "code",
   "execution_count": null,
   "metadata": {
    "colab": {
     "base_uri": "https://localhost:8080/"
    },
    "id": "TUAOgY8QOR3w",
    "outputId": "d014c4c0-eaae-42f4-bb98-f07749784f01"
   },
   "outputs": [
    {
     "name": "stdout",
     "output_type": "stream",
     "text": [
      "20/20 [==============================] - 1s 5ms/step - loss: 0.9913 - accuracy: 0.8502\n"
     ]
    }
   ],
   "source": [
    "accuracy_final_teacher_model = final_teacher_model.evaluate(x_test_dt_rshp, y_test_dt_)"
   ]
  },
  {
   "cell_type": "code",
   "execution_count": null,
   "metadata": {
    "id": "S4RUsethOR56"
   },
   "outputs": [],
   "source": [
    "preds_final_teacher_model = final_teacher_model.predict(x_test_dt_rshp)"
   ]
  },
  {
   "cell_type": "code",
   "execution_count": null,
   "metadata": {
    "id": "c8-ibYOeOR8i"
   },
   "outputs": [],
   "source": [
    "preds_final_teacher_model_fin=np.argmax(preds_final_teacher_model,axis=1)"
   ]
  },
  {
   "cell_type": "code",
   "execution_count": null,
   "metadata": {
    "colab": {
     "base_uri": "https://localhost:8080/"
    },
    "id": "DXxTXrZqOR-w",
    "outputId": "89517fdd-97bf-45e1-9de7-35f8149ef61c"
   },
   "outputs": [
    {
     "data": {
      "text/plain": [
       "array([0.94202899, 0.18421053, 0.95      , 0.67213115, 0.78481013])"
      ]
     },
     "execution_count": 37,
     "metadata": {},
     "output_type": "execute_result"
    }
   ],
   "source": [
    "from sklearn.metrics import confusion_matrix\n",
    "matrix_final_teacher = confusion_matrix(y_test_dt, preds_final_teacher_model_fin)\n",
    "matrix_final_teacher.diagonal()/matrix_final_teacher.sum(axis=1)"
   ]
  },
  {
   "cell_type": "code",
   "execution_count": null,
   "metadata": {
    "colab": {
     "base_uri": "https://localhost:8080/"
    },
    "id": "UO6xVB_VOSA9",
    "outputId": "9f3ac2ff-7403-402a-9fdf-85968862696b"
   },
   "outputs": [
    {
     "name": "stdout",
     "output_type": "stream",
     "text": [
      "Precision: 0.7645464077284243\n",
      "Recall: 0.7066361571892597\n",
      "F1 score: 0.7224304917801438\n",
      "              precision    recall  f1-score   support\n",
      "\n",
      "           0   0.962963  0.942029  0.952381       276\n",
      "           1   0.350000  0.184211  0.241379        38\n",
      "           2   0.748768  0.950000  0.837466       160\n",
      "           3   0.976190  0.672131  0.796117        61\n",
      "           4   0.784810  0.784810  0.784810        79\n",
      "\n",
      "    accuracy                       0.850163       614\n",
      "   macro avg   0.764546  0.706636  0.722430       614\n",
      "weighted avg   0.847603  0.850163  0.841347       614\n",
      "\n"
     ]
    }
   ],
   "source": [
    "#y_sub_dt\n",
    "from sklearn.metrics import precision_score, recall_score\n",
    "f1_final_teacher = f1_score(y_test_dt, preds_final_teacher_model_fin, average=\"macro\")\n",
    "prec_final_teacher = precision_score(y_test_dt, preds_final_teacher_model_fin, average=\"macro\")\n",
    "recall_final_teacher = recall_score(y_test_dt, preds_final_teacher_model_fin, average=\"macro\")\n",
    "if VBS:\n",
    "    print(\"Precision: {}\".format(prec_final_teacher)) \n",
    "    print(\"Recall: {}\".format(recall_final_teacher))\n",
    "    print(\"F1 score: {}\".format(f1_final_teacher))\n",
    "\n",
    "    report_final_teacher = classification_report(y_test_dt, preds_final_teacher_model_fin, digits=6)\n",
    "    print(report_final_teacher)"
   ]
  },
  {
   "cell_type": "code",
   "execution_count": null,
   "metadata": {
    "id": "ZbbN_3Z9OSC6"
   },
   "outputs": [],
   "source": [
    "#student model\n",
    "def get_model_1d_cnn():\n",
    "    nclass = 5\n",
    "    inp = Input(shape=(3000, 1))\n",
    "    img_1 = Conv1D(4, kernel_size=6, activation=activations.relu, strides=1, padding=\"valid\")(inp)\n",
    "    #img_1 = Conv1D(128, kernel_size=5, activation=activations.relu, strides=1, padding=\"valid\")(img_1)\n",
    "    img_1 = MaxPooling1D(pool_size=2)(img_1)\n",
    "    #img_1 = SpatialDropout1D(rate=0.2)(img_1)\n",
    "    img_1 = Conv1D(4, kernel_size=5, activation=activations.relu, strides=1, padding=\"valid\")(img_1)\n",
    "    #img_1 = Conv1D(256, kernel_size=7, activation=activations.relu, strides=1, padding=\"valid\")(img_1)\n",
    "    img_1 = MaxPooling1D(pool_size=2)(img_1)\n",
    "    #img_1 = SpatialDropout1D(rate=0.01)(img_1)\n",
    "    img_1 = Conv1D(10, kernel_size=4, activation=activations.relu, strides=1, padding=\"valid\")(img_1)\n",
    "    #img_1 = Conv1D(64, kernel_size=4, activation=activations.relu, strides=1, padding=\"valid\")(img_1)\n",
    "    img_1 = MaxPooling1D(pool_size=2)(img_1)\n",
    "    #img_1 = SpatialDropout1D(rate=0.01)(img_1)\n",
    "    img_1 = Conv1D(10, kernel_size=4, activation=activations.relu, strides=1, padding=\"valid\")(img_1)\n",
    "    img_1 = MaxPooling1D(pool_size=2)(img_1)\n",
    "    #img_1 = Conv1D(64, kernel_size=6, activation=activations.relu, strides=1, padding=\"valid\")(img_1)\n",
    "    #img_1 = MaxPooling1D(pool_size=2)(img_1)\n",
    "    img_1 = Flatten()(img_1)\n",
    "\n",
    "    \n",
    "    dense_1 = Dropout(rate=0.5)(img_1)\n",
    "    #dense_1 = Dropout(rate=0.05)(Dense(64, activation=activations.relu, name=\"dense_2\")(dense_1))\n",
    "    dense_1 = Dense(nclass, activation=activations.softmax)(dense_1)\n",
    "\n",
    "    model = Model(inputs=inp, outputs=dense_1)\n",
    "    opt = Adam(0.001)\n",
    "\n",
    "    model.compile(optimizer=opt, loss='categorical_crossentropy', metrics=['acc'])\n",
    "    model.summary()\n",
    "    return model"
   ]
  },
  {
   "cell_type": "code",
   "execution_count": null,
   "metadata": {
    "colab": {
     "base_uri": "https://localhost:8080/"
    },
    "id": "O8GedjGiOSFe",
    "outputId": "91c4103a-9541-4a50-9859-25817bd064b1"
   },
   "outputs": [
    {
     "name": "stdout",
     "output_type": "stream",
     "text": [
      "Model: \"model_1\"\n",
      "_________________________________________________________________\n",
      " Layer (type)                Output Shape              Param #   \n",
      "=================================================================\n",
      " input_1 (InputLayer)        [(None, 3000, 1)]         0         \n",
      "                                                                 \n",
      " conv1d (Conv1D)             (None, 2995, 4)           28        \n",
      "                                                                 \n",
      " max_pooling1d (MaxPooling1D  (None, 1497, 4)          0         \n",
      " )                                                               \n",
      "                                                                 \n",
      " conv1d_1 (Conv1D)           (None, 1493, 4)           84        \n",
      "                                                                 \n",
      " max_pooling1d_1 (MaxPooling  (None, 746, 4)           0         \n",
      " 1D)                                                             \n",
      "                                                                 \n",
      " conv1d_2 (Conv1D)           (None, 743, 10)           170       \n",
      "                                                                 \n",
      " max_pooling1d_2 (MaxPooling  (None, 371, 10)          0         \n",
      " 1D)                                                             \n",
      "                                                                 \n",
      " conv1d_3 (Conv1D)           (None, 368, 10)           410       \n",
      "                                                                 \n",
      " max_pooling1d_3 (MaxPooling  (None, 184, 10)          0         \n",
      " 1D)                                                             \n",
      "                                                                 \n",
      " flatten (Flatten)           (None, 1840)              0         \n",
      "                                                                 \n",
      " dropout (Dropout)           (None, 1840)              0         \n",
      "                                                                 \n",
      " dense (Dense)               (None, 5)                 9205      \n",
      "                                                                 \n",
      "=================================================================\n",
      "Total params: 9,897\n",
      "Trainable params: 9,897\n",
      "Non-trainable params: 0\n",
      "_________________________________________________________________\n"
     ]
    }
   ],
   "source": [
    "#student_model=get_model_cnn()\n",
    "final_student_model=get_model_1d_cnn()"
   ]
  },
  {
   "cell_type": "code",
   "execution_count": null,
   "metadata": {
    "id": "vdm7PGWfOSHl"
   },
   "outputs": [],
   "source": [
    "class Distiller(keras.Model):\n",
    "    def __init__(self, student, teacher):\n",
    "        super(Distiller, self).__init__()\n",
    "        self.teacher = teacher\n",
    "        self.student = student\n",
    "\n",
    "    def compile(\n",
    "        self,\n",
    "        optimizer,\n",
    "        metrics,\n",
    "        student_loss_fn,\n",
    "        distillation_loss_fn,\n",
    "        alpha=0.1,\n",
    "        temperature=3,\n",
    "    ):\n",
    "        \"\"\" Configure the distiller.\n",
    "\n",
    "        Args:\n",
    "            optimizer: Keras optimizer for the student weights\n",
    "            metrics: Keras metrics for evaluation\n",
    "            student_loss_fn: Loss function of difference between student\n",
    "                predictions and ground-truth\n",
    "            distillation_loss_fn: Loss function of difference between soft\n",
    "                student predictions and soft teacher predictions\n",
    "            alpha: weight to student_loss_fn and 1-alpha to distillation_loss_fn\n",
    "            temperature: Temperature for softening probability distributions.\n",
    "                Larger temperature gives softer distributions.\n",
    "        \"\"\"\n",
    "        super(Distiller, self).compile(optimizer=optimizer, metrics=metrics)\n",
    "        self.student_loss_fn = student_loss_fn\n",
    "        self.distillation_loss_fn = distillation_loss_fn\n",
    "        self.alpha = alpha\n",
    "        self.temperature = temperature\n",
    "\n",
    "    def train_step(self, data):\n",
    "        # Unpack data\n",
    "        x, y = data\n",
    "\n",
    "        # Forward pass of teacher\n",
    "        teacher_predictions = self.teacher(x, training=False)\n",
    "\n",
    "        with tf.GradientTape() as tape:\n",
    "            # Forward pass of student\n",
    "            student_predictions = self.student(x, training=True)\n",
    "\n",
    "            # Compute losses\n",
    "            student_loss = self.student_loss_fn(y, student_predictions)\n",
    "            distillation_loss = self.distillation_loss_fn(\n",
    "                tf.nn.softmax(teacher_predictions / self.temperature, axis=1),\n",
    "                tf.nn.softmax(student_predictions / self.temperature, axis=1),\n",
    "            )\n",
    "            loss = self.alpha * student_loss + (1 - self.alpha) * distillation_loss\n",
    "\n",
    "        # Compute gradients\n",
    "        trainable_vars = self.student.trainable_variables\n",
    "        gradients = tape.gradient(loss, trainable_vars)\n",
    "\n",
    "        # Update weights\n",
    "        self.optimizer.apply_gradients(zip(gradients, trainable_vars))\n",
    "\n",
    "        # Update the metrics configured in `compile()`.\n",
    "        self.compiled_metrics.update_state(y, student_predictions)\n",
    "\n",
    "        # Return a dict of performance\n",
    "        results = {m.name: m.result() for m in self.metrics}\n",
    "        results.update(\n",
    "            {\"student_loss\": student_loss, \"distillation_loss\": distillation_loss}\n",
    "        )\n",
    "        return results\n",
    "\n",
    "    def test_step(self, data):\n",
    "        # Unpack the data\n",
    "        x, y = data\n",
    "\n",
    "        # Compute predictions\n",
    "        y_prediction = self.student(x, training=False)\n",
    "\n",
    "        # Calculate the loss\n",
    "        student_loss = self.student_loss_fn(y, y_prediction)\n",
    "\n",
    "        # Update the metrics.\n",
    "        self.compiled_metrics.update_state(y, y_prediction)\n",
    "\n",
    "        # Return a dict of performance\n",
    "        results = {m.name: m.result() for m in self.metrics}\n",
    "        results.update({\"student_loss\": student_loss})\n",
    "        return results\n"
   ]
  },
  {
   "cell_type": "code",
   "execution_count": null,
   "metadata": {
    "colab": {
     "base_uri": "https://localhost:8080/"
    },
    "id": "F2lGloSTOjgi",
    "outputId": "66a6e255-deb9-4927-c1e1-fb22b8723e9a"
   },
   "outputs": [
    {
     "name": "stdout",
     "output_type": "stream",
     "text": [
      "Epoch 1/70\n",
      "3725/3725 [==============================] - 32s 8ms/step - categorical_accuracy: 0.6921 - student_loss: 0.7538 - distillation_loss: 0.0047\n",
      "Epoch 2/70\n",
      "3725/3725 [==============================] - 30s 8ms/step - categorical_accuracy: 0.7635 - student_loss: 0.5765 - distillation_loss: 0.0037\n",
      "Epoch 3/70\n",
      "3725/3725 [==============================] - 30s 8ms/step - categorical_accuracy: 0.7826 - student_loss: 0.5312 - distillation_loss: 0.0034\n",
      "Epoch 4/70\n",
      "3725/3725 [==============================] - 30s 8ms/step - categorical_accuracy: 0.7940 - student_loss: 0.5042 - distillation_loss: 0.0032\n",
      "Epoch 5/70\n",
      "3725/3725 [==============================] - 29s 8ms/step - categorical_accuracy: 0.8009 - student_loss: 0.4887 - distillation_loss: 0.0031\n",
      "Epoch 6/70\n",
      "3725/3725 [==============================] - 29s 8ms/step - categorical_accuracy: 0.8065 - student_loss: 0.4734 - distillation_loss: 0.0030\n",
      "Epoch 7/70\n",
      "3725/3725 [==============================] - 29s 8ms/step - categorical_accuracy: 0.8124 - student_loss: 0.4640 - distillation_loss: 0.0030\n",
      "Epoch 8/70\n",
      "3725/3725 [==============================] - 29s 8ms/step - categorical_accuracy: 0.8171 - student_loss: 0.4506 - distillation_loss: 0.0029\n",
      "Epoch 9/70\n",
      "3725/3725 [==============================] - 29s 8ms/step - categorical_accuracy: 0.8214 - student_loss: 0.4401 - distillation_loss: 0.0028\n",
      "Epoch 10/70\n",
      "3725/3725 [==============================] - 29s 8ms/step - categorical_accuracy: 0.8270 - student_loss: 0.4298 - distillation_loss: 0.0028\n",
      "Epoch 11/70\n",
      "3725/3725 [==============================] - 29s 8ms/step - categorical_accuracy: 0.8313 - student_loss: 0.4196 - distillation_loss: 0.0027\n",
      "Epoch 12/70\n",
      "3725/3725 [==============================] - 29s 8ms/step - categorical_accuracy: 0.8354 - student_loss: 0.4101 - distillation_loss: 0.0026\n",
      "Epoch 13/70\n",
      "3725/3725 [==============================] - 29s 8ms/step - categorical_accuracy: 0.8409 - student_loss: 0.3969 - distillation_loss: 0.0025\n",
      "Epoch 14/70\n",
      "3725/3725 [==============================] - 29s 8ms/step - categorical_accuracy: 0.8459 - student_loss: 0.3877 - distillation_loss: 0.0024\n",
      "Epoch 15/70\n",
      "3725/3725 [==============================] - 29s 8ms/step - categorical_accuracy: 0.8499 - student_loss: 0.3786 - distillation_loss: 0.0024\n",
      "Epoch 16/70\n",
      "3725/3725 [==============================] - 29s 8ms/step - categorical_accuracy: 0.8520 - student_loss: 0.3736 - distillation_loss: 0.0024\n",
      "Epoch 17/70\n",
      "3725/3725 [==============================] - 29s 8ms/step - categorical_accuracy: 0.8540 - student_loss: 0.3676 - distillation_loss: 0.0023\n",
      "Epoch 18/70\n",
      "3725/3725 [==============================] - 29s 8ms/step - categorical_accuracy: 0.8567 - student_loss: 0.3643 - distillation_loss: 0.0023\n",
      "Epoch 19/70\n",
      "3725/3725 [==============================] - 29s 8ms/step - categorical_accuracy: 0.8557 - student_loss: 0.3657 - distillation_loss: 0.0023\n",
      "Epoch 20/70\n",
      "3725/3725 [==============================] - 29s 8ms/step - categorical_accuracy: 0.8582 - student_loss: 0.3590 - distillation_loss: 0.0023\n",
      "Epoch 21/70\n",
      "3725/3725 [==============================] - 29s 8ms/step - categorical_accuracy: 0.8589 - student_loss: 0.3549 - distillation_loss: 0.0022\n",
      "Epoch 22/70\n",
      "3725/3725 [==============================] - 29s 8ms/step - categorical_accuracy: 0.8600 - student_loss: 0.3546 - distillation_loss: 0.0022\n",
      "Epoch 23/70\n",
      "3725/3725 [==============================] - 29s 8ms/step - categorical_accuracy: 0.8620 - student_loss: 0.3505 - distillation_loss: 0.0022\n",
      "Epoch 24/70\n",
      "3725/3725 [==============================] - 29s 8ms/step - categorical_accuracy: 0.8611 - student_loss: 0.3511 - distillation_loss: 0.0022\n",
      "Epoch 25/70\n",
      "3725/3725 [==============================] - 29s 8ms/step - categorical_accuracy: 0.8625 - student_loss: 0.3484 - distillation_loss: 0.0022\n",
      "Epoch 26/70\n",
      "3725/3725 [==============================] - 29s 8ms/step - categorical_accuracy: 0.8627 - student_loss: 0.3485 - distillation_loss: 0.0022\n",
      "Epoch 27/70\n",
      "3725/3725 [==============================] - 29s 8ms/step - categorical_accuracy: 0.8632 - student_loss: 0.3475 - distillation_loss: 0.0022\n",
      "Epoch 28/70\n",
      "3725/3725 [==============================] - 29s 8ms/step - categorical_accuracy: 0.8648 - student_loss: 0.3446 - distillation_loss: 0.0022\n",
      "Epoch 29/70\n",
      "3725/3725 [==============================] - 29s 8ms/step - categorical_accuracy: 0.8651 - student_loss: 0.3422 - distillation_loss: 0.0022\n",
      "Epoch 30/70\n",
      "3725/3725 [==============================] - 29s 8ms/step - categorical_accuracy: 0.8641 - student_loss: 0.3423 - distillation_loss: 0.0022\n",
      "Epoch 31/70\n",
      "3725/3725 [==============================] - 29s 8ms/step - categorical_accuracy: 0.8647 - student_loss: 0.3414 - distillation_loss: 0.0022\n",
      "Epoch 32/70\n",
      "3725/3725 [==============================] - 29s 8ms/step - categorical_accuracy: 0.8662 - student_loss: 0.3393 - distillation_loss: 0.0021\n",
      "Epoch 33/70\n",
      "3725/3725 [==============================] - 29s 8ms/step - categorical_accuracy: 0.8670 - student_loss: 0.3386 - distillation_loss: 0.0021\n",
      "Epoch 34/70\n",
      "3725/3725 [==============================] - 29s 8ms/step - categorical_accuracy: 0.8663 - student_loss: 0.3404 - distillation_loss: 0.0021\n",
      "Epoch 35/70\n",
      "3725/3725 [==============================] - 29s 8ms/step - categorical_accuracy: 0.8663 - student_loss: 0.3387 - distillation_loss: 0.0021\n",
      "Epoch 36/70\n",
      "3725/3725 [==============================] - 29s 8ms/step - categorical_accuracy: 0.8661 - student_loss: 0.3383 - distillation_loss: 0.0021\n",
      "Epoch 37/70\n",
      "3725/3725 [==============================] - 29s 8ms/step - categorical_accuracy: 0.8668 - student_loss: 0.3388 - distillation_loss: 0.0021\n",
      "Epoch 38/70\n",
      "3725/3725 [==============================] - 29s 8ms/step - categorical_accuracy: 0.8670 - student_loss: 0.3356 - distillation_loss: 0.0021\n",
      "Epoch 39/70\n",
      "3725/3725 [==============================] - 30s 8ms/step - categorical_accuracy: 0.8657 - student_loss: 0.3369 - distillation_loss: 0.0021\n",
      "Epoch 40/70\n",
      "3725/3725 [==============================] - 29s 8ms/step - categorical_accuracy: 0.8675 - student_loss: 0.3360 - distillation_loss: 0.0021\n",
      "Epoch 41/70\n",
      "3725/3725 [==============================] - 29s 8ms/step - categorical_accuracy: 0.8673 - student_loss: 0.3359 - distillation_loss: 0.0021\n",
      "Epoch 42/70\n",
      "3725/3725 [==============================] - 29s 8ms/step - categorical_accuracy: 0.8688 - student_loss: 0.3330 - distillation_loss: 0.0021\n",
      "Epoch 43/70\n",
      "3725/3725 [==============================] - 29s 8ms/step - categorical_accuracy: 0.8675 - student_loss: 0.3346 - distillation_loss: 0.0021\n",
      "Epoch 44/70\n",
      "3725/3725 [==============================] - 29s 8ms/step - categorical_accuracy: 0.8689 - student_loss: 0.3322 - distillation_loss: 0.0021\n",
      "Epoch 45/70\n",
      "3725/3725 [==============================] - 29s 8ms/step - categorical_accuracy: 0.8682 - student_loss: 0.3323 - distillation_loss: 0.0021\n",
      "Epoch 46/70\n",
      "3725/3725 [==============================] - 29s 8ms/step - categorical_accuracy: 0.8686 - student_loss: 0.3316 - distillation_loss: 0.0021\n",
      "Epoch 47/70\n",
      "3725/3725 [==============================] - 29s 8ms/step - categorical_accuracy: 0.8698 - student_loss: 0.3337 - distillation_loss: 0.0021\n",
      "Epoch 48/70\n",
      "3725/3725 [==============================] - 29s 8ms/step - categorical_accuracy: 0.8694 - student_loss: 0.3324 - distillation_loss: 0.0021\n",
      "Epoch 49/70\n",
      "3725/3725 [==============================] - 29s 8ms/step - categorical_accuracy: 0.8695 - student_loss: 0.3317 - distillation_loss: 0.0021\n",
      "Epoch 50/70\n",
      "3725/3725 [==============================] - 29s 8ms/step - categorical_accuracy: 0.8702 - student_loss: 0.3298 - distillation_loss: 0.0021\n",
      "Epoch 51/70\n",
      "3725/3725 [==============================] - 29s 8ms/step - categorical_accuracy: 0.8696 - student_loss: 0.3304 - distillation_loss: 0.0021\n",
      "Epoch 52/70\n",
      "3725/3725 [==============================] - 29s 8ms/step - categorical_accuracy: 0.8698 - student_loss: 0.3305 - distillation_loss: 0.0021\n",
      "Epoch 53/70\n",
      "3725/3725 [==============================] - 29s 8ms/step - categorical_accuracy: 0.8698 - student_loss: 0.3293 - distillation_loss: 0.0021\n",
      "Epoch 54/70\n",
      "3725/3725 [==============================] - 29s 8ms/step - categorical_accuracy: 0.8706 - student_loss: 0.3289 - distillation_loss: 0.0021\n",
      "Epoch 55/70\n",
      "3725/3725 [==============================] - 29s 8ms/step - categorical_accuracy: 0.8707 - student_loss: 0.3277 - distillation_loss: 0.0021\n",
      "Epoch 56/70\n",
      "3725/3725 [==============================] - 29s 8ms/step - categorical_accuracy: 0.8711 - student_loss: 0.3281 - distillation_loss: 0.0021\n",
      "Epoch 57/70\n",
      "3725/3725 [==============================] - 29s 8ms/step - categorical_accuracy: 0.8700 - student_loss: 0.3277 - distillation_loss: 0.0021\n",
      "Epoch 58/70\n",
      "3725/3725 [==============================] - 29s 8ms/step - categorical_accuracy: 0.8706 - student_loss: 0.3273 - distillation_loss: 0.0021\n",
      "Epoch 59/70\n",
      "3725/3725 [==============================] - 29s 8ms/step - categorical_accuracy: 0.8713 - student_loss: 0.3269 - distillation_loss: 0.0021\n",
      "Epoch 60/70\n",
      "3725/3725 [==============================] - 29s 8ms/step - categorical_accuracy: 0.8708 - student_loss: 0.3281 - distillation_loss: 0.0021\n",
      "Epoch 61/70\n",
      "3725/3725 [==============================] - 29s 8ms/step - categorical_accuracy: 0.8720 - student_loss: 0.3257 - distillation_loss: 0.0021\n",
      "Epoch 62/70\n",
      "3725/3725 [==============================] - 29s 8ms/step - categorical_accuracy: 0.8712 - student_loss: 0.3264 - distillation_loss: 0.0021\n",
      "Epoch 63/70\n",
      "3725/3725 [==============================] - 29s 8ms/step - categorical_accuracy: 0.8705 - student_loss: 0.3262 - distillation_loss: 0.0021\n",
      "Epoch 64/70\n",
      "3725/3725 [==============================] - 29s 8ms/step - categorical_accuracy: 0.8720 - student_loss: 0.3251 - distillation_loss: 0.0020\n",
      "Epoch 65/70\n",
      "3725/3725 [==============================] - 29s 8ms/step - categorical_accuracy: 0.8719 - student_loss: 0.3232 - distillation_loss: 0.0020\n",
      "Epoch 66/70\n",
      "3725/3725 [==============================] - 29s 8ms/step - categorical_accuracy: 0.8724 - student_loss: 0.3248 - distillation_loss: 0.0021\n",
      "Epoch 67/70\n",
      "3725/3725 [==============================] - 29s 8ms/step - categorical_accuracy: 0.8721 - student_loss: 0.3225 - distillation_loss: 0.0021\n",
      "Epoch 68/70\n",
      "3725/3725 [==============================] - 29s 8ms/step - categorical_accuracy: 0.8708 - student_loss: 0.3262 - distillation_loss: 0.0021\n",
      "Epoch 69/70\n",
      "3725/3725 [==============================] - 29s 8ms/step - categorical_accuracy: 0.8701 - student_loss: 0.3260 - distillation_loss: 0.0021\n",
      "Epoch 70/70\n",
      "3725/3725 [==============================] - 29s 8ms/step - categorical_accuracy: 0.8719 - student_loss: 0.3232 - distillation_loss: 0.0020\n"
     ]
    },
    {
     "data": {
      "text/plain": [
       "<keras.callbacks.History at 0x7f52d020bed0>"
      ]
     },
     "execution_count": 42,
     "metadata": {},
     "output_type": "execute_result"
    }
   ],
   "source": [
    "# Initialize and compile distiller\n",
    "distiller = Distiller(student=final_student_model, teacher=final_teacher_model)\n",
    "distiller.compile(\n",
    "    optimizer=keras.optimizers.Adam(),\n",
    "    metrics=[keras.metrics.CategoricalAccuracy()],\n",
    "    student_loss_fn=keras.losses.CategoricalCrossentropy(from_logits=True),\n",
    "    distillation_loss_fn=keras.losses.KLDivergence(),\n",
    "    alpha=0.5,\n",
    "    temperature=3,\n",
    ")\n",
    "\n",
    "# Distill teacher to student\n",
    "distiller.fit(x_dt_rshp, y_dt_, epochs=70)\n",
    "\n",
    "# Evaluate student on test dataset\n",
    "#distiller.evaluate(x_test, y_test)"
   ]
  },
  {
   "cell_type": "code",
   "execution_count": null,
   "metadata": {
    "colab": {
     "base_uri": "https://localhost:8080/"
    },
    "id": "K3P_wSMqOjjB",
    "outputId": "a89aac23-b599-4dd5-f7a7-cc69861470cf"
   },
   "outputs": [
    {
     "name": "stdout",
     "output_type": "stream",
     "text": [
      "20/20 [==============================] - 0s 3ms/step - categorical_accuracy: 0.8469 - student_loss: 0.7093\n"
     ]
    }
   ],
   "source": [
    "accuracy_distiller = distiller.evaluate(x_test_dt_rshp, y_test_dt_)"
   ]
  },
  {
   "cell_type": "code",
   "execution_count": null,
   "metadata": {
    "id": "iKYQ1K8zOjlS"
   },
   "outputs": [],
   "source": [
    "preds_final_student_model = final_student_model.predict(x_test_dt_rshp)"
   ]
  },
  {
   "cell_type": "code",
   "execution_count": null,
   "metadata": {
    "id": "zCX1c2fGOqPZ"
   },
   "outputs": [],
   "source": [
    "preds_final_student_model_fin=np.argmax(preds_final_student_model,axis=1)"
   ]
  },
  {
   "cell_type": "code",
   "execution_count": null,
   "metadata": {
    "colab": {
     "base_uri": "https://localhost:8080/"
    },
    "id": "j-Z4m0NyOqRq",
    "outputId": "8522069c-c315-41a5-f60f-dcc1d4f36f1f"
   },
   "outputs": [
    {
     "data": {
      "text/plain": [
       "array([0.96376812, 0.05263158, 0.9375    , 0.80327869, 0.67088608])"
      ]
     },
     "execution_count": 46,
     "metadata": {},
     "output_type": "execute_result"
    }
   ],
   "source": [
    "from sklearn.metrics import confusion_matrix\n",
    "matrix_final_student = confusion_matrix(y_test_dt, preds_final_student_model_fin)\n",
    "matrix_final_student.diagonal()/matrix_final_student.sum(axis=1)"
   ]
  },
  {
   "cell_type": "code",
   "execution_count": null,
   "metadata": {
    "colab": {
     "base_uri": "https://localhost:8080/"
    },
    "id": "Gc_yaoTlOqT2",
    "outputId": "722e88cb-fda6-4e7c-aec5-e8a35612f2bb"
   },
   "outputs": [
    {
     "name": "stdout",
     "output_type": "stream",
     "text": [
      "Precision: 0.7408203991130821\n",
      "Recall: 0.6856128918726709\n",
      "F1 score: 0.6890084652490482\n",
      "              precision    recall  f1-score   support\n",
      "\n",
      "           0   0.926829  0.963768  0.944938       276\n",
      "           1   0.333333  0.052632  0.090909        38\n",
      "           2   0.750000  0.937500  0.833333       160\n",
      "           3   0.890909  0.803279  0.844828        61\n",
      "           4   0.803030  0.670886  0.731034        79\n",
      "\n",
      "    accuracy                       0.846906       614\n",
      "   macro avg   0.740820  0.685613  0.689008       614\n",
      "weighted avg   0.824522  0.846906  0.825532       614\n",
      "\n"
     ]
    }
   ],
   "source": [
    "#y_sub_dt\n",
    "from sklearn.metrics import precision_score, recall_score\n",
    "f1_final_student = f1_score(y_test_dt, preds_final_student_model_fin, average=\"macro\")\n",
    "prec_final_student = precision_score(y_test_dt, preds_final_student_model_fin, average=\"macro\")\n",
    "recall_final_student = recall_score(y_test_dt, preds_final_student_model_fin, average=\"macro\")\n",
    "if VBS:\n",
    "    print(\"Precision: {}\".format(prec_final_student)) \n",
    "    print(\"Recall: {}\".format(recall_final_student))\n",
    "    print(\"F1 score: {}\".format(f1_final_student))\n",
    "\n",
    "    report_final_student = classification_report(y_test_dt, preds_final_student_model_fin, digits=6)\n",
    "    print(report_final_student)"
   ]
  },
  {
   "cell_type": "code",
   "execution_count": null,
   "metadata": {
    "id": "CPVFz6lTOqWD"
   },
   "outputs": [],
   "source": []
  }
 ],
 "metadata": {
  "colab": {
   "collapsed_sections": [],
   "name": "sub_482(sub_1)KD with personalization (trained the teacher model with different epoch combinations (40,50,60,70)).ipynb",
   "provenance": []
  },
  "gpuClass": "standard",
  "kernelspec": {
   "display_name": "Python 3 (ipykernel)",
   "language": "python",
   "name": "python3"
  },
  "language_info": {
   "codemirror_mode": {
    "name": "ipython",
    "version": 3
   },
   "file_extension": ".py",
   "mimetype": "text/x-python",
   "name": "python",
   "nbconvert_exporter": "python",
   "pygments_lexer": "ipython3",
   "version": "3.11.3"
  }
 },
 "nbformat": 4,
 "nbformat_minor": 1
}
