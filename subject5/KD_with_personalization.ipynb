{
  "nbformat": 4,
  "nbformat_minor": 0,
  "metadata": {
    "colab": {
      "name": "sub_466(sub_5)KD_with_personalization(trained_the_teacher_model_with_different_epoch_combinations_(40,50,60,70)).ipynb",
      "provenance": [],
      "collapsed_sections": [],
      "machine_shape": "hm"
    },
    "kernelspec": {
      "name": "python3",
      "display_name": "Python 3"
    },
    "language_info": {
      "name": "python"
    },
    "gpuClass": "standard"
  },
  "cells": [
    {
      "cell_type": "code",
      "execution_count": null,
      "metadata": {
        "id": "y8_8UslWPwBT"
      },
      "outputs": [],
      "source": [
        "import numpy as np\n",
        "import pandas as pd\n",
        "\n",
        "from sklearn.model_selection import train_test_split\n",
        "\n",
        "from numpy import mean\n",
        "from numpy import std\n",
        "\n",
        "from matplotlib import pyplot\n",
        "from sklearn.metrics import accuracy_score,confusion_matrix,classification_report\n",
        "from sklearn.preprocessing import QuantileTransformer\n",
        "from sklearn.pipeline import Pipeline\n",
        "\n",
        "from scipy.stats import mode"
      ]
    },
    {
      "cell_type": "code",
      "source": [
        "from pydrive.auth import GoogleAuth\n",
        "from pydrive.drive import GoogleDrive\n",
        "from google.colab import auth\n",
        "from oauth2client.client import GoogleCredentials"
      ],
      "metadata": {
        "id": "h28AuzD_P2G6"
      },
      "execution_count": null,
      "outputs": []
    },
    {
      "cell_type": "code",
      "source": [
        "auth.authenticate_user()\n",
        "gauth = GoogleAuth()\n",
        "gauth.credentials = GoogleCredentials.get_application_default()\n",
        "drive = GoogleDrive(gauth)"
      ],
      "metadata": {
        "id": "F-F5aOYSP2LF"
      },
      "execution_count": null,
      "outputs": []
    },
    {
      "cell_type": "code",
      "source": [
        "#npz files can only be loaded using /gdrive path\n",
        "from google.colab import drive\n",
        "drive.mount('/content/gdrive')\n",
        "#%cd /gdrive"
      ],
      "metadata": {
        "colab": {
          "base_uri": "https://localhost:8080/"
        },
        "id": "W55D-9irP2OD",
        "outputId": "004aad6c-0519-46f0-fc6f-05d51b06d321"
      },
      "execution_count": null,
      "outputs": [
        {
          "output_type": "stream",
          "name": "stdout",
          "text": [
            "Mounted at /content/gdrive\n"
          ]
        }
      ]
    },
    {
      "cell_type": "code",
      "source": [
        "!pip install mne"
      ],
      "metadata": {
        "colab": {
          "base_uri": "https://localhost:8080/"
        },
        "id": "PludW6j-P6vX",
        "outputId": "7851c53f-4fa7-47bb-83c3-68d35a7af2d3"
      },
      "execution_count": null,
      "outputs": [
        {
          "output_type": "stream",
          "name": "stdout",
          "text": [
            "Looking in indexes: https://pypi.org/simple, https://us-python.pkg.dev/colab-wheels/public/simple/\n",
            "Collecting mne\n",
            "  Downloading mne-1.0.3-py3-none-any.whl (7.5 MB)\n",
            "\u001b[K     |████████████████████████████████| 7.5 MB 5.1 MB/s \n",
            "\u001b[?25hRequirement already satisfied: tqdm in /usr/local/lib/python3.7/dist-packages (from mne) (4.64.0)\n",
            "Requirement already satisfied: decorator in /usr/local/lib/python3.7/dist-packages (from mne) (4.4.2)\n",
            "Requirement already satisfied: pooch>=1.5 in /usr/local/lib/python3.7/dist-packages (from mne) (1.6.0)\n",
            "Requirement already satisfied: numpy>=1.15.4 in /usr/local/lib/python3.7/dist-packages (from mne) (1.21.6)\n",
            "Requirement already satisfied: packaging in /usr/local/lib/python3.7/dist-packages (from mne) (21.3)\n",
            "Requirement already satisfied: matplotlib in /usr/local/lib/python3.7/dist-packages (from mne) (3.2.2)\n",
            "Requirement already satisfied: scipy>=1.1.0 in /usr/local/lib/python3.7/dist-packages (from mne) (1.7.3)\n",
            "Requirement already satisfied: jinja2 in /usr/local/lib/python3.7/dist-packages (from mne) (2.11.3)\n",
            "Requirement already satisfied: appdirs>=1.3.0 in /usr/local/lib/python3.7/dist-packages (from pooch>=1.5->mne) (1.4.4)\n",
            "Requirement already satisfied: requests>=2.19.0 in /usr/local/lib/python3.7/dist-packages (from pooch>=1.5->mne) (2.23.0)\n",
            "Requirement already satisfied: pyparsing!=3.0.5,>=2.0.2 in /usr/local/lib/python3.7/dist-packages (from packaging->mne) (3.0.9)\n",
            "Requirement already satisfied: chardet<4,>=3.0.2 in /usr/local/lib/python3.7/dist-packages (from requests>=2.19.0->pooch>=1.5->mne) (3.0.4)\n",
            "Requirement already satisfied: certifi>=2017.4.17 in /usr/local/lib/python3.7/dist-packages (from requests>=2.19.0->pooch>=1.5->mne) (2022.6.15)\n",
            "Requirement already satisfied: idna<3,>=2.5 in /usr/local/lib/python3.7/dist-packages (from requests>=2.19.0->pooch>=1.5->mne) (2.10)\n",
            "Requirement already satisfied: urllib3!=1.25.0,!=1.25.1,<1.26,>=1.21.1 in /usr/local/lib/python3.7/dist-packages (from requests>=2.19.0->pooch>=1.5->mne) (1.24.3)\n",
            "Requirement already satisfied: MarkupSafe>=0.23 in /usr/local/lib/python3.7/dist-packages (from jinja2->mne) (2.0.1)\n",
            "Requirement already satisfied: cycler>=0.10 in /usr/local/lib/python3.7/dist-packages (from matplotlib->mne) (0.11.0)\n",
            "Requirement already satisfied: kiwisolver>=1.0.1 in /usr/local/lib/python3.7/dist-packages (from matplotlib->mne) (1.4.3)\n",
            "Requirement already satisfied: python-dateutil>=2.1 in /usr/local/lib/python3.7/dist-packages (from matplotlib->mne) (2.8.2)\n",
            "Requirement already satisfied: typing-extensions in /usr/local/lib/python3.7/dist-packages (from kiwisolver>=1.0.1->matplotlib->mne) (4.1.1)\n",
            "Requirement already satisfied: six>=1.5 in /usr/local/lib/python3.7/dist-packages (from python-dateutil>=2.1->matplotlib->mne) (1.15.0)\n",
            "Installing collected packages: mne\n",
            "Successfully installed mne-1.0.3\n"
          ]
        }
      ]
    },
    {
      "cell_type": "code",
      "source": [
        "#import pyeeg\n",
        "from tensorflow import keras "
      ],
      "metadata": {
        "id": "_1O1bfmjP6w2"
      },
      "execution_count": null,
      "outputs": []
    },
    {
      "cell_type": "code",
      "source": [
        "%matplotlib inline\n",
        "\n",
        "import glob\n",
        "import math\n",
        "import ntpath\n",
        "import random, os, sys\n",
        "import numpy as np\n",
        "import pandas as pd\n",
        "import tensorflow as tf\n",
        "import matplotlib.pyplot as plt\n",
        "import seaborn as sns\n",
        "#import edfreader\n",
        "#import models\n",
        "import mne\n",
        "#import pyeeg\n",
        "import warnings\n",
        "warnings.filterwarnings('ignore')\n",
        "\n",
        "from matplotlib.backends.backend_pdf import PdfPages\n",
        "from mne.datasets.sleep_physionet._utils import _fetch_one, _data_path, AGE_SLEEP_RECORDS, _check_subjects\n",
        "from datetime import datetime\n",
        "from mne import Epochs, pick_types, find_events\n",
        "from mne.io import concatenate_raws, read_raw_edf\n",
        "from mne.time_frequency import psd_welch\n",
        "from sklearn.ensemble import RandomForestClassifier\n",
        "from sklearn.metrics import classification_report\n",
        "\n",
        "from tqdm.notebook import tqdm\n",
        "from sklearn.model_selection import train_test_split\n",
        "from tensorflow import keras\n",
        "\n",
        "from tensorflow.keras.utils import to_categorical\n",
        "\n",
        "from tensorflow.keras.callbacks import ModelCheckpoint, ReduceLROnPlateau, CSVLogger\n",
        "import imblearn\n",
        "from imblearn.over_sampling import SMOTE\n",
        "from sklearn.svm import SVC\n",
        "import joblib\n",
        "\n",
        "from sklearn.metrics import make_scorer, f1_score, accuracy_score, classification_report, log_loss\n",
        "from sklearn.metrics import roc_auc_score, confusion_matrix, roc_auc_score, roc_curve\n",
        "\n",
        "from sklearn.tree import DecisionTreeClassifier\n",
        "from sklearn.neighbors import KNeighborsClassifier\n",
        "from sklearn.ensemble import RandomForestClassifier, AdaBoostClassifier, GradientBoostingClassifier\n",
        "from sklearn.naive_bayes import GaussianNB\n",
        "from sklearn.discriminant_analysis import LinearDiscriminantAnalysis\n",
        "from sklearn.discriminant_analysis import QuadraticDiscriminantAnalysis\n",
        "#from xgboost import XGBClassifier\n",
        "#import xgboost"
      ],
      "metadata": {
        "id": "I9Lglo7-P60e"
      },
      "execution_count": null,
      "outputs": []
    },
    {
      "cell_type": "code",
      "source": [
        "VBS = True  # constant boolean to enable/disbale verbose\n",
        "EPOCH_SEC_SIZE = 30  # Epoch duration selection\n",
        "seed = 42  # seed value for the random seeds\n",
        "batch_size = 64\n",
        "number_of_files = 100 #100 npz files, 50 subjects, each suject has 2 nights, so 2 files per subject (50*2)=100\n",
        "\n",
        "# values to label the stages\n",
        "UNKNOWN = -1\n",
        "W = 0\n",
        "N1 = 1\n",
        "N2 = 2\n",
        "N3 = 3\n",
        "REM = 4\n",
        "\n",
        "# making string dictionary for the label values\n",
        "label_dict = {\n",
        "    \"UNKNOWN\"  : UNKNOWN,\n",
        "    \"W\"        : W,\n",
        "    \"N1\"       : N1,\n",
        "    \"N2\"       : N2,\n",
        "    \"N3\"       : N3,\n",
        "    \"REM\"      : REM\n",
        "}\n",
        "\n",
        "# converting from label values to strings \n",
        "class_dict = {\n",
        "    -1: \"UNKNOWN\",\n",
        "    0 : \"W\",\n",
        "    1 : \"N1\",\n",
        "    2 : \"N2\",\n",
        "    3 : \"N3\",\n",
        "    4 : \"REM\"\n",
        "}\n",
        "\n",
        "# annotation dictionary to convert from string to label values\n",
        "annot2label = {\n",
        "    \"Sleep stage ?\": -1,\n",
        "    \"Movement time\": -1,\n",
        "    \"Sleep stage W\": 0,\n",
        "    \"Sleep stage 1\": 1,\n",
        "    \"Sleep stage 2\": 2,\n",
        "    \"Sleep stage 3\": 3,\n",
        "    \"Sleep stage 4\": 3,\n",
        "    \"Sleep stage R\": 4\n",
        "}\n",
        "#project_path = os.path.abspath(os.getcwd())  # finding the current project path in windows"
      ],
      "metadata": {
        "id": "tf6-foYQQFUF"
      },
      "execution_count": null,
      "outputs": []
    },
    {
      "cell_type": "code",
      "source": [
        "from tensorflow.keras import optimizers, losses, activations, models\n",
        "from tensorflow.keras.models import Model, load_model\n",
        "from tensorflow.keras.layers import GlobalMaxPool1D, GlobalAveragePooling1D, concatenate, SpatialDropout1D, TimeDistributed, Bidirectional, LSTM\n",
        "from tensorflow.keras.layers import Input, Conv1D, Dense, Dropout, MaxPool1D, Activation\n",
        "from tensorflow.keras.layers import Reshape, LSTM, TimeDistributed, Bidirectional, BatchNormalization, Flatten, RepeatVector\n",
        "from tensorflow.keras.optimizers import Adam\n",
        "#from keras_contrib.layers import CRF\n",
        "\n",
        "from scipy.signal import butter, lfilter\n"
      ],
      "metadata": {
        "id": "LVIQYKRqQFZF"
      },
      "execution_count": null,
      "outputs": []
    },
    {
      "cell_type": "code",
      "source": [
        "Fs = 100\n",
        "from keras.utils import np_utils"
      ],
      "metadata": {
        "id": "Kd4xCZ9aQcL5"
      },
      "execution_count": null,
      "outputs": []
    },
    {
      "cell_type": "code",
      "source": [
        "transfer_set_with_tri_trained_sub_labeled_dt=pd.read_csv('/content/gdrive/My Drive/physionet/ensemble/50_subs/transfer_set_plus_sub_dt_with_tri_trained_labels_keras_way_sub_466_trial_3.csv',header=None) #the transfer set + subject specific train data , inc semi sup tri-trained labels obtained the keras way (train_on_batch)"
      ],
      "metadata": {
        "id": "y5cw0csyQcNu"
      },
      "execution_count": null,
      "outputs": []
    },
    {
      "cell_type": "code",
      "source": [
        "transfer_set_with_tri_trained_sub_labeled_dt=pd.read_csv('/content/gdrive/My Drive/physionet/ensemble/50_subs/transfer_set_plus_sub_dt_with_tri_trained_labels_keras_way_sub_480_trial_2.csv',header=None) #the transfer set + subject specific train data , inc semi sup tri-trained labels obtained the keras way (train_on_batch)"
      ],
      "metadata": {
        "id": "-wTbOzTYN6MC"
      },
      "execution_count": null,
      "outputs": []
    },
    {
      "cell_type": "code",
      "source": [
        "transfer_set_with_tri_trained_sub_labeled_dt"
      ],
      "metadata": {
        "colab": {
          "base_uri": "https://localhost:8080/",
          "height": 488
        },
        "id": "URKgybX3RH_T",
        "outputId": "46ecbae7-84a1-470c-e6de-4c6bb32c5e4d"
      },
      "execution_count": null,
      "outputs": [
        {
          "output_type": "execute_result",
          "data": {
            "text/plain": [
              "            0         1         2         3         4         5         6     \\\n",
              "0       0.068014  0.082915  0.077628  0.074744  0.060804  0.063688  0.050710   \n",
              "1       0.104729  0.054513 -0.020131 -0.064918 -0.122825 -0.127801 -0.107443   \n",
              "2       0.002281 -0.031309 -0.007672 -0.020527 -0.003110 -0.011404  0.006013   \n",
              "3      -0.025235 -0.037732 -0.033406 -0.031964 -0.034848 -0.041097 -0.031484   \n",
              "4       0.097914 -0.100520 -0.044574 -0.079540 -0.071235 -0.029713 -0.041951   \n",
              "...          ...       ...       ...       ...       ...       ...       ...   \n",
              "119929 -0.050405 -0.033532  0.013069  0.030343  0.028335  0.016684  0.073731   \n",
              "119930 -0.006616 -0.006616  0.037173  0.071320  0.102655  0.082970  0.023514   \n",
              "119931 -0.188914  0.020942 -0.246959 -0.030852 -0.049159  0.021835  0.018263   \n",
              "119932  0.046011  0.063285  0.033557 -0.000590  0.007846  0.027933  0.023514   \n",
              "119933 -0.250085  0.117833  0.128549  0.269644 -0.279554  0.193738 -0.149622   \n",
              "\n",
              "            7         8         9     ...      2991      2992      2993  \\\n",
              "0       0.029561  0.010815  0.008412  ... -0.010334 -0.016102 -0.034368   \n",
              "1      -0.086633 -0.051799 -0.033251  ... -0.123729 -0.120563 -0.129158   \n",
              "2      -0.029236 -0.025089 -0.042091  ...  0.088122  0.057850  0.027992   \n",
              "3      -0.025716 -0.019948 -0.030522  ... -0.015141 -0.013699 -0.018025   \n",
              "4       0.000445 -0.031024  0.172217  ...  0.167409  0.220732  0.191011   \n",
              "...          ...       ...       ...  ...       ...       ...       ...   \n",
              "119929  0.016684 -0.012642 -0.014651  ... -0.054423 -0.057636 -0.064868   \n",
              "119930  0.014676 -0.006616  0.031147  ...  0.141222  0.170548  0.170950   \n",
              "119931 -0.022815 -0.025941  0.114707  ... -0.088898 -0.214811  0.074969   \n",
              "119932  0.025121  0.034361  0.044806  ...  0.019496  0.043199  0.046814   \n",
              "119933 -0.537632 -0.150515 -0.296074  ...  0.440207  0.382609  0.510308   \n",
              "\n",
              "            2994      2995      2996      2997      2998      2999  3000  \n",
              "0      -0.055998 -0.074263 -0.071860 -0.077147 -0.084838 -0.090125     4  \n",
              "1      -0.149968 -0.173945 -0.187064 -0.171231 -0.149516 -0.121467     3  \n",
              "2       0.038359  0.040847  0.053703  0.072779  0.055362  0.029651     2  \n",
              "3      -0.020909 -0.021390 -0.002644 -0.020428 -0.025235 -0.024754     2  \n",
              "4       0.119767  0.165661  0.270996  0.200190  0.246520  0.166535     0  \n",
              "...          ...       ...       ...       ...       ...       ...   ...  \n",
              "119929 -0.035139  0.001418  0.055251  0.019496 -0.035943 -0.035943     0  \n",
              "119930  0.155684  0.146444  0.144034  0.141222  0.138008  0.160907     0  \n",
              "119931  0.055769 -0.110776 -0.067465 -0.246066 -0.050498 -0.079521     0  \n",
              "119932  0.040387  0.033557  0.030745  0.014274 -0.038353 -0.041165     4  \n",
              "119933  0.412078  0.554959  0.578623  0.564782  0.608539  0.600948     0  \n",
              "\n",
              "[119934 rows x 3001 columns]"
            ],
            "text/html": [
              "\n",
              "  <div id=\"df-4338ac2a-7b5e-44db-b7fb-24fc65b70659\">\n",
              "    <div class=\"colab-df-container\">\n",
              "      <div>\n",
              "<style scoped>\n",
              "    .dataframe tbody tr th:only-of-type {\n",
              "        vertical-align: middle;\n",
              "    }\n",
              "\n",
              "    .dataframe tbody tr th {\n",
              "        vertical-align: top;\n",
              "    }\n",
              "\n",
              "    .dataframe thead th {\n",
              "        text-align: right;\n",
              "    }\n",
              "</style>\n",
              "<table border=\"1\" class=\"dataframe\">\n",
              "  <thead>\n",
              "    <tr style=\"text-align: right;\">\n",
              "      <th></th>\n",
              "      <th>0</th>\n",
              "      <th>1</th>\n",
              "      <th>2</th>\n",
              "      <th>3</th>\n",
              "      <th>4</th>\n",
              "      <th>5</th>\n",
              "      <th>6</th>\n",
              "      <th>7</th>\n",
              "      <th>8</th>\n",
              "      <th>9</th>\n",
              "      <th>...</th>\n",
              "      <th>2991</th>\n",
              "      <th>2992</th>\n",
              "      <th>2993</th>\n",
              "      <th>2994</th>\n",
              "      <th>2995</th>\n",
              "      <th>2996</th>\n",
              "      <th>2997</th>\n",
              "      <th>2998</th>\n",
              "      <th>2999</th>\n",
              "      <th>3000</th>\n",
              "    </tr>\n",
              "  </thead>\n",
              "  <tbody>\n",
              "    <tr>\n",
              "      <th>0</th>\n",
              "      <td>0.068014</td>\n",
              "      <td>0.082915</td>\n",
              "      <td>0.077628</td>\n",
              "      <td>0.074744</td>\n",
              "      <td>0.060804</td>\n",
              "      <td>0.063688</td>\n",
              "      <td>0.050710</td>\n",
              "      <td>0.029561</td>\n",
              "      <td>0.010815</td>\n",
              "      <td>0.008412</td>\n",
              "      <td>...</td>\n",
              "      <td>-0.010334</td>\n",
              "      <td>-0.016102</td>\n",
              "      <td>-0.034368</td>\n",
              "      <td>-0.055998</td>\n",
              "      <td>-0.074263</td>\n",
              "      <td>-0.071860</td>\n",
              "      <td>-0.077147</td>\n",
              "      <td>-0.084838</td>\n",
              "      <td>-0.090125</td>\n",
              "      <td>4</td>\n",
              "    </tr>\n",
              "    <tr>\n",
              "      <th>1</th>\n",
              "      <td>0.104729</td>\n",
              "      <td>0.054513</td>\n",
              "      <td>-0.020131</td>\n",
              "      <td>-0.064918</td>\n",
              "      <td>-0.122825</td>\n",
              "      <td>-0.127801</td>\n",
              "      <td>-0.107443</td>\n",
              "      <td>-0.086633</td>\n",
              "      <td>-0.051799</td>\n",
              "      <td>-0.033251</td>\n",
              "      <td>...</td>\n",
              "      <td>-0.123729</td>\n",
              "      <td>-0.120563</td>\n",
              "      <td>-0.129158</td>\n",
              "      <td>-0.149968</td>\n",
              "      <td>-0.173945</td>\n",
              "      <td>-0.187064</td>\n",
              "      <td>-0.171231</td>\n",
              "      <td>-0.149516</td>\n",
              "      <td>-0.121467</td>\n",
              "      <td>3</td>\n",
              "    </tr>\n",
              "    <tr>\n",
              "      <th>2</th>\n",
              "      <td>0.002281</td>\n",
              "      <td>-0.031309</td>\n",
              "      <td>-0.007672</td>\n",
              "      <td>-0.020527</td>\n",
              "      <td>-0.003110</td>\n",
              "      <td>-0.011404</td>\n",
              "      <td>0.006013</td>\n",
              "      <td>-0.029236</td>\n",
              "      <td>-0.025089</td>\n",
              "      <td>-0.042091</td>\n",
              "      <td>...</td>\n",
              "      <td>0.088122</td>\n",
              "      <td>0.057850</td>\n",
              "      <td>0.027992</td>\n",
              "      <td>0.038359</td>\n",
              "      <td>0.040847</td>\n",
              "      <td>0.053703</td>\n",
              "      <td>0.072779</td>\n",
              "      <td>0.055362</td>\n",
              "      <td>0.029651</td>\n",
              "      <td>2</td>\n",
              "    </tr>\n",
              "    <tr>\n",
              "      <th>3</th>\n",
              "      <td>-0.025235</td>\n",
              "      <td>-0.037732</td>\n",
              "      <td>-0.033406</td>\n",
              "      <td>-0.031964</td>\n",
              "      <td>-0.034848</td>\n",
              "      <td>-0.041097</td>\n",
              "      <td>-0.031484</td>\n",
              "      <td>-0.025716</td>\n",
              "      <td>-0.019948</td>\n",
              "      <td>-0.030522</td>\n",
              "      <td>...</td>\n",
              "      <td>-0.015141</td>\n",
              "      <td>-0.013699</td>\n",
              "      <td>-0.018025</td>\n",
              "      <td>-0.020909</td>\n",
              "      <td>-0.021390</td>\n",
              "      <td>-0.002644</td>\n",
              "      <td>-0.020428</td>\n",
              "      <td>-0.025235</td>\n",
              "      <td>-0.024754</td>\n",
              "      <td>2</td>\n",
              "    </tr>\n",
              "    <tr>\n",
              "      <th>4</th>\n",
              "      <td>0.097914</td>\n",
              "      <td>-0.100520</td>\n",
              "      <td>-0.044574</td>\n",
              "      <td>-0.079540</td>\n",
              "      <td>-0.071235</td>\n",
              "      <td>-0.029713</td>\n",
              "      <td>-0.041951</td>\n",
              "      <td>0.000445</td>\n",
              "      <td>-0.031024</td>\n",
              "      <td>0.172217</td>\n",
              "      <td>...</td>\n",
              "      <td>0.167409</td>\n",
              "      <td>0.220732</td>\n",
              "      <td>0.191011</td>\n",
              "      <td>0.119767</td>\n",
              "      <td>0.165661</td>\n",
              "      <td>0.270996</td>\n",
              "      <td>0.200190</td>\n",
              "      <td>0.246520</td>\n",
              "      <td>0.166535</td>\n",
              "      <td>0</td>\n",
              "    </tr>\n",
              "    <tr>\n",
              "      <th>...</th>\n",
              "      <td>...</td>\n",
              "      <td>...</td>\n",
              "      <td>...</td>\n",
              "      <td>...</td>\n",
              "      <td>...</td>\n",
              "      <td>...</td>\n",
              "      <td>...</td>\n",
              "      <td>...</td>\n",
              "      <td>...</td>\n",
              "      <td>...</td>\n",
              "      <td>...</td>\n",
              "      <td>...</td>\n",
              "      <td>...</td>\n",
              "      <td>...</td>\n",
              "      <td>...</td>\n",
              "      <td>...</td>\n",
              "      <td>...</td>\n",
              "      <td>...</td>\n",
              "      <td>...</td>\n",
              "      <td>...</td>\n",
              "      <td>...</td>\n",
              "    </tr>\n",
              "    <tr>\n",
              "      <th>119929</th>\n",
              "      <td>-0.050405</td>\n",
              "      <td>-0.033532</td>\n",
              "      <td>0.013069</td>\n",
              "      <td>0.030343</td>\n",
              "      <td>0.028335</td>\n",
              "      <td>0.016684</td>\n",
              "      <td>0.073731</td>\n",
              "      <td>0.016684</td>\n",
              "      <td>-0.012642</td>\n",
              "      <td>-0.014651</td>\n",
              "      <td>...</td>\n",
              "      <td>-0.054423</td>\n",
              "      <td>-0.057636</td>\n",
              "      <td>-0.064868</td>\n",
              "      <td>-0.035139</td>\n",
              "      <td>0.001418</td>\n",
              "      <td>0.055251</td>\n",
              "      <td>0.019496</td>\n",
              "      <td>-0.035943</td>\n",
              "      <td>-0.035943</td>\n",
              "      <td>0</td>\n",
              "    </tr>\n",
              "    <tr>\n",
              "      <th>119930</th>\n",
              "      <td>-0.006616</td>\n",
              "      <td>-0.006616</td>\n",
              "      <td>0.037173</td>\n",
              "      <td>0.071320</td>\n",
              "      <td>0.102655</td>\n",
              "      <td>0.082970</td>\n",
              "      <td>0.023514</td>\n",
              "      <td>0.014676</td>\n",
              "      <td>-0.006616</td>\n",
              "      <td>0.031147</td>\n",
              "      <td>...</td>\n",
              "      <td>0.141222</td>\n",
              "      <td>0.170548</td>\n",
              "      <td>0.170950</td>\n",
              "      <td>0.155684</td>\n",
              "      <td>0.146444</td>\n",
              "      <td>0.144034</td>\n",
              "      <td>0.141222</td>\n",
              "      <td>0.138008</td>\n",
              "      <td>0.160907</td>\n",
              "      <td>0</td>\n",
              "    </tr>\n",
              "    <tr>\n",
              "      <th>119931</th>\n",
              "      <td>-0.188914</td>\n",
              "      <td>0.020942</td>\n",
              "      <td>-0.246959</td>\n",
              "      <td>-0.030852</td>\n",
              "      <td>-0.049159</td>\n",
              "      <td>0.021835</td>\n",
              "      <td>0.018263</td>\n",
              "      <td>-0.022815</td>\n",
              "      <td>-0.025941</td>\n",
              "      <td>0.114707</td>\n",
              "      <td>...</td>\n",
              "      <td>-0.088898</td>\n",
              "      <td>-0.214811</td>\n",
              "      <td>0.074969</td>\n",
              "      <td>0.055769</td>\n",
              "      <td>-0.110776</td>\n",
              "      <td>-0.067465</td>\n",
              "      <td>-0.246066</td>\n",
              "      <td>-0.050498</td>\n",
              "      <td>-0.079521</td>\n",
              "      <td>0</td>\n",
              "    </tr>\n",
              "    <tr>\n",
              "      <th>119932</th>\n",
              "      <td>0.046011</td>\n",
              "      <td>0.063285</td>\n",
              "      <td>0.033557</td>\n",
              "      <td>-0.000590</td>\n",
              "      <td>0.007846</td>\n",
              "      <td>0.027933</td>\n",
              "      <td>0.023514</td>\n",
              "      <td>0.025121</td>\n",
              "      <td>0.034361</td>\n",
              "      <td>0.044806</td>\n",
              "      <td>...</td>\n",
              "      <td>0.019496</td>\n",
              "      <td>0.043199</td>\n",
              "      <td>0.046814</td>\n",
              "      <td>0.040387</td>\n",
              "      <td>0.033557</td>\n",
              "      <td>0.030745</td>\n",
              "      <td>0.014274</td>\n",
              "      <td>-0.038353</td>\n",
              "      <td>-0.041165</td>\n",
              "      <td>4</td>\n",
              "    </tr>\n",
              "    <tr>\n",
              "      <th>119933</th>\n",
              "      <td>-0.250085</td>\n",
              "      <td>0.117833</td>\n",
              "      <td>0.128549</td>\n",
              "      <td>0.269644</td>\n",
              "      <td>-0.279554</td>\n",
              "      <td>0.193738</td>\n",
              "      <td>-0.149622</td>\n",
              "      <td>-0.537632</td>\n",
              "      <td>-0.150515</td>\n",
              "      <td>-0.296074</td>\n",
              "      <td>...</td>\n",
              "      <td>0.440207</td>\n",
              "      <td>0.382609</td>\n",
              "      <td>0.510308</td>\n",
              "      <td>0.412078</td>\n",
              "      <td>0.554959</td>\n",
              "      <td>0.578623</td>\n",
              "      <td>0.564782</td>\n",
              "      <td>0.608539</td>\n",
              "      <td>0.600948</td>\n",
              "      <td>0</td>\n",
              "    </tr>\n",
              "  </tbody>\n",
              "</table>\n",
              "<p>119934 rows × 3001 columns</p>\n",
              "</div>\n",
              "      <button class=\"colab-df-convert\" onclick=\"convertToInteractive('df-4338ac2a-7b5e-44db-b7fb-24fc65b70659')\"\n",
              "              title=\"Convert this dataframe to an interactive table.\"\n",
              "              style=\"display:none;\">\n",
              "        \n",
              "  <svg xmlns=\"http://www.w3.org/2000/svg\" height=\"24px\"viewBox=\"0 0 24 24\"\n",
              "       width=\"24px\">\n",
              "    <path d=\"M0 0h24v24H0V0z\" fill=\"none\"/>\n",
              "    <path d=\"M18.56 5.44l.94 2.06.94-2.06 2.06-.94-2.06-.94-.94-2.06-.94 2.06-2.06.94zm-11 1L8.5 8.5l.94-2.06 2.06-.94-2.06-.94L8.5 2.5l-.94 2.06-2.06.94zm10 10l.94 2.06.94-2.06 2.06-.94-2.06-.94-.94-2.06-.94 2.06-2.06.94z\"/><path d=\"M17.41 7.96l-1.37-1.37c-.4-.4-.92-.59-1.43-.59-.52 0-1.04.2-1.43.59L10.3 9.45l-7.72 7.72c-.78.78-.78 2.05 0 2.83L4 21.41c.39.39.9.59 1.41.59.51 0 1.02-.2 1.41-.59l7.78-7.78 2.81-2.81c.8-.78.8-2.07 0-2.86zM5.41 20L4 18.59l7.72-7.72 1.47 1.35L5.41 20z\"/>\n",
              "  </svg>\n",
              "      </button>\n",
              "      \n",
              "  <style>\n",
              "    .colab-df-container {\n",
              "      display:flex;\n",
              "      flex-wrap:wrap;\n",
              "      gap: 12px;\n",
              "    }\n",
              "\n",
              "    .colab-df-convert {\n",
              "      background-color: #E8F0FE;\n",
              "      border: none;\n",
              "      border-radius: 50%;\n",
              "      cursor: pointer;\n",
              "      display: none;\n",
              "      fill: #1967D2;\n",
              "      height: 32px;\n",
              "      padding: 0 0 0 0;\n",
              "      width: 32px;\n",
              "    }\n",
              "\n",
              "    .colab-df-convert:hover {\n",
              "      background-color: #E2EBFA;\n",
              "      box-shadow: 0px 1px 2px rgba(60, 64, 67, 0.3), 0px 1px 3px 1px rgba(60, 64, 67, 0.15);\n",
              "      fill: #174EA6;\n",
              "    }\n",
              "\n",
              "    [theme=dark] .colab-df-convert {\n",
              "      background-color: #3B4455;\n",
              "      fill: #D2E3FC;\n",
              "    }\n",
              "\n",
              "    [theme=dark] .colab-df-convert:hover {\n",
              "      background-color: #434B5C;\n",
              "      box-shadow: 0px 1px 3px 1px rgba(0, 0, 0, 0.15);\n",
              "      filter: drop-shadow(0px 1px 2px rgba(0, 0, 0, 0.3));\n",
              "      fill: #FFFFFF;\n",
              "    }\n",
              "  </style>\n",
              "\n",
              "      <script>\n",
              "        const buttonEl =\n",
              "          document.querySelector('#df-4338ac2a-7b5e-44db-b7fb-24fc65b70659 button.colab-df-convert');\n",
              "        buttonEl.style.display =\n",
              "          google.colab.kernel.accessAllowed ? 'block' : 'none';\n",
              "\n",
              "        async function convertToInteractive(key) {\n",
              "          const element = document.querySelector('#df-4338ac2a-7b5e-44db-b7fb-24fc65b70659');\n",
              "          const dataTable =\n",
              "            await google.colab.kernel.invokeFunction('convertToInteractive',\n",
              "                                                     [key], {});\n",
              "          if (!dataTable) return;\n",
              "\n",
              "          const docLinkHtml = 'Like what you see? Visit the ' +\n",
              "            '<a target=\"_blank\" href=https://colab.research.google.com/notebooks/data_table.ipynb>data table notebook</a>'\n",
              "            + ' to learn more about interactive tables.';\n",
              "          element.innerHTML = '';\n",
              "          dataTable['output_type'] = 'display_data';\n",
              "          await google.colab.output.renderOutput(dataTable, element);\n",
              "          const docLink = document.createElement('div');\n",
              "          docLink.innerHTML = docLinkHtml;\n",
              "          element.appendChild(docLink);\n",
              "        }\n",
              "      </script>\n",
              "    </div>\n",
              "  </div>\n",
              "  "
            ]
          },
          "metadata": {},
          "execution_count": 12
        }
      ]
    },
    {
      "cell_type": "code",
      "source": [
        "pip install -q -U keras-tuner"
      ],
      "metadata": {
        "colab": {
          "base_uri": "https://localhost:8080/"
        },
        "id": "aORZsLjVQcQW",
        "outputId": "46dcdb9a-bf30-413e-c6b8-0a0a9483227e"
      },
      "execution_count": null,
      "outputs": [
        {
          "output_type": "stream",
          "name": "stdout",
          "text": [
            "\u001b[?25l\r\u001b[K     |██▌                             | 10 kB 38.5 MB/s eta 0:00:01\r\u001b[K     |█████                           | 20 kB 44.5 MB/s eta 0:00:01\r\u001b[K     |███████▍                        | 30 kB 25.6 MB/s eta 0:00:01\r\u001b[K     |█████████▉                      | 40 kB 14.0 MB/s eta 0:00:01\r\u001b[K     |████████████▎                   | 51 kB 13.3 MB/s eta 0:00:01\r\u001b[K     |██████████████▊                 | 61 kB 15.5 MB/s eta 0:00:01\r\u001b[K     |█████████████████▏              | 71 kB 14.7 MB/s eta 0:00:01\r\u001b[K     |███████████████████▋            | 81 kB 12.3 MB/s eta 0:00:01\r\u001b[K     |██████████████████████          | 92 kB 13.6 MB/s eta 0:00:01\r\u001b[K     |████████████████████████▌       | 102 kB 14.9 MB/s eta 0:00:01\r\u001b[K     |███████████████████████████     | 112 kB 14.9 MB/s eta 0:00:01\r\u001b[K     |█████████████████████████████▍  | 122 kB 14.9 MB/s eta 0:00:01\r\u001b[K     |███████████████████████████████▉| 133 kB 14.9 MB/s eta 0:00:01\r\u001b[K     |████████████████████████████████| 133 kB 14.9 MB/s \n",
            "\u001b[?25h"
          ]
        }
      ]
    },
    {
      "cell_type": "code",
      "source": [
        "x_dt=transfer_set_with_tri_trained_sub_labeled_dt.drop([3000],axis=1)\n",
        "y_dt=transfer_set_with_tri_trained_sub_labeled_dt[3000]"
      ],
      "metadata": {
        "id": "HAqMkbOUQcR5"
      },
      "execution_count": null,
      "outputs": []
    },
    {
      "cell_type": "code",
      "source": [
        "y_dt_=np_utils.to_categorical(y_dt)"
      ],
      "metadata": {
        "id": "24HuXo3SQcVf"
      },
      "execution_count": null,
      "outputs": []
    },
    {
      "cell_type": "code",
      "source": [
        "y_dt_"
      ],
      "metadata": {
        "colab": {
          "base_uri": "https://localhost:8080/"
        },
        "id": "EInfGISPVZkk",
        "outputId": "e34990bc-450d-4d17-d0d5-fb4f31757881"
      },
      "execution_count": null,
      "outputs": [
        {
          "output_type": "execute_result",
          "data": {
            "text/plain": [
              "array([[0., 0., 0., 0., 1.],\n",
              "       [0., 0., 0., 1., 0.],\n",
              "       [0., 0., 1., 0., 0.],\n",
              "       ...,\n",
              "       [1., 0., 0., 0., 0.],\n",
              "       [0., 0., 0., 0., 1.],\n",
              "       [1., 0., 0., 0., 0.]], dtype=float32)"
            ]
          },
          "metadata": {},
          "execution_count": 16
        }
      ]
    },
    {
      "cell_type": "code",
      "source": [
        "x_dt.shape"
      ],
      "metadata": {
        "colab": {
          "base_uri": "https://localhost:8080/"
        },
        "id": "-MFbvxnbRw_K",
        "outputId": "0f2b18f5-ecd6-4c9d-a23a-56c199a5676b"
      },
      "execution_count": null,
      "outputs": [
        {
          "output_type": "execute_result",
          "data": {
            "text/plain": [
              "(119934, 3000)"
            ]
          },
          "metadata": {},
          "execution_count": 17
        }
      ]
    },
    {
      "cell_type": "code",
      "source": [
        "x_dt"
      ],
      "metadata": {
        "colab": {
          "base_uri": "https://localhost:8080/",
          "height": 488
        },
        "id": "_pscT85Y9Wu6",
        "outputId": "0dea5e47-f4ec-448f-de09-b80f377c8331"
      },
      "execution_count": null,
      "outputs": [
        {
          "output_type": "execute_result",
          "data": {
            "text/plain": [
              "            0         1         2         3         4         5         6     \\\n",
              "0       0.068014  0.082915  0.077628  0.074744  0.060804  0.063688  0.050710   \n",
              "1       0.104729  0.054513 -0.020131 -0.064918 -0.122825 -0.127801 -0.107443   \n",
              "2       0.002281 -0.031309 -0.007672 -0.020527 -0.003110 -0.011404  0.006013   \n",
              "3      -0.025235 -0.037732 -0.033406 -0.031964 -0.034848 -0.041097 -0.031484   \n",
              "4       0.097914 -0.100520 -0.044574 -0.079540 -0.071235 -0.029713 -0.041951   \n",
              "...          ...       ...       ...       ...       ...       ...       ...   \n",
              "119929 -0.050405 -0.033532  0.013069  0.030343  0.028335  0.016684  0.073731   \n",
              "119930 -0.006616 -0.006616  0.037173  0.071320  0.102655  0.082970  0.023514   \n",
              "119931 -0.188914  0.020942 -0.246959 -0.030852 -0.049159  0.021835  0.018263   \n",
              "119932  0.046011  0.063285  0.033557 -0.000590  0.007846  0.027933  0.023514   \n",
              "119933 -0.250085  0.117833  0.128549  0.269644 -0.279554  0.193738 -0.149622   \n",
              "\n",
              "            7         8         9     ...      2990      2991      2992  \\\n",
              "0       0.029561  0.010815  0.008412  ... -0.007450 -0.010334 -0.016102   \n",
              "1      -0.086633 -0.051799 -0.033251  ... -0.102467 -0.123729 -0.120563   \n",
              "2      -0.029236 -0.025089 -0.042091  ...  0.054532  0.088122  0.057850   \n",
              "3      -0.025716 -0.019948 -0.030522  ... -0.012738 -0.015141 -0.013699   \n",
              "4       0.000445 -0.031024  0.172217  ...  0.264003  0.167409  0.220732   \n",
              "...          ...       ...       ...  ...       ...       ...       ...   \n",
              "119929  0.016684 -0.012642 -0.014651  ... -0.002197 -0.054423 -0.057636   \n",
              "119930  0.014676 -0.006616  0.031147  ...  0.131179  0.141222  0.170548   \n",
              "119931 -0.022815 -0.025941  0.114707  ...  0.041481 -0.088898 -0.214811   \n",
              "119932  0.025121  0.034361  0.044806  ...  0.000615  0.019496  0.043199   \n",
              "119933 -0.537632 -0.150515 -0.296074  ...  0.337512  0.440207  0.382609   \n",
              "\n",
              "            2993      2994      2995      2996      2997      2998      2999  \n",
              "0      -0.034368 -0.055998 -0.074263 -0.071860 -0.077147 -0.084838 -0.090125  \n",
              "1      -0.129158 -0.149968 -0.173945 -0.187064 -0.171231 -0.149516 -0.121467  \n",
              "2       0.027992  0.038359  0.040847  0.053703  0.072779  0.055362  0.029651  \n",
              "3      -0.018025 -0.020909 -0.021390 -0.002644 -0.020428 -0.025235 -0.024754  \n",
              "4       0.191011  0.119767  0.165661  0.270996  0.200190  0.246520  0.166535  \n",
              "...          ...       ...       ...       ...       ...       ...       ...  \n",
              "119929 -0.064868 -0.035139  0.001418  0.055251  0.019496 -0.035943 -0.035943  \n",
              "119930  0.170950  0.155684  0.146444  0.144034  0.141222  0.138008  0.160907  \n",
              "119931  0.074969  0.055769 -0.110776 -0.067465 -0.246066 -0.050498 -0.079521  \n",
              "119932  0.046814  0.040387  0.033557  0.030745  0.014274 -0.038353 -0.041165  \n",
              "119933  0.510308  0.412078  0.554959  0.578623  0.564782  0.608539  0.600948  \n",
              "\n",
              "[119934 rows x 3000 columns]"
            ],
            "text/html": [
              "\n",
              "  <div id=\"df-1c149706-9f7a-4927-8f1a-f5dcba8b8305\">\n",
              "    <div class=\"colab-df-container\">\n",
              "      <div>\n",
              "<style scoped>\n",
              "    .dataframe tbody tr th:only-of-type {\n",
              "        vertical-align: middle;\n",
              "    }\n",
              "\n",
              "    .dataframe tbody tr th {\n",
              "        vertical-align: top;\n",
              "    }\n",
              "\n",
              "    .dataframe thead th {\n",
              "        text-align: right;\n",
              "    }\n",
              "</style>\n",
              "<table border=\"1\" class=\"dataframe\">\n",
              "  <thead>\n",
              "    <tr style=\"text-align: right;\">\n",
              "      <th></th>\n",
              "      <th>0</th>\n",
              "      <th>1</th>\n",
              "      <th>2</th>\n",
              "      <th>3</th>\n",
              "      <th>4</th>\n",
              "      <th>5</th>\n",
              "      <th>6</th>\n",
              "      <th>7</th>\n",
              "      <th>8</th>\n",
              "      <th>9</th>\n",
              "      <th>...</th>\n",
              "      <th>2990</th>\n",
              "      <th>2991</th>\n",
              "      <th>2992</th>\n",
              "      <th>2993</th>\n",
              "      <th>2994</th>\n",
              "      <th>2995</th>\n",
              "      <th>2996</th>\n",
              "      <th>2997</th>\n",
              "      <th>2998</th>\n",
              "      <th>2999</th>\n",
              "    </tr>\n",
              "  </thead>\n",
              "  <tbody>\n",
              "    <tr>\n",
              "      <th>0</th>\n",
              "      <td>0.068014</td>\n",
              "      <td>0.082915</td>\n",
              "      <td>0.077628</td>\n",
              "      <td>0.074744</td>\n",
              "      <td>0.060804</td>\n",
              "      <td>0.063688</td>\n",
              "      <td>0.050710</td>\n",
              "      <td>0.029561</td>\n",
              "      <td>0.010815</td>\n",
              "      <td>0.008412</td>\n",
              "      <td>...</td>\n",
              "      <td>-0.007450</td>\n",
              "      <td>-0.010334</td>\n",
              "      <td>-0.016102</td>\n",
              "      <td>-0.034368</td>\n",
              "      <td>-0.055998</td>\n",
              "      <td>-0.074263</td>\n",
              "      <td>-0.071860</td>\n",
              "      <td>-0.077147</td>\n",
              "      <td>-0.084838</td>\n",
              "      <td>-0.090125</td>\n",
              "    </tr>\n",
              "    <tr>\n",
              "      <th>1</th>\n",
              "      <td>0.104729</td>\n",
              "      <td>0.054513</td>\n",
              "      <td>-0.020131</td>\n",
              "      <td>-0.064918</td>\n",
              "      <td>-0.122825</td>\n",
              "      <td>-0.127801</td>\n",
              "      <td>-0.107443</td>\n",
              "      <td>-0.086633</td>\n",
              "      <td>-0.051799</td>\n",
              "      <td>-0.033251</td>\n",
              "      <td>...</td>\n",
              "      <td>-0.102467</td>\n",
              "      <td>-0.123729</td>\n",
              "      <td>-0.120563</td>\n",
              "      <td>-0.129158</td>\n",
              "      <td>-0.149968</td>\n",
              "      <td>-0.173945</td>\n",
              "      <td>-0.187064</td>\n",
              "      <td>-0.171231</td>\n",
              "      <td>-0.149516</td>\n",
              "      <td>-0.121467</td>\n",
              "    </tr>\n",
              "    <tr>\n",
              "      <th>2</th>\n",
              "      <td>0.002281</td>\n",
              "      <td>-0.031309</td>\n",
              "      <td>-0.007672</td>\n",
              "      <td>-0.020527</td>\n",
              "      <td>-0.003110</td>\n",
              "      <td>-0.011404</td>\n",
              "      <td>0.006013</td>\n",
              "      <td>-0.029236</td>\n",
              "      <td>-0.025089</td>\n",
              "      <td>-0.042091</td>\n",
              "      <td>...</td>\n",
              "      <td>0.054532</td>\n",
              "      <td>0.088122</td>\n",
              "      <td>0.057850</td>\n",
              "      <td>0.027992</td>\n",
              "      <td>0.038359</td>\n",
              "      <td>0.040847</td>\n",
              "      <td>0.053703</td>\n",
              "      <td>0.072779</td>\n",
              "      <td>0.055362</td>\n",
              "      <td>0.029651</td>\n",
              "    </tr>\n",
              "    <tr>\n",
              "      <th>3</th>\n",
              "      <td>-0.025235</td>\n",
              "      <td>-0.037732</td>\n",
              "      <td>-0.033406</td>\n",
              "      <td>-0.031964</td>\n",
              "      <td>-0.034848</td>\n",
              "      <td>-0.041097</td>\n",
              "      <td>-0.031484</td>\n",
              "      <td>-0.025716</td>\n",
              "      <td>-0.019948</td>\n",
              "      <td>-0.030522</td>\n",
              "      <td>...</td>\n",
              "      <td>-0.012738</td>\n",
              "      <td>-0.015141</td>\n",
              "      <td>-0.013699</td>\n",
              "      <td>-0.018025</td>\n",
              "      <td>-0.020909</td>\n",
              "      <td>-0.021390</td>\n",
              "      <td>-0.002644</td>\n",
              "      <td>-0.020428</td>\n",
              "      <td>-0.025235</td>\n",
              "      <td>-0.024754</td>\n",
              "    </tr>\n",
              "    <tr>\n",
              "      <th>4</th>\n",
              "      <td>0.097914</td>\n",
              "      <td>-0.100520</td>\n",
              "      <td>-0.044574</td>\n",
              "      <td>-0.079540</td>\n",
              "      <td>-0.071235</td>\n",
              "      <td>-0.029713</td>\n",
              "      <td>-0.041951</td>\n",
              "      <td>0.000445</td>\n",
              "      <td>-0.031024</td>\n",
              "      <td>0.172217</td>\n",
              "      <td>...</td>\n",
              "      <td>0.264003</td>\n",
              "      <td>0.167409</td>\n",
              "      <td>0.220732</td>\n",
              "      <td>0.191011</td>\n",
              "      <td>0.119767</td>\n",
              "      <td>0.165661</td>\n",
              "      <td>0.270996</td>\n",
              "      <td>0.200190</td>\n",
              "      <td>0.246520</td>\n",
              "      <td>0.166535</td>\n",
              "    </tr>\n",
              "    <tr>\n",
              "      <th>...</th>\n",
              "      <td>...</td>\n",
              "      <td>...</td>\n",
              "      <td>...</td>\n",
              "      <td>...</td>\n",
              "      <td>...</td>\n",
              "      <td>...</td>\n",
              "      <td>...</td>\n",
              "      <td>...</td>\n",
              "      <td>...</td>\n",
              "      <td>...</td>\n",
              "      <td>...</td>\n",
              "      <td>...</td>\n",
              "      <td>...</td>\n",
              "      <td>...</td>\n",
              "      <td>...</td>\n",
              "      <td>...</td>\n",
              "      <td>...</td>\n",
              "      <td>...</td>\n",
              "      <td>...</td>\n",
              "      <td>...</td>\n",
              "      <td>...</td>\n",
              "    </tr>\n",
              "    <tr>\n",
              "      <th>119929</th>\n",
              "      <td>-0.050405</td>\n",
              "      <td>-0.033532</td>\n",
              "      <td>0.013069</td>\n",
              "      <td>0.030343</td>\n",
              "      <td>0.028335</td>\n",
              "      <td>0.016684</td>\n",
              "      <td>0.073731</td>\n",
              "      <td>0.016684</td>\n",
              "      <td>-0.012642</td>\n",
              "      <td>-0.014651</td>\n",
              "      <td>...</td>\n",
              "      <td>-0.002197</td>\n",
              "      <td>-0.054423</td>\n",
              "      <td>-0.057636</td>\n",
              "      <td>-0.064868</td>\n",
              "      <td>-0.035139</td>\n",
              "      <td>0.001418</td>\n",
              "      <td>0.055251</td>\n",
              "      <td>0.019496</td>\n",
              "      <td>-0.035943</td>\n",
              "      <td>-0.035943</td>\n",
              "    </tr>\n",
              "    <tr>\n",
              "      <th>119930</th>\n",
              "      <td>-0.006616</td>\n",
              "      <td>-0.006616</td>\n",
              "      <td>0.037173</td>\n",
              "      <td>0.071320</td>\n",
              "      <td>0.102655</td>\n",
              "      <td>0.082970</td>\n",
              "      <td>0.023514</td>\n",
              "      <td>0.014676</td>\n",
              "      <td>-0.006616</td>\n",
              "      <td>0.031147</td>\n",
              "      <td>...</td>\n",
              "      <td>0.131179</td>\n",
              "      <td>0.141222</td>\n",
              "      <td>0.170548</td>\n",
              "      <td>0.170950</td>\n",
              "      <td>0.155684</td>\n",
              "      <td>0.146444</td>\n",
              "      <td>0.144034</td>\n",
              "      <td>0.141222</td>\n",
              "      <td>0.138008</td>\n",
              "      <td>0.160907</td>\n",
              "    </tr>\n",
              "    <tr>\n",
              "      <th>119931</th>\n",
              "      <td>-0.188914</td>\n",
              "      <td>0.020942</td>\n",
              "      <td>-0.246959</td>\n",
              "      <td>-0.030852</td>\n",
              "      <td>-0.049159</td>\n",
              "      <td>0.021835</td>\n",
              "      <td>0.018263</td>\n",
              "      <td>-0.022815</td>\n",
              "      <td>-0.025941</td>\n",
              "      <td>0.114707</td>\n",
              "      <td>...</td>\n",
              "      <td>0.041481</td>\n",
              "      <td>-0.088898</td>\n",
              "      <td>-0.214811</td>\n",
              "      <td>0.074969</td>\n",
              "      <td>0.055769</td>\n",
              "      <td>-0.110776</td>\n",
              "      <td>-0.067465</td>\n",
              "      <td>-0.246066</td>\n",
              "      <td>-0.050498</td>\n",
              "      <td>-0.079521</td>\n",
              "    </tr>\n",
              "    <tr>\n",
              "      <th>119932</th>\n",
              "      <td>0.046011</td>\n",
              "      <td>0.063285</td>\n",
              "      <td>0.033557</td>\n",
              "      <td>-0.000590</td>\n",
              "      <td>0.007846</td>\n",
              "      <td>0.027933</td>\n",
              "      <td>0.023514</td>\n",
              "      <td>0.025121</td>\n",
              "      <td>0.034361</td>\n",
              "      <td>0.044806</td>\n",
              "      <td>...</td>\n",
              "      <td>0.000615</td>\n",
              "      <td>0.019496</td>\n",
              "      <td>0.043199</td>\n",
              "      <td>0.046814</td>\n",
              "      <td>0.040387</td>\n",
              "      <td>0.033557</td>\n",
              "      <td>0.030745</td>\n",
              "      <td>0.014274</td>\n",
              "      <td>-0.038353</td>\n",
              "      <td>-0.041165</td>\n",
              "    </tr>\n",
              "    <tr>\n",
              "      <th>119933</th>\n",
              "      <td>-0.250085</td>\n",
              "      <td>0.117833</td>\n",
              "      <td>0.128549</td>\n",
              "      <td>0.269644</td>\n",
              "      <td>-0.279554</td>\n",
              "      <td>0.193738</td>\n",
              "      <td>-0.149622</td>\n",
              "      <td>-0.537632</td>\n",
              "      <td>-0.150515</td>\n",
              "      <td>-0.296074</td>\n",
              "      <td>...</td>\n",
              "      <td>0.337512</td>\n",
              "      <td>0.440207</td>\n",
              "      <td>0.382609</td>\n",
              "      <td>0.510308</td>\n",
              "      <td>0.412078</td>\n",
              "      <td>0.554959</td>\n",
              "      <td>0.578623</td>\n",
              "      <td>0.564782</td>\n",
              "      <td>0.608539</td>\n",
              "      <td>0.600948</td>\n",
              "    </tr>\n",
              "  </tbody>\n",
              "</table>\n",
              "<p>119934 rows × 3000 columns</p>\n",
              "</div>\n",
              "      <button class=\"colab-df-convert\" onclick=\"convertToInteractive('df-1c149706-9f7a-4927-8f1a-f5dcba8b8305')\"\n",
              "              title=\"Convert this dataframe to an interactive table.\"\n",
              "              style=\"display:none;\">\n",
              "        \n",
              "  <svg xmlns=\"http://www.w3.org/2000/svg\" height=\"24px\"viewBox=\"0 0 24 24\"\n",
              "       width=\"24px\">\n",
              "    <path d=\"M0 0h24v24H0V0z\" fill=\"none\"/>\n",
              "    <path d=\"M18.56 5.44l.94 2.06.94-2.06 2.06-.94-2.06-.94-.94-2.06-.94 2.06-2.06.94zm-11 1L8.5 8.5l.94-2.06 2.06-.94-2.06-.94L8.5 2.5l-.94 2.06-2.06.94zm10 10l.94 2.06.94-2.06 2.06-.94-2.06-.94-.94-2.06-.94 2.06-2.06.94z\"/><path d=\"M17.41 7.96l-1.37-1.37c-.4-.4-.92-.59-1.43-.59-.52 0-1.04.2-1.43.59L10.3 9.45l-7.72 7.72c-.78.78-.78 2.05 0 2.83L4 21.41c.39.39.9.59 1.41.59.51 0 1.02-.2 1.41-.59l7.78-7.78 2.81-2.81c.8-.78.8-2.07 0-2.86zM5.41 20L4 18.59l7.72-7.72 1.47 1.35L5.41 20z\"/>\n",
              "  </svg>\n",
              "      </button>\n",
              "      \n",
              "  <style>\n",
              "    .colab-df-container {\n",
              "      display:flex;\n",
              "      flex-wrap:wrap;\n",
              "      gap: 12px;\n",
              "    }\n",
              "\n",
              "    .colab-df-convert {\n",
              "      background-color: #E8F0FE;\n",
              "      border: none;\n",
              "      border-radius: 50%;\n",
              "      cursor: pointer;\n",
              "      display: none;\n",
              "      fill: #1967D2;\n",
              "      height: 32px;\n",
              "      padding: 0 0 0 0;\n",
              "      width: 32px;\n",
              "    }\n",
              "\n",
              "    .colab-df-convert:hover {\n",
              "      background-color: #E2EBFA;\n",
              "      box-shadow: 0px 1px 2px rgba(60, 64, 67, 0.3), 0px 1px 3px 1px rgba(60, 64, 67, 0.15);\n",
              "      fill: #174EA6;\n",
              "    }\n",
              "\n",
              "    [theme=dark] .colab-df-convert {\n",
              "      background-color: #3B4455;\n",
              "      fill: #D2E3FC;\n",
              "    }\n",
              "\n",
              "    [theme=dark] .colab-df-convert:hover {\n",
              "      background-color: #434B5C;\n",
              "      box-shadow: 0px 1px 3px 1px rgba(0, 0, 0, 0.15);\n",
              "      filter: drop-shadow(0px 1px 2px rgba(0, 0, 0, 0.3));\n",
              "      fill: #FFFFFF;\n",
              "    }\n",
              "  </style>\n",
              "\n",
              "      <script>\n",
              "        const buttonEl =\n",
              "          document.querySelector('#df-1c149706-9f7a-4927-8f1a-f5dcba8b8305 button.colab-df-convert');\n",
              "        buttonEl.style.display =\n",
              "          google.colab.kernel.accessAllowed ? 'block' : 'none';\n",
              "\n",
              "        async function convertToInteractive(key) {\n",
              "          const element = document.querySelector('#df-1c149706-9f7a-4927-8f1a-f5dcba8b8305');\n",
              "          const dataTable =\n",
              "            await google.colab.kernel.invokeFunction('convertToInteractive',\n",
              "                                                     [key], {});\n",
              "          if (!dataTable) return;\n",
              "\n",
              "          const docLinkHtml = 'Like what you see? Visit the ' +\n",
              "            '<a target=\"_blank\" href=https://colab.research.google.com/notebooks/data_table.ipynb>data table notebook</a>'\n",
              "            + ' to learn more about interactive tables.';\n",
              "          element.innerHTML = '';\n",
              "          dataTable['output_type'] = 'display_data';\n",
              "          await google.colab.output.renderOutput(dataTable, element);\n",
              "          const docLink = document.createElement('div');\n",
              "          docLink.innerHTML = docLinkHtml;\n",
              "          element.appendChild(docLink);\n",
              "        }\n",
              "      </script>\n",
              "    </div>\n",
              "  </div>\n",
              "  "
            ]
          },
          "metadata": {},
          "execution_count": 18
        }
      ]
    },
    {
      "cell_type": "code",
      "source": [
        "x_dt_rshp=np.array(x_dt).reshape(119934,3000,1)"
      ],
      "metadata": {
        "id": "ZoKoYtGwRrAo"
      },
      "execution_count": null,
      "outputs": []
    },
    {
      "cell_type": "code",
      "source": [
        "x_dt_rshp"
      ],
      "metadata": {
        "colab": {
          "base_uri": "https://localhost:8080/"
        },
        "id": "04kJP5r49Zdu",
        "outputId": "fa747b9a-9bcb-4b37-dc74-3f337750317d"
      },
      "execution_count": null,
      "outputs": [
        {
          "output_type": "execute_result",
          "data": {
            "text/plain": [
              "array([[[ 0.0680144 ],\n",
              "        [ 0.08291509],\n",
              "        [ 0.07762775],\n",
              "        ...,\n",
              "        [-0.07714708],\n",
              "        [-0.08483776],\n",
              "        [-0.09012509]],\n",
              "\n",
              "       [[ 0.1047289 ],\n",
              "        [ 0.05451331],\n",
              "        [-0.02013147],\n",
              "        ...,\n",
              "        [-0.17123062],\n",
              "        [-0.14951577],\n",
              "        [-0.12146743]],\n",
              "\n",
              "       [[ 0.00228081],\n",
              "        [-0.03130934],\n",
              "        [-0.00767183],\n",
              "        ...,\n",
              "        [ 0.07277867],\n",
              "        [ 0.05536155],\n",
              "        [ 0.02965057]],\n",
              "\n",
              "       ...,\n",
              "\n",
              "       [[-0.18891398],\n",
              "        [ 0.02094201],\n",
              "        [-0.24695925],\n",
              "        ...,\n",
              "        [-0.24606625],\n",
              "        [-0.05049833],\n",
              "        [-0.07952097]],\n",
              "\n",
              "       [[ 0.04601093],\n",
              "        [ 0.06328549],\n",
              "        [ 0.03355717],\n",
              "        ...,\n",
              "        [ 0.01427393],\n",
              "        [-0.03835323],\n",
              "        [-0.04116537]],\n",
              "\n",
              "       [[-0.25008478],\n",
              "        [ 0.11783296],\n",
              "        [ 0.12854902],\n",
              "        ...,\n",
              "        [ 0.56478157],\n",
              "        [ 0.60853877],\n",
              "        [ 0.60094824]]])"
            ]
          },
          "metadata": {},
          "execution_count": 20
        }
      ]
    },
    {
      "cell_type": "code",
      "source": [
        "import numpy as np\n",
        "np.random.seed(999)\n",
        "\n",
        "import tensorflow\n",
        "tensorflow.random.set_seed(999)\n",
        "\n",
        "import random\n",
        "#random.seed(999)"
      ],
      "metadata": {
        "id": "cvwl-_MPR8z4"
      },
      "execution_count": null,
      "outputs": []
    },
    {
      "cell_type": "code",
      "source": [
        "pip install git+https://www.github.com/keras-team/keras-contrib.git"
      ],
      "metadata": {
        "colab": {
          "base_uri": "https://localhost:8080/"
        },
        "id": "pi-d-1UxSBWe",
        "outputId": "ac0ec632-0446-4fb9-9c36-9325849de9e2"
      },
      "execution_count": null,
      "outputs": [
        {
          "output_type": "stream",
          "name": "stdout",
          "text": [
            "Looking in indexes: https://pypi.org/simple, https://us-python.pkg.dev/colab-wheels/public/simple/\n",
            "Collecting git+https://www.github.com/keras-team/keras-contrib.git\n",
            "  Cloning https://www.github.com/keras-team/keras-contrib.git to /tmp/pip-req-build-gb89we4_\n",
            "  Running command git clone -q https://www.github.com/keras-team/keras-contrib.git /tmp/pip-req-build-gb89we4_\n",
            "Requirement already satisfied: keras in /usr/local/lib/python3.7/dist-packages (from keras-contrib==2.0.8) (2.8.0)\n",
            "Building wheels for collected packages: keras-contrib\n",
            "  Building wheel for keras-contrib (setup.py) ... \u001b[?25l\u001b[?25hdone\n",
            "  Created wheel for keras-contrib: filename=keras_contrib-2.0.8-py3-none-any.whl size=101077 sha256=74f431ff187060965a3d22e343d10f0686d336fc5ae60788ad025ba30002afe7\n",
            "  Stored in directory: /tmp/pip-ephem-wheel-cache-k3qwfkrl/wheels/bb/1f/f2/b57495012683b6b20bbae94a3915ec79753111452d79886abc\n",
            "Successfully built keras-contrib\n",
            "Installing collected packages: keras-contrib\n",
            "Successfully installed keras-contrib-2.0.8\n"
          ]
        }
      ]
    },
    {
      "cell_type": "code",
      "source": [
        "from tensorflow.keras import optimizers, losses, activations, models\n",
        "from tensorflow.keras.models import Model, load_model\n",
        "from tensorflow.keras.layers import GlobalMaxPool1D, GlobalAveragePooling1D, concatenate, SpatialDropout1D, TimeDistributed, Bidirectional, LSTM\n",
        "from tensorflow.keras.layers import Input, Conv1D, Dense, Dropout, MaxPool1D, Activation\n",
        "from tensorflow.keras.layers import Reshape, LSTM, TimeDistributed, Bidirectional, BatchNormalization, Flatten, RepeatVector\n",
        "from tensorflow.keras.optimizers import Adam\n",
        "#from keras_contrib.layers import CRF\n",
        "\n",
        "from scipy.signal import butter, lfilter\n"
      ],
      "metadata": {
        "id": "5u70hpGwSBZf"
      },
      "execution_count": null,
      "outputs": []
    },
    {
      "cell_type": "code",
      "source": [
        "Fs = 100"
      ],
      "metadata": {
        "id": "ZfwILbjiSEVL"
      },
      "execution_count": null,
      "outputs": []
    },
    {
      "cell_type": "code",
      "source": [
        "#n_classes=5\n",
        "def model_b(n_classes=5, use_sub_layer=False, use_rnn=True, verbose=False):\n",
        "    inputLayer = Input(shape=(3000, 1), name='inLayer')\n",
        "    convFine = Conv1D(filters=64, kernel_size=int(Fs/2), strides=int(Fs/16), padding='same', activation='relu', name='fConv1')(inputLayer)\n",
        "    convFine = MaxPool1D(pool_size=8, strides=8, name='fMaxP1')(convFine)\n",
        "    convFine = Dropout(rate=0.5, name='fDrop1')(convFine)\n",
        "    convFine = Conv1D(filters=128, kernel_size=8, padding='same', activation='relu', name='fConv2')(convFine)\n",
        "    convFine = Conv1D(filters=128, kernel_size=8, padding='same', activation='relu', name='fConv3')(convFine)\n",
        "    convFine = Conv1D(filters=128, kernel_size=8, padding='same', activation='relu', name='fConv4')(convFine)\n",
        "    convFine = MaxPool1D(pool_size=4, strides=4, name='fMaxP2')(convFine)\n",
        "    fineShape = convFine.get_shape()\n",
        "    convFine = Flatten(name='fFlat1')(convFine)\n",
        "    \n",
        "    # network to learn coarse features\n",
        "    convCoarse = Conv1D(filters=32, kernel_size=Fs*4, strides=int(Fs/2), padding='same', activation='relu', name='cConv1')(inputLayer)\n",
        "    convCoarse = MaxPool1D(pool_size=4, strides=4, name='cMaxP1')(convCoarse)\n",
        "    convCoarse = Dropout(rate=0.5, name='cDrop1')(convCoarse)\n",
        "    convCoarse = Conv1D(filters=128, kernel_size=6, padding='same', activation='relu', name='cConv2')(convCoarse)\n",
        "    convCoarse = Conv1D(filters=128, kernel_size=6, padding='same', activation='relu', name='cConv3')(convCoarse)\n",
        "    convCoarse = Conv1D(filters=128, kernel_size=6, padding='same', activation='relu', name='cConv4')(convCoarse)\n",
        "    convCoarse = MaxPool1D(pool_size=2, strides=2, name='cMaxP2')(convCoarse)\n",
        "    coarseShape = convCoarse.get_shape()\n",
        "    convCoarse = Flatten(name='cFlat1')(convCoarse)\n",
        "    \n",
        "    # concatenate coarse and fine cnns\n",
        "    mergeLayer = concatenate([convFine, convCoarse], name='merge_1')\n",
        "    outLayer = Dropout(rate=0.5, name='mDrop1')(mergeLayer)\n",
        "    \n",
        "    outLayer = Reshape((1, outLayer.get_shape()[1]), name='reshape1')(outLayer)\n",
        "    outLayer = LSTM(64, return_sequences=True)(outLayer)\n",
        "    outLayer = LSTM(64, return_sequences=False)(outLayer)\n",
        "\n",
        "    # Classify\n",
        "    outLayer = Dense(n_classes, activation='softmax', name='outLayer')(outLayer)\n",
        "    model = Model(inputLayer, outLayer)\n",
        "    optimizer = Adam(lr=1e-4)\n",
        "    model.compile(optimizer=optimizer, loss='categorical_crossentropy', metrics=['acc'])\n",
        "    #model.compile(optimizer=optimizer, loss='categorical_crossentropy', metrics=['accuracy'])\n",
        "    if verbose:\n",
        "        model.summary()\n",
        "    return model"
      ],
      "metadata": {
        "id": "6mJDpenlSEaV"
      },
      "execution_count": null,
      "outputs": []
    },
    {
      "cell_type": "code",
      "source": [
        "import keras_tuner as kt\n",
        "optimizer=Adam(lr=1e-4)"
      ],
      "metadata": {
        "id": "w-Mz82AVSXve"
      },
      "execution_count": null,
      "outputs": []
    },
    {
      "cell_type": "code",
      "source": [
        "class MyHyperModel(kt.HyperModel):\n",
        "    def build(self, hp):\n",
        "      model=model_b(verbose=VBS)\n",
        "      optimizer = Adam(lr=1e-4)\n",
        "      model.compile(optimizer=optimizer, loss='categorical_crossentropy', metrics=['acc'])\n",
        "      optimizer = Adam(lr=1e-4)\n",
        "      return model\n",
        "\n",
        "    def fit(self, hp, model, *args, **kwargs):\n",
        "        return model.fit(\n",
        "            x_dt_rshp, y_dt_,\n",
        "            epochs=hp.Choice(\"epochs\", [40, 50, 60, 70])\n",
        "        )"
      ],
      "metadata": {
        "id": "VKGUsLg43ddn"
      },
      "execution_count": null,
      "outputs": []
    },
    {
      "cell_type": "code",
      "source": [
        "tuner = kt.RandomSearch(\n",
        "    MyHyperModel(),\n",
        "    objective=\"loss\",\n",
        "    max_trials=3,\n",
        "    executions_per_trial=2,\n",
        "    overwrite=True,\n",
        "    #directory=\"my_dir\",\n",
        "    #project_name=\"tune_hypermodel\",\n",
        ")"
      ],
      "metadata": {
        "colab": {
          "base_uri": "https://localhost:8080/"
        },
        "id": "C8THo9hX4N3J",
        "outputId": "5a35b2aa-de26-4cab-ef54-25e3e0088ae6"
      },
      "execution_count": null,
      "outputs": [
        {
          "output_type": "stream",
          "name": "stdout",
          "text": [
            "Model: \"model\"\n",
            "__________________________________________________________________________________________________\n",
            " Layer (type)                   Output Shape         Param #     Connected to                     \n",
            "==================================================================================================\n",
            " inLayer (InputLayer)           [(None, 3000, 1)]    0           []                               \n",
            "                                                                                                  \n",
            " fConv1 (Conv1D)                (None, 500, 64)      3264        ['inLayer[0][0]']                \n",
            "                                                                                                  \n",
            " cConv1 (Conv1D)                (None, 60, 32)       12832       ['inLayer[0][0]']                \n",
            "                                                                                                  \n",
            " fMaxP1 (MaxPooling1D)          (None, 62, 64)       0           ['fConv1[0][0]']                 \n",
            "                                                                                                  \n",
            " cMaxP1 (MaxPooling1D)          (None, 15, 32)       0           ['cConv1[0][0]']                 \n",
            "                                                                                                  \n",
            " fDrop1 (Dropout)               (None, 62, 64)       0           ['fMaxP1[0][0]']                 \n",
            "                                                                                                  \n",
            " cDrop1 (Dropout)               (None, 15, 32)       0           ['cMaxP1[0][0]']                 \n",
            "                                                                                                  \n",
            " fConv2 (Conv1D)                (None, 62, 128)      65664       ['fDrop1[0][0]']                 \n",
            "                                                                                                  \n",
            " cConv2 (Conv1D)                (None, 15, 128)      24704       ['cDrop1[0][0]']                 \n",
            "                                                                                                  \n",
            " fConv3 (Conv1D)                (None, 62, 128)      131200      ['fConv2[0][0]']                 \n",
            "                                                                                                  \n",
            " cConv3 (Conv1D)                (None, 15, 128)      98432       ['cConv2[0][0]']                 \n",
            "                                                                                                  \n",
            " fConv4 (Conv1D)                (None, 62, 128)      131200      ['fConv3[0][0]']                 \n",
            "                                                                                                  \n",
            " cConv4 (Conv1D)                (None, 15, 128)      98432       ['cConv3[0][0]']                 \n",
            "                                                                                                  \n",
            " fMaxP2 (MaxPooling1D)          (None, 15, 128)      0           ['fConv4[0][0]']                 \n",
            "                                                                                                  \n",
            " cMaxP2 (MaxPooling1D)          (None, 7, 128)       0           ['cConv4[0][0]']                 \n",
            "                                                                                                  \n",
            " fFlat1 (Flatten)               (None, 1920)         0           ['fMaxP2[0][0]']                 \n",
            "                                                                                                  \n",
            " cFlat1 (Flatten)               (None, 896)          0           ['cMaxP2[0][0]']                 \n",
            "                                                                                                  \n",
            " merge_1 (Concatenate)          (None, 2816)         0           ['fFlat1[0][0]',                 \n",
            "                                                                  'cFlat1[0][0]']                 \n",
            "                                                                                                  \n",
            " mDrop1 (Dropout)               (None, 2816)         0           ['merge_1[0][0]']                \n",
            "                                                                                                  \n",
            " reshape1 (Reshape)             (None, 1, 2816)      0           ['mDrop1[0][0]']                 \n",
            "                                                                                                  \n",
            " lstm (LSTM)                    (None, 1, 64)        737536      ['reshape1[0][0]']               \n",
            "                                                                                                  \n",
            " lstm_1 (LSTM)                  (None, 64)           33024       ['lstm[0][0]']                   \n",
            "                                                                                                  \n",
            " outLayer (Dense)               (None, 5)            325         ['lstm_1[0][0]']                 \n",
            "                                                                                                  \n",
            "==================================================================================================\n",
            "Total params: 1,336,613\n",
            "Trainable params: 1,336,613\n",
            "Non-trainable params: 0\n",
            "__________________________________________________________________________________________________\n"
          ]
        }
      ]
    },
    {
      "cell_type": "code",
      "source": [
        "tuner.search(x_dt_rshp, y_dt_)"
      ],
      "metadata": {
        "colab": {
          "base_uri": "https://localhost:8080/"
        },
        "id": "0Hw8fumG5exo",
        "outputId": "80000066-80fa-4258-d422-17a49f9091e6"
      },
      "execution_count": null,
      "outputs": [
        {
          "output_type": "stream",
          "name": "stdout",
          "text": [
            "Trial 3 Complete [00h 48m 35s]\n",
            "loss: 0.07456402108073235\n",
            "\n",
            "Best loss So Far: 0.07456402108073235\n",
            "Total elapsed time: 02h 06m 02s\n",
            "INFO:tensorflow:Oracle triggered exit\n"
          ]
        }
      ]
    },
    {
      "cell_type": "code",
      "source": [
        "tuner.results_summary()"
      ],
      "metadata": {
        "id": "Dfv4ZjV253Rq",
        "colab": {
          "base_uri": "https://localhost:8080/"
        },
        "outputId": "c30491fb-653f-4416-f1aa-dfc781f7f17e"
      },
      "execution_count": null,
      "outputs": [
        {
          "output_type": "stream",
          "name": "stdout",
          "text": [
            "Results summary\n",
            "Results in ./untitled_project\n",
            "Showing 10 best trials\n",
            "<keras_tuner.engine.objective.Objective object at 0x7f572171c250>\n",
            "Trial summary\n",
            "Hyperparameters:\n",
            "epochs: 50\n",
            "Score: 0.07456402108073235\n",
            "Trial summary\n",
            "Hyperparameters:\n",
            "epochs: 40\n",
            "Score: 0.08825397491455078\n",
            "Trial summary\n",
            "Hyperparameters:\n",
            "epochs: 40\n",
            "Score: 0.088563472032547\n"
          ]
        }
      ]
    },
    {
      "cell_type": "markdown",
      "source": [
        "Trial 1:\n",
        "\n",
        "tuner.search():\n",
        "\n",
        "Trial 3 Complete [01h 05m 38s]\n",
        "\n",
        "loss: 0.06430524587631226\n",
        "\n",
        "Best loss So Far: 0.06430524587631226\n",
        "\n",
        "Total elapsed time: 02h 41m 36s\n",
        "\n",
        "INFO:tensorflow:Oracle triggered exit\n",
        "\n",
        "tuner.results_summary():\n",
        "\n",
        "Results summary\n",
        "\n",
        "Results in ./untitled_project\n",
        "\n",
        "Showing 10 best trials\n",
        "\n",
        "<keras_tuner.engine.objective.Objective object at 0x7f97e41d6410>\n",
        "\n",
        "Trial summary\n",
        "\n",
        "Hyperparameters:\n",
        "\n",
        "epochs: 60\n",
        "\n",
        "Score: 0.06430524587631226\n",
        "\n",
        "Trial summary\n",
        "\n",
        "Hyperparameters:\n",
        "\n",
        "epochs: 50\n",
        "\n",
        "Score: 0.07594212144613266\n",
        "\n",
        "Trial summary\n",
        "\n",
        "Hyperparameters:\n",
        "\n",
        "epochs: 40\n",
        "\n",
        "Score: 0.08939788863062859"
      ],
      "metadata": {
        "id": "EKJPquXtEJgW"
      }
    },
    {
      "cell_type": "markdown",
      "source": [
        "Trial 2:\n",
        "\n",
        "tuner.search():\n",
        "\n",
        "Trial 3 Complete [00h 39m 54s]\n",
        "\n",
        "loss: 0.08899443596601486\n",
        "\n",
        "Best loss So Far: 0.06491619721055031\n",
        "\n",
        "Total elapsed time: 02h 16m 04s\n",
        "\n",
        "INFO:tensorflow:Oracle triggered exit\n",
        "\n",
        "tuner.results_summary()\n",
        "\n",
        "Results summary\n",
        "\n",
        "Results in ./untitled_project\n",
        "\n",
        "Showing 10 best trials\n",
        "\n",
        "<keras_tuner.engine.objective.Objective object at 0x7f436ce32e10>\n",
        "\n",
        "Trial summary\n",
        "\n",
        "Hyperparameters:\n",
        "\n",
        "epochs: 60\n",
        "\n",
        "Score: 0.06491619721055031\n",
        "\n",
        "Trial summary\n",
        "\n",
        "Hyperparameters:\n",
        "\n",
        "epochs: 40\n",
        "\n",
        "Score: 0.0875425636768341\n",
        "\n",
        "Trial summary\n",
        "\n",
        "Hyperparameters:\n",
        "\n",
        "epochs: 40\n",
        "\n",
        "Score: 0.08899443596601486"
      ],
      "metadata": {
        "id": "sYgD3zWtO1R6"
      }
    },
    {
      "cell_type": "markdown",
      "source": [
        "Trial 3:\n",
        "\n",
        "tuner.search()\n",
        "\n",
        "Trial 3 Complete [00h 48m 35s]\n",
        "\n",
        "loss: 0.07456402108073235\n",
        "\n",
        "Best loss So Far: 0.07456402108073235\n",
        "\n",
        "Total elapsed time: 02h 06m 02s\n",
        "\n",
        "INFO:tensorflow:Oracle triggered exit\n",
        "\n",
        "tuner.results_summary()\n",
        "\n",
        "Results summary\n",
        "\n",
        "Results in ./untitled_project\n",
        "\n",
        "Showing 10 best trials\n",
        "\n",
        "<keras_tuner.engine.objective.Objective object at 0x7f572171c250>\n",
        "\n",
        "Trial summary\n",
        "\n",
        "Hyperparameters:\n",
        "\n",
        "epochs: 50\n",
        "\n",
        "Score: 0.07456402108073235\n",
        "\n",
        "Trial summary\n",
        "\n",
        "Hyperparameters:\n",
        "\n",
        "epochs: 40\n",
        "\n",
        "Score: 0.08825397491455078\n",
        "\n",
        "Trial summary\n",
        "\n",
        "Hyperparameters:\n",
        "\n",
        "epochs: 40\n",
        "\n",
        "Score: 0.088563472032547\n"
      ],
      "metadata": {
        "id": "3CY3YxmbSeX7"
      }
    },
    {
      "cell_type": "code",
      "source": [
        "#Best model : 60 epochs teacher"
      ],
      "metadata": {
        "id": "PTJmA8xJi6hl"
      },
      "execution_count": null,
      "outputs": []
    },
    {
      "cell_type": "code",
      "source": [
        "teacher_40_epochs=model_b(verbose=VBS)"
      ],
      "metadata": {
        "colab": {
          "base_uri": "https://localhost:8080/"
        },
        "id": "HrV59ncxSXxI",
        "outputId": "581b2605-f6cd-4618-827b-729919eccd26"
      },
      "execution_count": null,
      "outputs": [
        {
          "output_type": "stream",
          "name": "stdout",
          "text": [
            "Model: \"model\"\n",
            "__________________________________________________________________________________________________\n",
            " Layer (type)                   Output Shape         Param #     Connected to                     \n",
            "==================================================================================================\n",
            " inLayer (InputLayer)           [(None, 3000, 1)]    0           []                               \n",
            "                                                                                                  \n",
            " fConv1 (Conv1D)                (None, 500, 64)      3264        ['inLayer[0][0]']                \n",
            "                                                                                                  \n",
            " cConv1 (Conv1D)                (None, 60, 32)       12832       ['inLayer[0][0]']                \n",
            "                                                                                                  \n",
            " fMaxP1 (MaxPooling1D)          (None, 62, 64)       0           ['fConv1[0][0]']                 \n",
            "                                                                                                  \n",
            " cMaxP1 (MaxPooling1D)          (None, 15, 32)       0           ['cConv1[0][0]']                 \n",
            "                                                                                                  \n",
            " fDrop1 (Dropout)               (None, 62, 64)       0           ['fMaxP1[0][0]']                 \n",
            "                                                                                                  \n",
            " cDrop1 (Dropout)               (None, 15, 32)       0           ['cMaxP1[0][0]']                 \n",
            "                                                                                                  \n",
            " fConv2 (Conv1D)                (None, 62, 128)      65664       ['fDrop1[0][0]']                 \n",
            "                                                                                                  \n",
            " cConv2 (Conv1D)                (None, 15, 128)      24704       ['cDrop1[0][0]']                 \n",
            "                                                                                                  \n",
            " fConv3 (Conv1D)                (None, 62, 128)      131200      ['fConv2[0][0]']                 \n",
            "                                                                                                  \n",
            " cConv3 (Conv1D)                (None, 15, 128)      98432       ['cConv2[0][0]']                 \n",
            "                                                                                                  \n",
            " fConv4 (Conv1D)                (None, 62, 128)      131200      ['fConv3[0][0]']                 \n",
            "                                                                                                  \n",
            " cConv4 (Conv1D)                (None, 15, 128)      98432       ['cConv3[0][0]']                 \n",
            "                                                                                                  \n",
            " fMaxP2 (MaxPooling1D)          (None, 15, 128)      0           ['fConv4[0][0]']                 \n",
            "                                                                                                  \n",
            " cMaxP2 (MaxPooling1D)          (None, 7, 128)       0           ['cConv4[0][0]']                 \n",
            "                                                                                                  \n",
            " fFlat1 (Flatten)               (None, 1920)         0           ['fMaxP2[0][0]']                 \n",
            "                                                                                                  \n",
            " cFlat1 (Flatten)               (None, 896)          0           ['cMaxP2[0][0]']                 \n",
            "                                                                                                  \n",
            " merge_1 (Concatenate)          (None, 2816)         0           ['fFlat1[0][0]',                 \n",
            "                                                                  'cFlat1[0][0]']                 \n",
            "                                                                                                  \n",
            " mDrop1 (Dropout)               (None, 2816)         0           ['merge_1[0][0]']                \n",
            "                                                                                                  \n",
            " reshape1 (Reshape)             (None, 1, 2816)      0           ['mDrop1[0][0]']                 \n",
            "                                                                                                  \n",
            " lstm (LSTM)                    (None, 1, 64)        737536      ['reshape1[0][0]']               \n",
            "                                                                                                  \n",
            " lstm_1 (LSTM)                  (None, 64)           33024       ['lstm[0][0]']                   \n",
            "                                                                                                  \n",
            " outLayer (Dense)               (None, 5)            325         ['lstm_1[0][0]']                 \n",
            "                                                                                                  \n",
            "==================================================================================================\n",
            "Total params: 1,336,613\n",
            "Trainable params: 1,336,613\n",
            "Non-trainable params: 0\n",
            "__________________________________________________________________________________________________\n"
          ]
        }
      ]
    },
    {
      "cell_type": "code",
      "source": [
        "teacher_40_epochs.summary()"
      ],
      "metadata": {
        "colab": {
          "base_uri": "https://localhost:8080/"
        },
        "id": "6AVW-by2SX0z",
        "outputId": "cc740872-936f-41bc-bdb8-b3481200f419"
      },
      "execution_count": null,
      "outputs": [
        {
          "output_type": "stream",
          "name": "stdout",
          "text": [
            "Model: \"model\"\n",
            "__________________________________________________________________________________________________\n",
            " Layer (type)                   Output Shape         Param #     Connected to                     \n",
            "==================================================================================================\n",
            " inLayer (InputLayer)           [(None, 3000, 1)]    0           []                               \n",
            "                                                                                                  \n",
            " fConv1 (Conv1D)                (None, 500, 64)      3264        ['inLayer[0][0]']                \n",
            "                                                                                                  \n",
            " cConv1 (Conv1D)                (None, 60, 32)       12832       ['inLayer[0][0]']                \n",
            "                                                                                                  \n",
            " fMaxP1 (MaxPooling1D)          (None, 62, 64)       0           ['fConv1[0][0]']                 \n",
            "                                                                                                  \n",
            " cMaxP1 (MaxPooling1D)          (None, 15, 32)       0           ['cConv1[0][0]']                 \n",
            "                                                                                                  \n",
            " fDrop1 (Dropout)               (None, 62, 64)       0           ['fMaxP1[0][0]']                 \n",
            "                                                                                                  \n",
            " cDrop1 (Dropout)               (None, 15, 32)       0           ['cMaxP1[0][0]']                 \n",
            "                                                                                                  \n",
            " fConv2 (Conv1D)                (None, 62, 128)      65664       ['fDrop1[0][0]']                 \n",
            "                                                                                                  \n",
            " cConv2 (Conv1D)                (None, 15, 128)      24704       ['cDrop1[0][0]']                 \n",
            "                                                                                                  \n",
            " fConv3 (Conv1D)                (None, 62, 128)      131200      ['fConv2[0][0]']                 \n",
            "                                                                                                  \n",
            " cConv3 (Conv1D)                (None, 15, 128)      98432       ['cConv2[0][0]']                 \n",
            "                                                                                                  \n",
            " fConv4 (Conv1D)                (None, 62, 128)      131200      ['fConv3[0][0]']                 \n",
            "                                                                                                  \n",
            " cConv4 (Conv1D)                (None, 15, 128)      98432       ['cConv3[0][0]']                 \n",
            "                                                                                                  \n",
            " fMaxP2 (MaxPooling1D)          (None, 15, 128)      0           ['fConv4[0][0]']                 \n",
            "                                                                                                  \n",
            " cMaxP2 (MaxPooling1D)          (None, 7, 128)       0           ['cConv4[0][0]']                 \n",
            "                                                                                                  \n",
            " fFlat1 (Flatten)               (None, 1920)         0           ['fMaxP2[0][0]']                 \n",
            "                                                                                                  \n",
            " cFlat1 (Flatten)               (None, 896)          0           ['cMaxP2[0][0]']                 \n",
            "                                                                                                  \n",
            " merge_1 (Concatenate)          (None, 2816)         0           ['fFlat1[0][0]',                 \n",
            "                                                                  'cFlat1[0][0]']                 \n",
            "                                                                                                  \n",
            " mDrop1 (Dropout)               (None, 2816)         0           ['merge_1[0][0]']                \n",
            "                                                                                                  \n",
            " reshape1 (Reshape)             (None, 1, 2816)      0           ['mDrop1[0][0]']                 \n",
            "                                                                                                  \n",
            " lstm (LSTM)                    (None, 1, 64)        737536      ['reshape1[0][0]']               \n",
            "                                                                                                  \n",
            " lstm_1 (LSTM)                  (None, 64)           33024       ['lstm[0][0]']                   \n",
            "                                                                                                  \n",
            " outLayer (Dense)               (None, 5)            325         ['lstm_1[0][0]']                 \n",
            "                                                                                                  \n",
            "==================================================================================================\n",
            "Total params: 1,336,613\n",
            "Trainable params: 1,336,613\n",
            "Non-trainable params: 0\n",
            "__________________________________________________________________________________________________\n"
          ]
        }
      ]
    },
    {
      "cell_type": "code",
      "source": [
        "teacher_40_epochs.compile(optimizer=optimizer, loss='categorical_crossentropy', metrics=['accuracy'])"
      ],
      "metadata": {
        "id": "6li9hd77SnCO"
      },
      "execution_count": null,
      "outputs": []
    },
    {
      "cell_type": "markdown",
      "source": [
        "Training the teacher model for 40 epochs wrt to the transfer set, majority voted labels, x_sub_train, tri-trained labels"
      ],
      "metadata": {
        "id": "-yqAOWh0S8FQ"
      }
    },
    {
      "cell_type": "code",
      "source": [
        "checkpoint_teacher_model_40_epochs = \"/content/gdrive/My Drive/physionet/ensemble/tri_training/40_epochs_keras_way/teacher_40_epochs_keras_way_wts_trial_3.ckpt\""
      ],
      "metadata": {
        "id": "K1PfsofRTDi0"
      },
      "execution_count": null,
      "outputs": []
    },
    {
      "cell_type": "code",
      "source": [
        "checkpoint_teacher_model_40_epochs_dir = os.path.dirname(checkpoint_teacher_model_40_epochs)"
      ],
      "metadata": {
        "id": "UTSY5HF3TDl8"
      },
      "execution_count": null,
      "outputs": []
    },
    {
      "cell_type": "code",
      "source": [
        "cp_callback_teacher_model_40_epochs = tensorflow.keras.callbacks.ModelCheckpoint(\n",
        "    filepath=checkpoint_teacher_model_40_epochs,\n",
        "    monitor='accuracy', \n",
        "    verbose=1, \n",
        "    save_weights_only=True,\n",
        "    mode = 'max',\n",
        "    period=40)"
      ],
      "metadata": {
        "colab": {
          "base_uri": "https://localhost:8080/"
        },
        "id": "rye3iT_STanB",
        "outputId": "15e1f575-dae8-4631-8a7a-48e3b199f63e"
      },
      "execution_count": null,
      "outputs": [
        {
          "output_type": "stream",
          "name": "stdout",
          "text": [
            "WARNING:tensorflow:`period` argument is deprecated. Please use `save_freq` to specify the frequency in number of batches seen.\n"
          ]
        }
      ]
    },
    {
      "cell_type": "code",
      "source": [
        "teacher_40_epochs.fit(x_dt_rshp, y_dt_, epochs=40, callbacks=[cp_callback_teacher_model_40_epochs])"
      ],
      "metadata": {
        "colab": {
          "base_uri": "https://localhost:8080/"
        },
        "id": "Yz5rBuQSTao4",
        "outputId": "dfdafab7-cb8c-4c0c-8ea8-b9dfcfb9165b"
      },
      "execution_count": null,
      "outputs": [
        {
          "output_type": "stream",
          "name": "stdout",
          "text": [
            "Epoch 1/40\n",
            "3748/3748 [==============================] - 52s 9ms/step - loss: 0.6503 - accuracy: 0.7384\n",
            "Epoch 2/40\n",
            "3748/3748 [==============================] - 35s 9ms/step - loss: 0.3782 - accuracy: 0.8513\n",
            "Epoch 3/40\n",
            "3748/3748 [==============================] - 36s 10ms/step - loss: 0.3195 - accuracy: 0.8727\n",
            "Epoch 4/40\n",
            "3748/3748 [==============================] - 36s 9ms/step - loss: 0.2785 - accuracy: 0.8904\n",
            "Epoch 5/40\n",
            "3748/3748 [==============================] - 36s 10ms/step - loss: 0.2479 - accuracy: 0.9024\n",
            "Epoch 6/40\n",
            "3748/3748 [==============================] - 36s 9ms/step - loss: 0.2252 - accuracy: 0.9113\n",
            "Epoch 7/40\n",
            "3748/3748 [==============================] - 35s 9ms/step - loss: 0.2079 - accuracy: 0.9175\n",
            "Epoch 8/40\n",
            "3748/3748 [==============================] - 36s 10ms/step - loss: 0.1959 - accuracy: 0.9226\n",
            "Epoch 9/40\n",
            "3748/3748 [==============================] - 36s 10ms/step - loss: 0.1845 - accuracy: 0.9267\n",
            "Epoch 10/40\n",
            "3748/3748 [==============================] - 35s 9ms/step - loss: 0.1765 - accuracy: 0.9300\n",
            "Epoch 11/40\n",
            "3748/3748 [==============================] - 34s 9ms/step - loss: 0.1702 - accuracy: 0.9323\n",
            "Epoch 12/40\n",
            "3748/3748 [==============================] - 34s 9ms/step - loss: 0.1641 - accuracy: 0.9353\n",
            "Epoch 13/40\n",
            "3748/3748 [==============================] - 35s 9ms/step - loss: 0.1578 - accuracy: 0.9372\n",
            "Epoch 14/40\n",
            "3748/3748 [==============================] - 35s 9ms/step - loss: 0.1523 - accuracy: 0.9394\n",
            "Epoch 15/40\n",
            "3748/3748 [==============================] - 35s 9ms/step - loss: 0.1482 - accuracy: 0.9412\n",
            "Epoch 16/40\n",
            "3748/3748 [==============================] - 35s 9ms/step - loss: 0.1446 - accuracy: 0.9424\n",
            "Epoch 17/40\n",
            "3748/3748 [==============================] - 35s 9ms/step - loss: 0.1410 - accuracy: 0.9442\n",
            "Epoch 18/40\n",
            "3748/3748 [==============================] - 36s 10ms/step - loss: 0.1365 - accuracy: 0.9457\n",
            "Epoch 19/40\n",
            "3748/3748 [==============================] - 35s 9ms/step - loss: 0.1338 - accuracy: 0.9474\n",
            "Epoch 20/40\n",
            "3748/3748 [==============================] - 34s 9ms/step - loss: 0.1314 - accuracy: 0.9485\n",
            "Epoch 21/40\n",
            "3748/3748 [==============================] - 35s 9ms/step - loss: 0.1278 - accuracy: 0.9495\n",
            "Epoch 22/40\n",
            "3748/3748 [==============================] - 35s 9ms/step - loss: 0.1234 - accuracy: 0.9516\n",
            "Epoch 23/40\n",
            "3748/3748 [==============================] - 35s 9ms/step - loss: 0.1211 - accuracy: 0.9531\n",
            "Epoch 24/40\n",
            "3748/3748 [==============================] - 34s 9ms/step - loss: 0.1208 - accuracy: 0.9527\n",
            "Epoch 25/40\n",
            "3748/3748 [==============================] - 35s 9ms/step - loss: 0.1179 - accuracy: 0.9535\n",
            "Epoch 26/40\n",
            "3748/3748 [==============================] - 35s 9ms/step - loss: 0.1136 - accuracy: 0.9552\n",
            "Epoch 27/40\n",
            "3748/3748 [==============================] - 35s 9ms/step - loss: 0.1126 - accuracy: 0.9556\n",
            "Epoch 28/40\n",
            "3748/3748 [==============================] - 35s 9ms/step - loss: 0.1099 - accuracy: 0.9569\n",
            "Epoch 29/40\n",
            "3748/3748 [==============================] - 35s 9ms/step - loss: 0.1078 - accuracy: 0.9584\n",
            "Epoch 30/40\n",
            "3748/3748 [==============================] - 35s 9ms/step - loss: 0.1058 - accuracy: 0.9588\n",
            "Epoch 31/40\n",
            "3748/3748 [==============================] - 35s 9ms/step - loss: 0.1023 - accuracy: 0.9601\n",
            "Epoch 32/40\n",
            "3748/3748 [==============================] - 35s 9ms/step - loss: 0.1024 - accuracy: 0.9600\n",
            "Epoch 33/40\n",
            "3748/3748 [==============================] - 34s 9ms/step - loss: 0.1000 - accuracy: 0.9613\n",
            "Epoch 34/40\n",
            "3748/3748 [==============================] - 34s 9ms/step - loss: 0.0985 - accuracy: 0.9621\n",
            "Epoch 35/40\n",
            "3748/3748 [==============================] - 35s 9ms/step - loss: 0.0959 - accuracy: 0.9629\n",
            "Epoch 36/40\n",
            "3748/3748 [==============================] - 35s 9ms/step - loss: 0.0940 - accuracy: 0.9634\n",
            "Epoch 37/40\n",
            "3748/3748 [==============================] - 34s 9ms/step - loss: 0.0939 - accuracy: 0.9641\n",
            "Epoch 38/40\n",
            "3748/3748 [==============================] - 33s 9ms/step - loss: 0.0911 - accuracy: 0.9650\n",
            "Epoch 39/40\n",
            "3748/3748 [==============================] - 34s 9ms/step - loss: 0.0892 - accuracy: 0.9654\n",
            "Epoch 40/40\n",
            "3748/3748 [==============================] - ETA: 0s - loss: 0.0864 - accuracy: 0.9667\n",
            "Epoch 40: saving model to /content/gdrive/My Drive/physionet/ensemble/tri_training/40_epochs_keras_way/teacher_40_epochs_keras_way_wts_trial_3.ckpt\n",
            "3748/3748 [==============================] - 34s 9ms/step - loss: 0.0864 - accuracy: 0.9667\n"
          ]
        },
        {
          "output_type": "execute_result",
          "data": {
            "text/plain": [
              "<keras.callbacks.History at 0x7fb30459d090>"
            ]
          },
          "metadata": {},
          "execution_count": 30
        }
      ]
    },
    {
      "cell_type": "code",
      "source": [
        "latest_teacher_40_epochs=tensorflow.train.latest_checkpoint(checkpoint_teacher_model_40_epochs_dir)"
      ],
      "metadata": {
        "id": "aos4rfC2TasO"
      },
      "execution_count": null,
      "outputs": []
    },
    {
      "cell_type": "code",
      "source": [
        "print(latest_teacher_40_epochs)\n",
        "print(checkpoint_teacher_model_40_epochs)"
      ],
      "metadata": {
        "colab": {
          "base_uri": "https://localhost:8080/"
        },
        "id": "k1UwwIUuT7t8",
        "outputId": "0cf8b746-1815-4d33-f1bc-e07273582e7b"
      },
      "execution_count": null,
      "outputs": [
        {
          "output_type": "stream",
          "name": "stdout",
          "text": [
            "/content/gdrive/My Drive/physionet/ensemble/tri_training/40_epochs_keras_way/teacher_40_epochs_keras_way_wts_trial_3.ckpt\n",
            "/content/gdrive/My Drive/physionet/ensemble/tri_training/40_epochs_keras_way/teacher_40_epochs_keras_way_wts_trial_3.ckpt\n"
          ]
        }
      ]
    },
    {
      "cell_type": "code",
      "source": [
        "sub_test_data=pd.read_csv('/content/gdrive/My Drive/physionet/ensemble/50_subs/x_test_sub.csv',header=None)"
      ],
      "metadata": {
        "id": "0jeA64m0Ubl4"
      },
      "execution_count": null,
      "outputs": []
    },
    {
      "cell_type": "code",
      "source": [
        "sub_test_data.shape"
      ],
      "metadata": {
        "colab": {
          "base_uri": "https://localhost:8080/"
        },
        "id": "u7-l80euYUcJ",
        "outputId": "0e29d977-0d33-4876-caeb-083db701b725"
      },
      "execution_count": null,
      "outputs": [
        {
          "output_type": "execute_result",
          "data": {
            "text/plain": [
              "(804, 3001)"
            ]
          },
          "metadata": {},
          "execution_count": 28
        }
      ]
    },
    {
      "cell_type": "code",
      "source": [
        "x_test_dt=sub_test_data.drop([3000],axis=1)\n",
        "y_test_dt=sub_test_data[3000]"
      ],
      "metadata": {
        "id": "hyAXUe9IUr96"
      },
      "execution_count": null,
      "outputs": []
    },
    {
      "cell_type": "code",
      "source": [
        "y_test_dt_=np_utils.to_categorical(y_test_dt)"
      ],
      "metadata": {
        "id": "YBXjJZIJUsFR"
      },
      "execution_count": null,
      "outputs": []
    },
    {
      "cell_type": "code",
      "source": [
        "y_test_dt_"
      ],
      "metadata": {
        "colab": {
          "base_uri": "https://localhost:8080/"
        },
        "id": "U1R8-SHSU-OO",
        "outputId": "3af7935d-3635-4b14-ec6a-59abea39c50a"
      },
      "execution_count": null,
      "outputs": [
        {
          "output_type": "execute_result",
          "data": {
            "text/plain": [
              "array([[1., 0., 0., 0., 0.],\n",
              "       [1., 0., 0., 0., 0.],\n",
              "       [0., 0., 1., 0., 0.],\n",
              "       ...,\n",
              "       [1., 0., 0., 0., 0.],\n",
              "       [0., 0., 0., 0., 1.],\n",
              "       [0., 1., 0., 0., 0.]], dtype=float32)"
            ]
          },
          "metadata": {},
          "execution_count": 31
        }
      ]
    },
    {
      "cell_type": "code",
      "source": [
        "x_test_dt"
      ],
      "metadata": {
        "colab": {
          "base_uri": "https://localhost:8080/",
          "height": 488
        },
        "id": "q-pIYHGEFDi-",
        "outputId": "8a500999-3890-48b1-ba7d-159e97855ca1"
      },
      "execution_count": null,
      "outputs": [
        {
          "output_type": "execute_result",
          "data": {
            "text/plain": [
              "         0         1         2         3         4         5         6     \\\n",
              "0   -0.031299 -0.065233  0.074522 -0.027280  0.090150 -0.206774  0.006654   \n",
              "1   -0.275376 -0.251674 -0.206680 -0.121914 -0.158472 -0.066073 -0.146821   \n",
              "2    0.115511  0.127965  0.159300  0.145641  0.166933  0.172959  0.168540   \n",
              "3    0.005034  0.014676  0.048823  0.050430  0.053242  0.070517  0.107878   \n",
              "4   -0.174179 -0.127743 -0.104079 -0.063893 -0.054070 -0.008081 -0.053624   \n",
              "..        ...       ...       ...       ...       ...       ...       ...   \n",
              "799 -0.023708 -0.058982 -0.042015 -0.048712 -0.033085 -0.062554 -0.059875   \n",
              "800 -0.004062 -0.054070 -0.033085 -0.015225  0.038802 -0.014778  0.017370   \n",
              "801  0.045500 -0.062554  0.040142 -0.128190  0.001296  0.005314  0.007547   \n",
              "802  0.093817  0.097433  0.089800  0.080158  0.072525  0.046814  0.008248   \n",
              "803  0.020300  0.012667  0.037173  0.012667 -0.008625  0.001820  0.008650   \n",
              "\n",
              "         7         8         9     ...      2990      2991      2992  \\\n",
              "0   -0.084432  0.140158 -0.162570  ... -0.092470 -0.004062  0.038802   \n",
              "1   -0.198645 -0.142804 -0.215920  ... -0.000188  0.036771  0.054849   \n",
              "2    0.164522  0.164924  0.166531  ...  0.022309  0.022710  0.048421   \n",
              "3    0.115913  0.103057  0.079355  ...  0.042395  0.014274  0.003025   \n",
              "4   -0.021922 -0.059428 -0.045140  ...  0.041928  0.064253  0.008440   \n",
              "..        ...       ...       ...  ...       ...       ...       ...   \n",
              "799 -0.037103 -0.004062 -0.060768  ...  0.000403 -0.000937  0.073183   \n",
              "800 -0.008081 -0.050945 -0.078181  ... -0.114348 -0.111223 -0.134887   \n",
              "801 -0.002723  0.026747  0.064699  ...  0.035677  0.102205  0.162930   \n",
              "802  0.033557  0.062482  0.026326  ...  0.078551  0.102655  0.081364   \n",
              "803  0.043199  0.061277  0.054447  ... -0.015053  0.002624 -0.008625   \n",
              "\n",
              "         2993      2994      2995      2996      2997      2998      2999  \n",
              "0   -0.030852 -0.022369 -0.033085 -0.023262 -0.080860  0.099526 -0.012992  \n",
              "1    0.039181  0.034361  0.014274  0.049627  0.029942  0.003829 -0.006616  \n",
              "2    0.068508  0.059268  0.057259  0.068106  0.115913  0.111895  0.114306  \n",
              "3   -0.015454 -0.016660 -0.026703 -0.019070 -0.025096 -0.019070 -0.007018  \n",
              "4    0.001742 -0.017904 -0.041568 -0.045140 -0.043801  0.017370  0.043267  \n",
              "..        ...       ...       ...       ...       ...       ...       ...  \n",
              "799  0.121405  0.162037  0.216956  0.171413  0.152660  0.054430  0.014244  \n",
              "800 -0.038889 -0.092916 -0.079521 -0.048266  0.036123 -0.035764 -0.094702  \n",
              "801  0.080773  0.079434  0.204008  0.151767  0.128103  0.173646  0.377251  \n",
              "802  0.058866  0.050430  0.066499  0.083774  0.096228  0.102254  0.088595  \n",
              "803 -0.070894 -0.095801 -0.048397 -0.004608 -0.011035 -0.030720 -0.040764  \n",
              "\n",
              "[804 rows x 3000 columns]"
            ],
            "text/html": [
              "\n",
              "  <div id=\"df-8b135e71-2245-488a-9fa6-65b52a0bd0b3\">\n",
              "    <div class=\"colab-df-container\">\n",
              "      <div>\n",
              "<style scoped>\n",
              "    .dataframe tbody tr th:only-of-type {\n",
              "        vertical-align: middle;\n",
              "    }\n",
              "\n",
              "    .dataframe tbody tr th {\n",
              "        vertical-align: top;\n",
              "    }\n",
              "\n",
              "    .dataframe thead th {\n",
              "        text-align: right;\n",
              "    }\n",
              "</style>\n",
              "<table border=\"1\" class=\"dataframe\">\n",
              "  <thead>\n",
              "    <tr style=\"text-align: right;\">\n",
              "      <th></th>\n",
              "      <th>0</th>\n",
              "      <th>1</th>\n",
              "      <th>2</th>\n",
              "      <th>3</th>\n",
              "      <th>4</th>\n",
              "      <th>5</th>\n",
              "      <th>6</th>\n",
              "      <th>7</th>\n",
              "      <th>8</th>\n",
              "      <th>9</th>\n",
              "      <th>...</th>\n",
              "      <th>2990</th>\n",
              "      <th>2991</th>\n",
              "      <th>2992</th>\n",
              "      <th>2993</th>\n",
              "      <th>2994</th>\n",
              "      <th>2995</th>\n",
              "      <th>2996</th>\n",
              "      <th>2997</th>\n",
              "      <th>2998</th>\n",
              "      <th>2999</th>\n",
              "    </tr>\n",
              "  </thead>\n",
              "  <tbody>\n",
              "    <tr>\n",
              "      <th>0</th>\n",
              "      <td>-0.031299</td>\n",
              "      <td>-0.065233</td>\n",
              "      <td>0.074522</td>\n",
              "      <td>-0.027280</td>\n",
              "      <td>0.090150</td>\n",
              "      <td>-0.206774</td>\n",
              "      <td>0.006654</td>\n",
              "      <td>-0.084432</td>\n",
              "      <td>0.140158</td>\n",
              "      <td>-0.162570</td>\n",
              "      <td>...</td>\n",
              "      <td>-0.092470</td>\n",
              "      <td>-0.004062</td>\n",
              "      <td>0.038802</td>\n",
              "      <td>-0.030852</td>\n",
              "      <td>-0.022369</td>\n",
              "      <td>-0.033085</td>\n",
              "      <td>-0.023262</td>\n",
              "      <td>-0.080860</td>\n",
              "      <td>0.099526</td>\n",
              "      <td>-0.012992</td>\n",
              "    </tr>\n",
              "    <tr>\n",
              "      <th>1</th>\n",
              "      <td>-0.275376</td>\n",
              "      <td>-0.251674</td>\n",
              "      <td>-0.206680</td>\n",
              "      <td>-0.121914</td>\n",
              "      <td>-0.158472</td>\n",
              "      <td>-0.066073</td>\n",
              "      <td>-0.146821</td>\n",
              "      <td>-0.198645</td>\n",
              "      <td>-0.142804</td>\n",
              "      <td>-0.215920</td>\n",
              "      <td>...</td>\n",
              "      <td>-0.000188</td>\n",
              "      <td>0.036771</td>\n",
              "      <td>0.054849</td>\n",
              "      <td>0.039181</td>\n",
              "      <td>0.034361</td>\n",
              "      <td>0.014274</td>\n",
              "      <td>0.049627</td>\n",
              "      <td>0.029942</td>\n",
              "      <td>0.003829</td>\n",
              "      <td>-0.006616</td>\n",
              "    </tr>\n",
              "    <tr>\n",
              "      <th>2</th>\n",
              "      <td>0.115511</td>\n",
              "      <td>0.127965</td>\n",
              "      <td>0.159300</td>\n",
              "      <td>0.145641</td>\n",
              "      <td>0.166933</td>\n",
              "      <td>0.172959</td>\n",
              "      <td>0.168540</td>\n",
              "      <td>0.164522</td>\n",
              "      <td>0.164924</td>\n",
              "      <td>0.166531</td>\n",
              "      <td>...</td>\n",
              "      <td>0.022309</td>\n",
              "      <td>0.022710</td>\n",
              "      <td>0.048421</td>\n",
              "      <td>0.068508</td>\n",
              "      <td>0.059268</td>\n",
              "      <td>0.057259</td>\n",
              "      <td>0.068106</td>\n",
              "      <td>0.115913</td>\n",
              "      <td>0.111895</td>\n",
              "      <td>0.114306</td>\n",
              "    </tr>\n",
              "    <tr>\n",
              "      <th>3</th>\n",
              "      <td>0.005034</td>\n",
              "      <td>0.014676</td>\n",
              "      <td>0.048823</td>\n",
              "      <td>0.050430</td>\n",
              "      <td>0.053242</td>\n",
              "      <td>0.070517</td>\n",
              "      <td>0.107878</td>\n",
              "      <td>0.115913</td>\n",
              "      <td>0.103057</td>\n",
              "      <td>0.079355</td>\n",
              "      <td>...</td>\n",
              "      <td>0.042395</td>\n",
              "      <td>0.014274</td>\n",
              "      <td>0.003025</td>\n",
              "      <td>-0.015454</td>\n",
              "      <td>-0.016660</td>\n",
              "      <td>-0.026703</td>\n",
              "      <td>-0.019070</td>\n",
              "      <td>-0.025096</td>\n",
              "      <td>-0.019070</td>\n",
              "      <td>-0.007018</td>\n",
              "    </tr>\n",
              "    <tr>\n",
              "      <th>4</th>\n",
              "      <td>-0.174179</td>\n",
              "      <td>-0.127743</td>\n",
              "      <td>-0.104079</td>\n",
              "      <td>-0.063893</td>\n",
              "      <td>-0.054070</td>\n",
              "      <td>-0.008081</td>\n",
              "      <td>-0.053624</td>\n",
              "      <td>-0.021922</td>\n",
              "      <td>-0.059428</td>\n",
              "      <td>-0.045140</td>\n",
              "      <td>...</td>\n",
              "      <td>0.041928</td>\n",
              "      <td>0.064253</td>\n",
              "      <td>0.008440</td>\n",
              "      <td>0.001742</td>\n",
              "      <td>-0.017904</td>\n",
              "      <td>-0.041568</td>\n",
              "      <td>-0.045140</td>\n",
              "      <td>-0.043801</td>\n",
              "      <td>0.017370</td>\n",
              "      <td>0.043267</td>\n",
              "    </tr>\n",
              "    <tr>\n",
              "      <th>...</th>\n",
              "      <td>...</td>\n",
              "      <td>...</td>\n",
              "      <td>...</td>\n",
              "      <td>...</td>\n",
              "      <td>...</td>\n",
              "      <td>...</td>\n",
              "      <td>...</td>\n",
              "      <td>...</td>\n",
              "      <td>...</td>\n",
              "      <td>...</td>\n",
              "      <td>...</td>\n",
              "      <td>...</td>\n",
              "      <td>...</td>\n",
              "      <td>...</td>\n",
              "      <td>...</td>\n",
              "      <td>...</td>\n",
              "      <td>...</td>\n",
              "      <td>...</td>\n",
              "      <td>...</td>\n",
              "      <td>...</td>\n",
              "      <td>...</td>\n",
              "    </tr>\n",
              "    <tr>\n",
              "      <th>799</th>\n",
              "      <td>-0.023708</td>\n",
              "      <td>-0.058982</td>\n",
              "      <td>-0.042015</td>\n",
              "      <td>-0.048712</td>\n",
              "      <td>-0.033085</td>\n",
              "      <td>-0.062554</td>\n",
              "      <td>-0.059875</td>\n",
              "      <td>-0.037103</td>\n",
              "      <td>-0.004062</td>\n",
              "      <td>-0.060768</td>\n",
              "      <td>...</td>\n",
              "      <td>0.000403</td>\n",
              "      <td>-0.000937</td>\n",
              "      <td>0.073183</td>\n",
              "      <td>0.121405</td>\n",
              "      <td>0.162037</td>\n",
              "      <td>0.216956</td>\n",
              "      <td>0.171413</td>\n",
              "      <td>0.152660</td>\n",
              "      <td>0.054430</td>\n",
              "      <td>0.014244</td>\n",
              "    </tr>\n",
              "    <tr>\n",
              "      <th>800</th>\n",
              "      <td>-0.004062</td>\n",
              "      <td>-0.054070</td>\n",
              "      <td>-0.033085</td>\n",
              "      <td>-0.015225</td>\n",
              "      <td>0.038802</td>\n",
              "      <td>-0.014778</td>\n",
              "      <td>0.017370</td>\n",
              "      <td>-0.008081</td>\n",
              "      <td>-0.050945</td>\n",
              "      <td>-0.078181</td>\n",
              "      <td>...</td>\n",
              "      <td>-0.114348</td>\n",
              "      <td>-0.111223</td>\n",
              "      <td>-0.134887</td>\n",
              "      <td>-0.038889</td>\n",
              "      <td>-0.092916</td>\n",
              "      <td>-0.079521</td>\n",
              "      <td>-0.048266</td>\n",
              "      <td>0.036123</td>\n",
              "      <td>-0.035764</td>\n",
              "      <td>-0.094702</td>\n",
              "    </tr>\n",
              "    <tr>\n",
              "      <th>801</th>\n",
              "      <td>0.045500</td>\n",
              "      <td>-0.062554</td>\n",
              "      <td>0.040142</td>\n",
              "      <td>-0.128190</td>\n",
              "      <td>0.001296</td>\n",
              "      <td>0.005314</td>\n",
              "      <td>0.007547</td>\n",
              "      <td>-0.002723</td>\n",
              "      <td>0.026747</td>\n",
              "      <td>0.064699</td>\n",
              "      <td>...</td>\n",
              "      <td>0.035677</td>\n",
              "      <td>0.102205</td>\n",
              "      <td>0.162930</td>\n",
              "      <td>0.080773</td>\n",
              "      <td>0.079434</td>\n",
              "      <td>0.204008</td>\n",
              "      <td>0.151767</td>\n",
              "      <td>0.128103</td>\n",
              "      <td>0.173646</td>\n",
              "      <td>0.377251</td>\n",
              "    </tr>\n",
              "    <tr>\n",
              "      <th>802</th>\n",
              "      <td>0.093817</td>\n",
              "      <td>0.097433</td>\n",
              "      <td>0.089800</td>\n",
              "      <td>0.080158</td>\n",
              "      <td>0.072525</td>\n",
              "      <td>0.046814</td>\n",
              "      <td>0.008248</td>\n",
              "      <td>0.033557</td>\n",
              "      <td>0.062482</td>\n",
              "      <td>0.026326</td>\n",
              "      <td>...</td>\n",
              "      <td>0.078551</td>\n",
              "      <td>0.102655</td>\n",
              "      <td>0.081364</td>\n",
              "      <td>0.058866</td>\n",
              "      <td>0.050430</td>\n",
              "      <td>0.066499</td>\n",
              "      <td>0.083774</td>\n",
              "      <td>0.096228</td>\n",
              "      <td>0.102254</td>\n",
              "      <td>0.088595</td>\n",
              "    </tr>\n",
              "    <tr>\n",
              "      <th>803</th>\n",
              "      <td>0.020300</td>\n",
              "      <td>0.012667</td>\n",
              "      <td>0.037173</td>\n",
              "      <td>0.012667</td>\n",
              "      <td>-0.008625</td>\n",
              "      <td>0.001820</td>\n",
              "      <td>0.008650</td>\n",
              "      <td>0.043199</td>\n",
              "      <td>0.061277</td>\n",
              "      <td>0.054447</td>\n",
              "      <td>...</td>\n",
              "      <td>-0.015053</td>\n",
              "      <td>0.002624</td>\n",
              "      <td>-0.008625</td>\n",
              "      <td>-0.070894</td>\n",
              "      <td>-0.095801</td>\n",
              "      <td>-0.048397</td>\n",
              "      <td>-0.004608</td>\n",
              "      <td>-0.011035</td>\n",
              "      <td>-0.030720</td>\n",
              "      <td>-0.040764</td>\n",
              "    </tr>\n",
              "  </tbody>\n",
              "</table>\n",
              "<p>804 rows × 3000 columns</p>\n",
              "</div>\n",
              "      <button class=\"colab-df-convert\" onclick=\"convertToInteractive('df-8b135e71-2245-488a-9fa6-65b52a0bd0b3')\"\n",
              "              title=\"Convert this dataframe to an interactive table.\"\n",
              "              style=\"display:none;\">\n",
              "        \n",
              "  <svg xmlns=\"http://www.w3.org/2000/svg\" height=\"24px\"viewBox=\"0 0 24 24\"\n",
              "       width=\"24px\">\n",
              "    <path d=\"M0 0h24v24H0V0z\" fill=\"none\"/>\n",
              "    <path d=\"M18.56 5.44l.94 2.06.94-2.06 2.06-.94-2.06-.94-.94-2.06-.94 2.06-2.06.94zm-11 1L8.5 8.5l.94-2.06 2.06-.94-2.06-.94L8.5 2.5l-.94 2.06-2.06.94zm10 10l.94 2.06.94-2.06 2.06-.94-2.06-.94-.94-2.06-.94 2.06-2.06.94z\"/><path d=\"M17.41 7.96l-1.37-1.37c-.4-.4-.92-.59-1.43-.59-.52 0-1.04.2-1.43.59L10.3 9.45l-7.72 7.72c-.78.78-.78 2.05 0 2.83L4 21.41c.39.39.9.59 1.41.59.51 0 1.02-.2 1.41-.59l7.78-7.78 2.81-2.81c.8-.78.8-2.07 0-2.86zM5.41 20L4 18.59l7.72-7.72 1.47 1.35L5.41 20z\"/>\n",
              "  </svg>\n",
              "      </button>\n",
              "      \n",
              "  <style>\n",
              "    .colab-df-container {\n",
              "      display:flex;\n",
              "      flex-wrap:wrap;\n",
              "      gap: 12px;\n",
              "    }\n",
              "\n",
              "    .colab-df-convert {\n",
              "      background-color: #E8F0FE;\n",
              "      border: none;\n",
              "      border-radius: 50%;\n",
              "      cursor: pointer;\n",
              "      display: none;\n",
              "      fill: #1967D2;\n",
              "      height: 32px;\n",
              "      padding: 0 0 0 0;\n",
              "      width: 32px;\n",
              "    }\n",
              "\n",
              "    .colab-df-convert:hover {\n",
              "      background-color: #E2EBFA;\n",
              "      box-shadow: 0px 1px 2px rgba(60, 64, 67, 0.3), 0px 1px 3px 1px rgba(60, 64, 67, 0.15);\n",
              "      fill: #174EA6;\n",
              "    }\n",
              "\n",
              "    [theme=dark] .colab-df-convert {\n",
              "      background-color: #3B4455;\n",
              "      fill: #D2E3FC;\n",
              "    }\n",
              "\n",
              "    [theme=dark] .colab-df-convert:hover {\n",
              "      background-color: #434B5C;\n",
              "      box-shadow: 0px 1px 3px 1px rgba(0, 0, 0, 0.15);\n",
              "      filter: drop-shadow(0px 1px 2px rgba(0, 0, 0, 0.3));\n",
              "      fill: #FFFFFF;\n",
              "    }\n",
              "  </style>\n",
              "\n",
              "      <script>\n",
              "        const buttonEl =\n",
              "          document.querySelector('#df-8b135e71-2245-488a-9fa6-65b52a0bd0b3 button.colab-df-convert');\n",
              "        buttonEl.style.display =\n",
              "          google.colab.kernel.accessAllowed ? 'block' : 'none';\n",
              "\n",
              "        async function convertToInteractive(key) {\n",
              "          const element = document.querySelector('#df-8b135e71-2245-488a-9fa6-65b52a0bd0b3');\n",
              "          const dataTable =\n",
              "            await google.colab.kernel.invokeFunction('convertToInteractive',\n",
              "                                                     [key], {});\n",
              "          if (!dataTable) return;\n",
              "\n",
              "          const docLinkHtml = 'Like what you see? Visit the ' +\n",
              "            '<a target=\"_blank\" href=https://colab.research.google.com/notebooks/data_table.ipynb>data table notebook</a>'\n",
              "            + ' to learn more about interactive tables.';\n",
              "          element.innerHTML = '';\n",
              "          dataTable['output_type'] = 'display_data';\n",
              "          await google.colab.output.renderOutput(dataTable, element);\n",
              "          const docLink = document.createElement('div');\n",
              "          docLink.innerHTML = docLinkHtml;\n",
              "          element.appendChild(docLink);\n",
              "        }\n",
              "      </script>\n",
              "    </div>\n",
              "  </div>\n",
              "  "
            ]
          },
          "metadata": {},
          "execution_count": 32
        }
      ]
    },
    {
      "cell_type": "code",
      "source": [
        "x_test_dt.shape"
      ],
      "metadata": {
        "colab": {
          "base_uri": "https://localhost:8080/"
        },
        "id": "Mq47u-c7U_81",
        "outputId": "ab16e0f6-00b4-488a-9e80-06948930978c"
      },
      "execution_count": null,
      "outputs": [
        {
          "output_type": "execute_result",
          "data": {
            "text/plain": [
              "(804, 3000)"
            ]
          },
          "metadata": {},
          "execution_count": 33
        }
      ]
    },
    {
      "cell_type": "code",
      "source": [
        "x_test_dt_rshp=np.array(x_test_dt).reshape(804,3000,1)"
      ],
      "metadata": {
        "id": "ntbZ9IIqVGLv"
      },
      "execution_count": null,
      "outputs": []
    },
    {
      "cell_type": "code",
      "source": [
        "x_test_dt_rshp"
      ],
      "metadata": {
        "colab": {
          "base_uri": "https://localhost:8080/"
        },
        "id": "7m8Qxd6dVM51",
        "outputId": "519a35bb-043e-4639-ec6f-067770e7a312"
      },
      "execution_count": null,
      "outputs": [
        {
          "output_type": "execute_result",
          "data": {
            "text/plain": [
              "array([[[-0.03129874],\n",
              "        [-0.0652329 ],\n",
              "        [ 0.07452226],\n",
              "        ...,\n",
              "        [-0.08086047],\n",
              "        [ 0.09952638],\n",
              "        [-0.01299215]],\n",
              "\n",
              "       [[-0.27537634],\n",
              "        [-0.25167404],\n",
              "        [-0.20667982],\n",
              "        ...,\n",
              "        [ 0.02994156],\n",
              "        [ 0.00382884],\n",
              "        [-0.00661624]],\n",
              "\n",
              "       [[ 0.11551092],\n",
              "        [ 0.12796468],\n",
              "        [ 0.15929993],\n",
              "        ...,\n",
              "        [ 0.11591265],\n",
              "        [ 0.11189531],\n",
              "        [ 0.11430572]],\n",
              "\n",
              "       ...,\n",
              "\n",
              "       [[ 0.04549962],\n",
              "        [-0.06255388],\n",
              "        [ 0.0401416 ],\n",
              "        ...,\n",
              "        [ 0.12810252],\n",
              "        [ 0.17364574],\n",
              "        [ 0.37725068]],\n",
              "\n",
              "       [[ 0.09381728],\n",
              "        [ 0.09743289],\n",
              "        [ 0.08979994],\n",
              "        ...,\n",
              "        [ 0.09622768],\n",
              "        [ 0.1022537 ],\n",
              "        [ 0.08859474]],\n",
              "\n",
              "       [[ 0.02029994],\n",
              "        [ 0.01266699],\n",
              "        [ 0.03717277],\n",
              "        ...,\n",
              "        [-0.01103532],\n",
              "        [-0.03072029],\n",
              "        [-0.04076364]]])"
            ]
          },
          "metadata": {},
          "execution_count": 35
        }
      ]
    },
    {
      "cell_type": "code",
      "source": [
        "accuracy_teacher_model_40_epochs = teacher_40_epochs.evaluate(x_test_dt_rshp, y_test_dt_)"
      ],
      "metadata": {
        "id": "cT3JPqj5T7xC",
        "colab": {
          "base_uri": "https://localhost:8080/"
        },
        "outputId": "f581555c-1e0f-44bc-97cc-5a69e03af5ce"
      },
      "execution_count": null,
      "outputs": [
        {
          "output_type": "stream",
          "name": "stdout",
          "text": [
            "26/26 [==============================] - 1s 8ms/step - loss: 1.0527 - accuracy: 0.8060\n"
          ]
        }
      ]
    },
    {
      "cell_type": "markdown",
      "source": [
        "Training the teacher model for 50 epochs wrt to the transfer set, majority voted labels, x_sub_train, tri-trained labels"
      ],
      "metadata": {
        "id": "UT4ksl55bqqV"
      }
    },
    {
      "cell_type": "code",
      "source": [
        "checkpoint_teacher_model_50_epochs = \"/content/gdrive/My Drive/physionet/ensemble/tri_training/50_epochs_keras_way/teacher_50_epochs_keras_way_wts_trial_3.ckpt\""
      ],
      "metadata": {
        "id": "oS3fPBLIFKRG"
      },
      "execution_count": null,
      "outputs": []
    },
    {
      "cell_type": "code",
      "source": [
        "checkpoint_teacher_model_50_epochs_dir = os.path.dirname(checkpoint_teacher_model_50_epochs)"
      ],
      "metadata": {
        "id": "Nt26p3OxcCK_"
      },
      "execution_count": null,
      "outputs": []
    },
    {
      "cell_type": "code",
      "source": [
        "cp_callback_teacher_model_50_epochs = tensorflow.keras.callbacks.ModelCheckpoint(\n",
        "    filepath=checkpoint_teacher_model_50_epochs,\n",
        "    monitor='accuracy', \n",
        "    verbose=1, \n",
        "    save_weights_only=True,\n",
        "    mode = 'max',\n",
        "    period=50)"
      ],
      "metadata": {
        "colab": {
          "base_uri": "https://localhost:8080/"
        },
        "id": "PhBJpJ1fcXk8",
        "outputId": "ee506c57-47dd-44aa-dafa-6bbc2d20f4d1"
      },
      "execution_count": null,
      "outputs": [
        {
          "output_type": "stream",
          "name": "stdout",
          "text": [
            "WARNING:tensorflow:`period` argument is deprecated. Please use `save_freq` to specify the frequency in number of batches seen.\n"
          ]
        }
      ]
    },
    {
      "cell_type": "code",
      "source": [
        "teacher_50_epochs=model_b(verbose=VBS)"
      ],
      "metadata": {
        "colab": {
          "base_uri": "https://localhost:8080/"
        },
        "id": "W6TRZJzigSq2",
        "outputId": "efddf2aa-65ed-46f8-fe52-86176e821dc3"
      },
      "execution_count": null,
      "outputs": [
        {
          "output_type": "stream",
          "name": "stdout",
          "text": [
            "Model: \"model\"\n",
            "__________________________________________________________________________________________________\n",
            " Layer (type)                   Output Shape         Param #     Connected to                     \n",
            "==================================================================================================\n",
            " inLayer (InputLayer)           [(None, 3000, 1)]    0           []                               \n",
            "                                                                                                  \n",
            " fConv1 (Conv1D)                (None, 500, 64)      3264        ['inLayer[0][0]']                \n",
            "                                                                                                  \n",
            " cConv1 (Conv1D)                (None, 60, 32)       12832       ['inLayer[0][0]']                \n",
            "                                                                                                  \n",
            " fMaxP1 (MaxPooling1D)          (None, 62, 64)       0           ['fConv1[0][0]']                 \n",
            "                                                                                                  \n",
            " cMaxP1 (MaxPooling1D)          (None, 15, 32)       0           ['cConv1[0][0]']                 \n",
            "                                                                                                  \n",
            " fDrop1 (Dropout)               (None, 62, 64)       0           ['fMaxP1[0][0]']                 \n",
            "                                                                                                  \n",
            " cDrop1 (Dropout)               (None, 15, 32)       0           ['cMaxP1[0][0]']                 \n",
            "                                                                                                  \n",
            " fConv2 (Conv1D)                (None, 62, 128)      65664       ['fDrop1[0][0]']                 \n",
            "                                                                                                  \n",
            " cConv2 (Conv1D)                (None, 15, 128)      24704       ['cDrop1[0][0]']                 \n",
            "                                                                                                  \n",
            " fConv3 (Conv1D)                (None, 62, 128)      131200      ['fConv2[0][0]']                 \n",
            "                                                                                                  \n",
            " cConv3 (Conv1D)                (None, 15, 128)      98432       ['cConv2[0][0]']                 \n",
            "                                                                                                  \n",
            " fConv4 (Conv1D)                (None, 62, 128)      131200      ['fConv3[0][0]']                 \n",
            "                                                                                                  \n",
            " cConv4 (Conv1D)                (None, 15, 128)      98432       ['cConv3[0][0]']                 \n",
            "                                                                                                  \n",
            " fMaxP2 (MaxPooling1D)          (None, 15, 128)      0           ['fConv4[0][0]']                 \n",
            "                                                                                                  \n",
            " cMaxP2 (MaxPooling1D)          (None, 7, 128)       0           ['cConv4[0][0]']                 \n",
            "                                                                                                  \n",
            " fFlat1 (Flatten)               (None, 1920)         0           ['fMaxP2[0][0]']                 \n",
            "                                                                                                  \n",
            " cFlat1 (Flatten)               (None, 896)          0           ['cMaxP2[0][0]']                 \n",
            "                                                                                                  \n",
            " merge_1 (Concatenate)          (None, 2816)         0           ['fFlat1[0][0]',                 \n",
            "                                                                  'cFlat1[0][0]']                 \n",
            "                                                                                                  \n",
            " mDrop1 (Dropout)               (None, 2816)         0           ['merge_1[0][0]']                \n",
            "                                                                                                  \n",
            " reshape1 (Reshape)             (None, 1, 2816)      0           ['mDrop1[0][0]']                 \n",
            "                                                                                                  \n",
            " lstm (LSTM)                    (None, 1, 64)        737536      ['reshape1[0][0]']               \n",
            "                                                                                                  \n",
            " lstm_1 (LSTM)                  (None, 64)           33024       ['lstm[0][0]']                   \n",
            "                                                                                                  \n",
            " outLayer (Dense)               (None, 5)            325         ['lstm_1[0][0]']                 \n",
            "                                                                                                  \n",
            "==================================================================================================\n",
            "Total params: 1,336,613\n",
            "Trainable params: 1,336,613\n",
            "Non-trainable params: 0\n",
            "__________________________________________________________________________________________________\n"
          ]
        }
      ]
    },
    {
      "cell_type": "code",
      "source": [
        "teacher_50_epochs.compile(optimizer=optimizer, loss='categorical_crossentropy', metrics=['accuracy'])"
      ],
      "metadata": {
        "id": "8sJC-6k3gWN4"
      },
      "execution_count": null,
      "outputs": []
    },
    {
      "cell_type": "code",
      "source": [
        "teacher_50_epochs.fit(x_dt_rshp, y_dt_, epochs=50, callbacks=[cp_callback_teacher_model_50_epochs])"
      ],
      "metadata": {
        "id": "pDJOS5pQcgHq",
        "colab": {
          "base_uri": "https://localhost:8080/"
        },
        "outputId": "b41ee315-def6-4778-d857-ef03305a1ac1"
      },
      "execution_count": null,
      "outputs": [
        {
          "output_type": "stream",
          "name": "stdout",
          "text": [
            "Epoch 1/50\n",
            "3748/3748 [==============================] - 50s 9ms/step - loss: 0.6485 - accuracy: 0.7392\n",
            "Epoch 2/50\n",
            "3748/3748 [==============================] - 33s 9ms/step - loss: 0.3768 - accuracy: 0.8513\n",
            "Epoch 3/50\n",
            "3748/3748 [==============================] - 34s 9ms/step - loss: 0.3189 - accuracy: 0.8735\n",
            "Epoch 4/50\n",
            "3748/3748 [==============================] - 34s 9ms/step - loss: 0.2791 - accuracy: 0.8904\n",
            "Epoch 5/50\n",
            "3748/3748 [==============================] - 34s 9ms/step - loss: 0.2484 - accuracy: 0.9024\n",
            "Epoch 6/50\n",
            "3748/3748 [==============================] - 34s 9ms/step - loss: 0.2241 - accuracy: 0.9112\n",
            "Epoch 7/50\n",
            "3748/3748 [==============================] - 34s 9ms/step - loss: 0.2066 - accuracy: 0.9182\n",
            "Epoch 8/50\n",
            "3748/3748 [==============================] - 34s 9ms/step - loss: 0.1938 - accuracy: 0.9226\n",
            "Epoch 9/50\n",
            "3748/3748 [==============================] - 34s 9ms/step - loss: 0.1842 - accuracy: 0.9264\n",
            "Epoch 10/50\n",
            "3748/3748 [==============================] - 34s 9ms/step - loss: 0.1757 - accuracy: 0.9297\n",
            "Epoch 11/50\n",
            "3748/3748 [==============================] - 33s 9ms/step - loss: 0.1691 - accuracy: 0.9331\n",
            "Epoch 12/50\n",
            "3748/3748 [==============================] - 34s 9ms/step - loss: 0.1639 - accuracy: 0.9349\n",
            "Epoch 13/50\n",
            "3748/3748 [==============================] - 34s 9ms/step - loss: 0.1569 - accuracy: 0.9379\n",
            "Epoch 14/50\n",
            "3748/3748 [==============================] - 34s 9ms/step - loss: 0.1526 - accuracy: 0.9396\n",
            "Epoch 15/50\n",
            "3748/3748 [==============================] - 34s 9ms/step - loss: 0.1473 - accuracy: 0.9416\n",
            "Epoch 16/50\n",
            "3748/3748 [==============================] - 34s 9ms/step - loss: 0.1448 - accuracy: 0.9424\n",
            "Epoch 17/50\n",
            "3748/3748 [==============================] - 34s 9ms/step - loss: 0.1392 - accuracy: 0.9446\n",
            "Epoch 18/50\n",
            "3748/3748 [==============================] - 34s 9ms/step - loss: 0.1359 - accuracy: 0.9453\n",
            "Epoch 19/50\n",
            "3748/3748 [==============================] - 34s 9ms/step - loss: 0.1332 - accuracy: 0.9477\n",
            "Epoch 20/50\n",
            "3748/3748 [==============================] - 34s 9ms/step - loss: 0.1306 - accuracy: 0.9484\n",
            "Epoch 21/50\n",
            "3748/3748 [==============================] - 34s 9ms/step - loss: 0.1272 - accuracy: 0.9495\n",
            "Epoch 22/50\n",
            "3748/3748 [==============================] - 33s 9ms/step - loss: 0.1221 - accuracy: 0.9517\n",
            "Epoch 23/50\n",
            "3748/3748 [==============================] - 34s 9ms/step - loss: 0.1199 - accuracy: 0.9525\n",
            "Epoch 24/50\n",
            "3748/3748 [==============================] - 34s 9ms/step - loss: 0.1197 - accuracy: 0.9535\n",
            "Epoch 25/50\n",
            "3748/3748 [==============================] - 34s 9ms/step - loss: 0.1163 - accuracy: 0.9545\n",
            "Epoch 26/50\n",
            "3748/3748 [==============================] - 34s 9ms/step - loss: 0.1123 - accuracy: 0.9559\n",
            "Epoch 27/50\n",
            "3748/3748 [==============================] - 34s 9ms/step - loss: 0.1113 - accuracy: 0.9564\n",
            "Epoch 28/50\n",
            "3748/3748 [==============================] - 34s 9ms/step - loss: 0.1093 - accuracy: 0.9572\n",
            "Epoch 29/50\n",
            "3748/3748 [==============================] - 34s 9ms/step - loss: 0.1073 - accuracy: 0.9586\n",
            "Epoch 30/50\n",
            "3748/3748 [==============================] - 33s 9ms/step - loss: 0.1034 - accuracy: 0.9593\n",
            "Epoch 31/50\n",
            "3748/3748 [==============================] - 34s 9ms/step - loss: 0.1029 - accuracy: 0.9600\n",
            "Epoch 32/50\n",
            "3748/3748 [==============================] - 34s 9ms/step - loss: 0.1008 - accuracy: 0.9607\n",
            "Epoch 33/50\n",
            "3748/3748 [==============================] - 33s 9ms/step - loss: 0.0988 - accuracy: 0.9622\n",
            "Epoch 34/50\n",
            "3748/3748 [==============================] - 35s 9ms/step - loss: 0.0971 - accuracy: 0.9624\n",
            "Epoch 35/50\n",
            "3748/3748 [==============================] - 34s 9ms/step - loss: 0.0957 - accuracy: 0.9621\n",
            "Epoch 36/50\n",
            "3748/3748 [==============================] - 34s 9ms/step - loss: 0.0932 - accuracy: 0.9638\n",
            "Epoch 37/50\n",
            "3748/3748 [==============================] - 34s 9ms/step - loss: 0.0930 - accuracy: 0.9635\n",
            "Epoch 38/50\n",
            "3748/3748 [==============================] - 35s 9ms/step - loss: 0.0909 - accuracy: 0.9643\n",
            "Epoch 39/50\n",
            "3748/3748 [==============================] - 34s 9ms/step - loss: 0.0878 - accuracy: 0.9663\n",
            "Epoch 40/50\n",
            "3748/3748 [==============================] - 35s 9ms/step - loss: 0.0867 - accuracy: 0.9666\n",
            "Epoch 41/50\n",
            "3748/3748 [==============================] - 34s 9ms/step - loss: 0.0876 - accuracy: 0.9661\n",
            "Epoch 42/50\n",
            "3748/3748 [==============================] - 34s 9ms/step - loss: 0.0850 - accuracy: 0.9672\n",
            "Epoch 43/50\n",
            "3748/3748 [==============================] - 35s 9ms/step - loss: 0.0848 - accuracy: 0.9674\n",
            "Epoch 44/50\n",
            "3748/3748 [==============================] - 34s 9ms/step - loss: 0.0825 - accuracy: 0.9684\n",
            "Epoch 45/50\n",
            "3748/3748 [==============================] - 34s 9ms/step - loss: 0.0812 - accuracy: 0.9686\n",
            "Epoch 46/50\n",
            "3748/3748 [==============================] - 34s 9ms/step - loss: 0.0795 - accuracy: 0.9693\n",
            "Epoch 47/50\n",
            "3748/3748 [==============================] - 34s 9ms/step - loss: 0.0793 - accuracy: 0.9699\n",
            "Epoch 48/50\n",
            "3748/3748 [==============================] - 33s 9ms/step - loss: 0.0768 - accuracy: 0.9705\n",
            "Epoch 49/50\n",
            "3748/3748 [==============================] - 34s 9ms/step - loss: 0.0740 - accuracy: 0.9715\n",
            "Epoch 50/50\n",
            "3746/3748 [============================>.] - ETA: 0s - loss: 0.0773 - accuracy: 0.9703\n",
            "Epoch 50: saving model to /content/gdrive/My Drive/physionet/ensemble/tri_training/50_epochs_keras_way/teacher_50_epochs_keras_way_wts_trial_3.ckpt\n",
            "3748/3748 [==============================] - 35s 9ms/step - loss: 0.0773 - accuracy: 0.9703\n"
          ]
        },
        {
          "output_type": "execute_result",
          "data": {
            "text/plain": [
              "<keras.callbacks.History at 0x7f59b22ffc10>"
            ]
          },
          "metadata": {},
          "execution_count": 31
        }
      ]
    },
    {
      "cell_type": "code",
      "source": [
        "latest_teacher_50_epochs=tensorflow.train.latest_checkpoint(checkpoint_teacher_model_50_epochs_dir)"
      ],
      "metadata": {
        "id": "qkU2UceKcgYe"
      },
      "execution_count": null,
      "outputs": []
    },
    {
      "cell_type": "code",
      "source": [
        "accuracy_teacher_model_50_epochs = teacher_50_epochs.evaluate(x_test_dt_rshp, y_test_dt_)"
      ],
      "metadata": {
        "colab": {
          "base_uri": "https://localhost:8080/"
        },
        "id": "G3peC8-Bcyfb",
        "outputId": "58bae603-1c70-4a51-e995-e2902446de82"
      },
      "execution_count": null,
      "outputs": [
        {
          "output_type": "stream",
          "name": "stdout",
          "text": [
            "26/26 [==============================] - 1s 8ms/step - loss: 1.0954 - accuracy: 0.8047\n"
          ]
        }
      ]
    },
    {
      "cell_type": "markdown",
      "source": [
        "Training the teacher model for 60 epochs wrt to the transfer set, majority voted labels, x_sub_train, tri-trained labels"
      ],
      "metadata": {
        "id": "D3b-p6meod22"
      }
    },
    {
      "cell_type": "code",
      "source": [
        "checkpoint_teacher_model_60_epochs = \"/content/gdrive/My Drive/physionet/ensemble/tri_training/60_epochs_keras_way/teacher_60_epochs_keras_way_wts_trial_3.ckpt\""
      ],
      "metadata": {
        "id": "ud4BWnIrcy4W"
      },
      "execution_count": null,
      "outputs": []
    },
    {
      "cell_type": "code",
      "source": [
        "checkpoint_teacher_model_60_epochs_dir = os.path.dirname(checkpoint_teacher_model_60_epochs)"
      ],
      "metadata": {
        "id": "n7R-hMAoczAq"
      },
      "execution_count": null,
      "outputs": []
    },
    {
      "cell_type": "code",
      "source": [
        "cp_callback_teacher_model_60_epochs = tensorflow.keras.callbacks.ModelCheckpoint(\n",
        "    filepath=checkpoint_teacher_model_60_epochs,\n",
        "    monitor='accuracy', \n",
        "    verbose=1, \n",
        "    save_weights_only=True,\n",
        "    mode = 'max',\n",
        "    period=60)"
      ],
      "metadata": {
        "id": "YQ_ioC5EownV",
        "colab": {
          "base_uri": "https://localhost:8080/"
        },
        "outputId": "a8185926-90d8-4457-cdbd-286b71992c68"
      },
      "execution_count": null,
      "outputs": [
        {
          "output_type": "stream",
          "name": "stdout",
          "text": [
            "WARNING:tensorflow:`period` argument is deprecated. Please use `save_freq` to specify the frequency in number of batches seen.\n"
          ]
        }
      ]
    },
    {
      "cell_type": "code",
      "source": [
        "teacher_60_epochs=model_b(verbose=VBS)"
      ],
      "metadata": {
        "id": "b5Nd2k5Fowqa",
        "colab": {
          "base_uri": "https://localhost:8080/"
        },
        "outputId": "349438ee-7677-4535-b9b1-04f4763de01f"
      },
      "execution_count": null,
      "outputs": [
        {
          "output_type": "stream",
          "name": "stdout",
          "text": [
            "Model: \"model\"\n",
            "__________________________________________________________________________________________________\n",
            " Layer (type)                   Output Shape         Param #     Connected to                     \n",
            "==================================================================================================\n",
            " inLayer (InputLayer)           [(None, 3000, 1)]    0           []                               \n",
            "                                                                                                  \n",
            " fConv1 (Conv1D)                (None, 500, 64)      3264        ['inLayer[0][0]']                \n",
            "                                                                                                  \n",
            " cConv1 (Conv1D)                (None, 60, 32)       12832       ['inLayer[0][0]']                \n",
            "                                                                                                  \n",
            " fMaxP1 (MaxPooling1D)          (None, 62, 64)       0           ['fConv1[0][0]']                 \n",
            "                                                                                                  \n",
            " cMaxP1 (MaxPooling1D)          (None, 15, 32)       0           ['cConv1[0][0]']                 \n",
            "                                                                                                  \n",
            " fDrop1 (Dropout)               (None, 62, 64)       0           ['fMaxP1[0][0]']                 \n",
            "                                                                                                  \n",
            " cDrop1 (Dropout)               (None, 15, 32)       0           ['cMaxP1[0][0]']                 \n",
            "                                                                                                  \n",
            " fConv2 (Conv1D)                (None, 62, 128)      65664       ['fDrop1[0][0]']                 \n",
            "                                                                                                  \n",
            " cConv2 (Conv1D)                (None, 15, 128)      24704       ['cDrop1[0][0]']                 \n",
            "                                                                                                  \n",
            " fConv3 (Conv1D)                (None, 62, 128)      131200      ['fConv2[0][0]']                 \n",
            "                                                                                                  \n",
            " cConv3 (Conv1D)                (None, 15, 128)      98432       ['cConv2[0][0]']                 \n",
            "                                                                                                  \n",
            " fConv4 (Conv1D)                (None, 62, 128)      131200      ['fConv3[0][0]']                 \n",
            "                                                                                                  \n",
            " cConv4 (Conv1D)                (None, 15, 128)      98432       ['cConv3[0][0]']                 \n",
            "                                                                                                  \n",
            " fMaxP2 (MaxPooling1D)          (None, 15, 128)      0           ['fConv4[0][0]']                 \n",
            "                                                                                                  \n",
            " cMaxP2 (MaxPooling1D)          (None, 7, 128)       0           ['cConv4[0][0]']                 \n",
            "                                                                                                  \n",
            " fFlat1 (Flatten)               (None, 1920)         0           ['fMaxP2[0][0]']                 \n",
            "                                                                                                  \n",
            " cFlat1 (Flatten)               (None, 896)          0           ['cMaxP2[0][0]']                 \n",
            "                                                                                                  \n",
            " merge_1 (Concatenate)          (None, 2816)         0           ['fFlat1[0][0]',                 \n",
            "                                                                  'cFlat1[0][0]']                 \n",
            "                                                                                                  \n",
            " mDrop1 (Dropout)               (None, 2816)         0           ['merge_1[0][0]']                \n",
            "                                                                                                  \n",
            " reshape1 (Reshape)             (None, 1, 2816)      0           ['mDrop1[0][0]']                 \n",
            "                                                                                                  \n",
            " lstm (LSTM)                    (None, 1, 64)        737536      ['reshape1[0][0]']               \n",
            "                                                                                                  \n",
            " lstm_1 (LSTM)                  (None, 64)           33024       ['lstm[0][0]']                   \n",
            "                                                                                                  \n",
            " outLayer (Dense)               (None, 5)            325         ['lstm_1[0][0]']                 \n",
            "                                                                                                  \n",
            "==================================================================================================\n",
            "Total params: 1,336,613\n",
            "Trainable params: 1,336,613\n",
            "Non-trainable params: 0\n",
            "__________________________________________________________________________________________________\n"
          ]
        }
      ]
    },
    {
      "cell_type": "code",
      "source": [
        "teacher_60_epochs.compile(optimizer=optimizer, loss='categorical_crossentropy', metrics=['accuracy'])"
      ],
      "metadata": {
        "id": "t7QlyJqco8Oa"
      },
      "execution_count": null,
      "outputs": []
    },
    {
      "cell_type": "code",
      "source": [
        "teacher_60_epochs.fit(x_dt_rshp, y_dt_, epochs=60, callbacks=[cp_callback_teacher_model_60_epochs])"
      ],
      "metadata": {
        "id": "rDX4Zg3-o9w0",
        "colab": {
          "base_uri": "https://localhost:8080/"
        },
        "outputId": "2bd5c52c-b483-44dd-b6ee-68fd4e577651"
      },
      "execution_count": null,
      "outputs": [
        {
          "output_type": "stream",
          "name": "stdout",
          "text": [
            "Epoch 1/60\n",
            "3748/3748 [==============================] - 52s 10ms/step - loss: 0.6494 - accuracy: 0.7385\n",
            "Epoch 2/60\n",
            "3748/3748 [==============================] - 36s 10ms/step - loss: 0.3773 - accuracy: 0.8512\n",
            "Epoch 3/60\n",
            "3748/3748 [==============================] - 37s 10ms/step - loss: 0.3175 - accuracy: 0.8741\n",
            "Epoch 4/60\n",
            "3748/3748 [==============================] - 37s 10ms/step - loss: 0.2767 - accuracy: 0.8912\n",
            "Epoch 5/60\n",
            "3748/3748 [==============================] - 36s 10ms/step - loss: 0.2469 - accuracy: 0.9029\n",
            "Epoch 6/60\n",
            "3748/3748 [==============================] - 35s 9ms/step - loss: 0.2240 - accuracy: 0.9115\n",
            "Epoch 7/60\n",
            "3748/3748 [==============================] - 36s 10ms/step - loss: 0.2079 - accuracy: 0.9176\n",
            "Epoch 8/60\n",
            "3748/3748 [==============================] - 37s 10ms/step - loss: 0.1958 - accuracy: 0.9223\n",
            "Epoch 9/60\n",
            "3748/3748 [==============================] - 37s 10ms/step - loss: 0.1857 - accuracy: 0.9264\n",
            "Epoch 10/60\n",
            "3748/3748 [==============================] - 37s 10ms/step - loss: 0.1763 - accuracy: 0.9297\n",
            "Epoch 11/60\n",
            "3748/3748 [==============================] - 36s 10ms/step - loss: 0.1695 - accuracy: 0.9327\n",
            "Epoch 12/60\n",
            "3748/3748 [==============================] - 37s 10ms/step - loss: 0.1637 - accuracy: 0.9347\n",
            "Epoch 13/60\n",
            "3748/3748 [==============================] - 36s 10ms/step - loss: 0.1587 - accuracy: 0.9364\n",
            "Epoch 14/60\n",
            "3748/3748 [==============================] - 35s 9ms/step - loss: 0.1532 - accuracy: 0.9395\n",
            "Epoch 15/60\n",
            "3748/3748 [==============================] - 36s 10ms/step - loss: 0.1487 - accuracy: 0.9402\n",
            "Epoch 16/60\n",
            "3748/3748 [==============================] - 36s 10ms/step - loss: 0.1446 - accuracy: 0.9428\n",
            "Epoch 17/60\n",
            "3748/3748 [==============================] - 36s 10ms/step - loss: 0.1396 - accuracy: 0.9448\n",
            "Epoch 18/60\n",
            "3748/3748 [==============================] - 35s 9ms/step - loss: 0.1358 - accuracy: 0.9458\n",
            "Epoch 19/60\n",
            "3748/3748 [==============================] - 35s 9ms/step - loss: 0.1327 - accuracy: 0.9478\n",
            "Epoch 20/60\n",
            "3748/3748 [==============================] - 36s 10ms/step - loss: 0.1308 - accuracy: 0.9483\n",
            "Epoch 21/60\n",
            "3748/3748 [==============================] - 37s 10ms/step - loss: 0.1279 - accuracy: 0.9494\n",
            "Epoch 22/60\n",
            "3748/3748 [==============================] - 37s 10ms/step - loss: 0.1222 - accuracy: 0.9519\n",
            "Epoch 23/60\n",
            "3748/3748 [==============================] - 36s 10ms/step - loss: 0.1198 - accuracy: 0.9527\n",
            "Epoch 24/60\n",
            "3748/3748 [==============================] - 36s 10ms/step - loss: 0.1190 - accuracy: 0.9530\n",
            "Epoch 25/60\n",
            "3748/3748 [==============================] - 36s 10ms/step - loss: 0.1161 - accuracy: 0.9542\n",
            "Epoch 26/60\n",
            "3748/3748 [==============================] - 36s 10ms/step - loss: 0.1127 - accuracy: 0.9559\n",
            "Epoch 27/60\n",
            "3748/3748 [==============================] - 36s 10ms/step - loss: 0.1118 - accuracy: 0.9561\n",
            "Epoch 28/60\n",
            "3748/3748 [==============================] - 36s 10ms/step - loss: 0.1095 - accuracy: 0.9570\n",
            "Epoch 29/60\n",
            "3748/3748 [==============================] - 36s 10ms/step - loss: 0.1074 - accuracy: 0.9582\n",
            "Epoch 30/60\n",
            "3748/3748 [==============================] - 36s 10ms/step - loss: 0.1034 - accuracy: 0.9599\n",
            "Epoch 31/60\n",
            "3748/3748 [==============================] - 35s 9ms/step - loss: 0.1016 - accuracy: 0.9602\n",
            "Epoch 32/60\n",
            "3748/3748 [==============================] - 36s 10ms/step - loss: 0.1012 - accuracy: 0.9603\n",
            "Epoch 33/60\n",
            "3748/3748 [==============================] - 36s 10ms/step - loss: 0.0990 - accuracy: 0.9619\n",
            "Epoch 34/60\n",
            "3748/3748 [==============================] - 36s 10ms/step - loss: 0.0982 - accuracy: 0.9619\n",
            "Epoch 35/60\n",
            "3748/3748 [==============================] - 36s 10ms/step - loss: 0.0948 - accuracy: 0.9634\n",
            "Epoch 36/60\n",
            "3748/3748 [==============================] - 35s 9ms/step - loss: 0.0939 - accuracy: 0.9639\n",
            "Epoch 37/60\n",
            "3748/3748 [==============================] - 36s 10ms/step - loss: 0.0926 - accuracy: 0.9642\n",
            "Epoch 38/60\n",
            "3748/3748 [==============================] - 36s 10ms/step - loss: 0.0906 - accuracy: 0.9648\n",
            "Epoch 39/60\n",
            "3748/3748 [==============================] - 36s 10ms/step - loss: 0.0876 - accuracy: 0.9658\n",
            "Epoch 40/60\n",
            "3748/3748 [==============================] - 36s 10ms/step - loss: 0.0875 - accuracy: 0.9660\n",
            "Epoch 41/60\n",
            "3748/3748 [==============================] - 36s 10ms/step - loss: 0.0857 - accuracy: 0.9669\n",
            "Epoch 42/60\n",
            "3748/3748 [==============================] - 36s 10ms/step - loss: 0.0853 - accuracy: 0.9667\n",
            "Epoch 43/60\n",
            "3748/3748 [==============================] - 36s 10ms/step - loss: 0.0837 - accuracy: 0.9681\n",
            "Epoch 44/60\n",
            "3748/3748 [==============================] - 36s 10ms/step - loss: 0.0812 - accuracy: 0.9687\n",
            "Epoch 45/60\n",
            "3748/3748 [==============================] - 36s 10ms/step - loss: 0.0814 - accuracy: 0.9685\n",
            "Epoch 46/60\n",
            "3748/3748 [==============================] - 36s 10ms/step - loss: 0.0799 - accuracy: 0.9695\n",
            "Epoch 47/60\n",
            "3748/3748 [==============================] - 36s 10ms/step - loss: 0.0785 - accuracy: 0.9701\n",
            "Epoch 48/60\n",
            "3748/3748 [==============================] - 36s 10ms/step - loss: 0.0756 - accuracy: 0.9709\n",
            "Epoch 49/60\n",
            "3748/3748 [==============================] - 36s 10ms/step - loss: 0.0756 - accuracy: 0.9707\n",
            "Epoch 50/60\n",
            "3748/3748 [==============================] - 36s 9ms/step - loss: 0.0759 - accuracy: 0.9710\n",
            "Epoch 51/60\n",
            "3748/3748 [==============================] - 35s 9ms/step - loss: 0.0744 - accuracy: 0.9718\n",
            "Epoch 52/60\n",
            "3748/3748 [==============================] - 36s 10ms/step - loss: 0.0721 - accuracy: 0.9723\n",
            "Epoch 53/60\n",
            "3748/3748 [==============================] - 36s 10ms/step - loss: 0.0711 - accuracy: 0.9728\n",
            "Epoch 54/60\n",
            "3748/3748 [==============================] - 36s 10ms/step - loss: 0.0704 - accuracy: 0.9729\n",
            "Epoch 55/60\n",
            "3748/3748 [==============================] - 36s 10ms/step - loss: 0.0690 - accuracy: 0.9735\n",
            "Epoch 56/60\n",
            "3748/3748 [==============================] - 36s 10ms/step - loss: 0.0694 - accuracy: 0.9736\n",
            "Epoch 57/60\n",
            "3748/3748 [==============================] - 35s 9ms/step - loss: 0.0688 - accuracy: 0.9742\n",
            "Epoch 58/60\n",
            "3748/3748 [==============================] - 35s 9ms/step - loss: 0.0663 - accuracy: 0.9744\n",
            "Epoch 59/60\n",
            "3748/3748 [==============================] - 36s 10ms/step - loss: 0.0657 - accuracy: 0.9753\n",
            "Epoch 60/60\n",
            "3748/3748 [==============================] - ETA: 0s - loss: 0.0640 - accuracy: 0.9757\n",
            "Epoch 60: saving model to /content/gdrive/My Drive/physionet/ensemble/tri_training/60_epochs_keras_way/teacher_60_epochs_keras_way_wts_trial_3.ckpt\n",
            "3748/3748 [==============================] - 37s 10ms/step - loss: 0.0640 - accuracy: 0.9757\n"
          ]
        },
        {
          "output_type": "execute_result",
          "data": {
            "text/plain": [
              "<keras.callbacks.History at 0x7fbb6d6c7f90>"
            ]
          },
          "metadata": {},
          "execution_count": 31
        }
      ]
    },
    {
      "cell_type": "code",
      "source": [
        "latest_teacher_60_epochs=tensorflow.train.latest_checkpoint(checkpoint_teacher_model_60_epochs_dir)"
      ],
      "metadata": {
        "id": "af-n5ZunpEZf"
      },
      "execution_count": null,
      "outputs": []
    },
    {
      "cell_type": "code",
      "source": [
        "accuracy_teacher_model_60_epochs = teacher_60_epochs.evaluate(x_test_dt_rshp, y_test_dt_)"
      ],
      "metadata": {
        "id": "U4fYa-mYpEfI",
        "colab": {
          "base_uri": "https://localhost:8080/"
        },
        "outputId": "6a7a1132-a166-4cbc-e8d2-6e3848ccf669"
      },
      "execution_count": null,
      "outputs": [
        {
          "output_type": "stream",
          "name": "stdout",
          "text": [
            "26/26 [==============================] - 2s 8ms/step - loss: 1.0834 - accuracy: 0.7960\n"
          ]
        }
      ]
    },
    {
      "cell_type": "markdown",
      "source": [
        "training the teacher model for 70 epochs wrt to the transfer set, majority voted labels, x_sub_train, tri-trained labels"
      ],
      "metadata": {
        "id": "5J_8fY8NIOtk"
      }
    },
    {
      "cell_type": "code",
      "source": [
        "checkpoint_teacher_model_70_epochs = \"/content/gdrive/My Drive/physionet/ensemble/tri_training/70_epochs_keras_way/teacher_70_epochs_keras_way_wts_trial_3.ckpt\""
      ],
      "metadata": {
        "id": "QrzqoQjiei4D"
      },
      "execution_count": null,
      "outputs": []
    },
    {
      "cell_type": "code",
      "source": [
        "checkpoint_teacher_model_70_epochs_dir = os.path.dirname(checkpoint_teacher_model_70_epochs)"
      ],
      "metadata": {
        "id": "fBDWpkTEIhhF"
      },
      "execution_count": null,
      "outputs": []
    },
    {
      "cell_type": "code",
      "source": [
        "cp_callback_teacher_model_70_epochs = tensorflow.keras.callbacks.ModelCheckpoint(\n",
        "    filepath=checkpoint_teacher_model_70_epochs,\n",
        "    monitor='accuracy', \n",
        "    verbose=1, \n",
        "    save_weights_only=True,\n",
        "    mode = 'max',\n",
        "    period=70)"
      ],
      "metadata": {
        "colab": {
          "base_uri": "https://localhost:8080/"
        },
        "id": "1VuR4WG-IhjS",
        "outputId": "b03bb816-d370-4393-ac10-a60ae2595438"
      },
      "execution_count": null,
      "outputs": [
        {
          "output_type": "stream",
          "name": "stdout",
          "text": [
            "WARNING:tensorflow:`period` argument is deprecated. Please use `save_freq` to specify the frequency in number of batches seen.\n"
          ]
        }
      ]
    },
    {
      "cell_type": "code",
      "source": [
        "teacher_70_epochs=model_b(verbose=VBS)"
      ],
      "metadata": {
        "colab": {
          "base_uri": "https://localhost:8080/"
        },
        "id": "td5wsiHIIhlt",
        "outputId": "ff0fbeb8-d68c-44b0-c3cf-bdb1f35b9d6b"
      },
      "execution_count": null,
      "outputs": [
        {
          "output_type": "stream",
          "name": "stdout",
          "text": [
            "Model: \"model\"\n",
            "__________________________________________________________________________________________________\n",
            " Layer (type)                   Output Shape         Param #     Connected to                     \n",
            "==================================================================================================\n",
            " inLayer (InputLayer)           [(None, 3000, 1)]    0           []                               \n",
            "                                                                                                  \n",
            " fConv1 (Conv1D)                (None, 500, 64)      3264        ['inLayer[0][0]']                \n",
            "                                                                                                  \n",
            " cConv1 (Conv1D)                (None, 60, 32)       12832       ['inLayer[0][0]']                \n",
            "                                                                                                  \n",
            " fMaxP1 (MaxPooling1D)          (None, 62, 64)       0           ['fConv1[0][0]']                 \n",
            "                                                                                                  \n",
            " cMaxP1 (MaxPooling1D)          (None, 15, 32)       0           ['cConv1[0][0]']                 \n",
            "                                                                                                  \n",
            " fDrop1 (Dropout)               (None, 62, 64)       0           ['fMaxP1[0][0]']                 \n",
            "                                                                                                  \n",
            " cDrop1 (Dropout)               (None, 15, 32)       0           ['cMaxP1[0][0]']                 \n",
            "                                                                                                  \n",
            " fConv2 (Conv1D)                (None, 62, 128)      65664       ['fDrop1[0][0]']                 \n",
            "                                                                                                  \n",
            " cConv2 (Conv1D)                (None, 15, 128)      24704       ['cDrop1[0][0]']                 \n",
            "                                                                                                  \n",
            " fConv3 (Conv1D)                (None, 62, 128)      131200      ['fConv2[0][0]']                 \n",
            "                                                                                                  \n",
            " cConv3 (Conv1D)                (None, 15, 128)      98432       ['cConv2[0][0]']                 \n",
            "                                                                                                  \n",
            " fConv4 (Conv1D)                (None, 62, 128)      131200      ['fConv3[0][0]']                 \n",
            "                                                                                                  \n",
            " cConv4 (Conv1D)                (None, 15, 128)      98432       ['cConv3[0][0]']                 \n",
            "                                                                                                  \n",
            " fMaxP2 (MaxPooling1D)          (None, 15, 128)      0           ['fConv4[0][0]']                 \n",
            "                                                                                                  \n",
            " cMaxP2 (MaxPooling1D)          (None, 7, 128)       0           ['cConv4[0][0]']                 \n",
            "                                                                                                  \n",
            " fFlat1 (Flatten)               (None, 1920)         0           ['fMaxP2[0][0]']                 \n",
            "                                                                                                  \n",
            " cFlat1 (Flatten)               (None, 896)          0           ['cMaxP2[0][0]']                 \n",
            "                                                                                                  \n",
            " merge_1 (Concatenate)          (None, 2816)         0           ['fFlat1[0][0]',                 \n",
            "                                                                  'cFlat1[0][0]']                 \n",
            "                                                                                                  \n",
            " mDrop1 (Dropout)               (None, 2816)         0           ['merge_1[0][0]']                \n",
            "                                                                                                  \n",
            " reshape1 (Reshape)             (None, 1, 2816)      0           ['mDrop1[0][0]']                 \n",
            "                                                                                                  \n",
            " lstm (LSTM)                    (None, 1, 64)        737536      ['reshape1[0][0]']               \n",
            "                                                                                                  \n",
            " lstm_1 (LSTM)                  (None, 64)           33024       ['lstm[0][0]']                   \n",
            "                                                                                                  \n",
            " outLayer (Dense)               (None, 5)            325         ['lstm_1[0][0]']                 \n",
            "                                                                                                  \n",
            "==================================================================================================\n",
            "Total params: 1,336,613\n",
            "Trainable params: 1,336,613\n",
            "Non-trainable params: 0\n",
            "__________________________________________________________________________________________________\n"
          ]
        }
      ]
    },
    {
      "cell_type": "code",
      "source": [
        "teacher_70_epochs.compile(optimizer=optimizer, loss='categorical_crossentropy', metrics=['accuracy'])"
      ],
      "metadata": {
        "id": "LSWLtLBaIhu-"
      },
      "execution_count": null,
      "outputs": []
    },
    {
      "cell_type": "code",
      "source": [
        "teacher_70_epochs.fit(x_dt_rshp, y_dt_, epochs=70, callbacks=[cp_callback_teacher_model_70_epochs])"
      ],
      "metadata": {
        "colab": {
          "base_uri": "https://localhost:8080/"
        },
        "id": "ia4LU1G_JQXd",
        "outputId": "e48549ab-13a4-4b27-9b3a-ac93534b2c50"
      },
      "execution_count": null,
      "outputs": [
        {
          "output_type": "stream",
          "name": "stdout",
          "text": [
            "Epoch 1/70\n",
            "3748/3748 [==============================] - 45s 8ms/step - loss: 0.6494 - accuracy: 0.7383\n",
            "Epoch 2/70\n",
            "3748/3748 [==============================] - 29s 8ms/step - loss: 0.3774 - accuracy: 0.8515\n",
            "Epoch 3/70\n",
            "3748/3748 [==============================] - 29s 8ms/step - loss: 0.3199 - accuracy: 0.8731\n",
            "Epoch 4/70\n",
            "3748/3748 [==============================] - 29s 8ms/step - loss: 0.2827 - accuracy: 0.8878\n",
            "Epoch 5/70\n",
            "3748/3748 [==============================] - 29s 8ms/step - loss: 0.2522 - accuracy: 0.9017\n",
            "Epoch 6/70\n",
            "3748/3748 [==============================] - 29s 8ms/step - loss: 0.2277 - accuracy: 0.9102\n",
            "Epoch 7/70\n",
            "3748/3748 [==============================] - 29s 8ms/step - loss: 0.2106 - accuracy: 0.9164\n",
            "Epoch 8/70\n",
            "3748/3748 [==============================] - 29s 8ms/step - loss: 0.1972 - accuracy: 0.9214\n",
            "Epoch 9/70\n",
            "3748/3748 [==============================] - 29s 8ms/step - loss: 0.1867 - accuracy: 0.9255\n",
            "Epoch 10/70\n",
            "3748/3748 [==============================] - 29s 8ms/step - loss: 0.1775 - accuracy: 0.9292\n",
            "Epoch 11/70\n",
            "3748/3748 [==============================] - 29s 8ms/step - loss: 0.1701 - accuracy: 0.9329\n",
            "Epoch 12/70\n",
            "3748/3748 [==============================] - 30s 8ms/step - loss: 0.1640 - accuracy: 0.9347\n",
            "Epoch 13/70\n",
            "3748/3748 [==============================] - 30s 8ms/step - loss: 0.1574 - accuracy: 0.9371\n",
            "Epoch 14/70\n",
            "3748/3748 [==============================] - 29s 8ms/step - loss: 0.1524 - accuracy: 0.9400\n",
            "Epoch 15/70\n",
            "3748/3748 [==============================] - 28s 8ms/step - loss: 0.1483 - accuracy: 0.9416\n",
            "Epoch 16/70\n",
            "3748/3748 [==============================] - 28s 8ms/step - loss: 0.1437 - accuracy: 0.9428\n",
            "Epoch 17/70\n",
            "3748/3748 [==============================] - 28s 8ms/step - loss: 0.1395 - accuracy: 0.9453\n",
            "Epoch 18/70\n",
            "3748/3748 [==============================] - 28s 8ms/step - loss: 0.1367 - accuracy: 0.9448\n",
            "Epoch 19/70\n",
            "3748/3748 [==============================] - 28s 8ms/step - loss: 0.1322 - accuracy: 0.9475\n",
            "Epoch 20/70\n",
            "3748/3748 [==============================] - 29s 8ms/step - loss: 0.1308 - accuracy: 0.9489\n",
            "Epoch 21/70\n",
            "3748/3748 [==============================] - 28s 8ms/step - loss: 0.1274 - accuracy: 0.9496\n",
            "Epoch 22/70\n",
            "3748/3748 [==============================] - 28s 8ms/step - loss: 0.1216 - accuracy: 0.9516\n",
            "Epoch 23/70\n",
            "3748/3748 [==============================] - 29s 8ms/step - loss: 0.1212 - accuracy: 0.9529\n",
            "Epoch 24/70\n",
            "3748/3748 [==============================] - 28s 7ms/step - loss: 0.1191 - accuracy: 0.9530\n",
            "Epoch 25/70\n",
            "3748/3748 [==============================] - 29s 8ms/step - loss: 0.1162 - accuracy: 0.9543\n",
            "Epoch 26/70\n",
            "3748/3748 [==============================] - 29s 8ms/step - loss: 0.1121 - accuracy: 0.9561\n",
            "Epoch 27/70\n",
            "3748/3748 [==============================] - 28s 8ms/step - loss: 0.1119 - accuracy: 0.9560\n",
            "Epoch 28/70\n",
            "3748/3748 [==============================] - 29s 8ms/step - loss: 0.1092 - accuracy: 0.9568\n",
            "Epoch 29/70\n",
            "3748/3748 [==============================] - 29s 8ms/step - loss: 0.1068 - accuracy: 0.9583\n",
            "Epoch 30/70\n",
            "3748/3748 [==============================] - 29s 8ms/step - loss: 0.1040 - accuracy: 0.9597\n",
            "Epoch 31/70\n",
            "3748/3748 [==============================] - 28s 8ms/step - loss: 0.1011 - accuracy: 0.9609\n",
            "Epoch 32/70\n",
            "3748/3748 [==============================] - 28s 8ms/step - loss: 0.1018 - accuracy: 0.9606\n",
            "Epoch 33/70\n",
            "3748/3748 [==============================] - 29s 8ms/step - loss: 0.0979 - accuracy: 0.9628\n",
            "Epoch 34/70\n",
            "3748/3748 [==============================] - 29s 8ms/step - loss: 0.0975 - accuracy: 0.9624\n",
            "Epoch 35/70\n",
            "3748/3748 [==============================] - 29s 8ms/step - loss: 0.0949 - accuracy: 0.9630\n",
            "Epoch 36/70\n",
            "3748/3748 [==============================] - 29s 8ms/step - loss: 0.0924 - accuracy: 0.9641\n",
            "Epoch 37/70\n",
            "3748/3748 [==============================] - 29s 8ms/step - loss: 0.0927 - accuracy: 0.9642\n",
            "Epoch 38/70\n",
            "3748/3748 [==============================] - 29s 8ms/step - loss: 0.0903 - accuracy: 0.9649\n",
            "Epoch 39/70\n",
            "3748/3748 [==============================] - 29s 8ms/step - loss: 0.0881 - accuracy: 0.9657\n",
            "Epoch 40/70\n",
            "3748/3748 [==============================] - 29s 8ms/step - loss: 0.0861 - accuracy: 0.9667\n",
            "Epoch 41/70\n",
            "3748/3748 [==============================] - 29s 8ms/step - loss: 0.0857 - accuracy: 0.9668\n",
            "Epoch 42/70\n",
            "3748/3748 [==============================] - 28s 8ms/step - loss: 0.0859 - accuracy: 0.9668\n",
            "Epoch 43/70\n",
            "3748/3748 [==============================] - 28s 8ms/step - loss: 0.0840 - accuracy: 0.9678\n",
            "Epoch 44/70\n",
            "3748/3748 [==============================] - 29s 8ms/step - loss: 0.0810 - accuracy: 0.9689\n",
            "Epoch 45/70\n",
            "3748/3748 [==============================] - 28s 8ms/step - loss: 0.0813 - accuracy: 0.9687\n",
            "Epoch 46/70\n",
            "3748/3748 [==============================] - 29s 8ms/step - loss: 0.0801 - accuracy: 0.9693\n",
            "Epoch 47/70\n",
            "3748/3748 [==============================] - 29s 8ms/step - loss: 0.0772 - accuracy: 0.9703\n",
            "Epoch 48/70\n",
            "3748/3748 [==============================] - 29s 8ms/step - loss: 0.0762 - accuracy: 0.9707\n",
            "Epoch 49/70\n",
            "3748/3748 [==============================] - 29s 8ms/step - loss: 0.0742 - accuracy: 0.9714\n",
            "Epoch 50/70\n",
            "3748/3748 [==============================] - 28s 8ms/step - loss: 0.0769 - accuracy: 0.9705\n",
            "Epoch 51/70\n",
            "3748/3748 [==============================] - 28s 8ms/step - loss: 0.0728 - accuracy: 0.9720\n",
            "Epoch 52/70\n",
            "3748/3748 [==============================] - 28s 8ms/step - loss: 0.0725 - accuracy: 0.9719\n",
            "Epoch 53/70\n",
            "3748/3748 [==============================] - 28s 8ms/step - loss: 0.0703 - accuracy: 0.9730\n",
            "Epoch 54/70\n",
            "3748/3748 [==============================] - 29s 8ms/step - loss: 0.0702 - accuracy: 0.9736\n",
            "Epoch 55/70\n",
            "3748/3748 [==============================] - 29s 8ms/step - loss: 0.0686 - accuracy: 0.9738\n",
            "Epoch 56/70\n",
            "3748/3748 [==============================] - 29s 8ms/step - loss: 0.0683 - accuracy: 0.9737\n",
            "Epoch 57/70\n",
            "3748/3748 [==============================] - 29s 8ms/step - loss: 0.0679 - accuracy: 0.9741\n",
            "Epoch 58/70\n",
            "3748/3748 [==============================] - 29s 8ms/step - loss: 0.0655 - accuracy: 0.9752\n",
            "Epoch 59/70\n",
            "3748/3748 [==============================] - 29s 8ms/step - loss: 0.0646 - accuracy: 0.9755\n",
            "Epoch 60/70\n",
            "3748/3748 [==============================] - 29s 8ms/step - loss: 0.0640 - accuracy: 0.9759\n",
            "Epoch 61/70\n",
            "3748/3748 [==============================] - 29s 8ms/step - loss: 0.0629 - accuracy: 0.9766\n",
            "Epoch 62/70\n",
            "3748/3748 [==============================] - 29s 8ms/step - loss: 0.0626 - accuracy: 0.9764\n",
            "Epoch 63/70\n",
            "3748/3748 [==============================] - 29s 8ms/step - loss: 0.0617 - accuracy: 0.9765\n",
            "Epoch 64/70\n",
            "3748/3748 [==============================] - 29s 8ms/step - loss: 0.0608 - accuracy: 0.9769\n",
            "Epoch 65/70\n",
            "3748/3748 [==============================] - 29s 8ms/step - loss: 0.0602 - accuracy: 0.9773\n",
            "Epoch 66/70\n",
            "3748/3748 [==============================] - 29s 8ms/step - loss: 0.0591 - accuracy: 0.9781\n",
            "Epoch 67/70\n",
            "3748/3748 [==============================] - 28s 8ms/step - loss: 0.0591 - accuracy: 0.9772\n",
            "Epoch 68/70\n",
            "3748/3748 [==============================] - 29s 8ms/step - loss: 0.0584 - accuracy: 0.9785\n",
            "Epoch 69/70\n",
            "3748/3748 [==============================] - 29s 8ms/step - loss: 0.0580 - accuracy: 0.9784\n",
            "Epoch 70/70\n",
            "3744/3748 [============================>.] - ETA: 0s - loss: 0.0568 - accuracy: 0.9789\n",
            "Epoch 70: saving model to /content/gdrive/My Drive/physionet/ensemble/tri_training/70_epochs_keras_way/teacher_70_epochs_keras_way_wts_trial_3.ckpt\n",
            "3748/3748 [==============================] - 29s 8ms/step - loss: 0.0568 - accuracy: 0.9789\n"
          ]
        },
        {
          "output_type": "execute_result",
          "data": {
            "text/plain": [
              "<keras.callbacks.History at 0x7f6f21b49dd0>"
            ]
          },
          "metadata": {},
          "execution_count": 30
        }
      ]
    },
    {
      "cell_type": "code",
      "source": [
        "latest_teacher_70_epochs=tensorflow.train.latest_checkpoint(checkpoint_teacher_model_70_epochs_dir)"
      ],
      "metadata": {
        "id": "Mh7HwQGEI8LE"
      },
      "execution_count": null,
      "outputs": []
    },
    {
      "cell_type": "code",
      "source": [
        "accuracy_teacher_model_70_epochs = teacher_70_epochs.evaluate(x_test_dt_rshp, y_test_dt_)"
      ],
      "metadata": {
        "colab": {
          "base_uri": "https://localhost:8080/"
        },
        "id": "0hCa7-TaJC1T",
        "outputId": "1500ce33-068d-46e2-e3fc-66d24d2f4d20"
      },
      "execution_count": null,
      "outputs": [
        {
          "output_type": "stream",
          "name": "stdout",
          "text": [
            "26/26 [==============================] - 1s 7ms/step - loss: 1.3014 - accuracy: 0.8010\n"
          ]
        }
      ]
    },
    {
      "cell_type": "markdown",
      "source": [
        "Trial 1\n",
        "\n",
        "KD using the  epochs teacher model, finalized the teacher with  epochs student model: alpha: 0.9, temp: 5\n",
        "\n",
        "Trial 2\n",
        "\n",
        "KD using the  epochs teacher model, finalized the teacher with  epochs student model: alpha: 0.9, temp: 5\n",
        "\n",
        "Trial 3\n",
        "\n",
        "KD using the  epochs teacher model, finalized the teacher with  epochs, student model: alpha: 0.9, temp: 5"
      ],
      "metadata": {
        "id": "Yo8thb7--Ps8"
      }
    },
    {
      "cell_type": "markdown",
      "source": [
        "KD with 40 epochs"
      ],
      "metadata": {
        "id": "dGSjDmYO3SCD"
      }
    },
    {
      "cell_type": "code",
      "source": [
        "teacher_model=model_b(verbose=VBS) #40 epochs teacher model"
      ],
      "metadata": {
        "colab": {
          "base_uri": "https://localhost:8080/"
        },
        "id": "_ySEY_3H97av",
        "outputId": "547cb1af-3f31-4112-ac0e-26cd97c86e59"
      },
      "execution_count": null,
      "outputs": [
        {
          "output_type": "stream",
          "name": "stdout",
          "text": [
            "Model: \"model\"\n",
            "__________________________________________________________________________________________________\n",
            " Layer (type)                   Output Shape         Param #     Connected to                     \n",
            "==================================================================================================\n",
            " inLayer (InputLayer)           [(None, 3000, 1)]    0           []                               \n",
            "                                                                                                  \n",
            " fConv1 (Conv1D)                (None, 500, 64)      3264        ['inLayer[0][0]']                \n",
            "                                                                                                  \n",
            " cConv1 (Conv1D)                (None, 60, 32)       12832       ['inLayer[0][0]']                \n",
            "                                                                                                  \n",
            " fMaxP1 (MaxPooling1D)          (None, 62, 64)       0           ['fConv1[0][0]']                 \n",
            "                                                                                                  \n",
            " cMaxP1 (MaxPooling1D)          (None, 15, 32)       0           ['cConv1[0][0]']                 \n",
            "                                                                                                  \n",
            " fDrop1 (Dropout)               (None, 62, 64)       0           ['fMaxP1[0][0]']                 \n",
            "                                                                                                  \n",
            " cDrop1 (Dropout)               (None, 15, 32)       0           ['cMaxP1[0][0]']                 \n",
            "                                                                                                  \n",
            " fConv2 (Conv1D)                (None, 62, 128)      65664       ['fDrop1[0][0]']                 \n",
            "                                                                                                  \n",
            " cConv2 (Conv1D)                (None, 15, 128)      24704       ['cDrop1[0][0]']                 \n",
            "                                                                                                  \n",
            " fConv3 (Conv1D)                (None, 62, 128)      131200      ['fConv2[0][0]']                 \n",
            "                                                                                                  \n",
            " cConv3 (Conv1D)                (None, 15, 128)      98432       ['cConv2[0][0]']                 \n",
            "                                                                                                  \n",
            " fConv4 (Conv1D)                (None, 62, 128)      131200      ['fConv3[0][0]']                 \n",
            "                                                                                                  \n",
            " cConv4 (Conv1D)                (None, 15, 128)      98432       ['cConv3[0][0]']                 \n",
            "                                                                                                  \n",
            " fMaxP2 (MaxPooling1D)          (None, 15, 128)      0           ['fConv4[0][0]']                 \n",
            "                                                                                                  \n",
            " cMaxP2 (MaxPooling1D)          (None, 7, 128)       0           ['cConv4[0][0]']                 \n",
            "                                                                                                  \n",
            " fFlat1 (Flatten)               (None, 1920)         0           ['fMaxP2[0][0]']                 \n",
            "                                                                                                  \n",
            " cFlat1 (Flatten)               (None, 896)          0           ['cMaxP2[0][0]']                 \n",
            "                                                                                                  \n",
            " merge_1 (Concatenate)          (None, 2816)         0           ['fFlat1[0][0]',                 \n",
            "                                                                  'cFlat1[0][0]']                 \n",
            "                                                                                                  \n",
            " mDrop1 (Dropout)               (None, 2816)         0           ['merge_1[0][0]']                \n",
            "                                                                                                  \n",
            " reshape1 (Reshape)             (None, 1, 2816)      0           ['mDrop1[0][0]']                 \n",
            "                                                                                                  \n",
            " lstm (LSTM)                    (None, 1, 64)        737536      ['reshape1[0][0]']               \n",
            "                                                                                                  \n",
            " lstm_1 (LSTM)                  (None, 64)           33024       ['lstm[0][0]']                   \n",
            "                                                                                                  \n",
            " outLayer (Dense)               (None, 5)            325         ['lstm_1[0][0]']                 \n",
            "                                                                                                  \n",
            "==================================================================================================\n",
            "Total params: 1,336,613\n",
            "Trainable params: 1,336,613\n",
            "Non-trainable params: 0\n",
            "__________________________________________________________________________________________________\n"
          ]
        }
      ]
    },
    {
      "cell_type": "code",
      "source": [
        "teacher_checkpt_path=\"/content/gdrive/My Drive/physionet/ensemble/tri_training/40_epochs_keras_way/teacher_40_epochs_keras_way_wts_trial_3.ckpt\"\n",
        "teacher_model.load_weights(teacher_checkpt_path)"
      ],
      "metadata": {
        "colab": {
          "base_uri": "https://localhost:8080/"
        },
        "id": "XGYIvJM7_u1b",
        "outputId": "37a80607-c3bd-4dc3-c500-0a703569cdb3"
      },
      "execution_count": null,
      "outputs": [
        {
          "output_type": "execute_result",
          "data": {
            "text/plain": [
              "<tensorflow.python.training.tracking.util.CheckpointLoadStatus at 0x7f3ac9da5a90>"
            ]
          },
          "metadata": {},
          "execution_count": 27
        }
      ]
    },
    {
      "cell_type": "code",
      "source": [
        "from keras.layers import Input, Dense, LSTM, MaxPooling1D, Conv1D\n",
        "from keras.models import Model"
      ],
      "metadata": {
        "id": "WRiIVK51_HcR"
      },
      "execution_count": null,
      "outputs": []
    },
    {
      "cell_type": "code",
      "source": [
        "teacher_model.compile(optimizer=optimizer, loss='categorical_crossentropy', metrics=['accuracy'])"
      ],
      "metadata": {
        "id": "1uiHElwVACnO"
      },
      "execution_count": null,
      "outputs": []
    },
    {
      "cell_type": "code",
      "source": [
        "accuracy_teacher_model = teacher_model.evaluate(x_test_dt_rshp, y_test_dt_)"
      ],
      "metadata": {
        "colab": {
          "base_uri": "https://localhost:8080/"
        },
        "id": "QdT83AOVAGk2",
        "outputId": "ba6da19f-0aa9-4db2-e8dd-ce4b7391f5d3"
      },
      "execution_count": null,
      "outputs": [
        {
          "output_type": "stream",
          "name": "stdout",
          "text": [
            "26/26 [==============================] - 12s 7ms/step - loss: 1.0527 - accuracy: 0.8060\n"
          ]
        }
      ]
    },
    {
      "cell_type": "code",
      "source": [
        "preds_teacher_model = teacher_model.predict(x_test_dt_rshp)"
      ],
      "metadata": {
        "id": "QMFYsOt07jC5"
      },
      "execution_count": null,
      "outputs": []
    },
    {
      "cell_type": "code",
      "source": [
        "preds_teacher_model_fin=np.argmax(preds_teacher_model,axis=1)"
      ],
      "metadata": {
        "id": "Ta1e6ZZw7tyn"
      },
      "execution_count": null,
      "outputs": []
    },
    {
      "cell_type": "code",
      "source": [
        "from sklearn.metrics import confusion_matrix\n",
        "matrix_teacher = confusion_matrix(y_test_dt, preds_teacher_model_fin)\n",
        "matrix_teacher.diagonal()/matrix_teacher.sum(axis=1)"
      ],
      "metadata": {
        "colab": {
          "base_uri": "https://localhost:8080/"
        },
        "id": "ufMXZzgHVvLH",
        "outputId": "fcfcd74a-180b-47fe-ccfb-60ee675a3ccf"
      },
      "execution_count": null,
      "outputs": [
        {
          "output_type": "execute_result",
          "data": {
            "text/plain": [
              "array([0.97674419, 0.3245614 , 0.90909091, 0.71428571, 0.38271605])"
            ]
          },
          "metadata": {},
          "execution_count": 33
        }
      ]
    },
    {
      "cell_type": "code",
      "source": [
        "#y_sub_dt\n",
        "from sklearn.metrics import precision_score, recall_score\n",
        "f1_teacher = f1_score(y_test_dt, preds_teacher_model_fin, average=\"macro\")\n",
        "prec_teacher = precision_score(y_test_dt, preds_teacher_model_fin, average=\"macro\")\n",
        "recall_teacher = recall_score(y_test_dt, preds_teacher_model_fin, average=\"macro\")\n",
        "if VBS:\n",
        "    print(\"Precision: {}\".format(prec_teacher)) \n",
        "    print(\"Recall: {}\".format(recall_teacher))\n",
        "    print(\"F1 score: {}\".format(f1_teacher))\n",
        "\n",
        "    report_teacher = classification_report(y_test_dt, preds_teacher_model_fin, digits=6)\n",
        "    print(report_teacher)"
      ],
      "metadata": {
        "colab": {
          "base_uri": "https://localhost:8080/"
        },
        "id": "D2U231NqWQqs",
        "outputId": "57353fd4-ca3e-4e78-8b99-70f4db65a707"
      },
      "execution_count": null,
      "outputs": [
        {
          "output_type": "stream",
          "name": "stdout",
          "text": [
            "Precision: 0.7327995188711096\n",
            "Recall: 0.6614796524629246\n",
            "F1 score: 0.677704026505303\n",
            "              precision    recall  f1-score   support\n",
            "\n",
            "           0   0.871369  0.976744  0.921053       430\n",
            "           1   0.425287  0.324561  0.368159       114\n",
            "           2   0.815217  0.909091  0.859599       165\n",
            "           3   0.714286  0.714286  0.714286        14\n",
            "           4   0.837838  0.382716  0.525424        81\n",
            "\n",
            "    accuracy                       0.805970       804\n",
            "   macro avg   0.732800  0.661480  0.677704       804\n",
            "weighted avg   0.790482  0.805970  0.786587       804\n",
            "\n"
          ]
        }
      ]
    },
    {
      "cell_type": "code",
      "source": [
        "#student model\n",
        "def get_model_1d_cnn():\n",
        "    nclass = 5\n",
        "    inp = Input(shape=(3000, 1))\n",
        "    img_1 = Conv1D(4, kernel_size=6, activation=activations.relu, strides=1, padding=\"valid\")(inp)\n",
        "    #img_1 = Conv1D(128, kernel_size=5, activation=activations.relu, strides=1, padding=\"valid\")(img_1)\n",
        "    img_1 = MaxPooling1D(pool_size=2)(img_1)\n",
        "    #img_1 = SpatialDropout1D(rate=0.2)(img_1)\n",
        "    img_1 = Conv1D(4, kernel_size=5, activation=activations.relu, strides=1, padding=\"valid\")(img_1)\n",
        "    #img_1 = Conv1D(256, kernel_size=7, activation=activations.relu, strides=1, padding=\"valid\")(img_1)\n",
        "    img_1 = MaxPooling1D(pool_size=2)(img_1)\n",
        "    #img_1 = SpatialDropout1D(rate=0.01)(img_1)\n",
        "    img_1 = Conv1D(10, kernel_size=4, activation=activations.relu, strides=1, padding=\"valid\")(img_1)\n",
        "    #img_1 = Conv1D(64, kernel_size=4, activation=activations.relu, strides=1, padding=\"valid\")(img_1)\n",
        "    img_1 = MaxPooling1D(pool_size=2)(img_1)\n",
        "    #img_1 = SpatialDropout1D(rate=0.01)(img_1)\n",
        "    img_1 = Conv1D(10, kernel_size=4, activation=activations.relu, strides=1, padding=\"valid\")(img_1)\n",
        "    img_1 = MaxPooling1D(pool_size=2)(img_1)\n",
        "    #img_1 = Conv1D(64, kernel_size=6, activation=activations.relu, strides=1, padding=\"valid\")(img_1)\n",
        "    #img_1 = MaxPooling1D(pool_size=2)(img_1)\n",
        "    img_1 = Flatten()(img_1)\n",
        "\n",
        "    \n",
        "    dense_1 = Dropout(rate=0.5)(img_1)\n",
        "    #dense_1 = Dropout(rate=0.05)(Dense(64, activation=activations.relu, name=\"dense_2\")(dense_1))\n",
        "    dense_1 = Dense(nclass, activation=activations.softmax)(dense_1)\n",
        "\n",
        "    model = Model(inputs=inp, outputs=dense_1)\n",
        "    opt = Adam(0.001)\n",
        "\n",
        "    model.compile(optimizer=opt, loss='categorical_crossentropy', metrics=['acc'])\n",
        "    model.summary()\n",
        "    return model"
      ],
      "metadata": {
        "id": "TkEJ9sVn_VOf"
      },
      "execution_count": null,
      "outputs": []
    },
    {
      "cell_type": "code",
      "source": [
        "#student_model=get_model_cnn()\n",
        "student_model=get_model_1d_cnn()"
      ],
      "metadata": {
        "colab": {
          "base_uri": "https://localhost:8080/"
        },
        "id": "3J4RBEGN_ZiJ",
        "outputId": "55892a11-becd-4006-ff00-f815969bee84"
      },
      "execution_count": null,
      "outputs": [
        {
          "output_type": "stream",
          "name": "stdout",
          "text": [
            "Model: \"model_1\"\n",
            "_________________________________________________________________\n",
            " Layer (type)                Output Shape              Param #   \n",
            "=================================================================\n",
            " input_1 (InputLayer)        [(None, 3000, 1)]         0         \n",
            "                                                                 \n",
            " conv1d (Conv1D)             (None, 2995, 4)           28        \n",
            "                                                                 \n",
            " max_pooling1d (MaxPooling1D  (None, 1497, 4)          0         \n",
            " )                                                               \n",
            "                                                                 \n",
            " conv1d_1 (Conv1D)           (None, 1493, 4)           84        \n",
            "                                                                 \n",
            " max_pooling1d_1 (MaxPooling  (None, 746, 4)           0         \n",
            " 1D)                                                             \n",
            "                                                                 \n",
            " conv1d_2 (Conv1D)           (None, 743, 10)           170       \n",
            "                                                                 \n",
            " max_pooling1d_2 (MaxPooling  (None, 371, 10)          0         \n",
            " 1D)                                                             \n",
            "                                                                 \n",
            " conv1d_3 (Conv1D)           (None, 368, 10)           410       \n",
            "                                                                 \n",
            " max_pooling1d_3 (MaxPooling  (None, 184, 10)          0         \n",
            " 1D)                                                             \n",
            "                                                                 \n",
            " flatten (Flatten)           (None, 1840)              0         \n",
            "                                                                 \n",
            " dropout (Dropout)           (None, 1840)              0         \n",
            "                                                                 \n",
            " dense (Dense)               (None, 5)                 9205      \n",
            "                                                                 \n",
            "=================================================================\n",
            "Total params: 9,897\n",
            "Trainable params: 9,897\n",
            "Non-trainable params: 0\n",
            "_________________________________________________________________\n"
          ]
        }
      ]
    },
    {
      "cell_type": "code",
      "source": [
        "class Distiller(keras.Model):\n",
        "    def __init__(self, student, teacher):\n",
        "        super(Distiller, self).__init__()\n",
        "        self.teacher = teacher\n",
        "        self.student = student\n",
        "\n",
        "    def compile(\n",
        "        self,\n",
        "        optimizer,\n",
        "        metrics,\n",
        "        student_loss_fn,\n",
        "        distillation_loss_fn,\n",
        "        alpha=0.1,\n",
        "        temperature=3,\n",
        "    ):\n",
        "        \"\"\" Configure the distiller.\n",
        "\n",
        "        Args:\n",
        "            optimizer: Keras optimizer for the student weights\n",
        "            metrics: Keras metrics for evaluation\n",
        "            student_loss_fn: Loss function of difference between student\n",
        "                predictions and ground-truth\n",
        "            distillation_loss_fn: Loss function of difference between soft\n",
        "                student predictions and soft teacher predictions\n",
        "            alpha: weight to student_loss_fn and 1-alpha to distillation_loss_fn\n",
        "            temperature: Temperature for softening probability distributions.\n",
        "                Larger temperature gives softer distributions.\n",
        "        \"\"\"\n",
        "        super(Distiller, self).compile(optimizer=optimizer, metrics=metrics)\n",
        "        self.student_loss_fn = student_loss_fn\n",
        "        self.distillation_loss_fn = distillation_loss_fn\n",
        "        self.alpha = alpha\n",
        "        self.temperature = temperature\n",
        "\n",
        "    def train_step(self, data):\n",
        "        # Unpack data\n",
        "        x, y = data\n",
        "\n",
        "        # Forward pass of teacher\n",
        "        teacher_predictions = self.teacher(x, training=False)\n",
        "\n",
        "        with tf.GradientTape() as tape:\n",
        "            # Forward pass of student\n",
        "            student_predictions = self.student(x, training=True)\n",
        "\n",
        "            # Compute losses\n",
        "            student_loss = self.student_loss_fn(y, student_predictions)\n",
        "            distillation_loss = self.distillation_loss_fn(\n",
        "                tf.nn.softmax(teacher_predictions / self.temperature, axis=1),\n",
        "                tf.nn.softmax(student_predictions / self.temperature, axis=1),\n",
        "            )\n",
        "            loss = self.alpha * student_loss + (1 - self.alpha) * distillation_loss\n",
        "\n",
        "        # Compute gradients\n",
        "        trainable_vars = self.student.trainable_variables\n",
        "        gradients = tape.gradient(loss, trainable_vars)\n",
        "\n",
        "        # Update weights\n",
        "        self.optimizer.apply_gradients(zip(gradients, trainable_vars))\n",
        "\n",
        "        # Update the metrics configured in `compile()`.\n",
        "        self.compiled_metrics.update_state(y, student_predictions)\n",
        "\n",
        "        # Return a dict of performance\n",
        "        results = {m.name: m.result() for m in self.metrics}\n",
        "        results.update(\n",
        "            {\"student_loss\": student_loss, \"distillation_loss\": distillation_loss}\n",
        "        )\n",
        "        return results\n",
        "\n",
        "    def test_step(self, data):\n",
        "        # Unpack the data\n",
        "        x, y = data\n",
        "\n",
        "        # Compute predictions\n",
        "        y_prediction = self.student(x, training=False)\n",
        "\n",
        "        # Calculate the loss\n",
        "        student_loss = self.student_loss_fn(y, y_prediction)\n",
        "\n",
        "        # Update the metrics.\n",
        "        self.compiled_metrics.update_state(y, y_prediction)\n",
        "\n",
        "        # Return a dict of performance\n",
        "        results = {m.name: m.result() for m in self.metrics}\n",
        "        results.update({\"student_loss\": student_loss})\n",
        "        return results\n"
      ],
      "metadata": {
        "id": "G0sX0Geo_dX6"
      },
      "execution_count": null,
      "outputs": []
    },
    {
      "cell_type": "code",
      "source": [
        "import tensorflow as tf\n",
        "from tensorflow import keras\n",
        "from tensorflow.keras import layers\n",
        "import numpy as np\n"
      ],
      "metadata": {
        "id": "0Ib38_K-AcPO"
      },
      "execution_count": null,
      "outputs": []
    },
    {
      "cell_type": "code",
      "source": [
        "# Initialize and compile distiller\n",
        "distiller = Distiller(student=student_model, teacher=teacher_model)\n",
        "distiller.compile(\n",
        "    optimizer=keras.optimizers.Adam(),\n",
        "    metrics=[keras.metrics.CategoricalAccuracy()],\n",
        "    student_loss_fn=keras.losses.CategoricalCrossentropy(from_logits=True),\n",
        "    distillation_loss_fn=keras.losses.KLDivergence(),\n",
        "    alpha=0.9,\n",
        "    temperature=5,\n",
        ")\n",
        "\n",
        "# Distill teacher to student\n",
        "distiller.fit(x_dt_rshp, y_dt_, epochs=50)\n",
        "\n",
        "# Evaluate student on test dataset\n",
        "#distiller.evaluate(x_test, y_test)"
      ],
      "metadata": {
        "colab": {
          "base_uri": "https://localhost:8080/"
        },
        "id": "ERK-_WZyAg6M",
        "outputId": "b233c820-1970-4769-e9af-e599d709e05a"
      },
      "execution_count": null,
      "outputs": [
        {
          "output_type": "stream",
          "name": "stdout",
          "text": [
            "Epoch 1/50\n",
            "3748/3748 [==============================] - 33s 8ms/step - categorical_accuracy: 0.6786 - student_loss: 0.7829 - distillation_loss: 0.0016\n",
            "Epoch 2/50\n",
            "3748/3748 [==============================] - 29s 8ms/step - categorical_accuracy: 0.7631 - student_loss: 0.5677 - distillation_loss: 0.0012\n",
            "Epoch 3/50\n",
            "3748/3748 [==============================] - 29s 8ms/step - categorical_accuracy: 0.7786 - student_loss: 0.5297 - distillation_loss: 0.0011\n",
            "Epoch 4/50\n",
            "3748/3748 [==============================] - 29s 8ms/step - categorical_accuracy: 0.7907 - student_loss: 0.5043 - distillation_loss: 0.0011\n",
            "Epoch 5/50\n",
            "3748/3748 [==============================] - 29s 8ms/step - categorical_accuracy: 0.8002 - student_loss: 0.4843 - distillation_loss: 0.0010\n",
            "Epoch 6/50\n",
            "3748/3748 [==============================] - 29s 8ms/step - categorical_accuracy: 0.8071 - student_loss: 0.4681 - distillation_loss: 9.8167e-04\n",
            "Epoch 7/50\n",
            "3748/3748 [==============================] - 29s 8ms/step - categorical_accuracy: 0.8128 - student_loss: 0.4549 - distillation_loss: 9.5201e-04\n",
            "Epoch 8/50\n",
            "3748/3748 [==============================] - 29s 8ms/step - categorical_accuracy: 0.8206 - student_loss: 0.4399 - distillation_loss: 9.1731e-04\n",
            "Epoch 9/50\n",
            "3748/3748 [==============================] - 29s 8ms/step - categorical_accuracy: 0.8220 - student_loss: 0.4335 - distillation_loss: 9.0305e-04\n",
            "Epoch 10/50\n",
            "3748/3748 [==============================] - 29s 8ms/step - categorical_accuracy: 0.8268 - student_loss: 0.4237 - distillation_loss: 8.7849e-04\n",
            "Epoch 11/50\n",
            "3748/3748 [==============================] - 29s 8ms/step - categorical_accuracy: 0.8324 - student_loss: 0.4118 - distillation_loss: 8.4812e-04\n",
            "Epoch 12/50\n",
            "3748/3748 [==============================] - 29s 8ms/step - categorical_accuracy: 0.8403 - student_loss: 0.3966 - distillation_loss: 8.1286e-04\n",
            "Epoch 13/50\n",
            "3748/3748 [==============================] - 29s 8ms/step - categorical_accuracy: 0.8463 - student_loss: 0.3830 - distillation_loss: 7.8175e-04\n",
            "Epoch 14/50\n",
            "3748/3748 [==============================] - 29s 8ms/step - categorical_accuracy: 0.8477 - student_loss: 0.3807 - distillation_loss: 7.7575e-04\n",
            "Epoch 15/50\n",
            "3748/3748 [==============================] - 29s 8ms/step - categorical_accuracy: 0.8513 - student_loss: 0.3743 - distillation_loss: 7.5699e-04\n",
            "Epoch 16/50\n",
            "3748/3748 [==============================] - 29s 8ms/step - categorical_accuracy: 0.8527 - student_loss: 0.3705 - distillation_loss: 7.5225e-04\n",
            "Epoch 17/50\n",
            "3748/3748 [==============================] - 29s 8ms/step - categorical_accuracy: 0.8546 - student_loss: 0.3655 - distillation_loss: 7.4061e-04\n",
            "Epoch 18/50\n",
            "3748/3748 [==============================] - 29s 8ms/step - categorical_accuracy: 0.8547 - student_loss: 0.3633 - distillation_loss: 7.3696e-04\n",
            "Epoch 19/50\n",
            "3748/3748 [==============================] - 29s 8ms/step - categorical_accuracy: 0.8562 - student_loss: 0.3605 - distillation_loss: 7.3193e-04\n",
            "Epoch 20/50\n",
            "3748/3748 [==============================] - 29s 8ms/step - categorical_accuracy: 0.8576 - student_loss: 0.3594 - distillation_loss: 7.2927e-04\n",
            "Epoch 21/50\n",
            "3748/3748 [==============================] - 29s 8ms/step - categorical_accuracy: 0.8590 - student_loss: 0.3567 - distillation_loss: 7.2272e-04\n",
            "Epoch 22/50\n",
            "3748/3748 [==============================] - 29s 8ms/step - categorical_accuracy: 0.8597 - student_loss: 0.3535 - distillation_loss: 7.1365e-04\n",
            "Epoch 23/50\n",
            "3748/3748 [==============================] - 29s 8ms/step - categorical_accuracy: 0.8601 - student_loss: 0.3535 - distillation_loss: 7.1487e-04\n",
            "Epoch 24/50\n",
            "3748/3748 [==============================] - 29s 8ms/step - categorical_accuracy: 0.8612 - student_loss: 0.3513 - distillation_loss: 7.1048e-04\n",
            "Epoch 25/50\n",
            "3748/3748 [==============================] - 29s 8ms/step - categorical_accuracy: 0.8630 - student_loss: 0.3484 - distillation_loss: 7.0471e-04\n",
            "Epoch 26/50\n",
            "3748/3748 [==============================] - 29s 8ms/step - categorical_accuracy: 0.8628 - student_loss: 0.3476 - distillation_loss: 7.0468e-04\n",
            "Epoch 27/50\n",
            "3748/3748 [==============================] - 29s 8ms/step - categorical_accuracy: 0.8610 - student_loss: 0.3503 - distillation_loss: 7.0767e-04\n",
            "Epoch 28/50\n",
            "3748/3748 [==============================] - 29s 8ms/step - categorical_accuracy: 0.8643 - student_loss: 0.3439 - distillation_loss: 6.9569e-04\n",
            "Epoch 29/50\n",
            "3748/3748 [==============================] - 29s 8ms/step - categorical_accuracy: 0.8644 - student_loss: 0.3426 - distillation_loss: 6.9534e-04\n",
            "Epoch 30/50\n",
            "3748/3748 [==============================] - 29s 8ms/step - categorical_accuracy: 0.8639 - student_loss: 0.3418 - distillation_loss: 6.9209e-04\n",
            "Epoch 31/50\n",
            "3748/3748 [==============================] - 29s 8ms/step - categorical_accuracy: 0.8666 - student_loss: 0.3395 - distillation_loss: 6.8530e-04\n",
            "Epoch 32/50\n",
            "3748/3748 [==============================] - 29s 8ms/step - categorical_accuracy: 0.8641 - student_loss: 0.3414 - distillation_loss: 6.9165e-04\n",
            "Epoch 33/50\n",
            "3748/3748 [==============================] - 29s 8ms/step - categorical_accuracy: 0.8650 - student_loss: 0.3413 - distillation_loss: 6.8828e-04\n",
            "Epoch 34/50\n",
            "3748/3748 [==============================] - 29s 8ms/step - categorical_accuracy: 0.8662 - student_loss: 0.3381 - distillation_loss: 6.8327e-04\n",
            "Epoch 35/50\n",
            "3748/3748 [==============================] - 29s 8ms/step - categorical_accuracy: 0.8675 - student_loss: 0.3357 - distillation_loss: 6.7878e-04\n",
            "Epoch 36/50\n",
            "3748/3748 [==============================] - 29s 8ms/step - categorical_accuracy: 0.8672 - student_loss: 0.3359 - distillation_loss: 6.7939e-04\n",
            "Epoch 37/50\n",
            "3748/3748 [==============================] - 29s 8ms/step - categorical_accuracy: 0.8679 - student_loss: 0.3338 - distillation_loss: 6.7648e-04\n",
            "Epoch 38/50\n",
            "3748/3748 [==============================] - 29s 8ms/step - categorical_accuracy: 0.8679 - student_loss: 0.3347 - distillation_loss: 6.7767e-04\n",
            "Epoch 39/50\n",
            "3748/3748 [==============================] - 29s 8ms/step - categorical_accuracy: 0.8677 - student_loss: 0.3331 - distillation_loss: 6.7492e-04\n",
            "Epoch 40/50\n",
            "3748/3748 [==============================] - 29s 8ms/step - categorical_accuracy: 0.8685 - student_loss: 0.3313 - distillation_loss: 6.6968e-04\n",
            "Epoch 41/50\n",
            "3748/3748 [==============================] - 29s 8ms/step - categorical_accuracy: 0.8679 - student_loss: 0.3321 - distillation_loss: 6.7134e-04\n",
            "Epoch 42/50\n",
            "3748/3748 [==============================] - 29s 8ms/step - categorical_accuracy: 0.8682 - student_loss: 0.3335 - distillation_loss: 6.7291e-04\n",
            "Epoch 43/50\n",
            "3748/3748 [==============================] - 29s 8ms/step - categorical_accuracy: 0.8696 - student_loss: 0.3280 - distillation_loss: 6.6530e-04\n",
            "Epoch 44/50\n",
            "3748/3748 [==============================] - 29s 8ms/step - categorical_accuracy: 0.8701 - student_loss: 0.3285 - distillation_loss: 6.6572e-04\n",
            "Epoch 45/50\n",
            "3748/3748 [==============================] - 29s 8ms/step - categorical_accuracy: 0.8694 - student_loss: 0.3280 - distillation_loss: 6.6353e-04\n",
            "Epoch 46/50\n",
            "3748/3748 [==============================] - 28s 8ms/step - categorical_accuracy: 0.8705 - student_loss: 0.3281 - distillation_loss: 6.6121e-04\n",
            "Epoch 47/50\n",
            "3748/3748 [==============================] - 28s 8ms/step - categorical_accuracy: 0.8711 - student_loss: 0.3266 - distillation_loss: 6.5839e-04\n",
            "Epoch 48/50\n",
            "3748/3748 [==============================] - 29s 8ms/step - categorical_accuracy: 0.8707 - student_loss: 0.3272 - distillation_loss: 6.6329e-04\n",
            "Epoch 49/50\n",
            "3748/3748 [==============================] - 29s 8ms/step - categorical_accuracy: 0.8699 - student_loss: 0.3284 - distillation_loss: 6.6465e-04\n",
            "Epoch 50/50\n",
            "3748/3748 [==============================] - 28s 8ms/step - categorical_accuracy: 0.8712 - student_loss: 0.3251 - distillation_loss: 6.5710e-04\n"
          ]
        },
        {
          "output_type": "execute_result",
          "data": {
            "text/plain": [
              "<keras.callbacks.History at 0x7f3ac0e30f90>"
            ]
          },
          "metadata": {},
          "execution_count": 39
        }
      ]
    },
    {
      "cell_type": "code",
      "source": [
        "accuracy_distiller = distiller.evaluate(x_test_dt_rshp, y_test_dt_)"
      ],
      "metadata": {
        "colab": {
          "base_uri": "https://localhost:8080/"
        },
        "id": "Lsdid47DA73P",
        "outputId": "a0c97eb2-40e3-4a74-f3e2-15e4e015e497"
      },
      "execution_count": null,
      "outputs": [
        {
          "output_type": "stream",
          "name": "stdout",
          "text": [
            "26/26 [==============================] - 0s 3ms/step - categorical_accuracy: 0.7475 - student_loss: 0.7482\n"
          ]
        }
      ]
    },
    {
      "cell_type": "code",
      "source": [
        "preds_student_model = student_model.predict(x_test_dt_rshp)"
      ],
      "metadata": {
        "id": "2zKucfD-qVia"
      },
      "execution_count": null,
      "outputs": []
    },
    {
      "cell_type": "code",
      "source": [
        "preds_student_model_fin=np.argmax(preds_student_model,axis=1)"
      ],
      "metadata": {
        "id": "Sf3HHMgYqlwE"
      },
      "execution_count": null,
      "outputs": []
    },
    {
      "cell_type": "code",
      "source": [
        "from sklearn.metrics import confusion_matrix\n",
        "matrix_student = confusion_matrix(y_test_dt, preds_student_model_fin)\n",
        "matrix_student.diagonal()/matrix_student.sum(axis=1)"
      ],
      "metadata": {
        "colab": {
          "base_uri": "https://localhost:8080/"
        },
        "id": "HvzbgPq5dmTN",
        "outputId": "18c07ce2-bee7-4887-e0e7-18bee089e074"
      },
      "execution_count": null,
      "outputs": [
        {
          "output_type": "execute_result",
          "data": {
            "text/plain": [
              "array([0.98604651, 0.09649123, 0.82424242, 1.        , 0.19753086])"
            ]
          },
          "metadata": {},
          "execution_count": 43
        }
      ]
    },
    {
      "cell_type": "code",
      "source": [
        "#y_sub_dt\n",
        "from sklearn.metrics import precision_score, recall_score\n",
        "f1_student = f1_score(y_test_dt, preds_student_model_fin, average=\"macro\")\n",
        "prec_student = precision_score(y_test_dt, preds_student_model_fin, average=\"macro\")\n",
        "recall_student = recall_score(y_test_dt, preds_student_model_fin, average=\"macro\")\n",
        "if VBS:\n",
        "    print(\"Precision: {}\".format(prec_student)) \n",
        "    print(\"Recall: {}\".format(recall_student))\n",
        "    print(\"F1 score: {}\".format(f1_student))\n",
        "\n",
        "    report_student = classification_report(y_test_dt, preds_student_model_fin, digits=6)\n",
        "    print(report_student)"
      ],
      "metadata": {
        "colab": {
          "base_uri": "https://localhost:8080/"
        },
        "id": "SntSP4rfdmdI",
        "outputId": "725ec6da-6b7e-4bfe-97b7-f682cdcf0679"
      },
      "execution_count": null,
      "outputs": [
        {
          "output_type": "stream",
          "name": "stdout",
          "text": [
            "Precision: 0.5915212573778145\n",
            "Recall: 0.6208622056276075\n",
            "F1 score: 0.5331373048552545\n",
            "              precision    recall  f1-score   support\n",
            "\n",
            "           0   0.809160  0.986047  0.888889       430\n",
            "           1   0.354839  0.096491  0.151724       114\n",
            "           2   0.719577  0.824242  0.768362       165\n",
            "           3   0.378378  1.000000  0.549020        14\n",
            "           4   0.695652  0.197531  0.307692        81\n",
            "\n",
            "    accuracy                       0.747512       804\n",
            "   macro avg   0.591521  0.620862  0.533137       804\n",
            "weighted avg   0.707420  0.747512  0.695159       804\n",
            "\n"
          ]
        }
      ]
    },
    {
      "cell_type": "code",
      "source": [
        "from sklearn.metrics import confusion_matrix\n",
        "matrix = confusion_matrix(y_test_dt, preds_student_model_fin)\n",
        "matrix.diagonal()/matrix.sum(axis=1)"
      ],
      "metadata": {
        "colab": {
          "base_uri": "https://localhost:8080/"
        },
        "id": "bpMto-Lv6v9E",
        "outputId": "071ca8b4-a43f-4764-d946-3cdb15442d2b"
      },
      "execution_count": null,
      "outputs": [
        {
          "output_type": "execute_result",
          "data": {
            "text/plain": [
              "array([0.98604651, 0.09649123, 0.82424242, 1.        , 0.19753086])"
            ]
          },
          "metadata": {},
          "execution_count": 45
        }
      ]
    },
    {
      "cell_type": "code",
      "source": [
        "cm = matrix.astype('float') / matrix.sum(axis=1)[:, np.newaxis]"
      ],
      "metadata": {
        "id": "POVa0zd76wK4"
      },
      "execution_count": null,
      "outputs": []
    },
    {
      "cell_type": "code",
      "source": [
        "cm.diagonal()"
      ],
      "metadata": {
        "colab": {
          "base_uri": "https://localhost:8080/"
        },
        "id": "YoUAcXG27MYk",
        "outputId": "88e5b354-54fa-436b-88fe-7c6e8139bb5f"
      },
      "execution_count": null,
      "outputs": [
        {
          "output_type": "execute_result",
          "data": {
            "text/plain": [
              "array([0.98604651, 0.09649123, 0.82424242, 1.        , 0.19753086])"
            ]
          },
          "metadata": {},
          "execution_count": 47
        }
      ]
    },
    {
      "cell_type": "code",
      "source": [
        "#50 epochs teacher model\n",
        "\n",
        "#alpha=0.9, temp=4\n",
        "\n",
        "#50 epochs: 82.41\n",
        "#60 epochs: 84.53\n",
        "#70 epochs: 84.04\n",
        "\n",
        "#alpha=0.9, temp=5\n",
        "\n",
        "#50 epochs: 81.43\n",
        "#60 epochs: 83.88\n",
        "#70 epochs: \n",
        "\n",
        "#alpha=0.9, temp=3\n",
        "\n",
        "#50 epochs: 83.88\n",
        "#60 epochs: 83.06\n"
      ],
      "metadata": {
        "id": "SCuDFU5AH7wg"
      },
      "execution_count": null,
      "outputs": []
    },
    {
      "cell_type": "markdown",
      "source": [
        "KD using the 50 epochs teacher model"
      ],
      "metadata": {
        "id": "rmUSBAohtn5W"
      }
    },
    {
      "cell_type": "code",
      "source": [
        "from keras.layers import Input, Dense, LSTM, MaxPooling1D, Conv1D\n",
        "from keras.models import Model"
      ],
      "metadata": {
        "id": "rboKKP_Jq_Qr"
      },
      "execution_count": null,
      "outputs": []
    },
    {
      "cell_type": "code",
      "source": [
        "teacher_model=model_b(verbose=VBS) #50 epochs teacher model"
      ],
      "metadata": {
        "id": "wxnszceNamNM",
        "colab": {
          "base_uri": "https://localhost:8080/"
        },
        "outputId": "18dfd4b0-83ad-4522-e10c-e389df90d81d"
      },
      "execution_count": null,
      "outputs": [
        {
          "output_type": "stream",
          "name": "stdout",
          "text": [
            "Model: \"model\"\n",
            "__________________________________________________________________________________________________\n",
            " Layer (type)                   Output Shape         Param #     Connected to                     \n",
            "==================================================================================================\n",
            " inLayer (InputLayer)           [(None, 3000, 1)]    0           []                               \n",
            "                                                                                                  \n",
            " fConv1 (Conv1D)                (None, 500, 64)      3264        ['inLayer[0][0]']                \n",
            "                                                                                                  \n",
            " cConv1 (Conv1D)                (None, 60, 32)       12832       ['inLayer[0][0]']                \n",
            "                                                                                                  \n",
            " fMaxP1 (MaxPooling1D)          (None, 62, 64)       0           ['fConv1[0][0]']                 \n",
            "                                                                                                  \n",
            " cMaxP1 (MaxPooling1D)          (None, 15, 32)       0           ['cConv1[0][0]']                 \n",
            "                                                                                                  \n",
            " fDrop1 (Dropout)               (None, 62, 64)       0           ['fMaxP1[0][0]']                 \n",
            "                                                                                                  \n",
            " cDrop1 (Dropout)               (None, 15, 32)       0           ['cMaxP1[0][0]']                 \n",
            "                                                                                                  \n",
            " fConv2 (Conv1D)                (None, 62, 128)      65664       ['fDrop1[0][0]']                 \n",
            "                                                                                                  \n",
            " cConv2 (Conv1D)                (None, 15, 128)      24704       ['cDrop1[0][0]']                 \n",
            "                                                                                                  \n",
            " fConv3 (Conv1D)                (None, 62, 128)      131200      ['fConv2[0][0]']                 \n",
            "                                                                                                  \n",
            " cConv3 (Conv1D)                (None, 15, 128)      98432       ['cConv2[0][0]']                 \n",
            "                                                                                                  \n",
            " fConv4 (Conv1D)                (None, 62, 128)      131200      ['fConv3[0][0]']                 \n",
            "                                                                                                  \n",
            " cConv4 (Conv1D)                (None, 15, 128)      98432       ['cConv3[0][0]']                 \n",
            "                                                                                                  \n",
            " fMaxP2 (MaxPooling1D)          (None, 15, 128)      0           ['fConv4[0][0]']                 \n",
            "                                                                                                  \n",
            " cMaxP2 (MaxPooling1D)          (None, 7, 128)       0           ['cConv4[0][0]']                 \n",
            "                                                                                                  \n",
            " fFlat1 (Flatten)               (None, 1920)         0           ['fMaxP2[0][0]']                 \n",
            "                                                                                                  \n",
            " cFlat1 (Flatten)               (None, 896)          0           ['cMaxP2[0][0]']                 \n",
            "                                                                                                  \n",
            " merge_1 (Concatenate)          (None, 2816)         0           ['fFlat1[0][0]',                 \n",
            "                                                                  'cFlat1[0][0]']                 \n",
            "                                                                                                  \n",
            " mDrop1 (Dropout)               (None, 2816)         0           ['merge_1[0][0]']                \n",
            "                                                                                                  \n",
            " reshape1 (Reshape)             (None, 1, 2816)      0           ['mDrop1[0][0]']                 \n",
            "                                                                                                  \n",
            " lstm (LSTM)                    (None, 1, 64)        737536      ['reshape1[0][0]']               \n",
            "                                                                                                  \n",
            " lstm_1 (LSTM)                  (None, 64)           33024       ['lstm[0][0]']                   \n",
            "                                                                                                  \n",
            " outLayer (Dense)               (None, 5)            325         ['lstm_1[0][0]']                 \n",
            "                                                                                                  \n",
            "==================================================================================================\n",
            "Total params: 1,336,613\n",
            "Trainable params: 1,336,613\n",
            "Non-trainable params: 0\n",
            "__________________________________________________________________________________________________\n"
          ]
        }
      ]
    },
    {
      "cell_type": "code",
      "source": [
        "teacher_checkpt_path=\"/content/gdrive/My Drive/physionet/ensemble/tri_training/50_epochs_keras_way/teacher_50_epochs_keras_way_wts_trial_3.ckpt\"\n",
        "teacher_model.load_weights(teacher_checkpt_path)"
      ],
      "metadata": {
        "colab": {
          "base_uri": "https://localhost:8080/"
        },
        "id": "Ed2C6mXutyxL",
        "outputId": "3c127c80-143e-4c56-c1f3-f1578414b4c3"
      },
      "execution_count": null,
      "outputs": [
        {
          "output_type": "execute_result",
          "data": {
            "text/plain": [
              "<tensorflow.python.training.tracking.util.CheckpointLoadStatus at 0x7f5ab96a10d0>"
            ]
          },
          "metadata": {},
          "execution_count": 24
        }
      ]
    },
    {
      "cell_type": "code",
      "source": [
        "teacher_model.compile(optimizer=optimizer, loss='categorical_crossentropy', metrics=['accuracy'])"
      ],
      "metadata": {
        "id": "2QykIBjot69x"
      },
      "execution_count": null,
      "outputs": []
    },
    {
      "cell_type": "code",
      "source": [
        "accuracy_teacher_model = teacher_model.evaluate(x_test_dt_rshp, y_test_dt_)"
      ],
      "metadata": {
        "colab": {
          "base_uri": "https://localhost:8080/"
        },
        "id": "Sryj_Oyvt7Cm",
        "outputId": "55eaa46c-80e4-40e7-b6c1-f990dbe7e1b1"
      },
      "execution_count": null,
      "outputs": [
        {
          "output_type": "stream",
          "name": "stdout",
          "text": [
            "26/26 [==============================] - 12s 7ms/step - loss: 1.0954 - accuracy: 0.8047\n"
          ]
        }
      ]
    },
    {
      "cell_type": "code",
      "source": [
        "preds_teacher_model = teacher_model.predict(x_test_dt_rshp)"
      ],
      "metadata": {
        "id": "pNB5cWVDrL8X"
      },
      "execution_count": null,
      "outputs": []
    },
    {
      "cell_type": "code",
      "source": [
        "preds_teacher_model_fin=np.argmax(preds_teacher_model,axis=1)"
      ],
      "metadata": {
        "id": "VZvyng9RrMiU"
      },
      "execution_count": null,
      "outputs": []
    },
    {
      "cell_type": "code",
      "source": [
        "from sklearn.metrics import confusion_matrix\n",
        "matrix_teacher = confusion_matrix(y_test_dt, preds_teacher_model_fin)\n",
        "matrix_teacher.diagonal()/matrix_teacher.sum(axis=1)"
      ],
      "metadata": {
        "colab": {
          "base_uri": "https://localhost:8080/"
        },
        "id": "HXnG3NTJrMtD",
        "outputId": "143dc7ba-a825-4fee-8e1a-698b28d98e66"
      },
      "execution_count": null,
      "outputs": [
        {
          "output_type": "execute_result",
          "data": {
            "text/plain": [
              "array([0.9744186 , 0.33333333, 0.91515152, 0.71428571, 0.35802469])"
            ]
          },
          "metadata": {},
          "execution_count": 34
        }
      ]
    },
    {
      "cell_type": "code",
      "source": [
        "#y_sub_dt\n",
        "from sklearn.metrics import precision_score, recall_score\n",
        "f1_teacher = f1_score(y_test_dt, preds_teacher_model_fin, average=\"macro\")\n",
        "prec_teacher = precision_score(y_test_dt, preds_teacher_model_fin, average=\"macro\")\n",
        "recall_teacher = recall_score(y_test_dt, preds_teacher_model_fin, average=\"macro\")\n",
        "if VBS:\n",
        "    print(\"Precision: {}\".format(prec_teacher)) \n",
        "    print(\"Recall: {}\".format(recall_teacher))\n",
        "    print(\"F1 score: {}\".format(f1_teacher))\n",
        "\n",
        "    report_teacher = classification_report(y_test_dt, preds_teacher_model_fin, digits=6)\n",
        "    print(report_teacher)"
      ],
      "metadata": {
        "colab": {
          "base_uri": "https://localhost:8080/"
        },
        "id": "sxUbmrRhrYZa",
        "outputId": "8ce2ad9a-4233-4e50-9d2e-af4fa223c3a4"
      },
      "execution_count": null,
      "outputs": [
        {
          "output_type": "stream",
          "name": "stdout",
          "text": [
            "Precision: 0.735875558149895\n",
            "Recall: 0.65904277175595\n",
            "F1 score: 0.6754950635783562\n",
            "              precision    recall  f1-score   support\n",
            "\n",
            "           0   0.869295  0.974419  0.918860       430\n",
            "           1   0.408602  0.333333  0.367150       114\n",
            "           2   0.834254  0.915152  0.872832       165\n",
            "           3   0.714286  0.714286  0.714286        14\n",
            "           4   0.852941  0.358025  0.504348        81\n",
            "\n",
            "    accuracy                       0.804726       804\n",
            "   macro avg   0.735876  0.659043  0.675495       804\n",
            "weighted avg   0.792435  0.804726  0.785863       804\n",
            "\n"
          ]
        }
      ]
    },
    {
      "cell_type": "code",
      "source": [
        "#student model\n",
        "def get_model_1d_cnn():\n",
        "    nclass = 5\n",
        "    inp = Input(shape=(3000, 1))\n",
        "    img_1 = Conv1D(4, kernel_size=6, activation=activations.relu, strides=1, padding=\"valid\")(inp)\n",
        "    #img_1 = Conv1D(128, kernel_size=5, activation=activations.relu, strides=1, padding=\"valid\")(img_1)\n",
        "    img_1 = MaxPooling1D(pool_size=2)(img_1)\n",
        "    #img_1 = SpatialDropout1D(rate=0.2)(img_1)\n",
        "    img_1 = Conv1D(4, kernel_size=5, activation=activations.relu, strides=1, padding=\"valid\")(img_1)\n",
        "    #img_1 = Conv1D(256, kernel_size=7, activation=activations.relu, strides=1, padding=\"valid\")(img_1)\n",
        "    img_1 = MaxPooling1D(pool_size=2)(img_1)\n",
        "    #img_1 = SpatialDropout1D(rate=0.01)(img_1)\n",
        "    img_1 = Conv1D(10, kernel_size=4, activation=activations.relu, strides=1, padding=\"valid\")(img_1)\n",
        "    #img_1 = Conv1D(64, kernel_size=4, activation=activations.relu, strides=1, padding=\"valid\")(img_1)\n",
        "    img_1 = MaxPooling1D(pool_size=2)(img_1)\n",
        "    #img_1 = SpatialDropout1D(rate=0.01)(img_1)\n",
        "    img_1 = Conv1D(10, kernel_size=4, activation=activations.relu, strides=1, padding=\"valid\")(img_1)\n",
        "    img_1 = MaxPooling1D(pool_size=2)(img_1)\n",
        "    #img_1 = Conv1D(64, kernel_size=6, activation=activations.relu, strides=1, padding=\"valid\")(img_1)\n",
        "    #img_1 = MaxPooling1D(pool_size=2)(img_1)\n",
        "    img_1 = Flatten()(img_1)\n",
        "\n",
        "    \n",
        "    dense_1 = Dropout(rate=0.5)(img_1)\n",
        "    #dense_1 = Dropout(rate=0.05)(Dense(64, activation=activations.relu, name=\"dense_2\")(dense_1))\n",
        "    dense_1 = Dense(nclass, activation=activations.softmax)(dense_1)\n",
        "\n",
        "    model = Model(inputs=inp, outputs=dense_1)\n",
        "    opt = Adam(0.001)\n",
        "\n",
        "    model.compile(optimizer=opt, loss='categorical_crossentropy', metrics=['acc'])\n",
        "    model.summary()\n",
        "    return model"
      ],
      "metadata": {
        "id": "pcpwwoWzuNrH"
      },
      "execution_count": null,
      "outputs": []
    },
    {
      "cell_type": "code",
      "source": [
        "#student_model=get_model_cnn()\n",
        "student_model=get_model_1d_cnn()"
      ],
      "metadata": {
        "colab": {
          "base_uri": "https://localhost:8080/"
        },
        "id": "v3YxoKmguTdw",
        "outputId": "f477bd12-f8c0-4995-a8f9-bfafb106dd62"
      },
      "execution_count": null,
      "outputs": [
        {
          "output_type": "stream",
          "name": "stdout",
          "text": [
            "Model: \"model_1\"\n",
            "_________________________________________________________________\n",
            " Layer (type)                Output Shape              Param #   \n",
            "=================================================================\n",
            " input_1 (InputLayer)        [(None, 3000, 1)]         0         \n",
            "                                                                 \n",
            " conv1d (Conv1D)             (None, 2995, 4)           28        \n",
            "                                                                 \n",
            " max_pooling1d (MaxPooling1D  (None, 1497, 4)          0         \n",
            " )                                                               \n",
            "                                                                 \n",
            " conv1d_1 (Conv1D)           (None, 1493, 4)           84        \n",
            "                                                                 \n",
            " max_pooling1d_1 (MaxPooling  (None, 746, 4)           0         \n",
            " 1D)                                                             \n",
            "                                                                 \n",
            " conv1d_2 (Conv1D)           (None, 743, 10)           170       \n",
            "                                                                 \n",
            " max_pooling1d_2 (MaxPooling  (None, 371, 10)          0         \n",
            " 1D)                                                             \n",
            "                                                                 \n",
            " conv1d_3 (Conv1D)           (None, 368, 10)           410       \n",
            "                                                                 \n",
            " max_pooling1d_3 (MaxPooling  (None, 184, 10)          0         \n",
            " 1D)                                                             \n",
            "                                                                 \n",
            " flatten (Flatten)           (None, 1840)              0         \n",
            "                                                                 \n",
            " dropout (Dropout)           (None, 1840)              0         \n",
            "                                                                 \n",
            " dense (Dense)               (None, 5)                 9205      \n",
            "                                                                 \n",
            "=================================================================\n",
            "Total params: 9,897\n",
            "Trainable params: 9,897\n",
            "Non-trainable params: 0\n",
            "_________________________________________________________________\n"
          ]
        }
      ]
    },
    {
      "cell_type": "code",
      "source": [
        "class Distiller(keras.Model):\n",
        "    def __init__(self, student, teacher):\n",
        "        super(Distiller, self).__init__()\n",
        "        self.teacher = teacher\n",
        "        self.student = student\n",
        "\n",
        "    def compile(\n",
        "        self,\n",
        "        optimizer,\n",
        "        metrics,\n",
        "        student_loss_fn,\n",
        "        distillation_loss_fn,\n",
        "        alpha=0.1,\n",
        "        temperature=3,\n",
        "    ):\n",
        "        \"\"\" Configure the distiller.\n",
        "\n",
        "        Args:\n",
        "            optimizer: Keras optimizer for the student weights\n",
        "            metrics: Keras metrics for evaluation\n",
        "            student_loss_fn: Loss function of difference between student\n",
        "                predictions and ground-truth\n",
        "            distillation_loss_fn: Loss function of difference between soft\n",
        "                student predictions and soft teacher predictions\n",
        "            alpha: weight to student_loss_fn and 1-alpha to distillation_loss_fn\n",
        "            temperature: Temperature for softening probability distributions.\n",
        "                Larger temperature gives softer distributions.\n",
        "        \"\"\"\n",
        "        super(Distiller, self).compile(optimizer=optimizer, metrics=metrics)\n",
        "        self.student_loss_fn = student_loss_fn\n",
        "        self.distillation_loss_fn = distillation_loss_fn\n",
        "        self.alpha = alpha\n",
        "        self.temperature = temperature\n",
        "\n",
        "    def train_step(self, data):\n",
        "        # Unpack data\n",
        "        x, y = data\n",
        "\n",
        "        # Forward pass of teacher\n",
        "        teacher_predictions = self.teacher(x, training=False)\n",
        "\n",
        "        with tf.GradientTape() as tape:\n",
        "            # Forward pass of student\n",
        "            student_predictions = self.student(x, training=True)\n",
        "\n",
        "            # Compute losses\n",
        "            student_loss = self.student_loss_fn(y, student_predictions)\n",
        "            distillation_loss = self.distillation_loss_fn(\n",
        "                tf.nn.softmax(teacher_predictions / self.temperature, axis=1),\n",
        "                tf.nn.softmax(student_predictions / self.temperature, axis=1),\n",
        "            )\n",
        "            loss = self.alpha * student_loss + (1 - self.alpha) * distillation_loss\n",
        "\n",
        "        # Compute gradients\n",
        "        trainable_vars = self.student.trainable_variables\n",
        "        gradients = tape.gradient(loss, trainable_vars)\n",
        "\n",
        "        # Update weights\n",
        "        self.optimizer.apply_gradients(zip(gradients, trainable_vars))\n",
        "\n",
        "        # Update the metrics configured in `compile()`.\n",
        "        self.compiled_metrics.update_state(y, student_predictions)\n",
        "\n",
        "        # Return a dict of performance\n",
        "        results = {m.name: m.result() for m in self.metrics}\n",
        "        results.update(\n",
        "            {\"student_loss\": student_loss, \"distillation_loss\": distillation_loss}\n",
        "        )\n",
        "        return results\n",
        "\n",
        "    def test_step(self, data):\n",
        "        # Unpack the data\n",
        "        x, y = data\n",
        "\n",
        "        # Compute predictions\n",
        "        y_prediction = self.student(x, training=False)\n",
        "\n",
        "        # Calculate the loss\n",
        "        student_loss = self.student_loss_fn(y, y_prediction)\n",
        "\n",
        "        # Update the metrics.\n",
        "        self.compiled_metrics.update_state(y, y_prediction)\n",
        "\n",
        "        # Return a dict of performance\n",
        "        results = {m.name: m.result() for m in self.metrics}\n",
        "        results.update({\"student_loss\": student_loss})\n",
        "        return results\n"
      ],
      "metadata": {
        "id": "dXZ0ZAgwuThZ"
      },
      "execution_count": null,
      "outputs": []
    },
    {
      "cell_type": "code",
      "source": [
        "import tensorflow as tf\n",
        "from tensorflow import keras\n",
        "from tensorflow.keras import layers\n",
        "import numpy as np\n"
      ],
      "metadata": {
        "id": "GL1SBvbzucD2"
      },
      "execution_count": null,
      "outputs": []
    },
    {
      "cell_type": "code",
      "source": [
        "# Initialize and compile distiller\n",
        "distiller = Distiller(student=student_model, teacher=teacher_model)\n",
        "distiller.compile(\n",
        "    optimizer=keras.optimizers.Adam(),\n",
        "    metrics=[keras.metrics.CategoricalAccuracy()],\n",
        "    student_loss_fn=keras.losses.CategoricalCrossentropy(from_logits=True),\n",
        "    distillation_loss_fn=keras.losses.KLDivergence(),\n",
        "    alpha=0.9,\n",
        "    temperature=5,\n",
        ")\n",
        "\n",
        "# Distill teacher to student\n",
        "distiller.fit(x_dt_rshp, y_dt_, epochs=60)\n",
        "\n",
        "# Evaluate student on test dataset\n",
        "#distiller.evaluate(x_test, y_test)"
      ],
      "metadata": {
        "colab": {
          "base_uri": "https://localhost:8080/"
        },
        "id": "Y49ue7-buj2e",
        "outputId": "94374f16-e1a7-4c7f-f5f7-9530f814a7e4"
      },
      "execution_count": null,
      "outputs": [
        {
          "output_type": "stream",
          "name": "stdout",
          "text": [
            "Epoch 1/60\n",
            "3748/3748 [==============================] - 34s 8ms/step - categorical_accuracy: 0.6796 - student_loss: 0.7800 - distillation_loss: 0.0017\n",
            "Epoch 2/60\n",
            "3748/3748 [==============================] - 30s 8ms/step - categorical_accuracy: 0.7613 - student_loss: 0.5683 - distillation_loss: 0.0012\n",
            "Epoch 3/60\n",
            "3748/3748 [==============================] - 30s 8ms/step - categorical_accuracy: 0.7760 - student_loss: 0.5345 - distillation_loss: 0.0012\n",
            "Epoch 4/60\n",
            "3748/3748 [==============================] - 31s 8ms/step - categorical_accuracy: 0.7879 - student_loss: 0.5127 - distillation_loss: 0.0011\n",
            "Epoch 5/60\n",
            "3748/3748 [==============================] - 31s 8ms/step - categorical_accuracy: 0.7955 - student_loss: 0.4964 - distillation_loss: 0.0011\n",
            "Epoch 6/60\n",
            "3748/3748 [==============================] - 30s 8ms/step - categorical_accuracy: 0.8031 - student_loss: 0.4820 - distillation_loss: 0.0010\n",
            "Epoch 7/60\n",
            "3748/3748 [==============================] - 30s 8ms/step - categorical_accuracy: 0.8067 - student_loss: 0.4708 - distillation_loss: 0.0010\n",
            "Epoch 8/60\n",
            "3748/3748 [==============================] - 30s 8ms/step - categorical_accuracy: 0.8125 - student_loss: 0.4576 - distillation_loss: 9.7737e-04\n",
            "Epoch 9/60\n",
            "3748/3748 [==============================] - 30s 8ms/step - categorical_accuracy: 0.8173 - student_loss: 0.4495 - distillation_loss: 9.5417e-04\n",
            "Epoch 10/60\n",
            "3748/3748 [==============================] - 30s 8ms/step - categorical_accuracy: 0.8231 - student_loss: 0.4375 - distillation_loss: 9.2205e-04\n",
            "Epoch 11/60\n",
            "3748/3748 [==============================] - 30s 8ms/step - categorical_accuracy: 0.8282 - student_loss: 0.4251 - distillation_loss: 8.9216e-04\n",
            "Epoch 12/60\n",
            "3748/3748 [==============================] - 30s 8ms/step - categorical_accuracy: 0.8333 - student_loss: 0.4156 - distillation_loss: 8.6483e-04\n",
            "Epoch 13/60\n",
            "3748/3748 [==============================] - 30s 8ms/step - categorical_accuracy: 0.8383 - student_loss: 0.4051 - distillation_loss: 8.4165e-04\n",
            "Epoch 14/60\n",
            "3748/3748 [==============================] - 30s 8ms/step - categorical_accuracy: 0.8410 - student_loss: 0.4016 - distillation_loss: 8.2988e-04\n",
            "Epoch 15/60\n",
            "3748/3748 [==============================] - 30s 8ms/step - categorical_accuracy: 0.8437 - student_loss: 0.3943 - distillation_loss: 8.1387e-04\n",
            "Epoch 16/60\n",
            "3748/3748 [==============================] - 30s 8ms/step - categorical_accuracy: 0.8459 - student_loss: 0.3910 - distillation_loss: 8.0349e-04\n",
            "Epoch 17/60\n",
            "3748/3748 [==============================] - 30s 8ms/step - categorical_accuracy: 0.8479 - student_loss: 0.3843 - distillation_loss: 7.8904e-04\n",
            "Epoch 18/60\n",
            "3748/3748 [==============================] - 30s 8ms/step - categorical_accuracy: 0.8491 - student_loss: 0.3813 - distillation_loss: 7.8514e-04\n",
            "Epoch 19/60\n",
            "3748/3748 [==============================] - 30s 8ms/step - categorical_accuracy: 0.8507 - student_loss: 0.3779 - distillation_loss: 7.7744e-04\n",
            "Epoch 20/60\n",
            "3748/3748 [==============================] - 30s 8ms/step - categorical_accuracy: 0.8506 - student_loss: 0.3749 - distillation_loss: 7.7273e-04\n",
            "Epoch 21/60\n",
            "3748/3748 [==============================] - 30s 8ms/step - categorical_accuracy: 0.8525 - student_loss: 0.3710 - distillation_loss: 7.6627e-04\n",
            "Epoch 22/60\n",
            "3748/3748 [==============================] - 31s 8ms/step - categorical_accuracy: 0.8552 - student_loss: 0.3677 - distillation_loss: 7.5534e-04\n",
            "Epoch 23/60\n",
            "3748/3748 [==============================] - 30s 8ms/step - categorical_accuracy: 0.8562 - student_loss: 0.3652 - distillation_loss: 7.4987e-04\n",
            "Epoch 24/60\n",
            "3748/3748 [==============================] - 30s 8ms/step - categorical_accuracy: 0.8562 - student_loss: 0.3634 - distillation_loss: 7.4718e-04\n",
            "Epoch 25/60\n",
            "3748/3748 [==============================] - 30s 8ms/step - categorical_accuracy: 0.8589 - student_loss: 0.3599 - distillation_loss: 7.3918e-04\n",
            "Epoch 26/60\n",
            "3748/3748 [==============================] - 30s 8ms/step - categorical_accuracy: 0.8578 - student_loss: 0.3582 - distillation_loss: 7.3925e-04\n",
            "Epoch 27/60\n",
            "3748/3748 [==============================] - 29s 8ms/step - categorical_accuracy: 0.8586 - student_loss: 0.3593 - distillation_loss: 7.3911e-04\n",
            "Epoch 28/60\n",
            "3748/3748 [==============================] - 30s 8ms/step - categorical_accuracy: 0.8612 - student_loss: 0.3539 - distillation_loss: 7.2656e-04\n",
            "Epoch 29/60\n",
            "3748/3748 [==============================] - 30s 8ms/step - categorical_accuracy: 0.8602 - student_loss: 0.3531 - distillation_loss: 7.2913e-04\n",
            "Epoch 30/60\n",
            "3748/3748 [==============================] - 30s 8ms/step - categorical_accuracy: 0.8625 - student_loss: 0.3494 - distillation_loss: 7.1804e-04\n",
            "Epoch 31/60\n",
            "3748/3748 [==============================] - 30s 8ms/step - categorical_accuracy: 0.8616 - student_loss: 0.3516 - distillation_loss: 7.2164e-04\n",
            "Epoch 32/60\n",
            "3748/3748 [==============================] - 30s 8ms/step - categorical_accuracy: 0.8622 - student_loss: 0.3497 - distillation_loss: 7.2025e-04\n",
            "Epoch 33/60\n",
            "3748/3748 [==============================] - 30s 8ms/step - categorical_accuracy: 0.8630 - student_loss: 0.3480 - distillation_loss: 7.1727e-04\n",
            "Epoch 34/60\n",
            "3748/3748 [==============================] - 30s 8ms/step - categorical_accuracy: 0.8633 - student_loss: 0.3467 - distillation_loss: 7.1234e-04\n",
            "Epoch 35/60\n",
            "3748/3748 [==============================] - 30s 8ms/step - categorical_accuracy: 0.8645 - student_loss: 0.3441 - distillation_loss: 7.0771e-04\n",
            "Epoch 36/60\n",
            "3748/3748 [==============================] - 30s 8ms/step - categorical_accuracy: 0.8657 - student_loss: 0.3425 - distillation_loss: 7.0533e-04\n",
            "Epoch 37/60\n",
            "3748/3748 [==============================] - 30s 8ms/step - categorical_accuracy: 0.8643 - student_loss: 0.3432 - distillation_loss: 7.0690e-04\n",
            "Epoch 38/60\n",
            "3748/3748 [==============================] - 30s 8ms/step - categorical_accuracy: 0.8656 - student_loss: 0.3427 - distillation_loss: 7.0512e-04\n",
            "Epoch 39/60\n",
            "3748/3748 [==============================] - 30s 8ms/step - categorical_accuracy: 0.8643 - student_loss: 0.3444 - distillation_loss: 7.0890e-04\n",
            "Epoch 40/60\n",
            "3748/3748 [==============================] - 30s 8ms/step - categorical_accuracy: 0.8656 - student_loss: 0.3406 - distillation_loss: 7.0344e-04\n",
            "Epoch 41/60\n",
            "3748/3748 [==============================] - 30s 8ms/step - categorical_accuracy: 0.8656 - student_loss: 0.3405 - distillation_loss: 7.0223e-04\n",
            "Epoch 42/60\n",
            "3748/3748 [==============================] - 30s 8ms/step - categorical_accuracy: 0.8655 - student_loss: 0.3418 - distillation_loss: 7.0334e-04\n",
            "Epoch 43/60\n",
            "3748/3748 [==============================] - 30s 8ms/step - categorical_accuracy: 0.8654 - student_loss: 0.3394 - distillation_loss: 7.0050e-04\n",
            "Epoch 44/60\n",
            "3748/3748 [==============================] - 30s 8ms/step - categorical_accuracy: 0.8661 - student_loss: 0.3385 - distillation_loss: 6.9636e-04\n",
            "Epoch 45/60\n",
            "3748/3748 [==============================] - 30s 8ms/step - categorical_accuracy: 0.8660 - student_loss: 0.3399 - distillation_loss: 7.0002e-04\n",
            "Epoch 46/60\n",
            "3748/3748 [==============================] - 30s 8ms/step - categorical_accuracy: 0.8670 - student_loss: 0.3368 - distillation_loss: 6.9404e-04\n",
            "Epoch 47/60\n",
            "3748/3748 [==============================] - 30s 8ms/step - categorical_accuracy: 0.8675 - student_loss: 0.3368 - distillation_loss: 6.9333e-04\n",
            "Epoch 48/60\n",
            "3748/3748 [==============================] - 30s 8ms/step - categorical_accuracy: 0.8674 - student_loss: 0.3375 - distillation_loss: 6.9739e-04\n",
            "Epoch 49/60\n",
            "3748/3748 [==============================] - 30s 8ms/step - categorical_accuracy: 0.8674 - student_loss: 0.3364 - distillation_loss: 6.9448e-04\n",
            "Epoch 50/60\n",
            "3748/3748 [==============================] - 30s 8ms/step - categorical_accuracy: 0.8664 - student_loss: 0.3381 - distillation_loss: 6.9787e-04\n",
            "Epoch 51/60\n",
            "3748/3748 [==============================] - 30s 8ms/step - categorical_accuracy: 0.8691 - student_loss: 0.3335 - distillation_loss: 6.8632e-04\n",
            "Epoch 52/60\n",
            "3748/3748 [==============================] - 30s 8ms/step - categorical_accuracy: 0.8677 - student_loss: 0.3352 - distillation_loss: 6.9068e-04\n",
            "Epoch 53/60\n",
            "3748/3748 [==============================] - 30s 8ms/step - categorical_accuracy: 0.8690 - student_loss: 0.3333 - distillation_loss: 6.8758e-04\n",
            "Epoch 54/60\n",
            "3748/3748 [==============================] - 30s 8ms/step - categorical_accuracy: 0.8682 - student_loss: 0.3360 - distillation_loss: 6.9028e-04\n",
            "Epoch 55/60\n",
            "3748/3748 [==============================] - 30s 8ms/step - categorical_accuracy: 0.8686 - student_loss: 0.3336 - distillation_loss: 6.8658e-04\n",
            "Epoch 56/60\n",
            "3748/3748 [==============================] - 30s 8ms/step - categorical_accuracy: 0.8699 - student_loss: 0.3329 - distillation_loss: 6.8829e-04\n",
            "Epoch 57/60\n",
            "3748/3748 [==============================] - 31s 8ms/step - categorical_accuracy: 0.8691 - student_loss: 0.3322 - distillation_loss: 6.8461e-04\n",
            "Epoch 58/60\n",
            "3748/3748 [==============================] - 30s 8ms/step - categorical_accuracy: 0.8696 - student_loss: 0.3313 - distillation_loss: 6.8567e-04\n",
            "Epoch 59/60\n",
            "3748/3748 [==============================] - 30s 8ms/step - categorical_accuracy: 0.8691 - student_loss: 0.3298 - distillation_loss: 6.8178e-04\n",
            "Epoch 60/60\n",
            "3748/3748 [==============================] - 30s 8ms/step - categorical_accuracy: 0.8704 - student_loss: 0.3316 - distillation_loss: 6.8282e-04\n"
          ]
        },
        {
          "output_type": "execute_result",
          "data": {
            "text/plain": [
              "<keras.callbacks.History at 0x7f5ab82a8ad0>"
            ]
          },
          "metadata": {},
          "execution_count": 40
        }
      ]
    },
    {
      "cell_type": "code",
      "source": [
        "accuracy_distiller = distiller.evaluate(x_test_dt_rshp, y_test_dt_)"
      ],
      "metadata": {
        "colab": {
          "base_uri": "https://localhost:8080/"
        },
        "id": "H_s3ir2F3M1R",
        "outputId": "c13b2bd5-4fb2-4c0c-82ac-130e4b8a86d5"
      },
      "execution_count": null,
      "outputs": [
        {
          "output_type": "stream",
          "name": "stdout",
          "text": [
            "26/26 [==============================] - 0s 3ms/step - categorical_accuracy: 0.7624 - student_loss: 0.6406\n"
          ]
        }
      ]
    },
    {
      "cell_type": "code",
      "source": [
        "preds_student_model = student_model.predict(x_test_dt_rshp)"
      ],
      "metadata": {
        "id": "wk4kSECeEU71"
      },
      "execution_count": null,
      "outputs": []
    },
    {
      "cell_type": "code",
      "source": [
        "preds_student_model_fin=np.argmax(preds_student_model,axis=1)"
      ],
      "metadata": {
        "id": "j5g2quLAEeXP"
      },
      "execution_count": null,
      "outputs": []
    },
    {
      "cell_type": "code",
      "source": [
        "from sklearn.metrics import confusion_matrix\n",
        "matrix_student = confusion_matrix(y_test_dt, preds_student_model_fin)\n",
        "matrix_student.diagonal()/matrix_student.sum(axis=1)"
      ],
      "metadata": {
        "colab": {
          "base_uri": "https://localhost:8080/"
        },
        "id": "X3qy5cuBEedQ",
        "outputId": "152b2f1a-42c5-42fb-b754-d585d50f5fea"
      },
      "execution_count": null,
      "outputs": [
        {
          "output_type": "execute_result",
          "data": {
            "text/plain": [
              "array([0.96744186, 0.21052632, 0.84848485, 0.92857143, 0.24691358])"
            ]
          },
          "metadata": {},
          "execution_count": 44
        }
      ]
    },
    {
      "cell_type": "code",
      "source": [
        "#y_sub_dt\n",
        "from sklearn.metrics import precision_score, recall_score\n",
        "f1_student = f1_score(y_test_dt, preds_student_model_fin, average=\"macro\")\n",
        "prec_student = precision_score(y_test_dt, preds_student_model_fin, average=\"macro\")\n",
        "recall_student = recall_score(y_test_dt, preds_student_model_fin, average=\"macro\")\n",
        "if VBS:\n",
        "    print(\"Precision: {}\".format(prec_student)) \n",
        "    print(\"Recall: {}\".format(recall_student))\n",
        "    print(\"F1 score: {}\".format(f1_student))\n",
        "\n",
        "    report_student = classification_report(y_test_dt, preds_student_model_fin, digits=6)\n",
        "    print(report_student)"
      ],
      "metadata": {
        "colab": {
          "base_uri": "https://localhost:8080/"
        },
        "id": "hSEfjvqFEeiX",
        "outputId": "c464f6fa-69bc-4126-a745-dd08b7ee74dc"
      },
      "execution_count": null,
      "outputs": [
        {
          "output_type": "stream",
          "name": "stdout",
          "text": [
            "Precision: 0.6187811124135897\n",
            "Recall: 0.6403876067115561\n",
            "F1 score: 0.5829833091351129\n",
            "              precision    recall  f1-score   support\n",
            "\n",
            "           0   0.845528  0.967442  0.902386       430\n",
            "           1   0.400000  0.210526  0.275862       114\n",
            "           2   0.725389  0.848485  0.782123       165\n",
            "           3   0.433333  0.928571  0.590909        14\n",
            "           4   0.689655  0.246914  0.363636        81\n",
            "\n",
            "    accuracy                       0.762438       804\n",
            "   macro avg   0.618781  0.640388  0.582983       804\n",
            "weighted avg   0.734820  0.762438  0.729169       804\n",
            "\n"
          ]
        }
      ]
    },
    {
      "cell_type": "code",
      "source": [
        ""
      ],
      "metadata": {
        "id": "TwJ0auoKEuai"
      },
      "execution_count": null,
      "outputs": []
    },
    {
      "cell_type": "code",
      "source": [
        "#60 epochs teacher"
      ],
      "metadata": {
        "id": "Un7zRdryEtHG"
      },
      "execution_count": null,
      "outputs": []
    },
    {
      "cell_type": "code",
      "source": [
        "teacher_model=model_b(verbose=VBS) #60 epochs teacher model"
      ],
      "metadata": {
        "colab": {
          "base_uri": "https://localhost:8080/"
        },
        "id": "p4S3PcmIFkXF",
        "outputId": "d86081fe-d750-4305-8f50-ed6a04e9c429"
      },
      "execution_count": null,
      "outputs": [
        {
          "output_type": "stream",
          "name": "stdout",
          "text": [
            "Model: \"model\"\n",
            "__________________________________________________________________________________________________\n",
            " Layer (type)                   Output Shape         Param #     Connected to                     \n",
            "==================================================================================================\n",
            " inLayer (InputLayer)           [(None, 3000, 1)]    0           []                               \n",
            "                                                                                                  \n",
            " fConv1 (Conv1D)                (None, 500, 64)      3264        ['inLayer[0][0]']                \n",
            "                                                                                                  \n",
            " cConv1 (Conv1D)                (None, 60, 32)       12832       ['inLayer[0][0]']                \n",
            "                                                                                                  \n",
            " fMaxP1 (MaxPooling1D)          (None, 62, 64)       0           ['fConv1[0][0]']                 \n",
            "                                                                                                  \n",
            " cMaxP1 (MaxPooling1D)          (None, 15, 32)       0           ['cConv1[0][0]']                 \n",
            "                                                                                                  \n",
            " fDrop1 (Dropout)               (None, 62, 64)       0           ['fMaxP1[0][0]']                 \n",
            "                                                                                                  \n",
            " cDrop1 (Dropout)               (None, 15, 32)       0           ['cMaxP1[0][0]']                 \n",
            "                                                                                                  \n",
            " fConv2 (Conv1D)                (None, 62, 128)      65664       ['fDrop1[0][0]']                 \n",
            "                                                                                                  \n",
            " cConv2 (Conv1D)                (None, 15, 128)      24704       ['cDrop1[0][0]']                 \n",
            "                                                                                                  \n",
            " fConv3 (Conv1D)                (None, 62, 128)      131200      ['fConv2[0][0]']                 \n",
            "                                                                                                  \n",
            " cConv3 (Conv1D)                (None, 15, 128)      98432       ['cConv2[0][0]']                 \n",
            "                                                                                                  \n",
            " fConv4 (Conv1D)                (None, 62, 128)      131200      ['fConv3[0][0]']                 \n",
            "                                                                                                  \n",
            " cConv4 (Conv1D)                (None, 15, 128)      98432       ['cConv3[0][0]']                 \n",
            "                                                                                                  \n",
            " fMaxP2 (MaxPooling1D)          (None, 15, 128)      0           ['fConv4[0][0]']                 \n",
            "                                                                                                  \n",
            " cMaxP2 (MaxPooling1D)          (None, 7, 128)       0           ['cConv4[0][0]']                 \n",
            "                                                                                                  \n",
            " fFlat1 (Flatten)               (None, 1920)         0           ['fMaxP2[0][0]']                 \n",
            "                                                                                                  \n",
            " cFlat1 (Flatten)               (None, 896)          0           ['cMaxP2[0][0]']                 \n",
            "                                                                                                  \n",
            " merge_1 (Concatenate)          (None, 2816)         0           ['fFlat1[0][0]',                 \n",
            "                                                                  'cFlat1[0][0]']                 \n",
            "                                                                                                  \n",
            " mDrop1 (Dropout)               (None, 2816)         0           ['merge_1[0][0]']                \n",
            "                                                                                                  \n",
            " reshape1 (Reshape)             (None, 1, 2816)      0           ['mDrop1[0][0]']                 \n",
            "                                                                                                  \n",
            " lstm (LSTM)                    (None, 1, 64)        737536      ['reshape1[0][0]']               \n",
            "                                                                                                  \n",
            " lstm_1 (LSTM)                  (None, 64)           33024       ['lstm[0][0]']                   \n",
            "                                                                                                  \n",
            " outLayer (Dense)               (None, 5)            325         ['lstm_1[0][0]']                 \n",
            "                                                                                                  \n",
            "==================================================================================================\n",
            "Total params: 1,336,613\n",
            "Trainable params: 1,336,613\n",
            "Non-trainable params: 0\n",
            "__________________________________________________________________________________________________\n"
          ]
        }
      ]
    },
    {
      "cell_type": "code",
      "source": [
        "teacher_checkpt_path=\"/content/gdrive/My Drive/physionet/ensemble/tri_training/60_epochs_keras_way/teacher_60_epochs_keras_way_wts_trial_3.ckpt\"\n",
        "teacher_model.load_weights(teacher_checkpt_path)"
      ],
      "metadata": {
        "colab": {
          "base_uri": "https://localhost:8080/"
        },
        "id": "pDCEtB7lFkZo",
        "outputId": "7aeb9e89-44a7-40fb-cd2e-848864973da2"
      },
      "execution_count": null,
      "outputs": [
        {
          "output_type": "execute_result",
          "data": {
            "text/plain": [
              "<tensorflow.python.training.tracking.util.CheckpointLoadStatus at 0x7f77edcb4190>"
            ]
          },
          "metadata": {},
          "execution_count": 28
        }
      ]
    },
    {
      "cell_type": "code",
      "source": [
        "teacher_model.compile(optimizer=optimizer, loss='categorical_crossentropy', metrics=['accuracy'])"
      ],
      "metadata": {
        "id": "3Ze65PToFkcQ"
      },
      "execution_count": null,
      "outputs": []
    },
    {
      "cell_type": "code",
      "source": [
        "accuracy_teacher_model = teacher_model.evaluate(x_test_dt_rshp, y_test_dt_)"
      ],
      "metadata": {
        "colab": {
          "base_uri": "https://localhost:8080/"
        },
        "id": "ZgeFwysTFkeg",
        "outputId": "30f6375a-890a-47f6-c248-b6a372a798bc"
      },
      "execution_count": null,
      "outputs": [
        {
          "output_type": "stream",
          "name": "stdout",
          "text": [
            "26/26 [==============================] - 12s 7ms/step - loss: 1.0834 - accuracy: 0.7960\n"
          ]
        }
      ]
    },
    {
      "cell_type": "code",
      "source": [
        "preds_teacher_model = teacher_model.predict(x_test_dt_rshp)"
      ],
      "metadata": {
        "id": "s4W5ypltTa6p"
      },
      "execution_count": null,
      "outputs": []
    },
    {
      "cell_type": "code",
      "source": [
        "preds_teacher_model_fin=np.argmax(preds_teacher_model,axis=1)"
      ],
      "metadata": {
        "id": "uuHB_orpTf2e"
      },
      "execution_count": null,
      "outputs": []
    },
    {
      "cell_type": "code",
      "source": [
        "from sklearn.metrics import confusion_matrix\n",
        "matrix_teacher = confusion_matrix(y_test_dt, preds_teacher_model_fin)\n",
        "matrix_teacher.diagonal()/matrix_teacher.sum(axis=1)"
      ],
      "metadata": {
        "colab": {
          "base_uri": "https://localhost:8080/"
        },
        "id": "pvtceW5TWd21",
        "outputId": "8361fc66-b2ec-48b3-99f3-49ceeb6b2dfd"
      },
      "execution_count": null,
      "outputs": [
        {
          "output_type": "execute_result",
          "data": {
            "text/plain": [
              "array([0.9372093 , 0.36842105, 0.87878788, 0.71428571, 0.49382716])"
            ]
          },
          "metadata": {},
          "execution_count": 33
        }
      ]
    },
    {
      "cell_type": "code",
      "source": [
        "#y_sub_dt\n",
        "from sklearn.metrics import precision_score, recall_score\n",
        "f1_teacher = f1_score(y_test_dt, preds_teacher_model_fin, average=\"macro\")\n",
        "prec_teacher = precision_score(y_test_dt, preds_teacher_model_fin, average=\"macro\")\n",
        "recall_teacher = recall_score(y_test_dt, preds_teacher_model_fin, average=\"macro\")\n",
        "if VBS:\n",
        "    print(\"Precision: {}\".format(prec_teacher)) \n",
        "    print(\"Recall: {}\".format(recall_teacher))\n",
        "    print(\"F1 score: {}\".format(f1_teacher))\n",
        "\n",
        "    report_teacher = classification_report(y_test_dt, preds_teacher_model_fin, digits=6)\n",
        "    print(report_teacher)"
      ],
      "metadata": {
        "colab": {
          "base_uri": "https://localhost:8080/"
        },
        "id": "Tui8TdKFWeA-",
        "outputId": "92715d80-8985-4d7b-f3b7-f29dbc6d42ba"
      },
      "execution_count": null,
      "outputs": [
        {
          "output_type": "stream",
          "name": "stdout",
          "text": [
            "Precision: 0.7190161658456551\n",
            "Recall: 0.6785062217049161\n",
            "F1 score: 0.6937760664012526\n",
            "              precision    recall  f1-score   support\n",
            "\n",
            "           0   0.897550  0.937209  0.916951       430\n",
            "           1   0.381818  0.368421  0.375000       114\n",
            "           2   0.819209  0.878788  0.847953       165\n",
            "           3   0.769231  0.714286  0.740741        14\n",
            "           4   0.727273  0.493827  0.588235        81\n",
            "\n",
            "    accuracy                       0.796020       804\n",
            "   macro avg   0.719016  0.678506  0.693776       804\n",
            "weighted avg   0.788957  0.796020  0.789762       804\n",
            "\n"
          ]
        }
      ]
    },
    {
      "cell_type": "code",
      "source": [
        "#student model\n",
        "def get_model_1d_cnn():\n",
        "    nclass = 5\n",
        "    inp = Input(shape=(3000, 1))\n",
        "    img_1 = Conv1D(4, kernel_size=6, activation=activations.relu, strides=1, padding=\"valid\")(inp)\n",
        "    #img_1 = Conv1D(128, kernel_size=5, activation=activations.relu, strides=1, padding=\"valid\")(img_1)\n",
        "    img_1 = MaxPooling1D(pool_size=2)(img_1)\n",
        "    #img_1 = SpatialDropout1D(rate=0.2)(img_1)\n",
        "    img_1 = Conv1D(4, kernel_size=5, activation=activations.relu, strides=1, padding=\"valid\")(img_1)\n",
        "    #img_1 = Conv1D(256, kernel_size=7, activation=activations.relu, strides=1, padding=\"valid\")(img_1)\n",
        "    img_1 = MaxPooling1D(pool_size=2)(img_1)\n",
        "    #img_1 = SpatialDropout1D(rate=0.01)(img_1)\n",
        "    img_1 = Conv1D(10, kernel_size=4, activation=activations.relu, strides=1, padding=\"valid\")(img_1)\n",
        "    #img_1 = Conv1D(64, kernel_size=4, activation=activations.relu, strides=1, padding=\"valid\")(img_1)\n",
        "    img_1 = MaxPooling1D(pool_size=2)(img_1)\n",
        "    #img_1 = SpatialDropout1D(rate=0.01)(img_1)\n",
        "    img_1 = Conv1D(10, kernel_size=4, activation=activations.relu, strides=1, padding=\"valid\")(img_1)\n",
        "    img_1 = MaxPooling1D(pool_size=2)(img_1)\n",
        "    #img_1 = Conv1D(64, kernel_size=6, activation=activations.relu, strides=1, padding=\"valid\")(img_1)\n",
        "    #img_1 = MaxPooling1D(pool_size=2)(img_1)\n",
        "    img_1 = Flatten()(img_1)\n",
        "\n",
        "    \n",
        "    dense_1 = Dropout(rate=0.5)(img_1)\n",
        "    #dense_1 = Dropout(rate=0.05)(Dense(64, activation=activations.relu, name=\"dense_2\")(dense_1))\n",
        "    dense_1 = Dense(nclass, activation=activations.softmax)(dense_1)\n",
        "\n",
        "    model = Model(inputs=inp, outputs=dense_1)\n",
        "    opt = Adam(0.001)\n",
        "\n",
        "    model.compile(optimizer=opt, loss='categorical_crossentropy', metrics=['acc'])\n",
        "    model.summary()\n",
        "    return model"
      ],
      "metadata": {
        "id": "GyngnaseFkg2"
      },
      "execution_count": null,
      "outputs": []
    },
    {
      "cell_type": "code",
      "source": [
        "#student_model=get_model_cnn()\n",
        "student_model=get_model_1d_cnn()"
      ],
      "metadata": {
        "colab": {
          "base_uri": "https://localhost:8080/"
        },
        "id": "kwMaL5pBFkjW",
        "outputId": "6dc368dc-908c-4fed-bd6d-5601e7e9fd0d"
      },
      "execution_count": null,
      "outputs": [
        {
          "output_type": "stream",
          "name": "stdout",
          "text": [
            "Model: \"model_1\"\n",
            "_________________________________________________________________\n",
            " Layer (type)                Output Shape              Param #   \n",
            "=================================================================\n",
            " input_2 (InputLayer)        [(None, 3000, 1)]         0         \n",
            "                                                                 \n",
            " conv1d_1 (Conv1D)           (None, 2995, 4)           28        \n",
            "                                                                 \n",
            " max_pooling1d (MaxPooling1D  (None, 1497, 4)          0         \n",
            " )                                                               \n",
            "                                                                 \n",
            " conv1d_2 (Conv1D)           (None, 1493, 4)           84        \n",
            "                                                                 \n",
            " max_pooling1d_1 (MaxPooling  (None, 746, 4)           0         \n",
            " 1D)                                                             \n",
            "                                                                 \n",
            " conv1d_3 (Conv1D)           (None, 743, 10)           170       \n",
            "                                                                 \n",
            " max_pooling1d_2 (MaxPooling  (None, 371, 10)          0         \n",
            " 1D)                                                             \n",
            "                                                                 \n",
            " conv1d_4 (Conv1D)           (None, 368, 10)           410       \n",
            "                                                                 \n",
            " max_pooling1d_3 (MaxPooling  (None, 184, 10)          0         \n",
            " 1D)                                                             \n",
            "                                                                 \n",
            " flatten (Flatten)           (None, 1840)              0         \n",
            "                                                                 \n",
            " dropout (Dropout)           (None, 1840)              0         \n",
            "                                                                 \n",
            " dense (Dense)               (None, 5)                 9205      \n",
            "                                                                 \n",
            "=================================================================\n",
            "Total params: 9,897\n",
            "Trainable params: 9,897\n",
            "Non-trainable params: 0\n",
            "_________________________________________________________________\n"
          ]
        }
      ]
    },
    {
      "cell_type": "code",
      "source": [
        "class Distiller(keras.Model):\n",
        "    def __init__(self, student, teacher):\n",
        "        super(Distiller, self).__init__()\n",
        "        self.teacher = teacher\n",
        "        self.student = student\n",
        "\n",
        "    def compile(\n",
        "        self,\n",
        "        optimizer,\n",
        "        metrics,\n",
        "        student_loss_fn,\n",
        "        distillation_loss_fn,\n",
        "        alpha=0.1,\n",
        "        temperature=3,\n",
        "    ):\n",
        "        \"\"\" Configure the distiller.\n",
        "\n",
        "        Args:\n",
        "            optimizer: Keras optimizer for the student weights\n",
        "            metrics: Keras metrics for evaluation\n",
        "            student_loss_fn: Loss function of difference between student\n",
        "                predictions and ground-truth\n",
        "            distillation_loss_fn: Loss function of difference between soft\n",
        "                student predictions and soft teacher predictions\n",
        "            alpha: weight to student_loss_fn and 1-alpha to distillation_loss_fn\n",
        "            temperature: Temperature for softening probability distributions.\n",
        "                Larger temperature gives softer distributions.\n",
        "        \"\"\"\n",
        "        super(Distiller, self).compile(optimizer=optimizer, metrics=metrics)\n",
        "        self.student_loss_fn = student_loss_fn\n",
        "        self.distillation_loss_fn = distillation_loss_fn\n",
        "        self.alpha = alpha\n",
        "        self.temperature = temperature\n",
        "\n",
        "    def train_step(self, data):\n",
        "        # Unpack data\n",
        "        x, y = data\n",
        "\n",
        "        # Forward pass of teacher\n",
        "        teacher_predictions = self.teacher(x, training=False)\n",
        "\n",
        "        with tf.GradientTape() as tape:\n",
        "            # Forward pass of student\n",
        "            student_predictions = self.student(x, training=True)\n",
        "\n",
        "            # Compute losses\n",
        "            student_loss = self.student_loss_fn(y, student_predictions)\n",
        "            distillation_loss = self.distillation_loss_fn(\n",
        "                tf.nn.softmax(teacher_predictions / self.temperature, axis=1),\n",
        "                tf.nn.softmax(student_predictions / self.temperature, axis=1),\n",
        "            )\n",
        "            loss = self.alpha * student_loss + (1 - self.alpha) * distillation_loss\n",
        "\n",
        "        # Compute gradients\n",
        "        trainable_vars = self.student.trainable_variables\n",
        "        gradients = tape.gradient(loss, trainable_vars)\n",
        "\n",
        "        # Update weights\n",
        "        self.optimizer.apply_gradients(zip(gradients, trainable_vars))\n",
        "\n",
        "        # Update the metrics configured in `compile()`.\n",
        "        self.compiled_metrics.update_state(y, student_predictions)\n",
        "\n",
        "        # Return a dict of performance\n",
        "        results = {m.name: m.result() for m in self.metrics}\n",
        "        results.update(\n",
        "            {\"student_loss\": student_loss, \"distillation_loss\": distillation_loss}\n",
        "        )\n",
        "        return results\n",
        "\n",
        "    def test_step(self, data):\n",
        "        # Unpack the data\n",
        "        x, y = data\n",
        "\n",
        "        # Compute predictions\n",
        "        y_prediction = self.student(x, training=False)\n",
        "\n",
        "        # Calculate the loss\n",
        "        student_loss = self.student_loss_fn(y, y_prediction)\n",
        "\n",
        "        # Update the metrics.\n",
        "        self.compiled_metrics.update_state(y, y_prediction)\n",
        "\n",
        "        # Return a dict of performance\n",
        "        results = {m.name: m.result() for m in self.metrics}\n",
        "        results.update({\"student_loss\": student_loss})\n",
        "        return results\n"
      ],
      "metadata": {
        "id": "a9Bm-YZ5Fkm2"
      },
      "execution_count": null,
      "outputs": []
    },
    {
      "cell_type": "code",
      "source": [
        "# Initialize and compile distiller\n",
        "distiller = Distiller(student=student_model, teacher=teacher_model)\n",
        "distiller.compile(\n",
        "    optimizer=keras.optimizers.Adam(),\n",
        "    metrics=[keras.metrics.CategoricalAccuracy()],\n",
        "    student_loss_fn=keras.losses.CategoricalCrossentropy(from_logits=True),\n",
        "    distillation_loss_fn=keras.losses.KLDivergence(),\n",
        "    alpha=0.9,\n",
        "    temperature=5,\n",
        ")\n",
        "\n",
        "# Distill teacher to student\n",
        "distiller.fit(x_dt_rshp, y_dt_, epochs=70)\n",
        "\n",
        "# Evaluate student on test dataset\n",
        "#distiller.evaluate(x_test, y_test)"
      ],
      "metadata": {
        "colab": {
          "base_uri": "https://localhost:8080/"
        },
        "id": "wQkkCtP2G2_6",
        "outputId": "e3ed1792-5005-4c8f-a48f-847b33383c88"
      },
      "execution_count": null,
      "outputs": [
        {
          "output_type": "stream",
          "name": "stdout",
          "text": [
            "Epoch 1/70\n",
            "3748/3748 [==============================] - 33s 8ms/step - categorical_accuracy: 0.7046 - student_loss: 0.7276 - distillation_loss: 0.0016\n",
            "Epoch 2/70\n",
            "3748/3748 [==============================] - 29s 8ms/step - categorical_accuracy: 0.7968 - student_loss: 0.4985 - distillation_loss: 0.0011\n",
            "Epoch 3/70\n",
            "3748/3748 [==============================] - 29s 8ms/step - categorical_accuracy: 0.8210 - student_loss: 0.4413 - distillation_loss: 9.4985e-04\n",
            "Epoch 4/70\n",
            "3748/3748 [==============================] - 29s 8ms/step - categorical_accuracy: 0.8316 - student_loss: 0.4159 - distillation_loss: 8.9640e-04\n",
            "Epoch 5/70\n",
            "3748/3748 [==============================] - 29s 8ms/step - categorical_accuracy: 0.8384 - student_loss: 0.4030 - distillation_loss: 8.6571e-04\n",
            "Epoch 6/70\n",
            "3748/3748 [==============================] - 29s 8ms/step - categorical_accuracy: 0.8439 - student_loss: 0.3925 - distillation_loss: 8.4129e-04\n",
            "Epoch 7/70\n",
            "3748/3748 [==============================] - 29s 8ms/step - categorical_accuracy: 0.8474 - student_loss: 0.3816 - distillation_loss: 8.1945e-04\n",
            "Epoch 8/70\n",
            "3748/3748 [==============================] - 29s 8ms/step - categorical_accuracy: 0.8505 - student_loss: 0.3729 - distillation_loss: 8.0502e-04\n",
            "Epoch 9/70\n",
            "3748/3748 [==============================] - 29s 8ms/step - categorical_accuracy: 0.8519 - student_loss: 0.3698 - distillation_loss: 7.9598e-04\n",
            "Epoch 10/70\n",
            "3748/3748 [==============================] - 29s 8ms/step - categorical_accuracy: 0.8562 - student_loss: 0.3619 - distillation_loss: 7.7919e-04\n",
            "Epoch 11/70\n",
            "3748/3748 [==============================] - 29s 8ms/step - categorical_accuracy: 0.8569 - student_loss: 0.3591 - distillation_loss: 7.7328e-04\n",
            "Epoch 12/70\n",
            "3748/3748 [==============================] - 29s 8ms/step - categorical_accuracy: 0.8573 - student_loss: 0.3564 - distillation_loss: 7.6965e-04\n",
            "Epoch 13/70\n",
            "3748/3748 [==============================] - 29s 8ms/step - categorical_accuracy: 0.8606 - student_loss: 0.3513 - distillation_loss: 7.5765e-04\n",
            "Epoch 14/70\n",
            "3748/3748 [==============================] - 29s 8ms/step - categorical_accuracy: 0.8604 - student_loss: 0.3511 - distillation_loss: 7.5863e-04\n",
            "Epoch 15/70\n",
            "3748/3748 [==============================] - 29s 8ms/step - categorical_accuracy: 0.8615 - student_loss: 0.3483 - distillation_loss: 7.4984e-04\n",
            "Epoch 16/70\n",
            "3748/3748 [==============================] - 29s 8ms/step - categorical_accuracy: 0.8631 - student_loss: 0.3473 - distillation_loss: 7.4866e-04\n",
            "Epoch 17/70\n",
            "3748/3748 [==============================] - 29s 8ms/step - categorical_accuracy: 0.8639 - student_loss: 0.3441 - distillation_loss: 7.4303e-04\n",
            "Epoch 18/70\n",
            "3748/3748 [==============================] - 30s 8ms/step - categorical_accuracy: 0.8635 - student_loss: 0.3442 - distillation_loss: 7.4452e-04\n",
            "Epoch 19/70\n",
            "3748/3748 [==============================] - 29s 8ms/step - categorical_accuracy: 0.8633 - student_loss: 0.3425 - distillation_loss: 7.4010e-04\n",
            "Epoch 20/70\n",
            "3748/3748 [==============================] - 29s 8ms/step - categorical_accuracy: 0.8647 - student_loss: 0.3400 - distillation_loss: 7.3676e-04\n",
            "Epoch 21/70\n",
            "3748/3748 [==============================] - 29s 8ms/step - categorical_accuracy: 0.8663 - student_loss: 0.3364 - distillation_loss: 7.2705e-04\n",
            "Epoch 22/70\n",
            "3748/3748 [==============================] - 29s 8ms/step - categorical_accuracy: 0.8660 - student_loss: 0.3379 - distillation_loss: 7.2883e-04\n",
            "Epoch 23/70\n",
            "3748/3748 [==============================] - 29s 8ms/step - categorical_accuracy: 0.8661 - student_loss: 0.3359 - distillation_loss: 7.2678e-04\n",
            "Epoch 24/70\n",
            "3748/3748 [==============================] - 29s 8ms/step - categorical_accuracy: 0.8676 - student_loss: 0.3348 - distillation_loss: 7.2301e-04\n",
            "Epoch 25/70\n",
            "3748/3748 [==============================] - 29s 8ms/step - categorical_accuracy: 0.8682 - student_loss: 0.3325 - distillation_loss: 7.2249e-04\n",
            "Epoch 26/70\n",
            "3748/3748 [==============================] - 29s 8ms/step - categorical_accuracy: 0.8671 - student_loss: 0.3337 - distillation_loss: 7.2118e-04\n",
            "Epoch 27/70\n",
            "3748/3748 [==============================] - 29s 8ms/step - categorical_accuracy: 0.8687 - student_loss: 0.3336 - distillation_loss: 7.2075e-04\n",
            "Epoch 28/70\n",
            "3748/3748 [==============================] - 29s 8ms/step - categorical_accuracy: 0.8677 - student_loss: 0.3329 - distillation_loss: 7.1874e-04\n",
            "Epoch 29/70\n",
            "3748/3748 [==============================] - 29s 8ms/step - categorical_accuracy: 0.8687 - student_loss: 0.3312 - distillation_loss: 7.1603e-04\n",
            "Epoch 30/70\n",
            "3748/3748 [==============================] - 29s 8ms/step - categorical_accuracy: 0.8708 - student_loss: 0.3282 - distillation_loss: 7.1120e-04\n",
            "Epoch 31/70\n",
            "3748/3748 [==============================] - 29s 8ms/step - categorical_accuracy: 0.8702 - student_loss: 0.3293 - distillation_loss: 7.1231e-04\n",
            "Epoch 32/70\n",
            "3748/3748 [==============================] - 29s 8ms/step - categorical_accuracy: 0.8696 - student_loss: 0.3295 - distillation_loss: 7.1594e-04\n",
            "Epoch 33/70\n",
            "3748/3748 [==============================] - 29s 8ms/step - categorical_accuracy: 0.8696 - student_loss: 0.3297 - distillation_loss: 7.1320e-04\n",
            "Epoch 34/70\n",
            "3748/3748 [==============================] - 29s 8ms/step - categorical_accuracy: 0.8695 - student_loss: 0.3301 - distillation_loss: 7.1347e-04\n",
            "Epoch 35/70\n",
            "3748/3748 [==============================] - 29s 8ms/step - categorical_accuracy: 0.8707 - student_loss: 0.3279 - distillation_loss: 7.0715e-04\n",
            "Epoch 36/70\n",
            "3748/3748 [==============================] - 29s 8ms/step - categorical_accuracy: 0.8704 - student_loss: 0.3264 - distillation_loss: 7.0778e-04\n",
            "Epoch 37/70\n",
            "3748/3748 [==============================] - 29s 8ms/step - categorical_accuracy: 0.8714 - student_loss: 0.3260 - distillation_loss: 7.0508e-04\n",
            "Epoch 38/70\n",
            "3748/3748 [==============================] - 29s 8ms/step - categorical_accuracy: 0.8693 - student_loss: 0.3285 - distillation_loss: 7.1096e-04\n",
            "Epoch 39/70\n",
            "3748/3748 [==============================] - 29s 8ms/step - categorical_accuracy: 0.8699 - student_loss: 0.3257 - distillation_loss: 7.0583e-04\n",
            "Epoch 40/70\n",
            "3748/3748 [==============================] - 29s 8ms/step - categorical_accuracy: 0.8718 - student_loss: 0.3247 - distillation_loss: 7.0151e-04\n",
            "Epoch 41/70\n",
            "3748/3748 [==============================] - 29s 8ms/step - categorical_accuracy: 0.8712 - student_loss: 0.3250 - distillation_loss: 7.0466e-04\n",
            "Epoch 42/70\n",
            "3748/3748 [==============================] - 29s 8ms/step - categorical_accuracy: 0.8706 - student_loss: 0.3259 - distillation_loss: 7.0573e-04\n",
            "Epoch 43/70\n",
            "3748/3748 [==============================] - 28s 8ms/step - categorical_accuracy: 0.8710 - student_loss: 0.3237 - distillation_loss: 7.0268e-04\n",
            "Epoch 44/70\n",
            "3748/3748 [==============================] - 28s 8ms/step - categorical_accuracy: 0.8727 - student_loss: 0.3231 - distillation_loss: 6.9902e-04\n",
            "Epoch 45/70\n",
            "3748/3748 [==============================] - 28s 8ms/step - categorical_accuracy: 0.8717 - student_loss: 0.3242 - distillation_loss: 7.0001e-04\n",
            "Epoch 46/70\n",
            "3748/3748 [==============================] - 28s 8ms/step - categorical_accuracy: 0.8726 - student_loss: 0.3220 - distillation_loss: 6.9938e-04\n",
            "Epoch 47/70\n",
            "3748/3748 [==============================] - 28s 8ms/step - categorical_accuracy: 0.8718 - student_loss: 0.3222 - distillation_loss: 6.9941e-04\n",
            "Epoch 48/70\n",
            "3748/3748 [==============================] - 28s 8ms/step - categorical_accuracy: 0.8723 - student_loss: 0.3233 - distillation_loss: 7.0148e-04\n",
            "Epoch 49/70\n",
            "3748/3748 [==============================] - 29s 8ms/step - categorical_accuracy: 0.8727 - student_loss: 0.3213 - distillation_loss: 6.9957e-04\n",
            "Epoch 50/70\n",
            "3748/3748 [==============================] - 29s 8ms/step - categorical_accuracy: 0.8725 - student_loss: 0.3197 - distillation_loss: 6.9613e-04\n",
            "Epoch 51/70\n",
            "3748/3748 [==============================] - 29s 8ms/step - categorical_accuracy: 0.8730 - student_loss: 0.3202 - distillation_loss: 6.9746e-04\n",
            "Epoch 52/70\n",
            "3748/3748 [==============================] - 28s 8ms/step - categorical_accuracy: 0.8719 - student_loss: 0.3211 - distillation_loss: 6.9800e-04\n",
            "Epoch 53/70\n",
            "3748/3748 [==============================] - 28s 8ms/step - categorical_accuracy: 0.8725 - student_loss: 0.3202 - distillation_loss: 6.9617e-04\n",
            "Epoch 54/70\n",
            "3748/3748 [==============================] - 29s 8ms/step - categorical_accuracy: 0.8737 - student_loss: 0.3195 - distillation_loss: 6.9620e-04\n",
            "Epoch 55/70\n",
            "3748/3748 [==============================] - 29s 8ms/step - categorical_accuracy: 0.8737 - student_loss: 0.3186 - distillation_loss: 6.9446e-04\n",
            "Epoch 56/70\n",
            "3748/3748 [==============================] - 29s 8ms/step - categorical_accuracy: 0.8741 - student_loss: 0.3191 - distillation_loss: 6.9266e-04\n",
            "Epoch 57/70\n",
            "3748/3748 [==============================] - 29s 8ms/step - categorical_accuracy: 0.8737 - student_loss: 0.3190 - distillation_loss: 6.9287e-04\n",
            "Epoch 58/70\n",
            "3748/3748 [==============================] - 29s 8ms/step - categorical_accuracy: 0.8744 - student_loss: 0.3181 - distillation_loss: 6.9094e-04\n",
            "Epoch 59/70\n",
            "3748/3748 [==============================] - 28s 8ms/step - categorical_accuracy: 0.8742 - student_loss: 0.3172 - distillation_loss: 6.8753e-04\n",
            "Epoch 60/70\n",
            "3748/3748 [==============================] - 28s 8ms/step - categorical_accuracy: 0.8752 - student_loss: 0.3164 - distillation_loss: 6.8638e-04\n",
            "Epoch 61/70\n",
            "3748/3748 [==============================] - 28s 8ms/step - categorical_accuracy: 0.8759 - student_loss: 0.3165 - distillation_loss: 6.8752e-04\n",
            "Epoch 62/70\n",
            "3748/3748 [==============================] - 29s 8ms/step - categorical_accuracy: 0.8748 - student_loss: 0.3161 - distillation_loss: 6.8482e-04\n",
            "Epoch 63/70\n",
            "3748/3748 [==============================] - 28s 8ms/step - categorical_accuracy: 0.8737 - student_loss: 0.3182 - distillation_loss: 6.9014e-04\n",
            "Epoch 64/70\n",
            "3748/3748 [==============================] - 28s 8ms/step - categorical_accuracy: 0.8750 - student_loss: 0.3155 - distillation_loss: 6.8438e-04\n",
            "Epoch 65/70\n",
            "3748/3748 [==============================] - 28s 8ms/step - categorical_accuracy: 0.8753 - student_loss: 0.3148 - distillation_loss: 6.8405e-04\n",
            "Epoch 66/70\n",
            "3748/3748 [==============================] - 28s 8ms/step - categorical_accuracy: 0.8757 - student_loss: 0.3154 - distillation_loss: 6.8548e-04\n",
            "Epoch 67/70\n",
            "3748/3748 [==============================] - 29s 8ms/step - categorical_accuracy: 0.8749 - student_loss: 0.3150 - distillation_loss: 6.8484e-04\n",
            "Epoch 68/70\n",
            "3748/3748 [==============================] - 29s 8ms/step - categorical_accuracy: 0.8762 - student_loss: 0.3142 - distillation_loss: 6.8057e-04\n",
            "Epoch 69/70\n",
            "3748/3748 [==============================] - 29s 8ms/step - categorical_accuracy: 0.8761 - student_loss: 0.3141 - distillation_loss: 6.8367e-04\n",
            "Epoch 70/70\n",
            "3748/3748 [==============================] - 29s 8ms/step - categorical_accuracy: 0.8768 - student_loss: 0.3136 - distillation_loss: 6.8276e-04\n"
          ]
        },
        {
          "output_type": "execute_result",
          "data": {
            "text/plain": [
              "<keras.callbacks.History at 0x7f77ebab1ed0>"
            ]
          },
          "metadata": {},
          "execution_count": 40
        }
      ]
    },
    {
      "cell_type": "code",
      "source": [
        "accuracy_distiller = distiller.evaluate(x_test_dt_rshp, y_test_dt_)"
      ],
      "metadata": {
        "colab": {
          "base_uri": "https://localhost:8080/"
        },
        "id": "j2lHkQnZG-76",
        "outputId": "e6101d5a-600d-4761-f7e2-e1ff27a9fea5"
      },
      "execution_count": null,
      "outputs": [
        {
          "output_type": "stream",
          "name": "stdout",
          "text": [
            "26/26 [==============================] - 0s 3ms/step - categorical_accuracy: 0.7749 - student_loss: 0.5889\n"
          ]
        }
      ]
    },
    {
      "cell_type": "code",
      "source": [
        "preds_student_model = student_model.predict(x_test_dt_rshp)"
      ],
      "metadata": {
        "id": "P1g5caDhG-9-"
      },
      "execution_count": null,
      "outputs": []
    },
    {
      "cell_type": "code",
      "source": [
        "preds_student_model_fin=np.argmax(preds_student_model,axis=1)"
      ],
      "metadata": {
        "id": "ZerweBxiG_Be"
      },
      "execution_count": null,
      "outputs": []
    },
    {
      "cell_type": "code",
      "source": [
        "from sklearn.metrics import confusion_matrix\n",
        "matrix_student = confusion_matrix(y_test_dt, preds_student_model_fin)\n",
        "matrix_student.diagonal()/matrix_student.sum(axis=1)"
      ],
      "metadata": {
        "colab": {
          "base_uri": "https://localhost:8080/"
        },
        "id": "M7XaL4lfHL0N",
        "outputId": "425cde6a-e2d9-4519-81b6-37564b9c8d68"
      },
      "execution_count": null,
      "outputs": [
        {
          "output_type": "execute_result",
          "data": {
            "text/plain": [
              "array([0.98139535, 0.22807018, 0.82424242, 0.92857143, 0.32098765])"
            ]
          },
          "metadata": {},
          "execution_count": 44
        }
      ]
    },
    {
      "cell_type": "code",
      "source": [
        "#y_sub_dt\n",
        "from sklearn.metrics import precision_score, recall_score\n",
        "f1_student = f1_score(y_test_dt, preds_student_model_fin, average=\"macro\")\n",
        "prec_student = precision_score(y_test_dt, preds_student_model_fin, average=\"macro\")\n",
        "recall_student = recall_score(y_test_dt, preds_student_model_fin, average=\"macro\")\n",
        "if VBS:\n",
        "    print(\"Precision: {}\".format(prec_student)) \n",
        "    print(\"Recall: {}\".format(recall_student))\n",
        "    print(\"F1 score: {}\".format(f1_student))\n",
        "\n",
        "    report_student = classification_report(y_test_dt, preds_student_model_fin, digits=6)\n",
        "    print(report_student)"
      ],
      "metadata": {
        "id": "HxVPthzBHSHp",
        "colab": {
          "base_uri": "https://localhost:8080/"
        },
        "outputId": "80d6ad01-3ba8-49d3-ae09-e1f98734344b"
      },
      "execution_count": null,
      "outputs": [
        {
          "output_type": "stream",
          "name": "stdout",
          "text": [
            "Precision: 0.6470137223660507\n",
            "Recall: 0.6566534062821293\n",
            "F1 score: 0.6053842048418402\n",
            "              precision    recall  f1-score   support\n",
            "\n",
            "           0   0.824219  0.981395  0.895966       430\n",
            "           1   0.412698  0.228070  0.293785       114\n",
            "           2   0.839506  0.824242  0.831804       165\n",
            "           3   0.393939  0.928571  0.553191        14\n",
            "           4   0.764706  0.320988  0.452174        81\n",
            "\n",
            "    accuracy                       0.774876       804\n",
            "   macro avg   0.647014  0.656653  0.605384       804\n",
            "weighted avg   0.755518  0.774876  0.746736       804\n",
            "\n"
          ]
        }
      ]
    },
    {
      "cell_type": "code",
      "source": [
        "#40 epochs teacher model\n",
        "#alpha=0.9, temp=4\n",
        "#40 epochs: 83.71\n",
        "#50 epochs: 84.36\n",
        "#60 epochs: 83.88"
      ],
      "metadata": {
        "id": "COIr1XFd6_Qh"
      },
      "execution_count": null,
      "outputs": []
    },
    {
      "cell_type": "code",
      "source": [
        "#70 epochs teacher"
      ],
      "metadata": {
        "id": "j8k30A9iTGt4"
      },
      "execution_count": null,
      "outputs": []
    },
    {
      "cell_type": "code",
      "source": [
        "teacher_model=model_b(verbose=VBS) #70 epochs teacher model"
      ],
      "metadata": {
        "colab": {
          "base_uri": "https://localhost:8080/"
        },
        "id": "kjXf5fijRcnK",
        "outputId": "829aa10d-8a67-4019-b316-8fefe9882ba5"
      },
      "execution_count": null,
      "outputs": [
        {
          "output_type": "stream",
          "name": "stdout",
          "text": [
            "Model: \"model\"\n",
            "__________________________________________________________________________________________________\n",
            " Layer (type)                   Output Shape         Param #     Connected to                     \n",
            "==================================================================================================\n",
            " inLayer (InputLayer)           [(None, 3000, 1)]    0           []                               \n",
            "                                                                                                  \n",
            " fConv1 (Conv1D)                (None, 500, 64)      3264        ['inLayer[0][0]']                \n",
            "                                                                                                  \n",
            " cConv1 (Conv1D)                (None, 60, 32)       12832       ['inLayer[0][0]']                \n",
            "                                                                                                  \n",
            " fMaxP1 (MaxPooling1D)          (None, 62, 64)       0           ['fConv1[0][0]']                 \n",
            "                                                                                                  \n",
            " cMaxP1 (MaxPooling1D)          (None, 15, 32)       0           ['cConv1[0][0]']                 \n",
            "                                                                                                  \n",
            " fDrop1 (Dropout)               (None, 62, 64)       0           ['fMaxP1[0][0]']                 \n",
            "                                                                                                  \n",
            " cDrop1 (Dropout)               (None, 15, 32)       0           ['cMaxP1[0][0]']                 \n",
            "                                                                                                  \n",
            " fConv2 (Conv1D)                (None, 62, 128)      65664       ['fDrop1[0][0]']                 \n",
            "                                                                                                  \n",
            " cConv2 (Conv1D)                (None, 15, 128)      24704       ['cDrop1[0][0]']                 \n",
            "                                                                                                  \n",
            " fConv3 (Conv1D)                (None, 62, 128)      131200      ['fConv2[0][0]']                 \n",
            "                                                                                                  \n",
            " cConv3 (Conv1D)                (None, 15, 128)      98432       ['cConv2[0][0]']                 \n",
            "                                                                                                  \n",
            " fConv4 (Conv1D)                (None, 62, 128)      131200      ['fConv3[0][0]']                 \n",
            "                                                                                                  \n",
            " cConv4 (Conv1D)                (None, 15, 128)      98432       ['cConv3[0][0]']                 \n",
            "                                                                                                  \n",
            " fMaxP2 (MaxPooling1D)          (None, 15, 128)      0           ['fConv4[0][0]']                 \n",
            "                                                                                                  \n",
            " cMaxP2 (MaxPooling1D)          (None, 7, 128)       0           ['cConv4[0][0]']                 \n",
            "                                                                                                  \n",
            " fFlat1 (Flatten)               (None, 1920)         0           ['fMaxP2[0][0]']                 \n",
            "                                                                                                  \n",
            " cFlat1 (Flatten)               (None, 896)          0           ['cMaxP2[0][0]']                 \n",
            "                                                                                                  \n",
            " merge_1 (Concatenate)          (None, 2816)         0           ['fFlat1[0][0]',                 \n",
            "                                                                  'cFlat1[0][0]']                 \n",
            "                                                                                                  \n",
            " mDrop1 (Dropout)               (None, 2816)         0           ['merge_1[0][0]']                \n",
            "                                                                                                  \n",
            " reshape1 (Reshape)             (None, 1, 2816)      0           ['mDrop1[0][0]']                 \n",
            "                                                                                                  \n",
            " lstm (LSTM)                    (None, 1, 64)        737536      ['reshape1[0][0]']               \n",
            "                                                                                                  \n",
            " lstm_1 (LSTM)                  (None, 64)           33024       ['lstm[0][0]']                   \n",
            "                                                                                                  \n",
            " outLayer (Dense)               (None, 5)            325         ['lstm_1[0][0]']                 \n",
            "                                                                                                  \n",
            "==================================================================================================\n",
            "Total params: 1,336,613\n",
            "Trainable params: 1,336,613\n",
            "Non-trainable params: 0\n",
            "__________________________________________________________________________________________________\n"
          ]
        }
      ]
    },
    {
      "cell_type": "code",
      "source": [
        "teacher_checkpt_path=\"/content/gdrive/My Drive/physionet/ensemble/tri_training/70_epochs_keras_way/teacher_70_epochs_keras_way_wts_trial_3.ckpt\"\n",
        "teacher_model.load_weights(teacher_checkpt_path)"
      ],
      "metadata": {
        "colab": {
          "base_uri": "https://localhost:8080/"
        },
        "id": "5zYgvXtNRsy3",
        "outputId": "1cf392af-674c-4755-ea97-552e2d666043"
      },
      "execution_count": null,
      "outputs": [
        {
          "output_type": "execute_result",
          "data": {
            "text/plain": [
              "<tensorflow.python.training.tracking.util.CheckpointLoadStatus at 0x7f6f1b87b290>"
            ]
          },
          "metadata": {},
          "execution_count": 27
        }
      ]
    },
    {
      "cell_type": "code",
      "source": [
        "teacher_model.compile(optimizer=optimizer, loss='categorical_crossentropy', metrics=['accuracy'])"
      ],
      "metadata": {
        "id": "14-DjWTSR58o"
      },
      "execution_count": null,
      "outputs": []
    },
    {
      "cell_type": "code",
      "source": [
        "accuracy_teacher_model = teacher_model.evaluate(x_test_dt_rshp, y_test_dt_)"
      ],
      "metadata": {
        "colab": {
          "base_uri": "https://localhost:8080/"
        },
        "id": "bb4buvHbR_Vb",
        "outputId": "d9a9e593-ca27-4539-b665-b7de314f9975"
      },
      "execution_count": null,
      "outputs": [
        {
          "output_type": "stream",
          "name": "stdout",
          "text": [
            "26/26 [==============================] - 12s 7ms/step - loss: 1.3014 - accuracy: 0.8010\n"
          ]
        }
      ]
    },
    {
      "cell_type": "code",
      "source": [
        "preds_teacher_model = teacher_model.predict(x_test_dt_rshp)"
      ],
      "metadata": {
        "id": "uO9gTdxhSFUh"
      },
      "execution_count": null,
      "outputs": []
    },
    {
      "cell_type": "code",
      "source": [
        "preds_teacher_model_fin=np.argmax(preds_teacher_model,axis=1)"
      ],
      "metadata": {
        "id": "pwomzs7iSJHX"
      },
      "execution_count": null,
      "outputs": []
    },
    {
      "cell_type": "code",
      "source": [
        "from sklearn.metrics import confusion_matrix\n",
        "matrix_teacher = confusion_matrix(y_test_dt, preds_teacher_model_fin)\n",
        "matrix_teacher.diagonal()/matrix_teacher.sum(axis=1)"
      ],
      "metadata": {
        "colab": {
          "base_uri": "https://localhost:8080/"
        },
        "id": "ndGCc23zSPVw",
        "outputId": "d33a8f8f-ad92-4bd9-99a6-158275cbe823"
      },
      "execution_count": null,
      "outputs": [
        {
          "output_type": "execute_result",
          "data": {
            "text/plain": [
              "array([0.96046512, 0.35087719, 0.92121212, 0.78571429, 0.34567901])"
            ]
          },
          "metadata": {},
          "execution_count": 32
        }
      ]
    },
    {
      "cell_type": "code",
      "source": [
        "#y_sub_dt\n",
        "from sklearn.metrics import precision_score, recall_score\n",
        "f1_teacher = f1_score(y_test_dt, preds_teacher_model_fin, average=\"macro\")\n",
        "prec_teacher = precision_score(y_test_dt, preds_teacher_model_fin, average=\"macro\")\n",
        "recall_teacher = recall_score(y_test_dt, preds_teacher_model_fin, average=\"macro\")\n",
        "if VBS:\n",
        "    print(\"Precision: {}\".format(prec_teacher)) \n",
        "    print(\"Recall: {}\".format(recall_teacher))\n",
        "    print(\"F1 score: {}\".format(f1_teacher))\n",
        "\n",
        "    report_teacher = classification_report(y_test_dt, preds_teacher_model_fin, digits=6)\n",
        "    print(report_teacher)"
      ],
      "metadata": {
        "colab": {
          "base_uri": "https://localhost:8080/"
        },
        "id": "0t2Lpu-NSUBg",
        "outputId": "7bda54de-07bc-47cc-bb50-f616193a6ed4"
      },
      "execution_count": null,
      "outputs": [
        {
          "output_type": "stream",
          "name": "stdout",
          "text": [
            "Precision: 0.7326324051324051\n",
            "Recall: 0.6727895457067223\n",
            "F1 score: 0.6777619262790736\n",
            "              precision    recall  f1-score   support\n",
            "\n",
            "           0   0.875000  0.960465  0.915743       430\n",
            "           1   0.404040  0.350877  0.375587       114\n",
            "           2   0.821622  0.921212  0.868571       165\n",
            "           3   0.687500  0.785714  0.733333        14\n",
            "           4   0.875000  0.345679  0.495575        81\n",
            "\n",
            "    accuracy                       0.800995       804\n",
            "   macro avg   0.732632  0.672790  0.677762       804\n",
            "weighted avg   0.794003  0.800995  0.783966       804\n",
            "\n"
          ]
        }
      ]
    },
    {
      "cell_type": "code",
      "source": [
        "#student model\n",
        "def get_model_1d_cnn():\n",
        "    nclass = 5\n",
        "    inp = Input(shape=(3000, 1))\n",
        "    img_1 = Conv1D(4, kernel_size=6, activation=activations.relu, strides=1, padding=\"valid\")(inp)\n",
        "    #img_1 = Conv1D(128, kernel_size=5, activation=activations.relu, strides=1, padding=\"valid\")(img_1)\n",
        "    img_1 = MaxPooling1D(pool_size=2)(img_1)\n",
        "    #img_1 = SpatialDropout1D(rate=0.2)(img_1)\n",
        "    img_1 = Conv1D(4, kernel_size=5, activation=activations.relu, strides=1, padding=\"valid\")(img_1)\n",
        "    #img_1 = Conv1D(256, kernel_size=7, activation=activations.relu, strides=1, padding=\"valid\")(img_1)\n",
        "    img_1 = MaxPooling1D(pool_size=2)(img_1)\n",
        "    #img_1 = SpatialDropout1D(rate=0.01)(img_1)\n",
        "    img_1 = Conv1D(10, kernel_size=4, activation=activations.relu, strides=1, padding=\"valid\")(img_1)\n",
        "    #img_1 = Conv1D(64, kernel_size=4, activation=activations.relu, strides=1, padding=\"valid\")(img_1)\n",
        "    img_1 = MaxPooling1D(pool_size=2)(img_1)\n",
        "    #img_1 = SpatialDropout1D(rate=0.01)(img_1)\n",
        "    img_1 = Conv1D(10, kernel_size=4, activation=activations.relu, strides=1, padding=\"valid\")(img_1)\n",
        "    img_1 = MaxPooling1D(pool_size=2)(img_1)\n",
        "    #img_1 = Conv1D(64, kernel_size=6, activation=activations.relu, strides=1, padding=\"valid\")(img_1)\n",
        "    #img_1 = MaxPooling1D(pool_size=2)(img_1)\n",
        "    img_1 = Flatten()(img_1)\n",
        "\n",
        "    \n",
        "    dense_1 = Dropout(rate=0.5)(img_1)\n",
        "    #dense_1 = Dropout(rate=0.05)(Dense(64, activation=activations.relu, name=\"dense_2\")(dense_1))\n",
        "    dense_1 = Dense(nclass, activation=activations.softmax)(dense_1)\n",
        "\n",
        "    model = Model(inputs=inp, outputs=dense_1)\n",
        "    opt = Adam(0.001)\n",
        "\n",
        "    model.compile(optimizer=opt, loss='categorical_crossentropy', metrics=['acc'])\n",
        "    model.summary()\n",
        "    return model"
      ],
      "metadata": {
        "id": "M-yJ5HFnSWm4"
      },
      "execution_count": null,
      "outputs": []
    },
    {
      "cell_type": "code",
      "source": [
        "#student_model=get_model_cnn()\n",
        "student_model=get_model_1d_cnn()"
      ],
      "metadata": {
        "colab": {
          "base_uri": "https://localhost:8080/"
        },
        "id": "iWfznfwySb5D",
        "outputId": "05129cba-9f2a-45dc-a4cc-bb1f659c9958"
      },
      "execution_count": null,
      "outputs": [
        {
          "output_type": "stream",
          "name": "stdout",
          "text": [
            "Model: \"model_1\"\n",
            "_________________________________________________________________\n",
            " Layer (type)                Output Shape              Param #   \n",
            "=================================================================\n",
            " input_2 (InputLayer)        [(None, 3000, 1)]         0         \n",
            "                                                                 \n",
            " conv1d_1 (Conv1D)           (None, 2995, 4)           28        \n",
            "                                                                 \n",
            " max_pooling1d (MaxPooling1D  (None, 1497, 4)          0         \n",
            " )                                                               \n",
            "                                                                 \n",
            " conv1d_2 (Conv1D)           (None, 1493, 4)           84        \n",
            "                                                                 \n",
            " max_pooling1d_1 (MaxPooling  (None, 746, 4)           0         \n",
            " 1D)                                                             \n",
            "                                                                 \n",
            " conv1d_3 (Conv1D)           (None, 743, 10)           170       \n",
            "                                                                 \n",
            " max_pooling1d_2 (MaxPooling  (None, 371, 10)          0         \n",
            " 1D)                                                             \n",
            "                                                                 \n",
            " conv1d_4 (Conv1D)           (None, 368, 10)           410       \n",
            "                                                                 \n",
            " max_pooling1d_3 (MaxPooling  (None, 184, 10)          0         \n",
            " 1D)                                                             \n",
            "                                                                 \n",
            " flatten (Flatten)           (None, 1840)              0         \n",
            "                                                                 \n",
            " dropout (Dropout)           (None, 1840)              0         \n",
            "                                                                 \n",
            " dense (Dense)               (None, 5)                 9205      \n",
            "                                                                 \n",
            "=================================================================\n",
            "Total params: 9,897\n",
            "Trainable params: 9,897\n",
            "Non-trainable params: 0\n",
            "_________________________________________________________________\n"
          ]
        }
      ]
    },
    {
      "cell_type": "code",
      "source": [
        "class Distiller(keras.Model):\n",
        "    def __init__(self, student, teacher):\n",
        "        super(Distiller, self).__init__()\n",
        "        self.teacher = teacher\n",
        "        self.student = student\n",
        "\n",
        "    def compile(\n",
        "        self,\n",
        "        optimizer,\n",
        "        metrics,\n",
        "        student_loss_fn,\n",
        "        distillation_loss_fn,\n",
        "        alpha=0.1,\n",
        "        temperature=3,\n",
        "    ):\n",
        "        \"\"\" Configure the distiller.\n",
        "\n",
        "        Args:\n",
        "            optimizer: Keras optimizer for the student weights\n",
        "            metrics: Keras metrics for evaluation\n",
        "            student_loss_fn: Loss function of difference between student\n",
        "                predictions and ground-truth\n",
        "            distillation_loss_fn: Loss function of difference between soft\n",
        "                student predictions and soft teacher predictions\n",
        "            alpha: weight to student_loss_fn and 1-alpha to distillation_loss_fn\n",
        "            temperature: Temperature for softening probability distributions.\n",
        "                Larger temperature gives softer distributions.\n",
        "        \"\"\"\n",
        "        super(Distiller, self).compile(optimizer=optimizer, metrics=metrics)\n",
        "        self.student_loss_fn = student_loss_fn\n",
        "        self.distillation_loss_fn = distillation_loss_fn\n",
        "        self.alpha = alpha\n",
        "        self.temperature = temperature\n",
        "\n",
        "    def train_step(self, data):\n",
        "        # Unpack data\n",
        "        x, y = data\n",
        "\n",
        "        # Forward pass of teacher\n",
        "        teacher_predictions = self.teacher(x, training=False)\n",
        "\n",
        "        with tf.GradientTape() as tape:\n",
        "            # Forward pass of student\n",
        "            student_predictions = self.student(x, training=True)\n",
        "\n",
        "            # Compute losses\n",
        "            student_loss = self.student_loss_fn(y, student_predictions)\n",
        "            distillation_loss = self.distillation_loss_fn(\n",
        "                tf.nn.softmax(teacher_predictions / self.temperature, axis=1),\n",
        "                tf.nn.softmax(student_predictions / self.temperature, axis=1),\n",
        "            )\n",
        "            loss = self.alpha * student_loss + (1 - self.alpha) * distillation_loss\n",
        "\n",
        "        # Compute gradients\n",
        "        trainable_vars = self.student.trainable_variables\n",
        "        gradients = tape.gradient(loss, trainable_vars)\n",
        "\n",
        "        # Update weights\n",
        "        self.optimizer.apply_gradients(zip(gradients, trainable_vars))\n",
        "\n",
        "        # Update the metrics configured in `compile()`.\n",
        "        self.compiled_metrics.update_state(y, student_predictions)\n",
        "\n",
        "        # Return a dict of performance\n",
        "        results = {m.name: m.result() for m in self.metrics}\n",
        "        results.update(\n",
        "            {\"student_loss\": student_loss, \"distillation_loss\": distillation_loss}\n",
        "        )\n",
        "        return results\n",
        "\n",
        "    def test_step(self, data):\n",
        "        # Unpack the data\n",
        "        x, y = data\n",
        "\n",
        "        # Compute predictions\n",
        "        y_prediction = self.student(x, training=False)\n",
        "\n",
        "        # Calculate the loss\n",
        "        student_loss = self.student_loss_fn(y, y_prediction)\n",
        "\n",
        "        # Update the metrics.\n",
        "        self.compiled_metrics.update_state(y, y_prediction)\n",
        "\n",
        "        # Return a dict of performance\n",
        "        results = {m.name: m.result() for m in self.metrics}\n",
        "        results.update({\"student_loss\": student_loss})\n",
        "        return results\n"
      ],
      "metadata": {
        "id": "LKd782LcSfgA"
      },
      "execution_count": null,
      "outputs": []
    },
    {
      "cell_type": "code",
      "source": [
        "# Initialize and compile distiller\n",
        "distiller = Distiller(student=student_model, teacher=teacher_model)\n",
        "distiller.compile(\n",
        "    optimizer=keras.optimizers.Adam(),\n",
        "    metrics=[keras.metrics.CategoricalAccuracy()],\n",
        "    student_loss_fn=keras.losses.CategoricalCrossentropy(from_logits=True),\n",
        "    distillation_loss_fn=keras.losses.KLDivergence(),\n",
        "    alpha=0.9,\n",
        "    temperature=5,\n",
        ")\n",
        "\n",
        "# Distill teacher to student\n",
        "distiller.fit(x_dt_rshp, y_dt_, epochs=80)\n",
        "\n",
        "# Evaluate student on test dataset\n",
        "#distiller.evaluate(x_test, y_test)"
      ],
      "metadata": {
        "colab": {
          "base_uri": "https://localhost:8080/"
        },
        "id": "AAKgvL91SjLw",
        "outputId": "81ddc1dc-2bae-453e-9643-811646228d7b"
      },
      "execution_count": null,
      "outputs": [
        {
          "output_type": "stream",
          "name": "stdout",
          "text": [
            "Epoch 1/80\n",
            "3748/3748 [==============================] - 35s 8ms/step - categorical_accuracy: 0.7092 - student_loss: 0.7185 - distillation_loss: 0.0016\n",
            "Epoch 2/80\n",
            "3748/3748 [==============================] - 30s 8ms/step - categorical_accuracy: 0.8027 - student_loss: 0.4830 - distillation_loss: 0.0011\n",
            "Epoch 3/80\n",
            "3748/3748 [==============================] - 29s 8ms/step - categorical_accuracy: 0.8222 - student_loss: 0.4352 - distillation_loss: 9.5743e-04\n",
            "Epoch 4/80\n",
            "3748/3748 [==============================] - 29s 8ms/step - categorical_accuracy: 0.8338 - student_loss: 0.4116 - distillation_loss: 9.0541e-04\n",
            "Epoch 5/80\n",
            "3748/3748 [==============================] - 29s 8ms/step - categorical_accuracy: 0.8394 - student_loss: 0.3998 - distillation_loss: 8.7783e-04\n",
            "Epoch 6/80\n",
            "3748/3748 [==============================] - 29s 8ms/step - categorical_accuracy: 0.8437 - student_loss: 0.3916 - distillation_loss: 8.5839e-04\n",
            "Epoch 7/80\n",
            "3748/3748 [==============================] - 29s 8ms/step - categorical_accuracy: 0.8459 - student_loss: 0.3824 - distillation_loss: 8.3993e-04\n",
            "Epoch 8/80\n",
            "3748/3748 [==============================] - 29s 8ms/step - categorical_accuracy: 0.8506 - student_loss: 0.3742 - distillation_loss: 8.2149e-04\n",
            "Epoch 9/80\n",
            "3748/3748 [==============================] - 29s 8ms/step - categorical_accuracy: 0.8504 - student_loss: 0.3724 - distillation_loss: 8.1837e-04\n",
            "Epoch 10/80\n",
            "3748/3748 [==============================] - 30s 8ms/step - categorical_accuracy: 0.8544 - student_loss: 0.3659 - distillation_loss: 8.0455e-04\n",
            "Epoch 11/80\n",
            "3748/3748 [==============================] - 29s 8ms/step - categorical_accuracy: 0.8561 - student_loss: 0.3624 - distillation_loss: 7.9578e-04\n",
            "Epoch 12/80\n",
            "3748/3748 [==============================] - 29s 8ms/step - categorical_accuracy: 0.8565 - student_loss: 0.3587 - distillation_loss: 7.8891e-04\n",
            "Epoch 13/80\n",
            "3748/3748 [==============================] - 29s 8ms/step - categorical_accuracy: 0.8595 - student_loss: 0.3523 - distillation_loss: 7.7676e-04\n",
            "Epoch 14/80\n",
            "3748/3748 [==============================] - 29s 8ms/step - categorical_accuracy: 0.8599 - student_loss: 0.3499 - distillation_loss: 7.7409e-04\n",
            "Epoch 15/80\n",
            "3748/3748 [==============================] - 29s 8ms/step - categorical_accuracy: 0.8626 - student_loss: 0.3484 - distillation_loss: 7.6636e-04\n",
            "Epoch 16/80\n",
            "3748/3748 [==============================] - 29s 8ms/step - categorical_accuracy: 0.8619 - student_loss: 0.3470 - distillation_loss: 7.6402e-04\n",
            "Epoch 17/80\n",
            "3748/3748 [==============================] - 29s 8ms/step - categorical_accuracy: 0.8614 - student_loss: 0.3453 - distillation_loss: 7.6406e-04\n",
            "Epoch 18/80\n",
            "3748/3748 [==============================] - 29s 8ms/step - categorical_accuracy: 0.8641 - student_loss: 0.3438 - distillation_loss: 7.5848e-04\n",
            "Epoch 19/80\n",
            "3748/3748 [==============================] - 29s 8ms/step - categorical_accuracy: 0.8638 - student_loss: 0.3421 - distillation_loss: 7.5514e-04\n",
            "Epoch 20/80\n",
            "3748/3748 [==============================] - 29s 8ms/step - categorical_accuracy: 0.8659 - student_loss: 0.3388 - distillation_loss: 7.4766e-04\n",
            "Epoch 21/80\n",
            "3748/3748 [==============================] - 29s 8ms/step - categorical_accuracy: 0.8662 - student_loss: 0.3373 - distillation_loss: 7.4484e-04\n",
            "Epoch 22/80\n",
            "3748/3748 [==============================] - 29s 8ms/step - categorical_accuracy: 0.8660 - student_loss: 0.3371 - distillation_loss: 7.4346e-04\n",
            "Epoch 23/80\n",
            "3748/3748 [==============================] - 29s 8ms/step - categorical_accuracy: 0.8677 - student_loss: 0.3340 - distillation_loss: 7.3539e-04\n",
            "Epoch 24/80\n",
            "3748/3748 [==============================] - 29s 8ms/step - categorical_accuracy: 0.8671 - student_loss: 0.3341 - distillation_loss: 7.3717e-04\n",
            "Epoch 25/80\n",
            "3748/3748 [==============================] - 29s 8ms/step - categorical_accuracy: 0.8687 - student_loss: 0.3320 - distillation_loss: 7.3558e-04\n",
            "Epoch 26/80\n",
            "3748/3748 [==============================] - 29s 8ms/step - categorical_accuracy: 0.8683 - student_loss: 0.3314 - distillation_loss: 7.3187e-04\n",
            "Epoch 27/80\n",
            "3748/3748 [==============================] - 29s 8ms/step - categorical_accuracy: 0.8681 - student_loss: 0.3312 - distillation_loss: 7.3081e-04\n",
            "Epoch 28/80\n",
            "3748/3748 [==============================] - 29s 8ms/step - categorical_accuracy: 0.8680 - student_loss: 0.3324 - distillation_loss: 7.3249e-04\n",
            "Epoch 29/80\n",
            "3748/3748 [==============================] - 29s 8ms/step - categorical_accuracy: 0.8704 - student_loss: 0.3284 - distillation_loss: 7.2515e-04\n",
            "Epoch 30/80\n",
            "3748/3748 [==============================] - 29s 8ms/step - categorical_accuracy: 0.8709 - student_loss: 0.3266 - distillation_loss: 7.1930e-04\n",
            "Epoch 31/80\n",
            "3748/3748 [==============================] - 29s 8ms/step - categorical_accuracy: 0.8701 - student_loss: 0.3274 - distillation_loss: 7.2315e-04\n",
            "Epoch 32/80\n",
            "3748/3748 [==============================] - 29s 8ms/step - categorical_accuracy: 0.8698 - student_loss: 0.3276 - distillation_loss: 7.2641e-04\n",
            "Epoch 33/80\n",
            "3748/3748 [==============================] - 30s 8ms/step - categorical_accuracy: 0.8705 - student_loss: 0.3274 - distillation_loss: 7.2317e-04\n",
            "Epoch 34/80\n",
            "3748/3748 [==============================] - 30s 8ms/step - categorical_accuracy: 0.8714 - student_loss: 0.3258 - distillation_loss: 7.1919e-04\n",
            "Epoch 35/80\n",
            "3748/3748 [==============================] - 29s 8ms/step - categorical_accuracy: 0.8711 - student_loss: 0.3248 - distillation_loss: 7.1805e-04\n",
            "Epoch 36/80\n",
            "3748/3748 [==============================] - 29s 8ms/step - categorical_accuracy: 0.8721 - student_loss: 0.3243 - distillation_loss: 7.1598e-04\n",
            "Epoch 37/80\n",
            "3748/3748 [==============================] - 30s 8ms/step - categorical_accuracy: 0.8718 - student_loss: 0.3230 - distillation_loss: 7.1535e-04\n",
            "Epoch 38/80\n",
            "3748/3748 [==============================] - 29s 8ms/step - categorical_accuracy: 0.8707 - student_loss: 0.3271 - distillation_loss: 7.2475e-04\n",
            "Epoch 39/80\n",
            "3748/3748 [==============================] - 29s 8ms/step - categorical_accuracy: 0.8722 - student_loss: 0.3239 - distillation_loss: 7.1568e-04\n",
            "Epoch 40/80\n",
            "3748/3748 [==============================] - 29s 8ms/step - categorical_accuracy: 0.8733 - student_loss: 0.3212 - distillation_loss: 7.1090e-04\n",
            "Epoch 41/80\n",
            "3748/3748 [==============================] - 30s 8ms/step - categorical_accuracy: 0.8714 - student_loss: 0.3236 - distillation_loss: 7.1669e-04\n",
            "Epoch 42/80\n",
            "3748/3748 [==============================] - 29s 8ms/step - categorical_accuracy: 0.8717 - student_loss: 0.3241 - distillation_loss: 7.1481e-04\n",
            "Epoch 43/80\n",
            "3748/3748 [==============================] - 29s 8ms/step - categorical_accuracy: 0.8734 - student_loss: 0.3211 - distillation_loss: 7.0762e-04\n",
            "Epoch 44/80\n",
            "3748/3748 [==============================] - 29s 8ms/step - categorical_accuracy: 0.8715 - student_loss: 0.3230 - distillation_loss: 7.1313e-04\n",
            "Epoch 45/80\n",
            "3748/3748 [==============================] - 29s 8ms/step - categorical_accuracy: 0.8739 - student_loss: 0.3191 - distillation_loss: 7.0425e-04\n",
            "Epoch 46/80\n",
            "3748/3748 [==============================] - 29s 8ms/step - categorical_accuracy: 0.8729 - student_loss: 0.3208 - distillation_loss: 7.0943e-04\n",
            "Epoch 47/80\n",
            "3748/3748 [==============================] - 29s 8ms/step - categorical_accuracy: 0.8734 - student_loss: 0.3207 - distillation_loss: 7.1053e-04\n",
            "Epoch 48/80\n",
            "3748/3748 [==============================] - 30s 8ms/step - categorical_accuracy: 0.8734 - student_loss: 0.3213 - distillation_loss: 7.0943e-04\n",
            "Epoch 49/80\n",
            "3748/3748 [==============================] - 29s 8ms/step - categorical_accuracy: 0.8739 - student_loss: 0.3198 - distillation_loss: 7.0816e-04\n",
            "Epoch 50/80\n",
            "3748/3748 [==============================] - 29s 8ms/step - categorical_accuracy: 0.8726 - student_loss: 0.3200 - distillation_loss: 7.0865e-04\n",
            "Epoch 51/80\n",
            "3748/3748 [==============================] - 29s 8ms/step - categorical_accuracy: 0.8745 - student_loss: 0.3185 - distillation_loss: 7.0420e-04\n",
            "Epoch 52/80\n",
            "3748/3748 [==============================] - 29s 8ms/step - categorical_accuracy: 0.8734 - student_loss: 0.3199 - distillation_loss: 7.0818e-04\n",
            "Epoch 53/80\n",
            "3748/3748 [==============================] - 29s 8ms/step - categorical_accuracy: 0.8730 - student_loss: 0.3188 - distillation_loss: 7.0661e-04\n",
            "Epoch 54/80\n",
            "3748/3748 [==============================] - 29s 8ms/step - categorical_accuracy: 0.8743 - student_loss: 0.3183 - distillation_loss: 7.0387e-04\n",
            "Epoch 55/80\n",
            "3748/3748 [==============================] - 29s 8ms/step - categorical_accuracy: 0.8747 - student_loss: 0.3173 - distillation_loss: 7.0159e-04\n",
            "Epoch 56/80\n",
            "3748/3748 [==============================] - 29s 8ms/step - categorical_accuracy: 0.8741 - student_loss: 0.3180 - distillation_loss: 7.0322e-04\n",
            "Epoch 57/80\n",
            "3748/3748 [==============================] - 29s 8ms/step - categorical_accuracy: 0.8750 - student_loss: 0.3163 - distillation_loss: 6.9990e-04\n",
            "Epoch 58/80\n",
            "3748/3748 [==============================] - 29s 8ms/step - categorical_accuracy: 0.8757 - student_loss: 0.3156 - distillation_loss: 6.9732e-04\n",
            "Epoch 59/80\n",
            "3748/3748 [==============================] - 29s 8ms/step - categorical_accuracy: 0.8753 - student_loss: 0.3163 - distillation_loss: 6.9822e-04\n",
            "Epoch 60/80\n",
            "3748/3748 [==============================] - 29s 8ms/step - categorical_accuracy: 0.8747 - student_loss: 0.3157 - distillation_loss: 6.9849e-04\n",
            "Epoch 61/80\n",
            "3748/3748 [==============================] - 29s 8ms/step - categorical_accuracy: 0.8757 - student_loss: 0.3149 - distillation_loss: 6.9664e-04\n",
            "Epoch 62/80\n",
            "3748/3748 [==============================] - 29s 8ms/step - categorical_accuracy: 0.8774 - student_loss: 0.3137 - distillation_loss: 6.9165e-04\n",
            "Epoch 63/80\n",
            "3748/3748 [==============================] - 29s 8ms/step - categorical_accuracy: 0.8756 - student_loss: 0.3157 - distillation_loss: 6.9773e-04\n",
            "Epoch 64/80\n",
            "3748/3748 [==============================] - 29s 8ms/step - categorical_accuracy: 0.8756 - student_loss: 0.3149 - distillation_loss: 6.9549e-04\n",
            "Epoch 65/80\n",
            "3748/3748 [==============================] - 29s 8ms/step - categorical_accuracy: 0.8763 - student_loss: 0.3132 - distillation_loss: 6.9274e-04\n",
            "Epoch 66/80\n",
            "3748/3748 [==============================] - 29s 8ms/step - categorical_accuracy: 0.8758 - student_loss: 0.3146 - distillation_loss: 6.9395e-04\n",
            "Epoch 67/80\n",
            "3748/3748 [==============================] - 29s 8ms/step - categorical_accuracy: 0.8765 - student_loss: 0.3114 - distillation_loss: 6.8957e-04\n",
            "Epoch 68/80\n",
            "3748/3748 [==============================] - 29s 8ms/step - categorical_accuracy: 0.8779 - student_loss: 0.3113 - distillation_loss: 6.8701e-04\n",
            "Epoch 69/80\n",
            "3748/3748 [==============================] - 29s 8ms/step - categorical_accuracy: 0.8762 - student_loss: 0.3148 - distillation_loss: 6.9337e-04\n",
            "Epoch 70/80\n",
            "3748/3748 [==============================] - 29s 8ms/step - categorical_accuracy: 0.8769 - student_loss: 0.3127 - distillation_loss: 6.9289e-04\n",
            "Epoch 71/80\n",
            "3748/3748 [==============================] - 29s 8ms/step - categorical_accuracy: 0.8765 - student_loss: 0.3116 - distillation_loss: 6.9064e-04\n",
            "Epoch 72/80\n",
            "3748/3748 [==============================] - 29s 8ms/step - categorical_accuracy: 0.8764 - student_loss: 0.3133 - distillation_loss: 6.9361e-04\n",
            "Epoch 73/80\n",
            "3748/3748 [==============================] - 29s 8ms/step - categorical_accuracy: 0.8757 - student_loss: 0.3133 - distillation_loss: 6.9451e-04\n",
            "Epoch 74/80\n",
            "3748/3748 [==============================] - 29s 8ms/step - categorical_accuracy: 0.8769 - student_loss: 0.3115 - distillation_loss: 6.8735e-04\n",
            "Epoch 75/80\n",
            "3748/3748 [==============================] - 29s 8ms/step - categorical_accuracy: 0.8774 - student_loss: 0.3110 - distillation_loss: 6.8875e-04\n",
            "Epoch 76/80\n",
            "3748/3748 [==============================] - 29s 8ms/step - categorical_accuracy: 0.8766 - student_loss: 0.3122 - distillation_loss: 6.9180e-04\n",
            "Epoch 77/80\n",
            "3748/3748 [==============================] - 29s 8ms/step - categorical_accuracy: 0.8776 - student_loss: 0.3109 - distillation_loss: 6.8727e-04\n",
            "Epoch 78/80\n",
            "3748/3748 [==============================] - 29s 8ms/step - categorical_accuracy: 0.8772 - student_loss: 0.3109 - distillation_loss: 6.8607e-04\n",
            "Epoch 79/80\n",
            "3748/3748 [==============================] - 29s 8ms/step - categorical_accuracy: 0.8798 - student_loss: 0.3076 - distillation_loss: 6.8048e-04\n",
            "Epoch 80/80\n",
            "3748/3748 [==============================] - 29s 8ms/step - categorical_accuracy: 0.8788 - student_loss: 0.3099 - distillation_loss: 6.8462e-04\n"
          ]
        },
        {
          "output_type": "execute_result",
          "data": {
            "text/plain": [
              "<keras.callbacks.History at 0x7f6f193c6950>"
            ]
          },
          "metadata": {},
          "execution_count": 39
        }
      ]
    },
    {
      "cell_type": "code",
      "source": [
        "accuracy_distiller = distiller.evaluate(x_test_dt_rshp, y_test_dt_)"
      ],
      "metadata": {
        "colab": {
          "base_uri": "https://localhost:8080/"
        },
        "id": "ZYaRUZ5AbDZv",
        "outputId": "194b2f89-f19c-4794-b619-a5b8a17e5ac1"
      },
      "execution_count": null,
      "outputs": [
        {
          "output_type": "stream",
          "name": "stdout",
          "text": [
            "26/26 [==============================] - 0s 4ms/step - categorical_accuracy: 0.7587 - student_loss: 0.6204\n"
          ]
        }
      ]
    },
    {
      "cell_type": "code",
      "source": [
        "preds_student_model = student_model.predict(x_test_dt_rshp)"
      ],
      "metadata": {
        "id": "RxXZ19YrbqkS"
      },
      "execution_count": null,
      "outputs": []
    },
    {
      "cell_type": "code",
      "source": [
        "preds_student_model_fin=np.argmax(preds_student_model,axis=1)"
      ],
      "metadata": {
        "id": "EPmXLNptbuzw"
      },
      "execution_count": null,
      "outputs": []
    },
    {
      "cell_type": "code",
      "source": [
        "from sklearn.metrics import confusion_matrix\n",
        "matrix_student = confusion_matrix(y_test_dt, preds_student_model_fin)\n",
        "matrix_student.diagonal()/matrix_student.sum(axis=1)"
      ],
      "metadata": {
        "colab": {
          "base_uri": "https://localhost:8080/"
        },
        "id": "l1zYX0AXby4T",
        "outputId": "da6efc47-6580-4fd4-d1e0-33e8f33dc592"
      },
      "execution_count": null,
      "outputs": [
        {
          "output_type": "execute_result",
          "data": {
            "text/plain": [
              "array([0.98837209, 0.24561404, 0.81818182, 0.71428571, 0.14814815])"
            ]
          },
          "metadata": {},
          "execution_count": 43
        }
      ]
    },
    {
      "cell_type": "code",
      "source": [
        "#y_sub_dt\n",
        "from sklearn.metrics import precision_score, recall_score\n",
        "f1_student = f1_score(y_test_dt, preds_student_model_fin, average=\"macro\")\n",
        "prec_student = precision_score(y_test_dt, preds_student_model_fin, average=\"macro\")\n",
        "recall_student = recall_score(y_test_dt, preds_student_model_fin, average=\"macro\")\n",
        "if VBS:\n",
        "    print(\"Precision: {}\".format(prec_student)) \n",
        "    print(\"Recall: {}\".format(recall_student))\n",
        "    print(\"F1 score: {}\".format(f1_student))\n",
        "\n",
        "    report_student = classification_report(y_test_dt, preds_student_model_fin, digits=6)\n",
        "    print(report_student)"
      ],
      "metadata": {
        "colab": {
          "base_uri": "https://localhost:8080/"
        },
        "id": "5RGh6zaRb3td",
        "outputId": "a6256994-5e66-4c7f-c4c9-14f9fae79537"
      },
      "execution_count": null,
      "outputs": [
        {
          "output_type": "stream",
          "name": "stdout",
          "text": [
            "Precision: 0.6405966815224049\n",
            "Recall: 0.5829203617453311\n",
            "F1 score: 0.5577721370270992\n",
            "              precision    recall  f1-score   support\n",
            "\n",
            "           0   0.826848  0.988372  0.900424       430\n",
            "           1   0.318182  0.245614  0.277228       114\n",
            "           2   0.823171  0.818182  0.820669       165\n",
            "           3   0.434783  0.714286  0.540541        14\n",
            "           4   0.800000  0.148148  0.250000        81\n",
            "\n",
            "    accuracy                       0.758706       804\n",
            "   macro avg   0.640597  0.582920  0.557772       804\n",
            "weighted avg   0.744437  0.758706  0.723898       804\n",
            "\n"
          ]
        }
      ]
    },
    {
      "cell_type": "markdown",
      "source": [
        "Trying out diff teachers and different students for perspective(the teacher who's epochs had been tuned)"
      ],
      "metadata": {
        "id": "2aX0eqzNFBWl"
      }
    },
    {
      "cell_type": "code",
      "source": [
        "final_teacher_model=model_b(verbose=VBS) #50 epochs teacher model"
      ],
      "metadata": {
        "colab": {
          "base_uri": "https://localhost:8080/"
        },
        "id": "gADEEmZxFLZH",
        "outputId": "92777012-a88d-411c-a4de-998542ed58d6"
      },
      "execution_count": null,
      "outputs": [
        {
          "output_type": "stream",
          "name": "stdout",
          "text": [
            "Model: \"model\"\n",
            "__________________________________________________________________________________________________\n",
            " Layer (type)                   Output Shape         Param #     Connected to                     \n",
            "==================================================================================================\n",
            " inLayer (InputLayer)           [(None, 3000, 1)]    0           []                               \n",
            "                                                                                                  \n",
            " fConv1 (Conv1D)                (None, 500, 64)      3264        ['inLayer[0][0]']                \n",
            "                                                                                                  \n",
            " cConv1 (Conv1D)                (None, 60, 32)       12832       ['inLayer[0][0]']                \n",
            "                                                                                                  \n",
            " fMaxP1 (MaxPooling1D)          (None, 62, 64)       0           ['fConv1[0][0]']                 \n",
            "                                                                                                  \n",
            " cMaxP1 (MaxPooling1D)          (None, 15, 32)       0           ['cConv1[0][0]']                 \n",
            "                                                                                                  \n",
            " fDrop1 (Dropout)               (None, 62, 64)       0           ['fMaxP1[0][0]']                 \n",
            "                                                                                                  \n",
            " cDrop1 (Dropout)               (None, 15, 32)       0           ['cMaxP1[0][0]']                 \n",
            "                                                                                                  \n",
            " fConv2 (Conv1D)                (None, 62, 128)      65664       ['fDrop1[0][0]']                 \n",
            "                                                                                                  \n",
            " cConv2 (Conv1D)                (None, 15, 128)      24704       ['cDrop1[0][0]']                 \n",
            "                                                                                                  \n",
            " fConv3 (Conv1D)                (None, 62, 128)      131200      ['fConv2[0][0]']                 \n",
            "                                                                                                  \n",
            " cConv3 (Conv1D)                (None, 15, 128)      98432       ['cConv2[0][0]']                 \n",
            "                                                                                                  \n",
            " fConv4 (Conv1D)                (None, 62, 128)      131200      ['fConv3[0][0]']                 \n",
            "                                                                                                  \n",
            " cConv4 (Conv1D)                (None, 15, 128)      98432       ['cConv3[0][0]']                 \n",
            "                                                                                                  \n",
            " fMaxP2 (MaxPooling1D)          (None, 15, 128)      0           ['fConv4[0][0]']                 \n",
            "                                                                                                  \n",
            " cMaxP2 (MaxPooling1D)          (None, 7, 128)       0           ['cConv4[0][0]']                 \n",
            "                                                                                                  \n",
            " fFlat1 (Flatten)               (None, 1920)         0           ['fMaxP2[0][0]']                 \n",
            "                                                                                                  \n",
            " cFlat1 (Flatten)               (None, 896)          0           ['cMaxP2[0][0]']                 \n",
            "                                                                                                  \n",
            " merge_1 (Concatenate)          (None, 2816)         0           ['fFlat1[0][0]',                 \n",
            "                                                                  'cFlat1[0][0]']                 \n",
            "                                                                                                  \n",
            " mDrop1 (Dropout)               (None, 2816)         0           ['merge_1[0][0]']                \n",
            "                                                                                                  \n",
            " reshape1 (Reshape)             (None, 1, 2816)      0           ['mDrop1[0][0]']                 \n",
            "                                                                                                  \n",
            " lstm (LSTM)                    (None, 1, 64)        737536      ['reshape1[0][0]']               \n",
            "                                                                                                  \n",
            " lstm_1 (LSTM)                  (None, 64)           33024       ['lstm[0][0]']                   \n",
            "                                                                                                  \n",
            " outLayer (Dense)               (None, 5)            325         ['lstm_1[0][0]']                 \n",
            "                                                                                                  \n",
            "==================================================================================================\n",
            "Total params: 1,336,613\n",
            "Trainable params: 1,336,613\n",
            "Non-trainable params: 0\n",
            "__________________________________________________________________________________________________\n"
          ]
        }
      ]
    },
    {
      "cell_type": "code",
      "source": [
        "final_teacher_model.compile(optimizer=optimizer, loss='categorical_crossentropy', metrics=['accuracy'])"
      ],
      "metadata": {
        "id": "_CVkTD8hEudK"
      },
      "execution_count": null,
      "outputs": []
    },
    {
      "cell_type": "code",
      "source": [
        "final_teacher_model.fit(x_dt_rshp, y_dt_, epochs=50)"
      ],
      "metadata": {
        "id": "VpWFvoIZFMTF",
        "colab": {
          "base_uri": "https://localhost:8080/"
        },
        "outputId": "2b0276e0-9172-4ed5-d3d0-e54254ae6be9"
      },
      "execution_count": null,
      "outputs": [
        {
          "output_type": "stream",
          "name": "stdout",
          "text": [
            "Epoch 1/50\n",
            "3748/3748 [==============================] - 44s 8ms/step - loss: 0.6513 - accuracy: 0.7382\n",
            "Epoch 2/50\n",
            "3748/3748 [==============================] - 29s 8ms/step - loss: 0.3793 - accuracy: 0.8509\n",
            "Epoch 3/50\n",
            "3748/3748 [==============================] - 29s 8ms/step - loss: 0.3190 - accuracy: 0.8737\n",
            "Epoch 4/50\n",
            "3748/3748 [==============================] - 29s 8ms/step - loss: 0.2784 - accuracy: 0.8908\n",
            "Epoch 5/50\n",
            "3748/3748 [==============================] - 29s 8ms/step - loss: 0.2489 - accuracy: 0.9023\n",
            "Epoch 6/50\n",
            "3748/3748 [==============================] - 28s 8ms/step - loss: 0.2252 - accuracy: 0.9107\n",
            "Epoch 7/50\n",
            "3748/3748 [==============================] - 28s 8ms/step - loss: 0.2080 - accuracy: 0.9176\n",
            "Epoch 8/50\n",
            "3748/3748 [==============================] - 28s 8ms/step - loss: 0.1955 - accuracy: 0.9222\n",
            "Epoch 9/50\n",
            "3748/3748 [==============================] - 29s 8ms/step - loss: 0.1863 - accuracy: 0.9258\n",
            "Epoch 10/50\n",
            "3748/3748 [==============================] - 29s 8ms/step - loss: 0.1765 - accuracy: 0.9297\n",
            "Epoch 11/50\n",
            "3748/3748 [==============================] - 29s 8ms/step - loss: 0.1696 - accuracy: 0.9325\n",
            "Epoch 12/50\n",
            "3748/3748 [==============================] - 29s 8ms/step - loss: 0.1632 - accuracy: 0.9344\n",
            "Epoch 13/50\n",
            "3748/3748 [==============================] - 29s 8ms/step - loss: 0.1576 - accuracy: 0.9378\n",
            "Epoch 14/50\n",
            "3748/3748 [==============================] - 29s 8ms/step - loss: 0.1530 - accuracy: 0.9396\n",
            "Epoch 15/50\n",
            "3748/3748 [==============================] - 29s 8ms/step - loss: 0.1470 - accuracy: 0.9418\n",
            "Epoch 16/50\n",
            "3748/3748 [==============================] - 28s 8ms/step - loss: 0.1452 - accuracy: 0.9423\n",
            "Epoch 17/50\n",
            "3748/3748 [==============================] - 29s 8ms/step - loss: 0.1403 - accuracy: 0.9450\n",
            "Epoch 18/50\n",
            "3748/3748 [==============================] - 29s 8ms/step - loss: 0.1364 - accuracy: 0.9458\n",
            "Epoch 19/50\n",
            "3748/3748 [==============================] - 29s 8ms/step - loss: 0.1337 - accuracy: 0.9468\n",
            "Epoch 20/50\n",
            "3748/3748 [==============================] - 29s 8ms/step - loss: 0.1303 - accuracy: 0.9484\n",
            "Epoch 21/50\n",
            "3748/3748 [==============================] - 29s 8ms/step - loss: 0.1272 - accuracy: 0.9500\n",
            "Epoch 22/50\n",
            "3748/3748 [==============================] - 29s 8ms/step - loss: 0.1232 - accuracy: 0.9514\n",
            "Epoch 23/50\n",
            "3748/3748 [==============================] - 29s 8ms/step - loss: 0.1208 - accuracy: 0.9526\n",
            "Epoch 24/50\n",
            "3748/3748 [==============================] - 29s 8ms/step - loss: 0.1205 - accuracy: 0.9522\n",
            "Epoch 25/50\n",
            "3748/3748 [==============================] - 29s 8ms/step - loss: 0.1159 - accuracy: 0.9542\n",
            "Epoch 26/50\n",
            "3748/3748 [==============================] - 29s 8ms/step - loss: 0.1127 - accuracy: 0.9553\n",
            "Epoch 27/50\n",
            "3748/3748 [==============================] - 29s 8ms/step - loss: 0.1120 - accuracy: 0.9562\n",
            "Epoch 28/50\n",
            "3748/3748 [==============================] - 29s 8ms/step - loss: 0.1092 - accuracy: 0.9569\n",
            "Epoch 29/50\n",
            "3748/3748 [==============================] - 29s 8ms/step - loss: 0.1075 - accuracy: 0.9583\n",
            "Epoch 30/50\n",
            "3748/3748 [==============================] - 29s 8ms/step - loss: 0.1043 - accuracy: 0.9594\n",
            "Epoch 31/50\n",
            "3748/3748 [==============================] - 29s 8ms/step - loss: 0.1025 - accuracy: 0.9594\n",
            "Epoch 32/50\n",
            "3748/3748 [==============================] - 29s 8ms/step - loss: 0.1017 - accuracy: 0.9604\n",
            "Epoch 33/50\n",
            "3748/3748 [==============================] - 29s 8ms/step - loss: 0.0994 - accuracy: 0.9612\n",
            "Epoch 34/50\n",
            "3748/3748 [==============================] - 29s 8ms/step - loss: 0.0976 - accuracy: 0.9617\n",
            "Epoch 35/50\n",
            "3748/3748 [==============================] - 29s 8ms/step - loss: 0.0961 - accuracy: 0.9626\n",
            "Epoch 36/50\n",
            "3748/3748 [==============================] - 28s 8ms/step - loss: 0.0930 - accuracy: 0.9643\n",
            "Epoch 37/50\n",
            "3748/3748 [==============================] - 28s 8ms/step - loss: 0.0928 - accuracy: 0.9643\n",
            "Epoch 38/50\n",
            "3748/3748 [==============================] - 28s 8ms/step - loss: 0.0917 - accuracy: 0.9647\n",
            "Epoch 39/50\n",
            "3748/3748 [==============================] - 28s 8ms/step - loss: 0.0884 - accuracy: 0.9654\n",
            "Epoch 40/50\n",
            "3748/3748 [==============================] - 28s 8ms/step - loss: 0.0864 - accuracy: 0.9667\n",
            "Epoch 41/50\n",
            "3748/3748 [==============================] - 28s 8ms/step - loss: 0.0884 - accuracy: 0.9659\n",
            "Epoch 42/50\n",
            "3748/3748 [==============================] - 29s 8ms/step - loss: 0.0861 - accuracy: 0.9670\n",
            "Epoch 43/50\n",
            "3748/3748 [==============================] - 28s 8ms/step - loss: 0.0833 - accuracy: 0.9682\n",
            "Epoch 44/50\n",
            "3748/3748 [==============================] - 28s 8ms/step - loss: 0.0826 - accuracy: 0.9680\n",
            "Epoch 45/50\n",
            "3748/3748 [==============================] - 29s 8ms/step - loss: 0.0822 - accuracy: 0.9686\n",
            "Epoch 46/50\n",
            "3748/3748 [==============================] - 29s 8ms/step - loss: 0.0792 - accuracy: 0.9695\n",
            "Epoch 47/50\n",
            "3748/3748 [==============================] - 28s 8ms/step - loss: 0.0792 - accuracy: 0.9698\n",
            "Epoch 48/50\n",
            "3748/3748 [==============================] - 29s 8ms/step - loss: 0.0761 - accuracy: 0.9707\n",
            "Epoch 49/50\n",
            "3748/3748 [==============================] - 29s 8ms/step - loss: 0.0752 - accuracy: 0.9707\n",
            "Epoch 50/50\n",
            "3748/3748 [==============================] - 29s 8ms/step - loss: 0.0763 - accuracy: 0.9710\n"
          ]
        },
        {
          "output_type": "execute_result",
          "data": {
            "text/plain": [
              "<keras.callbacks.History at 0x7fdc02ab5c90>"
            ]
          },
          "metadata": {},
          "execution_count": 35
        }
      ]
    },
    {
      "cell_type": "code",
      "source": [
        "accuracy_final_teacher_model = final_teacher_model.evaluate(x_test_dt_rshp, y_test_dt_)"
      ],
      "metadata": {
        "colab": {
          "base_uri": "https://localhost:8080/"
        },
        "id": "1iczdw17FMVR",
        "outputId": "7543493d-8a64-448a-9d33-8d264a8b862b"
      },
      "execution_count": null,
      "outputs": [
        {
          "output_type": "stream",
          "name": "stdout",
          "text": [
            "26/26 [==============================] - 1s 7ms/step - loss: 1.0987 - accuracy: 0.7848\n"
          ]
        }
      ]
    },
    {
      "cell_type": "code",
      "source": [
        "preds_final_teacher_model = final_teacher_model.predict(x_test_dt_rshp)"
      ],
      "metadata": {
        "id": "EyUnPBDRFMXx"
      },
      "execution_count": null,
      "outputs": []
    },
    {
      "cell_type": "code",
      "source": [
        "preds_final_teacher_model_fin=np.argmax(preds_final_teacher_model,axis=1)"
      ],
      "metadata": {
        "id": "i7KTAotNFMaL"
      },
      "execution_count": null,
      "outputs": []
    },
    {
      "cell_type": "code",
      "source": [
        "from sklearn.metrics import confusion_matrix\n",
        "matrix_final_teacher = confusion_matrix(y_test_dt, preds_final_teacher_model_fin)\n",
        "matrix_final_teacher.diagonal()/matrix_final_teacher.sum(axis=1)"
      ],
      "metadata": {
        "colab": {
          "base_uri": "https://localhost:8080/"
        },
        "id": "w8PqYxGCFMcc",
        "outputId": "2a1f4176-177c-437b-8901-5b50c8899325"
      },
      "execution_count": null,
      "outputs": [
        {
          "output_type": "execute_result",
          "data": {
            "text/plain": [
              "array([0.93488372, 0.40350877, 0.83030303, 0.92857143, 0.40740741])"
            ]
          },
          "metadata": {},
          "execution_count": 39
        }
      ]
    },
    {
      "cell_type": "code",
      "source": [
        "matrix_final_teacher"
      ],
      "metadata": {
        "colab": {
          "base_uri": "https://localhost:8080/"
        },
        "id": "faVsb9h2Qrs2",
        "outputId": "5c39ae52-8bab-43a5-fbc1-97da125b4bbb"
      },
      "execution_count": null,
      "outputs": [
        {
          "output_type": "execute_result",
          "data": {
            "text/plain": [
              "array([[402,  25,   1,   0,   2],\n",
              "       [ 46,  46,  18,   0,   4],\n",
              "       [  0,  17, 137,   8,   3],\n",
              "       [  0,   0,   1,  13,   0],\n",
              "       [  7,  34,   7,   0,  33]])"
            ]
          },
          "metadata": {},
          "execution_count": 40
        }
      ]
    },
    {
      "cell_type": "code",
      "source": [
        "#y_sub_dt\n",
        "from sklearn.metrics import precision_score, recall_score\n",
        "f1_final_teacher = f1_score(y_test_dt, preds_final_teacher_model_fin, average=\"macro\")\n",
        "prec_final_teacher = precision_score(y_test_dt, preds_final_teacher_model_fin, average=\"macro\")\n",
        "recall_final_teacher = recall_score(y_test_dt, preds_final_teacher_model_fin, average=\"macro\")\n",
        "if VBS:\n",
        "    print(\"Precision: {}\".format(prec_final_teacher)) \n",
        "    print(\"Recall: {}\".format(recall_final_teacher))\n",
        "    print(\"F1 score: {}\".format(f1_final_teacher))\n",
        "\n",
        "    report_final_teacher = classification_report(y_test_dt, preds_final_teacher_model_fin, digits=6)\n",
        "    print(report_final_teacher)"
      ],
      "metadata": {
        "colab": {
          "base_uri": "https://localhost:8080/"
        },
        "id": "Asghk6ddFMe5",
        "outputId": "deeea982-ce2d-47b4-8923-311e8f4c805b"
      },
      "execution_count": null,
      "outputs": [
        {
          "output_type": "stream",
          "name": "stdout",
          "text": [
            "Precision: 0.7001386844529587\n",
            "Recall: 0.7009348718283848\n",
            "F1 score: 0.6821148682353858\n",
            "              precision    recall  f1-score   support\n",
            "\n",
            "           0   0.883516  0.934884  0.908475       430\n",
            "           1   0.377049  0.403509  0.389831       114\n",
            "           2   0.835366  0.830303  0.832827       165\n",
            "           3   0.619048  0.928571  0.742857        14\n",
            "           4   0.785714  0.407407  0.536585        81\n",
            "\n",
            "    accuracy                       0.784826       804\n",
            "   macro avg   0.700139  0.700935  0.682115       804\n",
            "weighted avg   0.787364  0.784826  0.779060       804\n",
            "\n"
          ]
        }
      ]
    },
    {
      "cell_type": "code",
      "source": [
        "#student model\n",
        "def get_model_1d_cnn():\n",
        "    nclass = 5\n",
        "    inp = Input(shape=(3000, 1))\n",
        "    img_1 = Conv1D(4, kernel_size=6, activation=activations.relu, strides=1, padding=\"valid\")(inp)\n",
        "    #img_1 = Conv1D(128, kernel_size=5, activation=activations.relu, strides=1, padding=\"valid\")(img_1)\n",
        "    img_1 = MaxPooling1D(pool_size=2)(img_1)\n",
        "    #img_1 = SpatialDropout1D(rate=0.2)(img_1)\n",
        "    img_1 = Conv1D(4, kernel_size=5, activation=activations.relu, strides=1, padding=\"valid\")(img_1)\n",
        "    #img_1 = Conv1D(256, kernel_size=7, activation=activations.relu, strides=1, padding=\"valid\")(img_1)\n",
        "    img_1 = MaxPooling1D(pool_size=2)(img_1)\n",
        "    #img_1 = SpatialDropout1D(rate=0.01)(img_1)\n",
        "    img_1 = Conv1D(10, kernel_size=4, activation=activations.relu, strides=1, padding=\"valid\")(img_1)\n",
        "    #img_1 = Conv1D(64, kernel_size=4, activation=activations.relu, strides=1, padding=\"valid\")(img_1)\n",
        "    img_1 = MaxPooling1D(pool_size=2)(img_1)\n",
        "    #img_1 = SpatialDropout1D(rate=0.01)(img_1)\n",
        "    img_1 = Conv1D(10, kernel_size=4, activation=activations.relu, strides=1, padding=\"valid\")(img_1)\n",
        "    img_1 = MaxPooling1D(pool_size=2)(img_1)\n",
        "    #img_1 = Conv1D(64, kernel_size=6, activation=activations.relu, strides=1, padding=\"valid\")(img_1)\n",
        "    #img_1 = MaxPooling1D(pool_size=2)(img_1)\n",
        "    img_1 = Flatten()(img_1)\n",
        "\n",
        "    \n",
        "    dense_1 = Dropout(rate=0.5)(img_1)\n",
        "    #dense_1 = Dropout(rate=0.05)(Dense(64, activation=activations.relu, name=\"dense_2\")(dense_1))\n",
        "    dense_1 = Dense(nclass, activation=activations.softmax)(dense_1)\n",
        "\n",
        "    model = Model(inputs=inp, outputs=dense_1)\n",
        "    opt = Adam(0.001)\n",
        "\n",
        "    model.compile(optimizer=opt, loss='categorical_crossentropy', metrics=['acc'])\n",
        "    model.summary()\n",
        "    return model"
      ],
      "metadata": {
        "id": "tR_i6PisHAo-"
      },
      "execution_count": null,
      "outputs": []
    },
    {
      "cell_type": "code",
      "source": [
        "from keras.layers import Input, Dense, LSTM, MaxPooling1D, Conv1D\n",
        "from keras.models import Model"
      ],
      "metadata": {
        "id": "JmWlQu3IlSWL"
      },
      "execution_count": null,
      "outputs": []
    },
    {
      "cell_type": "code",
      "source": [
        "#student_model=get_model_cnn()\n",
        "final_student_model=get_model_1d_cnn()"
      ],
      "metadata": {
        "colab": {
          "base_uri": "https://localhost:8080/"
        },
        "id": "xrBUV0XsHArH",
        "outputId": "fc5d7e24-2e96-4819-b712-8c9438baf7bd"
      },
      "execution_count": null,
      "outputs": [
        {
          "output_type": "stream",
          "name": "stdout",
          "text": [
            "Model: \"model_1\"\n",
            "_________________________________________________________________\n",
            " Layer (type)                Output Shape              Param #   \n",
            "=================================================================\n",
            " input_1 (InputLayer)        [(None, 3000, 1)]         0         \n",
            "                                                                 \n",
            " conv1d (Conv1D)             (None, 2995, 4)           28        \n",
            "                                                                 \n",
            " max_pooling1d (MaxPooling1D  (None, 1497, 4)          0         \n",
            " )                                                               \n",
            "                                                                 \n",
            " conv1d_1 (Conv1D)           (None, 1493, 4)           84        \n",
            "                                                                 \n",
            " max_pooling1d_1 (MaxPooling  (None, 746, 4)           0         \n",
            " 1D)                                                             \n",
            "                                                                 \n",
            " conv1d_2 (Conv1D)           (None, 743, 10)           170       \n",
            "                                                                 \n",
            " max_pooling1d_2 (MaxPooling  (None, 371, 10)          0         \n",
            " 1D)                                                             \n",
            "                                                                 \n",
            " conv1d_3 (Conv1D)           (None, 368, 10)           410       \n",
            "                                                                 \n",
            " max_pooling1d_3 (MaxPooling  (None, 184, 10)          0         \n",
            " 1D)                                                             \n",
            "                                                                 \n",
            " flatten (Flatten)           (None, 1840)              0         \n",
            "                                                                 \n",
            " dropout (Dropout)           (None, 1840)              0         \n",
            "                                                                 \n",
            " dense (Dense)               (None, 5)                 9205      \n",
            "                                                                 \n",
            "=================================================================\n",
            "Total params: 9,897\n",
            "Trainable params: 9,897\n",
            "Non-trainable params: 0\n",
            "_________________________________________________________________\n"
          ]
        }
      ]
    },
    {
      "cell_type": "code",
      "source": [
        "class Distiller(keras.Model):\n",
        "    def __init__(self, student, teacher):\n",
        "        super(Distiller, self).__init__()\n",
        "        self.teacher = teacher\n",
        "        self.student = student\n",
        "\n",
        "    def compile(\n",
        "        self,\n",
        "        optimizer,\n",
        "        metrics,\n",
        "        student_loss_fn,\n",
        "        distillation_loss_fn,\n",
        "        alpha=0.1,\n",
        "        temperature=3,\n",
        "    ):\n",
        "        \"\"\" Configure the distiller.\n",
        "\n",
        "        Args:\n",
        "            optimizer: Keras optimizer for the student weights\n",
        "            metrics: Keras metrics for evaluation\n",
        "            student_loss_fn: Loss function of difference between student\n",
        "                predictions and ground-truth\n",
        "            distillation_loss_fn: Loss function of difference between soft\n",
        "                student predictions and soft teacher predictions\n",
        "            alpha: weight to student_loss_fn and 1-alpha to distillation_loss_fn\n",
        "            temperature: Temperature for softening probability distributions.\n",
        "                Larger temperature gives softer distributions.\n",
        "        \"\"\"\n",
        "        super(Distiller, self).compile(optimizer=optimizer, metrics=metrics)\n",
        "        self.student_loss_fn = student_loss_fn\n",
        "        self.distillation_loss_fn = distillation_loss_fn\n",
        "        self.alpha = alpha\n",
        "        self.temperature = temperature\n",
        "\n",
        "    def train_step(self, data):\n",
        "        # Unpack data\n",
        "        x, y = data\n",
        "\n",
        "        # Forward pass of teacher\n",
        "        teacher_predictions = self.teacher(x, training=False)\n",
        "\n",
        "        with tf.GradientTape() as tape:\n",
        "            # Forward pass of student\n",
        "            student_predictions = self.student(x, training=True)\n",
        "\n",
        "            # Compute losses\n",
        "            student_loss = self.student_loss_fn(y, student_predictions)\n",
        "            distillation_loss = self.distillation_loss_fn(\n",
        "                tf.nn.softmax(teacher_predictions / self.temperature, axis=1),\n",
        "                tf.nn.softmax(student_predictions / self.temperature, axis=1),\n",
        "            )\n",
        "            loss = self.alpha * student_loss + (1 - self.alpha) * distillation_loss\n",
        "\n",
        "        # Compute gradients\n",
        "        trainable_vars = self.student.trainable_variables\n",
        "        gradients = tape.gradient(loss, trainable_vars)\n",
        "\n",
        "        # Update weights\n",
        "        self.optimizer.apply_gradients(zip(gradients, trainable_vars))\n",
        "\n",
        "        # Update the metrics configured in `compile()`.\n",
        "        self.compiled_metrics.update_state(y, student_predictions)\n",
        "\n",
        "        # Return a dict of performance\n",
        "        results = {m.name: m.result() for m in self.metrics}\n",
        "        results.update(\n",
        "            {\"student_loss\": student_loss, \"distillation_loss\": distillation_loss}\n",
        "        )\n",
        "        return results\n",
        "\n",
        "    def test_step(self, data):\n",
        "        # Unpack the data\n",
        "        x, y = data\n",
        "\n",
        "        # Compute predictions\n",
        "        y_prediction = self.student(x, training=False)\n",
        "\n",
        "        # Calculate the loss\n",
        "        student_loss = self.student_loss_fn(y, y_prediction)\n",
        "\n",
        "        # Update the metrics.\n",
        "        self.compiled_metrics.update_state(y, y_prediction)\n",
        "\n",
        "        # Return a dict of performance\n",
        "        results = {m.name: m.result() for m in self.metrics}\n",
        "        results.update({\"student_loss\": student_loss})\n",
        "        return results\n"
      ],
      "metadata": {
        "id": "s4_pwRY6HAtX"
      },
      "execution_count": null,
      "outputs": []
    },
    {
      "cell_type": "code",
      "source": [
        "\n",
        "# Initialize and compile distiller\n",
        "distiller = Distiller(student=final_student_model, teacher=final_teacher_model)\n",
        "distiller.compile(\n",
        "    optimizer=keras.optimizers.Adam(),\n",
        "    metrics=[keras.metrics.CategoricalAccuracy()],\n",
        "    student_loss_fn=keras.losses.CategoricalCrossentropy(from_logits=True),\n",
        "    distillation_loss_fn=keras.losses.KLDivergence(),\n",
        "    alpha=0.5,\n",
        "    temperature=5,\n",
        ")\n",
        "\n",
        "# Distill teacher to student\n",
        "distiller.fit(x_dt_rshp, y_dt_, epochs=60)\n",
        "\n",
        "# Evaluate student on test dataset\n",
        "#distiller.evaluate(x_test, y_test)"
      ],
      "metadata": {
        "colab": {
          "base_uri": "https://localhost:8080/"
        },
        "id": "W3nigrxEHAwt",
        "outputId": "52b22b58-05c2-4a01-d474-c84d8e7c507d"
      },
      "execution_count": null,
      "outputs": [
        {
          "output_type": "stream",
          "name": "stdout",
          "text": [
            "Epoch 1/60\n",
            "3748/3748 [==============================] - 32s 8ms/step - categorical_accuracy: 0.6684 - student_loss: 0.8115 - distillation_loss: 0.0017\n",
            "Epoch 2/60\n",
            "3748/3748 [==============================] - 29s 8ms/step - categorical_accuracy: 0.7531 - student_loss: 0.5906 - distillation_loss: 0.0013\n",
            "Epoch 3/60\n",
            "3748/3748 [==============================] - 29s 8ms/step - categorical_accuracy: 0.7748 - student_loss: 0.5376 - distillation_loss: 0.0012\n",
            "Epoch 4/60\n",
            "3748/3748 [==============================] - 29s 8ms/step - categorical_accuracy: 0.7899 - student_loss: 0.5041 - distillation_loss: 0.0011\n",
            "Epoch 5/60\n",
            "3748/3748 [==============================] - 29s 8ms/step - categorical_accuracy: 0.7991 - student_loss: 0.4841 - distillation_loss: 0.0011\n",
            "Epoch 6/60\n",
            "3748/3748 [==============================] - 29s 8ms/step - categorical_accuracy: 0.8074 - student_loss: 0.4669 - distillation_loss: 0.0010\n",
            "Epoch 7/60\n",
            "3748/3748 [==============================] - 29s 8ms/step - categorical_accuracy: 0.8145 - student_loss: 0.4539 - distillation_loss: 9.8242e-04\n",
            "Epoch 8/60\n",
            "3748/3748 [==============================] - 30s 8ms/step - categorical_accuracy: 0.8192 - student_loss: 0.4375 - distillation_loss: 9.4636e-04\n",
            "Epoch 9/60\n",
            "3748/3748 [==============================] - 29s 8ms/step - categorical_accuracy: 0.8239 - student_loss: 0.4299 - distillation_loss: 9.2373e-04\n",
            "Epoch 10/60\n",
            "3748/3748 [==============================] - 29s 8ms/step - categorical_accuracy: 0.8307 - student_loss: 0.4162 - distillation_loss: 8.9011e-04\n",
            "Epoch 11/60\n",
            "3748/3748 [==============================] - 29s 8ms/step - categorical_accuracy: 0.8329 - student_loss: 0.4099 - distillation_loss: 8.7453e-04\n",
            "Epoch 12/60\n",
            "3748/3748 [==============================] - 29s 8ms/step - categorical_accuracy: 0.8385 - student_loss: 0.4016 - distillation_loss: 8.5015e-04\n",
            "Epoch 13/60\n",
            "3748/3748 [==============================] - 29s 8ms/step - categorical_accuracy: 0.8425 - student_loss: 0.3926 - distillation_loss: 8.2921e-04\n",
            "Epoch 14/60\n",
            "3748/3748 [==============================] - 30s 8ms/step - categorical_accuracy: 0.8438 - student_loss: 0.3888 - distillation_loss: 8.2195e-04\n",
            "Epoch 15/60\n",
            "3748/3748 [==============================] - 29s 8ms/step - categorical_accuracy: 0.8466 - student_loss: 0.3815 - distillation_loss: 8.0361e-04\n",
            "Epoch 16/60\n",
            "3748/3748 [==============================] - 30s 8ms/step - categorical_accuracy: 0.8508 - student_loss: 0.3769 - distillation_loss: 7.9505e-04\n",
            "Epoch 17/60\n",
            "3748/3748 [==============================] - 29s 8ms/step - categorical_accuracy: 0.8514 - student_loss: 0.3721 - distillation_loss: 7.8432e-04\n",
            "Epoch 18/60\n",
            "3748/3748 [==============================] - 29s 8ms/step - categorical_accuracy: 0.8543 - student_loss: 0.3672 - distillation_loss: 7.7276e-04\n",
            "Epoch 19/60\n",
            "3748/3748 [==============================] - 29s 8ms/step - categorical_accuracy: 0.8556 - student_loss: 0.3632 - distillation_loss: 7.6238e-04\n",
            "Epoch 20/60\n",
            "3748/3748 [==============================] - 29s 8ms/step - categorical_accuracy: 0.8555 - student_loss: 0.3617 - distillation_loss: 7.6303e-04\n",
            "Epoch 21/60\n",
            "3748/3748 [==============================] - 29s 8ms/step - categorical_accuracy: 0.8577 - student_loss: 0.3561 - distillation_loss: 7.5096e-04\n",
            "Epoch 22/60\n",
            "3748/3748 [==============================] - 29s 8ms/step - categorical_accuracy: 0.8591 - student_loss: 0.3557 - distillation_loss: 7.4674e-04\n",
            "Epoch 23/60\n",
            "3748/3748 [==============================] - 29s 8ms/step - categorical_accuracy: 0.8586 - student_loss: 0.3541 - distillation_loss: 7.4440e-04\n",
            "Epoch 24/60\n",
            "3748/3748 [==============================] - 29s 8ms/step - categorical_accuracy: 0.8598 - student_loss: 0.3525 - distillation_loss: 7.4053e-04\n",
            "Epoch 25/60\n",
            "3748/3748 [==============================] - 29s 8ms/step - categorical_accuracy: 0.8614 - student_loss: 0.3507 - distillation_loss: 7.3466e-04\n",
            "Epoch 26/60\n",
            "3748/3748 [==============================] - 29s 8ms/step - categorical_accuracy: 0.8601 - student_loss: 0.3527 - distillation_loss: 7.4192e-04\n",
            "Epoch 27/60\n",
            "3748/3748 [==============================] - 29s 8ms/step - categorical_accuracy: 0.8613 - student_loss: 0.3498 - distillation_loss: 7.3570e-04\n",
            "Epoch 28/60\n",
            "3748/3748 [==============================] - 29s 8ms/step - categorical_accuracy: 0.8625 - student_loss: 0.3462 - distillation_loss: 7.2689e-04\n",
            "Epoch 29/60\n",
            "3748/3748 [==============================] - 29s 8ms/step - categorical_accuracy: 0.8619 - student_loss: 0.3467 - distillation_loss: 7.2811e-04\n",
            "Epoch 30/60\n",
            "3748/3748 [==============================] - 29s 8ms/step - categorical_accuracy: 0.8627 - student_loss: 0.3456 - distillation_loss: 7.2559e-04\n",
            "Epoch 31/60\n",
            "3748/3748 [==============================] - 29s 8ms/step - categorical_accuracy: 0.8635 - student_loss: 0.3441 - distillation_loss: 7.2086e-04\n",
            "Epoch 32/60\n",
            "3748/3748 [==============================] - 29s 8ms/step - categorical_accuracy: 0.8634 - student_loss: 0.3441 - distillation_loss: 7.2402e-04\n",
            "Epoch 33/60\n",
            "3748/3748 [==============================] - 29s 8ms/step - categorical_accuracy: 0.8651 - student_loss: 0.3424 - distillation_loss: 7.1643e-04\n",
            "Epoch 34/60\n",
            "3748/3748 [==============================] - 29s 8ms/step - categorical_accuracy: 0.8642 - student_loss: 0.3414 - distillation_loss: 7.1769e-04\n",
            "Epoch 35/60\n",
            "3748/3748 [==============================] - 29s 8ms/step - categorical_accuracy: 0.8651 - student_loss: 0.3399 - distillation_loss: 7.1541e-04\n",
            "Epoch 36/60\n",
            "3748/3748 [==============================] - 29s 8ms/step - categorical_accuracy: 0.8646 - student_loss: 0.3416 - distillation_loss: 7.1729e-04\n",
            "Epoch 37/60\n",
            "3748/3748 [==============================] - 29s 8ms/step - categorical_accuracy: 0.8642 - student_loss: 0.3384 - distillation_loss: 7.1416e-04\n",
            "Epoch 38/60\n",
            "3748/3748 [==============================] - 29s 8ms/step - categorical_accuracy: 0.8658 - student_loss: 0.3386 - distillation_loss: 7.1045e-04\n",
            "Epoch 39/60\n",
            "3748/3748 [==============================] - 29s 8ms/step - categorical_accuracy: 0.8653 - student_loss: 0.3386 - distillation_loss: 7.1143e-04\n",
            "Epoch 40/60\n",
            "3748/3748 [==============================] - 29s 8ms/step - categorical_accuracy: 0.8670 - student_loss: 0.3355 - distillation_loss: 7.0508e-04\n",
            "Epoch 41/60\n",
            "3748/3748 [==============================] - 29s 8ms/step - categorical_accuracy: 0.8655 - student_loss: 0.3366 - distillation_loss: 7.1025e-04\n",
            "Epoch 42/60\n",
            "3748/3748 [==============================] - 28s 8ms/step - categorical_accuracy: 0.8675 - student_loss: 0.3364 - distillation_loss: 7.0705e-04\n",
            "Epoch 43/60\n",
            "3748/3748 [==============================] - 29s 8ms/step - categorical_accuracy: 0.8659 - student_loss: 0.3362 - distillation_loss: 7.0744e-04\n",
            "Epoch 44/60\n",
            "3748/3748 [==============================] - 29s 8ms/step - categorical_accuracy: 0.8680 - student_loss: 0.3353 - distillation_loss: 7.0471e-04\n",
            "Epoch 45/60\n",
            "3748/3748 [==============================] - 29s 8ms/step - categorical_accuracy: 0.8680 - student_loss: 0.3355 - distillation_loss: 7.0359e-04\n",
            "Epoch 46/60\n",
            "3748/3748 [==============================] - 29s 8ms/step - categorical_accuracy: 0.8672 - student_loss: 0.3357 - distillation_loss: 7.0352e-04\n",
            "Epoch 47/60\n",
            "3748/3748 [==============================] - 29s 8ms/step - categorical_accuracy: 0.8682 - student_loss: 0.3361 - distillation_loss: 7.0614e-04\n",
            "Epoch 48/60\n",
            "3748/3748 [==============================] - 29s 8ms/step - categorical_accuracy: 0.8676 - student_loss: 0.3351 - distillation_loss: 7.0340e-04\n",
            "Epoch 49/60\n",
            "3748/3748 [==============================] - 29s 8ms/step - categorical_accuracy: 0.8677 - student_loss: 0.3337 - distillation_loss: 7.0169e-04\n",
            "Epoch 50/60\n",
            "3748/3748 [==============================] - 29s 8ms/step - categorical_accuracy: 0.8679 - student_loss: 0.3341 - distillation_loss: 7.0080e-04\n",
            "Epoch 51/60\n",
            "3748/3748 [==============================] - 30s 8ms/step - categorical_accuracy: 0.8685 - student_loss: 0.3324 - distillation_loss: 6.9737e-04\n",
            "Epoch 52/60\n",
            "3748/3748 [==============================] - 29s 8ms/step - categorical_accuracy: 0.8685 - student_loss: 0.3344 - distillation_loss: 7.0247e-04\n",
            "Epoch 53/60\n",
            "3748/3748 [==============================] - 30s 8ms/step - categorical_accuracy: 0.8680 - student_loss: 0.3330 - distillation_loss: 7.0149e-04\n",
            "Epoch 54/60\n",
            "3748/3748 [==============================] - 29s 8ms/step - categorical_accuracy: 0.8682 - student_loss: 0.3318 - distillation_loss: 7.0077e-04\n",
            "Epoch 55/60\n",
            "3748/3748 [==============================] - 29s 8ms/step - categorical_accuracy: 0.8686 - student_loss: 0.3324 - distillation_loss: 7.0066e-04\n",
            "Epoch 56/60\n",
            "3748/3748 [==============================] - 29s 8ms/step - categorical_accuracy: 0.8698 - student_loss: 0.3289 - distillation_loss: 6.9320e-04\n",
            "Epoch 57/60\n",
            "3748/3748 [==============================] - 29s 8ms/step - categorical_accuracy: 0.8706 - student_loss: 0.3300 - distillation_loss: 6.9307e-04\n",
            "Epoch 58/60\n",
            "3748/3748 [==============================] - 29s 8ms/step - categorical_accuracy: 0.8703 - student_loss: 0.3306 - distillation_loss: 6.9479e-04\n",
            "Epoch 59/60\n",
            "3748/3748 [==============================] - 29s 8ms/step - categorical_accuracy: 0.8706 - student_loss: 0.3292 - distillation_loss: 6.9016e-04\n",
            "Epoch 60/60\n",
            "3748/3748 [==============================] - 28s 8ms/step - categorical_accuracy: 0.8698 - student_loss: 0.3316 - distillation_loss: 6.9463e-04\n"
          ]
        },
        {
          "output_type": "execute_result",
          "data": {
            "text/plain": [
              "<keras.callbacks.History at 0x7fdbfe91fe90>"
            ]
          },
          "metadata": {},
          "execution_count": 46
        }
      ]
    },
    {
      "cell_type": "code",
      "source": [
        "accuracy_distiller = distiller.evaluate(x_test_dt_rshp, y_test_dt_)"
      ],
      "metadata": {
        "colab": {
          "base_uri": "https://localhost:8080/"
        },
        "id": "rOQvc2eeHTIH",
        "outputId": "2addc6bf-2140-464b-f80c-23d2aa89d1ac"
      },
      "execution_count": null,
      "outputs": [
        {
          "output_type": "stream",
          "name": "stdout",
          "text": [
            "26/26 [==============================] - 0s 3ms/step - categorical_accuracy: 0.7649 - student_loss: 0.6609\n"
          ]
        }
      ]
    },
    {
      "cell_type": "code",
      "source": [
        "preds_final_student_model = final_student_model.predict(x_test_dt_rshp)"
      ],
      "metadata": {
        "id": "z81oxkEMHTOP"
      },
      "execution_count": null,
      "outputs": []
    },
    {
      "cell_type": "code",
      "source": [
        "preds_final_student_model_fin=np.argmax(preds_final_student_model,axis=1)"
      ],
      "metadata": {
        "id": "TJwxgD6eHTP6"
      },
      "execution_count": null,
      "outputs": []
    },
    {
      "cell_type": "code",
      "source": [
        "from sklearn.metrics import confusion_matrix\n",
        "matrix_final_student = confusion_matrix(y_test_dt, preds_final_student_model_fin)\n",
        "matrix_final_student.diagonal()/matrix_final_student.sum(axis=1)"
      ],
      "metadata": {
        "colab": {
          "base_uri": "https://localhost:8080/"
        },
        "id": "51ILJ5MeHTTX",
        "outputId": "b612f487-7cdb-413c-fe3b-bc0a23539d37"
      },
      "execution_count": null,
      "outputs": [
        {
          "output_type": "execute_result",
          "data": {
            "text/plain": [
              "array([0.98372093, 0.20175439, 0.87272727, 0.85714286, 0.16049383])"
            ]
          },
          "metadata": {},
          "execution_count": 50
        }
      ]
    },
    {
      "cell_type": "code",
      "source": [
        "#y_sub_dt\n",
        "from sklearn.metrics import precision_score, recall_score\n",
        "f1_final_student = f1_score(y_test_dt, preds_final_student_model_fin, average=\"macro\")\n",
        "prec_final_student = precision_score(y_test_dt, preds_final_student_model_fin, average=\"macro\")\n",
        "recall_final_student = recall_score(y_test_dt, preds_final_student_model_fin, average=\"macro\")\n",
        "if VBS:\n",
        "    print(\"Precision: {}\".format(prec_final_student)) \n",
        "    print(\"Recall: {}\".format(recall_final_student))\n",
        "    print(\"F1 score: {}\".format(f1_final_student))\n",
        "\n",
        "    report_final_student = classification_report(y_test_dt, preds_final_student_model_fin, digits=6)\n",
        "    print(report_final_student)"
      ],
      "metadata": {
        "colab": {
          "base_uri": "https://localhost:8080/"
        },
        "id": "sr79xCllIPNL",
        "outputId": "9f27dd5e-4f42-49ba-8404-43be1380f9f3"
      },
      "execution_count": null,
      "outputs": [
        {
          "output_type": "stream",
          "name": "stdout",
          "text": [
            "Precision: 0.6121232401030657\n",
            "Recall: 0.6151678546456189\n",
            "F1 score: 0.5617798820426989\n",
            "              precision    recall  f1-score   support\n",
            "\n",
            "           0   0.834320  0.983721  0.902882       430\n",
            "           1   0.389831  0.201754  0.265896       114\n",
            "           2   0.757895  0.872727  0.811268       165\n",
            "           3   0.428571  0.857143  0.571429        14\n",
            "           4   0.650000  0.160494  0.257426        81\n",
            "\n",
            "    accuracy                       0.764925       804\n",
            "   macro avg   0.612123  0.615168  0.561780       804\n",
            "weighted avg   0.729976  0.764925  0.722962       804\n",
            "\n"
          ]
        }
      ]
    },
    {
      "cell_type": "code",
      "source": [
        ""
      ],
      "metadata": {
        "id": "so-VL_y8ewJV"
      },
      "execution_count": null,
      "outputs": []
    }
  ]
}