{
  "cells": [
    {
      "cell_type": "code",
      "execution_count": null,
      "metadata": {
        "id": "5x4piNxH33bN"
      },
      "outputs": [],
      "source": [
        "import numpy as np\n",
        "import pandas as pd\n",
        "from sklearn.model_selection import train_test_split\n",
        "\n",
        "from numpy import mean\n",
        "from numpy import std\n",
        "from matplotlib import pyplot\n",
        "from sklearn.metrics import accuracy_score,confusion_matrix,classification_report\n",
        "from sklearn.preprocessing import QuantileTransformer\n",
        "from sklearn.pipeline import Pipeline\n",
        "\n",
        "from keras.utils import np_utils"
      ]
    },
    {
      "cell_type": "code",
      "execution_count": null,
      "metadata": {
        "id": "nyCJimDl355j"
      },
      "outputs": [],
      "source": [
        "from pydrive.auth import GoogleAuth\n",
        "from pydrive.drive import GoogleDrive\n",
        "from google.colab import auth\n",
        "from oauth2client.client import GoogleCredentials"
      ]
    },
    {
      "cell_type": "code",
      "execution_count": null,
      "metadata": {
        "id": "XntcKmlZ357K"
      },
      "outputs": [],
      "source": [
        "auth.authenticate_user()\n",
        "gauth = GoogleAuth()\n",
        "gauth.credentials = GoogleCredentials.get_application_default()\n",
        "drive = GoogleDrive(gauth)"
      ]
    },
    {
      "cell_type": "code",
      "execution_count": null,
      "metadata": {
        "colab": {
          "base_uri": "https://localhost:8080/"
        },
        "id": "ce7MYuQB35-K",
        "outputId": "525bc72d-499e-4a69-83e9-2d99c687db39"
      },
      "outputs": [
        {
          "output_type": "stream",
          "name": "stdout",
          "text": [
            "Mounted at /content/gdrive\n"
          ]
        }
      ],
      "source": [
        "#npz files can only be loaded using /gdrive path\n",
        "from google.colab import drive\n",
        "drive.mount('/content/gdrive')\n",
        "#%cd /gdrive"
      ]
    },
    {
      "cell_type": "code",
      "execution_count": null,
      "metadata": {
        "colab": {
          "base_uri": "https://localhost:8080/"
        },
        "id": "fs1odyfs36Ah",
        "outputId": "4bb666cd-6f9e-4dc8-cfde-dcecea160129"
      },
      "outputs": [
        {
          "output_type": "stream",
          "name": "stdout",
          "text": [
            "Looking in indexes: https://pypi.org/simple, https://us-python.pkg.dev/colab-wheels/public/simple/\n",
            "Collecting mne\n",
            "  Downloading mne-1.0.3-py3-none-any.whl (7.5 MB)\n",
            "\u001b[K     |████████████████████████████████| 7.5 MB 18.4 MB/s \n",
            "\u001b[?25hRequirement already satisfied: tqdm in /usr/local/lib/python3.7/dist-packages (from mne) (4.64.0)\n",
            "Requirement already satisfied: jinja2 in /usr/local/lib/python3.7/dist-packages (from mne) (2.11.3)\n",
            "Requirement already satisfied: scipy>=1.1.0 in /usr/local/lib/python3.7/dist-packages (from mne) (1.4.1)\n",
            "Requirement already satisfied: decorator in /usr/local/lib/python3.7/dist-packages (from mne) (4.4.2)\n",
            "Requirement already satisfied: numpy>=1.15.4 in /usr/local/lib/python3.7/dist-packages (from mne) (1.21.6)\n",
            "Requirement already satisfied: matplotlib in /usr/local/lib/python3.7/dist-packages (from mne) (3.2.2)\n",
            "Requirement already satisfied: packaging in /usr/local/lib/python3.7/dist-packages (from mne) (21.3)\n",
            "Requirement already satisfied: pooch>=1.5 in /usr/local/lib/python3.7/dist-packages (from mne) (1.6.0)\n",
            "Requirement already satisfied: requests>=2.19.0 in /usr/local/lib/python3.7/dist-packages (from pooch>=1.5->mne) (2.23.0)\n",
            "Requirement already satisfied: appdirs>=1.3.0 in /usr/local/lib/python3.7/dist-packages (from pooch>=1.5->mne) (1.4.4)\n",
            "Requirement already satisfied: pyparsing!=3.0.5,>=2.0.2 in /usr/local/lib/python3.7/dist-packages (from packaging->mne) (3.0.9)\n",
            "Requirement already satisfied: idna<3,>=2.5 in /usr/local/lib/python3.7/dist-packages (from requests>=2.19.0->pooch>=1.5->mne) (2.10)\n",
            "Requirement already satisfied: urllib3!=1.25.0,!=1.25.1,<1.26,>=1.21.1 in /usr/local/lib/python3.7/dist-packages (from requests>=2.19.0->pooch>=1.5->mne) (1.24.3)\n",
            "Requirement already satisfied: certifi>=2017.4.17 in /usr/local/lib/python3.7/dist-packages (from requests>=2.19.0->pooch>=1.5->mne) (2022.6.15)\n",
            "Requirement already satisfied: chardet<4,>=3.0.2 in /usr/local/lib/python3.7/dist-packages (from requests>=2.19.0->pooch>=1.5->mne) (3.0.4)\n",
            "Requirement already satisfied: MarkupSafe>=0.23 in /usr/local/lib/python3.7/dist-packages (from jinja2->mne) (2.0.1)\n",
            "Requirement already satisfied: cycler>=0.10 in /usr/local/lib/python3.7/dist-packages (from matplotlib->mne) (0.11.0)\n",
            "Requirement already satisfied: kiwisolver>=1.0.1 in /usr/local/lib/python3.7/dist-packages (from matplotlib->mne) (1.4.3)\n",
            "Requirement already satisfied: python-dateutil>=2.1 in /usr/local/lib/python3.7/dist-packages (from matplotlib->mne) (2.8.2)\n",
            "Requirement already satisfied: typing-extensions in /usr/local/lib/python3.7/dist-packages (from kiwisolver>=1.0.1->matplotlib->mne) (4.1.1)\n",
            "Requirement already satisfied: six>=1.5 in /usr/local/lib/python3.7/dist-packages (from python-dateutil>=2.1->matplotlib->mne) (1.15.0)\n",
            "Installing collected packages: mne\n",
            "Successfully installed mne-1.0.3\n"
          ]
        }
      ],
      "source": [
        "!pip install mne"
      ]
    },
    {
      "cell_type": "code",
      "execution_count": null,
      "metadata": {
        "id": "Kkzv2rHY36DF"
      },
      "outputs": [],
      "source": [
        "%matplotlib inline\n",
        "\n",
        "import glob\n",
        "import math\n",
        "import ntpath\n",
        "import random, os, sys\n",
        "import numpy as np\n",
        "import pandas as pd\n",
        "import tensorflow as tf\n",
        "import matplotlib.pyplot as plt\n",
        "import seaborn as sns\n",
        "#import edfreader\n",
        "#import models\n",
        "import mne\n",
        "#import pyeeg\n",
        "import warnings\n",
        "warnings.filterwarnings('ignore')\n",
        "\n",
        "from matplotlib.backends.backend_pdf import PdfPages\n",
        "from mne.datasets.sleep_physionet._utils import _fetch_one, _data_path, AGE_SLEEP_RECORDS, _check_subjects\n",
        "from datetime import datetime\n",
        "from mne import Epochs, pick_types, find_events\n",
        "from mne.io import concatenate_raws, read_raw_edf\n",
        "from mne.time_frequency import psd_welch\n",
        "from sklearn.ensemble import RandomForestClassifier\n",
        "from sklearn.metrics import classification_report\n",
        "\n",
        "from tqdm.notebook import tqdm\n",
        "from sklearn.model_selection import train_test_split\n",
        "from tensorflow import keras\n",
        "\n",
        "from tensorflow.keras.utils import to_categorical\n",
        "\n",
        "from tensorflow.keras.callbacks import ModelCheckpoint, ReduceLROnPlateau, CSVLogger\n",
        "import imblearn\n",
        "from imblearn.over_sampling import SMOTE\n",
        "from sklearn.svm import SVC\n",
        "import joblib\n",
        "\n",
        "from sklearn.metrics import make_scorer, f1_score, accuracy_score, classification_report, log_loss\n",
        "from sklearn.metrics import roc_auc_score, confusion_matrix, roc_auc_score, roc_curve\n",
        "\n",
        "from sklearn.tree import DecisionTreeClassifier\n",
        "from sklearn.neighbors import KNeighborsClassifier\n",
        "from sklearn.ensemble import RandomForestClassifier, AdaBoostClassifier, GradientBoostingClassifier\n",
        "from sklearn.naive_bayes import GaussianNB\n",
        "from sklearn.discriminant_analysis import LinearDiscriminantAnalysis\n",
        "from sklearn.discriminant_analysis import QuadraticDiscriminantAnalysis\n",
        "#from xgboost import XGBClassifier\n",
        "#import xgboost"
      ]
    },
    {
      "cell_type": "code",
      "execution_count": null,
      "metadata": {
        "id": "TEIQccek36FG"
      },
      "outputs": [],
      "source": [
        "VBS = True  # constant boolean to enable/disbale verbose\n",
        "EPOCH_SEC_SIZE = 30  # Epoch duration selection\n",
        "seed = 42  # seed value for the random seeds\n",
        "batch_size = 64\n",
        "number_of_files = 100 #100 npz files, 50 subjects, each suject has 2 nights, so 2 files per subject (50*2)=100\n",
        "\n",
        "# values to label the stages\n",
        "UNKNOWN = -1\n",
        "W = 0\n",
        "N1 = 1\n",
        "N2 = 2\n",
        "N3 = 3\n",
        "REM = 4\n",
        "\n",
        "# making string dictionary for the label values\n",
        "label_dict = {\n",
        "    \"UNKNOWN\"  : UNKNOWN,\n",
        "    \"W\"        : W,\n",
        "    \"N1\"       : N1,\n",
        "    \"N2\"       : N2,\n",
        "    \"N3\"       : N3,\n",
        "    \"REM\"      : REM\n",
        "}\n",
        "\n",
        "# converting from label values to strings \n",
        "class_dict = {\n",
        "    -1: \"UNKNOWN\",\n",
        "    0 : \"W\",\n",
        "    1 : \"N1\",\n",
        "    2 : \"N2\",\n",
        "    3 : \"N3\",\n",
        "    4 : \"REM\"\n",
        "}\n",
        "\n",
        "# annotation dictionary to convert from string to label values\n",
        "annot2label = {\n",
        "    \"Sleep stage ?\": -1,\n",
        "    \"Movement time\": -1,\n",
        "    \"Sleep stage W\": 0,\n",
        "    \"Sleep stage 1\": 1,\n",
        "    \"Sleep stage 2\": 2,\n",
        "    \"Sleep stage 3\": 3,\n",
        "    \"Sleep stage 4\": 3,\n",
        "    \"Sleep stage R\": 4\n",
        "}\n",
        "#project_path = os.path.abspath(os.getcwd())  # finding the current project path in windows"
      ]
    },
    {
      "cell_type": "code",
      "execution_count": null,
      "metadata": {
        "id": "BEUcTqqv36Ho"
      },
      "outputs": [],
      "source": [
        "from tensorflow.keras import optimizers, losses, activations, models\n",
        "from tensorflow.keras.models import Model, load_model\n",
        "from tensorflow.keras.layers import GlobalMaxPool1D, GlobalAveragePooling1D, concatenate, SpatialDropout1D, TimeDistributed, Bidirectional, LSTM\n",
        "from tensorflow.keras.layers import Input, Conv1D, Dense, Dropout, MaxPool1D, Activation\n",
        "from tensorflow.keras.layers import Reshape, LSTM, TimeDistributed, Bidirectional, BatchNormalization, Flatten, RepeatVector\n",
        "from tensorflow.keras.optimizers import Adam\n",
        "#from keras_contrib.layers import CRF\n",
        "\n",
        "from scipy.signal import butter, lfilter\n"
      ]
    },
    {
      "cell_type": "code",
      "execution_count": null,
      "metadata": {
        "id": "trPynizy36K6"
      },
      "outputs": [],
      "source": [
        "Fs = 100"
      ]
    },
    {
      "cell_type": "code",
      "execution_count": null,
      "metadata": {
        "id": "MQWrWneV36M3"
      },
      "outputs": [],
      "source": [
        "transfer_df=pd.read_csv('/content/gdrive/My Drive/physionet/ensemble/50_subs/transfer_set_50_subs.csv',header=None)"
      ]
    },
    {
      "cell_type": "code",
      "execution_count": null,
      "metadata": {
        "colab": {
          "base_uri": "https://localhost:8080/",
          "height": 488
        },
        "id": "K1NP10nG36PO",
        "outputId": "59253e52-b16f-489a-de1b-cbe02bfc73a2"
      },
      "outputs": [
        {
          "data": {
            "text/html": [
              "\n",
              "  <div id=\"df-291c7a14-4a86-42f7-9dba-a784c7d63219\">\n",
              "    <div class=\"colab-df-container\">\n",
              "      <div>\n",
              "<style scoped>\n",
              "    .dataframe tbody tr th:only-of-type {\n",
              "        vertical-align: middle;\n",
              "    }\n",
              "\n",
              "    .dataframe tbody tr th {\n",
              "        vertical-align: top;\n",
              "    }\n",
              "\n",
              "    .dataframe thead th {\n",
              "        text-align: right;\n",
              "    }\n",
              "</style>\n",
              "<table border=\"1\" class=\"dataframe\">\n",
              "  <thead>\n",
              "    <tr style=\"text-align: right;\">\n",
              "      <th></th>\n",
              "      <th>0</th>\n",
              "      <th>1</th>\n",
              "      <th>2</th>\n",
              "      <th>3</th>\n",
              "      <th>4</th>\n",
              "      <th>5</th>\n",
              "      <th>6</th>\n",
              "      <th>7</th>\n",
              "      <th>8</th>\n",
              "      <th>9</th>\n",
              "      <th>...</th>\n",
              "      <th>2991</th>\n",
              "      <th>2992</th>\n",
              "      <th>2993</th>\n",
              "      <th>2994</th>\n",
              "      <th>2995</th>\n",
              "      <th>2996</th>\n",
              "      <th>2997</th>\n",
              "      <th>2998</th>\n",
              "      <th>2999</th>\n",
              "      <th>3000</th>\n",
              "    </tr>\n",
              "  </thead>\n",
              "  <tbody>\n",
              "    <tr>\n",
              "      <th>0</th>\n",
              "      <td>0.068014</td>\n",
              "      <td>0.082915</td>\n",
              "      <td>0.077628</td>\n",
              "      <td>0.074744</td>\n",
              "      <td>0.060804</td>\n",
              "      <td>0.063688</td>\n",
              "      <td>0.050710</td>\n",
              "      <td>0.029561</td>\n",
              "      <td>0.010815</td>\n",
              "      <td>0.008412</td>\n",
              "      <td>...</td>\n",
              "      <td>-0.010334</td>\n",
              "      <td>-0.016102</td>\n",
              "      <td>-0.034368</td>\n",
              "      <td>-0.055998</td>\n",
              "      <td>-0.074263</td>\n",
              "      <td>-0.071860</td>\n",
              "      <td>-0.077147</td>\n",
              "      <td>-0.084838</td>\n",
              "      <td>-0.090125</td>\n",
              "      <td>4</td>\n",
              "    </tr>\n",
              "    <tr>\n",
              "      <th>1</th>\n",
              "      <td>0.104729</td>\n",
              "      <td>0.054513</td>\n",
              "      <td>-0.020131</td>\n",
              "      <td>-0.064918</td>\n",
              "      <td>-0.122825</td>\n",
              "      <td>-0.127801</td>\n",
              "      <td>-0.107443</td>\n",
              "      <td>-0.086633</td>\n",
              "      <td>-0.051799</td>\n",
              "      <td>-0.033251</td>\n",
              "      <td>...</td>\n",
              "      <td>-0.123729</td>\n",
              "      <td>-0.120563</td>\n",
              "      <td>-0.129158</td>\n",
              "      <td>-0.149968</td>\n",
              "      <td>-0.173945</td>\n",
              "      <td>-0.187064</td>\n",
              "      <td>-0.171231</td>\n",
              "      <td>-0.149516</td>\n",
              "      <td>-0.121467</td>\n",
              "      <td>3</td>\n",
              "    </tr>\n",
              "    <tr>\n",
              "      <th>2</th>\n",
              "      <td>0.002281</td>\n",
              "      <td>-0.031309</td>\n",
              "      <td>-0.007672</td>\n",
              "      <td>-0.020527</td>\n",
              "      <td>-0.003110</td>\n",
              "      <td>-0.011404</td>\n",
              "      <td>0.006013</td>\n",
              "      <td>-0.029236</td>\n",
              "      <td>-0.025089</td>\n",
              "      <td>-0.042091</td>\n",
              "      <td>...</td>\n",
              "      <td>0.088122</td>\n",
              "      <td>0.057850</td>\n",
              "      <td>0.027992</td>\n",
              "      <td>0.038359</td>\n",
              "      <td>0.040847</td>\n",
              "      <td>0.053703</td>\n",
              "      <td>0.072779</td>\n",
              "      <td>0.055362</td>\n",
              "      <td>0.029651</td>\n",
              "      <td>2</td>\n",
              "    </tr>\n",
              "    <tr>\n",
              "      <th>3</th>\n",
              "      <td>-0.025235</td>\n",
              "      <td>-0.037732</td>\n",
              "      <td>-0.033406</td>\n",
              "      <td>-0.031964</td>\n",
              "      <td>-0.034848</td>\n",
              "      <td>-0.041097</td>\n",
              "      <td>-0.031484</td>\n",
              "      <td>-0.025716</td>\n",
              "      <td>-0.019948</td>\n",
              "      <td>-0.030522</td>\n",
              "      <td>...</td>\n",
              "      <td>-0.015141</td>\n",
              "      <td>-0.013699</td>\n",
              "      <td>-0.018025</td>\n",
              "      <td>-0.020909</td>\n",
              "      <td>-0.021390</td>\n",
              "      <td>-0.002644</td>\n",
              "      <td>-0.020428</td>\n",
              "      <td>-0.025235</td>\n",
              "      <td>-0.024754</td>\n",
              "      <td>2</td>\n",
              "    </tr>\n",
              "    <tr>\n",
              "      <th>4</th>\n",
              "      <td>0.097914</td>\n",
              "      <td>-0.100520</td>\n",
              "      <td>-0.044574</td>\n",
              "      <td>-0.079540</td>\n",
              "      <td>-0.071235</td>\n",
              "      <td>-0.029713</td>\n",
              "      <td>-0.041951</td>\n",
              "      <td>0.000445</td>\n",
              "      <td>-0.031024</td>\n",
              "      <td>0.172217</td>\n",
              "      <td>...</td>\n",
              "      <td>0.167409</td>\n",
              "      <td>0.220732</td>\n",
              "      <td>0.191011</td>\n",
              "      <td>0.119767</td>\n",
              "      <td>0.165661</td>\n",
              "      <td>0.270996</td>\n",
              "      <td>0.200190</td>\n",
              "      <td>0.246520</td>\n",
              "      <td>0.166535</td>\n",
              "      <td>0</td>\n",
              "    </tr>\n",
              "    <tr>\n",
              "      <th>...</th>\n",
              "      <td>...</td>\n",
              "      <td>...</td>\n",
              "      <td>...</td>\n",
              "      <td>...</td>\n",
              "      <td>...</td>\n",
              "      <td>...</td>\n",
              "      <td>...</td>\n",
              "      <td>...</td>\n",
              "      <td>...</td>\n",
              "      <td>...</td>\n",
              "      <td>...</td>\n",
              "      <td>...</td>\n",
              "      <td>...</td>\n",
              "      <td>...</td>\n",
              "      <td>...</td>\n",
              "      <td>...</td>\n",
              "      <td>...</td>\n",
              "      <td>...</td>\n",
              "      <td>...</td>\n",
              "      <td>...</td>\n",
              "      <td>...</td>\n",
              "    </tr>\n",
              "    <tr>\n",
              "      <th>116713</th>\n",
              "      <td>0.032558</td>\n",
              "      <td>0.033944</td>\n",
              "      <td>0.046413</td>\n",
              "      <td>0.056111</td>\n",
              "      <td>0.060267</td>\n",
              "      <td>0.066271</td>\n",
              "      <td>0.077816</td>\n",
              "      <td>0.058882</td>\n",
              "      <td>0.078278</td>\n",
              "      <td>0.051493</td>\n",
              "      <td>...</td>\n",
              "      <td>0.024707</td>\n",
              "      <td>0.025631</td>\n",
              "      <td>0.015933</td>\n",
              "      <td>0.044565</td>\n",
              "      <td>-0.000231</td>\n",
              "      <td>0.018242</td>\n",
              "      <td>-0.028402</td>\n",
              "      <td>0.021475</td>\n",
              "      <td>0.028402</td>\n",
              "      <td>2</td>\n",
              "    </tr>\n",
              "    <tr>\n",
              "      <th>116714</th>\n",
              "      <td>0.068695</td>\n",
              "      <td>0.059483</td>\n",
              "      <td>0.051071</td>\n",
              "      <td>0.044662</td>\n",
              "      <td>0.037051</td>\n",
              "      <td>0.041057</td>\n",
              "      <td>0.040656</td>\n",
              "      <td>0.046264</td>\n",
              "      <td>0.039054</td>\n",
              "      <td>0.045063</td>\n",
              "      <td>...</td>\n",
              "      <td>0.035850</td>\n",
              "      <td>0.031444</td>\n",
              "      <td>0.026637</td>\n",
              "      <td>0.023433</td>\n",
              "      <td>0.027839</td>\n",
              "      <td>0.023833</td>\n",
              "      <td>0.018626</td>\n",
              "      <td>0.005007</td>\n",
              "      <td>0.007010</td>\n",
              "      <td>4</td>\n",
              "    </tr>\n",
              "    <tr>\n",
              "      <th>116715</th>\n",
              "      <td>0.013392</td>\n",
              "      <td>0.030717</td>\n",
              "      <td>0.029805</td>\n",
              "      <td>0.016127</td>\n",
              "      <td>0.026613</td>\n",
              "      <td>0.024334</td>\n",
              "      <td>0.019775</td>\n",
              "      <td>0.038012</td>\n",
              "      <td>0.027069</td>\n",
              "      <td>0.031629</td>\n",
              "      <td>...</td>\n",
              "      <td>0.013392</td>\n",
              "      <td>0.018863</td>\n",
              "      <td>0.034820</td>\n",
              "      <td>0.034364</td>\n",
              "      <td>0.042115</td>\n",
              "      <td>0.045306</td>\n",
              "      <td>0.041659</td>\n",
              "      <td>0.032996</td>\n",
              "      <td>0.024334</td>\n",
              "      <td>4</td>\n",
              "    </tr>\n",
              "    <tr>\n",
              "      <th>116716</th>\n",
              "      <td>-0.057457</td>\n",
              "      <td>-0.065629</td>\n",
              "      <td>-0.101198</td>\n",
              "      <td>-0.114176</td>\n",
              "      <td>-0.141093</td>\n",
              "      <td>-0.184354</td>\n",
              "      <td>-0.222807</td>\n",
              "      <td>-0.230017</td>\n",
              "      <td>-0.242514</td>\n",
              "      <td>-0.231459</td>\n",
              "      <td>...</td>\n",
              "      <td>-0.085817</td>\n",
              "      <td>-0.068993</td>\n",
              "      <td>-0.058899</td>\n",
              "      <td>-0.043999</td>\n",
              "      <td>-0.058419</td>\n",
              "      <td>-0.065629</td>\n",
              "      <td>-0.070916</td>\n",
              "      <td>-0.068513</td>\n",
              "      <td>-0.090143</td>\n",
              "      <td>2</td>\n",
              "    </tr>\n",
              "    <tr>\n",
              "      <th>116717</th>\n",
              "      <td>-0.065742</td>\n",
              "      <td>-0.082698</td>\n",
              "      <td>-0.086365</td>\n",
              "      <td>-0.053368</td>\n",
              "      <td>-0.023122</td>\n",
              "      <td>-0.024038</td>\n",
              "      <td>-0.046494</td>\n",
              "      <td>-0.133109</td>\n",
              "      <td>-0.211476</td>\n",
              "      <td>-0.300383</td>\n",
              "      <td>...</td>\n",
              "      <td>-0.135401</td>\n",
              "      <td>-0.128985</td>\n",
              "      <td>-0.091864</td>\n",
              "      <td>-0.071700</td>\n",
              "      <td>-0.102404</td>\n",
              "      <td>-0.157398</td>\n",
              "      <td>-0.150524</td>\n",
              "      <td>-0.087281</td>\n",
              "      <td>-0.042828</td>\n",
              "      <td>2</td>\n",
              "    </tr>\n",
              "  </tbody>\n",
              "</table>\n",
              "<p>116718 rows × 3001 columns</p>\n",
              "</div>\n",
              "      <button class=\"colab-df-convert\" onclick=\"convertToInteractive('df-291c7a14-4a86-42f7-9dba-a784c7d63219')\"\n",
              "              title=\"Convert this dataframe to an interactive table.\"\n",
              "              style=\"display:none;\">\n",
              "        \n",
              "  <svg xmlns=\"http://www.w3.org/2000/svg\" height=\"24px\"viewBox=\"0 0 24 24\"\n",
              "       width=\"24px\">\n",
              "    <path d=\"M0 0h24v24H0V0z\" fill=\"none\"/>\n",
              "    <path d=\"M18.56 5.44l.94 2.06.94-2.06 2.06-.94-2.06-.94-.94-2.06-.94 2.06-2.06.94zm-11 1L8.5 8.5l.94-2.06 2.06-.94-2.06-.94L8.5 2.5l-.94 2.06-2.06.94zm10 10l.94 2.06.94-2.06 2.06-.94-2.06-.94-.94-2.06-.94 2.06-2.06.94z\"/><path d=\"M17.41 7.96l-1.37-1.37c-.4-.4-.92-.59-1.43-.59-.52 0-1.04.2-1.43.59L10.3 9.45l-7.72 7.72c-.78.78-.78 2.05 0 2.83L4 21.41c.39.39.9.59 1.41.59.51 0 1.02-.2 1.41-.59l7.78-7.78 2.81-2.81c.8-.78.8-2.07 0-2.86zM5.41 20L4 18.59l7.72-7.72 1.47 1.35L5.41 20z\"/>\n",
              "  </svg>\n",
              "      </button>\n",
              "      \n",
              "  <style>\n",
              "    .colab-df-container {\n",
              "      display:flex;\n",
              "      flex-wrap:wrap;\n",
              "      gap: 12px;\n",
              "    }\n",
              "\n",
              "    .colab-df-convert {\n",
              "      background-color: #E8F0FE;\n",
              "      border: none;\n",
              "      border-radius: 50%;\n",
              "      cursor: pointer;\n",
              "      display: none;\n",
              "      fill: #1967D2;\n",
              "      height: 32px;\n",
              "      padding: 0 0 0 0;\n",
              "      width: 32px;\n",
              "    }\n",
              "\n",
              "    .colab-df-convert:hover {\n",
              "      background-color: #E2EBFA;\n",
              "      box-shadow: 0px 1px 2px rgba(60, 64, 67, 0.3), 0px 1px 3px 1px rgba(60, 64, 67, 0.15);\n",
              "      fill: #174EA6;\n",
              "    }\n",
              "\n",
              "    [theme=dark] .colab-df-convert {\n",
              "      background-color: #3B4455;\n",
              "      fill: #D2E3FC;\n",
              "    }\n",
              "\n",
              "    [theme=dark] .colab-df-convert:hover {\n",
              "      background-color: #434B5C;\n",
              "      box-shadow: 0px 1px 3px 1px rgba(0, 0, 0, 0.15);\n",
              "      filter: drop-shadow(0px 1px 2px rgba(0, 0, 0, 0.3));\n",
              "      fill: #FFFFFF;\n",
              "    }\n",
              "  </style>\n",
              "\n",
              "      <script>\n",
              "        const buttonEl =\n",
              "          document.querySelector('#df-291c7a14-4a86-42f7-9dba-a784c7d63219 button.colab-df-convert');\n",
              "        buttonEl.style.display =\n",
              "          google.colab.kernel.accessAllowed ? 'block' : 'none';\n",
              "\n",
              "        async function convertToInteractive(key) {\n",
              "          const element = document.querySelector('#df-291c7a14-4a86-42f7-9dba-a784c7d63219');\n",
              "          const dataTable =\n",
              "            await google.colab.kernel.invokeFunction('convertToInteractive',\n",
              "                                                     [key], {});\n",
              "          if (!dataTable) return;\n",
              "\n",
              "          const docLinkHtml = 'Like what you see? Visit the ' +\n",
              "            '<a target=\"_blank\" href=https://colab.research.google.com/notebooks/data_table.ipynb>data table notebook</a>'\n",
              "            + ' to learn more about interactive tables.';\n",
              "          element.innerHTML = '';\n",
              "          dataTable['output_type'] = 'display_data';\n",
              "          await google.colab.output.renderOutput(dataTable, element);\n",
              "          const docLink = document.createElement('div');\n",
              "          docLink.innerHTML = docLinkHtml;\n",
              "          element.appendChild(docLink);\n",
              "        }\n",
              "      </script>\n",
              "    </div>\n",
              "  </div>\n",
              "  "
            ],
            "text/plain": [
              "            0         1         2         3         4         5         6     \\\n",
              "0       0.068014  0.082915  0.077628  0.074744  0.060804  0.063688  0.050710   \n",
              "1       0.104729  0.054513 -0.020131 -0.064918 -0.122825 -0.127801 -0.107443   \n",
              "2       0.002281 -0.031309 -0.007672 -0.020527 -0.003110 -0.011404  0.006013   \n",
              "3      -0.025235 -0.037732 -0.033406 -0.031964 -0.034848 -0.041097 -0.031484   \n",
              "4       0.097914 -0.100520 -0.044574 -0.079540 -0.071235 -0.029713 -0.041951   \n",
              "...          ...       ...       ...       ...       ...       ...       ...   \n",
              "116713  0.032558  0.033944  0.046413  0.056111  0.060267  0.066271  0.077816   \n",
              "116714  0.068695  0.059483  0.051071  0.044662  0.037051  0.041057  0.040656   \n",
              "116715  0.013392  0.030717  0.029805  0.016127  0.026613  0.024334  0.019775   \n",
              "116716 -0.057457 -0.065629 -0.101198 -0.114176 -0.141093 -0.184354 -0.222807   \n",
              "116717 -0.065742 -0.082698 -0.086365 -0.053368 -0.023122 -0.024038 -0.046494   \n",
              "\n",
              "            7         8         9     ...      2991      2992      2993  \\\n",
              "0       0.029561  0.010815  0.008412  ... -0.010334 -0.016102 -0.034368   \n",
              "1      -0.086633 -0.051799 -0.033251  ... -0.123729 -0.120563 -0.129158   \n",
              "2      -0.029236 -0.025089 -0.042091  ...  0.088122  0.057850  0.027992   \n",
              "3      -0.025716 -0.019948 -0.030522  ... -0.015141 -0.013699 -0.018025   \n",
              "4       0.000445 -0.031024  0.172217  ...  0.167409  0.220732  0.191011   \n",
              "...          ...       ...       ...  ...       ...       ...       ...   \n",
              "116713  0.058882  0.078278  0.051493  ...  0.024707  0.025631  0.015933   \n",
              "116714  0.046264  0.039054  0.045063  ...  0.035850  0.031444  0.026637   \n",
              "116715  0.038012  0.027069  0.031629  ...  0.013392  0.018863  0.034820   \n",
              "116716 -0.230017 -0.242514 -0.231459  ... -0.085817 -0.068993 -0.058899   \n",
              "116717 -0.133109 -0.211476 -0.300383  ... -0.135401 -0.128985 -0.091864   \n",
              "\n",
              "            2994      2995      2996      2997      2998      2999  3000  \n",
              "0      -0.055998 -0.074263 -0.071860 -0.077147 -0.084838 -0.090125     4  \n",
              "1      -0.149968 -0.173945 -0.187064 -0.171231 -0.149516 -0.121467     3  \n",
              "2       0.038359  0.040847  0.053703  0.072779  0.055362  0.029651     2  \n",
              "3      -0.020909 -0.021390 -0.002644 -0.020428 -0.025235 -0.024754     2  \n",
              "4       0.119767  0.165661  0.270996  0.200190  0.246520  0.166535     0  \n",
              "...          ...       ...       ...       ...       ...       ...   ...  \n",
              "116713  0.044565 -0.000231  0.018242 -0.028402  0.021475  0.028402     2  \n",
              "116714  0.023433  0.027839  0.023833  0.018626  0.005007  0.007010     4  \n",
              "116715  0.034364  0.042115  0.045306  0.041659  0.032996  0.024334     4  \n",
              "116716 -0.043999 -0.058419 -0.065629 -0.070916 -0.068513 -0.090143     2  \n",
              "116717 -0.071700 -0.102404 -0.157398 -0.150524 -0.087281 -0.042828     2  \n",
              "\n",
              "[116718 rows x 3001 columns]"
            ]
          },
          "execution_count": 11,
          "metadata": {},
          "output_type": "execute_result"
        }
      ],
      "source": [
        "transfer_df"
      ]
    },
    {
      "cell_type": "code",
      "execution_count": null,
      "metadata": {
        "id": "DMGy8iFB4xid"
      },
      "outputs": [],
      "source": [
        "x_transfer_set=transfer_df.drop([3000],axis=1)"
      ]
    },
    {
      "cell_type": "code",
      "execution_count": null,
      "metadata": {
        "colab": {
          "base_uri": "https://localhost:8080/",
          "height": 488
        },
        "id": "26NLli0t4xkH",
        "outputId": "9233c8c5-b83a-424f-fb1b-8bf310a8772c"
      },
      "outputs": [
        {
          "data": {
            "text/html": [
              "\n",
              "  <div id=\"df-e3fa783c-3c82-4243-924e-1c9634c194aa\">\n",
              "    <div class=\"colab-df-container\">\n",
              "      <div>\n",
              "<style scoped>\n",
              "    .dataframe tbody tr th:only-of-type {\n",
              "        vertical-align: middle;\n",
              "    }\n",
              "\n",
              "    .dataframe tbody tr th {\n",
              "        vertical-align: top;\n",
              "    }\n",
              "\n",
              "    .dataframe thead th {\n",
              "        text-align: right;\n",
              "    }\n",
              "</style>\n",
              "<table border=\"1\" class=\"dataframe\">\n",
              "  <thead>\n",
              "    <tr style=\"text-align: right;\">\n",
              "      <th></th>\n",
              "      <th>0</th>\n",
              "      <th>1</th>\n",
              "      <th>2</th>\n",
              "      <th>3</th>\n",
              "      <th>4</th>\n",
              "      <th>5</th>\n",
              "      <th>6</th>\n",
              "      <th>7</th>\n",
              "      <th>8</th>\n",
              "      <th>9</th>\n",
              "      <th>...</th>\n",
              "      <th>2990</th>\n",
              "      <th>2991</th>\n",
              "      <th>2992</th>\n",
              "      <th>2993</th>\n",
              "      <th>2994</th>\n",
              "      <th>2995</th>\n",
              "      <th>2996</th>\n",
              "      <th>2997</th>\n",
              "      <th>2998</th>\n",
              "      <th>2999</th>\n",
              "    </tr>\n",
              "  </thead>\n",
              "  <tbody>\n",
              "    <tr>\n",
              "      <th>0</th>\n",
              "      <td>0.068014</td>\n",
              "      <td>0.082915</td>\n",
              "      <td>0.077628</td>\n",
              "      <td>0.074744</td>\n",
              "      <td>0.060804</td>\n",
              "      <td>0.063688</td>\n",
              "      <td>0.050710</td>\n",
              "      <td>0.029561</td>\n",
              "      <td>0.010815</td>\n",
              "      <td>0.008412</td>\n",
              "      <td>...</td>\n",
              "      <td>-0.007450</td>\n",
              "      <td>-0.010334</td>\n",
              "      <td>-0.016102</td>\n",
              "      <td>-0.034368</td>\n",
              "      <td>-0.055998</td>\n",
              "      <td>-0.074263</td>\n",
              "      <td>-0.071860</td>\n",
              "      <td>-0.077147</td>\n",
              "      <td>-0.084838</td>\n",
              "      <td>-0.090125</td>\n",
              "    </tr>\n",
              "    <tr>\n",
              "      <th>1</th>\n",
              "      <td>0.104729</td>\n",
              "      <td>0.054513</td>\n",
              "      <td>-0.020131</td>\n",
              "      <td>-0.064918</td>\n",
              "      <td>-0.122825</td>\n",
              "      <td>-0.127801</td>\n",
              "      <td>-0.107443</td>\n",
              "      <td>-0.086633</td>\n",
              "      <td>-0.051799</td>\n",
              "      <td>-0.033251</td>\n",
              "      <td>...</td>\n",
              "      <td>-0.102467</td>\n",
              "      <td>-0.123729</td>\n",
              "      <td>-0.120563</td>\n",
              "      <td>-0.129158</td>\n",
              "      <td>-0.149968</td>\n",
              "      <td>-0.173945</td>\n",
              "      <td>-0.187064</td>\n",
              "      <td>-0.171231</td>\n",
              "      <td>-0.149516</td>\n",
              "      <td>-0.121467</td>\n",
              "    </tr>\n",
              "    <tr>\n",
              "      <th>2</th>\n",
              "      <td>0.002281</td>\n",
              "      <td>-0.031309</td>\n",
              "      <td>-0.007672</td>\n",
              "      <td>-0.020527</td>\n",
              "      <td>-0.003110</td>\n",
              "      <td>-0.011404</td>\n",
              "      <td>0.006013</td>\n",
              "      <td>-0.029236</td>\n",
              "      <td>-0.025089</td>\n",
              "      <td>-0.042091</td>\n",
              "      <td>...</td>\n",
              "      <td>0.054532</td>\n",
              "      <td>0.088122</td>\n",
              "      <td>0.057850</td>\n",
              "      <td>0.027992</td>\n",
              "      <td>0.038359</td>\n",
              "      <td>0.040847</td>\n",
              "      <td>0.053703</td>\n",
              "      <td>0.072779</td>\n",
              "      <td>0.055362</td>\n",
              "      <td>0.029651</td>\n",
              "    </tr>\n",
              "    <tr>\n",
              "      <th>3</th>\n",
              "      <td>-0.025235</td>\n",
              "      <td>-0.037732</td>\n",
              "      <td>-0.033406</td>\n",
              "      <td>-0.031964</td>\n",
              "      <td>-0.034848</td>\n",
              "      <td>-0.041097</td>\n",
              "      <td>-0.031484</td>\n",
              "      <td>-0.025716</td>\n",
              "      <td>-0.019948</td>\n",
              "      <td>-0.030522</td>\n",
              "      <td>...</td>\n",
              "      <td>-0.012738</td>\n",
              "      <td>-0.015141</td>\n",
              "      <td>-0.013699</td>\n",
              "      <td>-0.018025</td>\n",
              "      <td>-0.020909</td>\n",
              "      <td>-0.021390</td>\n",
              "      <td>-0.002644</td>\n",
              "      <td>-0.020428</td>\n",
              "      <td>-0.025235</td>\n",
              "      <td>-0.024754</td>\n",
              "    </tr>\n",
              "    <tr>\n",
              "      <th>4</th>\n",
              "      <td>0.097914</td>\n",
              "      <td>-0.100520</td>\n",
              "      <td>-0.044574</td>\n",
              "      <td>-0.079540</td>\n",
              "      <td>-0.071235</td>\n",
              "      <td>-0.029713</td>\n",
              "      <td>-0.041951</td>\n",
              "      <td>0.000445</td>\n",
              "      <td>-0.031024</td>\n",
              "      <td>0.172217</td>\n",
              "      <td>...</td>\n",
              "      <td>0.264003</td>\n",
              "      <td>0.167409</td>\n",
              "      <td>0.220732</td>\n",
              "      <td>0.191011</td>\n",
              "      <td>0.119767</td>\n",
              "      <td>0.165661</td>\n",
              "      <td>0.270996</td>\n",
              "      <td>0.200190</td>\n",
              "      <td>0.246520</td>\n",
              "      <td>0.166535</td>\n",
              "    </tr>\n",
              "    <tr>\n",
              "      <th>...</th>\n",
              "      <td>...</td>\n",
              "      <td>...</td>\n",
              "      <td>...</td>\n",
              "      <td>...</td>\n",
              "      <td>...</td>\n",
              "      <td>...</td>\n",
              "      <td>...</td>\n",
              "      <td>...</td>\n",
              "      <td>...</td>\n",
              "      <td>...</td>\n",
              "      <td>...</td>\n",
              "      <td>...</td>\n",
              "      <td>...</td>\n",
              "      <td>...</td>\n",
              "      <td>...</td>\n",
              "      <td>...</td>\n",
              "      <td>...</td>\n",
              "      <td>...</td>\n",
              "      <td>...</td>\n",
              "      <td>...</td>\n",
              "      <td>...</td>\n",
              "    </tr>\n",
              "    <tr>\n",
              "      <th>116713</th>\n",
              "      <td>0.032558</td>\n",
              "      <td>0.033944</td>\n",
              "      <td>0.046413</td>\n",
              "      <td>0.056111</td>\n",
              "      <td>0.060267</td>\n",
              "      <td>0.066271</td>\n",
              "      <td>0.077816</td>\n",
              "      <td>0.058882</td>\n",
              "      <td>0.078278</td>\n",
              "      <td>0.051493</td>\n",
              "      <td>...</td>\n",
              "      <td>0.026093</td>\n",
              "      <td>0.024707</td>\n",
              "      <td>0.025631</td>\n",
              "      <td>0.015933</td>\n",
              "      <td>0.044565</td>\n",
              "      <td>-0.000231</td>\n",
              "      <td>0.018242</td>\n",
              "      <td>-0.028402</td>\n",
              "      <td>0.021475</td>\n",
              "      <td>0.028402</td>\n",
              "    </tr>\n",
              "    <tr>\n",
              "      <th>116714</th>\n",
              "      <td>0.068695</td>\n",
              "      <td>0.059483</td>\n",
              "      <td>0.051071</td>\n",
              "      <td>0.044662</td>\n",
              "      <td>0.037051</td>\n",
              "      <td>0.041057</td>\n",
              "      <td>0.040656</td>\n",
              "      <td>0.046264</td>\n",
              "      <td>0.039054</td>\n",
              "      <td>0.045063</td>\n",
              "      <td>...</td>\n",
              "      <td>0.032245</td>\n",
              "      <td>0.035850</td>\n",
              "      <td>0.031444</td>\n",
              "      <td>0.026637</td>\n",
              "      <td>0.023433</td>\n",
              "      <td>0.027839</td>\n",
              "      <td>0.023833</td>\n",
              "      <td>0.018626</td>\n",
              "      <td>0.005007</td>\n",
              "      <td>0.007010</td>\n",
              "    </tr>\n",
              "    <tr>\n",
              "      <th>116715</th>\n",
              "      <td>0.013392</td>\n",
              "      <td>0.030717</td>\n",
              "      <td>0.029805</td>\n",
              "      <td>0.016127</td>\n",
              "      <td>0.026613</td>\n",
              "      <td>0.024334</td>\n",
              "      <td>0.019775</td>\n",
              "      <td>0.038012</td>\n",
              "      <td>0.027069</td>\n",
              "      <td>0.031629</td>\n",
              "      <td>...</td>\n",
              "      <td>0.004273</td>\n",
              "      <td>0.013392</td>\n",
              "      <td>0.018863</td>\n",
              "      <td>0.034820</td>\n",
              "      <td>0.034364</td>\n",
              "      <td>0.042115</td>\n",
              "      <td>0.045306</td>\n",
              "      <td>0.041659</td>\n",
              "      <td>0.032996</td>\n",
              "      <td>0.024334</td>\n",
              "    </tr>\n",
              "    <tr>\n",
              "      <th>116716</th>\n",
              "      <td>-0.057457</td>\n",
              "      <td>-0.065629</td>\n",
              "      <td>-0.101198</td>\n",
              "      <td>-0.114176</td>\n",
              "      <td>-0.141093</td>\n",
              "      <td>-0.184354</td>\n",
              "      <td>-0.222807</td>\n",
              "      <td>-0.230017</td>\n",
              "      <td>-0.242514</td>\n",
              "      <td>-0.231459</td>\n",
              "      <td>...</td>\n",
              "      <td>-0.079087</td>\n",
              "      <td>-0.085817</td>\n",
              "      <td>-0.068993</td>\n",
              "      <td>-0.058899</td>\n",
              "      <td>-0.043999</td>\n",
              "      <td>-0.058419</td>\n",
              "      <td>-0.065629</td>\n",
              "      <td>-0.070916</td>\n",
              "      <td>-0.068513</td>\n",
              "      <td>-0.090143</td>\n",
              "    </tr>\n",
              "    <tr>\n",
              "      <th>116717</th>\n",
              "      <td>-0.065742</td>\n",
              "      <td>-0.082698</td>\n",
              "      <td>-0.086365</td>\n",
              "      <td>-0.053368</td>\n",
              "      <td>-0.023122</td>\n",
              "      <td>-0.024038</td>\n",
              "      <td>-0.046494</td>\n",
              "      <td>-0.133109</td>\n",
              "      <td>-0.211476</td>\n",
              "      <td>-0.300383</td>\n",
              "      <td>...</td>\n",
              "      <td>-0.111570</td>\n",
              "      <td>-0.135401</td>\n",
              "      <td>-0.128985</td>\n",
              "      <td>-0.091864</td>\n",
              "      <td>-0.071700</td>\n",
              "      <td>-0.102404</td>\n",
              "      <td>-0.157398</td>\n",
              "      <td>-0.150524</td>\n",
              "      <td>-0.087281</td>\n",
              "      <td>-0.042828</td>\n",
              "    </tr>\n",
              "  </tbody>\n",
              "</table>\n",
              "<p>116718 rows × 3000 columns</p>\n",
              "</div>\n",
              "      <button class=\"colab-df-convert\" onclick=\"convertToInteractive('df-e3fa783c-3c82-4243-924e-1c9634c194aa')\"\n",
              "              title=\"Convert this dataframe to an interactive table.\"\n",
              "              style=\"display:none;\">\n",
              "        \n",
              "  <svg xmlns=\"http://www.w3.org/2000/svg\" height=\"24px\"viewBox=\"0 0 24 24\"\n",
              "       width=\"24px\">\n",
              "    <path d=\"M0 0h24v24H0V0z\" fill=\"none\"/>\n",
              "    <path d=\"M18.56 5.44l.94 2.06.94-2.06 2.06-.94-2.06-.94-.94-2.06-.94 2.06-2.06.94zm-11 1L8.5 8.5l.94-2.06 2.06-.94-2.06-.94L8.5 2.5l-.94 2.06-2.06.94zm10 10l.94 2.06.94-2.06 2.06-.94-2.06-.94-.94-2.06-.94 2.06-2.06.94z\"/><path d=\"M17.41 7.96l-1.37-1.37c-.4-.4-.92-.59-1.43-.59-.52 0-1.04.2-1.43.59L10.3 9.45l-7.72 7.72c-.78.78-.78 2.05 0 2.83L4 21.41c.39.39.9.59 1.41.59.51 0 1.02-.2 1.41-.59l7.78-7.78 2.81-2.81c.8-.78.8-2.07 0-2.86zM5.41 20L4 18.59l7.72-7.72 1.47 1.35L5.41 20z\"/>\n",
              "  </svg>\n",
              "      </button>\n",
              "      \n",
              "  <style>\n",
              "    .colab-df-container {\n",
              "      display:flex;\n",
              "      flex-wrap:wrap;\n",
              "      gap: 12px;\n",
              "    }\n",
              "\n",
              "    .colab-df-convert {\n",
              "      background-color: #E8F0FE;\n",
              "      border: none;\n",
              "      border-radius: 50%;\n",
              "      cursor: pointer;\n",
              "      display: none;\n",
              "      fill: #1967D2;\n",
              "      height: 32px;\n",
              "      padding: 0 0 0 0;\n",
              "      width: 32px;\n",
              "    }\n",
              "\n",
              "    .colab-df-convert:hover {\n",
              "      background-color: #E2EBFA;\n",
              "      box-shadow: 0px 1px 2px rgba(60, 64, 67, 0.3), 0px 1px 3px 1px rgba(60, 64, 67, 0.15);\n",
              "      fill: #174EA6;\n",
              "    }\n",
              "\n",
              "    [theme=dark] .colab-df-convert {\n",
              "      background-color: #3B4455;\n",
              "      fill: #D2E3FC;\n",
              "    }\n",
              "\n",
              "    [theme=dark] .colab-df-convert:hover {\n",
              "      background-color: #434B5C;\n",
              "      box-shadow: 0px 1px 3px 1px rgba(0, 0, 0, 0.15);\n",
              "      filter: drop-shadow(0px 1px 2px rgba(0, 0, 0, 0.3));\n",
              "      fill: #FFFFFF;\n",
              "    }\n",
              "  </style>\n",
              "\n",
              "      <script>\n",
              "        const buttonEl =\n",
              "          document.querySelector('#df-e3fa783c-3c82-4243-924e-1c9634c194aa button.colab-df-convert');\n",
              "        buttonEl.style.display =\n",
              "          google.colab.kernel.accessAllowed ? 'block' : 'none';\n",
              "\n",
              "        async function convertToInteractive(key) {\n",
              "          const element = document.querySelector('#df-e3fa783c-3c82-4243-924e-1c9634c194aa');\n",
              "          const dataTable =\n",
              "            await google.colab.kernel.invokeFunction('convertToInteractive',\n",
              "                                                     [key], {});\n",
              "          if (!dataTable) return;\n",
              "\n",
              "          const docLinkHtml = 'Like what you see? Visit the ' +\n",
              "            '<a target=\"_blank\" href=https://colab.research.google.com/notebooks/data_table.ipynb>data table notebook</a>'\n",
              "            + ' to learn more about interactive tables.';\n",
              "          element.innerHTML = '';\n",
              "          dataTable['output_type'] = 'display_data';\n",
              "          await google.colab.output.renderOutput(dataTable, element);\n",
              "          const docLink = document.createElement('div');\n",
              "          docLink.innerHTML = docLinkHtml;\n",
              "          element.appendChild(docLink);\n",
              "        }\n",
              "      </script>\n",
              "    </div>\n",
              "  </div>\n",
              "  "
            ],
            "text/plain": [
              "            0         1         2         3         4         5         6     \\\n",
              "0       0.068014  0.082915  0.077628  0.074744  0.060804  0.063688  0.050710   \n",
              "1       0.104729  0.054513 -0.020131 -0.064918 -0.122825 -0.127801 -0.107443   \n",
              "2       0.002281 -0.031309 -0.007672 -0.020527 -0.003110 -0.011404  0.006013   \n",
              "3      -0.025235 -0.037732 -0.033406 -0.031964 -0.034848 -0.041097 -0.031484   \n",
              "4       0.097914 -0.100520 -0.044574 -0.079540 -0.071235 -0.029713 -0.041951   \n",
              "...          ...       ...       ...       ...       ...       ...       ...   \n",
              "116713  0.032558  0.033944  0.046413  0.056111  0.060267  0.066271  0.077816   \n",
              "116714  0.068695  0.059483  0.051071  0.044662  0.037051  0.041057  0.040656   \n",
              "116715  0.013392  0.030717  0.029805  0.016127  0.026613  0.024334  0.019775   \n",
              "116716 -0.057457 -0.065629 -0.101198 -0.114176 -0.141093 -0.184354 -0.222807   \n",
              "116717 -0.065742 -0.082698 -0.086365 -0.053368 -0.023122 -0.024038 -0.046494   \n",
              "\n",
              "            7         8         9     ...      2990      2991      2992  \\\n",
              "0       0.029561  0.010815  0.008412  ... -0.007450 -0.010334 -0.016102   \n",
              "1      -0.086633 -0.051799 -0.033251  ... -0.102467 -0.123729 -0.120563   \n",
              "2      -0.029236 -0.025089 -0.042091  ...  0.054532  0.088122  0.057850   \n",
              "3      -0.025716 -0.019948 -0.030522  ... -0.012738 -0.015141 -0.013699   \n",
              "4       0.000445 -0.031024  0.172217  ...  0.264003  0.167409  0.220732   \n",
              "...          ...       ...       ...  ...       ...       ...       ...   \n",
              "116713  0.058882  0.078278  0.051493  ...  0.026093  0.024707  0.025631   \n",
              "116714  0.046264  0.039054  0.045063  ...  0.032245  0.035850  0.031444   \n",
              "116715  0.038012  0.027069  0.031629  ...  0.004273  0.013392  0.018863   \n",
              "116716 -0.230017 -0.242514 -0.231459  ... -0.079087 -0.085817 -0.068993   \n",
              "116717 -0.133109 -0.211476 -0.300383  ... -0.111570 -0.135401 -0.128985   \n",
              "\n",
              "            2993      2994      2995      2996      2997      2998      2999  \n",
              "0      -0.034368 -0.055998 -0.074263 -0.071860 -0.077147 -0.084838 -0.090125  \n",
              "1      -0.129158 -0.149968 -0.173945 -0.187064 -0.171231 -0.149516 -0.121467  \n",
              "2       0.027992  0.038359  0.040847  0.053703  0.072779  0.055362  0.029651  \n",
              "3      -0.018025 -0.020909 -0.021390 -0.002644 -0.020428 -0.025235 -0.024754  \n",
              "4       0.191011  0.119767  0.165661  0.270996  0.200190  0.246520  0.166535  \n",
              "...          ...       ...       ...       ...       ...       ...       ...  \n",
              "116713  0.015933  0.044565 -0.000231  0.018242 -0.028402  0.021475  0.028402  \n",
              "116714  0.026637  0.023433  0.027839  0.023833  0.018626  0.005007  0.007010  \n",
              "116715  0.034820  0.034364  0.042115  0.045306  0.041659  0.032996  0.024334  \n",
              "116716 -0.058899 -0.043999 -0.058419 -0.065629 -0.070916 -0.068513 -0.090143  \n",
              "116717 -0.091864 -0.071700 -0.102404 -0.157398 -0.150524 -0.087281 -0.042828  \n",
              "\n",
              "[116718 rows x 3000 columns]"
            ]
          },
          "execution_count": 13,
          "metadata": {},
          "output_type": "execute_result"
        }
      ],
      "source": [
        "x_transfer_set"
      ]
    },
    {
      "cell_type": "code",
      "execution_count": null,
      "metadata": {
        "id": "ZdwwDlBb4xnN"
      },
      "outputs": [],
      "source": [
        "y_transfer=transfer_df[3000]"
      ]
    },
    {
      "cell_type": "code",
      "execution_count": null,
      "metadata": {
        "colab": {
          "base_uri": "https://localhost:8080/"
        },
        "id": "1PRf2NGF4xpJ",
        "outputId": "e48f26d4-b24f-449b-d961-d169c0798d66"
      },
      "outputs": [
        {
          "data": {
            "text/plain": [
              "0         4\n",
              "1         3\n",
              "2         2\n",
              "3         2\n",
              "4         0\n",
              "         ..\n",
              "116713    2\n",
              "116714    4\n",
              "116715    4\n",
              "116716    2\n",
              "116717    2\n",
              "Name: 3000, Length: 116718, dtype: int64"
            ]
          },
          "execution_count": 15,
          "metadata": {},
          "output_type": "execute_result"
        }
      ],
      "source": [
        "y_transfer"
      ]
    },
    {
      "cell_type": "code",
      "execution_count": null,
      "metadata": {
        "id": "rNaMnS6h469N"
      },
      "outputs": [],
      "source": [
        "x_transfer_set_rshp=np.array(x_transfer_set).reshape(116718,3000,1)"
      ]
    },
    {
      "cell_type": "code",
      "execution_count": null,
      "metadata": {
        "colab": {
          "base_uri": "https://localhost:8080/"
        },
        "id": "JjZUSILw46-9",
        "outputId": "91d72f60-f31f-4f11-c38e-2a2a27106e01"
      },
      "outputs": [
        {
          "data": {
            "text/plain": [
              "array([[[ 0.0680144 ],\n",
              "        [ 0.08291509],\n",
              "        [ 0.07762775],\n",
              "        ...,\n",
              "        [-0.07714708],\n",
              "        [-0.08483776],\n",
              "        [-0.09012509]],\n",
              "\n",
              "       [[ 0.1047289 ],\n",
              "        [ 0.05451331],\n",
              "        [-0.02013147],\n",
              "        ...,\n",
              "        [-0.17123062],\n",
              "        [-0.14951577],\n",
              "        [-0.12146743]],\n",
              "\n",
              "       [[ 0.00228081],\n",
              "        [-0.03130934],\n",
              "        [-0.00767183],\n",
              "        ...,\n",
              "        [ 0.07277867],\n",
              "        [ 0.05536155],\n",
              "        [ 0.02965057]],\n",
              "\n",
              "       ...,\n",
              "\n",
              "       [[ 0.01339153],\n",
              "        [ 0.03071675],\n",
              "        [ 0.0298049 ],\n",
              "        ...,\n",
              "        [ 0.041659  ],\n",
              "        [ 0.03299639],\n",
              "        [ 0.02433378]],\n",
              "\n",
              "       [[-0.0574574 ],\n",
              "        [-0.06562874],\n",
              "        [-0.10119811],\n",
              "        ...,\n",
              "        [-0.07091608],\n",
              "        [-0.06851275],\n",
              "        [-0.09014277]],\n",
              "\n",
              "       [[-0.06574184],\n",
              "        [-0.08269832],\n",
              "        [-0.08636458],\n",
              "        ...,\n",
              "        [-0.15052423],\n",
              "        [-0.08728115],\n",
              "        [-0.04282768]]])"
            ]
          },
          "execution_count": 17,
          "metadata": {},
          "output_type": "execute_result"
        }
      ],
      "source": [
        "x_transfer_set_rshp"
      ]
    },
    {
      "cell_type": "code",
      "execution_count": null,
      "metadata": {
        "id": "c98VDgIV47Bq"
      },
      "outputs": [],
      "source": [
        "y_transfer_=np_utils.to_categorical(y_transfer)"
      ]
    },
    {
      "cell_type": "code",
      "execution_count": null,
      "metadata": {
        "colab": {
          "base_uri": "https://localhost:8080/"
        },
        "id": "FvODpOWl47Ew",
        "outputId": "ffa0104a-3431-4b83-8eb6-ea3b16218a0d"
      },
      "outputs": [
        {
          "data": {
            "text/plain": [
              "array([[0., 0., 0., 0., 1.],\n",
              "       [0., 0., 0., 1., 0.],\n",
              "       [0., 0., 1., 0., 0.],\n",
              "       ...,\n",
              "       [0., 0., 0., 0., 1.],\n",
              "       [0., 0., 1., 0., 0.],\n",
              "       [0., 0., 1., 0., 0.]], dtype=float32)"
            ]
          },
          "execution_count": 19,
          "metadata": {},
          "output_type": "execute_result"
        }
      ],
      "source": [
        "y_transfer_"
      ]
    },
    {
      "cell_type": "code",
      "execution_count": null,
      "metadata": {
        "id": "dTbnH6yY5EmU"
      },
      "outputs": [],
      "source": [
        "subject_480_tst_df=pd.read_csv('/content/gdrive/My Drive/physionet/ensemble/50_subs/x_test_sub.csv',header=None)"
      ]
    },
    {
      "cell_type": "code",
      "execution_count": null,
      "metadata": {
        "colab": {
          "base_uri": "https://localhost:8080/",
          "height": 488
        },
        "id": "XyHCuQ_q5ExV",
        "outputId": "6626bca5-e7cd-46bd-b08c-89f023b1ba59"
      },
      "outputs": [
        {
          "data": {
            "text/html": [
              "\n",
              "  <div id=\"df-6bdeeb6c-1eb8-4d54-891e-7036cc6bea97\">\n",
              "    <div class=\"colab-df-container\">\n",
              "      <div>\n",
              "<style scoped>\n",
              "    .dataframe tbody tr th:only-of-type {\n",
              "        vertical-align: middle;\n",
              "    }\n",
              "\n",
              "    .dataframe tbody tr th {\n",
              "        vertical-align: top;\n",
              "    }\n",
              "\n",
              "    .dataframe thead th {\n",
              "        text-align: right;\n",
              "    }\n",
              "</style>\n",
              "<table border=\"1\" class=\"dataframe\">\n",
              "  <thead>\n",
              "    <tr style=\"text-align: right;\">\n",
              "      <th></th>\n",
              "      <th>0</th>\n",
              "      <th>1</th>\n",
              "      <th>2</th>\n",
              "      <th>3</th>\n",
              "      <th>4</th>\n",
              "      <th>5</th>\n",
              "      <th>6</th>\n",
              "      <th>7</th>\n",
              "      <th>8</th>\n",
              "      <th>9</th>\n",
              "      <th>...</th>\n",
              "      <th>2991</th>\n",
              "      <th>2992</th>\n",
              "      <th>2993</th>\n",
              "      <th>2994</th>\n",
              "      <th>2995</th>\n",
              "      <th>2996</th>\n",
              "      <th>2997</th>\n",
              "      <th>2998</th>\n",
              "      <th>2999</th>\n",
              "      <th>3000</th>\n",
              "    </tr>\n",
              "  </thead>\n",
              "  <tbody>\n",
              "    <tr>\n",
              "      <th>0</th>\n",
              "      <td>-0.052176</td>\n",
              "      <td>-0.045597</td>\n",
              "      <td>-0.036963</td>\n",
              "      <td>-0.035730</td>\n",
              "      <td>-0.047242</td>\n",
              "      <td>-0.048476</td>\n",
              "      <td>-0.041486</td>\n",
              "      <td>-0.040252</td>\n",
              "      <td>-0.050942</td>\n",
              "      <td>-0.046420</td>\n",
              "      <td>...</td>\n",
              "      <td>0.024711</td>\n",
              "      <td>0.084740</td>\n",
              "      <td>0.123389</td>\n",
              "      <td>0.139013</td>\n",
              "      <td>0.135313</td>\n",
              "      <td>0.129556</td>\n",
              "      <td>0.137779</td>\n",
              "      <td>0.111054</td>\n",
              "      <td>0.078573</td>\n",
              "      <td>2</td>\n",
              "    </tr>\n",
              "    <tr>\n",
              "      <th>1</th>\n",
              "      <td>0.080611</td>\n",
              "      <td>0.077706</td>\n",
              "      <td>0.053495</td>\n",
              "      <td>0.029285</td>\n",
              "      <td>0.016212</td>\n",
              "      <td>-0.007998</td>\n",
              "      <td>-0.003156</td>\n",
              "      <td>-0.036082</td>\n",
              "      <td>-0.003156</td>\n",
              "      <td>0.032191</td>\n",
              "      <td>...</td>\n",
              "      <td>0.037033</td>\n",
              "      <td>0.049622</td>\n",
              "      <td>0.004107</td>\n",
              "      <td>0.013307</td>\n",
              "      <td>0.012823</td>\n",
              "      <td>0.022991</td>\n",
              "      <td>0.083032</td>\n",
              "      <td>0.043811</td>\n",
              "      <td>0.011854</td>\n",
              "      <td>0</td>\n",
              "    </tr>\n",
              "    <tr>\n",
              "      <th>2</th>\n",
              "      <td>-0.113070</td>\n",
              "      <td>-0.092733</td>\n",
              "      <td>-0.155195</td>\n",
              "      <td>-0.101449</td>\n",
              "      <td>-0.073365</td>\n",
              "      <td>-0.013809</td>\n",
              "      <td>-0.100965</td>\n",
              "      <td>-0.026398</td>\n",
              "      <td>-0.035113</td>\n",
              "      <td>0.017665</td>\n",
              "      <td>...</td>\n",
              "      <td>0.025896</td>\n",
              "      <td>-0.104354</td>\n",
              "      <td>-0.073365</td>\n",
              "      <td>-0.081597</td>\n",
              "      <td>-0.063681</td>\n",
              "      <td>0.022507</td>\n",
              "      <td>-0.005577</td>\n",
              "      <td>-0.059808</td>\n",
              "      <td>-0.090312</td>\n",
              "      <td>0</td>\n",
              "    </tr>\n",
              "    <tr>\n",
              "      <th>3</th>\n",
              "      <td>0.036064</td>\n",
              "      <td>0.019601</td>\n",
              "      <td>0.002170</td>\n",
              "      <td>0.012823</td>\n",
              "      <td>0.028317</td>\n",
              "      <td>0.019601</td>\n",
              "      <td>0.017665</td>\n",
              "      <td>0.017665</td>\n",
              "      <td>0.025412</td>\n",
              "      <td>0.006528</td>\n",
              "      <td>...</td>\n",
              "      <td>-0.080144</td>\n",
              "      <td>-0.080628</td>\n",
              "      <td>-0.053029</td>\n",
              "      <td>-0.031724</td>\n",
              "      <td>-0.018651</td>\n",
              "      <td>0.003623</td>\n",
              "      <td>-0.007514</td>\n",
              "      <td>-0.007514</td>\n",
              "      <td>-0.019619</td>\n",
              "      <td>2</td>\n",
              "    </tr>\n",
              "    <tr>\n",
              "      <th>4</th>\n",
              "      <td>0.042802</td>\n",
              "      <td>0.047736</td>\n",
              "      <td>0.055137</td>\n",
              "      <td>0.051436</td>\n",
              "      <td>0.048558</td>\n",
              "      <td>0.041157</td>\n",
              "      <td>0.053081</td>\n",
              "      <td>0.053081</td>\n",
              "      <td>0.059659</td>\n",
              "      <td>0.058837</td>\n",
              "      <td>...</td>\n",
              "      <td>-0.033263</td>\n",
              "      <td>-0.056288</td>\n",
              "      <td>-0.055876</td>\n",
              "      <td>-0.063688</td>\n",
              "      <td>-0.067389</td>\n",
              "      <td>-0.067800</td>\n",
              "      <td>-0.052998</td>\n",
              "      <td>-0.038197</td>\n",
              "      <td>-0.029562</td>\n",
              "      <td>2</td>\n",
              "    </tr>\n",
              "    <tr>\n",
              "      <th>...</th>\n",
              "      <td>...</td>\n",
              "      <td>...</td>\n",
              "      <td>...</td>\n",
              "      <td>...</td>\n",
              "      <td>...</td>\n",
              "      <td>...</td>\n",
              "      <td>...</td>\n",
              "      <td>...</td>\n",
              "      <td>...</td>\n",
              "      <td>...</td>\n",
              "      <td>...</td>\n",
              "      <td>...</td>\n",
              "      <td>...</td>\n",
              "      <td>...</td>\n",
              "      <td>...</td>\n",
              "      <td>...</td>\n",
              "      <td>...</td>\n",
              "      <td>...</td>\n",
              "      <td>...</td>\n",
              "      <td>...</td>\n",
              "      <td>...</td>\n",
              "    </tr>\n",
              "    <tr>\n",
              "      <th>489</th>\n",
              "      <td>-0.024461</td>\n",
              "      <td>-0.008482</td>\n",
              "      <td>-0.022040</td>\n",
              "      <td>-0.016714</td>\n",
              "      <td>-0.002188</td>\n",
              "      <td>0.011854</td>\n",
              "      <td>-0.008967</td>\n",
              "      <td>0.008465</td>\n",
              "      <td>0.034127</td>\n",
              "      <td>-0.007030</td>\n",
              "      <td>...</td>\n",
              "      <td>-0.057387</td>\n",
              "      <td>-0.014293</td>\n",
              "      <td>0.018633</td>\n",
              "      <td>-0.133406</td>\n",
              "      <td>-0.057871</td>\n",
              "      <td>-0.066102</td>\n",
              "      <td>-0.011388</td>\n",
              "      <td>-0.033661</td>\n",
              "      <td>-0.044313</td>\n",
              "      <td>0</td>\n",
              "    </tr>\n",
              "    <tr>\n",
              "      <th>490</th>\n",
              "      <td>0.058337</td>\n",
              "      <td>0.068506</td>\n",
              "      <td>0.054948</td>\n",
              "      <td>0.058822</td>\n",
              "      <td>0.104337</td>\n",
              "      <td>0.088358</td>\n",
              "      <td>0.056401</td>\n",
              "      <td>0.054464</td>\n",
              "      <td>0.050590</td>\n",
              "      <td>0.069474</td>\n",
              "      <td>...</td>\n",
              "      <td>-0.004609</td>\n",
              "      <td>-0.038987</td>\n",
              "      <td>-0.034145</td>\n",
              "      <td>-0.008967</td>\n",
              "      <td>0.037517</td>\n",
              "      <td>-0.017198</td>\n",
              "      <td>0.033643</td>\n",
              "      <td>0.074316</td>\n",
              "      <td>0.048169</td>\n",
              "      <td>2</td>\n",
              "    </tr>\n",
              "    <tr>\n",
              "      <th>491</th>\n",
              "      <td>0.016899</td>\n",
              "      <td>0.047325</td>\n",
              "      <td>0.062537</td>\n",
              "      <td>0.066238</td>\n",
              "      <td>0.058015</td>\n",
              "      <td>0.027589</td>\n",
              "      <td>-0.015583</td>\n",
              "      <td>-0.037374</td>\n",
              "      <td>-0.045597</td>\n",
              "      <td>-0.024217</td>\n",
              "      <td>...</td>\n",
              "      <td>-0.031207</td>\n",
              "      <td>-0.028740</td>\n",
              "      <td>-0.012705</td>\n",
              "      <td>-0.007771</td>\n",
              "      <td>-0.019694</td>\n",
              "      <td>-0.020106</td>\n",
              "      <td>-0.007771</td>\n",
              "      <td>-0.019694</td>\n",
              "      <td>-0.025451</td>\n",
              "      <td>1</td>\n",
              "    </tr>\n",
              "    <tr>\n",
              "      <th>492</th>\n",
              "      <td>0.310877</td>\n",
              "      <td>0.331846</td>\n",
              "      <td>0.351582</td>\n",
              "      <td>0.317045</td>\n",
              "      <td>0.309233</td>\n",
              "      <td>0.333491</td>\n",
              "      <td>0.301010</td>\n",
              "      <td>0.272228</td>\n",
              "      <td>0.282096</td>\n",
              "      <td>0.287030</td>\n",
              "      <td>...</td>\n",
              "      <td>0.065827</td>\n",
              "      <td>0.062126</td>\n",
              "      <td>0.055137</td>\n",
              "      <td>0.032523</td>\n",
              "      <td>0.037457</td>\n",
              "      <td>0.045680</td>\n",
              "      <td>0.061715</td>\n",
              "      <td>0.028000</td>\n",
              "      <td>0.020188</td>\n",
              "      <td>0</td>\n",
              "    </tr>\n",
              "    <tr>\n",
              "      <th>493</th>\n",
              "      <td>-0.024945</td>\n",
              "      <td>-0.007998</td>\n",
              "      <td>-0.037050</td>\n",
              "      <td>-0.040440</td>\n",
              "      <td>-0.031240</td>\n",
              "      <td>-0.007998</td>\n",
              "      <td>-0.044313</td>\n",
              "      <td>-0.036566</td>\n",
              "      <td>-0.038019</td>\n",
              "      <td>-0.054966</td>\n",
              "      <td>...</td>\n",
              "      <td>0.063664</td>\n",
              "      <td>0.025896</td>\n",
              "      <td>0.023959</td>\n",
              "      <td>0.031706</td>\n",
              "      <td>0.077221</td>\n",
              "      <td>0.076253</td>\n",
              "      <td>0.050106</td>\n",
              "      <td>0.012338</td>\n",
              "      <td>0.022991</td>\n",
              "      <td>0</td>\n",
              "    </tr>\n",
              "  </tbody>\n",
              "</table>\n",
              "<p>494 rows × 3001 columns</p>\n",
              "</div>\n",
              "      <button class=\"colab-df-convert\" onclick=\"convertToInteractive('df-6bdeeb6c-1eb8-4d54-891e-7036cc6bea97')\"\n",
              "              title=\"Convert this dataframe to an interactive table.\"\n",
              "              style=\"display:none;\">\n",
              "        \n",
              "  <svg xmlns=\"http://www.w3.org/2000/svg\" height=\"24px\"viewBox=\"0 0 24 24\"\n",
              "       width=\"24px\">\n",
              "    <path d=\"M0 0h24v24H0V0z\" fill=\"none\"/>\n",
              "    <path d=\"M18.56 5.44l.94 2.06.94-2.06 2.06-.94-2.06-.94-.94-2.06-.94 2.06-2.06.94zm-11 1L8.5 8.5l.94-2.06 2.06-.94-2.06-.94L8.5 2.5l-.94 2.06-2.06.94zm10 10l.94 2.06.94-2.06 2.06-.94-2.06-.94-.94-2.06-.94 2.06-2.06.94z\"/><path d=\"M17.41 7.96l-1.37-1.37c-.4-.4-.92-.59-1.43-.59-.52 0-1.04.2-1.43.59L10.3 9.45l-7.72 7.72c-.78.78-.78 2.05 0 2.83L4 21.41c.39.39.9.59 1.41.59.51 0 1.02-.2 1.41-.59l7.78-7.78 2.81-2.81c.8-.78.8-2.07 0-2.86zM5.41 20L4 18.59l7.72-7.72 1.47 1.35L5.41 20z\"/>\n",
              "  </svg>\n",
              "      </button>\n",
              "      \n",
              "  <style>\n",
              "    .colab-df-container {\n",
              "      display:flex;\n",
              "      flex-wrap:wrap;\n",
              "      gap: 12px;\n",
              "    }\n",
              "\n",
              "    .colab-df-convert {\n",
              "      background-color: #E8F0FE;\n",
              "      border: none;\n",
              "      border-radius: 50%;\n",
              "      cursor: pointer;\n",
              "      display: none;\n",
              "      fill: #1967D2;\n",
              "      height: 32px;\n",
              "      padding: 0 0 0 0;\n",
              "      width: 32px;\n",
              "    }\n",
              "\n",
              "    .colab-df-convert:hover {\n",
              "      background-color: #E2EBFA;\n",
              "      box-shadow: 0px 1px 2px rgba(60, 64, 67, 0.3), 0px 1px 3px 1px rgba(60, 64, 67, 0.15);\n",
              "      fill: #174EA6;\n",
              "    }\n",
              "\n",
              "    [theme=dark] .colab-df-convert {\n",
              "      background-color: #3B4455;\n",
              "      fill: #D2E3FC;\n",
              "    }\n",
              "\n",
              "    [theme=dark] .colab-df-convert:hover {\n",
              "      background-color: #434B5C;\n",
              "      box-shadow: 0px 1px 3px 1px rgba(0, 0, 0, 0.15);\n",
              "      filter: drop-shadow(0px 1px 2px rgba(0, 0, 0, 0.3));\n",
              "      fill: #FFFFFF;\n",
              "    }\n",
              "  </style>\n",
              "\n",
              "      <script>\n",
              "        const buttonEl =\n",
              "          document.querySelector('#df-6bdeeb6c-1eb8-4d54-891e-7036cc6bea97 button.colab-df-convert');\n",
              "        buttonEl.style.display =\n",
              "          google.colab.kernel.accessAllowed ? 'block' : 'none';\n",
              "\n",
              "        async function convertToInteractive(key) {\n",
              "          const element = document.querySelector('#df-6bdeeb6c-1eb8-4d54-891e-7036cc6bea97');\n",
              "          const dataTable =\n",
              "            await google.colab.kernel.invokeFunction('convertToInteractive',\n",
              "                                                     [key], {});\n",
              "          if (!dataTable) return;\n",
              "\n",
              "          const docLinkHtml = 'Like what you see? Visit the ' +\n",
              "            '<a target=\"_blank\" href=https://colab.research.google.com/notebooks/data_table.ipynb>data table notebook</a>'\n",
              "            + ' to learn more about interactive tables.';\n",
              "          element.innerHTML = '';\n",
              "          dataTable['output_type'] = 'display_data';\n",
              "          await google.colab.output.renderOutput(dataTable, element);\n",
              "          const docLink = document.createElement('div');\n",
              "          docLink.innerHTML = docLinkHtml;\n",
              "          element.appendChild(docLink);\n",
              "        }\n",
              "      </script>\n",
              "    </div>\n",
              "  </div>\n",
              "  "
            ],
            "text/plain": [
              "         0         1         2         3         4         5         6     \\\n",
              "0   -0.052176 -0.045597 -0.036963 -0.035730 -0.047242 -0.048476 -0.041486   \n",
              "1    0.080611  0.077706  0.053495  0.029285  0.016212 -0.007998 -0.003156   \n",
              "2   -0.113070 -0.092733 -0.155195 -0.101449 -0.073365 -0.013809 -0.100965   \n",
              "3    0.036064  0.019601  0.002170  0.012823  0.028317  0.019601  0.017665   \n",
              "4    0.042802  0.047736  0.055137  0.051436  0.048558  0.041157  0.053081   \n",
              "..        ...       ...       ...       ...       ...       ...       ...   \n",
              "489 -0.024461 -0.008482 -0.022040 -0.016714 -0.002188  0.011854 -0.008967   \n",
              "490  0.058337  0.068506  0.054948  0.058822  0.104337  0.088358  0.056401   \n",
              "491  0.016899  0.047325  0.062537  0.066238  0.058015  0.027589 -0.015583   \n",
              "492  0.310877  0.331846  0.351582  0.317045  0.309233  0.333491  0.301010   \n",
              "493 -0.024945 -0.007998 -0.037050 -0.040440 -0.031240 -0.007998 -0.044313   \n",
              "\n",
              "         7         8         9     ...      2991      2992      2993  \\\n",
              "0   -0.040252 -0.050942 -0.046420  ...  0.024711  0.084740  0.123389   \n",
              "1   -0.036082 -0.003156  0.032191  ...  0.037033  0.049622  0.004107   \n",
              "2   -0.026398 -0.035113  0.017665  ...  0.025896 -0.104354 -0.073365   \n",
              "3    0.017665  0.025412  0.006528  ... -0.080144 -0.080628 -0.053029   \n",
              "4    0.053081  0.059659  0.058837  ... -0.033263 -0.056288 -0.055876   \n",
              "..        ...       ...       ...  ...       ...       ...       ...   \n",
              "489  0.008465  0.034127 -0.007030  ... -0.057387 -0.014293  0.018633   \n",
              "490  0.054464  0.050590  0.069474  ... -0.004609 -0.038987 -0.034145   \n",
              "491 -0.037374 -0.045597 -0.024217  ... -0.031207 -0.028740 -0.012705   \n",
              "492  0.272228  0.282096  0.287030  ...  0.065827  0.062126  0.055137   \n",
              "493 -0.036566 -0.038019 -0.054966  ...  0.063664  0.025896  0.023959   \n",
              "\n",
              "         2994      2995      2996      2997      2998      2999  3000  \n",
              "0    0.139013  0.135313  0.129556  0.137779  0.111054  0.078573     2  \n",
              "1    0.013307  0.012823  0.022991  0.083032  0.043811  0.011854     0  \n",
              "2   -0.081597 -0.063681  0.022507 -0.005577 -0.059808 -0.090312     0  \n",
              "3   -0.031724 -0.018651  0.003623 -0.007514 -0.007514 -0.019619     2  \n",
              "4   -0.063688 -0.067389 -0.067800 -0.052998 -0.038197 -0.029562     2  \n",
              "..        ...       ...       ...       ...       ...       ...   ...  \n",
              "489 -0.133406 -0.057871 -0.066102 -0.011388 -0.033661 -0.044313     0  \n",
              "490 -0.008967  0.037517 -0.017198  0.033643  0.074316  0.048169     2  \n",
              "491 -0.007771 -0.019694 -0.020106 -0.007771 -0.019694 -0.025451     1  \n",
              "492  0.032523  0.037457  0.045680  0.061715  0.028000  0.020188     0  \n",
              "493  0.031706  0.077221  0.076253  0.050106  0.012338  0.022991     0  \n",
              "\n",
              "[494 rows x 3001 columns]"
            ]
          },
          "execution_count": 16,
          "metadata": {},
          "output_type": "execute_result"
        }
      ],
      "source": [
        "subject_480_tst_df"
      ]
    },
    {
      "cell_type": "code",
      "execution_count": null,
      "metadata": {
        "id": "C7t1UYKH5Ey5"
      },
      "outputs": [],
      "source": [
        "x_sub_set=subject_480_tst_df.drop([3000],axis=1)"
      ]
    },
    {
      "cell_type": "code",
      "execution_count": null,
      "metadata": {
        "colab": {
          "base_uri": "https://localhost:8080/",
          "height": 488
        },
        "id": "WpWsDmfm5E2d",
        "outputId": "af7baff3-5189-4d38-b06f-1006ba17c74b"
      },
      "outputs": [
        {
          "data": {
            "text/html": [
              "\n",
              "  <div id=\"df-d5a0b2cb-0cb5-45f5-856d-c9b90cdcec53\">\n",
              "    <div class=\"colab-df-container\">\n",
              "      <div>\n",
              "<style scoped>\n",
              "    .dataframe tbody tr th:only-of-type {\n",
              "        vertical-align: middle;\n",
              "    }\n",
              "\n",
              "    .dataframe tbody tr th {\n",
              "        vertical-align: top;\n",
              "    }\n",
              "\n",
              "    .dataframe thead th {\n",
              "        text-align: right;\n",
              "    }\n",
              "</style>\n",
              "<table border=\"1\" class=\"dataframe\">\n",
              "  <thead>\n",
              "    <tr style=\"text-align: right;\">\n",
              "      <th></th>\n",
              "      <th>0</th>\n",
              "      <th>1</th>\n",
              "      <th>2</th>\n",
              "      <th>3</th>\n",
              "      <th>4</th>\n",
              "      <th>5</th>\n",
              "      <th>6</th>\n",
              "      <th>7</th>\n",
              "      <th>8</th>\n",
              "      <th>9</th>\n",
              "      <th>...</th>\n",
              "      <th>2990</th>\n",
              "      <th>2991</th>\n",
              "      <th>2992</th>\n",
              "      <th>2993</th>\n",
              "      <th>2994</th>\n",
              "      <th>2995</th>\n",
              "      <th>2996</th>\n",
              "      <th>2997</th>\n",
              "      <th>2998</th>\n",
              "      <th>2999</th>\n",
              "    </tr>\n",
              "  </thead>\n",
              "  <tbody>\n",
              "    <tr>\n",
              "      <th>0</th>\n",
              "      <td>-0.052176</td>\n",
              "      <td>-0.045597</td>\n",
              "      <td>-0.036963</td>\n",
              "      <td>-0.035730</td>\n",
              "      <td>-0.047242</td>\n",
              "      <td>-0.048476</td>\n",
              "      <td>-0.041486</td>\n",
              "      <td>-0.040252</td>\n",
              "      <td>-0.050942</td>\n",
              "      <td>-0.046420</td>\n",
              "      <td>...</td>\n",
              "      <td>-0.003659</td>\n",
              "      <td>0.024711</td>\n",
              "      <td>0.084740</td>\n",
              "      <td>0.123389</td>\n",
              "      <td>0.139013</td>\n",
              "      <td>0.135313</td>\n",
              "      <td>0.129556</td>\n",
              "      <td>0.137779</td>\n",
              "      <td>0.111054</td>\n",
              "      <td>0.078573</td>\n",
              "    </tr>\n",
              "    <tr>\n",
              "      <th>1</th>\n",
              "      <td>0.080611</td>\n",
              "      <td>0.077706</td>\n",
              "      <td>0.053495</td>\n",
              "      <td>0.029285</td>\n",
              "      <td>0.016212</td>\n",
              "      <td>-0.007998</td>\n",
              "      <td>-0.003156</td>\n",
              "      <td>-0.036082</td>\n",
              "      <td>-0.003156</td>\n",
              "      <td>0.032191</td>\n",
              "      <td>...</td>\n",
              "      <td>-0.015745</td>\n",
              "      <td>0.037033</td>\n",
              "      <td>0.049622</td>\n",
              "      <td>0.004107</td>\n",
              "      <td>0.013307</td>\n",
              "      <td>0.012823</td>\n",
              "      <td>0.022991</td>\n",
              "      <td>0.083032</td>\n",
              "      <td>0.043811</td>\n",
              "      <td>0.011854</td>\n",
              "    </tr>\n",
              "    <tr>\n",
              "      <th>2</th>\n",
              "      <td>-0.113070</td>\n",
              "      <td>-0.092733</td>\n",
              "      <td>-0.155195</td>\n",
              "      <td>-0.101449</td>\n",
              "      <td>-0.073365</td>\n",
              "      <td>-0.013809</td>\n",
              "      <td>-0.100965</td>\n",
              "      <td>-0.026398</td>\n",
              "      <td>-0.035113</td>\n",
              "      <td>0.017665</td>\n",
              "      <td>...</td>\n",
              "      <td>0.007496</td>\n",
              "      <td>0.025896</td>\n",
              "      <td>-0.104354</td>\n",
              "      <td>-0.073365</td>\n",
              "      <td>-0.081597</td>\n",
              "      <td>-0.063681</td>\n",
              "      <td>0.022507</td>\n",
              "      <td>-0.005577</td>\n",
              "      <td>-0.059808</td>\n",
              "      <td>-0.090312</td>\n",
              "    </tr>\n",
              "    <tr>\n",
              "      <th>3</th>\n",
              "      <td>0.036064</td>\n",
              "      <td>0.019601</td>\n",
              "      <td>0.002170</td>\n",
              "      <td>0.012823</td>\n",
              "      <td>0.028317</td>\n",
              "      <td>0.019601</td>\n",
              "      <td>0.017665</td>\n",
              "      <td>0.017665</td>\n",
              "      <td>0.025412</td>\n",
              "      <td>0.006528</td>\n",
              "      <td>...</td>\n",
              "      <td>-0.033177</td>\n",
              "      <td>-0.080144</td>\n",
              "      <td>-0.080628</td>\n",
              "      <td>-0.053029</td>\n",
              "      <td>-0.031724</td>\n",
              "      <td>-0.018651</td>\n",
              "      <td>0.003623</td>\n",
              "      <td>-0.007514</td>\n",
              "      <td>-0.007514</td>\n",
              "      <td>-0.019619</td>\n",
              "    </tr>\n",
              "    <tr>\n",
              "      <th>4</th>\n",
              "      <td>0.042802</td>\n",
              "      <td>0.047736</td>\n",
              "      <td>0.055137</td>\n",
              "      <td>0.051436</td>\n",
              "      <td>0.048558</td>\n",
              "      <td>0.041157</td>\n",
              "      <td>0.053081</td>\n",
              "      <td>0.053081</td>\n",
              "      <td>0.059659</td>\n",
              "      <td>0.058837</td>\n",
              "      <td>...</td>\n",
              "      <td>-0.021750</td>\n",
              "      <td>-0.033263</td>\n",
              "      <td>-0.056288</td>\n",
              "      <td>-0.055876</td>\n",
              "      <td>-0.063688</td>\n",
              "      <td>-0.067389</td>\n",
              "      <td>-0.067800</td>\n",
              "      <td>-0.052998</td>\n",
              "      <td>-0.038197</td>\n",
              "      <td>-0.029562</td>\n",
              "    </tr>\n",
              "    <tr>\n",
              "      <th>...</th>\n",
              "      <td>...</td>\n",
              "      <td>...</td>\n",
              "      <td>...</td>\n",
              "      <td>...</td>\n",
              "      <td>...</td>\n",
              "      <td>...</td>\n",
              "      <td>...</td>\n",
              "      <td>...</td>\n",
              "      <td>...</td>\n",
              "      <td>...</td>\n",
              "      <td>...</td>\n",
              "      <td>...</td>\n",
              "      <td>...</td>\n",
              "      <td>...</td>\n",
              "      <td>...</td>\n",
              "      <td>...</td>\n",
              "      <td>...</td>\n",
              "      <td>...</td>\n",
              "      <td>...</td>\n",
              "      <td>...</td>\n",
              "      <td>...</td>\n",
              "    </tr>\n",
              "    <tr>\n",
              "      <th>489</th>\n",
              "      <td>-0.024461</td>\n",
              "      <td>-0.008482</td>\n",
              "      <td>-0.022040</td>\n",
              "      <td>-0.016714</td>\n",
              "      <td>-0.002188</td>\n",
              "      <td>0.011854</td>\n",
              "      <td>-0.008967</td>\n",
              "      <td>0.008465</td>\n",
              "      <td>0.034127</td>\n",
              "      <td>-0.007030</td>\n",
              "      <td>...</td>\n",
              "      <td>-0.052060</td>\n",
              "      <td>-0.057387</td>\n",
              "      <td>-0.014293</td>\n",
              "      <td>0.018633</td>\n",
              "      <td>-0.133406</td>\n",
              "      <td>-0.057871</td>\n",
              "      <td>-0.066102</td>\n",
              "      <td>-0.011388</td>\n",
              "      <td>-0.033661</td>\n",
              "      <td>-0.044313</td>\n",
              "    </tr>\n",
              "    <tr>\n",
              "      <th>490</th>\n",
              "      <td>0.058337</td>\n",
              "      <td>0.068506</td>\n",
              "      <td>0.054948</td>\n",
              "      <td>0.058822</td>\n",
              "      <td>0.104337</td>\n",
              "      <td>0.088358</td>\n",
              "      <td>0.056401</td>\n",
              "      <td>0.054464</td>\n",
              "      <td>0.050590</td>\n",
              "      <td>0.069474</td>\n",
              "      <td>...</td>\n",
              "      <td>-0.021556</td>\n",
              "      <td>-0.004609</td>\n",
              "      <td>-0.038987</td>\n",
              "      <td>-0.034145</td>\n",
              "      <td>-0.008967</td>\n",
              "      <td>0.037517</td>\n",
              "      <td>-0.017198</td>\n",
              "      <td>0.033643</td>\n",
              "      <td>0.074316</td>\n",
              "      <td>0.048169</td>\n",
              "    </tr>\n",
              "    <tr>\n",
              "      <th>491</th>\n",
              "      <td>0.016899</td>\n",
              "      <td>0.047325</td>\n",
              "      <td>0.062537</td>\n",
              "      <td>0.066238</td>\n",
              "      <td>0.058015</td>\n",
              "      <td>0.027589</td>\n",
              "      <td>-0.015583</td>\n",
              "      <td>-0.037374</td>\n",
              "      <td>-0.045597</td>\n",
              "      <td>-0.024217</td>\n",
              "      <td>...</td>\n",
              "      <td>-0.004482</td>\n",
              "      <td>-0.031207</td>\n",
              "      <td>-0.028740</td>\n",
              "      <td>-0.012705</td>\n",
              "      <td>-0.007771</td>\n",
              "      <td>-0.019694</td>\n",
              "      <td>-0.020106</td>\n",
              "      <td>-0.007771</td>\n",
              "      <td>-0.019694</td>\n",
              "      <td>-0.025451</td>\n",
              "    </tr>\n",
              "    <tr>\n",
              "      <th>492</th>\n",
              "      <td>0.310877</td>\n",
              "      <td>0.331846</td>\n",
              "      <td>0.351582</td>\n",
              "      <td>0.317045</td>\n",
              "      <td>0.309233</td>\n",
              "      <td>0.333491</td>\n",
              "      <td>0.301010</td>\n",
              "      <td>0.272228</td>\n",
              "      <td>0.282096</td>\n",
              "      <td>0.287030</td>\n",
              "      <td>...</td>\n",
              "      <td>0.065416</td>\n",
              "      <td>0.065827</td>\n",
              "      <td>0.062126</td>\n",
              "      <td>0.055137</td>\n",
              "      <td>0.032523</td>\n",
              "      <td>0.037457</td>\n",
              "      <td>0.045680</td>\n",
              "      <td>0.061715</td>\n",
              "      <td>0.028000</td>\n",
              "      <td>0.020188</td>\n",
              "    </tr>\n",
              "    <tr>\n",
              "      <th>493</th>\n",
              "      <td>-0.024945</td>\n",
              "      <td>-0.007998</td>\n",
              "      <td>-0.037050</td>\n",
              "      <td>-0.040440</td>\n",
              "      <td>-0.031240</td>\n",
              "      <td>-0.007998</td>\n",
              "      <td>-0.044313</td>\n",
              "      <td>-0.036566</td>\n",
              "      <td>-0.038019</td>\n",
              "      <td>-0.054966</td>\n",
              "      <td>...</td>\n",
              "      <td>0.062211</td>\n",
              "      <td>0.063664</td>\n",
              "      <td>0.025896</td>\n",
              "      <td>0.023959</td>\n",
              "      <td>0.031706</td>\n",
              "      <td>0.077221</td>\n",
              "      <td>0.076253</td>\n",
              "      <td>0.050106</td>\n",
              "      <td>0.012338</td>\n",
              "      <td>0.022991</td>\n",
              "    </tr>\n",
              "  </tbody>\n",
              "</table>\n",
              "<p>494 rows × 3000 columns</p>\n",
              "</div>\n",
              "      <button class=\"colab-df-convert\" onclick=\"convertToInteractive('df-d5a0b2cb-0cb5-45f5-856d-c9b90cdcec53')\"\n",
              "              title=\"Convert this dataframe to an interactive table.\"\n",
              "              style=\"display:none;\">\n",
              "        \n",
              "  <svg xmlns=\"http://www.w3.org/2000/svg\" height=\"24px\"viewBox=\"0 0 24 24\"\n",
              "       width=\"24px\">\n",
              "    <path d=\"M0 0h24v24H0V0z\" fill=\"none\"/>\n",
              "    <path d=\"M18.56 5.44l.94 2.06.94-2.06 2.06-.94-2.06-.94-.94-2.06-.94 2.06-2.06.94zm-11 1L8.5 8.5l.94-2.06 2.06-.94-2.06-.94L8.5 2.5l-.94 2.06-2.06.94zm10 10l.94 2.06.94-2.06 2.06-.94-2.06-.94-.94-2.06-.94 2.06-2.06.94z\"/><path d=\"M17.41 7.96l-1.37-1.37c-.4-.4-.92-.59-1.43-.59-.52 0-1.04.2-1.43.59L10.3 9.45l-7.72 7.72c-.78.78-.78 2.05 0 2.83L4 21.41c.39.39.9.59 1.41.59.51 0 1.02-.2 1.41-.59l7.78-7.78 2.81-2.81c.8-.78.8-2.07 0-2.86zM5.41 20L4 18.59l7.72-7.72 1.47 1.35L5.41 20z\"/>\n",
              "  </svg>\n",
              "      </button>\n",
              "      \n",
              "  <style>\n",
              "    .colab-df-container {\n",
              "      display:flex;\n",
              "      flex-wrap:wrap;\n",
              "      gap: 12px;\n",
              "    }\n",
              "\n",
              "    .colab-df-convert {\n",
              "      background-color: #E8F0FE;\n",
              "      border: none;\n",
              "      border-radius: 50%;\n",
              "      cursor: pointer;\n",
              "      display: none;\n",
              "      fill: #1967D2;\n",
              "      height: 32px;\n",
              "      padding: 0 0 0 0;\n",
              "      width: 32px;\n",
              "    }\n",
              "\n",
              "    .colab-df-convert:hover {\n",
              "      background-color: #E2EBFA;\n",
              "      box-shadow: 0px 1px 2px rgba(60, 64, 67, 0.3), 0px 1px 3px 1px rgba(60, 64, 67, 0.15);\n",
              "      fill: #174EA6;\n",
              "    }\n",
              "\n",
              "    [theme=dark] .colab-df-convert {\n",
              "      background-color: #3B4455;\n",
              "      fill: #D2E3FC;\n",
              "    }\n",
              "\n",
              "    [theme=dark] .colab-df-convert:hover {\n",
              "      background-color: #434B5C;\n",
              "      box-shadow: 0px 1px 3px 1px rgba(0, 0, 0, 0.15);\n",
              "      filter: drop-shadow(0px 1px 2px rgba(0, 0, 0, 0.3));\n",
              "      fill: #FFFFFF;\n",
              "    }\n",
              "  </style>\n",
              "\n",
              "      <script>\n",
              "        const buttonEl =\n",
              "          document.querySelector('#df-d5a0b2cb-0cb5-45f5-856d-c9b90cdcec53 button.colab-df-convert');\n",
              "        buttonEl.style.display =\n",
              "          google.colab.kernel.accessAllowed ? 'block' : 'none';\n",
              "\n",
              "        async function convertToInteractive(key) {\n",
              "          const element = document.querySelector('#df-d5a0b2cb-0cb5-45f5-856d-c9b90cdcec53');\n",
              "          const dataTable =\n",
              "            await google.colab.kernel.invokeFunction('convertToInteractive',\n",
              "                                                     [key], {});\n",
              "          if (!dataTable) return;\n",
              "\n",
              "          const docLinkHtml = 'Like what you see? Visit the ' +\n",
              "            '<a target=\"_blank\" href=https://colab.research.google.com/notebooks/data_table.ipynb>data table notebook</a>'\n",
              "            + ' to learn more about interactive tables.';\n",
              "          element.innerHTML = '';\n",
              "          dataTable['output_type'] = 'display_data';\n",
              "          await google.colab.output.renderOutput(dataTable, element);\n",
              "          const docLink = document.createElement('div');\n",
              "          docLink.innerHTML = docLinkHtml;\n",
              "          element.appendChild(docLink);\n",
              "        }\n",
              "      </script>\n",
              "    </div>\n",
              "  </div>\n",
              "  "
            ],
            "text/plain": [
              "         0         1         2         3         4         5         6     \\\n",
              "0   -0.052176 -0.045597 -0.036963 -0.035730 -0.047242 -0.048476 -0.041486   \n",
              "1    0.080611  0.077706  0.053495  0.029285  0.016212 -0.007998 -0.003156   \n",
              "2   -0.113070 -0.092733 -0.155195 -0.101449 -0.073365 -0.013809 -0.100965   \n",
              "3    0.036064  0.019601  0.002170  0.012823  0.028317  0.019601  0.017665   \n",
              "4    0.042802  0.047736  0.055137  0.051436  0.048558  0.041157  0.053081   \n",
              "..        ...       ...       ...       ...       ...       ...       ...   \n",
              "489 -0.024461 -0.008482 -0.022040 -0.016714 -0.002188  0.011854 -0.008967   \n",
              "490  0.058337  0.068506  0.054948  0.058822  0.104337  0.088358  0.056401   \n",
              "491  0.016899  0.047325  0.062537  0.066238  0.058015  0.027589 -0.015583   \n",
              "492  0.310877  0.331846  0.351582  0.317045  0.309233  0.333491  0.301010   \n",
              "493 -0.024945 -0.007998 -0.037050 -0.040440 -0.031240 -0.007998 -0.044313   \n",
              "\n",
              "         7         8         9     ...      2990      2991      2992  \\\n",
              "0   -0.040252 -0.050942 -0.046420  ... -0.003659  0.024711  0.084740   \n",
              "1   -0.036082 -0.003156  0.032191  ... -0.015745  0.037033  0.049622   \n",
              "2   -0.026398 -0.035113  0.017665  ...  0.007496  0.025896 -0.104354   \n",
              "3    0.017665  0.025412  0.006528  ... -0.033177 -0.080144 -0.080628   \n",
              "4    0.053081  0.059659  0.058837  ... -0.021750 -0.033263 -0.056288   \n",
              "..        ...       ...       ...  ...       ...       ...       ...   \n",
              "489  0.008465  0.034127 -0.007030  ... -0.052060 -0.057387 -0.014293   \n",
              "490  0.054464  0.050590  0.069474  ... -0.021556 -0.004609 -0.038987   \n",
              "491 -0.037374 -0.045597 -0.024217  ... -0.004482 -0.031207 -0.028740   \n",
              "492  0.272228  0.282096  0.287030  ...  0.065416  0.065827  0.062126   \n",
              "493 -0.036566 -0.038019 -0.054966  ...  0.062211  0.063664  0.025896   \n",
              "\n",
              "         2993      2994      2995      2996      2997      2998      2999  \n",
              "0    0.123389  0.139013  0.135313  0.129556  0.137779  0.111054  0.078573  \n",
              "1    0.004107  0.013307  0.012823  0.022991  0.083032  0.043811  0.011854  \n",
              "2   -0.073365 -0.081597 -0.063681  0.022507 -0.005577 -0.059808 -0.090312  \n",
              "3   -0.053029 -0.031724 -0.018651  0.003623 -0.007514 -0.007514 -0.019619  \n",
              "4   -0.055876 -0.063688 -0.067389 -0.067800 -0.052998 -0.038197 -0.029562  \n",
              "..        ...       ...       ...       ...       ...       ...       ...  \n",
              "489  0.018633 -0.133406 -0.057871 -0.066102 -0.011388 -0.033661 -0.044313  \n",
              "490 -0.034145 -0.008967  0.037517 -0.017198  0.033643  0.074316  0.048169  \n",
              "491 -0.012705 -0.007771 -0.019694 -0.020106 -0.007771 -0.019694 -0.025451  \n",
              "492  0.055137  0.032523  0.037457  0.045680  0.061715  0.028000  0.020188  \n",
              "493  0.023959  0.031706  0.077221  0.076253  0.050106  0.012338  0.022991  \n",
              "\n",
              "[494 rows x 3000 columns]"
            ]
          },
          "execution_count": 17,
          "metadata": {},
          "output_type": "execute_result"
        }
      ],
      "source": [
        "x_sub_set"
      ]
    },
    {
      "cell_type": "code",
      "execution_count": null,
      "metadata": {
        "id": "BPdwO5su5E4n"
      },
      "outputs": [],
      "source": [
        "x_sub_set_rshp=np.array(x_sub_set).reshape(494,3000,1)"
      ]
    },
    {
      "cell_type": "code",
      "execution_count": null,
      "metadata": {
        "colab": {
          "base_uri": "https://localhost:8080/"
        },
        "id": "9KdMGW8U5E7x",
        "outputId": "62e8793a-6058-46a2-b7bb-25f9495b601c"
      },
      "outputs": [
        {
          "data": {
            "text/plain": [
              "(494, 3000, 1)"
            ]
          },
          "execution_count": 18,
          "metadata": {},
          "output_type": "execute_result"
        }
      ],
      "source": [
        "x_sub_set_rshp.shape"
      ]
    },
    {
      "cell_type": "code",
      "execution_count": null,
      "metadata": {
        "id": "P8Z7JwyS5E-E"
      },
      "outputs": [],
      "source": [
        "y_sub_dt=subject_480_tst_df[3000]"
      ]
    },
    {
      "cell_type": "code",
      "execution_count": null,
      "metadata": {
        "colab": {
          "base_uri": "https://localhost:8080/"
        },
        "id": "P71fPO245FBM",
        "outputId": "b36b67de-22d4-44e2-c9d1-f7d213de640c"
      },
      "outputs": [
        {
          "data": {
            "text/plain": [
              "0      2\n",
              "1      0\n",
              "2      0\n",
              "3      2\n",
              "4      2\n",
              "      ..\n",
              "489    0\n",
              "490    2\n",
              "491    1\n",
              "492    0\n",
              "493    0\n",
              "Name: 3000, Length: 494, dtype: int64"
            ]
          },
          "execution_count": 21,
          "metadata": {},
          "output_type": "execute_result"
        }
      ],
      "source": [
        "y_sub_dt"
      ]
    },
    {
      "cell_type": "code",
      "execution_count": null,
      "metadata": {
        "id": "HY8qwQoa5XEW"
      },
      "outputs": [],
      "source": [
        "y_sub_dt_=np_utils.to_categorical(y_sub_dt)"
      ]
    },
    {
      "cell_type": "code",
      "execution_count": null,
      "metadata": {
        "colab": {
          "base_uri": "https://localhost:8080/"
        },
        "id": "2JGUYzKw5XGM",
        "outputId": "c6de1de4-b9a9-420e-e451-bdea853e1b9f"
      },
      "outputs": [
        {
          "output_type": "execute_result",
          "data": {
            "text/plain": [
              "array([[0., 0., 1., 0., 0.],\n",
              "       [1., 0., 0., 0., 0.],\n",
              "       [1., 0., 0., 0., 0.],\n",
              "       ...,\n",
              "       [0., 1., 0., 0., 0.],\n",
              "       [1., 0., 0., 0., 0.],\n",
              "       [1., 0., 0., 0., 0.]], dtype=float32)"
            ]
          },
          "metadata": {},
          "execution_count": 20
        }
      ],
      "source": [
        "y_sub_dt_"
      ]
    },
    {
      "cell_type": "code",
      "execution_count": null,
      "metadata": {
        "colab": {
          "base_uri": "https://localhost:8080/"
        },
        "id": "FoHvk5Wo8F0O",
        "outputId": "ced1665c-173c-4afd-9cf3-2468a91f6381"
      },
      "outputs": [
        {
          "output_type": "stream",
          "name": "stdout",
          "text": [
            "Looking in indexes: https://pypi.org/simple, https://us-python.pkg.dev/colab-wheels/public/simple/\n",
            "Collecting git+https://www.github.com/keras-team/keras-contrib.git\n",
            "  Cloning https://www.github.com/keras-team/keras-contrib.git to /tmp/pip-req-build-qtk9qv2c\n",
            "  Running command git clone -q https://www.github.com/keras-team/keras-contrib.git /tmp/pip-req-build-qtk9qv2c\n",
            "Requirement already satisfied: keras in /usr/local/lib/python3.7/dist-packages (from keras-contrib==2.0.8) (2.8.0)\n",
            "Building wheels for collected packages: keras-contrib\n",
            "  Building wheel for keras-contrib (setup.py) ... \u001b[?25l\u001b[?25hdone\n",
            "  Created wheel for keras-contrib: filename=keras_contrib-2.0.8-py3-none-any.whl size=101077 sha256=f198ffda920f7d1438bb15b4b8a18dffb5a836c170753f0072fe493b6762f9be\n",
            "  Stored in directory: /tmp/pip-ephem-wheel-cache-n1o4my9a/wheels/bb/1f/f2/b57495012683b6b20bbae94a3915ec79753111452d79886abc\n",
            "Successfully built keras-contrib\n",
            "Installing collected packages: keras-contrib\n",
            "Successfully installed keras-contrib-2.0.8\n"
          ]
        }
      ],
      "source": [
        "pip install git+https://www.github.com/keras-team/keras-contrib.git"
      ]
    },
    {
      "cell_type": "code",
      "execution_count": null,
      "metadata": {
        "id": "BdXITLn_8JGJ"
      },
      "outputs": [],
      "source": [
        "from keras_contrib.layers import CRF"
      ]
    },
    {
      "cell_type": "code",
      "execution_count": null,
      "metadata": {
        "id": "pN7qI0OE8BaQ"
      },
      "outputs": [],
      "source": [
        "from keras import optimizers, losses, activations, models\n",
        "from keras.layers import Dense, Input, Dropout, Convolution1D, MaxPool1D, GlobalMaxPool1D, GlobalAveragePooling1D, concatenate, SpatialDropout1D, TimeDistributed, Bidirectional, LSTM\n",
        "from keras_contrib.layers import CRF\n",
        "\n",
        "WINDOW_SIZE = 100"
      ]
    },
    {
      "cell_type": "code",
      "execution_count": null,
      "metadata": {
        "id": "0x9jglJO-LnA"
      },
      "outputs": [],
      "source": [
        "nclass = 5"
      ]
    },
    {
      "cell_type": "code",
      "execution_count": null,
      "metadata": {
        "id": "56vRSYNrGDOt"
      },
      "outputs": [],
      "source": [
        "#n_classes=5\n",
        "def model_b(n_classes=5, use_sub_layer=False, use_rnn=True, verbose=False):\n",
        "    inputLayer = Input(shape=(3000, 1), name='inLayer')\n",
        "    convFine = Conv1D(filters=64, kernel_size=int(Fs/2), strides=int(Fs/16), padding='same', activation='relu', name='fConv1')(inputLayer)\n",
        "    convFine = MaxPool1D(pool_size=8, strides=8, name='fMaxP1')(convFine)\n",
        "    convFine = Dropout(rate=0.5, name='fDrop1')(convFine)\n",
        "    convFine = Conv1D(filters=128, kernel_size=8, padding='same', activation='relu', name='fConv2')(convFine)\n",
        "    convFine = Conv1D(filters=128, kernel_size=8, padding='same', activation='relu', name='fConv3')(convFine)\n",
        "    convFine = Conv1D(filters=128, kernel_size=8, padding='same', activation='relu', name='fConv4')(convFine)\n",
        "    convFine = MaxPool1D(pool_size=4, strides=4, name='fMaxP2')(convFine)\n",
        "    fineShape = convFine.get_shape()\n",
        "    convFine = Flatten(name='fFlat1')(convFine)\n",
        "    \n",
        "    # network to learn coarse features\n",
        "    convCoarse = Conv1D(filters=32, kernel_size=Fs*4, strides=int(Fs/2), padding='same', activation='relu', name='cConv1')(inputLayer)\n",
        "    convCoarse = MaxPool1D(pool_size=4, strides=4, name='cMaxP1')(convCoarse)\n",
        "    convCoarse = Dropout(rate=0.5, name='cDrop1')(convCoarse)\n",
        "    convCoarse = Conv1D(filters=128, kernel_size=6, padding='same', activation='relu', name='cConv2')(convCoarse)\n",
        "    convCoarse = Conv1D(filters=128, kernel_size=6, padding='same', activation='relu', name='cConv3')(convCoarse)\n",
        "    convCoarse = Conv1D(filters=128, kernel_size=6, padding='same', activation='relu', name='cConv4')(convCoarse)\n",
        "    convCoarse = MaxPool1D(pool_size=2, strides=2, name='cMaxP2')(convCoarse)\n",
        "    coarseShape = convCoarse.get_shape()\n",
        "    convCoarse = Flatten(name='cFlat1')(convCoarse)\n",
        "    \n",
        "    # concatenate coarse and fine cnns\n",
        "    mergeLayer = concatenate([convFine, convCoarse], name='merge_1')\n",
        "    outLayer = Dropout(rate=0.5, name='mDrop1')(mergeLayer)\n",
        "    \n",
        "    outLayer = Reshape((1, outLayer.get_shape()[1]), name='reshape1')(outLayer)\n",
        "    outLayer = LSTM(64, return_sequences=True)(outLayer)\n",
        "    outLayer = LSTM(64, return_sequences=False)(outLayer)\n",
        "\n",
        "    # Classify\n",
        "    outLayer = Dense(n_classes, activation='softmax', name='outLayer')(outLayer)\n",
        "    model = Model(inputLayer, outLayer)\n",
        "    optimizer = Adam(lr=1e-4)\n",
        "    model.compile(optimizer=optimizer, loss='categorical_crossentropy', metrics=['acc'])\n",
        "    #model.compile(optimizer=optimizer, loss='categorical_crossentropy', metrics=['accuracy'])\n",
        "    if verbose:\n",
        "        model.summary()\n",
        "    return model"
      ]
    },
    {
      "cell_type": "markdown",
      "metadata": {
        "id": "fwntY_Ei1WzB"
      },
      "source": [
        "Checking for individual model accuracies wrt to the test set"
      ]
    },
    {
      "cell_type": "code",
      "execution_count": null,
      "metadata": {
        "colab": {
          "base_uri": "https://localhost:8080/"
        },
        "id": "t9wp3DH71dA_",
        "outputId": "86ee50a2-a536-47ea-a90a-bd7cecb33564"
      },
      "outputs": [
        {
          "name": "stdout",
          "output_type": "stream",
          "text": [
            "Model: \"model\"\n",
            "__________________________________________________________________________________________________\n",
            " Layer (type)                   Output Shape         Param #     Connected to                     \n",
            "==================================================================================================\n",
            " inLayer (InputLayer)           [(None, 3000, 1)]    0           []                               \n",
            "                                                                                                  \n",
            " fConv1 (Conv1D)                (None, 500, 64)      3264        ['inLayer[0][0]']                \n",
            "                                                                                                  \n",
            " cConv1 (Conv1D)                (None, 60, 32)       12832       ['inLayer[0][0]']                \n",
            "                                                                                                  \n",
            " fMaxP1 (MaxPooling1D)          (None, 62, 64)       0           ['fConv1[0][0]']                 \n",
            "                                                                                                  \n",
            " cMaxP1 (MaxPooling1D)          (None, 15, 32)       0           ['cConv1[0][0]']                 \n",
            "                                                                                                  \n",
            " fDrop1 (Dropout)               (None, 62, 64)       0           ['fMaxP1[0][0]']                 \n",
            "                                                                                                  \n",
            " cDrop1 (Dropout)               (None, 15, 32)       0           ['cMaxP1[0][0]']                 \n",
            "                                                                                                  \n",
            " fConv2 (Conv1D)                (None, 62, 128)      65664       ['fDrop1[0][0]']                 \n",
            "                                                                                                  \n",
            " cConv2 (Conv1D)                (None, 15, 128)      24704       ['cDrop1[0][0]']                 \n",
            "                                                                                                  \n",
            " fConv3 (Conv1D)                (None, 62, 128)      131200      ['fConv2[0][0]']                 \n",
            "                                                                                                  \n",
            " cConv3 (Conv1D)                (None, 15, 128)      98432       ['cConv2[0][0]']                 \n",
            "                                                                                                  \n",
            " fConv4 (Conv1D)                (None, 62, 128)      131200      ['fConv3[0][0]']                 \n",
            "                                                                                                  \n",
            " cConv4 (Conv1D)                (None, 15, 128)      98432       ['cConv3[0][0]']                 \n",
            "                                                                                                  \n",
            " fMaxP2 (MaxPooling1D)          (None, 15, 128)      0           ['fConv4[0][0]']                 \n",
            "                                                                                                  \n",
            " cMaxP2 (MaxPooling1D)          (None, 7, 128)       0           ['cConv4[0][0]']                 \n",
            "                                                                                                  \n",
            " fFlat1 (Flatten)               (None, 1920)         0           ['fMaxP2[0][0]']                 \n",
            "                                                                                                  \n",
            " cFlat1 (Flatten)               (None, 896)          0           ['cMaxP2[0][0]']                 \n",
            "                                                                                                  \n",
            " merge_1 (Concatenate)          (None, 2816)         0           ['fFlat1[0][0]',                 \n",
            "                                                                  'cFlat1[0][0]']                 \n",
            "                                                                                                  \n",
            " mDrop1 (Dropout)               (None, 2816)         0           ['merge_1[0][0]']                \n",
            "                                                                                                  \n",
            " reshape1 (Reshape)             (None, 1, 2816)      0           ['mDrop1[0][0]']                 \n",
            "                                                                                                  \n",
            " lstm (LSTM)                    (None, 1, 64)        737536      ['reshape1[0][0]']               \n",
            "                                                                                                  \n",
            " lstm_1 (LSTM)                  (None, 64)           33024       ['lstm[0][0]']                   \n",
            "                                                                                                  \n",
            " outLayer (Dense)               (None, 5)            325         ['lstm_1[0][0]']                 \n",
            "                                                                                                  \n",
            "==================================================================================================\n",
            "Total params: 1,336,613\n",
            "Trainable params: 1,336,613\n",
            "Non-trainable params: 0\n",
            "__________________________________________________________________________________________________\n",
            "Model: \"model_1\"\n",
            "__________________________________________________________________________________________________\n",
            " Layer (type)                   Output Shape         Param #     Connected to                     \n",
            "==================================================================================================\n",
            " inLayer (InputLayer)           [(None, 3000, 1)]    0           []                               \n",
            "                                                                                                  \n",
            " fConv1 (Conv1D)                (None, 500, 64)      3264        ['inLayer[0][0]']                \n",
            "                                                                                                  \n",
            " cConv1 (Conv1D)                (None, 60, 32)       12832       ['inLayer[0][0]']                \n",
            "                                                                                                  \n",
            " fMaxP1 (MaxPooling1D)          (None, 62, 64)       0           ['fConv1[0][0]']                 \n",
            "                                                                                                  \n",
            " cMaxP1 (MaxPooling1D)          (None, 15, 32)       0           ['cConv1[0][0]']                 \n",
            "                                                                                                  \n",
            " fDrop1 (Dropout)               (None, 62, 64)       0           ['fMaxP1[0][0]']                 \n",
            "                                                                                                  \n",
            " cDrop1 (Dropout)               (None, 15, 32)       0           ['cMaxP1[0][0]']                 \n",
            "                                                                                                  \n",
            " fConv2 (Conv1D)                (None, 62, 128)      65664       ['fDrop1[0][0]']                 \n",
            "                                                                                                  \n",
            " cConv2 (Conv1D)                (None, 15, 128)      24704       ['cDrop1[0][0]']                 \n",
            "                                                                                                  \n",
            " fConv3 (Conv1D)                (None, 62, 128)      131200      ['fConv2[0][0]']                 \n",
            "                                                                                                  \n",
            " cConv3 (Conv1D)                (None, 15, 128)      98432       ['cConv2[0][0]']                 \n",
            "                                                                                                  \n",
            " fConv4 (Conv1D)                (None, 62, 128)      131200      ['fConv3[0][0]']                 \n",
            "                                                                                                  \n",
            " cConv4 (Conv1D)                (None, 15, 128)      98432       ['cConv3[0][0]']                 \n",
            "                                                                                                  \n",
            " fMaxP2 (MaxPooling1D)          (None, 15, 128)      0           ['fConv4[0][0]']                 \n",
            "                                                                                                  \n",
            " cMaxP2 (MaxPooling1D)          (None, 7, 128)       0           ['cConv4[0][0]']                 \n",
            "                                                                                                  \n",
            " fFlat1 (Flatten)               (None, 1920)         0           ['fMaxP2[0][0]']                 \n",
            "                                                                                                  \n",
            " cFlat1 (Flatten)               (None, 896)          0           ['cMaxP2[0][0]']                 \n",
            "                                                                                                  \n",
            " merge_1 (Concatenate)          (None, 2816)         0           ['fFlat1[0][0]',                 \n",
            "                                                                  'cFlat1[0][0]']                 \n",
            "                                                                                                  \n",
            " mDrop1 (Dropout)               (None, 2816)         0           ['merge_1[0][0]']                \n",
            "                                                                                                  \n",
            " reshape1 (Reshape)             (None, 1, 2816)      0           ['mDrop1[0][0]']                 \n",
            "                                                                                                  \n",
            " lstm_2 (LSTM)                  (None, 1, 64)        737536      ['reshape1[0][0]']               \n",
            "                                                                                                  \n",
            " lstm_3 (LSTM)                  (None, 64)           33024       ['lstm_2[0][0]']                 \n",
            "                                                                                                  \n",
            " outLayer (Dense)               (None, 5)            325         ['lstm_3[0][0]']                 \n",
            "                                                                                                  \n",
            "==================================================================================================\n",
            "Total params: 1,336,613\n",
            "Trainable params: 1,336,613\n",
            "Non-trainable params: 0\n",
            "__________________________________________________________________________________________________\n",
            "Model: \"model_2\"\n",
            "__________________________________________________________________________________________________\n",
            " Layer (type)                   Output Shape         Param #     Connected to                     \n",
            "==================================================================================================\n",
            " inLayer (InputLayer)           [(None, 3000, 1)]    0           []                               \n",
            "                                                                                                  \n",
            " fConv1 (Conv1D)                (None, 500, 64)      3264        ['inLayer[0][0]']                \n",
            "                                                                                                  \n",
            " cConv1 (Conv1D)                (None, 60, 32)       12832       ['inLayer[0][0]']                \n",
            "                                                                                                  \n",
            " fMaxP1 (MaxPooling1D)          (None, 62, 64)       0           ['fConv1[0][0]']                 \n",
            "                                                                                                  \n",
            " cMaxP1 (MaxPooling1D)          (None, 15, 32)       0           ['cConv1[0][0]']                 \n",
            "                                                                                                  \n",
            " fDrop1 (Dropout)               (None, 62, 64)       0           ['fMaxP1[0][0]']                 \n",
            "                                                                                                  \n",
            " cDrop1 (Dropout)               (None, 15, 32)       0           ['cMaxP1[0][0]']                 \n",
            "                                                                                                  \n",
            " fConv2 (Conv1D)                (None, 62, 128)      65664       ['fDrop1[0][0]']                 \n",
            "                                                                                                  \n",
            " cConv2 (Conv1D)                (None, 15, 128)      24704       ['cDrop1[0][0]']                 \n",
            "                                                                                                  \n",
            " fConv3 (Conv1D)                (None, 62, 128)      131200      ['fConv2[0][0]']                 \n",
            "                                                                                                  \n",
            " cConv3 (Conv1D)                (None, 15, 128)      98432       ['cConv2[0][0]']                 \n",
            "                                                                                                  \n",
            " fConv4 (Conv1D)                (None, 62, 128)      131200      ['fConv3[0][0]']                 \n",
            "                                                                                                  \n",
            " cConv4 (Conv1D)                (None, 15, 128)      98432       ['cConv3[0][0]']                 \n",
            "                                                                                                  \n",
            " fMaxP2 (MaxPooling1D)          (None, 15, 128)      0           ['fConv4[0][0]']                 \n",
            "                                                                                                  \n",
            " cMaxP2 (MaxPooling1D)          (None, 7, 128)       0           ['cConv4[0][0]']                 \n",
            "                                                                                                  \n",
            " fFlat1 (Flatten)               (None, 1920)         0           ['fMaxP2[0][0]']                 \n",
            "                                                                                                  \n",
            " cFlat1 (Flatten)               (None, 896)          0           ['cMaxP2[0][0]']                 \n",
            "                                                                                                  \n",
            " merge_1 (Concatenate)          (None, 2816)         0           ['fFlat1[0][0]',                 \n",
            "                                                                  'cFlat1[0][0]']                 \n",
            "                                                                                                  \n",
            " mDrop1 (Dropout)               (None, 2816)         0           ['merge_1[0][0]']                \n",
            "                                                                                                  \n",
            " reshape1 (Reshape)             (None, 1, 2816)      0           ['mDrop1[0][0]']                 \n",
            "                                                                                                  \n",
            " lstm_4 (LSTM)                  (None, 1, 64)        737536      ['reshape1[0][0]']               \n",
            "                                                                                                  \n",
            " lstm_5 (LSTM)                  (None, 64)           33024       ['lstm_4[0][0]']                 \n",
            "                                                                                                  \n",
            " outLayer (Dense)               (None, 5)            325         ['lstm_5[0][0]']                 \n",
            "                                                                                                  \n",
            "==================================================================================================\n",
            "Total params: 1,336,613\n",
            "Trainable params: 1,336,613\n",
            "Non-trainable params: 0\n",
            "__________________________________________________________________________________________________\n"
          ]
        }
      ],
      "source": [
        "loaded_model_shuf1=model_b(verbose=VBS)\n",
        "loaded_model_shuf2=model_b(verbose=VBS)\n",
        "loaded_model_shuf3=model_b(verbose=VBS)"
      ]
    },
    {
      "cell_type": "code",
      "execution_count": null,
      "metadata": {
        "colab": {
          "base_uri": "https://localhost:8080/"
        },
        "id": "s0OQqqso1hYp",
        "outputId": "ee16ebb7-561c-4a91-e470-69b9b165901a"
      },
      "outputs": [
        {
          "name": "stdout",
          "output_type": "stream",
          "text": [
            "/content/gdrive/My Drive/physionet/dt_shuf1_phy/sub_482_75th_sub_with_50_sub_tr_dt/weights-phy_shuf1_30_epochs.ckpt\n"
          ]
        }
      ],
      "source": [
        "#dt_shuf1\n",
        "checkpoint_path_load_model_30_epochs_shuf1 = \"/content/gdrive/My Drive/physionet/dt_shuf1_phy/sub_482_75th_sub_with_50_sub_tr_dt/weights-phy_shuf1_30_epochs.ckpt\"\n",
        "checkpoint_load_model_30_epochs_shuf1_dir = os.path.dirname(checkpoint_path_load_model_30_epochs_shuf1)\n",
        "#latest_30_epochs_shuf1_s828=tensorflow.train.latest_checkpoint(checkpoint_load_model_300_epochs_shuf1_s828_dir)\n",
        "print(checkpoint_path_load_model_30_epochs_shuf1)"
      ]
    },
    {
      "cell_type": "code",
      "execution_count": null,
      "metadata": {
        "colab": {
          "base_uri": "https://localhost:8080/"
        },
        "id": "HclyKQh21hnA",
        "outputId": "caec947f-9819-490b-8ee9-7e81d2c3c672"
      },
      "outputs": [
        {
          "name": "stdout",
          "output_type": "stream",
          "text": [
            "/content/gdrive/My Drive/physionet/dt_shuf2_phy/sub_482_75th_sub_with_50_sub_tr_dt/weights-phy_shuf2_30_epochs.ckpt\n"
          ]
        }
      ],
      "source": [
        "#dt_shuf2\n",
        "checkpoint_path_load_model_30_epochs_shuf2 = \"/content/gdrive/My Drive/physionet/dt_shuf2_phy/sub_482_75th_sub_with_50_sub_tr_dt/weights-phy_shuf2_30_epochs.ckpt\"\n",
        "checkpoint_load_model_30_epochs_shuf2_dir = os.path.dirname(checkpoint_path_load_model_30_epochs_shuf2)\n",
        "#latest_300_epochs_shuf2_s828=tensorflow.train.latest_checkpoint(checkpoint_load_model_300_epochs_shuf2_s828_dir)\n",
        "print(checkpoint_path_load_model_30_epochs_shuf2)"
      ]
    },
    {
      "cell_type": "code",
      "execution_count": null,
      "metadata": {
        "colab": {
          "base_uri": "https://localhost:8080/"
        },
        "id": "vU0_ouf21hxe",
        "outputId": "29a6ad4c-3717-46b9-c4e9-f0a98b33d861"
      },
      "outputs": [
        {
          "name": "stdout",
          "output_type": "stream",
          "text": [
            "/content/gdrive/My Drive/physionet/dt_shuf3_phy/sub_482_75th_sub_with_50_sub_tr_dt/weights-phy_shuf3_30_epochs.ckpt\n"
          ]
        }
      ],
      "source": [
        "#dt_shuf3\n",
        "checkpoint_path_load_model_30_epochs_shuf3 = \"/content/gdrive/My Drive/physionet/dt_shuf3_phy/sub_482_75th_sub_with_50_sub_tr_dt/weights-phy_shuf3_30_epochs.ckpt\"\n",
        "checkpoint_load_model_30_epochs_shuf3_dir = os.path.dirname(checkpoint_path_load_model_30_epochs_shuf3)\n",
        "#latest_300_epochs_shuf3_s828=tensorflow.train.latest_checkpoint(checkpoint_load_model_300_epochs_shuf3_s828_dir)\n",
        "print(checkpoint_path_load_model_30_epochs_shuf3)"
      ]
    },
    {
      "cell_type": "code",
      "execution_count": null,
      "metadata": {
        "colab": {
          "base_uri": "https://localhost:8080/"
        },
        "id": "UD549gRA1oxX",
        "outputId": "4950cf18-7cb0-4b66-fe29-d88dde7c3e2e"
      },
      "outputs": [
        {
          "data": {
            "text/plain": [
              "<tensorflow.python.training.tracking.util.CheckpointLoadStatus at 0x7f6413396d50>"
            ]
          },
          "execution_count": 29,
          "metadata": {},
          "output_type": "execute_result"
        }
      ],
      "source": [
        "loaded_model_shuf1.load_weights(checkpoint_path_load_model_30_epochs_shuf1)\n",
        "loaded_model_shuf2.load_weights(checkpoint_path_load_model_30_epochs_shuf2)\n",
        "loaded_model_shuf3.load_weights(checkpoint_path_load_model_30_epochs_shuf3)"
      ]
    },
    {
      "cell_type": "code",
      "execution_count": null,
      "metadata": {
        "id": "qBi0GBiu1sj-"
      },
      "outputs": [],
      "source": [
        "optimizer = Adam(lr=1e-4)"
      ]
    },
    {
      "cell_type": "code",
      "execution_count": null,
      "metadata": {
        "colab": {
          "base_uri": "https://localhost:8080/"
        },
        "id": "drDrKH5G1uq2",
        "outputId": "1ab238d0-b0e4-4d51-8125-e12fcdb1f8c3"
      },
      "outputs": [
        {
          "name": "stdout",
          "output_type": "stream",
          "text": [
            "WARNING:tensorflow:Detecting that an object or model or tf.train.Checkpoint is being deleted with unrestored values. See the following logs for the specific values in question. To silence these warnings, use `status.expect_partial()`. See https://www.tensorflow.org/api_docs/python/tf/train/Checkpoint#restorefor details about the status object returned by the restore function.\n",
            "WARNING:tensorflow:Value in checkpoint could not be found in the restored object: (root).optimizer.iter\n",
            "WARNING:tensorflow:Value in checkpoint could not be found in the restored object: (root).optimizer.beta_1\n",
            "WARNING:tensorflow:Value in checkpoint could not be found in the restored object: (root).optimizer.beta_2\n",
            "WARNING:tensorflow:Value in checkpoint could not be found in the restored object: (root).optimizer.decay\n",
            "WARNING:tensorflow:Value in checkpoint could not be found in the restored object: (root).optimizer.learning_rate\n",
            "WARNING:tensorflow:Detecting that an object or model or tf.train.Checkpoint is being deleted with unrestored values. See the following logs for the specific values in question. To silence these warnings, use `status.expect_partial()`. See https://www.tensorflow.org/api_docs/python/tf/train/Checkpoint#restorefor details about the status object returned by the restore function.\n",
            "WARNING:tensorflow:Value in checkpoint could not be found in the restored object: (root).optimizer.iter\n",
            "WARNING:tensorflow:Value in checkpoint could not be found in the restored object: (root).optimizer.beta_1\n",
            "WARNING:tensorflow:Value in checkpoint could not be found in the restored object: (root).optimizer.beta_2\n",
            "WARNING:tensorflow:Value in checkpoint could not be found in the restored object: (root).optimizer.decay\n",
            "WARNING:tensorflow:Value in checkpoint could not be found in the restored object: (root).optimizer.learning_rate\n"
          ]
        }
      ],
      "source": [
        "loaded_model_shuf1.compile(optimizer=optimizer, loss='categorical_crossentropy', metrics=['accuracy'])\n",
        "loaded_model_shuf2.compile(optimizer=optimizer, loss='categorical_crossentropy', metrics=['accuracy'])\n",
        "loaded_model_shuf3.compile(optimizer=optimizer, loss='categorical_crossentropy', metrics=['accuracy'])"
      ]
    },
    {
      "cell_type": "code",
      "execution_count": null,
      "metadata": {
        "colab": {
          "base_uri": "https://localhost:8080/"
        },
        "id": "HJll-opo1xS2",
        "outputId": "b540d7a9-2e54-43ee-9c0b-81aafaef2cb7"
      },
      "outputs": [
        {
          "name": "stdout",
          "output_type": "stream",
          "text": [
            "Model: \"model\"\n",
            "__________________________________________________________________________________________________\n",
            " Layer (type)                   Output Shape         Param #     Connected to                     \n",
            "==================================================================================================\n",
            " inLayer (InputLayer)           [(None, 3000, 1)]    0           []                               \n",
            "                                                                                                  \n",
            " fConv1 (Conv1D)                (None, 500, 64)      3264        ['inLayer[0][0]']                \n",
            "                                                                                                  \n",
            " cConv1 (Conv1D)                (None, 60, 32)       12832       ['inLayer[0][0]']                \n",
            "                                                                                                  \n",
            " fMaxP1 (MaxPooling1D)          (None, 62, 64)       0           ['fConv1[0][0]']                 \n",
            "                                                                                                  \n",
            " cMaxP1 (MaxPooling1D)          (None, 15, 32)       0           ['cConv1[0][0]']                 \n",
            "                                                                                                  \n",
            " fDrop1 (Dropout)               (None, 62, 64)       0           ['fMaxP1[0][0]']                 \n",
            "                                                                                                  \n",
            " cDrop1 (Dropout)               (None, 15, 32)       0           ['cMaxP1[0][0]']                 \n",
            "                                                                                                  \n",
            " fConv2 (Conv1D)                (None, 62, 128)      65664       ['fDrop1[0][0]']                 \n",
            "                                                                                                  \n",
            " cConv2 (Conv1D)                (None, 15, 128)      24704       ['cDrop1[0][0]']                 \n",
            "                                                                                                  \n",
            " fConv3 (Conv1D)                (None, 62, 128)      131200      ['fConv2[0][0]']                 \n",
            "                                                                                                  \n",
            " cConv3 (Conv1D)                (None, 15, 128)      98432       ['cConv2[0][0]']                 \n",
            "                                                                                                  \n",
            " fConv4 (Conv1D)                (None, 62, 128)      131200      ['fConv3[0][0]']                 \n",
            "                                                                                                  \n",
            " cConv4 (Conv1D)                (None, 15, 128)      98432       ['cConv3[0][0]']                 \n",
            "                                                                                                  \n",
            " fMaxP2 (MaxPooling1D)          (None, 15, 128)      0           ['fConv4[0][0]']                 \n",
            "                                                                                                  \n",
            " cMaxP2 (MaxPooling1D)          (None, 7, 128)       0           ['cConv4[0][0]']                 \n",
            "                                                                                                  \n",
            " fFlat1 (Flatten)               (None, 1920)         0           ['fMaxP2[0][0]']                 \n",
            "                                                                                                  \n",
            " cFlat1 (Flatten)               (None, 896)          0           ['cMaxP2[0][0]']                 \n",
            "                                                                                                  \n",
            " merge_1 (Concatenate)          (None, 2816)         0           ['fFlat1[0][0]',                 \n",
            "                                                                  'cFlat1[0][0]']                 \n",
            "                                                                                                  \n",
            " mDrop1 (Dropout)               (None, 2816)         0           ['merge_1[0][0]']                \n",
            "                                                                                                  \n",
            " reshape1 (Reshape)             (None, 1, 2816)      0           ['mDrop1[0][0]']                 \n",
            "                                                                                                  \n",
            " lstm (LSTM)                    (None, 1, 64)        737536      ['reshape1[0][0]']               \n",
            "                                                                                                  \n",
            " lstm_1 (LSTM)                  (None, 64)           33024       ['lstm[0][0]']                   \n",
            "                                                                                                  \n",
            " outLayer (Dense)               (None, 5)            325         ['lstm_1[0][0]']                 \n",
            "                                                                                                  \n",
            "==================================================================================================\n",
            "Total params: 1,336,613\n",
            "Trainable params: 1,336,613\n",
            "Non-trainable params: 0\n",
            "__________________________________________________________________________________________________\n"
          ]
        }
      ],
      "source": [
        "loaded_model_shuf1.summary()"
      ]
    },
    {
      "cell_type": "code",
      "execution_count": null,
      "metadata": {
        "colab": {
          "base_uri": "https://localhost:8080/"
        },
        "id": "nCLz_Ndq1x4j",
        "outputId": "7ca8b7c6-2bda-416f-9425-fcb5dda3130e"
      },
      "outputs": [
        {
          "name": "stdout",
          "output_type": "stream",
          "text": [
            "Model: \"model_1\"\n",
            "__________________________________________________________________________________________________\n",
            " Layer (type)                   Output Shape         Param #     Connected to                     \n",
            "==================================================================================================\n",
            " inLayer (InputLayer)           [(None, 3000, 1)]    0           []                               \n",
            "                                                                                                  \n",
            " fConv1 (Conv1D)                (None, 500, 64)      3264        ['inLayer[0][0]']                \n",
            "                                                                                                  \n",
            " cConv1 (Conv1D)                (None, 60, 32)       12832       ['inLayer[0][0]']                \n",
            "                                                                                                  \n",
            " fMaxP1 (MaxPooling1D)          (None, 62, 64)       0           ['fConv1[0][0]']                 \n",
            "                                                                                                  \n",
            " cMaxP1 (MaxPooling1D)          (None, 15, 32)       0           ['cConv1[0][0]']                 \n",
            "                                                                                                  \n",
            " fDrop1 (Dropout)               (None, 62, 64)       0           ['fMaxP1[0][0]']                 \n",
            "                                                                                                  \n",
            " cDrop1 (Dropout)               (None, 15, 32)       0           ['cMaxP1[0][0]']                 \n",
            "                                                                                                  \n",
            " fConv2 (Conv1D)                (None, 62, 128)      65664       ['fDrop1[0][0]']                 \n",
            "                                                                                                  \n",
            " cConv2 (Conv1D)                (None, 15, 128)      24704       ['cDrop1[0][0]']                 \n",
            "                                                                                                  \n",
            " fConv3 (Conv1D)                (None, 62, 128)      131200      ['fConv2[0][0]']                 \n",
            "                                                                                                  \n",
            " cConv3 (Conv1D)                (None, 15, 128)      98432       ['cConv2[0][0]']                 \n",
            "                                                                                                  \n",
            " fConv4 (Conv1D)                (None, 62, 128)      131200      ['fConv3[0][0]']                 \n",
            "                                                                                                  \n",
            " cConv4 (Conv1D)                (None, 15, 128)      98432       ['cConv3[0][0]']                 \n",
            "                                                                                                  \n",
            " fMaxP2 (MaxPooling1D)          (None, 15, 128)      0           ['fConv4[0][0]']                 \n",
            "                                                                                                  \n",
            " cMaxP2 (MaxPooling1D)          (None, 7, 128)       0           ['cConv4[0][0]']                 \n",
            "                                                                                                  \n",
            " fFlat1 (Flatten)               (None, 1920)         0           ['fMaxP2[0][0]']                 \n",
            "                                                                                                  \n",
            " cFlat1 (Flatten)               (None, 896)          0           ['cMaxP2[0][0]']                 \n",
            "                                                                                                  \n",
            " merge_1 (Concatenate)          (None, 2816)         0           ['fFlat1[0][0]',                 \n",
            "                                                                  'cFlat1[0][0]']                 \n",
            "                                                                                                  \n",
            " mDrop1 (Dropout)               (None, 2816)         0           ['merge_1[0][0]']                \n",
            "                                                                                                  \n",
            " reshape1 (Reshape)             (None, 1, 2816)      0           ['mDrop1[0][0]']                 \n",
            "                                                                                                  \n",
            " lstm_2 (LSTM)                  (None, 1, 64)        737536      ['reshape1[0][0]']               \n",
            "                                                                                                  \n",
            " lstm_3 (LSTM)                  (None, 64)           33024       ['lstm_2[0][0]']                 \n",
            "                                                                                                  \n",
            " outLayer (Dense)               (None, 5)            325         ['lstm_3[0][0]']                 \n",
            "                                                                                                  \n",
            "==================================================================================================\n",
            "Total params: 1,336,613\n",
            "Trainable params: 1,336,613\n",
            "Non-trainable params: 0\n",
            "__________________________________________________________________________________________________\n"
          ]
        }
      ],
      "source": [
        "loaded_model_shuf2.summary()"
      ]
    },
    {
      "cell_type": "code",
      "execution_count": null,
      "metadata": {
        "colab": {
          "base_uri": "https://localhost:8080/"
        },
        "id": "9494z90d1x7d",
        "outputId": "4e912426-645a-4d44-fd7f-6789ce1d6aad"
      },
      "outputs": [
        {
          "name": "stdout",
          "output_type": "stream",
          "text": [
            "Model: \"model_2\"\n",
            "__________________________________________________________________________________________________\n",
            " Layer (type)                   Output Shape         Param #     Connected to                     \n",
            "==================================================================================================\n",
            " inLayer (InputLayer)           [(None, 3000, 1)]    0           []                               \n",
            "                                                                                                  \n",
            " fConv1 (Conv1D)                (None, 500, 64)      3264        ['inLayer[0][0]']                \n",
            "                                                                                                  \n",
            " cConv1 (Conv1D)                (None, 60, 32)       12832       ['inLayer[0][0]']                \n",
            "                                                                                                  \n",
            " fMaxP1 (MaxPooling1D)          (None, 62, 64)       0           ['fConv1[0][0]']                 \n",
            "                                                                                                  \n",
            " cMaxP1 (MaxPooling1D)          (None, 15, 32)       0           ['cConv1[0][0]']                 \n",
            "                                                                                                  \n",
            " fDrop1 (Dropout)               (None, 62, 64)       0           ['fMaxP1[0][0]']                 \n",
            "                                                                                                  \n",
            " cDrop1 (Dropout)               (None, 15, 32)       0           ['cMaxP1[0][0]']                 \n",
            "                                                                                                  \n",
            " fConv2 (Conv1D)                (None, 62, 128)      65664       ['fDrop1[0][0]']                 \n",
            "                                                                                                  \n",
            " cConv2 (Conv1D)                (None, 15, 128)      24704       ['cDrop1[0][0]']                 \n",
            "                                                                                                  \n",
            " fConv3 (Conv1D)                (None, 62, 128)      131200      ['fConv2[0][0]']                 \n",
            "                                                                                                  \n",
            " cConv3 (Conv1D)                (None, 15, 128)      98432       ['cConv2[0][0]']                 \n",
            "                                                                                                  \n",
            " fConv4 (Conv1D)                (None, 62, 128)      131200      ['fConv3[0][0]']                 \n",
            "                                                                                                  \n",
            " cConv4 (Conv1D)                (None, 15, 128)      98432       ['cConv3[0][0]']                 \n",
            "                                                                                                  \n",
            " fMaxP2 (MaxPooling1D)          (None, 15, 128)      0           ['fConv4[0][0]']                 \n",
            "                                                                                                  \n",
            " cMaxP2 (MaxPooling1D)          (None, 7, 128)       0           ['cConv4[0][0]']                 \n",
            "                                                                                                  \n",
            " fFlat1 (Flatten)               (None, 1920)         0           ['fMaxP2[0][0]']                 \n",
            "                                                                                                  \n",
            " cFlat1 (Flatten)               (None, 896)          0           ['cMaxP2[0][0]']                 \n",
            "                                                                                                  \n",
            " merge_1 (Concatenate)          (None, 2816)         0           ['fFlat1[0][0]',                 \n",
            "                                                                  'cFlat1[0][0]']                 \n",
            "                                                                                                  \n",
            " mDrop1 (Dropout)               (None, 2816)         0           ['merge_1[0][0]']                \n",
            "                                                                                                  \n",
            " reshape1 (Reshape)             (None, 1, 2816)      0           ['mDrop1[0][0]']                 \n",
            "                                                                                                  \n",
            " lstm_4 (LSTM)                  (None, 1, 64)        737536      ['reshape1[0][0]']               \n",
            "                                                                                                  \n",
            " lstm_5 (LSTM)                  (None, 64)           33024       ['lstm_4[0][0]']                 \n",
            "                                                                                                  \n",
            " outLayer (Dense)               (None, 5)            325         ['lstm_5[0][0]']                 \n",
            "                                                                                                  \n",
            "==================================================================================================\n",
            "Total params: 1,336,613\n",
            "Trainable params: 1,336,613\n",
            "Non-trainable params: 0\n",
            "__________________________________________________________________________________________________\n"
          ]
        }
      ],
      "source": [
        "loaded_model_shuf3.summary()"
      ]
    },
    {
      "cell_type": "code",
      "execution_count": null,
      "metadata": {
        "colab": {
          "base_uri": "https://localhost:8080/"
        },
        "id": "3KKBebHk14WA",
        "outputId": "cd7c4fd9-8da0-422e-9184-680e37c4130b"
      },
      "outputs": [
        {
          "data": {
            "text/plain": [
              "array([[1.36026554e-03, 2.43448228e-01, 7.46713758e-01, 1.94746302e-04,\n",
              "        8.28291662e-03],\n",
              "       [3.21482599e-01, 4.45298016e-01, 3.56412381e-02, 3.88816290e-04,\n",
              "        1.97189346e-01],\n",
              "       [9.99806583e-01, 1.17587108e-04, 4.82747782e-05, 1.93221149e-05,\n",
              "        8.27977146e-06],\n",
              "       ...,\n",
              "       [7.70583525e-02, 3.89303148e-01, 9.40797180e-02, 9.06904388e-05,\n",
              "        4.39468086e-01],\n",
              "       [9.99560773e-01, 2.34923762e-04, 6.83235703e-05, 3.08867566e-05,\n",
              "        1.05004816e-04],\n",
              "       [3.19205999e-01, 5.09244978e-01, 2.03350037e-02, 1.73147142e-04,\n",
              "        1.51040897e-01]], dtype=float32)"
            ]
          },
          "execution_count": 46,
          "metadata": {},
          "output_type": "execute_result"
        }
      ],
      "source": [
        "preds_m1 = loaded_model_shuf1.predict(x_sub_set_rshp)\n",
        "preds_m1"
      ]
    },
    {
      "cell_type": "code",
      "execution_count": null,
      "metadata": {
        "colab": {
          "base_uri": "https://localhost:8080/"
        },
        "id": "JdTftqQs14c6",
        "outputId": "c5e6f787-4194-4459-b340-96134c63fa05"
      },
      "outputs": [
        {
          "data": {
            "text/plain": [
              "array([[5.7140185e-04, 2.1339275e-01, 7.8178763e-01, 2.5820514e-04,\n",
              "        3.9899237e-03],\n",
              "       [2.1306406e-01, 7.7814984e-01, 3.5921142e-03, 1.3995773e-04,\n",
              "        5.0540445e-03],\n",
              "       [9.9982208e-01, 1.1535536e-04, 2.1340204e-05, 2.6721265e-05,\n",
              "        1.4544056e-05],\n",
              "       ...,\n",
              "       [6.7992255e-02, 4.3159145e-01, 5.8932316e-02, 2.0658454e-05,\n",
              "        4.4146329e-01],\n",
              "       [9.9958616e-01, 2.5678214e-04, 4.6586876e-05, 2.6230324e-05,\n",
              "        8.4287487e-05],\n",
              "       [6.9446659e-01, 2.6386955e-01, 1.1950223e-02, 1.4049280e-04,\n",
              "        2.9573144e-02]], dtype=float32)"
            ]
          },
          "execution_count": 47,
          "metadata": {},
          "output_type": "execute_result"
        }
      ],
      "source": [
        "preds_m2 = loaded_model_shuf2.predict(x_sub_set_rshp)\n",
        "preds_m2"
      ]
    },
    {
      "cell_type": "code",
      "execution_count": null,
      "metadata": {
        "colab": {
          "base_uri": "https://localhost:8080/"
        },
        "id": "c7K-HEHV14jF",
        "outputId": "6225ab79-5c07-4a34-9e7e-f72d23ba86ed"
      },
      "outputs": [
        {
          "data": {
            "text/plain": [
              "array([[2.20906033e-04, 3.39021385e-02, 9.63798821e-01, 4.05158789e-04,\n",
              "        1.67306140e-03],\n",
              "       [3.77245069e-01, 5.50010562e-01, 1.78452153e-02, 2.77118263e-04,\n",
              "        5.46220019e-02],\n",
              "       [9.99651432e-01, 2.85147573e-04, 2.73396090e-05, 1.91988875e-05,\n",
              "        1.68529077e-05],\n",
              "       ...,\n",
              "       [2.02181917e-02, 2.55354673e-01, 1.18846275e-01, 2.92485638e-05,\n",
              "        6.05551600e-01],\n",
              "       [9.99110997e-01, 4.16710274e-04, 8.22310394e-05, 7.63056232e-05,\n",
              "        3.13660828e-04],\n",
              "       [6.01015627e-01, 3.67173433e-01, 9.96505469e-03, 1.09659566e-04,\n",
              "        2.17362065e-02]], dtype=float32)"
            ]
          },
          "execution_count": 48,
          "metadata": {},
          "output_type": "execute_result"
        }
      ],
      "source": [
        "preds_m3 = loaded_model_shuf3.predict(x_sub_set_rshp)\n",
        "preds_m3"
      ]
    },
    {
      "cell_type": "code",
      "execution_count": null,
      "metadata": {
        "id": "eyeBDjht2Nix"
      },
      "outputs": [],
      "source": [
        "preds_m1_fin=np.argmax(preds_m1,axis=1)\n",
        "preds_m2_fin=np.argmax(preds_m2,axis=1)\n",
        "preds_m3_fin=np.argmax(preds_m3,axis=1)"
      ]
    },
    {
      "cell_type": "code",
      "execution_count": null,
      "metadata": {
        "colab": {
          "base_uri": "https://localhost:8080/"
        },
        "id": "ceUlusfC2NrQ",
        "outputId": "473d052c-45f3-462a-eb14-b140de4cba73"
      },
      "outputs": [
        {
          "data": {
            "text/plain": [
              "array([0.68253968, 0.16455696, 0.93832599, 0.4       , 0.9122807 ])"
            ]
          },
          "execution_count": 50,
          "metadata": {},
          "output_type": "execute_result"
        }
      ],
      "source": [
        "from sklearn.metrics import confusion_matrix\n",
        "matrix_m1 = confusion_matrix(y_sub_dt, preds_m1_fin)\n",
        "matrix_m1.diagonal()/matrix_m1.sum(axis=1)"
      ]
    },
    {
      "cell_type": "code",
      "execution_count": null,
      "metadata": {
        "colab": {
          "base_uri": "https://localhost:8080/"
        },
        "id": "bLT68l6J2qfi",
        "outputId": "441cfeba-ab6c-4bb0-ef0d-ddc598ce5a27"
      },
      "outputs": [
        {
          "data": {
            "text/plain": [
              "array([0.65079365, 0.12658228, 0.94273128, 0.4       , 0.92982456])"
            ]
          },
          "execution_count": 51,
          "metadata": {},
          "output_type": "execute_result"
        }
      ],
      "source": [
        "#from sklearn.metrics import confusion_matrix\n",
        "matrix_m2 = confusion_matrix(y_sub_dt, preds_m2_fin)\n",
        "matrix_m2.diagonal()/matrix_m2.sum(axis=1)"
      ]
    },
    {
      "cell_type": "code",
      "execution_count": null,
      "metadata": {
        "colab": {
          "base_uri": "https://localhost:8080/"
        },
        "id": "8UUxtpkh2uqC",
        "outputId": "b1d269ca-0bb5-4f8e-b23c-81a63d8b4c49"
      },
      "outputs": [
        {
          "data": {
            "text/plain": [
              "array([0.64285714, 0.07594937, 0.9339207 , 0.6       , 0.96491228])"
            ]
          },
          "execution_count": 52,
          "metadata": {},
          "output_type": "execute_result"
        }
      ],
      "source": [
        "#from sklearn.metrics import confusion_matrix\n",
        "matrix_m3 = confusion_matrix(y_sub_dt, preds_m3_fin)\n",
        "matrix_m3.diagonal()/matrix_m3.sum(axis=1)"
      ]
    },
    {
      "cell_type": "code",
      "execution_count": null,
      "metadata": {
        "id": "XJhcjFCD50py"
      },
      "outputs": [],
      "source": [
        "from sklearn.metrics import classification_report"
      ]
    },
    {
      "cell_type": "code",
      "execution_count": null,
      "metadata": {
        "id": "GNacQ_C72z1B"
      },
      "outputs": [],
      "source": [
        "#y_sub_dt\n",
        "from sklearn.metrics import precision_score, recall_score\n",
        "f1_m1 = f1_score(y_sub_dt, preds_m1_fin, average=\"macro\")\n",
        "prec_m1 = precision_score(y_sub_dt, preds_m1_fin, average=\"macro\")\n",
        "recall_m1 = recall_score(y_sub_dt, preds_m1_fin, average=\"macro\")\n",
        "if VBS:\n",
        "    print(\"Precision: {}\".format(prec_m1)) \n",
        "    print(\"Recall: {}\".format(recall_m1))\n",
        "    print(\"F1 score: {}\".format(f1_m1))\n",
        "\n",
        "    report_m1 = classification_report(y_sub_dt, preds_m1_fin, digits=6)\n",
        "    print(report_m1)"
      ]
    },
    {
      "cell_type": "code",
      "execution_count": null,
      "metadata": {
        "colab": {
          "base_uri": "https://localhost:8080/"
        },
        "id": "u7fsPQPM23-Z",
        "outputId": "2b497485-44e4-4f8f-d80c-6ccb98163b23"
      },
      "outputs": [
        {
          "name": "stdout",
          "output_type": "stream",
          "text": [
            "Precision: 0.6059340389977398\n",
            "Recall: 0.6099863536422424\n",
            "F1 score: 0.591470992626766\n",
            "              precision    recall  f1-score   support\n",
            "\n",
            "           0   0.931818  0.650794  0.766355       126\n",
            "           1   0.192308  0.126582  0.152672        79\n",
            "           2   0.829457  0.942731  0.882474       227\n",
            "           3   0.500000  0.400000  0.444444         5\n",
            "           4   0.576087  0.929825  0.711409        57\n",
            "\n",
            "    accuracy                       0.730769       494\n",
            "   macro avg   0.605934  0.609986  0.591471       494\n",
            "weighted avg   0.721104  0.730769  0.711976       494\n",
            "\n"
          ]
        }
      ],
      "source": [
        "#y_sub_dt\n",
        "#from sklearn.metrics import precision_score, recall_score\n",
        "f1_m2 = f1_score(y_sub_dt, preds_m2_fin, average=\"macro\")\n",
        "prec_m2 = precision_score(y_sub_dt, preds_m2_fin, average=\"macro\")\n",
        "recall_m2 = recall_score(y_sub_dt, preds_m2_fin, average=\"macro\")\n",
        "if VBS:\n",
        "    print(\"Precision: {}\".format(prec_m2)) \n",
        "    print(\"Recall: {}\".format(recall_m2))\n",
        "    print(\"F1 score: {}\".format(f1_m2))\n",
        "\n",
        "    report_m2 = classification_report(y_sub_dt, preds_m2_fin, digits=6)\n",
        "    print(report_m2)"
      ]
    },
    {
      "cell_type": "code",
      "execution_count": null,
      "metadata": {
        "colab": {
          "base_uri": "https://localhost:8080/"
        },
        "id": "ew7-D28y24DJ",
        "outputId": "f4d02fae-908f-4784-aca7-1fffc112eabf"
      },
      "outputs": [
        {
          "name": "stdout",
          "output_type": "stream",
          "text": [
            "Precision: 0.5695170764012094\n",
            "Recall: 0.6435278990986639\n",
            "F1 score: 0.583566600862685\n",
            "              precision    recall  f1-score   support\n",
            "\n",
            "           0   0.941860  0.642857  0.764151       126\n",
            "           1   0.139535  0.075949  0.098361        79\n",
            "           2   0.806084  0.933921  0.865306       227\n",
            "           3   0.375000  0.600000  0.461538         5\n",
            "           4   0.585106  0.964912  0.728477        57\n",
            "\n",
            "    accuracy                       0.722672       494\n",
            "   macro avg   0.569517  0.643528  0.583567       494\n",
            "weighted avg   0.704261  0.722672  0.696982       494\n",
            "\n"
          ]
        }
      ],
      "source": [
        "#y_sub_dt\n",
        "#from sklearn.metrics import precision_score, recall_score\n",
        "f1_m3 = f1_score(y_sub_dt, preds_m3_fin, average=\"macro\")\n",
        "prec_m3 = precision_score(y_sub_dt, preds_m3_fin, average=\"macro\")\n",
        "recall_m3 = recall_score(y_sub_dt, preds_m3_fin, average=\"macro\")\n",
        "if VBS:\n",
        "    print(\"Precision: {}\".format(prec_m3)) \n",
        "    print(\"Recall: {}\".format(recall_m3))\n",
        "    print(\"F1 score: {}\".format(f1_m3))\n",
        "\n",
        "    report_m3 = classification_report(y_sub_dt, preds_m3_fin, digits=6)\n",
        "    print(report_m3)"
      ]
    },
    {
      "cell_type": "code",
      "execution_count": null,
      "metadata": {
        "id": "6LOvR2CYfnzT"
      },
      "outputs": [],
      "source": [
        "check_pt_path=\"/content/gdrive/My Drive/physionet/ensemble/teacher_wts_30_epochs_50_subs.ckpt\""
      ]
    },
    {
      "cell_type": "code",
      "execution_count": null,
      "metadata": {
        "id": "CXZh0jIuzkAb"
      },
      "outputs": [],
      "source": [
        "check_pt_path=\"/content/gdrive/My Drive/physionet/ensemble/teacher_wts_30_epochs_50_subs_trial_3.ckpt\""
      ]
    },
    {
      "cell_type": "code",
      "execution_count": null,
      "metadata": {
        "colab": {
          "base_uri": "https://localhost:8080/"
        },
        "id": "HIY5urqkfn2U",
        "outputId": "4fb11aae-b888-468d-ef80-bcdc98d46fc6"
      },
      "outputs": [
        {
          "output_type": "stream",
          "name": "stdout",
          "text": [
            "/content/gdrive/My Drive/physionet/ensemble/teacher_wts_30_epochs_50_subs_trial_3.ckpt\n"
          ]
        }
      ],
      "source": [
        "#print(latest_teacher_30_epochs)\n",
        "print(check_pt_path)"
      ]
    },
    {
      "cell_type": "code",
      "execution_count": null,
      "metadata": {
        "colab": {
          "base_uri": "https://localhost:8080/"
        },
        "id": "0v2TtPwqfu7a",
        "outputId": "bb0e6efb-fc13-438a-ea2f-367e62ea6bb8"
      },
      "outputs": [
        {
          "name": "stdout",
          "output_type": "stream",
          "text": [
            "Model: \"model\"\n",
            "__________________________________________________________________________________________________\n",
            " Layer (type)                   Output Shape         Param #     Connected to                     \n",
            "==================================================================================================\n",
            " inLayer (InputLayer)           [(None, 3000, 1)]    0           []                               \n",
            "                                                                                                  \n",
            " fConv1 (Conv1D)                (None, 500, 64)      3264        ['inLayer[0][0]']                \n",
            "                                                                                                  \n",
            " cConv1 (Conv1D)                (None, 60, 32)       12832       ['inLayer[0][0]']                \n",
            "                                                                                                  \n",
            " fMaxP1 (MaxPooling1D)          (None, 62, 64)       0           ['fConv1[0][0]']                 \n",
            "                                                                                                  \n",
            " cMaxP1 (MaxPooling1D)          (None, 15, 32)       0           ['cConv1[0][0]']                 \n",
            "                                                                                                  \n",
            " fDrop1 (Dropout)               (None, 62, 64)       0           ['fMaxP1[0][0]']                 \n",
            "                                                                                                  \n",
            " cDrop1 (Dropout)               (None, 15, 32)       0           ['cMaxP1[0][0]']                 \n",
            "                                                                                                  \n",
            " fConv2 (Conv1D)                (None, 62, 128)      65664       ['fDrop1[0][0]']                 \n",
            "                                                                                                  \n",
            " cConv2 (Conv1D)                (None, 15, 128)      24704       ['cDrop1[0][0]']                 \n",
            "                                                                                                  \n",
            " fConv3 (Conv1D)                (None, 62, 128)      131200      ['fConv2[0][0]']                 \n",
            "                                                                                                  \n",
            " cConv3 (Conv1D)                (None, 15, 128)      98432       ['cConv2[0][0]']                 \n",
            "                                                                                                  \n",
            " fConv4 (Conv1D)                (None, 62, 128)      131200      ['fConv3[0][0]']                 \n",
            "                                                                                                  \n",
            " cConv4 (Conv1D)                (None, 15, 128)      98432       ['cConv3[0][0]']                 \n",
            "                                                                                                  \n",
            " fMaxP2 (MaxPooling1D)          (None, 15, 128)      0           ['fConv4[0][0]']                 \n",
            "                                                                                                  \n",
            " cMaxP2 (MaxPooling1D)          (None, 7, 128)       0           ['cConv4[0][0]']                 \n",
            "                                                                                                  \n",
            " fFlat1 (Flatten)               (None, 1920)         0           ['fMaxP2[0][0]']                 \n",
            "                                                                                                  \n",
            " cFlat1 (Flatten)               (None, 896)          0           ['cMaxP2[0][0]']                 \n",
            "                                                                                                  \n",
            " merge_1 (Concatenate)          (None, 2816)         0           ['fFlat1[0][0]',                 \n",
            "                                                                  'cFlat1[0][0]']                 \n",
            "                                                                                                  \n",
            " mDrop1 (Dropout)               (None, 2816)         0           ['merge_1[0][0]']                \n",
            "                                                                                                  \n",
            " reshape1 (Reshape)             (None, 1, 2816)      0           ['mDrop1[0][0]']                 \n",
            "                                                                                                  \n",
            " lstm (LSTM)                    (None, 1, 64)        737536      ['reshape1[0][0]']               \n",
            "                                                                                                  \n",
            " lstm_1 (LSTM)                  (None, 64)           33024       ['lstm[0][0]']                   \n",
            "                                                                                                  \n",
            " outLayer (Dense)               (None, 5)            325         ['lstm_1[0][0]']                 \n",
            "                                                                                                  \n",
            "==================================================================================================\n",
            "Total params: 1,336,613\n",
            "Trainable params: 1,336,613\n",
            "Non-trainable params: 0\n",
            "__________________________________________________________________________________________________\n"
          ]
        }
      ],
      "source": [
        "teacher_30_epochs=model_b(verbose=VBS)"
      ]
    },
    {
      "cell_type": "code",
      "execution_count": null,
      "metadata": {
        "colab": {
          "base_uri": "https://localhost:8080/"
        },
        "id": "PObMKnusfz4Z",
        "outputId": "3d56eb0b-2c57-4fe2-c456-d17fd8bd0807"
      },
      "outputs": [
        {
          "data": {
            "text/plain": [
              "<tensorflow.python.training.tracking.util.CheckpointLoadStatus at 0x7fb06d560990>"
            ]
          },
          "execution_count": 31,
          "metadata": {},
          "output_type": "execute_result"
        }
      ],
      "source": [
        "teacher_30_epochs.load_weights(check_pt_path)"
      ]
    },
    {
      "cell_type": "code",
      "execution_count": null,
      "metadata": {
        "id": "5yxdZka8fz78"
      },
      "outputs": [],
      "source": [
        "optimizer=Adam(lr=1e-4)"
      ]
    },
    {
      "cell_type": "code",
      "execution_count": null,
      "metadata": {
        "colab": {
          "base_uri": "https://localhost:8080/"
        },
        "id": "IzRq7B93fz_k",
        "outputId": "b6b086b9-23b6-4d02-8e3d-9a2efdee76a4"
      },
      "outputs": [
        {
          "name": "stdout",
          "output_type": "stream",
          "text": [
            "16/16 [==============================] - 12s 9ms/step - loss: 1.4282 - acc: 0.7368\n"
          ]
        }
      ],
      "source": [
        "accuracy_teacher_model_30_epochs_wts_loaded = teacher_30_epochs.evaluate(x_sub_set_rshp, y_sub_dt_)"
      ]
    },
    {
      "cell_type": "code",
      "execution_count": null,
      "metadata": {
        "id": "DxBSNW41X7Ct"
      },
      "outputs": [],
      "source": [
        "preds_teacher = teacher_30_epochs.predict(x_sub_set_rshp)"
      ]
    },
    {
      "cell_type": "code",
      "execution_count": null,
      "metadata": {
        "colab": {
          "base_uri": "https://localhost:8080/"
        },
        "id": "tQWFoSm2YFUv",
        "outputId": "d0e6e504-49ce-438d-8b69-a222d17924ea"
      },
      "outputs": [
        {
          "data": {
            "text/plain": [
              "array([[2.8142790e-06, 3.3894024e-04, 9.9961782e-01, 2.1095280e-05,\n",
              "        1.9326133e-05],\n",
              "       [2.5192297e-01, 7.4154127e-01, 3.3763026e-05, 3.0670715e-05,\n",
              "        6.4713238e-03],\n",
              "       [9.9997640e-01, 3.1792999e-06, 4.3325326e-06, 8.9895448e-06,\n",
              "        6.9763109e-06],\n",
              "       ...,\n",
              "       [1.8265637e-03, 2.0071189e-01, 6.0329109e-04, 3.0952667e-06,\n",
              "        7.9685521e-01],\n",
              "       [9.9991202e-01, 4.2530082e-06, 3.6292702e-06, 2.6149219e-05,\n",
              "        5.3894979e-05],\n",
              "       [2.9475525e-01, 6.9603503e-01, 6.9653164e-05, 2.0607371e-05,\n",
              "        9.1193896e-03]], dtype=float32)"
            ]
          },
          "execution_count": 34,
          "metadata": {},
          "output_type": "execute_result"
        }
      ],
      "source": [
        "preds_teacher"
      ]
    },
    {
      "cell_type": "code",
      "execution_count": null,
      "metadata": {
        "id": "WfP47RQ7YON_"
      },
      "outputs": [],
      "source": [
        "preds_teacher_fin=np.argmax(preds_teacher,axis=1)"
      ]
    },
    {
      "cell_type": "code",
      "execution_count": null,
      "metadata": {
        "colab": {
          "base_uri": "https://localhost:8080/"
        },
        "id": "XP-I1_DFYSiy",
        "outputId": "a7cdc940-ea9e-4a00-f905-346f13e2162b"
      },
      "outputs": [
        {
          "data": {
            "text/plain": [
              "array([2, 1, 0, 2, 2, 4, 0, 1, 2, 4, 2, 2, 0, 0, 4, 0, 0, 2, 1, 2, 2, 2,\n",
              "       4, 2, 0, 0, 4, 2, 0, 2, 2, 2, 2, 2, 4, 2, 0, 2, 2, 2, 0, 2, 4, 2,\n",
              "       4, 2, 2, 0, 4, 2, 1, 2, 4, 2, 2, 3, 2, 1, 1, 2, 4, 4, 4, 2, 1, 2,\n",
              "       2, 2, 2, 0, 2, 0, 2, 2, 2, 2, 2, 4, 0, 4, 2, 2, 2, 2, 2, 0, 2, 4,\n",
              "       0, 4, 0, 0, 2, 2, 0, 4, 4, 2, 2, 1, 2, 1, 0, 1, 4, 4, 0, 0, 1, 2,\n",
              "       2, 2, 0, 2, 1, 4, 2, 2, 2, 0, 2, 0, 2, 2, 0, 1, 4, 4, 2, 2, 4, 4,\n",
              "       1, 4, 2, 2, 2, 2, 2, 2, 4, 4, 2, 2, 2, 2, 2, 2, 2, 4, 2, 2, 2, 2,\n",
              "       3, 4, 2, 1, 0, 2, 2, 0, 1, 0, 2, 2, 0, 2, 1, 1, 0, 1, 2, 2, 4, 2,\n",
              "       2, 2, 4, 0, 2, 4, 0, 0, 2, 4, 2, 4, 2, 4, 2, 2, 1, 2, 2, 4, 4, 4,\n",
              "       4, 4, 2, 2, 2, 0, 2, 4, 4, 2, 4, 0, 2, 2, 0, 2, 2, 2, 2, 2, 0, 2,\n",
              "       2, 2, 0, 2, 1, 2, 1, 1, 0, 2, 2, 2, 2, 2, 2, 0, 2, 2, 0, 2, 2, 1,\n",
              "       2, 4, 2, 1, 2, 0, 2, 2, 2, 2, 4, 2, 2, 4, 2, 2, 2, 4, 2, 2, 4, 2,\n",
              "       2, 0, 0, 1, 2, 1, 1, 4, 2, 4, 2, 2, 1, 4, 0, 2, 0, 2, 0, 2, 1, 4,\n",
              "       2, 4, 4, 2, 4, 2, 2, 4, 0, 1, 2, 2, 0, 2, 0, 0, 0, 2, 2, 1, 2, 4,\n",
              "       2, 1, 2, 2, 2, 0, 2, 0, 4, 2, 0, 4, 4, 0, 2, 2, 2, 4, 3, 0, 2, 4,\n",
              "       1, 2, 2, 2, 2, 0, 4, 2, 2, 1, 2, 0, 0, 1, 2, 2, 2, 0, 2, 2, 2, 2,\n",
              "       2, 4, 2, 2, 2, 2, 1, 1, 2, 2, 1, 0, 2, 2, 4, 0, 2, 0, 2, 4, 1, 2,\n",
              "       2, 2, 2, 2, 2, 2, 2, 0, 2, 0, 0, 4, 0, 4, 2, 2, 1, 2, 2, 2, 0, 2,\n",
              "       2, 0, 2, 0, 2, 4, 2, 2, 4, 0, 2, 1, 4, 4, 2, 4, 2, 1, 2, 2, 2, 4,\n",
              "       0, 2, 2, 2, 2, 2, 0, 2, 2, 4, 2, 4, 0, 4, 0, 0, 2, 2, 0, 2, 2, 2,\n",
              "       0, 2, 4, 0, 2, 4, 2, 2, 4, 2, 2, 2, 2, 4, 4, 2, 2, 0, 0, 2, 2, 2,\n",
              "       2, 0, 4, 0, 0, 4, 4, 2, 2, 0, 2, 1, 4, 2, 2, 4, 4, 1, 1, 2, 2, 1,\n",
              "       2, 2, 1, 2, 0, 0, 2, 4, 0, 1])"
            ]
          },
          "execution_count": 36,
          "metadata": {},
          "output_type": "execute_result"
        }
      ],
      "source": [
        "preds_teacher_fin"
      ]
    },
    {
      "cell_type": "code",
      "execution_count": null,
      "metadata": {
        "colab": {
          "base_uri": "https://localhost:8080/"
        },
        "id": "PDbnBW2dBHIe",
        "outputId": "3db7f38d-abcc-4678-de7e-849b6472bbd6"
      },
      "outputs": [
        {
          "data": {
            "text/plain": [
              "0.7368421052631579"
            ]
          },
          "execution_count": 37,
          "metadata": {},
          "output_type": "execute_result"
        }
      ],
      "source": [
        "#accuracy after incrementally training and predicting on x_train_sub[0:500](hold-out set) using loaded_model_shuf1_inc\n",
        "from sklearn.metrics import accuracy_score\n",
        "accuracy_score(y_sub_dt, preds_teacher_fin)"
      ]
    },
    {
      "cell_type": "code",
      "execution_count": null,
      "metadata": {
        "colab": {
          "base_uri": "https://localhost:8080/"
        },
        "id": "8QTWrLQCBS33",
        "outputId": "2d26bb01-233d-49c8-d8a4-df834e7a794a"
      },
      "outputs": [
        {
          "data": {
            "text/plain": [
              "array([0.66666667, 0.13924051, 0.94713656, 0.4       , 0.9122807 ])"
            ]
          },
          "execution_count": 38,
          "metadata": {},
          "output_type": "execute_result"
        }
      ],
      "source": [
        "from sklearn.metrics import confusion_matrix\n",
        "matrix = confusion_matrix(y_sub_dt, preds_teacher_fin)\n",
        "matrix.diagonal()/matrix.sum(axis=1)"
      ]
    },
    {
      "cell_type": "code",
      "execution_count": null,
      "metadata": {
        "colab": {
          "base_uri": "https://localhost:8080/"
        },
        "id": "flNZHOUJBjRN",
        "outputId": "af74a797-86a4-4d6a-82cb-e7009aea988f"
      },
      "outputs": [
        {
          "name": "stdout",
          "output_type": "stream",
          "text": [
            "Precision: 0.6425170068027211\n",
            "Recall: 0.6130648877253637\n",
            "F1 score: 0.6063456259879805\n",
            "              precision    recall  f1-score   support\n",
            "\n",
            "           0   0.923077  0.666667  0.774194       126\n",
            "           1   0.224490  0.139241  0.171875        79\n",
            "           2   0.826923  0.947137  0.882957       227\n",
            "           3   0.666667  0.400000  0.500000         5\n",
            "           4   0.571429  0.912281  0.702703        57\n",
            "\n",
            "    accuracy                       0.736842       494\n",
            "   macro avg   0.642517  0.613065  0.606346       494\n",
            "weighted avg   0.724005  0.736842  0.716825       494\n",
            "\n"
          ]
        }
      ],
      "source": [
        "#y_sub_dt\n",
        "from sklearn.metrics import precision_score, recall_score\n",
        "f1_cnn = f1_score(y_sub_dt, preds_teacher_fin, average=\"macro\")\n",
        "prec_cnn = precision_score(y_sub_dt, preds_teacher_fin, average=\"macro\")\n",
        "recall_cnn = recall_score(y_sub_dt, preds_teacher_fin, average=\"macro\")\n",
        "if VBS:\n",
        "    print(\"Precision: {}\".format(prec_cnn)) \n",
        "    print(\"Recall: {}\".format(recall_cnn))\n",
        "    print(\"F1 score: {}\".format(f1_cnn))\n",
        "\n",
        "    report = classification_report(y_sub_dt, preds_teacher_fin, digits=6)\n",
        "    print(report)"
      ]
    },
    {
      "cell_type": "code",
      "execution_count": null,
      "metadata": {
        "id": "s_v7mBvcRVib"
      },
      "outputs": [],
      "source": [
        "from keras.layers import Input, Dense, LSTM, MaxPooling1D, Conv1D\n",
        "from keras.models import Model"
      ]
    },
    {
      "cell_type": "code",
      "execution_count": null,
      "metadata": {
        "id": "DYeJNwK_CizT"
      },
      "outputs": [],
      "source": [
        "#student model\n",
        "def get_model_1d_cnn():\n",
        "    nclass = 5\n",
        "    inp = Input(shape=(3000, 1))\n",
        "    img_1 = Conv1D(4, kernel_size=6, activation=activations.relu, strides=1, padding=\"valid\")(inp)\n",
        "    #img_1 = Conv1D(128, kernel_size=5, activation=activations.relu, strides=1, padding=\"valid\")(img_1)\n",
        "    img_1 = MaxPooling1D(pool_size=2)(img_1)\n",
        "    #img_1 = SpatialDropout1D(rate=0.2)(img_1)\n",
        "    img_1 = Conv1D(4, kernel_size=5, activation=activations.relu, strides=1, padding=\"valid\")(img_1)\n",
        "    #img_1 = Conv1D(256, kernel_size=7, activation=activations.relu, strides=1, padding=\"valid\")(img_1)\n",
        "    img_1 = MaxPooling1D(pool_size=2)(img_1)\n",
        "    #img_1 = SpatialDropout1D(rate=0.01)(img_1)\n",
        "    img_1 = Conv1D(10, kernel_size=4, activation=activations.relu, strides=1, padding=\"valid\")(img_1)\n",
        "    #img_1 = Conv1D(64, kernel_size=4, activation=activations.relu, strides=1, padding=\"valid\")(img_1)\n",
        "    img_1 = MaxPooling1D(pool_size=2)(img_1)\n",
        "    #img_1 = SpatialDropout1D(rate=0.01)(img_1)\n",
        "    img_1 = Conv1D(10, kernel_size=4, activation=activations.relu, strides=1, padding=\"valid\")(img_1)\n",
        "    img_1 = MaxPooling1D(pool_size=2)(img_1)\n",
        "    #img_1 = Conv1D(64, kernel_size=6, activation=activations.relu, strides=1, padding=\"valid\")(img_1)\n",
        "    #img_1 = MaxPooling1D(pool_size=2)(img_1)\n",
        "    img_1 = Flatten()(img_1)\n",
        "\n",
        "    \n",
        "    dense_1 = Dropout(rate=0.5)(img_1)\n",
        "    #dense_1 = Dropout(rate=0.05)(Dense(64, activation=activations.relu, name=\"dense_2\")(dense_1))\n",
        "    dense_1 = Dense(nclass, activation=activations.softmax)(dense_1)\n",
        "\n",
        "    model = Model(inputs=inp, outputs=dense_1)\n",
        "    opt = Adam(0.001)\n",
        "\n",
        "    model.compile(optimizer=opt, loss='categorical_crossentropy', metrics=['acc'])\n",
        "    model.summary()\n",
        "    return model"
      ]
    },
    {
      "cell_type": "code",
      "execution_count": null,
      "metadata": {
        "colab": {
          "base_uri": "https://localhost:8080/"
        },
        "id": "qmYaMEx6RXX6",
        "outputId": "dc6a0b17-cc57-4c20-a1a7-56e127ea4918"
      },
      "outputs": [
        {
          "name": "stdout",
          "output_type": "stream",
          "text": [
            "Model: \"model\"\n",
            "_________________________________________________________________\n",
            " Layer (type)                Output Shape              Param #   \n",
            "=================================================================\n",
            " input_1 (InputLayer)        [(None, 3000, 1)]         0         \n",
            "                                                                 \n",
            " conv1d (Conv1D)             (None, 2995, 4)           28        \n",
            "                                                                 \n",
            " max_pooling1d (MaxPooling1D  (None, 1497, 4)          0         \n",
            " )                                                               \n",
            "                                                                 \n",
            " conv1d_1 (Conv1D)           (None, 1493, 4)           84        \n",
            "                                                                 \n",
            " max_pooling1d_1 (MaxPooling  (None, 746, 4)           0         \n",
            " 1D)                                                             \n",
            "                                                                 \n",
            " conv1d_2 (Conv1D)           (None, 743, 10)           170       \n",
            "                                                                 \n",
            " max_pooling1d_2 (MaxPooling  (None, 371, 10)          0         \n",
            " 1D)                                                             \n",
            "                                                                 \n",
            " conv1d_3 (Conv1D)           (None, 368, 10)           410       \n",
            "                                                                 \n",
            " max_pooling1d_3 (MaxPooling  (None, 184, 10)          0         \n",
            " 1D)                                                             \n",
            "                                                                 \n",
            " flatten (Flatten)           (None, 1840)              0         \n",
            "                                                                 \n",
            " dropout (Dropout)           (None, 1840)              0         \n",
            "                                                                 \n",
            " dense (Dense)               (None, 5)                 9205      \n",
            "                                                                 \n",
            "=================================================================\n",
            "Total params: 9,897\n",
            "Trainable params: 9,897\n",
            "Non-trainable params: 0\n",
            "_________________________________________________________________\n"
          ]
        }
      ],
      "source": [
        "m=get_model_1d_cnn()"
      ]
    },
    {
      "cell_type": "code",
      "execution_count": null,
      "metadata": {
        "colab": {
          "base_uri": "https://localhost:8080/"
        },
        "id": "DnMoqqRQS_IC",
        "outputId": "50db936c-8521-46f4-ae99-9002adde0e10"
      },
      "outputs": [
        {
          "name": "stdout",
          "output_type": "stream",
          "text": [
            "Epoch 1/30\n",
            "3648/3648 [==============================] - 31s 5ms/step - loss: 0.7623 - acc: 0.6934\n",
            "Epoch 2/30\n",
            "3648/3648 [==============================] - 19s 5ms/step - loss: 0.5678 - acc: 0.7654\n",
            "Epoch 3/30\n",
            "3648/3648 [==============================] - 19s 5ms/step - loss: 0.5097 - acc: 0.7897\n",
            "Epoch 4/30\n",
            "3648/3648 [==============================] - 19s 5ms/step - loss: 0.4794 - acc: 0.8036\n",
            "Epoch 5/30\n",
            "3648/3648 [==============================] - 19s 5ms/step - loss: 0.4413 - acc: 0.8221\n",
            "Epoch 6/30\n",
            "3648/3648 [==============================] - 19s 5ms/step - loss: 0.4162 - acc: 0.8326\n",
            "Epoch 7/30\n",
            "3648/3648 [==============================] - 19s 5ms/step - loss: 0.4021 - acc: 0.8392\n",
            "Epoch 8/30\n",
            "3648/3648 [==============================] - 19s 5ms/step - loss: 0.3906 - acc: 0.8435\n",
            "Epoch 9/30\n",
            "3648/3648 [==============================] - 19s 5ms/step - loss: 0.3812 - acc: 0.8475\n",
            "Epoch 10/30\n",
            "3648/3648 [==============================] - 19s 5ms/step - loss: 0.3745 - acc: 0.8507\n",
            "Epoch 11/30\n",
            "3648/3648 [==============================] - 19s 5ms/step - loss: 0.3735 - acc: 0.8505\n",
            "Epoch 12/30\n",
            "3648/3648 [==============================] - 19s 5ms/step - loss: 0.3699 - acc: 0.8522\n",
            "Epoch 13/30\n",
            "3648/3648 [==============================] - 19s 5ms/step - loss: 0.3644 - acc: 0.8550\n",
            "Epoch 14/30\n",
            "3648/3648 [==============================] - 19s 5ms/step - loss: 0.3628 - acc: 0.8549\n",
            "Epoch 15/30\n",
            "3648/3648 [==============================] - 19s 5ms/step - loss: 0.3591 - acc: 0.8566\n",
            "Epoch 16/30\n",
            "3648/3648 [==============================] - 19s 5ms/step - loss: 0.3567 - acc: 0.8590\n",
            "Epoch 17/30\n",
            "3648/3648 [==============================] - 19s 5ms/step - loss: 0.3548 - acc: 0.8597\n",
            "Epoch 18/30\n",
            "3648/3648 [==============================] - 19s 5ms/step - loss: 0.3551 - acc: 0.8581\n",
            "Epoch 19/30\n",
            "3648/3648 [==============================] - 19s 5ms/step - loss: 0.3524 - acc: 0.8590\n",
            "Epoch 20/30\n",
            "3648/3648 [==============================] - 19s 5ms/step - loss: 0.3501 - acc: 0.8624\n",
            "Epoch 21/30\n",
            "3648/3648 [==============================] - 19s 5ms/step - loss: 0.3506 - acc: 0.8605\n",
            "Epoch 22/30\n",
            "3648/3648 [==============================] - 19s 5ms/step - loss: 0.3492 - acc: 0.8608\n",
            "Epoch 23/30\n",
            "3648/3648 [==============================] - 19s 5ms/step - loss: 0.3463 - acc: 0.8631\n",
            "Epoch 24/30\n",
            "3648/3648 [==============================] - 19s 5ms/step - loss: 0.3471 - acc: 0.8613\n",
            "Epoch 25/30\n",
            "3648/3648 [==============================] - 19s 5ms/step - loss: 0.3455 - acc: 0.8625\n",
            "Epoch 26/30\n",
            "3648/3648 [==============================] - 19s 5ms/step - loss: 0.3441 - acc: 0.8623\n",
            "Epoch 27/30\n",
            "3648/3648 [==============================] - 19s 5ms/step - loss: 0.3441 - acc: 0.8640\n",
            "Epoch 28/30\n",
            "3648/3648 [==============================] - 19s 5ms/step - loss: 0.3423 - acc: 0.8649\n",
            "Epoch 29/30\n",
            "3648/3648 [==============================] - 19s 5ms/step - loss: 0.3431 - acc: 0.8636\n",
            "Epoch 30/30\n",
            "3648/3648 [==============================] - 19s 5ms/step - loss: 0.3420 - acc: 0.8641\n"
          ]
        }
      ],
      "source": [
        "hist_19_cnn = m.fit(x_transfer_set_rshp, y_transfer_, epochs=30)"
      ]
    },
    {
      "cell_type": "code",
      "execution_count": null,
      "metadata": {
        "colab": {
          "base_uri": "https://localhost:8080/"
        },
        "id": "OrAucEwdTLMk",
        "outputId": "51b7a9d4-8fc7-49b3-f296-37b12d28795f"
      },
      "outputs": [
        {
          "name": "stdout",
          "output_type": "stream",
          "text": [
            "16/16 [==============================] - 0s 3ms/step - loss: 0.7779 - acc: 0.7591\n"
          ]
        }
      ],
      "source": [
        "accuracy_1d_cnn = m.evaluate(x_sub_set_rshp, y_sub_dt_)"
      ]
    },
    {
      "cell_type": "code",
      "execution_count": null,
      "metadata": {
        "id": "jF7kW89k0Rpm"
      },
      "outputs": [],
      "source": [
        ""
      ]
    },
    {
      "cell_type": "code",
      "execution_count": null,
      "metadata": {
        "id": "YdaoayuJd6_k"
      },
      "outputs": [],
      "source": [
        "preds_m = m.predict(x_sub_set_rshp)"
      ]
    },
    {
      "cell_type": "code",
      "execution_count": null,
      "metadata": {
        "id": "Hz697pd-d_KG"
      },
      "outputs": [],
      "source": [
        "preds_m_fin=np.argmax(preds_m,axis=1)"
      ]
    },
    {
      "cell_type": "code",
      "execution_count": null,
      "metadata": {
        "colab": {
          "base_uri": "https://localhost:8080/"
        },
        "id": "wDAsOxKvCKKX",
        "outputId": "23041fff-0df7-4166-a9ec-f041021d8b4d"
      },
      "outputs": [
        {
          "name": "stdout",
          "output_type": "stream",
          "text": [
            "Precision: 0.632673266908321\n",
            "Recall: 0.6111379668524831\n",
            "F1 score: 0.5956561664071546\n",
            "              precision    recall  f1-score   support\n",
            "\n",
            "           0   0.858268  0.865079  0.861660       126\n",
            "           1   0.300000  0.075949  0.121212        79\n",
            "           2   0.832685  0.942731  0.884298       227\n",
            "           3   0.666667  0.400000  0.500000         5\n",
            "           4   0.505747  0.771930  0.611111        57\n",
            "\n",
            "    accuracy                       0.759109       494\n",
            "   macro avg   0.632673  0.611138  0.595656       494\n",
            "weighted avg   0.714620  0.759109  0.721081       494\n",
            "\n"
          ]
        }
      ],
      "source": [
        "#y_sub_dt\n",
        "from sklearn.metrics import precision_score, recall_score\n",
        "f1_m = f1_score(y_sub_dt, preds_m_fin, average=\"macro\")\n",
        "prec_m = precision_score(y_sub_dt, preds_m_fin, average=\"macro\")\n",
        "recall_m = recall_score(y_sub_dt, preds_m_fin, average=\"macro\")\n",
        "if VBS:\n",
        "    print(\"Precision: {}\".format(prec_m)) \n",
        "    print(\"Recall: {}\".format(recall_m))\n",
        "    print(\"F1 score: {}\".format(f1_m))\n",
        "\n",
        "    report = classification_report(y_sub_dt, preds_m_fin, digits=6)\n",
        "    print(report)"
      ]
    },
    {
      "cell_type": "code",
      "execution_count": null,
      "metadata": {
        "colab": {
          "base_uri": "https://localhost:8080/"
        },
        "id": "3lKbAJy8eOJ4",
        "outputId": "405a20eb-4390-46c8-cb30-198ba98273b9"
      },
      "outputs": [
        {
          "data": {
            "text/plain": [
              "array([0.86507937, 0.07594937, 0.94273128, 0.4       , 0.77192982])"
            ]
          },
          "execution_count": 33,
          "metadata": {},
          "output_type": "execute_result"
        }
      ],
      "source": [
        "from sklearn.metrics import confusion_matrix\n",
        "matrix_m = confusion_matrix(y_sub_dt, preds_m_fin)\n",
        "matrix_m.diagonal()/matrix_m.sum(axis=1)"
      ]
    },
    {
      "cell_type": "code",
      "execution_count": null,
      "metadata": {
        "id": "RPnqA-ANqZ9Y"
      },
      "outputs": [],
      "source": [
        "cm_m = matrix_m.astype('float') / matrix_m.sum(axis=1)[:, np.newaxis]"
      ]
    },
    {
      "cell_type": "code",
      "execution_count": null,
      "metadata": {
        "colab": {
          "base_uri": "https://localhost:8080/"
        },
        "id": "FanU1SOgqaAX",
        "outputId": "5ff88dea-9044-4f5c-f52d-c82585c0781e"
      },
      "outputs": [
        {
          "data": {
            "text/plain": [
              "array([0.86507937, 0.07594937, 0.94273128, 0.4       , 0.77192982])"
            ]
          },
          "execution_count": 35,
          "metadata": {},
          "output_type": "execute_result"
        }
      ],
      "source": [
        "cm_m.diagonal()"
      ]
    },
    {
      "cell_type": "code",
      "execution_count": null,
      "metadata": {
        "id": "mSsEZW7AqaDh"
      },
      "outputs": [],
      "source": [
        ""
      ]
    },
    {
      "cell_type": "code",
      "execution_count": null,
      "metadata": {
        "id": "IxDUOBTEVh2J"
      },
      "outputs": [],
      "source": [
        "import keras"
      ]
    },
    {
      "cell_type": "code",
      "execution_count": null,
      "metadata": {
        "colab": {
          "base_uri": "https://localhost:8080/"
        },
        "id": "1VcnqEdSgKWS",
        "outputId": "a8f2728b-f1a5-4f17-8171-0f86a65aa038"
      },
      "outputs": [
        {
          "output_type": "stream",
          "name": "stdout",
          "text": [
            "Model: \"model\"\n",
            "__________________________________________________________________________________________________\n",
            " Layer (type)                   Output Shape         Param #     Connected to                     \n",
            "==================================================================================================\n",
            " inLayer (InputLayer)           [(None, 3000, 1)]    0           []                               \n",
            "                                                                                                  \n",
            " fConv1 (Conv1D)                (None, 500, 64)      3264        ['inLayer[0][0]']                \n",
            "                                                                                                  \n",
            " cConv1 (Conv1D)                (None, 60, 32)       12832       ['inLayer[0][0]']                \n",
            "                                                                                                  \n",
            " fMaxP1 (MaxPooling1D)          (None, 62, 64)       0           ['fConv1[0][0]']                 \n",
            "                                                                                                  \n",
            " cMaxP1 (MaxPooling1D)          (None, 15, 32)       0           ['cConv1[0][0]']                 \n",
            "                                                                                                  \n",
            " fDrop1 (Dropout)               (None, 62, 64)       0           ['fMaxP1[0][0]']                 \n",
            "                                                                                                  \n",
            " cDrop1 (Dropout)               (None, 15, 32)       0           ['cMaxP1[0][0]']                 \n",
            "                                                                                                  \n",
            " fConv2 (Conv1D)                (None, 62, 128)      65664       ['fDrop1[0][0]']                 \n",
            "                                                                                                  \n",
            " cConv2 (Conv1D)                (None, 15, 128)      24704       ['cDrop1[0][0]']                 \n",
            "                                                                                                  \n",
            " fConv3 (Conv1D)                (None, 62, 128)      131200      ['fConv2[0][0]']                 \n",
            "                                                                                                  \n",
            " cConv3 (Conv1D)                (None, 15, 128)      98432       ['cConv2[0][0]']                 \n",
            "                                                                                                  \n",
            " fConv4 (Conv1D)                (None, 62, 128)      131200      ['fConv3[0][0]']                 \n",
            "                                                                                                  \n",
            " cConv4 (Conv1D)                (None, 15, 128)      98432       ['cConv3[0][0]']                 \n",
            "                                                                                                  \n",
            " fMaxP2 (MaxPooling1D)          (None, 15, 128)      0           ['fConv4[0][0]']                 \n",
            "                                                                                                  \n",
            " cMaxP2 (MaxPooling1D)          (None, 7, 128)       0           ['cConv4[0][0]']                 \n",
            "                                                                                                  \n",
            " fFlat1 (Flatten)               (None, 1920)         0           ['fMaxP2[0][0]']                 \n",
            "                                                                                                  \n",
            " cFlat1 (Flatten)               (None, 896)          0           ['cMaxP2[0][0]']                 \n",
            "                                                                                                  \n",
            " merge_1 (Concatenate)          (None, 2816)         0           ['fFlat1[0][0]',                 \n",
            "                                                                  'cFlat1[0][0]']                 \n",
            "                                                                                                  \n",
            " mDrop1 (Dropout)               (None, 2816)         0           ['merge_1[0][0]']                \n",
            "                                                                                                  \n",
            " reshape1 (Reshape)             (None, 1, 2816)      0           ['mDrop1[0][0]']                 \n",
            "                                                                                                  \n",
            " lstm (LSTM)                    (None, 1, 64)        737536      ['reshape1[0][0]']               \n",
            "                                                                                                  \n",
            " lstm_1 (LSTM)                  (None, 64)           33024       ['lstm[0][0]']                   \n",
            "                                                                                                  \n",
            " outLayer (Dense)               (None, 5)            325         ['lstm_1[0][0]']                 \n",
            "                                                                                                  \n",
            "==================================================================================================\n",
            "Total params: 1,336,613\n",
            "Trainable params: 1,336,613\n",
            "Non-trainable params: 0\n",
            "__________________________________________________________________________________________________\n"
          ]
        }
      ],
      "source": [
        "teacher_model=model_b(verbose=VBS)"
      ]
    },
    {
      "cell_type": "code",
      "execution_count": null,
      "metadata": {
        "id": "fDiW8dW5gKYm",
        "colab": {
          "base_uri": "https://localhost:8080/"
        },
        "outputId": "184671f8-3f4b-4520-aaf4-6bc874873509"
      },
      "outputs": [
        {
          "output_type": "execute_result",
          "data": {
            "text/plain": [
              "<tensorflow.python.training.tracking.util.CheckpointLoadStatus at 0x7ff08ab46790>"
            ]
          },
          "metadata": {},
          "execution_count": 32
        }
      ],
      "source": [
        "teacher_checkpt_path='/content/gdrive/My Drive/physionet/ensemble/teacher_wts_30_epochs_50_subs.ckpt'\n",
        "teacher_model.load_weights(teacher_checkpt_path)"
      ]
    },
    {
      "cell_type": "code",
      "execution_count": null,
      "metadata": {
        "colab": {
          "base_uri": "https://localhost:8080/"
        },
        "id": "HhtIxMpxr6Cl",
        "outputId": "81e0307b-7b10-430e-bafd-efdd66e19286"
      },
      "outputs": [
        {
          "output_type": "execute_result",
          "data": {
            "text/plain": [
              "<tensorflow.python.training.tracking.util.CheckpointLoadStatus at 0x7ff307fed510>"
            ]
          },
          "metadata": {},
          "execution_count": 31
        }
      ],
      "source": [
        "teacher_checkpt_path='/content/gdrive/My Drive/physionet/ensemble/teacher_wts_30_epochs_50_subs_trial_2.ckpt'\n",
        "teacher_model.load_weights(teacher_checkpt_path)"
      ]
    },
    {
      "cell_type": "code",
      "execution_count": null,
      "metadata": {
        "id": "PoYcEbIKgKbl"
      },
      "outputs": [],
      "source": [
        "teacher_model.compile(optimizer=optimizer, loss='categorical_crossentropy', metrics=['accuracy'])"
      ]
    },
    {
      "cell_type": "code",
      "execution_count": null,
      "metadata": {
        "colab": {
          "base_uri": "https://localhost:8080/"
        },
        "id": "1A3FCrmEgSKO",
        "outputId": "401a1812-151c-400a-bdd0-144637abf978"
      },
      "outputs": [
        {
          "output_type": "stream",
          "name": "stdout",
          "text": [
            "16/16 [==============================] - 10s 7ms/step - loss: 1.4228 - accuracy: 0.7308\n"
          ]
        }
      ],
      "source": [
        "accuracy_teacher_model = teacher_model.evaluate(x_sub_set_rshp, y_sub_dt_)"
      ]
    },
    {
      "cell_type": "code",
      "execution_count": null,
      "metadata": {
        "id": "I8-760RQcDe9"
      },
      "outputs": [],
      "source": [
        "preds_teacher = teacher_model.predict(x_sub_set_rshp)"
      ]
    },
    {
      "cell_type": "code",
      "execution_count": null,
      "metadata": {
        "id": "BweCOuVVcO28"
      },
      "outputs": [],
      "source": [
        "preds_teacher_fin=np.argmax(preds_teacher,axis=1)"
      ]
    },
    {
      "cell_type": "code",
      "execution_count": null,
      "metadata": {
        "colab": {
          "base_uri": "https://localhost:8080/"
        },
        "id": "nCzDRnbXcYT_",
        "outputId": "03de3f6f-d3ba-4322-d800-282952d3adaa"
      },
      "outputs": [
        {
          "output_type": "stream",
          "name": "stdout",
          "text": [
            "              precision    recall  f1-score   support\n",
            "\n",
            "           0   0.911111  0.650794  0.759259       126\n",
            "           1   0.180000  0.113924  0.139535        79\n",
            "           2   0.825095  0.955947  0.885714       227\n",
            "           3   0.666667  0.400000  0.500000         5\n",
            "           4   0.579545  0.894737  0.703448        57\n",
            "\n",
            "    accuracy                       0.730769       494\n",
            "   macro avg   0.632484  0.603080  0.597591       494\n",
            "weighted avg   0.713935  0.730769  0.709198       494\n",
            "\n"
          ]
        }
      ],
      "source": [
        "print(classification_report(y_sub_dt, preds_teacher_fin, digits=6))"
      ]
    },
    {
      "cell_type": "code",
      "execution_count": null,
      "metadata": {
        "colab": {
          "base_uri": "https://localhost:8080/"
        },
        "id": "QFskldKkc6HJ",
        "outputId": "289427ea-1ae0-44d1-889b-25ae499e84df"
      },
      "outputs": [
        {
          "output_type": "execute_result",
          "data": {
            "text/plain": [
              "array([0.65079365, 0.11392405, 0.95594714, 0.4       , 0.89473684])"
            ]
          },
          "metadata": {},
          "execution_count": 36
        }
      ],
      "source": [
        "from sklearn.metrics import confusion_matrix\n",
        "matrix = confusion_matrix(y_sub_dt, preds_teacher_fin)\n",
        "matrix.diagonal()/matrix.sum(axis=1)"
      ]
    },
    {
      "cell_type": "code",
      "execution_count": null,
      "metadata": {
        "id": "Jtu_NJRYdVMW"
      },
      "outputs": [],
      "source": [
        "cm = matrix.astype('float') / matrix.sum(axis=1)[:, np.newaxis]"
      ]
    },
    {
      "cell_type": "code",
      "execution_count": null,
      "metadata": {
        "colab": {
          "base_uri": "https://localhost:8080/"
        },
        "id": "rV4JlLFEdsx9",
        "outputId": "089c38dc-a370-471e-f1ae-bf0791d3f3bb"
      },
      "outputs": [
        {
          "output_type": "execute_result",
          "data": {
            "text/plain": [
              "array([[0.65079365, 0.26984127, 0.03968254, 0.        , 0.03968254],\n",
              "       [0.08860759, 0.11392405, 0.48101266, 0.        , 0.3164557 ],\n",
              "       [0.        , 0.00881057, 0.95594714, 0.00440529, 0.030837  ],\n",
              "       [0.        , 0.        , 0.6       , 0.4       , 0.        ],\n",
              "       [0.01754386, 0.0877193 , 0.        , 0.        , 0.89473684]])"
            ]
          },
          "metadata": {},
          "execution_count": 38
        }
      ],
      "source": [
        "cm"
      ]
    },
    {
      "cell_type": "code",
      "execution_count": null,
      "metadata": {
        "colab": {
          "base_uri": "https://localhost:8080/"
        },
        "id": "AZ6RJbDndxO3",
        "outputId": "3e3f1ba8-adf2-4cdd-d0b4-22d33118cfc4"
      },
      "outputs": [
        {
          "output_type": "execute_result",
          "data": {
            "text/plain": [
              "array([0.65079365, 0.11392405, 0.95594714, 0.4       , 0.89473684])"
            ]
          },
          "metadata": {},
          "execution_count": 39
        }
      ],
      "source": [
        "cm.diagonal()"
      ]
    },
    {
      "cell_type": "code",
      "execution_count": null,
      "metadata": {
        "colab": {
          "base_uri": "https://localhost:8080/"
        },
        "id": "bCf5BJdxgSNZ",
        "outputId": "886feacd-e3d4-4b49-de41-7a6b25cc667a"
      },
      "outputs": [
        {
          "output_type": "stream",
          "name": "stdout",
          "text": [
            "Model: \"model_1\"\n",
            "_________________________________________________________________\n",
            " Layer (type)                Output Shape              Param #   \n",
            "=================================================================\n",
            " input_1 (InputLayer)        [(None, 3000, 1)]         0         \n",
            "                                                                 \n",
            " conv1d (Conv1D)             (None, 2995, 4)           28        \n",
            "                                                                 \n",
            " max_pooling1d (MaxPooling1D  (None, 1497, 4)          0         \n",
            " )                                                               \n",
            "                                                                 \n",
            " conv1d_1 (Conv1D)           (None, 1493, 4)           84        \n",
            "                                                                 \n",
            " max_pooling1d_1 (MaxPooling  (None, 746, 4)           0         \n",
            " 1D)                                                             \n",
            "                                                                 \n",
            " conv1d_2 (Conv1D)           (None, 743, 10)           170       \n",
            "                                                                 \n",
            " max_pooling1d_2 (MaxPooling  (None, 371, 10)          0         \n",
            " 1D)                                                             \n",
            "                                                                 \n",
            " conv1d_3 (Conv1D)           (None, 368, 10)           410       \n",
            "                                                                 \n",
            " max_pooling1d_3 (MaxPooling  (None, 184, 10)          0         \n",
            " 1D)                                                             \n",
            "                                                                 \n",
            " flatten (Flatten)           (None, 1840)              0         \n",
            "                                                                 \n",
            " dropout (Dropout)           (None, 1840)              0         \n",
            "                                                                 \n",
            " dense (Dense)               (None, 5)                 9205      \n",
            "                                                                 \n",
            "=================================================================\n",
            "Total params: 9,897\n",
            "Trainable params: 9,897\n",
            "Non-trainable params: 0\n",
            "_________________________________________________________________\n"
          ]
        }
      ],
      "source": [
        "#student_model=get_model_cnn() #issue with unmatched shape\n",
        "student_model=get_model_1d_cnn()"
      ]
    },
    {
      "cell_type": "code",
      "execution_count": null,
      "metadata": {
        "id": "lBSUd9Dbgc0i"
      },
      "outputs": [],
      "source": [
        "class Distiller(keras.Model):\n",
        "    def __init__(self, student, teacher):\n",
        "        super(Distiller, self).__init__()\n",
        "        self.teacher = teacher\n",
        "        self.student = student\n",
        "\n",
        "    def compile(\n",
        "        self,\n",
        "        optimizer,\n",
        "        metrics,\n",
        "        student_loss_fn,\n",
        "        distillation_loss_fn,\n",
        "        alpha=0.1,\n",
        "        temperature=3,\n",
        "    ):\n",
        "        \"\"\" Configure the distiller.\n",
        "\n",
        "        Args:\n",
        "            optimizer: Keras optimizer for the student weights\n",
        "            metrics: Keras metrics for evaluation\n",
        "            student_loss_fn: Loss function of difference between student\n",
        "                predictions and ground-truth\n",
        "            distillation_loss_fn: Loss function of difference between soft\n",
        "                student predictions and soft teacher predictions\n",
        "            alpha: weight to student_loss_fn and 1-alpha to distillation_loss_fn\n",
        "            temperature: Temperature for softening probability distributions.\n",
        "                Larger temperature gives softer distributions.\n",
        "        \"\"\"\n",
        "        super(Distiller, self).compile(optimizer=optimizer, metrics=metrics)\n",
        "        self.student_loss_fn = student_loss_fn\n",
        "        self.distillation_loss_fn = distillation_loss_fn\n",
        "        self.alpha = alpha\n",
        "        self.temperature = temperature\n",
        "\n",
        "    def train_step(self, data):\n",
        "        # Unpack data\n",
        "        x, y = data\n",
        "\n",
        "        # Forward pass of teacher\n",
        "        teacher_predictions = self.teacher(x, training=False)\n",
        "\n",
        "        with tf.GradientTape() as tape:\n",
        "            # Forward pass of student\n",
        "            student_predictions = self.student(x, training=True)\n",
        "\n",
        "            # Compute losses\n",
        "            student_loss = self.student_loss_fn(y, student_predictions)\n",
        "            distillation_loss = self.distillation_loss_fn(\n",
        "                tf.nn.softmax(teacher_predictions / self.temperature, axis=1),\n",
        "                tf.nn.softmax(student_predictions / self.temperature, axis=1),\n",
        "            )\n",
        "            loss = self.alpha * student_loss + (1 - self.alpha) * distillation_loss\n",
        "\n",
        "        # Compute gradients\n",
        "        trainable_vars = self.student.trainable_variables\n",
        "        gradients = tape.gradient(loss, trainable_vars)\n",
        "\n",
        "        # Update weights\n",
        "        self.optimizer.apply_gradients(zip(gradients, trainable_vars))\n",
        "\n",
        "        # Update the metrics configured in `compile()`.\n",
        "        self.compiled_metrics.update_state(y, student_predictions)\n",
        "\n",
        "        # Return a dict of performance\n",
        "        results = {m.name: m.result() for m in self.metrics}\n",
        "        results.update(\n",
        "            {\"student_loss\": student_loss, \"distillation_loss\": distillation_loss}\n",
        "        )\n",
        "        return results\n",
        "\n",
        "    def test_step(self, data):\n",
        "        # Unpack the data\n",
        "        x, y = data\n",
        "\n",
        "        # Compute predictions\n",
        "        y_prediction = self.student(x, training=False)\n",
        "\n",
        "        # Calculate the loss\n",
        "        student_loss = self.student_loss_fn(y, y_prediction)\n",
        "\n",
        "        # Update the metrics.\n",
        "        self.compiled_metrics.update_state(y, y_prediction)\n",
        "\n",
        "        # Return a dict of performance\n",
        "        results = {m.name: m.result() for m in self.metrics}\n",
        "        results.update({\"student_loss\": student_loss})\n",
        "        return results\n"
      ]
    },
    {
      "cell_type": "code",
      "execution_count": null,
      "metadata": {
        "id": "eWrrKJEJgfcJ"
      },
      "outputs": [],
      "source": [
        "import tensorflow as tf\n",
        "from tensorflow import keras\n",
        "from tensorflow.keras import layers\n",
        "import numpy as np\n"
      ]
    },
    {
      "cell_type": "code",
      "execution_count": null,
      "metadata": {
        "colab": {
          "base_uri": "https://localhost:8080/"
        },
        "id": "a7E3fKEjgffN",
        "outputId": "c0e7abbc-6820-4e75-af2b-6b2e3b9ea045"
      },
      "outputs": [
        {
          "output_type": "stream",
          "name": "stdout",
          "text": [
            "Epoch 1/40\n",
            "3648/3648 [==============================] - 43s 8ms/step - categorical_accuracy: 0.6898 - student_loss: 0.7656 - distillation_loss: 0.0024\n",
            "Epoch 2/40\n",
            "3648/3648 [==============================] - 28s 8ms/step - categorical_accuracy: 0.7611 - student_loss: 0.5843 - distillation_loss: 0.0019\n",
            "Epoch 3/40\n",
            "3648/3648 [==============================] - 28s 8ms/step - categorical_accuracy: 0.7837 - student_loss: 0.5307 - distillation_loss: 0.0017\n",
            "Epoch 4/40\n",
            "3648/3648 [==============================] - 28s 8ms/step - categorical_accuracy: 0.8023 - student_loss: 0.4938 - distillation_loss: 0.0015\n",
            "Epoch 5/40\n",
            "3648/3648 [==============================] - 28s 8ms/step - categorical_accuracy: 0.8157 - student_loss: 0.4607 - distillation_loss: 0.0014\n",
            "Epoch 6/40\n",
            "3648/3648 [==============================] - 28s 8ms/step - categorical_accuracy: 0.8249 - student_loss: 0.4382 - distillation_loss: 0.0013\n",
            "Epoch 7/40\n",
            "3648/3648 [==============================] - 28s 8ms/step - categorical_accuracy: 0.8330 - student_loss: 0.4203 - distillation_loss: 0.0013\n",
            "Epoch 8/40\n",
            "3648/3648 [==============================] - 28s 8ms/step - categorical_accuracy: 0.8385 - student_loss: 0.4051 - distillation_loss: 0.0012\n",
            "Epoch 9/40\n",
            "3648/3648 [==============================] - 29s 8ms/step - categorical_accuracy: 0.8411 - student_loss: 0.3983 - distillation_loss: 0.0012\n",
            "Epoch 10/40\n",
            "3648/3648 [==============================] - 28s 8ms/step - categorical_accuracy: 0.8455 - student_loss: 0.3886 - distillation_loss: 0.0012\n",
            "Epoch 11/40\n",
            "3648/3648 [==============================] - 28s 8ms/step - categorical_accuracy: 0.8481 - student_loss: 0.3803 - distillation_loss: 0.0011\n",
            "Epoch 12/40\n",
            "3648/3648 [==============================] - 28s 8ms/step - categorical_accuracy: 0.8499 - student_loss: 0.3773 - distillation_loss: 0.0011\n",
            "Epoch 13/40\n",
            "3648/3648 [==============================] - 28s 8ms/step - categorical_accuracy: 0.8522 - student_loss: 0.3728 - distillation_loss: 0.0011\n",
            "Epoch 14/40\n",
            "3648/3648 [==============================] - 28s 8ms/step - categorical_accuracy: 0.8534 - student_loss: 0.3699 - distillation_loss: 0.0011\n",
            "Epoch 15/40\n",
            "3648/3648 [==============================] - 29s 8ms/step - categorical_accuracy: 0.8558 - student_loss: 0.3657 - distillation_loss: 0.0011\n",
            "Epoch 16/40\n",
            "3648/3648 [==============================] - 28s 8ms/step - categorical_accuracy: 0.8557 - student_loss: 0.3638 - distillation_loss: 0.0011\n",
            "Epoch 17/40\n",
            "3648/3648 [==============================] - 28s 8ms/step - categorical_accuracy: 0.8568 - student_loss: 0.3616 - distillation_loss: 0.0011\n",
            "Epoch 18/40\n",
            "3648/3648 [==============================] - 28s 8ms/step - categorical_accuracy: 0.8577 - student_loss: 0.3598 - distillation_loss: 0.0011\n",
            "Epoch 19/40\n",
            "3648/3648 [==============================] - 28s 8ms/step - categorical_accuracy: 0.8591 - student_loss: 0.3559 - distillation_loss: 0.0011\n",
            "Epoch 20/40\n",
            "3648/3648 [==============================] - 28s 8ms/step - categorical_accuracy: 0.8603 - student_loss: 0.3541 - distillation_loss: 0.0011\n",
            "Epoch 21/40\n",
            "3648/3648 [==============================] - 28s 8ms/step - categorical_accuracy: 0.8616 - student_loss: 0.3525 - distillation_loss: 0.0011\n",
            "Epoch 22/40\n",
            "3648/3648 [==============================] - 28s 8ms/step - categorical_accuracy: 0.8601 - student_loss: 0.3548 - distillation_loss: 0.0011\n",
            "Epoch 23/40\n",
            "3648/3648 [==============================] - 28s 8ms/step - categorical_accuracy: 0.8608 - student_loss: 0.3543 - distillation_loss: 0.0011\n",
            "Epoch 24/40\n",
            "3648/3648 [==============================] - 28s 8ms/step - categorical_accuracy: 0.8616 - student_loss: 0.3502 - distillation_loss: 0.0011\n",
            "Epoch 25/40\n",
            "3648/3648 [==============================] - 28s 8ms/step - categorical_accuracy: 0.8629 - student_loss: 0.3479 - distillation_loss: 0.0010\n",
            "Epoch 26/40\n",
            "3648/3648 [==============================] - 28s 8ms/step - categorical_accuracy: 0.8630 - student_loss: 0.3479 - distillation_loss: 0.0010\n",
            "Epoch 27/40\n",
            "3648/3648 [==============================] - 28s 8ms/step - categorical_accuracy: 0.8617 - student_loss: 0.3502 - distillation_loss: 0.0011\n",
            "Epoch 28/40\n",
            "3648/3648 [==============================] - 28s 8ms/step - categorical_accuracy: 0.8627 - student_loss: 0.3475 - distillation_loss: 0.0010\n",
            "Epoch 29/40\n",
            "3648/3648 [==============================] - 28s 8ms/step - categorical_accuracy: 0.8640 - student_loss: 0.3454 - distillation_loss: 0.0010\n",
            "Epoch 30/40\n",
            "3648/3648 [==============================] - 28s 8ms/step - categorical_accuracy: 0.8643 - student_loss: 0.3444 - distillation_loss: 0.0010\n",
            "Epoch 31/40\n",
            "3648/3648 [==============================] - 28s 8ms/step - categorical_accuracy: 0.8637 - student_loss: 0.3445 - distillation_loss: 0.0010\n",
            "Epoch 32/40\n",
            "3648/3648 [==============================] - 28s 8ms/step - categorical_accuracy: 0.8642 - student_loss: 0.3438 - distillation_loss: 0.0010\n",
            "Epoch 33/40\n",
            "3648/3648 [==============================] - 29s 8ms/step - categorical_accuracy: 0.8658 - student_loss: 0.3419 - distillation_loss: 0.0010\n",
            "Epoch 34/40\n",
            "3648/3648 [==============================] - 28s 8ms/step - categorical_accuracy: 0.8652 - student_loss: 0.3421 - distillation_loss: 0.0010\n",
            "Epoch 35/40\n",
            "3648/3648 [==============================] - 28s 8ms/step - categorical_accuracy: 0.8655 - student_loss: 0.3430 - distillation_loss: 0.0010\n",
            "Epoch 36/40\n",
            "3648/3648 [==============================] - 28s 8ms/step - categorical_accuracy: 0.8666 - student_loss: 0.3420 - distillation_loss: 0.0010\n",
            "Epoch 37/40\n",
            "3648/3648 [==============================] - 28s 8ms/step - categorical_accuracy: 0.8658 - student_loss: 0.3424 - distillation_loss: 0.0010\n",
            "Epoch 38/40\n",
            "3648/3648 [==============================] - 28s 8ms/step - categorical_accuracy: 0.8663 - student_loss: 0.3406 - distillation_loss: 0.0010\n",
            "Epoch 39/40\n",
            "3648/3648 [==============================] - 28s 8ms/step - categorical_accuracy: 0.8665 - student_loss: 0.3380 - distillation_loss: 0.0010\n",
            "Epoch 40/40\n",
            "3648/3648 [==============================] - 29s 8ms/step - categorical_accuracy: 0.8666 - student_loss: 0.3394 - distillation_loss: 0.0010\n"
          ]
        },
        {
          "output_type": "execute_result",
          "data": {
            "text/plain": [
              "<keras.callbacks.History at 0x7ff3082531d0>"
            ]
          },
          "metadata": {},
          "execution_count": 36
        }
      ],
      "source": [
        "# Initialize and compile distiller\n",
        "distiller = Distiller(student=student_model, teacher=teacher_model)\n",
        "distiller.compile(\n",
        "    optimizer=keras.optimizers.Adam(),\n",
        "    metrics=[keras.metrics.CategoricalAccuracy()],\n",
        "    student_loss_fn=keras.losses.CategoricalCrossentropy(from_logits=True),\n",
        "    distillation_loss_fn=keras.losses.KLDivergence(),\n",
        "    alpha=0.9,\n",
        "    temperature=4,\n",
        ")\n",
        "\n",
        "# Distill teacher to student\n",
        "distiller.fit(x_transfer_set_rshp, y_transfer_, epochs=40)\n",
        "\n",
        "# Evaluate student on test dataset\n",
        "#distiller.evaluate(x_test, y_test)"
      ]
    },
    {
      "cell_type": "code",
      "execution_count": null,
      "metadata": {
        "colab": {
          "base_uri": "https://localhost:8080/"
        },
        "id": "Dn21NvKfgn-p",
        "outputId": "14834aa4-ac5b-4a0a-8889-3d32891b5789"
      },
      "outputs": [
        {
          "output_type": "stream",
          "name": "stdout",
          "text": [
            "16/16 [==============================] - 0s 3ms/step - categorical_accuracy: 0.7713 - student_loss: 0.8573\n"
          ]
        }
      ],
      "source": [
        "accuracy_distiller = distiller.evaluate(x_sub_set_rshp, y_sub_dt_)"
      ]
    },
    {
      "cell_type": "code",
      "execution_count": null,
      "metadata": {
        "id": "5jgPEG1xIOA6"
      },
      "outputs": [],
      "source": [
        "preds = student_model.predict(x_sub_set_rshp)"
      ]
    },
    {
      "cell_type": "code",
      "execution_count": null,
      "metadata": {
        "colab": {
          "base_uri": "https://localhost:8080/"
        },
        "id": "WSYvHlcKIhZ1",
        "outputId": "97dac586-3fee-440d-ddb6-d6d62b014614"
      },
      "outputs": [
        {
          "output_type": "execute_result",
          "data": {
            "text/plain": [
              "array([[8.4903302e-05, 8.5891321e-02, 9.1109419e-01, 1.9715708e-05,\n",
              "        2.9097414e-03],\n",
              "       [7.4781179e-01, 2.3511842e-01, 4.0679652e-04, 3.4983930e-15,\n",
              "        1.6662974e-02],\n",
              "       [1.0000000e+00, 3.5820982e-09, 4.7531251e-10, 7.2854693e-15,\n",
              "        7.3668549e-10],\n",
              "       ...,\n",
              "       [9.6170574e-02, 6.0581571e-01, 5.3527504e-02, 1.4362865e-09,\n",
              "        2.4448621e-01],\n",
              "       [9.9999869e-01, 3.3601335e-09, 1.8365091e-08, 2.4214091e-09,\n",
              "        1.3239504e-06],\n",
              "       [3.6498755e-01, 3.9122108e-01, 6.8176538e-03, 1.5432836e-11,\n",
              "        2.3697372e-01]], dtype=float32)"
            ]
          },
          "metadata": {},
          "execution_count": 39
        }
      ],
      "source": [
        "preds"
      ]
    },
    {
      "cell_type": "code",
      "execution_count": null,
      "metadata": {
        "id": "QaarHme1IyX6"
      },
      "outputs": [],
      "source": [
        "preds_fin=np.argmax(preds,axis=1)"
      ]
    },
    {
      "cell_type": "code",
      "execution_count": null,
      "metadata": {
        "colab": {
          "base_uri": "https://localhost:8080/"
        },
        "id": "dDSgCal1JaId",
        "outputId": "cf3fa16b-5a11-49e4-cc94-1dab7d088759"
      },
      "outputs": [
        {
          "output_type": "execute_result",
          "data": {
            "text/plain": [
              "array([2, 0, 0, 2, 2, 4, 0, 0, 2, 4, 2, 1, 0, 0, 0, 0, 0, 2, 1, 2, 2, 2,\n",
              "       4, 2, 0, 0, 4, 2, 0, 2, 2, 2, 2, 4, 4, 2, 0, 2, 4, 2, 0, 2, 4, 4,\n",
              "       4, 2, 2, 1, 4, 2, 4, 2, 4, 2, 2, 2, 2, 0, 0, 2, 0, 4, 1, 2, 0, 2,\n",
              "       2, 2, 2, 0, 2, 0, 2, 2, 2, 2, 2, 4, 0, 1, 2, 2, 2, 2, 2, 1, 2, 4,\n",
              "       0, 4, 1, 0, 2, 2, 0, 4, 4, 2, 2, 1, 2, 0, 0, 0, 4, 4, 0, 0, 0, 2,\n",
              "       2, 2, 0, 2, 0, 4, 2, 2, 2, 0, 2, 1, 4, 2, 1, 0, 1, 4, 2, 2, 1, 4,\n",
              "       0, 1, 2, 2, 2, 2, 2, 2, 0, 4, 2, 2, 2, 2, 2, 2, 2, 4, 2, 4, 2, 2,\n",
              "       3, 4, 2, 0, 0, 2, 2, 0, 1, 0, 2, 2, 0, 2, 4, 0, 1, 0, 2, 2, 4, 2,\n",
              "       2, 2, 4, 0, 2, 4, 0, 0, 2, 4, 2, 1, 2, 4, 2, 2, 1, 2, 2, 4, 4, 1,\n",
              "       0, 1, 2, 2, 2, 0, 2, 4, 4, 2, 4, 0, 2, 2, 0, 2, 2, 2, 2, 2, 0, 2,\n",
              "       4, 2, 0, 2, 0, 2, 1, 0, 0, 2, 2, 2, 2, 2, 2, 0, 2, 2, 0, 2, 2, 1,\n",
              "       2, 4, 2, 0, 2, 0, 2, 2, 2, 4, 4, 2, 2, 4, 2, 2, 2, 4, 4, 2, 0, 2,\n",
              "       2, 0, 0, 0, 4, 0, 2, 4, 2, 4, 2, 2, 4, 2, 0, 2, 0, 2, 0, 2, 1, 4,\n",
              "       2, 4, 1, 2, 4, 2, 2, 1, 0, 1, 2, 2, 0, 2, 0, 0, 0, 2, 2, 0, 1, 4,\n",
              "       2, 0, 2, 4, 2, 0, 2, 0, 4, 2, 0, 4, 4, 0, 2, 2, 2, 4, 3, 0, 2, 1,\n",
              "       1, 2, 2, 2, 2, 0, 4, 2, 2, 0, 2, 0, 0, 0, 2, 4, 2, 0, 2, 2, 2, 2,\n",
              "       2, 4, 2, 2, 2, 2, 0, 1, 2, 2, 1, 0, 2, 2, 4, 0, 2, 0, 2, 4, 0, 2,\n",
              "       2, 2, 2, 2, 2, 2, 2, 0, 2, 0, 0, 4, 0, 4, 2, 2, 4, 2, 2, 2, 0, 2,\n",
              "       2, 0, 2, 0, 4, 4, 2, 2, 2, 0, 2, 0, 4, 4, 2, 4, 2, 1, 2, 2, 2, 4,\n",
              "       0, 2, 2, 4, 2, 2, 0, 4, 2, 4, 4, 4, 0, 1, 0, 0, 1, 2, 0, 2, 2, 2,\n",
              "       0, 2, 4, 0, 2, 2, 2, 2, 0, 2, 2, 2, 2, 4, 1, 2, 2, 0, 1, 2, 2, 2,\n",
              "       2, 0, 4, 0, 0, 4, 4, 2, 2, 0, 2, 0, 4, 2, 2, 4, 4, 0, 4, 2, 2, 0,\n",
              "       2, 2, 1, 2, 0, 0, 2, 1, 0, 1])"
            ]
          },
          "metadata": {},
          "execution_count": 41
        }
      ],
      "source": [
        "preds_fin"
      ]
    },
    {
      "cell_type": "code",
      "execution_count": null,
      "metadata": {
        "id": "J7dmXqVnKHds"
      },
      "outputs": [],
      "source": [
        "from sklearn.metrics import accuracy_score, recall_score, f1_score, precision_score"
      ]
    },
    {
      "cell_type": "code",
      "execution_count": null,
      "metadata": {
        "colab": {
          "base_uri": "https://localhost:8080/"
        },
        "id": "TvVHzG12IUmI",
        "outputId": "2c908b1e-cee3-4de4-f938-2a8cfa8bcb2d"
      },
      "outputs": [
        {
          "output_type": "stream",
          "name": "stdout",
          "text": [
            "0.771255060728745\n"
          ]
        }
      ],
      "source": [
        "print(accuracy_score(y_sub_dt, preds_fin))\n",
        "#print(precision_score(y_sub_dt, preds_fin))\n",
        "#print(recall_score(y_sub_dt, preds_fin))\n",
        "#print(f1_score(y_sub_dt, preds_fin))"
      ]
    },
    {
      "cell_type": "code",
      "execution_count": null,
      "metadata": {
        "colab": {
          "base_uri": "https://localhost:8080/"
        },
        "id": "bn3Ug6BbFcvm",
        "outputId": "b80ba0f4-5162-42a6-e5a5-78869ce14c97"
      },
      "outputs": [
        {
          "output_type": "stream",
          "name": "stdout",
          "text": [
            "Precision: 0.733304002499049\n",
            "Recall: 0.6344163015393648\n",
            "F1 score: 0.6444284953681974\n",
            "              precision    recall  f1-score   support\n",
            "\n",
            "           0   0.890756  0.841270  0.865306       126\n",
            "           1   0.394737  0.189873  0.256410        79\n",
            "           2   0.858300  0.933921  0.894515       227\n",
            "           3   1.000000  0.400000  0.571429         5\n",
            "           4   0.522727  0.807018  0.634483        57\n",
            "\n",
            "    accuracy                       0.771255       494\n",
            "   macro avg   0.733304  0.634416  0.644428       494\n",
            "weighted avg   0.755160  0.771255  0.751746       494\n",
            "\n"
          ]
        }
      ],
      "source": [
        "#y_sub_dt\n",
        "from sklearn.metrics import precision_score, recall_score\n",
        "f1 = f1_score(y_sub_dt, preds_fin, average=\"macro\")\n",
        "prec = precision_score(y_sub_dt, preds_fin, average=\"macro\")\n",
        "recall = recall_score(y_sub_dt, preds_fin, average=\"macro\")\n",
        "if VBS:\n",
        "    print(\"Precision: {}\".format(prec)) \n",
        "    print(\"Recall: {}\".format(recall))\n",
        "    print(\"F1 score: {}\".format(f1))\n",
        "\n",
        "    report = classification_report(y_sub_dt, preds_fin, digits=6)\n",
        "    print(report)"
      ]
    },
    {
      "cell_type": "code",
      "execution_count": null,
      "metadata": {
        "colab": {
          "base_uri": "https://localhost:8080/"
        },
        "id": "dum3FdSXrFjm",
        "outputId": "9ff1955f-5226-413c-8e2c-cca8c84aba4a"
      },
      "outputs": [
        {
          "output_type": "execute_result",
          "data": {
            "text/plain": [
              "array([0.84126984, 0.18987342, 0.9339207 , 0.4       , 0.80701754])"
            ]
          },
          "metadata": {},
          "execution_count": 45
        }
      ],
      "source": [
        "from sklearn.metrics import confusion_matrix\n",
        "matrix_stu = confusion_matrix(y_sub_dt, preds_fin)\n",
        "matrix_stu.diagonal()/matrix_stu.sum(axis=1)"
      ]
    },
    {
      "cell_type": "code",
      "execution_count": null,
      "metadata": {
        "id": "Qv4w5cq2rFmT"
      },
      "outputs": [],
      "source": [
        "cm_stu = matrix_stu.astype('float') / matrix_stu.sum(axis=1)[:, np.newaxis]"
      ]
    },
    {
      "cell_type": "code",
      "execution_count": null,
      "metadata": {
        "colab": {
          "base_uri": "https://localhost:8080/"
        },
        "id": "1lMfFsQ0rFpR",
        "outputId": "bcc14b36-3051-459d-a6ec-71a795760e77"
      },
      "outputs": [
        {
          "output_type": "execute_result",
          "data": {
            "text/plain": [
              "array([0.84126984, 0.18987342, 0.9339207 , 0.4       , 0.80701754])"
            ]
          },
          "metadata": {},
          "execution_count": 47
        }
      ],
      "source": [
        "cm_stu.diagonal()"
      ]
    },
    {
      "cell_type": "code",
      "execution_count": null,
      "metadata": {
        "colab": {
          "base_uri": "https://localhost:8080/"
        },
        "id": "xPlEzjMdHhNw",
        "outputId": "294867f4-1213-461a-d4bb-d1961af6ab86"
      },
      "outputs": [
        {
          "output_type": "stream",
          "name": "stdout",
          "text": [
            "16/16 [==============================] - 0s 3ms/step - categorical_accuracy: 0.7713 - student_loss: 0.8573\n"
          ]
        }
      ],
      "source": [
        "accuracy_distiller = distiller.evaluate(x_sub_set_rshp, y_sub_dt_)"
      ]
    },
    {
      "cell_type": "code",
      "execution_count": null,
      "metadata": {
        "id": "0II4xauUhFx6"
      },
      "outputs": [],
      "source": [
        "#Distiller's performance (student model's prformance)\n",
        "\n",
        "#alpha=0.9,\n",
        "#temperature=4\n",
        "\n",
        "#30 epochs 85.57\n",
        "#40 epochs 84.85\n",
        "#50 epochs 83.88\n",
        "#60 epochs 83.88\n",
        "\n",
        "#alpha=0.9,\n",
        "#temperature=5\n",
        "\n",
        "#30 epochs 85.18\n",
        "#40 epochs 85.41\n",
        "#50 epochs 84.01\n",
        "#60 epochs "
      ]
    },
    {
      "cell_type": "code",
      "execution_count": null,
      "metadata": {
        "id": "dlgV5BnMhPwB"
      },
      "outputs": [],
      "source": [
        ""
      ]
    }
  ],
  "metadata": {
    "accelerator": "GPU",
    "colab": {
      "collapsed_sections": [],
      "machine_shape": "hm",
      "name": "sub_480(sub_3)KD_without_Personalization,_deep_sleep_net_(teacher)_and_simple_1d_cnn_(student).ipynb",
      "provenance": []
    },
    "kernelspec": {
      "display_name": "Python 3",
      "name": "python3"
    },
    "language_info": {
      "name": "python"
    }
  },
  "nbformat": 4,
  "nbformat_minor": 0
}