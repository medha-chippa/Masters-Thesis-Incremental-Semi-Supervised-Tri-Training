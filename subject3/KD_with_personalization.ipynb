{
  "nbformat": 4,
  "nbformat_minor": 0,
  "metadata": {
    "colab": {
      "name": "sub_480(sub_3)KD_with_personalization(trained_the_teacher_model_with_different_epoch_combinations_(40,50,60,70)).ipynb",
      "provenance": [],
      "collapsed_sections": [],
      "machine_shape": "hm"
    },
    "kernelspec": {
      "name": "python3",
      "display_name": "Python 3"
    },
    "language_info": {
      "name": "python"
    },
    "accelerator": "GPU"
  },
  "cells": [
    {
      "cell_type": "code",
      "execution_count": null,
      "metadata": {
        "id": "y8_8UslWPwBT"
      },
      "outputs": [],
      "source": [
        "import numpy as np\n",
        "import pandas as pd\n",
        "from sklearn.model_selection import train_test_split\n",
        "\n",
        "from numpy import mean\n",
        "from numpy import std\n",
        "\n",
        "from matplotlib import pyplot\n",
        "from sklearn.metrics import accuracy_score,confusion_matrix,classification_report\n",
        "from sklearn.preprocessing import QuantileTransformer\n",
        "from sklearn.pipeline import Pipeline\n",
        "\n",
        "from scipy.stats import mode"
      ]
    },
    {
      "cell_type": "code",
      "source": [
        "from pydrive.auth import GoogleAuth\n",
        "from pydrive.drive import GoogleDrive\n",
        "from google.colab import auth\n",
        "from oauth2client.client import GoogleCredentials"
      ],
      "metadata": {
        "id": "h28AuzD_P2G6"
      },
      "execution_count": null,
      "outputs": []
    },
    {
      "cell_type": "code",
      "source": [
        "auth.authenticate_user()\n",
        "gauth = GoogleAuth()\n",
        "gauth.credentials = GoogleCredentials.get_application_default()\n",
        "drive = GoogleDrive(gauth)"
      ],
      "metadata": {
        "id": "F-F5aOYSP2LF"
      },
      "execution_count": null,
      "outputs": []
    },
    {
      "cell_type": "code",
      "source": [
        "#npz files can only be loaded using /gdrive path\n",
        "from google.colab import drive\n",
        "drive.mount('/content/gdrive')\n",
        "#%cd /gdrive"
      ],
      "metadata": {
        "colab": {
          "base_uri": "https://localhost:8080/"
        },
        "id": "W55D-9irP2OD",
        "outputId": "378ca416-40c3-474f-d79f-11db136366b8"
      },
      "execution_count": null,
      "outputs": [
        {
          "output_type": "stream",
          "name": "stdout",
          "text": [
            "Mounted at /content/gdrive\n"
          ]
        }
      ]
    },
    {
      "cell_type": "code",
      "source": [
        "!pip install mne"
      ],
      "metadata": {
        "colab": {
          "base_uri": "https://localhost:8080/"
        },
        "id": "PludW6j-P6vX",
        "outputId": "176e87e0-7cfd-43ea-9688-df40ec8905b8"
      },
      "execution_count": null,
      "outputs": [
        {
          "output_type": "stream",
          "name": "stdout",
          "text": [
            "Looking in indexes: https://pypi.org/simple, https://us-python.pkg.dev/colab-wheels/public/simple/\n",
            "Collecting mne\n",
            "  Downloading mne-1.0.3-py3-none-any.whl (7.5 MB)\n",
            "\u001b[K     |████████████████████████████████| 7.5 MB 14.7 MB/s \n",
            "\u001b[?25hRequirement already satisfied: tqdm in /usr/local/lib/python3.7/dist-packages (from mne) (4.64.0)\n",
            "Requirement already satisfied: scipy>=1.1.0 in /usr/local/lib/python3.7/dist-packages (from mne) (1.4.1)\n",
            "Requirement already satisfied: matplotlib in /usr/local/lib/python3.7/dist-packages (from mne) (3.2.2)\n",
            "Requirement already satisfied: jinja2 in /usr/local/lib/python3.7/dist-packages (from mne) (2.11.3)\n",
            "Requirement already satisfied: numpy>=1.15.4 in /usr/local/lib/python3.7/dist-packages (from mne) (1.21.6)\n",
            "Requirement already satisfied: packaging in /usr/local/lib/python3.7/dist-packages (from mne) (21.3)\n",
            "Requirement already satisfied: pooch>=1.5 in /usr/local/lib/python3.7/dist-packages (from mne) (1.6.0)\n",
            "Requirement already satisfied: decorator in /usr/local/lib/python3.7/dist-packages (from mne) (4.4.2)\n",
            "Requirement already satisfied: appdirs>=1.3.0 in /usr/local/lib/python3.7/dist-packages (from pooch>=1.5->mne) (1.4.4)\n",
            "Requirement already satisfied: requests>=2.19.0 in /usr/local/lib/python3.7/dist-packages (from pooch>=1.5->mne) (2.23.0)\n",
            "Requirement already satisfied: pyparsing!=3.0.5,>=2.0.2 in /usr/local/lib/python3.7/dist-packages (from packaging->mne) (3.0.9)\n",
            "Requirement already satisfied: urllib3!=1.25.0,!=1.25.1,<1.26,>=1.21.1 in /usr/local/lib/python3.7/dist-packages (from requests>=2.19.0->pooch>=1.5->mne) (1.24.3)\n",
            "Requirement already satisfied: chardet<4,>=3.0.2 in /usr/local/lib/python3.7/dist-packages (from requests>=2.19.0->pooch>=1.5->mne) (3.0.4)\n",
            "Requirement already satisfied: idna<3,>=2.5 in /usr/local/lib/python3.7/dist-packages (from requests>=2.19.0->pooch>=1.5->mne) (2.10)\n",
            "Requirement already satisfied: certifi>=2017.4.17 in /usr/local/lib/python3.7/dist-packages (from requests>=2.19.0->pooch>=1.5->mne) (2022.6.15)\n",
            "Requirement already satisfied: MarkupSafe>=0.23 in /usr/local/lib/python3.7/dist-packages (from jinja2->mne) (2.0.1)\n",
            "Requirement already satisfied: cycler>=0.10 in /usr/local/lib/python3.7/dist-packages (from matplotlib->mne) (0.11.0)\n",
            "Requirement already satisfied: python-dateutil>=2.1 in /usr/local/lib/python3.7/dist-packages (from matplotlib->mne) (2.8.2)\n",
            "Requirement already satisfied: kiwisolver>=1.0.1 in /usr/local/lib/python3.7/dist-packages (from matplotlib->mne) (1.4.3)\n",
            "Requirement already satisfied: typing-extensions in /usr/local/lib/python3.7/dist-packages (from kiwisolver>=1.0.1->matplotlib->mne) (4.1.1)\n",
            "Requirement already satisfied: six>=1.5 in /usr/local/lib/python3.7/dist-packages (from python-dateutil>=2.1->matplotlib->mne) (1.15.0)\n",
            "Installing collected packages: mne\n",
            "Successfully installed mne-1.0.3\n"
          ]
        }
      ]
    },
    {
      "cell_type": "code",
      "source": [
        "#import pyeeg\n",
        "from tensorflow import keras "
      ],
      "metadata": {
        "id": "_1O1bfmjP6w2"
      },
      "execution_count": null,
      "outputs": []
    },
    {
      "cell_type": "code",
      "source": [
        "%matplotlib inline\n",
        "\n",
        "import glob\n",
        "import math\n",
        "import ntpath\n",
        "import random, os, sys\n",
        "import numpy as np\n",
        "import pandas as pd\n",
        "import tensorflow as tf\n",
        "import matplotlib.pyplot as plt\n",
        "import seaborn as sns\n",
        "#import edfreader\n",
        "#import models\n",
        "import mne\n",
        "#import pyeeg\n",
        "import warnings\n",
        "warnings.filterwarnings('ignore')\n",
        "\n",
        "from matplotlib.backends.backend_pdf import PdfPages\n",
        "from mne.datasets.sleep_physionet._utils import _fetch_one, _data_path, AGE_SLEEP_RECORDS, _check_subjects\n",
        "from datetime import datetime\n",
        "from mne import Epochs, pick_types, find_events\n",
        "from mne.io import concatenate_raws, read_raw_edf\n",
        "from mne.time_frequency import psd_welch\n",
        "from sklearn.ensemble import RandomForestClassifier\n",
        "from sklearn.metrics import classification_report\n",
        "\n",
        "from tqdm.notebook import tqdm\n",
        "from sklearn.model_selection import train_test_split\n",
        "from tensorflow import keras\n",
        "\n",
        "from tensorflow.keras.utils import to_categorical\n",
        "\n",
        "from tensorflow.keras.callbacks import ModelCheckpoint, ReduceLROnPlateau, CSVLogger\n",
        "import imblearn\n",
        "from imblearn.over_sampling import SMOTE\n",
        "from sklearn.svm import SVC\n",
        "import joblib\n",
        "\n",
        "from sklearn.metrics import make_scorer, f1_score, accuracy_score, classification_report, log_loss\n",
        "from sklearn.metrics import roc_auc_score, confusion_matrix, roc_auc_score, roc_curve\n",
        "\n",
        "from sklearn.tree import DecisionTreeClassifier\n",
        "from sklearn.neighbors import KNeighborsClassifier\n",
        "from sklearn.ensemble import RandomForestClassifier, AdaBoostClassifier, GradientBoostingClassifier\n",
        "from sklearn.naive_bayes import GaussianNB\n",
        "from sklearn.discriminant_analysis import LinearDiscriminantAnalysis\n",
        "from sklearn.discriminant_analysis import QuadraticDiscriminantAnalysis\n",
        "#from xgboost import XGBClassifier\n",
        "#import xgboost"
      ],
      "metadata": {
        "id": "I9Lglo7-P60e"
      },
      "execution_count": null,
      "outputs": []
    },
    {
      "cell_type": "code",
      "source": [
        "VBS = True  # constant boolean to enable/disbale verbose\n",
        "EPOCH_SEC_SIZE = 30  # Epoch duration selection\n",
        "seed = 42  # seed value for the random seeds\n",
        "batch_size = 64\n",
        "number_of_files = 100 #100 npz files, 50 subjects, each suject has 2 nights, so 2 files per subject (50*2)=100\n",
        "\n",
        "# values to label the stages\n",
        "UNKNOWN = -1\n",
        "W = 0\n",
        "N1 = 1\n",
        "N2 = 2\n",
        "N3 = 3\n",
        "REM = 4\n",
        "\n",
        "# making string dictionary for the label values\n",
        "label_dict = {\n",
        "    \"UNKNOWN\"  : UNKNOWN,\n",
        "    \"W\"        : W,\n",
        "    \"N1\"       : N1,\n",
        "    \"N2\"       : N2,\n",
        "    \"N3\"       : N3,\n",
        "    \"REM\"      : REM\n",
        "}\n",
        "\n",
        "# converting from label values to strings \n",
        "class_dict = {\n",
        "    -1: \"UNKNOWN\",\n",
        "    0 : \"W\",\n",
        "    1 : \"N1\",\n",
        "    2 : \"N2\",\n",
        "    3 : \"N3\",\n",
        "    4 : \"REM\"\n",
        "}\n",
        "\n",
        "# annotation dictionary to convert from string to label values\n",
        "annot2label = {\n",
        "    \"Sleep stage ?\": -1,\n",
        "    \"Movement time\": -1,\n",
        "    \"Sleep stage W\": 0,\n",
        "    \"Sleep stage 1\": 1,\n",
        "    \"Sleep stage 2\": 2,\n",
        "    \"Sleep stage 3\": 3,\n",
        "    \"Sleep stage 4\": 3,\n",
        "    \"Sleep stage R\": 4\n",
        "}\n",
        "#project_path = os.path.abspath(os.getcwd())  # finding the current project path in windows"
      ],
      "metadata": {
        "id": "tf6-foYQQFUF"
      },
      "execution_count": null,
      "outputs": []
    },
    {
      "cell_type": "code",
      "source": [
        "from tensorflow.keras import optimizers, losses, activations, models\n",
        "from tensorflow.keras.models import Model, load_model\n",
        "from tensorflow.keras.layers import GlobalMaxPool1D, GlobalAveragePooling1D, concatenate, SpatialDropout1D, TimeDistributed, Bidirectional, LSTM\n",
        "from tensorflow.keras.layers import Input, Conv1D, Dense, Dropout, MaxPool1D, Activation\n",
        "from tensorflow.keras.layers import Reshape, LSTM, TimeDistributed, Bidirectional, BatchNormalization, Flatten, RepeatVector\n",
        "from tensorflow.keras.optimizers import Adam\n",
        "#from keras_contrib.layers import CRF\n",
        "\n",
        "from scipy.signal import butter, lfilter\n"
      ],
      "metadata": {
        "id": "LVIQYKRqQFZF"
      },
      "execution_count": null,
      "outputs": []
    },
    {
      "cell_type": "code",
      "source": [
        "Fs = 100\n",
        "from keras.utils import np_utils"
      ],
      "metadata": {
        "id": "Kd4xCZ9aQcL5"
      },
      "execution_count": null,
      "outputs": []
    },
    {
      "cell_type": "code",
      "source": [
        "!nvidia-smi  "
      ],
      "metadata": {
        "id": "wIn4t2wFToOT",
        "colab": {
          "base_uri": "https://localhost:8080/"
        },
        "outputId": "9ebe3240-cbab-4573-9d62-b5532a9b7ecb"
      },
      "execution_count": null,
      "outputs": [
        {
          "output_type": "stream",
          "name": "stdout",
          "text": [
            "Tue Jun 28 22:46:20 2022       \n",
            "+-----------------------------------------------------------------------------+\n",
            "| NVIDIA-SMI 460.32.03    Driver Version: 460.32.03    CUDA Version: 11.2     |\n",
            "|-------------------------------+----------------------+----------------------+\n",
            "| GPU  Name        Persistence-M| Bus-Id        Disp.A | Volatile Uncorr. ECC |\n",
            "| Fan  Temp  Perf  Pwr:Usage/Cap|         Memory-Usage | GPU-Util  Compute M. |\n",
            "|                               |                      |               MIG M. |\n",
            "|===============================+======================+======================|\n",
            "|   0  Tesla V100-SXM2...  Off  | 00000000:00:04.0 Off |                    0 |\n",
            "| N/A   34C    P0    24W / 300W |      0MiB / 16160MiB |      0%      Default |\n",
            "|                               |                      |                  N/A |\n",
            "+-------------------------------+----------------------+----------------------+\n",
            "                                                                               \n",
            "+-----------------------------------------------------------------------------+\n",
            "| Processes:                                                                  |\n",
            "|  GPU   GI   CI        PID   Type   Process name                  GPU Memory |\n",
            "|        ID   ID                                                   Usage      |\n",
            "|=============================================================================|\n",
            "|  No running processes found                                                 |\n",
            "+-----------------------------------------------------------------------------+\n"
          ]
        }
      ]
    },
    {
      "cell_type": "code",
      "source": [
        "transfer_set_with_tri_trained_sub_labeled_dt=pd.read_csv('/content/gdrive/My Drive/physionet/ensemble/50_subs/transfer_set_plus_sub_dt_with_tri_trained_labels_keras_way_sub_481.csv',header=None) #the transfer set + subject specific train data , inc semi sup tri-trained labels obtained the keras way (train_on_batch)"
      ],
      "metadata": {
        "id": "y5cw0csyQcNu"
      },
      "execution_count": null,
      "outputs": []
    },
    {
      "cell_type": "code",
      "source": [
        "transfer_set_with_tri_trained_sub_labeled_dt=pd.read_csv('/content/gdrive/My Drive/physionet/ensemble/50_subs/transfer_set_plus_sub_dt_with_tri_trained_labels_keras_way_sub_480_trial_1.csv',header=None) #the transfer set + subject specific train data , inc semi sup tri-trained labels obtained the keras way (train_on_batch)"
      ],
      "metadata": {
        "id": "-wTbOzTYN6MC"
      },
      "execution_count": null,
      "outputs": []
    },
    {
      "cell_type": "code",
      "source": [
        "transfer_set_with_tri_trained_sub_labeled_dt"
      ],
      "metadata": {
        "colab": {
          "base_uri": "https://localhost:8080/",
          "height": 488
        },
        "id": "URKgybX3RH_T",
        "outputId": "c2a151ca-82e0-44a8-dc2c-f29a0e3630ec"
      },
      "execution_count": null,
      "outputs": [
        {
          "output_type": "execute_result",
          "data": {
            "text/plain": [
              "            0         1         2         3         4         5         6     \\\n",
              "0       0.068014  0.082915  0.077628  0.074744  0.060804  0.063688  0.050710   \n",
              "1       0.104729  0.054513 -0.020131 -0.064918 -0.122825 -0.127801 -0.107443   \n",
              "2       0.002281 -0.031309 -0.007672 -0.020527 -0.003110 -0.011404  0.006013   \n",
              "3      -0.025235 -0.037732 -0.033406 -0.031964 -0.034848 -0.041097 -0.031484   \n",
              "4       0.097914 -0.100520 -0.044574 -0.079540 -0.071235 -0.029713 -0.041951   \n",
              "...          ...       ...       ...       ...       ...       ...       ...   \n",
              "118689  0.037046  0.048969  0.056781  0.056370  0.061304  0.062537  0.055959   \n",
              "118690 -0.015745 -0.021556 -0.015261 -0.030756 -0.022040 -0.024461 -0.047703   \n",
              "118691  0.006209  0.014432  0.021010  0.040746  0.014021  0.009909  0.021833   \n",
              "118692 -0.019135 -0.091765 -0.111133 -0.129533 -0.170206 -0.202163 -0.230247   \n",
              "118693 -0.014293  0.013791  0.011854 -0.012356  0.007012  0.009433 -0.028335   \n",
              "\n",
              "            7         8         9     ...      2991      2992      2993  \\\n",
              "0       0.029561  0.010815  0.008412  ... -0.010334 -0.016102 -0.034368   \n",
              "1      -0.086633 -0.051799 -0.033251  ... -0.123729 -0.120563 -0.129158   \n",
              "2      -0.029236 -0.025089 -0.042091  ...  0.088122  0.057850  0.027992   \n",
              "3      -0.025716 -0.019948 -0.030522  ... -0.015141 -0.013699 -0.018025   \n",
              "4       0.000445 -0.031024  0.172217  ...  0.167409  0.220732  0.191011   \n",
              "...          ...       ...       ...  ...       ...       ...       ...   \n",
              "118689  0.034579  0.008676 -0.020928  ... -0.032029 -0.019283 -0.017227   \n",
              "118690 -0.056418 -0.041892 -0.023493  ... -0.057871 -0.026882 -0.010419   \n",
              "118691  0.001275 -0.018050 -0.014349  ...  0.007031  0.028822  0.031289   \n",
              "118692 -0.283025 -0.287382 -0.299003  ... -0.039471 -0.042376 -0.035598   \n",
              "118693 -0.063681 -0.054966 -0.033177  ... -0.052060 -0.055934 -0.001219   \n",
              "\n",
              "            2994      2995      2996      2997      2998      2999  3000  \n",
              "0      -0.055998 -0.074263 -0.071860 -0.077147 -0.084838 -0.090125     4  \n",
              "1      -0.149968 -0.173945 -0.187064 -0.171231 -0.149516 -0.121467     3  \n",
              "2       0.038359  0.040847  0.053703  0.072779  0.055362  0.029651     2  \n",
              "3      -0.020909 -0.021390 -0.002644 -0.020428 -0.025235 -0.024754     2  \n",
              "4       0.119767  0.165661  0.270996  0.200190  0.246520  0.166535     0  \n",
              "...          ...       ...       ...       ...       ...       ...   ...  \n",
              "118689 -0.022161 -0.015172 -0.027095 -0.018461 -0.018050 -0.036963     2  \n",
              "118690  0.020086  0.059790  0.052527  0.047201  0.030738 -0.015261     2  \n",
              "118691  0.004564  0.018955  0.030056  0.007031 -0.028740 -0.013527     0  \n",
              "118692  0.004591 -0.021072 -0.048671 -0.048671 -0.004125 -0.004125     2  \n",
              "118693 -0.004125 -0.038019 -0.047218 -0.027850 -0.050124 -0.021072     0  \n",
              "\n",
              "[118694 rows x 3001 columns]"
            ],
            "text/html": [
              "\n",
              "  <div id=\"df-3d744d62-b6b3-42da-a646-0f7f3f501b5a\">\n",
              "    <div class=\"colab-df-container\">\n",
              "      <div>\n",
              "<style scoped>\n",
              "    .dataframe tbody tr th:only-of-type {\n",
              "        vertical-align: middle;\n",
              "    }\n",
              "\n",
              "    .dataframe tbody tr th {\n",
              "        vertical-align: top;\n",
              "    }\n",
              "\n",
              "    .dataframe thead th {\n",
              "        text-align: right;\n",
              "    }\n",
              "</style>\n",
              "<table border=\"1\" class=\"dataframe\">\n",
              "  <thead>\n",
              "    <tr style=\"text-align: right;\">\n",
              "      <th></th>\n",
              "      <th>0</th>\n",
              "      <th>1</th>\n",
              "      <th>2</th>\n",
              "      <th>3</th>\n",
              "      <th>4</th>\n",
              "      <th>5</th>\n",
              "      <th>6</th>\n",
              "      <th>7</th>\n",
              "      <th>8</th>\n",
              "      <th>9</th>\n",
              "      <th>...</th>\n",
              "      <th>2991</th>\n",
              "      <th>2992</th>\n",
              "      <th>2993</th>\n",
              "      <th>2994</th>\n",
              "      <th>2995</th>\n",
              "      <th>2996</th>\n",
              "      <th>2997</th>\n",
              "      <th>2998</th>\n",
              "      <th>2999</th>\n",
              "      <th>3000</th>\n",
              "    </tr>\n",
              "  </thead>\n",
              "  <tbody>\n",
              "    <tr>\n",
              "      <th>0</th>\n",
              "      <td>0.068014</td>\n",
              "      <td>0.082915</td>\n",
              "      <td>0.077628</td>\n",
              "      <td>0.074744</td>\n",
              "      <td>0.060804</td>\n",
              "      <td>0.063688</td>\n",
              "      <td>0.050710</td>\n",
              "      <td>0.029561</td>\n",
              "      <td>0.010815</td>\n",
              "      <td>0.008412</td>\n",
              "      <td>...</td>\n",
              "      <td>-0.010334</td>\n",
              "      <td>-0.016102</td>\n",
              "      <td>-0.034368</td>\n",
              "      <td>-0.055998</td>\n",
              "      <td>-0.074263</td>\n",
              "      <td>-0.071860</td>\n",
              "      <td>-0.077147</td>\n",
              "      <td>-0.084838</td>\n",
              "      <td>-0.090125</td>\n",
              "      <td>4</td>\n",
              "    </tr>\n",
              "    <tr>\n",
              "      <th>1</th>\n",
              "      <td>0.104729</td>\n",
              "      <td>0.054513</td>\n",
              "      <td>-0.020131</td>\n",
              "      <td>-0.064918</td>\n",
              "      <td>-0.122825</td>\n",
              "      <td>-0.127801</td>\n",
              "      <td>-0.107443</td>\n",
              "      <td>-0.086633</td>\n",
              "      <td>-0.051799</td>\n",
              "      <td>-0.033251</td>\n",
              "      <td>...</td>\n",
              "      <td>-0.123729</td>\n",
              "      <td>-0.120563</td>\n",
              "      <td>-0.129158</td>\n",
              "      <td>-0.149968</td>\n",
              "      <td>-0.173945</td>\n",
              "      <td>-0.187064</td>\n",
              "      <td>-0.171231</td>\n",
              "      <td>-0.149516</td>\n",
              "      <td>-0.121467</td>\n",
              "      <td>3</td>\n",
              "    </tr>\n",
              "    <tr>\n",
              "      <th>2</th>\n",
              "      <td>0.002281</td>\n",
              "      <td>-0.031309</td>\n",
              "      <td>-0.007672</td>\n",
              "      <td>-0.020527</td>\n",
              "      <td>-0.003110</td>\n",
              "      <td>-0.011404</td>\n",
              "      <td>0.006013</td>\n",
              "      <td>-0.029236</td>\n",
              "      <td>-0.025089</td>\n",
              "      <td>-0.042091</td>\n",
              "      <td>...</td>\n",
              "      <td>0.088122</td>\n",
              "      <td>0.057850</td>\n",
              "      <td>0.027992</td>\n",
              "      <td>0.038359</td>\n",
              "      <td>0.040847</td>\n",
              "      <td>0.053703</td>\n",
              "      <td>0.072779</td>\n",
              "      <td>0.055362</td>\n",
              "      <td>0.029651</td>\n",
              "      <td>2</td>\n",
              "    </tr>\n",
              "    <tr>\n",
              "      <th>3</th>\n",
              "      <td>-0.025235</td>\n",
              "      <td>-0.037732</td>\n",
              "      <td>-0.033406</td>\n",
              "      <td>-0.031964</td>\n",
              "      <td>-0.034848</td>\n",
              "      <td>-0.041097</td>\n",
              "      <td>-0.031484</td>\n",
              "      <td>-0.025716</td>\n",
              "      <td>-0.019948</td>\n",
              "      <td>-0.030522</td>\n",
              "      <td>...</td>\n",
              "      <td>-0.015141</td>\n",
              "      <td>-0.013699</td>\n",
              "      <td>-0.018025</td>\n",
              "      <td>-0.020909</td>\n",
              "      <td>-0.021390</td>\n",
              "      <td>-0.002644</td>\n",
              "      <td>-0.020428</td>\n",
              "      <td>-0.025235</td>\n",
              "      <td>-0.024754</td>\n",
              "      <td>2</td>\n",
              "    </tr>\n",
              "    <tr>\n",
              "      <th>4</th>\n",
              "      <td>0.097914</td>\n",
              "      <td>-0.100520</td>\n",
              "      <td>-0.044574</td>\n",
              "      <td>-0.079540</td>\n",
              "      <td>-0.071235</td>\n",
              "      <td>-0.029713</td>\n",
              "      <td>-0.041951</td>\n",
              "      <td>0.000445</td>\n",
              "      <td>-0.031024</td>\n",
              "      <td>0.172217</td>\n",
              "      <td>...</td>\n",
              "      <td>0.167409</td>\n",
              "      <td>0.220732</td>\n",
              "      <td>0.191011</td>\n",
              "      <td>0.119767</td>\n",
              "      <td>0.165661</td>\n",
              "      <td>0.270996</td>\n",
              "      <td>0.200190</td>\n",
              "      <td>0.246520</td>\n",
              "      <td>0.166535</td>\n",
              "      <td>0</td>\n",
              "    </tr>\n",
              "    <tr>\n",
              "      <th>...</th>\n",
              "      <td>...</td>\n",
              "      <td>...</td>\n",
              "      <td>...</td>\n",
              "      <td>...</td>\n",
              "      <td>...</td>\n",
              "      <td>...</td>\n",
              "      <td>...</td>\n",
              "      <td>...</td>\n",
              "      <td>...</td>\n",
              "      <td>...</td>\n",
              "      <td>...</td>\n",
              "      <td>...</td>\n",
              "      <td>...</td>\n",
              "      <td>...</td>\n",
              "      <td>...</td>\n",
              "      <td>...</td>\n",
              "      <td>...</td>\n",
              "      <td>...</td>\n",
              "      <td>...</td>\n",
              "      <td>...</td>\n",
              "      <td>...</td>\n",
              "    </tr>\n",
              "    <tr>\n",
              "      <th>118689</th>\n",
              "      <td>0.037046</td>\n",
              "      <td>0.048969</td>\n",
              "      <td>0.056781</td>\n",
              "      <td>0.056370</td>\n",
              "      <td>0.061304</td>\n",
              "      <td>0.062537</td>\n",
              "      <td>0.055959</td>\n",
              "      <td>0.034579</td>\n",
              "      <td>0.008676</td>\n",
              "      <td>-0.020928</td>\n",
              "      <td>...</td>\n",
              "      <td>-0.032029</td>\n",
              "      <td>-0.019283</td>\n",
              "      <td>-0.017227</td>\n",
              "      <td>-0.022161</td>\n",
              "      <td>-0.015172</td>\n",
              "      <td>-0.027095</td>\n",
              "      <td>-0.018461</td>\n",
              "      <td>-0.018050</td>\n",
              "      <td>-0.036963</td>\n",
              "      <td>2</td>\n",
              "    </tr>\n",
              "    <tr>\n",
              "      <th>118690</th>\n",
              "      <td>-0.015745</td>\n",
              "      <td>-0.021556</td>\n",
              "      <td>-0.015261</td>\n",
              "      <td>-0.030756</td>\n",
              "      <td>-0.022040</td>\n",
              "      <td>-0.024461</td>\n",
              "      <td>-0.047703</td>\n",
              "      <td>-0.056418</td>\n",
              "      <td>-0.041892</td>\n",
              "      <td>-0.023493</td>\n",
              "      <td>...</td>\n",
              "      <td>-0.057871</td>\n",
              "      <td>-0.026882</td>\n",
              "      <td>-0.010419</td>\n",
              "      <td>0.020086</td>\n",
              "      <td>0.059790</td>\n",
              "      <td>0.052527</td>\n",
              "      <td>0.047201</td>\n",
              "      <td>0.030738</td>\n",
              "      <td>-0.015261</td>\n",
              "      <td>2</td>\n",
              "    </tr>\n",
              "    <tr>\n",
              "      <th>118691</th>\n",
              "      <td>0.006209</td>\n",
              "      <td>0.014432</td>\n",
              "      <td>0.021010</td>\n",
              "      <td>0.040746</td>\n",
              "      <td>0.014021</td>\n",
              "      <td>0.009909</td>\n",
              "      <td>0.021833</td>\n",
              "      <td>0.001275</td>\n",
              "      <td>-0.018050</td>\n",
              "      <td>-0.014349</td>\n",
              "      <td>...</td>\n",
              "      <td>0.007031</td>\n",
              "      <td>0.028822</td>\n",
              "      <td>0.031289</td>\n",
              "      <td>0.004564</td>\n",
              "      <td>0.018955</td>\n",
              "      <td>0.030056</td>\n",
              "      <td>0.007031</td>\n",
              "      <td>-0.028740</td>\n",
              "      <td>-0.013527</td>\n",
              "      <td>0</td>\n",
              "    </tr>\n",
              "    <tr>\n",
              "      <th>118692</th>\n",
              "      <td>-0.019135</td>\n",
              "      <td>-0.091765</td>\n",
              "      <td>-0.111133</td>\n",
              "      <td>-0.129533</td>\n",
              "      <td>-0.170206</td>\n",
              "      <td>-0.202163</td>\n",
              "      <td>-0.230247</td>\n",
              "      <td>-0.283025</td>\n",
              "      <td>-0.287382</td>\n",
              "      <td>-0.299003</td>\n",
              "      <td>...</td>\n",
              "      <td>-0.039471</td>\n",
              "      <td>-0.042376</td>\n",
              "      <td>-0.035598</td>\n",
              "      <td>0.004591</td>\n",
              "      <td>-0.021072</td>\n",
              "      <td>-0.048671</td>\n",
              "      <td>-0.048671</td>\n",
              "      <td>-0.004125</td>\n",
              "      <td>-0.004125</td>\n",
              "      <td>2</td>\n",
              "    </tr>\n",
              "    <tr>\n",
              "      <th>118693</th>\n",
              "      <td>-0.014293</td>\n",
              "      <td>0.013791</td>\n",
              "      <td>0.011854</td>\n",
              "      <td>-0.012356</td>\n",
              "      <td>0.007012</td>\n",
              "      <td>0.009433</td>\n",
              "      <td>-0.028335</td>\n",
              "      <td>-0.063681</td>\n",
              "      <td>-0.054966</td>\n",
              "      <td>-0.033177</td>\n",
              "      <td>...</td>\n",
              "      <td>-0.052060</td>\n",
              "      <td>-0.055934</td>\n",
              "      <td>-0.001219</td>\n",
              "      <td>-0.004125</td>\n",
              "      <td>-0.038019</td>\n",
              "      <td>-0.047218</td>\n",
              "      <td>-0.027850</td>\n",
              "      <td>-0.050124</td>\n",
              "      <td>-0.021072</td>\n",
              "      <td>0</td>\n",
              "    </tr>\n",
              "  </tbody>\n",
              "</table>\n",
              "<p>118694 rows × 3001 columns</p>\n",
              "</div>\n",
              "      <button class=\"colab-df-convert\" onclick=\"convertToInteractive('df-3d744d62-b6b3-42da-a646-0f7f3f501b5a')\"\n",
              "              title=\"Convert this dataframe to an interactive table.\"\n",
              "              style=\"display:none;\">\n",
              "        \n",
              "  <svg xmlns=\"http://www.w3.org/2000/svg\" height=\"24px\"viewBox=\"0 0 24 24\"\n",
              "       width=\"24px\">\n",
              "    <path d=\"M0 0h24v24H0V0z\" fill=\"none\"/>\n",
              "    <path d=\"M18.56 5.44l.94 2.06.94-2.06 2.06-.94-2.06-.94-.94-2.06-.94 2.06-2.06.94zm-11 1L8.5 8.5l.94-2.06 2.06-.94-2.06-.94L8.5 2.5l-.94 2.06-2.06.94zm10 10l.94 2.06.94-2.06 2.06-.94-2.06-.94-.94-2.06-.94 2.06-2.06.94z\"/><path d=\"M17.41 7.96l-1.37-1.37c-.4-.4-.92-.59-1.43-.59-.52 0-1.04.2-1.43.59L10.3 9.45l-7.72 7.72c-.78.78-.78 2.05 0 2.83L4 21.41c.39.39.9.59 1.41.59.51 0 1.02-.2 1.41-.59l7.78-7.78 2.81-2.81c.8-.78.8-2.07 0-2.86zM5.41 20L4 18.59l7.72-7.72 1.47 1.35L5.41 20z\"/>\n",
              "  </svg>\n",
              "      </button>\n",
              "      \n",
              "  <style>\n",
              "    .colab-df-container {\n",
              "      display:flex;\n",
              "      flex-wrap:wrap;\n",
              "      gap: 12px;\n",
              "    }\n",
              "\n",
              "    .colab-df-convert {\n",
              "      background-color: #E8F0FE;\n",
              "      border: none;\n",
              "      border-radius: 50%;\n",
              "      cursor: pointer;\n",
              "      display: none;\n",
              "      fill: #1967D2;\n",
              "      height: 32px;\n",
              "      padding: 0 0 0 0;\n",
              "      width: 32px;\n",
              "    }\n",
              "\n",
              "    .colab-df-convert:hover {\n",
              "      background-color: #E2EBFA;\n",
              "      box-shadow: 0px 1px 2px rgba(60, 64, 67, 0.3), 0px 1px 3px 1px rgba(60, 64, 67, 0.15);\n",
              "      fill: #174EA6;\n",
              "    }\n",
              "\n",
              "    [theme=dark] .colab-df-convert {\n",
              "      background-color: #3B4455;\n",
              "      fill: #D2E3FC;\n",
              "    }\n",
              "\n",
              "    [theme=dark] .colab-df-convert:hover {\n",
              "      background-color: #434B5C;\n",
              "      box-shadow: 0px 1px 3px 1px rgba(0, 0, 0, 0.15);\n",
              "      filter: drop-shadow(0px 1px 2px rgba(0, 0, 0, 0.3));\n",
              "      fill: #FFFFFF;\n",
              "    }\n",
              "  </style>\n",
              "\n",
              "      <script>\n",
              "        const buttonEl =\n",
              "          document.querySelector('#df-3d744d62-b6b3-42da-a646-0f7f3f501b5a button.colab-df-convert');\n",
              "        buttonEl.style.display =\n",
              "          google.colab.kernel.accessAllowed ? 'block' : 'none';\n",
              "\n",
              "        async function convertToInteractive(key) {\n",
              "          const element = document.querySelector('#df-3d744d62-b6b3-42da-a646-0f7f3f501b5a');\n",
              "          const dataTable =\n",
              "            await google.colab.kernel.invokeFunction('convertToInteractive',\n",
              "                                                     [key], {});\n",
              "          if (!dataTable) return;\n",
              "\n",
              "          const docLinkHtml = 'Like what you see? Visit the ' +\n",
              "            '<a target=\"_blank\" href=https://colab.research.google.com/notebooks/data_table.ipynb>data table notebook</a>'\n",
              "            + ' to learn more about interactive tables.';\n",
              "          element.innerHTML = '';\n",
              "          dataTable['output_type'] = 'display_data';\n",
              "          await google.colab.output.renderOutput(dataTable, element);\n",
              "          const docLink = document.createElement('div');\n",
              "          docLink.innerHTML = docLinkHtml;\n",
              "          element.appendChild(docLink);\n",
              "        }\n",
              "      </script>\n",
              "    </div>\n",
              "  </div>\n",
              "  "
            ]
          },
          "metadata": {},
          "execution_count": 12
        }
      ]
    },
    {
      "cell_type": "code",
      "source": [
        "pip install -q -U keras-tuner"
      ],
      "metadata": {
        "colab": {
          "base_uri": "https://localhost:8080/"
        },
        "id": "aORZsLjVQcQW",
        "outputId": "f6f50a95-1fad-4186-e290-f5936156aeca"
      },
      "execution_count": null,
      "outputs": [
        {
          "output_type": "stream",
          "name": "stdout",
          "text": [
            "\u001b[?25l\r\u001b[K     |██▌                             | 10 kB 29.0 MB/s eta 0:00:01\r\u001b[K     |█████                           | 20 kB 34.7 MB/s eta 0:00:01\r\u001b[K     |███████▍                        | 30 kB 40.4 MB/s eta 0:00:01\r\u001b[K     |█████████▉                      | 40 kB 26.4 MB/s eta 0:00:01\r\u001b[K     |████████████▎                   | 51 kB 14.6 MB/s eta 0:00:01\r\u001b[K     |██████████████▊                 | 61 kB 16.9 MB/s eta 0:00:01\r\u001b[K     |█████████████████▏              | 71 kB 12.8 MB/s eta 0:00:01\r\u001b[K     |███████████████████▋            | 81 kB 14.2 MB/s eta 0:00:01\r\u001b[K     |██████████████████████          | 92 kB 15.3 MB/s eta 0:00:01\r\u001b[K     |████████████████████████▌       | 102 kB 13.5 MB/s eta 0:00:01\r\u001b[K     |███████████████████████████     | 112 kB 13.5 MB/s eta 0:00:01\r\u001b[K     |█████████████████████████████▍  | 122 kB 13.5 MB/s eta 0:00:01\r\u001b[K     |███████████████████████████████▉| 133 kB 13.5 MB/s eta 0:00:01\r\u001b[K     |████████████████████████████████| 133 kB 13.5 MB/s \n",
            "\u001b[?25h"
          ]
        }
      ]
    },
    {
      "cell_type": "code",
      "source": [
        "x_dt=transfer_set_with_tri_trained_sub_labeled_dt.drop([3000],axis=1)\n",
        "y_dt=transfer_set_with_tri_trained_sub_labeled_dt[3000]"
      ],
      "metadata": {
        "id": "HAqMkbOUQcR5"
      },
      "execution_count": null,
      "outputs": []
    },
    {
      "cell_type": "code",
      "source": [
        "y_dt_=np_utils.to_categorical(y_dt)"
      ],
      "metadata": {
        "id": "24HuXo3SQcVf"
      },
      "execution_count": null,
      "outputs": []
    },
    {
      "cell_type": "code",
      "source": [
        "y_dt_"
      ],
      "metadata": {
        "colab": {
          "base_uri": "https://localhost:8080/"
        },
        "id": "EInfGISPVZkk",
        "outputId": "2ef72e36-e909-4b4d-daf4-32a8d822cb35"
      },
      "execution_count": null,
      "outputs": [
        {
          "output_type": "execute_result",
          "data": {
            "text/plain": [
              "array([[0., 0., 0., 0., 1.],\n",
              "       [0., 0., 0., 1., 0.],\n",
              "       [0., 0., 1., 0., 0.],\n",
              "       ...,\n",
              "       [1., 0., 0., 0., 0.],\n",
              "       [0., 0., 1., 0., 0.],\n",
              "       [1., 0., 0., 0., 0.]], dtype=float32)"
            ]
          },
          "metadata": {},
          "execution_count": 16
        }
      ]
    },
    {
      "cell_type": "code",
      "source": [
        "x_dt.shape"
      ],
      "metadata": {
        "colab": {
          "base_uri": "https://localhost:8080/"
        },
        "id": "-MFbvxnbRw_K",
        "outputId": "5945f331-09c1-49be-ebbf-bb5addadfa2f"
      },
      "execution_count": null,
      "outputs": [
        {
          "output_type": "execute_result",
          "data": {
            "text/plain": [
              "(118694, 3000)"
            ]
          },
          "metadata": {},
          "execution_count": 17
        }
      ]
    },
    {
      "cell_type": "code",
      "source": [
        "x_dt"
      ],
      "metadata": {
        "colab": {
          "base_uri": "https://localhost:8080/",
          "height": 488
        },
        "id": "_pscT85Y9Wu6",
        "outputId": "cdb71f87-76ca-4240-c6b6-ea48c851c5a4"
      },
      "execution_count": null,
      "outputs": [
        {
          "output_type": "execute_result",
          "data": {
            "text/plain": [
              "            0         1         2         3         4         5         6     \\\n",
              "0       0.068014  0.082915  0.077628  0.074744  0.060804  0.063688  0.050710   \n",
              "1       0.104729  0.054513 -0.020131 -0.064918 -0.122825 -0.127801 -0.107443   \n",
              "2       0.002281 -0.031309 -0.007672 -0.020527 -0.003110 -0.011404  0.006013   \n",
              "3      -0.025235 -0.037732 -0.033406 -0.031964 -0.034848 -0.041097 -0.031484   \n",
              "4       0.097914 -0.100520 -0.044574 -0.079540 -0.071235 -0.029713 -0.041951   \n",
              "...          ...       ...       ...       ...       ...       ...       ...   \n",
              "118689  0.037046  0.048969  0.056781  0.056370  0.061304  0.062537  0.055959   \n",
              "118690 -0.015745 -0.021556 -0.015261 -0.030756 -0.022040 -0.024461 -0.047703   \n",
              "118691  0.006209  0.014432  0.021010  0.040746  0.014021  0.009909  0.021833   \n",
              "118692 -0.019135 -0.091765 -0.111133 -0.129533 -0.170206 -0.202163 -0.230247   \n",
              "118693 -0.014293  0.013791  0.011854 -0.012356  0.007012  0.009433 -0.028335   \n",
              "\n",
              "            7         8         9     ...      2990      2991      2992  \\\n",
              "0       0.029561  0.010815  0.008412  ... -0.007450 -0.010334 -0.016102   \n",
              "1      -0.086633 -0.051799 -0.033251  ... -0.102467 -0.123729 -0.120563   \n",
              "2      -0.029236 -0.025089 -0.042091  ...  0.054532  0.088122  0.057850   \n",
              "3      -0.025716 -0.019948 -0.030522  ... -0.012738 -0.015141 -0.013699   \n",
              "4       0.000445 -0.031024  0.172217  ...  0.264003  0.167409  0.220732   \n",
              "...          ...       ...       ...  ...       ...       ...       ...   \n",
              "118689  0.034579  0.008676 -0.020928  ... -0.032440 -0.032029 -0.019283   \n",
              "118690 -0.056418 -0.041892 -0.023493  ... -0.050608 -0.057871 -0.026882   \n",
              "118691  0.001275 -0.018050 -0.014349  ... -0.007360  0.007031  0.028822   \n",
              "118692 -0.283025 -0.287382 -0.299003  ... -0.021556 -0.039471 -0.042376   \n",
              "118693 -0.063681 -0.054966 -0.033177  ... -0.018651 -0.052060 -0.055934   \n",
              "\n",
              "            2993      2994      2995      2996      2997      2998      2999  \n",
              "0      -0.034368 -0.055998 -0.074263 -0.071860 -0.077147 -0.084838 -0.090125  \n",
              "1      -0.129158 -0.149968 -0.173945 -0.187064 -0.171231 -0.149516 -0.121467  \n",
              "2       0.027992  0.038359  0.040847  0.053703  0.072779  0.055362  0.029651  \n",
              "3      -0.018025 -0.020909 -0.021390 -0.002644 -0.020428 -0.025235 -0.024754  \n",
              "4       0.191011  0.119767  0.165661  0.270996  0.200190  0.246520  0.166535  \n",
              "...          ...       ...       ...       ...       ...       ...       ...  \n",
              "118689 -0.017227 -0.022161 -0.015172 -0.027095 -0.018461 -0.018050 -0.036963  \n",
              "118690 -0.010419  0.020086  0.059790  0.052527  0.047201  0.030738 -0.015261  \n",
              "118691  0.031289  0.004564  0.018955  0.030056  0.007031 -0.028740 -0.013527  \n",
              "118692 -0.035598  0.004591 -0.021072 -0.048671 -0.048671 -0.004125 -0.004125  \n",
              "118693 -0.001219 -0.004125 -0.038019 -0.047218 -0.027850 -0.050124 -0.021072  \n",
              "\n",
              "[118694 rows x 3000 columns]"
            ],
            "text/html": [
              "\n",
              "  <div id=\"df-7afe130c-5d36-414c-9f22-cac2871491b6\">\n",
              "    <div class=\"colab-df-container\">\n",
              "      <div>\n",
              "<style scoped>\n",
              "    .dataframe tbody tr th:only-of-type {\n",
              "        vertical-align: middle;\n",
              "    }\n",
              "\n",
              "    .dataframe tbody tr th {\n",
              "        vertical-align: top;\n",
              "    }\n",
              "\n",
              "    .dataframe thead th {\n",
              "        text-align: right;\n",
              "    }\n",
              "</style>\n",
              "<table border=\"1\" class=\"dataframe\">\n",
              "  <thead>\n",
              "    <tr style=\"text-align: right;\">\n",
              "      <th></th>\n",
              "      <th>0</th>\n",
              "      <th>1</th>\n",
              "      <th>2</th>\n",
              "      <th>3</th>\n",
              "      <th>4</th>\n",
              "      <th>5</th>\n",
              "      <th>6</th>\n",
              "      <th>7</th>\n",
              "      <th>8</th>\n",
              "      <th>9</th>\n",
              "      <th>...</th>\n",
              "      <th>2990</th>\n",
              "      <th>2991</th>\n",
              "      <th>2992</th>\n",
              "      <th>2993</th>\n",
              "      <th>2994</th>\n",
              "      <th>2995</th>\n",
              "      <th>2996</th>\n",
              "      <th>2997</th>\n",
              "      <th>2998</th>\n",
              "      <th>2999</th>\n",
              "    </tr>\n",
              "  </thead>\n",
              "  <tbody>\n",
              "    <tr>\n",
              "      <th>0</th>\n",
              "      <td>0.068014</td>\n",
              "      <td>0.082915</td>\n",
              "      <td>0.077628</td>\n",
              "      <td>0.074744</td>\n",
              "      <td>0.060804</td>\n",
              "      <td>0.063688</td>\n",
              "      <td>0.050710</td>\n",
              "      <td>0.029561</td>\n",
              "      <td>0.010815</td>\n",
              "      <td>0.008412</td>\n",
              "      <td>...</td>\n",
              "      <td>-0.007450</td>\n",
              "      <td>-0.010334</td>\n",
              "      <td>-0.016102</td>\n",
              "      <td>-0.034368</td>\n",
              "      <td>-0.055998</td>\n",
              "      <td>-0.074263</td>\n",
              "      <td>-0.071860</td>\n",
              "      <td>-0.077147</td>\n",
              "      <td>-0.084838</td>\n",
              "      <td>-0.090125</td>\n",
              "    </tr>\n",
              "    <tr>\n",
              "      <th>1</th>\n",
              "      <td>0.104729</td>\n",
              "      <td>0.054513</td>\n",
              "      <td>-0.020131</td>\n",
              "      <td>-0.064918</td>\n",
              "      <td>-0.122825</td>\n",
              "      <td>-0.127801</td>\n",
              "      <td>-0.107443</td>\n",
              "      <td>-0.086633</td>\n",
              "      <td>-0.051799</td>\n",
              "      <td>-0.033251</td>\n",
              "      <td>...</td>\n",
              "      <td>-0.102467</td>\n",
              "      <td>-0.123729</td>\n",
              "      <td>-0.120563</td>\n",
              "      <td>-0.129158</td>\n",
              "      <td>-0.149968</td>\n",
              "      <td>-0.173945</td>\n",
              "      <td>-0.187064</td>\n",
              "      <td>-0.171231</td>\n",
              "      <td>-0.149516</td>\n",
              "      <td>-0.121467</td>\n",
              "    </tr>\n",
              "    <tr>\n",
              "      <th>2</th>\n",
              "      <td>0.002281</td>\n",
              "      <td>-0.031309</td>\n",
              "      <td>-0.007672</td>\n",
              "      <td>-0.020527</td>\n",
              "      <td>-0.003110</td>\n",
              "      <td>-0.011404</td>\n",
              "      <td>0.006013</td>\n",
              "      <td>-0.029236</td>\n",
              "      <td>-0.025089</td>\n",
              "      <td>-0.042091</td>\n",
              "      <td>...</td>\n",
              "      <td>0.054532</td>\n",
              "      <td>0.088122</td>\n",
              "      <td>0.057850</td>\n",
              "      <td>0.027992</td>\n",
              "      <td>0.038359</td>\n",
              "      <td>0.040847</td>\n",
              "      <td>0.053703</td>\n",
              "      <td>0.072779</td>\n",
              "      <td>0.055362</td>\n",
              "      <td>0.029651</td>\n",
              "    </tr>\n",
              "    <tr>\n",
              "      <th>3</th>\n",
              "      <td>-0.025235</td>\n",
              "      <td>-0.037732</td>\n",
              "      <td>-0.033406</td>\n",
              "      <td>-0.031964</td>\n",
              "      <td>-0.034848</td>\n",
              "      <td>-0.041097</td>\n",
              "      <td>-0.031484</td>\n",
              "      <td>-0.025716</td>\n",
              "      <td>-0.019948</td>\n",
              "      <td>-0.030522</td>\n",
              "      <td>...</td>\n",
              "      <td>-0.012738</td>\n",
              "      <td>-0.015141</td>\n",
              "      <td>-0.013699</td>\n",
              "      <td>-0.018025</td>\n",
              "      <td>-0.020909</td>\n",
              "      <td>-0.021390</td>\n",
              "      <td>-0.002644</td>\n",
              "      <td>-0.020428</td>\n",
              "      <td>-0.025235</td>\n",
              "      <td>-0.024754</td>\n",
              "    </tr>\n",
              "    <tr>\n",
              "      <th>4</th>\n",
              "      <td>0.097914</td>\n",
              "      <td>-0.100520</td>\n",
              "      <td>-0.044574</td>\n",
              "      <td>-0.079540</td>\n",
              "      <td>-0.071235</td>\n",
              "      <td>-0.029713</td>\n",
              "      <td>-0.041951</td>\n",
              "      <td>0.000445</td>\n",
              "      <td>-0.031024</td>\n",
              "      <td>0.172217</td>\n",
              "      <td>...</td>\n",
              "      <td>0.264003</td>\n",
              "      <td>0.167409</td>\n",
              "      <td>0.220732</td>\n",
              "      <td>0.191011</td>\n",
              "      <td>0.119767</td>\n",
              "      <td>0.165661</td>\n",
              "      <td>0.270996</td>\n",
              "      <td>0.200190</td>\n",
              "      <td>0.246520</td>\n",
              "      <td>0.166535</td>\n",
              "    </tr>\n",
              "    <tr>\n",
              "      <th>...</th>\n",
              "      <td>...</td>\n",
              "      <td>...</td>\n",
              "      <td>...</td>\n",
              "      <td>...</td>\n",
              "      <td>...</td>\n",
              "      <td>...</td>\n",
              "      <td>...</td>\n",
              "      <td>...</td>\n",
              "      <td>...</td>\n",
              "      <td>...</td>\n",
              "      <td>...</td>\n",
              "      <td>...</td>\n",
              "      <td>...</td>\n",
              "      <td>...</td>\n",
              "      <td>...</td>\n",
              "      <td>...</td>\n",
              "      <td>...</td>\n",
              "      <td>...</td>\n",
              "      <td>...</td>\n",
              "      <td>...</td>\n",
              "      <td>...</td>\n",
              "    </tr>\n",
              "    <tr>\n",
              "      <th>118689</th>\n",
              "      <td>0.037046</td>\n",
              "      <td>0.048969</td>\n",
              "      <td>0.056781</td>\n",
              "      <td>0.056370</td>\n",
              "      <td>0.061304</td>\n",
              "      <td>0.062537</td>\n",
              "      <td>0.055959</td>\n",
              "      <td>0.034579</td>\n",
              "      <td>0.008676</td>\n",
              "      <td>-0.020928</td>\n",
              "      <td>...</td>\n",
              "      <td>-0.032440</td>\n",
              "      <td>-0.032029</td>\n",
              "      <td>-0.019283</td>\n",
              "      <td>-0.017227</td>\n",
              "      <td>-0.022161</td>\n",
              "      <td>-0.015172</td>\n",
              "      <td>-0.027095</td>\n",
              "      <td>-0.018461</td>\n",
              "      <td>-0.018050</td>\n",
              "      <td>-0.036963</td>\n",
              "    </tr>\n",
              "    <tr>\n",
              "      <th>118690</th>\n",
              "      <td>-0.015745</td>\n",
              "      <td>-0.021556</td>\n",
              "      <td>-0.015261</td>\n",
              "      <td>-0.030756</td>\n",
              "      <td>-0.022040</td>\n",
              "      <td>-0.024461</td>\n",
              "      <td>-0.047703</td>\n",
              "      <td>-0.056418</td>\n",
              "      <td>-0.041892</td>\n",
              "      <td>-0.023493</td>\n",
              "      <td>...</td>\n",
              "      <td>-0.050608</td>\n",
              "      <td>-0.057871</td>\n",
              "      <td>-0.026882</td>\n",
              "      <td>-0.010419</td>\n",
              "      <td>0.020086</td>\n",
              "      <td>0.059790</td>\n",
              "      <td>0.052527</td>\n",
              "      <td>0.047201</td>\n",
              "      <td>0.030738</td>\n",
              "      <td>-0.015261</td>\n",
              "    </tr>\n",
              "    <tr>\n",
              "      <th>118691</th>\n",
              "      <td>0.006209</td>\n",
              "      <td>0.014432</td>\n",
              "      <td>0.021010</td>\n",
              "      <td>0.040746</td>\n",
              "      <td>0.014021</td>\n",
              "      <td>0.009909</td>\n",
              "      <td>0.021833</td>\n",
              "      <td>0.001275</td>\n",
              "      <td>-0.018050</td>\n",
              "      <td>-0.014349</td>\n",
              "      <td>...</td>\n",
              "      <td>-0.007360</td>\n",
              "      <td>0.007031</td>\n",
              "      <td>0.028822</td>\n",
              "      <td>0.031289</td>\n",
              "      <td>0.004564</td>\n",
              "      <td>0.018955</td>\n",
              "      <td>0.030056</td>\n",
              "      <td>0.007031</td>\n",
              "      <td>-0.028740</td>\n",
              "      <td>-0.013527</td>\n",
              "    </tr>\n",
              "    <tr>\n",
              "      <th>118692</th>\n",
              "      <td>-0.019135</td>\n",
              "      <td>-0.091765</td>\n",
              "      <td>-0.111133</td>\n",
              "      <td>-0.129533</td>\n",
              "      <td>-0.170206</td>\n",
              "      <td>-0.202163</td>\n",
              "      <td>-0.230247</td>\n",
              "      <td>-0.283025</td>\n",
              "      <td>-0.287382</td>\n",
              "      <td>-0.299003</td>\n",
              "      <td>...</td>\n",
              "      <td>-0.021556</td>\n",
              "      <td>-0.039471</td>\n",
              "      <td>-0.042376</td>\n",
              "      <td>-0.035598</td>\n",
              "      <td>0.004591</td>\n",
              "      <td>-0.021072</td>\n",
              "      <td>-0.048671</td>\n",
              "      <td>-0.048671</td>\n",
              "      <td>-0.004125</td>\n",
              "      <td>-0.004125</td>\n",
              "    </tr>\n",
              "    <tr>\n",
              "      <th>118693</th>\n",
              "      <td>-0.014293</td>\n",
              "      <td>0.013791</td>\n",
              "      <td>0.011854</td>\n",
              "      <td>-0.012356</td>\n",
              "      <td>0.007012</td>\n",
              "      <td>0.009433</td>\n",
              "      <td>-0.028335</td>\n",
              "      <td>-0.063681</td>\n",
              "      <td>-0.054966</td>\n",
              "      <td>-0.033177</td>\n",
              "      <td>...</td>\n",
              "      <td>-0.018651</td>\n",
              "      <td>-0.052060</td>\n",
              "      <td>-0.055934</td>\n",
              "      <td>-0.001219</td>\n",
              "      <td>-0.004125</td>\n",
              "      <td>-0.038019</td>\n",
              "      <td>-0.047218</td>\n",
              "      <td>-0.027850</td>\n",
              "      <td>-0.050124</td>\n",
              "      <td>-0.021072</td>\n",
              "    </tr>\n",
              "  </tbody>\n",
              "</table>\n",
              "<p>118694 rows × 3000 columns</p>\n",
              "</div>\n",
              "      <button class=\"colab-df-convert\" onclick=\"convertToInteractive('df-7afe130c-5d36-414c-9f22-cac2871491b6')\"\n",
              "              title=\"Convert this dataframe to an interactive table.\"\n",
              "              style=\"display:none;\">\n",
              "        \n",
              "  <svg xmlns=\"http://www.w3.org/2000/svg\" height=\"24px\"viewBox=\"0 0 24 24\"\n",
              "       width=\"24px\">\n",
              "    <path d=\"M0 0h24v24H0V0z\" fill=\"none\"/>\n",
              "    <path d=\"M18.56 5.44l.94 2.06.94-2.06 2.06-.94-2.06-.94-.94-2.06-.94 2.06-2.06.94zm-11 1L8.5 8.5l.94-2.06 2.06-.94-2.06-.94L8.5 2.5l-.94 2.06-2.06.94zm10 10l.94 2.06.94-2.06 2.06-.94-2.06-.94-.94-2.06-.94 2.06-2.06.94z\"/><path d=\"M17.41 7.96l-1.37-1.37c-.4-.4-.92-.59-1.43-.59-.52 0-1.04.2-1.43.59L10.3 9.45l-7.72 7.72c-.78.78-.78 2.05 0 2.83L4 21.41c.39.39.9.59 1.41.59.51 0 1.02-.2 1.41-.59l7.78-7.78 2.81-2.81c.8-.78.8-2.07 0-2.86zM5.41 20L4 18.59l7.72-7.72 1.47 1.35L5.41 20z\"/>\n",
              "  </svg>\n",
              "      </button>\n",
              "      \n",
              "  <style>\n",
              "    .colab-df-container {\n",
              "      display:flex;\n",
              "      flex-wrap:wrap;\n",
              "      gap: 12px;\n",
              "    }\n",
              "\n",
              "    .colab-df-convert {\n",
              "      background-color: #E8F0FE;\n",
              "      border: none;\n",
              "      border-radius: 50%;\n",
              "      cursor: pointer;\n",
              "      display: none;\n",
              "      fill: #1967D2;\n",
              "      height: 32px;\n",
              "      padding: 0 0 0 0;\n",
              "      width: 32px;\n",
              "    }\n",
              "\n",
              "    .colab-df-convert:hover {\n",
              "      background-color: #E2EBFA;\n",
              "      box-shadow: 0px 1px 2px rgba(60, 64, 67, 0.3), 0px 1px 3px 1px rgba(60, 64, 67, 0.15);\n",
              "      fill: #174EA6;\n",
              "    }\n",
              "\n",
              "    [theme=dark] .colab-df-convert {\n",
              "      background-color: #3B4455;\n",
              "      fill: #D2E3FC;\n",
              "    }\n",
              "\n",
              "    [theme=dark] .colab-df-convert:hover {\n",
              "      background-color: #434B5C;\n",
              "      box-shadow: 0px 1px 3px 1px rgba(0, 0, 0, 0.15);\n",
              "      filter: drop-shadow(0px 1px 2px rgba(0, 0, 0, 0.3));\n",
              "      fill: #FFFFFF;\n",
              "    }\n",
              "  </style>\n",
              "\n",
              "      <script>\n",
              "        const buttonEl =\n",
              "          document.querySelector('#df-7afe130c-5d36-414c-9f22-cac2871491b6 button.colab-df-convert');\n",
              "        buttonEl.style.display =\n",
              "          google.colab.kernel.accessAllowed ? 'block' : 'none';\n",
              "\n",
              "        async function convertToInteractive(key) {\n",
              "          const element = document.querySelector('#df-7afe130c-5d36-414c-9f22-cac2871491b6');\n",
              "          const dataTable =\n",
              "            await google.colab.kernel.invokeFunction('convertToInteractive',\n",
              "                                                     [key], {});\n",
              "          if (!dataTable) return;\n",
              "\n",
              "          const docLinkHtml = 'Like what you see? Visit the ' +\n",
              "            '<a target=\"_blank\" href=https://colab.research.google.com/notebooks/data_table.ipynb>data table notebook</a>'\n",
              "            + ' to learn more about interactive tables.';\n",
              "          element.innerHTML = '';\n",
              "          dataTable['output_type'] = 'display_data';\n",
              "          await google.colab.output.renderOutput(dataTable, element);\n",
              "          const docLink = document.createElement('div');\n",
              "          docLink.innerHTML = docLinkHtml;\n",
              "          element.appendChild(docLink);\n",
              "        }\n",
              "      </script>\n",
              "    </div>\n",
              "  </div>\n",
              "  "
            ]
          },
          "metadata": {},
          "execution_count": 18
        }
      ]
    },
    {
      "cell_type": "code",
      "source": [
        "x_dt_rshp=np.array(x_dt).reshape(118694,3000,1)"
      ],
      "metadata": {
        "id": "ZoKoYtGwRrAo"
      },
      "execution_count": null,
      "outputs": []
    },
    {
      "cell_type": "code",
      "source": [
        "x_dt_rshp"
      ],
      "metadata": {
        "colab": {
          "base_uri": "https://localhost:8080/"
        },
        "id": "04kJP5r49Zdu",
        "outputId": "ed4a2654-3eb8-456b-c273-3f0915ffc3f3"
      },
      "execution_count": null,
      "outputs": [
        {
          "output_type": "execute_result",
          "data": {
            "text/plain": [
              "array([[[ 0.0680144 ],\n",
              "        [ 0.08291509],\n",
              "        [ 0.07762775],\n",
              "        ...,\n",
              "        [-0.07714708],\n",
              "        [-0.08483776],\n",
              "        [-0.09012509]],\n",
              "\n",
              "       [[ 0.1047289 ],\n",
              "        [ 0.05451331],\n",
              "        [-0.02013147],\n",
              "        ...,\n",
              "        [-0.17123062],\n",
              "        [-0.14951577],\n",
              "        [-0.12146743]],\n",
              "\n",
              "       [[ 0.00228081],\n",
              "        [-0.03130934],\n",
              "        [-0.00767183],\n",
              "        ...,\n",
              "        [ 0.07277867],\n",
              "        [ 0.05536155],\n",
              "        [ 0.02965057]],\n",
              "\n",
              "       ...,\n",
              "\n",
              "       [[ 0.00620862],\n",
              "        [ 0.0144318 ],\n",
              "        [ 0.02101034],\n",
              "        ...,\n",
              "        [ 0.00703094],\n",
              "        [-0.02873989],\n",
              "        [-0.01352701]],\n",
              "\n",
              "       [[-0.01913479],\n",
              "        [-0.09176502],\n",
              "        [-0.11113308],\n",
              "        ...,\n",
              "        [-0.04867109],\n",
              "        [-0.00412455],\n",
              "        [-0.00412455]],\n",
              "\n",
              "       [[-0.01429278],\n",
              "        [ 0.01379091],\n",
              "        [ 0.0118541 ],\n",
              "        ...,\n",
              "        [-0.02785042],\n",
              "        [-0.05012369],\n",
              "        [-0.0210716 ]]])"
            ]
          },
          "metadata": {},
          "execution_count": 20
        }
      ]
    },
    {
      "cell_type": "code",
      "source": [
        "import numpy as np\n",
        "np.random.seed(999)\n",
        "\n",
        "import tensorflow\n",
        "tensorflow.random.set_seed(999)\n",
        "\n",
        "import random\n",
        "#random.seed(999)"
      ],
      "metadata": {
        "id": "cvwl-_MPR8z4"
      },
      "execution_count": null,
      "outputs": []
    },
    {
      "cell_type": "code",
      "source": [
        "pip install git+https://www.github.com/keras-team/keras-contrib.git"
      ],
      "metadata": {
        "colab": {
          "base_uri": "https://localhost:8080/"
        },
        "id": "pi-d-1UxSBWe",
        "outputId": "72dd53ac-0fbf-4a41-92e0-94f4f5352ad2"
      },
      "execution_count": null,
      "outputs": [
        {
          "output_type": "stream",
          "name": "stdout",
          "text": [
            "Looking in indexes: https://pypi.org/simple, https://us-python.pkg.dev/colab-wheels/public/simple/\n",
            "Collecting git+https://www.github.com/keras-team/keras-contrib.git\n",
            "  Cloning https://www.github.com/keras-team/keras-contrib.git to /tmp/pip-req-build-xsfh1hxi\n",
            "  Running command git clone -q https://www.github.com/keras-team/keras-contrib.git /tmp/pip-req-build-xsfh1hxi\n",
            "Requirement already satisfied: keras in /usr/local/lib/python3.7/dist-packages (from keras-contrib==2.0.8) (2.8.0)\n",
            "Building wheels for collected packages: keras-contrib\n",
            "  Building wheel for keras-contrib (setup.py) ... \u001b[?25l\u001b[?25hdone\n",
            "  Created wheel for keras-contrib: filename=keras_contrib-2.0.8-py3-none-any.whl size=101077 sha256=1d8613f89a4de5add8b96d7586bae7337df00b903a7f9e536baaf8ad303c2192\n",
            "  Stored in directory: /tmp/pip-ephem-wheel-cache-72iebt04/wheels/bb/1f/f2/b57495012683b6b20bbae94a3915ec79753111452d79886abc\n",
            "Successfully built keras-contrib\n",
            "Installing collected packages: keras-contrib\n",
            "Successfully installed keras-contrib-2.0.8\n"
          ]
        }
      ]
    },
    {
      "cell_type": "code",
      "source": [
        "from tensorflow.keras import optimizers, losses, activations, models\n",
        "from tensorflow.keras.models import Model, load_model\n",
        "from tensorflow.keras.layers import GlobalMaxPool1D, GlobalAveragePooling1D, concatenate, SpatialDropout1D, TimeDistributed, Bidirectional, LSTM\n",
        "from tensorflow.keras.layers import Input, Conv1D, Dense, Dropout, MaxPool1D, Activation\n",
        "from tensorflow.keras.layers import Reshape, LSTM, TimeDistributed, Bidirectional, BatchNormalization, Flatten, RepeatVector\n",
        "from tensorflow.keras.optimizers import Adam\n",
        "#from keras_contrib.layers import CRF\n",
        "\n",
        "from scipy.signal import butter, lfilter\n"
      ],
      "metadata": {
        "id": "5u70hpGwSBZf"
      },
      "execution_count": null,
      "outputs": []
    },
    {
      "cell_type": "code",
      "source": [
        "Fs = 100"
      ],
      "metadata": {
        "id": "ZfwILbjiSEVL"
      },
      "execution_count": null,
      "outputs": []
    },
    {
      "cell_type": "code",
      "source": [
        "#n_classes=5\n",
        "def model_b(n_classes=5, use_sub_layer=False, use_rnn=True, verbose=False):\n",
        "    inputLayer = Input(shape=(3000, 1), name='inLayer')\n",
        "    convFine = Conv1D(filters=64, kernel_size=int(Fs/2), strides=int(Fs/16), padding='same', activation='relu', name='fConv1')(inputLayer)\n",
        "    convFine = MaxPool1D(pool_size=8, strides=8, name='fMaxP1')(convFine)\n",
        "    convFine = Dropout(rate=0.5, name='fDrop1')(convFine)\n",
        "    convFine = Conv1D(filters=128, kernel_size=8, padding='same', activation='relu', name='fConv2')(convFine)\n",
        "    convFine = Conv1D(filters=128, kernel_size=8, padding='same', activation='relu', name='fConv3')(convFine)\n",
        "    convFine = Conv1D(filters=128, kernel_size=8, padding='same', activation='relu', name='fConv4')(convFine)\n",
        "    convFine = MaxPool1D(pool_size=4, strides=4, name='fMaxP2')(convFine)\n",
        "    fineShape = convFine.get_shape()\n",
        "    convFine = Flatten(name='fFlat1')(convFine)\n",
        "    \n",
        "    # network to learn coarse features\n",
        "    convCoarse = Conv1D(filters=32, kernel_size=Fs*4, strides=int(Fs/2), padding='same', activation='relu', name='cConv1')(inputLayer)\n",
        "    convCoarse = MaxPool1D(pool_size=4, strides=4, name='cMaxP1')(convCoarse)\n",
        "    convCoarse = Dropout(rate=0.5, name='cDrop1')(convCoarse)\n",
        "    convCoarse = Conv1D(filters=128, kernel_size=6, padding='same', activation='relu', name='cConv2')(convCoarse)\n",
        "    convCoarse = Conv1D(filters=128, kernel_size=6, padding='same', activation='relu', name='cConv3')(convCoarse)\n",
        "    convCoarse = Conv1D(filters=128, kernel_size=6, padding='same', activation='relu', name='cConv4')(convCoarse)\n",
        "    convCoarse = MaxPool1D(pool_size=2, strides=2, name='cMaxP2')(convCoarse)\n",
        "    coarseShape = convCoarse.get_shape()\n",
        "    convCoarse = Flatten(name='cFlat1')(convCoarse)\n",
        "    \n",
        "    # concatenate coarse and fine cnns\n",
        "    mergeLayer = concatenate([convFine, convCoarse], name='merge_1')\n",
        "    outLayer = Dropout(rate=0.5, name='mDrop1')(mergeLayer)\n",
        "    \n",
        "    outLayer = Reshape((1, outLayer.get_shape()[1]), name='reshape1')(outLayer)\n",
        "    outLayer = LSTM(64, return_sequences=True)(outLayer)\n",
        "    outLayer = LSTM(64, return_sequences=False)(outLayer)\n",
        "\n",
        "    # Classify\n",
        "    outLayer = Dense(n_classes, activation='softmax', name='outLayer')(outLayer)\n",
        "    model = Model(inputLayer, outLayer)\n",
        "    optimizer = Adam(lr=1e-4)\n",
        "    model.compile(optimizer=optimizer, loss='categorical_crossentropy', metrics=['acc'])\n",
        "    #model.compile(optimizer=optimizer, loss='categorical_crossentropy', metrics=['accuracy'])\n",
        "    if verbose:\n",
        "        model.summary()\n",
        "    return model"
      ],
      "metadata": {
        "id": "6mJDpenlSEaV"
      },
      "execution_count": null,
      "outputs": []
    },
    {
      "cell_type": "code",
      "source": [
        "import keras_tuner as kt\n",
        "optimizer=Adam(lr=1e-4)"
      ],
      "metadata": {
        "id": "w-Mz82AVSXve"
      },
      "execution_count": null,
      "outputs": []
    },
    {
      "cell_type": "code",
      "source": [
        "class MyHyperModel(kt.HyperModel):\n",
        "    def build(self, hp):\n",
        "      model=model_b(verbose=VBS)\n",
        "      optimizer = Adam(lr=1e-4)\n",
        "      model.compile(optimizer=optimizer, loss='categorical_crossentropy', metrics=['acc'])\n",
        "      optimizer = Adam(lr=1e-4)\n",
        "      return model\n",
        "\n",
        "    def fit(self, hp, model, *args, **kwargs):\n",
        "        return model.fit(\n",
        "            x_dt_rshp, y_dt_,\n",
        "            epochs=hp.Choice(\"epochs\", [40, 50, 60, 70])\n",
        "        )"
      ],
      "metadata": {
        "id": "VKGUsLg43ddn"
      },
      "execution_count": null,
      "outputs": []
    },
    {
      "cell_type": "code",
      "source": [
        "tuner = kt.RandomSearch(\n",
        "    MyHyperModel(),\n",
        "    objective=\"loss\",\n",
        "    max_trials=3,\n",
        "    executions_per_trial=2,\n",
        "    overwrite=True,\n",
        "    #directory=\"my_dir\",\n",
        "    #project_name=\"tune_hypermodel\",\n",
        ")"
      ],
      "metadata": {
        "colab": {
          "base_uri": "https://localhost:8080/"
        },
        "id": "C8THo9hX4N3J",
        "outputId": "a26bae21-c03d-4010-883c-bf0aa349e00c"
      },
      "execution_count": null,
      "outputs": [
        {
          "output_type": "stream",
          "name": "stdout",
          "text": [
            "Model: \"model\"\n",
            "__________________________________________________________________________________________________\n",
            " Layer (type)                   Output Shape         Param #     Connected to                     \n",
            "==================================================================================================\n",
            " inLayer (InputLayer)           [(None, 3000, 1)]    0           []                               \n",
            "                                                                                                  \n",
            " fConv1 (Conv1D)                (None, 500, 64)      3264        ['inLayer[0][0]']                \n",
            "                                                                                                  \n",
            " cConv1 (Conv1D)                (None, 60, 32)       12832       ['inLayer[0][0]']                \n",
            "                                                                                                  \n",
            " fMaxP1 (MaxPooling1D)          (None, 62, 64)       0           ['fConv1[0][0]']                 \n",
            "                                                                                                  \n",
            " cMaxP1 (MaxPooling1D)          (None, 15, 32)       0           ['cConv1[0][0]']                 \n",
            "                                                                                                  \n",
            " fDrop1 (Dropout)               (None, 62, 64)       0           ['fMaxP1[0][0]']                 \n",
            "                                                                                                  \n",
            " cDrop1 (Dropout)               (None, 15, 32)       0           ['cMaxP1[0][0]']                 \n",
            "                                                                                                  \n",
            " fConv2 (Conv1D)                (None, 62, 128)      65664       ['fDrop1[0][0]']                 \n",
            "                                                                                                  \n",
            " cConv2 (Conv1D)                (None, 15, 128)      24704       ['cDrop1[0][0]']                 \n",
            "                                                                                                  \n",
            " fConv3 (Conv1D)                (None, 62, 128)      131200      ['fConv2[0][0]']                 \n",
            "                                                                                                  \n",
            " cConv3 (Conv1D)                (None, 15, 128)      98432       ['cConv2[0][0]']                 \n",
            "                                                                                                  \n",
            " fConv4 (Conv1D)                (None, 62, 128)      131200      ['fConv3[0][0]']                 \n",
            "                                                                                                  \n",
            " cConv4 (Conv1D)                (None, 15, 128)      98432       ['cConv3[0][0]']                 \n",
            "                                                                                                  \n",
            " fMaxP2 (MaxPooling1D)          (None, 15, 128)      0           ['fConv4[0][0]']                 \n",
            "                                                                                                  \n",
            " cMaxP2 (MaxPooling1D)          (None, 7, 128)       0           ['cConv4[0][0]']                 \n",
            "                                                                                                  \n",
            " fFlat1 (Flatten)               (None, 1920)         0           ['fMaxP2[0][0]']                 \n",
            "                                                                                                  \n",
            " cFlat1 (Flatten)               (None, 896)          0           ['cMaxP2[0][0]']                 \n",
            "                                                                                                  \n",
            " merge_1 (Concatenate)          (None, 2816)         0           ['fFlat1[0][0]',                 \n",
            "                                                                  'cFlat1[0][0]']                 \n",
            "                                                                                                  \n",
            " mDrop1 (Dropout)               (None, 2816)         0           ['merge_1[0][0]']                \n",
            "                                                                                                  \n",
            " reshape1 (Reshape)             (None, 1, 2816)      0           ['mDrop1[0][0]']                 \n",
            "                                                                                                  \n",
            " lstm (LSTM)                    (None, 1, 64)        737536      ['reshape1[0][0]']               \n",
            "                                                                                                  \n",
            " lstm_1 (LSTM)                  (None, 64)           33024       ['lstm[0][0]']                   \n",
            "                                                                                                  \n",
            " outLayer (Dense)               (None, 5)            325         ['lstm_1[0][0]']                 \n",
            "                                                                                                  \n",
            "==================================================================================================\n",
            "Total params: 1,336,613\n",
            "Trainable params: 1,336,613\n",
            "Non-trainable params: 0\n",
            "__________________________________________________________________________________________________\n"
          ]
        }
      ]
    },
    {
      "cell_type": "code",
      "source": [
        "tuner.search(x_dt_rshp, y_dt_)"
      ],
      "metadata": {
        "colab": {
          "base_uri": "https://localhost:8080/"
        },
        "id": "0Hw8fumG5exo",
        "outputId": "0c192eaa-53b4-4728-c98f-dc2d062c40bb"
      },
      "execution_count": null,
      "outputs": [
        {
          "output_type": "stream",
          "name": "stdout",
          "text": [
            "Trial 3 Complete [00h 57m 15s]\n",
            "loss: 0.07384231314063072\n",
            "\n",
            "Best loss So Far: 0.057738400995731354\n",
            "Total elapsed time: 03h 08m 00s\n",
            "INFO:tensorflow:Oracle triggered exit\n"
          ]
        }
      ]
    },
    {
      "cell_type": "code",
      "source": [
        "tuner.results_summary()"
      ],
      "metadata": {
        "id": "Dfv4ZjV253Rq",
        "colab": {
          "base_uri": "https://localhost:8080/"
        },
        "outputId": "9798c12a-abcc-4364-8c18-63915696c1fb"
      },
      "execution_count": null,
      "outputs": [
        {
          "output_type": "stream",
          "name": "stdout",
          "text": [
            "Results summary\n",
            "Results in ./untitled_project\n",
            "Showing 10 best trials\n",
            "<keras_tuner.engine.objective.Objective object at 0x7f36ccbbc350>\n",
            "Trial summary\n",
            "Hyperparameters:\n",
            "epochs: 70\n",
            "Score: 0.057738400995731354\n",
            "Trial summary\n",
            "Hyperparameters:\n",
            "epochs: 50\n",
            "Score: 0.07384231314063072\n",
            "Trial summary\n",
            "Hyperparameters:\n",
            "epochs: 40\n",
            "Score: 0.08827489241957664\n"
          ]
        }
      ]
    },
    {
      "cell_type": "markdown",
      "source": [
        "Trial 1(Teacher): \n",
        "\n",
        "tuner.search() o/p\n",
        "\n",
        "Trial 3 Complete [00h 58m 27s]\n",
        "\n",
        "loss: 0.07305121794342995\n",
        "\n",
        "Best loss So Far: 0.07305121794342995\n",
        "\n",
        "Total elapsed time: 02h 13m 01s\n",
        "\n",
        "INFO:tensorflow:Oracle triggered exit\n",
        "\n",
        "tuner.results_summary() o/p:\n",
        "\n",
        "Results summary\n",
        "\n",
        "Results in ./untitled_project\n",
        "\n",
        "Showing 10 best trials\n",
        "\n",
        "<keras_tuner.engine.objective.Objective object at 0x7f16e0b19810>\n",
        "\n",
        "Trial summary\n",
        "\n",
        "Hyperparameters:\n",
        "\n",
        "epochs: 50\n",
        "\n",
        "Score: 0.07305121794342995\n",
        "\n",
        "Trial summary\n",
        "\n",
        "Hyperparameters:\n",
        "\n",
        "epochs: 40\n",
        "\n",
        "Score: 0.08693895861506462\n",
        "\n",
        "Trial summary\n",
        "\n",
        "Hyperparameters:\n",
        "\n",
        "epochs: 40\n",
        "\n",
        "Score: 0.087614044547081"
      ],
      "metadata": {
        "id": "W_uZ4e7ak8Tk"
      }
    },
    {
      "cell_type": "markdown",
      "source": [
        "Trial 2(Teacher): \n",
        "\n",
        "tuner.search() o/p\n",
        "\n",
        "Trial 3 Complete [00h 58m 27s]\n",
        "\n",
        "loss: 0.06456424668431282\n",
        "\n",
        "Best loss So Far: 0.06456424668431282\n",
        "\n",
        "Total elapsed time: 02h 23m 24s\n",
        "\n",
        "INFO:tensorflow:Oracle triggered exit\n",
        "\n",
        "tuner.results_summary() o/p:\n",
        "\n",
        "Results summary\n",
        "\n",
        "Results in ./untitled_project\n",
        "\n",
        "Showing 10 best trials\n",
        "\n",
        "<keras_tuner.engine.objective.Objective object at 0x7f16e0b19810>\n",
        "\n",
        "Trial summary\n",
        "\n",
        "Hyperparameters:\n",
        "\n",
        "epochs: 60\n",
        "\n",
        "Score: 0.06456424668431282\n",
        "\n",
        "Trial summary\n",
        "\n",
        "Hyperparameters:\n",
        "\n",
        "epochs: 50\n",
        "\n",
        "Score: 0.07464605197310448\n",
        "\n",
        "Trial summary\n",
        "\n",
        "Hyperparameters:\n",
        "\n",
        "epochs: 40\n",
        "\n",
        "Score: 0.08797243982553482"
      ],
      "metadata": {
        "id": "xjCMsvcCVA8D"
      }
    },
    {
      "cell_type": "markdown",
      "source": [
        "Trial 3(Teacher):\n",
        "\n",
        "tuner.search() O/P:\n",
        "\n",
        "Trial 3 Complete [00h 57m 15s]\n",
        "\n",
        "loss: 0.07384231314063072\n",
        "\n",
        "Best loss So Far: 0.057738400995731354\n",
        "\n",
        "Total elapsed time: 03h 08m 00s\n",
        "\n",
        "INFO:tensorflow:Oracle triggered exit\n",
        "\n",
        "tuner.results_summary() O/P:\n",
        "\n",
        "Results summary\n",
        "\n",
        "Results in ./untitled_project\n",
        "\n",
        "Showing 10 best trials\n",
        "\n",
        "<keras_tuner.engine.objective.Objective object at 0x7f36ccbbc350>\n",
        "\n",
        "Trial summary\n",
        "\n",
        "Hyperparameters:\n",
        "\n",
        "epochs: 70\n",
        "\n",
        "Score: 0.057738400995731354 (not taking this one, coz there is too large a diff between this loss and the 50 epochs loss (could be overfitting)), hence going with 50 epochs\n",
        "\n",
        "Trial summary\n",
        "\n",
        "Hyperparameters:\n",
        "\n",
        "epochs: 50\n",
        "\n",
        "Score: 0.07384231314063072\n",
        "\n",
        "Trial summary\n",
        "\n",
        "Hyperparameters:\n",
        "\n",
        "epochs: 40\n",
        "\n",
        "Score: 0.08827489241957664"
      ],
      "metadata": {
        "id": "kJR44UMtzphD"
      }
    },
    {
      "cell_type": "code",
      "source": [
        "#Best model : 60 epochs teacher"
      ],
      "metadata": {
        "id": "PTJmA8xJi6hl"
      },
      "execution_count": null,
      "outputs": []
    },
    {
      "cell_type": "code",
      "source": [
        "teacher_40_epochs=model_b(verbose=VBS)"
      ],
      "metadata": {
        "colab": {
          "base_uri": "https://localhost:8080/"
        },
        "id": "HrV59ncxSXxI",
        "outputId": "38385ae8-1825-4b16-c33d-a7e8743c7246"
      },
      "execution_count": null,
      "outputs": [
        {
          "output_type": "stream",
          "name": "stdout",
          "text": [
            "Model: \"model_1\"\n",
            "__________________________________________________________________________________________________\n",
            " Layer (type)                   Output Shape         Param #     Connected to                     \n",
            "==================================================================================================\n",
            " inLayer (InputLayer)           [(None, 3000, 1)]    0           []                               \n",
            "                                                                                                  \n",
            " fConv1 (Conv1D)                (None, 500, 64)      3264        ['inLayer[0][0]']                \n",
            "                                                                                                  \n",
            " cConv1 (Conv1D)                (None, 60, 32)       12832       ['inLayer[0][0]']                \n",
            "                                                                                                  \n",
            " fMaxP1 (MaxPooling1D)          (None, 62, 64)       0           ['fConv1[0][0]']                 \n",
            "                                                                                                  \n",
            " cMaxP1 (MaxPooling1D)          (None, 15, 32)       0           ['cConv1[0][0]']                 \n",
            "                                                                                                  \n",
            " fDrop1 (Dropout)               (None, 62, 64)       0           ['fMaxP1[0][0]']                 \n",
            "                                                                                                  \n",
            " cDrop1 (Dropout)               (None, 15, 32)       0           ['cMaxP1[0][0]']                 \n",
            "                                                                                                  \n",
            " fConv2 (Conv1D)                (None, 62, 128)      65664       ['fDrop1[0][0]']                 \n",
            "                                                                                                  \n",
            " cConv2 (Conv1D)                (None, 15, 128)      24704       ['cDrop1[0][0]']                 \n",
            "                                                                                                  \n",
            " fConv3 (Conv1D)                (None, 62, 128)      131200      ['fConv2[0][0]']                 \n",
            "                                                                                                  \n",
            " cConv3 (Conv1D)                (None, 15, 128)      98432       ['cConv2[0][0]']                 \n",
            "                                                                                                  \n",
            " fConv4 (Conv1D)                (None, 62, 128)      131200      ['fConv3[0][0]']                 \n",
            "                                                                                                  \n",
            " cConv4 (Conv1D)                (None, 15, 128)      98432       ['cConv3[0][0]']                 \n",
            "                                                                                                  \n",
            " fMaxP2 (MaxPooling1D)          (None, 15, 128)      0           ['fConv4[0][0]']                 \n",
            "                                                                                                  \n",
            " cMaxP2 (MaxPooling1D)          (None, 7, 128)       0           ['cConv4[0][0]']                 \n",
            "                                                                                                  \n",
            " fFlat1 (Flatten)               (None, 1920)         0           ['fMaxP2[0][0]']                 \n",
            "                                                                                                  \n",
            " cFlat1 (Flatten)               (None, 896)          0           ['cMaxP2[0][0]']                 \n",
            "                                                                                                  \n",
            " merge_1 (Concatenate)          (None, 2816)         0           ['fFlat1[0][0]',                 \n",
            "                                                                  'cFlat1[0][0]']                 \n",
            "                                                                                                  \n",
            " mDrop1 (Dropout)               (None, 2816)         0           ['merge_1[0][0]']                \n",
            "                                                                                                  \n",
            " reshape1 (Reshape)             (None, 1, 2816)      0           ['mDrop1[0][0]']                 \n",
            "                                                                                                  \n",
            " lstm_2 (LSTM)                  (None, 1, 64)        737536      ['reshape1[0][0]']               \n",
            "                                                                                                  \n",
            " lstm_3 (LSTM)                  (None, 64)           33024       ['lstm_2[0][0]']                 \n",
            "                                                                                                  \n",
            " outLayer (Dense)               (None, 5)            325         ['lstm_3[0][0]']                 \n",
            "                                                                                                  \n",
            "==================================================================================================\n",
            "Total params: 1,336,613\n",
            "Trainable params: 1,336,613\n",
            "Non-trainable params: 0\n",
            "__________________________________________________________________________________________________\n"
          ]
        }
      ]
    },
    {
      "cell_type": "code",
      "source": [
        "teacher_40_epochs.summary()"
      ],
      "metadata": {
        "colab": {
          "base_uri": "https://localhost:8080/"
        },
        "id": "6AVW-by2SX0z",
        "outputId": "c8879801-9950-4084-b4b3-a4c16a87c1e6"
      },
      "execution_count": null,
      "outputs": [
        {
          "output_type": "stream",
          "name": "stdout",
          "text": [
            "Model: \"model_1\"\n",
            "__________________________________________________________________________________________________\n",
            " Layer (type)                   Output Shape         Param #     Connected to                     \n",
            "==================================================================================================\n",
            " inLayer (InputLayer)           [(None, 3000, 1)]    0           []                               \n",
            "                                                                                                  \n",
            " fConv1 (Conv1D)                (None, 500, 64)      3264        ['inLayer[0][0]']                \n",
            "                                                                                                  \n",
            " cConv1 (Conv1D)                (None, 60, 32)       12832       ['inLayer[0][0]']                \n",
            "                                                                                                  \n",
            " fMaxP1 (MaxPooling1D)          (None, 62, 64)       0           ['fConv1[0][0]']                 \n",
            "                                                                                                  \n",
            " cMaxP1 (MaxPooling1D)          (None, 15, 32)       0           ['cConv1[0][0]']                 \n",
            "                                                                                                  \n",
            " fDrop1 (Dropout)               (None, 62, 64)       0           ['fMaxP1[0][0]']                 \n",
            "                                                                                                  \n",
            " cDrop1 (Dropout)               (None, 15, 32)       0           ['cMaxP1[0][0]']                 \n",
            "                                                                                                  \n",
            " fConv2 (Conv1D)                (None, 62, 128)      65664       ['fDrop1[0][0]']                 \n",
            "                                                                                                  \n",
            " cConv2 (Conv1D)                (None, 15, 128)      24704       ['cDrop1[0][0]']                 \n",
            "                                                                                                  \n",
            " fConv3 (Conv1D)                (None, 62, 128)      131200      ['fConv2[0][0]']                 \n",
            "                                                                                                  \n",
            " cConv3 (Conv1D)                (None, 15, 128)      98432       ['cConv2[0][0]']                 \n",
            "                                                                                                  \n",
            " fConv4 (Conv1D)                (None, 62, 128)      131200      ['fConv3[0][0]']                 \n",
            "                                                                                                  \n",
            " cConv4 (Conv1D)                (None, 15, 128)      98432       ['cConv3[0][0]']                 \n",
            "                                                                                                  \n",
            " fMaxP2 (MaxPooling1D)          (None, 15, 128)      0           ['fConv4[0][0]']                 \n",
            "                                                                                                  \n",
            " cMaxP2 (MaxPooling1D)          (None, 7, 128)       0           ['cConv4[0][0]']                 \n",
            "                                                                                                  \n",
            " fFlat1 (Flatten)               (None, 1920)         0           ['fMaxP2[0][0]']                 \n",
            "                                                                                                  \n",
            " cFlat1 (Flatten)               (None, 896)          0           ['cMaxP2[0][0]']                 \n",
            "                                                                                                  \n",
            " merge_1 (Concatenate)          (None, 2816)         0           ['fFlat1[0][0]',                 \n",
            "                                                                  'cFlat1[0][0]']                 \n",
            "                                                                                                  \n",
            " mDrop1 (Dropout)               (None, 2816)         0           ['merge_1[0][0]']                \n",
            "                                                                                                  \n",
            " reshape1 (Reshape)             (None, 1, 2816)      0           ['mDrop1[0][0]']                 \n",
            "                                                                                                  \n",
            " lstm_2 (LSTM)                  (None, 1, 64)        737536      ['reshape1[0][0]']               \n",
            "                                                                                                  \n",
            " lstm_3 (LSTM)                  (None, 64)           33024       ['lstm_2[0][0]']                 \n",
            "                                                                                                  \n",
            " outLayer (Dense)               (None, 5)            325         ['lstm_3[0][0]']                 \n",
            "                                                                                                  \n",
            "==================================================================================================\n",
            "Total params: 1,336,613\n",
            "Trainable params: 1,336,613\n",
            "Non-trainable params: 0\n",
            "__________________________________________________________________________________________________\n"
          ]
        }
      ]
    },
    {
      "cell_type": "code",
      "source": [
        "teacher_40_epochs.compile(optimizer=optimizer, loss='categorical_crossentropy', metrics=['accuracy'])"
      ],
      "metadata": {
        "id": "6li9hd77SnCO"
      },
      "execution_count": null,
      "outputs": []
    },
    {
      "cell_type": "markdown",
      "source": [
        "Training the teacher model for 40 epochs wrt to the transfer set, majority voted labels, x_sub_train, tri-trained labels"
      ],
      "metadata": {
        "id": "-yqAOWh0S8FQ"
      }
    },
    {
      "cell_type": "code",
      "source": [
        "checkpoint_teacher_model_40_epochs = \"/content/gdrive/My Drive/physionet/ensemble/tri_training/40_epochs_keras_way/teacher_40_epochs_keras_way_wts_trial_3.ckpt\""
      ],
      "metadata": {
        "id": "K1PfsofRTDi0"
      },
      "execution_count": null,
      "outputs": []
    },
    {
      "cell_type": "code",
      "source": [
        "checkpoint_teacher_model_40_epochs_dir = os.path.dirname(checkpoint_teacher_model_40_epochs)"
      ],
      "metadata": {
        "id": "UTSY5HF3TDl8"
      },
      "execution_count": null,
      "outputs": []
    },
    {
      "cell_type": "code",
      "source": [
        "cp_callback_teacher_model_40_epochs = tensorflow.keras.callbacks.ModelCheckpoint(\n",
        "    filepath=checkpoint_teacher_model_40_epochs,\n",
        "    monitor='accuracy', \n",
        "    verbose=1, \n",
        "    save_weights_only=True,\n",
        "    mode = 'max',\n",
        "    period=40)"
      ],
      "metadata": {
        "colab": {
          "base_uri": "https://localhost:8080/"
        },
        "id": "rye3iT_STanB",
        "outputId": "e863a915-d818-47e4-ba44-3d0ed20b3936"
      },
      "execution_count": null,
      "outputs": [
        {
          "output_type": "stream",
          "name": "stdout",
          "text": [
            "WARNING:tensorflow:`period` argument is deprecated. Please use `save_freq` to specify the frequency in number of batches seen.\n"
          ]
        }
      ]
    },
    {
      "cell_type": "code",
      "source": [
        "teacher_40_epochs.fit(x_dt_rshp, y_dt_, epochs=40, callbacks=[cp_callback_teacher_model_40_epochs])"
      ],
      "metadata": {
        "colab": {
          "base_uri": "https://localhost:8080/"
        },
        "id": "Yz5rBuQSTao4",
        "outputId": "8dc42f3f-e8c2-4030-ac21-25a1bf979016"
      },
      "execution_count": null,
      "outputs": [
        {
          "output_type": "stream",
          "name": "stdout",
          "text": [
            "Epoch 1/40\n",
            "3710/3710 [==============================] - 39s 9ms/step - loss: 0.6457 - accuracy: 0.7458\n",
            "Epoch 2/40\n",
            "3710/3710 [==============================] - 35s 9ms/step - loss: 0.3778 - accuracy: 0.8512\n",
            "Epoch 3/40\n",
            "3710/3710 [==============================] - 35s 9ms/step - loss: 0.3192 - accuracy: 0.8739\n",
            "Epoch 4/40\n",
            "3710/3710 [==============================] - 35s 9ms/step - loss: 0.2789 - accuracy: 0.8902\n",
            "Epoch 5/40\n",
            "3710/3710 [==============================] - 35s 9ms/step - loss: 0.2493 - accuracy: 0.9024\n",
            "Epoch 6/40\n",
            "3710/3710 [==============================] - 35s 9ms/step - loss: 0.2273 - accuracy: 0.9102\n",
            "Epoch 7/40\n",
            "3710/3710 [==============================] - 35s 9ms/step - loss: 0.2091 - accuracy: 0.9168\n",
            "Epoch 8/40\n",
            "3710/3710 [==============================] - 33s 9ms/step - loss: 0.1948 - accuracy: 0.9226\n",
            "Epoch 9/40\n",
            "3710/3710 [==============================] - 33s 9ms/step - loss: 0.1863 - accuracy: 0.9263\n",
            "Epoch 10/40\n",
            "3710/3710 [==============================] - 32s 9ms/step - loss: 0.1758 - accuracy: 0.9302\n",
            "Epoch 11/40\n",
            "3710/3710 [==============================] - 33s 9ms/step - loss: 0.1676 - accuracy: 0.9332\n",
            "Epoch 12/40\n",
            "3710/3710 [==============================] - 33s 9ms/step - loss: 0.1645 - accuracy: 0.9339\n",
            "Epoch 13/40\n",
            "3710/3710 [==============================] - 33s 9ms/step - loss: 0.1570 - accuracy: 0.9371\n",
            "Epoch 14/40\n",
            "3710/3710 [==============================] - 33s 9ms/step - loss: 0.1532 - accuracy: 0.9392\n",
            "Epoch 15/40\n",
            "3710/3710 [==============================] - 34s 9ms/step - loss: 0.1490 - accuracy: 0.9403\n",
            "Epoch 16/40\n",
            "3710/3710 [==============================] - 34s 9ms/step - loss: 0.1438 - accuracy: 0.9429\n",
            "Epoch 17/40\n",
            "3710/3710 [==============================] - 34s 9ms/step - loss: 0.1406 - accuracy: 0.9438\n",
            "Epoch 18/40\n",
            "3710/3710 [==============================] - 34s 9ms/step - loss: 0.1385 - accuracy: 0.9446\n",
            "Epoch 19/40\n",
            "3710/3710 [==============================] - 35s 9ms/step - loss: 0.1349 - accuracy: 0.9461\n",
            "Epoch 20/40\n",
            "3710/3710 [==============================] - 35s 9ms/step - loss: 0.1322 - accuracy: 0.9480\n",
            "Epoch 21/40\n",
            "3710/3710 [==============================] - 35s 9ms/step - loss: 0.1291 - accuracy: 0.9490\n",
            "Epoch 22/40\n",
            "3710/3710 [==============================] - 35s 9ms/step - loss: 0.1255 - accuracy: 0.9502\n",
            "Epoch 23/40\n",
            "3710/3710 [==============================] - 35s 9ms/step - loss: 0.1224 - accuracy: 0.9514\n",
            "Epoch 24/40\n",
            "3710/3710 [==============================] - 35s 10ms/step - loss: 0.1208 - accuracy: 0.9520\n",
            "Epoch 25/40\n",
            "3710/3710 [==============================] - 34s 9ms/step - loss: 0.1170 - accuracy: 0.9534\n",
            "Epoch 26/40\n",
            "3710/3710 [==============================] - 34s 9ms/step - loss: 0.1157 - accuracy: 0.9542\n",
            "Epoch 27/40\n",
            "3710/3710 [==============================] - 34s 9ms/step - loss: 0.1140 - accuracy: 0.9554\n",
            "Epoch 28/40\n",
            "3710/3710 [==============================] - 34s 9ms/step - loss: 0.1116 - accuracy: 0.9567\n",
            "Epoch 29/40\n",
            "3710/3710 [==============================] - 34s 9ms/step - loss: 0.1085 - accuracy: 0.9572\n",
            "Epoch 30/40\n",
            "3710/3710 [==============================] - 34s 9ms/step - loss: 0.1065 - accuracy: 0.9584\n",
            "Epoch 31/40\n",
            "3710/3710 [==============================] - 35s 9ms/step - loss: 0.1050 - accuracy: 0.9589\n",
            "Epoch 32/40\n",
            "3710/3710 [==============================] - 34s 9ms/step - loss: 0.1027 - accuracy: 0.9598\n",
            "Epoch 33/40\n",
            "3710/3710 [==============================] - 34s 9ms/step - loss: 0.1006 - accuracy: 0.9604\n",
            "Epoch 34/40\n",
            "3710/3710 [==============================] - 34s 9ms/step - loss: 0.0986 - accuracy: 0.9616\n",
            "Epoch 35/40\n",
            "3710/3710 [==============================] - 34s 9ms/step - loss: 0.0974 - accuracy: 0.9624\n",
            "Epoch 36/40\n",
            "3710/3710 [==============================] - 34s 9ms/step - loss: 0.0954 - accuracy: 0.9630\n",
            "Epoch 37/40\n",
            "3710/3710 [==============================] - 34s 9ms/step - loss: 0.0935 - accuracy: 0.9638\n",
            "Epoch 38/40\n",
            "3710/3710 [==============================] - 34s 9ms/step - loss: 0.0940 - accuracy: 0.9634\n",
            "Epoch 39/40\n",
            "3710/3710 [==============================] - 34s 9ms/step - loss: 0.0919 - accuracy: 0.9646\n",
            "Epoch 40/40\n",
            "3705/3710 [============================>.] - ETA: 0s - loss: 0.0896 - accuracy: 0.9654\n",
            "Epoch 40: saving model to /content/gdrive/My Drive/physionet/ensemble/tri_training/40_epochs_keras_way/teacher_40_epochs_keras_way_wts_trial_3.ckpt\n",
            "3710/3710 [==============================] - 35s 9ms/step - loss: 0.0896 - accuracy: 0.9653\n"
          ]
        },
        {
          "output_type": "execute_result",
          "data": {
            "text/plain": [
              "<keras.callbacks.History at 0x7f36d96abdd0>"
            ]
          },
          "metadata": {},
          "execution_count": 38
        }
      ]
    },
    {
      "cell_type": "code",
      "source": [
        "latest_teacher_40_epochs=tensorflow.train.latest_checkpoint(checkpoint_teacher_model_40_epochs_dir)"
      ],
      "metadata": {
        "id": "aos4rfC2TasO"
      },
      "execution_count": null,
      "outputs": []
    },
    {
      "cell_type": "code",
      "source": [
        "print(latest_teacher_40_epochs)\n",
        "print(checkpoint_teacher_model_40_epochs)"
      ],
      "metadata": {
        "colab": {
          "base_uri": "https://localhost:8080/"
        },
        "id": "k1UwwIUuT7t8",
        "outputId": "5a0f2f15-8b3c-4eb5-cb0a-6bedfb97295c"
      },
      "execution_count": null,
      "outputs": [
        {
          "output_type": "stream",
          "name": "stdout",
          "text": [
            "/content/gdrive/My Drive/physionet/ensemble/tri_training/40_epochs_keras_way/teacher_40_epochs_keras_way_wts_trial_3.ckpt\n",
            "/content/gdrive/My Drive/physionet/ensemble/tri_training/40_epochs_keras_way/teacher_40_epochs_keras_way_wts_trial_3.ckpt\n"
          ]
        }
      ]
    },
    {
      "cell_type": "code",
      "source": [
        "sub_test_data=pd.read_csv('/content/gdrive/My Drive/physionet/ensemble/50_subs/x_test_sub.csv',header=None)"
      ],
      "metadata": {
        "id": "0jeA64m0Ubl4"
      },
      "execution_count": null,
      "outputs": []
    },
    {
      "cell_type": "code",
      "source": [
        "sub_test_data.shape"
      ],
      "metadata": {
        "colab": {
          "base_uri": "https://localhost:8080/"
        },
        "id": "u7-l80euYUcJ",
        "outputId": "d5f1eead-3387-456a-b54f-a56dad6e10b5"
      },
      "execution_count": null,
      "outputs": [
        {
          "output_type": "execute_result",
          "data": {
            "text/plain": [
              "(494, 3001)"
            ]
          },
          "metadata": {},
          "execution_count": 24
        }
      ]
    },
    {
      "cell_type": "code",
      "source": [
        "x_test_dt=sub_test_data.drop([3000],axis=1)\n",
        "y_test_dt=sub_test_data[3000]"
      ],
      "metadata": {
        "id": "hyAXUe9IUr96"
      },
      "execution_count": null,
      "outputs": []
    },
    {
      "cell_type": "code",
      "source": [
        "y_test_dt_=np_utils.to_categorical(y_test_dt)"
      ],
      "metadata": {
        "id": "YBXjJZIJUsFR"
      },
      "execution_count": null,
      "outputs": []
    },
    {
      "cell_type": "code",
      "source": [
        "y_test_dt_"
      ],
      "metadata": {
        "colab": {
          "base_uri": "https://localhost:8080/"
        },
        "id": "U1R8-SHSU-OO",
        "outputId": "ffd9da7a-1fef-4943-e90e-a9d8042d91b9"
      },
      "execution_count": null,
      "outputs": [
        {
          "output_type": "execute_result",
          "data": {
            "text/plain": [
              "array([[0., 0., 1., 0., 0.],\n",
              "       [1., 0., 0., 0., 0.],\n",
              "       [1., 0., 0., 0., 0.],\n",
              "       ...,\n",
              "       [0., 1., 0., 0., 0.],\n",
              "       [1., 0., 0., 0., 0.],\n",
              "       [1., 0., 0., 0., 0.]], dtype=float32)"
            ]
          },
          "metadata": {},
          "execution_count": 31
        }
      ]
    },
    {
      "cell_type": "code",
      "source": [
        "x_test_dt"
      ],
      "metadata": {
        "colab": {
          "base_uri": "https://localhost:8080/",
          "height": 488
        },
        "id": "q-pIYHGEFDi-",
        "outputId": "5e796176-31e2-4092-edaf-d1600179078f"
      },
      "execution_count": null,
      "outputs": [
        {
          "output_type": "execute_result",
          "data": {
            "text/plain": [
              "         0         1         2         3         4         5         6     \\\n",
              "0   -0.052176 -0.045597 -0.036963 -0.035730 -0.047242 -0.048476 -0.041486   \n",
              "1    0.080611  0.077706  0.053495  0.029285  0.016212 -0.007998 -0.003156   \n",
              "2   -0.113070 -0.092733 -0.155195 -0.101449 -0.073365 -0.013809 -0.100965   \n",
              "3    0.036064  0.019601  0.002170  0.012823  0.028317  0.019601  0.017665   \n",
              "4    0.042802  0.047736  0.055137  0.051436  0.048558  0.041157  0.053081   \n",
              "..        ...       ...       ...       ...       ...       ...       ...   \n",
              "489 -0.024461 -0.008482 -0.022040 -0.016714 -0.002188  0.011854 -0.008967   \n",
              "490  0.058337  0.068506  0.054948  0.058822  0.104337  0.088358  0.056401   \n",
              "491  0.016899  0.047325  0.062537  0.066238  0.058015  0.027589 -0.015583   \n",
              "492  0.310877  0.331846  0.351582  0.317045  0.309233  0.333491  0.301010   \n",
              "493 -0.024945 -0.007998 -0.037050 -0.040440 -0.031240 -0.007998 -0.044313   \n",
              "\n",
              "         7         8         9     ...      2990      2991      2992  \\\n",
              "0   -0.040252 -0.050942 -0.046420  ... -0.003659  0.024711  0.084740   \n",
              "1   -0.036082 -0.003156  0.032191  ... -0.015745  0.037033  0.049622   \n",
              "2   -0.026398 -0.035113  0.017665  ...  0.007496  0.025896 -0.104354   \n",
              "3    0.017665  0.025412  0.006528  ... -0.033177 -0.080144 -0.080628   \n",
              "4    0.053081  0.059659  0.058837  ... -0.021750 -0.033263 -0.056288   \n",
              "..        ...       ...       ...  ...       ...       ...       ...   \n",
              "489  0.008465  0.034127 -0.007030  ... -0.052060 -0.057387 -0.014293   \n",
              "490  0.054464  0.050590  0.069474  ... -0.021556 -0.004609 -0.038987   \n",
              "491 -0.037374 -0.045597 -0.024217  ... -0.004482 -0.031207 -0.028740   \n",
              "492  0.272228  0.282096  0.287030  ...  0.065416  0.065827  0.062126   \n",
              "493 -0.036566 -0.038019 -0.054966  ...  0.062211  0.063664  0.025896   \n",
              "\n",
              "         2993      2994      2995      2996      2997      2998      2999  \n",
              "0    0.123389  0.139013  0.135313  0.129556  0.137779  0.111054  0.078573  \n",
              "1    0.004107  0.013307  0.012823  0.022991  0.083032  0.043811  0.011854  \n",
              "2   -0.073365 -0.081597 -0.063681  0.022507 -0.005577 -0.059808 -0.090312  \n",
              "3   -0.053029 -0.031724 -0.018651  0.003623 -0.007514 -0.007514 -0.019619  \n",
              "4   -0.055876 -0.063688 -0.067389 -0.067800 -0.052998 -0.038197 -0.029562  \n",
              "..        ...       ...       ...       ...       ...       ...       ...  \n",
              "489  0.018633 -0.133406 -0.057871 -0.066102 -0.011388 -0.033661 -0.044313  \n",
              "490 -0.034145 -0.008967  0.037517 -0.017198  0.033643  0.074316  0.048169  \n",
              "491 -0.012705 -0.007771 -0.019694 -0.020106 -0.007771 -0.019694 -0.025451  \n",
              "492  0.055137  0.032523  0.037457  0.045680  0.061715  0.028000  0.020188  \n",
              "493  0.023959  0.031706  0.077221  0.076253  0.050106  0.012338  0.022991  \n",
              "\n",
              "[494 rows x 3000 columns]"
            ],
            "text/html": [
              "\n",
              "  <div id=\"df-cea4098f-eb95-45a5-81e5-c2a43c14b3b4\">\n",
              "    <div class=\"colab-df-container\">\n",
              "      <div>\n",
              "<style scoped>\n",
              "    .dataframe tbody tr th:only-of-type {\n",
              "        vertical-align: middle;\n",
              "    }\n",
              "\n",
              "    .dataframe tbody tr th {\n",
              "        vertical-align: top;\n",
              "    }\n",
              "\n",
              "    .dataframe thead th {\n",
              "        text-align: right;\n",
              "    }\n",
              "</style>\n",
              "<table border=\"1\" class=\"dataframe\">\n",
              "  <thead>\n",
              "    <tr style=\"text-align: right;\">\n",
              "      <th></th>\n",
              "      <th>0</th>\n",
              "      <th>1</th>\n",
              "      <th>2</th>\n",
              "      <th>3</th>\n",
              "      <th>4</th>\n",
              "      <th>5</th>\n",
              "      <th>6</th>\n",
              "      <th>7</th>\n",
              "      <th>8</th>\n",
              "      <th>9</th>\n",
              "      <th>...</th>\n",
              "      <th>2990</th>\n",
              "      <th>2991</th>\n",
              "      <th>2992</th>\n",
              "      <th>2993</th>\n",
              "      <th>2994</th>\n",
              "      <th>2995</th>\n",
              "      <th>2996</th>\n",
              "      <th>2997</th>\n",
              "      <th>2998</th>\n",
              "      <th>2999</th>\n",
              "    </tr>\n",
              "  </thead>\n",
              "  <tbody>\n",
              "    <tr>\n",
              "      <th>0</th>\n",
              "      <td>-0.052176</td>\n",
              "      <td>-0.045597</td>\n",
              "      <td>-0.036963</td>\n",
              "      <td>-0.035730</td>\n",
              "      <td>-0.047242</td>\n",
              "      <td>-0.048476</td>\n",
              "      <td>-0.041486</td>\n",
              "      <td>-0.040252</td>\n",
              "      <td>-0.050942</td>\n",
              "      <td>-0.046420</td>\n",
              "      <td>...</td>\n",
              "      <td>-0.003659</td>\n",
              "      <td>0.024711</td>\n",
              "      <td>0.084740</td>\n",
              "      <td>0.123389</td>\n",
              "      <td>0.139013</td>\n",
              "      <td>0.135313</td>\n",
              "      <td>0.129556</td>\n",
              "      <td>0.137779</td>\n",
              "      <td>0.111054</td>\n",
              "      <td>0.078573</td>\n",
              "    </tr>\n",
              "    <tr>\n",
              "      <th>1</th>\n",
              "      <td>0.080611</td>\n",
              "      <td>0.077706</td>\n",
              "      <td>0.053495</td>\n",
              "      <td>0.029285</td>\n",
              "      <td>0.016212</td>\n",
              "      <td>-0.007998</td>\n",
              "      <td>-0.003156</td>\n",
              "      <td>-0.036082</td>\n",
              "      <td>-0.003156</td>\n",
              "      <td>0.032191</td>\n",
              "      <td>...</td>\n",
              "      <td>-0.015745</td>\n",
              "      <td>0.037033</td>\n",
              "      <td>0.049622</td>\n",
              "      <td>0.004107</td>\n",
              "      <td>0.013307</td>\n",
              "      <td>0.012823</td>\n",
              "      <td>0.022991</td>\n",
              "      <td>0.083032</td>\n",
              "      <td>0.043811</td>\n",
              "      <td>0.011854</td>\n",
              "    </tr>\n",
              "    <tr>\n",
              "      <th>2</th>\n",
              "      <td>-0.113070</td>\n",
              "      <td>-0.092733</td>\n",
              "      <td>-0.155195</td>\n",
              "      <td>-0.101449</td>\n",
              "      <td>-0.073365</td>\n",
              "      <td>-0.013809</td>\n",
              "      <td>-0.100965</td>\n",
              "      <td>-0.026398</td>\n",
              "      <td>-0.035113</td>\n",
              "      <td>0.017665</td>\n",
              "      <td>...</td>\n",
              "      <td>0.007496</td>\n",
              "      <td>0.025896</td>\n",
              "      <td>-0.104354</td>\n",
              "      <td>-0.073365</td>\n",
              "      <td>-0.081597</td>\n",
              "      <td>-0.063681</td>\n",
              "      <td>0.022507</td>\n",
              "      <td>-0.005577</td>\n",
              "      <td>-0.059808</td>\n",
              "      <td>-0.090312</td>\n",
              "    </tr>\n",
              "    <tr>\n",
              "      <th>3</th>\n",
              "      <td>0.036064</td>\n",
              "      <td>0.019601</td>\n",
              "      <td>0.002170</td>\n",
              "      <td>0.012823</td>\n",
              "      <td>0.028317</td>\n",
              "      <td>0.019601</td>\n",
              "      <td>0.017665</td>\n",
              "      <td>0.017665</td>\n",
              "      <td>0.025412</td>\n",
              "      <td>0.006528</td>\n",
              "      <td>...</td>\n",
              "      <td>-0.033177</td>\n",
              "      <td>-0.080144</td>\n",
              "      <td>-0.080628</td>\n",
              "      <td>-0.053029</td>\n",
              "      <td>-0.031724</td>\n",
              "      <td>-0.018651</td>\n",
              "      <td>0.003623</td>\n",
              "      <td>-0.007514</td>\n",
              "      <td>-0.007514</td>\n",
              "      <td>-0.019619</td>\n",
              "    </tr>\n",
              "    <tr>\n",
              "      <th>4</th>\n",
              "      <td>0.042802</td>\n",
              "      <td>0.047736</td>\n",
              "      <td>0.055137</td>\n",
              "      <td>0.051436</td>\n",
              "      <td>0.048558</td>\n",
              "      <td>0.041157</td>\n",
              "      <td>0.053081</td>\n",
              "      <td>0.053081</td>\n",
              "      <td>0.059659</td>\n",
              "      <td>0.058837</td>\n",
              "      <td>...</td>\n",
              "      <td>-0.021750</td>\n",
              "      <td>-0.033263</td>\n",
              "      <td>-0.056288</td>\n",
              "      <td>-0.055876</td>\n",
              "      <td>-0.063688</td>\n",
              "      <td>-0.067389</td>\n",
              "      <td>-0.067800</td>\n",
              "      <td>-0.052998</td>\n",
              "      <td>-0.038197</td>\n",
              "      <td>-0.029562</td>\n",
              "    </tr>\n",
              "    <tr>\n",
              "      <th>...</th>\n",
              "      <td>...</td>\n",
              "      <td>...</td>\n",
              "      <td>...</td>\n",
              "      <td>...</td>\n",
              "      <td>...</td>\n",
              "      <td>...</td>\n",
              "      <td>...</td>\n",
              "      <td>...</td>\n",
              "      <td>...</td>\n",
              "      <td>...</td>\n",
              "      <td>...</td>\n",
              "      <td>...</td>\n",
              "      <td>...</td>\n",
              "      <td>...</td>\n",
              "      <td>...</td>\n",
              "      <td>...</td>\n",
              "      <td>...</td>\n",
              "      <td>...</td>\n",
              "      <td>...</td>\n",
              "      <td>...</td>\n",
              "      <td>...</td>\n",
              "    </tr>\n",
              "    <tr>\n",
              "      <th>489</th>\n",
              "      <td>-0.024461</td>\n",
              "      <td>-0.008482</td>\n",
              "      <td>-0.022040</td>\n",
              "      <td>-0.016714</td>\n",
              "      <td>-0.002188</td>\n",
              "      <td>0.011854</td>\n",
              "      <td>-0.008967</td>\n",
              "      <td>0.008465</td>\n",
              "      <td>0.034127</td>\n",
              "      <td>-0.007030</td>\n",
              "      <td>...</td>\n",
              "      <td>-0.052060</td>\n",
              "      <td>-0.057387</td>\n",
              "      <td>-0.014293</td>\n",
              "      <td>0.018633</td>\n",
              "      <td>-0.133406</td>\n",
              "      <td>-0.057871</td>\n",
              "      <td>-0.066102</td>\n",
              "      <td>-0.011388</td>\n",
              "      <td>-0.033661</td>\n",
              "      <td>-0.044313</td>\n",
              "    </tr>\n",
              "    <tr>\n",
              "      <th>490</th>\n",
              "      <td>0.058337</td>\n",
              "      <td>0.068506</td>\n",
              "      <td>0.054948</td>\n",
              "      <td>0.058822</td>\n",
              "      <td>0.104337</td>\n",
              "      <td>0.088358</td>\n",
              "      <td>0.056401</td>\n",
              "      <td>0.054464</td>\n",
              "      <td>0.050590</td>\n",
              "      <td>0.069474</td>\n",
              "      <td>...</td>\n",
              "      <td>-0.021556</td>\n",
              "      <td>-0.004609</td>\n",
              "      <td>-0.038987</td>\n",
              "      <td>-0.034145</td>\n",
              "      <td>-0.008967</td>\n",
              "      <td>0.037517</td>\n",
              "      <td>-0.017198</td>\n",
              "      <td>0.033643</td>\n",
              "      <td>0.074316</td>\n",
              "      <td>0.048169</td>\n",
              "    </tr>\n",
              "    <tr>\n",
              "      <th>491</th>\n",
              "      <td>0.016899</td>\n",
              "      <td>0.047325</td>\n",
              "      <td>0.062537</td>\n",
              "      <td>0.066238</td>\n",
              "      <td>0.058015</td>\n",
              "      <td>0.027589</td>\n",
              "      <td>-0.015583</td>\n",
              "      <td>-0.037374</td>\n",
              "      <td>-0.045597</td>\n",
              "      <td>-0.024217</td>\n",
              "      <td>...</td>\n",
              "      <td>-0.004482</td>\n",
              "      <td>-0.031207</td>\n",
              "      <td>-0.028740</td>\n",
              "      <td>-0.012705</td>\n",
              "      <td>-0.007771</td>\n",
              "      <td>-0.019694</td>\n",
              "      <td>-0.020106</td>\n",
              "      <td>-0.007771</td>\n",
              "      <td>-0.019694</td>\n",
              "      <td>-0.025451</td>\n",
              "    </tr>\n",
              "    <tr>\n",
              "      <th>492</th>\n",
              "      <td>0.310877</td>\n",
              "      <td>0.331846</td>\n",
              "      <td>0.351582</td>\n",
              "      <td>0.317045</td>\n",
              "      <td>0.309233</td>\n",
              "      <td>0.333491</td>\n",
              "      <td>0.301010</td>\n",
              "      <td>0.272228</td>\n",
              "      <td>0.282096</td>\n",
              "      <td>0.287030</td>\n",
              "      <td>...</td>\n",
              "      <td>0.065416</td>\n",
              "      <td>0.065827</td>\n",
              "      <td>0.062126</td>\n",
              "      <td>0.055137</td>\n",
              "      <td>0.032523</td>\n",
              "      <td>0.037457</td>\n",
              "      <td>0.045680</td>\n",
              "      <td>0.061715</td>\n",
              "      <td>0.028000</td>\n",
              "      <td>0.020188</td>\n",
              "    </tr>\n",
              "    <tr>\n",
              "      <th>493</th>\n",
              "      <td>-0.024945</td>\n",
              "      <td>-0.007998</td>\n",
              "      <td>-0.037050</td>\n",
              "      <td>-0.040440</td>\n",
              "      <td>-0.031240</td>\n",
              "      <td>-0.007998</td>\n",
              "      <td>-0.044313</td>\n",
              "      <td>-0.036566</td>\n",
              "      <td>-0.038019</td>\n",
              "      <td>-0.054966</td>\n",
              "      <td>...</td>\n",
              "      <td>0.062211</td>\n",
              "      <td>0.063664</td>\n",
              "      <td>0.025896</td>\n",
              "      <td>0.023959</td>\n",
              "      <td>0.031706</td>\n",
              "      <td>0.077221</td>\n",
              "      <td>0.076253</td>\n",
              "      <td>0.050106</td>\n",
              "      <td>0.012338</td>\n",
              "      <td>0.022991</td>\n",
              "    </tr>\n",
              "  </tbody>\n",
              "</table>\n",
              "<p>494 rows × 3000 columns</p>\n",
              "</div>\n",
              "      <button class=\"colab-df-convert\" onclick=\"convertToInteractive('df-cea4098f-eb95-45a5-81e5-c2a43c14b3b4')\"\n",
              "              title=\"Convert this dataframe to an interactive table.\"\n",
              "              style=\"display:none;\">\n",
              "        \n",
              "  <svg xmlns=\"http://www.w3.org/2000/svg\" height=\"24px\"viewBox=\"0 0 24 24\"\n",
              "       width=\"24px\">\n",
              "    <path d=\"M0 0h24v24H0V0z\" fill=\"none\"/>\n",
              "    <path d=\"M18.56 5.44l.94 2.06.94-2.06 2.06-.94-2.06-.94-.94-2.06-.94 2.06-2.06.94zm-11 1L8.5 8.5l.94-2.06 2.06-.94-2.06-.94L8.5 2.5l-.94 2.06-2.06.94zm10 10l.94 2.06.94-2.06 2.06-.94-2.06-.94-.94-2.06-.94 2.06-2.06.94z\"/><path d=\"M17.41 7.96l-1.37-1.37c-.4-.4-.92-.59-1.43-.59-.52 0-1.04.2-1.43.59L10.3 9.45l-7.72 7.72c-.78.78-.78 2.05 0 2.83L4 21.41c.39.39.9.59 1.41.59.51 0 1.02-.2 1.41-.59l7.78-7.78 2.81-2.81c.8-.78.8-2.07 0-2.86zM5.41 20L4 18.59l7.72-7.72 1.47 1.35L5.41 20z\"/>\n",
              "  </svg>\n",
              "      </button>\n",
              "      \n",
              "  <style>\n",
              "    .colab-df-container {\n",
              "      display:flex;\n",
              "      flex-wrap:wrap;\n",
              "      gap: 12px;\n",
              "    }\n",
              "\n",
              "    .colab-df-convert {\n",
              "      background-color: #E8F0FE;\n",
              "      border: none;\n",
              "      border-radius: 50%;\n",
              "      cursor: pointer;\n",
              "      display: none;\n",
              "      fill: #1967D2;\n",
              "      height: 32px;\n",
              "      padding: 0 0 0 0;\n",
              "      width: 32px;\n",
              "    }\n",
              "\n",
              "    .colab-df-convert:hover {\n",
              "      background-color: #E2EBFA;\n",
              "      box-shadow: 0px 1px 2px rgba(60, 64, 67, 0.3), 0px 1px 3px 1px rgba(60, 64, 67, 0.15);\n",
              "      fill: #174EA6;\n",
              "    }\n",
              "\n",
              "    [theme=dark] .colab-df-convert {\n",
              "      background-color: #3B4455;\n",
              "      fill: #D2E3FC;\n",
              "    }\n",
              "\n",
              "    [theme=dark] .colab-df-convert:hover {\n",
              "      background-color: #434B5C;\n",
              "      box-shadow: 0px 1px 3px 1px rgba(0, 0, 0, 0.15);\n",
              "      filter: drop-shadow(0px 1px 2px rgba(0, 0, 0, 0.3));\n",
              "      fill: #FFFFFF;\n",
              "    }\n",
              "  </style>\n",
              "\n",
              "      <script>\n",
              "        const buttonEl =\n",
              "          document.querySelector('#df-cea4098f-eb95-45a5-81e5-c2a43c14b3b4 button.colab-df-convert');\n",
              "        buttonEl.style.display =\n",
              "          google.colab.kernel.accessAllowed ? 'block' : 'none';\n",
              "\n",
              "        async function convertToInteractive(key) {\n",
              "          const element = document.querySelector('#df-cea4098f-eb95-45a5-81e5-c2a43c14b3b4');\n",
              "          const dataTable =\n",
              "            await google.colab.kernel.invokeFunction('convertToInteractive',\n",
              "                                                     [key], {});\n",
              "          if (!dataTable) return;\n",
              "\n",
              "          const docLinkHtml = 'Like what you see? Visit the ' +\n",
              "            '<a target=\"_blank\" href=https://colab.research.google.com/notebooks/data_table.ipynb>data table notebook</a>'\n",
              "            + ' to learn more about interactive tables.';\n",
              "          element.innerHTML = '';\n",
              "          dataTable['output_type'] = 'display_data';\n",
              "          await google.colab.output.renderOutput(dataTable, element);\n",
              "          const docLink = document.createElement('div');\n",
              "          docLink.innerHTML = docLinkHtml;\n",
              "          element.appendChild(docLink);\n",
              "        }\n",
              "      </script>\n",
              "    </div>\n",
              "  </div>\n",
              "  "
            ]
          },
          "metadata": {},
          "execution_count": 32
        }
      ]
    },
    {
      "cell_type": "code",
      "source": [
        "x_test_dt.shape"
      ],
      "metadata": {
        "colab": {
          "base_uri": "https://localhost:8080/"
        },
        "id": "Mq47u-c7U_81",
        "outputId": "19953db3-49eb-496f-dc7b-816cee9cc320"
      },
      "execution_count": null,
      "outputs": [
        {
          "output_type": "execute_result",
          "data": {
            "text/plain": [
              "(494, 3000)"
            ]
          },
          "metadata": {},
          "execution_count": 33
        }
      ]
    },
    {
      "cell_type": "code",
      "source": [
        "x_test_dt_rshp=np.array(x_test_dt).reshape(494,3000,1)"
      ],
      "metadata": {
        "id": "ntbZ9IIqVGLv"
      },
      "execution_count": null,
      "outputs": []
    },
    {
      "cell_type": "code",
      "source": [
        "x_test_dt_rshp"
      ],
      "metadata": {
        "colab": {
          "base_uri": "https://localhost:8080/"
        },
        "id": "7m8Qxd6dVM51",
        "outputId": "d423b57a-8eab-45dc-8a85-55524ef11c5a"
      },
      "execution_count": null,
      "outputs": [
        {
          "output_type": "execute_result",
          "data": {
            "text/plain": [
              "array([[[-0.05217595],\n",
              "        [-0.04559741],\n",
              "        [-0.03696307],\n",
              "        ...,\n",
              "        [ 0.13777948],\n",
              "        [ 0.11105415],\n",
              "        [ 0.07857259]],\n",
              "\n",
              "       [[ 0.08061072],\n",
              "        [ 0.07770551],\n",
              "        [ 0.05349543],\n",
              "        ...,\n",
              "        [ 0.08303172],\n",
              "        [ 0.0438114 ],\n",
              "        [ 0.0118541 ]],\n",
              "\n",
              "       [[-0.11306988],\n",
              "        [-0.09273342],\n",
              "        [-0.15519542],\n",
              "        ...,\n",
              "        [-0.00557715],\n",
              "        [-0.05980772],\n",
              "        [-0.09031241]],\n",
              "\n",
              "       ...,\n",
              "\n",
              "       [[ 0.01689875],\n",
              "        [ 0.04732451],\n",
              "        [ 0.06253739],\n",
              "        ...,\n",
              "        [-0.00777079],\n",
              "        [-0.01969439],\n",
              "        [-0.02545062]],\n",
              "\n",
              "       [[ 0.31087739],\n",
              "        [ 0.33184649],\n",
              "        [ 0.35158212],\n",
              "        ...,\n",
              "        [ 0.06171507],\n",
              "        [ 0.02800004],\n",
              "        [ 0.02018802]],\n",
              "\n",
              "       [[-0.02494521],\n",
              "        [-0.00799816],\n",
              "        [-0.03705025],\n",
              "        ...,\n",
              "        [ 0.05010602],\n",
              "        [ 0.0123383 ],\n",
              "        [ 0.02299074]]])"
            ]
          },
          "metadata": {},
          "execution_count": 35
        }
      ]
    },
    {
      "cell_type": "code",
      "source": [
        "accuracy_teacher_model_40_epochs = teacher_40_epochs.evaluate(x_test_dt_rshp, y_test_dt_)"
      ],
      "metadata": {
        "id": "cT3JPqj5T7xC"
      },
      "execution_count": null,
      "outputs": []
    },
    {
      "cell_type": "markdown",
      "source": [
        "Training the teacher model for 50 epochs wrt to the transfer set, majority voted labels, x_sub_train, tri-trained labels"
      ],
      "metadata": {
        "id": "UT4ksl55bqqV"
      }
    },
    {
      "cell_type": "code",
      "source": [
        "checkpoint_teacher_model_50_epochs = \"/content/gdrive/My Drive/physionet/ensemble/tri_training/50_epochs_keras_way/teacher_50_epochs_keras_way_wts_trial_3.ckpt\""
      ],
      "metadata": {
        "id": "oS3fPBLIFKRG"
      },
      "execution_count": null,
      "outputs": []
    },
    {
      "cell_type": "code",
      "source": [
        "checkpoint_teacher_model_50_epochs_dir = os.path.dirname(checkpoint_teacher_model_50_epochs)"
      ],
      "metadata": {
        "id": "Nt26p3OxcCK_"
      },
      "execution_count": null,
      "outputs": []
    },
    {
      "cell_type": "code",
      "source": [
        "cp_callback_teacher_model_50_epochs = tensorflow.keras.callbacks.ModelCheckpoint(\n",
        "    filepath=checkpoint_teacher_model_50_epochs,\n",
        "    monitor='accuracy', \n",
        "    verbose=1, \n",
        "    save_weights_only=True,\n",
        "    mode = 'max',\n",
        "    period=50)"
      ],
      "metadata": {
        "colab": {
          "base_uri": "https://localhost:8080/"
        },
        "id": "PhBJpJ1fcXk8",
        "outputId": "d6c7d71a-7a6b-4686-9dd2-50d7fc755242"
      },
      "execution_count": null,
      "outputs": [
        {
          "output_type": "stream",
          "name": "stdout",
          "text": [
            "WARNING:tensorflow:`period` argument is deprecated. Please use `save_freq` to specify the frequency in number of batches seen.\n"
          ]
        }
      ]
    },
    {
      "cell_type": "code",
      "source": [
        "teacher_50_epochs=model_b(verbose=VBS)"
      ],
      "metadata": {
        "colab": {
          "base_uri": "https://localhost:8080/"
        },
        "id": "W6TRZJzigSq2",
        "outputId": "c3f9e20b-eeb9-408f-f046-ab424591890f"
      },
      "execution_count": null,
      "outputs": [
        {
          "output_type": "stream",
          "name": "stdout",
          "text": [
            "Model: \"model\"\n",
            "__________________________________________________________________________________________________\n",
            " Layer (type)                   Output Shape         Param #     Connected to                     \n",
            "==================================================================================================\n",
            " inLayer (InputLayer)           [(None, 3000, 1)]    0           []                               \n",
            "                                                                                                  \n",
            " fConv1 (Conv1D)                (None, 500, 64)      3264        ['inLayer[0][0]']                \n",
            "                                                                                                  \n",
            " cConv1 (Conv1D)                (None, 60, 32)       12832       ['inLayer[0][0]']                \n",
            "                                                                                                  \n",
            " fMaxP1 (MaxPooling1D)          (None, 62, 64)       0           ['fConv1[0][0]']                 \n",
            "                                                                                                  \n",
            " cMaxP1 (MaxPooling1D)          (None, 15, 32)       0           ['cConv1[0][0]']                 \n",
            "                                                                                                  \n",
            " fDrop1 (Dropout)               (None, 62, 64)       0           ['fMaxP1[0][0]']                 \n",
            "                                                                                                  \n",
            " cDrop1 (Dropout)               (None, 15, 32)       0           ['cMaxP1[0][0]']                 \n",
            "                                                                                                  \n",
            " fConv2 (Conv1D)                (None, 62, 128)      65664       ['fDrop1[0][0]']                 \n",
            "                                                                                                  \n",
            " cConv2 (Conv1D)                (None, 15, 128)      24704       ['cDrop1[0][0]']                 \n",
            "                                                                                                  \n",
            " fConv3 (Conv1D)                (None, 62, 128)      131200      ['fConv2[0][0]']                 \n",
            "                                                                                                  \n",
            " cConv3 (Conv1D)                (None, 15, 128)      98432       ['cConv2[0][0]']                 \n",
            "                                                                                                  \n",
            " fConv4 (Conv1D)                (None, 62, 128)      131200      ['fConv3[0][0]']                 \n",
            "                                                                                                  \n",
            " cConv4 (Conv1D)                (None, 15, 128)      98432       ['cConv3[0][0]']                 \n",
            "                                                                                                  \n",
            " fMaxP2 (MaxPooling1D)          (None, 15, 128)      0           ['fConv4[0][0]']                 \n",
            "                                                                                                  \n",
            " cMaxP2 (MaxPooling1D)          (None, 7, 128)       0           ['cConv4[0][0]']                 \n",
            "                                                                                                  \n",
            " fFlat1 (Flatten)               (None, 1920)         0           ['fMaxP2[0][0]']                 \n",
            "                                                                                                  \n",
            " cFlat1 (Flatten)               (None, 896)          0           ['cMaxP2[0][0]']                 \n",
            "                                                                                                  \n",
            " merge_1 (Concatenate)          (None, 2816)         0           ['fFlat1[0][0]',                 \n",
            "                                                                  'cFlat1[0][0]']                 \n",
            "                                                                                                  \n",
            " mDrop1 (Dropout)               (None, 2816)         0           ['merge_1[0][0]']                \n",
            "                                                                                                  \n",
            " reshape1 (Reshape)             (None, 1, 2816)      0           ['mDrop1[0][0]']                 \n",
            "                                                                                                  \n",
            " lstm (LSTM)                    (None, 1, 64)        737536      ['reshape1[0][0]']               \n",
            "                                                                                                  \n",
            " lstm_1 (LSTM)                  (None, 64)           33024       ['lstm[0][0]']                   \n",
            "                                                                                                  \n",
            " outLayer (Dense)               (None, 5)            325         ['lstm_1[0][0]']                 \n",
            "                                                                                                  \n",
            "==================================================================================================\n",
            "Total params: 1,336,613\n",
            "Trainable params: 1,336,613\n",
            "Non-trainable params: 0\n",
            "__________________________________________________________________________________________________\n"
          ]
        }
      ]
    },
    {
      "cell_type": "code",
      "source": [
        "teacher_50_epochs.compile(optimizer=optimizer, loss='categorical_crossentropy', metrics=['accuracy'])"
      ],
      "metadata": {
        "id": "8sJC-6k3gWN4"
      },
      "execution_count": null,
      "outputs": []
    },
    {
      "cell_type": "code",
      "source": [
        "teacher_50_epochs.fit(x_dt_rshp, y_dt_, epochs=50, callbacks=[cp_callback_teacher_model_50_epochs])"
      ],
      "metadata": {
        "id": "pDJOS5pQcgHq",
        "colab": {
          "base_uri": "https://localhost:8080/"
        },
        "outputId": "6dcf3d3f-7757-41f0-a235-55189d3190f2"
      },
      "execution_count": null,
      "outputs": [
        {
          "output_type": "stream",
          "name": "stdout",
          "text": [
            "Epoch 1/50\n",
            "3710/3710 [==============================] - 45s 8ms/step - loss: 0.6735 - accuracy: 0.7279\n",
            "Epoch 2/50\n",
            "3710/3710 [==============================] - 29s 8ms/step - loss: 0.3984 - accuracy: 0.8429\n",
            "Epoch 3/50\n",
            "3710/3710 [==============================] - 29s 8ms/step - loss: 0.3292 - accuracy: 0.8698\n",
            "Epoch 4/50\n",
            "3710/3710 [==============================] - 29s 8ms/step - loss: 0.2855 - accuracy: 0.8873\n",
            "Epoch 5/50\n",
            "3710/3710 [==============================] - 29s 8ms/step - loss: 0.2528 - accuracy: 0.9008\n",
            "Epoch 6/50\n",
            "3710/3710 [==============================] - 29s 8ms/step - loss: 0.2304 - accuracy: 0.9086\n",
            "Epoch 7/50\n",
            "3710/3710 [==============================] - 29s 8ms/step - loss: 0.2127 - accuracy: 0.9166\n",
            "Epoch 8/50\n",
            "3710/3710 [==============================] - 29s 8ms/step - loss: 0.1971 - accuracy: 0.9217\n",
            "Epoch 9/50\n",
            "3710/3710 [==============================] - 29s 8ms/step - loss: 0.1884 - accuracy: 0.9254\n",
            "Epoch 10/50\n",
            "3710/3710 [==============================] - 29s 8ms/step - loss: 0.1786 - accuracy: 0.9285\n",
            "Epoch 11/50\n",
            "3710/3710 [==============================] - 30s 8ms/step - loss: 0.1683 - accuracy: 0.9327\n",
            "Epoch 12/50\n",
            "3710/3710 [==============================] - 29s 8ms/step - loss: 0.1625 - accuracy: 0.9357\n",
            "Epoch 13/50\n",
            "3710/3710 [==============================] - 30s 8ms/step - loss: 0.1576 - accuracy: 0.9371\n",
            "Epoch 14/50\n",
            "3710/3710 [==============================] - 29s 8ms/step - loss: 0.1537 - accuracy: 0.9395\n",
            "Epoch 15/50\n",
            "3710/3710 [==============================] - 29s 8ms/step - loss: 0.1477 - accuracy: 0.9414\n",
            "Epoch 16/50\n",
            "3710/3710 [==============================] - 29s 8ms/step - loss: 0.1445 - accuracy: 0.9429\n",
            "Epoch 17/50\n",
            "3710/3710 [==============================] - 30s 8ms/step - loss: 0.1392 - accuracy: 0.9445\n",
            "Epoch 18/50\n",
            "3710/3710 [==============================] - 30s 8ms/step - loss: 0.1356 - accuracy: 0.9458\n",
            "Epoch 19/50\n",
            "3710/3710 [==============================] - 30s 8ms/step - loss: 0.1343 - accuracy: 0.9470\n",
            "Epoch 20/50\n",
            "3710/3710 [==============================] - 29s 8ms/step - loss: 0.1305 - accuracy: 0.9485\n",
            "Epoch 21/50\n",
            "3710/3710 [==============================] - 29s 8ms/step - loss: 0.1263 - accuracy: 0.9507\n",
            "Epoch 22/50\n",
            "3710/3710 [==============================] - 29s 8ms/step - loss: 0.1241 - accuracy: 0.9511\n",
            "Epoch 23/50\n",
            "3710/3710 [==============================] - 29s 8ms/step - loss: 0.1210 - accuracy: 0.9520\n",
            "Epoch 24/50\n",
            "3710/3710 [==============================] - 29s 8ms/step - loss: 0.1195 - accuracy: 0.9528\n",
            "Epoch 25/50\n",
            "3710/3710 [==============================] - 29s 8ms/step - loss: 0.1157 - accuracy: 0.9550\n",
            "Epoch 26/50\n",
            "3710/3710 [==============================] - 29s 8ms/step - loss: 0.1130 - accuracy: 0.9555\n",
            "Epoch 27/50\n",
            "3710/3710 [==============================] - 30s 8ms/step - loss: 0.1116 - accuracy: 0.9565\n",
            "Epoch 28/50\n",
            "3710/3710 [==============================] - 29s 8ms/step - loss: 0.1101 - accuracy: 0.9568\n",
            "Epoch 29/50\n",
            "3710/3710 [==============================] - 29s 8ms/step - loss: 0.1059 - accuracy: 0.9590\n",
            "Epoch 30/50\n",
            "3710/3710 [==============================] - 29s 8ms/step - loss: 0.1034 - accuracy: 0.9594\n",
            "Epoch 31/50\n",
            "3710/3710 [==============================] - 29s 8ms/step - loss: 0.1014 - accuracy: 0.9607\n",
            "Epoch 32/50\n",
            "3710/3710 [==============================] - 29s 8ms/step - loss: 0.1009 - accuracy: 0.9611\n",
            "Epoch 33/50\n",
            "3710/3710 [==============================] - 29s 8ms/step - loss: 0.0985 - accuracy: 0.9622\n",
            "Epoch 34/50\n",
            "3710/3710 [==============================] - 29s 8ms/step - loss: 0.0970 - accuracy: 0.9627\n",
            "Epoch 35/50\n",
            "3710/3710 [==============================] - 29s 8ms/step - loss: 0.0959 - accuracy: 0.9629\n",
            "Epoch 36/50\n",
            "3710/3710 [==============================] - 29s 8ms/step - loss: 0.0932 - accuracy: 0.9636\n",
            "Epoch 37/50\n",
            "3710/3710 [==============================] - 29s 8ms/step - loss: 0.0922 - accuracy: 0.9647\n",
            "Epoch 38/50\n",
            "3710/3710 [==============================] - 29s 8ms/step - loss: 0.0894 - accuracy: 0.9654\n",
            "Epoch 39/50\n",
            "3710/3710 [==============================] - 29s 8ms/step - loss: 0.0874 - accuracy: 0.9661\n",
            "Epoch 40/50\n",
            "3710/3710 [==============================] - 29s 8ms/step - loss: 0.0874 - accuracy: 0.9661\n",
            "Epoch 41/50\n",
            "3710/3710 [==============================] - 29s 8ms/step - loss: 0.0859 - accuracy: 0.9669\n",
            "Epoch 42/50\n",
            "3710/3710 [==============================] - 29s 8ms/step - loss: 0.0843 - accuracy: 0.9678\n",
            "Epoch 43/50\n",
            "3710/3710 [==============================] - 30s 8ms/step - loss: 0.0828 - accuracy: 0.9680\n",
            "Epoch 44/50\n",
            "3710/3710 [==============================] - 29s 8ms/step - loss: 0.0801 - accuracy: 0.9691\n",
            "Epoch 45/50\n",
            "3710/3710 [==============================] - 29s 8ms/step - loss: 0.0807 - accuracy: 0.9693\n",
            "Epoch 46/50\n",
            "3710/3710 [==============================] - 29s 8ms/step - loss: 0.0778 - accuracy: 0.9700\n",
            "Epoch 47/50\n",
            "3710/3710 [==============================] - 29s 8ms/step - loss: 0.0775 - accuracy: 0.9708\n",
            "Epoch 48/50\n",
            "3710/3710 [==============================] - 29s 8ms/step - loss: 0.0768 - accuracy: 0.9709\n",
            "Epoch 49/50\n",
            "3710/3710 [==============================] - 29s 8ms/step - loss: 0.0759 - accuracy: 0.9711\n",
            "Epoch 50/50\n",
            "3708/3710 [============================>.] - ETA: 0s - loss: 0.0746 - accuracy: 0.9718\n",
            "Epoch 50: saving model to /content/gdrive/My Drive/physionet/ensemble/tri_training/50_epochs_keras_way/teacher_50_epochs_keras_way_wts_trial_3.ckpt\n",
            "3710/3710 [==============================] - 30s 8ms/step - loss: 0.0746 - accuracy: 0.9718\n"
          ]
        },
        {
          "output_type": "execute_result",
          "data": {
            "text/plain": [
              "<keras.callbacks.History at 0x7facb1c24790>"
            ]
          },
          "metadata": {},
          "execution_count": 36
        }
      ]
    },
    {
      "cell_type": "code",
      "source": [
        "latest_teacher_50_epochs=tensorflow.train.latest_checkpoint(checkpoint_teacher_model_50_epochs_dir)"
      ],
      "metadata": {
        "id": "qkU2UceKcgYe"
      },
      "execution_count": null,
      "outputs": []
    },
    {
      "cell_type": "code",
      "source": [
        "accuracy_teacher_model_50_epochs = teacher_50_epochs.evaluate(x_test_dt_rshp, y_test_dt_)"
      ],
      "metadata": {
        "colab": {
          "base_uri": "https://localhost:8080/"
        },
        "id": "G3peC8-Bcyfb",
        "outputId": "18c24279-000a-4f6b-872f-9bf2d7b30ac4"
      },
      "execution_count": null,
      "outputs": [
        {
          "output_type": "stream",
          "name": "stdout",
          "text": [
            "16/16 [==============================] - 1s 8ms/step - loss: 1.7669 - accuracy: 0.7166\n"
          ]
        }
      ]
    },
    {
      "cell_type": "markdown",
      "source": [
        "Training the teacher model for 60 epochs wrt to the transfer set, majority voted labels, x_sub_train, tri-trained labels"
      ],
      "metadata": {
        "id": "D3b-p6meod22"
      }
    },
    {
      "cell_type": "code",
      "source": [
        "checkpoint_teacher_model_60_epochs = \"/content/gdrive/My Drive/physionet/ensemble/tri_training/60_epochs_keras_way/teacher_60_epochs_keras_way_wts_trial_3.ckpt\""
      ],
      "metadata": {
        "id": "ud4BWnIrcy4W"
      },
      "execution_count": null,
      "outputs": []
    },
    {
      "cell_type": "code",
      "source": [
        "checkpoint_teacher_model_60_epochs_dir = os.path.dirname(checkpoint_teacher_model_60_epochs)"
      ],
      "metadata": {
        "id": "n7R-hMAoczAq"
      },
      "execution_count": null,
      "outputs": []
    },
    {
      "cell_type": "code",
      "source": [
        "cp_callback_teacher_model_60_epochs = tensorflow.keras.callbacks.ModelCheckpoint(\n",
        "    filepath=checkpoint_teacher_model_60_epochs,\n",
        "    monitor='accuracy', \n",
        "    verbose=1, \n",
        "    save_weights_only=True,\n",
        "    mode = 'max',\n",
        "    period=60)"
      ],
      "metadata": {
        "id": "YQ_ioC5EownV",
        "colab": {
          "base_uri": "https://localhost:8080/"
        },
        "outputId": "45df3a28-b186-420e-d1fd-f9152525adaa"
      },
      "execution_count": null,
      "outputs": [
        {
          "output_type": "stream",
          "name": "stdout",
          "text": [
            "WARNING:tensorflow:`period` argument is deprecated. Please use `save_freq` to specify the frequency in number of batches seen.\n"
          ]
        }
      ]
    },
    {
      "cell_type": "code",
      "source": [
        "teacher_60_epochs=model_b(verbose=VBS)"
      ],
      "metadata": {
        "id": "b5Nd2k5Fowqa",
        "colab": {
          "base_uri": "https://localhost:8080/"
        },
        "outputId": "86810961-fd3f-4916-dc8b-220f747f7bfc"
      },
      "execution_count": null,
      "outputs": [
        {
          "output_type": "stream",
          "name": "stdout",
          "text": [
            "Model: \"model\"\n",
            "__________________________________________________________________________________________________\n",
            " Layer (type)                   Output Shape         Param #     Connected to                     \n",
            "==================================================================================================\n",
            " inLayer (InputLayer)           [(None, 3000, 1)]    0           []                               \n",
            "                                                                                                  \n",
            " fConv1 (Conv1D)                (None, 500, 64)      3264        ['inLayer[0][0]']                \n",
            "                                                                                                  \n",
            " cConv1 (Conv1D)                (None, 60, 32)       12832       ['inLayer[0][0]']                \n",
            "                                                                                                  \n",
            " fMaxP1 (MaxPooling1D)          (None, 62, 64)       0           ['fConv1[0][0]']                 \n",
            "                                                                                                  \n",
            " cMaxP1 (MaxPooling1D)          (None, 15, 32)       0           ['cConv1[0][0]']                 \n",
            "                                                                                                  \n",
            " fDrop1 (Dropout)               (None, 62, 64)       0           ['fMaxP1[0][0]']                 \n",
            "                                                                                                  \n",
            " cDrop1 (Dropout)               (None, 15, 32)       0           ['cMaxP1[0][0]']                 \n",
            "                                                                                                  \n",
            " fConv2 (Conv1D)                (None, 62, 128)      65664       ['fDrop1[0][0]']                 \n",
            "                                                                                                  \n",
            " cConv2 (Conv1D)                (None, 15, 128)      24704       ['cDrop1[0][0]']                 \n",
            "                                                                                                  \n",
            " fConv3 (Conv1D)                (None, 62, 128)      131200      ['fConv2[0][0]']                 \n",
            "                                                                                                  \n",
            " cConv3 (Conv1D)                (None, 15, 128)      98432       ['cConv2[0][0]']                 \n",
            "                                                                                                  \n",
            " fConv4 (Conv1D)                (None, 62, 128)      131200      ['fConv3[0][0]']                 \n",
            "                                                                                                  \n",
            " cConv4 (Conv1D)                (None, 15, 128)      98432       ['cConv3[0][0]']                 \n",
            "                                                                                                  \n",
            " fMaxP2 (MaxPooling1D)          (None, 15, 128)      0           ['fConv4[0][0]']                 \n",
            "                                                                                                  \n",
            " cMaxP2 (MaxPooling1D)          (None, 7, 128)       0           ['cConv4[0][0]']                 \n",
            "                                                                                                  \n",
            " fFlat1 (Flatten)               (None, 1920)         0           ['fMaxP2[0][0]']                 \n",
            "                                                                                                  \n",
            " cFlat1 (Flatten)               (None, 896)          0           ['cMaxP2[0][0]']                 \n",
            "                                                                                                  \n",
            " merge_1 (Concatenate)          (None, 2816)         0           ['fFlat1[0][0]',                 \n",
            "                                                                  'cFlat1[0][0]']                 \n",
            "                                                                                                  \n",
            " mDrop1 (Dropout)               (None, 2816)         0           ['merge_1[0][0]']                \n",
            "                                                                                                  \n",
            " reshape1 (Reshape)             (None, 1, 2816)      0           ['mDrop1[0][0]']                 \n",
            "                                                                                                  \n",
            " lstm (LSTM)                    (None, 1, 64)        737536      ['reshape1[0][0]']               \n",
            "                                                                                                  \n",
            " lstm_1 (LSTM)                  (None, 64)           33024       ['lstm[0][0]']                   \n",
            "                                                                                                  \n",
            " outLayer (Dense)               (None, 5)            325         ['lstm_1[0][0]']                 \n",
            "                                                                                                  \n",
            "==================================================================================================\n",
            "Total params: 1,336,613\n",
            "Trainable params: 1,336,613\n",
            "Non-trainable params: 0\n",
            "__________________________________________________________________________________________________\n"
          ]
        }
      ]
    },
    {
      "cell_type": "code",
      "source": [
        "teacher_60_epochs.compile(optimizer=optimizer, loss='categorical_crossentropy', metrics=['accuracy'])"
      ],
      "metadata": {
        "id": "t7QlyJqco8Oa"
      },
      "execution_count": null,
      "outputs": []
    },
    {
      "cell_type": "code",
      "source": [
        "teacher_60_epochs.fit(x_dt_rshp, y_dt_, epochs=60, callbacks=[cp_callback_teacher_model_60_epochs])"
      ],
      "metadata": {
        "id": "rDX4Zg3-o9w0",
        "colab": {
          "base_uri": "https://localhost:8080/"
        },
        "outputId": "dae94922-3869-4e49-b16b-5ecf6dd10699"
      },
      "execution_count": null,
      "outputs": [
        {
          "output_type": "stream",
          "name": "stdout",
          "text": [
            "Epoch 1/60\n",
            "3710/3710 [==============================] - 46s 8ms/step - loss: 0.6720 - accuracy: 0.7300\n",
            "Epoch 2/60\n",
            "3710/3710 [==============================] - 31s 8ms/step - loss: 0.3961 - accuracy: 0.8441\n",
            "Epoch 3/60\n",
            "3710/3710 [==============================] - 30s 8ms/step - loss: 0.3273 - accuracy: 0.8702\n",
            "Epoch 4/60\n",
            "3710/3710 [==============================] - 30s 8ms/step - loss: 0.2835 - accuracy: 0.8878\n",
            "Epoch 5/60\n",
            "3710/3710 [==============================] - 30s 8ms/step - loss: 0.2507 - accuracy: 0.9013\n",
            "Epoch 6/60\n",
            "3710/3710 [==============================] - 30s 8ms/step - loss: 0.2278 - accuracy: 0.9098\n",
            "Epoch 7/60\n",
            "3710/3710 [==============================] - 29s 8ms/step - loss: 0.2114 - accuracy: 0.9168\n",
            "Epoch 8/60\n",
            "3710/3710 [==============================] - 30s 8ms/step - loss: 0.1963 - accuracy: 0.9223\n",
            "Epoch 9/60\n",
            "3710/3710 [==============================] - 30s 8ms/step - loss: 0.1882 - accuracy: 0.9251\n",
            "Epoch 10/60\n",
            "3710/3710 [==============================] - 30s 8ms/step - loss: 0.1780 - accuracy: 0.9285\n",
            "Epoch 11/60\n",
            "3710/3710 [==============================] - 30s 8ms/step - loss: 0.1668 - accuracy: 0.9339\n",
            "Epoch 12/60\n",
            "3710/3710 [==============================] - 30s 8ms/step - loss: 0.1616 - accuracy: 0.9360\n",
            "Epoch 13/60\n",
            "3710/3710 [==============================] - 30s 8ms/step - loss: 0.1563 - accuracy: 0.9373\n",
            "Epoch 14/60\n",
            "3710/3710 [==============================] - 30s 8ms/step - loss: 0.1527 - accuracy: 0.9384\n",
            "Epoch 15/60\n",
            "3710/3710 [==============================] - 30s 8ms/step - loss: 0.1468 - accuracy: 0.9413\n",
            "Epoch 16/60\n",
            "3710/3710 [==============================] - 30s 8ms/step - loss: 0.1437 - accuracy: 0.9426\n",
            "Epoch 17/60\n",
            "3710/3710 [==============================] - 30s 8ms/step - loss: 0.1400 - accuracy: 0.9440\n",
            "Epoch 18/60\n",
            "3710/3710 [==============================] - 30s 8ms/step - loss: 0.1359 - accuracy: 0.9463\n",
            "Epoch 19/60\n",
            "3710/3710 [==============================] - 30s 8ms/step - loss: 0.1334 - accuracy: 0.9468\n",
            "Epoch 20/60\n",
            "3710/3710 [==============================] - 30s 8ms/step - loss: 0.1299 - accuracy: 0.9483\n",
            "Epoch 21/60\n",
            "3710/3710 [==============================] - 29s 8ms/step - loss: 0.1275 - accuracy: 0.9494\n",
            "Epoch 22/60\n",
            "3710/3710 [==============================] - 30s 8ms/step - loss: 0.1233 - accuracy: 0.9517\n",
            "Epoch 23/60\n",
            "3710/3710 [==============================] - 30s 8ms/step - loss: 0.1202 - accuracy: 0.9523\n",
            "Epoch 24/60\n",
            "3710/3710 [==============================] - 30s 8ms/step - loss: 0.1192 - accuracy: 0.9536\n",
            "Epoch 25/60\n",
            "3710/3710 [==============================] - 30s 8ms/step - loss: 0.1156 - accuracy: 0.9543\n",
            "Epoch 26/60\n",
            "3710/3710 [==============================] - 30s 8ms/step - loss: 0.1132 - accuracy: 0.9560\n",
            "Epoch 27/60\n",
            "3710/3710 [==============================] - 30s 8ms/step - loss: 0.1115 - accuracy: 0.9561\n",
            "Epoch 28/60\n",
            "3710/3710 [==============================] - 30s 8ms/step - loss: 0.1103 - accuracy: 0.9573\n",
            "Epoch 29/60\n",
            "3710/3710 [==============================] - 30s 8ms/step - loss: 0.1063 - accuracy: 0.9586\n",
            "Epoch 30/60\n",
            "3710/3710 [==============================] - 30s 8ms/step - loss: 0.1048 - accuracy: 0.9584\n",
            "Epoch 31/60\n",
            "3710/3710 [==============================] - 30s 8ms/step - loss: 0.1024 - accuracy: 0.9602\n",
            "Epoch 32/60\n",
            "3710/3710 [==============================] - 30s 8ms/step - loss: 0.1007 - accuracy: 0.9605\n",
            "Epoch 33/60\n",
            "3710/3710 [==============================] - 30s 8ms/step - loss: 0.0985 - accuracy: 0.9615\n",
            "Epoch 34/60\n",
            "3710/3710 [==============================] - 30s 8ms/step - loss: 0.0971 - accuracy: 0.9619\n",
            "Epoch 35/60\n",
            "3710/3710 [==============================] - 30s 8ms/step - loss: 0.0947 - accuracy: 0.9634\n",
            "Epoch 36/60\n",
            "3710/3710 [==============================] - 30s 8ms/step - loss: 0.0930 - accuracy: 0.9640\n",
            "Epoch 37/60\n",
            "3710/3710 [==============================] - 29s 8ms/step - loss: 0.0940 - accuracy: 0.9637\n",
            "Epoch 38/60\n",
            "3710/3710 [==============================] - 30s 8ms/step - loss: 0.0902 - accuracy: 0.9654\n",
            "Epoch 39/60\n",
            "3710/3710 [==============================] - 30s 8ms/step - loss: 0.0899 - accuracy: 0.9656\n",
            "Epoch 40/60\n",
            "3710/3710 [==============================] - 30s 8ms/step - loss: 0.0880 - accuracy: 0.9658\n",
            "Epoch 41/60\n",
            "3710/3710 [==============================] - 30s 8ms/step - loss: 0.0868 - accuracy: 0.9664\n",
            "Epoch 42/60\n",
            "3710/3710 [==============================] - 31s 8ms/step - loss: 0.0840 - accuracy: 0.9678\n",
            "Epoch 43/60\n",
            "3710/3710 [==============================] - 30s 8ms/step - loss: 0.0823 - accuracy: 0.9681\n",
            "Epoch 44/60\n",
            "3710/3710 [==============================] - 30s 8ms/step - loss: 0.0827 - accuracy: 0.9689\n",
            "Epoch 45/60\n",
            "3710/3710 [==============================] - 30s 8ms/step - loss: 0.0813 - accuracy: 0.9687\n",
            "Epoch 46/60\n",
            "3710/3710 [==============================] - 30s 8ms/step - loss: 0.0775 - accuracy: 0.9709\n",
            "Epoch 47/60\n",
            "3710/3710 [==============================] - 30s 8ms/step - loss: 0.0771 - accuracy: 0.9708\n",
            "Epoch 48/60\n",
            "3710/3710 [==============================] - 30s 8ms/step - loss: 0.0775 - accuracy: 0.9696\n",
            "Epoch 49/60\n",
            "3710/3710 [==============================] - 30s 8ms/step - loss: 0.0761 - accuracy: 0.9713\n",
            "Epoch 50/60\n",
            "3710/3710 [==============================] - 30s 8ms/step - loss: 0.0746 - accuracy: 0.9715\n",
            "Epoch 51/60\n",
            "3710/3710 [==============================] - 29s 8ms/step - loss: 0.0745 - accuracy: 0.9716\n",
            "Epoch 52/60\n",
            "3710/3710 [==============================] - 30s 8ms/step - loss: 0.0730 - accuracy: 0.9720\n",
            "Epoch 53/60\n",
            "3710/3710 [==============================] - 30s 8ms/step - loss: 0.0716 - accuracy: 0.9722\n",
            "Epoch 54/60\n",
            "3710/3710 [==============================] - 31s 8ms/step - loss: 0.0717 - accuracy: 0.9726\n",
            "Epoch 55/60\n",
            "3710/3710 [==============================] - 30s 8ms/step - loss: 0.0693 - accuracy: 0.9733\n",
            "Epoch 56/60\n",
            "3710/3710 [==============================] - 30s 8ms/step - loss: 0.0676 - accuracy: 0.9743\n",
            "Epoch 57/60\n",
            "3710/3710 [==============================] - 30s 8ms/step - loss: 0.0674 - accuracy: 0.9749\n",
            "Epoch 58/60\n",
            "3710/3710 [==============================] - 30s 8ms/step - loss: 0.0659 - accuracy: 0.9748\n",
            "Epoch 59/60\n",
            "3710/3710 [==============================] - 30s 8ms/step - loss: 0.0651 - accuracy: 0.9752\n",
            "Epoch 60/60\n",
            "3707/3710 [============================>.] - ETA: 0s - loss: 0.0647 - accuracy: 0.9760\n",
            "Epoch 60: saving model to /content/gdrive/My Drive/physionet/ensemble/tri_training/60_epochs_keras_way/teacher_60_epochs_keras_way_wts_trial_3.ckpt\n",
            "3710/3710 [==============================] - 30s 8ms/step - loss: 0.0647 - accuracy: 0.9760\n"
          ]
        },
        {
          "output_type": "execute_result",
          "data": {
            "text/plain": [
              "<keras.callbacks.History at 0x7f983f46a910>"
            ]
          },
          "metadata": {},
          "execution_count": 36
        }
      ]
    },
    {
      "cell_type": "code",
      "source": [
        "latest_teacher_60_epochs=tensorflow.train.latest_checkpoint(checkpoint_teacher_model_60_epochs_dir)"
      ],
      "metadata": {
        "id": "af-n5ZunpEZf"
      },
      "execution_count": null,
      "outputs": []
    },
    {
      "cell_type": "code",
      "source": [
        "accuracy_teacher_model_60_epochs = teacher_60_epochs.evaluate(x_test_dt_rshp, y_test_dt_)"
      ],
      "metadata": {
        "id": "U4fYa-mYpEfI",
        "colab": {
          "base_uri": "https://localhost:8080/"
        },
        "outputId": "3dd7f529-265b-4d71-96d8-c288bc0c2603"
      },
      "execution_count": null,
      "outputs": [
        {
          "output_type": "stream",
          "name": "stdout",
          "text": [
            "16/16 [==============================] - 1s 9ms/step - loss: 1.7056 - accuracy: 0.7267\n"
          ]
        }
      ]
    },
    {
      "cell_type": "markdown",
      "source": [
        "training the teacher model for 70 epochs wrt to the transfer set, majority voted labels, x_sub_train, tri-trained labels"
      ],
      "metadata": {
        "id": "5J_8fY8NIOtk"
      }
    },
    {
      "cell_type": "code",
      "source": [
        "checkpoint_teacher_model_70_epochs = \"/content/gdrive/My Drive/physionet/ensemble/tri_training/70_epochs_keras_way/teacher_70_epochs_keras_way_wts_trial_3.ckpt\""
      ],
      "metadata": {
        "id": "QrzqoQjiei4D"
      },
      "execution_count": null,
      "outputs": []
    },
    {
      "cell_type": "code",
      "source": [
        "checkpoint_teacher_model_70_epochs_dir = os.path.dirname(checkpoint_teacher_model_70_epochs)"
      ],
      "metadata": {
        "id": "fBDWpkTEIhhF"
      },
      "execution_count": null,
      "outputs": []
    },
    {
      "cell_type": "code",
      "source": [
        "cp_callback_teacher_model_70_epochs = tensorflow.keras.callbacks.ModelCheckpoint(\n",
        "    filepath=checkpoint_teacher_model_70_epochs,\n",
        "    monitor='accuracy', \n",
        "    verbose=1, \n",
        "    save_weights_only=True,\n",
        "    mode = 'max',\n",
        "    period=70)"
      ],
      "metadata": {
        "colab": {
          "base_uri": "https://localhost:8080/"
        },
        "id": "1VuR4WG-IhjS",
        "outputId": "cc81a41d-94fd-4f6c-ee60-e76b26649cc9"
      },
      "execution_count": null,
      "outputs": [
        {
          "output_type": "stream",
          "name": "stdout",
          "text": [
            "WARNING:tensorflow:`period` argument is deprecated. Please use `save_freq` to specify the frequency in number of batches seen.\n"
          ]
        }
      ]
    },
    {
      "cell_type": "code",
      "source": [
        "teacher_70_epochs=model_b(verbose=VBS)"
      ],
      "metadata": {
        "colab": {
          "base_uri": "https://localhost:8080/"
        },
        "id": "td5wsiHIIhlt",
        "outputId": "2b5cdea1-fa02-4c43-a8ae-11a7a0b645b8"
      },
      "execution_count": null,
      "outputs": [
        {
          "output_type": "stream",
          "name": "stdout",
          "text": [
            "Model: \"model\"\n",
            "__________________________________________________________________________________________________\n",
            " Layer (type)                   Output Shape         Param #     Connected to                     \n",
            "==================================================================================================\n",
            " inLayer (InputLayer)           [(None, 3000, 1)]    0           []                               \n",
            "                                                                                                  \n",
            " fConv1 (Conv1D)                (None, 500, 64)      3264        ['inLayer[0][0]']                \n",
            "                                                                                                  \n",
            " cConv1 (Conv1D)                (None, 60, 32)       12832       ['inLayer[0][0]']                \n",
            "                                                                                                  \n",
            " fMaxP1 (MaxPooling1D)          (None, 62, 64)       0           ['fConv1[0][0]']                 \n",
            "                                                                                                  \n",
            " cMaxP1 (MaxPooling1D)          (None, 15, 32)       0           ['cConv1[0][0]']                 \n",
            "                                                                                                  \n",
            " fDrop1 (Dropout)               (None, 62, 64)       0           ['fMaxP1[0][0]']                 \n",
            "                                                                                                  \n",
            " cDrop1 (Dropout)               (None, 15, 32)       0           ['cMaxP1[0][0]']                 \n",
            "                                                                                                  \n",
            " fConv2 (Conv1D)                (None, 62, 128)      65664       ['fDrop1[0][0]']                 \n",
            "                                                                                                  \n",
            " cConv2 (Conv1D)                (None, 15, 128)      24704       ['cDrop1[0][0]']                 \n",
            "                                                                                                  \n",
            " fConv3 (Conv1D)                (None, 62, 128)      131200      ['fConv2[0][0]']                 \n",
            "                                                                                                  \n",
            " cConv3 (Conv1D)                (None, 15, 128)      98432       ['cConv2[0][0]']                 \n",
            "                                                                                                  \n",
            " fConv4 (Conv1D)                (None, 62, 128)      131200      ['fConv3[0][0]']                 \n",
            "                                                                                                  \n",
            " cConv4 (Conv1D)                (None, 15, 128)      98432       ['cConv3[0][0]']                 \n",
            "                                                                                                  \n",
            " fMaxP2 (MaxPooling1D)          (None, 15, 128)      0           ['fConv4[0][0]']                 \n",
            "                                                                                                  \n",
            " cMaxP2 (MaxPooling1D)          (None, 7, 128)       0           ['cConv4[0][0]']                 \n",
            "                                                                                                  \n",
            " fFlat1 (Flatten)               (None, 1920)         0           ['fMaxP2[0][0]']                 \n",
            "                                                                                                  \n",
            " cFlat1 (Flatten)               (None, 896)          0           ['cMaxP2[0][0]']                 \n",
            "                                                                                                  \n",
            " merge_1 (Concatenate)          (None, 2816)         0           ['fFlat1[0][0]',                 \n",
            "                                                                  'cFlat1[0][0]']                 \n",
            "                                                                                                  \n",
            " mDrop1 (Dropout)               (None, 2816)         0           ['merge_1[0][0]']                \n",
            "                                                                                                  \n",
            " reshape1 (Reshape)             (None, 1, 2816)      0           ['mDrop1[0][0]']                 \n",
            "                                                                                                  \n",
            " lstm (LSTM)                    (None, 1, 64)        737536      ['reshape1[0][0]']               \n",
            "                                                                                                  \n",
            " lstm_1 (LSTM)                  (None, 64)           33024       ['lstm[0][0]']                   \n",
            "                                                                                                  \n",
            " outLayer (Dense)               (None, 5)            325         ['lstm_1[0][0]']                 \n",
            "                                                                                                  \n",
            "==================================================================================================\n",
            "Total params: 1,336,613\n",
            "Trainable params: 1,336,613\n",
            "Non-trainable params: 0\n",
            "__________________________________________________________________________________________________\n"
          ]
        }
      ]
    },
    {
      "cell_type": "code",
      "source": [
        "teacher_70_epochs.compile(optimizer=optimizer, loss='categorical_crossentropy', metrics=['accuracy'])"
      ],
      "metadata": {
        "id": "LSWLtLBaIhu-"
      },
      "execution_count": null,
      "outputs": []
    },
    {
      "cell_type": "code",
      "source": [
        "teacher_70_epochs.fit(x_dt_rshp, y_dt_, epochs=70, callbacks=[cp_callback_teacher_model_70_epochs])"
      ],
      "metadata": {
        "colab": {
          "base_uri": "https://localhost:8080/"
        },
        "id": "ia4LU1G_JQXd",
        "outputId": "8fbbc757-922d-46c5-c5c8-48e531e03e18"
      },
      "execution_count": null,
      "outputs": [
        {
          "output_type": "stream",
          "name": "stdout",
          "text": [
            "Epoch 1/70\n",
            "3710/3710 [==============================] - 46s 8ms/step - loss: 0.6721 - accuracy: 0.7297\n",
            "Epoch 2/70\n",
            "3710/3710 [==============================] - 29s 8ms/step - loss: 0.3964 - accuracy: 0.8443\n",
            "Epoch 3/70\n",
            "3710/3710 [==============================] - 28s 8ms/step - loss: 0.3269 - accuracy: 0.8704\n",
            "Epoch 4/70\n",
            "3710/3710 [==============================] - 28s 8ms/step - loss: 0.2868 - accuracy: 0.8865\n",
            "Epoch 5/70\n",
            "3710/3710 [==============================] - 28s 8ms/step - loss: 0.2535 - accuracy: 0.9005\n",
            "Epoch 6/70\n",
            "3710/3710 [==============================] - 29s 8ms/step - loss: 0.2306 - accuracy: 0.9088\n",
            "Epoch 7/70\n",
            "3710/3710 [==============================] - 28s 8ms/step - loss: 0.2125 - accuracy: 0.9161\n",
            "Epoch 8/70\n",
            "3710/3710 [==============================] - 29s 8ms/step - loss: 0.1984 - accuracy: 0.9214\n",
            "Epoch 9/70\n",
            "3710/3710 [==============================] - 29s 8ms/step - loss: 0.1901 - accuracy: 0.9248\n",
            "Epoch 10/70\n",
            "3710/3710 [==============================] - 29s 8ms/step - loss: 0.1798 - accuracy: 0.9276\n",
            "Epoch 11/70\n",
            "3710/3710 [==============================] - 30s 8ms/step - loss: 0.1696 - accuracy: 0.9324\n",
            "Epoch 12/70\n",
            "3710/3710 [==============================] - 30s 8ms/step - loss: 0.1632 - accuracy: 0.9355\n",
            "Epoch 13/70\n",
            "3710/3710 [==============================] - 30s 8ms/step - loss: 0.1570 - accuracy: 0.9377\n",
            "Epoch 14/70\n",
            "3710/3710 [==============================] - 30s 8ms/step - loss: 0.1534 - accuracy: 0.9395\n",
            "Epoch 15/70\n",
            "3710/3710 [==============================] - 30s 8ms/step - loss: 0.1469 - accuracy: 0.9416\n",
            "Epoch 16/70\n",
            "3710/3710 [==============================] - 30s 8ms/step - loss: 0.1448 - accuracy: 0.9430\n",
            "Epoch 17/70\n",
            "3710/3710 [==============================] - 30s 8ms/step - loss: 0.1398 - accuracy: 0.9448\n",
            "Epoch 18/70\n",
            "3710/3710 [==============================] - 29s 8ms/step - loss: 0.1360 - accuracy: 0.9459\n",
            "Epoch 19/70\n",
            "3710/3710 [==============================] - 29s 8ms/step - loss: 0.1339 - accuracy: 0.9472\n",
            "Epoch 20/70\n",
            "3710/3710 [==============================] - 29s 8ms/step - loss: 0.1305 - accuracy: 0.9477\n",
            "Epoch 21/70\n",
            "3710/3710 [==============================] - 29s 8ms/step - loss: 0.1267 - accuracy: 0.9500\n",
            "Epoch 22/70\n",
            "3710/3710 [==============================] - 29s 8ms/step - loss: 0.1232 - accuracy: 0.9513\n",
            "Epoch 23/70\n",
            "3710/3710 [==============================] - 29s 8ms/step - loss: 0.1218 - accuracy: 0.9519\n",
            "Epoch 24/70\n",
            "3710/3710 [==============================] - 29s 8ms/step - loss: 0.1189 - accuracy: 0.9530\n",
            "Epoch 25/70\n",
            "3710/3710 [==============================] - 29s 8ms/step - loss: 0.1160 - accuracy: 0.9539\n",
            "Epoch 26/70\n",
            "3710/3710 [==============================] - 29s 8ms/step - loss: 0.1137 - accuracy: 0.9554\n",
            "Epoch 27/70\n",
            "3710/3710 [==============================] - 29s 8ms/step - loss: 0.1123 - accuracy: 0.9564\n",
            "Epoch 28/70\n",
            "3710/3710 [==============================] - 29s 8ms/step - loss: 0.1103 - accuracy: 0.9570\n",
            "Epoch 29/70\n",
            "3710/3710 [==============================] - 29s 8ms/step - loss: 0.1059 - accuracy: 0.9590\n",
            "Epoch 30/70\n",
            "3710/3710 [==============================] - 30s 8ms/step - loss: 0.1045 - accuracy: 0.9593\n",
            "Epoch 31/70\n",
            "3710/3710 [==============================] - 29s 8ms/step - loss: 0.1032 - accuracy: 0.9597\n",
            "Epoch 32/70\n",
            "3710/3710 [==============================] - 29s 8ms/step - loss: 0.1004 - accuracy: 0.9609\n",
            "Epoch 33/70\n",
            "3710/3710 [==============================] - 29s 8ms/step - loss: 0.0992 - accuracy: 0.9611\n",
            "Epoch 34/70\n",
            "3710/3710 [==============================] - 29s 8ms/step - loss: 0.0966 - accuracy: 0.9621\n",
            "Epoch 35/70\n",
            "3710/3710 [==============================] - 29s 8ms/step - loss: 0.0956 - accuracy: 0.9628\n",
            "Epoch 36/70\n",
            "3710/3710 [==============================] - 29s 8ms/step - loss: 0.0924 - accuracy: 0.9641\n",
            "Epoch 37/70\n",
            "3710/3710 [==============================] - 29s 8ms/step - loss: 0.0917 - accuracy: 0.9648\n",
            "Epoch 38/70\n",
            "3710/3710 [==============================] - 29s 8ms/step - loss: 0.0893 - accuracy: 0.9659\n",
            "Epoch 39/70\n",
            "3710/3710 [==============================] - 29s 8ms/step - loss: 0.0894 - accuracy: 0.9654\n",
            "Epoch 40/70\n",
            "3710/3710 [==============================] - 29s 8ms/step - loss: 0.0874 - accuracy: 0.9660\n",
            "Epoch 41/70\n",
            "3710/3710 [==============================] - 29s 8ms/step - loss: 0.0872 - accuracy: 0.9666\n",
            "Epoch 42/70\n",
            "3710/3710 [==============================] - 29s 8ms/step - loss: 0.0841 - accuracy: 0.9680\n",
            "Epoch 43/70\n",
            "3710/3710 [==============================] - 29s 8ms/step - loss: 0.0827 - accuracy: 0.9679\n",
            "Epoch 44/70\n",
            "3710/3710 [==============================] - 30s 8ms/step - loss: 0.0811 - accuracy: 0.9687\n",
            "Epoch 45/70\n",
            "3710/3710 [==============================] - 29s 8ms/step - loss: 0.0823 - accuracy: 0.9689\n",
            "Epoch 46/70\n",
            "3710/3710 [==============================] - 29s 8ms/step - loss: 0.0786 - accuracy: 0.9700\n",
            "Epoch 47/70\n",
            "3710/3710 [==============================] - 29s 8ms/step - loss: 0.0780 - accuracy: 0.9703\n",
            "Epoch 48/70\n",
            "3710/3710 [==============================] - 29s 8ms/step - loss: 0.0762 - accuracy: 0.9704\n",
            "Epoch 49/70\n",
            "3710/3710 [==============================] - 28s 8ms/step - loss: 0.0757 - accuracy: 0.9709\n",
            "Epoch 50/70\n",
            "3710/3710 [==============================] - 29s 8ms/step - loss: 0.0745 - accuracy: 0.9713\n",
            "Epoch 51/70\n",
            "3710/3710 [==============================] - 28s 8ms/step - loss: 0.0732 - accuracy: 0.9727\n",
            "Epoch 52/70\n",
            "3710/3710 [==============================] - 29s 8ms/step - loss: 0.0727 - accuracy: 0.9725\n",
            "Epoch 53/70\n",
            "3710/3710 [==============================] - 29s 8ms/step - loss: 0.0718 - accuracy: 0.9727\n",
            "Epoch 54/70\n",
            "3710/3710 [==============================] - 29s 8ms/step - loss: 0.0706 - accuracy: 0.9728\n",
            "Epoch 55/70\n",
            "3710/3710 [==============================] - 29s 8ms/step - loss: 0.0695 - accuracy: 0.9729\n",
            "Epoch 56/70\n",
            "3710/3710 [==============================] - 29s 8ms/step - loss: 0.0682 - accuracy: 0.9741\n",
            "Epoch 57/70\n",
            "3710/3710 [==============================] - 29s 8ms/step - loss: 0.0669 - accuracy: 0.9749\n",
            "Epoch 58/70\n",
            "3710/3710 [==============================] - 29s 8ms/step - loss: 0.0668 - accuracy: 0.9749\n",
            "Epoch 59/70\n",
            "3710/3710 [==============================] - 29s 8ms/step - loss: 0.0657 - accuracy: 0.9748\n",
            "Epoch 60/70\n",
            "3710/3710 [==============================] - 28s 8ms/step - loss: 0.0649 - accuracy: 0.9755\n",
            "Epoch 61/70\n",
            "3710/3710 [==============================] - 29s 8ms/step - loss: 0.0649 - accuracy: 0.9752\n",
            "Epoch 62/70\n",
            "3710/3710 [==============================] - 29s 8ms/step - loss: 0.0635 - accuracy: 0.9759\n",
            "Epoch 63/70\n",
            "3710/3710 [==============================] - 29s 8ms/step - loss: 0.0629 - accuracy: 0.9764\n",
            "Epoch 64/70\n",
            "3710/3710 [==============================] - 29s 8ms/step - loss: 0.0623 - accuracy: 0.9764\n",
            "Epoch 65/70\n",
            "3710/3710 [==============================] - 29s 8ms/step - loss: 0.0612 - accuracy: 0.9769\n",
            "Epoch 66/70\n",
            "3710/3710 [==============================] - 29s 8ms/step - loss: 0.0600 - accuracy: 0.9774\n",
            "Epoch 67/70\n",
            "3710/3710 [==============================] - 29s 8ms/step - loss: 0.0593 - accuracy: 0.9774\n",
            "Epoch 68/70\n",
            "3710/3710 [==============================] - 29s 8ms/step - loss: 0.0593 - accuracy: 0.9776\n",
            "Epoch 69/70\n",
            "3710/3710 [==============================] - 29s 8ms/step - loss: 0.0576 - accuracy: 0.9786\n",
            "Epoch 70/70\n",
            "3704/3710 [============================>.] - ETA: 0s - loss: 0.0572 - accuracy: 0.9786\n",
            "Epoch 70: saving model to /content/gdrive/My Drive/physionet/ensemble/tri_training/70_epochs_keras_way/teacher_70_epochs_keras_way_wts_trial_3.ckpt\n",
            "3710/3710 [==============================] - 30s 8ms/step - loss: 0.0572 - accuracy: 0.9786\n"
          ]
        },
        {
          "output_type": "execute_result",
          "data": {
            "text/plain": [
              "<keras.callbacks.History at 0x7f3a55133ad0>"
            ]
          },
          "metadata": {},
          "execution_count": 32
        }
      ]
    },
    {
      "cell_type": "code",
      "source": [
        "latest_teacher_70_epochs=tensorflow.train.latest_checkpoint(checkpoint_teacher_model_70_epochs_dir)"
      ],
      "metadata": {
        "id": "Mh7HwQGEI8LE"
      },
      "execution_count": null,
      "outputs": []
    },
    {
      "cell_type": "code",
      "source": [
        "accuracy_teacher_model_70_epochs = teacher_70_epochs.evaluate(x_test_dt_rshp, y_test_dt_)"
      ],
      "metadata": {
        "colab": {
          "base_uri": "https://localhost:8080/"
        },
        "id": "0hCa7-TaJC1T",
        "outputId": "db182a71-beeb-41e1-df83-6e01443d427a"
      },
      "execution_count": null,
      "outputs": [
        {
          "output_type": "stream",
          "name": "stdout",
          "text": [
            "16/16 [==============================] - 1s 9ms/step - loss: 1.7825 - accuracy: 0.7227\n"
          ]
        }
      ]
    },
    {
      "cell_type": "markdown",
      "source": [
        "Trial 2:\n",
        "\n",
        "Loss diff: 40 epochs - 50 epochs: 0.0879-0.0736--> 0.0143\n",
        "\n",
        "Loss diff: 50 eochs - 60 epochs: 0.0736 - 0.0647 ---> 0.0089\n",
        "\n",
        "Loss diff: 60 epochs: 70 epochs: 0.0647 - 0.0588 --> 0.0059"
      ],
      "metadata": {
        "id": "01XS4_ftwwuq"
      }
    },
    {
      "cell_type": "markdown",
      "source": [
        "Trial 1\n",
        "\n",
        "KD using the 50 epochs teacher model, finalized the teacher with 60 epochs student model: alpha: 0.9, temp: 5\n",
        "\n",
        "Trial 2\n",
        "\n",
        "KD using the 60 epochs teacher model, finalized the teacher with 70 epochs student model: alpha: 0.9, temp: 5\n",
        "\n",
        "Trial 3\n",
        "\n",
        "KD using the  epochs teacher model, finalized the teacher with  epochs, student model: alpha: 0.9, temp: 5"
      ],
      "metadata": {
        "id": "Yo8thb7--Ps8"
      }
    },
    {
      "cell_type": "markdown",
      "source": [
        "KD with 40 epochs"
      ],
      "metadata": {
        "id": "dGSjDmYO3SCD"
      }
    },
    {
      "cell_type": "code",
      "source": [
        "teacher_model=model_b(verbose=VBS) #40 epochs teacher model"
      ],
      "metadata": {
        "colab": {
          "base_uri": "https://localhost:8080/"
        },
        "id": "_ySEY_3H97av",
        "outputId": "5f9ede9e-5982-4358-dd89-45d433c8a831"
      },
      "execution_count": null,
      "outputs": [
        {
          "output_type": "stream",
          "name": "stdout",
          "text": [
            "Model: \"model\"\n",
            "__________________________________________________________________________________________________\n",
            " Layer (type)                   Output Shape         Param #     Connected to                     \n",
            "==================================================================================================\n",
            " inLayer (InputLayer)           [(None, 3000, 1)]    0           []                               \n",
            "                                                                                                  \n",
            " fConv1 (Conv1D)                (None, 500, 64)      3264        ['inLayer[0][0]']                \n",
            "                                                                                                  \n",
            " cConv1 (Conv1D)                (None, 60, 32)       12832       ['inLayer[0][0]']                \n",
            "                                                                                                  \n",
            " fMaxP1 (MaxPooling1D)          (None, 62, 64)       0           ['fConv1[0][0]']                 \n",
            "                                                                                                  \n",
            " cMaxP1 (MaxPooling1D)          (None, 15, 32)       0           ['cConv1[0][0]']                 \n",
            "                                                                                                  \n",
            " fDrop1 (Dropout)               (None, 62, 64)       0           ['fMaxP1[0][0]']                 \n",
            "                                                                                                  \n",
            " cDrop1 (Dropout)               (None, 15, 32)       0           ['cMaxP1[0][0]']                 \n",
            "                                                                                                  \n",
            " fConv2 (Conv1D)                (None, 62, 128)      65664       ['fDrop1[0][0]']                 \n",
            "                                                                                                  \n",
            " cConv2 (Conv1D)                (None, 15, 128)      24704       ['cDrop1[0][0]']                 \n",
            "                                                                                                  \n",
            " fConv3 (Conv1D)                (None, 62, 128)      131200      ['fConv2[0][0]']                 \n",
            "                                                                                                  \n",
            " cConv3 (Conv1D)                (None, 15, 128)      98432       ['cConv2[0][0]']                 \n",
            "                                                                                                  \n",
            " fConv4 (Conv1D)                (None, 62, 128)      131200      ['fConv3[0][0]']                 \n",
            "                                                                                                  \n",
            " cConv4 (Conv1D)                (None, 15, 128)      98432       ['cConv3[0][0]']                 \n",
            "                                                                                                  \n",
            " fMaxP2 (MaxPooling1D)          (None, 15, 128)      0           ['fConv4[0][0]']                 \n",
            "                                                                                                  \n",
            " cMaxP2 (MaxPooling1D)          (None, 7, 128)       0           ['cConv4[0][0]']                 \n",
            "                                                                                                  \n",
            " fFlat1 (Flatten)               (None, 1920)         0           ['fMaxP2[0][0]']                 \n",
            "                                                                                                  \n",
            " cFlat1 (Flatten)               (None, 896)          0           ['cMaxP2[0][0]']                 \n",
            "                                                                                                  \n",
            " merge_1 (Concatenate)          (None, 2816)         0           ['fFlat1[0][0]',                 \n",
            "                                                                  'cFlat1[0][0]']                 \n",
            "                                                                                                  \n",
            " mDrop1 (Dropout)               (None, 2816)         0           ['merge_1[0][0]']                \n",
            "                                                                                                  \n",
            " reshape1 (Reshape)             (None, 1, 2816)      0           ['mDrop1[0][0]']                 \n",
            "                                                                                                  \n",
            " lstm (LSTM)                    (None, 1, 64)        737536      ['reshape1[0][0]']               \n",
            "                                                                                                  \n",
            " lstm_1 (LSTM)                  (None, 64)           33024       ['lstm[0][0]']                   \n",
            "                                                                                                  \n",
            " outLayer (Dense)               (None, 5)            325         ['lstm_1[0][0]']                 \n",
            "                                                                                                  \n",
            "==================================================================================================\n",
            "Total params: 1,336,613\n",
            "Trainable params: 1,336,613\n",
            "Non-trainable params: 0\n",
            "__________________________________________________________________________________________________\n"
          ]
        }
      ]
    },
    {
      "cell_type": "code",
      "source": [
        "teacher_checkpt_path=\"/content/gdrive/My Drive/physionet/ensemble/tri_training/40_epochs_keras_way/teacher_40_epochs_keras_way_wts_trial_3.ckpt\"\n",
        "teacher_model.load_weights(teacher_checkpt_path)"
      ],
      "metadata": {
        "colab": {
          "base_uri": "https://localhost:8080/"
        },
        "id": "XGYIvJM7_u1b",
        "outputId": "c01566de-737d-4ec2-fc9f-2c9e1364e820"
      },
      "execution_count": null,
      "outputs": [
        {
          "output_type": "execute_result",
          "data": {
            "text/plain": [
              "<tensorflow.python.training.tracking.util.CheckpointLoadStatus at 0x7efe252c9d90>"
            ]
          },
          "metadata": {},
          "execution_count": 32
        }
      ]
    },
    {
      "cell_type": "code",
      "source": [
        "from keras.layers import Input, Dense, LSTM, MaxPooling1D, Conv1D\n",
        "from keras.models import Model"
      ],
      "metadata": {
        "id": "WRiIVK51_HcR"
      },
      "execution_count": null,
      "outputs": []
    },
    {
      "cell_type": "code",
      "source": [
        "teacher_model.compile(optimizer=optimizer, loss='categorical_crossentropy', metrics=['accuracy'])"
      ],
      "metadata": {
        "id": "1uiHElwVACnO"
      },
      "execution_count": null,
      "outputs": []
    },
    {
      "cell_type": "code",
      "source": [
        "accuracy_teacher_model = teacher_model.evaluate(x_test_dt_rshp, y_test_dt_)"
      ],
      "metadata": {
        "colab": {
          "base_uri": "https://localhost:8080/"
        },
        "id": "QdT83AOVAGk2",
        "outputId": "5bd6417c-def4-4a78-d476-ae245b642354"
      },
      "execution_count": null,
      "outputs": [
        {
          "output_type": "stream",
          "name": "stdout",
          "text": [
            "16/16 [==============================] - 12s 9ms/step - loss: 1.5973 - accuracy: 0.7287\n"
          ]
        }
      ]
    },
    {
      "cell_type": "code",
      "source": [
        "preds_teacher_model = teacher_model.predict(x_test_dt_rshp)"
      ],
      "metadata": {
        "id": "QMFYsOt07jC5"
      },
      "execution_count": null,
      "outputs": []
    },
    {
      "cell_type": "code",
      "source": [
        "preds_teacher_model_fin=np.argmax(preds_teacher_model,axis=1)"
      ],
      "metadata": {
        "id": "Ta1e6ZZw7tyn"
      },
      "execution_count": null,
      "outputs": []
    },
    {
      "cell_type": "code",
      "source": [
        "from sklearn.metrics import confusion_matrix\n",
        "matrix_teacher = confusion_matrix(y_test_dt, preds_teacher_model_fin)\n",
        "matrix_teacher.diagonal()/matrix_teacher.sum(axis=1)"
      ],
      "metadata": {
        "colab": {
          "base_uri": "https://localhost:8080/"
        },
        "id": "ufMXZzgHVvLH",
        "outputId": "94006cf1-b3c4-4cba-8ad3-7b157ed52e9b"
      },
      "execution_count": null,
      "outputs": [
        {
          "output_type": "execute_result",
          "data": {
            "text/plain": [
              "array([0.64285714, 0.11392405, 0.94713656, 0.4       , 0.92982456])"
            ]
          },
          "metadata": {},
          "execution_count": 38
        }
      ]
    },
    {
      "cell_type": "code",
      "source": [
        "#y_sub_dt\n",
        "from sklearn.metrics import precision_score, recall_score\n",
        "f1_teacher = f1_score(y_test_dt, preds_teacher_model_fin, average=\"macro\")\n",
        "prec_teacher = precision_score(y_test_dt, preds_teacher_model_fin, average=\"macro\")\n",
        "recall_teacher = recall_score(y_test_dt, preds_teacher_model_fin, average=\"macro\")\n",
        "if VBS:\n",
        "    print(\"Precision: {}\".format(prec_teacher)) \n",
        "    print(\"Recall: {}\".format(recall_teacher))\n",
        "    print(\"F1 score: {}\".format(f1_teacher))\n",
        "\n",
        "    report_teacher = classification_report(y_test_dt, preds_teacher_model_fin, digits=6)\n",
        "    print(report_teacher)"
      ],
      "metadata": {
        "colab": {
          "base_uri": "https://localhost:8080/"
        },
        "id": "D2U231NqWQqs",
        "outputId": "1b953575-5f23-4378-8d81-885fee3a3dae"
      },
      "execution_count": null,
      "outputs": [
        {
          "output_type": "stream",
          "name": "stdout",
          "text": [
            "Precision: 0.6020413318771114\n",
            "Recall: 0.606748463754043\n",
            "F1 score: 0.5849502897257989\n",
            "              precision    recall  f1-score   support\n",
            "\n",
            "           0   0.941860  0.642857  0.764151       126\n",
            "           1   0.195652  0.113924  0.144000        79\n",
            "           2   0.820611  0.947137  0.879346       227\n",
            "           3   0.500000  0.400000  0.444444         5\n",
            "           4   0.552083  0.929825  0.692810        57\n",
            "\n",
            "    accuracy                       0.728745       494\n",
            "   macro avg   0.602041  0.606748  0.584950       494\n",
            "weighted avg   0.717365  0.728745  0.706443       494\n",
            "\n"
          ]
        }
      ]
    },
    {
      "cell_type": "code",
      "source": [
        "#student model\n",
        "def get_model_1d_cnn():\n",
        "    nclass = 5\n",
        "    inp = Input(shape=(3000, 1))\n",
        "    img_1 = Conv1D(4, kernel_size=6, activation=activations.relu, strides=1, padding=\"valid\")(inp)\n",
        "    #img_1 = Conv1D(128, kernel_size=5, activation=activations.relu, strides=1, padding=\"valid\")(img_1)\n",
        "    img_1 = MaxPooling1D(pool_size=2)(img_1)\n",
        "    #img_1 = SpatialDropout1D(rate=0.2)(img_1)\n",
        "    img_1 = Conv1D(4, kernel_size=5, activation=activations.relu, strides=1, padding=\"valid\")(img_1)\n",
        "    #img_1 = Conv1D(256, kernel_size=7, activation=activations.relu, strides=1, padding=\"valid\")(img_1)\n",
        "    img_1 = MaxPooling1D(pool_size=2)(img_1)\n",
        "    #img_1 = SpatialDropout1D(rate=0.01)(img_1)\n",
        "    img_1 = Conv1D(10, kernel_size=4, activation=activations.relu, strides=1, padding=\"valid\")(img_1)\n",
        "    #img_1 = Conv1D(64, kernel_size=4, activation=activations.relu, strides=1, padding=\"valid\")(img_1)\n",
        "    img_1 = MaxPooling1D(pool_size=2)(img_1)\n",
        "    #img_1 = SpatialDropout1D(rate=0.01)(img_1)\n",
        "    img_1 = Conv1D(10, kernel_size=4, activation=activations.relu, strides=1, padding=\"valid\")(img_1)\n",
        "    img_1 = MaxPooling1D(pool_size=2)(img_1)\n",
        "    #img_1 = Conv1D(64, kernel_size=6, activation=activations.relu, strides=1, padding=\"valid\")(img_1)\n",
        "    #img_1 = MaxPooling1D(pool_size=2)(img_1)\n",
        "    img_1 = Flatten()(img_1)\n",
        "\n",
        "    \n",
        "    dense_1 = Dropout(rate=0.5)(img_1)\n",
        "    #dense_1 = Dropout(rate=0.05)(Dense(64, activation=activations.relu, name=\"dense_2\")(dense_1))\n",
        "    dense_1 = Dense(nclass, activation=activations.softmax)(dense_1)\n",
        "\n",
        "    model = Model(inputs=inp, outputs=dense_1)\n",
        "    opt = Adam(0.001)\n",
        "\n",
        "    model.compile(optimizer=opt, loss='categorical_crossentropy', metrics=['acc'])\n",
        "    model.summary()\n",
        "    return model"
      ],
      "metadata": {
        "id": "TkEJ9sVn_VOf"
      },
      "execution_count": null,
      "outputs": []
    },
    {
      "cell_type": "code",
      "source": [
        "#student_model=get_model_cnn()\n",
        "student_model=get_model_1d_cnn()"
      ],
      "metadata": {
        "colab": {
          "base_uri": "https://localhost:8080/"
        },
        "id": "3J4RBEGN_ZiJ",
        "outputId": "93b1ada2-027d-4bc2-e41e-1064f4b8b066"
      },
      "execution_count": null,
      "outputs": [
        {
          "output_type": "stream",
          "name": "stdout",
          "text": [
            "Model: \"model_1\"\n",
            "_________________________________________________________________\n",
            " Layer (type)                Output Shape              Param #   \n",
            "=================================================================\n",
            " input_1 (InputLayer)        [(None, 3000, 1)]         0         \n",
            "                                                                 \n",
            " conv1d (Conv1D)             (None, 2995, 4)           28        \n",
            "                                                                 \n",
            " max_pooling1d (MaxPooling1D  (None, 1497, 4)          0         \n",
            " )                                                               \n",
            "                                                                 \n",
            " conv1d_1 (Conv1D)           (None, 1493, 4)           84        \n",
            "                                                                 \n",
            " max_pooling1d_1 (MaxPooling  (None, 746, 4)           0         \n",
            " 1D)                                                             \n",
            "                                                                 \n",
            " conv1d_2 (Conv1D)           (None, 743, 10)           170       \n",
            "                                                                 \n",
            " max_pooling1d_2 (MaxPooling  (None, 371, 10)          0         \n",
            " 1D)                                                             \n",
            "                                                                 \n",
            " conv1d_3 (Conv1D)           (None, 368, 10)           410       \n",
            "                                                                 \n",
            " max_pooling1d_3 (MaxPooling  (None, 184, 10)          0         \n",
            " 1D)                                                             \n",
            "                                                                 \n",
            " flatten (Flatten)           (None, 1840)              0         \n",
            "                                                                 \n",
            " dropout (Dropout)           (None, 1840)              0         \n",
            "                                                                 \n",
            " dense (Dense)               (None, 5)                 9205      \n",
            "                                                                 \n",
            "=================================================================\n",
            "Total params: 9,897\n",
            "Trainable params: 9,897\n",
            "Non-trainable params: 0\n",
            "_________________________________________________________________\n"
          ]
        }
      ]
    },
    {
      "cell_type": "code",
      "source": [
        "class Distiller(keras.Model):\n",
        "    def __init__(self, student, teacher):\n",
        "        super(Distiller, self).__init__()\n",
        "        self.teacher = teacher\n",
        "        self.student = student\n",
        "\n",
        "    def compile(\n",
        "        self,\n",
        "        optimizer,\n",
        "        metrics,\n",
        "        student_loss_fn,\n",
        "        distillation_loss_fn,\n",
        "        alpha=0.1,\n",
        "        temperature=3,\n",
        "    ):\n",
        "        \"\"\" Configure the distiller.\n",
        "\n",
        "        Args:\n",
        "            optimizer: Keras optimizer for the student weights\n",
        "            metrics: Keras metrics for evaluation\n",
        "            student_loss_fn: Loss function of difference between student\n",
        "                predictions and ground-truth\n",
        "            distillation_loss_fn: Loss function of difference between soft\n",
        "                student predictions and soft teacher predictions\n",
        "            alpha: weight to student_loss_fn and 1-alpha to distillation_loss_fn\n",
        "            temperature: Temperature for softening probability distributions.\n",
        "                Larger temperature gives softer distributions.\n",
        "        \"\"\"\n",
        "        super(Distiller, self).compile(optimizer=optimizer, metrics=metrics)\n",
        "        self.student_loss_fn = student_loss_fn\n",
        "        self.distillation_loss_fn = distillation_loss_fn\n",
        "        self.alpha = alpha\n",
        "        self.temperature = temperature\n",
        "\n",
        "    def train_step(self, data):\n",
        "        # Unpack data\n",
        "        x, y = data\n",
        "\n",
        "        # Forward pass of teacher\n",
        "        teacher_predictions = self.teacher(x, training=False)\n",
        "\n",
        "        with tf.GradientTape() as tape:\n",
        "            # Forward pass of student\n",
        "            student_predictions = self.student(x, training=True)\n",
        "\n",
        "            # Compute losses\n",
        "            student_loss = self.student_loss_fn(y, student_predictions)\n",
        "            distillation_loss = self.distillation_loss_fn(\n",
        "                tf.nn.softmax(teacher_predictions / self.temperature, axis=1),\n",
        "                tf.nn.softmax(student_predictions / self.temperature, axis=1),\n",
        "            )\n",
        "            loss = self.alpha * student_loss + (1 - self.alpha) * distillation_loss\n",
        "\n",
        "        # Compute gradients\n",
        "        trainable_vars = self.student.trainable_variables\n",
        "        gradients = tape.gradient(loss, trainable_vars)\n",
        "\n",
        "        # Update weights\n",
        "        self.optimizer.apply_gradients(zip(gradients, trainable_vars))\n",
        "\n",
        "        # Update the metrics configured in `compile()`.\n",
        "        self.compiled_metrics.update_state(y, student_predictions)\n",
        "\n",
        "        # Return a dict of performance\n",
        "        results = {m.name: m.result() for m in self.metrics}\n",
        "        results.update(\n",
        "            {\"student_loss\": student_loss, \"distillation_loss\": distillation_loss}\n",
        "        )\n",
        "        return results\n",
        "\n",
        "    def test_step(self, data):\n",
        "        # Unpack the data\n",
        "        x, y = data\n",
        "\n",
        "        # Compute predictions\n",
        "        y_prediction = self.student(x, training=False)\n",
        "\n",
        "        # Calculate the loss\n",
        "        student_loss = self.student_loss_fn(y, y_prediction)\n",
        "\n",
        "        # Update the metrics.\n",
        "        self.compiled_metrics.update_state(y, y_prediction)\n",
        "\n",
        "        # Return a dict of performance\n",
        "        results = {m.name: m.result() for m in self.metrics}\n",
        "        results.update({\"student_loss\": student_loss})\n",
        "        return results\n"
      ],
      "metadata": {
        "id": "G0sX0Geo_dX6"
      },
      "execution_count": null,
      "outputs": []
    },
    {
      "cell_type": "code",
      "source": [
        "import tensorflow as tf\n",
        "from tensorflow import keras\n",
        "from tensorflow.keras import layers\n",
        "import numpy as np\n"
      ],
      "metadata": {
        "id": "0Ib38_K-AcPO"
      },
      "execution_count": null,
      "outputs": []
    },
    {
      "cell_type": "code",
      "source": [
        "# Initialize and compile distiller\n",
        "distiller = Distiller(student=student_model, teacher=teacher_model)\n",
        "distiller.compile(\n",
        "    optimizer=keras.optimizers.Adam(),\n",
        "    metrics=[keras.metrics.CategoricalAccuracy()],\n",
        "    student_loss_fn=keras.losses.CategoricalCrossentropy(from_logits=True),\n",
        "    distillation_loss_fn=keras.losses.KLDivergence(),\n",
        "    alpha=0.9,\n",
        "    temperature=5,\n",
        ")\n",
        "\n",
        "# Distill teacher to student\n",
        "distiller.fit(x_dt_rshp, y_dt_, epochs=50)\n",
        "\n",
        "# Evaluate student on test dataset\n",
        "#distiller.evaluate(x_test, y_test)"
      ],
      "metadata": {
        "colab": {
          "base_uri": "https://localhost:8080/"
        },
        "id": "ERK-_WZyAg6M",
        "outputId": "2f8297b8-6f07-4bd4-ad5e-25cc2218f888"
      },
      "execution_count": null,
      "outputs": [
        {
          "output_type": "stream",
          "name": "stdout",
          "text": [
            "Epoch 1/50\n",
            "3710/3710 [==============================] - 34s 8ms/step - categorical_accuracy: 0.6979 - student_loss: 0.7379 - distillation_loss: 0.0015\n",
            "Epoch 2/50\n",
            "3710/3710 [==============================] - 30s 8ms/step - categorical_accuracy: 0.7644 - student_loss: 0.5633 - distillation_loss: 0.0012\n",
            "Epoch 3/50\n",
            "3710/3710 [==============================] - 30s 8ms/step - categorical_accuracy: 0.7783 - student_loss: 0.5319 - distillation_loss: 0.0011\n",
            "Epoch 4/50\n",
            "3710/3710 [==============================] - 30s 8ms/step - categorical_accuracy: 0.7870 - student_loss: 0.5144 - distillation_loss: 0.0011\n",
            "Epoch 5/50\n",
            "3710/3710 [==============================] - 30s 8ms/step - categorical_accuracy: 0.7940 - student_loss: 0.4957 - distillation_loss: 0.0010\n",
            "Epoch 6/50\n",
            "3710/3710 [==============================] - 30s 8ms/step - categorical_accuracy: 0.8000 - student_loss: 0.4829 - distillation_loss: 0.0010\n",
            "Epoch 7/50\n",
            "3710/3710 [==============================] - 30s 8ms/step - categorical_accuracy: 0.8069 - student_loss: 0.4707 - distillation_loss: 9.7291e-04\n",
            "Epoch 8/50\n",
            "3710/3710 [==============================] - 30s 8ms/step - categorical_accuracy: 0.8135 - student_loss: 0.4553 - distillation_loss: 9.3408e-04\n",
            "Epoch 9/50\n",
            "3710/3710 [==============================] - 30s 8ms/step - categorical_accuracy: 0.8206 - student_loss: 0.4414 - distillation_loss: 8.9732e-04\n",
            "Epoch 10/50\n",
            "3710/3710 [==============================] - 29s 8ms/step - categorical_accuracy: 0.8280 - student_loss: 0.4263 - distillation_loss: 8.6346e-04\n",
            "Epoch 11/50\n",
            "3710/3710 [==============================] - 30s 8ms/step - categorical_accuracy: 0.8322 - student_loss: 0.4159 - distillation_loss: 8.3858e-04\n",
            "Epoch 12/50\n",
            "3710/3710 [==============================] - 29s 8ms/step - categorical_accuracy: 0.8361 - student_loss: 0.4063 - distillation_loss: 8.1636e-04\n",
            "Epoch 13/50\n",
            "3710/3710 [==============================] - 30s 8ms/step - categorical_accuracy: 0.8419 - student_loss: 0.3946 - distillation_loss: 7.8966e-04\n",
            "Epoch 14/50\n",
            "3710/3710 [==============================] - 30s 8ms/step - categorical_accuracy: 0.8442 - student_loss: 0.3915 - distillation_loss: 7.8145e-04\n",
            "Epoch 15/50\n",
            "3710/3710 [==============================] - 30s 8ms/step - categorical_accuracy: 0.8472 - student_loss: 0.3852 - distillation_loss: 7.7049e-04\n",
            "Epoch 16/50\n",
            "3710/3710 [==============================] - 29s 8ms/step - categorical_accuracy: 0.8464 - student_loss: 0.3816 - distillation_loss: 7.6556e-04\n",
            "Epoch 17/50\n",
            "3710/3710 [==============================] - 29s 8ms/step - categorical_accuracy: 0.8496 - student_loss: 0.3775 - distillation_loss: 7.5222e-04\n",
            "Epoch 18/50\n",
            "3710/3710 [==============================] - 30s 8ms/step - categorical_accuracy: 0.8512 - student_loss: 0.3720 - distillation_loss: 7.4408e-04\n",
            "Epoch 19/50\n",
            "3710/3710 [==============================] - 29s 8ms/step - categorical_accuracy: 0.8534 - student_loss: 0.3692 - distillation_loss: 7.3825e-04\n",
            "Epoch 20/50\n",
            "3710/3710 [==============================] - 30s 8ms/step - categorical_accuracy: 0.8544 - student_loss: 0.3659 - distillation_loss: 7.2967e-04\n",
            "Epoch 21/50\n",
            "3710/3710 [==============================] - 30s 8ms/step - categorical_accuracy: 0.8551 - student_loss: 0.3622 - distillation_loss: 7.2735e-04\n",
            "Epoch 22/50\n",
            "3710/3710 [==============================] - 30s 8ms/step - categorical_accuracy: 0.8570 - student_loss: 0.3613 - distillation_loss: 7.2137e-04\n",
            "Epoch 23/50\n",
            "3710/3710 [==============================] - 30s 8ms/step - categorical_accuracy: 0.8570 - student_loss: 0.3593 - distillation_loss: 7.1995e-04\n",
            "Epoch 24/50\n",
            "3710/3710 [==============================] - 30s 8ms/step - categorical_accuracy: 0.8555 - student_loss: 0.3581 - distillation_loss: 7.1694e-04\n",
            "Epoch 25/50\n",
            "3710/3710 [==============================] - 30s 8ms/step - categorical_accuracy: 0.8589 - student_loss: 0.3554 - distillation_loss: 7.0922e-04\n",
            "Epoch 26/50\n",
            "3710/3710 [==============================] - 29s 8ms/step - categorical_accuracy: 0.8591 - student_loss: 0.3521 - distillation_loss: 7.0483e-04\n",
            "Epoch 27/50\n",
            "3710/3710 [==============================] - 29s 8ms/step - categorical_accuracy: 0.8578 - student_loss: 0.3557 - distillation_loss: 7.1077e-04\n",
            "Epoch 28/50\n",
            "3710/3710 [==============================] - 29s 8ms/step - categorical_accuracy: 0.8586 - student_loss: 0.3531 - distillation_loss: 7.0533e-04\n",
            "Epoch 29/50\n",
            "3710/3710 [==============================] - 29s 8ms/step - categorical_accuracy: 0.8585 - student_loss: 0.3534 - distillation_loss: 7.0721e-04\n",
            "Epoch 30/50\n",
            "3710/3710 [==============================] - 30s 8ms/step - categorical_accuracy: 0.8597 - student_loss: 0.3504 - distillation_loss: 7.0096e-04\n",
            "Epoch 31/50\n",
            "3710/3710 [==============================] - 29s 8ms/step - categorical_accuracy: 0.8594 - student_loss: 0.3505 - distillation_loss: 7.0218e-04\n",
            "Epoch 32/50\n",
            "3710/3710 [==============================] - 30s 8ms/step - categorical_accuracy: 0.8602 - student_loss: 0.3492 - distillation_loss: 6.9911e-04\n",
            "Epoch 33/50\n",
            "3710/3710 [==============================] - 29s 8ms/step - categorical_accuracy: 0.8603 - student_loss: 0.3508 - distillation_loss: 7.0309e-04\n",
            "Epoch 34/50\n",
            "3710/3710 [==============================] - 29s 8ms/step - categorical_accuracy: 0.8623 - student_loss: 0.3456 - distillation_loss: 6.9375e-04\n",
            "Epoch 35/50\n",
            "3710/3710 [==============================] - 29s 8ms/step - categorical_accuracy: 0.8609 - student_loss: 0.3482 - distillation_loss: 6.9609e-04\n",
            "Epoch 36/50\n",
            "3710/3710 [==============================] - 29s 8ms/step - categorical_accuracy: 0.8616 - student_loss: 0.3450 - distillation_loss: 6.9178e-04\n",
            "Epoch 37/50\n",
            "3710/3710 [==============================] - 29s 8ms/step - categorical_accuracy: 0.8621 - student_loss: 0.3466 - distillation_loss: 6.9075e-04\n",
            "Epoch 38/50\n",
            "3710/3710 [==============================] - 29s 8ms/step - categorical_accuracy: 0.8625 - student_loss: 0.3427 - distillation_loss: 6.8812e-04\n",
            "Epoch 39/50\n",
            "3710/3710 [==============================] - 29s 8ms/step - categorical_accuracy: 0.8617 - student_loss: 0.3460 - distillation_loss: 6.9342e-04\n",
            "Epoch 40/50\n",
            "3710/3710 [==============================] - 29s 8ms/step - categorical_accuracy: 0.8632 - student_loss: 0.3431 - distillation_loss: 6.8779e-04\n",
            "Epoch 41/50\n",
            "3710/3710 [==============================] - 29s 8ms/step - categorical_accuracy: 0.8625 - student_loss: 0.3433 - distillation_loss: 6.8730e-04\n",
            "Epoch 42/50\n",
            "3710/3710 [==============================] - 29s 8ms/step - categorical_accuracy: 0.8628 - student_loss: 0.3451 - distillation_loss: 6.9026e-04\n",
            "Epoch 43/50\n",
            "3710/3710 [==============================] - 29s 8ms/step - categorical_accuracy: 0.8624 - student_loss: 0.3432 - distillation_loss: 6.9034e-04\n",
            "Epoch 44/50\n",
            "3710/3710 [==============================] - 29s 8ms/step - categorical_accuracy: 0.8638 - student_loss: 0.3423 - distillation_loss: 6.8675e-04\n",
            "Epoch 45/50\n",
            "3710/3710 [==============================] - 29s 8ms/step - categorical_accuracy: 0.8645 - student_loss: 0.3412 - distillation_loss: 6.8526e-04\n",
            "Epoch 46/50\n",
            "3710/3710 [==============================] - 29s 8ms/step - categorical_accuracy: 0.8647 - student_loss: 0.3390 - distillation_loss: 6.8125e-04\n",
            "Epoch 47/50\n",
            "3710/3710 [==============================] - 29s 8ms/step - categorical_accuracy: 0.8653 - student_loss: 0.3389 - distillation_loss: 6.7673e-04\n",
            "Epoch 48/50\n",
            "3710/3710 [==============================] - 29s 8ms/step - categorical_accuracy: 0.8641 - student_loss: 0.3395 - distillation_loss: 6.8330e-04\n",
            "Epoch 49/50\n",
            "3710/3710 [==============================] - 29s 8ms/step - categorical_accuracy: 0.8635 - student_loss: 0.3410 - distillation_loss: 6.8041e-04\n",
            "Epoch 50/50\n",
            "3710/3710 [==============================] - 29s 8ms/step - categorical_accuracy: 0.8642 - student_loss: 0.3417 - distillation_loss: 6.8445e-04\n"
          ]
        },
        {
          "output_type": "execute_result",
          "data": {
            "text/plain": [
              "<keras.callbacks.History at 0x7efe1ef3be50>"
            ]
          },
          "metadata": {},
          "execution_count": 44
        }
      ]
    },
    {
      "cell_type": "code",
      "source": [
        "accuracy_distiller = distiller.evaluate(x_test_dt_rshp, y_test_dt_)"
      ],
      "metadata": {
        "colab": {
          "base_uri": "https://localhost:8080/"
        },
        "id": "Lsdid47DA73P",
        "outputId": "a5745342-52c9-43a7-d0d0-339c1e5e803f"
      },
      "execution_count": null,
      "outputs": [
        {
          "output_type": "stream",
          "name": "stdout",
          "text": [
            "16/16 [==============================] - 0s 4ms/step - categorical_accuracy: 0.7024 - student_loss: 1.1366\n"
          ]
        }
      ]
    },
    {
      "cell_type": "code",
      "source": [
        "preds_student_model = student_model.predict(x_test_dt_rshp)"
      ],
      "metadata": {
        "id": "2zKucfD-qVia"
      },
      "execution_count": null,
      "outputs": []
    },
    {
      "cell_type": "code",
      "source": [
        "preds_student_model_fin=np.argmax(preds_student_model,axis=1)"
      ],
      "metadata": {
        "id": "Sf3HHMgYqlwE"
      },
      "execution_count": null,
      "outputs": []
    },
    {
      "cell_type": "code",
      "source": [
        "from sklearn.metrics import confusion_matrix\n",
        "matrix_student = confusion_matrix(y_test_dt, preds_student_model_fin)\n",
        "matrix_student.diagonal()/matrix_student.sum(axis=1)"
      ],
      "metadata": {
        "colab": {
          "base_uri": "https://localhost:8080/"
        },
        "id": "HvzbgPq5dmTN",
        "outputId": "b6927429-ee5e-4467-bbea-dca058beeafc"
      },
      "execution_count": null,
      "outputs": [
        {
          "output_type": "execute_result",
          "data": {
            "text/plain": [
              "array([0.74603175, 0.10126582, 0.84140969, 0.4       , 0.9122807 ])"
            ]
          },
          "metadata": {},
          "execution_count": 48
        }
      ]
    },
    {
      "cell_type": "code",
      "source": [
        "#y_sub_dt\n",
        "from sklearn.metrics import precision_score, recall_score\n",
        "f1_student = f1_score(y_test_dt, preds_student_model_fin, average=\"macro\")\n",
        "prec_student = precision_score(y_test_dt, preds_student_model_fin, average=\"macro\")\n",
        "recall_student = recall_score(y_test_dt, preds_student_model_fin, average=\"macro\")\n",
        "if VBS:\n",
        "    print(\"Precision: {}\".format(prec_student)) \n",
        "    print(\"Recall: {}\".format(recall_student))\n",
        "    print(\"F1 score: {}\".format(f1_student))\n",
        "\n",
        "    report_student = classification_report(y_test_dt, preds_student_model_fin, digits=6)\n",
        "    print(report_student)"
      ],
      "metadata": {
        "colab": {
          "base_uri": "https://localhost:8080/"
        },
        "id": "SntSP4rfdmdI",
        "outputId": "f9362a2a-9833-4319-b07d-f6f9f417b498"
      },
      "execution_count": null,
      "outputs": [
        {
          "output_type": "stream",
          "name": "stdout",
          "text": [
            "Precision: 0.570952293622167\n",
            "Recall: 0.6001975924401796\n",
            "F1 score: 0.5522034718412046\n",
            "              precision    recall  f1-score   support\n",
            "\n",
            "           0   0.930693  0.746032  0.828194       126\n",
            "           1   0.285714  0.101266  0.149533        79\n",
            "           2   0.864253  0.841410  0.852679       227\n",
            "           3   0.400000  0.400000  0.400000         5\n",
            "           4   0.374101  0.912281  0.530612        57\n",
            "\n",
            "    accuracy                       0.702429       494\n",
            "   macro avg   0.570952  0.600198  0.552203       494\n",
            "weighted avg   0.727425  0.702429  0.692244       494\n",
            "\n"
          ]
        }
      ]
    },
    {
      "cell_type": "code",
      "source": [
        "from sklearn.metrics import confusion_matrix\n",
        "matrix = confusion_matrix(y_test_dt, preds_student_model_fin)\n",
        "matrix.diagonal()/matrix.sum(axis=1)"
      ],
      "metadata": {
        "colab": {
          "base_uri": "https://localhost:8080/"
        },
        "id": "bpMto-Lv6v9E",
        "outputId": "8d4b80dd-6d61-4ff8-ee17-a08ab5506311"
      },
      "execution_count": null,
      "outputs": [
        {
          "output_type": "execute_result",
          "data": {
            "text/plain": [
              "array([0.74603175, 0.10126582, 0.84140969, 0.4       , 0.9122807 ])"
            ]
          },
          "metadata": {},
          "execution_count": 50
        }
      ]
    },
    {
      "cell_type": "code",
      "source": [
        "cm = matrix.astype('float') / matrix.sum(axis=1)[:, np.newaxis]"
      ],
      "metadata": {
        "id": "POVa0zd76wK4"
      },
      "execution_count": null,
      "outputs": []
    },
    {
      "cell_type": "code",
      "source": [
        "cm.diagonal()"
      ],
      "metadata": {
        "colab": {
          "base_uri": "https://localhost:8080/"
        },
        "id": "YoUAcXG27MYk",
        "outputId": "5bc1fcb1-9ab0-4d46-839e-cc93f3fefed6"
      },
      "execution_count": null,
      "outputs": [
        {
          "output_type": "execute_result",
          "data": {
            "text/plain": [
              "array([0.74603175, 0.10126582, 0.84140969, 0.4       , 0.9122807 ])"
            ]
          },
          "metadata": {},
          "execution_count": 52
        }
      ]
    },
    {
      "cell_type": "code",
      "source": [
        "#50 epochs teacher model\n",
        "\n",
        "#alpha=0.9, temp=4\n",
        "\n",
        "#50 epochs: 82.41\n",
        "#60 epochs: 84.53\n",
        "#70 epochs: 84.04\n",
        "\n",
        "#alpha=0.9, temp=5\n",
        "\n",
        "#50 epochs: 81.43\n",
        "#60 epochs: 83.88\n",
        "#70 epochs: \n",
        "\n",
        "#alpha=0.9, temp=3\n",
        "\n",
        "#50 epochs: 83.88\n",
        "#60 epochs: 83.06\n"
      ],
      "metadata": {
        "id": "SCuDFU5AH7wg"
      },
      "execution_count": null,
      "outputs": []
    },
    {
      "cell_type": "markdown",
      "source": [
        "KD using the 50 epochs teacher model"
      ],
      "metadata": {
        "id": "rmUSBAohtn5W"
      }
    },
    {
      "cell_type": "code",
      "source": [
        "from keras.layers import Input, Dense, LSTM, MaxPooling1D, Conv1D\n",
        "from keras.models import Model"
      ],
      "metadata": {
        "id": "rboKKP_Jq_Qr"
      },
      "execution_count": null,
      "outputs": []
    },
    {
      "cell_type": "code",
      "source": [
        "teacher_model=model_b(verbose=VBS) #50 epochs teacher model"
      ],
      "metadata": {
        "id": "wxnszceNamNM",
        "colab": {
          "base_uri": "https://localhost:8080/"
        },
        "outputId": "ca4de188-b234-418d-e420-12cf0c630b68"
      },
      "execution_count": null,
      "outputs": [
        {
          "output_type": "stream",
          "name": "stdout",
          "text": [
            "Model: \"model\"\n",
            "__________________________________________________________________________________________________\n",
            " Layer (type)                   Output Shape         Param #     Connected to                     \n",
            "==================================================================================================\n",
            " inLayer (InputLayer)           [(None, 3000, 1)]    0           []                               \n",
            "                                                                                                  \n",
            " fConv1 (Conv1D)                (None, 500, 64)      3264        ['inLayer[0][0]']                \n",
            "                                                                                                  \n",
            " cConv1 (Conv1D)                (None, 60, 32)       12832       ['inLayer[0][0]']                \n",
            "                                                                                                  \n",
            " fMaxP1 (MaxPooling1D)          (None, 62, 64)       0           ['fConv1[0][0]']                 \n",
            "                                                                                                  \n",
            " cMaxP1 (MaxPooling1D)          (None, 15, 32)       0           ['cConv1[0][0]']                 \n",
            "                                                                                                  \n",
            " fDrop1 (Dropout)               (None, 62, 64)       0           ['fMaxP1[0][0]']                 \n",
            "                                                                                                  \n",
            " cDrop1 (Dropout)               (None, 15, 32)       0           ['cMaxP1[0][0]']                 \n",
            "                                                                                                  \n",
            " fConv2 (Conv1D)                (None, 62, 128)      65664       ['fDrop1[0][0]']                 \n",
            "                                                                                                  \n",
            " cConv2 (Conv1D)                (None, 15, 128)      24704       ['cDrop1[0][0]']                 \n",
            "                                                                                                  \n",
            " fConv3 (Conv1D)                (None, 62, 128)      131200      ['fConv2[0][0]']                 \n",
            "                                                                                                  \n",
            " cConv3 (Conv1D)                (None, 15, 128)      98432       ['cConv2[0][0]']                 \n",
            "                                                                                                  \n",
            " fConv4 (Conv1D)                (None, 62, 128)      131200      ['fConv3[0][0]']                 \n",
            "                                                                                                  \n",
            " cConv4 (Conv1D)                (None, 15, 128)      98432       ['cConv3[0][0]']                 \n",
            "                                                                                                  \n",
            " fMaxP2 (MaxPooling1D)          (None, 15, 128)      0           ['fConv4[0][0]']                 \n",
            "                                                                                                  \n",
            " cMaxP2 (MaxPooling1D)          (None, 7, 128)       0           ['cConv4[0][0]']                 \n",
            "                                                                                                  \n",
            " fFlat1 (Flatten)               (None, 1920)         0           ['fMaxP2[0][0]']                 \n",
            "                                                                                                  \n",
            " cFlat1 (Flatten)               (None, 896)          0           ['cMaxP2[0][0]']                 \n",
            "                                                                                                  \n",
            " merge_1 (Concatenate)          (None, 2816)         0           ['fFlat1[0][0]',                 \n",
            "                                                                  'cFlat1[0][0]']                 \n",
            "                                                                                                  \n",
            " mDrop1 (Dropout)               (None, 2816)         0           ['merge_1[0][0]']                \n",
            "                                                                                                  \n",
            " reshape1 (Reshape)             (None, 1, 2816)      0           ['mDrop1[0][0]']                 \n",
            "                                                                                                  \n",
            " lstm (LSTM)                    (None, 1, 64)        737536      ['reshape1[0][0]']               \n",
            "                                                                                                  \n",
            " lstm_1 (LSTM)                  (None, 64)           33024       ['lstm[0][0]']                   \n",
            "                                                                                                  \n",
            " outLayer (Dense)               (None, 5)            325         ['lstm_1[0][0]']                 \n",
            "                                                                                                  \n",
            "==================================================================================================\n",
            "Total params: 1,336,613\n",
            "Trainable params: 1,336,613\n",
            "Non-trainable params: 0\n",
            "__________________________________________________________________________________________________\n"
          ]
        }
      ]
    },
    {
      "cell_type": "code",
      "source": [
        "teacher_checkpt_path=\"/content/gdrive/My Drive/physionet/ensemble/tri_training/50_epochs_keras_way/teacher_50_epochs_keras_way_wts_trial_3.ckpt\"\n",
        "teacher_model.load_weights(teacher_checkpt_path)"
      ],
      "metadata": {
        "colab": {
          "base_uri": "https://localhost:8080/"
        },
        "id": "Ed2C6mXutyxL",
        "outputId": "aded58f6-32a0-4d90-9ede-1294907e19d3"
      },
      "execution_count": null,
      "outputs": [
        {
          "output_type": "execute_result",
          "data": {
            "text/plain": [
              "<tensorflow.python.training.tracking.util.CheckpointLoadStatus at 0x7f07f0d400d0>"
            ]
          },
          "metadata": {},
          "execution_count": 29
        }
      ]
    },
    {
      "cell_type": "code",
      "source": [
        "teacher_model.compile(optimizer=optimizer, loss='categorical_crossentropy', metrics=['accuracy'])"
      ],
      "metadata": {
        "id": "2QykIBjot69x"
      },
      "execution_count": null,
      "outputs": []
    },
    {
      "cell_type": "code",
      "source": [
        "accuracy_teacher_model = teacher_model.evaluate(x_test_dt_rshp, y_test_dt_)"
      ],
      "metadata": {
        "colab": {
          "base_uri": "https://localhost:8080/"
        },
        "id": "Sryj_Oyvt7Cm",
        "outputId": "0adbe082-62c1-4bee-e741-fc69038999d5"
      },
      "execution_count": null,
      "outputs": [
        {
          "output_type": "stream",
          "name": "stdout",
          "text": [
            "16/16 [==============================] - 10s 7ms/step - loss: 1.7669 - accuracy: 0.7166\n"
          ]
        }
      ]
    },
    {
      "cell_type": "code",
      "source": [
        "preds_teacher_model = teacher_model.predict(x_test_dt_rshp)"
      ],
      "metadata": {
        "id": "pNB5cWVDrL8X"
      },
      "execution_count": null,
      "outputs": []
    },
    {
      "cell_type": "code",
      "source": [
        "preds_teacher_model_fin=np.argmax(preds_teacher_model,axis=1)"
      ],
      "metadata": {
        "id": "VZvyng9RrMiU"
      },
      "execution_count": null,
      "outputs": []
    },
    {
      "cell_type": "code",
      "source": [
        "from sklearn.metrics import confusion_matrix\n",
        "matrix_teacher = confusion_matrix(y_test_dt, preds_teacher_model_fin)\n",
        "matrix_teacher.diagonal()/matrix_teacher.sum(axis=1)"
      ],
      "metadata": {
        "colab": {
          "base_uri": "https://localhost:8080/"
        },
        "id": "HXnG3NTJrMtD",
        "outputId": "18a58ffd-4911-4243-be44-f7b22ee93405"
      },
      "execution_count": null,
      "outputs": [
        {
          "output_type": "execute_result",
          "data": {
            "text/plain": [
              "array([0.63492063, 0.07594937, 0.93832599, 0.4       , 0.92982456])"
            ]
          },
          "metadata": {},
          "execution_count": 34
        }
      ]
    },
    {
      "cell_type": "code",
      "source": [
        "#y_sub_dt\n",
        "from sklearn.metrics import precision_score, recall_score\n",
        "f1_teacher = f1_score(y_test_dt, preds_teacher_model_fin, average=\"macro\")\n",
        "prec_teacher = precision_score(y_test_dt, preds_teacher_model_fin, average=\"macro\")\n",
        "recall_teacher = recall_score(y_test_dt, preds_teacher_model_fin, average=\"macro\")\n",
        "if VBS:\n",
        "    print(\"Precision: {}\".format(prec_teacher)) \n",
        "    print(\"Recall: {}\".format(recall_teacher))\n",
        "    print(\"F1 score: {}\".format(f1_teacher))\n",
        "\n",
        "    report_teacher = classification_report(y_test_dt, preds_teacher_model_fin, digits=6)\n",
        "    print(report_teacher)"
      ],
      "metadata": {
        "colab": {
          "base_uri": "https://localhost:8080/"
        },
        "id": "sxUbmrRhrYZa",
        "outputId": "7d3836a6-8da3-48c4-94c7-3c100dfba9fe"
      },
      "execution_count": null,
      "outputs": [
        {
          "output_type": "stream",
          "name": "stdout",
          "text": [
            "Precision: 0.6154757711561765\n",
            "Recall: 0.5958041109204357\n",
            "F1 score: 0.5797840921012746\n",
            "              precision    recall  f1-score   support\n",
            "\n",
            "           0   0.930233  0.634921  0.754717       126\n",
            "           1   0.133333  0.075949  0.096774        79\n",
            "           2   0.822394  0.938326  0.876543       227\n",
            "           3   0.666667  0.400000  0.500000         5\n",
            "           4   0.524752  0.929825  0.670886        57\n",
            "\n",
            "    accuracy                       0.716599       494\n",
            "   macro avg   0.615476  0.595804  0.579784       494\n",
            "weighted avg   0.703786  0.716599  0.693229       494\n",
            "\n"
          ]
        }
      ]
    },
    {
      "cell_type": "code",
      "source": [
        "#student model\n",
        "def get_model_1d_cnn():\n",
        "    nclass = 5\n",
        "    inp = Input(shape=(3000, 1))\n",
        "    img_1 = Conv1D(4, kernel_size=6, activation=activations.relu, strides=1, padding=\"valid\")(inp)\n",
        "    #img_1 = Conv1D(128, kernel_size=5, activation=activations.relu, strides=1, padding=\"valid\")(img_1)\n",
        "    img_1 = MaxPooling1D(pool_size=2)(img_1)\n",
        "    #img_1 = SpatialDropout1D(rate=0.2)(img_1)\n",
        "    img_1 = Conv1D(4, kernel_size=5, activation=activations.relu, strides=1, padding=\"valid\")(img_1)\n",
        "    #img_1 = Conv1D(256, kernel_size=7, activation=activations.relu, strides=1, padding=\"valid\")(img_1)\n",
        "    img_1 = MaxPooling1D(pool_size=2)(img_1)\n",
        "    #img_1 = SpatialDropout1D(rate=0.01)(img_1)\n",
        "    img_1 = Conv1D(10, kernel_size=4, activation=activations.relu, strides=1, padding=\"valid\")(img_1)\n",
        "    #img_1 = Conv1D(64, kernel_size=4, activation=activations.relu, strides=1, padding=\"valid\")(img_1)\n",
        "    img_1 = MaxPooling1D(pool_size=2)(img_1)\n",
        "    #img_1 = SpatialDropout1D(rate=0.01)(img_1)\n",
        "    img_1 = Conv1D(10, kernel_size=4, activation=activations.relu, strides=1, padding=\"valid\")(img_1)\n",
        "    img_1 = MaxPooling1D(pool_size=2)(img_1)\n",
        "    #img_1 = Conv1D(64, kernel_size=6, activation=activations.relu, strides=1, padding=\"valid\")(img_1)\n",
        "    #img_1 = MaxPooling1D(pool_size=2)(img_1)\n",
        "    img_1 = Flatten()(img_1)\n",
        "\n",
        "    \n",
        "    dense_1 = Dropout(rate=0.5)(img_1)\n",
        "    #dense_1 = Dropout(rate=0.05)(Dense(64, activation=activations.relu, name=\"dense_2\")(dense_1))\n",
        "    dense_1 = Dense(nclass, activation=activations.softmax)(dense_1)\n",
        "\n",
        "    model = Model(inputs=inp, outputs=dense_1)\n",
        "    opt = Adam(0.001)\n",
        "\n",
        "    model.compile(optimizer=opt, loss='categorical_crossentropy', metrics=['acc'])\n",
        "    model.summary()\n",
        "    return model"
      ],
      "metadata": {
        "id": "pcpwwoWzuNrH"
      },
      "execution_count": null,
      "outputs": []
    },
    {
      "cell_type": "code",
      "source": [
        "#student_model=get_model_cnn()\n",
        "student_model=get_model_1d_cnn()"
      ],
      "metadata": {
        "colab": {
          "base_uri": "https://localhost:8080/"
        },
        "id": "v3YxoKmguTdw",
        "outputId": "9ba1ed69-1788-4ef0-f04a-7bf9dd19239a"
      },
      "execution_count": null,
      "outputs": [
        {
          "output_type": "stream",
          "name": "stdout",
          "text": [
            "Model: \"model\"\n",
            "_________________________________________________________________\n",
            " Layer (type)                Output Shape              Param #   \n",
            "=================================================================\n",
            " input_1 (InputLayer)        [(None, 3000, 1)]         0         \n",
            "                                                                 \n",
            " conv1d (Conv1D)             (None, 2995, 4)           28        \n",
            "                                                                 \n",
            " max_pooling1d (MaxPooling1D  (None, 1497, 4)          0         \n",
            " )                                                               \n",
            "                                                                 \n",
            " conv1d_1 (Conv1D)           (None, 1493, 4)           84        \n",
            "                                                                 \n",
            " max_pooling1d_1 (MaxPooling  (None, 746, 4)           0         \n",
            " 1D)                                                             \n",
            "                                                                 \n",
            " conv1d_2 (Conv1D)           (None, 743, 10)           170       \n",
            "                                                                 \n",
            " max_pooling1d_2 (MaxPooling  (None, 371, 10)          0         \n",
            " 1D)                                                             \n",
            "                                                                 \n",
            " conv1d_3 (Conv1D)           (None, 368, 10)           410       \n",
            "                                                                 \n",
            " max_pooling1d_3 (MaxPooling  (None, 184, 10)          0         \n",
            " 1D)                                                             \n",
            "                                                                 \n",
            " flatten (Flatten)           (None, 1840)              0         \n",
            "                                                                 \n",
            " dropout (Dropout)           (None, 1840)              0         \n",
            "                                                                 \n",
            " dense (Dense)               (None, 5)                 9205      \n",
            "                                                                 \n",
            "=================================================================\n",
            "Total params: 9,897\n",
            "Trainable params: 9,897\n",
            "Non-trainable params: 0\n",
            "_________________________________________________________________\n"
          ]
        }
      ]
    },
    {
      "cell_type": "code",
      "source": [
        "class Distiller(keras.Model):\n",
        "    def __init__(self, student, teacher):\n",
        "        super(Distiller, self).__init__()\n",
        "        self.teacher = teacher\n",
        "        self.student = student\n",
        "\n",
        "    def compile(\n",
        "        self,\n",
        "        optimizer,\n",
        "        metrics,\n",
        "        student_loss_fn,\n",
        "        distillation_loss_fn,\n",
        "        alpha=0.1,\n",
        "        temperature=3,\n",
        "    ):\n",
        "        \"\"\" Configure the distiller.\n",
        "\n",
        "        Args:\n",
        "            optimizer: Keras optimizer for the student weights\n",
        "            metrics: Keras metrics for evaluation\n",
        "            student_loss_fn: Loss function of difference between student\n",
        "                predictions and ground-truth\n",
        "            distillation_loss_fn: Loss function of difference between soft\n",
        "                student predictions and soft teacher predictions\n",
        "            alpha: weight to student_loss_fn and 1-alpha to distillation_loss_fn\n",
        "            temperature: Temperature for softening probability distributions.\n",
        "                Larger temperature gives softer distributions.\n",
        "        \"\"\"\n",
        "        super(Distiller, self).compile(optimizer=optimizer, metrics=metrics)\n",
        "        self.student_loss_fn = student_loss_fn\n",
        "        self.distillation_loss_fn = distillation_loss_fn\n",
        "        self.alpha = alpha\n",
        "        self.temperature = temperature\n",
        "\n",
        "    def train_step(self, data):\n",
        "        # Unpack data\n",
        "        x, y = data\n",
        "\n",
        "        # Forward pass of teacher\n",
        "        teacher_predictions = self.teacher(x, training=False)\n",
        "\n",
        "        with tf.GradientTape() as tape:\n",
        "            # Forward pass of student\n",
        "            student_predictions = self.student(x, training=True)\n",
        "\n",
        "            # Compute losses\n",
        "            student_loss = self.student_loss_fn(y, student_predictions)\n",
        "            distillation_loss = self.distillation_loss_fn(\n",
        "                tf.nn.softmax(teacher_predictions / self.temperature, axis=1),\n",
        "                tf.nn.softmax(student_predictions / self.temperature, axis=1),\n",
        "            )\n",
        "            loss = self.alpha * student_loss + (1 - self.alpha) * distillation_loss\n",
        "\n",
        "        # Compute gradients\n",
        "        trainable_vars = self.student.trainable_variables\n",
        "        gradients = tape.gradient(loss, trainable_vars)\n",
        "\n",
        "        # Update weights\n",
        "        self.optimizer.apply_gradients(zip(gradients, trainable_vars))\n",
        "\n",
        "        # Update the metrics configured in `compile()`.\n",
        "        self.compiled_metrics.update_state(y, student_predictions)\n",
        "\n",
        "        # Return a dict of performance\n",
        "        results = {m.name: m.result() for m in self.metrics}\n",
        "        results.update(\n",
        "            {\"student_loss\": student_loss, \"distillation_loss\": distillation_loss}\n",
        "        )\n",
        "        return results\n",
        "\n",
        "    def test_step(self, data):\n",
        "        # Unpack the data\n",
        "        x, y = data\n",
        "\n",
        "        # Compute predictions\n",
        "        y_prediction = self.student(x, training=False)\n",
        "\n",
        "        # Calculate the loss\n",
        "        student_loss = self.student_loss_fn(y, y_prediction)\n",
        "\n",
        "        # Update the metrics.\n",
        "        self.compiled_metrics.update_state(y, y_prediction)\n",
        "\n",
        "        # Return a dict of performance\n",
        "        results = {m.name: m.result() for m in self.metrics}\n",
        "        results.update({\"student_loss\": student_loss})\n",
        "        return results\n"
      ],
      "metadata": {
        "id": "dXZ0ZAgwuThZ"
      },
      "execution_count": null,
      "outputs": []
    },
    {
      "cell_type": "code",
      "source": [
        "import tensorflow as tf\n",
        "from tensorflow import keras\n",
        "from tensorflow.keras import layers\n",
        "import numpy as np\n"
      ],
      "metadata": {
        "id": "GL1SBvbzucD2"
      },
      "execution_count": null,
      "outputs": []
    },
    {
      "cell_type": "code",
      "source": [
        "# Initialize and compile distiller\n",
        "distiller = Distiller(student=student_model, teacher=teacher_model)\n",
        "distiller.compile(\n",
        "    optimizer=keras.optimizers.Adam(),\n",
        "    metrics=[keras.metrics.CategoricalAccuracy()],\n",
        "    student_loss_fn=keras.losses.CategoricalCrossentropy(from_logits=True),\n",
        "    distillation_loss_fn=keras.losses.KLDivergence(),\n",
        "    alpha=0.9,\n",
        "    temperature=5,\n",
        ")\n",
        "\n",
        "# Distill teacher to student\n",
        "distiller.fit(x_dt_rshp, y_dt_, epochs=60)\n",
        "\n",
        "# Evaluate student on test dataset\n",
        "#distiller.evaluate(x_test, y_test)"
      ],
      "metadata": {
        "colab": {
          "base_uri": "https://localhost:8080/"
        },
        "id": "Y49ue7-buj2e",
        "outputId": "19a79788-7b7a-4127-d84d-1ab3fa43bd5f"
      },
      "execution_count": null,
      "outputs": [
        {
          "output_type": "stream",
          "name": "stdout",
          "text": [
            "Epoch 1/60\n",
            "3710/3710 [==============================] - 25s 6ms/step - categorical_accuracy: 0.6954 - student_loss: 0.7428 - distillation_loss: 0.0016\n",
            "Epoch 2/60\n",
            "3710/3710 [==============================] - 21s 6ms/step - categorical_accuracy: 0.7642 - student_loss: 0.5668 - distillation_loss: 0.0012\n",
            "Epoch 3/60\n",
            "3710/3710 [==============================] - 21s 6ms/step - categorical_accuracy: 0.7756 - student_loss: 0.5426 - distillation_loss: 0.0012\n",
            "Epoch 4/60\n",
            "3710/3710 [==============================] - 21s 6ms/step - categorical_accuracy: 0.7823 - student_loss: 0.5262 - distillation_loss: 0.0011\n",
            "Epoch 5/60\n",
            "3710/3710 [==============================] - 21s 6ms/step - categorical_accuracy: 0.7910 - student_loss: 0.5064 - distillation_loss: 0.0011\n",
            "Epoch 6/60\n",
            "3710/3710 [==============================] - 21s 6ms/step - categorical_accuracy: 0.7994 - student_loss: 0.4894 - distillation_loss: 0.0010\n",
            "Epoch 7/60\n",
            "3710/3710 [==============================] - 21s 6ms/step - categorical_accuracy: 0.8070 - student_loss: 0.4765 - distillation_loss: 0.0010\n",
            "Epoch 8/60\n",
            "3710/3710 [==============================] - 22s 6ms/step - categorical_accuracy: 0.8172 - student_loss: 0.4547 - distillation_loss: 9.5286e-04\n",
            "Epoch 9/60\n",
            "3710/3710 [==============================] - 21s 6ms/step - categorical_accuracy: 0.8246 - student_loss: 0.4362 - distillation_loss: 9.0745e-04\n",
            "Epoch 10/60\n",
            "3710/3710 [==============================] - 22s 6ms/step - categorical_accuracy: 0.8324 - student_loss: 0.4180 - distillation_loss: 8.6225e-04\n",
            "Epoch 11/60\n",
            "3710/3710 [==============================] - 21s 6ms/step - categorical_accuracy: 0.8367 - student_loss: 0.4089 - distillation_loss: 8.4225e-04\n",
            "Epoch 12/60\n",
            "3710/3710 [==============================] - 21s 6ms/step - categorical_accuracy: 0.8413 - student_loss: 0.3990 - distillation_loss: 8.2015e-04\n",
            "Epoch 13/60\n",
            "3710/3710 [==============================] - 21s 6ms/step - categorical_accuracy: 0.8442 - student_loss: 0.3936 - distillation_loss: 8.0976e-04\n",
            "Epoch 14/60\n",
            "3710/3710 [==============================] - 21s 6ms/step - categorical_accuracy: 0.8458 - student_loss: 0.3890 - distillation_loss: 7.9908e-04\n",
            "Epoch 15/60\n",
            "3710/3710 [==============================] - 21s 6ms/step - categorical_accuracy: 0.8474 - student_loss: 0.3859 - distillation_loss: 7.9001e-04\n",
            "Epoch 16/60\n",
            "3710/3710 [==============================] - 21s 6ms/step - categorical_accuracy: 0.8474 - student_loss: 0.3825 - distillation_loss: 7.8604e-04\n",
            "Epoch 17/60\n",
            "3710/3710 [==============================] - 21s 6ms/step - categorical_accuracy: 0.8485 - student_loss: 0.3807 - distillation_loss: 7.8099e-04\n",
            "Epoch 18/60\n",
            "3710/3710 [==============================] - 21s 6ms/step - categorical_accuracy: 0.8495 - student_loss: 0.3766 - distillation_loss: 7.7393e-04\n",
            "Epoch 19/60\n",
            "3710/3710 [==============================] - 21s 6ms/step - categorical_accuracy: 0.8505 - student_loss: 0.3766 - distillation_loss: 7.7445e-04\n",
            "Epoch 20/60\n",
            "3710/3710 [==============================] - 21s 6ms/step - categorical_accuracy: 0.8515 - student_loss: 0.3735 - distillation_loss: 7.6628e-04\n",
            "Epoch 21/60\n",
            "3710/3710 [==============================] - 21s 6ms/step - categorical_accuracy: 0.8535 - student_loss: 0.3694 - distillation_loss: 7.5673e-04\n",
            "Epoch 22/60\n",
            "3710/3710 [==============================] - 21s 6ms/step - categorical_accuracy: 0.8535 - student_loss: 0.3704 - distillation_loss: 7.6133e-04\n",
            "Epoch 23/60\n",
            "3710/3710 [==============================] - 21s 6ms/step - categorical_accuracy: 0.8524 - student_loss: 0.3703 - distillation_loss: 7.6139e-04\n",
            "Epoch 24/60\n",
            "3710/3710 [==============================] - 22s 6ms/step - categorical_accuracy: 0.8529 - student_loss: 0.3679 - distillation_loss: 7.5717e-04\n",
            "Epoch 25/60\n",
            "3710/3710 [==============================] - 21s 6ms/step - categorical_accuracy: 0.8547 - student_loss: 0.3677 - distillation_loss: 7.5440e-04\n",
            "Epoch 26/60\n",
            "3710/3710 [==============================] - 21s 6ms/step - categorical_accuracy: 0.8552 - student_loss: 0.3644 - distillation_loss: 7.5041e-04\n",
            "Epoch 27/60\n",
            "3710/3710 [==============================] - 21s 6ms/step - categorical_accuracy: 0.8560 - student_loss: 0.3659 - distillation_loss: 7.4979e-04\n",
            "Epoch 28/60\n",
            "3710/3710 [==============================] - 21s 6ms/step - categorical_accuracy: 0.8551 - student_loss: 0.3648 - distillation_loss: 7.4989e-04\n",
            "Epoch 29/60\n",
            "3710/3710 [==============================] - 21s 6ms/step - categorical_accuracy: 0.8558 - student_loss: 0.3629 - distillation_loss: 7.4769e-04\n",
            "Epoch 30/60\n",
            "3710/3710 [==============================] - 21s 6ms/step - categorical_accuracy: 0.8570 - student_loss: 0.3607 - distillation_loss: 7.4404e-04\n",
            "Epoch 31/60\n",
            "3710/3710 [==============================] - 21s 6ms/step - categorical_accuracy: 0.8556 - student_loss: 0.3610 - distillation_loss: 7.4347e-04\n",
            "Epoch 32/60\n",
            "3710/3710 [==============================] - 21s 6ms/step - categorical_accuracy: 0.8574 - student_loss: 0.3594 - distillation_loss: 7.3875e-04\n",
            "Epoch 33/60\n",
            "3710/3710 [==============================] - 21s 6ms/step - categorical_accuracy: 0.8562 - student_loss: 0.3603 - distillation_loss: 7.4236e-04\n",
            "Epoch 34/60\n",
            "3710/3710 [==============================] - 21s 6ms/step - categorical_accuracy: 0.8571 - student_loss: 0.3602 - distillation_loss: 7.4087e-04\n",
            "Epoch 35/60\n",
            "3710/3710 [==============================] - 21s 6ms/step - categorical_accuracy: 0.8587 - student_loss: 0.3581 - distillation_loss: 7.3366e-04\n",
            "Epoch 36/60\n",
            "3710/3710 [==============================] - 21s 6ms/step - categorical_accuracy: 0.8597 - student_loss: 0.3560 - distillation_loss: 7.2887e-04\n",
            "Epoch 37/60\n",
            "3710/3710 [==============================] - 21s 6ms/step - categorical_accuracy: 0.8587 - student_loss: 0.3560 - distillation_loss: 7.3260e-04\n",
            "Epoch 38/60\n",
            "3710/3710 [==============================] - 21s 6ms/step - categorical_accuracy: 0.8596 - student_loss: 0.3553 - distillation_loss: 7.2909e-04\n",
            "Epoch 39/60\n",
            "3710/3710 [==============================] - 22s 6ms/step - categorical_accuracy: 0.8582 - student_loss: 0.3576 - distillation_loss: 7.3642e-04\n",
            "Epoch 40/60\n",
            "3710/3710 [==============================] - 21s 6ms/step - categorical_accuracy: 0.8593 - student_loss: 0.3537 - distillation_loss: 7.2658e-04\n",
            "Epoch 41/60\n",
            "3710/3710 [==============================] - 21s 6ms/step - categorical_accuracy: 0.8587 - student_loss: 0.3575 - distillation_loss: 7.3259e-04\n",
            "Epoch 42/60\n",
            "3710/3710 [==============================] - 21s 6ms/step - categorical_accuracy: 0.8593 - student_loss: 0.3561 - distillation_loss: 7.3057e-04\n",
            "Epoch 43/60\n",
            "3710/3710 [==============================] - 21s 6ms/step - categorical_accuracy: 0.8587 - student_loss: 0.3550 - distillation_loss: 7.2924e-04\n",
            "Epoch 44/60\n",
            "3710/3710 [==============================] - 21s 6ms/step - categorical_accuracy: 0.8588 - student_loss: 0.3560 - distillation_loss: 7.3143e-04\n",
            "Epoch 45/60\n",
            "3710/3710 [==============================] - 21s 6ms/step - categorical_accuracy: 0.8599 - student_loss: 0.3533 - distillation_loss: 7.2460e-04\n",
            "Epoch 46/60\n",
            "3710/3710 [==============================] - 21s 6ms/step - categorical_accuracy: 0.8607 - student_loss: 0.3526 - distillation_loss: 7.2570e-04\n",
            "Epoch 47/60\n",
            "3710/3710 [==============================] - 21s 6ms/step - categorical_accuracy: 0.8610 - student_loss: 0.3522 - distillation_loss: 7.1891e-04\n",
            "Epoch 48/60\n",
            "3710/3710 [==============================] - 21s 6ms/step - categorical_accuracy: 0.8598 - student_loss: 0.3525 - distillation_loss: 7.2017e-04\n",
            "Epoch 49/60\n",
            "3710/3710 [==============================] - 21s 6ms/step - categorical_accuracy: 0.8600 - student_loss: 0.3516 - distillation_loss: 7.2401e-04\n",
            "Epoch 50/60\n",
            "3710/3710 [==============================] - 21s 6ms/step - categorical_accuracy: 0.8608 - student_loss: 0.3526 - distillation_loss: 7.2363e-04\n",
            "Epoch 51/60\n",
            "3710/3710 [==============================] - 21s 6ms/step - categorical_accuracy: 0.8605 - student_loss: 0.3523 - distillation_loss: 7.2088e-04\n",
            "Epoch 52/60\n",
            "3710/3710 [==============================] - 21s 6ms/step - categorical_accuracy: 0.8621 - student_loss: 0.3505 - distillation_loss: 7.1902e-04\n",
            "Epoch 53/60\n",
            "3710/3710 [==============================] - 22s 6ms/step - categorical_accuracy: 0.8614 - student_loss: 0.3504 - distillation_loss: 7.1974e-04\n",
            "Epoch 54/60\n",
            "3710/3710 [==============================] - 21s 6ms/step - categorical_accuracy: 0.8611 - student_loss: 0.3499 - distillation_loss: 7.1787e-04\n",
            "Epoch 55/60\n",
            "3710/3710 [==============================] - 21s 6ms/step - categorical_accuracy: 0.8613 - student_loss: 0.3497 - distillation_loss: 7.1908e-04\n",
            "Epoch 56/60\n",
            "3710/3710 [==============================] - 21s 6ms/step - categorical_accuracy: 0.8624 - student_loss: 0.3473 - distillation_loss: 7.1419e-04\n",
            "Epoch 57/60\n",
            "3710/3710 [==============================] - 21s 6ms/step - categorical_accuracy: 0.8616 - student_loss: 0.3494 - distillation_loss: 7.1718e-04\n",
            "Epoch 58/60\n",
            "3710/3710 [==============================] - 21s 6ms/step - categorical_accuracy: 0.8631 - student_loss: 0.3473 - distillation_loss: 7.1221e-04\n",
            "Epoch 59/60\n",
            "3710/3710 [==============================] - 21s 6ms/step - categorical_accuracy: 0.8623 - student_loss: 0.3463 - distillation_loss: 7.1283e-04\n",
            "Epoch 60/60\n",
            "3710/3710 [==============================] - 21s 6ms/step - categorical_accuracy: 0.8614 - student_loss: 0.3494 - distillation_loss: 7.1569e-04\n"
          ]
        },
        {
          "output_type": "execute_result",
          "data": {
            "text/plain": [
              "<keras.callbacks.History at 0x7f07f16f08d0>"
            ]
          },
          "metadata": {},
          "execution_count": 40
        }
      ]
    },
    {
      "cell_type": "code",
      "source": [
        "accuracy_distiller = distiller.evaluate(x_test_dt_rshp, y_test_dt_)"
      ],
      "metadata": {
        "colab": {
          "base_uri": "https://localhost:8080/"
        },
        "id": "H_s3ir2F3M1R",
        "outputId": "969fbe55-264f-4a93-bc5e-5cf2dde9a023"
      },
      "execution_count": null,
      "outputs": [
        {
          "output_type": "stream",
          "name": "stdout",
          "text": [
            "16/16 [==============================] - 0s 3ms/step - categorical_accuracy: 0.7470 - student_loss: 0.9388\n"
          ]
        }
      ]
    },
    {
      "cell_type": "code",
      "source": [
        "preds_student_model = student_model.predict(x_test_dt_rshp)"
      ],
      "metadata": {
        "id": "wk4kSECeEU71"
      },
      "execution_count": null,
      "outputs": []
    },
    {
      "cell_type": "code",
      "source": [
        "preds_student_model_fin=np.argmax(preds_student_model,axis=1)"
      ],
      "metadata": {
        "id": "j5g2quLAEeXP"
      },
      "execution_count": null,
      "outputs": []
    },
    {
      "cell_type": "code",
      "source": [
        "from sklearn.metrics import confusion_matrix\n",
        "matrix_student = confusion_matrix(y_test_dt, preds_student_model_fin)\n",
        "matrix_student.diagonal()/matrix_student.sum(axis=1)"
      ],
      "metadata": {
        "colab": {
          "base_uri": "https://localhost:8080/"
        },
        "id": "X3qy5cuBEedQ",
        "outputId": "8f46e241-d506-42e3-8f2e-32b4ed3f361c"
      },
      "execution_count": null,
      "outputs": [
        {
          "output_type": "execute_result",
          "data": {
            "text/plain": [
              "array([0.77777778, 0.11392405, 0.92070485, 0.4       , 0.89473684])"
            ]
          },
          "metadata": {},
          "execution_count": 44
        }
      ]
    },
    {
      "cell_type": "code",
      "source": [
        "#y_sub_dt\n",
        "from sklearn.metrics import precision_score, recall_score\n",
        "f1_student = f1_score(y_test_dt, preds_student_model_fin, average=\"macro\")\n",
        "prec_student = precision_score(y_test_dt, preds_student_model_fin, average=\"macro\")\n",
        "recall_student = recall_score(y_test_dt, preds_student_model_fin, average=\"macro\")\n",
        "if VBS:\n",
        "    print(\"Precision: {}\".format(prec_student)) \n",
        "    print(\"Recall: {}\".format(recall_student))\n",
        "    print(\"F1 score: {}\".format(f1_student))\n",
        "\n",
        "    report_student = classification_report(y_test_dt, preds_student_model_fin, digits=6)\n",
        "    print(report_student)"
      ],
      "metadata": {
        "colab": {
          "base_uri": "https://localhost:8080/"
        },
        "id": "hSEfjvqFEeiX",
        "outputId": "7b3c79fd-67ef-43e7-b69b-6ba41789c075"
      },
      "execution_count": null,
      "outputs": [
        {
          "output_type": "stream",
          "name": "stdout",
          "text": [
            "Precision: 0.6110441188441189\n",
            "Recall: 0.6214287032661862\n",
            "F1 score: 0.5920252452648396\n",
            "              precision    recall  f1-score   support\n",
            "\n",
            "           0   0.907407  0.777778  0.837607       126\n",
            "           1   0.321429  0.113924  0.168224        79\n",
            "           2   0.836000  0.920705  0.876310       227\n",
            "           3   0.500000  0.400000  0.444444         5\n",
            "           4   0.490385  0.894737  0.633540        57\n",
            "\n",
            "    accuracy                       0.746964       494\n",
            "   macro avg   0.611044  0.621429  0.592025       494\n",
            "weighted avg   0.728644  0.746964  0.720819       494\n",
            "\n"
          ]
        }
      ]
    },
    {
      "cell_type": "code",
      "source": [
        ""
      ],
      "metadata": {
        "id": "TwJ0auoKEuai"
      },
      "execution_count": null,
      "outputs": []
    },
    {
      "cell_type": "code",
      "source": [
        "#60 epochs teacher"
      ],
      "metadata": {
        "id": "Un7zRdryEtHG"
      },
      "execution_count": null,
      "outputs": []
    },
    {
      "cell_type": "code",
      "source": [
        "teacher_model=model_b(verbose=VBS) #60 epochs teacher model"
      ],
      "metadata": {
        "colab": {
          "base_uri": "https://localhost:8080/"
        },
        "id": "p4S3PcmIFkXF",
        "outputId": "9d02a220-5427-492b-9579-ef6d6363c154"
      },
      "execution_count": null,
      "outputs": [
        {
          "output_type": "stream",
          "name": "stdout",
          "text": [
            "Model: \"model\"\n",
            "__________________________________________________________________________________________________\n",
            " Layer (type)                   Output Shape         Param #     Connected to                     \n",
            "==================================================================================================\n",
            " inLayer (InputLayer)           [(None, 3000, 1)]    0           []                               \n",
            "                                                                                                  \n",
            " fConv1 (Conv1D)                (None, 500, 64)      3264        ['inLayer[0][0]']                \n",
            "                                                                                                  \n",
            " cConv1 (Conv1D)                (None, 60, 32)       12832       ['inLayer[0][0]']                \n",
            "                                                                                                  \n",
            " fMaxP1 (MaxPooling1D)          (None, 62, 64)       0           ['fConv1[0][0]']                 \n",
            "                                                                                                  \n",
            " cMaxP1 (MaxPooling1D)          (None, 15, 32)       0           ['cConv1[0][0]']                 \n",
            "                                                                                                  \n",
            " fDrop1 (Dropout)               (None, 62, 64)       0           ['fMaxP1[0][0]']                 \n",
            "                                                                                                  \n",
            " cDrop1 (Dropout)               (None, 15, 32)       0           ['cMaxP1[0][0]']                 \n",
            "                                                                                                  \n",
            " fConv2 (Conv1D)                (None, 62, 128)      65664       ['fDrop1[0][0]']                 \n",
            "                                                                                                  \n",
            " cConv2 (Conv1D)                (None, 15, 128)      24704       ['cDrop1[0][0]']                 \n",
            "                                                                                                  \n",
            " fConv3 (Conv1D)                (None, 62, 128)      131200      ['fConv2[0][0]']                 \n",
            "                                                                                                  \n",
            " cConv3 (Conv1D)                (None, 15, 128)      98432       ['cConv2[0][0]']                 \n",
            "                                                                                                  \n",
            " fConv4 (Conv1D)                (None, 62, 128)      131200      ['fConv3[0][0]']                 \n",
            "                                                                                                  \n",
            " cConv4 (Conv1D)                (None, 15, 128)      98432       ['cConv3[0][0]']                 \n",
            "                                                                                                  \n",
            " fMaxP2 (MaxPooling1D)          (None, 15, 128)      0           ['fConv4[0][0]']                 \n",
            "                                                                                                  \n",
            " cMaxP2 (MaxPooling1D)          (None, 7, 128)       0           ['cConv4[0][0]']                 \n",
            "                                                                                                  \n",
            " fFlat1 (Flatten)               (None, 1920)         0           ['fMaxP2[0][0]']                 \n",
            "                                                                                                  \n",
            " cFlat1 (Flatten)               (None, 896)          0           ['cMaxP2[0][0]']                 \n",
            "                                                                                                  \n",
            " merge_1 (Concatenate)          (None, 2816)         0           ['fFlat1[0][0]',                 \n",
            "                                                                  'cFlat1[0][0]']                 \n",
            "                                                                                                  \n",
            " mDrop1 (Dropout)               (None, 2816)         0           ['merge_1[0][0]']                \n",
            "                                                                                                  \n",
            " reshape1 (Reshape)             (None, 1, 2816)      0           ['mDrop1[0][0]']                 \n",
            "                                                                                                  \n",
            " lstm (LSTM)                    (None, 1, 64)        737536      ['reshape1[0][0]']               \n",
            "                                                                                                  \n",
            " lstm_1 (LSTM)                  (None, 64)           33024       ['lstm[0][0]']                   \n",
            "                                                                                                  \n",
            " outLayer (Dense)               (None, 5)            325         ['lstm_1[0][0]']                 \n",
            "                                                                                                  \n",
            "==================================================================================================\n",
            "Total params: 1,336,613\n",
            "Trainable params: 1,336,613\n",
            "Non-trainable params: 0\n",
            "__________________________________________________________________________________________________\n"
          ]
        }
      ]
    },
    {
      "cell_type": "code",
      "source": [
        "teacher_checkpt_path=\"/content/gdrive/My Drive/physionet/ensemble/tri_training/60_epochs_keras_way/teacher_60_epochs_keras_way_wts_trial_3.ckpt\"\n",
        "teacher_model.load_weights(teacher_checkpt_path)"
      ],
      "metadata": {
        "colab": {
          "base_uri": "https://localhost:8080/"
        },
        "id": "pDCEtB7lFkZo",
        "outputId": "8194bf71-b956-4ffc-a908-f2bd22abb885"
      },
      "execution_count": null,
      "outputs": [
        {
          "output_type": "execute_result",
          "data": {
            "text/plain": [
              "<tensorflow.python.training.tracking.util.CheckpointLoadStatus at 0x7f3b97be7a90>"
            ]
          },
          "metadata": {},
          "execution_count": 24
        }
      ]
    },
    {
      "cell_type": "code",
      "source": [
        "teacher_model.compile(optimizer=optimizer, loss='categorical_crossentropy', metrics=['accuracy'])"
      ],
      "metadata": {
        "id": "3Ze65PToFkcQ"
      },
      "execution_count": null,
      "outputs": []
    },
    {
      "cell_type": "code",
      "source": [
        "accuracy_teacher_model = teacher_model.evaluate(x_test_dt_rshp, y_test_dt_)"
      ],
      "metadata": {
        "colab": {
          "base_uri": "https://localhost:8080/"
        },
        "id": "ZgeFwysTFkeg",
        "outputId": "7128bd72-eee3-4f78-a2c8-a54077325d0a"
      },
      "execution_count": null,
      "outputs": [
        {
          "output_type": "stream",
          "name": "stdout",
          "text": [
            "16/16 [==============================] - 12s 9ms/step - loss: 1.7056 - accuracy: 0.7267\n"
          ]
        }
      ]
    },
    {
      "cell_type": "code",
      "source": [
        "preds_teacher_model = teacher_model.predict(x_test_dt_rshp)"
      ],
      "metadata": {
        "id": "s4W5ypltTa6p"
      },
      "execution_count": null,
      "outputs": []
    },
    {
      "cell_type": "code",
      "source": [
        "preds_teacher_model_fin=np.argmax(preds_teacher_model,axis=1)"
      ],
      "metadata": {
        "id": "uuHB_orpTf2e"
      },
      "execution_count": null,
      "outputs": []
    },
    {
      "cell_type": "code",
      "source": [
        "from sklearn.metrics import confusion_matrix\n",
        "matrix_teacher = confusion_matrix(y_test_dt, preds_teacher_model_fin)\n",
        "matrix_teacher.diagonal()/matrix_teacher.sum(axis=1)"
      ],
      "metadata": {
        "colab": {
          "base_uri": "https://localhost:8080/"
        },
        "id": "pvtceW5TWd21",
        "outputId": "3be4e5fc-c630-4fe3-c361-a61cb47b4428"
      },
      "execution_count": null,
      "outputs": [
        {
          "output_type": "execute_result",
          "data": {
            "text/plain": [
              "array([0.63492063, 0.10126582, 0.95154185, 0.4       , 0.92982456])"
            ]
          },
          "metadata": {},
          "execution_count": 34
        }
      ]
    },
    {
      "cell_type": "code",
      "source": [
        "#y_sub_dt\n",
        "from sklearn.metrics import precision_score, recall_score\n",
        "f1_teacher = f1_score(y_test_dt, preds_teacher_model_fin, average=\"macro\")\n",
        "prec_teacher = precision_score(y_test_dt, preds_teacher_model_fin, average=\"macro\")\n",
        "recall_teacher = recall_score(y_test_dt, preds_teacher_model_fin, average=\"macro\")\n",
        "if VBS:\n",
        "    print(\"Precision: {}\".format(prec_teacher)) \n",
        "    print(\"Recall: {}\".format(recall_teacher))\n",
        "    print(\"F1 score: {}\".format(f1_teacher))\n",
        "\n",
        "    report_teacher = classification_report(y_test_dt, preds_teacher_model_fin, digits=6)\n",
        "    print(report_teacher)"
      ],
      "metadata": {
        "colab": {
          "base_uri": "https://localhost:8080/"
        },
        "id": "Tui8TdKFWeA-",
        "outputId": "bd7f90be-3ba2-4397-d905-7590ceba7038"
      },
      "execution_count": null,
      "outputs": [
        {
          "output_type": "stream",
          "name": "stdout",
          "text": [
            "Precision: 0.6302438357681023\n",
            "Recall: 0.6035105738658435\n",
            "F1 score: 0.5937700476745531\n",
            "              precision    recall  f1-score   support\n",
            "\n",
            "           0   0.930233  0.634921  0.754717       126\n",
            "           1   0.160000  0.101266  0.124031        79\n",
            "           2   0.824427  0.951542  0.883436       227\n",
            "           3   0.666667  0.400000  0.500000         5\n",
            "           4   0.569892  0.929825  0.706667        57\n",
            "\n",
            "    accuracy                       0.726721       494\n",
            "   macro avg   0.630244  0.603511  0.593770       494\n",
            "weighted avg   0.714193  0.726721  0.704884       494\n",
            "\n"
          ]
        }
      ]
    },
    {
      "cell_type": "code",
      "source": [
        "#student model\n",
        "def get_model_1d_cnn():\n",
        "    nclass = 5\n",
        "    inp = Input(shape=(3000, 1))\n",
        "    img_1 = Conv1D(4, kernel_size=6, activation=activations.relu, strides=1, padding=\"valid\")(inp)\n",
        "    #img_1 = Conv1D(128, kernel_size=5, activation=activations.relu, strides=1, padding=\"valid\")(img_1)\n",
        "    img_1 = MaxPooling1D(pool_size=2)(img_1)\n",
        "    #img_1 = SpatialDropout1D(rate=0.2)(img_1)\n",
        "    img_1 = Conv1D(4, kernel_size=5, activation=activations.relu, strides=1, padding=\"valid\")(img_1)\n",
        "    #img_1 = Conv1D(256, kernel_size=7, activation=activations.relu, strides=1, padding=\"valid\")(img_1)\n",
        "    img_1 = MaxPooling1D(pool_size=2)(img_1)\n",
        "    #img_1 = SpatialDropout1D(rate=0.01)(img_1)\n",
        "    img_1 = Conv1D(10, kernel_size=4, activation=activations.relu, strides=1, padding=\"valid\")(img_1)\n",
        "    #img_1 = Conv1D(64, kernel_size=4, activation=activations.relu, strides=1, padding=\"valid\")(img_1)\n",
        "    img_1 = MaxPooling1D(pool_size=2)(img_1)\n",
        "    #img_1 = SpatialDropout1D(rate=0.01)(img_1)\n",
        "    img_1 = Conv1D(10, kernel_size=4, activation=activations.relu, strides=1, padding=\"valid\")(img_1)\n",
        "    img_1 = MaxPooling1D(pool_size=2)(img_1)\n",
        "    #img_1 = Conv1D(64, kernel_size=6, activation=activations.relu, strides=1, padding=\"valid\")(img_1)\n",
        "    #img_1 = MaxPooling1D(pool_size=2)(img_1)\n",
        "    img_1 = Flatten()(img_1)\n",
        "\n",
        "    \n",
        "    dense_1 = Dropout(rate=0.5)(img_1)\n",
        "    #dense_1 = Dropout(rate=0.05)(Dense(64, activation=activations.relu, name=\"dense_2\")(dense_1))\n",
        "    dense_1 = Dense(nclass, activation=activations.softmax)(dense_1)\n",
        "\n",
        "    model = Model(inputs=inp, outputs=dense_1)\n",
        "    opt = Adam(0.001)\n",
        "\n",
        "    model.compile(optimizer=opt, loss='categorical_crossentropy', metrics=['acc'])\n",
        "    model.summary()\n",
        "    return model"
      ],
      "metadata": {
        "id": "GyngnaseFkg2"
      },
      "execution_count": null,
      "outputs": []
    },
    {
      "cell_type": "code",
      "source": [
        "#student_model=get_model_cnn()\n",
        "student_model=get_model_1d_cnn()"
      ],
      "metadata": {
        "colab": {
          "base_uri": "https://localhost:8080/"
        },
        "id": "kwMaL5pBFkjW",
        "outputId": "c8dfcdfb-31d9-4508-de89-4e302fc61ab5"
      },
      "execution_count": null,
      "outputs": [
        {
          "output_type": "stream",
          "name": "stdout",
          "text": [
            "Model: \"model_1\"\n",
            "_________________________________________________________________\n",
            " Layer (type)                Output Shape              Param #   \n",
            "=================================================================\n",
            " input_2 (InputLayer)        [(None, 3000, 1)]         0         \n",
            "                                                                 \n",
            " conv1d_1 (Conv1D)           (None, 2995, 4)           28        \n",
            "                                                                 \n",
            " max_pooling1d (MaxPooling1D  (None, 1497, 4)          0         \n",
            " )                                                               \n",
            "                                                                 \n",
            " conv1d_2 (Conv1D)           (None, 1493, 4)           84        \n",
            "                                                                 \n",
            " max_pooling1d_1 (MaxPooling  (None, 746, 4)           0         \n",
            " 1D)                                                             \n",
            "                                                                 \n",
            " conv1d_3 (Conv1D)           (None, 743, 10)           170       \n",
            "                                                                 \n",
            " max_pooling1d_2 (MaxPooling  (None, 371, 10)          0         \n",
            " 1D)                                                             \n",
            "                                                                 \n",
            " conv1d_4 (Conv1D)           (None, 368, 10)           410       \n",
            "                                                                 \n",
            " max_pooling1d_3 (MaxPooling  (None, 184, 10)          0         \n",
            " 1D)                                                             \n",
            "                                                                 \n",
            " flatten (Flatten)           (None, 1840)              0         \n",
            "                                                                 \n",
            " dropout (Dropout)           (None, 1840)              0         \n",
            "                                                                 \n",
            " dense (Dense)               (None, 5)                 9205      \n",
            "                                                                 \n",
            "=================================================================\n",
            "Total params: 9,897\n",
            "Trainable params: 9,897\n",
            "Non-trainable params: 0\n",
            "_________________________________________________________________\n"
          ]
        }
      ]
    },
    {
      "cell_type": "code",
      "source": [
        "class Distiller(keras.Model):\n",
        "    def __init__(self, student, teacher):\n",
        "        super(Distiller, self).__init__()\n",
        "        self.teacher = teacher\n",
        "        self.student = student\n",
        "\n",
        "    def compile(\n",
        "        self,\n",
        "        optimizer,\n",
        "        metrics,\n",
        "        student_loss_fn,\n",
        "        distillation_loss_fn,\n",
        "        alpha=0.1,\n",
        "        temperature=3,\n",
        "    ):\n",
        "        \"\"\" Configure the distiller.\n",
        "\n",
        "        Args:\n",
        "            optimizer: Keras optimizer for the student weights\n",
        "            metrics: Keras metrics for evaluation\n",
        "            student_loss_fn: Loss function of difference between student\n",
        "                predictions and ground-truth\n",
        "            distillation_loss_fn: Loss function of difference between soft\n",
        "                student predictions and soft teacher predictions\n",
        "            alpha: weight to student_loss_fn and 1-alpha to distillation_loss_fn\n",
        "            temperature: Temperature for softening probability distributions.\n",
        "                Larger temperature gives softer distributions.\n",
        "        \"\"\"\n",
        "        super(Distiller, self).compile(optimizer=optimizer, metrics=metrics)\n",
        "        self.student_loss_fn = student_loss_fn\n",
        "        self.distillation_loss_fn = distillation_loss_fn\n",
        "        self.alpha = alpha\n",
        "        self.temperature = temperature\n",
        "\n",
        "    def train_step(self, data):\n",
        "        # Unpack data\n",
        "        x, y = data\n",
        "\n",
        "        # Forward pass of teacher\n",
        "        teacher_predictions = self.teacher(x, training=False)\n",
        "\n",
        "        with tf.GradientTape() as tape:\n",
        "            # Forward pass of student\n",
        "            student_predictions = self.student(x, training=True)\n",
        "\n",
        "            # Compute losses\n",
        "            student_loss = self.student_loss_fn(y, student_predictions)\n",
        "            distillation_loss = self.distillation_loss_fn(\n",
        "                tf.nn.softmax(teacher_predictions / self.temperature, axis=1),\n",
        "                tf.nn.softmax(student_predictions / self.temperature, axis=1),\n",
        "            )\n",
        "            loss = self.alpha * student_loss + (1 - self.alpha) * distillation_loss\n",
        "\n",
        "        # Compute gradients\n",
        "        trainable_vars = self.student.trainable_variables\n",
        "        gradients = tape.gradient(loss, trainable_vars)\n",
        "\n",
        "        # Update weights\n",
        "        self.optimizer.apply_gradients(zip(gradients, trainable_vars))\n",
        "\n",
        "        # Update the metrics configured in `compile()`.\n",
        "        self.compiled_metrics.update_state(y, student_predictions)\n",
        "\n",
        "        # Return a dict of performance\n",
        "        results = {m.name: m.result() for m in self.metrics}\n",
        "        results.update(\n",
        "            {\"student_loss\": student_loss, \"distillation_loss\": distillation_loss}\n",
        "        )\n",
        "        return results\n",
        "\n",
        "    def test_step(self, data):\n",
        "        # Unpack the data\n",
        "        x, y = data\n",
        "\n",
        "        # Compute predictions\n",
        "        y_prediction = self.student(x, training=False)\n",
        "\n",
        "        # Calculate the loss\n",
        "        student_loss = self.student_loss_fn(y, y_prediction)\n",
        "\n",
        "        # Update the metrics.\n",
        "        self.compiled_metrics.update_state(y, y_prediction)\n",
        "\n",
        "        # Return a dict of performance\n",
        "        results = {m.name: m.result() for m in self.metrics}\n",
        "        results.update({\"student_loss\": student_loss})\n",
        "        return results\n"
      ],
      "metadata": {
        "id": "a9Bm-YZ5Fkm2"
      },
      "execution_count": null,
      "outputs": []
    },
    {
      "cell_type": "code",
      "source": [
        "# Initialize and compile distiller\n",
        "distiller = Distiller(student=student_model, teacher=teacher_model)\n",
        "distiller.compile(\n",
        "    optimizer=keras.optimizers.Adam(),\n",
        "    metrics=[keras.metrics.CategoricalAccuracy()],\n",
        "    student_loss_fn=keras.losses.CategoricalCrossentropy(from_logits=True),\n",
        "    distillation_loss_fn=keras.losses.KLDivergence(),\n",
        "    alpha=0.9,\n",
        "    temperature=5,\n",
        ")\n",
        "\n",
        "# Distill teacher to student\n",
        "distiller.fit(x_dt_rshp, y_dt_, epochs=70)\n",
        "\n",
        "# Evaluate student on test dataset\n",
        "#distiller.evaluate(x_test, y_test)"
      ],
      "metadata": {
        "colab": {
          "base_uri": "https://localhost:8080/"
        },
        "id": "wQkkCtP2G2_6",
        "outputId": "d8985887-43f5-4951-e90b-e7049418f504"
      },
      "execution_count": null,
      "outputs": [
        {
          "output_type": "stream",
          "name": "stdout",
          "text": [
            "Epoch 1/70\n",
            "3710/3710 [==============================] - 35s 8ms/step - categorical_accuracy: 0.6874 - student_loss: 0.7731 - distillation_loss: 0.0017\n",
            "Epoch 2/70\n",
            "3710/3710 [==============================] - 30s 8ms/step - categorical_accuracy: 0.7673 - student_loss: 0.5571 - distillation_loss: 0.0012\n",
            "Epoch 3/70\n",
            "3710/3710 [==============================] - 30s 8ms/step - categorical_accuracy: 0.7925 - student_loss: 0.5033 - distillation_loss: 0.0011\n",
            "Epoch 4/70\n",
            "3710/3710 [==============================] - 30s 8ms/step - categorical_accuracy: 0.8194 - student_loss: 0.4470 - distillation_loss: 9.6651e-04\n",
            "Epoch 5/70\n",
            "3710/3710 [==============================] - 30s 8ms/step - categorical_accuracy: 0.8324 - student_loss: 0.4185 - distillation_loss: 9.0098e-04\n",
            "Epoch 6/70\n",
            "3710/3710 [==============================] - 30s 8ms/step - categorical_accuracy: 0.8378 - student_loss: 0.4043 - distillation_loss: 8.7086e-04\n",
            "Epoch 7/70\n",
            "3710/3710 [==============================] - 30s 8ms/step - categorical_accuracy: 0.8414 - student_loss: 0.3976 - distillation_loss: 8.5371e-04\n",
            "Epoch 8/70\n",
            "3710/3710 [==============================] - 30s 8ms/step - categorical_accuracy: 0.8456 - student_loss: 0.3876 - distillation_loss: 8.3279e-04\n",
            "Epoch 9/70\n",
            "3710/3710 [==============================] - 30s 8ms/step - categorical_accuracy: 0.8477 - student_loss: 0.3814 - distillation_loss: 8.1781e-04\n",
            "Epoch 10/70\n",
            "3710/3710 [==============================] - 30s 8ms/step - categorical_accuracy: 0.8505 - student_loss: 0.3752 - distillation_loss: 8.0528e-04\n",
            "Epoch 11/70\n",
            "3710/3710 [==============================] - 30s 8ms/step - categorical_accuracy: 0.8524 - student_loss: 0.3712 - distillation_loss: 7.9594e-04\n",
            "Epoch 12/70\n",
            "3710/3710 [==============================] - 30s 8ms/step - categorical_accuracy: 0.8532 - student_loss: 0.3689 - distillation_loss: 7.8840e-04\n",
            "Epoch 13/70\n",
            "3710/3710 [==============================] - 30s 8ms/step - categorical_accuracy: 0.8556 - student_loss: 0.3645 - distillation_loss: 7.8063e-04\n",
            "Epoch 14/70\n",
            "3710/3710 [==============================] - 30s 8ms/step - categorical_accuracy: 0.8549 - student_loss: 0.3639 - distillation_loss: 7.8138e-04\n",
            "Epoch 15/70\n",
            "3710/3710 [==============================] - 30s 8ms/step - categorical_accuracy: 0.8558 - student_loss: 0.3622 - distillation_loss: 7.7406e-04\n",
            "Epoch 16/70\n",
            "3710/3710 [==============================] - 30s 8ms/step - categorical_accuracy: 0.8560 - student_loss: 0.3604 - distillation_loss: 7.7157e-04\n",
            "Epoch 17/70\n",
            "3710/3710 [==============================] - 30s 8ms/step - categorical_accuracy: 0.8574 - student_loss: 0.3597 - distillation_loss: 7.6879e-04\n",
            "Epoch 18/70\n",
            "3710/3710 [==============================] - 30s 8ms/step - categorical_accuracy: 0.8584 - student_loss: 0.3553 - distillation_loss: 7.5982e-04\n",
            "Epoch 19/70\n",
            "3710/3710 [==============================] - 30s 8ms/step - categorical_accuracy: 0.8592 - student_loss: 0.3541 - distillation_loss: 7.5774e-04\n",
            "Epoch 20/70\n",
            "3710/3710 [==============================] - 30s 8ms/step - categorical_accuracy: 0.8615 - student_loss: 0.3501 - distillation_loss: 7.4839e-04\n",
            "Epoch 21/70\n",
            "3710/3710 [==============================] - 30s 8ms/step - categorical_accuracy: 0.8604 - student_loss: 0.3512 - distillation_loss: 7.4969e-04\n",
            "Epoch 22/70\n",
            "3710/3710 [==============================] - 30s 8ms/step - categorical_accuracy: 0.8620 - student_loss: 0.3481 - distillation_loss: 7.4248e-04\n",
            "Epoch 23/70\n",
            "3710/3710 [==============================] - 30s 8ms/step - categorical_accuracy: 0.8618 - student_loss: 0.3481 - distillation_loss: 7.4451e-04\n",
            "Epoch 24/70\n",
            "3710/3710 [==============================] - 30s 8ms/step - categorical_accuracy: 0.8618 - student_loss: 0.3482 - distillation_loss: 7.4562e-04\n",
            "Epoch 25/70\n",
            "3710/3710 [==============================] - 30s 8ms/step - categorical_accuracy: 0.8614 - student_loss: 0.3466 - distillation_loss: 7.4112e-04\n",
            "Epoch 26/70\n",
            "3710/3710 [==============================] - 30s 8ms/step - categorical_accuracy: 0.8641 - student_loss: 0.3436 - distillation_loss: 7.3410e-04\n",
            "Epoch 27/70\n",
            "3710/3710 [==============================] - 30s 8ms/step - categorical_accuracy: 0.8638 - student_loss: 0.3444 - distillation_loss: 7.3611e-04\n",
            "Epoch 28/70\n",
            "3710/3710 [==============================] - 30s 8ms/step - categorical_accuracy: 0.8637 - student_loss: 0.3415 - distillation_loss: 7.3263e-04\n",
            "Epoch 29/70\n",
            "3710/3710 [==============================] - 30s 8ms/step - categorical_accuracy: 0.8648 - student_loss: 0.3403 - distillation_loss: 7.3001e-04\n",
            "Epoch 30/70\n",
            "3710/3710 [==============================] - 30s 8ms/step - categorical_accuracy: 0.8654 - student_loss: 0.3388 - distillation_loss: 7.2531e-04\n",
            "Epoch 31/70\n",
            "3710/3710 [==============================] - 30s 8ms/step - categorical_accuracy: 0.8663 - student_loss: 0.3396 - distillation_loss: 7.2602e-04\n",
            "Epoch 32/70\n",
            "3710/3710 [==============================] - 30s 8ms/step - categorical_accuracy: 0.8651 - student_loss: 0.3383 - distillation_loss: 7.2523e-04\n",
            "Epoch 33/70\n",
            "3710/3710 [==============================] - 30s 8ms/step - categorical_accuracy: 0.8668 - student_loss: 0.3358 - distillation_loss: 7.2045e-04\n",
            "Epoch 34/70\n",
            "3710/3710 [==============================] - 30s 8ms/step - categorical_accuracy: 0.8668 - student_loss: 0.3352 - distillation_loss: 7.1757e-04\n",
            "Epoch 35/70\n",
            "3710/3710 [==============================] - 30s 8ms/step - categorical_accuracy: 0.8684 - student_loss: 0.3308 - distillation_loss: 7.0958e-04\n",
            "Epoch 36/70\n",
            "3710/3710 [==============================] - 30s 8ms/step - categorical_accuracy: 0.8670 - student_loss: 0.3343 - distillation_loss: 7.1636e-04\n",
            "Epoch 37/70\n",
            "3710/3710 [==============================] - 30s 8ms/step - categorical_accuracy: 0.8675 - student_loss: 0.3330 - distillation_loss: 7.1398e-04\n",
            "Epoch 38/70\n",
            "3710/3710 [==============================] - 30s 8ms/step - categorical_accuracy: 0.8685 - student_loss: 0.3315 - distillation_loss: 7.0944e-04\n",
            "Epoch 39/70\n",
            "3710/3710 [==============================] - 30s 8ms/step - categorical_accuracy: 0.8672 - student_loss: 0.3319 - distillation_loss: 7.1012e-04\n",
            "Epoch 40/70\n",
            "3710/3710 [==============================] - 30s 8ms/step - categorical_accuracy: 0.8687 - student_loss: 0.3305 - distillation_loss: 7.0869e-04\n",
            "Epoch 41/70\n",
            "3710/3710 [==============================] - 30s 8ms/step - categorical_accuracy: 0.8686 - student_loss: 0.3316 - distillation_loss: 7.0911e-04\n",
            "Epoch 42/70\n",
            "3710/3710 [==============================] - 30s 8ms/step - categorical_accuracy: 0.8681 - student_loss: 0.3310 - distillation_loss: 7.0744e-04\n",
            "Epoch 43/70\n",
            "3710/3710 [==============================] - 30s 8ms/step - categorical_accuracy: 0.8688 - student_loss: 0.3297 - distillation_loss: 7.0601e-04\n",
            "Epoch 44/70\n",
            "3710/3710 [==============================] - 30s 8ms/step - categorical_accuracy: 0.8698 - student_loss: 0.3296 - distillation_loss: 7.0858e-04\n",
            "Epoch 45/70\n",
            "3710/3710 [==============================] - 30s 8ms/step - categorical_accuracy: 0.8681 - student_loss: 0.3319 - distillation_loss: 7.1032e-04\n",
            "Epoch 46/70\n",
            "3710/3710 [==============================] - 30s 8ms/step - categorical_accuracy: 0.8714 - student_loss: 0.3270 - distillation_loss: 6.9948e-04\n",
            "Epoch 47/70\n",
            "3710/3710 [==============================] - 30s 8ms/step - categorical_accuracy: 0.8698 - student_loss: 0.3272 - distillation_loss: 7.0258e-04\n",
            "Epoch 48/70\n",
            "3710/3710 [==============================] - 30s 8ms/step - categorical_accuracy: 0.8701 - student_loss: 0.3267 - distillation_loss: 7.0083e-04\n",
            "Epoch 49/70\n",
            "3710/3710 [==============================] - 30s 8ms/step - categorical_accuracy: 0.8702 - student_loss: 0.3269 - distillation_loss: 6.9950e-04\n",
            "Epoch 50/70\n",
            "3710/3710 [==============================] - 30s 8ms/step - categorical_accuracy: 0.8709 - student_loss: 0.3260 - distillation_loss: 6.9786e-04\n",
            "Epoch 51/70\n",
            "3710/3710 [==============================] - 30s 8ms/step - categorical_accuracy: 0.8694 - student_loss: 0.3281 - distillation_loss: 7.0255e-04\n",
            "Epoch 52/70\n",
            "3710/3710 [==============================] - 30s 8ms/step - categorical_accuracy: 0.8704 - student_loss: 0.3252 - distillation_loss: 6.9796e-04\n",
            "Epoch 53/70\n",
            "3710/3710 [==============================] - 30s 8ms/step - categorical_accuracy: 0.8715 - student_loss: 0.3258 - distillation_loss: 6.9788e-04\n",
            "Epoch 54/70\n",
            "3710/3710 [==============================] - 30s 8ms/step - categorical_accuracy: 0.8708 - student_loss: 0.3259 - distillation_loss: 6.9816e-04\n",
            "Epoch 55/70\n",
            "3710/3710 [==============================] - 30s 8ms/step - categorical_accuracy: 0.8709 - student_loss: 0.3242 - distillation_loss: 6.9507e-04\n",
            "Epoch 56/70\n",
            "3710/3710 [==============================] - 30s 8ms/step - categorical_accuracy: 0.8708 - student_loss: 0.3234 - distillation_loss: 6.9423e-04\n",
            "Epoch 57/70\n",
            "3710/3710 [==============================] - 30s 8ms/step - categorical_accuracy: 0.8721 - student_loss: 0.3213 - distillation_loss: 6.8819e-04\n",
            "Epoch 58/70\n",
            "3710/3710 [==============================] - 30s 8ms/step - categorical_accuracy: 0.8723 - student_loss: 0.3237 - distillation_loss: 6.9361e-04\n",
            "Epoch 59/70\n",
            "3710/3710 [==============================] - 30s 8ms/step - categorical_accuracy: 0.8715 - student_loss: 0.3235 - distillation_loss: 6.9449e-04\n",
            "Epoch 60/70\n",
            "3710/3710 [==============================] - 30s 8ms/step - categorical_accuracy: 0.8716 - student_loss: 0.3236 - distillation_loss: 6.9480e-04\n",
            "Epoch 61/70\n",
            "3710/3710 [==============================] - 30s 8ms/step - categorical_accuracy: 0.8717 - student_loss: 0.3243 - distillation_loss: 6.9389e-04\n",
            "Epoch 62/70\n",
            "3710/3710 [==============================] - 30s 8ms/step - categorical_accuracy: 0.8722 - student_loss: 0.3236 - distillation_loss: 6.9182e-04\n",
            "Epoch 63/70\n",
            "3710/3710 [==============================] - 30s 8ms/step - categorical_accuracy: 0.8720 - student_loss: 0.3230 - distillation_loss: 6.9199e-04\n",
            "Epoch 64/70\n",
            "3710/3710 [==============================] - 30s 8ms/step - categorical_accuracy: 0.8734 - student_loss: 0.3196 - distillation_loss: 6.8512e-04\n",
            "Epoch 65/70\n",
            "3710/3710 [==============================] - 30s 8ms/step - categorical_accuracy: 0.8719 - student_loss: 0.3225 - distillation_loss: 6.9017e-04\n",
            "Epoch 66/70\n",
            "3710/3710 [==============================] - 30s 8ms/step - categorical_accuracy: 0.8719 - student_loss: 0.3233 - distillation_loss: 6.9413e-04\n",
            "Epoch 67/70\n",
            "3710/3710 [==============================] - 30s 8ms/step - categorical_accuracy: 0.8721 - student_loss: 0.3216 - distillation_loss: 6.9033e-04\n",
            "Epoch 68/70\n",
            "3710/3710 [==============================] - 30s 8ms/step - categorical_accuracy: 0.8726 - student_loss: 0.3204 - distillation_loss: 6.8643e-04\n",
            "Epoch 69/70\n",
            "3710/3710 [==============================] - 30s 8ms/step - categorical_accuracy: 0.8736 - student_loss: 0.3200 - distillation_loss: 6.8521e-04\n",
            "Epoch 70/70\n",
            "3710/3710 [==============================] - 30s 8ms/step - categorical_accuracy: 0.8736 - student_loss: 0.3193 - distillation_loss: 6.8421e-04\n"
          ]
        },
        {
          "output_type": "execute_result",
          "data": {
            "text/plain": [
              "<keras.callbacks.History at 0x7f3b97105410>"
            ]
          },
          "metadata": {},
          "execution_count": 42
        }
      ]
    },
    {
      "cell_type": "code",
      "source": [
        "accuracy_distiller = distiller.evaluate(x_test_dt_rshp, y_test_dt_)"
      ],
      "metadata": {
        "colab": {
          "base_uri": "https://localhost:8080/"
        },
        "id": "j2lHkQnZG-76",
        "outputId": "91b0db0c-f61d-46a0-ff63-ff2c708d9ab5"
      },
      "execution_count": null,
      "outputs": [
        {
          "output_type": "stream",
          "name": "stdout",
          "text": [
            "16/16 [==============================] - 0s 5ms/step - categorical_accuracy: 0.7328 - student_loss: 1.2516\n"
          ]
        }
      ]
    },
    {
      "cell_type": "code",
      "source": [
        "preds_student_model = student_model.predict(x_test_dt_rshp)"
      ],
      "metadata": {
        "id": "P1g5caDhG-9-"
      },
      "execution_count": null,
      "outputs": []
    },
    {
      "cell_type": "code",
      "source": [
        "preds_student_model_fin=np.argmax(preds_student_model,axis=1)"
      ],
      "metadata": {
        "id": "ZerweBxiG_Be"
      },
      "execution_count": null,
      "outputs": []
    },
    {
      "cell_type": "code",
      "source": [
        "from sklearn.metrics import confusion_matrix\n",
        "matrix_student = confusion_matrix(y_test_dt, preds_student_model_fin)\n",
        "matrix_student.diagonal()/matrix_student.sum(axis=1)"
      ],
      "metadata": {
        "colab": {
          "base_uri": "https://localhost:8080/"
        },
        "id": "M7XaL4lfHL0N",
        "outputId": "2505c0dc-5c04-4a56-c63f-c45bd330c857"
      },
      "execution_count": null,
      "outputs": [
        {
          "output_type": "execute_result",
          "data": {
            "text/plain": [
              "array([0.69047619, 0.06329114, 0.94713656, 0.4       , 0.92982456])"
            ]
          },
          "metadata": {},
          "execution_count": 46
        }
      ]
    },
    {
      "cell_type": "code",
      "source": [
        "#y_sub_dt\n",
        "from sklearn.metrics import precision_score, recall_score\n",
        "f1_student = f1_score(y_test_dt, preds_student_model_fin, average=\"macro\")\n",
        "prec_student = precision_score(y_test_dt, preds_student_model_fin, average=\"macro\")\n",
        "recall_student = recall_score(y_test_dt, preds_student_model_fin, average=\"macro\")\n",
        "if VBS:\n",
        "    print(\"Precision: {}\".format(prec_student)) \n",
        "    print(\"Recall: {}\".format(recall_student))\n",
        "    print(\"F1 score: {}\".format(f1_student))\n",
        "\n",
        "    report_student = classification_report(y_test_dt, preds_student_model_fin, digits=6)\n",
        "    print(report_student)"
      ],
      "metadata": {
        "id": "HxVPthzBHSHp",
        "colab": {
          "base_uri": "https://localhost:8080/"
        },
        "outputId": "42d16432-c389-4ac5-a610-f45e29b05bd7"
      },
      "execution_count": null,
      "outputs": [
        {
          "output_type": "stream",
          "name": "stdout",
          "text": [
            "Precision: 0.5690676934765234\n",
            "Recall: 0.6061456909993715\n",
            "F1 score: 0.5640016562384983\n",
            "              precision    recall  f1-score   support\n",
            "\n",
            "           0   0.925532  0.690476  0.790909       126\n",
            "           1   0.200000  0.063291  0.096154        79\n",
            "           2   0.805243  0.947137  0.870445       227\n",
            "           3   0.400000  0.400000  0.400000         5\n",
            "           4   0.514563  0.929825  0.662500        57\n",
            "\n",
            "    accuracy                       0.732794       494\n",
            "   macro avg   0.569068  0.606146  0.564002       494\n",
            "weighted avg   0.701493  0.732794  0.697580       494\n",
            "\n"
          ]
        }
      ]
    },
    {
      "cell_type": "code",
      "source": [
        "#40 epochs teacher model\n",
        "#alpha=0.9, temp=4\n",
        "#40 epochs: 83.71\n",
        "#50 epochs: 84.36\n",
        "#60 epochs: 83.88"
      ],
      "metadata": {
        "id": "COIr1XFd6_Qh"
      },
      "execution_count": null,
      "outputs": []
    },
    {
      "cell_type": "code",
      "source": [
        "#70 epochs teacher"
      ],
      "metadata": {
        "id": "j8k30A9iTGt4"
      },
      "execution_count": null,
      "outputs": []
    },
    {
      "cell_type": "code",
      "source": [
        "teacher_model=model_b(verbose=VBS) #70 epochs teacher model"
      ],
      "metadata": {
        "colab": {
          "base_uri": "https://localhost:8080/"
        },
        "id": "kjXf5fijRcnK",
        "outputId": "0c11f49b-ef74-4e49-ad49-c31f5023944a"
      },
      "execution_count": null,
      "outputs": [
        {
          "output_type": "stream",
          "name": "stdout",
          "text": [
            "Model: \"model\"\n",
            "__________________________________________________________________________________________________\n",
            " Layer (type)                   Output Shape         Param #     Connected to                     \n",
            "==================================================================================================\n",
            " inLayer (InputLayer)           [(None, 3000, 1)]    0           []                               \n",
            "                                                                                                  \n",
            " fConv1 (Conv1D)                (None, 500, 64)      3264        ['inLayer[0][0]']                \n",
            "                                                                                                  \n",
            " cConv1 (Conv1D)                (None, 60, 32)       12832       ['inLayer[0][0]']                \n",
            "                                                                                                  \n",
            " fMaxP1 (MaxPooling1D)          (None, 62, 64)       0           ['fConv1[0][0]']                 \n",
            "                                                                                                  \n",
            " cMaxP1 (MaxPooling1D)          (None, 15, 32)       0           ['cConv1[0][0]']                 \n",
            "                                                                                                  \n",
            " fDrop1 (Dropout)               (None, 62, 64)       0           ['fMaxP1[0][0]']                 \n",
            "                                                                                                  \n",
            " cDrop1 (Dropout)               (None, 15, 32)       0           ['cMaxP1[0][0]']                 \n",
            "                                                                                                  \n",
            " fConv2 (Conv1D)                (None, 62, 128)      65664       ['fDrop1[0][0]']                 \n",
            "                                                                                                  \n",
            " cConv2 (Conv1D)                (None, 15, 128)      24704       ['cDrop1[0][0]']                 \n",
            "                                                                                                  \n",
            " fConv3 (Conv1D)                (None, 62, 128)      131200      ['fConv2[0][0]']                 \n",
            "                                                                                                  \n",
            " cConv3 (Conv1D)                (None, 15, 128)      98432       ['cConv2[0][0]']                 \n",
            "                                                                                                  \n",
            " fConv4 (Conv1D)                (None, 62, 128)      131200      ['fConv3[0][0]']                 \n",
            "                                                                                                  \n",
            " cConv4 (Conv1D)                (None, 15, 128)      98432       ['cConv3[0][0]']                 \n",
            "                                                                                                  \n",
            " fMaxP2 (MaxPooling1D)          (None, 15, 128)      0           ['fConv4[0][0]']                 \n",
            "                                                                                                  \n",
            " cMaxP2 (MaxPooling1D)          (None, 7, 128)       0           ['cConv4[0][0]']                 \n",
            "                                                                                                  \n",
            " fFlat1 (Flatten)               (None, 1920)         0           ['fMaxP2[0][0]']                 \n",
            "                                                                                                  \n",
            " cFlat1 (Flatten)               (None, 896)          0           ['cMaxP2[0][0]']                 \n",
            "                                                                                                  \n",
            " merge_1 (Concatenate)          (None, 2816)         0           ['fFlat1[0][0]',                 \n",
            "                                                                  'cFlat1[0][0]']                 \n",
            "                                                                                                  \n",
            " mDrop1 (Dropout)               (None, 2816)         0           ['merge_1[0][0]']                \n",
            "                                                                                                  \n",
            " reshape1 (Reshape)             (None, 1, 2816)      0           ['mDrop1[0][0]']                 \n",
            "                                                                                                  \n",
            " lstm (LSTM)                    (None, 1, 64)        737536      ['reshape1[0][0]']               \n",
            "                                                                                                  \n",
            " lstm_1 (LSTM)                  (None, 64)           33024       ['lstm[0][0]']                   \n",
            "                                                                                                  \n",
            " outLayer (Dense)               (None, 5)            325         ['lstm_1[0][0]']                 \n",
            "                                                                                                  \n",
            "==================================================================================================\n",
            "Total params: 1,336,613\n",
            "Trainable params: 1,336,613\n",
            "Non-trainable params: 0\n",
            "__________________________________________________________________________________________________\n"
          ]
        }
      ]
    },
    {
      "cell_type": "code",
      "source": [
        "teacher_checkpt_path=\"/content/gdrive/My Drive/physionet/ensemble/tri_training/70_epochs_keras_way/teacher_70_epochs_keras_way_wts_trial_3.ckpt\"\n",
        "teacher_model.load_weights(teacher_checkpt_path)"
      ],
      "metadata": {
        "colab": {
          "base_uri": "https://localhost:8080/"
        },
        "id": "5zYgvXtNRsy3",
        "outputId": "e4cf5299-ee5a-4449-ab7d-149f50d8ad0d"
      },
      "execution_count": null,
      "outputs": [
        {
          "output_type": "execute_result",
          "data": {
            "text/plain": [
              "<tensorflow.python.training.tracking.util.CheckpointLoadStatus at 0x7f52821dde50>"
            ]
          },
          "metadata": {},
          "execution_count": 30
        }
      ]
    },
    {
      "cell_type": "code",
      "source": [
        "teacher_model.compile(optimizer=optimizer, loss='categorical_crossentropy', metrics=['accuracy'])"
      ],
      "metadata": {
        "id": "14-DjWTSR58o"
      },
      "execution_count": null,
      "outputs": []
    },
    {
      "cell_type": "code",
      "source": [
        "accuracy_teacher_model = teacher_model.evaluate(x_test_dt_rshp, y_test_dt_)"
      ],
      "metadata": {
        "colab": {
          "base_uri": "https://localhost:8080/"
        },
        "id": "bb4buvHbR_Vb",
        "outputId": "c368cf8c-5077-47a1-e8ea-8501edbae6f7"
      },
      "execution_count": null,
      "outputs": [
        {
          "output_type": "stream",
          "name": "stdout",
          "text": [
            "16/16 [==============================] - 2s 4ms/step - loss: 1.7825 - accuracy: 0.7227\n"
          ]
        }
      ]
    },
    {
      "cell_type": "code",
      "source": [
        "preds_teacher_model = teacher_model.predict(x_test_dt_rshp)"
      ],
      "metadata": {
        "id": "uO9gTdxhSFUh"
      },
      "execution_count": null,
      "outputs": []
    },
    {
      "cell_type": "code",
      "source": [
        "preds_teacher_model_fin=np.argmax(preds_teacher_model,axis=1)"
      ],
      "metadata": {
        "id": "pwomzs7iSJHX"
      },
      "execution_count": null,
      "outputs": []
    },
    {
      "cell_type": "code",
      "source": [
        "from sklearn.metrics import confusion_matrix\n",
        "matrix_teacher = confusion_matrix(y_test_dt, preds_teacher_model_fin)\n",
        "matrix_teacher.diagonal()/matrix_teacher.sum(axis=1)"
      ],
      "metadata": {
        "colab": {
          "base_uri": "https://localhost:8080/"
        },
        "id": "ndGCc23zSPVw",
        "outputId": "861c805f-7ef8-45bc-e1af-7a7adba7f9bf"
      },
      "execution_count": null,
      "outputs": [
        {
          "output_type": "execute_result",
          "data": {
            "text/plain": [
              "array([0.61904762, 0.12658228, 0.96035242, 0.2       , 0.87719298])"
            ]
          },
          "metadata": {},
          "execution_count": 41
        }
      ]
    },
    {
      "cell_type": "code",
      "source": [
        "#y_sub_dt\n",
        "from sklearn.metrics import precision_score, recall_score\n",
        "f1_teacher = f1_score(y_test_dt, preds_teacher_model_fin, average=\"macro\")\n",
        "prec_teacher = precision_score(y_test_dt, preds_teacher_model_fin, average=\"macro\")\n",
        "recall_teacher = recall_score(y_test_dt, preds_teacher_model_fin, average=\"macro\")\n",
        "if VBS:\n",
        "    print(\"Precision: {}\".format(prec_teacher)) \n",
        "    print(\"Recall: {}\".format(recall_teacher))\n",
        "    print(\"F1 score: {}\".format(f1_teacher))\n",
        "\n",
        "    report_teacher = classification_report(y_test_dt, preds_teacher_model_fin, digits=6)\n",
        "    print(report_teacher)"
      ],
      "metadata": {
        "colab": {
          "base_uri": "https://localhost:8080/"
        },
        "id": "0t2Lpu-NSUBg",
        "outputId": "8d5b348b-6adc-410a-acab-e1ca71780531"
      },
      "execution_count": null,
      "outputs": [
        {
          "output_type": "stream",
          "name": "stdout",
          "text": [
            "Precision: 0.5980775145150559\n",
            "Recall: 0.5566350605784522\n",
            "F1 score: 0.5496683864050396\n",
            "              precision    recall  f1-score   support\n",
            "\n",
            "           0   0.917647  0.619048  0.739336       126\n",
            "           1   0.185185  0.126582  0.150376        79\n",
            "           2   0.825758  0.960352  0.887984       227\n",
            "           3   0.500000  0.200000  0.285714         5\n",
            "           4   0.561798  0.877193  0.684932        57\n",
            "\n",
            "    accuracy                       0.722672       494\n",
            "   macro avg   0.598078  0.556635  0.549668       494\n",
            "weighted avg   0.713001  0.722672  0.702587       494\n",
            "\n"
          ]
        }
      ]
    },
    {
      "cell_type": "code",
      "source": [
        "#student model\n",
        "def get_model_1d_cnn():\n",
        "    nclass = 5\n",
        "    inp = Input(shape=(3000, 1))\n",
        "    img_1 = Conv1D(4, kernel_size=6, activation=activations.relu, strides=1, padding=\"valid\")(inp)\n",
        "    #img_1 = Conv1D(128, kernel_size=5, activation=activations.relu, strides=1, padding=\"valid\")(img_1)\n",
        "    img_1 = MaxPooling1D(pool_size=2)(img_1)\n",
        "    #img_1 = SpatialDropout1D(rate=0.2)(img_1)\n",
        "    img_1 = Conv1D(4, kernel_size=5, activation=activations.relu, strides=1, padding=\"valid\")(img_1)\n",
        "    #img_1 = Conv1D(256, kernel_size=7, activation=activations.relu, strides=1, padding=\"valid\")(img_1)\n",
        "    img_1 = MaxPooling1D(pool_size=2)(img_1)\n",
        "    #img_1 = SpatialDropout1D(rate=0.01)(img_1)\n",
        "    img_1 = Conv1D(10, kernel_size=4, activation=activations.relu, strides=1, padding=\"valid\")(img_1)\n",
        "    #img_1 = Conv1D(64, kernel_size=4, activation=activations.relu, strides=1, padding=\"valid\")(img_1)\n",
        "    img_1 = MaxPooling1D(pool_size=2)(img_1)\n",
        "    #img_1 = SpatialDropout1D(rate=0.01)(img_1)\n",
        "    img_1 = Conv1D(10, kernel_size=4, activation=activations.relu, strides=1, padding=\"valid\")(img_1)\n",
        "    img_1 = MaxPooling1D(pool_size=2)(img_1)\n",
        "    #img_1 = Conv1D(64, kernel_size=6, activation=activations.relu, strides=1, padding=\"valid\")(img_1)\n",
        "    #img_1 = MaxPooling1D(pool_size=2)(img_1)\n",
        "    img_1 = Flatten()(img_1)\n",
        "\n",
        "    \n",
        "    dense_1 = Dropout(rate=0.5)(img_1)\n",
        "    #dense_1 = Dropout(rate=0.05)(Dense(64, activation=activations.relu, name=\"dense_2\")(dense_1))\n",
        "    dense_1 = Dense(nclass, activation=activations.softmax)(dense_1)\n",
        "\n",
        "    model = Model(inputs=inp, outputs=dense_1)\n",
        "    opt = Adam(0.001)\n",
        "\n",
        "    model.compile(optimizer=opt, loss='categorical_crossentropy', metrics=['acc'])\n",
        "    model.summary()\n",
        "    return model"
      ],
      "metadata": {
        "id": "M-yJ5HFnSWm4"
      },
      "execution_count": null,
      "outputs": []
    },
    {
      "cell_type": "code",
      "source": [
        "#student_model=get_model_cnn()\n",
        "student_model=get_model_1d_cnn()"
      ],
      "metadata": {
        "colab": {
          "base_uri": "https://localhost:8080/"
        },
        "id": "iWfznfwySb5D",
        "outputId": "e042f7f9-77da-4f9e-ba81-208f109a6b9a"
      },
      "execution_count": null,
      "outputs": [
        {
          "output_type": "stream",
          "name": "stdout",
          "text": [
            "Model: \"model_2\"\n",
            "_________________________________________________________________\n",
            " Layer (type)                Output Shape              Param #   \n",
            "=================================================================\n",
            " input_2 (InputLayer)        [(None, 3000, 1)]         0         \n",
            "                                                                 \n",
            " conv1d_1 (Conv1D)           (None, 2995, 4)           28        \n",
            "                                                                 \n",
            " max_pooling1d (MaxPooling1D  (None, 1497, 4)          0         \n",
            " )                                                               \n",
            "                                                                 \n",
            " conv1d_2 (Conv1D)           (None, 1493, 4)           84        \n",
            "                                                                 \n",
            " max_pooling1d_1 (MaxPooling  (None, 746, 4)           0         \n",
            " 1D)                                                             \n",
            "                                                                 \n",
            " conv1d_3 (Conv1D)           (None, 743, 10)           170       \n",
            "                                                                 \n",
            " max_pooling1d_2 (MaxPooling  (None, 371, 10)          0         \n",
            " 1D)                                                             \n",
            "                                                                 \n",
            " conv1d_4 (Conv1D)           (None, 368, 10)           410       \n",
            "                                                                 \n",
            " max_pooling1d_3 (MaxPooling  (None, 184, 10)          0         \n",
            " 1D)                                                             \n",
            "                                                                 \n",
            " flatten (Flatten)           (None, 1840)              0         \n",
            "                                                                 \n",
            " dropout (Dropout)           (None, 1840)              0         \n",
            "                                                                 \n",
            " dense (Dense)               (None, 5)                 9205      \n",
            "                                                                 \n",
            "=================================================================\n",
            "Total params: 9,897\n",
            "Trainable params: 9,897\n",
            "Non-trainable params: 0\n",
            "_________________________________________________________________\n"
          ]
        }
      ]
    },
    {
      "cell_type": "code",
      "source": [
        "class Distiller(keras.Model):\n",
        "    def __init__(self, student, teacher):\n",
        "        super(Distiller, self).__init__()\n",
        "        self.teacher = teacher\n",
        "        self.student = student\n",
        "\n",
        "    def compile(\n",
        "        self,\n",
        "        optimizer,\n",
        "        metrics,\n",
        "        student_loss_fn,\n",
        "        distillation_loss_fn,\n",
        "        alpha=0.1,\n",
        "        temperature=3,\n",
        "    ):\n",
        "        \"\"\" Configure the distiller.\n",
        "\n",
        "        Args:\n",
        "            optimizer: Keras optimizer for the student weights\n",
        "            metrics: Keras metrics for evaluation\n",
        "            student_loss_fn: Loss function of difference between student\n",
        "                predictions and ground-truth\n",
        "            distillation_loss_fn: Loss function of difference between soft\n",
        "                student predictions and soft teacher predictions\n",
        "            alpha: weight to student_loss_fn and 1-alpha to distillation_loss_fn\n",
        "            temperature: Temperature for softening probability distributions.\n",
        "                Larger temperature gives softer distributions.\n",
        "        \"\"\"\n",
        "        super(Distiller, self).compile(optimizer=optimizer, metrics=metrics)\n",
        "        self.student_loss_fn = student_loss_fn\n",
        "        self.distillation_loss_fn = distillation_loss_fn\n",
        "        self.alpha = alpha\n",
        "        self.temperature = temperature\n",
        "\n",
        "    def train_step(self, data):\n",
        "        # Unpack data\n",
        "        x, y = data\n",
        "\n",
        "        # Forward pass of teacher\n",
        "        teacher_predictions = self.teacher(x, training=False)\n",
        "\n",
        "        with tf.GradientTape() as tape:\n",
        "            # Forward pass of student\n",
        "            student_predictions = self.student(x, training=True)\n",
        "\n",
        "            # Compute losses\n",
        "            student_loss = self.student_loss_fn(y, student_predictions)\n",
        "            distillation_loss = self.distillation_loss_fn(\n",
        "                tf.nn.softmax(teacher_predictions / self.temperature, axis=1),\n",
        "                tf.nn.softmax(student_predictions / self.temperature, axis=1),\n",
        "            )\n",
        "            loss = self.alpha * student_loss + (1 - self.alpha) * distillation_loss\n",
        "\n",
        "        # Compute gradients\n",
        "        trainable_vars = self.student.trainable_variables\n",
        "        gradients = tape.gradient(loss, trainable_vars)\n",
        "\n",
        "        # Update weights\n",
        "        self.optimizer.apply_gradients(zip(gradients, trainable_vars))\n",
        "\n",
        "        # Update the metrics configured in `compile()`.\n",
        "        self.compiled_metrics.update_state(y, student_predictions)\n",
        "\n",
        "        # Return a dict of performance\n",
        "        results = {m.name: m.result() for m in self.metrics}\n",
        "        results.update(\n",
        "            {\"student_loss\": student_loss, \"distillation_loss\": distillation_loss}\n",
        "        )\n",
        "        return results\n",
        "\n",
        "    def test_step(self, data):\n",
        "        # Unpack the data\n",
        "        x, y = data\n",
        "\n",
        "        # Compute predictions\n",
        "        y_prediction = self.student(x, training=False)\n",
        "\n",
        "        # Calculate the loss\n",
        "        student_loss = self.student_loss_fn(y, y_prediction)\n",
        "\n",
        "        # Update the metrics.\n",
        "        self.compiled_metrics.update_state(y, y_prediction)\n",
        "\n",
        "        # Return a dict of performance\n",
        "        results = {m.name: m.result() for m in self.metrics}\n",
        "        results.update({\"student_loss\": student_loss})\n",
        "        return results\n"
      ],
      "metadata": {
        "id": "LKd782LcSfgA"
      },
      "execution_count": null,
      "outputs": []
    },
    {
      "cell_type": "code",
      "source": [
        "# Initialize and compile distiller\n",
        "distiller = Distiller(student=student_model, teacher=teacher_model)\n",
        "distiller.compile(\n",
        "    optimizer=keras.optimizers.Adam(),\n",
        "    metrics=[keras.metrics.CategoricalAccuracy()],\n",
        "    student_loss_fn=keras.losses.CategoricalCrossentropy(from_logits=True),\n",
        "    distillation_loss_fn=keras.losses.KLDivergence(),\n",
        "    alpha=0.9,\n",
        "    temperature=5,\n",
        ")\n",
        "\n",
        "# Distill teacher to student\n",
        "distiller.fit(x_dt_rshp, y_dt_, epochs=80)\n",
        "\n",
        "# Evaluate student on test dataset\n",
        "#distiller.evaluate(x_test, y_test)"
      ],
      "metadata": {
        "colab": {
          "base_uri": "https://localhost:8080/"
        },
        "id": "AAKgvL91SjLw",
        "outputId": "81023cbc-b8cb-42fd-b422-9b62508c513d"
      },
      "execution_count": null,
      "outputs": [
        {
          "output_type": "stream",
          "name": "stdout",
          "text": [
            "Epoch 1/80\n",
            "3710/3710 [==============================] - 32s 8ms/step - categorical_accuracy: 0.7120 - student_loss: 0.7217 - distillation_loss: 0.0015\n",
            "Epoch 2/80\n",
            "3710/3710 [==============================] - 29s 8ms/step - categorical_accuracy: 0.7930 - student_loss: 0.5132 - distillation_loss: 0.0011\n",
            "Epoch 3/80\n",
            "3710/3710 [==============================] - 30s 8ms/step - categorical_accuracy: 0.8100 - student_loss: 0.4716 - distillation_loss: 0.0010\n",
            "Epoch 4/80\n",
            "3710/3710 [==============================] - 30s 8ms/step - categorical_accuracy: 0.8226 - student_loss: 0.4439 - distillation_loss: 9.6560e-04\n",
            "Epoch 5/80\n",
            "3710/3710 [==============================] - 29s 8ms/step - categorical_accuracy: 0.8311 - student_loss: 0.4231 - distillation_loss: 9.2331e-04\n",
            "Epoch 6/80\n",
            "3710/3710 [==============================] - 30s 8ms/step - categorical_accuracy: 0.8381 - student_loss: 0.4091 - distillation_loss: 8.8977e-04\n",
            "Epoch 7/80\n",
            "3710/3710 [==============================] - 29s 8ms/step - categorical_accuracy: 0.8416 - student_loss: 0.3983 - distillation_loss: 8.6939e-04\n",
            "Epoch 8/80\n",
            "3710/3710 [==============================] - 30s 8ms/step - categorical_accuracy: 0.8464 - student_loss: 0.3867 - distillation_loss: 8.4203e-04\n",
            "Epoch 9/80\n",
            "3710/3710 [==============================] - 30s 8ms/step - categorical_accuracy: 0.8489 - student_loss: 0.3813 - distillation_loss: 8.3158e-04\n",
            "Epoch 10/80\n",
            "3710/3710 [==============================] - 30s 8ms/step - categorical_accuracy: 0.8501 - student_loss: 0.3751 - distillation_loss: 8.1879e-04\n",
            "Epoch 11/80\n",
            "3710/3710 [==============================] - 30s 8ms/step - categorical_accuracy: 0.8527 - student_loss: 0.3708 - distillation_loss: 8.0981e-04\n",
            "Epoch 12/80\n",
            "3710/3710 [==============================] - 30s 8ms/step - categorical_accuracy: 0.8564 - student_loss: 0.3646 - distillation_loss: 7.9454e-04\n",
            "Epoch 13/80\n",
            "3710/3710 [==============================] - 29s 8ms/step - categorical_accuracy: 0.8574 - student_loss: 0.3623 - distillation_loss: 7.9133e-04\n",
            "Epoch 14/80\n",
            "3710/3710 [==============================] - 30s 8ms/step - categorical_accuracy: 0.8578 - student_loss: 0.3582 - distillation_loss: 7.8563e-04\n",
            "Epoch 15/80\n",
            "3710/3710 [==============================] - 30s 8ms/step - categorical_accuracy: 0.8595 - student_loss: 0.3542 - distillation_loss: 7.7614e-04\n",
            "Epoch 16/80\n",
            "3710/3710 [==============================] - 29s 8ms/step - categorical_accuracy: 0.8598 - student_loss: 0.3528 - distillation_loss: 7.7244e-04\n",
            "Epoch 17/80\n",
            "3710/3710 [==============================] - 29s 8ms/step - categorical_accuracy: 0.8606 - student_loss: 0.3519 - distillation_loss: 7.7080e-04\n",
            "Epoch 18/80\n",
            "3710/3710 [==============================] - 30s 8ms/step - categorical_accuracy: 0.8608 - student_loss: 0.3494 - distillation_loss: 7.6768e-04\n",
            "Epoch 19/80\n",
            "3710/3710 [==============================] - 29s 8ms/step - categorical_accuracy: 0.8644 - student_loss: 0.3454 - distillation_loss: 7.5649e-04\n",
            "Epoch 20/80\n",
            "3710/3710 [==============================] - 29s 8ms/step - categorical_accuracy: 0.8643 - student_loss: 0.3425 - distillation_loss: 7.5297e-04\n",
            "Epoch 21/80\n",
            "3710/3710 [==============================] - 29s 8ms/step - categorical_accuracy: 0.8648 - student_loss: 0.3427 - distillation_loss: 7.4981e-04\n",
            "Epoch 22/80\n",
            "3710/3710 [==============================] - 29s 8ms/step - categorical_accuracy: 0.8670 - student_loss: 0.3384 - distillation_loss: 7.4313e-04\n",
            "Epoch 23/80\n",
            "3710/3710 [==============================] - 29s 8ms/step - categorical_accuracy: 0.8655 - student_loss: 0.3386 - distillation_loss: 7.4588e-04\n",
            "Epoch 24/80\n",
            "3710/3710 [==============================] - 30s 8ms/step - categorical_accuracy: 0.8665 - student_loss: 0.3365 - distillation_loss: 7.3897e-04\n",
            "Epoch 25/80\n",
            "3710/3710 [==============================] - 30s 8ms/step - categorical_accuracy: 0.8679 - student_loss: 0.3354 - distillation_loss: 7.3358e-04\n",
            "Epoch 26/80\n",
            "3710/3710 [==============================] - 29s 8ms/step - categorical_accuracy: 0.8673 - student_loss: 0.3340 - distillation_loss: 7.3500e-04\n",
            "Epoch 27/80\n",
            "3710/3710 [==============================] - 29s 8ms/step - categorical_accuracy: 0.8668 - student_loss: 0.3347 - distillation_loss: 7.3499e-04\n",
            "Epoch 28/80\n",
            "3710/3710 [==============================] - 30s 8ms/step - categorical_accuracy: 0.8683 - student_loss: 0.3321 - distillation_loss: 7.2965e-04\n",
            "Epoch 29/80\n",
            "3710/3710 [==============================] - 30s 8ms/step - categorical_accuracy: 0.8694 - student_loss: 0.3318 - distillation_loss: 7.2702e-04\n",
            "Epoch 30/80\n",
            "3710/3710 [==============================] - 29s 8ms/step - categorical_accuracy: 0.8707 - student_loss: 0.3277 - distillation_loss: 7.2058e-04\n",
            "Epoch 31/80\n",
            "3710/3710 [==============================] - 30s 8ms/step - categorical_accuracy: 0.8702 - student_loss: 0.3286 - distillation_loss: 7.2281e-04\n",
            "Epoch 32/80\n",
            "3710/3710 [==============================] - 29s 8ms/step - categorical_accuracy: 0.8704 - student_loss: 0.3294 - distillation_loss: 7.2330e-04\n",
            "Epoch 33/80\n",
            "3710/3710 [==============================] - 29s 8ms/step - categorical_accuracy: 0.8702 - student_loss: 0.3299 - distillation_loss: 7.2503e-04\n",
            "Epoch 34/80\n",
            "3710/3710 [==============================] - 29s 8ms/step - categorical_accuracy: 0.8695 - student_loss: 0.3294 - distillation_loss: 7.2562e-04\n",
            "Epoch 35/80\n",
            "3710/3710 [==============================] - 30s 8ms/step - categorical_accuracy: 0.8699 - student_loss: 0.3268 - distillation_loss: 7.2042e-04\n",
            "Epoch 36/80\n",
            "3710/3710 [==============================] - 29s 8ms/step - categorical_accuracy: 0.8710 - student_loss: 0.3263 - distillation_loss: 7.1862e-04\n",
            "Epoch 37/80\n",
            "3710/3710 [==============================] - 29s 8ms/step - categorical_accuracy: 0.8709 - student_loss: 0.3258 - distillation_loss: 7.1812e-04\n",
            "Epoch 38/80\n",
            "3710/3710 [==============================] - 29s 8ms/step - categorical_accuracy: 0.8708 - student_loss: 0.3265 - distillation_loss: 7.1848e-04\n",
            "Epoch 39/80\n",
            "3710/3710 [==============================] - 29s 8ms/step - categorical_accuracy: 0.8703 - student_loss: 0.3269 - distillation_loss: 7.1941e-04\n",
            "Epoch 40/80\n",
            "3710/3710 [==============================] - 29s 8ms/step - categorical_accuracy: 0.8713 - student_loss: 0.3243 - distillation_loss: 7.1428e-04\n",
            "Epoch 41/80\n",
            "3710/3710 [==============================] - 30s 8ms/step - categorical_accuracy: 0.8717 - student_loss: 0.3249 - distillation_loss: 7.1580e-04\n",
            "Epoch 42/80\n",
            "3710/3710 [==============================] - 30s 8ms/step - categorical_accuracy: 0.8705 - student_loss: 0.3254 - distillation_loss: 7.1698e-04\n",
            "Epoch 43/80\n",
            "3710/3710 [==============================] - 30s 8ms/step - categorical_accuracy: 0.8716 - student_loss: 0.3244 - distillation_loss: 7.1453e-04\n",
            "Epoch 44/80\n",
            "3710/3710 [==============================] - 30s 8ms/step - categorical_accuracy: 0.8732 - student_loss: 0.3230 - distillation_loss: 7.1188e-04\n",
            "Epoch 45/80\n",
            "3710/3710 [==============================] - 30s 8ms/step - categorical_accuracy: 0.8727 - student_loss: 0.3242 - distillation_loss: 7.1345e-04\n",
            "Epoch 46/80\n",
            "3710/3710 [==============================] - 30s 8ms/step - categorical_accuracy: 0.8721 - student_loss: 0.3230 - distillation_loss: 7.1245e-04\n",
            "Epoch 47/80\n",
            "3710/3710 [==============================] - 30s 8ms/step - categorical_accuracy: 0.8725 - student_loss: 0.3216 - distillation_loss: 7.0881e-04\n",
            "Epoch 48/80\n",
            "3710/3710 [==============================] - 29s 8ms/step - categorical_accuracy: 0.8726 - student_loss: 0.3227 - distillation_loss: 7.0910e-04\n",
            "Epoch 49/80\n",
            "3710/3710 [==============================] - 30s 8ms/step - categorical_accuracy: 0.8726 - student_loss: 0.3224 - distillation_loss: 7.1013e-04\n",
            "Epoch 50/80\n",
            "3710/3710 [==============================] - 29s 8ms/step - categorical_accuracy: 0.8735 - student_loss: 0.3218 - distillation_loss: 7.0915e-04\n",
            "Epoch 51/80\n",
            "3710/3710 [==============================] - 30s 8ms/step - categorical_accuracy: 0.8723 - student_loss: 0.3229 - distillation_loss: 7.0951e-04\n",
            "Epoch 52/80\n",
            "3710/3710 [==============================] - 29s 8ms/step - categorical_accuracy: 0.8742 - student_loss: 0.3215 - distillation_loss: 7.0528e-04\n",
            "Epoch 53/80\n",
            "3710/3710 [==============================] - 29s 8ms/step - categorical_accuracy: 0.8734 - student_loss: 0.3193 - distillation_loss: 7.0517e-04\n",
            "Epoch 54/80\n",
            "3710/3710 [==============================] - 29s 8ms/step - categorical_accuracy: 0.8728 - student_loss: 0.3208 - distillation_loss: 7.0462e-04\n",
            "Epoch 55/80\n",
            "3710/3710 [==============================] - 29s 8ms/step - categorical_accuracy: 0.8731 - student_loss: 0.3190 - distillation_loss: 7.0425e-04\n",
            "Epoch 56/80\n",
            "3710/3710 [==============================] - 30s 8ms/step - categorical_accuracy: 0.8739 - student_loss: 0.3180 - distillation_loss: 7.0115e-04\n",
            "Epoch 57/80\n",
            "3710/3710 [==============================] - 30s 8ms/step - categorical_accuracy: 0.8727 - student_loss: 0.3212 - distillation_loss: 7.0990e-04\n",
            "Epoch 58/80\n",
            "3710/3710 [==============================] - 29s 8ms/step - categorical_accuracy: 0.8741 - student_loss: 0.3196 - distillation_loss: 7.0604e-04\n",
            "Epoch 59/80\n",
            "3710/3710 [==============================] - 30s 8ms/step - categorical_accuracy: 0.8733 - student_loss: 0.3189 - distillation_loss: 7.0369e-04\n",
            "Epoch 60/80\n",
            "3710/3710 [==============================] - 29s 8ms/step - categorical_accuracy: 0.8751 - student_loss: 0.3178 - distillation_loss: 6.9954e-04\n",
            "Epoch 61/80\n",
            "3710/3710 [==============================] - 30s 8ms/step - categorical_accuracy: 0.8744 - student_loss: 0.3188 - distillation_loss: 7.0197e-04\n",
            "Epoch 62/80\n",
            "3710/3710 [==============================] - 29s 8ms/step - categorical_accuracy: 0.8733 - student_loss: 0.3193 - distillation_loss: 7.0627e-04\n",
            "Epoch 63/80\n",
            "3710/3710 [==============================] - 30s 8ms/step - categorical_accuracy: 0.8734 - student_loss: 0.3189 - distillation_loss: 7.0497e-04\n",
            "Epoch 64/80\n",
            "3710/3710 [==============================] - 29s 8ms/step - categorical_accuracy: 0.8752 - student_loss: 0.3161 - distillation_loss: 6.9890e-04\n",
            "Epoch 65/80\n",
            "3710/3710 [==============================] - 30s 8ms/step - categorical_accuracy: 0.8736 - student_loss: 0.3173 - distillation_loss: 7.0229e-04\n",
            "Epoch 66/80\n",
            "3710/3710 [==============================] - 30s 8ms/step - categorical_accuracy: 0.8744 - student_loss: 0.3174 - distillation_loss: 6.9960e-04\n",
            "Epoch 67/80\n",
            "3710/3710 [==============================] - 30s 8ms/step - categorical_accuracy: 0.8751 - student_loss: 0.3154 - distillation_loss: 6.9576e-04\n",
            "Epoch 68/80\n",
            "3710/3710 [==============================] - 29s 8ms/step - categorical_accuracy: 0.8743 - student_loss: 0.3190 - distillation_loss: 7.0278e-04\n",
            "Epoch 69/80\n",
            "3710/3710 [==============================] - 30s 8ms/step - categorical_accuracy: 0.8752 - student_loss: 0.3158 - distillation_loss: 6.9720e-04\n",
            "Epoch 70/80\n",
            "3710/3710 [==============================] - 30s 8ms/step - categorical_accuracy: 0.8763 - student_loss: 0.3162 - distillation_loss: 6.9560e-04\n",
            "Epoch 71/80\n",
            "3710/3710 [==============================] - 29s 8ms/step - categorical_accuracy: 0.8753 - student_loss: 0.3160 - distillation_loss: 6.9483e-04\n",
            "Epoch 72/80\n",
            "3710/3710 [==============================] - 30s 8ms/step - categorical_accuracy: 0.8741 - student_loss: 0.3173 - distillation_loss: 6.9829e-04\n",
            "Epoch 73/80\n",
            "3710/3710 [==============================] - 29s 8ms/step - categorical_accuracy: 0.8751 - student_loss: 0.3167 - distillation_loss: 6.9859e-04\n",
            "Epoch 74/80\n",
            "3710/3710 [==============================] - 30s 8ms/step - categorical_accuracy: 0.8745 - student_loss: 0.3155 - distillation_loss: 6.9851e-04\n",
            "Epoch 75/80\n",
            "3710/3710 [==============================] - 29s 8ms/step - categorical_accuracy: 0.8761 - student_loss: 0.3136 - distillation_loss: 6.9370e-04\n",
            "Epoch 76/80\n",
            "3710/3710 [==============================] - 30s 8ms/step - categorical_accuracy: 0.8744 - student_loss: 0.3158 - distillation_loss: 6.9613e-04\n",
            "Epoch 77/80\n",
            "3710/3710 [==============================] - 30s 8ms/step - categorical_accuracy: 0.8754 - student_loss: 0.3147 - distillation_loss: 6.9379e-04\n",
            "Epoch 78/80\n",
            "3710/3710 [==============================] - 29s 8ms/step - categorical_accuracy: 0.8752 - student_loss: 0.3154 - distillation_loss: 6.9627e-04\n",
            "Epoch 79/80\n",
            "3710/3710 [==============================] - 30s 8ms/step - categorical_accuracy: 0.8756 - student_loss: 0.3134 - distillation_loss: 6.9063e-04\n",
            "Epoch 80/80\n",
            "3710/3710 [==============================] - 29s 8ms/step - categorical_accuracy: 0.8743 - student_loss: 0.3165 - distillation_loss: 6.9797e-04\n"
          ]
        },
        {
          "output_type": "execute_result",
          "data": {
            "text/plain": [
              "<keras.callbacks.History at 0x7f3a64ea4790>"
            ]
          },
          "metadata": {},
          "execution_count": 49
        }
      ]
    },
    {
      "cell_type": "code",
      "source": [
        "accuracy_distiller = distiller.evaluate(x_test_dt_rshp, y_test_dt_)"
      ],
      "metadata": {
        "colab": {
          "base_uri": "https://localhost:8080/"
        },
        "id": "ZYaRUZ5AbDZv",
        "outputId": "f1770cde-331e-465d-85e5-c3e099fe13ca"
      },
      "execution_count": null,
      "outputs": [
        {
          "output_type": "stream",
          "name": "stdout",
          "text": [
            "16/16 [==============================] - 0s 4ms/step - categorical_accuracy: 0.6680 - student_loss: 1.3287\n"
          ]
        }
      ]
    },
    {
      "cell_type": "code",
      "source": [
        "preds_student_model = student_model.predict(x_test_dt_rshp)"
      ],
      "metadata": {
        "id": "RxXZ19YrbqkS"
      },
      "execution_count": null,
      "outputs": []
    },
    {
      "cell_type": "code",
      "source": [
        "preds_student_model_fin=np.argmax(preds_student_model,axis=1)"
      ],
      "metadata": {
        "id": "EPmXLNptbuzw"
      },
      "execution_count": null,
      "outputs": []
    },
    {
      "cell_type": "code",
      "source": [
        "from sklearn.metrics import confusion_matrix\n",
        "matrix_student = confusion_matrix(y_test_dt, preds_student_model_fin)\n",
        "matrix_student.diagonal()/matrix_student.sum(axis=1)"
      ],
      "metadata": {
        "colab": {
          "base_uri": "https://localhost:8080/"
        },
        "id": "l1zYX0AXby4T",
        "outputId": "85da5306-31b1-45b5-bc8a-0d06e1817110"
      },
      "execution_count": null,
      "outputs": [
        {
          "output_type": "execute_result",
          "data": {
            "text/plain": [
              "array([0.42857143, 0.12658228, 0.92951542, 0.6       , 0.9122807 ])"
            ]
          },
          "metadata": {},
          "execution_count": 53
        }
      ]
    },
    {
      "cell_type": "code",
      "source": [
        "#y_sub_dt\n",
        "from sklearn.metrics import precision_score, recall_score\n",
        "f1_student = f1_score(y_test_dt, preds_student_model_fin, average=\"macro\")\n",
        "prec_student = precision_score(y_test_dt, preds_student_model_fin, average=\"macro\")\n",
        "recall_student = recall_score(y_test_dt, preds_student_model_fin, average=\"macro\")\n",
        "if VBS:\n",
        "    print(\"Precision: {}\".format(prec_student)) \n",
        "    print(\"Recall: {}\".format(recall_student))\n",
        "    print(\"F1 score: {}\".format(f1_student))\n",
        "\n",
        "    report_student = classification_report(y_test_dt, preds_student_model_fin, digits=6)\n",
        "    print(report_student)"
      ],
      "metadata": {
        "colab": {
          "base_uri": "https://localhost:8080/"
        },
        "id": "5RGh6zaRb3td",
        "outputId": "0725e4b2-0fdd-4ba8-d06a-0ebc7acabd83"
      },
      "execution_count": null,
      "outputs": [
        {
          "output_type": "stream",
          "name": "stdout",
          "text": [
            "Precision: 0.5723511068370881\n",
            "Recall: 0.599389965461806\n",
            "F1 score: 0.5472500174705083\n",
            "              precision    recall  f1-score   support\n",
            "\n",
            "           0   0.981818  0.428571  0.596685       126\n",
            "           1   0.153846  0.126582  0.138889        79\n",
            "           2   0.811538  0.929515  0.866530       227\n",
            "           3   0.428571  0.600000  0.500000         5\n",
            "           4   0.485981  0.912281  0.634146        57\n",
            "\n",
            "    accuracy                       0.668016       494\n",
            "   macro avg   0.572351  0.599390  0.547250       494\n",
            "weighted avg   0.708352  0.668016  0.650816       494\n",
            "\n"
          ]
        }
      ]
    },
    {
      "cell_type": "markdown",
      "source": [
        "Trying out diff teachers and different students for perspective(the teacher who's epochs had been tuned)"
      ],
      "metadata": {
        "id": "2aX0eqzNFBWl"
      }
    },
    {
      "cell_type": "code",
      "source": [
        "final_teacher_model=model_b(verbose=VBS) #60 epochs teacher model"
      ],
      "metadata": {
        "colab": {
          "base_uri": "https://localhost:8080/"
        },
        "id": "gADEEmZxFLZH",
        "outputId": "763814e5-21b1-4112-c136-b0d773b0bf9b"
      },
      "execution_count": null,
      "outputs": [
        {
          "output_type": "stream",
          "name": "stdout",
          "text": [
            "Model: \"model\"\n",
            "__________________________________________________________________________________________________\n",
            " Layer (type)                   Output Shape         Param #     Connected to                     \n",
            "==================================================================================================\n",
            " inLayer (InputLayer)           [(None, 3000, 1)]    0           []                               \n",
            "                                                                                                  \n",
            " fConv1 (Conv1D)                (None, 500, 64)      3264        ['inLayer[0][0]']                \n",
            "                                                                                                  \n",
            " cConv1 (Conv1D)                (None, 60, 32)       12832       ['inLayer[0][0]']                \n",
            "                                                                                                  \n",
            " fMaxP1 (MaxPooling1D)          (None, 62, 64)       0           ['fConv1[0][0]']                 \n",
            "                                                                                                  \n",
            " cMaxP1 (MaxPooling1D)          (None, 15, 32)       0           ['cConv1[0][0]']                 \n",
            "                                                                                                  \n",
            " fDrop1 (Dropout)               (None, 62, 64)       0           ['fMaxP1[0][0]']                 \n",
            "                                                                                                  \n",
            " cDrop1 (Dropout)               (None, 15, 32)       0           ['cMaxP1[0][0]']                 \n",
            "                                                                                                  \n",
            " fConv2 (Conv1D)                (None, 62, 128)      65664       ['fDrop1[0][0]']                 \n",
            "                                                                                                  \n",
            " cConv2 (Conv1D)                (None, 15, 128)      24704       ['cDrop1[0][0]']                 \n",
            "                                                                                                  \n",
            " fConv3 (Conv1D)                (None, 62, 128)      131200      ['fConv2[0][0]']                 \n",
            "                                                                                                  \n",
            " cConv3 (Conv1D)                (None, 15, 128)      98432       ['cConv2[0][0]']                 \n",
            "                                                                                                  \n",
            " fConv4 (Conv1D)                (None, 62, 128)      131200      ['fConv3[0][0]']                 \n",
            "                                                                                                  \n",
            " cConv4 (Conv1D)                (None, 15, 128)      98432       ['cConv3[0][0]']                 \n",
            "                                                                                                  \n",
            " fMaxP2 (MaxPooling1D)          (None, 15, 128)      0           ['fConv4[0][0]']                 \n",
            "                                                                                                  \n",
            " cMaxP2 (MaxPooling1D)          (None, 7, 128)       0           ['cConv4[0][0]']                 \n",
            "                                                                                                  \n",
            " fFlat1 (Flatten)               (None, 1920)         0           ['fMaxP2[0][0]']                 \n",
            "                                                                                                  \n",
            " cFlat1 (Flatten)               (None, 896)          0           ['cMaxP2[0][0]']                 \n",
            "                                                                                                  \n",
            " merge_1 (Concatenate)          (None, 2816)         0           ['fFlat1[0][0]',                 \n",
            "                                                                  'cFlat1[0][0]']                 \n",
            "                                                                                                  \n",
            " mDrop1 (Dropout)               (None, 2816)         0           ['merge_1[0][0]']                \n",
            "                                                                                                  \n",
            " reshape1 (Reshape)             (None, 1, 2816)      0           ['mDrop1[0][0]']                 \n",
            "                                                                                                  \n",
            " lstm (LSTM)                    (None, 1, 64)        737536      ['reshape1[0][0]']               \n",
            "                                                                                                  \n",
            " lstm_1 (LSTM)                  (None, 64)           33024       ['lstm[0][0]']                   \n",
            "                                                                                                  \n",
            " outLayer (Dense)               (None, 5)            325         ['lstm_1[0][0]']                 \n",
            "                                                                                                  \n",
            "==================================================================================================\n",
            "Total params: 1,336,613\n",
            "Trainable params: 1,336,613\n",
            "Non-trainable params: 0\n",
            "__________________________________________________________________________________________________\n"
          ]
        }
      ]
    },
    {
      "cell_type": "code",
      "source": [
        "final_teacher_model.compile(optimizer=optimizer, loss='categorical_crossentropy', metrics=['accuracy'])"
      ],
      "metadata": {
        "id": "_CVkTD8hEudK"
      },
      "execution_count": null,
      "outputs": []
    },
    {
      "cell_type": "code",
      "source": [
        "final_teacher_model.fit(x_dt_rshp, y_dt_, epochs=50)"
      ],
      "metadata": {
        "colab": {
          "base_uri": "https://localhost:8080/"
        },
        "id": "VpWFvoIZFMTF",
        "outputId": "418929bd-acb8-4286-e561-e70cac06940c"
      },
      "execution_count": null,
      "outputs": [
        {
          "output_type": "stream",
          "name": "stdout",
          "text": [
            "Epoch 1/50\n",
            "3710/3710 [==============================] - 49s 9ms/step - loss: 0.6716 - accuracy: 0.7297\n",
            "Epoch 2/50\n",
            "3710/3710 [==============================] - 33s 9ms/step - loss: 0.3967 - accuracy: 0.8436\n",
            "Epoch 3/50\n",
            "3710/3710 [==============================] - 33s 9ms/step - loss: 0.3286 - accuracy: 0.8693\n",
            "Epoch 4/50\n",
            "3710/3710 [==============================] - 32s 9ms/step - loss: 0.2876 - accuracy: 0.8861\n",
            "Epoch 5/50\n",
            "3710/3710 [==============================] - 32s 9ms/step - loss: 0.2541 - accuracy: 0.9006\n",
            "Epoch 6/50\n",
            "3710/3710 [==============================] - 33s 9ms/step - loss: 0.2309 - accuracy: 0.9084\n",
            "Epoch 7/50\n",
            "3710/3710 [==============================] - 33s 9ms/step - loss: 0.2138 - accuracy: 0.9164\n",
            "Epoch 8/50\n",
            "3710/3710 [==============================] - 33s 9ms/step - loss: 0.1980 - accuracy: 0.9214\n",
            "Epoch 9/50\n",
            "3710/3710 [==============================] - 32s 9ms/step - loss: 0.1898 - accuracy: 0.9250\n",
            "Epoch 10/50\n",
            "3710/3710 [==============================] - 32s 9ms/step - loss: 0.1804 - accuracy: 0.9280\n",
            "Epoch 11/50\n",
            "3710/3710 [==============================] - 32s 9ms/step - loss: 0.1692 - accuracy: 0.9325\n",
            "Epoch 12/50\n",
            "3710/3710 [==============================] - 33s 9ms/step - loss: 0.1635 - accuracy: 0.9351\n",
            "Epoch 13/50\n",
            "3710/3710 [==============================] - 32s 9ms/step - loss: 0.1583 - accuracy: 0.9366\n",
            "Epoch 14/50\n",
            "3710/3710 [==============================] - 32s 9ms/step - loss: 0.1548 - accuracy: 0.9386\n",
            "Epoch 15/50\n",
            "3710/3710 [==============================] - 32s 9ms/step - loss: 0.1476 - accuracy: 0.9412\n",
            "Epoch 16/50\n",
            "3710/3710 [==============================] - 32s 9ms/step - loss: 0.1452 - accuracy: 0.9427\n",
            "Epoch 17/50\n",
            "3710/3710 [==============================] - 33s 9ms/step - loss: 0.1406 - accuracy: 0.9446\n",
            "Epoch 18/50\n",
            "3710/3710 [==============================] - 32s 9ms/step - loss: 0.1364 - accuracy: 0.9460\n",
            "Epoch 19/50\n",
            "3710/3710 [==============================] - 32s 9ms/step - loss: 0.1346 - accuracy: 0.9469\n",
            "Epoch 20/50\n",
            "3710/3710 [==============================] - 32s 9ms/step - loss: 0.1303 - accuracy: 0.9485\n",
            "Epoch 21/50\n",
            "3710/3710 [==============================] - 32s 9ms/step - loss: 0.1283 - accuracy: 0.9498\n",
            "Epoch 22/50\n",
            "3710/3710 [==============================] - 32s 9ms/step - loss: 0.1236 - accuracy: 0.9516\n",
            "Epoch 23/50\n",
            "3710/3710 [==============================] - 33s 9ms/step - loss: 0.1219 - accuracy: 0.9518\n",
            "Epoch 24/50\n",
            "3710/3710 [==============================] - 33s 9ms/step - loss: 0.1200 - accuracy: 0.9527\n",
            "Epoch 25/50\n",
            "3710/3710 [==============================] - 32s 9ms/step - loss: 0.1165 - accuracy: 0.9538\n",
            "Epoch 26/50\n",
            "3710/3710 [==============================] - 32s 9ms/step - loss: 0.1152 - accuracy: 0.9547\n",
            "Epoch 27/50\n",
            "3710/3710 [==============================] - 33s 9ms/step - loss: 0.1119 - accuracy: 0.9566\n",
            "Epoch 28/50\n",
            "3710/3710 [==============================] - 32s 9ms/step - loss: 0.1111 - accuracy: 0.9566\n",
            "Epoch 29/50\n",
            "3710/3710 [==============================] - 32s 9ms/step - loss: 0.1076 - accuracy: 0.9581\n",
            "Epoch 30/50\n",
            "3710/3710 [==============================] - 32s 9ms/step - loss: 0.1048 - accuracy: 0.9584\n",
            "Epoch 31/50\n",
            "3710/3710 [==============================] - 32s 9ms/step - loss: 0.1041 - accuracy: 0.9595\n",
            "Epoch 32/50\n",
            "3710/3710 [==============================] - 33s 9ms/step - loss: 0.1015 - accuracy: 0.9611\n",
            "Epoch 33/50\n",
            "3710/3710 [==============================] - 33s 9ms/step - loss: 0.0988 - accuracy: 0.9619\n",
            "Epoch 34/50\n",
            "3710/3710 [==============================] - 33s 9ms/step - loss: 0.0974 - accuracy: 0.9617\n",
            "Epoch 35/50\n",
            "3710/3710 [==============================] - 32s 9ms/step - loss: 0.0947 - accuracy: 0.9633\n",
            "Epoch 36/50\n",
            "3710/3710 [==============================] - 32s 9ms/step - loss: 0.0940 - accuracy: 0.9630\n",
            "Epoch 37/50\n",
            "3710/3710 [==============================] - 33s 9ms/step - loss: 0.0928 - accuracy: 0.9642\n",
            "Epoch 38/50\n",
            "3710/3710 [==============================] - 32s 9ms/step - loss: 0.0900 - accuracy: 0.9655\n",
            "Epoch 39/50\n",
            "3710/3710 [==============================] - 32s 9ms/step - loss: 0.0898 - accuracy: 0.9653\n",
            "Epoch 40/50\n",
            "3710/3710 [==============================] - 32s 9ms/step - loss: 0.0891 - accuracy: 0.9661\n",
            "Epoch 41/50\n",
            "3710/3710 [==============================] - 32s 9ms/step - loss: 0.0867 - accuracy: 0.9670\n",
            "Epoch 42/50\n",
            "3710/3710 [==============================] - 32s 9ms/step - loss: 0.0849 - accuracy: 0.9675\n",
            "Epoch 43/50\n",
            "3710/3710 [==============================] - 32s 9ms/step - loss: 0.0826 - accuracy: 0.9679\n",
            "Epoch 44/50\n",
            "3710/3710 [==============================] - 33s 9ms/step - loss: 0.0823 - accuracy: 0.9686\n",
            "Epoch 45/50\n",
            "3710/3710 [==============================] - 32s 9ms/step - loss: 0.0819 - accuracy: 0.9688\n",
            "Epoch 46/50\n",
            "3710/3710 [==============================] - 33s 9ms/step - loss: 0.0796 - accuracy: 0.9693\n",
            "Epoch 47/50\n",
            "3710/3710 [==============================] - 33s 9ms/step - loss: 0.0770 - accuracy: 0.9708\n",
            "Epoch 48/50\n",
            "3710/3710 [==============================] - 33s 9ms/step - loss: 0.0777 - accuracy: 0.9706\n",
            "Epoch 49/50\n",
            "3710/3710 [==============================] - 33s 9ms/step - loss: 0.0777 - accuracy: 0.9705\n",
            "Epoch 50/50\n",
            "3710/3710 [==============================] - 33s 9ms/step - loss: 0.0753 - accuracy: 0.9714\n"
          ]
        },
        {
          "output_type": "execute_result",
          "data": {
            "text/plain": [
              "<keras.callbacks.History at 0x7f6a47b57510>"
            ]
          },
          "metadata": {},
          "execution_count": 33
        }
      ]
    },
    {
      "cell_type": "code",
      "source": [
        "accuracy_final_teacher_model = final_teacher_model.evaluate(x_test_dt_rshp, y_test_dt_)"
      ],
      "metadata": {
        "colab": {
          "base_uri": "https://localhost:8080/"
        },
        "id": "1iczdw17FMVR",
        "outputId": "307466f5-2f1e-4cac-a8ad-c2152720df70"
      },
      "execution_count": null,
      "outputs": [
        {
          "output_type": "stream",
          "name": "stdout",
          "text": [
            "16/16 [==============================] - 1s 9ms/step - loss: 1.7196 - accuracy: 0.7085\n"
          ]
        }
      ]
    },
    {
      "cell_type": "code",
      "source": [
        "preds_final_teacher_model = final_teacher_model.predict(x_test_dt_rshp)"
      ],
      "metadata": {
        "id": "EyUnPBDRFMXx"
      },
      "execution_count": null,
      "outputs": []
    },
    {
      "cell_type": "code",
      "source": [
        "preds_final_teacher_model_fin=np.argmax(preds_final_teacher_model,axis=1)"
      ],
      "metadata": {
        "id": "i7KTAotNFMaL"
      },
      "execution_count": null,
      "outputs": []
    },
    {
      "cell_type": "code",
      "source": [
        "from sklearn.metrics import confusion_matrix\n",
        "matrix_final_teacher = confusion_matrix(y_test_dt, preds_final_teacher_model_fin)\n",
        "matrix_final_teacher.diagonal()/matrix_final_teacher.sum(axis=1)"
      ],
      "metadata": {
        "colab": {
          "base_uri": "https://localhost:8080/"
        },
        "id": "w8PqYxGCFMcc",
        "outputId": "795dc104-3bb1-402d-c562-59d703506fc0"
      },
      "execution_count": null,
      "outputs": [
        {
          "output_type": "execute_result",
          "data": {
            "text/plain": [
              "array([0.56349206, 0.15189873, 0.93832599, 0.4       , 0.9122807 ])"
            ]
          },
          "metadata": {},
          "execution_count": 37
        }
      ]
    },
    {
      "cell_type": "code",
      "source": [
        "#y_sub_dt\n",
        "from sklearn.metrics import precision_score, recall_score\n",
        "f1_final_teacher = f1_score(y_test_dt, preds_final_teacher_model_fin, average=\"macro\")\n",
        "prec_final_teacher = precision_score(y_test_dt, preds_final_teacher_model_fin, average=\"macro\")\n",
        "recall_final_teacher = recall_score(y_test_dt, preds_final_teacher_model_fin, average=\"macro\")\n",
        "if VBS:\n",
        "    print(\"Precision: {}\".format(prec_final_teacher)) \n",
        "    print(\"Recall: {}\".format(recall_final_teacher))\n",
        "    print(\"F1 score: {}\".format(f1_final_teacher))\n",
        "\n",
        "    report_final_teacher = classification_report(y_test_dt, preds_final_teacher_model_fin, digits=6)\n",
        "    print(report_final_teacher)"
      ],
      "metadata": {
        "colab": {
          "base_uri": "https://localhost:8080/"
        },
        "id": "Asghk6ddFMe5",
        "outputId": "864e83c0-13c4-4c83-91f9-9f56f25d058c"
      },
      "execution_count": null,
      "outputs": [
        {
          "output_type": "stream",
          "name": "stdout",
          "text": [
            "Precision: 0.6349819004524886\n",
            "Recall: 0.5931994981226184\n",
            "F1 score: 0.5873380635671208\n",
            "              precision    recall  f1-score   support\n",
            "\n",
            "           0   0.946667  0.563492  0.706468       126\n",
            "           1   0.184615  0.151899  0.166667        79\n",
            "           2   0.835294  0.938326  0.883817       227\n",
            "           3   0.666667  0.400000  0.500000         5\n",
            "           4   0.541667  0.912281  0.679739        57\n",
            "\n",
            "    accuracy                       0.708502       494\n",
            "   macro avg   0.634982  0.593199  0.587338       494\n",
            "weighted avg   0.724058  0.708502  0.696464       494\n",
            "\n"
          ]
        }
      ]
    },
    {
      "cell_type": "code",
      "source": [
        "#student model\n",
        "def get_model_1d_cnn():\n",
        "    nclass = 5\n",
        "    inp = Input(shape=(3000, 1))\n",
        "    img_1 = Conv1D(4, kernel_size=6, activation=activations.relu, strides=1, padding=\"valid\")(inp)\n",
        "    #img_1 = Conv1D(128, kernel_size=5, activation=activations.relu, strides=1, padding=\"valid\")(img_1)\n",
        "    img_1 = MaxPooling1D(pool_size=2)(img_1)\n",
        "    #img_1 = SpatialDropout1D(rate=0.2)(img_1)\n",
        "    img_1 = Conv1D(4, kernel_size=5, activation=activations.relu, strides=1, padding=\"valid\")(img_1)\n",
        "    #img_1 = Conv1D(256, kernel_size=7, activation=activations.relu, strides=1, padding=\"valid\")(img_1)\n",
        "    img_1 = MaxPooling1D(pool_size=2)(img_1)\n",
        "    #img_1 = SpatialDropout1D(rate=0.01)(img_1)\n",
        "    img_1 = Conv1D(10, kernel_size=4, activation=activations.relu, strides=1, padding=\"valid\")(img_1)\n",
        "    #img_1 = Conv1D(64, kernel_size=4, activation=activations.relu, strides=1, padding=\"valid\")(img_1)\n",
        "    img_1 = MaxPooling1D(pool_size=2)(img_1)\n",
        "    #img_1 = SpatialDropout1D(rate=0.01)(img_1)\n",
        "    img_1 = Conv1D(10, kernel_size=4, activation=activations.relu, strides=1, padding=\"valid\")(img_1)\n",
        "    img_1 = MaxPooling1D(pool_size=2)(img_1)\n",
        "    #img_1 = Conv1D(64, kernel_size=6, activation=activations.relu, strides=1, padding=\"valid\")(img_1)\n",
        "    #img_1 = MaxPooling1D(pool_size=2)(img_1)\n",
        "    img_1 = Flatten()(img_1)\n",
        "\n",
        "    \n",
        "    dense_1 = Dropout(rate=0.5)(img_1)\n",
        "    #dense_1 = Dropout(rate=0.05)(Dense(64, activation=activations.relu, name=\"dense_2\")(dense_1))\n",
        "    dense_1 = Dense(nclass, activation=activations.softmax)(dense_1)\n",
        "\n",
        "    model = Model(inputs=inp, outputs=dense_1)\n",
        "    opt = Adam(0.001)\n",
        "\n",
        "    model.compile(optimizer=opt, loss='categorical_crossentropy', metrics=['acc'])\n",
        "    model.summary()\n",
        "    return model"
      ],
      "metadata": {
        "id": "tR_i6PisHAo-"
      },
      "execution_count": null,
      "outputs": []
    },
    {
      "cell_type": "code",
      "source": [
        "#student_model=get_model_cnn()\n",
        "final_student_model=get_model_1d_cnn()"
      ],
      "metadata": {
        "colab": {
          "base_uri": "https://localhost:8080/"
        },
        "id": "xrBUV0XsHArH",
        "outputId": "f313ab45-756b-49cd-aa59-987dbb5bc277"
      },
      "execution_count": null,
      "outputs": [
        {
          "output_type": "stream",
          "name": "stdout",
          "text": [
            "Model: \"model_2\"\n",
            "_________________________________________________________________\n",
            " Layer (type)                Output Shape              Param #   \n",
            "=================================================================\n",
            " input_2 (InputLayer)        [(None, 3000, 1)]         0         \n",
            "                                                                 \n",
            " conv1d_4 (Conv1D)           (None, 2995, 4)           28        \n",
            "                                                                 \n",
            " max_pooling1d_4 (MaxPooling  (None, 1497, 4)          0         \n",
            " 1D)                                                             \n",
            "                                                                 \n",
            " conv1d_5 (Conv1D)           (None, 1493, 4)           84        \n",
            "                                                                 \n",
            " max_pooling1d_5 (MaxPooling  (None, 746, 4)           0         \n",
            " 1D)                                                             \n",
            "                                                                 \n",
            " conv1d_6 (Conv1D)           (None, 743, 10)           170       \n",
            "                                                                 \n",
            " max_pooling1d_6 (MaxPooling  (None, 371, 10)          0         \n",
            " 1D)                                                             \n",
            "                                                                 \n",
            " conv1d_7 (Conv1D)           (None, 368, 10)           410       \n",
            "                                                                 \n",
            " max_pooling1d_7 (MaxPooling  (None, 184, 10)          0         \n",
            " 1D)                                                             \n",
            "                                                                 \n",
            " flatten_1 (Flatten)         (None, 1840)              0         \n",
            "                                                                 \n",
            " dropout_1 (Dropout)         (None, 1840)              0         \n",
            "                                                                 \n",
            " dense_1 (Dense)             (None, 5)                 9205      \n",
            "                                                                 \n",
            "=================================================================\n",
            "Total params: 9,897\n",
            "Trainable params: 9,897\n",
            "Non-trainable params: 0\n",
            "_________________________________________________________________\n"
          ]
        }
      ]
    },
    {
      "cell_type": "code",
      "source": [
        "class Distiller(keras.Model):\n",
        "    def __init__(self, student, teacher):\n",
        "        super(Distiller, self).__init__()\n",
        "        self.teacher = teacher\n",
        "        self.student = student\n",
        "\n",
        "    def compile(\n",
        "        self,\n",
        "        optimizer,\n",
        "        metrics,\n",
        "        student_loss_fn,\n",
        "        distillation_loss_fn,\n",
        "        alpha=0.1,\n",
        "        temperature=3,\n",
        "    ):\n",
        "        \"\"\" Configure the distiller.\n",
        "\n",
        "        Args:\n",
        "            optimizer: Keras optimizer for the student weights\n",
        "            metrics: Keras metrics for evaluation\n",
        "            student_loss_fn: Loss function of difference between student\n",
        "                predictions and ground-truth\n",
        "            distillation_loss_fn: Loss function of difference between soft\n",
        "                student predictions and soft teacher predictions\n",
        "            alpha: weight to student_loss_fn and 1-alpha to distillation_loss_fn\n",
        "            temperature: Temperature for softening probability distributions.\n",
        "                Larger temperature gives softer distributions.\n",
        "        \"\"\"\n",
        "        super(Distiller, self).compile(optimizer=optimizer, metrics=metrics)\n",
        "        self.student_loss_fn = student_loss_fn\n",
        "        self.distillation_loss_fn = distillation_loss_fn\n",
        "        self.alpha = alpha\n",
        "        self.temperature = temperature\n",
        "\n",
        "    def train_step(self, data):\n",
        "        # Unpack data\n",
        "        x, y = data\n",
        "\n",
        "        # Forward pass of teacher\n",
        "        teacher_predictions = self.teacher(x, training=False)\n",
        "\n",
        "        with tf.GradientTape() as tape:\n",
        "            # Forward pass of student\n",
        "            student_predictions = self.student(x, training=True)\n",
        "\n",
        "            # Compute losses\n",
        "            student_loss = self.student_loss_fn(y, student_predictions)\n",
        "            distillation_loss = self.distillation_loss_fn(\n",
        "                tf.nn.softmax(teacher_predictions / self.temperature, axis=1),\n",
        "                tf.nn.softmax(student_predictions / self.temperature, axis=1),\n",
        "            )\n",
        "            loss = self.alpha * student_loss + (1 - self.alpha) * distillation_loss\n",
        "\n",
        "        # Compute gradients\n",
        "        trainable_vars = self.student.trainable_variables\n",
        "        gradients = tape.gradient(loss, trainable_vars)\n",
        "\n",
        "        # Update weights\n",
        "        self.optimizer.apply_gradients(zip(gradients, trainable_vars))\n",
        "\n",
        "        # Update the metrics configured in `compile()`.\n",
        "        self.compiled_metrics.update_state(y, student_predictions)\n",
        "\n",
        "        # Return a dict of performance\n",
        "        results = {m.name: m.result() for m in self.metrics}\n",
        "        results.update(\n",
        "            {\"student_loss\": student_loss, \"distillation_loss\": distillation_loss}\n",
        "        )\n",
        "        return results\n",
        "\n",
        "    def test_step(self, data):\n",
        "        # Unpack the data\n",
        "        x, y = data\n",
        "\n",
        "        # Compute predictions\n",
        "        y_prediction = self.student(x, training=False)\n",
        "\n",
        "        # Calculate the loss\n",
        "        student_loss = self.student_loss_fn(y, y_prediction)\n",
        "\n",
        "        # Update the metrics.\n",
        "        self.compiled_metrics.update_state(y, y_prediction)\n",
        "\n",
        "        # Return a dict of performance\n",
        "        results = {m.name: m.result() for m in self.metrics}\n",
        "        results.update({\"student_loss\": student_loss})\n",
        "        return results\n"
      ],
      "metadata": {
        "id": "s4_pwRY6HAtX"
      },
      "execution_count": null,
      "outputs": []
    },
    {
      "cell_type": "code",
      "source": [
        "# Initialize and compile distiller\n",
        "distiller = Distiller(student=final_student_model, teacher=final_teacher_model)\n",
        "distiller.compile(\n",
        "    optimizer=keras.optimizers.Adam(),\n",
        "    metrics=[keras.metrics.CategoricalAccuracy()],\n",
        "    student_loss_fn=keras.losses.CategoricalCrossentropy(from_logits=True),\n",
        "    distillation_loss_fn=keras.losses.KLDivergence(),\n",
        "    alpha=0.7,\n",
        "    temperature=5,\n",
        ")\n",
        "\n",
        "# Distill teacher to student\n",
        "distiller.fit(x_dt_rshp, y_dt_, epochs=60)\n",
        "\n",
        "# Evaluate student on test dataset\n",
        "#distiller.evaluate(x_test, y_test)"
      ],
      "metadata": {
        "colab": {
          "base_uri": "https://localhost:8080/"
        },
        "id": "W3nigrxEHAwt",
        "outputId": "80a9a691-3b9f-44eb-ad59-3772f6dae888"
      },
      "execution_count": null,
      "outputs": [
        {
          "output_type": "stream",
          "name": "stdout",
          "text": [
            "Epoch 1/60\n",
            "3710/3710 [==============================] - 34s 8ms/step - categorical_accuracy: 0.6731 - student_loss: 0.8166 - distillation_loss: 0.0017\n",
            "Epoch 2/60\n",
            "3710/3710 [==============================] - 31s 8ms/step - categorical_accuracy: 0.7632 - student_loss: 0.5758 - distillation_loss: 0.0012\n",
            "Epoch 3/60\n",
            "3710/3710 [==============================] - 31s 8ms/step - categorical_accuracy: 0.7913 - student_loss: 0.5086 - distillation_loss: 0.0011\n",
            "Epoch 4/60\n",
            "3710/3710 [==============================] - 31s 8ms/step - categorical_accuracy: 0.8142 - student_loss: 0.4610 - distillation_loss: 9.6888e-04\n",
            "Epoch 5/60\n",
            "3710/3710 [==============================] - 31s 8ms/step - categorical_accuracy: 0.8267 - student_loss: 0.4331 - distillation_loss: 9.0993e-04\n",
            "Epoch 6/60\n",
            "3710/3710 [==============================] - 31s 8ms/step - categorical_accuracy: 0.8345 - student_loss: 0.4141 - distillation_loss: 8.6955e-04\n",
            "Epoch 7/60\n",
            "3710/3710 [==============================] - 31s 8ms/step - categorical_accuracy: 0.8372 - student_loss: 0.4079 - distillation_loss: 8.5619e-04\n",
            "Epoch 8/60\n",
            "3710/3710 [==============================] - 31s 8ms/step - categorical_accuracy: 0.8404 - student_loss: 0.3985 - distillation_loss: 8.3668e-04\n",
            "Epoch 9/60\n",
            "3710/3710 [==============================] - 31s 8ms/step - categorical_accuracy: 0.8424 - student_loss: 0.3935 - distillation_loss: 8.2655e-04\n",
            "Epoch 10/60\n",
            "3710/3710 [==============================] - 31s 8ms/step - categorical_accuracy: 0.8472 - student_loss: 0.3869 - distillation_loss: 8.1213e-04\n",
            "Epoch 11/60\n",
            "3710/3710 [==============================] - 31s 8ms/step - categorical_accuracy: 0.8490 - student_loss: 0.3806 - distillation_loss: 7.9868e-04\n",
            "Epoch 12/60\n",
            "3710/3710 [==============================] - 31s 8ms/step - categorical_accuracy: 0.8501 - student_loss: 0.3785 - distillation_loss: 7.9722e-04\n",
            "Epoch 13/60\n",
            "3710/3710 [==============================] - 31s 8ms/step - categorical_accuracy: 0.8502 - student_loss: 0.3757 - distillation_loss: 7.9108e-04\n",
            "Epoch 14/60\n",
            "3710/3710 [==============================] - 31s 8ms/step - categorical_accuracy: 0.8507 - student_loss: 0.3754 - distillation_loss: 7.8854e-04\n",
            "Epoch 15/60\n",
            "3710/3710 [==============================] - 31s 8ms/step - categorical_accuracy: 0.8533 - student_loss: 0.3699 - distillation_loss: 7.7615e-04\n",
            "Epoch 16/60\n",
            "3710/3710 [==============================] - 31s 8ms/step - categorical_accuracy: 0.8523 - student_loss: 0.3722 - distillation_loss: 7.8275e-04\n",
            "Epoch 17/60\n",
            "3710/3710 [==============================] - 31s 8ms/step - categorical_accuracy: 0.8551 - student_loss: 0.3680 - distillation_loss: 7.7075e-04\n",
            "Epoch 18/60\n",
            "3710/3710 [==============================] - 30s 8ms/step - categorical_accuracy: 0.8552 - student_loss: 0.3659 - distillation_loss: 7.6988e-04\n",
            "Epoch 19/60\n",
            "3710/3710 [==============================] - 31s 8ms/step - categorical_accuracy: 0.8555 - student_loss: 0.3632 - distillation_loss: 7.6653e-04\n",
            "Epoch 20/60\n",
            "3710/3710 [==============================] - 30s 8ms/step - categorical_accuracy: 0.8565 - student_loss: 0.3609 - distillation_loss: 7.5851e-04\n",
            "Epoch 21/60\n",
            "3710/3710 [==============================] - 30s 8ms/step - categorical_accuracy: 0.8580 - student_loss: 0.3601 - distillation_loss: 7.5696e-04\n",
            "Epoch 22/60\n",
            "3710/3710 [==============================] - 30s 8ms/step - categorical_accuracy: 0.8573 - student_loss: 0.3596 - distillation_loss: 7.5523e-04\n",
            "Epoch 23/60\n",
            "3710/3710 [==============================] - 30s 8ms/step - categorical_accuracy: 0.8577 - student_loss: 0.3593 - distillation_loss: 7.5293e-04\n",
            "Epoch 24/60\n",
            "3710/3710 [==============================] - 31s 8ms/step - categorical_accuracy: 0.8591 - student_loss: 0.3566 - distillation_loss: 7.4731e-04\n",
            "Epoch 25/60\n",
            "3710/3710 [==============================] - 31s 8ms/step - categorical_accuracy: 0.8587 - student_loss: 0.3555 - distillation_loss: 7.4822e-04\n",
            "Epoch 26/60\n",
            "3710/3710 [==============================] - 32s 9ms/step - categorical_accuracy: 0.8605 - student_loss: 0.3548 - distillation_loss: 7.4378e-04\n",
            "Epoch 27/60\n",
            "3710/3710 [==============================] - 31s 8ms/step - categorical_accuracy: 0.8605 - student_loss: 0.3540 - distillation_loss: 7.4033e-04\n",
            "Epoch 28/60\n",
            "3710/3710 [==============================] - 31s 8ms/step - categorical_accuracy: 0.8604 - student_loss: 0.3523 - distillation_loss: 7.3919e-04\n",
            "Epoch 29/60\n",
            "3710/3710 [==============================] - 31s 8ms/step - categorical_accuracy: 0.8598 - student_loss: 0.3540 - distillation_loss: 7.4591e-04\n",
            "Epoch 30/60\n",
            "3710/3710 [==============================] - 31s 8ms/step - categorical_accuracy: 0.8606 - student_loss: 0.3520 - distillation_loss: 7.3884e-04\n",
            "Epoch 31/60\n",
            "3710/3710 [==============================] - 31s 8ms/step - categorical_accuracy: 0.8623 - student_loss: 0.3501 - distillation_loss: 7.3297e-04\n",
            "Epoch 32/60\n",
            "3710/3710 [==============================] - 31s 8ms/step - categorical_accuracy: 0.8607 - student_loss: 0.3503 - distillation_loss: 7.3641e-04\n",
            "Epoch 33/60\n",
            "3710/3710 [==============================] - 31s 8ms/step - categorical_accuracy: 0.8615 - student_loss: 0.3500 - distillation_loss: 7.3527e-04\n",
            "Epoch 34/60\n",
            "3710/3710 [==============================] - 31s 8ms/step - categorical_accuracy: 0.8627 - student_loss: 0.3475 - distillation_loss: 7.2782e-04\n",
            "Epoch 35/60\n",
            "3710/3710 [==============================] - 31s 8ms/step - categorical_accuracy: 0.8634 - student_loss: 0.3476 - distillation_loss: 7.2842e-04\n",
            "Epoch 36/60\n",
            "3710/3710 [==============================] - 32s 9ms/step - categorical_accuracy: 0.8627 - student_loss: 0.3481 - distillation_loss: 7.2978e-04\n",
            "Epoch 37/60\n",
            "3710/3710 [==============================] - 32s 9ms/step - categorical_accuracy: 0.8632 - student_loss: 0.3478 - distillation_loss: 7.2903e-04\n",
            "Epoch 38/60\n",
            "3710/3710 [==============================] - 31s 8ms/step - categorical_accuracy: 0.8624 - student_loss: 0.3463 - distillation_loss: 7.2665e-04\n",
            "Epoch 39/60\n",
            "3710/3710 [==============================] - 31s 8ms/step - categorical_accuracy: 0.8640 - student_loss: 0.3452 - distillation_loss: 7.2282e-04\n",
            "Epoch 40/60\n",
            "3710/3710 [==============================] - 32s 9ms/step - categorical_accuracy: 0.8644 - student_loss: 0.3453 - distillation_loss: 7.2561e-04\n",
            "Epoch 41/60\n",
            "3710/3710 [==============================] - 31s 8ms/step - categorical_accuracy: 0.8639 - student_loss: 0.3450 - distillation_loss: 7.2374e-04\n",
            "Epoch 42/60\n",
            "3710/3710 [==============================] - 31s 8ms/step - categorical_accuracy: 0.8648 - student_loss: 0.3438 - distillation_loss: 7.1929e-04\n",
            "Epoch 43/60\n",
            "3710/3710 [==============================] - 32s 8ms/step - categorical_accuracy: 0.8634 - student_loss: 0.3448 - distillation_loss: 7.2460e-04\n",
            "Epoch 44/60\n",
            "3710/3710 [==============================] - 31s 8ms/step - categorical_accuracy: 0.8652 - student_loss: 0.3434 - distillation_loss: 7.2109e-04\n",
            "Epoch 45/60\n",
            "3710/3710 [==============================] - 32s 9ms/step - categorical_accuracy: 0.8649 - student_loss: 0.3417 - distillation_loss: 7.1727e-04\n",
            "Epoch 46/60\n",
            "3710/3710 [==============================] - 32s 9ms/step - categorical_accuracy: 0.8656 - student_loss: 0.3401 - distillation_loss: 7.1449e-04\n",
            "Epoch 47/60\n",
            "3710/3710 [==============================] - 31s 8ms/step - categorical_accuracy: 0.8657 - student_loss: 0.3419 - distillation_loss: 7.1853e-04\n",
            "Epoch 48/60\n",
            "3710/3710 [==============================] - 31s 8ms/step - categorical_accuracy: 0.8655 - student_loss: 0.3409 - distillation_loss: 7.1655e-04\n",
            "Epoch 49/60\n",
            "3710/3710 [==============================] - 31s 8ms/step - categorical_accuracy: 0.8663 - student_loss: 0.3394 - distillation_loss: 7.1418e-04\n",
            "Epoch 50/60\n",
            "3710/3710 [==============================] - 31s 8ms/step - categorical_accuracy: 0.8655 - student_loss: 0.3414 - distillation_loss: 7.1789e-04\n",
            "Epoch 51/60\n",
            "3710/3710 [==============================] - 31s 8ms/step - categorical_accuracy: 0.8659 - student_loss: 0.3411 - distillation_loss: 7.1797e-04\n",
            "Epoch 52/60\n",
            "3710/3710 [==============================] - 31s 8ms/step - categorical_accuracy: 0.8659 - student_loss: 0.3390 - distillation_loss: 7.1184e-04\n",
            "Epoch 53/60\n",
            "3710/3710 [==============================] - 31s 8ms/step - categorical_accuracy: 0.8668 - student_loss: 0.3380 - distillation_loss: 7.0989e-04\n",
            "Epoch 54/60\n",
            "3710/3710 [==============================] - 31s 8ms/step - categorical_accuracy: 0.8653 - student_loss: 0.3394 - distillation_loss: 7.1520e-04\n",
            "Epoch 55/60\n",
            "3710/3710 [==============================] - 31s 8ms/step - categorical_accuracy: 0.8673 - student_loss: 0.3351 - distillation_loss: 7.0721e-04\n",
            "Epoch 56/60\n",
            "3710/3710 [==============================] - 31s 8ms/step - categorical_accuracy: 0.8684 - student_loss: 0.3361 - distillation_loss: 7.0773e-04\n",
            "Epoch 57/60\n",
            "3710/3710 [==============================] - 31s 8ms/step - categorical_accuracy: 0.8676 - student_loss: 0.3365 - distillation_loss: 7.0649e-04\n",
            "Epoch 58/60\n",
            "3710/3710 [==============================] - 31s 8ms/step - categorical_accuracy: 0.8661 - student_loss: 0.3398 - distillation_loss: 7.1401e-04\n",
            "Epoch 59/60\n",
            "3710/3710 [==============================] - 31s 8ms/step - categorical_accuracy: 0.8675 - student_loss: 0.3365 - distillation_loss: 7.0737e-04\n",
            "Epoch 60/60\n",
            "3710/3710 [==============================] - 31s 8ms/step - categorical_accuracy: 0.8681 - student_loss: 0.3350 - distillation_loss: 7.0537e-04\n"
          ]
        },
        {
          "output_type": "execute_result",
          "data": {
            "text/plain": [
              "<keras.callbacks.History at 0x7f6a51ea0f90>"
            ]
          },
          "metadata": {},
          "execution_count": 45
        }
      ]
    },
    {
      "cell_type": "code",
      "source": [
        "accuracy_distiller = distiller.evaluate(x_test_dt_rshp, y_test_dt_)"
      ],
      "metadata": {
        "id": "rOQvc2eeHTIH",
        "colab": {
          "base_uri": "https://localhost:8080/"
        },
        "outputId": "415d7881-a374-47d1-903a-4fb76d2f20af"
      },
      "execution_count": null,
      "outputs": [
        {
          "output_type": "stream",
          "name": "stdout",
          "text": [
            "16/16 [==============================] - 0s 5ms/step - categorical_accuracy: 0.7409 - student_loss: 0.9654\n"
          ]
        }
      ]
    },
    {
      "cell_type": "code",
      "source": [
        "preds_final_student_model = final_student_model.predict(x_test_dt_rshp)"
      ],
      "metadata": {
        "id": "z81oxkEMHTOP"
      },
      "execution_count": null,
      "outputs": []
    },
    {
      "cell_type": "code",
      "source": [
        "preds_final_student_model_fin=np.argmax(preds_final_student_model,axis=1)"
      ],
      "metadata": {
        "id": "TJwxgD6eHTP6"
      },
      "execution_count": null,
      "outputs": []
    },
    {
      "cell_type": "code",
      "source": [
        "from sklearn.metrics import confusion_matrix\n",
        "matrix_final_student = confusion_matrix(y_test_dt, preds_final_student_model_fin)\n",
        "matrix_final_student.diagonal()/matrix_final_student.sum(axis=1)"
      ],
      "metadata": {
        "colab": {
          "base_uri": "https://localhost:8080/"
        },
        "id": "51ILJ5MeHTTX",
        "outputId": "91ab6971-0163-4862-ae9f-ca803cd65f3c"
      },
      "execution_count": null,
      "outputs": [
        {
          "output_type": "execute_result",
          "data": {
            "text/plain": [
              "array([0.79365079, 0.11392405, 0.91629956, 0.4       , 0.8245614 ])"
            ]
          },
          "metadata": {},
          "execution_count": 49
        }
      ]
    },
    {
      "cell_type": "code",
      "source": [
        "#y_sub_dt\n",
        "from sklearn.metrics import precision_score, recall_score\n",
        "f1_final_student = f1_score(y_test_dt, preds_final_student_model_fin, average=\"macro\")\n",
        "prec_final_student = precision_score(y_test_dt, preds_final_student_model_fin, average=\"macro\")\n",
        "recall_final_student = recall_score(y_test_dt, preds_final_student_model_fin, average=\"macro\")\n",
        "if VBS:\n",
        "    print(\"Precision: {}\".format(prec_final_student)) \n",
        "    print(\"Recall: {}\".format(recall_final_student))\n",
        "    print(\"F1 score: {}\".format(f1_final_student))\n",
        "\n",
        "    report_final_student = classification_report(y_test_dt, preds_final_student_model_fin, digits=6)\n",
        "    print(report_final_student)"
      ],
      "metadata": {
        "colab": {
          "base_uri": "https://localhost:8080/"
        },
        "id": "sr79xCllIPNL",
        "outputId": "47d5eaee-5750-4556-e672-52f82fdc1b41"
      },
      "execution_count": null,
      "outputs": [
        {
          "output_type": "stream",
          "name": "stdout",
          "text": [
            "Precision: 0.5590325588066551\n",
            "Recall: 0.6096871614527685\n",
            "F1 score: 0.5664595532145201\n",
            "              precision    recall  f1-score   support\n",
            "\n",
            "           0   0.892857  0.793651  0.840336       126\n",
            "           1   0.281250  0.113924  0.162162        79\n",
            "           2   0.835341  0.916300  0.873950       227\n",
            "           3   0.285714  0.400000  0.333333         5\n",
            "           4   0.500000  0.824561  0.622517        57\n",
            "\n",
            "    accuracy                       0.740891       494\n",
            "   macro avg   0.559033  0.609687  0.566460       494\n",
            "weighted avg   0.717145  0.740891  0.717064       494\n",
            "\n"
          ]
        }
      ]
    },
    {
      "cell_type": "code",
      "source": [
        ""
      ],
      "metadata": {
        "id": "so-VL_y8ewJV"
      },
      "execution_count": null,
      "outputs": []
    }
  ]
}