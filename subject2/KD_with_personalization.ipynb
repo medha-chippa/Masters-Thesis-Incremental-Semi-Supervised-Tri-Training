{
 "cells": [
  {
   "cell_type": "code",
   "execution_count": null,
   "metadata": {
    "id": "y8_8UslWPwBT"
   },
   "outputs": [],
   "source": [
    "import numpy as np\n",
    "import pandas as pd\n",
    "from sklearn.model_selection import train_test_split\n",
    "\n",
    "from numpy import mean\n",
    "from numpy import std\n",
    "\n",
    "from matplotlib import pyplot\n",
    "from sklearn.metrics import accuracy_score,confusion_matrix,classification_report\n",
    "from sklearn.preprocessing import QuantileTransformer\n",
    "from sklearn.pipeline import Pipeline\n",
    "\n",
    "from scipy.stats import mode"
   ]
  },
  {
   "cell_type": "code",
   "execution_count": null,
   "metadata": {
    "id": "h28AuzD_P2G6"
   },
   "outputs": [],
   "source": [
    "from pydrive.auth import GoogleAuth\n",
    "from pydrive.drive import GoogleDrive\n",
    "from google.colab import auth\n",
    "from oauth2client.client import GoogleCredentials"
   ]
  },
  {
   "cell_type": "code",
   "execution_count": null,
   "metadata": {
    "id": "F-F5aOYSP2LF"
   },
   "outputs": [],
   "source": [
    "auth.authenticate_user()\n",
    "gauth = GoogleAuth()\n",
    "gauth.credentials = GoogleCredentials.get_application_default()\n",
    "drive = GoogleDrive(gauth)"
   ]
  },
  {
   "cell_type": "code",
   "execution_count": null,
   "metadata": {
    "colab": {
     "base_uri": "https://localhost:8080/"
    },
    "id": "W55D-9irP2OD",
    "outputId": "90da23e6-857c-45eb-d127-44ee19c63ac0"
   },
   "outputs": [
    {
     "name": "stdout",
     "output_type": "stream",
     "text": [
      "Mounted at /content/gdrive\n"
     ]
    }
   ],
   "source": [
    "#npz files can only be loaded using /gdrive path\n",
    "from google.colab import drive\n",
    "drive.mount('/content/gdrive')\n",
    "#%cd /gdrive"
   ]
  },
  {
   "cell_type": "code",
   "execution_count": null,
   "metadata": {
    "colab": {
     "base_uri": "https://localhost:8080/"
    },
    "id": "PludW6j-P6vX",
    "outputId": "7b9915f3-ba40-477f-9aaa-c3f0959f0845"
   },
   "outputs": [
    {
     "name": "stdout",
     "output_type": "stream",
     "text": [
      "Looking in indexes: https://pypi.org/simple, https://us-python.pkg.dev/colab-wheels/public/simple/\n",
      "Collecting mne\n",
      "  Downloading mne-1.0.3-py3-none-any.whl (7.5 MB)\n",
      "\u001b[K     |████████████████████████████████| 7.5 MB 14.0 MB/s \n",
      "\u001b[?25hRequirement already satisfied: packaging in /usr/local/lib/python3.7/dist-packages (from mne) (21.3)\n",
      "Requirement already satisfied: numpy>=1.15.4 in /usr/local/lib/python3.7/dist-packages (from mne) (1.21.6)\n",
      "Requirement already satisfied: matplotlib in /usr/local/lib/python3.7/dist-packages (from mne) (3.2.2)\n",
      "Requirement already satisfied: decorator in /usr/local/lib/python3.7/dist-packages (from mne) (4.4.2)\n",
      "Requirement already satisfied: scipy>=1.1.0 in /usr/local/lib/python3.7/dist-packages (from mne) (1.7.3)\n",
      "Requirement already satisfied: jinja2 in /usr/local/lib/python3.7/dist-packages (from mne) (2.11.3)\n",
      "Requirement already satisfied: pooch>=1.5 in /usr/local/lib/python3.7/dist-packages (from mne) (1.6.0)\n",
      "Requirement already satisfied: tqdm in /usr/local/lib/python3.7/dist-packages (from mne) (4.64.0)\n",
      "Requirement already satisfied: requests>=2.19.0 in /usr/local/lib/python3.7/dist-packages (from pooch>=1.5->mne) (2.23.0)\n",
      "Requirement already satisfied: appdirs>=1.3.0 in /usr/local/lib/python3.7/dist-packages (from pooch>=1.5->mne) (1.4.4)\n",
      "Requirement already satisfied: pyparsing!=3.0.5,>=2.0.2 in /usr/local/lib/python3.7/dist-packages (from packaging->mne) (3.0.9)\n",
      "Requirement already satisfied: certifi>=2017.4.17 in /usr/local/lib/python3.7/dist-packages (from requests>=2.19.0->pooch>=1.5->mne) (2022.6.15)\n",
      "Requirement already satisfied: chardet<4,>=3.0.2 in /usr/local/lib/python3.7/dist-packages (from requests>=2.19.0->pooch>=1.5->mne) (3.0.4)\n",
      "Requirement already satisfied: urllib3!=1.25.0,!=1.25.1,<1.26,>=1.21.1 in /usr/local/lib/python3.7/dist-packages (from requests>=2.19.0->pooch>=1.5->mne) (1.24.3)\n",
      "Requirement already satisfied: idna<3,>=2.5 in /usr/local/lib/python3.7/dist-packages (from requests>=2.19.0->pooch>=1.5->mne) (2.10)\n",
      "Requirement already satisfied: MarkupSafe>=0.23 in /usr/local/lib/python3.7/dist-packages (from jinja2->mne) (2.0.1)\n",
      "Requirement already satisfied: python-dateutil>=2.1 in /usr/local/lib/python3.7/dist-packages (from matplotlib->mne) (2.8.2)\n",
      "Requirement already satisfied: cycler>=0.10 in /usr/local/lib/python3.7/dist-packages (from matplotlib->mne) (0.11.0)\n",
      "Requirement already satisfied: kiwisolver>=1.0.1 in /usr/local/lib/python3.7/dist-packages (from matplotlib->mne) (1.4.3)\n",
      "Requirement already satisfied: typing-extensions in /usr/local/lib/python3.7/dist-packages (from kiwisolver>=1.0.1->matplotlib->mne) (4.1.1)\n",
      "Requirement already satisfied: six>=1.5 in /usr/local/lib/python3.7/dist-packages (from python-dateutil>=2.1->matplotlib->mne) (1.15.0)\n",
      "Installing collected packages: mne\n",
      "Successfully installed mne-1.0.3\n"
     ]
    }
   ],
   "source": [
    "!pip install mne"
   ]
  },
  {
   "cell_type": "code",
   "execution_count": null,
   "metadata": {
    "id": "_1O1bfmjP6w2"
   },
   "outputs": [],
   "source": [
    "#import pyeeg\n",
    "from tensorflow import keras "
   ]
  },
  {
   "cell_type": "code",
   "execution_count": null,
   "metadata": {
    "id": "I9Lglo7-P60e"
   },
   "outputs": [],
   "source": [
    "%matplotlib inline\n",
    "\n",
    "import glob\n",
    "import math\n",
    "import ntpath\n",
    "import random, os, sys\n",
    "import numpy as np\n",
    "import pandas as pd\n",
    "import tensorflow as tf\n",
    "import matplotlib.pyplot as plt\n",
    "import seaborn as sns\n",
    "#import edfreader\n",
    "#import models\n",
    "import mne\n",
    "#import pyeeg\n",
    "import warnings\n",
    "warnings.filterwarnings('ignore')\n",
    "\n",
    "from matplotlib.backends.backend_pdf import PdfPages\n",
    "from mne.datasets.sleep_physionet._utils import _fetch_one, _data_path, AGE_SLEEP_RECORDS, _check_subjects\n",
    "from datetime import datetime\n",
    "from mne import Epochs, pick_types, find_events\n",
    "from mne.io import concatenate_raws, read_raw_edf\n",
    "from mne.time_frequency import psd_welch\n",
    "from sklearn.ensemble import RandomForestClassifier\n",
    "from sklearn.metrics import classification_report\n",
    "\n",
    "from tqdm.notebook import tqdm\n",
    "from sklearn.model_selection import train_test_split\n",
    "from tensorflow import keras\n",
    "\n",
    "from tensorflow.keras.utils import to_categorical\n",
    "\n",
    "from tensorflow.keras.callbacks import ModelCheckpoint, ReduceLROnPlateau, CSVLogger\n",
    "import imblearn\n",
    "from imblearn.over_sampling import SMOTE\n",
    "from sklearn.svm import SVC\n",
    "import joblib\n",
    "\n",
    "from sklearn.metrics import make_scorer, f1_score, accuracy_score, classification_report, log_loss\n",
    "from sklearn.metrics import roc_auc_score, confusion_matrix, roc_auc_score, roc_curve\n",
    "\n",
    "from sklearn.tree import DecisionTreeClassifier\n",
    "from sklearn.neighbors import KNeighborsClassifier\n",
    "from sklearn.ensemble import RandomForestClassifier, AdaBoostClassifier, GradientBoostingClassifier\n",
    "from sklearn.naive_bayes import GaussianNB\n",
    "from sklearn.discriminant_analysis import LinearDiscriminantAnalysis\n",
    "from sklearn.discriminant_analysis import QuadraticDiscriminantAnalysis\n",
    "#from xgboost import XGBClassifier\n",
    "#import xgboost"
   ]
  },
  {
   "cell_type": "code",
   "execution_count": null,
   "metadata": {
    "id": "8Gt1NYV2Paas"
   },
   "outputs": [],
   "source": [
    "dt=pd.read_csv('/content/gdrive/My Drive/physionet/ensemble/50_subs/transfer_set_50_subs.csv',header=None) #the transfer set + subject specific train data , inc semi sup tri-trained labels obtained the keras way (train_on_batch)"
   ]
  },
  {
   "cell_type": "code",
   "execution_count": null,
   "metadata": {
    "colab": {
     "base_uri": "https://localhost:8080/"
    },
    "id": "vfPqs5_LPbcR",
    "outputId": "21c7bbf4-b01e-4e06-ee89-2110a53b1455"
   },
   "outputs": [
    {
     "data": {
      "text/plain": [
       "2    49030\n",
       "0    30515\n",
       "4    19065\n",
       "3     9095\n",
       "1     9013\n",
       "Name: 3000, dtype: int64"
      ]
     },
     "execution_count": 9,
     "metadata": {},
     "output_type": "execute_result"
    }
   ],
   "source": [
    "dt[3000].value_counts()"
   ]
  },
  {
   "cell_type": "code",
   "execution_count": null,
   "metadata": {
    "id": "tf6-foYQQFUF"
   },
   "outputs": [],
   "source": [
    "VBS = True  # constant boolean to enable/disbale verbose\n",
    "EPOCH_SEC_SIZE = 30  # Epoch duration selection\n",
    "seed = 42  # seed value for the random seeds\n",
    "batch_size = 64\n",
    "number_of_files = 100 #100 npz files, 50 subjects, each suject has 2 nights, so 2 files per subject (50*2)=100\n",
    "\n",
    "# values to label the stages\n",
    "UNKNOWN = -1\n",
    "W = 0\n",
    "N1 = 1\n",
    "N2 = 2\n",
    "N3 = 3\n",
    "REM = 4\n",
    "\n",
    "# making string dictionary for the label values\n",
    "label_dict = {\n",
    "    \"UNKNOWN\"  : UNKNOWN,\n",
    "    \"W\"        : W,\n",
    "    \"N1\"       : N1,\n",
    "    \"N2\"       : N2,\n",
    "    \"N3\"       : N3,\n",
    "    \"REM\"      : REM\n",
    "}\n",
    "\n",
    "# converting from label values to strings \n",
    "class_dict = {\n",
    "    -1: \"UNKNOWN\",\n",
    "    0 : \"W\",\n",
    "    1 : \"N1\",\n",
    "    2 : \"N2\",\n",
    "    3 : \"N3\",\n",
    "    4 : \"REM\"\n",
    "}\n",
    "\n",
    "# annotation dictionary to convert from string to label values\n",
    "annot2label = {\n",
    "    \"Sleep stage ?\": -1,\n",
    "    \"Movement time\": -1,\n",
    "    \"Sleep stage W\": 0,\n",
    "    \"Sleep stage 1\": 1,\n",
    "    \"Sleep stage 2\": 2,\n",
    "    \"Sleep stage 3\": 3,\n",
    "    \"Sleep stage 4\": 3,\n",
    "    \"Sleep stage R\": 4\n",
    "}\n",
    "#project_path = os.path.abspath(os.getcwd())  # finding the current project path in windows"
   ]
  },
  {
   "cell_type": "code",
   "execution_count": null,
   "metadata": {
    "id": "LVIQYKRqQFZF"
   },
   "outputs": [],
   "source": [
    "from tensorflow.keras import optimizers, losses, activations, models\n",
    "from tensorflow.keras.models import Model, load_model\n",
    "from tensorflow.keras.layers import GlobalMaxPool1D, GlobalAveragePooling1D, concatenate, SpatialDropout1D, TimeDistributed, Bidirectional, LSTM\n",
    "from tensorflow.keras.layers import Input, Conv1D, Dense, Dropout, MaxPool1D, Activation\n",
    "from tensorflow.keras.layers import Reshape, LSTM, TimeDistributed, Bidirectional, BatchNormalization, Flatten, RepeatVector\n",
    "from tensorflow.keras.optimizers import Adam\n",
    "#from keras_contrib.layers import CRF\n",
    "\n",
    "from scipy.signal import butter, lfilter\n"
   ]
  },
  {
   "cell_type": "code",
   "execution_count": null,
   "metadata": {
    "id": "Kd4xCZ9aQcL5"
   },
   "outputs": [],
   "source": [
    "Fs = 100\n",
    "from keras.utils import np_utils"
   ]
  },
  {
   "cell_type": "code",
   "execution_count": null,
   "metadata": {
    "id": "wIn4t2wFToOT"
   },
   "outputs": [],
   "source": []
  },
  {
   "cell_type": "code",
   "execution_count": null,
   "metadata": {
    "id": "y5cw0csyQcNu"
   },
   "outputs": [],
   "source": [
    "transfer_set_with_tri_trained_sub_labeled_dt=pd.read_csv('/content/gdrive/My Drive/physionet/ensemble/50_subs/transfer_set_plus_sub_dt_with_tri_trained_labels_keras_way_sub_481.csv',header=None) #the transfer set + subject specific train data , inc semi sup tri-trained labels obtained the keras way (train_on_batch)"
   ]
  },
  {
   "cell_type": "code",
   "execution_count": null,
   "metadata": {
    "id": "-wTbOzTYN6MC"
   },
   "outputs": [],
   "source": [
    "transfer_set_with_tri_trained_sub_labeled_dt=pd.read_csv('/content/gdrive/My Drive/physionet/ensemble/50_subs/transfer_set_plus_sub_dt_with_tri_trained_labels_keras_way_sub_481_trial_3.csv',header=None) #the transfer set + subject specific train data , inc semi sup tri-trained labels obtained the keras way (train_on_batch)"
   ]
  },
  {
   "cell_type": "code",
   "execution_count": null,
   "metadata": {
    "colab": {
     "base_uri": "https://localhost:8080/",
     "height": 488
    },
    "id": "URKgybX3RH_T",
    "outputId": "3c922367-9f9c-42a1-fcfa-553463a2c5ef"
   },
   "outputs": [
    {
     "data": {
      "text/html": [
       "\n",
       "  <div id=\"df-5e6a0c60-038c-49ad-982c-24857398ee55\">\n",
       "    <div class=\"colab-df-container\">\n",
       "      <div>\n",
       "<style scoped>\n",
       "    .dataframe tbody tr th:only-of-type {\n",
       "        vertical-align: middle;\n",
       "    }\n",
       "\n",
       "    .dataframe tbody tr th {\n",
       "        vertical-align: top;\n",
       "    }\n",
       "\n",
       "    .dataframe thead th {\n",
       "        text-align: right;\n",
       "    }\n",
       "</style>\n",
       "<table border=\"1\" class=\"dataframe\">\n",
       "  <thead>\n",
       "    <tr style=\"text-align: right;\">\n",
       "      <th></th>\n",
       "      <th>0</th>\n",
       "      <th>1</th>\n",
       "      <th>2</th>\n",
       "      <th>3</th>\n",
       "      <th>4</th>\n",
       "      <th>5</th>\n",
       "      <th>6</th>\n",
       "      <th>7</th>\n",
       "      <th>8</th>\n",
       "      <th>9</th>\n",
       "      <th>...</th>\n",
       "      <th>2991</th>\n",
       "      <th>2992</th>\n",
       "      <th>2993</th>\n",
       "      <th>2994</th>\n",
       "      <th>2995</th>\n",
       "      <th>2996</th>\n",
       "      <th>2997</th>\n",
       "      <th>2998</th>\n",
       "      <th>2999</th>\n",
       "      <th>3000</th>\n",
       "    </tr>\n",
       "  </thead>\n",
       "  <tbody>\n",
       "    <tr>\n",
       "      <th>0</th>\n",
       "      <td>0.068014</td>\n",
       "      <td>0.082915</td>\n",
       "      <td>0.077628</td>\n",
       "      <td>0.074744</td>\n",
       "      <td>0.060804</td>\n",
       "      <td>0.063688</td>\n",
       "      <td>0.050710</td>\n",
       "      <td>0.029561</td>\n",
       "      <td>0.010815</td>\n",
       "      <td>0.008412</td>\n",
       "      <td>...</td>\n",
       "      <td>-0.010334</td>\n",
       "      <td>-0.016102</td>\n",
       "      <td>-0.034368</td>\n",
       "      <td>-0.055998</td>\n",
       "      <td>-0.074263</td>\n",
       "      <td>-0.071860</td>\n",
       "      <td>-0.077147</td>\n",
       "      <td>-0.084838</td>\n",
       "      <td>-0.090125</td>\n",
       "      <td>4</td>\n",
       "    </tr>\n",
       "    <tr>\n",
       "      <th>1</th>\n",
       "      <td>0.104729</td>\n",
       "      <td>0.054513</td>\n",
       "      <td>-0.020131</td>\n",
       "      <td>-0.064918</td>\n",
       "      <td>-0.122825</td>\n",
       "      <td>-0.127801</td>\n",
       "      <td>-0.107443</td>\n",
       "      <td>-0.086633</td>\n",
       "      <td>-0.051799</td>\n",
       "      <td>-0.033251</td>\n",
       "      <td>...</td>\n",
       "      <td>-0.123729</td>\n",
       "      <td>-0.120563</td>\n",
       "      <td>-0.129158</td>\n",
       "      <td>-0.149968</td>\n",
       "      <td>-0.173945</td>\n",
       "      <td>-0.187064</td>\n",
       "      <td>-0.171231</td>\n",
       "      <td>-0.149516</td>\n",
       "      <td>-0.121467</td>\n",
       "      <td>3</td>\n",
       "    </tr>\n",
       "    <tr>\n",
       "      <th>2</th>\n",
       "      <td>0.002281</td>\n",
       "      <td>-0.031309</td>\n",
       "      <td>-0.007672</td>\n",
       "      <td>-0.020527</td>\n",
       "      <td>-0.003110</td>\n",
       "      <td>-0.011404</td>\n",
       "      <td>0.006013</td>\n",
       "      <td>-0.029236</td>\n",
       "      <td>-0.025089</td>\n",
       "      <td>-0.042091</td>\n",
       "      <td>...</td>\n",
       "      <td>0.088122</td>\n",
       "      <td>0.057850</td>\n",
       "      <td>0.027992</td>\n",
       "      <td>0.038359</td>\n",
       "      <td>0.040847</td>\n",
       "      <td>0.053703</td>\n",
       "      <td>0.072779</td>\n",
       "      <td>0.055362</td>\n",
       "      <td>0.029651</td>\n",
       "      <td>2</td>\n",
       "    </tr>\n",
       "    <tr>\n",
       "      <th>3</th>\n",
       "      <td>-0.025235</td>\n",
       "      <td>-0.037732</td>\n",
       "      <td>-0.033406</td>\n",
       "      <td>-0.031964</td>\n",
       "      <td>-0.034848</td>\n",
       "      <td>-0.041097</td>\n",
       "      <td>-0.031484</td>\n",
       "      <td>-0.025716</td>\n",
       "      <td>-0.019948</td>\n",
       "      <td>-0.030522</td>\n",
       "      <td>...</td>\n",
       "      <td>-0.015141</td>\n",
       "      <td>-0.013699</td>\n",
       "      <td>-0.018025</td>\n",
       "      <td>-0.020909</td>\n",
       "      <td>-0.021390</td>\n",
       "      <td>-0.002644</td>\n",
       "      <td>-0.020428</td>\n",
       "      <td>-0.025235</td>\n",
       "      <td>-0.024754</td>\n",
       "      <td>2</td>\n",
       "    </tr>\n",
       "    <tr>\n",
       "      <th>4</th>\n",
       "      <td>0.097914</td>\n",
       "      <td>-0.100520</td>\n",
       "      <td>-0.044574</td>\n",
       "      <td>-0.079540</td>\n",
       "      <td>-0.071235</td>\n",
       "      <td>-0.029713</td>\n",
       "      <td>-0.041951</td>\n",
       "      <td>0.000445</td>\n",
       "      <td>-0.031024</td>\n",
       "      <td>0.172217</td>\n",
       "      <td>...</td>\n",
       "      <td>0.167409</td>\n",
       "      <td>0.220732</td>\n",
       "      <td>0.191011</td>\n",
       "      <td>0.119767</td>\n",
       "      <td>0.165661</td>\n",
       "      <td>0.270996</td>\n",
       "      <td>0.200190</td>\n",
       "      <td>0.246520</td>\n",
       "      <td>0.166535</td>\n",
       "      <td>0</td>\n",
       "    </tr>\n",
       "    <tr>\n",
       "      <th>...</th>\n",
       "      <td>...</td>\n",
       "      <td>...</td>\n",
       "      <td>...</td>\n",
       "      <td>...</td>\n",
       "      <td>...</td>\n",
       "      <td>...</td>\n",
       "      <td>...</td>\n",
       "      <td>...</td>\n",
       "      <td>...</td>\n",
       "      <td>...</td>\n",
       "      <td>...</td>\n",
       "      <td>...</td>\n",
       "      <td>...</td>\n",
       "      <td>...</td>\n",
       "      <td>...</td>\n",
       "      <td>...</td>\n",
       "      <td>...</td>\n",
       "      <td>...</td>\n",
       "      <td>...</td>\n",
       "      <td>...</td>\n",
       "      <td>...</td>\n",
       "    </tr>\n",
       "    <tr>\n",
       "      <th>118693</th>\n",
       "      <td>0.003997</td>\n",
       "      <td>0.004450</td>\n",
       "      <td>0.019831</td>\n",
       "      <td>0.028427</td>\n",
       "      <td>0.027974</td>\n",
       "      <td>0.005354</td>\n",
       "      <td>-0.015456</td>\n",
       "      <td>-0.011384</td>\n",
       "      <td>0.017117</td>\n",
       "      <td>0.010783</td>\n",
       "      <td>...</td>\n",
       "      <td>0.001735</td>\n",
       "      <td>-0.032194</td>\n",
       "      <td>-0.073814</td>\n",
       "      <td>-0.102315</td>\n",
       "      <td>-0.091005</td>\n",
       "      <td>-0.076076</td>\n",
       "      <td>-0.055719</td>\n",
       "      <td>-0.005955</td>\n",
       "      <td>0.046522</td>\n",
       "      <td>4</td>\n",
       "    </tr>\n",
       "    <tr>\n",
       "      <th>118694</th>\n",
       "      <td>-0.057506</td>\n",
       "      <td>-0.007102</td>\n",
       "      <td>0.013150</td>\n",
       "      <td>0.029351</td>\n",
       "      <td>0.032502</td>\n",
       "      <td>0.050503</td>\n",
       "      <td>0.029351</td>\n",
       "      <td>0.045103</td>\n",
       "      <td>0.082906</td>\n",
       "      <td>0.074355</td>\n",
       "      <td>...</td>\n",
       "      <td>0.189114</td>\n",
       "      <td>0.132410</td>\n",
       "      <td>0.136010</td>\n",
       "      <td>0.131060</td>\n",
       "      <td>0.136010</td>\n",
       "      <td>0.144561</td>\n",
       "      <td>0.173813</td>\n",
       "      <td>0.172463</td>\n",
       "      <td>0.131510</td>\n",
       "      <td>2</td>\n",
       "    </tr>\n",
       "    <tr>\n",
       "      <th>118695</th>\n",
       "      <td>-0.043052</td>\n",
       "      <td>-0.035361</td>\n",
       "      <td>-0.011384</td>\n",
       "      <td>-0.004146</td>\n",
       "      <td>-0.014551</td>\n",
       "      <td>-0.032194</td>\n",
       "      <td>-0.029027</td>\n",
       "      <td>-0.030837</td>\n",
       "      <td>-0.040790</td>\n",
       "      <td>-0.036266</td>\n",
       "      <td>...</td>\n",
       "      <td>0.037474</td>\n",
       "      <td>0.008069</td>\n",
       "      <td>-0.022694</td>\n",
       "      <td>-0.051647</td>\n",
       "      <td>-0.032646</td>\n",
       "      <td>-0.035361</td>\n",
       "      <td>-0.037623</td>\n",
       "      <td>-0.055719</td>\n",
       "      <td>-0.073814</td>\n",
       "      <td>2</td>\n",
       "    </tr>\n",
       "    <tr>\n",
       "      <th>118696</th>\n",
       "      <td>-0.006202</td>\n",
       "      <td>-0.000351</td>\n",
       "      <td>0.003699</td>\n",
       "      <td>-0.012502</td>\n",
       "      <td>-0.079557</td>\n",
       "      <td>-0.057506</td>\n",
       "      <td>0.011350</td>\n",
       "      <td>-0.030053</td>\n",
       "      <td>-0.048955</td>\n",
       "      <td>0.048253</td>\n",
       "      <td>...</td>\n",
       "      <td>0.025751</td>\n",
       "      <td>0.022151</td>\n",
       "      <td>0.038802</td>\n",
       "      <td>0.039252</td>\n",
       "      <td>0.010900</td>\n",
       "      <td>0.013600</td>\n",
       "      <td>-0.029603</td>\n",
       "      <td>-0.034104</td>\n",
       "      <td>-0.066056</td>\n",
       "      <td>0</td>\n",
       "    </tr>\n",
       "    <tr>\n",
       "      <th>118697</th>\n",
       "      <td>0.034302</td>\n",
       "      <td>0.052303</td>\n",
       "      <td>0.067604</td>\n",
       "      <td>0.098207</td>\n",
       "      <td>0.108558</td>\n",
       "      <td>0.082456</td>\n",
       "      <td>0.030251</td>\n",
       "      <td>0.036102</td>\n",
       "      <td>0.032502</td>\n",
       "      <td>0.010450</td>\n",
       "      <td>...</td>\n",
       "      <td>0.125209</td>\n",
       "      <td>0.084706</td>\n",
       "      <td>0.076605</td>\n",
       "      <td>0.090556</td>\n",
       "      <td>0.115308</td>\n",
       "      <td>0.112158</td>\n",
       "      <td>0.166162</td>\n",
       "      <td>0.251219</td>\n",
       "      <td>0.302973</td>\n",
       "      <td>2</td>\n",
       "    </tr>\n",
       "  </tbody>\n",
       "</table>\n",
       "<p>118698 rows × 3001 columns</p>\n",
       "</div>\n",
       "      <button class=\"colab-df-convert\" onclick=\"convertToInteractive('df-5e6a0c60-038c-49ad-982c-24857398ee55')\"\n",
       "              title=\"Convert this dataframe to an interactive table.\"\n",
       "              style=\"display:none;\">\n",
       "        \n",
       "  <svg xmlns=\"http://www.w3.org/2000/svg\" height=\"24px\"viewBox=\"0 0 24 24\"\n",
       "       width=\"24px\">\n",
       "    <path d=\"M0 0h24v24H0V0z\" fill=\"none\"/>\n",
       "    <path d=\"M18.56 5.44l.94 2.06.94-2.06 2.06-.94-2.06-.94-.94-2.06-.94 2.06-2.06.94zm-11 1L8.5 8.5l.94-2.06 2.06-.94-2.06-.94L8.5 2.5l-.94 2.06-2.06.94zm10 10l.94 2.06.94-2.06 2.06-.94-2.06-.94-.94-2.06-.94 2.06-2.06.94z\"/><path d=\"M17.41 7.96l-1.37-1.37c-.4-.4-.92-.59-1.43-.59-.52 0-1.04.2-1.43.59L10.3 9.45l-7.72 7.72c-.78.78-.78 2.05 0 2.83L4 21.41c.39.39.9.59 1.41.59.51 0 1.02-.2 1.41-.59l7.78-7.78 2.81-2.81c.8-.78.8-2.07 0-2.86zM5.41 20L4 18.59l7.72-7.72 1.47 1.35L5.41 20z\"/>\n",
       "  </svg>\n",
       "      </button>\n",
       "      \n",
       "  <style>\n",
       "    .colab-df-container {\n",
       "      display:flex;\n",
       "      flex-wrap:wrap;\n",
       "      gap: 12px;\n",
       "    }\n",
       "\n",
       "    .colab-df-convert {\n",
       "      background-color: #E8F0FE;\n",
       "      border: none;\n",
       "      border-radius: 50%;\n",
       "      cursor: pointer;\n",
       "      display: none;\n",
       "      fill: #1967D2;\n",
       "      height: 32px;\n",
       "      padding: 0 0 0 0;\n",
       "      width: 32px;\n",
       "    }\n",
       "\n",
       "    .colab-df-convert:hover {\n",
       "      background-color: #E2EBFA;\n",
       "      box-shadow: 0px 1px 2px rgba(60, 64, 67, 0.3), 0px 1px 3px 1px rgba(60, 64, 67, 0.15);\n",
       "      fill: #174EA6;\n",
       "    }\n",
       "\n",
       "    [theme=dark] .colab-df-convert {\n",
       "      background-color: #3B4455;\n",
       "      fill: #D2E3FC;\n",
       "    }\n",
       "\n",
       "    [theme=dark] .colab-df-convert:hover {\n",
       "      background-color: #434B5C;\n",
       "      box-shadow: 0px 1px 3px 1px rgba(0, 0, 0, 0.15);\n",
       "      filter: drop-shadow(0px 1px 2px rgba(0, 0, 0, 0.3));\n",
       "      fill: #FFFFFF;\n",
       "    }\n",
       "  </style>\n",
       "\n",
       "      <script>\n",
       "        const buttonEl =\n",
       "          document.querySelector('#df-5e6a0c60-038c-49ad-982c-24857398ee55 button.colab-df-convert');\n",
       "        buttonEl.style.display =\n",
       "          google.colab.kernel.accessAllowed ? 'block' : 'none';\n",
       "\n",
       "        async function convertToInteractive(key) {\n",
       "          const element = document.querySelector('#df-5e6a0c60-038c-49ad-982c-24857398ee55');\n",
       "          const dataTable =\n",
       "            await google.colab.kernel.invokeFunction('convertToInteractive',\n",
       "                                                     [key], {});\n",
       "          if (!dataTable) return;\n",
       "\n",
       "          const docLinkHtml = 'Like what you see? Visit the ' +\n",
       "            '<a target=\"_blank\" href=https://colab.research.google.com/notebooks/data_table.ipynb>data table notebook</a>'\n",
       "            + ' to learn more about interactive tables.';\n",
       "          element.innerHTML = '';\n",
       "          dataTable['output_type'] = 'display_data';\n",
       "          await google.colab.output.renderOutput(dataTable, element);\n",
       "          const docLink = document.createElement('div');\n",
       "          docLink.innerHTML = docLinkHtml;\n",
       "          element.appendChild(docLink);\n",
       "        }\n",
       "      </script>\n",
       "    </div>\n",
       "  </div>\n",
       "  "
      ],
      "text/plain": [
       "            0         1         2         3         4         5         6     \\\n",
       "0       0.068014  0.082915  0.077628  0.074744  0.060804  0.063688  0.050710   \n",
       "1       0.104729  0.054513 -0.020131 -0.064918 -0.122825 -0.127801 -0.107443   \n",
       "2       0.002281 -0.031309 -0.007672 -0.020527 -0.003110 -0.011404  0.006013   \n",
       "3      -0.025235 -0.037732 -0.033406 -0.031964 -0.034848 -0.041097 -0.031484   \n",
       "4       0.097914 -0.100520 -0.044574 -0.079540 -0.071235 -0.029713 -0.041951   \n",
       "...          ...       ...       ...       ...       ...       ...       ...   \n",
       "118693  0.003997  0.004450  0.019831  0.028427  0.027974  0.005354 -0.015456   \n",
       "118694 -0.057506 -0.007102  0.013150  0.029351  0.032502  0.050503  0.029351   \n",
       "118695 -0.043052 -0.035361 -0.011384 -0.004146 -0.014551 -0.032194 -0.029027   \n",
       "118696 -0.006202 -0.000351  0.003699 -0.012502 -0.079557 -0.057506  0.011350   \n",
       "118697  0.034302  0.052303  0.067604  0.098207  0.108558  0.082456  0.030251   \n",
       "\n",
       "            7         8         9     ...      2991      2992      2993  \\\n",
       "0       0.029561  0.010815  0.008412  ... -0.010334 -0.016102 -0.034368   \n",
       "1      -0.086633 -0.051799 -0.033251  ... -0.123729 -0.120563 -0.129158   \n",
       "2      -0.029236 -0.025089 -0.042091  ...  0.088122  0.057850  0.027992   \n",
       "3      -0.025716 -0.019948 -0.030522  ... -0.015141 -0.013699 -0.018025   \n",
       "4       0.000445 -0.031024  0.172217  ...  0.167409  0.220732  0.191011   \n",
       "...          ...       ...       ...  ...       ...       ...       ...   \n",
       "118693 -0.011384  0.017117  0.010783  ...  0.001735 -0.032194 -0.073814   \n",
       "118694  0.045103  0.082906  0.074355  ...  0.189114  0.132410  0.136010   \n",
       "118695 -0.030837 -0.040790 -0.036266  ...  0.037474  0.008069 -0.022694   \n",
       "118696 -0.030053 -0.048955  0.048253  ...  0.025751  0.022151  0.038802   \n",
       "118697  0.036102  0.032502  0.010450  ...  0.125209  0.084706  0.076605   \n",
       "\n",
       "            2994      2995      2996      2997      2998      2999  3000  \n",
       "0      -0.055998 -0.074263 -0.071860 -0.077147 -0.084838 -0.090125     4  \n",
       "1      -0.149968 -0.173945 -0.187064 -0.171231 -0.149516 -0.121467     3  \n",
       "2       0.038359  0.040847  0.053703  0.072779  0.055362  0.029651     2  \n",
       "3      -0.020909 -0.021390 -0.002644 -0.020428 -0.025235 -0.024754     2  \n",
       "4       0.119767  0.165661  0.270996  0.200190  0.246520  0.166535     0  \n",
       "...          ...       ...       ...       ...       ...       ...   ...  \n",
       "118693 -0.102315 -0.091005 -0.076076 -0.055719 -0.005955  0.046522     4  \n",
       "118694  0.131060  0.136010  0.144561  0.173813  0.172463  0.131510     2  \n",
       "118695 -0.051647 -0.032646 -0.035361 -0.037623 -0.055719 -0.073814     2  \n",
       "118696  0.039252  0.010900  0.013600 -0.029603 -0.034104 -0.066056     0  \n",
       "118697  0.090556  0.115308  0.112158  0.166162  0.251219  0.302973     2  \n",
       "\n",
       "[118698 rows x 3001 columns]"
      ]
     },
     "execution_count": 13,
     "metadata": {},
     "output_type": "execute_result"
    }
   ],
   "source": [
    "transfer_set_with_tri_trained_sub_labeled_dt"
   ]
  },
  {
   "cell_type": "code",
   "execution_count": null,
   "metadata": {
    "colab": {
     "base_uri": "https://localhost:8080/"
    },
    "id": "aORZsLjVQcQW",
    "outputId": "393a566d-ce5f-4316-813f-a2bba65f6f53"
   },
   "outputs": [
    {
     "name": "stdout",
     "output_type": "stream",
     "text": [
      "\u001b[?25l\r",
      "\u001b[K     |██▌                             | 10 kB 29.0 MB/s eta 0:00:01\r",
      "\u001b[K     |█████                           | 20 kB 36.0 MB/s eta 0:00:01\r",
      "\u001b[K     |███████▍                        | 30 kB 29.2 MB/s eta 0:00:01\r",
      "\u001b[K     |█████████▉                      | 40 kB 16.2 MB/s eta 0:00:01\r",
      "\u001b[K     |████████████▎                   | 51 kB 13.0 MB/s eta 0:00:01\r",
      "\u001b[K     |██████████████▊                 | 61 kB 15.2 MB/s eta 0:00:01\r",
      "\u001b[K     |█████████████████▏              | 71 kB 15.2 MB/s eta 0:00:01\r",
      "\u001b[K     |███████████████████▋            | 81 kB 13.3 MB/s eta 0:00:01\r",
      "\u001b[K     |██████████████████████          | 92 kB 14.6 MB/s eta 0:00:01\r",
      "\u001b[K     |████████████████████████▌       | 102 kB 16.0 MB/s eta 0:00:01\r",
      "\u001b[K     |███████████████████████████     | 112 kB 16.0 MB/s eta 0:00:01\r",
      "\u001b[K     |█████████████████████████████▍  | 122 kB 16.0 MB/s eta 0:00:01\r",
      "\u001b[K     |███████████████████████████████▉| 133 kB 16.0 MB/s eta 0:00:01\r",
      "\u001b[K     |████████████████████████████████| 133 kB 16.0 MB/s \n",
      "\u001b[?25h"
     ]
    }
   ],
   "source": [
    "pip install -q -U keras-tuner"
   ]
  },
  {
   "cell_type": "code",
   "execution_count": null,
   "metadata": {
    "id": "HAqMkbOUQcR5"
   },
   "outputs": [],
   "source": [
    "x_dt=transfer_set_with_tri_trained_sub_labeled_dt.drop([3000],axis=1)\n",
    "y_dt=transfer_set_with_tri_trained_sub_labeled_dt[3000]"
   ]
  },
  {
   "cell_type": "code",
   "execution_count": null,
   "metadata": {
    "id": "24HuXo3SQcVf"
   },
   "outputs": [],
   "source": [
    "y_dt_=np_utils.to_categorical(y_dt)"
   ]
  },
  {
   "cell_type": "code",
   "execution_count": null,
   "metadata": {
    "colab": {
     "base_uri": "https://localhost:8080/"
    },
    "id": "EInfGISPVZkk",
    "outputId": "5bba76a8-fbcb-426c-c363-cd89950a54eb"
   },
   "outputs": [
    {
     "data": {
      "text/plain": [
       "array([[0., 0., 0., 0., 1.],\n",
       "       [0., 0., 0., 1., 0.],\n",
       "       [0., 0., 1., 0., 0.],\n",
       "       ...,\n",
       "       [0., 0., 1., 0., 0.],\n",
       "       [1., 0., 0., 0., 0.],\n",
       "       [0., 0., 1., 0., 0.]], dtype=float32)"
      ]
     },
     "execution_count": 16,
     "metadata": {},
     "output_type": "execute_result"
    }
   ],
   "source": [
    "y_dt_"
   ]
  },
  {
   "cell_type": "code",
   "execution_count": null,
   "metadata": {
    "colab": {
     "base_uri": "https://localhost:8080/"
    },
    "id": "-MFbvxnbRw_K",
    "outputId": "ae325d5b-d1f2-403d-c5e4-b33ad4683693"
   },
   "outputs": [
    {
     "data": {
      "text/plain": [
       "(118698, 3000)"
      ]
     },
     "execution_count": 17,
     "metadata": {},
     "output_type": "execute_result"
    }
   ],
   "source": [
    "x_dt.shape"
   ]
  },
  {
   "cell_type": "code",
   "execution_count": null,
   "metadata": {
    "colab": {
     "base_uri": "https://localhost:8080/",
     "height": 488
    },
    "id": "_pscT85Y9Wu6",
    "outputId": "eb50229d-b0d5-429f-9230-ff7b8d7ffc94"
   },
   "outputs": [
    {
     "data": {
      "text/html": [
       "\n",
       "  <div id=\"df-4ebf70de-4b86-4157-af44-46ab8dc75044\">\n",
       "    <div class=\"colab-df-container\">\n",
       "      <div>\n",
       "<style scoped>\n",
       "    .dataframe tbody tr th:only-of-type {\n",
       "        vertical-align: middle;\n",
       "    }\n",
       "\n",
       "    .dataframe tbody tr th {\n",
       "        vertical-align: top;\n",
       "    }\n",
       "\n",
       "    .dataframe thead th {\n",
       "        text-align: right;\n",
       "    }\n",
       "</style>\n",
       "<table border=\"1\" class=\"dataframe\">\n",
       "  <thead>\n",
       "    <tr style=\"text-align: right;\">\n",
       "      <th></th>\n",
       "      <th>0</th>\n",
       "      <th>1</th>\n",
       "      <th>2</th>\n",
       "      <th>3</th>\n",
       "      <th>4</th>\n",
       "      <th>5</th>\n",
       "      <th>6</th>\n",
       "      <th>7</th>\n",
       "      <th>8</th>\n",
       "      <th>9</th>\n",
       "      <th>...</th>\n",
       "      <th>2990</th>\n",
       "      <th>2991</th>\n",
       "      <th>2992</th>\n",
       "      <th>2993</th>\n",
       "      <th>2994</th>\n",
       "      <th>2995</th>\n",
       "      <th>2996</th>\n",
       "      <th>2997</th>\n",
       "      <th>2998</th>\n",
       "      <th>2999</th>\n",
       "    </tr>\n",
       "  </thead>\n",
       "  <tbody>\n",
       "    <tr>\n",
       "      <th>0</th>\n",
       "      <td>0.068014</td>\n",
       "      <td>0.082915</td>\n",
       "      <td>0.077628</td>\n",
       "      <td>0.074744</td>\n",
       "      <td>0.060804</td>\n",
       "      <td>0.063688</td>\n",
       "      <td>0.050710</td>\n",
       "      <td>0.029561</td>\n",
       "      <td>0.010815</td>\n",
       "      <td>0.008412</td>\n",
       "      <td>...</td>\n",
       "      <td>-0.007450</td>\n",
       "      <td>-0.010334</td>\n",
       "      <td>-0.016102</td>\n",
       "      <td>-0.034368</td>\n",
       "      <td>-0.055998</td>\n",
       "      <td>-0.074263</td>\n",
       "      <td>-0.071860</td>\n",
       "      <td>-0.077147</td>\n",
       "      <td>-0.084838</td>\n",
       "      <td>-0.090125</td>\n",
       "    </tr>\n",
       "    <tr>\n",
       "      <th>1</th>\n",
       "      <td>0.104729</td>\n",
       "      <td>0.054513</td>\n",
       "      <td>-0.020131</td>\n",
       "      <td>-0.064918</td>\n",
       "      <td>-0.122825</td>\n",
       "      <td>-0.127801</td>\n",
       "      <td>-0.107443</td>\n",
       "      <td>-0.086633</td>\n",
       "      <td>-0.051799</td>\n",
       "      <td>-0.033251</td>\n",
       "      <td>...</td>\n",
       "      <td>-0.102467</td>\n",
       "      <td>-0.123729</td>\n",
       "      <td>-0.120563</td>\n",
       "      <td>-0.129158</td>\n",
       "      <td>-0.149968</td>\n",
       "      <td>-0.173945</td>\n",
       "      <td>-0.187064</td>\n",
       "      <td>-0.171231</td>\n",
       "      <td>-0.149516</td>\n",
       "      <td>-0.121467</td>\n",
       "    </tr>\n",
       "    <tr>\n",
       "      <th>2</th>\n",
       "      <td>0.002281</td>\n",
       "      <td>-0.031309</td>\n",
       "      <td>-0.007672</td>\n",
       "      <td>-0.020527</td>\n",
       "      <td>-0.003110</td>\n",
       "      <td>-0.011404</td>\n",
       "      <td>0.006013</td>\n",
       "      <td>-0.029236</td>\n",
       "      <td>-0.025089</td>\n",
       "      <td>-0.042091</td>\n",
       "      <td>...</td>\n",
       "      <td>0.054532</td>\n",
       "      <td>0.088122</td>\n",
       "      <td>0.057850</td>\n",
       "      <td>0.027992</td>\n",
       "      <td>0.038359</td>\n",
       "      <td>0.040847</td>\n",
       "      <td>0.053703</td>\n",
       "      <td>0.072779</td>\n",
       "      <td>0.055362</td>\n",
       "      <td>0.029651</td>\n",
       "    </tr>\n",
       "    <tr>\n",
       "      <th>3</th>\n",
       "      <td>-0.025235</td>\n",
       "      <td>-0.037732</td>\n",
       "      <td>-0.033406</td>\n",
       "      <td>-0.031964</td>\n",
       "      <td>-0.034848</td>\n",
       "      <td>-0.041097</td>\n",
       "      <td>-0.031484</td>\n",
       "      <td>-0.025716</td>\n",
       "      <td>-0.019948</td>\n",
       "      <td>-0.030522</td>\n",
       "      <td>...</td>\n",
       "      <td>-0.012738</td>\n",
       "      <td>-0.015141</td>\n",
       "      <td>-0.013699</td>\n",
       "      <td>-0.018025</td>\n",
       "      <td>-0.020909</td>\n",
       "      <td>-0.021390</td>\n",
       "      <td>-0.002644</td>\n",
       "      <td>-0.020428</td>\n",
       "      <td>-0.025235</td>\n",
       "      <td>-0.024754</td>\n",
       "    </tr>\n",
       "    <tr>\n",
       "      <th>4</th>\n",
       "      <td>0.097914</td>\n",
       "      <td>-0.100520</td>\n",
       "      <td>-0.044574</td>\n",
       "      <td>-0.079540</td>\n",
       "      <td>-0.071235</td>\n",
       "      <td>-0.029713</td>\n",
       "      <td>-0.041951</td>\n",
       "      <td>0.000445</td>\n",
       "      <td>-0.031024</td>\n",
       "      <td>0.172217</td>\n",
       "      <td>...</td>\n",
       "      <td>0.264003</td>\n",
       "      <td>0.167409</td>\n",
       "      <td>0.220732</td>\n",
       "      <td>0.191011</td>\n",
       "      <td>0.119767</td>\n",
       "      <td>0.165661</td>\n",
       "      <td>0.270996</td>\n",
       "      <td>0.200190</td>\n",
       "      <td>0.246520</td>\n",
       "      <td>0.166535</td>\n",
       "    </tr>\n",
       "    <tr>\n",
       "      <th>...</th>\n",
       "      <td>...</td>\n",
       "      <td>...</td>\n",
       "      <td>...</td>\n",
       "      <td>...</td>\n",
       "      <td>...</td>\n",
       "      <td>...</td>\n",
       "      <td>...</td>\n",
       "      <td>...</td>\n",
       "      <td>...</td>\n",
       "      <td>...</td>\n",
       "      <td>...</td>\n",
       "      <td>...</td>\n",
       "      <td>...</td>\n",
       "      <td>...</td>\n",
       "      <td>...</td>\n",
       "      <td>...</td>\n",
       "      <td>...</td>\n",
       "      <td>...</td>\n",
       "      <td>...</td>\n",
       "      <td>...</td>\n",
       "      <td>...</td>\n",
       "    </tr>\n",
       "    <tr>\n",
       "      <th>118693</th>\n",
       "      <td>0.003997</td>\n",
       "      <td>0.004450</td>\n",
       "      <td>0.019831</td>\n",
       "      <td>0.028427</td>\n",
       "      <td>0.027974</td>\n",
       "      <td>0.005354</td>\n",
       "      <td>-0.015456</td>\n",
       "      <td>-0.011384</td>\n",
       "      <td>0.017117</td>\n",
       "      <td>0.010783</td>\n",
       "      <td>...</td>\n",
       "      <td>0.041546</td>\n",
       "      <td>0.001735</td>\n",
       "      <td>-0.032194</td>\n",
       "      <td>-0.073814</td>\n",
       "      <td>-0.102315</td>\n",
       "      <td>-0.091005</td>\n",
       "      <td>-0.076076</td>\n",
       "      <td>-0.055719</td>\n",
       "      <td>-0.005955</td>\n",
       "      <td>0.046522</td>\n",
       "    </tr>\n",
       "    <tr>\n",
       "      <th>118694</th>\n",
       "      <td>-0.057506</td>\n",
       "      <td>-0.007102</td>\n",
       "      <td>0.013150</td>\n",
       "      <td>0.029351</td>\n",
       "      <td>0.032502</td>\n",
       "      <td>0.050503</td>\n",
       "      <td>0.029351</td>\n",
       "      <td>0.045103</td>\n",
       "      <td>0.082906</td>\n",
       "      <td>0.074355</td>\n",
       "      <td>...</td>\n",
       "      <td>0.200365</td>\n",
       "      <td>0.189114</td>\n",
       "      <td>0.132410</td>\n",
       "      <td>0.136010</td>\n",
       "      <td>0.131060</td>\n",
       "      <td>0.136010</td>\n",
       "      <td>0.144561</td>\n",
       "      <td>0.173813</td>\n",
       "      <td>0.172463</td>\n",
       "      <td>0.131510</td>\n",
       "    </tr>\n",
       "    <tr>\n",
       "      <th>118695</th>\n",
       "      <td>-0.043052</td>\n",
       "      <td>-0.035361</td>\n",
       "      <td>-0.011384</td>\n",
       "      <td>-0.004146</td>\n",
       "      <td>-0.014551</td>\n",
       "      <td>-0.032194</td>\n",
       "      <td>-0.029027</td>\n",
       "      <td>-0.030837</td>\n",
       "      <td>-0.040790</td>\n",
       "      <td>-0.036266</td>\n",
       "      <td>...</td>\n",
       "      <td>0.017117</td>\n",
       "      <td>0.037474</td>\n",
       "      <td>0.008069</td>\n",
       "      <td>-0.022694</td>\n",
       "      <td>-0.051647</td>\n",
       "      <td>-0.032646</td>\n",
       "      <td>-0.035361</td>\n",
       "      <td>-0.037623</td>\n",
       "      <td>-0.055719</td>\n",
       "      <td>-0.073814</td>\n",
       "    </tr>\n",
       "    <tr>\n",
       "      <th>118696</th>\n",
       "      <td>-0.006202</td>\n",
       "      <td>-0.000351</td>\n",
       "      <td>0.003699</td>\n",
       "      <td>-0.012502</td>\n",
       "      <td>-0.079557</td>\n",
       "      <td>-0.057506</td>\n",
       "      <td>0.011350</td>\n",
       "      <td>-0.030053</td>\n",
       "      <td>-0.048955</td>\n",
       "      <td>0.048253</td>\n",
       "      <td>...</td>\n",
       "      <td>0.033852</td>\n",
       "      <td>0.025751</td>\n",
       "      <td>0.022151</td>\n",
       "      <td>0.038802</td>\n",
       "      <td>0.039252</td>\n",
       "      <td>0.010900</td>\n",
       "      <td>0.013600</td>\n",
       "      <td>-0.029603</td>\n",
       "      <td>-0.034104</td>\n",
       "      <td>-0.066056</td>\n",
       "    </tr>\n",
       "    <tr>\n",
       "      <th>118697</th>\n",
       "      <td>0.034302</td>\n",
       "      <td>0.052303</td>\n",
       "      <td>0.067604</td>\n",
       "      <td>0.098207</td>\n",
       "      <td>0.108558</td>\n",
       "      <td>0.082456</td>\n",
       "      <td>0.030251</td>\n",
       "      <td>0.036102</td>\n",
       "      <td>0.032502</td>\n",
       "      <td>0.010450</td>\n",
       "      <td>...</td>\n",
       "      <td>0.194065</td>\n",
       "      <td>0.125209</td>\n",
       "      <td>0.084706</td>\n",
       "      <td>0.076605</td>\n",
       "      <td>0.090556</td>\n",
       "      <td>0.115308</td>\n",
       "      <td>0.112158</td>\n",
       "      <td>0.166162</td>\n",
       "      <td>0.251219</td>\n",
       "      <td>0.302973</td>\n",
       "    </tr>\n",
       "  </tbody>\n",
       "</table>\n",
       "<p>118698 rows × 3000 columns</p>\n",
       "</div>\n",
       "      <button class=\"colab-df-convert\" onclick=\"convertToInteractive('df-4ebf70de-4b86-4157-af44-46ab8dc75044')\"\n",
       "              title=\"Convert this dataframe to an interactive table.\"\n",
       "              style=\"display:none;\">\n",
       "        \n",
       "  <svg xmlns=\"http://www.w3.org/2000/svg\" height=\"24px\"viewBox=\"0 0 24 24\"\n",
       "       width=\"24px\">\n",
       "    <path d=\"M0 0h24v24H0V0z\" fill=\"none\"/>\n",
       "    <path d=\"M18.56 5.44l.94 2.06.94-2.06 2.06-.94-2.06-.94-.94-2.06-.94 2.06-2.06.94zm-11 1L8.5 8.5l.94-2.06 2.06-.94-2.06-.94L8.5 2.5l-.94 2.06-2.06.94zm10 10l.94 2.06.94-2.06 2.06-.94-2.06-.94-.94-2.06-.94 2.06-2.06.94z\"/><path d=\"M17.41 7.96l-1.37-1.37c-.4-.4-.92-.59-1.43-.59-.52 0-1.04.2-1.43.59L10.3 9.45l-7.72 7.72c-.78.78-.78 2.05 0 2.83L4 21.41c.39.39.9.59 1.41.59.51 0 1.02-.2 1.41-.59l7.78-7.78 2.81-2.81c.8-.78.8-2.07 0-2.86zM5.41 20L4 18.59l7.72-7.72 1.47 1.35L5.41 20z\"/>\n",
       "  </svg>\n",
       "      </button>\n",
       "      \n",
       "  <style>\n",
       "    .colab-df-container {\n",
       "      display:flex;\n",
       "      flex-wrap:wrap;\n",
       "      gap: 12px;\n",
       "    }\n",
       "\n",
       "    .colab-df-convert {\n",
       "      background-color: #E8F0FE;\n",
       "      border: none;\n",
       "      border-radius: 50%;\n",
       "      cursor: pointer;\n",
       "      display: none;\n",
       "      fill: #1967D2;\n",
       "      height: 32px;\n",
       "      padding: 0 0 0 0;\n",
       "      width: 32px;\n",
       "    }\n",
       "\n",
       "    .colab-df-convert:hover {\n",
       "      background-color: #E2EBFA;\n",
       "      box-shadow: 0px 1px 2px rgba(60, 64, 67, 0.3), 0px 1px 3px 1px rgba(60, 64, 67, 0.15);\n",
       "      fill: #174EA6;\n",
       "    }\n",
       "\n",
       "    [theme=dark] .colab-df-convert {\n",
       "      background-color: #3B4455;\n",
       "      fill: #D2E3FC;\n",
       "    }\n",
       "\n",
       "    [theme=dark] .colab-df-convert:hover {\n",
       "      background-color: #434B5C;\n",
       "      box-shadow: 0px 1px 3px 1px rgba(0, 0, 0, 0.15);\n",
       "      filter: drop-shadow(0px 1px 2px rgba(0, 0, 0, 0.3));\n",
       "      fill: #FFFFFF;\n",
       "    }\n",
       "  </style>\n",
       "\n",
       "      <script>\n",
       "        const buttonEl =\n",
       "          document.querySelector('#df-4ebf70de-4b86-4157-af44-46ab8dc75044 button.colab-df-convert');\n",
       "        buttonEl.style.display =\n",
       "          google.colab.kernel.accessAllowed ? 'block' : 'none';\n",
       "\n",
       "        async function convertToInteractive(key) {\n",
       "          const element = document.querySelector('#df-4ebf70de-4b86-4157-af44-46ab8dc75044');\n",
       "          const dataTable =\n",
       "            await google.colab.kernel.invokeFunction('convertToInteractive',\n",
       "                                                     [key], {});\n",
       "          if (!dataTable) return;\n",
       "\n",
       "          const docLinkHtml = 'Like what you see? Visit the ' +\n",
       "            '<a target=\"_blank\" href=https://colab.research.google.com/notebooks/data_table.ipynb>data table notebook</a>'\n",
       "            + ' to learn more about interactive tables.';\n",
       "          element.innerHTML = '';\n",
       "          dataTable['output_type'] = 'display_data';\n",
       "          await google.colab.output.renderOutput(dataTable, element);\n",
       "          const docLink = document.createElement('div');\n",
       "          docLink.innerHTML = docLinkHtml;\n",
       "          element.appendChild(docLink);\n",
       "        }\n",
       "      </script>\n",
       "    </div>\n",
       "  </div>\n",
       "  "
      ],
      "text/plain": [
       "            0         1         2         3         4         5         6     \\\n",
       "0       0.068014  0.082915  0.077628  0.074744  0.060804  0.063688  0.050710   \n",
       "1       0.104729  0.054513 -0.020131 -0.064918 -0.122825 -0.127801 -0.107443   \n",
       "2       0.002281 -0.031309 -0.007672 -0.020527 -0.003110 -0.011404  0.006013   \n",
       "3      -0.025235 -0.037732 -0.033406 -0.031964 -0.034848 -0.041097 -0.031484   \n",
       "4       0.097914 -0.100520 -0.044574 -0.079540 -0.071235 -0.029713 -0.041951   \n",
       "...          ...       ...       ...       ...       ...       ...       ...   \n",
       "118693  0.003997  0.004450  0.019831  0.028427  0.027974  0.005354 -0.015456   \n",
       "118694 -0.057506 -0.007102  0.013150  0.029351  0.032502  0.050503  0.029351   \n",
       "118695 -0.043052 -0.035361 -0.011384 -0.004146 -0.014551 -0.032194 -0.029027   \n",
       "118696 -0.006202 -0.000351  0.003699 -0.012502 -0.079557 -0.057506  0.011350   \n",
       "118697  0.034302  0.052303  0.067604  0.098207  0.108558  0.082456  0.030251   \n",
       "\n",
       "            7         8         9     ...      2990      2991      2992  \\\n",
       "0       0.029561  0.010815  0.008412  ... -0.007450 -0.010334 -0.016102   \n",
       "1      -0.086633 -0.051799 -0.033251  ... -0.102467 -0.123729 -0.120563   \n",
       "2      -0.029236 -0.025089 -0.042091  ...  0.054532  0.088122  0.057850   \n",
       "3      -0.025716 -0.019948 -0.030522  ... -0.012738 -0.015141 -0.013699   \n",
       "4       0.000445 -0.031024  0.172217  ...  0.264003  0.167409  0.220732   \n",
       "...          ...       ...       ...  ...       ...       ...       ...   \n",
       "118693 -0.011384  0.017117  0.010783  ...  0.041546  0.001735 -0.032194   \n",
       "118694  0.045103  0.082906  0.074355  ...  0.200365  0.189114  0.132410   \n",
       "118695 -0.030837 -0.040790 -0.036266  ...  0.017117  0.037474  0.008069   \n",
       "118696 -0.030053 -0.048955  0.048253  ...  0.033852  0.025751  0.022151   \n",
       "118697  0.036102  0.032502  0.010450  ...  0.194065  0.125209  0.084706   \n",
       "\n",
       "            2993      2994      2995      2996      2997      2998      2999  \n",
       "0      -0.034368 -0.055998 -0.074263 -0.071860 -0.077147 -0.084838 -0.090125  \n",
       "1      -0.129158 -0.149968 -0.173945 -0.187064 -0.171231 -0.149516 -0.121467  \n",
       "2       0.027992  0.038359  0.040847  0.053703  0.072779  0.055362  0.029651  \n",
       "3      -0.018025 -0.020909 -0.021390 -0.002644 -0.020428 -0.025235 -0.024754  \n",
       "4       0.191011  0.119767  0.165661  0.270996  0.200190  0.246520  0.166535  \n",
       "...          ...       ...       ...       ...       ...       ...       ...  \n",
       "118693 -0.073814 -0.102315 -0.091005 -0.076076 -0.055719 -0.005955  0.046522  \n",
       "118694  0.136010  0.131060  0.136010  0.144561  0.173813  0.172463  0.131510  \n",
       "118695 -0.022694 -0.051647 -0.032646 -0.035361 -0.037623 -0.055719 -0.073814  \n",
       "118696  0.038802  0.039252  0.010900  0.013600 -0.029603 -0.034104 -0.066056  \n",
       "118697  0.076605  0.090556  0.115308  0.112158  0.166162  0.251219  0.302973  \n",
       "\n",
       "[118698 rows x 3000 columns]"
      ]
     },
     "execution_count": 18,
     "metadata": {},
     "output_type": "execute_result"
    }
   ],
   "source": [
    "x_dt"
   ]
  },
  {
   "cell_type": "code",
   "execution_count": null,
   "metadata": {
    "id": "ZoKoYtGwRrAo"
   },
   "outputs": [],
   "source": [
    "x_dt_rshp=np.array(x_dt).reshape(118698,3000,1)"
   ]
  },
  {
   "cell_type": "code",
   "execution_count": null,
   "metadata": {
    "colab": {
     "base_uri": "https://localhost:8080/"
    },
    "id": "04kJP5r49Zdu",
    "outputId": "c625d67c-dd07-45fb-9da6-1a667b82860a"
   },
   "outputs": [
    {
     "data": {
      "text/plain": [
       "array([[[ 0.0680144 ],\n",
       "        [ 0.08291509],\n",
       "        [ 0.07762775],\n",
       "        ...,\n",
       "        [-0.07714708],\n",
       "        [-0.08483776],\n",
       "        [-0.09012509]],\n",
       "\n",
       "       [[ 0.1047289 ],\n",
       "        [ 0.05451331],\n",
       "        [-0.02013147],\n",
       "        ...,\n",
       "        [-0.17123062],\n",
       "        [-0.14951577],\n",
       "        [-0.12146743]],\n",
       "\n",
       "       [[ 0.00228081],\n",
       "        [-0.03130934],\n",
       "        [-0.00767183],\n",
       "        ...,\n",
       "        [ 0.07277867],\n",
       "        [ 0.05536155],\n",
       "        [ 0.02965057]],\n",
       "\n",
       "       ...,\n",
       "\n",
       "       [[-0.04305152],\n",
       "        [-0.03536085],\n",
       "        [-0.01138404],\n",
       "        ...,\n",
       "        [-0.03762281],\n",
       "        [-0.05571852],\n",
       "        [-0.07381422]],\n",
       "\n",
       "       [[-0.00620155],\n",
       "        [-0.00035108],\n",
       "        [ 0.00369925],\n",
       "        ...,\n",
       "        [-0.02960344],\n",
       "        [-0.03410381],\n",
       "        [-0.06605639]],\n",
       "\n",
       "       [[ 0.03430173],\n",
       "        [ 0.05230318],\n",
       "        [ 0.06760442],\n",
       "        ...,\n",
       "        [ 0.1661624 ],\n",
       "        [ 0.25121929],\n",
       "        [ 0.30297347]]])"
      ]
     },
     "execution_count": 20,
     "metadata": {},
     "output_type": "execute_result"
    }
   ],
   "source": [
    "x_dt_rshp"
   ]
  },
  {
   "cell_type": "code",
   "execution_count": null,
   "metadata": {
    "id": "cvwl-_MPR8z4"
   },
   "outputs": [],
   "source": [
    "import numpy as np\n",
    "np.random.seed(999)\n",
    "\n",
    "import tensorflow\n",
    "tensorflow.random.set_seed(999)\n",
    "\n",
    "import random\n",
    "#random.seed(999)"
   ]
  },
  {
   "cell_type": "code",
   "execution_count": null,
   "metadata": {
    "colab": {
     "base_uri": "https://localhost:8080/"
    },
    "id": "pi-d-1UxSBWe",
    "outputId": "f21f5834-f73d-480c-e3c5-bc72c5faafcd"
   },
   "outputs": [
    {
     "name": "stdout",
     "output_type": "stream",
     "text": [
      "Looking in indexes: https://pypi.org/simple, https://us-python.pkg.dev/colab-wheels/public/simple/\n",
      "Collecting git+https://www.github.com/keras-team/keras-contrib.git\n",
      "  Cloning https://www.github.com/keras-team/keras-contrib.git to /tmp/pip-req-build-p9fu2t0b\n",
      "  Running command git clone -q https://www.github.com/keras-team/keras-contrib.git /tmp/pip-req-build-p9fu2t0b\n",
      "Requirement already satisfied: keras in /usr/local/lib/python3.7/dist-packages (from keras-contrib==2.0.8) (2.8.0)\n",
      "Building wheels for collected packages: keras-contrib\n",
      "  Building wheel for keras-contrib (setup.py) ... \u001b[?25l\u001b[?25hdone\n",
      "  Created wheel for keras-contrib: filename=keras_contrib-2.0.8-py3-none-any.whl size=101077 sha256=5c109b020c38c019a8a565cceb41b8dc3a73ed46e81f8e8d9f228b08be64adb9\n",
      "  Stored in directory: /tmp/pip-ephem-wheel-cache-0f4lz2cj/wheels/bb/1f/f2/b57495012683b6b20bbae94a3915ec79753111452d79886abc\n",
      "Successfully built keras-contrib\n",
      "Installing collected packages: keras-contrib\n",
      "Successfully installed keras-contrib-2.0.8\n"
     ]
    }
   ],
   "source": [
    "pip install git+https://www.github.com/keras-team/keras-contrib.git"
   ]
  },
  {
   "cell_type": "code",
   "execution_count": null,
   "metadata": {
    "id": "5u70hpGwSBZf"
   },
   "outputs": [],
   "source": [
    "from tensorflow.keras import optimizers, losses, activations, models\n",
    "from tensorflow.keras.models import Model, load_model\n",
    "from tensorflow.keras.layers import GlobalMaxPool1D, GlobalAveragePooling1D, concatenate, SpatialDropout1D, TimeDistributed, Bidirectional, LSTM\n",
    "from tensorflow.keras.layers import Input, Conv1D, Dense, Dropout, MaxPool1D, Activation\n",
    "from tensorflow.keras.layers import Reshape, LSTM, TimeDistributed, Bidirectional, BatchNormalization, Flatten, RepeatVector\n",
    "from tensorflow.keras.optimizers import Adam\n",
    "#from keras_contrib.layers import CRF\n",
    "\n",
    "from scipy.signal import butter, lfilter\n"
   ]
  },
  {
   "cell_type": "code",
   "execution_count": null,
   "metadata": {
    "id": "ZfwILbjiSEVL"
   },
   "outputs": [],
   "source": [
    "Fs = 100"
   ]
  },
  {
   "cell_type": "code",
   "execution_count": null,
   "metadata": {
    "id": "6mJDpenlSEaV"
   },
   "outputs": [],
   "source": [
    "#n_classes=5\n",
    "def model_b(n_classes=5, use_sub_layer=False, use_rnn=True, verbose=False):\n",
    "    inputLayer = Input(shape=(3000, 1), name='inLayer')\n",
    "    convFine = Conv1D(filters=64, kernel_size=int(Fs/2), strides=int(Fs/16), padding='same', activation='relu', name='fConv1')(inputLayer)\n",
    "    convFine = MaxPool1D(pool_size=8, strides=8, name='fMaxP1')(convFine)\n",
    "    convFine = Dropout(rate=0.5, name='fDrop1')(convFine)\n",
    "    convFine = Conv1D(filters=128, kernel_size=8, padding='same', activation='relu', name='fConv2')(convFine)\n",
    "    convFine = Conv1D(filters=128, kernel_size=8, padding='same', activation='relu', name='fConv3')(convFine)\n",
    "    convFine = Conv1D(filters=128, kernel_size=8, padding='same', activation='relu', name='fConv4')(convFine)\n",
    "    convFine = MaxPool1D(pool_size=4, strides=4, name='fMaxP2')(convFine)\n",
    "    fineShape = convFine.get_shape()\n",
    "    convFine = Flatten(name='fFlat1')(convFine)\n",
    "    \n",
    "    # network to learn coarse features\n",
    "    convCoarse = Conv1D(filters=32, kernel_size=Fs*4, strides=int(Fs/2), padding='same', activation='relu', name='cConv1')(inputLayer)\n",
    "    convCoarse = MaxPool1D(pool_size=4, strides=4, name='cMaxP1')(convCoarse)\n",
    "    convCoarse = Dropout(rate=0.5, name='cDrop1')(convCoarse)\n",
    "    convCoarse = Conv1D(filters=128, kernel_size=6, padding='same', activation='relu', name='cConv2')(convCoarse)\n",
    "    convCoarse = Conv1D(filters=128, kernel_size=6, padding='same', activation='relu', name='cConv3')(convCoarse)\n",
    "    convCoarse = Conv1D(filters=128, kernel_size=6, padding='same', activation='relu', name='cConv4')(convCoarse)\n",
    "    convCoarse = MaxPool1D(pool_size=2, strides=2, name='cMaxP2')(convCoarse)\n",
    "    coarseShape = convCoarse.get_shape()\n",
    "    convCoarse = Flatten(name='cFlat1')(convCoarse)\n",
    "    \n",
    "    # concatenate coarse and fine cnns\n",
    "    mergeLayer = concatenate([convFine, convCoarse], name='merge_1')\n",
    "    outLayer = Dropout(rate=0.5, name='mDrop1')(mergeLayer)\n",
    "    \n",
    "    outLayer = Reshape((1, outLayer.get_shape()[1]), name='reshape1')(outLayer)\n",
    "    outLayer = LSTM(64, return_sequences=True)(outLayer)\n",
    "    outLayer = LSTM(64, return_sequences=False)(outLayer)\n",
    "\n",
    "    # Classify\n",
    "    outLayer = Dense(n_classes, activation='softmax', name='outLayer')(outLayer)\n",
    "    model = Model(inputLayer, outLayer)\n",
    "    optimizer = Adam(lr=1e-4)\n",
    "    model.compile(optimizer=optimizer, loss='categorical_crossentropy', metrics=['acc'])\n",
    "    #model.compile(optimizer=optimizer, loss='categorical_crossentropy', metrics=['accuracy'])\n",
    "    if verbose:\n",
    "        model.summary()\n",
    "    return model"
   ]
  },
  {
   "cell_type": "code",
   "execution_count": null,
   "metadata": {
    "id": "w-Mz82AVSXve"
   },
   "outputs": [],
   "source": [
    "import keras_tuner as kt\n",
    "optimizer=Adam(lr=1e-4)"
   ]
  },
  {
   "cell_type": "code",
   "execution_count": null,
   "metadata": {
    "id": "JkiBIB5MVUvg"
   },
   "outputs": [],
   "source": [
    "class MyHyperModel(kt.HyperModel):\n",
    "    def build(self, hp):\n",
    "      model=model_b(verbose=VBS)\n",
    "      optimizer = Adam(lr=1e-4)\n",
    "      model.compile(optimizer=optimizer, loss='categorical_crossentropy', metrics=['acc'])\n",
    "      optimizer = Adam(lr=1e-4)\n",
    "      return model\n",
    "\n",
    "    def fit(self, hp, model, *args, **kwargs):\n",
    "        return model.fit(\n",
    "            x_dt_rshp, y_dt_,\n",
    "            epochs=hp.Choice(\"epochs\", [40, 50, 60, 70])\n",
    "        )"
   ]
  },
  {
   "cell_type": "code",
   "execution_count": null,
   "metadata": {
    "colab": {
     "base_uri": "https://localhost:8080/"
    },
    "id": "R77gJU-GVZIG",
    "outputId": "5a37cc71-9316-4046-c9c6-382438340e4c"
   },
   "outputs": [
    {
     "name": "stdout",
     "output_type": "stream",
     "text": [
      "Model: \"model\"\n",
      "__________________________________________________________________________________________________\n",
      " Layer (type)                   Output Shape         Param #     Connected to                     \n",
      "==================================================================================================\n",
      " inLayer (InputLayer)           [(None, 3000, 1)]    0           []                               \n",
      "                                                                                                  \n",
      " fConv1 (Conv1D)                (None, 500, 64)      3264        ['inLayer[0][0]']                \n",
      "                                                                                                  \n",
      " cConv1 (Conv1D)                (None, 60, 32)       12832       ['inLayer[0][0]']                \n",
      "                                                                                                  \n",
      " fMaxP1 (MaxPooling1D)          (None, 62, 64)       0           ['fConv1[0][0]']                 \n",
      "                                                                                                  \n",
      " cMaxP1 (MaxPooling1D)          (None, 15, 32)       0           ['cConv1[0][0]']                 \n",
      "                                                                                                  \n",
      " fDrop1 (Dropout)               (None, 62, 64)       0           ['fMaxP1[0][0]']                 \n",
      "                                                                                                  \n",
      " cDrop1 (Dropout)               (None, 15, 32)       0           ['cMaxP1[0][0]']                 \n",
      "                                                                                                  \n",
      " fConv2 (Conv1D)                (None, 62, 128)      65664       ['fDrop1[0][0]']                 \n",
      "                                                                                                  \n",
      " cConv2 (Conv1D)                (None, 15, 128)      24704       ['cDrop1[0][0]']                 \n",
      "                                                                                                  \n",
      " fConv3 (Conv1D)                (None, 62, 128)      131200      ['fConv2[0][0]']                 \n",
      "                                                                                                  \n",
      " cConv3 (Conv1D)                (None, 15, 128)      98432       ['cConv2[0][0]']                 \n",
      "                                                                                                  \n",
      " fConv4 (Conv1D)                (None, 62, 128)      131200      ['fConv3[0][0]']                 \n",
      "                                                                                                  \n",
      " cConv4 (Conv1D)                (None, 15, 128)      98432       ['cConv3[0][0]']                 \n",
      "                                                                                                  \n",
      " fMaxP2 (MaxPooling1D)          (None, 15, 128)      0           ['fConv4[0][0]']                 \n",
      "                                                                                                  \n",
      " cMaxP2 (MaxPooling1D)          (None, 7, 128)       0           ['cConv4[0][0]']                 \n",
      "                                                                                                  \n",
      " fFlat1 (Flatten)               (None, 1920)         0           ['fMaxP2[0][0]']                 \n",
      "                                                                                                  \n",
      " cFlat1 (Flatten)               (None, 896)          0           ['cMaxP2[0][0]']                 \n",
      "                                                                                                  \n",
      " merge_1 (Concatenate)          (None, 2816)         0           ['fFlat1[0][0]',                 \n",
      "                                                                  'cFlat1[0][0]']                 \n",
      "                                                                                                  \n",
      " mDrop1 (Dropout)               (None, 2816)         0           ['merge_1[0][0]']                \n",
      "                                                                                                  \n",
      " reshape1 (Reshape)             (None, 1, 2816)      0           ['mDrop1[0][0]']                 \n",
      "                                                                                                  \n",
      " lstm (LSTM)                    (None, 1, 64)        737536      ['reshape1[0][0]']               \n",
      "                                                                                                  \n",
      " lstm_1 (LSTM)                  (None, 64)           33024       ['lstm[0][0]']                   \n",
      "                                                                                                  \n",
      " outLayer (Dense)               (None, 5)            325         ['lstm_1[0][0]']                 \n",
      "                                                                                                  \n",
      "==================================================================================================\n",
      "Total params: 1,336,613\n",
      "Trainable params: 1,336,613\n",
      "Non-trainable params: 0\n",
      "__________________________________________________________________________________________________\n"
     ]
    }
   ],
   "source": [
    "tuner = kt.RandomSearch(\n",
    "    MyHyperModel(),\n",
    "    objective=\"loss\",\n",
    "    max_trials=3,\n",
    "    executions_per_trial=2,\n",
    "    overwrite=True,\n",
    "    #directory=\"my_dir\",\n",
    "    #project_name=\"tune_hypermodel\",\n",
    ")"
   ]
  },
  {
   "cell_type": "code",
   "execution_count": null,
   "metadata": {
    "colab": {
     "base_uri": "https://localhost:8080/"
    },
    "id": "o0hvd5WQVbn_",
    "outputId": "86d80682-bad3-43bb-d897-589f468aba7e"
   },
   "outputs": [
    {
     "name": "stdout",
     "output_type": "stream",
     "text": [
      "Trial 3 Complete [00h 35m 37s]\n",
      "loss: 0.08628439903259277\n",
      "\n",
      "Best loss So Far: 0.05698661878705025\n",
      "Total elapsed time: 02h 13m 24s\n",
      "INFO:tensorflow:Oracle triggered exit\n"
     ]
    }
   ],
   "source": [
    "tuner.search(x_dt_rshp, y_dt_)"
   ]
  },
  {
   "cell_type": "code",
   "execution_count": null,
   "metadata": {
    "colab": {
     "base_uri": "https://localhost:8080/"
    },
    "id": "OVMQln1xW4k6",
    "outputId": "b452f3a9-5764-4eee-fa29-74f611b981ca"
   },
   "outputs": [
    {
     "name": "stdout",
     "output_type": "stream",
     "text": [
      "Results summary\n",
      "Results in ./untitled_project\n",
      "Showing 10 best trials\n",
      "<keras_tuner.engine.objective.Objective object at 0x7f278924bd10>\n",
      "Trial summary\n",
      "Hyperparameters:\n",
      "epochs: 70\n",
      "Score: 0.05698661878705025\n",
      "Trial summary\n",
      "Hyperparameters:\n",
      "epochs: 40\n",
      "Score: 0.08628439903259277\n",
      "Trial summary\n",
      "Hyperparameters:\n",
      "epochs: 40\n",
      "Score: 0.08674326911568642\n"
     ]
    }
   ],
   "source": [
    "tuner.results_summary()"
   ]
  },
  {
   "cell_type": "markdown",
   "metadata": {
    "id": "_IlfICQz_ov3"
   },
   "source": [
    "tuner.search() O/P:\n",
    "\n",
    "Trial 1:\n",
    "\n",
    "Trial 3 Complete [01h 05m 12s]\n",
    "\n",
    "loss: 0.06334519572556019\n",
    "\n",
    "Best loss So Far: 0.055410414934158325\n",
    "\n",
    "Total elapsed time: 03h 07m 15s\n",
    "\n",
    "INFO:tensorflow:Oracle triggered exit\n",
    "\n",
    "tuner.results_summary() O/P:\n",
    "\n",
    "Results summary\n",
    "\n",
    "Results in ./untitled_project\n",
    "\n",
    "Showing 10 best trials\n",
    "\n",
    "<keras_tuner.engine.objective.Objective object at 0x7fea554ea1d0>\n",
    "\n",
    "Trial summary\n",
    "\n",
    "Hyperparameters:\n",
    "\n",
    "epochs: 70\n",
    "\n",
    "Score: 0.055410414934158325\n",
    "\n",
    "Trial summary\n",
    "\n",
    "Hyperparameters:\n",
    "\n",
    "epochs: 60\n",
    "\n",
    "Score: 0.06334519572556019\n",
    "\n",
    "Trial summary\n",
    "\n",
    "Hyperparameters:\n",
    "\n",
    "epochs: 40\n",
    "\n",
    "Score: 0.08637035638093948"
   ]
  },
  {
   "cell_type": "markdown",
   "metadata": {
    "id": "eUd5lu0OY6iA"
   },
   "source": [
    "tuner.search() O/P:\n",
    "\n",
    "Trial 2:\n",
    "\n",
    "Trial 3 Complete [00h 41m 57s]\n",
    "\n",
    "loss: 0.08599428460001945\n",
    "\n",
    "Best loss So Far: 0.05632760375738144\n",
    "\n",
    "Total elapsed time: 02h 34m 48s\n",
    "\n",
    "INFO:tensorflow:Oracle triggered exit\n",
    "\n",
    "tuner.results_summary() O/P:\n",
    "\n",
    "Results summary\n",
    "\n",
    "Results in ./untitled_project\n",
    "\n",
    "Showing 10 best trials\n",
    "\n",
    "<keras_tuner.engine.objective.Objective object at 0x7f75ff41a4d0>\n",
    "\n",
    "Trial summary\n",
    "\n",
    "Hyperparameters:\n",
    "\n",
    "epochs: 70\n",
    "\n",
    "Score: 0.05632760375738144\n",
    "\n",
    "Trial summary\n",
    "\n",
    "Hyperparameters:\n",
    "\n",
    "epochs: 40\n",
    "\n",
    "Score: 0.08599428460001945\n",
    "\n",
    "Trial summary\n",
    "\n",
    "Hyperparameters:\n",
    "\n",
    "epochs: 40\n",
    "\n",
    "Score: 0.08637384697794914\n"
   ]
  },
  {
   "cell_type": "code",
   "execution_count": null,
   "metadata": {
    "id": "ILGtMldCY535"
   },
   "outputs": [],
   "source": []
  },
  {
   "cell_type": "code",
   "execution_count": null,
   "metadata": {
    "colab": {
     "base_uri": "https://localhost:8080/"
    },
    "id": "HrV59ncxSXxI",
    "outputId": "ba789020-07e1-428a-ed21-cbe0fdd06fc9"
   },
   "outputs": [
    {
     "name": "stdout",
     "output_type": "stream",
     "text": [
      "Model: \"model\"\n",
      "__________________________________________________________________________________________________\n",
      " Layer (type)                   Output Shape         Param #     Connected to                     \n",
      "==================================================================================================\n",
      " inLayer (InputLayer)           [(None, 3000, 1)]    0           []                               \n",
      "                                                                                                  \n",
      " fConv1 (Conv1D)                (None, 500, 64)      3264        ['inLayer[0][0]']                \n",
      "                                                                                                  \n",
      " cConv1 (Conv1D)                (None, 60, 32)       12832       ['inLayer[0][0]']                \n",
      "                                                                                                  \n",
      " fMaxP1 (MaxPooling1D)          (None, 62, 64)       0           ['fConv1[0][0]']                 \n",
      "                                                                                                  \n",
      " cMaxP1 (MaxPooling1D)          (None, 15, 32)       0           ['cConv1[0][0]']                 \n",
      "                                                                                                  \n",
      " fDrop1 (Dropout)               (None, 62, 64)       0           ['fMaxP1[0][0]']                 \n",
      "                                                                                                  \n",
      " cDrop1 (Dropout)               (None, 15, 32)       0           ['cMaxP1[0][0]']                 \n",
      "                                                                                                  \n",
      " fConv2 (Conv1D)                (None, 62, 128)      65664       ['fDrop1[0][0]']                 \n",
      "                                                                                                  \n",
      " cConv2 (Conv1D)                (None, 15, 128)      24704       ['cDrop1[0][0]']                 \n",
      "                                                                                                  \n",
      " fConv3 (Conv1D)                (None, 62, 128)      131200      ['fConv2[0][0]']                 \n",
      "                                                                                                  \n",
      " cConv3 (Conv1D)                (None, 15, 128)      98432       ['cConv2[0][0]']                 \n",
      "                                                                                                  \n",
      " fConv4 (Conv1D)                (None, 62, 128)      131200      ['fConv3[0][0]']                 \n",
      "                                                                                                  \n",
      " cConv4 (Conv1D)                (None, 15, 128)      98432       ['cConv3[0][0]']                 \n",
      "                                                                                                  \n",
      " fMaxP2 (MaxPooling1D)          (None, 15, 128)      0           ['fConv4[0][0]']                 \n",
      "                                                                                                  \n",
      " cMaxP2 (MaxPooling1D)          (None, 7, 128)       0           ['cConv4[0][0]']                 \n",
      "                                                                                                  \n",
      " fFlat1 (Flatten)               (None, 1920)         0           ['fMaxP2[0][0]']                 \n",
      "                                                                                                  \n",
      " cFlat1 (Flatten)               (None, 896)          0           ['cMaxP2[0][0]']                 \n",
      "                                                                                                  \n",
      " merge_1 (Concatenate)          (None, 2816)         0           ['fFlat1[0][0]',                 \n",
      "                                                                  'cFlat1[0][0]']                 \n",
      "                                                                                                  \n",
      " mDrop1 (Dropout)               (None, 2816)         0           ['merge_1[0][0]']                \n",
      "                                                                                                  \n",
      " reshape1 (Reshape)             (None, 1, 2816)      0           ['mDrop1[0][0]']                 \n",
      "                                                                                                  \n",
      " lstm (LSTM)                    (None, 1, 64)        737536      ['reshape1[0][0]']               \n",
      "                                                                                                  \n",
      " lstm_1 (LSTM)                  (None, 64)           33024       ['lstm[0][0]']                   \n",
      "                                                                                                  \n",
      " outLayer (Dense)               (None, 5)            325         ['lstm_1[0][0]']                 \n",
      "                                                                                                  \n",
      "==================================================================================================\n",
      "Total params: 1,336,613\n",
      "Trainable params: 1,336,613\n",
      "Non-trainable params: 0\n",
      "__________________________________________________________________________________________________\n"
     ]
    }
   ],
   "source": [
    "teacher_40_epochs=model_b(verbose=VBS)"
   ]
  },
  {
   "cell_type": "code",
   "execution_count": null,
   "metadata": {
    "colab": {
     "base_uri": "https://localhost:8080/"
    },
    "id": "6AVW-by2SX0z",
    "outputId": "22f3537f-cdb7-4eca-f377-bae0d23adb1b"
   },
   "outputs": [
    {
     "name": "stdout",
     "output_type": "stream",
     "text": [
      "Model: \"model\"\n",
      "__________________________________________________________________________________________________\n",
      " Layer (type)                   Output Shape         Param #     Connected to                     \n",
      "==================================================================================================\n",
      " inLayer (InputLayer)           [(None, 3000, 1)]    0           []                               \n",
      "                                                                                                  \n",
      " fConv1 (Conv1D)                (None, 500, 64)      3264        ['inLayer[0][0]']                \n",
      "                                                                                                  \n",
      " cConv1 (Conv1D)                (None, 60, 32)       12832       ['inLayer[0][0]']                \n",
      "                                                                                                  \n",
      " fMaxP1 (MaxPooling1D)          (None, 62, 64)       0           ['fConv1[0][0]']                 \n",
      "                                                                                                  \n",
      " cMaxP1 (MaxPooling1D)          (None, 15, 32)       0           ['cConv1[0][0]']                 \n",
      "                                                                                                  \n",
      " fDrop1 (Dropout)               (None, 62, 64)       0           ['fMaxP1[0][0]']                 \n",
      "                                                                                                  \n",
      " cDrop1 (Dropout)               (None, 15, 32)       0           ['cMaxP1[0][0]']                 \n",
      "                                                                                                  \n",
      " fConv2 (Conv1D)                (None, 62, 128)      65664       ['fDrop1[0][0]']                 \n",
      "                                                                                                  \n",
      " cConv2 (Conv1D)                (None, 15, 128)      24704       ['cDrop1[0][0]']                 \n",
      "                                                                                                  \n",
      " fConv3 (Conv1D)                (None, 62, 128)      131200      ['fConv2[0][0]']                 \n",
      "                                                                                                  \n",
      " cConv3 (Conv1D)                (None, 15, 128)      98432       ['cConv2[0][0]']                 \n",
      "                                                                                                  \n",
      " fConv4 (Conv1D)                (None, 62, 128)      131200      ['fConv3[0][0]']                 \n",
      "                                                                                                  \n",
      " cConv4 (Conv1D)                (None, 15, 128)      98432       ['cConv3[0][0]']                 \n",
      "                                                                                                  \n",
      " fMaxP2 (MaxPooling1D)          (None, 15, 128)      0           ['fConv4[0][0]']                 \n",
      "                                                                                                  \n",
      " cMaxP2 (MaxPooling1D)          (None, 7, 128)       0           ['cConv4[0][0]']                 \n",
      "                                                                                                  \n",
      " fFlat1 (Flatten)               (None, 1920)         0           ['fMaxP2[0][0]']                 \n",
      "                                                                                                  \n",
      " cFlat1 (Flatten)               (None, 896)          0           ['cMaxP2[0][0]']                 \n",
      "                                                                                                  \n",
      " merge_1 (Concatenate)          (None, 2816)         0           ['fFlat1[0][0]',                 \n",
      "                                                                  'cFlat1[0][0]']                 \n",
      "                                                                                                  \n",
      " mDrop1 (Dropout)               (None, 2816)         0           ['merge_1[0][0]']                \n",
      "                                                                                                  \n",
      " reshape1 (Reshape)             (None, 1, 2816)      0           ['mDrop1[0][0]']                 \n",
      "                                                                                                  \n",
      " lstm (LSTM)                    (None, 1, 64)        737536      ['reshape1[0][0]']               \n",
      "                                                                                                  \n",
      " lstm_1 (LSTM)                  (None, 64)           33024       ['lstm[0][0]']                   \n",
      "                                                                                                  \n",
      " outLayer (Dense)               (None, 5)            325         ['lstm_1[0][0]']                 \n",
      "                                                                                                  \n",
      "==================================================================================================\n",
      "Total params: 1,336,613\n",
      "Trainable params: 1,336,613\n",
      "Non-trainable params: 0\n",
      "__________________________________________________________________________________________________\n"
     ]
    }
   ],
   "source": [
    "teacher_40_epochs.summary()"
   ]
  },
  {
   "cell_type": "code",
   "execution_count": null,
   "metadata": {
    "id": "6li9hd77SnCO"
   },
   "outputs": [],
   "source": [
    "teacher_40_epochs.compile(optimizer=optimizer, loss='categorical_crossentropy', metrics=['accuracy'])"
   ]
  },
  {
   "cell_type": "markdown",
   "metadata": {
    "id": "-yqAOWh0S8FQ"
   },
   "source": [
    "Training the teacher model for 40 epochs wrt to the transfer set, majority voted labels, x_sub_train, tri-trained labels"
   ]
  },
  {
   "cell_type": "code",
   "execution_count": null,
   "metadata": {
    "id": "K1PfsofRTDi0"
   },
   "outputs": [],
   "source": [
    "checkpoint_teacher_model_40_epochs = \"/content/gdrive/My Drive/physionet/ensemble/tri_training/40_epochs_keras_way/teacher_40_epochs_keras_way_wts_trial_3.ckpt\""
   ]
  },
  {
   "cell_type": "code",
   "execution_count": null,
   "metadata": {
    "id": "UTSY5HF3TDl8"
   },
   "outputs": [],
   "source": [
    "checkpoint_teacher_model_40_epochs_dir = os.path.dirname(checkpoint_teacher_model_40_epochs)"
   ]
  },
  {
   "cell_type": "code",
   "execution_count": null,
   "metadata": {
    "colab": {
     "base_uri": "https://localhost:8080/"
    },
    "id": "rye3iT_STanB",
    "outputId": "7fee7d6d-c09a-490d-b77e-247347712593"
   },
   "outputs": [
    {
     "name": "stdout",
     "output_type": "stream",
     "text": [
      "WARNING:tensorflow:`period` argument is deprecated. Please use `save_freq` to specify the frequency in number of batches seen.\n"
     ]
    }
   ],
   "source": [
    "cp_callback_teacher_model_40_epochs = tensorflow.keras.callbacks.ModelCheckpoint(\n",
    "    filepath=checkpoint_teacher_model_40_epochs,\n",
    "    monitor='accuracy', \n",
    "    verbose=1, \n",
    "    save_weights_only=True,\n",
    "    mode = 'max',\n",
    "    period=40)"
   ]
  },
  {
   "cell_type": "code",
   "execution_count": null,
   "metadata": {
    "colab": {
     "base_uri": "https://localhost:8080/"
    },
    "id": "Yz5rBuQSTao4",
    "outputId": "976d94d9-4bb8-4eb3-e39a-dc49b5cdc867"
   },
   "outputs": [
    {
     "name": "stdout",
     "output_type": "stream",
     "text": [
      "Epoch 1/40\n",
      "3710/3710 [==============================] - 47s 9ms/step - loss: 0.6631 - accuracy: 0.7323\n",
      "Epoch 2/40\n",
      "3710/3710 [==============================] - 32s 9ms/step - loss: 0.3753 - accuracy: 0.8529\n",
      "Epoch 3/40\n",
      "3710/3710 [==============================] - 32s 9ms/step - loss: 0.3149 - accuracy: 0.8759\n",
      "Epoch 4/40\n",
      "3710/3710 [==============================] - 34s 9ms/step - loss: 0.2753 - accuracy: 0.8917\n",
      "Epoch 5/40\n",
      "3710/3710 [==============================] - 34s 9ms/step - loss: 0.2439 - accuracy: 0.9034\n",
      "Epoch 6/40\n",
      "3710/3710 [==============================] - 33s 9ms/step - loss: 0.2240 - accuracy: 0.9115\n",
      "Epoch 7/40\n",
      "3710/3710 [==============================] - 32s 9ms/step - loss: 0.2078 - accuracy: 0.9182\n",
      "Epoch 8/40\n",
      "3710/3710 [==============================] - 32s 9ms/step - loss: 0.1935 - accuracy: 0.9239\n",
      "Epoch 9/40\n",
      "3710/3710 [==============================] - 32s 9ms/step - loss: 0.1842 - accuracy: 0.9266\n",
      "Epoch 10/40\n",
      "3710/3710 [==============================] - 32s 9ms/step - loss: 0.1755 - accuracy: 0.9301\n",
      "Epoch 11/40\n",
      "3710/3710 [==============================] - 32s 9ms/step - loss: 0.1690 - accuracy: 0.9332\n",
      "Epoch 12/40\n",
      "3710/3710 [==============================] - 32s 9ms/step - loss: 0.1607 - accuracy: 0.9370\n",
      "Epoch 13/40\n",
      "3710/3710 [==============================] - 32s 9ms/step - loss: 0.1560 - accuracy: 0.9384\n",
      "Epoch 14/40\n",
      "3710/3710 [==============================] - 32s 9ms/step - loss: 0.1526 - accuracy: 0.9397\n",
      "Epoch 15/40\n",
      "3710/3710 [==============================] - 32s 9ms/step - loss: 0.1448 - accuracy: 0.9420\n",
      "Epoch 16/40\n",
      "3710/3710 [==============================] - 32s 8ms/step - loss: 0.1417 - accuracy: 0.9440\n",
      "Epoch 17/40\n",
      "3710/3710 [==============================] - 32s 9ms/step - loss: 0.1388 - accuracy: 0.9448\n",
      "Epoch 18/40\n",
      "3710/3710 [==============================] - 32s 9ms/step - loss: 0.1349 - accuracy: 0.9470\n",
      "Epoch 19/40\n",
      "3710/3710 [==============================] - 32s 9ms/step - loss: 0.1307 - accuracy: 0.9479\n",
      "Epoch 20/40\n",
      "3710/3710 [==============================] - 33s 9ms/step - loss: 0.1276 - accuracy: 0.9494\n",
      "Epoch 21/40\n",
      "3710/3710 [==============================] - 34s 9ms/step - loss: 0.1253 - accuracy: 0.9512\n",
      "Epoch 22/40\n",
      "3710/3710 [==============================] - 33s 9ms/step - loss: 0.1220 - accuracy: 0.9524\n",
      "Epoch 23/40\n",
      "3710/3710 [==============================] - 32s 9ms/step - loss: 0.1206 - accuracy: 0.9521\n",
      "Epoch 24/40\n",
      "3710/3710 [==============================] - 32s 9ms/step - loss: 0.1181 - accuracy: 0.9527\n",
      "Epoch 25/40\n",
      "3710/3710 [==============================] - 32s 9ms/step - loss: 0.1144 - accuracy: 0.9549\n",
      "Epoch 26/40\n",
      "3710/3710 [==============================] - 32s 9ms/step - loss: 0.1125 - accuracy: 0.9556\n",
      "Epoch 27/40\n",
      "3710/3710 [==============================] - 32s 9ms/step - loss: 0.1078 - accuracy: 0.9573\n",
      "Epoch 28/40\n",
      "3710/3710 [==============================] - 32s 9ms/step - loss: 0.1072 - accuracy: 0.9582\n",
      "Epoch 29/40\n",
      "3710/3710 [==============================] - 32s 9ms/step - loss: 0.1055 - accuracy: 0.9591\n",
      "Epoch 30/40\n",
      "3710/3710 [==============================] - 32s 9ms/step - loss: 0.1056 - accuracy: 0.9586\n",
      "Epoch 31/40\n",
      "3710/3710 [==============================] - 32s 9ms/step - loss: 0.1027 - accuracy: 0.9598\n",
      "Epoch 32/40\n",
      "3710/3710 [==============================] - 32s 9ms/step - loss: 0.0994 - accuracy: 0.9612\n",
      "Epoch 33/40\n",
      "3710/3710 [==============================] - 32s 9ms/step - loss: 0.0977 - accuracy: 0.9625\n",
      "Epoch 34/40\n",
      "3710/3710 [==============================] - 32s 9ms/step - loss: 0.0958 - accuracy: 0.9629\n",
      "Epoch 35/40\n",
      "3710/3710 [==============================] - 32s 9ms/step - loss: 0.0955 - accuracy: 0.9624\n",
      "Epoch 36/40\n",
      "3710/3710 [==============================] - 32s 9ms/step - loss: 0.0923 - accuracy: 0.9638\n",
      "Epoch 37/40\n",
      "3710/3710 [==============================] - 34s 9ms/step - loss: 0.0916 - accuracy: 0.9643\n",
      "Epoch 38/40\n",
      "3710/3710 [==============================] - 33s 9ms/step - loss: 0.0904 - accuracy: 0.9654\n",
      "Epoch 39/40\n",
      "3710/3710 [==============================] - 32s 9ms/step - loss: 0.0890 - accuracy: 0.9654\n",
      "Epoch 40/40\n",
      "3708/3710 [============================>.] - ETA: 0s - loss: 0.0866 - accuracy: 0.9665\n",
      "Epoch 40: saving model to /content/gdrive/My Drive/physionet/ensemble/tri_training/40_epochs_keras_way/teacher_40_epochs_keras_way_wts_trial_3.ckpt\n",
      "3710/3710 [==============================] - 32s 9ms/step - loss: 0.0866 - accuracy: 0.9666\n"
     ]
    },
    {
     "data": {
      "text/plain": [
       "<keras.callbacks.History at 0x7ff09ec1fd10>"
      ]
     },
     "execution_count": 33,
     "metadata": {},
     "output_type": "execute_result"
    }
   ],
   "source": [
    "teacher_40_epochs.fit(x_dt_rshp, y_dt_, epochs=40, callbacks=[cp_callback_teacher_model_40_epochs])"
   ]
  },
  {
   "cell_type": "code",
   "execution_count": null,
   "metadata": {
    "id": "aos4rfC2TasO"
   },
   "outputs": [],
   "source": [
    "latest_teacher_40_epochs=tensorflow.train.latest_checkpoint(checkpoint_teacher_model_40_epochs_dir)"
   ]
  },
  {
   "cell_type": "code",
   "execution_count": null,
   "metadata": {
    "colab": {
     "base_uri": "https://localhost:8080/"
    },
    "id": "k1UwwIUuT7t8",
    "outputId": "b3c9ee7e-e0f7-4d95-af07-f9aaa6770f14"
   },
   "outputs": [
    {
     "name": "stdout",
     "output_type": "stream",
     "text": [
      "/content/gdrive/My Drive/physionet/ensemble/tri_training/40_epochs_keras_way/teacher_40_epochs_keras_way_wts_trial_3.ckpt\n",
      "/content/gdrive/My Drive/physionet/ensemble/tri_training/40_epochs_keras_way/teacher_40_epochs_keras_way_wts_trial_3.ckpt\n"
     ]
    }
   ],
   "source": [
    "print(latest_teacher_40_epochs)\n",
    "print(checkpoint_teacher_model_40_epochs)"
   ]
  },
  {
   "cell_type": "code",
   "execution_count": null,
   "metadata": {
    "id": "0jeA64m0Ubl4"
   },
   "outputs": [],
   "source": [
    "sub_test_data=pd.read_csv('/content/gdrive/My Drive/physionet/ensemble/50_subs/x_test_sub.csv',header=None)"
   ]
  },
  {
   "cell_type": "code",
   "execution_count": null,
   "metadata": {
    "colab": {
     "base_uri": "https://localhost:8080/"
    },
    "id": "u7-l80euYUcJ",
    "outputId": "6a3f997a-8221-4e36-d0e6-0cafc598bcde"
   },
   "outputs": [
    {
     "data": {
      "text/plain": [
       "(496, 3001)"
      ]
     },
     "execution_count": 28,
     "metadata": {},
     "output_type": "execute_result"
    }
   ],
   "source": [
    "sub_test_data.shape"
   ]
  },
  {
   "cell_type": "code",
   "execution_count": null,
   "metadata": {
    "id": "hyAXUe9IUr96"
   },
   "outputs": [],
   "source": [
    "x_test_dt=sub_test_data.drop([3000],axis=1)\n",
    "y_test_dt=sub_test_data[3000]"
   ]
  },
  {
   "cell_type": "code",
   "execution_count": null,
   "metadata": {
    "id": "YBXjJZIJUsFR"
   },
   "outputs": [],
   "source": [
    "y_test_dt_=np_utils.to_categorical(y_test_dt)"
   ]
  },
  {
   "cell_type": "code",
   "execution_count": null,
   "metadata": {
    "colab": {
     "base_uri": "https://localhost:8080/"
    },
    "id": "U1R8-SHSU-OO",
    "outputId": "ebd5ffd0-99cc-43d4-8a11-66eea7c17683"
   },
   "outputs": [
    {
     "data": {
      "text/plain": [
       "array([[0., 0., 0., 0., 1.],\n",
       "       [0., 0., 1., 0., 0.],\n",
       "       [0., 0., 1., 0., 0.],\n",
       "       ...,\n",
       "       [0., 0., 0., 1., 0.],\n",
       "       [1., 0., 0., 0., 0.],\n",
       "       [0., 0., 1., 0., 0.]], dtype=float32)"
      ]
     },
     "execution_count": 31,
     "metadata": {},
     "output_type": "execute_result"
    }
   ],
   "source": [
    "y_test_dt_"
   ]
  },
  {
   "cell_type": "code",
   "execution_count": null,
   "metadata": {
    "colab": {
     "base_uri": "https://localhost:8080/",
     "height": 488
    },
    "id": "q-pIYHGEFDi-",
    "outputId": "825edaf2-b0ea-47fb-efd6-5359a9fc42c2"
   },
   "outputs": [
    {
     "data": {
      "text/html": [
       "\n",
       "  <div id=\"df-ba492b67-272e-40d5-9e16-b9ef84670d03\">\n",
       "    <div class=\"colab-df-container\">\n",
       "      <div>\n",
       "<style scoped>\n",
       "    .dataframe tbody tr th:only-of-type {\n",
       "        vertical-align: middle;\n",
       "    }\n",
       "\n",
       "    .dataframe tbody tr th {\n",
       "        vertical-align: top;\n",
       "    }\n",
       "\n",
       "    .dataframe thead th {\n",
       "        text-align: right;\n",
       "    }\n",
       "</style>\n",
       "<table border=\"1\" class=\"dataframe\">\n",
       "  <thead>\n",
       "    <tr style=\"text-align: right;\">\n",
       "      <th></th>\n",
       "      <th>0</th>\n",
       "      <th>1</th>\n",
       "      <th>2</th>\n",
       "      <th>3</th>\n",
       "      <th>4</th>\n",
       "      <th>5</th>\n",
       "      <th>6</th>\n",
       "      <th>7</th>\n",
       "      <th>8</th>\n",
       "      <th>9</th>\n",
       "      <th>...</th>\n",
       "      <th>2990</th>\n",
       "      <th>2991</th>\n",
       "      <th>2992</th>\n",
       "      <th>2993</th>\n",
       "      <th>2994</th>\n",
       "      <th>2995</th>\n",
       "      <th>2996</th>\n",
       "      <th>2997</th>\n",
       "      <th>2998</th>\n",
       "      <th>2999</th>\n",
       "    </tr>\n",
       "  </thead>\n",
       "  <tbody>\n",
       "    <tr>\n",
       "      <th>0</th>\n",
       "      <td>0.026201</td>\n",
       "      <td>0.021701</td>\n",
       "      <td>0.037902</td>\n",
       "      <td>0.021701</td>\n",
       "      <td>0.022601</td>\n",
       "      <td>-0.004401</td>\n",
       "      <td>0.019901</td>\n",
       "      <td>0.011800</td>\n",
       "      <td>-0.037704</td>\n",
       "      <td>0.031151</td>\n",
       "      <td>...</td>\n",
       "      <td>0.049153</td>\n",
       "      <td>0.068504</td>\n",
       "      <td>0.052753</td>\n",
       "      <td>0.062654</td>\n",
       "      <td>0.027101</td>\n",
       "      <td>-0.001251</td>\n",
       "      <td>-0.031404</td>\n",
       "      <td>0.004599</td>\n",
       "      <td>-0.030053</td>\n",
       "      <td>-0.027803</td>\n",
       "    </tr>\n",
       "    <tr>\n",
       "      <th>1</th>\n",
       "      <td>-0.102959</td>\n",
       "      <td>-0.104309</td>\n",
       "      <td>-0.099359</td>\n",
       "      <td>-0.129061</td>\n",
       "      <td>-0.121861</td>\n",
       "      <td>-0.101159</td>\n",
       "      <td>-0.045355</td>\n",
       "      <td>-0.039954</td>\n",
       "      <td>-0.031404</td>\n",
       "      <td>-0.017902</td>\n",
       "      <td>...</td>\n",
       "      <td>0.008200</td>\n",
       "      <td>0.038802</td>\n",
       "      <td>0.087406</td>\n",
       "      <td>0.138260</td>\n",
       "      <td>0.129709</td>\n",
       "      <td>0.124309</td>\n",
       "      <td>0.086506</td>\n",
       "      <td>0.072105</td>\n",
       "      <td>0.023501</td>\n",
       "      <td>-0.022853</td>\n",
       "    </tr>\n",
       "    <tr>\n",
       "      <th>2</th>\n",
       "      <td>-0.122673</td>\n",
       "      <td>-0.129459</td>\n",
       "      <td>-0.115887</td>\n",
       "      <td>-0.080600</td>\n",
       "      <td>-0.076529</td>\n",
       "      <td>-0.056171</td>\n",
       "      <td>-0.057076</td>\n",
       "      <td>-0.059790</td>\n",
       "      <td>-0.055719</td>\n",
       "      <td>-0.036718</td>\n",
       "      <td>...</td>\n",
       "      <td>0.084071</td>\n",
       "      <td>0.084071</td>\n",
       "      <td>0.064618</td>\n",
       "      <td>0.064166</td>\n",
       "      <td>0.050594</td>\n",
       "      <td>0.028427</td>\n",
       "      <td>0.027974</td>\n",
       "      <td>0.044713</td>\n",
       "      <td>0.058284</td>\n",
       "      <td>0.060999</td>\n",
       "    </tr>\n",
       "    <tr>\n",
       "      <th>3</th>\n",
       "      <td>-0.088108</td>\n",
       "      <td>-0.084508</td>\n",
       "      <td>-0.039504</td>\n",
       "      <td>-0.067857</td>\n",
       "      <td>-0.053005</td>\n",
       "      <td>-0.080908</td>\n",
       "      <td>-0.124561</td>\n",
       "      <td>-0.005752</td>\n",
       "      <td>-0.089008</td>\n",
       "      <td>-0.053455</td>\n",
       "      <td>...</td>\n",
       "      <td>-0.087208</td>\n",
       "      <td>-0.067407</td>\n",
       "      <td>-0.017002</td>\n",
       "      <td>-0.103409</td>\n",
       "      <td>-0.083608</td>\n",
       "      <td>-0.025553</td>\n",
       "      <td>-0.054805</td>\n",
       "      <td>0.020801</td>\n",
       "      <td>-0.003501</td>\n",
       "      <td>-0.029153</td>\n",
       "    </tr>\n",
       "    <tr>\n",
       "      <th>4</th>\n",
       "      <td>0.136010</td>\n",
       "      <td>0.146811</td>\n",
       "      <td>0.200815</td>\n",
       "      <td>0.159862</td>\n",
       "      <td>0.163912</td>\n",
       "      <td>0.123859</td>\n",
       "      <td>0.130159</td>\n",
       "      <td>0.105407</td>\n",
       "      <td>0.109008</td>\n",
       "      <td>0.039702</td>\n",
       "      <td>...</td>\n",
       "      <td>0.070305</td>\n",
       "      <td>0.091456</td>\n",
       "      <td>0.050503</td>\n",
       "      <td>0.057704</td>\n",
       "      <td>0.041502</td>\n",
       "      <td>0.019901</td>\n",
       "      <td>0.015850</td>\n",
       "      <td>0.043302</td>\n",
       "      <td>0.035652</td>\n",
       "      <td>0.047353</td>\n",
       "    </tr>\n",
       "    <tr>\n",
       "      <th>...</th>\n",
       "      <td>...</td>\n",
       "      <td>...</td>\n",
       "      <td>...</td>\n",
       "      <td>...</td>\n",
       "      <td>...</td>\n",
       "      <td>...</td>\n",
       "      <td>...</td>\n",
       "      <td>...</td>\n",
       "      <td>...</td>\n",
       "      <td>...</td>\n",
       "      <td>...</td>\n",
       "      <td>...</td>\n",
       "      <td>...</td>\n",
       "      <td>...</td>\n",
       "      <td>...</td>\n",
       "      <td>...</td>\n",
       "      <td>...</td>\n",
       "      <td>...</td>\n",
       "      <td>...</td>\n",
       "      <td>...</td>\n",
       "      <td>...</td>\n",
       "    </tr>\n",
       "    <tr>\n",
       "      <th>491</th>\n",
       "      <td>-0.056606</td>\n",
       "      <td>-0.027803</td>\n",
       "      <td>-0.049405</td>\n",
       "      <td>-0.039504</td>\n",
       "      <td>-0.010252</td>\n",
       "      <td>0.011350</td>\n",
       "      <td>0.004599</td>\n",
       "      <td>0.000099</td>\n",
       "      <td>-0.017452</td>\n",
       "      <td>-0.039504</td>\n",
       "      <td>...</td>\n",
       "      <td>-0.059756</td>\n",
       "      <td>0.022601</td>\n",
       "      <td>-0.032304</td>\n",
       "      <td>-0.155614</td>\n",
       "      <td>-0.108810</td>\n",
       "      <td>-0.101159</td>\n",
       "      <td>-0.018353</td>\n",
       "      <td>-0.080458</td>\n",
       "      <td>-0.070107</td>\n",
       "      <td>-0.024203</td>\n",
       "    </tr>\n",
       "    <tr>\n",
       "      <th>492</th>\n",
       "      <td>-0.022241</td>\n",
       "      <td>-0.010932</td>\n",
       "      <td>-0.014551</td>\n",
       "      <td>-0.015003</td>\n",
       "      <td>-0.006860</td>\n",
       "      <td>-0.017718</td>\n",
       "      <td>-0.023146</td>\n",
       "      <td>-0.025408</td>\n",
       "      <td>-0.015908</td>\n",
       "      <td>-0.029480</td>\n",
       "      <td>...</td>\n",
       "      <td>-0.045766</td>\n",
       "      <td>-0.015456</td>\n",
       "      <td>0.015307</td>\n",
       "      <td>0.024807</td>\n",
       "      <td>0.003545</td>\n",
       "      <td>-0.018170</td>\n",
       "      <td>-0.016813</td>\n",
       "      <td>0.002188</td>\n",
       "      <td>-0.003693</td>\n",
       "      <td>-0.000979</td>\n",
       "    </tr>\n",
       "    <tr>\n",
       "      <th>493</th>\n",
       "      <td>0.021188</td>\n",
       "      <td>0.054665</td>\n",
       "      <td>0.073213</td>\n",
       "      <td>0.074118</td>\n",
       "      <td>0.048332</td>\n",
       "      <td>0.034760</td>\n",
       "      <td>0.027974</td>\n",
       "      <td>0.044713</td>\n",
       "      <td>0.057832</td>\n",
       "      <td>0.051951</td>\n",
       "      <td>...</td>\n",
       "      <td>0.320672</td>\n",
       "      <td>0.275885</td>\n",
       "      <td>0.258242</td>\n",
       "      <td>0.268647</td>\n",
       "      <td>0.303029</td>\n",
       "      <td>0.313886</td>\n",
       "      <td>0.315243</td>\n",
       "      <td>0.309815</td>\n",
       "      <td>0.301219</td>\n",
       "      <td>0.291267</td>\n",
       "    </tr>\n",
       "    <tr>\n",
       "      <th>494</th>\n",
       "      <td>0.084976</td>\n",
       "      <td>0.079547</td>\n",
       "      <td>0.075928</td>\n",
       "      <td>0.056022</td>\n",
       "      <td>0.067785</td>\n",
       "      <td>0.084071</td>\n",
       "      <td>0.134286</td>\n",
       "      <td>0.123881</td>\n",
       "      <td>0.118453</td>\n",
       "      <td>0.083618</td>\n",
       "      <td>...</td>\n",
       "      <td>0.095381</td>\n",
       "      <td>0.103976</td>\n",
       "      <td>0.122977</td>\n",
       "      <td>0.118453</td>\n",
       "      <td>0.092214</td>\n",
       "      <td>0.057832</td>\n",
       "      <td>0.060546</td>\n",
       "      <td>0.058737</td>\n",
       "      <td>0.056475</td>\n",
       "      <td>0.035665</td>\n",
       "    </tr>\n",
       "    <tr>\n",
       "      <th>495</th>\n",
       "      <td>-0.044905</td>\n",
       "      <td>-0.029153</td>\n",
       "      <td>0.003249</td>\n",
       "      <td>-0.028703</td>\n",
       "      <td>-0.039954</td>\n",
       "      <td>-0.055256</td>\n",
       "      <td>-0.049405</td>\n",
       "      <td>-0.072357</td>\n",
       "      <td>-0.078657</td>\n",
       "      <td>-0.080458</td>\n",
       "      <td>...</td>\n",
       "      <td>0.091906</td>\n",
       "      <td>0.074805</td>\n",
       "      <td>0.056804</td>\n",
       "      <td>0.062654</td>\n",
       "      <td>0.040152</td>\n",
       "      <td>0.033852</td>\n",
       "      <td>0.058604</td>\n",
       "      <td>0.072555</td>\n",
       "      <td>0.067154</td>\n",
       "      <td>0.082906</td>\n",
       "    </tr>\n",
       "  </tbody>\n",
       "</table>\n",
       "<p>496 rows × 3000 columns</p>\n",
       "</div>\n",
       "      <button class=\"colab-df-convert\" onclick=\"convertToInteractive('df-ba492b67-272e-40d5-9e16-b9ef84670d03')\"\n",
       "              title=\"Convert this dataframe to an interactive table.\"\n",
       "              style=\"display:none;\">\n",
       "        \n",
       "  <svg xmlns=\"http://www.w3.org/2000/svg\" height=\"24px\"viewBox=\"0 0 24 24\"\n",
       "       width=\"24px\">\n",
       "    <path d=\"M0 0h24v24H0V0z\" fill=\"none\"/>\n",
       "    <path d=\"M18.56 5.44l.94 2.06.94-2.06 2.06-.94-2.06-.94-.94-2.06-.94 2.06-2.06.94zm-11 1L8.5 8.5l.94-2.06 2.06-.94-2.06-.94L8.5 2.5l-.94 2.06-2.06.94zm10 10l.94 2.06.94-2.06 2.06-.94-2.06-.94-.94-2.06-.94 2.06-2.06.94z\"/><path d=\"M17.41 7.96l-1.37-1.37c-.4-.4-.92-.59-1.43-.59-.52 0-1.04.2-1.43.59L10.3 9.45l-7.72 7.72c-.78.78-.78 2.05 0 2.83L4 21.41c.39.39.9.59 1.41.59.51 0 1.02-.2 1.41-.59l7.78-7.78 2.81-2.81c.8-.78.8-2.07 0-2.86zM5.41 20L4 18.59l7.72-7.72 1.47 1.35L5.41 20z\"/>\n",
       "  </svg>\n",
       "      </button>\n",
       "      \n",
       "  <style>\n",
       "    .colab-df-container {\n",
       "      display:flex;\n",
       "      flex-wrap:wrap;\n",
       "      gap: 12px;\n",
       "    }\n",
       "\n",
       "    .colab-df-convert {\n",
       "      background-color: #E8F0FE;\n",
       "      border: none;\n",
       "      border-radius: 50%;\n",
       "      cursor: pointer;\n",
       "      display: none;\n",
       "      fill: #1967D2;\n",
       "      height: 32px;\n",
       "      padding: 0 0 0 0;\n",
       "      width: 32px;\n",
       "    }\n",
       "\n",
       "    .colab-df-convert:hover {\n",
       "      background-color: #E2EBFA;\n",
       "      box-shadow: 0px 1px 2px rgba(60, 64, 67, 0.3), 0px 1px 3px 1px rgba(60, 64, 67, 0.15);\n",
       "      fill: #174EA6;\n",
       "    }\n",
       "\n",
       "    [theme=dark] .colab-df-convert {\n",
       "      background-color: #3B4455;\n",
       "      fill: #D2E3FC;\n",
       "    }\n",
       "\n",
       "    [theme=dark] .colab-df-convert:hover {\n",
       "      background-color: #434B5C;\n",
       "      box-shadow: 0px 1px 3px 1px rgba(0, 0, 0, 0.15);\n",
       "      filter: drop-shadow(0px 1px 2px rgba(0, 0, 0, 0.3));\n",
       "      fill: #FFFFFF;\n",
       "    }\n",
       "  </style>\n",
       "\n",
       "      <script>\n",
       "        const buttonEl =\n",
       "          document.querySelector('#df-ba492b67-272e-40d5-9e16-b9ef84670d03 button.colab-df-convert');\n",
       "        buttonEl.style.display =\n",
       "          google.colab.kernel.accessAllowed ? 'block' : 'none';\n",
       "\n",
       "        async function convertToInteractive(key) {\n",
       "          const element = document.querySelector('#df-ba492b67-272e-40d5-9e16-b9ef84670d03');\n",
       "          const dataTable =\n",
       "            await google.colab.kernel.invokeFunction('convertToInteractive',\n",
       "                                                     [key], {});\n",
       "          if (!dataTable) return;\n",
       "\n",
       "          const docLinkHtml = 'Like what you see? Visit the ' +\n",
       "            '<a target=\"_blank\" href=https://colab.research.google.com/notebooks/data_table.ipynb>data table notebook</a>'\n",
       "            + ' to learn more about interactive tables.';\n",
       "          element.innerHTML = '';\n",
       "          dataTable['output_type'] = 'display_data';\n",
       "          await google.colab.output.renderOutput(dataTable, element);\n",
       "          const docLink = document.createElement('div');\n",
       "          docLink.innerHTML = docLinkHtml;\n",
       "          element.appendChild(docLink);\n",
       "        }\n",
       "      </script>\n",
       "    </div>\n",
       "  </div>\n",
       "  "
      ],
      "text/plain": [
       "         0         1         2         3         4         5         6     \\\n",
       "0    0.026201  0.021701  0.037902  0.021701  0.022601 -0.004401  0.019901   \n",
       "1   -0.102959 -0.104309 -0.099359 -0.129061 -0.121861 -0.101159 -0.045355   \n",
       "2   -0.122673 -0.129459 -0.115887 -0.080600 -0.076529 -0.056171 -0.057076   \n",
       "3   -0.088108 -0.084508 -0.039504 -0.067857 -0.053005 -0.080908 -0.124561   \n",
       "4    0.136010  0.146811  0.200815  0.159862  0.163912  0.123859  0.130159   \n",
       "..        ...       ...       ...       ...       ...       ...       ...   \n",
       "491 -0.056606 -0.027803 -0.049405 -0.039504 -0.010252  0.011350  0.004599   \n",
       "492 -0.022241 -0.010932 -0.014551 -0.015003 -0.006860 -0.017718 -0.023146   \n",
       "493  0.021188  0.054665  0.073213  0.074118  0.048332  0.034760  0.027974   \n",
       "494  0.084976  0.079547  0.075928  0.056022  0.067785  0.084071  0.134286   \n",
       "495 -0.044905 -0.029153  0.003249 -0.028703 -0.039954 -0.055256 -0.049405   \n",
       "\n",
       "         7         8         9     ...      2990      2991      2992  \\\n",
       "0    0.011800 -0.037704  0.031151  ...  0.049153  0.068504  0.052753   \n",
       "1   -0.039954 -0.031404 -0.017902  ...  0.008200  0.038802  0.087406   \n",
       "2   -0.059790 -0.055719 -0.036718  ...  0.084071  0.084071  0.064618   \n",
       "3   -0.005752 -0.089008 -0.053455  ... -0.087208 -0.067407 -0.017002   \n",
       "4    0.105407  0.109008  0.039702  ...  0.070305  0.091456  0.050503   \n",
       "..        ...       ...       ...  ...       ...       ...       ...   \n",
       "491  0.000099 -0.017452 -0.039504  ... -0.059756  0.022601 -0.032304   \n",
       "492 -0.025408 -0.015908 -0.029480  ... -0.045766 -0.015456  0.015307   \n",
       "493  0.044713  0.057832  0.051951  ...  0.320672  0.275885  0.258242   \n",
       "494  0.123881  0.118453  0.083618  ...  0.095381  0.103976  0.122977   \n",
       "495 -0.072357 -0.078657 -0.080458  ...  0.091906  0.074805  0.056804   \n",
       "\n",
       "         2993      2994      2995      2996      2997      2998      2999  \n",
       "0    0.062654  0.027101 -0.001251 -0.031404  0.004599 -0.030053 -0.027803  \n",
       "1    0.138260  0.129709  0.124309  0.086506  0.072105  0.023501 -0.022853  \n",
       "2    0.064166  0.050594  0.028427  0.027974  0.044713  0.058284  0.060999  \n",
       "3   -0.103409 -0.083608 -0.025553 -0.054805  0.020801 -0.003501 -0.029153  \n",
       "4    0.057704  0.041502  0.019901  0.015850  0.043302  0.035652  0.047353  \n",
       "..        ...       ...       ...       ...       ...       ...       ...  \n",
       "491 -0.155614 -0.108810 -0.101159 -0.018353 -0.080458 -0.070107 -0.024203  \n",
       "492  0.024807  0.003545 -0.018170 -0.016813  0.002188 -0.003693 -0.000979  \n",
       "493  0.268647  0.303029  0.313886  0.315243  0.309815  0.301219  0.291267  \n",
       "494  0.118453  0.092214  0.057832  0.060546  0.058737  0.056475  0.035665  \n",
       "495  0.062654  0.040152  0.033852  0.058604  0.072555  0.067154  0.082906  \n",
       "\n",
       "[496 rows x 3000 columns]"
      ]
     },
     "execution_count": 32,
     "metadata": {},
     "output_type": "execute_result"
    }
   ],
   "source": [
    "x_test_dt"
   ]
  },
  {
   "cell_type": "code",
   "execution_count": null,
   "metadata": {
    "colab": {
     "base_uri": "https://localhost:8080/"
    },
    "id": "Mq47u-c7U_81",
    "outputId": "8e8ce50f-8d37-40c2-a52e-6c723b86204c"
   },
   "outputs": [
    {
     "data": {
      "text/plain": [
       "(496, 3000)"
      ]
     },
     "execution_count": 33,
     "metadata": {},
     "output_type": "execute_result"
    }
   ],
   "source": [
    "x_test_dt.shape"
   ]
  },
  {
   "cell_type": "code",
   "execution_count": null,
   "metadata": {
    "id": "ntbZ9IIqVGLv"
   },
   "outputs": [],
   "source": [
    "x_test_dt_rshp=np.array(x_test_dt).reshape(496,3000,1)"
   ]
  },
  {
   "cell_type": "code",
   "execution_count": null,
   "metadata": {
    "colab": {
     "base_uri": "https://localhost:8080/"
    },
    "id": "7m8Qxd6dVM51",
    "outputId": "bd4c35c8-4af5-40f7-b5a9-ed4f74aff3f0"
   },
   "outputs": [
    {
     "data": {
      "text/plain": [
       "array([[[ 0.02620107],\n",
       "        [ 0.02170071],\n",
       "        [ 0.03790202],\n",
       "        ...,\n",
       "        [ 0.00459933],\n",
       "        [-0.03005348],\n",
       "        [-0.0278033 ]],\n",
       "\n",
       "       [[-0.10295938],\n",
       "        [-0.10430949],\n",
       "        [-0.09935909],\n",
       "        ...,\n",
       "        [ 0.07210479],\n",
       "        [ 0.02350085],\n",
       "        [-0.0228529 ]],\n",
       "\n",
       "       [[-0.12267263],\n",
       "        [-0.12945852],\n",
       "        [-0.11588674],\n",
       "        ...,\n",
       "        [ 0.04471265],\n",
       "        [ 0.05828443],\n",
       "        [ 0.06099879]],\n",
       "\n",
       "       ...,\n",
       "\n",
       "       [[ 0.02118823],\n",
       "        [ 0.05466529],\n",
       "        [ 0.07321339],\n",
       "        ...,\n",
       "        [ 0.30981474],\n",
       "        [ 0.30121928],\n",
       "        [ 0.29126664]],\n",
       "\n",
       "       [[ 0.0849756 ],\n",
       "        [ 0.07954689],\n",
       "        [ 0.07592774],\n",
       "        ...,\n",
       "        [ 0.05873682],\n",
       "        [ 0.05647486],\n",
       "        [ 0.0356648 ]],\n",
       "\n",
       "       [[-0.04490468],\n",
       "        [-0.02915341],\n",
       "        [ 0.00324922],\n",
       "        ...,\n",
       "        [ 0.07255483],\n",
       "        [ 0.06715439],\n",
       "        [ 0.08290567]]])"
      ]
     },
     "execution_count": 35,
     "metadata": {},
     "output_type": "execute_result"
    }
   ],
   "source": [
    "x_test_dt_rshp"
   ]
  },
  {
   "cell_type": "code",
   "execution_count": null,
   "metadata": {
    "id": "cT3JPqj5T7xC"
   },
   "outputs": [],
   "source": [
    "accuracy_teacher_model_40_epochs = teacher_40_epochs.evaluate(x_test_dt_rshp, y_test_dt_)"
   ]
  },
  {
   "cell_type": "markdown",
   "metadata": {
    "id": "UT4ksl55bqqV"
   },
   "source": [
    "Training the teacher model for 50 epochs wrt to the transfer set, majority voted labels, x_sub_train, tri-trained labels"
   ]
  },
  {
   "cell_type": "code",
   "execution_count": null,
   "metadata": {
    "id": "oS3fPBLIFKRG"
   },
   "outputs": [],
   "source": [
    "checkpoint_teacher_model_50_epochs = \"/content/gdrive/My Drive/physionet/ensemble/tri_training/50_epochs_keras_way/teacher_50_epochs_keras_way_wts_trial_3.ckpt\""
   ]
  },
  {
   "cell_type": "code",
   "execution_count": null,
   "metadata": {
    "id": "Nt26p3OxcCK_"
   },
   "outputs": [],
   "source": [
    "checkpoint_teacher_model_50_epochs_dir = os.path.dirname(checkpoint_teacher_model_50_epochs)"
   ]
  },
  {
   "cell_type": "code",
   "execution_count": null,
   "metadata": {
    "colab": {
     "base_uri": "https://localhost:8080/"
    },
    "id": "PhBJpJ1fcXk8",
    "outputId": "9a2b5711-ddd0-484b-aca6-69776e036b88"
   },
   "outputs": [
    {
     "name": "stdout",
     "output_type": "stream",
     "text": [
      "WARNING:tensorflow:`period` argument is deprecated. Please use `save_freq` to specify the frequency in number of batches seen.\n"
     ]
    }
   ],
   "source": [
    "cp_callback_teacher_model_50_epochs = tensorflow.keras.callbacks.ModelCheckpoint(\n",
    "    filepath=checkpoint_teacher_model_50_epochs,\n",
    "    monitor='accuracy', \n",
    "    verbose=1, \n",
    "    save_weights_only=True,\n",
    "    mode = 'max',\n",
    "    period=50)"
   ]
  },
  {
   "cell_type": "code",
   "execution_count": null,
   "metadata": {
    "colab": {
     "base_uri": "https://localhost:8080/"
    },
    "id": "W6TRZJzigSq2",
    "outputId": "5fa830b5-e207-4365-e054-0f0f2c77dbc2"
   },
   "outputs": [
    {
     "name": "stdout",
     "output_type": "stream",
     "text": [
      "Model: \"model\"\n",
      "__________________________________________________________________________________________________\n",
      " Layer (type)                   Output Shape         Param #     Connected to                     \n",
      "==================================================================================================\n",
      " inLayer (InputLayer)           [(None, 3000, 1)]    0           []                               \n",
      "                                                                                                  \n",
      " fConv1 (Conv1D)                (None, 500, 64)      3264        ['inLayer[0][0]']                \n",
      "                                                                                                  \n",
      " cConv1 (Conv1D)                (None, 60, 32)       12832       ['inLayer[0][0]']                \n",
      "                                                                                                  \n",
      " fMaxP1 (MaxPooling1D)          (None, 62, 64)       0           ['fConv1[0][0]']                 \n",
      "                                                                                                  \n",
      " cMaxP1 (MaxPooling1D)          (None, 15, 32)       0           ['cConv1[0][0]']                 \n",
      "                                                                                                  \n",
      " fDrop1 (Dropout)               (None, 62, 64)       0           ['fMaxP1[0][0]']                 \n",
      "                                                                                                  \n",
      " cDrop1 (Dropout)               (None, 15, 32)       0           ['cMaxP1[0][0]']                 \n",
      "                                                                                                  \n",
      " fConv2 (Conv1D)                (None, 62, 128)      65664       ['fDrop1[0][0]']                 \n",
      "                                                                                                  \n",
      " cConv2 (Conv1D)                (None, 15, 128)      24704       ['cDrop1[0][0]']                 \n",
      "                                                                                                  \n",
      " fConv3 (Conv1D)                (None, 62, 128)      131200      ['fConv2[0][0]']                 \n",
      "                                                                                                  \n",
      " cConv3 (Conv1D)                (None, 15, 128)      98432       ['cConv2[0][0]']                 \n",
      "                                                                                                  \n",
      " fConv4 (Conv1D)                (None, 62, 128)      131200      ['fConv3[0][0]']                 \n",
      "                                                                                                  \n",
      " cConv4 (Conv1D)                (None, 15, 128)      98432       ['cConv3[0][0]']                 \n",
      "                                                                                                  \n",
      " fMaxP2 (MaxPooling1D)          (None, 15, 128)      0           ['fConv4[0][0]']                 \n",
      "                                                                                                  \n",
      " cMaxP2 (MaxPooling1D)          (None, 7, 128)       0           ['cConv4[0][0]']                 \n",
      "                                                                                                  \n",
      " fFlat1 (Flatten)               (None, 1920)         0           ['fMaxP2[0][0]']                 \n",
      "                                                                                                  \n",
      " cFlat1 (Flatten)               (None, 896)          0           ['cMaxP2[0][0]']                 \n",
      "                                                                                                  \n",
      " merge_1 (Concatenate)          (None, 2816)         0           ['fFlat1[0][0]',                 \n",
      "                                                                  'cFlat1[0][0]']                 \n",
      "                                                                                                  \n",
      " mDrop1 (Dropout)               (None, 2816)         0           ['merge_1[0][0]']                \n",
      "                                                                                                  \n",
      " reshape1 (Reshape)             (None, 1, 2816)      0           ['mDrop1[0][0]']                 \n",
      "                                                                                                  \n",
      " lstm (LSTM)                    (None, 1, 64)        737536      ['reshape1[0][0]']               \n",
      "                                                                                                  \n",
      " lstm_1 (LSTM)                  (None, 64)           33024       ['lstm[0][0]']                   \n",
      "                                                                                                  \n",
      " outLayer (Dense)               (None, 5)            325         ['lstm_1[0][0]']                 \n",
      "                                                                                                  \n",
      "==================================================================================================\n",
      "Total params: 1,336,613\n",
      "Trainable params: 1,336,613\n",
      "Non-trainable params: 0\n",
      "__________________________________________________________________________________________________\n"
     ]
    }
   ],
   "source": [
    "teacher_50_epochs=model_b(verbose=VBS)"
   ]
  },
  {
   "cell_type": "code",
   "execution_count": null,
   "metadata": {
    "id": "8sJC-6k3gWN4"
   },
   "outputs": [],
   "source": [
    "teacher_50_epochs.compile(optimizer=optimizer, loss='categorical_crossentropy', metrics=['accuracy'])"
   ]
  },
  {
   "cell_type": "code",
   "execution_count": null,
   "metadata": {
    "colab": {
     "base_uri": "https://localhost:8080/"
    },
    "id": "pDJOS5pQcgHq",
    "outputId": "b5536764-2f37-4804-fbd1-e5909451d88f"
   },
   "outputs": [
    {
     "name": "stdout",
     "output_type": "stream",
     "text": [
      "Epoch 1/50\n",
      "3710/3710 [==============================] - 44s 8ms/step - loss: 0.6638 - accuracy: 0.7314\n",
      "Epoch 2/50\n",
      "3710/3710 [==============================] - 29s 8ms/step - loss: 0.3755 - accuracy: 0.8529\n",
      "Epoch 3/50\n",
      "3710/3710 [==============================] - 29s 8ms/step - loss: 0.3146 - accuracy: 0.8758\n",
      "Epoch 4/50\n",
      "3710/3710 [==============================] - 28s 8ms/step - loss: 0.2702 - accuracy: 0.8937\n",
      "Epoch 5/50\n",
      "3710/3710 [==============================] - 28s 8ms/step - loss: 0.2399 - accuracy: 0.9057\n",
      "Epoch 6/50\n",
      "3710/3710 [==============================] - 28s 8ms/step - loss: 0.2193 - accuracy: 0.9138\n",
      "Epoch 7/50\n",
      "3710/3710 [==============================] - 29s 8ms/step - loss: 0.2052 - accuracy: 0.9188\n",
      "Epoch 8/50\n",
      "3710/3710 [==============================] - 29s 8ms/step - loss: 0.1914 - accuracy: 0.9245\n",
      "Epoch 9/50\n",
      "3710/3710 [==============================] - 29s 8ms/step - loss: 0.1838 - accuracy: 0.9272\n",
      "Epoch 10/50\n",
      "3710/3710 [==============================] - 29s 8ms/step - loss: 0.1750 - accuracy: 0.9305\n",
      "Epoch 11/50\n",
      "3710/3710 [==============================] - 29s 8ms/step - loss: 0.1697 - accuracy: 0.9326\n",
      "Epoch 12/50\n",
      "3710/3710 [==============================] - 29s 8ms/step - loss: 0.1622 - accuracy: 0.9359\n",
      "Epoch 13/50\n",
      "3710/3710 [==============================] - 29s 8ms/step - loss: 0.1574 - accuracy: 0.9377\n",
      "Epoch 14/50\n",
      "3710/3710 [==============================] - 29s 8ms/step - loss: 0.1532 - accuracy: 0.9392\n",
      "Epoch 15/50\n",
      "3710/3710 [==============================] - 29s 8ms/step - loss: 0.1459 - accuracy: 0.9418\n",
      "Epoch 16/50\n",
      "3710/3710 [==============================] - 29s 8ms/step - loss: 0.1438 - accuracy: 0.9434\n",
      "Epoch 17/50\n",
      "3710/3710 [==============================] - 29s 8ms/step - loss: 0.1401 - accuracy: 0.9438\n",
      "Epoch 18/50\n",
      "3710/3710 [==============================] - 29s 8ms/step - loss: 0.1372 - accuracy: 0.9462\n",
      "Epoch 19/50\n",
      "3710/3710 [==============================] - 29s 8ms/step - loss: 0.1323 - accuracy: 0.9476\n",
      "Epoch 20/50\n",
      "3710/3710 [==============================] - 28s 8ms/step - loss: 0.1293 - accuracy: 0.9489\n",
      "Epoch 21/50\n",
      "3710/3710 [==============================] - 29s 8ms/step - loss: 0.1266 - accuracy: 0.9502\n",
      "Epoch 22/50\n",
      "3710/3710 [==============================] - 28s 8ms/step - loss: 0.1231 - accuracy: 0.9517\n",
      "Epoch 23/50\n",
      "3710/3710 [==============================] - 28s 8ms/step - loss: 0.1218 - accuracy: 0.9525\n",
      "Epoch 24/50\n",
      "3710/3710 [==============================] - 28s 8ms/step - loss: 0.1180 - accuracy: 0.9535\n",
      "Epoch 25/50\n",
      "3710/3710 [==============================] - 29s 8ms/step - loss: 0.1166 - accuracy: 0.9540\n",
      "Epoch 26/50\n",
      "3710/3710 [==============================] - 28s 8ms/step - loss: 0.1128 - accuracy: 0.9556\n",
      "Epoch 27/50\n",
      "3710/3710 [==============================] - 28s 8ms/step - loss: 0.1098 - accuracy: 0.9571\n",
      "Epoch 28/50\n",
      "3710/3710 [==============================] - 30s 8ms/step - loss: 0.1088 - accuracy: 0.9573\n",
      "Epoch 29/50\n",
      "3710/3710 [==============================] - 28s 8ms/step - loss: 0.1071 - accuracy: 0.9581\n",
      "Epoch 30/50\n",
      "3710/3710 [==============================] - 28s 8ms/step - loss: 0.1062 - accuracy: 0.9588\n",
      "Epoch 31/50\n",
      "3710/3710 [==============================] - 28s 8ms/step - loss: 0.1024 - accuracy: 0.9600\n",
      "Epoch 32/50\n",
      "3710/3710 [==============================] - 28s 8ms/step - loss: 0.1009 - accuracy: 0.9604\n",
      "Epoch 33/50\n",
      "3710/3710 [==============================] - 28s 8ms/step - loss: 0.0968 - accuracy: 0.9628\n",
      "Epoch 34/50\n",
      "3710/3710 [==============================] - 28s 8ms/step - loss: 0.0973 - accuracy: 0.9624\n",
      "Epoch 35/50\n",
      "3710/3710 [==============================] - 28s 8ms/step - loss: 0.0966 - accuracy: 0.9628\n",
      "Epoch 36/50\n",
      "3710/3710 [==============================] - 28s 8ms/step - loss: 0.0927 - accuracy: 0.9645\n",
      "Epoch 37/50\n",
      "3710/3710 [==============================] - 28s 8ms/step - loss: 0.0941 - accuracy: 0.9632\n",
      "Epoch 38/50\n",
      "3710/3710 [==============================] - 28s 8ms/step - loss: 0.0900 - accuracy: 0.9650\n",
      "Epoch 39/50\n",
      "3710/3710 [==============================] - 29s 8ms/step - loss: 0.0885 - accuracy: 0.9661\n",
      "Epoch 40/50\n",
      "3710/3710 [==============================] - 28s 8ms/step - loss: 0.0875 - accuracy: 0.9666\n",
      "Epoch 41/50\n",
      "3710/3710 [==============================] - 28s 8ms/step - loss: 0.0863 - accuracy: 0.9672\n",
      "Epoch 42/50\n",
      "3710/3710 [==============================] - 29s 8ms/step - loss: 0.0851 - accuracy: 0.9668\n",
      "Epoch 43/50\n",
      "3710/3710 [==============================] - 28s 8ms/step - loss: 0.0815 - accuracy: 0.9691\n",
      "Epoch 44/50\n",
      "3710/3710 [==============================] - 28s 8ms/step - loss: 0.0823 - accuracy: 0.9683\n",
      "Epoch 45/50\n",
      "3710/3710 [==============================] - 28s 8ms/step - loss: 0.0787 - accuracy: 0.9701\n",
      "Epoch 46/50\n",
      "3710/3710 [==============================] - 28s 8ms/step - loss: 0.0783 - accuracy: 0.9707\n",
      "Epoch 47/50\n",
      "3710/3710 [==============================] - 29s 8ms/step - loss: 0.0782 - accuracy: 0.9695\n",
      "Epoch 48/50\n",
      "3710/3710 [==============================] - 29s 8ms/step - loss: 0.0761 - accuracy: 0.9712\n",
      "Epoch 49/50\n",
      "3710/3710 [==============================] - 29s 8ms/step - loss: 0.0754 - accuracy: 0.9706\n",
      "Epoch 50/50\n",
      "3706/3710 [============================>.] - ETA: 0s - loss: 0.0751 - accuracy: 0.9711\n",
      "Epoch 50: saving model to /content/gdrive/My Drive/physionet/ensemble/tri_training/50_epochs_keras_way/teacher_50_epochs_keras_way_wts_trial_3.ckpt\n",
      "3710/3710 [==============================] - 29s 8ms/step - loss: 0.0752 - accuracy: 0.9711\n"
     ]
    },
    {
     "data": {
      "text/plain": [
       "<keras.callbacks.History at 0x7f30b10a83d0>"
      ]
     },
     "execution_count": 31,
     "metadata": {},
     "output_type": "execute_result"
    }
   ],
   "source": [
    "teacher_50_epochs.fit(x_dt_rshp, y_dt_, epochs=50, callbacks=[cp_callback_teacher_model_50_epochs])"
   ]
  },
  {
   "cell_type": "code",
   "execution_count": null,
   "metadata": {
    "id": "qkU2UceKcgYe"
   },
   "outputs": [],
   "source": [
    "latest_teacher_50_epochs=tensorflow.train.latest_checkpoint(checkpoint_teacher_model_50_epochs_dir)"
   ]
  },
  {
   "cell_type": "code",
   "execution_count": null,
   "metadata": {
    "colab": {
     "base_uri": "https://localhost:8080/"
    },
    "id": "G3peC8-Bcyfb",
    "outputId": "cb52a9ec-b6d7-494e-a65e-7d9b033cd877"
   },
   "outputs": [
    {
     "name": "stdout",
     "output_type": "stream",
     "text": [
      "16/16 [==============================] - 1s 8ms/step - loss: 0.8527 - accuracy: 0.8185\n"
     ]
    }
   ],
   "source": [
    "accuracy_teacher_model_50_epochs = teacher_50_epochs.evaluate(x_test_dt_rshp, y_test_dt_)"
   ]
  },
  {
   "cell_type": "markdown",
   "metadata": {
    "id": "D3b-p6meod22"
   },
   "source": [
    "Training the teacher model for 60 epochs wrt to the transfer set, majority voted labels, x_sub_train, tri-trained labels"
   ]
  },
  {
   "cell_type": "code",
   "execution_count": null,
   "metadata": {
    "id": "ud4BWnIrcy4W"
   },
   "outputs": [],
   "source": [
    "checkpoint_teacher_model_60_epochs = \"/content/gdrive/My Drive/physionet/ensemble/tri_training/60_epochs_keras_way/teacher_60_epochs_keras_way_wts_trial_3.ckpt\""
   ]
  },
  {
   "cell_type": "code",
   "execution_count": null,
   "metadata": {
    "id": "n7R-hMAoczAq"
   },
   "outputs": [],
   "source": [
    "checkpoint_teacher_model_60_epochs_dir = os.path.dirname(checkpoint_teacher_model_60_epochs)"
   ]
  },
  {
   "cell_type": "code",
   "execution_count": null,
   "metadata": {
    "colab": {
     "base_uri": "https://localhost:8080/"
    },
    "id": "YQ_ioC5EownV",
    "outputId": "7f04573c-07be-40d2-8ad7-5300fbfb36ad"
   },
   "outputs": [
    {
     "name": "stdout",
     "output_type": "stream",
     "text": [
      "WARNING:tensorflow:`period` argument is deprecated. Please use `save_freq` to specify the frequency in number of batches seen.\n"
     ]
    }
   ],
   "source": [
    "cp_callback_teacher_model_60_epochs = tensorflow.keras.callbacks.ModelCheckpoint(\n",
    "    filepath=checkpoint_teacher_model_60_epochs,\n",
    "    monitor='accuracy', \n",
    "    verbose=1, \n",
    "    save_weights_only=True,\n",
    "    mode = 'max',\n",
    "    period=60)"
   ]
  },
  {
   "cell_type": "code",
   "execution_count": null,
   "metadata": {
    "colab": {
     "base_uri": "https://localhost:8080/"
    },
    "id": "b5Nd2k5Fowqa",
    "outputId": "a1671aa1-1be4-4fb4-d90f-73308edb10a2"
   },
   "outputs": [
    {
     "name": "stdout",
     "output_type": "stream",
     "text": [
      "Model: \"model\"\n",
      "__________________________________________________________________________________________________\n",
      " Layer (type)                   Output Shape         Param #     Connected to                     \n",
      "==================================================================================================\n",
      " inLayer (InputLayer)           [(None, 3000, 1)]    0           []                               \n",
      "                                                                                                  \n",
      " fConv1 (Conv1D)                (None, 500, 64)      3264        ['inLayer[0][0]']                \n",
      "                                                                                                  \n",
      " cConv1 (Conv1D)                (None, 60, 32)       12832       ['inLayer[0][0]']                \n",
      "                                                                                                  \n",
      " fMaxP1 (MaxPooling1D)          (None, 62, 64)       0           ['fConv1[0][0]']                 \n",
      "                                                                                                  \n",
      " cMaxP1 (MaxPooling1D)          (None, 15, 32)       0           ['cConv1[0][0]']                 \n",
      "                                                                                                  \n",
      " fDrop1 (Dropout)               (None, 62, 64)       0           ['fMaxP1[0][0]']                 \n",
      "                                                                                                  \n",
      " cDrop1 (Dropout)               (None, 15, 32)       0           ['cMaxP1[0][0]']                 \n",
      "                                                                                                  \n",
      " fConv2 (Conv1D)                (None, 62, 128)      65664       ['fDrop1[0][0]']                 \n",
      "                                                                                                  \n",
      " cConv2 (Conv1D)                (None, 15, 128)      24704       ['cDrop1[0][0]']                 \n",
      "                                                                                                  \n",
      " fConv3 (Conv1D)                (None, 62, 128)      131200      ['fConv2[0][0]']                 \n",
      "                                                                                                  \n",
      " cConv3 (Conv1D)                (None, 15, 128)      98432       ['cConv2[0][0]']                 \n",
      "                                                                                                  \n",
      " fConv4 (Conv1D)                (None, 62, 128)      131200      ['fConv3[0][0]']                 \n",
      "                                                                                                  \n",
      " cConv4 (Conv1D)                (None, 15, 128)      98432       ['cConv3[0][0]']                 \n",
      "                                                                                                  \n",
      " fMaxP2 (MaxPooling1D)          (None, 15, 128)      0           ['fConv4[0][0]']                 \n",
      "                                                                                                  \n",
      " cMaxP2 (MaxPooling1D)          (None, 7, 128)       0           ['cConv4[0][0]']                 \n",
      "                                                                                                  \n",
      " fFlat1 (Flatten)               (None, 1920)         0           ['fMaxP2[0][0]']                 \n",
      "                                                                                                  \n",
      " cFlat1 (Flatten)               (None, 896)          0           ['cMaxP2[0][0]']                 \n",
      "                                                                                                  \n",
      " merge_1 (Concatenate)          (None, 2816)         0           ['fFlat1[0][0]',                 \n",
      "                                                                  'cFlat1[0][0]']                 \n",
      "                                                                                                  \n",
      " mDrop1 (Dropout)               (None, 2816)         0           ['merge_1[0][0]']                \n",
      "                                                                                                  \n",
      " reshape1 (Reshape)             (None, 1, 2816)      0           ['mDrop1[0][0]']                 \n",
      "                                                                                                  \n",
      " lstm (LSTM)                    (None, 1, 64)        737536      ['reshape1[0][0]']               \n",
      "                                                                                                  \n",
      " lstm_1 (LSTM)                  (None, 64)           33024       ['lstm[0][0]']                   \n",
      "                                                                                                  \n",
      " outLayer (Dense)               (None, 5)            325         ['lstm_1[0][0]']                 \n",
      "                                                                                                  \n",
      "==================================================================================================\n",
      "Total params: 1,336,613\n",
      "Trainable params: 1,336,613\n",
      "Non-trainable params: 0\n",
      "__________________________________________________________________________________________________\n"
     ]
    }
   ],
   "source": [
    "teacher_60_epochs=model_b(verbose=VBS)"
   ]
  },
  {
   "cell_type": "code",
   "execution_count": null,
   "metadata": {
    "id": "t7QlyJqco8Oa"
   },
   "outputs": [],
   "source": [
    "teacher_60_epochs.compile(optimizer=optimizer, loss='categorical_crossentropy', metrics=['accuracy'])"
   ]
  },
  {
   "cell_type": "code",
   "execution_count": null,
   "metadata": {
    "colab": {
     "base_uri": "https://localhost:8080/"
    },
    "id": "rDX4Zg3-o9w0",
    "outputId": "408858ec-05d8-48eb-aac9-a228c382bce7"
   },
   "outputs": [
    {
     "name": "stdout",
     "output_type": "stream",
     "text": [
      "Epoch 1/60\n",
      "3710/3710 [==============================] - 45s 8ms/step - loss: 0.6640 - accuracy: 0.7311\n",
      "Epoch 2/60\n",
      "3710/3710 [==============================] - 30s 8ms/step - loss: 0.3760 - accuracy: 0.8523\n",
      "Epoch 3/60\n",
      "3710/3710 [==============================] - 30s 8ms/step - loss: 0.3155 - accuracy: 0.8757\n",
      "Epoch 4/60\n",
      "3710/3710 [==============================] - 29s 8ms/step - loss: 0.2765 - accuracy: 0.8913\n",
      "Epoch 5/60\n",
      "3710/3710 [==============================] - 30s 8ms/step - loss: 0.2460 - accuracy: 0.9037\n",
      "Epoch 6/60\n",
      "3710/3710 [==============================] - 29s 8ms/step - loss: 0.2229 - accuracy: 0.9118\n",
      "Epoch 7/60\n",
      "3710/3710 [==============================] - 29s 8ms/step - loss: 0.2081 - accuracy: 0.9180\n",
      "Epoch 8/60\n",
      "3710/3710 [==============================] - 30s 8ms/step - loss: 0.1954 - accuracy: 0.9229\n",
      "Epoch 9/60\n",
      "3710/3710 [==============================] - 29s 8ms/step - loss: 0.1862 - accuracy: 0.9258\n",
      "Epoch 10/60\n",
      "3710/3710 [==============================] - 29s 8ms/step - loss: 0.1775 - accuracy: 0.9290\n",
      "Epoch 11/60\n",
      "3710/3710 [==============================] - 29s 8ms/step - loss: 0.1713 - accuracy: 0.9321\n",
      "Epoch 12/60\n",
      "3710/3710 [==============================] - 29s 8ms/step - loss: 0.1634 - accuracy: 0.9353\n",
      "Epoch 13/60\n",
      "3710/3710 [==============================] - 30s 8ms/step - loss: 0.1587 - accuracy: 0.9376\n",
      "Epoch 14/60\n",
      "3710/3710 [==============================] - 29s 8ms/step - loss: 0.1539 - accuracy: 0.9390\n",
      "Epoch 15/60\n",
      "3710/3710 [==============================] - 29s 8ms/step - loss: 0.1485 - accuracy: 0.9412\n",
      "Epoch 16/60\n",
      "3710/3710 [==============================] - 29s 8ms/step - loss: 0.1451 - accuracy: 0.9422\n",
      "Epoch 17/60\n",
      "3710/3710 [==============================] - 29s 8ms/step - loss: 0.1410 - accuracy: 0.9438\n",
      "Epoch 18/60\n",
      "3710/3710 [==============================] - 29s 8ms/step - loss: 0.1373 - accuracy: 0.9458\n",
      "Epoch 19/60\n",
      "3710/3710 [==============================] - 29s 8ms/step - loss: 0.1333 - accuracy: 0.9473\n",
      "Epoch 20/60\n",
      "3710/3710 [==============================] - 30s 8ms/step - loss: 0.1304 - accuracy: 0.9479\n",
      "Epoch 21/60\n",
      "3710/3710 [==============================] - 29s 8ms/step - loss: 0.1281 - accuracy: 0.9494\n",
      "Epoch 22/60\n",
      "3710/3710 [==============================] - 29s 8ms/step - loss: 0.1241 - accuracy: 0.9509\n",
      "Epoch 23/60\n",
      "3710/3710 [==============================] - 29s 8ms/step - loss: 0.1232 - accuracy: 0.9516\n",
      "Epoch 24/60\n",
      "3710/3710 [==============================] - 29s 8ms/step - loss: 0.1205 - accuracy: 0.9523\n",
      "Epoch 25/60\n",
      "3710/3710 [==============================] - 29s 8ms/step - loss: 0.1171 - accuracy: 0.9537\n",
      "Epoch 26/60\n",
      "3710/3710 [==============================] - 29s 8ms/step - loss: 0.1152 - accuracy: 0.9546\n",
      "Epoch 27/60\n",
      "3710/3710 [==============================] - 29s 8ms/step - loss: 0.1101 - accuracy: 0.9569\n",
      "Epoch 28/60\n",
      "3710/3710 [==============================] - 29s 8ms/step - loss: 0.1096 - accuracy: 0.9573\n",
      "Epoch 29/60\n",
      "3710/3710 [==============================] - 29s 8ms/step - loss: 0.1067 - accuracy: 0.9585\n",
      "Epoch 30/60\n",
      "3710/3710 [==============================] - 29s 8ms/step - loss: 0.1068 - accuracy: 0.9588\n",
      "Epoch 31/60\n",
      "3710/3710 [==============================] - 30s 8ms/step - loss: 0.1033 - accuracy: 0.9595\n",
      "Epoch 32/60\n",
      "3710/3710 [==============================] - 29s 8ms/step - loss: 0.1020 - accuracy: 0.9601\n",
      "Epoch 33/60\n",
      "3710/3710 [==============================] - 29s 8ms/step - loss: 0.0985 - accuracy: 0.9622\n",
      "Epoch 34/60\n",
      "3710/3710 [==============================] - 29s 8ms/step - loss: 0.0987 - accuracy: 0.9618\n",
      "Epoch 35/60\n",
      "3710/3710 [==============================] - 29s 8ms/step - loss: 0.0973 - accuracy: 0.9626\n",
      "Epoch 36/60\n",
      "3710/3710 [==============================] - 29s 8ms/step - loss: 0.0951 - accuracy: 0.9624\n",
      "Epoch 37/60\n",
      "3710/3710 [==============================] - 29s 8ms/step - loss: 0.0944 - accuracy: 0.9637\n",
      "Epoch 38/60\n",
      "3710/3710 [==============================] - 29s 8ms/step - loss: 0.0915 - accuracy: 0.9644\n",
      "Epoch 39/60\n",
      "3710/3710 [==============================] - 29s 8ms/step - loss: 0.0908 - accuracy: 0.9651\n",
      "Epoch 40/60\n",
      "3710/3710 [==============================] - 29s 8ms/step - loss: 0.0887 - accuracy: 0.9659\n",
      "Epoch 41/60\n",
      "3710/3710 [==============================] - 29s 8ms/step - loss: 0.0874 - accuracy: 0.9666\n",
      "Epoch 42/60\n",
      "3710/3710 [==============================] - 29s 8ms/step - loss: 0.0861 - accuracy: 0.9668\n",
      "Epoch 43/60\n",
      "3710/3710 [==============================] - 29s 8ms/step - loss: 0.0835 - accuracy: 0.9679\n",
      "Epoch 44/60\n",
      "3710/3710 [==============================] - 29s 8ms/step - loss: 0.0829 - accuracy: 0.9680\n",
      "Epoch 45/60\n",
      "3710/3710 [==============================] - 29s 8ms/step - loss: 0.0795 - accuracy: 0.9691\n",
      "Epoch 46/60\n",
      "3710/3710 [==============================] - 29s 8ms/step - loss: 0.0791 - accuracy: 0.9703\n",
      "Epoch 47/60\n",
      "3710/3710 [==============================] - 29s 8ms/step - loss: 0.0777 - accuracy: 0.9702\n",
      "Epoch 48/60\n",
      "3710/3710 [==============================] - 29s 8ms/step - loss: 0.0779 - accuracy: 0.9705\n",
      "Epoch 49/60\n",
      "3710/3710 [==============================] - 29s 8ms/step - loss: 0.0760 - accuracy: 0.9709\n",
      "Epoch 50/60\n",
      "3710/3710 [==============================] - 29s 8ms/step - loss: 0.0760 - accuracy: 0.9710\n",
      "Epoch 51/60\n",
      "3710/3710 [==============================] - 29s 8ms/step - loss: 0.0751 - accuracy: 0.9719\n",
      "Epoch 52/60\n",
      "3710/3710 [==============================] - 29s 8ms/step - loss: 0.0724 - accuracy: 0.9729\n",
      "Epoch 53/60\n",
      "3710/3710 [==============================] - 29s 8ms/step - loss: 0.0729 - accuracy: 0.9725\n",
      "Epoch 54/60\n",
      "3710/3710 [==============================] - 29s 8ms/step - loss: 0.0714 - accuracy: 0.9723\n",
      "Epoch 55/60\n",
      "3710/3710 [==============================] - 29s 8ms/step - loss: 0.0695 - accuracy: 0.9744\n",
      "Epoch 56/60\n",
      "3710/3710 [==============================] - 29s 8ms/step - loss: 0.0698 - accuracy: 0.9738\n",
      "Epoch 57/60\n",
      "3710/3710 [==============================] - 29s 8ms/step - loss: 0.0687 - accuracy: 0.9743\n",
      "Epoch 58/60\n",
      "3710/3710 [==============================] - 29s 8ms/step - loss: 0.0672 - accuracy: 0.9746\n",
      "Epoch 59/60\n",
      "3710/3710 [==============================] - 29s 8ms/step - loss: 0.0677 - accuracy: 0.9742\n",
      "Epoch 60/60\n",
      "3706/3710 [============================>.] - ETA: 0s - loss: 0.0660 - accuracy: 0.9755\n",
      "Epoch 60: saving model to /content/gdrive/My Drive/physionet/ensemble/tri_training/60_epochs_keras_way/teacher_60_epochs_keras_way_wts_trial_3.ckpt\n",
      "3710/3710 [==============================] - 29s 8ms/step - loss: 0.0660 - accuracy: 0.9755\n"
     ]
    },
    {
     "data": {
      "text/plain": [
       "<keras.callbacks.History at 0x7fc2127e9f50>"
      ]
     },
     "execution_count": 27,
     "metadata": {},
     "output_type": "execute_result"
    }
   ],
   "source": [
    "teacher_60_epochs.fit(x_dt_rshp, y_dt_, epochs=60, callbacks=[cp_callback_teacher_model_60_epochs])"
   ]
  },
  {
   "cell_type": "code",
   "execution_count": null,
   "metadata": {
    "id": "af-n5ZunpEZf"
   },
   "outputs": [],
   "source": [
    "latest_teacher_60_epochs=tensorflow.train.latest_checkpoint(checkpoint_teacher_model_60_epochs_dir)"
   ]
  },
  {
   "cell_type": "code",
   "execution_count": null,
   "metadata": {
    "colab": {
     "base_uri": "https://localhost:8080/"
    },
    "id": "U4fYa-mYpEfI",
    "outputId": "60661c52-b45d-404f-865a-38761186a33a"
   },
   "outputs": [
    {
     "name": "stdout",
     "output_type": "stream",
     "text": [
      "16/16 [==============================] - 1s 9ms/step - loss: 0.8504 - accuracy: 0.8206\n"
     ]
    }
   ],
   "source": [
    "accuracy_teacher_model_60_epochs = teacher_60_epochs.evaluate(x_test_dt_rshp, y_test_dt_)"
   ]
  },
  {
   "cell_type": "markdown",
   "metadata": {
    "id": "HlDPRyCJM3zV"
   },
   "source": [
    "Training the teacher model for 70 epochs wrt to the transfer set, majority voted labels, x_sub_train, tri-trained labels"
   ]
  },
  {
   "cell_type": "code",
   "execution_count": null,
   "metadata": {
    "id": "U-E60jG4Myo2"
   },
   "outputs": [],
   "source": [
    "checkpoint_teacher_model_70_epochs = \"/content/gdrive/My Drive/physionet/ensemble/tri_training/70_epochs_keras_way/teacher_70_epochs_keras_way_wts_trial_3.ckpt\""
   ]
  },
  {
   "cell_type": "code",
   "execution_count": null,
   "metadata": {
    "id": "WJwCaB9hMyrM"
   },
   "outputs": [],
   "source": [
    "checkpoint_teacher_model_70_epochs_dir = os.path.dirname(checkpoint_teacher_model_70_epochs)"
   ]
  },
  {
   "cell_type": "code",
   "execution_count": null,
   "metadata": {
    "colab": {
     "base_uri": "https://localhost:8080/"
    },
    "id": "jCOALfYjMyti",
    "outputId": "b53c1b7f-bbb7-4e76-c8fa-922bdfc94484"
   },
   "outputs": [
    {
     "name": "stdout",
     "output_type": "stream",
     "text": [
      "WARNING:tensorflow:`period` argument is deprecated. Please use `save_freq` to specify the frequency in number of batches seen.\n"
     ]
    }
   ],
   "source": [
    "cp_callback_teacher_model_70_epochs = tensorflow.keras.callbacks.ModelCheckpoint(\n",
    "    filepath=checkpoint_teacher_model_70_epochs,\n",
    "    monitor='accuracy', \n",
    "    verbose=1, \n",
    "    save_weights_only=True,\n",
    "    mode = 'max',\n",
    "    period=70)"
   ]
  },
  {
   "cell_type": "code",
   "execution_count": null,
   "metadata": {
    "colab": {
     "base_uri": "https://localhost:8080/"
    },
    "id": "OACS416bMywA",
    "outputId": "72ae465b-89a6-4d53-e92f-839320583c91"
   },
   "outputs": [
    {
     "name": "stdout",
     "output_type": "stream",
     "text": [
      "Model: \"model_1\"\n",
      "__________________________________________________________________________________________________\n",
      " Layer (type)                   Output Shape         Param #     Connected to                     \n",
      "==================================================================================================\n",
      " inLayer (InputLayer)           [(None, 3000, 1)]    0           []                               \n",
      "                                                                                                  \n",
      " fConv1 (Conv1D)                (None, 500, 64)      3264        ['inLayer[0][0]']                \n",
      "                                                                                                  \n",
      " cConv1 (Conv1D)                (None, 60, 32)       12832       ['inLayer[0][0]']                \n",
      "                                                                                                  \n",
      " fMaxP1 (MaxPooling1D)          (None, 62, 64)       0           ['fConv1[0][0]']                 \n",
      "                                                                                                  \n",
      " cMaxP1 (MaxPooling1D)          (None, 15, 32)       0           ['cConv1[0][0]']                 \n",
      "                                                                                                  \n",
      " fDrop1 (Dropout)               (None, 62, 64)       0           ['fMaxP1[0][0]']                 \n",
      "                                                                                                  \n",
      " cDrop1 (Dropout)               (None, 15, 32)       0           ['cMaxP1[0][0]']                 \n",
      "                                                                                                  \n",
      " fConv2 (Conv1D)                (None, 62, 128)      65664       ['fDrop1[0][0]']                 \n",
      "                                                                                                  \n",
      " cConv2 (Conv1D)                (None, 15, 128)      24704       ['cDrop1[0][0]']                 \n",
      "                                                                                                  \n",
      " fConv3 (Conv1D)                (None, 62, 128)      131200      ['fConv2[0][0]']                 \n",
      "                                                                                                  \n",
      " cConv3 (Conv1D)                (None, 15, 128)      98432       ['cConv2[0][0]']                 \n",
      "                                                                                                  \n",
      " fConv4 (Conv1D)                (None, 62, 128)      131200      ['fConv3[0][0]']                 \n",
      "                                                                                                  \n",
      " cConv4 (Conv1D)                (None, 15, 128)      98432       ['cConv3[0][0]']                 \n",
      "                                                                                                  \n",
      " fMaxP2 (MaxPooling1D)          (None, 15, 128)      0           ['fConv4[0][0]']                 \n",
      "                                                                                                  \n",
      " cMaxP2 (MaxPooling1D)          (None, 7, 128)       0           ['cConv4[0][0]']                 \n",
      "                                                                                                  \n",
      " fFlat1 (Flatten)               (None, 1920)         0           ['fMaxP2[0][0]']                 \n",
      "                                                                                                  \n",
      " cFlat1 (Flatten)               (None, 896)          0           ['cMaxP2[0][0]']                 \n",
      "                                                                                                  \n",
      " merge_1 (Concatenate)          (None, 2816)         0           ['fFlat1[0][0]',                 \n",
      "                                                                  'cFlat1[0][0]']                 \n",
      "                                                                                                  \n",
      " mDrop1 (Dropout)               (None, 2816)         0           ['merge_1[0][0]']                \n",
      "                                                                                                  \n",
      " reshape1 (Reshape)             (None, 1, 2816)      0           ['mDrop1[0][0]']                 \n",
      "                                                                                                  \n",
      " lstm_2 (LSTM)                  (None, 1, 64)        737536      ['reshape1[0][0]']               \n",
      "                                                                                                  \n",
      " lstm_3 (LSTM)                  (None, 64)           33024       ['lstm_2[0][0]']                 \n",
      "                                                                                                  \n",
      " outLayer (Dense)               (None, 5)            325         ['lstm_3[0][0]']                 \n",
      "                                                                                                  \n",
      "==================================================================================================\n",
      "Total params: 1,336,613\n",
      "Trainable params: 1,336,613\n",
      "Non-trainable params: 0\n",
      "__________________________________________________________________________________________________\n"
     ]
    }
   ],
   "source": [
    "teacher_70_epochs=model_b(verbose=VBS)"
   ]
  },
  {
   "cell_type": "code",
   "execution_count": null,
   "metadata": {
    "id": "s25xhbWfMyyb"
   },
   "outputs": [],
   "source": [
    "teacher_70_epochs.compile(optimizer=optimizer, loss='categorical_crossentropy', metrics=['accuracy'])"
   ]
  },
  {
   "cell_type": "code",
   "execution_count": null,
   "metadata": {
    "colab": {
     "base_uri": "https://localhost:8080/"
    },
    "id": "m5PjfPn_MzEh",
    "outputId": "86a59087-007b-406f-cf31-7b155bf47850"
   },
   "outputs": [
    {
     "name": "stdout",
     "output_type": "stream",
     "text": [
      "Epoch 1/70\n",
      "3710/3710 [==============================] - 31s 7ms/step - loss: 0.6483 - accuracy: 0.7423\n",
      "Epoch 2/70\n",
      "3710/3710 [==============================] - 27s 7ms/step - loss: 0.3778 - accuracy: 0.8515\n",
      "Epoch 3/70\n",
      "3710/3710 [==============================] - 27s 7ms/step - loss: 0.3224 - accuracy: 0.8727\n",
      "Epoch 4/70\n",
      "3710/3710 [==============================] - 27s 7ms/step - loss: 0.2822 - accuracy: 0.8880\n",
      "Epoch 5/70\n",
      "3710/3710 [==============================] - 27s 7ms/step - loss: 0.2529 - accuracy: 0.9002\n",
      "Epoch 6/70\n",
      "3710/3710 [==============================] - 27s 7ms/step - loss: 0.2286 - accuracy: 0.9088\n",
      "Epoch 7/70\n",
      "3710/3710 [==============================] - 27s 7ms/step - loss: 0.2135 - accuracy: 0.9146\n",
      "Epoch 8/70\n",
      "3710/3710 [==============================] - 27s 7ms/step - loss: 0.1971 - accuracy: 0.9221\n",
      "Epoch 9/70\n",
      "3710/3710 [==============================] - 27s 7ms/step - loss: 0.1873 - accuracy: 0.9252\n",
      "Epoch 10/70\n",
      "3710/3710 [==============================] - 27s 7ms/step - loss: 0.1794 - accuracy: 0.9289\n",
      "Epoch 11/70\n",
      "3710/3710 [==============================] - 27s 7ms/step - loss: 0.1713 - accuracy: 0.9324\n",
      "Epoch 12/70\n",
      "3710/3710 [==============================] - 27s 7ms/step - loss: 0.1640 - accuracy: 0.9354\n",
      "Epoch 13/70\n",
      "3710/3710 [==============================] - 29s 8ms/step - loss: 0.1586 - accuracy: 0.9368\n",
      "Epoch 14/70\n",
      "3710/3710 [==============================] - 28s 8ms/step - loss: 0.1538 - accuracy: 0.9391\n",
      "Epoch 15/70\n",
      "3710/3710 [==============================] - 28s 8ms/step - loss: 0.1492 - accuracy: 0.9401\n",
      "Epoch 16/70\n",
      "3710/3710 [==============================] - 28s 8ms/step - loss: 0.1455 - accuracy: 0.9421\n",
      "Epoch 17/70\n",
      "3710/3710 [==============================] - 28s 8ms/step - loss: 0.1416 - accuracy: 0.9441\n",
      "Epoch 18/70\n",
      "3710/3710 [==============================] - 28s 8ms/step - loss: 0.1366 - accuracy: 0.9458\n",
      "Epoch 19/70\n",
      "3710/3710 [==============================] - 28s 8ms/step - loss: 0.1318 - accuracy: 0.9479\n",
      "Epoch 20/70\n",
      "3710/3710 [==============================] - 28s 8ms/step - loss: 0.1286 - accuracy: 0.9488\n",
      "Epoch 21/70\n",
      "3710/3710 [==============================] - 28s 8ms/step - loss: 0.1253 - accuracy: 0.9503\n",
      "Epoch 22/70\n",
      "3710/3710 [==============================] - 28s 8ms/step - loss: 0.1226 - accuracy: 0.9514\n",
      "Epoch 23/70\n",
      "3710/3710 [==============================] - 28s 8ms/step - loss: 0.1187 - accuracy: 0.9531\n",
      "Epoch 24/70\n",
      "3710/3710 [==============================] - 29s 8ms/step - loss: 0.1185 - accuracy: 0.9525\n",
      "Epoch 25/70\n",
      "3710/3710 [==============================] - 29s 8ms/step - loss: 0.1153 - accuracy: 0.9546\n",
      "Epoch 26/70\n",
      "3710/3710 [==============================] - 28s 8ms/step - loss: 0.1125 - accuracy: 0.9561\n",
      "Epoch 27/70\n",
      "3710/3710 [==============================] - 28s 8ms/step - loss: 0.1101 - accuracy: 0.9569\n",
      "Epoch 28/70\n",
      "3710/3710 [==============================] - 28s 8ms/step - loss: 0.1089 - accuracy: 0.9568\n",
      "Epoch 29/70\n",
      "3710/3710 [==============================] - 28s 8ms/step - loss: 0.1057 - accuracy: 0.9589\n",
      "Epoch 30/70\n",
      "3710/3710 [==============================] - 28s 8ms/step - loss: 0.1064 - accuracy: 0.9579\n",
      "Epoch 31/70\n",
      "3710/3710 [==============================] - 28s 8ms/step - loss: 0.1020 - accuracy: 0.9602\n",
      "Epoch 32/70\n",
      "3710/3710 [==============================] - 28s 8ms/step - loss: 0.0992 - accuracy: 0.9614\n",
      "Epoch 33/70\n",
      "3710/3710 [==============================] - 28s 8ms/step - loss: 0.0997 - accuracy: 0.9606\n",
      "Epoch 34/70\n",
      "3710/3710 [==============================] - 28s 8ms/step - loss: 0.0976 - accuracy: 0.9618\n",
      "Epoch 35/70\n",
      "3710/3710 [==============================] - 28s 8ms/step - loss: 0.0967 - accuracy: 0.9621\n",
      "Epoch 36/70\n",
      "3710/3710 [==============================] - 28s 8ms/step - loss: 0.0943 - accuracy: 0.9631\n",
      "Epoch 37/70\n",
      "3710/3710 [==============================] - 28s 8ms/step - loss: 0.0910 - accuracy: 0.9646\n",
      "Epoch 38/70\n",
      "3710/3710 [==============================] - 28s 8ms/step - loss: 0.0905 - accuracy: 0.9650\n",
      "Epoch 39/70\n",
      "3710/3710 [==============================] - 28s 8ms/step - loss: 0.0890 - accuracy: 0.9659\n",
      "Epoch 40/70\n",
      "3710/3710 [==============================] - 28s 8ms/step - loss: 0.0882 - accuracy: 0.9661\n",
      "Epoch 41/70\n",
      "3710/3710 [==============================] - 28s 8ms/step - loss: 0.0860 - accuracy: 0.9671\n",
      "Epoch 42/70\n",
      "3710/3710 [==============================] - 28s 8ms/step - loss: 0.0845 - accuracy: 0.9674\n",
      "Epoch 43/70\n",
      "3710/3710 [==============================] - 28s 8ms/step - loss: 0.0829 - accuracy: 0.9679\n",
      "Epoch 44/70\n",
      "3710/3710 [==============================] - 28s 8ms/step - loss: 0.0816 - accuracy: 0.9681\n",
      "Epoch 45/70\n",
      "3710/3710 [==============================] - 28s 8ms/step - loss: 0.0795 - accuracy: 0.9700\n",
      "Epoch 46/70\n",
      "3710/3710 [==============================] - 28s 8ms/step - loss: 0.0804 - accuracy: 0.9687\n",
      "Epoch 47/70\n",
      "3710/3710 [==============================] - 28s 8ms/step - loss: 0.0769 - accuracy: 0.9709\n",
      "Epoch 48/70\n",
      "3710/3710 [==============================] - 28s 8ms/step - loss: 0.0768 - accuracy: 0.9707\n",
      "Epoch 49/70\n",
      "3710/3710 [==============================] - 28s 8ms/step - loss: 0.0758 - accuracy: 0.9707\n",
      "Epoch 50/70\n",
      "3710/3710 [==============================] - 28s 8ms/step - loss: 0.0749 - accuracy: 0.9711\n",
      "Epoch 51/70\n",
      "3710/3710 [==============================] - 28s 8ms/step - loss: 0.0742 - accuracy: 0.9714\n",
      "Epoch 52/70\n",
      "3710/3710 [==============================] - 28s 8ms/step - loss: 0.0721 - accuracy: 0.9724\n",
      "Epoch 53/70\n",
      "3710/3710 [==============================] - 28s 8ms/step - loss: 0.0731 - accuracy: 0.9721\n",
      "Epoch 54/70\n",
      "3710/3710 [==============================] - 28s 8ms/step - loss: 0.0704 - accuracy: 0.9734\n",
      "Epoch 55/70\n",
      "3710/3710 [==============================] - 28s 8ms/step - loss: 0.0695 - accuracy: 0.9738\n",
      "Epoch 56/70\n",
      "3710/3710 [==============================] - 29s 8ms/step - loss: 0.0687 - accuracy: 0.9743\n",
      "Epoch 57/70\n",
      "3710/3710 [==============================] - 29s 8ms/step - loss: 0.0670 - accuracy: 0.9746\n",
      "Epoch 58/70\n",
      "3710/3710 [==============================] - 28s 8ms/step - loss: 0.0674 - accuracy: 0.9744\n",
      "Epoch 59/70\n",
      "3710/3710 [==============================] - 28s 8ms/step - loss: 0.0666 - accuracy: 0.9752\n",
      "Epoch 60/70\n",
      "3710/3710 [==============================] - 28s 8ms/step - loss: 0.0647 - accuracy: 0.9755\n",
      "Epoch 61/70\n",
      "3710/3710 [==============================] - 28s 8ms/step - loss: 0.0642 - accuracy: 0.9760\n",
      "Epoch 62/70\n",
      "3710/3710 [==============================] - 28s 8ms/step - loss: 0.0642 - accuracy: 0.9753\n",
      "Epoch 63/70\n",
      "3710/3710 [==============================] - 28s 8ms/step - loss: 0.0624 - accuracy: 0.9764\n",
      "Epoch 64/70\n",
      "3710/3710 [==============================] - 28s 8ms/step - loss: 0.0613 - accuracy: 0.9775\n",
      "Epoch 65/70\n",
      "3710/3710 [==============================] - 28s 8ms/step - loss: 0.0615 - accuracy: 0.9764\n",
      "Epoch 66/70\n",
      "3710/3710 [==============================] - 28s 8ms/step - loss: 0.0598 - accuracy: 0.9774\n",
      "Epoch 67/70\n",
      "3710/3710 [==============================] - 28s 8ms/step - loss: 0.0591 - accuracy: 0.9779\n",
      "Epoch 68/70\n",
      "3710/3710 [==============================] - 29s 8ms/step - loss: 0.0600 - accuracy: 0.9771\n",
      "Epoch 69/70\n",
      "3710/3710 [==============================] - 28s 8ms/step - loss: 0.0564 - accuracy: 0.9789\n",
      "Epoch 70/70\n",
      "3706/3710 [============================>.] - ETA: 0s - loss: 0.0578 - accuracy: 0.9784\n",
      "Epoch 70: saving model to /content/gdrive/My Drive/physionet/ensemble/tri_training/70_epochs_keras_way/teacher_70_epochs_keras_way_wts_trial_3.ckpt\n",
      "3710/3710 [==============================] - 28s 8ms/step - loss: 0.0578 - accuracy: 0.9784\n"
     ]
    },
    {
     "data": {
      "text/plain": [
       "<keras.callbacks.History at 0x7f2796b3e3d0>"
      ]
     },
     "execution_count": 35,
     "metadata": {},
     "output_type": "execute_result"
    }
   ],
   "source": [
    "teacher_70_epochs.fit(x_dt_rshp, y_dt_, epochs=70, callbacks=[cp_callback_teacher_model_70_epochs])"
   ]
  },
  {
   "cell_type": "code",
   "execution_count": null,
   "metadata": {
    "id": "Rxl76mQ6MzHm"
   },
   "outputs": [],
   "source": [
    "latest_teacher_70_epochs=tensorflow.train.latest_checkpoint(checkpoint_teacher_model_70_epochs_dir)"
   ]
  },
  {
   "cell_type": "code",
   "execution_count": null,
   "metadata": {
    "colab": {
     "base_uri": "https://localhost:8080/"
    },
    "id": "QrzqoQjiei4D",
    "outputId": "a2ef0957-99c7-4392-bfdb-360272f523ea"
   },
   "outputs": [
    {
     "name": "stdout",
     "output_type": "stream",
     "text": [
      "16/16 [==============================] - 1s 7ms/step - loss: 0.9306 - accuracy: 0.8226\n"
     ]
    }
   ],
   "source": [
    "accuracy_teacher_model_70_epochs = teacher_70_epochs.evaluate(x_test_dt_rshp, y_test_dt_)"
   ]
  },
  {
   "cell_type": "markdown",
   "metadata": {
    "id": "Yo8thb7--Ps8"
   },
   "source": [
    "Trial 1\n",
    "\n",
    "KD using the 50 epochs teacher model, finalized the teacher with 60 epochs, student model: alpha: 0.9, temp: 4\n",
    "\n",
    "Trial 2\n",
    "\n",
    "KD using the 40 epochs teacher model, finalized the teacher with 50 epochs, student model: alpha: 0.9, temp: 4\n",
    "\n",
    "Trial 3\n",
    "\n",
    "KD using the 40 epochs teacher model, finalized the teacher with 50 epochs, student model: alpha: 0.9, temp: 4"
   ]
  },
  {
   "cell_type": "code",
   "execution_count": null,
   "metadata": {
    "colab": {
     "base_uri": "https://localhost:8080/"
    },
    "id": "_ySEY_3H97av",
    "outputId": "ba392754-7a25-451a-b7ee-5105704bd06e"
   },
   "outputs": [
    {
     "name": "stdout",
     "output_type": "stream",
     "text": [
      "Model: \"model\"\n",
      "__________________________________________________________________________________________________\n",
      " Layer (type)                   Output Shape         Param #     Connected to                     \n",
      "==================================================================================================\n",
      " inLayer (InputLayer)           [(None, 3000, 1)]    0           []                               \n",
      "                                                                                                  \n",
      " fConv1 (Conv1D)                (None, 500, 64)      3264        ['inLayer[0][0]']                \n",
      "                                                                                                  \n",
      " cConv1 (Conv1D)                (None, 60, 32)       12832       ['inLayer[0][0]']                \n",
      "                                                                                                  \n",
      " fMaxP1 (MaxPooling1D)          (None, 62, 64)       0           ['fConv1[0][0]']                 \n",
      "                                                                                                  \n",
      " cMaxP1 (MaxPooling1D)          (None, 15, 32)       0           ['cConv1[0][0]']                 \n",
      "                                                                                                  \n",
      " fDrop1 (Dropout)               (None, 62, 64)       0           ['fMaxP1[0][0]']                 \n",
      "                                                                                                  \n",
      " cDrop1 (Dropout)               (None, 15, 32)       0           ['cMaxP1[0][0]']                 \n",
      "                                                                                                  \n",
      " fConv2 (Conv1D)                (None, 62, 128)      65664       ['fDrop1[0][0]']                 \n",
      "                                                                                                  \n",
      " cConv2 (Conv1D)                (None, 15, 128)      24704       ['cDrop1[0][0]']                 \n",
      "                                                                                                  \n",
      " fConv3 (Conv1D)                (None, 62, 128)      131200      ['fConv2[0][0]']                 \n",
      "                                                                                                  \n",
      " cConv3 (Conv1D)                (None, 15, 128)      98432       ['cConv2[0][0]']                 \n",
      "                                                                                                  \n",
      " fConv4 (Conv1D)                (None, 62, 128)      131200      ['fConv3[0][0]']                 \n",
      "                                                                                                  \n",
      " cConv4 (Conv1D)                (None, 15, 128)      98432       ['cConv3[0][0]']                 \n",
      "                                                                                                  \n",
      " fMaxP2 (MaxPooling1D)          (None, 15, 128)      0           ['fConv4[0][0]']                 \n",
      "                                                                                                  \n",
      " cMaxP2 (MaxPooling1D)          (None, 7, 128)       0           ['cConv4[0][0]']                 \n",
      "                                                                                                  \n",
      " fFlat1 (Flatten)               (None, 1920)         0           ['fMaxP2[0][0]']                 \n",
      "                                                                                                  \n",
      " cFlat1 (Flatten)               (None, 896)          0           ['cMaxP2[0][0]']                 \n",
      "                                                                                                  \n",
      " merge_1 (Concatenate)          (None, 2816)         0           ['fFlat1[0][0]',                 \n",
      "                                                                  'cFlat1[0][0]']                 \n",
      "                                                                                                  \n",
      " mDrop1 (Dropout)               (None, 2816)         0           ['merge_1[0][0]']                \n",
      "                                                                                                  \n",
      " reshape1 (Reshape)             (None, 1, 2816)      0           ['mDrop1[0][0]']                 \n",
      "                                                                                                  \n",
      " lstm (LSTM)                    (None, 1, 64)        737536      ['reshape1[0][0]']               \n",
      "                                                                                                  \n",
      " lstm_1 (LSTM)                  (None, 64)           33024       ['lstm[0][0]']                   \n",
      "                                                                                                  \n",
      " outLayer (Dense)               (None, 5)            325         ['lstm_1[0][0]']                 \n",
      "                                                                                                  \n",
      "==================================================================================================\n",
      "Total params: 1,336,613\n",
      "Trainable params: 1,336,613\n",
      "Non-trainable params: 0\n",
      "__________________________________________________________________________________________________\n"
     ]
    }
   ],
   "source": [
    "teacher_model=model_b(verbose=VBS) #40 epochs teacher model "
   ]
  },
  {
   "cell_type": "code",
   "execution_count": null,
   "metadata": {
    "colab": {
     "base_uri": "https://localhost:8080/"
    },
    "id": "XGYIvJM7_u1b",
    "outputId": "304e8fa4-2814-4145-f010-f884d4a3db86"
   },
   "outputs": [
    {
     "data": {
      "text/plain": [
       "<tensorflow.python.training.tracking.util.CheckpointLoadStatus at 0x7ffb32e20690>"
      ]
     },
     "execution_count": 23,
     "metadata": {},
     "output_type": "execute_result"
    }
   ],
   "source": [
    "teacher_checkpt_path=\"/content/gdrive/My Drive/physionet/ensemble/tri_training/40_epochs_keras_way/teacher_40_epochs_keras_way_wts.ckpt\"\n",
    "teacher_model.load_weights(teacher_checkpt_path)"
   ]
  },
  {
   "cell_type": "code",
   "execution_count": null,
   "metadata": {
    "colab": {
     "base_uri": "https://localhost:8080/"
    },
    "id": "Pp_ItVXfwwMD",
    "outputId": "84a4ecfb-beb7-4336-e017-fe6db2b6db72"
   },
   "outputs": [
    {
     "data": {
      "text/plain": [
       "<tensorflow.python.training.tracking.util.CheckpointLoadStatus at 0x7fefd1278dd0>"
      ]
     },
     "execution_count": 28,
     "metadata": {},
     "output_type": "execute_result"
    }
   ],
   "source": [
    "teacher_checkpt_path=\"/content/gdrive/My Drive/physionet/ensemble/tri_training/40_epochs_keras_way/teacher_40_epochs_keras_way_wts_trial_3.ckpt\"\n",
    "teacher_model.load_weights(teacher_checkpt_path)"
   ]
  },
  {
   "cell_type": "code",
   "execution_count": null,
   "metadata": {
    "id": "WRiIVK51_HcR"
   },
   "outputs": [],
   "source": [
    "from keras.layers import Input, Dense, LSTM, MaxPooling1D, Conv1D\n",
    "from keras.models import Model"
   ]
  },
  {
   "cell_type": "code",
   "execution_count": null,
   "metadata": {
    "id": "1uiHElwVACnO"
   },
   "outputs": [],
   "source": [
    "teacher_model.compile(optimizer=optimizer, loss='categorical_crossentropy', metrics=['accuracy'])"
   ]
  },
  {
   "cell_type": "code",
   "execution_count": null,
   "metadata": {
    "colab": {
     "base_uri": "https://localhost:8080/"
    },
    "id": "QdT83AOVAGk2",
    "outputId": "ee386c59-7136-4229-d01f-454455ff2b58"
   },
   "outputs": [
    {
     "name": "stdout",
     "output_type": "stream",
     "text": [
      "16/16 [==============================] - 13s 9ms/step - loss: 0.7190 - accuracy: 0.8367\n"
     ]
    }
   ],
   "source": [
    "accuracy_teacher_model = teacher_model.evaluate(x_test_dt_rshp, y_test_dt_)"
   ]
  },
  {
   "cell_type": "code",
   "execution_count": null,
   "metadata": {
    "id": "QMFYsOt07jC5"
   },
   "outputs": [],
   "source": [
    "preds_teacher_model = teacher_model.predict(x_test_dt_rshp)"
   ]
  },
  {
   "cell_type": "code",
   "execution_count": null,
   "metadata": {
    "id": "Ta1e6ZZw7tyn"
   },
   "outputs": [],
   "source": [
    "preds_teacher_model_fin=np.argmax(preds_teacher_model,axis=1)"
   ]
  },
  {
   "cell_type": "code",
   "execution_count": null,
   "metadata": {
    "colab": {
     "base_uri": "https://localhost:8080/"
    },
    "id": "ufMXZzgHVvLH",
    "outputId": "9d9b4e88-1015-4cf9-cab1-cbf0c92126cb"
   },
   "outputs": [
    {
     "data": {
      "text/plain": [
       "array([0.83928571, 0.43137255, 0.98245614, 0.69565217, 0.86666667])"
      ]
     },
     "execution_count": 33,
     "metadata": {},
     "output_type": "execute_result"
    }
   ],
   "source": [
    "from sklearn.metrics import confusion_matrix\n",
    "matrix_teacher = confusion_matrix(y_test_dt, preds_teacher_model_fin)\n",
    "matrix_teacher.diagonal()/matrix_teacher.sum(axis=1)"
   ]
  },
  {
   "cell_type": "code",
   "execution_count": null,
   "metadata": {
    "colab": {
     "base_uri": "https://localhost:8080/"
    },
    "id": "D2U231NqWQqs",
    "outputId": "7edd77fa-fabc-44e9-ffbd-b12eefaabeb5"
   },
   "outputs": [
    {
     "name": "stdout",
     "output_type": "stream",
     "text": [
      "Precision: 0.8211025930220244\n",
      "Recall: 0.7630866488471819\n",
      "F1 score: 0.7846217931968913\n",
      "              precision    recall  f1-score   support\n",
      "\n",
      "           0   0.952703  0.839286  0.892405       168\n",
      "           1   0.458333  0.431373  0.444444        51\n",
      "           2   0.796209  0.982456  0.879581       171\n",
      "           3   0.969697  0.695652  0.810127        46\n",
      "           4   0.928571  0.866667  0.896552        60\n",
      "\n",
      "    accuracy                       0.836694       496\n",
      "   macro avg   0.821103  0.763087  0.784622       496\n",
      "weighted avg   0.846575  0.836694  0.834794       496\n",
      "\n"
     ]
    }
   ],
   "source": [
    "#y_sub_dt\n",
    "from sklearn.metrics import precision_score, recall_score\n",
    "f1_teacher = f1_score(y_test_dt, preds_teacher_model_fin, average=\"macro\")\n",
    "prec_teacher = precision_score(y_test_dt, preds_teacher_model_fin, average=\"macro\")\n",
    "recall_teacher = recall_score(y_test_dt, preds_teacher_model_fin, average=\"macro\")\n",
    "if VBS:\n",
    "    print(\"Precision: {}\".format(prec_teacher)) \n",
    "    print(\"Recall: {}\".format(recall_teacher))\n",
    "    print(\"F1 score: {}\".format(f1_teacher))\n",
    "\n",
    "    report_teacher = classification_report(y_test_dt, preds_teacher_model_fin, digits=6)\n",
    "    print(report_teacher)"
   ]
  },
  {
   "cell_type": "code",
   "execution_count": null,
   "metadata": {
    "id": "TkEJ9sVn_VOf"
   },
   "outputs": [],
   "source": [
    "#student model\n",
    "def get_model_1d_cnn():\n",
    "    nclass = 5\n",
    "    inp = Input(shape=(3000, 1))\n",
    "    img_1 = Conv1D(4, kernel_size=6, activation=activations.relu, strides=1, padding=\"valid\")(inp)\n",
    "    #img_1 = Conv1D(128, kernel_size=5, activation=activations.relu, strides=1, padding=\"valid\")(img_1)\n",
    "    img_1 = MaxPooling1D(pool_size=2)(img_1)\n",
    "    #img_1 = SpatialDropout1D(rate=0.2)(img_1)\n",
    "    img_1 = Conv1D(4, kernel_size=5, activation=activations.relu, strides=1, padding=\"valid\")(img_1)\n",
    "    #img_1 = Conv1D(256, kernel_size=7, activation=activations.relu, strides=1, padding=\"valid\")(img_1)\n",
    "    img_1 = MaxPooling1D(pool_size=2)(img_1)\n",
    "    #img_1 = SpatialDropout1D(rate=0.01)(img_1)\n",
    "    img_1 = Conv1D(10, kernel_size=4, activation=activations.relu, strides=1, padding=\"valid\")(img_1)\n",
    "    #img_1 = Conv1D(64, kernel_size=4, activation=activations.relu, strides=1, padding=\"valid\")(img_1)\n",
    "    img_1 = MaxPooling1D(pool_size=2)(img_1)\n",
    "    #img_1 = SpatialDropout1D(rate=0.01)(img_1)\n",
    "    img_1 = Conv1D(10, kernel_size=4, activation=activations.relu, strides=1, padding=\"valid\")(img_1)\n",
    "    img_1 = MaxPooling1D(pool_size=2)(img_1)\n",
    "    #img_1 = Conv1D(64, kernel_size=6, activation=activations.relu, strides=1, padding=\"valid\")(img_1)\n",
    "    #img_1 = MaxPooling1D(pool_size=2)(img_1)\n",
    "    img_1 = Flatten()(img_1)\n",
    "\n",
    "    \n",
    "    dense_1 = Dropout(rate=0.5)(img_1)\n",
    "    #dense_1 = Dropout(rate=0.05)(Dense(64, activation=activations.relu, name=\"dense_2\")(dense_1))\n",
    "    dense_1 = Dense(nclass, activation=activations.softmax)(dense_1)\n",
    "\n",
    "    model = Model(inputs=inp, outputs=dense_1)\n",
    "    opt = Adam(0.001)\n",
    "\n",
    "    model.compile(optimizer=opt, loss='categorical_crossentropy', metrics=['acc'])\n",
    "    model.summary()\n",
    "    return model"
   ]
  },
  {
   "cell_type": "code",
   "execution_count": null,
   "metadata": {
    "colab": {
     "base_uri": "https://localhost:8080/"
    },
    "id": "3J4RBEGN_ZiJ",
    "outputId": "f6d716cc-4f17-4235-91dd-f197764f975a"
   },
   "outputs": [
    {
     "name": "stdout",
     "output_type": "stream",
     "text": [
      "Model: \"model_1\"\n",
      "_________________________________________________________________\n",
      " Layer (type)                Output Shape              Param #   \n",
      "=================================================================\n",
      " input_1 (InputLayer)        [(None, 3000, 1)]         0         \n",
      "                                                                 \n",
      " conv1d (Conv1D)             (None, 2995, 4)           28        \n",
      "                                                                 \n",
      " max_pooling1d (MaxPooling1D  (None, 1497, 4)          0         \n",
      " )                                                               \n",
      "                                                                 \n",
      " conv1d_1 (Conv1D)           (None, 1493, 4)           84        \n",
      "                                                                 \n",
      " max_pooling1d_1 (MaxPooling  (None, 746, 4)           0         \n",
      " 1D)                                                             \n",
      "                                                                 \n",
      " conv1d_2 (Conv1D)           (None, 743, 10)           170       \n",
      "                                                                 \n",
      " max_pooling1d_2 (MaxPooling  (None, 371, 10)          0         \n",
      " 1D)                                                             \n",
      "                                                                 \n",
      " conv1d_3 (Conv1D)           (None, 368, 10)           410       \n",
      "                                                                 \n",
      " max_pooling1d_3 (MaxPooling  (None, 184, 10)          0         \n",
      " 1D)                                                             \n",
      "                                                                 \n",
      " flatten (Flatten)           (None, 1840)              0         \n",
      "                                                                 \n",
      " dropout (Dropout)           (None, 1840)              0         \n",
      "                                                                 \n",
      " dense (Dense)               (None, 5)                 9205      \n",
      "                                                                 \n",
      "=================================================================\n",
      "Total params: 9,897\n",
      "Trainable params: 9,897\n",
      "Non-trainable params: 0\n",
      "_________________________________________________________________\n"
     ]
    }
   ],
   "source": [
    "#student_model=get_model_cnn()\n",
    "student_model=get_model_1d_cnn()"
   ]
  },
  {
   "cell_type": "code",
   "execution_count": null,
   "metadata": {
    "id": "G0sX0Geo_dX6"
   },
   "outputs": [],
   "source": [
    "class Distiller(keras.Model):\n",
    "    def __init__(self, student, teacher):\n",
    "        super(Distiller, self).__init__()\n",
    "        self.teacher = teacher\n",
    "        self.student = student\n",
    "\n",
    "    def compile(\n",
    "        self,\n",
    "        optimizer,\n",
    "        metrics,\n",
    "        student_loss_fn,\n",
    "        distillation_loss_fn,\n",
    "        alpha=0.1,\n",
    "        temperature=3,\n",
    "    ):\n",
    "        \"\"\" Configure the distiller.\n",
    "\n",
    "        Args:\n",
    "            optimizer: Keras optimizer for the student weights\n",
    "            metrics: Keras metrics for evaluation\n",
    "            student_loss_fn: Loss function of difference between student\n",
    "                predictions and ground-truth\n",
    "            distillation_loss_fn: Loss function of difference between soft\n",
    "                student predictions and soft teacher predictions\n",
    "            alpha: weight to student_loss_fn and 1-alpha to distillation_loss_fn\n",
    "            temperature: Temperature for softening probability distributions.\n",
    "                Larger temperature gives softer distributions.\n",
    "        \"\"\"\n",
    "        super(Distiller, self).compile(optimizer=optimizer, metrics=metrics)\n",
    "        self.student_loss_fn = student_loss_fn\n",
    "        self.distillation_loss_fn = distillation_loss_fn\n",
    "        self.alpha = alpha\n",
    "        self.temperature = temperature\n",
    "\n",
    "    def train_step(self, data):\n",
    "        # Unpack data\n",
    "        x, y = data\n",
    "\n",
    "        # Forward pass of teacher\n",
    "        teacher_predictions = self.teacher(x, training=False)\n",
    "\n",
    "        with tf.GradientTape() as tape:\n",
    "            # Forward pass of student\n",
    "            student_predictions = self.student(x, training=True)\n",
    "\n",
    "            # Compute losses\n",
    "            student_loss = self.student_loss_fn(y, student_predictions)\n",
    "            distillation_loss = self.distillation_loss_fn(\n",
    "                tf.nn.softmax(teacher_predictions / self.temperature, axis=1),\n",
    "                tf.nn.softmax(student_predictions / self.temperature, axis=1),\n",
    "            )\n",
    "            loss = self.alpha * student_loss + (1 - self.alpha) * distillation_loss\n",
    "\n",
    "        # Compute gradients\n",
    "        trainable_vars = self.student.trainable_variables\n",
    "        gradients = tape.gradient(loss, trainable_vars)\n",
    "\n",
    "        # Update weights\n",
    "        self.optimizer.apply_gradients(zip(gradients, trainable_vars))\n",
    "\n",
    "        # Update the metrics configured in `compile()`.\n",
    "        self.compiled_metrics.update_state(y, student_predictions)\n",
    "\n",
    "        # Return a dict of performance\n",
    "        results = {m.name: m.result() for m in self.metrics}\n",
    "        results.update(\n",
    "            {\"student_loss\": student_loss, \"distillation_loss\": distillation_loss}\n",
    "        )\n",
    "        return results\n",
    "\n",
    "    def test_step(self, data):\n",
    "        # Unpack the data\n",
    "        x, y = data\n",
    "\n",
    "        # Compute predictions\n",
    "        y_prediction = self.student(x, training=False)\n",
    "\n",
    "        # Calculate the loss\n",
    "        student_loss = self.student_loss_fn(y, y_prediction)\n",
    "\n",
    "        # Update the metrics.\n",
    "        self.compiled_metrics.update_state(y, y_prediction)\n",
    "\n",
    "        # Return a dict of performance\n",
    "        results = {m.name: m.result() for m in self.metrics}\n",
    "        results.update({\"student_loss\": student_loss})\n",
    "        return results\n"
   ]
  },
  {
   "cell_type": "code",
   "execution_count": null,
   "metadata": {
    "id": "0Ib38_K-AcPO"
   },
   "outputs": [],
   "source": [
    "import tensorflow as tf\n",
    "from tensorflow import keras\n",
    "from tensorflow.keras import layers\n",
    "import numpy as np\n"
   ]
  },
  {
   "cell_type": "code",
   "execution_count": null,
   "metadata": {
    "colab": {
     "base_uri": "https://localhost:8080/"
    },
    "id": "ERK-_WZyAg6M",
    "outputId": "5283ac42-483c-443d-bd69-b8af3afd74d6"
   },
   "outputs": [
    {
     "name": "stdout",
     "output_type": "stream",
     "text": [
      "Epoch 1/50\n",
      "3710/3710 [==============================] - 34s 8ms/step - categorical_accuracy: 0.6834 - student_loss: 0.7702 - distillation_loss: 0.0016\n",
      "Epoch 2/50\n",
      "3710/3710 [==============================] - 30s 8ms/step - categorical_accuracy: 0.7622 - student_loss: 0.5729 - distillation_loss: 0.0012\n",
      "Epoch 3/50\n",
      "3710/3710 [==============================] - 30s 8ms/step - categorical_accuracy: 0.7815 - student_loss: 0.5271 - distillation_loss: 0.0011\n",
      "Epoch 4/50\n",
      "3710/3710 [==============================] - 30s 8ms/step - categorical_accuracy: 0.7953 - student_loss: 0.4962 - distillation_loss: 0.0010\n",
      "Epoch 5/50\n",
      "3710/3710 [==============================] - 30s 8ms/step - categorical_accuracy: 0.8062 - student_loss: 0.4707 - distillation_loss: 9.7942e-04\n",
      "Epoch 6/50\n",
      "3710/3710 [==============================] - 30s 8ms/step - categorical_accuracy: 0.8209 - student_loss: 0.4419 - distillation_loss: 9.0692e-04\n",
      "Epoch 7/50\n",
      "3710/3710 [==============================] - 29s 8ms/step - categorical_accuracy: 0.8304 - student_loss: 0.4224 - distillation_loss: 8.6110e-04\n",
      "Epoch 8/50\n",
      "3710/3710 [==============================] - 29s 8ms/step - categorical_accuracy: 0.8363 - student_loss: 0.4083 - distillation_loss: 8.3067e-04\n",
      "Epoch 9/50\n",
      "3710/3710 [==============================] - 29s 8ms/step - categorical_accuracy: 0.8415 - student_loss: 0.3966 - distillation_loss: 8.0407e-04\n",
      "Epoch 10/50\n",
      "3710/3710 [==============================] - 29s 8ms/step - categorical_accuracy: 0.8448 - student_loss: 0.3889 - distillation_loss: 7.8720e-04\n",
      "Epoch 11/50\n",
      "3710/3710 [==============================] - 29s 8ms/step - categorical_accuracy: 0.8480 - student_loss: 0.3810 - distillation_loss: 7.7032e-04\n",
      "Epoch 12/50\n",
      "3710/3710 [==============================] - 30s 8ms/step - categorical_accuracy: 0.8515 - student_loss: 0.3749 - distillation_loss: 7.5789e-04\n",
      "Epoch 13/50\n",
      "3710/3710 [==============================] - 30s 8ms/step - categorical_accuracy: 0.8526 - student_loss: 0.3696 - distillation_loss: 7.4579e-04\n",
      "Epoch 14/50\n",
      "3710/3710 [==============================] - 30s 8ms/step - categorical_accuracy: 0.8559 - student_loss: 0.3643 - distillation_loss: 7.3485e-04\n",
      "Epoch 15/50\n",
      "3710/3710 [==============================] - 30s 8ms/step - categorical_accuracy: 0.8564 - student_loss: 0.3615 - distillation_loss: 7.3076e-04\n",
      "Epoch 16/50\n",
      "3710/3710 [==============================] - 30s 8ms/step - categorical_accuracy: 0.8573 - student_loss: 0.3591 - distillation_loss: 7.2320e-04\n",
      "Epoch 17/50\n",
      "3710/3710 [==============================] - 30s 8ms/step - categorical_accuracy: 0.8586 - student_loss: 0.3554 - distillation_loss: 7.1759e-04\n",
      "Epoch 18/50\n",
      "3710/3710 [==============================] - 30s 8ms/step - categorical_accuracy: 0.8608 - student_loss: 0.3502 - distillation_loss: 7.0626e-04\n",
      "Epoch 19/50\n",
      "3710/3710 [==============================] - 30s 8ms/step - categorical_accuracy: 0.8618 - student_loss: 0.3487 - distillation_loss: 7.0311e-04\n",
      "Epoch 20/50\n",
      "3710/3710 [==============================] - 30s 8ms/step - categorical_accuracy: 0.8636 - student_loss: 0.3433 - distillation_loss: 6.9105e-04\n",
      "Epoch 21/50\n",
      "3710/3710 [==============================] - 30s 8ms/step - categorical_accuracy: 0.8629 - student_loss: 0.3448 - distillation_loss: 6.9597e-04\n",
      "Epoch 22/50\n",
      "3710/3710 [==============================] - 30s 8ms/step - categorical_accuracy: 0.8633 - student_loss: 0.3429 - distillation_loss: 6.9131e-04\n",
      "Epoch 23/50\n",
      "3710/3710 [==============================] - 30s 8ms/step - categorical_accuracy: 0.8642 - student_loss: 0.3411 - distillation_loss: 6.8707e-04\n",
      "Epoch 24/50\n",
      "3710/3710 [==============================] - 30s 8ms/step - categorical_accuracy: 0.8660 - student_loss: 0.3388 - distillation_loss: 6.8183e-04\n",
      "Epoch 25/50\n",
      "3710/3710 [==============================] - 30s 8ms/step - categorical_accuracy: 0.8666 - student_loss: 0.3373 - distillation_loss: 6.8139e-04\n",
      "Epoch 26/50\n",
      "3710/3710 [==============================] - 30s 8ms/step - categorical_accuracy: 0.8679 - student_loss: 0.3353 - distillation_loss: 6.7467e-04\n",
      "Epoch 27/50\n",
      "3710/3710 [==============================] - 30s 8ms/step - categorical_accuracy: 0.8683 - student_loss: 0.3337 - distillation_loss: 6.7116e-04\n",
      "Epoch 28/50\n",
      "3710/3710 [==============================] - 29s 8ms/step - categorical_accuracy: 0.8687 - student_loss: 0.3329 - distillation_loss: 6.7032e-04\n",
      "Epoch 29/50\n",
      "3710/3710 [==============================] - 30s 8ms/step - categorical_accuracy: 0.8697 - student_loss: 0.3311 - distillation_loss: 6.6595e-04\n",
      "Epoch 30/50\n",
      "3710/3710 [==============================] - 29s 8ms/step - categorical_accuracy: 0.8708 - student_loss: 0.3295 - distillation_loss: 6.6244e-04\n",
      "Epoch 31/50\n",
      "3710/3710 [==============================] - 30s 8ms/step - categorical_accuracy: 0.8708 - student_loss: 0.3285 - distillation_loss: 6.6081e-04\n",
      "Epoch 32/50\n",
      "3710/3710 [==============================] - 29s 8ms/step - categorical_accuracy: 0.8704 - student_loss: 0.3280 - distillation_loss: 6.5967e-04\n",
      "Epoch 33/50\n",
      "3710/3710 [==============================] - 29s 8ms/step - categorical_accuracy: 0.8691 - student_loss: 0.3313 - distillation_loss: 6.6853e-04\n",
      "Epoch 34/50\n",
      "3710/3710 [==============================] - 29s 8ms/step - categorical_accuracy: 0.8713 - student_loss: 0.3272 - distillation_loss: 6.5973e-04\n",
      "Epoch 35/50\n",
      "3710/3710 [==============================] - 29s 8ms/step - categorical_accuracy: 0.8704 - student_loss: 0.3286 - distillation_loss: 6.6107e-04\n",
      "Epoch 36/50\n",
      "3710/3710 [==============================] - 29s 8ms/step - categorical_accuracy: 0.8712 - student_loss: 0.3251 - distillation_loss: 6.5451e-04\n",
      "Epoch 37/50\n",
      "3710/3710 [==============================] - 30s 8ms/step - categorical_accuracy: 0.8713 - student_loss: 0.3259 - distillation_loss: 6.5674e-04\n",
      "Epoch 38/50\n",
      "3710/3710 [==============================] - 30s 8ms/step - categorical_accuracy: 0.8715 - student_loss: 0.3249 - distillation_loss: 6.5222e-04\n",
      "Epoch 39/50\n",
      "3710/3710 [==============================] - 29s 8ms/step - categorical_accuracy: 0.8719 - student_loss: 0.3248 - distillation_loss: 6.5460e-04\n",
      "Epoch 40/50\n",
      "3710/3710 [==============================] - 29s 8ms/step - categorical_accuracy: 0.8720 - student_loss: 0.3240 - distillation_loss: 6.5378e-04\n",
      "Epoch 41/50\n",
      "3710/3710 [==============================] - 30s 8ms/step - categorical_accuracy: 0.8726 - student_loss: 0.3214 - distillation_loss: 6.4742e-04\n",
      "Epoch 42/50\n",
      "3710/3710 [==============================] - 30s 8ms/step - categorical_accuracy: 0.8724 - student_loss: 0.3232 - distillation_loss: 6.5017e-04\n",
      "Epoch 43/50\n",
      "3710/3710 [==============================] - 30s 8ms/step - categorical_accuracy: 0.8733 - student_loss: 0.3223 - distillation_loss: 6.4930e-04\n",
      "Epoch 44/50\n",
      "3710/3710 [==============================] - 30s 8ms/step - categorical_accuracy: 0.8724 - student_loss: 0.3237 - distillation_loss: 6.5187e-04\n",
      "Epoch 45/50\n",
      "3710/3710 [==============================] - 30s 8ms/step - categorical_accuracy: 0.8746 - student_loss: 0.3203 - distillation_loss: 6.4283e-04\n",
      "Epoch 46/50\n",
      "3710/3710 [==============================] - 29s 8ms/step - categorical_accuracy: 0.8732 - student_loss: 0.3228 - distillation_loss: 6.4805e-04\n",
      "Epoch 47/50\n",
      "3710/3710 [==============================] - 30s 8ms/step - categorical_accuracy: 0.8727 - student_loss: 0.3214 - distillation_loss: 6.5026e-04\n",
      "Epoch 48/50\n",
      "3710/3710 [==============================] - 29s 8ms/step - categorical_accuracy: 0.8738 - student_loss: 0.3211 - distillation_loss: 6.4876e-04\n",
      "Epoch 49/50\n",
      "3710/3710 [==============================] - 29s 8ms/step - categorical_accuracy: 0.8744 - student_loss: 0.3208 - distillation_loss: 6.4466e-04\n",
      "Epoch 50/50\n",
      "3710/3710 [==============================] - 30s 8ms/step - categorical_accuracy: 0.8729 - student_loss: 0.3223 - distillation_loss: 6.4966e-04\n"
     ]
    },
    {
     "data": {
      "text/plain": [
       "<keras.callbacks.History at 0x7fefd973a250>"
      ]
     },
     "execution_count": 39,
     "metadata": {},
     "output_type": "execute_result"
    }
   ],
   "source": [
    "# Initialize and compile distiller\n",
    "distiller = Distiller(student=student_model, teacher=teacher_model)\n",
    "distiller.compile(\n",
    "    optimizer=keras.optimizers.Adam(),\n",
    "    metrics=[keras.metrics.CategoricalAccuracy()],\n",
    "    student_loss_fn=keras.losses.CategoricalCrossentropy(from_logits=True),\n",
    "    distillation_loss_fn=keras.losses.KLDivergence(),\n",
    "    alpha=0.9,\n",
    "    temperature=5,\n",
    ")\n",
    "\n",
    "# Distill teacher to student\n",
    "distiller.fit(x_dt_rshp, y_dt_, epochs=50)\n",
    "\n",
    "# Evaluate student on test dataset\n",
    "#distiller.evaluate(x_test, y_test)"
   ]
  },
  {
   "cell_type": "code",
   "execution_count": null,
   "metadata": {
    "colab": {
     "base_uri": "https://localhost:8080/"
    },
    "id": "Lsdid47DA73P",
    "outputId": "70f92bc7-9c50-41d9-c072-907725c526da"
   },
   "outputs": [
    {
     "name": "stdout",
     "output_type": "stream",
     "text": [
      "16/16 [==============================] - 0s 4ms/step - categorical_accuracy: 0.8266 - student_loss: 0.5402\n"
     ]
    }
   ],
   "source": [
    "accuracy_distiller = distiller.evaluate(x_test_dt_rshp, y_test_dt_)"
   ]
  },
  {
   "cell_type": "code",
   "execution_count": null,
   "metadata": {
    "id": "2zKucfD-qVia"
   },
   "outputs": [],
   "source": [
    "preds_student_model = student_model.predict(x_test_dt_rshp)"
   ]
  },
  {
   "cell_type": "code",
   "execution_count": null,
   "metadata": {
    "id": "Sf3HHMgYqlwE"
   },
   "outputs": [],
   "source": [
    "preds_student_model_fin=np.argmax(preds_student_model,axis=1)"
   ]
  },
  {
   "cell_type": "code",
   "execution_count": null,
   "metadata": {
    "colab": {
     "base_uri": "https://localhost:8080/"
    },
    "id": "HvzbgPq5dmTN",
    "outputId": "b9569995-40c8-4386-81c2-0c4e084bcda8"
   },
   "outputs": [
    {
     "data": {
      "text/plain": [
       "array([0.95238095, 0.1372549 , 0.97660819, 0.58695652, 0.81666667])"
      ]
     },
     "execution_count": 43,
     "metadata": {},
     "output_type": "execute_result"
    }
   ],
   "source": [
    "from sklearn.metrics import confusion_matrix\n",
    "matrix_student = confusion_matrix(y_test_dt, preds_student_model_fin)\n",
    "matrix_student.diagonal()/matrix_student.sum(axis=1)"
   ]
  },
  {
   "cell_type": "code",
   "execution_count": null,
   "metadata": {
    "colab": {
     "base_uri": "https://localhost:8080/"
    },
    "id": "SntSP4rfdmdI",
    "outputId": "6ac06029-42f4-4e8b-caac-eeb7e55c24ff"
   },
   "outputs": [
    {
     "name": "stdout",
     "output_type": "stream",
     "text": [
      "Precision: 0.7875015601769425\n",
      "Recall: 0.6939734459764073\n",
      "F1 score: 0.7131405916073124\n",
      "              precision    recall  f1-score   support\n",
      "\n",
      "           0   0.883978  0.952381  0.916905       168\n",
      "           1   0.437500  0.137255  0.208955        51\n",
      "           2   0.776744  0.976608  0.865285       171\n",
      "           3   0.964286  0.586957  0.729730        46\n",
      "           4   0.875000  0.816667  0.844828        60\n",
      "\n",
      "    accuracy                       0.826613       496\n",
      "   macro avg   0.787502  0.693973  0.713141       496\n",
      "weighted avg   0.807462  0.826613  0.800237       496\n",
      "\n"
     ]
    }
   ],
   "source": [
    "#y_sub_dt\n",
    "from sklearn.metrics import precision_score, recall_score\n",
    "f1_student = f1_score(y_test_dt, preds_student_model_fin, average=\"macro\")\n",
    "prec_student = precision_score(y_test_dt, preds_student_model_fin, average=\"macro\")\n",
    "recall_student = recall_score(y_test_dt, preds_student_model_fin, average=\"macro\")\n",
    "if VBS:\n",
    "    print(\"Precision: {}\".format(prec_student)) \n",
    "    print(\"Recall: {}\".format(recall_student))\n",
    "    print(\"F1 score: {}\".format(f1_student))\n",
    "\n",
    "    report_student = classification_report(y_test_dt, preds_student_model_fin, digits=6)\n",
    "    print(report_student)"
   ]
  },
  {
   "cell_type": "code",
   "execution_count": null,
   "metadata": {
    "colab": {
     "base_uri": "https://localhost:8080/"
    },
    "id": "bpMto-Lv6v9E",
    "outputId": "e3455588-6fa5-49c8-dcb7-6210a83f7e7f"
   },
   "outputs": [
    {
     "data": {
      "text/plain": [
       "array([0.95238095, 0.1372549 , 0.97660819, 0.58695652, 0.81666667])"
      ]
     },
     "execution_count": 45,
     "metadata": {},
     "output_type": "execute_result"
    }
   ],
   "source": [
    "from sklearn.metrics import confusion_matrix\n",
    "matrix = confusion_matrix(y_test_dt, preds_student_model_fin)\n",
    "matrix.diagonal()/matrix.sum(axis=1)"
   ]
  },
  {
   "cell_type": "code",
   "execution_count": null,
   "metadata": {
    "id": "POVa0zd76wK4"
   },
   "outputs": [],
   "source": [
    "cm = matrix.astype('float') / matrix.sum(axis=1)[:, np.newaxis]"
   ]
  },
  {
   "cell_type": "code",
   "execution_count": null,
   "metadata": {
    "id": "SCuDFU5AH7wg"
   },
   "outputs": [],
   "source": [
    "#50 epochs teacher model\n",
    "\n",
    "#alpha=0.9, temp=4\n",
    "\n",
    "#50 epochs: 82.41\n",
    "#60 epochs: 84.53\n",
    "#70 epochs: 84.04\n",
    "\n",
    "#alpha=0.9, temp=5\n",
    "\n",
    "#50 epochs: 81.43\n",
    "#60 epochs: 83.88\n",
    "#70 epochs: \n",
    "\n",
    "#alpha=0.9, temp=3\n",
    "\n",
    "#50 epochs: 83.88\n",
    "#60 epochs: 83.06\n"
   ]
  },
  {
   "cell_type": "markdown",
   "metadata": {
    "id": "rmUSBAohtn5W"
   },
   "source": [
    "KD using the 50 epochs teacher model"
   ]
  },
  {
   "cell_type": "code",
   "execution_count": null,
   "metadata": {
    "colab": {
     "base_uri": "https://localhost:8080/"
    },
    "id": "wxnszceNamNM",
    "outputId": "6c7a6216-229d-4f86-8e7d-f09da520bb92"
   },
   "outputs": [
    {
     "name": "stdout",
     "output_type": "stream",
     "text": [
      "Model: \"model\"\n",
      "__________________________________________________________________________________________________\n",
      " Layer (type)                   Output Shape         Param #     Connected to                     \n",
      "==================================================================================================\n",
      " inLayer (InputLayer)           [(None, 3000, 1)]    0           []                               \n",
      "                                                                                                  \n",
      " fConv1 (Conv1D)                (None, 500, 64)      3264        ['inLayer[0][0]']                \n",
      "                                                                                                  \n",
      " cConv1 (Conv1D)                (None, 60, 32)       12832       ['inLayer[0][0]']                \n",
      "                                                                                                  \n",
      " fMaxP1 (MaxPooling1D)          (None, 62, 64)       0           ['fConv1[0][0]']                 \n",
      "                                                                                                  \n",
      " cMaxP1 (MaxPooling1D)          (None, 15, 32)       0           ['cConv1[0][0]']                 \n",
      "                                                                                                  \n",
      " fDrop1 (Dropout)               (None, 62, 64)       0           ['fMaxP1[0][0]']                 \n",
      "                                                                                                  \n",
      " cDrop1 (Dropout)               (None, 15, 32)       0           ['cMaxP1[0][0]']                 \n",
      "                                                                                                  \n",
      " fConv2 (Conv1D)                (None, 62, 128)      65664       ['fDrop1[0][0]']                 \n",
      "                                                                                                  \n",
      " cConv2 (Conv1D)                (None, 15, 128)      24704       ['cDrop1[0][0]']                 \n",
      "                                                                                                  \n",
      " fConv3 (Conv1D)                (None, 62, 128)      131200      ['fConv2[0][0]']                 \n",
      "                                                                                                  \n",
      " cConv3 (Conv1D)                (None, 15, 128)      98432       ['cConv2[0][0]']                 \n",
      "                                                                                                  \n",
      " fConv4 (Conv1D)                (None, 62, 128)      131200      ['fConv3[0][0]']                 \n",
      "                                                                                                  \n",
      " cConv4 (Conv1D)                (None, 15, 128)      98432       ['cConv3[0][0]']                 \n",
      "                                                                                                  \n",
      " fMaxP2 (MaxPooling1D)          (None, 15, 128)      0           ['fConv4[0][0]']                 \n",
      "                                                                                                  \n",
      " cMaxP2 (MaxPooling1D)          (None, 7, 128)       0           ['cConv4[0][0]']                 \n",
      "                                                                                                  \n",
      " fFlat1 (Flatten)               (None, 1920)         0           ['fMaxP2[0][0]']                 \n",
      "                                                                                                  \n",
      " cFlat1 (Flatten)               (None, 896)          0           ['cMaxP2[0][0]']                 \n",
      "                                                                                                  \n",
      " merge_1 (Concatenate)          (None, 2816)         0           ['fFlat1[0][0]',                 \n",
      "                                                                  'cFlat1[0][0]']                 \n",
      "                                                                                                  \n",
      " mDrop1 (Dropout)               (None, 2816)         0           ['merge_1[0][0]']                \n",
      "                                                                                                  \n",
      " reshape1 (Reshape)             (None, 1, 2816)      0           ['mDrop1[0][0]']                 \n",
      "                                                                                                  \n",
      " lstm (LSTM)                    (None, 1, 64)        737536      ['reshape1[0][0]']               \n",
      "                                                                                                  \n",
      " lstm_1 (LSTM)                  (None, 64)           33024       ['lstm[0][0]']                   \n",
      "                                                                                                  \n",
      " outLayer (Dense)               (None, 5)            325         ['lstm_1[0][0]']                 \n",
      "                                                                                                  \n",
      "==================================================================================================\n",
      "Total params: 1,336,613\n",
      "Trainable params: 1,336,613\n",
      "Non-trainable params: 0\n",
      "__________________________________________________________________________________________________\n"
     ]
    }
   ],
   "source": [
    "teacher_model=model_b(verbose=VBS) #50 epochs teacher model"
   ]
  },
  {
   "cell_type": "code",
   "execution_count": null,
   "metadata": {
    "colab": {
     "base_uri": "https://localhost:8080/"
    },
    "id": "Ed2C6mXutyxL",
    "outputId": "e3b6dac2-ac26-4ff0-844d-6d6500a37ef4"
   },
   "outputs": [
    {
     "data": {
      "text/plain": [
       "<tensorflow.python.training.tracking.util.CheckpointLoadStatus at 0x7f8a42777550>"
      ]
     },
     "execution_count": 28,
     "metadata": {},
     "output_type": "execute_result"
    }
   ],
   "source": [
    "teacher_checkpt_path=\"/content/gdrive/My Drive/physionet/ensemble/tri_training/50_epochs_keras_way/teacher_50_epochs_keras_way_wts.ckpt\"\n",
    "teacher_model.load_weights(teacher_checkpt_path)"
   ]
  },
  {
   "cell_type": "code",
   "execution_count": null,
   "metadata": {
    "colab": {
     "base_uri": "https://localhost:8080/"
    },
    "id": "55r28wr64zd0",
    "outputId": "2f9b5077-2ca9-4540-9c71-21e0f67c43af"
   },
   "outputs": [
    {
     "data": {
      "text/plain": [
       "<tensorflow.python.training.tracking.util.CheckpointLoadStatus at 0x7f4922ea3750>"
      ]
     },
     "execution_count": 27,
     "metadata": {},
     "output_type": "execute_result"
    }
   ],
   "source": [
    "teacher_checkpt_path=\"/content/gdrive/My Drive/physionet/ensemble/tri_training/50_epochs_keras_way/teacher_50_epochs_keras_way_wts_trial_3.ckpt\"\n",
    "teacher_model.load_weights(teacher_checkpt_path)"
   ]
  },
  {
   "cell_type": "code",
   "execution_count": null,
   "metadata": {
    "id": "2QykIBjot69x"
   },
   "outputs": [],
   "source": [
    "teacher_model.compile(optimizer=optimizer, loss='categorical_crossentropy', metrics=['accuracy'])"
   ]
  },
  {
   "cell_type": "code",
   "execution_count": null,
   "metadata": {
    "colab": {
     "base_uri": "https://localhost:8080/"
    },
    "id": "Sryj_Oyvt7Cm",
    "outputId": "13781be2-05f0-4cd6-ecdf-d3bd38e4e38f"
   },
   "outputs": [
    {
     "name": "stdout",
     "output_type": "stream",
     "text": [
      "16/16 [==============================] - 12s 9ms/step - loss: 0.8298 - accuracy: 0.8266\n"
     ]
    }
   ],
   "source": [
    "accuracy_teacher_model = teacher_model.evaluate(x_test_dt_rshp, y_test_dt_)"
   ]
  },
  {
   "cell_type": "code",
   "execution_count": null,
   "metadata": {
    "id": "XqkjkQ7JR_GE"
   },
   "outputs": [],
   "source": [
    "preds_teacher_model = teacher_model.predict(x_test_dt_rshp)"
   ]
  },
  {
   "cell_type": "code",
   "execution_count": null,
   "metadata": {
    "id": "Ului6TkMR_Kt"
   },
   "outputs": [],
   "source": [
    "preds_teacher_model_fin=np.argmax(preds_teacher_model,axis=1)"
   ]
  },
  {
   "cell_type": "code",
   "execution_count": null,
   "metadata": {
    "colab": {
     "base_uri": "https://localhost:8080/"
    },
    "id": "Dn41FJl9SOdT",
    "outputId": "45969c31-bfb5-40b6-9ccf-6a32d44ed966"
   },
   "outputs": [
    {
     "data": {
      "text/plain": [
       "array([0.80952381, 0.50980392, 0.97076023, 0.63043478, 0.88333333])"
      ]
     },
     "execution_count": 32,
     "metadata": {},
     "output_type": "execute_result"
    }
   ],
   "source": [
    "from sklearn.metrics import confusion_matrix\n",
    "matrix_teacher = confusion_matrix(y_test_dt, preds_teacher_model_fin)\n",
    "matrix_teacher.diagonal()/matrix_teacher.sum(axis=1)"
   ]
  },
  {
   "cell_type": "code",
   "execution_count": null,
   "metadata": {
    "colab": {
     "base_uri": "https://localhost:8080/"
    },
    "id": "7Ej_QKHjTDEM",
    "outputId": "08980c63-b330-4c77-d1be-afd92b75fd14"
   },
   "outputs": [
    {
     "name": "stdout",
     "output_type": "stream",
     "text": [
      "Precision: 0.8169118068268141\n",
      "Recall: 0.7607712161905189\n",
      "F1 score: 0.7783872000830183\n",
      "              precision    recall  f1-score   support\n",
      "\n",
      "           0   0.957746  0.809524  0.877419       168\n",
      "           1   0.448276  0.509804  0.477064        51\n",
      "           2   0.798077  0.970760  0.875989       171\n",
      "           3   0.966667  0.630435  0.763158        46\n",
      "           4   0.913793  0.883333  0.898305        60\n",
      "\n",
      "    accuracy                       0.826613       496\n",
      "   macro avg   0.816912  0.760771  0.778387       496\n",
      "weighted avg   0.845824  0.826613  0.827691       496\n",
      "\n"
     ]
    }
   ],
   "source": [
    "#y_sub_dt\n",
    "from sklearn.metrics import precision_score, recall_score\n",
    "f1_teacher = f1_score(y_test_dt, preds_teacher_model_fin, average=\"macro\")\n",
    "prec_teacher = precision_score(y_test_dt, preds_teacher_model_fin, average=\"macro\")\n",
    "recall_teacher = recall_score(y_test_dt, preds_teacher_model_fin, average=\"macro\")\n",
    "if VBS:\n",
    "    print(\"Precision: {}\".format(prec_teacher)) \n",
    "    print(\"Recall: {}\".format(recall_teacher))\n",
    "    print(\"F1 score: {}\".format(f1_teacher))\n",
    "\n",
    "    report_teacher = classification_report(y_test_dt, preds_teacher_model_fin, digits=6)\n",
    "    print(report_teacher)"
   ]
  },
  {
   "cell_type": "code",
   "execution_count": null,
   "metadata": {
    "id": "pcpwwoWzuNrH"
   },
   "outputs": [],
   "source": [
    "#student model\n",
    "def get_model_1d_cnn():\n",
    "    nclass = 5\n",
    "    inp = Input(shape=(3000, 1))\n",
    "    img_1 = Conv1D(4, kernel_size=6, activation=activations.relu, strides=1, padding=\"valid\")(inp)\n",
    "    #img_1 = Conv1D(128, kernel_size=5, activation=activations.relu, strides=1, padding=\"valid\")(img_1)\n",
    "    img_1 = MaxPooling1D(pool_size=2)(img_1)\n",
    "    #img_1 = SpatialDropout1D(rate=0.2)(img_1)\n",
    "    img_1 = Conv1D(4, kernel_size=5, activation=activations.relu, strides=1, padding=\"valid\")(img_1)\n",
    "    #img_1 = Conv1D(256, kernel_size=7, activation=activations.relu, strides=1, padding=\"valid\")(img_1)\n",
    "    img_1 = MaxPooling1D(pool_size=2)(img_1)\n",
    "    #img_1 = SpatialDropout1D(rate=0.01)(img_1)\n",
    "    img_1 = Conv1D(10, kernel_size=4, activation=activations.relu, strides=1, padding=\"valid\")(img_1)\n",
    "    #img_1 = Conv1D(64, kernel_size=4, activation=activations.relu, strides=1, padding=\"valid\")(img_1)\n",
    "    img_1 = MaxPooling1D(pool_size=2)(img_1)\n",
    "    #img_1 = SpatialDropout1D(rate=0.01)(img_1)\n",
    "    img_1 = Conv1D(10, kernel_size=4, activation=activations.relu, strides=1, padding=\"valid\")(img_1)\n",
    "    img_1 = MaxPooling1D(pool_size=2)(img_1)\n",
    "    #img_1 = Conv1D(64, kernel_size=6, activation=activations.relu, strides=1, padding=\"valid\")(img_1)\n",
    "    #img_1 = MaxPooling1D(pool_size=2)(img_1)\n",
    "    img_1 = Flatten()(img_1)\n",
    "\n",
    "    \n",
    "    dense_1 = Dropout(rate=0.5)(img_1)\n",
    "    #dense_1 = Dropout(rate=0.05)(Dense(64, activation=activations.relu, name=\"dense_2\")(dense_1))\n",
    "    dense_1 = Dense(nclass, activation=activations.softmax)(dense_1)\n",
    "\n",
    "    model = Model(inputs=inp, outputs=dense_1)\n",
    "    opt = Adam(0.001)\n",
    "\n",
    "    model.compile(optimizer=opt, loss='categorical_crossentropy', metrics=['acc'])\n",
    "    model.summary()\n",
    "    return model"
   ]
  },
  {
   "cell_type": "code",
   "execution_count": null,
   "metadata": {
    "colab": {
     "base_uri": "https://localhost:8080/"
    },
    "id": "v3YxoKmguTdw",
    "outputId": "c4150c11-a6a4-43aa-abb4-4e1e89143f11"
   },
   "outputs": [
    {
     "name": "stdout",
     "output_type": "stream",
     "text": [
      "Model: \"model_1\"\n",
      "_________________________________________________________________\n",
      " Layer (type)                Output Shape              Param #   \n",
      "=================================================================\n",
      " input_2 (InputLayer)        [(None, 3000, 1)]         0         \n",
      "                                                                 \n",
      " conv1d_1 (Conv1D)           (None, 2995, 4)           28        \n",
      "                                                                 \n",
      " max_pooling1d (MaxPooling1D  (None, 1497, 4)          0         \n",
      " )                                                               \n",
      "                                                                 \n",
      " conv1d_2 (Conv1D)           (None, 1493, 4)           84        \n",
      "                                                                 \n",
      " max_pooling1d_1 (MaxPooling  (None, 746, 4)           0         \n",
      " 1D)                                                             \n",
      "                                                                 \n",
      " conv1d_3 (Conv1D)           (None, 743, 10)           170       \n",
      "                                                                 \n",
      " max_pooling1d_2 (MaxPooling  (None, 371, 10)          0         \n",
      " 1D)                                                             \n",
      "                                                                 \n",
      " conv1d_4 (Conv1D)           (None, 368, 10)           410       \n",
      "                                                                 \n",
      " max_pooling1d_3 (MaxPooling  (None, 184, 10)          0         \n",
      " 1D)                                                             \n",
      "                                                                 \n",
      " flatten (Flatten)           (None, 1840)              0         \n",
      "                                                                 \n",
      " dropout (Dropout)           (None, 1840)              0         \n",
      "                                                                 \n",
      " dense (Dense)               (None, 5)                 9205      \n",
      "                                                                 \n",
      "=================================================================\n",
      "Total params: 9,897\n",
      "Trainable params: 9,897\n",
      "Non-trainable params: 0\n",
      "_________________________________________________________________\n"
     ]
    }
   ],
   "source": [
    "#student_model=get_model_cnn()\n",
    "student_model=get_model_1d_cnn()"
   ]
  },
  {
   "cell_type": "code",
   "execution_count": null,
   "metadata": {
    "id": "dXZ0ZAgwuThZ"
   },
   "outputs": [],
   "source": [
    "class Distiller(keras.Model):\n",
    "    def __init__(self, student, teacher):\n",
    "        super(Distiller, self).__init__()\n",
    "        self.teacher = teacher\n",
    "        self.student = student\n",
    "\n",
    "    def compile(\n",
    "        self,\n",
    "        optimizer,\n",
    "        metrics,\n",
    "        student_loss_fn,\n",
    "        distillation_loss_fn,\n",
    "        alpha=0.1,\n",
    "        temperature=3,\n",
    "    ):\n",
    "        \"\"\" Configure the distiller.\n",
    "\n",
    "        Args:\n",
    "            optimizer: Keras optimizer for the student weights\n",
    "            metrics: Keras metrics for evaluation\n",
    "            student_loss_fn: Loss function of difference between student\n",
    "                predictions and ground-truth\n",
    "            distillation_loss_fn: Loss function of difference between soft\n",
    "                student predictions and soft teacher predictions\n",
    "            alpha: weight to student_loss_fn and 1-alpha to distillation_loss_fn\n",
    "            temperature: Temperature for softening probability distributions.\n",
    "                Larger temperature gives softer distributions.\n",
    "        \"\"\"\n",
    "        super(Distiller, self).compile(optimizer=optimizer, metrics=metrics)\n",
    "        self.student_loss_fn = student_loss_fn\n",
    "        self.distillation_loss_fn = distillation_loss_fn\n",
    "        self.alpha = alpha\n",
    "        self.temperature = temperature\n",
    "\n",
    "    def train_step(self, data):\n",
    "        # Unpack data\n",
    "        x, y = data\n",
    "\n",
    "        # Forward pass of teacher\n",
    "        teacher_predictions = self.teacher(x, training=False)\n",
    "\n",
    "        with tf.GradientTape() as tape:\n",
    "            # Forward pass of student\n",
    "            student_predictions = self.student(x, training=True)\n",
    "\n",
    "            # Compute losses\n",
    "            student_loss = self.student_loss_fn(y, student_predictions)\n",
    "            distillation_loss = self.distillation_loss_fn(\n",
    "                tf.nn.softmax(teacher_predictions / self.temperature, axis=1),\n",
    "                tf.nn.softmax(student_predictions / self.temperature, axis=1),\n",
    "            )\n",
    "            loss = self.alpha * student_loss + (1 - self.alpha) * distillation_loss\n",
    "\n",
    "        # Compute gradients\n",
    "        trainable_vars = self.student.trainable_variables\n",
    "        gradients = tape.gradient(loss, trainable_vars)\n",
    "\n",
    "        # Update weights\n",
    "        self.optimizer.apply_gradients(zip(gradients, trainable_vars))\n",
    "\n",
    "        # Update the metrics configured in `compile()`.\n",
    "        self.compiled_metrics.update_state(y, student_predictions)\n",
    "\n",
    "        # Return a dict of performance\n",
    "        results = {m.name: m.result() for m in self.metrics}\n",
    "        results.update(\n",
    "            {\"student_loss\": student_loss, \"distillation_loss\": distillation_loss}\n",
    "        )\n",
    "        return results\n",
    "\n",
    "    def test_step(self, data):\n",
    "        # Unpack the data\n",
    "        x, y = data\n",
    "\n",
    "        # Compute predictions\n",
    "        y_prediction = self.student(x, training=False)\n",
    "\n",
    "        # Calculate the loss\n",
    "        student_loss = self.student_loss_fn(y, y_prediction)\n",
    "\n",
    "        # Update the metrics.\n",
    "        self.compiled_metrics.update_state(y, y_prediction)\n",
    "\n",
    "        # Return a dict of performance\n",
    "        results = {m.name: m.result() for m in self.metrics}\n",
    "        results.update({\"student_loss\": student_loss})\n",
    "        return results\n"
   ]
  },
  {
   "cell_type": "code",
   "execution_count": null,
   "metadata": {
    "id": "GL1SBvbzucD2"
   },
   "outputs": [],
   "source": [
    "import tensorflow as tf\n",
    "from tensorflow import keras\n",
    "from tensorflow.keras import layers\n",
    "import numpy as np\n"
   ]
  },
  {
   "cell_type": "code",
   "execution_count": null,
   "metadata": {
    "colab": {
     "base_uri": "https://localhost:8080/"
    },
    "id": "Y49ue7-buj2e",
    "outputId": "c9bf768b-6a8b-4cfe-a4e9-276567ecbd05"
   },
   "outputs": [
    {
     "name": "stdout",
     "output_type": "stream",
     "text": [
      "Epoch 1/60\n",
      "3710/3710 [==============================] - 34s 8ms/step - categorical_accuracy: 0.6859 - student_loss: 0.7922 - distillation_loss: 0.0026\n",
      "Epoch 2/60\n",
      "3710/3710 [==============================] - 29s 8ms/step - categorical_accuracy: 0.7710 - student_loss: 0.5497 - distillation_loss: 0.0019\n",
      "Epoch 3/60\n",
      "3710/3710 [==============================] - 29s 8ms/step - categorical_accuracy: 0.7884 - student_loss: 0.5091 - distillation_loss: 0.0018\n",
      "Epoch 4/60\n",
      "3710/3710 [==============================] - 30s 8ms/step - categorical_accuracy: 0.8045 - student_loss: 0.4782 - distillation_loss: 0.0016\n",
      "Epoch 5/60\n",
      "3710/3710 [==============================] - 30s 8ms/step - categorical_accuracy: 0.8172 - student_loss: 0.4492 - distillation_loss: 0.0015\n",
      "Epoch 6/60\n",
      "3710/3710 [==============================] - 30s 8ms/step - categorical_accuracy: 0.8292 - student_loss: 0.4248 - distillation_loss: 0.0014\n",
      "Epoch 7/60\n",
      "3710/3710 [==============================] - 30s 8ms/step - categorical_accuracy: 0.8361 - student_loss: 0.4087 - distillation_loss: 0.0014\n",
      "Epoch 8/60\n",
      "3710/3710 [==============================] - 30s 8ms/step - categorical_accuracy: 0.8413 - student_loss: 0.3972 - distillation_loss: 0.0013\n",
      "Epoch 9/60\n",
      "3710/3710 [==============================] - 30s 8ms/step - categorical_accuracy: 0.8461 - student_loss: 0.3860 - distillation_loss: 0.0013\n",
      "Epoch 10/60\n",
      "3710/3710 [==============================] - 30s 8ms/step - categorical_accuracy: 0.8484 - student_loss: 0.3812 - distillation_loss: 0.0013\n",
      "Epoch 11/60\n",
      "3710/3710 [==============================] - 29s 8ms/step - categorical_accuracy: 0.8499 - student_loss: 0.3744 - distillation_loss: 0.0013\n",
      "Epoch 12/60\n",
      "3710/3710 [==============================] - 29s 8ms/step - categorical_accuracy: 0.8531 - student_loss: 0.3710 - distillation_loss: 0.0012\n",
      "Epoch 13/60\n",
      "3710/3710 [==============================] - 30s 8ms/step - categorical_accuracy: 0.8566 - student_loss: 0.3654 - distillation_loss: 0.0012\n",
      "Epoch 14/60\n",
      "3710/3710 [==============================] - 30s 8ms/step - categorical_accuracy: 0.8548 - student_loss: 0.3644 - distillation_loss: 0.0012\n",
      "Epoch 15/60\n",
      "3710/3710 [==============================] - 30s 8ms/step - categorical_accuracy: 0.8573 - student_loss: 0.3609 - distillation_loss: 0.0012\n",
      "Epoch 16/60\n",
      "3710/3710 [==============================] - 30s 8ms/step - categorical_accuracy: 0.8577 - student_loss: 0.3586 - distillation_loss: 0.0012\n",
      "Epoch 17/60\n",
      "3710/3710 [==============================] - 30s 8ms/step - categorical_accuracy: 0.8589 - student_loss: 0.3555 - distillation_loss: 0.0012\n",
      "Epoch 18/60\n",
      "3710/3710 [==============================] - 30s 8ms/step - categorical_accuracy: 0.8608 - student_loss: 0.3522 - distillation_loss: 0.0012\n",
      "Epoch 19/60\n",
      "3710/3710 [==============================] - 30s 8ms/step - categorical_accuracy: 0.8615 - student_loss: 0.3505 - distillation_loss: 0.0012\n",
      "Epoch 20/60\n",
      "3710/3710 [==============================] - 29s 8ms/step - categorical_accuracy: 0.8627 - student_loss: 0.3474 - distillation_loss: 0.0012\n",
      "Epoch 21/60\n",
      "3710/3710 [==============================] - 30s 8ms/step - categorical_accuracy: 0.8615 - student_loss: 0.3479 - distillation_loss: 0.0012\n",
      "Epoch 22/60\n",
      "3710/3710 [==============================] - 29s 8ms/step - categorical_accuracy: 0.8628 - student_loss: 0.3458 - distillation_loss: 0.0012\n",
      "Epoch 23/60\n",
      "3710/3710 [==============================] - 30s 8ms/step - categorical_accuracy: 0.8633 - student_loss: 0.3440 - distillation_loss: 0.0012\n",
      "Epoch 24/60\n",
      "3710/3710 [==============================] - 30s 8ms/step - categorical_accuracy: 0.8642 - student_loss: 0.3417 - distillation_loss: 0.0012\n",
      "Epoch 25/60\n",
      "3710/3710 [==============================] - 30s 8ms/step - categorical_accuracy: 0.8637 - student_loss: 0.3417 - distillation_loss: 0.0012\n",
      "Epoch 26/60\n",
      "3710/3710 [==============================] - 29s 8ms/step - categorical_accuracy: 0.8643 - student_loss: 0.3425 - distillation_loss: 0.0012\n",
      "Epoch 27/60\n",
      "3710/3710 [==============================] - 30s 8ms/step - categorical_accuracy: 0.8654 - student_loss: 0.3418 - distillation_loss: 0.0012\n",
      "Epoch 28/60\n",
      "3710/3710 [==============================] - 29s 8ms/step - categorical_accuracy: 0.8657 - student_loss: 0.3392 - distillation_loss: 0.0012\n",
      "Epoch 29/60\n",
      "3710/3710 [==============================] - 30s 8ms/step - categorical_accuracy: 0.8662 - student_loss: 0.3370 - distillation_loss: 0.0011\n",
      "Epoch 30/60\n",
      "3710/3710 [==============================] - 29s 8ms/step - categorical_accuracy: 0.8662 - student_loss: 0.3367 - distillation_loss: 0.0011\n",
      "Epoch 31/60\n",
      "3710/3710 [==============================] - 29s 8ms/step - categorical_accuracy: 0.8675 - student_loss: 0.3356 - distillation_loss: 0.0011\n",
      "Epoch 32/60\n",
      "3710/3710 [==============================] - 29s 8ms/step - categorical_accuracy: 0.8681 - student_loss: 0.3341 - distillation_loss: 0.0011\n",
      "Epoch 33/60\n",
      "3710/3710 [==============================] - 30s 8ms/step - categorical_accuracy: 0.8664 - student_loss: 0.3354 - distillation_loss: 0.0011\n",
      "Epoch 34/60\n",
      "3710/3710 [==============================] - 30s 8ms/step - categorical_accuracy: 0.8675 - student_loss: 0.3349 - distillation_loss: 0.0011\n",
      "Epoch 35/60\n",
      "3710/3710 [==============================] - 30s 8ms/step - categorical_accuracy: 0.8666 - student_loss: 0.3371 - distillation_loss: 0.0011\n",
      "Epoch 36/60\n",
      "3710/3710 [==============================] - 29s 8ms/step - categorical_accuracy: 0.8680 - student_loss: 0.3331 - distillation_loss: 0.0011\n",
      "Epoch 37/60\n",
      "3710/3710 [==============================] - 29s 8ms/step - categorical_accuracy: 0.8679 - student_loss: 0.3340 - distillation_loss: 0.0011\n",
      "Epoch 38/60\n",
      "3710/3710 [==============================] - 29s 8ms/step - categorical_accuracy: 0.8680 - student_loss: 0.3321 - distillation_loss: 0.0011\n",
      "Epoch 39/60\n",
      "3710/3710 [==============================] - 30s 8ms/step - categorical_accuracy: 0.8672 - student_loss: 0.3330 - distillation_loss: 0.0011\n",
      "Epoch 40/60\n",
      "3710/3710 [==============================] - 29s 8ms/step - categorical_accuracy: 0.8686 - student_loss: 0.3327 - distillation_loss: 0.0011\n",
      "Epoch 41/60\n",
      "3710/3710 [==============================] - 30s 8ms/step - categorical_accuracy: 0.8693 - student_loss: 0.3298 - distillation_loss: 0.0011\n",
      "Epoch 42/60\n",
      "3710/3710 [==============================] - 29s 8ms/step - categorical_accuracy: 0.8690 - student_loss: 0.3296 - distillation_loss: 0.0011\n",
      "Epoch 43/60\n",
      "3710/3710 [==============================] - 29s 8ms/step - categorical_accuracy: 0.8696 - student_loss: 0.3307 - distillation_loss: 0.0011\n",
      "Epoch 44/60\n",
      "3710/3710 [==============================] - 30s 8ms/step - categorical_accuracy: 0.8690 - student_loss: 0.3307 - distillation_loss: 0.0011\n",
      "Epoch 45/60\n",
      "3710/3710 [==============================] - 29s 8ms/step - categorical_accuracy: 0.8685 - student_loss: 0.3307 - distillation_loss: 0.0011\n",
      "Epoch 46/60\n",
      "3710/3710 [==============================] - 30s 8ms/step - categorical_accuracy: 0.8689 - student_loss: 0.3327 - distillation_loss: 0.0011\n",
      "Epoch 47/60\n",
      "3710/3710 [==============================] - 29s 8ms/step - categorical_accuracy: 0.8699 - student_loss: 0.3287 - distillation_loss: 0.0011\n",
      "Epoch 48/60\n",
      "3710/3710 [==============================] - 29s 8ms/step - categorical_accuracy: 0.8704 - student_loss: 0.3291 - distillation_loss: 0.0011\n",
      "Epoch 49/60\n",
      "3710/3710 [==============================] - 29s 8ms/step - categorical_accuracy: 0.8707 - student_loss: 0.3276 - distillation_loss: 0.0011\n",
      "Epoch 50/60\n",
      "3710/3710 [==============================] - 29s 8ms/step - categorical_accuracy: 0.8704 - student_loss: 0.3271 - distillation_loss: 0.0011\n",
      "Epoch 51/60\n",
      "3710/3710 [==============================] - 29s 8ms/step - categorical_accuracy: 0.8700 - student_loss: 0.3285 - distillation_loss: 0.0011\n",
      "Epoch 52/60\n",
      "3710/3710 [==============================] - 29s 8ms/step - categorical_accuracy: 0.8706 - student_loss: 0.3270 - distillation_loss: 0.0011\n",
      "Epoch 53/60\n",
      "3710/3710 [==============================] - 29s 8ms/step - categorical_accuracy: 0.8722 - student_loss: 0.3253 - distillation_loss: 0.0011\n",
      "Epoch 54/60\n",
      "3710/3710 [==============================] - 29s 8ms/step - categorical_accuracy: 0.8712 - student_loss: 0.3263 - distillation_loss: 0.0011\n",
      "Epoch 55/60\n",
      "3710/3710 [==============================] - 29s 8ms/step - categorical_accuracy: 0.8701 - student_loss: 0.3274 - distillation_loss: 0.0011\n",
      "Epoch 56/60\n",
      "3710/3710 [==============================] - 29s 8ms/step - categorical_accuracy: 0.8716 - student_loss: 0.3247 - distillation_loss: 0.0011\n",
      "Epoch 57/60\n",
      "3710/3710 [==============================] - 29s 8ms/step - categorical_accuracy: 0.8709 - student_loss: 0.3258 - distillation_loss: 0.0011\n",
      "Epoch 58/60\n",
      "3710/3710 [==============================] - 29s 8ms/step - categorical_accuracy: 0.8705 - student_loss: 0.3266 - distillation_loss: 0.0011\n",
      "Epoch 59/60\n",
      "3710/3710 [==============================] - 29s 8ms/step - categorical_accuracy: 0.8711 - student_loss: 0.3260 - distillation_loss: 0.0011\n",
      "Epoch 60/60\n",
      "3710/3710 [==============================] - 29s 8ms/step - categorical_accuracy: 0.8714 - student_loss: 0.3259 - distillation_loss: 0.0011\n"
     ]
    },
    {
     "data": {
      "text/plain": [
       "<keras.callbacks.History at 0x7f4918986c10>"
      ]
     },
     "execution_count": 41,
     "metadata": {},
     "output_type": "execute_result"
    }
   ],
   "source": [
    "# Initialize and compile distiller\n",
    "distiller = Distiller(student=student_model, teacher=teacher_model)\n",
    "distiller.compile(\n",
    "    optimizer=keras.optimizers.Adam(),\n",
    "    metrics=[keras.metrics.CategoricalAccuracy()],\n",
    "    student_loss_fn=keras.losses.CategoricalCrossentropy(from_logits=True),\n",
    "    distillation_loss_fn=keras.losses.KLDivergence(),\n",
    "    alpha=0.9,\n",
    "    temperature=4,\n",
    ")\n",
    "\n",
    "# Distill teacher to student\n",
    "distiller.fit(x_dt_rshp, y_dt_, epochs=60)\n",
    "\n",
    "# Evaluate student on test dataset\n",
    "#distiller.evaluate(x_test, y_test)"
   ]
  },
  {
   "cell_type": "code",
   "execution_count": null,
   "metadata": {
    "colab": {
     "base_uri": "https://localhost:8080/"
    },
    "id": "H_s3ir2F3M1R",
    "outputId": "71bbeae8-f123-4905-9bdc-3092692706c0"
   },
   "outputs": [
    {
     "name": "stdout",
     "output_type": "stream",
     "text": [
      "16/16 [==============================] - 0s 4ms/step - categorical_accuracy: 0.8165 - student_loss: 0.5412\n"
     ]
    }
   ],
   "source": [
    "accuracy_distiller = distiller.evaluate(x_test_dt_rshp, y_test_dt_)"
   ]
  },
  {
   "cell_type": "code",
   "execution_count": null,
   "metadata": {
    "id": "e4GYLAg1RWCc"
   },
   "outputs": [],
   "source": [
    "preds_student_model = student_model.predict(x_test_dt_rshp)"
   ]
  },
  {
   "cell_type": "code",
   "execution_count": null,
   "metadata": {
    "id": "pJ54FuZ8RgFD"
   },
   "outputs": [],
   "source": [
    "preds_student_model_fin=np.argmax(preds_student_model,axis=1)"
   ]
  },
  {
   "cell_type": "code",
   "execution_count": null,
   "metadata": {
    "colab": {
     "base_uri": "https://localhost:8080/"
    },
    "id": "BGZjPsB6Rh0r",
    "outputId": "bc86d27d-b9ec-4758-9f2d-f98a27a6ff9e"
   },
   "outputs": [
    {
     "data": {
      "text/plain": [
       "array([0.92261905, 0.19607843, 0.95906433, 0.65217391, 0.76666667])"
      ]
     },
     "execution_count": 45,
     "metadata": {},
     "output_type": "execute_result"
    }
   ],
   "source": [
    "from sklearn.metrics import confusion_matrix\n",
    "matrix_student = confusion_matrix(y_test_dt, preds_student_model_fin)\n",
    "matrix_student.diagonal()/matrix_student.sum(axis=1)"
   ]
  },
  {
   "cell_type": "code",
   "execution_count": null,
   "metadata": {
    "colab": {
     "base_uri": "https://localhost:8080/"
    },
    "id": "l-u77dldRpw1",
    "outputId": "b9b23c32-6abe-4313-8eb7-51e1a55c1a00"
   },
   "outputs": [
    {
     "name": "stdout",
     "output_type": "stream",
     "text": [
      "Precision: 0.7703115434207872\n",
      "Recall: 0.6993204772374243\n",
      "F1 score: 0.7218445361361118\n",
      "              precision    recall  f1-score   support\n",
      "\n",
      "           0   0.911765  0.922619  0.917160       168\n",
      "           1   0.384615  0.196078  0.259740        51\n",
      "           2   0.759259  0.959064  0.847545       171\n",
      "           3   0.857143  0.652174  0.740741        46\n",
      "           4   0.938776  0.766667  0.844037        60\n",
      "\n",
      "    accuracy                       0.816532       496\n",
      "   macro avg   0.770312  0.699320  0.721845       496\n",
      "weighted avg   0.803186  0.816532  0.800355       496\n",
      "\n"
     ]
    }
   ],
   "source": [
    "#y_sub_dt\n",
    "from sklearn.metrics import precision_score, recall_score\n",
    "f1_student = f1_score(y_test_dt, preds_student_model_fin, average=\"macro\")\n",
    "prec_student = precision_score(y_test_dt, preds_student_model_fin, average=\"macro\")\n",
    "recall_student = recall_score(y_test_dt, preds_student_model_fin, average=\"macro\")\n",
    "if VBS:\n",
    "    print(\"Precision: {}\".format(prec_student)) \n",
    "    print(\"Recall: {}\".format(recall_student))\n",
    "    print(\"F1 score: {}\".format(f1_student))\n",
    "\n",
    "    report_student = classification_report(y_test_dt, preds_student_model_fin, digits=6)\n",
    "    print(report_student)"
   ]
  },
  {
   "cell_type": "code",
   "execution_count": null,
   "metadata": {
    "id": "rXihAsxjtK78"
   },
   "outputs": [],
   "source": [
    "#60 epochs teacher"
   ]
  },
  {
   "cell_type": "code",
   "execution_count": null,
   "metadata": {
    "colab": {
     "base_uri": "https://localhost:8080/"
    },
    "id": "xnz3v2oHtK-c",
    "outputId": "2d92a19c-3ca8-40da-f306-54cb074713cd"
   },
   "outputs": [
    {
     "name": "stdout",
     "output_type": "stream",
     "text": [
      "Model: \"model\"\n",
      "__________________________________________________________________________________________________\n",
      " Layer (type)                   Output Shape         Param #     Connected to                     \n",
      "==================================================================================================\n",
      " inLayer (InputLayer)           [(None, 3000, 1)]    0           []                               \n",
      "                                                                                                  \n",
      " fConv1 (Conv1D)                (None, 500, 64)      3264        ['inLayer[0][0]']                \n",
      "                                                                                                  \n",
      " cConv1 (Conv1D)                (None, 60, 32)       12832       ['inLayer[0][0]']                \n",
      "                                                                                                  \n",
      " fMaxP1 (MaxPooling1D)          (None, 62, 64)       0           ['fConv1[0][0]']                 \n",
      "                                                                                                  \n",
      " cMaxP1 (MaxPooling1D)          (None, 15, 32)       0           ['cConv1[0][0]']                 \n",
      "                                                                                                  \n",
      " fDrop1 (Dropout)               (None, 62, 64)       0           ['fMaxP1[0][0]']                 \n",
      "                                                                                                  \n",
      " cDrop1 (Dropout)               (None, 15, 32)       0           ['cMaxP1[0][0]']                 \n",
      "                                                                                                  \n",
      " fConv2 (Conv1D)                (None, 62, 128)      65664       ['fDrop1[0][0]']                 \n",
      "                                                                                                  \n",
      " cConv2 (Conv1D)                (None, 15, 128)      24704       ['cDrop1[0][0]']                 \n",
      "                                                                                                  \n",
      " fConv3 (Conv1D)                (None, 62, 128)      131200      ['fConv2[0][0]']                 \n",
      "                                                                                                  \n",
      " cConv3 (Conv1D)                (None, 15, 128)      98432       ['cConv2[0][0]']                 \n",
      "                                                                                                  \n",
      " fConv4 (Conv1D)                (None, 62, 128)      131200      ['fConv3[0][0]']                 \n",
      "                                                                                                  \n",
      " cConv4 (Conv1D)                (None, 15, 128)      98432       ['cConv3[0][0]']                 \n",
      "                                                                                                  \n",
      " fMaxP2 (MaxPooling1D)          (None, 15, 128)      0           ['fConv4[0][0]']                 \n",
      "                                                                                                  \n",
      " cMaxP2 (MaxPooling1D)          (None, 7, 128)       0           ['cConv4[0][0]']                 \n",
      "                                                                                                  \n",
      " fFlat1 (Flatten)               (None, 1920)         0           ['fMaxP2[0][0]']                 \n",
      "                                                                                                  \n",
      " cFlat1 (Flatten)               (None, 896)          0           ['cMaxP2[0][0]']                 \n",
      "                                                                                                  \n",
      " merge_1 (Concatenate)          (None, 2816)         0           ['fFlat1[0][0]',                 \n",
      "                                                                  'cFlat1[0][0]']                 \n",
      "                                                                                                  \n",
      " mDrop1 (Dropout)               (None, 2816)         0           ['merge_1[0][0]']                \n",
      "                                                                                                  \n",
      " reshape1 (Reshape)             (None, 1, 2816)      0           ['mDrop1[0][0]']                 \n",
      "                                                                                                  \n",
      " lstm (LSTM)                    (None, 1, 64)        737536      ['reshape1[0][0]']               \n",
      "                                                                                                  \n",
      " lstm_1 (LSTM)                  (None, 64)           33024       ['lstm[0][0]']                   \n",
      "                                                                                                  \n",
      " outLayer (Dense)               (None, 5)            325         ['lstm_1[0][0]']                 \n",
      "                                                                                                  \n",
      "==================================================================================================\n",
      "Total params: 1,336,613\n",
      "Trainable params: 1,336,613\n",
      "Non-trainable params: 0\n",
      "__________________________________________________________________________________________________\n"
     ]
    }
   ],
   "source": [
    "teacher_model=model_b(verbose=VBS) #60 epochs teacher model"
   ]
  },
  {
   "cell_type": "code",
   "execution_count": null,
   "metadata": {
    "colab": {
     "base_uri": "https://localhost:8080/"
    },
    "id": "8RyBIjbLtLAz",
    "outputId": "deb7a1f0-4a80-4281-ece3-99efeed525c7"
   },
   "outputs": [
    {
     "data": {
      "text/plain": [
       "<tensorflow.python.training.tracking.util.CheckpointLoadStatus at 0x7f68731c51d0>"
      ]
     },
     "execution_count": 32,
     "metadata": {},
     "output_type": "execute_result"
    }
   ],
   "source": [
    "teacher_checkpt_path=\"/content/gdrive/My Drive/physionet/ensemble/tri_training/60_epochs_keras_way/teacher_60_epochs_keras_way_wts.ckpt\"\n",
    "teacher_model.load_weights(teacher_checkpt_path)"
   ]
  },
  {
   "cell_type": "code",
   "execution_count": null,
   "metadata": {
    "colab": {
     "base_uri": "https://localhost:8080/"
    },
    "id": "XvQ8b0g2Dr29",
    "outputId": "38e55c03-214d-4fd4-8274-5eeb606d3599"
   },
   "outputs": [
    {
     "data": {
      "text/plain": [
       "<tensorflow.python.training.tracking.util.CheckpointLoadStatus at 0x7f0edd5f8d90>"
      ]
     },
     "execution_count": 30,
     "metadata": {},
     "output_type": "execute_result"
    }
   ],
   "source": [
    "teacher_checkpt_path=\"/content/gdrive/My Drive/physionet/ensemble/tri_training/60_epochs_keras_way/teacher_60_epochs_keras_way_wts_trial_3.ckpt\"\n",
    "teacher_model.load_weights(teacher_checkpt_path)"
   ]
  },
  {
   "cell_type": "code",
   "execution_count": null,
   "metadata": {
    "id": "Ug8zd1_WtLDO"
   },
   "outputs": [],
   "source": [
    "teacher_model.compile(optimizer=optimizer, loss='categorical_crossentropy', metrics=['accuracy'])"
   ]
  },
  {
   "cell_type": "code",
   "execution_count": null,
   "metadata": {
    "colab": {
     "base_uri": "https://localhost:8080/"
    },
    "id": "I2U77vsAtLFY",
    "outputId": "c21eb102-8ac4-4897-d8c2-c11d3c493955"
   },
   "outputs": [
    {
     "name": "stdout",
     "output_type": "stream",
     "text": [
      "16/16 [==============================] - 14s 9ms/step - loss: 0.8025 - accuracy: 0.8246\n"
     ]
    }
   ],
   "source": [
    "accuracy_teacher_model = teacher_model.evaluate(x_test_dt_rshp, y_test_dt_)"
   ]
  },
  {
   "cell_type": "code",
   "execution_count": null,
   "metadata": {
    "id": "ZAmHjxkwtLH2"
   },
   "outputs": [],
   "source": [
    "preds_teacher_model = teacher_model.predict(x_test_dt_rshp)"
   ]
  },
  {
   "cell_type": "code",
   "execution_count": null,
   "metadata": {
    "id": "lDKS65wUtLJ-"
   },
   "outputs": [],
   "source": [
    "preds_teacher_model_fin=np.argmax(preds_teacher_model,axis=1)"
   ]
  },
  {
   "cell_type": "code",
   "execution_count": null,
   "metadata": {
    "colab": {
     "base_uri": "https://localhost:8080/"
    },
    "id": "n0LODCXstLMb",
    "outputId": "1326a09b-757f-41c6-c1f0-36af08068405"
   },
   "outputs": [
    {
     "data": {
      "text/plain": [
       "array([0.82142857, 0.41176471, 0.97076023, 0.65217391, 0.9       ])"
      ]
     },
     "execution_count": 35,
     "metadata": {},
     "output_type": "execute_result"
    }
   ],
   "source": [
    "from sklearn.metrics import confusion_matrix\n",
    "matrix_teacher = confusion_matrix(y_test_dt, preds_teacher_model_fin)\n",
    "matrix_teacher.diagonal()/matrix_teacher.sum(axis=1)"
   ]
  },
  {
   "cell_type": "code",
   "execution_count": null,
   "metadata": {
    "colab": {
     "base_uri": "https://localhost:8080/"
    },
    "id": "3w_N0u2TuAIq",
    "outputId": "9333abcf-9cd5-49a7-fb5d-c1d3a1a6da52"
   },
   "outputs": [
    {
     "name": "stdout",
     "output_type": "stream",
     "text": [
      "Precision: 0.7999419508594282\n",
      "Recall: 0.7512254848545064\n",
      "F1 score: 0.7677400558380658\n",
      "              precision    recall  f1-score   support\n",
      "\n",
      "           0   0.945205  0.821429  0.878981       168\n",
      "           1   0.437500  0.411765  0.424242        51\n",
      "           2   0.794258  0.970760  0.873684       171\n",
      "           3   0.937500  0.652174  0.769231        46\n",
      "           4   0.885246  0.900000  0.892562        60\n",
      "\n",
      "    accuracy                       0.824597       496\n",
      "   macro avg   0.799942  0.751225  0.767740       496\n",
      "weighted avg   0.832994  0.824597  0.821862       496\n",
      "\n"
     ]
    }
   ],
   "source": [
    "#y_sub_dt\n",
    "from sklearn.metrics import precision_score, recall_score\n",
    "f1_teacher = f1_score(y_test_dt, preds_teacher_model_fin, average=\"macro\")\n",
    "prec_teacher = precision_score(y_test_dt, preds_teacher_model_fin, average=\"macro\")\n",
    "recall_teacher = recall_score(y_test_dt, preds_teacher_model_fin, average=\"macro\")\n",
    "if VBS:\n",
    "    print(\"Precision: {}\".format(prec_teacher)) \n",
    "    print(\"Recall: {}\".format(recall_teacher))\n",
    "    print(\"F1 score: {}\".format(f1_teacher))\n",
    "\n",
    "    report_teacher = classification_report(y_test_dt, preds_teacher_model_fin, digits=6)\n",
    "    print(report_teacher)"
   ]
  },
  {
   "cell_type": "code",
   "execution_count": null,
   "metadata": {
    "id": "d0UXdoOcuAPq"
   },
   "outputs": [],
   "source": [
    "#student model\n",
    "def get_model_1d_cnn():\n",
    "    nclass = 5\n",
    "    inp = Input(shape=(3000, 1))\n",
    "    img_1 = Conv1D(4, kernel_size=6, activation=activations.relu, strides=1, padding=\"valid\")(inp)\n",
    "    #img_1 = Conv1D(128, kernel_size=5, activation=activations.relu, strides=1, padding=\"valid\")(img_1)\n",
    "    img_1 = MaxPooling1D(pool_size=2)(img_1)\n",
    "    #img_1 = SpatialDropout1D(rate=0.2)(img_1)\n",
    "    img_1 = Conv1D(4, kernel_size=5, activation=activations.relu, strides=1, padding=\"valid\")(img_1)\n",
    "    #img_1 = Conv1D(256, kernel_size=7, activation=activations.relu, strides=1, padding=\"valid\")(img_1)\n",
    "    img_1 = MaxPooling1D(pool_size=2)(img_1)\n",
    "    #img_1 = SpatialDropout1D(rate=0.01)(img_1)\n",
    "    img_1 = Conv1D(10, kernel_size=4, activation=activations.relu, strides=1, padding=\"valid\")(img_1)\n",
    "    #img_1 = Conv1D(64, kernel_size=4, activation=activations.relu, strides=1, padding=\"valid\")(img_1)\n",
    "    img_1 = MaxPooling1D(pool_size=2)(img_1)\n",
    "    #img_1 = SpatialDropout1D(rate=0.01)(img_1)\n",
    "    img_1 = Conv1D(10, kernel_size=4, activation=activations.relu, strides=1, padding=\"valid\")(img_1)\n",
    "    img_1 = MaxPooling1D(pool_size=2)(img_1)\n",
    "    #img_1 = Conv1D(64, kernel_size=6, activation=activations.relu, strides=1, padding=\"valid\")(img_1)\n",
    "    #img_1 = MaxPooling1D(pool_size=2)(img_1)\n",
    "    img_1 = Flatten()(img_1)\n",
    "\n",
    "    \n",
    "    dense_1 = Dropout(rate=0.5)(img_1)\n",
    "    #dense_1 = Dropout(rate=0.05)(Dense(64, activation=activations.relu, name=\"dense_2\")(dense_1))\n",
    "    dense_1 = Dense(nclass, activation=activations.softmax)(dense_1)\n",
    "\n",
    "    model = Model(inputs=inp, outputs=dense_1)\n",
    "    opt = Adam(0.001)\n",
    "\n",
    "    model.compile(optimizer=opt, loss='categorical_crossentropy', metrics=['acc'])\n",
    "    model.summary()\n",
    "    return model"
   ]
  },
  {
   "cell_type": "code",
   "execution_count": null,
   "metadata": {
    "colab": {
     "base_uri": "https://localhost:8080/"
    },
    "id": "d_PSkSFuuAT0",
    "outputId": "0450ab23-96aa-4666-f798-c7c6ab4e6d23"
   },
   "outputs": [
    {
     "name": "stdout",
     "output_type": "stream",
     "text": [
      "Model: \"model_1\"\n",
      "_________________________________________________________________\n",
      " Layer (type)                Output Shape              Param #   \n",
      "=================================================================\n",
      " input_1 (InputLayer)        [(None, 3000, 1)]         0         \n",
      "                                                                 \n",
      " conv1d (Conv1D)             (None, 2995, 4)           28        \n",
      "                                                                 \n",
      " max_pooling1d (MaxPooling1D  (None, 1497, 4)          0         \n",
      " )                                                               \n",
      "                                                                 \n",
      " conv1d_1 (Conv1D)           (None, 1493, 4)           84        \n",
      "                                                                 \n",
      " max_pooling1d_1 (MaxPooling  (None, 746, 4)           0         \n",
      " 1D)                                                             \n",
      "                                                                 \n",
      " conv1d_2 (Conv1D)           (None, 743, 10)           170       \n",
      "                                                                 \n",
      " max_pooling1d_2 (MaxPooling  (None, 371, 10)          0         \n",
      " 1D)                                                             \n",
      "                                                                 \n",
      " conv1d_3 (Conv1D)           (None, 368, 10)           410       \n",
      "                                                                 \n",
      " max_pooling1d_3 (MaxPooling  (None, 184, 10)          0         \n",
      " 1D)                                                             \n",
      "                                                                 \n",
      " flatten (Flatten)           (None, 1840)              0         \n",
      "                                                                 \n",
      " dropout (Dropout)           (None, 1840)              0         \n",
      "                                                                 \n",
      " dense (Dense)               (None, 5)                 9205      \n",
      "                                                                 \n",
      "=================================================================\n",
      "Total params: 9,897\n",
      "Trainable params: 9,897\n",
      "Non-trainable params: 0\n",
      "_________________________________________________________________\n"
     ]
    }
   ],
   "source": [
    "#student_model=get_model_cnn()\n",
    "student_model=get_model_1d_cnn()"
   ]
  },
  {
   "cell_type": "code",
   "execution_count": null,
   "metadata": {
    "id": "B_CLB9EAuGZr"
   },
   "outputs": [],
   "source": [
    "class Distiller(keras.Model):\n",
    "    def __init__(self, student, teacher):\n",
    "        super(Distiller, self).__init__()\n",
    "        self.teacher = teacher\n",
    "        self.student = student\n",
    "\n",
    "    def compile(\n",
    "        self,\n",
    "        optimizer,\n",
    "        metrics,\n",
    "        student_loss_fn,\n",
    "        distillation_loss_fn,\n",
    "        alpha=0.1,\n",
    "        temperature=3,\n",
    "    ):\n",
    "        \"\"\" Configure the distiller.\n",
    "\n",
    "        Args:\n",
    "            optimizer: Keras optimizer for the student weights\n",
    "            metrics: Keras metrics for evaluation\n",
    "            student_loss_fn: Loss function of difference between student\n",
    "                predictions and ground-truth\n",
    "            distillation_loss_fn: Loss function of difference between soft\n",
    "                student predictions and soft teacher predictions\n",
    "            alpha: weight to student_loss_fn and 1-alpha to distillation_loss_fn\n",
    "            temperature: Temperature for softening probability distributions.\n",
    "                Larger temperature gives softer distributions.\n",
    "        \"\"\"\n",
    "        super(Distiller, self).compile(optimizer=optimizer, metrics=metrics)\n",
    "        self.student_loss_fn = student_loss_fn\n",
    "        self.distillation_loss_fn = distillation_loss_fn\n",
    "        self.alpha = alpha\n",
    "        self.temperature = temperature\n",
    "\n",
    "    def train_step(self, data):\n",
    "        # Unpack data\n",
    "        x, y = data\n",
    "\n",
    "        # Forward pass of teacher\n",
    "        teacher_predictions = self.teacher(x, training=False)\n",
    "\n",
    "        with tf.GradientTape() as tape:\n",
    "            # Forward pass of student\n",
    "            student_predictions = self.student(x, training=True)\n",
    "\n",
    "            # Compute losses\n",
    "            student_loss = self.student_loss_fn(y, student_predictions)\n",
    "            distillation_loss = self.distillation_loss_fn(\n",
    "                tf.nn.softmax(teacher_predictions / self.temperature, axis=1),\n",
    "                tf.nn.softmax(student_predictions / self.temperature, axis=1),\n",
    "            )\n",
    "            loss = self.alpha * student_loss + (1 - self.alpha) * distillation_loss\n",
    "\n",
    "        # Compute gradients\n",
    "        trainable_vars = self.student.trainable_variables\n",
    "        gradients = tape.gradient(loss, trainable_vars)\n",
    "\n",
    "        # Update weights\n",
    "        self.optimizer.apply_gradients(zip(gradients, trainable_vars))\n",
    "\n",
    "        # Update the metrics configured in `compile()`.\n",
    "        self.compiled_metrics.update_state(y, student_predictions)\n",
    "\n",
    "        # Return a dict of performance\n",
    "        results = {m.name: m.result() for m in self.metrics}\n",
    "        results.update(\n",
    "            {\"student_loss\": student_loss, \"distillation_loss\": distillation_loss}\n",
    "        )\n",
    "        return results\n",
    "\n",
    "    def test_step(self, data):\n",
    "        # Unpack the data\n",
    "        x, y = data\n",
    "\n",
    "        # Compute predictions\n",
    "        y_prediction = self.student(x, training=False)\n",
    "\n",
    "        # Calculate the loss\n",
    "        student_loss = self.student_loss_fn(y, y_prediction)\n",
    "\n",
    "        # Update the metrics.\n",
    "        self.compiled_metrics.update_state(y, y_prediction)\n",
    "\n",
    "        # Return a dict of performance\n",
    "        results = {m.name: m.result() for m in self.metrics}\n",
    "        results.update({\"student_loss\": student_loss})\n",
    "        return results\n"
   ]
  },
  {
   "cell_type": "code",
   "execution_count": null,
   "metadata": {
    "colab": {
     "base_uri": "https://localhost:8080/"
    },
    "id": "EhG1zEzguGcD",
    "outputId": "cd6e4ac2-8636-442f-cbca-544355cd7996"
   },
   "outputs": [
    {
     "name": "stdout",
     "output_type": "stream",
     "text": [
      "Epoch 1/70\n",
      "3710/3710 [==============================] - 35s 8ms/step - categorical_accuracy: 0.6796 - student_loss: 0.7805 - distillation_loss: 0.0017\n",
      "Epoch 2/70\n",
      "3710/3710 [==============================] - 30s 8ms/step - categorical_accuracy: 0.7584 - student_loss: 0.5717 - distillation_loss: 0.0013\n",
      "Epoch 3/70\n",
      "3710/3710 [==============================] - 29s 8ms/step - categorical_accuracy: 0.7798 - student_loss: 0.5245 - distillation_loss: 0.0012\n",
      "Epoch 4/70\n",
      "3710/3710 [==============================] - 29s 8ms/step - categorical_accuracy: 0.7922 - student_loss: 0.4970 - distillation_loss: 0.0011\n",
      "Epoch 5/70\n",
      "3710/3710 [==============================] - 29s 8ms/step - categorical_accuracy: 0.8047 - student_loss: 0.4729 - distillation_loss: 0.0011\n",
      "Epoch 6/70\n",
      "3710/3710 [==============================] - 29s 8ms/step - categorical_accuracy: 0.8176 - student_loss: 0.4462 - distillation_loss: 9.8070e-04\n",
      "Epoch 7/70\n",
      "3710/3710 [==============================] - 30s 8ms/step - categorical_accuracy: 0.8278 - student_loss: 0.4252 - distillation_loss: 9.2561e-04\n",
      "Epoch 8/70\n",
      "3710/3710 [==============================] - 29s 8ms/step - categorical_accuracy: 0.8346 - student_loss: 0.4110 - distillation_loss: 8.9039e-04\n",
      "Epoch 9/70\n",
      "3710/3710 [==============================] - 29s 8ms/step - categorical_accuracy: 0.8393 - student_loss: 0.3998 - distillation_loss: 8.6455e-04\n",
      "Epoch 10/70\n",
      "3710/3710 [==============================] - 29s 8ms/step - categorical_accuracy: 0.8440 - student_loss: 0.3889 - distillation_loss: 8.4032e-04\n",
      "Epoch 11/70\n",
      "3710/3710 [==============================] - 29s 8ms/step - categorical_accuracy: 0.8477 - student_loss: 0.3824 - distillation_loss: 8.2700e-04\n",
      "Epoch 12/70\n",
      "3710/3710 [==============================] - 29s 8ms/step - categorical_accuracy: 0.8508 - student_loss: 0.3733 - distillation_loss: 8.0849e-04\n",
      "Epoch 13/70\n",
      "3710/3710 [==============================] - 29s 8ms/step - categorical_accuracy: 0.8526 - student_loss: 0.3713 - distillation_loss: 8.0601e-04\n",
      "Epoch 14/70\n",
      "3710/3710 [==============================] - 29s 8ms/step - categorical_accuracy: 0.8546 - student_loss: 0.3682 - distillation_loss: 7.9689e-04\n",
      "Epoch 15/70\n",
      "3710/3710 [==============================] - 29s 8ms/step - categorical_accuracy: 0.8558 - student_loss: 0.3641 - distillation_loss: 7.8927e-04\n",
      "Epoch 16/70\n",
      "3710/3710 [==============================] - 29s 8ms/step - categorical_accuracy: 0.8586 - student_loss: 0.3601 - distillation_loss: 7.7738e-04\n",
      "Epoch 17/70\n",
      "3710/3710 [==============================] - 29s 8ms/step - categorical_accuracy: 0.8580 - student_loss: 0.3601 - distillation_loss: 7.7949e-04\n",
      "Epoch 18/70\n",
      "3710/3710 [==============================] - 29s 8ms/step - categorical_accuracy: 0.8599 - student_loss: 0.3545 - distillation_loss: 7.6856e-04\n",
      "Epoch 19/70\n",
      "3710/3710 [==============================] - 29s 8ms/step - categorical_accuracy: 0.8593 - student_loss: 0.3544 - distillation_loss: 7.6684e-04\n",
      "Epoch 20/70\n",
      "3710/3710 [==============================] - 29s 8ms/step - categorical_accuracy: 0.8611 - student_loss: 0.3488 - distillation_loss: 7.5745e-04\n",
      "Epoch 21/70\n",
      "3710/3710 [==============================] - 29s 8ms/step - categorical_accuracy: 0.8621 - student_loss: 0.3494 - distillation_loss: 7.5711e-04\n",
      "Epoch 22/70\n",
      "3710/3710 [==============================] - 29s 8ms/step - categorical_accuracy: 0.8623 - student_loss: 0.3469 - distillation_loss: 7.5452e-04\n",
      "Epoch 23/70\n",
      "3710/3710 [==============================] - 29s 8ms/step - categorical_accuracy: 0.8621 - student_loss: 0.3458 - distillation_loss: 7.5155e-04\n",
      "Epoch 24/70\n",
      "3710/3710 [==============================] - 29s 8ms/step - categorical_accuracy: 0.8650 - student_loss: 0.3404 - distillation_loss: 7.4004e-04\n",
      "Epoch 25/70\n",
      "3710/3710 [==============================] - 29s 8ms/step - categorical_accuracy: 0.8654 - student_loss: 0.3379 - distillation_loss: 7.3724e-04\n",
      "Epoch 26/70\n",
      "3710/3710 [==============================] - 30s 8ms/step - categorical_accuracy: 0.8662 - student_loss: 0.3393 - distillation_loss: 7.3816e-04\n",
      "Epoch 27/70\n",
      "3710/3710 [==============================] - 29s 8ms/step - categorical_accuracy: 0.8671 - student_loss: 0.3390 - distillation_loss: 7.3518e-04\n",
      "Epoch 28/70\n",
      "3710/3710 [==============================] - 30s 8ms/step - categorical_accuracy: 0.8678 - student_loss: 0.3356 - distillation_loss: 7.3192e-04\n",
      "Epoch 29/70\n",
      "3710/3710 [==============================] - 29s 8ms/step - categorical_accuracy: 0.8682 - student_loss: 0.3332 - distillation_loss: 7.2463e-04\n",
      "Epoch 30/70\n",
      "3710/3710 [==============================] - 30s 8ms/step - categorical_accuracy: 0.8677 - student_loss: 0.3323 - distillation_loss: 7.2361e-04\n",
      "Epoch 31/70\n",
      "3710/3710 [==============================] - 29s 8ms/step - categorical_accuracy: 0.8696 - student_loss: 0.3310 - distillation_loss: 7.1981e-04\n",
      "Epoch 32/70\n",
      "3710/3710 [==============================] - 29s 8ms/step - categorical_accuracy: 0.8685 - student_loss: 0.3319 - distillation_loss: 7.2430e-04\n",
      "Epoch 33/70\n",
      "3710/3710 [==============================] - 29s 8ms/step - categorical_accuracy: 0.8685 - student_loss: 0.3322 - distillation_loss: 7.2427e-04\n",
      "Epoch 34/70\n",
      "3710/3710 [==============================] - 29s 8ms/step - categorical_accuracy: 0.8696 - student_loss: 0.3290 - distillation_loss: 7.1891e-04\n",
      "Epoch 35/70\n",
      "3710/3710 [==============================] - 29s 8ms/step - categorical_accuracy: 0.8701 - student_loss: 0.3292 - distillation_loss: 7.1859e-04\n",
      "Epoch 36/70\n",
      "3710/3710 [==============================] - 29s 8ms/step - categorical_accuracy: 0.8698 - student_loss: 0.3289 - distillation_loss: 7.1746e-04\n",
      "Epoch 37/70\n",
      "3710/3710 [==============================] - 29s 8ms/step - categorical_accuracy: 0.8718 - student_loss: 0.3244 - distillation_loss: 7.0829e-04\n",
      "Epoch 38/70\n",
      "3710/3710 [==============================] - 29s 8ms/step - categorical_accuracy: 0.8704 - student_loss: 0.3274 - distillation_loss: 7.1402e-04\n",
      "Epoch 39/70\n",
      "3710/3710 [==============================] - 29s 8ms/step - categorical_accuracy: 0.8707 - student_loss: 0.3263 - distillation_loss: 7.1259e-04\n",
      "Epoch 40/70\n",
      "3710/3710 [==============================] - 29s 8ms/step - categorical_accuracy: 0.8711 - student_loss: 0.3255 - distillation_loss: 7.1144e-04\n",
      "Epoch 41/70\n",
      "3710/3710 [==============================] - 29s 8ms/step - categorical_accuracy: 0.8718 - student_loss: 0.3242 - distillation_loss: 7.0461e-04\n",
      "Epoch 42/70\n",
      "3710/3710 [==============================] - 29s 8ms/step - categorical_accuracy: 0.8712 - student_loss: 0.3236 - distillation_loss: 7.1050e-04\n",
      "Epoch 43/70\n",
      "3710/3710 [==============================] - 29s 8ms/step - categorical_accuracy: 0.8718 - student_loss: 0.3247 - distillation_loss: 7.0806e-04\n",
      "Epoch 44/70\n",
      "3710/3710 [==============================] - 29s 8ms/step - categorical_accuracy: 0.8725 - student_loss: 0.3232 - distillation_loss: 7.0787e-04\n",
      "Epoch 45/70\n",
      "3710/3710 [==============================] - 29s 8ms/step - categorical_accuracy: 0.8724 - student_loss: 0.3228 - distillation_loss: 7.0529e-04\n",
      "Epoch 46/70\n",
      "3710/3710 [==============================] - 29s 8ms/step - categorical_accuracy: 0.8731 - student_loss: 0.3223 - distillation_loss: 7.0143e-04\n",
      "Epoch 47/70\n",
      "3710/3710 [==============================] - 29s 8ms/step - categorical_accuracy: 0.8726 - student_loss: 0.3226 - distillation_loss: 7.0340e-04\n",
      "Epoch 48/70\n",
      "3710/3710 [==============================] - 29s 8ms/step - categorical_accuracy: 0.8731 - student_loss: 0.3206 - distillation_loss: 7.0011e-04\n",
      "Epoch 49/70\n",
      "3710/3710 [==============================] - 29s 8ms/step - categorical_accuracy: 0.8730 - student_loss: 0.3213 - distillation_loss: 7.0424e-04\n",
      "Epoch 50/70\n",
      "3710/3710 [==============================] - 29s 8ms/step - categorical_accuracy: 0.8735 - student_loss: 0.3204 - distillation_loss: 7.0223e-04\n",
      "Epoch 51/70\n",
      "3710/3710 [==============================] - 29s 8ms/step - categorical_accuracy: 0.8733 - student_loss: 0.3206 - distillation_loss: 7.0087e-04\n",
      "Epoch 52/70\n",
      "3710/3710 [==============================] - 29s 8ms/step - categorical_accuracy: 0.8755 - student_loss: 0.3186 - distillation_loss: 6.9576e-04\n",
      "Epoch 53/70\n",
      "3710/3710 [==============================] - 29s 8ms/step - categorical_accuracy: 0.8749 - student_loss: 0.3186 - distillation_loss: 6.9497e-04\n",
      "Epoch 54/70\n",
      "3710/3710 [==============================] - 29s 8ms/step - categorical_accuracy: 0.8742 - student_loss: 0.3193 - distillation_loss: 6.9729e-04\n",
      "Epoch 55/70\n",
      "3710/3710 [==============================] - 29s 8ms/step - categorical_accuracy: 0.8740 - student_loss: 0.3194 - distillation_loss: 6.9843e-04\n",
      "Epoch 56/70\n",
      "3710/3710 [==============================] - 29s 8ms/step - categorical_accuracy: 0.8750 - student_loss: 0.3188 - distillation_loss: 6.9604e-04\n",
      "Epoch 57/70\n",
      "3710/3710 [==============================] - 29s 8ms/step - categorical_accuracy: 0.8741 - student_loss: 0.3189 - distillation_loss: 6.9867e-04\n",
      "Epoch 58/70\n",
      "3710/3710 [==============================] - 29s 8ms/step - categorical_accuracy: 0.8756 - student_loss: 0.3154 - distillation_loss: 6.8993e-04\n",
      "Epoch 59/70\n",
      "3710/3710 [==============================] - 29s 8ms/step - categorical_accuracy: 0.8746 - student_loss: 0.3180 - distillation_loss: 6.9613e-04\n",
      "Epoch 60/70\n",
      "3710/3710 [==============================] - 29s 8ms/step - categorical_accuracy: 0.8745 - student_loss: 0.3169 - distillation_loss: 6.9498e-04\n",
      "Epoch 61/70\n",
      "3710/3710 [==============================] - 29s 8ms/step - categorical_accuracy: 0.8755 - student_loss: 0.3174 - distillation_loss: 6.9335e-04\n",
      "Epoch 62/70\n",
      "3710/3710 [==============================] - 29s 8ms/step - categorical_accuracy: 0.8754 - student_loss: 0.3168 - distillation_loss: 6.9347e-04\n",
      "Epoch 63/70\n",
      "3710/3710 [==============================] - 29s 8ms/step - categorical_accuracy: 0.8750 - student_loss: 0.3168 - distillation_loss: 6.9237e-04\n",
      "Epoch 64/70\n",
      "3710/3710 [==============================] - 29s 8ms/step - categorical_accuracy: 0.8748 - student_loss: 0.3166 - distillation_loss: 6.9434e-04\n",
      "Epoch 65/70\n",
      "3710/3710 [==============================] - 29s 8ms/step - categorical_accuracy: 0.8755 - student_loss: 0.3154 - distillation_loss: 6.9026e-04\n",
      "Epoch 66/70\n",
      "3710/3710 [==============================] - 29s 8ms/step - categorical_accuracy: 0.8767 - student_loss: 0.3123 - distillation_loss: 6.8530e-04\n",
      "Epoch 67/70\n",
      "3710/3710 [==============================] - 29s 8ms/step - categorical_accuracy: 0.8765 - student_loss: 0.3135 - distillation_loss: 6.8824e-04\n",
      "Epoch 68/70\n",
      "3710/3710 [==============================] - 29s 8ms/step - categorical_accuracy: 0.8772 - student_loss: 0.3137 - distillation_loss: 6.8700e-04\n",
      "Epoch 69/70\n",
      "3710/3710 [==============================] - 29s 8ms/step - categorical_accuracy: 0.8757 - student_loss: 0.3153 - distillation_loss: 6.8966e-04\n",
      "Epoch 70/70\n",
      "3710/3710 [==============================] - 29s 8ms/step - categorical_accuracy: 0.8775 - student_loss: 0.3120 - distillation_loss: 6.8195e-04\n"
     ]
    },
    {
     "data": {
      "text/plain": [
       "<keras.callbacks.History at 0x7f0ed2a7c5d0>"
      ]
     },
     "execution_count": 40,
     "metadata": {},
     "output_type": "execute_result"
    }
   ],
   "source": [
    "# Initialize and compile distiller\n",
    "distiller = Distiller(student=student_model, teacher=teacher_model)\n",
    "distiller.compile(\n",
    "    optimizer=keras.optimizers.Adam(),\n",
    "    metrics=[keras.metrics.CategoricalAccuracy()],\n",
    "    student_loss_fn=keras.losses.CategoricalCrossentropy(from_logits=True),\n",
    "    distillation_loss_fn=keras.losses.KLDivergence(),\n",
    "    alpha=0.9,\n",
    "    temperature=5,\n",
    ")\n",
    "\n",
    "# Distill teacher to student\n",
    "distiller.fit(x_dt_rshp, y_dt_, epochs=70)\n",
    "\n",
    "# Evaluate student on test dataset\n",
    "#distiller.evaluate(x_test, y_test)"
   ]
  },
  {
   "cell_type": "code",
   "execution_count": null,
   "metadata": {
    "colab": {
     "base_uri": "https://localhost:8080/"
    },
    "id": "Yp8TeTYKuGeZ",
    "outputId": "46a4bcb0-16e8-4991-eedf-e5086a71c0ef"
   },
   "outputs": [
    {
     "name": "stdout",
     "output_type": "stream",
     "text": [
      "16/16 [==============================] - 0s 4ms/step - categorical_accuracy: 0.8327 - student_loss: 0.5140\n"
     ]
    }
   ],
   "source": [
    "accuracy_distiller = distiller.evaluate(x_test_dt_rshp, y_test_dt_)"
   ]
  },
  {
   "cell_type": "code",
   "execution_count": null,
   "metadata": {
    "id": "4A11DE5FuGg_"
   },
   "outputs": [],
   "source": [
    "preds_student_model = student_model.predict(x_test_dt_rshp)"
   ]
  },
  {
   "cell_type": "code",
   "execution_count": null,
   "metadata": {
    "id": "5AU9MlAauSO6"
   },
   "outputs": [],
   "source": [
    "preds_student_model_fin=np.argmax(preds_student_model,axis=1)"
   ]
  },
  {
   "cell_type": "code",
   "execution_count": null,
   "metadata": {
    "colab": {
     "base_uri": "https://localhost:8080/"
    },
    "id": "_u3kjoTjuUl0",
    "outputId": "2cfd1bd2-a4a6-4fb7-fea2-36a80dfc4b8a"
   },
   "outputs": [
    {
     "data": {
      "text/plain": [
       "array([0.93452381, 0.19607843, 0.97660819, 0.67391304, 0.8       ])"
      ]
     },
     "execution_count": 44,
     "metadata": {},
     "output_type": "execute_result"
    }
   ],
   "source": [
    "from sklearn.metrics import confusion_matrix\n",
    "matrix_student = confusion_matrix(y_test_dt, preds_student_model_fin)\n",
    "matrix_student.diagonal()/matrix_student.sum(axis=1)"
   ]
  },
  {
   "cell_type": "code",
   "execution_count": null,
   "metadata": {
    "colab": {
     "base_uri": "https://localhost:8080/"
    },
    "id": "B7aCbX4guUp7",
    "outputId": "7e8c58b7-b95c-4a84-e9c7-89c5543dbf60"
   },
   "outputs": [
    {
     "name": "stdout",
     "output_type": "stream",
     "text": [
      "Precision: 0.797292093042859\n",
      "Recall: 0.7162246943018244\n",
      "F1 score: 0.7350291227255272\n",
      "              precision    recall  f1-score   support\n",
      "\n",
      "           0   0.912791  0.934524  0.923529       168\n",
      "           1   0.526316  0.196078  0.285714        51\n",
      "           2   0.780374  0.976608  0.867532       171\n",
      "           3   0.939394  0.673913  0.784810        46\n",
      "           4   0.827586  0.800000  0.813559        60\n",
      "\n",
      "    accuracy                       0.832661       496\n",
      "   macro avg   0.797292  0.716225  0.735029       496\n",
      "weighted avg   0.819561  0.832661  0.812474       496\n",
      "\n"
     ]
    }
   ],
   "source": [
    "#y_sub_dt\n",
    "from sklearn.metrics import precision_score, recall_score\n",
    "f1_student = f1_score(y_test_dt, preds_student_model_fin, average=\"macro\")\n",
    "prec_student = precision_score(y_test_dt, preds_student_model_fin, average=\"macro\")\n",
    "recall_student = recall_score(y_test_dt, preds_student_model_fin, average=\"macro\")\n",
    "if VBS:\n",
    "    print(\"Precision: {}\".format(prec_student)) \n",
    "    print(\"Recall: {}\".format(recall_student))\n",
    "    print(\"F1 score: {}\".format(f1_student))\n",
    "\n",
    "    report_student = classification_report(y_test_dt, preds_student_model_fin, digits=6)\n",
    "    print(report_student)"
   ]
  },
  {
   "cell_type": "code",
   "execution_count": null,
   "metadata": {
    "id": "-LfKXjru4i12"
   },
   "outputs": [],
   "source": [
    "#70 epochs teacher"
   ]
  },
  {
   "cell_type": "code",
   "execution_count": null,
   "metadata": {
    "colab": {
     "base_uri": "https://localhost:8080/"
    },
    "id": "wwstJgtL4i4M",
    "outputId": "4ae8a2bc-901b-494a-df3d-5d8faf637d8d"
   },
   "outputs": [
    {
     "name": "stdout",
     "output_type": "stream",
     "text": [
      "Model: \"model\"\n",
      "__________________________________________________________________________________________________\n",
      " Layer (type)                   Output Shape         Param #     Connected to                     \n",
      "==================================================================================================\n",
      " inLayer (InputLayer)           [(None, 3000, 1)]    0           []                               \n",
      "                                                                                                  \n",
      " fConv1 (Conv1D)                (None, 500, 64)      3264        ['inLayer[0][0]']                \n",
      "                                                                                                  \n",
      " cConv1 (Conv1D)                (None, 60, 32)       12832       ['inLayer[0][0]']                \n",
      "                                                                                                  \n",
      " fMaxP1 (MaxPooling1D)          (None, 62, 64)       0           ['fConv1[0][0]']                 \n",
      "                                                                                                  \n",
      " cMaxP1 (MaxPooling1D)          (None, 15, 32)       0           ['cConv1[0][0]']                 \n",
      "                                                                                                  \n",
      " fDrop1 (Dropout)               (None, 62, 64)       0           ['fMaxP1[0][0]']                 \n",
      "                                                                                                  \n",
      " cDrop1 (Dropout)               (None, 15, 32)       0           ['cMaxP1[0][0]']                 \n",
      "                                                                                                  \n",
      " fConv2 (Conv1D)                (None, 62, 128)      65664       ['fDrop1[0][0]']                 \n",
      "                                                                                                  \n",
      " cConv2 (Conv1D)                (None, 15, 128)      24704       ['cDrop1[0][0]']                 \n",
      "                                                                                                  \n",
      " fConv3 (Conv1D)                (None, 62, 128)      131200      ['fConv2[0][0]']                 \n",
      "                                                                                                  \n",
      " cConv3 (Conv1D)                (None, 15, 128)      98432       ['cConv2[0][0]']                 \n",
      "                                                                                                  \n",
      " fConv4 (Conv1D)                (None, 62, 128)      131200      ['fConv3[0][0]']                 \n",
      "                                                                                                  \n",
      " cConv4 (Conv1D)                (None, 15, 128)      98432       ['cConv3[0][0]']                 \n",
      "                                                                                                  \n",
      " fMaxP2 (MaxPooling1D)          (None, 15, 128)      0           ['fConv4[0][0]']                 \n",
      "                                                                                                  \n",
      " cMaxP2 (MaxPooling1D)          (None, 7, 128)       0           ['cConv4[0][0]']                 \n",
      "                                                                                                  \n",
      " fFlat1 (Flatten)               (None, 1920)         0           ['fMaxP2[0][0]']                 \n",
      "                                                                                                  \n",
      " cFlat1 (Flatten)               (None, 896)          0           ['cMaxP2[0][0]']                 \n",
      "                                                                                                  \n",
      " merge_1 (Concatenate)          (None, 2816)         0           ['fFlat1[0][0]',                 \n",
      "                                                                  'cFlat1[0][0]']                 \n",
      "                                                                                                  \n",
      " mDrop1 (Dropout)               (None, 2816)         0           ['merge_1[0][0]']                \n",
      "                                                                                                  \n",
      " reshape1 (Reshape)             (None, 1, 2816)      0           ['mDrop1[0][0]']                 \n",
      "                                                                                                  \n",
      " lstm (LSTM)                    (None, 1, 64)        737536      ['reshape1[0][0]']               \n",
      "                                                                                                  \n",
      " lstm_1 (LSTM)                  (None, 64)           33024       ['lstm[0][0]']                   \n",
      "                                                                                                  \n",
      " outLayer (Dense)               (None, 5)            325         ['lstm_1[0][0]']                 \n",
      "                                                                                                  \n",
      "==================================================================================================\n",
      "Total params: 1,336,613\n",
      "Trainable params: 1,336,613\n",
      "Non-trainable params: 0\n",
      "__________________________________________________________________________________________________\n"
     ]
    }
   ],
   "source": [
    "teacher_model=model_b(verbose=VBS) #70 epochs teacher model"
   ]
  },
  {
   "cell_type": "code",
   "execution_count": null,
   "metadata": {
    "colab": {
     "base_uri": "https://localhost:8080/"
    },
    "id": "P62Jugzr4i7L",
    "outputId": "36acf43e-f1c4-4549-c720-0161c4a3be86"
   },
   "outputs": [
    {
     "data": {
      "text/plain": [
       "<tensorflow.python.training.tracking.util.CheckpointLoadStatus at 0x7f7d24c85b10>"
      ]
     },
     "execution_count": 31,
     "metadata": {},
     "output_type": "execute_result"
    }
   ],
   "source": [
    "teacher_checkpt_path=\"/content/gdrive/My Drive/physionet/ensemble/tri_training/70_epochs_keras_way/teacher_70_epochs_keras_way_wts.ckpt\"\n",
    "teacher_model.load_weights(teacher_checkpt_path)"
   ]
  },
  {
   "cell_type": "code",
   "execution_count": null,
   "metadata": {
    "colab": {
     "base_uri": "https://localhost:8080/"
    },
    "id": "WxVYg63fOCyz",
    "outputId": "ddd92cdc-734b-4fdc-bbc1-896c9d10197f"
   },
   "outputs": [
    {
     "data": {
      "text/plain": [
       "<tensorflow.python.training.tracking.util.CheckpointLoadStatus at 0x7ff99ea7e8d0>"
      ]
     },
     "execution_count": 30,
     "metadata": {},
     "output_type": "execute_result"
    }
   ],
   "source": [
    "teacher_checkpt_path=\"/content/gdrive/My Drive/physionet/ensemble/tri_training/70_epochs_keras_way/teacher_70_epochs_keras_way_wts_trial_3.ckpt\"\n",
    "teacher_model.load_weights(teacher_checkpt_path)"
   ]
  },
  {
   "cell_type": "code",
   "execution_count": null,
   "metadata": {
    "id": "TmbxW7dm4i9-"
   },
   "outputs": [],
   "source": [
    "teacher_model.compile(optimizer=optimizer, loss='categorical_crossentropy', metrics=['accuracy'])"
   ]
  },
  {
   "cell_type": "code",
   "execution_count": null,
   "metadata": {
    "colab": {
     "base_uri": "https://localhost:8080/"
    },
    "id": "2BD6F0wR4jBH",
    "outputId": "81ff3eb3-5e4b-4b4c-eb17-50ef3df5f76c"
   },
   "outputs": [
    {
     "name": "stdout",
     "output_type": "stream",
     "text": [
      "16/16 [==============================] - 11s 9ms/step - loss: 0.9306 - accuracy: 0.8226\n"
     ]
    }
   ],
   "source": [
    "accuracy_teacher_model = teacher_model.evaluate(x_test_dt_rshp, y_test_dt_)"
   ]
  },
  {
   "cell_type": "code",
   "execution_count": null,
   "metadata": {
    "id": "rIjyv6ot4jC6"
   },
   "outputs": [],
   "source": [
    "preds_teacher_model = teacher_model.predict(x_test_dt_rshp)"
   ]
  },
  {
   "cell_type": "code",
   "execution_count": null,
   "metadata": {
    "id": "67_23qTb4jFm"
   },
   "outputs": [],
   "source": [
    "preds_teacher_model_fin=np.argmax(preds_teacher_model,axis=1)"
   ]
  },
  {
   "cell_type": "code",
   "execution_count": null,
   "metadata": {
    "colab": {
     "base_uri": "https://localhost:8080/"
    },
    "id": "nM5_QnCJ4jJe",
    "outputId": "53325c9a-a114-4891-8ac8-2d9188ed93ca"
   },
   "outputs": [
    {
     "data": {
      "text/plain": [
       "array([0.81547619, 0.37254902, 0.97660819, 0.67391304, 0.9       ])"
      ]
     },
     "execution_count": 35,
     "metadata": {},
     "output_type": "execute_result"
    }
   ],
   "source": [
    "from sklearn.metrics import confusion_matrix\n",
    "matrix_teacher = confusion_matrix(y_test_dt, preds_teacher_model_fin)\n",
    "matrix_teacher.diagonal()/matrix_teacher.sum(axis=1)"
   ]
  },
  {
   "cell_type": "code",
   "execution_count": null,
   "metadata": {
    "colab": {
     "base_uri": "https://localhost:8080/"
    },
    "id": "Ydyiz0fp4jL3",
    "outputId": "39524c24-58a4-4581-c8d0-86d37418d0af"
   },
   "outputs": [
    {
     "name": "stdout",
     "output_type": "stream",
     "text": [
      "Precision: 0.7979769291533252\n",
      "Recall: 0.7460825657494119\n",
      "F1 score: 0.7663813455270547\n",
      "              precision    recall  f1-score   support\n",
      "\n",
      "           0   0.946309  0.839286  0.889590       168\n",
      "           1   0.416667  0.392157  0.404040        51\n",
      "           2   0.785714  0.964912  0.866142       171\n",
      "           3   0.916667  0.717391  0.804878        46\n",
      "           4   0.924528  0.816667  0.867257        60\n",
      "\n",
      "    accuracy                       0.822581       496\n",
      "   macro avg   0.797977  0.746083  0.766381       496\n",
      "weighted avg   0.831100  0.822581  0.821023       496\n",
      "\n"
     ]
    }
   ],
   "source": [
    "#y_sub_dt\n",
    "from sklearn.metrics import precision_score, recall_score\n",
    "f1_teacher = f1_score(y_test_dt, preds_teacher_model_fin, average=\"macro\")\n",
    "prec_teacher = precision_score(y_test_dt, preds_teacher_model_fin, average=\"macro\")\n",
    "recall_teacher = recall_score(y_test_dt, preds_teacher_model_fin, average=\"macro\")\n",
    "if VBS:\n",
    "    print(\"Precision: {}\".format(prec_teacher)) \n",
    "    print(\"Recall: {}\".format(recall_teacher))\n",
    "    print(\"F1 score: {}\".format(f1_teacher))\n",
    "\n",
    "    report_teacher = classification_report(y_test_dt, preds_teacher_model_fin, digits=6)\n",
    "    print(report_teacher)"
   ]
  },
  {
   "cell_type": "code",
   "execution_count": null,
   "metadata": {
    "id": "3mqgbuin4jOH"
   },
   "outputs": [],
   "source": [
    "#student model\n",
    "def get_model_1d_cnn():\n",
    "    nclass = 5\n",
    "    inp = Input(shape=(3000, 1))\n",
    "    img_1 = Conv1D(4, kernel_size=6, activation=activations.relu, strides=1, padding=\"valid\")(inp)\n",
    "    #img_1 = Conv1D(128, kernel_size=5, activation=activations.relu, strides=1, padding=\"valid\")(img_1)\n",
    "    img_1 = MaxPooling1D(pool_size=2)(img_1)\n",
    "    #img_1 = SpatialDropout1D(rate=0.2)(img_1)\n",
    "    img_1 = Conv1D(4, kernel_size=5, activation=activations.relu, strides=1, padding=\"valid\")(img_1)\n",
    "    #img_1 = Conv1D(256, kernel_size=7, activation=activations.relu, strides=1, padding=\"valid\")(img_1)\n",
    "    img_1 = MaxPooling1D(pool_size=2)(img_1)\n",
    "    #img_1 = SpatialDropout1D(rate=0.01)(img_1)\n",
    "    img_1 = Conv1D(10, kernel_size=4, activation=activations.relu, strides=1, padding=\"valid\")(img_1)\n",
    "    #img_1 = Conv1D(64, kernel_size=4, activation=activations.relu, strides=1, padding=\"valid\")(img_1)\n",
    "    img_1 = MaxPooling1D(pool_size=2)(img_1)\n",
    "    #img_1 = SpatialDropout1D(rate=0.01)(img_1)\n",
    "    img_1 = Conv1D(10, kernel_size=4, activation=activations.relu, strides=1, padding=\"valid\")(img_1)\n",
    "    img_1 = MaxPooling1D(pool_size=2)(img_1)\n",
    "    #img_1 = Conv1D(64, kernel_size=6, activation=activations.relu, strides=1, padding=\"valid\")(img_1)\n",
    "    #img_1 = MaxPooling1D(pool_size=2)(img_1)\n",
    "    img_1 = Flatten()(img_1)\n",
    "\n",
    "    \n",
    "    dense_1 = Dropout(rate=0.5)(img_1)\n",
    "    #dense_1 = Dropout(rate=0.05)(Dense(64, activation=activations.relu, name=\"dense_2\")(dense_1))\n",
    "    dense_1 = Dense(nclass, activation=activations.softmax)(dense_1)\n",
    "\n",
    "    model = Model(inputs=inp, outputs=dense_1)\n",
    "    opt = Adam(0.001)\n",
    "\n",
    "    model.compile(optimizer=opt, loss='categorical_crossentropy', metrics=['acc'])\n",
    "    model.summary()\n",
    "    return model"
   ]
  },
  {
   "cell_type": "code",
   "execution_count": null,
   "metadata": {
    "colab": {
     "base_uri": "https://localhost:8080/"
    },
    "id": "nGwVvNpi4jQY",
    "outputId": "262af4f0-f500-4bcd-a379-5645524fc7b1"
   },
   "outputs": [
    {
     "name": "stdout",
     "output_type": "stream",
     "text": [
      "Model: \"model_1\"\n",
      "_________________________________________________________________\n",
      " Layer (type)                Output Shape              Param #   \n",
      "=================================================================\n",
      " input_1 (InputLayer)        [(None, 3000, 1)]         0         \n",
      "                                                                 \n",
      " conv1d (Conv1D)             (None, 2995, 4)           28        \n",
      "                                                                 \n",
      " max_pooling1d (MaxPooling1D  (None, 1497, 4)          0         \n",
      " )                                                               \n",
      "                                                                 \n",
      " conv1d_1 (Conv1D)           (None, 1493, 4)           84        \n",
      "                                                                 \n",
      " max_pooling1d_1 (MaxPooling  (None, 746, 4)           0         \n",
      " 1D)                                                             \n",
      "                                                                 \n",
      " conv1d_2 (Conv1D)           (None, 743, 10)           170       \n",
      "                                                                 \n",
      " max_pooling1d_2 (MaxPooling  (None, 371, 10)          0         \n",
      " 1D)                                                             \n",
      "                                                                 \n",
      " conv1d_3 (Conv1D)           (None, 368, 10)           410       \n",
      "                                                                 \n",
      " max_pooling1d_3 (MaxPooling  (None, 184, 10)          0         \n",
      " 1D)                                                             \n",
      "                                                                 \n",
      " flatten (Flatten)           (None, 1840)              0         \n",
      "                                                                 \n",
      " dropout (Dropout)           (None, 1840)              0         \n",
      "                                                                 \n",
      " dense (Dense)               (None, 5)                 9205      \n",
      "                                                                 \n",
      "=================================================================\n",
      "Total params: 9,897\n",
      "Trainable params: 9,897\n",
      "Non-trainable params: 0\n",
      "_________________________________________________________________\n"
     ]
    }
   ],
   "source": [
    "#student_model=get_model_cnn()\n",
    "student_model=get_model_1d_cnn()"
   ]
  },
  {
   "cell_type": "code",
   "execution_count": null,
   "metadata": {
    "id": "wpAUsl004jSt"
   },
   "outputs": [],
   "source": [
    "class Distiller(keras.Model):\n",
    "    def __init__(self, student, teacher):\n",
    "        super(Distiller, self).__init__()\n",
    "        self.teacher = teacher\n",
    "        self.student = student\n",
    "\n",
    "    def compile(\n",
    "        self,\n",
    "        optimizer,\n",
    "        metrics,\n",
    "        student_loss_fn,\n",
    "        distillation_loss_fn,\n",
    "        alpha=0.1,\n",
    "        temperature=3,\n",
    "    ):\n",
    "        \"\"\" Configure the distiller.\n",
    "\n",
    "        Args:\n",
    "            optimizer: Keras optimizer for the student weights\n",
    "            metrics: Keras metrics for evaluation\n",
    "            student_loss_fn: Loss function of difference between student\n",
    "                predictions and ground-truth\n",
    "            distillation_loss_fn: Loss function of difference between soft\n",
    "                student predictions and soft teacher predictions\n",
    "            alpha: weight to student_loss_fn and 1-alpha to distillation_loss_fn\n",
    "            temperature: Temperature for softening probability distributions.\n",
    "                Larger temperature gives softer distributions.\n",
    "        \"\"\"\n",
    "        super(Distiller, self).compile(optimizer=optimizer, metrics=metrics)\n",
    "        self.student_loss_fn = student_loss_fn\n",
    "        self.distillation_loss_fn = distillation_loss_fn\n",
    "        self.alpha = alpha\n",
    "        self.temperature = temperature\n",
    "\n",
    "    def train_step(self, data):\n",
    "        # Unpack data\n",
    "        x, y = data\n",
    "\n",
    "        # Forward pass of teacher\n",
    "        teacher_predictions = self.teacher(x, training=False)\n",
    "\n",
    "        with tf.GradientTape() as tape:\n",
    "            # Forward pass of student\n",
    "            student_predictions = self.student(x, training=True)\n",
    "\n",
    "            # Compute losses\n",
    "            student_loss = self.student_loss_fn(y, student_predictions)\n",
    "            distillation_loss = self.distillation_loss_fn(\n",
    "                tf.nn.softmax(teacher_predictions / self.temperature, axis=1),\n",
    "                tf.nn.softmax(student_predictions / self.temperature, axis=1),\n",
    "            )\n",
    "            loss = self.alpha * student_loss + (1 - self.alpha) * distillation_loss\n",
    "\n",
    "        # Compute gradients\n",
    "        trainable_vars = self.student.trainable_variables\n",
    "        gradients = tape.gradient(loss, trainable_vars)\n",
    "\n",
    "        # Update weights\n",
    "        self.optimizer.apply_gradients(zip(gradients, trainable_vars))\n",
    "\n",
    "        # Update the metrics configured in `compile()`.\n",
    "        self.compiled_metrics.update_state(y, student_predictions)\n",
    "\n",
    "        # Return a dict of performance\n",
    "        results = {m.name: m.result() for m in self.metrics}\n",
    "        results.update(\n",
    "            {\"student_loss\": student_loss, \"distillation_loss\": distillation_loss}\n",
    "        )\n",
    "        return results\n",
    "\n",
    "    def test_step(self, data):\n",
    "        # Unpack the data\n",
    "        x, y = data\n",
    "\n",
    "        # Compute predictions\n",
    "        y_prediction = self.student(x, training=False)\n",
    "\n",
    "        # Calculate the loss\n",
    "        student_loss = self.student_loss_fn(y, y_prediction)\n",
    "\n",
    "        # Update the metrics.\n",
    "        self.compiled_metrics.update_state(y, y_prediction)\n",
    "\n",
    "        # Return a dict of performance\n",
    "        results = {m.name: m.result() for m in self.metrics}\n",
    "        results.update({\"student_loss\": student_loss})\n",
    "        return results\n"
   ]
  },
  {
   "cell_type": "code",
   "execution_count": null,
   "metadata": {
    "colab": {
     "base_uri": "https://localhost:8080/"
    },
    "id": "zFdhnkQB5a_m",
    "outputId": "edb8233e-649a-4bda-c190-8e482a6025dd"
   },
   "outputs": [
    {
     "name": "stdout",
     "output_type": "stream",
     "text": [
      "Epoch 1/80\n",
      "3710/3710 [==============================] - 34s 8ms/step - categorical_accuracy: 0.6825 - student_loss: 0.7752 - distillation_loss: 0.0017\n",
      "Epoch 2/80\n",
      "3710/3710 [==============================] - 29s 8ms/step - categorical_accuracy: 0.7594 - student_loss: 0.5744 - distillation_loss: 0.0013\n",
      "Epoch 3/80\n",
      "3710/3710 [==============================] - 29s 8ms/step - categorical_accuracy: 0.7765 - student_loss: 0.5356 - distillation_loss: 0.0012\n",
      "Epoch 4/80\n",
      "3710/3710 [==============================] - 29s 8ms/step - categorical_accuracy: 0.7874 - student_loss: 0.5087 - distillation_loss: 0.0011\n",
      "Epoch 5/80\n",
      "3710/3710 [==============================] - 29s 8ms/step - categorical_accuracy: 0.8002 - student_loss: 0.4843 - distillation_loss: 0.0011\n",
      "Epoch 6/80\n",
      "3710/3710 [==============================] - 29s 8ms/step - categorical_accuracy: 0.8113 - student_loss: 0.4598 - distillation_loss: 0.0010\n",
      "Epoch 7/80\n",
      "3710/3710 [==============================] - 29s 8ms/step - categorical_accuracy: 0.8226 - student_loss: 0.4384 - distillation_loss: 9.6449e-04\n",
      "Epoch 8/80\n",
      "3710/3710 [==============================] - 29s 8ms/step - categorical_accuracy: 0.8304 - student_loss: 0.4189 - distillation_loss: 9.1694e-04\n",
      "Epoch 9/80\n",
      "3710/3710 [==============================] - 29s 8ms/step - categorical_accuracy: 0.8376 - student_loss: 0.4022 - distillation_loss: 8.7840e-04\n",
      "Epoch 10/80\n",
      "3710/3710 [==============================] - 29s 8ms/step - categorical_accuracy: 0.8418 - student_loss: 0.3930 - distillation_loss: 8.5831e-04\n",
      "Epoch 11/80\n",
      "3710/3710 [==============================] - 29s 8ms/step - categorical_accuracy: 0.8451 - student_loss: 0.3872 - distillation_loss: 8.4292e-04\n",
      "Epoch 12/80\n",
      "3710/3710 [==============================] - 29s 8ms/step - categorical_accuracy: 0.8484 - student_loss: 0.3761 - distillation_loss: 8.2066e-04\n",
      "Epoch 13/80\n",
      "3710/3710 [==============================] - 29s 8ms/step - categorical_accuracy: 0.8490 - student_loss: 0.3751 - distillation_loss: 8.2033e-04\n",
      "Epoch 14/80\n",
      "3710/3710 [==============================] - 29s 8ms/step - categorical_accuracy: 0.8520 - student_loss: 0.3718 - distillation_loss: 8.1035e-04\n",
      "Epoch 15/80\n",
      "3710/3710 [==============================] - 29s 8ms/step - categorical_accuracy: 0.8527 - student_loss: 0.3692 - distillation_loss: 8.0440e-04\n",
      "Epoch 16/80\n",
      "3710/3710 [==============================] - 29s 8ms/step - categorical_accuracy: 0.8520 - student_loss: 0.3688 - distillation_loss: 8.0709e-04\n",
      "Epoch 17/80\n",
      "3710/3710 [==============================] - 29s 8ms/step - categorical_accuracy: 0.8539 - student_loss: 0.3646 - distillation_loss: 7.9562e-04\n",
      "Epoch 18/80\n",
      "3710/3710 [==============================] - 29s 8ms/step - categorical_accuracy: 0.8554 - student_loss: 0.3614 - distillation_loss: 7.8866e-04\n",
      "Epoch 19/80\n",
      "3710/3710 [==============================] - 29s 8ms/step - categorical_accuracy: 0.8567 - student_loss: 0.3595 - distillation_loss: 7.8575e-04\n",
      "Epoch 20/80\n",
      "3710/3710 [==============================] - 30s 8ms/step - categorical_accuracy: 0.8577 - student_loss: 0.3566 - distillation_loss: 7.7615e-04\n",
      "Epoch 21/80\n",
      "3710/3710 [==============================] - 29s 8ms/step - categorical_accuracy: 0.8582 - student_loss: 0.3556 - distillation_loss: 7.7560e-04\n",
      "Epoch 22/80\n",
      "3710/3710 [==============================] - 29s 8ms/step - categorical_accuracy: 0.8581 - student_loss: 0.3550 - distillation_loss: 7.7698e-04\n",
      "Epoch 23/80\n",
      "3710/3710 [==============================] - 29s 8ms/step - categorical_accuracy: 0.8591 - student_loss: 0.3556 - distillation_loss: 7.7545e-04\n",
      "Epoch 24/80\n",
      "3710/3710 [==============================] - 29s 8ms/step - categorical_accuracy: 0.8596 - student_loss: 0.3518 - distillation_loss: 7.6880e-04\n",
      "Epoch 25/80\n",
      "3710/3710 [==============================] - 29s 8ms/step - categorical_accuracy: 0.8612 - student_loss: 0.3484 - distillation_loss: 7.6141e-04\n",
      "Epoch 26/80\n",
      "3710/3710 [==============================] - 29s 8ms/step - categorical_accuracy: 0.8614 - student_loss: 0.3516 - distillation_loss: 7.6768e-04\n",
      "Epoch 27/80\n",
      "3710/3710 [==============================] - 29s 8ms/step - categorical_accuracy: 0.8619 - student_loss: 0.3463 - distillation_loss: 7.5733e-04\n",
      "Epoch 28/80\n",
      "3710/3710 [==============================] - 29s 8ms/step - categorical_accuracy: 0.8612 - student_loss: 0.3470 - distillation_loss: 7.6042e-04\n",
      "Epoch 29/80\n",
      "3710/3710 [==============================] - 29s 8ms/step - categorical_accuracy: 0.8639 - student_loss: 0.3416 - distillation_loss: 7.4698e-04\n",
      "Epoch 30/80\n",
      "3710/3710 [==============================] - 29s 8ms/step - categorical_accuracy: 0.8644 - student_loss: 0.3421 - distillation_loss: 7.4774e-04\n",
      "Epoch 31/80\n",
      "3710/3710 [==============================] - 29s 8ms/step - categorical_accuracy: 0.8633 - student_loss: 0.3430 - distillation_loss: 7.5150e-04\n",
      "Epoch 32/80\n",
      "3710/3710 [==============================] - 29s 8ms/step - categorical_accuracy: 0.8650 - student_loss: 0.3415 - distillation_loss: 7.4600e-04\n",
      "Epoch 33/80\n",
      "3710/3710 [==============================] - 29s 8ms/step - categorical_accuracy: 0.8631 - student_loss: 0.3429 - distillation_loss: 7.5209e-04\n",
      "Epoch 34/80\n",
      "3710/3710 [==============================] - 29s 8ms/step - categorical_accuracy: 0.8657 - student_loss: 0.3380 - distillation_loss: 7.4132e-04\n",
      "Epoch 35/80\n",
      "3710/3710 [==============================] - 29s 8ms/step - categorical_accuracy: 0.8644 - student_loss: 0.3404 - distillation_loss: 7.4685e-04\n",
      "Epoch 36/80\n",
      "3710/3710 [==============================] - 29s 8ms/step - categorical_accuracy: 0.8659 - student_loss: 0.3385 - distillation_loss: 7.4043e-04\n",
      "Epoch 37/80\n",
      "3710/3710 [==============================] - 29s 8ms/step - categorical_accuracy: 0.8652 - student_loss: 0.3396 - distillation_loss: 7.4539e-04\n",
      "Epoch 38/80\n",
      "3710/3710 [==============================] - 29s 8ms/step - categorical_accuracy: 0.8658 - student_loss: 0.3391 - distillation_loss: 7.4079e-04\n",
      "Epoch 39/80\n",
      "3710/3710 [==============================] - 29s 8ms/step - categorical_accuracy: 0.8672 - student_loss: 0.3346 - distillation_loss: 7.3285e-04\n",
      "Epoch 40/80\n",
      "3710/3710 [==============================] - 29s 8ms/step - categorical_accuracy: 0.8654 - student_loss: 0.3365 - distillation_loss: 7.4037e-04\n",
      "Epoch 41/80\n",
      "3710/3710 [==============================] - 30s 8ms/step - categorical_accuracy: 0.8656 - student_loss: 0.3360 - distillation_loss: 7.3617e-04\n",
      "Epoch 42/80\n",
      "3710/3710 [==============================] - 29s 8ms/step - categorical_accuracy: 0.8666 - student_loss: 0.3342 - distillation_loss: 7.3519e-04\n",
      "Epoch 43/80\n",
      "3710/3710 [==============================] - 29s 8ms/step - categorical_accuracy: 0.8665 - student_loss: 0.3369 - distillation_loss: 7.3605e-04\n",
      "Epoch 44/80\n",
      "3710/3710 [==============================] - 29s 8ms/step - categorical_accuracy: 0.8675 - student_loss: 0.3343 - distillation_loss: 7.3247e-04\n",
      "Epoch 45/80\n",
      "3710/3710 [==============================] - 29s 8ms/step - categorical_accuracy: 0.8672 - student_loss: 0.3349 - distillation_loss: 7.3317e-04\n",
      "Epoch 46/80\n",
      "3710/3710 [==============================] - 29s 8ms/step - categorical_accuracy: 0.8665 - student_loss: 0.3349 - distillation_loss: 7.3433e-04\n",
      "Epoch 47/80\n",
      "3710/3710 [==============================] - 29s 8ms/step - categorical_accuracy: 0.8676 - student_loss: 0.3329 - distillation_loss: 7.2934e-04\n",
      "Epoch 48/80\n",
      "3710/3710 [==============================] - 30s 8ms/step - categorical_accuracy: 0.8688 - student_loss: 0.3332 - distillation_loss: 7.2956e-04\n",
      "Epoch 49/80\n",
      "3710/3710 [==============================] - 29s 8ms/step - categorical_accuracy: 0.8686 - student_loss: 0.3311 - distillation_loss: 7.2724e-04\n",
      "Epoch 50/80\n",
      "3710/3710 [==============================] - 29s 8ms/step - categorical_accuracy: 0.8667 - student_loss: 0.3326 - distillation_loss: 7.3004e-04\n",
      "Epoch 51/80\n",
      "3710/3710 [==============================] - 30s 8ms/step - categorical_accuracy: 0.8678 - student_loss: 0.3321 - distillation_loss: 7.2908e-04\n",
      "Epoch 52/80\n",
      "3710/3710 [==============================] - 29s 8ms/step - categorical_accuracy: 0.8680 - student_loss: 0.3311 - distillation_loss: 7.2540e-04\n",
      "Epoch 53/80\n",
      "3710/3710 [==============================] - 29s 8ms/step - categorical_accuracy: 0.8685 - student_loss: 0.3317 - distillation_loss: 7.2716e-04\n",
      "Epoch 54/80\n",
      "3710/3710 [==============================] - 29s 8ms/step - categorical_accuracy: 0.8679 - student_loss: 0.3323 - distillation_loss: 7.2983e-04\n",
      "Epoch 55/80\n",
      "3710/3710 [==============================] - 29s 8ms/step - categorical_accuracy: 0.8683 - student_loss: 0.3312 - distillation_loss: 7.2888e-04\n",
      "Epoch 56/80\n",
      "3710/3710 [==============================] - 29s 8ms/step - categorical_accuracy: 0.8691 - student_loss: 0.3311 - distillation_loss: 7.2547e-04\n",
      "Epoch 57/80\n",
      "3710/3710 [==============================] - 29s 8ms/step - categorical_accuracy: 0.8690 - student_loss: 0.3300 - distillation_loss: 7.2660e-04\n",
      "Epoch 58/80\n",
      "3710/3710 [==============================] - 29s 8ms/step - categorical_accuracy: 0.8688 - student_loss: 0.3316 - distillation_loss: 7.2759e-04\n",
      "Epoch 59/80\n",
      "3710/3710 [==============================] - 29s 8ms/step - categorical_accuracy: 0.8695 - student_loss: 0.3304 - distillation_loss: 7.2357e-04\n",
      "Epoch 60/80\n",
      "3710/3710 [==============================] - 29s 8ms/step - categorical_accuracy: 0.8692 - student_loss: 0.3287 - distillation_loss: 7.2087e-04\n",
      "Epoch 61/80\n",
      "3710/3710 [==============================] - 30s 8ms/step - categorical_accuracy: 0.8696 - student_loss: 0.3295 - distillation_loss: 7.2294e-04\n",
      "Epoch 62/80\n",
      "3710/3710 [==============================] - 29s 8ms/step - categorical_accuracy: 0.8692 - student_loss: 0.3300 - distillation_loss: 7.2661e-04\n",
      "Epoch 63/80\n",
      "3710/3710 [==============================] - 29s 8ms/step - categorical_accuracy: 0.8690 - student_loss: 0.3311 - distillation_loss: 7.2758e-04\n",
      "Epoch 64/80\n",
      "3710/3710 [==============================] - 29s 8ms/step - categorical_accuracy: 0.8699 - student_loss: 0.3284 - distillation_loss: 7.2147e-04\n",
      "Epoch 65/80\n",
      "3710/3710 [==============================] - 29s 8ms/step - categorical_accuracy: 0.8695 - student_loss: 0.3281 - distillation_loss: 7.1946e-04\n",
      "Epoch 66/80\n",
      "3710/3710 [==============================] - 29s 8ms/step - categorical_accuracy: 0.8712 - student_loss: 0.3256 - distillation_loss: 7.1702e-04\n",
      "Epoch 67/80\n",
      "3710/3710 [==============================] - 29s 8ms/step - categorical_accuracy: 0.8697 - student_loss: 0.3275 - distillation_loss: 7.2030e-04\n",
      "Epoch 68/80\n",
      "3710/3710 [==============================] - 29s 8ms/step - categorical_accuracy: 0.8703 - student_loss: 0.3274 - distillation_loss: 7.1899e-04\n",
      "Epoch 69/80\n",
      "3710/3710 [==============================] - 29s 8ms/step - categorical_accuracy: 0.8699 - student_loss: 0.3280 - distillation_loss: 7.1891e-04\n",
      "Epoch 70/80\n",
      "3710/3710 [==============================] - 29s 8ms/step - categorical_accuracy: 0.8703 - student_loss: 0.3263 - distillation_loss: 7.1738e-04\n",
      "Epoch 71/80\n",
      "3710/3710 [==============================] - 29s 8ms/step - categorical_accuracy: 0.8689 - student_loss: 0.3295 - distillation_loss: 7.2370e-04\n",
      "Epoch 72/80\n",
      "3710/3710 [==============================] - 29s 8ms/step - categorical_accuracy: 0.8703 - student_loss: 0.3265 - distillation_loss: 7.1888e-04\n",
      "Epoch 73/80\n",
      "3710/3710 [==============================] - 30s 8ms/step - categorical_accuracy: 0.8710 - student_loss: 0.3258 - distillation_loss: 7.1609e-04\n",
      "Epoch 74/80\n",
      "3710/3710 [==============================] - 29s 8ms/step - categorical_accuracy: 0.8716 - student_loss: 0.3260 - distillation_loss: 7.1460e-04\n",
      "Epoch 75/80\n",
      "3710/3710 [==============================] - 29s 8ms/step - categorical_accuracy: 0.8707 - student_loss: 0.3257 - distillation_loss: 7.1599e-04\n",
      "Epoch 76/80\n",
      "3710/3710 [==============================] - 29s 8ms/step - categorical_accuracy: 0.8718 - student_loss: 0.3261 - distillation_loss: 7.1640e-04\n",
      "Epoch 77/80\n",
      "3710/3710 [==============================] - 29s 8ms/step - categorical_accuracy: 0.8702 - student_loss: 0.3250 - distillation_loss: 7.1474e-04\n",
      "Epoch 78/80\n",
      "3710/3710 [==============================] - 29s 8ms/step - categorical_accuracy: 0.8703 - student_loss: 0.3258 - distillation_loss: 7.1723e-04\n",
      "Epoch 79/80\n",
      "3710/3710 [==============================] - 29s 8ms/step - categorical_accuracy: 0.8708 - student_loss: 0.3256 - distillation_loss: 7.1611e-04\n",
      "Epoch 80/80\n",
      "3710/3710 [==============================] - 29s 8ms/step - categorical_accuracy: 0.8709 - student_loss: 0.3252 - distillation_loss: 7.1547e-04\n"
     ]
    },
    {
     "data": {
      "text/plain": [
       "<keras.callbacks.History at 0x7fc9cf6f5f50>"
      ]
     },
     "execution_count": 41,
     "metadata": {},
     "output_type": "execute_result"
    }
   ],
   "source": [
    "# Initialize and compile distiller\n",
    "distiller = Distiller(student=student_model, teacher=teacher_model)\n",
    "distiller.compile(\n",
    "    optimizer=keras.optimizers.Adam(),\n",
    "    metrics=[keras.metrics.CategoricalAccuracy()],\n",
    "    student_loss_fn=keras.losses.CategoricalCrossentropy(from_logits=True),\n",
    "    distillation_loss_fn=keras.losses.KLDivergence(),\n",
    "    alpha=0.9,\n",
    "    temperature=5,\n",
    ")\n",
    "\n",
    "# Distill teacher to student\n",
    "distiller.fit(x_dt_rshp, y_dt_, epochs=80)\n",
    "\n",
    "# Evaluate student on test dataset\n",
    "#distiller.evaluate(x_test, y_test)"
   ]
  },
  {
   "cell_type": "code",
   "execution_count": null,
   "metadata": {
    "colab": {
     "base_uri": "https://localhost:8080/"
    },
    "id": "elmrX9j85bBw",
    "outputId": "99b23071-5023-4623-aa78-2c3888b93d9a"
   },
   "outputs": [
    {
     "name": "stdout",
     "output_type": "stream",
     "text": [
      "16/16 [==============================] - 0s 4ms/step - categorical_accuracy: 0.8347 - student_loss: 0.4912\n"
     ]
    }
   ],
   "source": [
    "accuracy_distiller = distiller.evaluate(x_test_dt_rshp, y_test_dt_)"
   ]
  },
  {
   "cell_type": "code",
   "execution_count": null,
   "metadata": {
    "id": "qB7t7QD85bEB"
   },
   "outputs": [],
   "source": [
    "preds_student_model = student_model.predict(x_test_dt_rshp)"
   ]
  },
  {
   "cell_type": "code",
   "execution_count": null,
   "metadata": {
    "id": "FST7tFMJ5bGM"
   },
   "outputs": [],
   "source": [
    "preds_student_model_fin=np.argmax(preds_student_model,axis=1)"
   ]
  },
  {
   "cell_type": "code",
   "execution_count": null,
   "metadata": {
    "colab": {
     "base_uri": "https://localhost:8080/"
    },
    "id": "BdNIrg_05i6U",
    "outputId": "1c6e0289-898d-47c1-e37a-fa57c15e72b4"
   },
   "outputs": [
    {
     "data": {
      "text/plain": [
       "array([0.94642857, 0.17647059, 0.97660819, 0.65217391, 0.81666667])"
      ]
     },
     "execution_count": 45,
     "metadata": {},
     "output_type": "execute_result"
    }
   ],
   "source": [
    "from sklearn.metrics import confusion_matrix\n",
    "matrix_student = confusion_matrix(y_test_dt, preds_student_model_fin)\n",
    "matrix_student.diagonal()/matrix_student.sum(axis=1)"
   ]
  },
  {
   "cell_type": "code",
   "execution_count": null,
   "metadata": {
    "colab": {
     "base_uri": "https://localhost:8080/"
    },
    "id": "jrk18gHF5i9D",
    "outputId": "d32a5c1b-647e-4369-c2ea-d8cdb33c9d20"
   },
   "outputs": [
    {
     "name": "stdout",
     "output_type": "stream",
     "text": [
      "Precision: 0.7936604412951678\n",
      "Recall: 0.7136695853017028\n",
      "F1 score: 0.7366282707758108\n",
      "              precision    recall  f1-score   support\n",
      "\n",
      "           0   0.893258  0.946429  0.919075       168\n",
      "           1   0.391304  0.176471  0.243243        51\n",
      "           2   0.791469  0.976608  0.874346       171\n",
      "           3   0.967742  0.652174  0.779221        46\n",
      "           4   0.924528  0.816667  0.867257        60\n",
      "\n",
      "    accuracy                       0.834677       496\n",
      "   macro avg   0.793660  0.713670  0.736628       496\n",
      "weighted avg   0.817244  0.834677  0.814925       496\n",
      "\n"
     ]
    }
   ],
   "source": [
    "#y_sub_dt\n",
    "from sklearn.metrics import precision_score, recall_score\n",
    "f1_student = f1_score(y_test_dt, preds_student_model_fin, average=\"macro\")\n",
    "prec_student = precision_score(y_test_dt, preds_student_model_fin, average=\"macro\")\n",
    "recall_student = recall_score(y_test_dt, preds_student_model_fin, average=\"macro\")\n",
    "if VBS:\n",
    "    print(\"Precision: {}\".format(prec_student)) \n",
    "    print(\"Recall: {}\".format(recall_student))\n",
    "    print(\"F1 score: {}\".format(f1_student))\n",
    "\n",
    "    report_student = classification_report(y_test_dt, preds_student_model_fin, digits=6)\n",
    "    print(report_student)"
   ]
  },
  {
   "cell_type": "markdown",
   "metadata": {
    "id": "QQZlLsqzKU-W"
   },
   "source": [
    "Trying out diff teachers and different students for perspective(the teacher who's epochs had been tuned)\n",
    "\n"
   ]
  },
  {
   "cell_type": "code",
   "execution_count": null,
   "metadata": {
    "colab": {
     "base_uri": "https://localhost:8080/"
    },
    "id": "qdGum7K45jDM",
    "outputId": "6197a09f-af6a-437c-d2b7-e4f6bd9acdb2"
   },
   "outputs": [
    {
     "name": "stdout",
     "output_type": "stream",
     "text": [
      "Model: \"model\"\n",
      "__________________________________________________________________________________________________\n",
      " Layer (type)                   Output Shape         Param #     Connected to                     \n",
      "==================================================================================================\n",
      " inLayer (InputLayer)           [(None, 3000, 1)]    0           []                               \n",
      "                                                                                                  \n",
      " fConv1 (Conv1D)                (None, 500, 64)      3264        ['inLayer[0][0]']                \n",
      "                                                                                                  \n",
      " cConv1 (Conv1D)                (None, 60, 32)       12832       ['inLayer[0][0]']                \n",
      "                                                                                                  \n",
      " fMaxP1 (MaxPooling1D)          (None, 62, 64)       0           ['fConv1[0][0]']                 \n",
      "                                                                                                  \n",
      " cMaxP1 (MaxPooling1D)          (None, 15, 32)       0           ['cConv1[0][0]']                 \n",
      "                                                                                                  \n",
      " fDrop1 (Dropout)               (None, 62, 64)       0           ['fMaxP1[0][0]']                 \n",
      "                                                                                                  \n",
      " cDrop1 (Dropout)               (None, 15, 32)       0           ['cMaxP1[0][0]']                 \n",
      "                                                                                                  \n",
      " fConv2 (Conv1D)                (None, 62, 128)      65664       ['fDrop1[0][0]']                 \n",
      "                                                                                                  \n",
      " cConv2 (Conv1D)                (None, 15, 128)      24704       ['cDrop1[0][0]']                 \n",
      "                                                                                                  \n",
      " fConv3 (Conv1D)                (None, 62, 128)      131200      ['fConv2[0][0]']                 \n",
      "                                                                                                  \n",
      " cConv3 (Conv1D)                (None, 15, 128)      98432       ['cConv2[0][0]']                 \n",
      "                                                                                                  \n",
      " fConv4 (Conv1D)                (None, 62, 128)      131200      ['fConv3[0][0]']                 \n",
      "                                                                                                  \n",
      " cConv4 (Conv1D)                (None, 15, 128)      98432       ['cConv3[0][0]']                 \n",
      "                                                                                                  \n",
      " fMaxP2 (MaxPooling1D)          (None, 15, 128)      0           ['fConv4[0][0]']                 \n",
      "                                                                                                  \n",
      " cMaxP2 (MaxPooling1D)          (None, 7, 128)       0           ['cConv4[0][0]']                 \n",
      "                                                                                                  \n",
      " fFlat1 (Flatten)               (None, 1920)         0           ['fMaxP2[0][0]']                 \n",
      "                                                                                                  \n",
      " cFlat1 (Flatten)               (None, 896)          0           ['cMaxP2[0][0]']                 \n",
      "                                                                                                  \n",
      " merge_1 (Concatenate)          (None, 2816)         0           ['fFlat1[0][0]',                 \n",
      "                                                                  'cFlat1[0][0]']                 \n",
      "                                                                                                  \n",
      " mDrop1 (Dropout)               (None, 2816)         0           ['merge_1[0][0]']                \n",
      "                                                                                                  \n",
      " reshape1 (Reshape)             (None, 1, 2816)      0           ['mDrop1[0][0]']                 \n",
      "                                                                                                  \n",
      " lstm (LSTM)                    (None, 1, 64)        737536      ['reshape1[0][0]']               \n",
      "                                                                                                  \n",
      " lstm_1 (LSTM)                  (None, 64)           33024       ['lstm[0][0]']                   \n",
      "                                                                                                  \n",
      " outLayer (Dense)               (None, 5)            325         ['lstm_1[0][0]']                 \n",
      "                                                                                                  \n",
      "==================================================================================================\n",
      "Total params: 1,336,613\n",
      "Trainable params: 1,336,613\n",
      "Non-trainable params: 0\n",
      "__________________________________________________________________________________________________\n"
     ]
    }
   ],
   "source": [
    "final_teacher_model=model_b(verbose=VBS) #70 epochs teacher model"
   ]
  },
  {
   "cell_type": "code",
   "execution_count": null,
   "metadata": {
    "id": "PyLtjrezKcgb"
   },
   "outputs": [],
   "source": [
    "final_teacher_model.compile(optimizer=optimizer, loss='categorical_crossentropy', metrics=['accuracy'])"
   ]
  },
  {
   "cell_type": "code",
   "execution_count": null,
   "metadata": {
    "colab": {
     "base_uri": "https://localhost:8080/"
    },
    "id": "vqRp1pBgKcip",
    "outputId": "6b5b1479-f9ee-4d92-db5c-7a97e3d175de"
   },
   "outputs": [
    {
     "name": "stdout",
     "output_type": "stream",
     "text": [
      "Epoch 1/70\n",
      "3710/3710 [==============================] - 50s 9ms/step - loss: 0.6628 - accuracy: 0.7326\n",
      "Epoch 2/70\n",
      "3710/3710 [==============================] - 33s 9ms/step - loss: 0.3743 - accuracy: 0.8539\n",
      "Epoch 3/70\n",
      "3710/3710 [==============================] - 33s 9ms/step - loss: 0.3162 - accuracy: 0.8753\n",
      "Epoch 4/70\n",
      "3710/3710 [==============================] - 33s 9ms/step - loss: 0.2764 - accuracy: 0.8915\n",
      "Epoch 5/70\n",
      "3710/3710 [==============================] - 33s 9ms/step - loss: 0.2461 - accuracy: 0.9030\n",
      "Epoch 6/70\n",
      "3710/3710 [==============================] - 33s 9ms/step - loss: 0.2241 - accuracy: 0.9122\n",
      "Epoch 7/70\n",
      "3710/3710 [==============================] - 33s 9ms/step - loss: 0.2094 - accuracy: 0.9171\n",
      "Epoch 8/70\n",
      "3710/3710 [==============================] - 33s 9ms/step - loss: 0.1950 - accuracy: 0.9229\n",
      "Epoch 9/70\n",
      "3710/3710 [==============================] - 33s 9ms/step - loss: 0.1858 - accuracy: 0.9264\n",
      "Epoch 10/70\n",
      "3710/3710 [==============================] - 32s 9ms/step - loss: 0.1773 - accuracy: 0.9299\n",
      "Epoch 11/70\n",
      "3710/3710 [==============================] - 32s 9ms/step - loss: 0.1713 - accuracy: 0.9322\n",
      "Epoch 12/70\n",
      "3710/3710 [==============================] - 33s 9ms/step - loss: 0.1638 - accuracy: 0.9347\n",
      "Epoch 13/70\n",
      "3710/3710 [==============================] - 32s 9ms/step - loss: 0.1594 - accuracy: 0.9369\n",
      "Epoch 14/70\n",
      "3710/3710 [==============================] - 33s 9ms/step - loss: 0.1549 - accuracy: 0.9385\n",
      "Epoch 15/70\n",
      "3710/3710 [==============================] - 33s 9ms/step - loss: 0.1484 - accuracy: 0.9412\n",
      "Epoch 16/70\n",
      "3710/3710 [==============================] - 33s 9ms/step - loss: 0.1455 - accuracy: 0.9420\n",
      "Epoch 17/70\n",
      "3710/3710 [==============================] - 33s 9ms/step - loss: 0.1428 - accuracy: 0.9426\n",
      "Epoch 18/70\n",
      "3710/3710 [==============================] - 33s 9ms/step - loss: 0.1385 - accuracy: 0.9452\n",
      "Epoch 19/70\n",
      "3710/3710 [==============================] - 33s 9ms/step - loss: 0.1334 - accuracy: 0.9466\n",
      "Epoch 20/70\n",
      "3710/3710 [==============================] - 33s 9ms/step - loss: 0.1300 - accuracy: 0.9483\n",
      "Epoch 21/70\n",
      "3710/3710 [==============================] - 34s 9ms/step - loss: 0.1282 - accuracy: 0.9495\n",
      "Epoch 22/70\n",
      "3710/3710 [==============================] - 33s 9ms/step - loss: 0.1242 - accuracy: 0.9505\n",
      "Epoch 23/70\n",
      "3710/3710 [==============================] - 33s 9ms/step - loss: 0.1224 - accuracy: 0.9522\n",
      "Epoch 24/70\n",
      "3710/3710 [==============================] - 32s 9ms/step - loss: 0.1205 - accuracy: 0.9518\n",
      "Epoch 25/70\n",
      "3710/3710 [==============================] - 33s 9ms/step - loss: 0.1196 - accuracy: 0.9526\n",
      "Epoch 26/70\n",
      "3710/3710 [==============================] - 33s 9ms/step - loss: 0.1153 - accuracy: 0.9547\n",
      "Epoch 27/70\n",
      "3710/3710 [==============================] - 32s 9ms/step - loss: 0.1112 - accuracy: 0.9567\n",
      "Epoch 28/70\n",
      "3710/3710 [==============================] - 33s 9ms/step - loss: 0.1098 - accuracy: 0.9574\n",
      "Epoch 29/70\n",
      "3710/3710 [==============================] - 32s 9ms/step - loss: 0.1068 - accuracy: 0.9584\n",
      "Epoch 30/70\n",
      "3710/3710 [==============================] - 33s 9ms/step - loss: 0.1083 - accuracy: 0.9577\n",
      "Epoch 31/70\n",
      "3710/3710 [==============================] - 32s 9ms/step - loss: 0.1048 - accuracy: 0.9594\n",
      "Epoch 32/70\n",
      "3710/3710 [==============================] - 33s 9ms/step - loss: 0.1032 - accuracy: 0.9600\n",
      "Epoch 33/70\n",
      "3710/3710 [==============================] - 32s 9ms/step - loss: 0.0994 - accuracy: 0.9608\n",
      "Epoch 34/70\n",
      "3710/3710 [==============================] - 32s 9ms/step - loss: 0.0989 - accuracy: 0.9610\n",
      "Epoch 35/70\n",
      "3710/3710 [==============================] - 33s 9ms/step - loss: 0.0977 - accuracy: 0.9623\n",
      "Epoch 36/70\n",
      "3710/3710 [==============================] - 33s 9ms/step - loss: 0.0951 - accuracy: 0.9626\n",
      "Epoch 37/70\n",
      "3710/3710 [==============================] - 33s 9ms/step - loss: 0.0939 - accuracy: 0.9635\n",
      "Epoch 38/70\n",
      "3710/3710 [==============================] - 32s 9ms/step - loss: 0.0913 - accuracy: 0.9646\n",
      "Epoch 39/70\n",
      "3710/3710 [==============================] - 33s 9ms/step - loss: 0.0908 - accuracy: 0.9653\n",
      "Epoch 40/70\n",
      "3710/3710 [==============================] - 33s 9ms/step - loss: 0.0900 - accuracy: 0.9651\n",
      "Epoch 41/70\n",
      "3710/3710 [==============================] - 33s 9ms/step - loss: 0.0875 - accuracy: 0.9663\n",
      "Epoch 42/70\n",
      "3710/3710 [==============================] - 33s 9ms/step - loss: 0.0861 - accuracy: 0.9667\n",
      "Epoch 43/70\n",
      "3710/3710 [==============================] - 33s 9ms/step - loss: 0.0828 - accuracy: 0.9682\n",
      "Epoch 44/70\n",
      "3710/3710 [==============================] - 33s 9ms/step - loss: 0.0822 - accuracy: 0.9683\n",
      "Epoch 45/70\n",
      "3710/3710 [==============================] - 32s 9ms/step - loss: 0.0797 - accuracy: 0.9696\n",
      "Epoch 46/70\n",
      "3710/3710 [==============================] - 33s 9ms/step - loss: 0.0819 - accuracy: 0.9683\n",
      "Epoch 47/70\n",
      "3710/3710 [==============================] - 33s 9ms/step - loss: 0.0788 - accuracy: 0.9698\n",
      "Epoch 48/70\n",
      "3710/3710 [==============================] - 33s 9ms/step - loss: 0.0777 - accuracy: 0.9701\n",
      "Epoch 49/70\n",
      "3710/3710 [==============================] - 33s 9ms/step - loss: 0.0763 - accuracy: 0.9707\n",
      "Epoch 50/70\n",
      "3710/3710 [==============================] - 33s 9ms/step - loss: 0.0766 - accuracy: 0.9712\n",
      "Epoch 51/70\n",
      "3710/3710 [==============================] - 33s 9ms/step - loss: 0.0746 - accuracy: 0.9716\n",
      "Epoch 52/70\n",
      "3710/3710 [==============================] - 33s 9ms/step - loss: 0.0733 - accuracy: 0.9721\n",
      "Epoch 53/70\n",
      "3710/3710 [==============================] - 33s 9ms/step - loss: 0.0730 - accuracy: 0.9722\n",
      "Epoch 54/70\n",
      "3710/3710 [==============================] - 33s 9ms/step - loss: 0.0704 - accuracy: 0.9728\n",
      "Epoch 55/70\n",
      "3710/3710 [==============================] - 33s 9ms/step - loss: 0.0717 - accuracy: 0.9727\n",
      "Epoch 56/70\n",
      "3710/3710 [==============================] - 33s 9ms/step - loss: 0.0696 - accuracy: 0.9737\n",
      "Epoch 57/70\n",
      "3710/3710 [==============================] - 33s 9ms/step - loss: 0.0674 - accuracy: 0.9741\n",
      "Epoch 58/70\n",
      "3710/3710 [==============================] - 33s 9ms/step - loss: 0.0681 - accuracy: 0.9746\n",
      "Epoch 59/70\n",
      "3710/3710 [==============================] - 33s 9ms/step - loss: 0.0685 - accuracy: 0.9742\n",
      "Epoch 60/70\n",
      "3710/3710 [==============================] - 33s 9ms/step - loss: 0.0659 - accuracy: 0.9752\n",
      "Epoch 61/70\n",
      "3710/3710 [==============================] - 33s 9ms/step - loss: 0.0640 - accuracy: 0.9757\n",
      "Epoch 62/70\n",
      "3710/3710 [==============================] - 33s 9ms/step - loss: 0.0653 - accuracy: 0.9755\n",
      "Epoch 63/70\n",
      "3710/3710 [==============================] - 33s 9ms/step - loss: 0.0644 - accuracy: 0.9757\n",
      "Epoch 64/70\n",
      "3710/3710 [==============================] - 33s 9ms/step - loss: 0.0642 - accuracy: 0.9757\n",
      "Epoch 65/70\n",
      "3710/3710 [==============================] - 33s 9ms/step - loss: 0.0620 - accuracy: 0.9766\n",
      "Epoch 66/70\n",
      "3710/3710 [==============================] - 32s 9ms/step - loss: 0.0616 - accuracy: 0.9773\n",
      "Epoch 67/70\n",
      "3710/3710 [==============================] - 33s 9ms/step - loss: 0.0590 - accuracy: 0.9775\n",
      "Epoch 68/70\n",
      "3710/3710 [==============================] - 32s 9ms/step - loss: 0.0593 - accuracy: 0.9778\n",
      "Epoch 69/70\n",
      "3710/3710 [==============================] - 33s 9ms/step - loss: 0.0588 - accuracy: 0.9778\n",
      "Epoch 70/70\n",
      "3710/3710 [==============================] - 32s 9ms/step - loss: 0.0583 - accuracy: 0.9775\n"
     ]
    },
    {
     "data": {
      "text/plain": [
       "<keras.callbacks.History at 0x7fee8e1a4e10>"
      ]
     },
     "execution_count": 33,
     "metadata": {},
     "output_type": "execute_result"
    }
   ],
   "source": [
    "final_teacher_model.fit(x_dt_rshp, y_dt_, epochs=70)"
   ]
  },
  {
   "cell_type": "code",
   "execution_count": null,
   "metadata": {
    "colab": {
     "base_uri": "https://localhost:8080/"
    },
    "id": "Yn8YjmKQKckt",
    "outputId": "1eb9e1ae-ece1-4202-8c30-9e5feb418c89"
   },
   "outputs": [
    {
     "name": "stdout",
     "output_type": "stream",
     "text": [
      "16/16 [==============================] - 1s 9ms/step - loss: 1.0005 - accuracy: 0.8105\n"
     ]
    }
   ],
   "source": [
    "accuracy_final_teacher_model = final_teacher_model.evaluate(x_test_dt_rshp, y_test_dt_)"
   ]
  },
  {
   "cell_type": "code",
   "execution_count": null,
   "metadata": {
    "id": "RnF7POZkKcnA"
   },
   "outputs": [],
   "source": [
    "preds_final_teacher_model = final_teacher_model.predict(x_test_dt_rshp)"
   ]
  },
  {
   "cell_type": "code",
   "execution_count": null,
   "metadata": {
    "id": "kjAWiPtHKcph"
   },
   "outputs": [],
   "source": [
    "preds_final_teacher_model_fin=np.argmax(preds_final_teacher_model,axis=1)"
   ]
  },
  {
   "cell_type": "code",
   "execution_count": null,
   "metadata": {
    "colab": {
     "base_uri": "https://localhost:8080/"
    },
    "id": "VAKoeJuuKmbj",
    "outputId": "2849314d-1f43-4ecf-e2dc-48faa880300f"
   },
   "outputs": [
    {
     "data": {
      "text/plain": [
       "array([0.80357143, 0.43137255, 0.97076023, 0.56521739, 0.88333333])"
      ]
     },
     "execution_count": 37,
     "metadata": {},
     "output_type": "execute_result"
    }
   ],
   "source": [
    "from sklearn.metrics import confusion_matrix\n",
    "matrix_final_teacher = confusion_matrix(y_test_dt, preds_final_teacher_model_fin)\n",
    "matrix_final_teacher.diagonal()/matrix_final_teacher.sum(axis=1)"
   ]
  },
  {
   "cell_type": "code",
   "execution_count": null,
   "metadata": {
    "colab": {
     "base_uri": "https://localhost:8080/"
    },
    "id": "0UCsp_QUKp3J",
    "outputId": "14d25a0e-bc3c-4608-adfb-11973f48a08f"
   },
   "outputs": [
    {
     "name": "stdout",
     "output_type": "stream",
     "text": [
      "Precision: 0.7900371607604706\n",
      "Recall: 0.7308509872293693\n",
      "F1 score: 0.7464656909960764\n",
      "              precision    recall  f1-score   support\n",
      "\n",
      "           0   0.957447  0.803571  0.873786       168\n",
      "           1   0.431373  0.431373  0.431373        51\n",
      "           2   0.783019  0.970760  0.866841       171\n",
      "           3   0.962963  0.565217  0.712329        46\n",
      "           4   0.815385  0.883333  0.848000        60\n",
      "\n",
      "    accuracy                       0.810484       496\n",
      "   macro avg   0.790037  0.730851  0.746466       496\n",
      "weighted avg   0.826546  0.810484  0.807808       496\n",
      "\n"
     ]
    }
   ],
   "source": [
    "#y_sub_dt\n",
    "from sklearn.metrics import precision_score, recall_score\n",
    "f1_final_teacher = f1_score(y_test_dt, preds_final_teacher_model_fin, average=\"macro\")\n",
    "prec_final_teacher = precision_score(y_test_dt, preds_final_teacher_model_fin, average=\"macro\")\n",
    "recall_final_teacher = recall_score(y_test_dt, preds_final_teacher_model_fin, average=\"macro\")\n",
    "if VBS:\n",
    "    print(\"Precision: {}\".format(prec_final_teacher)) \n",
    "    print(\"Recall: {}\".format(recall_final_teacher))\n",
    "    print(\"F1 score: {}\".format(f1_final_teacher))\n",
    "\n",
    "    report_final_teacher = classification_report(y_test_dt, preds_final_teacher_model_fin, digits=6)\n",
    "    print(report_final_teacher)"
   ]
  },
  {
   "cell_type": "code",
   "execution_count": null,
   "metadata": {
    "id": "SHWQb3dwKp5d"
   },
   "outputs": [],
   "source": [
    "#student model\n",
    "def get_model_1d_cnn():\n",
    "    nclass = 5\n",
    "    inp = Input(shape=(3000, 1))\n",
    "    img_1 = Conv1D(4, kernel_size=6, activation=activations.relu, strides=1, padding=\"valid\")(inp)\n",
    "    #img_1 = Conv1D(128, kernel_size=5, activation=activations.relu, strides=1, padding=\"valid\")(img_1)\n",
    "    img_1 = MaxPooling1D(pool_size=2)(img_1)\n",
    "    #img_1 = SpatialDropout1D(rate=0.2)(img_1)\n",
    "    img_1 = Conv1D(4, kernel_size=5, activation=activations.relu, strides=1, padding=\"valid\")(img_1)\n",
    "    #img_1 = Conv1D(256, kernel_size=7, activation=activations.relu, strides=1, padding=\"valid\")(img_1)\n",
    "    img_1 = MaxPooling1D(pool_size=2)(img_1)\n",
    "    #img_1 = SpatialDropout1D(rate=0.01)(img_1)\n",
    "    img_1 = Conv1D(10, kernel_size=4, activation=activations.relu, strides=1, padding=\"valid\")(img_1)\n",
    "    #img_1 = Conv1D(64, kernel_size=4, activation=activations.relu, strides=1, padding=\"valid\")(img_1)\n",
    "    img_1 = MaxPooling1D(pool_size=2)(img_1)\n",
    "    #img_1 = SpatialDropout1D(rate=0.01)(img_1)\n",
    "    img_1 = Conv1D(10, kernel_size=4, activation=activations.relu, strides=1, padding=\"valid\")(img_1)\n",
    "    img_1 = MaxPooling1D(pool_size=2)(img_1)\n",
    "    #img_1 = Conv1D(64, kernel_size=6, activation=activations.relu, strides=1, padding=\"valid\")(img_1)\n",
    "    #img_1 = MaxPooling1D(pool_size=2)(img_1)\n",
    "    img_1 = Flatten()(img_1)\n",
    "\n",
    "    \n",
    "    dense_1 = Dropout(rate=0.5)(img_1)\n",
    "    #dense_1 = Dropout(rate=0.05)(Dense(64, activation=activations.relu, name=\"dense_2\")(dense_1))\n",
    "    dense_1 = Dense(nclass, activation=activations.softmax)(dense_1)\n",
    "\n",
    "    model = Model(inputs=inp, outputs=dense_1)\n",
    "    opt = Adam(0.001)\n",
    "\n",
    "    model.compile(optimizer=opt, loss='categorical_crossentropy', metrics=['acc'])\n",
    "    model.summary()\n",
    "    return model"
   ]
  },
  {
   "cell_type": "code",
   "execution_count": null,
   "metadata": {
    "colab": {
     "base_uri": "https://localhost:8080/"
    },
    "id": "wXZgRHzlKp7n",
    "outputId": "0e227192-da2a-4b73-a224-558989b29c1a"
   },
   "outputs": [
    {
     "name": "stdout",
     "output_type": "stream",
     "text": [
      "Model: \"model_1\"\n",
      "_________________________________________________________________\n",
      " Layer (type)                Output Shape              Param #   \n",
      "=================================================================\n",
      " input_1 (InputLayer)        [(None, 3000, 1)]         0         \n",
      "                                                                 \n",
      " conv1d (Conv1D)             (None, 2995, 4)           28        \n",
      "                                                                 \n",
      " max_pooling1d (MaxPooling1D  (None, 1497, 4)          0         \n",
      " )                                                               \n",
      "                                                                 \n",
      " conv1d_1 (Conv1D)           (None, 1493, 4)           84        \n",
      "                                                                 \n",
      " max_pooling1d_1 (MaxPooling  (None, 746, 4)           0         \n",
      " 1D)                                                             \n",
      "                                                                 \n",
      " conv1d_2 (Conv1D)           (None, 743, 10)           170       \n",
      "                                                                 \n",
      " max_pooling1d_2 (MaxPooling  (None, 371, 10)          0         \n",
      " 1D)                                                             \n",
      "                                                                 \n",
      " conv1d_3 (Conv1D)           (None, 368, 10)           410       \n",
      "                                                                 \n",
      " max_pooling1d_3 (MaxPooling  (None, 184, 10)          0         \n",
      " 1D)                                                             \n",
      "                                                                 \n",
      " flatten (Flatten)           (None, 1840)              0         \n",
      "                                                                 \n",
      " dropout (Dropout)           (None, 1840)              0         \n",
      "                                                                 \n",
      " dense (Dense)               (None, 5)                 9205      \n",
      "                                                                 \n",
      "=================================================================\n",
      "Total params: 9,897\n",
      "Trainable params: 9,897\n",
      "Non-trainable params: 0\n",
      "_________________________________________________________________\n"
     ]
    }
   ],
   "source": [
    "#student_model=get_model_cnn()\n",
    "final_student_model=get_model_1d_cnn()"
   ]
  },
  {
   "cell_type": "code",
   "execution_count": null,
   "metadata": {
    "id": "GURXm345Kp9v"
   },
   "outputs": [],
   "source": [
    "class Distiller(keras.Model):\n",
    "    def __init__(self, student, teacher):\n",
    "        super(Distiller, self).__init__()\n",
    "        self.teacher = teacher\n",
    "        self.student = student\n",
    "\n",
    "    def compile(\n",
    "        self,\n",
    "        optimizer,\n",
    "        metrics,\n",
    "        student_loss_fn,\n",
    "        distillation_loss_fn,\n",
    "        alpha=0.1,\n",
    "        temperature=3,\n",
    "    ):\n",
    "        \"\"\" Configure the distiller.\n",
    "\n",
    "        Args:\n",
    "            optimizer: Keras optimizer for the student weights\n",
    "            metrics: Keras metrics for evaluation\n",
    "            student_loss_fn: Loss function of difference between student\n",
    "                predictions and ground-truth\n",
    "            distillation_loss_fn: Loss function of difference between soft\n",
    "                student predictions and soft teacher predictions\n",
    "            alpha: weight to student_loss_fn and 1-alpha to distillation_loss_fn\n",
    "            temperature: Temperature for softening probability distributions.\n",
    "                Larger temperature gives softer distributions.\n",
    "        \"\"\"\n",
    "        super(Distiller, self).compile(optimizer=optimizer, metrics=metrics)\n",
    "        self.student_loss_fn = student_loss_fn\n",
    "        self.distillation_loss_fn = distillation_loss_fn\n",
    "        self.alpha = alpha\n",
    "        self.temperature = temperature\n",
    "\n",
    "    def train_step(self, data):\n",
    "        # Unpack data\n",
    "        x, y = data\n",
    "\n",
    "        # Forward pass of teacher\n",
    "        teacher_predictions = self.teacher(x, training=False)\n",
    "\n",
    "        with tf.GradientTape() as tape:\n",
    "            # Forward pass of student\n",
    "            student_predictions = self.student(x, training=True)\n",
    "\n",
    "            # Compute losses\n",
    "            student_loss = self.student_loss_fn(y, student_predictions)\n",
    "            distillation_loss = self.distillation_loss_fn(\n",
    "                tf.nn.softmax(teacher_predictions / self.temperature, axis=1),\n",
    "                tf.nn.softmax(student_predictions / self.temperature, axis=1),\n",
    "            )\n",
    "            loss = self.alpha * student_loss + (1 - self.alpha) * distillation_loss\n",
    "\n",
    "        # Compute gradients\n",
    "        trainable_vars = self.student.trainable_variables\n",
    "        gradients = tape.gradient(loss, trainable_vars)\n",
    "\n",
    "        # Update weights\n",
    "        self.optimizer.apply_gradients(zip(gradients, trainable_vars))\n",
    "\n",
    "        # Update the metrics configured in `compile()`.\n",
    "        self.compiled_metrics.update_state(y, student_predictions)\n",
    "\n",
    "        # Return a dict of performance\n",
    "        results = {m.name: m.result() for m in self.metrics}\n",
    "        results.update(\n",
    "            {\"student_loss\": student_loss, \"distillation_loss\": distillation_loss}\n",
    "        )\n",
    "        return results\n",
    "\n",
    "    def test_step(self, data):\n",
    "        # Unpack the data\n",
    "        x, y = data\n",
    "\n",
    "        # Compute predictions\n",
    "        y_prediction = self.student(x, training=False)\n",
    "\n",
    "        # Calculate the loss\n",
    "        student_loss = self.student_loss_fn(y, y_prediction)\n",
    "\n",
    "        # Update the metrics.\n",
    "        self.compiled_metrics.update_state(y, y_prediction)\n",
    "\n",
    "        # Return a dict of performance\n",
    "        results = {m.name: m.result() for m in self.metrics}\n",
    "        results.update({\"student_loss\": student_loss})\n",
    "        return results\n"
   ]
  },
  {
   "cell_type": "code",
   "execution_count": null,
   "metadata": {
    "colab": {
     "base_uri": "https://localhost:8080/"
    },
    "id": "gjCI3ifNKqAG",
    "outputId": "143539b8-37ca-42a6-940f-e742241383b6"
   },
   "outputs": [
    {
     "name": "stdout",
     "output_type": "stream",
     "text": [
      "Epoch 1/80\n",
      "3710/3710 [==============================] - 35s 9ms/step - categorical_accuracy: 0.6719 - student_loss: 0.7993 - distillation_loss: 0.0017\n",
      "Epoch 2/80\n",
      "3710/3710 [==============================] - 32s 9ms/step - categorical_accuracy: 0.7579 - student_loss: 0.5803 - distillation_loss: 0.0013\n",
      "Epoch 3/80\n",
      "3710/3710 [==============================] - 32s 9ms/step - categorical_accuracy: 0.7743 - student_loss: 0.5414 - distillation_loss: 0.0012\n",
      "Epoch 4/80\n",
      "3710/3710 [==============================] - 32s 9ms/step - categorical_accuracy: 0.7910 - student_loss: 0.5063 - distillation_loss: 0.0011\n",
      "Epoch 5/80\n",
      "3710/3710 [==============================] - 32s 9ms/step - categorical_accuracy: 0.8057 - student_loss: 0.4731 - distillation_loss: 0.0011\n",
      "Epoch 6/80\n",
      "3710/3710 [==============================] - 32s 9ms/step - categorical_accuracy: 0.8191 - student_loss: 0.4453 - distillation_loss: 9.8181e-04\n",
      "Epoch 7/80\n",
      "3710/3710 [==============================] - 32s 9ms/step - categorical_accuracy: 0.8273 - student_loss: 0.4273 - distillation_loss: 9.3824e-04\n",
      "Epoch 8/80\n",
      "3710/3710 [==============================] - 32s 9ms/step - categorical_accuracy: 0.8348 - student_loss: 0.4102 - distillation_loss: 9.0078e-04\n",
      "Epoch 9/80\n",
      "3710/3710 [==============================] - 32s 9ms/step - categorical_accuracy: 0.8412 - student_loss: 0.3982 - distillation_loss: 8.7732e-04\n",
      "Epoch 10/80\n",
      "3710/3710 [==============================] - 32s 9ms/step - categorical_accuracy: 0.8439 - student_loss: 0.3899 - distillation_loss: 8.6154e-04\n",
      "Epoch 11/80\n",
      "3710/3710 [==============================] - 32s 9ms/step - categorical_accuracy: 0.8471 - student_loss: 0.3824 - distillation_loss: 8.5041e-04\n",
      "Epoch 12/80\n",
      "3710/3710 [==============================] - 32s 9ms/step - categorical_accuracy: 0.8506 - student_loss: 0.3740 - distillation_loss: 8.3107e-04\n",
      "Epoch 13/80\n",
      "3710/3710 [==============================] - 32s 9ms/step - categorical_accuracy: 0.8516 - student_loss: 0.3709 - distillation_loss: 8.2527e-04\n",
      "Epoch 14/80\n",
      "3710/3710 [==============================] - 32s 9ms/step - categorical_accuracy: 0.8537 - student_loss: 0.3668 - distillation_loss: 8.1424e-04\n",
      "Epoch 15/80\n",
      "3710/3710 [==============================] - 32s 9ms/step - categorical_accuracy: 0.8554 - student_loss: 0.3621 - distillation_loss: 8.0999e-04\n",
      "Epoch 16/80\n",
      "3710/3710 [==============================] - 32s 9ms/step - categorical_accuracy: 0.8553 - student_loss: 0.3613 - distillation_loss: 8.0691e-04\n",
      "Epoch 17/80\n",
      "3710/3710 [==============================] - 33s 9ms/step - categorical_accuracy: 0.8575 - student_loss: 0.3578 - distillation_loss: 7.9804e-04\n",
      "Epoch 18/80\n",
      "3710/3710 [==============================] - 32s 9ms/step - categorical_accuracy: 0.8591 - student_loss: 0.3542 - distillation_loss: 7.8832e-04\n",
      "Epoch 19/80\n",
      "3710/3710 [==============================] - 32s 9ms/step - categorical_accuracy: 0.8591 - student_loss: 0.3536 - distillation_loss: 7.8904e-04\n",
      "Epoch 20/80\n",
      "3710/3710 [==============================] - 32s 9ms/step - categorical_accuracy: 0.8602 - student_loss: 0.3501 - distillation_loss: 7.8204e-04\n",
      "Epoch 21/80\n",
      "3710/3710 [==============================] - 32s 9ms/step - categorical_accuracy: 0.8581 - student_loss: 0.3519 - distillation_loss: 7.8855e-04\n",
      "Epoch 22/80\n",
      "3710/3710 [==============================] - 32s 9ms/step - categorical_accuracy: 0.8610 - student_loss: 0.3485 - distillation_loss: 7.7808e-04\n",
      "Epoch 23/80\n",
      "3710/3710 [==============================] - 32s 9ms/step - categorical_accuracy: 0.8611 - student_loss: 0.3498 - distillation_loss: 7.7829e-04\n",
      "Epoch 24/80\n",
      "3710/3710 [==============================] - 32s 9ms/step - categorical_accuracy: 0.8623 - student_loss: 0.3455 - distillation_loss: 7.7321e-04\n",
      "Epoch 25/80\n",
      "3710/3710 [==============================] - 32s 9ms/step - categorical_accuracy: 0.8643 - student_loss: 0.3414 - distillation_loss: 7.6543e-04\n",
      "Epoch 26/80\n",
      "3710/3710 [==============================] - 32s 9ms/step - categorical_accuracy: 0.8625 - student_loss: 0.3449 - distillation_loss: 7.7142e-04\n",
      "Epoch 27/80\n",
      "3710/3710 [==============================] - 32s 9ms/step - categorical_accuracy: 0.8635 - student_loss: 0.3436 - distillation_loss: 7.6890e-04\n",
      "Epoch 28/80\n",
      "3710/3710 [==============================] - 32s 9ms/step - categorical_accuracy: 0.8640 - student_loss: 0.3393 - distillation_loss: 7.6014e-04\n",
      "Epoch 29/80\n",
      "3710/3710 [==============================] - 32s 9ms/step - categorical_accuracy: 0.8660 - student_loss: 0.3355 - distillation_loss: 7.5506e-04\n",
      "Epoch 30/80\n",
      "3710/3710 [==============================] - 32s 9ms/step - categorical_accuracy: 0.8655 - student_loss: 0.3372 - distillation_loss: 7.5570e-04\n",
      "Epoch 31/80\n",
      "3710/3710 [==============================] - 32s 9ms/step - categorical_accuracy: 0.8663 - student_loss: 0.3348 - distillation_loss: 7.5263e-04\n",
      "Epoch 32/80\n",
      "3710/3710 [==============================] - 32s 9ms/step - categorical_accuracy: 0.8659 - student_loss: 0.3359 - distillation_loss: 7.5592e-04\n",
      "Epoch 33/80\n",
      "3710/3710 [==============================] - 32s 9ms/step - categorical_accuracy: 0.8667 - student_loss: 0.3345 - distillation_loss: 7.5289e-04\n",
      "Epoch 34/80\n",
      "3710/3710 [==============================] - 31s 8ms/step - categorical_accuracy: 0.8669 - student_loss: 0.3329 - distillation_loss: 7.4970e-04\n",
      "Epoch 35/80\n",
      "3710/3710 [==============================] - 32s 9ms/step - categorical_accuracy: 0.8677 - student_loss: 0.3330 - distillation_loss: 7.4779e-04\n",
      "Epoch 36/80\n",
      "3710/3710 [==============================] - 32s 9ms/step - categorical_accuracy: 0.8672 - student_loss: 0.3321 - distillation_loss: 7.4704e-04\n",
      "Epoch 37/80\n",
      "3710/3710 [==============================] - 32s 9ms/step - categorical_accuracy: 0.8687 - student_loss: 0.3290 - distillation_loss: 7.4240e-04\n",
      "Epoch 38/80\n",
      "3710/3710 [==============================] - 32s 9ms/step - categorical_accuracy: 0.8682 - student_loss: 0.3301 - distillation_loss: 7.4257e-04\n",
      "Epoch 39/80\n",
      "3710/3710 [==============================] - 32s 9ms/step - categorical_accuracy: 0.8697 - student_loss: 0.3280 - distillation_loss: 7.4140e-04\n",
      "Epoch 40/80\n",
      "3710/3710 [==============================] - 32s 9ms/step - categorical_accuracy: 0.8695 - student_loss: 0.3299 - distillation_loss: 7.4115e-04\n",
      "Epoch 41/80\n",
      "3710/3710 [==============================] - 32s 9ms/step - categorical_accuracy: 0.8704 - student_loss: 0.3266 - distillation_loss: 7.3868e-04\n",
      "Epoch 42/80\n",
      "3710/3710 [==============================] - 32s 9ms/step - categorical_accuracy: 0.8695 - student_loss: 0.3274 - distillation_loss: 7.4196e-04\n",
      "Epoch 43/80\n",
      "3710/3710 [==============================] - 32s 9ms/step - categorical_accuracy: 0.8702 - student_loss: 0.3271 - distillation_loss: 7.3811e-04\n",
      "Epoch 44/80\n",
      "3710/3710 [==============================] - 32s 9ms/step - categorical_accuracy: 0.8702 - student_loss: 0.3271 - distillation_loss: 7.3515e-04\n",
      "Epoch 45/80\n",
      "3710/3710 [==============================] - 32s 9ms/step - categorical_accuracy: 0.8701 - student_loss: 0.3272 - distillation_loss: 7.3845e-04\n",
      "Epoch 46/80\n",
      "3710/3710 [==============================] - 32s 9ms/step - categorical_accuracy: 0.8687 - student_loss: 0.3289 - distillation_loss: 7.4124e-04\n",
      "Epoch 47/80\n",
      "3710/3710 [==============================] - 32s 9ms/step - categorical_accuracy: 0.8698 - student_loss: 0.3269 - distillation_loss: 7.3486e-04\n",
      "Epoch 48/80\n",
      "3710/3710 [==============================] - 32s 9ms/step - categorical_accuracy: 0.8706 - student_loss: 0.3243 - distillation_loss: 7.3680e-04\n",
      "Epoch 49/80\n",
      "3710/3710 [==============================] - 32s 9ms/step - categorical_accuracy: 0.8707 - student_loss: 0.3244 - distillation_loss: 7.3254e-04\n",
      "Epoch 50/80\n",
      "3710/3710 [==============================] - 32s 9ms/step - categorical_accuracy: 0.8703 - student_loss: 0.3251 - distillation_loss: 7.3491e-04\n",
      "Epoch 51/80\n",
      "3710/3710 [==============================] - 32s 9ms/step - categorical_accuracy: 0.8701 - student_loss: 0.3237 - distillation_loss: 7.3312e-04\n",
      "Epoch 52/80\n",
      "3710/3710 [==============================] - 32s 9ms/step - categorical_accuracy: 0.8736 - student_loss: 0.3212 - distillation_loss: 7.2803e-04\n",
      "Epoch 53/80\n",
      "3710/3710 [==============================] - 32s 9ms/step - categorical_accuracy: 0.8717 - student_loss: 0.3232 - distillation_loss: 7.3469e-04\n",
      "Epoch 54/80\n",
      "3710/3710 [==============================] - 32s 9ms/step - categorical_accuracy: 0.8716 - student_loss: 0.3245 - distillation_loss: 7.3517e-04\n",
      "Epoch 55/80\n",
      "3710/3710 [==============================] - 32s 9ms/step - categorical_accuracy: 0.8715 - student_loss: 0.3228 - distillation_loss: 7.3583e-04\n",
      "Epoch 56/80\n",
      "3710/3710 [==============================] - 32s 9ms/step - categorical_accuracy: 0.8724 - student_loss: 0.3222 - distillation_loss: 7.2954e-04\n",
      "Epoch 57/80\n",
      "3710/3710 [==============================] - 32s 9ms/step - categorical_accuracy: 0.8723 - student_loss: 0.3213 - distillation_loss: 7.2727e-04\n",
      "Epoch 58/80\n",
      "3710/3710 [==============================] - 32s 9ms/step - categorical_accuracy: 0.8726 - student_loss: 0.3204 - distillation_loss: 7.2802e-04\n",
      "Epoch 59/80\n",
      "3710/3710 [==============================] - 32s 9ms/step - categorical_accuracy: 0.8735 - student_loss: 0.3192 - distillation_loss: 7.2620e-04\n",
      "Epoch 60/80\n",
      "3710/3710 [==============================] - 32s 9ms/step - categorical_accuracy: 0.8730 - student_loss: 0.3193 - distillation_loss: 7.2388e-04\n",
      "Epoch 61/80\n",
      "3710/3710 [==============================] - 32s 9ms/step - categorical_accuracy: 0.8724 - student_loss: 0.3221 - distillation_loss: 7.3041e-04\n",
      "Epoch 62/80\n",
      "3710/3710 [==============================] - 32s 9ms/step - categorical_accuracy: 0.8737 - student_loss: 0.3192 - distillation_loss: 7.2321e-04\n",
      "Epoch 63/80\n",
      "3710/3710 [==============================] - 32s 9ms/step - categorical_accuracy: 0.8735 - student_loss: 0.3200 - distillation_loss: 7.2613e-04\n",
      "Epoch 64/80\n",
      "3710/3710 [==============================] - 32s 9ms/step - categorical_accuracy: 0.8737 - student_loss: 0.3188 - distillation_loss: 7.2709e-04\n",
      "Epoch 65/80\n",
      "3710/3710 [==============================] - 32s 9ms/step - categorical_accuracy: 0.8724 - student_loss: 0.3211 - distillation_loss: 7.2793e-04\n",
      "Epoch 66/80\n",
      "3710/3710 [==============================] - 32s 9ms/step - categorical_accuracy: 0.8739 - student_loss: 0.3172 - distillation_loss: 7.2302e-04\n",
      "Epoch 67/80\n",
      "3710/3710 [==============================] - 32s 9ms/step - categorical_accuracy: 0.8728 - student_loss: 0.3192 - distillation_loss: 7.2707e-04\n",
      "Epoch 68/80\n",
      "3710/3710 [==============================] - 32s 9ms/step - categorical_accuracy: 0.8744 - student_loss: 0.3176 - distillation_loss: 7.2437e-04\n",
      "Epoch 69/80\n",
      "3710/3710 [==============================] - 32s 9ms/step - categorical_accuracy: 0.8733 - student_loss: 0.3192 - distillation_loss: 7.2574e-04\n",
      "Epoch 70/80\n",
      "3710/3710 [==============================] - 32s 9ms/step - categorical_accuracy: 0.8750 - student_loss: 0.3178 - distillation_loss: 7.2484e-04\n",
      "Epoch 71/80\n",
      "3710/3710 [==============================] - 32s 9ms/step - categorical_accuracy: 0.8729 - student_loss: 0.3169 - distillation_loss: 7.2216e-04\n",
      "Epoch 72/80\n",
      "3710/3710 [==============================] - 32s 9ms/step - categorical_accuracy: 0.8744 - student_loss: 0.3167 - distillation_loss: 7.2078e-04\n",
      "Epoch 73/80\n",
      "3710/3710 [==============================] - 32s 9ms/step - categorical_accuracy: 0.8739 - student_loss: 0.3168 - distillation_loss: 7.2128e-04\n",
      "Epoch 74/80\n",
      "3710/3710 [==============================] - 32s 9ms/step - categorical_accuracy: 0.8745 - student_loss: 0.3173 - distillation_loss: 7.2305e-04\n",
      "Epoch 75/80\n",
      "3710/3710 [==============================] - 32s 9ms/step - categorical_accuracy: 0.8744 - student_loss: 0.3170 - distillation_loss: 7.2169e-04\n",
      "Epoch 76/80\n",
      "3710/3710 [==============================] - 32s 9ms/step - categorical_accuracy: 0.8753 - student_loss: 0.3161 - distillation_loss: 7.2019e-04\n",
      "Epoch 77/80\n",
      "3710/3710 [==============================] - 32s 9ms/step - categorical_accuracy: 0.8752 - student_loss: 0.3150 - distillation_loss: 7.1748e-04\n",
      "Epoch 78/80\n",
      "3710/3710 [==============================] - 32s 9ms/step - categorical_accuracy: 0.8746 - student_loss: 0.3165 - distillation_loss: 7.1684e-04\n",
      "Epoch 79/80\n",
      "3710/3710 [==============================] - 32s 9ms/step - categorical_accuracy: 0.8746 - student_loss: 0.3164 - distillation_loss: 7.1938e-04\n",
      "Epoch 80/80\n",
      "3710/3710 [==============================] - 32s 9ms/step - categorical_accuracy: 0.8761 - student_loss: 0.3137 - distillation_loss: 7.1652e-04\n"
     ]
    },
    {
     "data": {
      "text/plain": [
       "<keras.callbacks.History at 0x7fee947562d0>"
      ]
     },
     "execution_count": 42,
     "metadata": {},
     "output_type": "execute_result"
    }
   ],
   "source": [
    "# Initialize and compile distiller\n",
    "distiller = Distiller(student=final_student_model, teacher=final_teacher_model)\n",
    "distiller.compile(\n",
    "    optimizer=keras.optimizers.Adam(),\n",
    "    metrics=[keras.metrics.CategoricalAccuracy()],\n",
    "    student_loss_fn=keras.losses.CategoricalCrossentropy(from_logits=True),\n",
    "    distillation_loss_fn=keras.losses.KLDivergence(),\n",
    "    alpha=1.0,\n",
    "    temperature=5,\n",
    ")\n",
    "\n",
    "# Distill teacher to student\n",
    "distiller.fit(x_dt_rshp, y_dt_, epochs=80)\n",
    "\n",
    "# Evaluate student on test dataset\n",
    "#distiller.evaluate(x_test, y_test)"
   ]
  },
  {
   "cell_type": "code",
   "execution_count": null,
   "metadata": {
    "colab": {
     "base_uri": "https://localhost:8080/"
    },
    "id": "Tf0vo4gqK2hW",
    "outputId": "2829888b-bcad-4def-94c1-d8861980de9d"
   },
   "outputs": [
    {
     "name": "stdout",
     "output_type": "stream",
     "text": [
      "16/16 [==============================] - 0s 4ms/step - categorical_accuracy: 0.8246 - student_loss: 0.4820\n"
     ]
    }
   ],
   "source": [
    "accuracy_distiller = distiller.evaluate(x_test_dt_rshp, y_test_dt_)"
   ]
  },
  {
   "cell_type": "code",
   "execution_count": null,
   "metadata": {
    "id": "lELa4rq2K2j0"
   },
   "outputs": [],
   "source": [
    "preds_final_student_model = final_student_model.predict(x_test_dt_rshp)"
   ]
  },
  {
   "cell_type": "code",
   "execution_count": null,
   "metadata": {
    "id": "AU-RH7uLK2mK"
   },
   "outputs": [],
   "source": [
    "preds_final_student_model_fin=np.argmax(preds_final_student_model,axis=1)"
   ]
  },
  {
   "cell_type": "code",
   "execution_count": null,
   "metadata": {
    "colab": {
     "base_uri": "https://localhost:8080/"
    },
    "id": "Xz8taNXNK7B8",
    "outputId": "60806805-d420-4328-d4b4-166ff0d07414"
   },
   "outputs": [
    {
     "data": {
      "text/plain": [
       "array([0.95833333, 0.15686275, 0.93567251, 0.7173913 , 0.78333333])"
      ]
     },
     "execution_count": 48,
     "metadata": {},
     "output_type": "execute_result"
    }
   ],
   "source": [
    "from sklearn.metrics import confusion_matrix\n",
    "matrix_final_student = confusion_matrix(y_test_dt, preds_final_student_model_fin)\n",
    "matrix_final_student.diagonal()/matrix_final_student.sum(axis=1)"
   ]
  },
  {
   "cell_type": "code",
   "execution_count": null,
   "metadata": {
    "colab": {
     "base_uri": "https://localhost:8080/"
    },
    "id": "Td9TR50lK7Ea",
    "outputId": "5adf44fe-d56f-401a-da2c-90dcbedd7f9b"
   },
   "outputs": [
    {
     "name": "stdout",
     "output_type": "stream",
     "text": [
      "Precision: 0.7649748023000302\n",
      "Recall: 0.710318646146483\n",
      "F1 score: 0.724184112455528\n",
      "              precision    recall  f1-score   support\n",
      "\n",
      "           0   0.856383  0.958333  0.904494       168\n",
      "           1   0.380952  0.156863  0.222222        51\n",
      "           2   0.816327  0.935673  0.871935       171\n",
      "           3   0.916667  0.717391  0.804878        46\n",
      "           4   0.854545  0.783333  0.817391        60\n",
      "\n",
      "    accuracy                       0.824597       496\n",
      "   macro avg   0.764975  0.710319  0.724184       496\n",
      "weighted avg   0.799057  0.824597  0.803341       496\n",
      "\n"
     ]
    }
   ],
   "source": [
    "#y_sub_dt\n",
    "from sklearn.metrics import precision_score, recall_score\n",
    "f1_final_student = f1_score(y_test_dt, preds_final_student_model_fin, average=\"macro\")\n",
    "prec_final_student = precision_score(y_test_dt, preds_final_student_model_fin, average=\"macro\")\n",
    "recall_final_student = recall_score(y_test_dt, preds_final_student_model_fin, average=\"macro\")\n",
    "if VBS:\n",
    "    print(\"Precision: {}\".format(prec_final_student)) \n",
    "    print(\"Recall: {}\".format(recall_final_student))\n",
    "    print(\"F1 score: {}\".format(f1_final_student))\n",
    "\n",
    "    report_final_student = classification_report(y_test_dt, preds_final_student_model_fin, digits=6)\n",
    "    print(report_final_student)"
   ]
  },
  {
   "cell_type": "code",
   "execution_count": null,
   "metadata": {
    "id": "COIr1XFd6_Qh"
   },
   "outputs": [],
   "source": [
    "#40 epochs teacher model\n",
    "#alpha=0.9, temp=4\n",
    "#40 epochs: 83.71\n",
    "#50 epochs: 84.36\n",
    "#60 epochs: 83.88"
   ]
  },
  {
   "cell_type": "code",
   "execution_count": null,
   "metadata": {
    "id": "j8k30A9iTGt4"
   },
   "outputs": [],
   "source": []
  }
 ],
 "metadata": {
  "colab": {
   "collapsed_sections": [],
   "machine_shape": "hm",
   "name": "sub_481(sub_2)KD_with_personalization(trained_the_teacher_model_with_different_epoch_combinations_(40,50,60,70)).ipynb",
   "provenance": []
  },
  "gpuClass": "standard",
  "kernelspec": {
   "display_name": "Python 3 (ipykernel)",
   "language": "python",
   "name": "python3"
  },
  "language_info": {
   "codemirror_mode": {
    "name": "ipython",
    "version": 3
   },
   "file_extension": ".py",
   "mimetype": "text/x-python",
   "name": "python",
   "nbconvert_exporter": "python",
   "pygments_lexer": "ipython3",
   "version": "3.11.3"
  }
 },
 "nbformat": 4,
 "nbformat_minor": 1
}
