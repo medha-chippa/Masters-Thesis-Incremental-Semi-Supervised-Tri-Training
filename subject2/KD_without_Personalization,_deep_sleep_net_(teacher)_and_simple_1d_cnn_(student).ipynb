{
 "cells": [
  {
   "cell_type": "code",
   "execution_count": null,
   "metadata": {
    "id": "5x4piNxH33bN"
   },
   "outputs": [],
   "source": [
    "import numpy as np\n",
    "import pandas as pd\n",
    "from sklearn.model_selection import train_test_split\n",
    "\n",
    "from numpy import mean\n",
    "from numpy import std\n",
    "from matplotlib import pyplot\n",
    "from sklearn.metrics import accuracy_score,confusion_matrix,classification_report\n",
    "from sklearn.preprocessing import QuantileTransformer\n",
    "from sklearn.pipeline import Pipeline\n",
    "\n",
    "from keras.utils import np_utils"
   ]
  },
  {
   "cell_type": "code",
   "execution_count": null,
   "metadata": {
    "id": "nyCJimDl355j"
   },
   "outputs": [],
   "source": [
    "from pydrive.auth import GoogleAuth\n",
    "from pydrive.drive import GoogleDrive\n",
    "from google.colab import auth\n",
    "from oauth2client.client import GoogleCredentials"
   ]
  },
  {
   "cell_type": "code",
   "execution_count": null,
   "metadata": {
    "id": "XntcKmlZ357K"
   },
   "outputs": [],
   "source": [
    "auth.authenticate_user()\n",
    "gauth = GoogleAuth()\n",
    "gauth.credentials = GoogleCredentials.get_application_default()\n",
    "drive = GoogleDrive(gauth)"
   ]
  },
  {
   "cell_type": "code",
   "execution_count": null,
   "metadata": {
    "colab": {
     "base_uri": "https://localhost:8080/"
    },
    "id": "ce7MYuQB35-K",
    "outputId": "5ede2e6f-3a47-4f50-ecbe-e4e258a76863"
   },
   "outputs": [
    {
     "name": "stdout",
     "output_type": "stream",
     "text": [
      "Mounted at /content/gdrive\n"
     ]
    }
   ],
   "source": [
    "#npz files can only be loaded using /gdrive path\n",
    "from google.colab import drive\n",
    "drive.mount('/content/gdrive')\n",
    "#%cd /gdrive"
   ]
  },
  {
   "cell_type": "code",
   "execution_count": null,
   "metadata": {
    "colab": {
     "base_uri": "https://localhost:8080/"
    },
    "id": "fs1odyfs36Ah",
    "outputId": "d97cc693-62d3-49eb-fb0e-a983db4f87ce"
   },
   "outputs": [
    {
     "name": "stdout",
     "output_type": "stream",
     "text": [
      "Looking in indexes: https://pypi.org/simple, https://us-python.pkg.dev/colab-wheels/public/simple/\n",
      "Collecting mne\n",
      "  Downloading mne-1.0.3-py3-none-any.whl (7.5 MB)\n",
      "\u001b[K     |████████████████████████████████| 7.5 MB 14.6 MB/s \n",
      "\u001b[?25hRequirement already satisfied: pooch>=1.5 in /usr/local/lib/python3.7/dist-packages (from mne) (1.6.0)\n",
      "Requirement already satisfied: scipy>=1.1.0 in /usr/local/lib/python3.7/dist-packages (from mne) (1.4.1)\n",
      "Requirement already satisfied: numpy>=1.15.4 in /usr/local/lib/python3.7/dist-packages (from mne) (1.21.6)\n",
      "Requirement already satisfied: jinja2 in /usr/local/lib/python3.7/dist-packages (from mne) (2.11.3)\n",
      "Requirement already satisfied: packaging in /usr/local/lib/python3.7/dist-packages (from mne) (21.3)\n",
      "Requirement already satisfied: matplotlib in /usr/local/lib/python3.7/dist-packages (from mne) (3.2.2)\n",
      "Requirement already satisfied: tqdm in /usr/local/lib/python3.7/dist-packages (from mne) (4.64.0)\n",
      "Requirement already satisfied: decorator in /usr/local/lib/python3.7/dist-packages (from mne) (4.4.2)\n",
      "Requirement already satisfied: appdirs>=1.3.0 in /usr/local/lib/python3.7/dist-packages (from pooch>=1.5->mne) (1.4.4)\n",
      "Requirement already satisfied: requests>=2.19.0 in /usr/local/lib/python3.7/dist-packages (from pooch>=1.5->mne) (2.23.0)\n",
      "Requirement already satisfied: pyparsing!=3.0.5,>=2.0.2 in /usr/local/lib/python3.7/dist-packages (from packaging->mne) (3.0.9)\n",
      "Requirement already satisfied: certifi>=2017.4.17 in /usr/local/lib/python3.7/dist-packages (from requests>=2.19.0->pooch>=1.5->mne) (2022.5.18.1)\n",
      "Requirement already satisfied: chardet<4,>=3.0.2 in /usr/local/lib/python3.7/dist-packages (from requests>=2.19.0->pooch>=1.5->mne) (3.0.4)\n",
      "Requirement already satisfied: idna<3,>=2.5 in /usr/local/lib/python3.7/dist-packages (from requests>=2.19.0->pooch>=1.5->mne) (2.10)\n",
      "Requirement already satisfied: urllib3!=1.25.0,!=1.25.1,<1.26,>=1.21.1 in /usr/local/lib/python3.7/dist-packages (from requests>=2.19.0->pooch>=1.5->mne) (1.24.3)\n",
      "Requirement already satisfied: MarkupSafe>=0.23 in /usr/local/lib/python3.7/dist-packages (from jinja2->mne) (2.0.1)\n",
      "Requirement already satisfied: cycler>=0.10 in /usr/local/lib/python3.7/dist-packages (from matplotlib->mne) (0.11.0)\n",
      "Requirement already satisfied: kiwisolver>=1.0.1 in /usr/local/lib/python3.7/dist-packages (from matplotlib->mne) (1.4.2)\n",
      "Requirement already satisfied: python-dateutil>=2.1 in /usr/local/lib/python3.7/dist-packages (from matplotlib->mne) (2.8.2)\n",
      "Requirement already satisfied: typing-extensions in /usr/local/lib/python3.7/dist-packages (from kiwisolver>=1.0.1->matplotlib->mne) (4.2.0)\n",
      "Requirement already satisfied: six>=1.5 in /usr/local/lib/python3.7/dist-packages (from python-dateutil>=2.1->matplotlib->mne) (1.15.0)\n",
      "Installing collected packages: mne\n",
      "Successfully installed mne-1.0.3\n"
     ]
    }
   ],
   "source": [
    "!pip install mne"
   ]
  },
  {
   "cell_type": "code",
   "execution_count": null,
   "metadata": {
    "id": "Kkzv2rHY36DF"
   },
   "outputs": [],
   "source": [
    "%matplotlib inline\n",
    "\n",
    "import glob\n",
    "import math\n",
    "import ntpath\n",
    "import random, os, sys\n",
    "import numpy as np\n",
    "import pandas as pd\n",
    "import tensorflow as tf\n",
    "import matplotlib.pyplot as plt\n",
    "import seaborn as sns\n",
    "#import edfreader\n",
    "#import models\n",
    "import mne\n",
    "#import pyeeg\n",
    "import warnings\n",
    "warnings.filterwarnings('ignore')\n",
    "\n",
    "from matplotlib.backends.backend_pdf import PdfPages\n",
    "from mne.datasets.sleep_physionet._utils import _fetch_one, _data_path, AGE_SLEEP_RECORDS, _check_subjects\n",
    "from datetime import datetime\n",
    "from mne import Epochs, pick_types, find_events\n",
    "from mne.io import concatenate_raws, read_raw_edf\n",
    "from mne.time_frequency import psd_welch\n",
    "from sklearn.ensemble import RandomForestClassifier\n",
    "from sklearn.metrics import classification_report\n",
    "\n",
    "from tqdm.notebook import tqdm\n",
    "from sklearn.model_selection import train_test_split\n",
    "from tensorflow import keras\n",
    "\n",
    "from tensorflow.keras.utils import to_categorical\n",
    "\n",
    "from tensorflow.keras.callbacks import ModelCheckpoint, ReduceLROnPlateau, CSVLogger\n",
    "import imblearn\n",
    "from imblearn.over_sampling import SMOTE\n",
    "from sklearn.svm import SVC\n",
    "import joblib\n",
    "\n",
    "from sklearn.metrics import make_scorer, f1_score, accuracy_score, classification_report, log_loss\n",
    "from sklearn.metrics import roc_auc_score, confusion_matrix, roc_auc_score, roc_curve\n",
    "\n",
    "from sklearn.tree import DecisionTreeClassifier\n",
    "from sklearn.neighbors import KNeighborsClassifier\n",
    "from sklearn.ensemble import RandomForestClassifier, AdaBoostClassifier, GradientBoostingClassifier\n",
    "from sklearn.naive_bayes import GaussianNB\n",
    "from sklearn.discriminant_analysis import LinearDiscriminantAnalysis\n",
    "from sklearn.discriminant_analysis import QuadraticDiscriminantAnalysis\n",
    "#from xgboost import XGBClassifier\n",
    "#import xgboost"
   ]
  },
  {
   "cell_type": "code",
   "execution_count": null,
   "metadata": {
    "id": "TEIQccek36FG"
   },
   "outputs": [],
   "source": [
    "VBS = True  # constant boolean to enable/disbale verbose\n",
    "EPOCH_SEC_SIZE = 30  # Epoch duration selection\n",
    "seed = 42  # seed value for the random seeds\n",
    "batch_size = 64\n",
    "number_of_files = 100 #100 npz files, 50 subjects, each suject has 2 nights, so 2 files per subject (50*2)=100\n",
    "\n",
    "# values to label the stages\n",
    "UNKNOWN = -1\n",
    "W = 0\n",
    "N1 = 1\n",
    "N2 = 2\n",
    "N3 = 3\n",
    "REM = 4\n",
    "\n",
    "# making string dictionary for the label values\n",
    "label_dict = {\n",
    "    \"UNKNOWN\"  : UNKNOWN,\n",
    "    \"W\"        : W,\n",
    "    \"N1\"       : N1,\n",
    "    \"N2\"       : N2,\n",
    "    \"N3\"       : N3,\n",
    "    \"REM\"      : REM\n",
    "}\n",
    "\n",
    "# converting from label values to strings \n",
    "class_dict = {\n",
    "    -1: \"UNKNOWN\",\n",
    "    0 : \"W\",\n",
    "    1 : \"N1\",\n",
    "    2 : \"N2\",\n",
    "    3 : \"N3\",\n",
    "    4 : \"REM\"\n",
    "}\n",
    "\n",
    "# annotation dictionary to convert from string to label values\n",
    "annot2label = {\n",
    "    \"Sleep stage ?\": -1,\n",
    "    \"Movement time\": -1,\n",
    "    \"Sleep stage W\": 0,\n",
    "    \"Sleep stage 1\": 1,\n",
    "    \"Sleep stage 2\": 2,\n",
    "    \"Sleep stage 3\": 3,\n",
    "    \"Sleep stage 4\": 3,\n",
    "    \"Sleep stage R\": 4\n",
    "}\n",
    "#project_path = os.path.abspath(os.getcwd())  # finding the current project path in windows"
   ]
  },
  {
   "cell_type": "code",
   "execution_count": null,
   "metadata": {
    "id": "BEUcTqqv36Ho"
   },
   "outputs": [],
   "source": [
    "from tensorflow.keras import optimizers, losses, activations, models\n",
    "from tensorflow.keras.models import Model, load_model\n",
    "from tensorflow.keras.layers import GlobalMaxPool1D, GlobalAveragePooling1D, concatenate, SpatialDropout1D, TimeDistributed, Bidirectional, LSTM\n",
    "from tensorflow.keras.layers import Input, Conv1D, Dense, Dropout, MaxPool1D, Activation\n",
    "from tensorflow.keras.layers import Reshape, LSTM, TimeDistributed, Bidirectional, BatchNormalization, Flatten, RepeatVector\n",
    "from tensorflow.keras.optimizers import Adam\n",
    "#from keras_contrib.layers import CRF\n",
    "\n",
    "from scipy.signal import butter, lfilter\n"
   ]
  },
  {
   "cell_type": "code",
   "execution_count": null,
   "metadata": {
    "id": "trPynizy36K6"
   },
   "outputs": [],
   "source": [
    "Fs = 100"
   ]
  },
  {
   "cell_type": "code",
   "execution_count": null,
   "metadata": {
    "id": "MQWrWneV36M3"
   },
   "outputs": [],
   "source": [
    "transfer_df=pd.read_csv('/content/gdrive/My Drive/physionet/ensemble/50_subs/transfer_set_50_subs.csv',header=None)"
   ]
  },
  {
   "cell_type": "code",
   "execution_count": null,
   "metadata": {
    "colab": {
     "base_uri": "https://localhost:8080/",
     "height": 488
    },
    "id": "K1NP10nG36PO",
    "outputId": "c8b47744-5b6c-4779-e640-9e48fcb89d92"
   },
   "outputs": [
    {
     "data": {
      "text/html": [
       "\n",
       "  <div id=\"df-14808931-5ec1-4313-8bef-601232e7154d\">\n",
       "    <div class=\"colab-df-container\">\n",
       "      <div>\n",
       "<style scoped>\n",
       "    .dataframe tbody tr th:only-of-type {\n",
       "        vertical-align: middle;\n",
       "    }\n",
       "\n",
       "    .dataframe tbody tr th {\n",
       "        vertical-align: top;\n",
       "    }\n",
       "\n",
       "    .dataframe thead th {\n",
       "        text-align: right;\n",
       "    }\n",
       "</style>\n",
       "<table border=\"1\" class=\"dataframe\">\n",
       "  <thead>\n",
       "    <tr style=\"text-align: right;\">\n",
       "      <th></th>\n",
       "      <th>0</th>\n",
       "      <th>1</th>\n",
       "      <th>2</th>\n",
       "      <th>3</th>\n",
       "      <th>4</th>\n",
       "      <th>5</th>\n",
       "      <th>6</th>\n",
       "      <th>7</th>\n",
       "      <th>8</th>\n",
       "      <th>9</th>\n",
       "      <th>...</th>\n",
       "      <th>2991</th>\n",
       "      <th>2992</th>\n",
       "      <th>2993</th>\n",
       "      <th>2994</th>\n",
       "      <th>2995</th>\n",
       "      <th>2996</th>\n",
       "      <th>2997</th>\n",
       "      <th>2998</th>\n",
       "      <th>2999</th>\n",
       "      <th>3000</th>\n",
       "    </tr>\n",
       "  </thead>\n",
       "  <tbody>\n",
       "    <tr>\n",
       "      <th>0</th>\n",
       "      <td>0.068014</td>\n",
       "      <td>0.082915</td>\n",
       "      <td>0.077628</td>\n",
       "      <td>0.074744</td>\n",
       "      <td>0.060804</td>\n",
       "      <td>0.063688</td>\n",
       "      <td>0.050710</td>\n",
       "      <td>0.029561</td>\n",
       "      <td>0.010815</td>\n",
       "      <td>0.008412</td>\n",
       "      <td>...</td>\n",
       "      <td>-0.010334</td>\n",
       "      <td>-0.016102</td>\n",
       "      <td>-0.034368</td>\n",
       "      <td>-0.055998</td>\n",
       "      <td>-0.074263</td>\n",
       "      <td>-0.071860</td>\n",
       "      <td>-0.077147</td>\n",
       "      <td>-0.084838</td>\n",
       "      <td>-0.090125</td>\n",
       "      <td>4</td>\n",
       "    </tr>\n",
       "    <tr>\n",
       "      <th>1</th>\n",
       "      <td>0.104729</td>\n",
       "      <td>0.054513</td>\n",
       "      <td>-0.020131</td>\n",
       "      <td>-0.064918</td>\n",
       "      <td>-0.122825</td>\n",
       "      <td>-0.127801</td>\n",
       "      <td>-0.107443</td>\n",
       "      <td>-0.086633</td>\n",
       "      <td>-0.051799</td>\n",
       "      <td>-0.033251</td>\n",
       "      <td>...</td>\n",
       "      <td>-0.123729</td>\n",
       "      <td>-0.120563</td>\n",
       "      <td>-0.129158</td>\n",
       "      <td>-0.149968</td>\n",
       "      <td>-0.173945</td>\n",
       "      <td>-0.187064</td>\n",
       "      <td>-0.171231</td>\n",
       "      <td>-0.149516</td>\n",
       "      <td>-0.121467</td>\n",
       "      <td>3</td>\n",
       "    </tr>\n",
       "    <tr>\n",
       "      <th>2</th>\n",
       "      <td>0.002281</td>\n",
       "      <td>-0.031309</td>\n",
       "      <td>-0.007672</td>\n",
       "      <td>-0.020527</td>\n",
       "      <td>-0.003110</td>\n",
       "      <td>-0.011404</td>\n",
       "      <td>0.006013</td>\n",
       "      <td>-0.029236</td>\n",
       "      <td>-0.025089</td>\n",
       "      <td>-0.042091</td>\n",
       "      <td>...</td>\n",
       "      <td>0.088122</td>\n",
       "      <td>0.057850</td>\n",
       "      <td>0.027992</td>\n",
       "      <td>0.038359</td>\n",
       "      <td>0.040847</td>\n",
       "      <td>0.053703</td>\n",
       "      <td>0.072779</td>\n",
       "      <td>0.055362</td>\n",
       "      <td>0.029651</td>\n",
       "      <td>2</td>\n",
       "    </tr>\n",
       "    <tr>\n",
       "      <th>3</th>\n",
       "      <td>-0.025235</td>\n",
       "      <td>-0.037732</td>\n",
       "      <td>-0.033406</td>\n",
       "      <td>-0.031964</td>\n",
       "      <td>-0.034848</td>\n",
       "      <td>-0.041097</td>\n",
       "      <td>-0.031484</td>\n",
       "      <td>-0.025716</td>\n",
       "      <td>-0.019948</td>\n",
       "      <td>-0.030522</td>\n",
       "      <td>...</td>\n",
       "      <td>-0.015141</td>\n",
       "      <td>-0.013699</td>\n",
       "      <td>-0.018025</td>\n",
       "      <td>-0.020909</td>\n",
       "      <td>-0.021390</td>\n",
       "      <td>-0.002644</td>\n",
       "      <td>-0.020428</td>\n",
       "      <td>-0.025235</td>\n",
       "      <td>-0.024754</td>\n",
       "      <td>2</td>\n",
       "    </tr>\n",
       "    <tr>\n",
       "      <th>4</th>\n",
       "      <td>0.097914</td>\n",
       "      <td>-0.100520</td>\n",
       "      <td>-0.044574</td>\n",
       "      <td>-0.079540</td>\n",
       "      <td>-0.071235</td>\n",
       "      <td>-0.029713</td>\n",
       "      <td>-0.041951</td>\n",
       "      <td>0.000445</td>\n",
       "      <td>-0.031024</td>\n",
       "      <td>0.172217</td>\n",
       "      <td>...</td>\n",
       "      <td>0.167409</td>\n",
       "      <td>0.220732</td>\n",
       "      <td>0.191011</td>\n",
       "      <td>0.119767</td>\n",
       "      <td>0.165661</td>\n",
       "      <td>0.270996</td>\n",
       "      <td>0.200190</td>\n",
       "      <td>0.246520</td>\n",
       "      <td>0.166535</td>\n",
       "      <td>0</td>\n",
       "    </tr>\n",
       "    <tr>\n",
       "      <th>...</th>\n",
       "      <td>...</td>\n",
       "      <td>...</td>\n",
       "      <td>...</td>\n",
       "      <td>...</td>\n",
       "      <td>...</td>\n",
       "      <td>...</td>\n",
       "      <td>...</td>\n",
       "      <td>...</td>\n",
       "      <td>...</td>\n",
       "      <td>...</td>\n",
       "      <td>...</td>\n",
       "      <td>...</td>\n",
       "      <td>...</td>\n",
       "      <td>...</td>\n",
       "      <td>...</td>\n",
       "      <td>...</td>\n",
       "      <td>...</td>\n",
       "      <td>...</td>\n",
       "      <td>...</td>\n",
       "      <td>...</td>\n",
       "      <td>...</td>\n",
       "    </tr>\n",
       "    <tr>\n",
       "      <th>116713</th>\n",
       "      <td>0.032558</td>\n",
       "      <td>0.033944</td>\n",
       "      <td>0.046413</td>\n",
       "      <td>0.056111</td>\n",
       "      <td>0.060267</td>\n",
       "      <td>0.066271</td>\n",
       "      <td>0.077816</td>\n",
       "      <td>0.058882</td>\n",
       "      <td>0.078278</td>\n",
       "      <td>0.051493</td>\n",
       "      <td>...</td>\n",
       "      <td>0.024707</td>\n",
       "      <td>0.025631</td>\n",
       "      <td>0.015933</td>\n",
       "      <td>0.044565</td>\n",
       "      <td>-0.000231</td>\n",
       "      <td>0.018242</td>\n",
       "      <td>-0.028402</td>\n",
       "      <td>0.021475</td>\n",
       "      <td>0.028402</td>\n",
       "      <td>2</td>\n",
       "    </tr>\n",
       "    <tr>\n",
       "      <th>116714</th>\n",
       "      <td>0.068695</td>\n",
       "      <td>0.059483</td>\n",
       "      <td>0.051071</td>\n",
       "      <td>0.044662</td>\n",
       "      <td>0.037051</td>\n",
       "      <td>0.041057</td>\n",
       "      <td>0.040656</td>\n",
       "      <td>0.046264</td>\n",
       "      <td>0.039054</td>\n",
       "      <td>0.045063</td>\n",
       "      <td>...</td>\n",
       "      <td>0.035850</td>\n",
       "      <td>0.031444</td>\n",
       "      <td>0.026637</td>\n",
       "      <td>0.023433</td>\n",
       "      <td>0.027839</td>\n",
       "      <td>0.023833</td>\n",
       "      <td>0.018626</td>\n",
       "      <td>0.005007</td>\n",
       "      <td>0.007010</td>\n",
       "      <td>4</td>\n",
       "    </tr>\n",
       "    <tr>\n",
       "      <th>116715</th>\n",
       "      <td>0.013392</td>\n",
       "      <td>0.030717</td>\n",
       "      <td>0.029805</td>\n",
       "      <td>0.016127</td>\n",
       "      <td>0.026613</td>\n",
       "      <td>0.024334</td>\n",
       "      <td>0.019775</td>\n",
       "      <td>0.038012</td>\n",
       "      <td>0.027069</td>\n",
       "      <td>0.031629</td>\n",
       "      <td>...</td>\n",
       "      <td>0.013392</td>\n",
       "      <td>0.018863</td>\n",
       "      <td>0.034820</td>\n",
       "      <td>0.034364</td>\n",
       "      <td>0.042115</td>\n",
       "      <td>0.045306</td>\n",
       "      <td>0.041659</td>\n",
       "      <td>0.032996</td>\n",
       "      <td>0.024334</td>\n",
       "      <td>4</td>\n",
       "    </tr>\n",
       "    <tr>\n",
       "      <th>116716</th>\n",
       "      <td>-0.057457</td>\n",
       "      <td>-0.065629</td>\n",
       "      <td>-0.101198</td>\n",
       "      <td>-0.114176</td>\n",
       "      <td>-0.141093</td>\n",
       "      <td>-0.184354</td>\n",
       "      <td>-0.222807</td>\n",
       "      <td>-0.230017</td>\n",
       "      <td>-0.242514</td>\n",
       "      <td>-0.231459</td>\n",
       "      <td>...</td>\n",
       "      <td>-0.085817</td>\n",
       "      <td>-0.068993</td>\n",
       "      <td>-0.058899</td>\n",
       "      <td>-0.043999</td>\n",
       "      <td>-0.058419</td>\n",
       "      <td>-0.065629</td>\n",
       "      <td>-0.070916</td>\n",
       "      <td>-0.068513</td>\n",
       "      <td>-0.090143</td>\n",
       "      <td>2</td>\n",
       "    </tr>\n",
       "    <tr>\n",
       "      <th>116717</th>\n",
       "      <td>-0.065742</td>\n",
       "      <td>-0.082698</td>\n",
       "      <td>-0.086365</td>\n",
       "      <td>-0.053368</td>\n",
       "      <td>-0.023122</td>\n",
       "      <td>-0.024038</td>\n",
       "      <td>-0.046494</td>\n",
       "      <td>-0.133109</td>\n",
       "      <td>-0.211476</td>\n",
       "      <td>-0.300383</td>\n",
       "      <td>...</td>\n",
       "      <td>-0.135401</td>\n",
       "      <td>-0.128985</td>\n",
       "      <td>-0.091864</td>\n",
       "      <td>-0.071700</td>\n",
       "      <td>-0.102404</td>\n",
       "      <td>-0.157398</td>\n",
       "      <td>-0.150524</td>\n",
       "      <td>-0.087281</td>\n",
       "      <td>-0.042828</td>\n",
       "      <td>2</td>\n",
       "    </tr>\n",
       "  </tbody>\n",
       "</table>\n",
       "<p>116718 rows × 3001 columns</p>\n",
       "</div>\n",
       "      <button class=\"colab-df-convert\" onclick=\"convertToInteractive('df-14808931-5ec1-4313-8bef-601232e7154d')\"\n",
       "              title=\"Convert this dataframe to an interactive table.\"\n",
       "              style=\"display:none;\">\n",
       "        \n",
       "  <svg xmlns=\"http://www.w3.org/2000/svg\" height=\"24px\"viewBox=\"0 0 24 24\"\n",
       "       width=\"24px\">\n",
       "    <path d=\"M0 0h24v24H0V0z\" fill=\"none\"/>\n",
       "    <path d=\"M18.56 5.44l.94 2.06.94-2.06 2.06-.94-2.06-.94-.94-2.06-.94 2.06-2.06.94zm-11 1L8.5 8.5l.94-2.06 2.06-.94-2.06-.94L8.5 2.5l-.94 2.06-2.06.94zm10 10l.94 2.06.94-2.06 2.06-.94-2.06-.94-.94-2.06-.94 2.06-2.06.94z\"/><path d=\"M17.41 7.96l-1.37-1.37c-.4-.4-.92-.59-1.43-.59-.52 0-1.04.2-1.43.59L10.3 9.45l-7.72 7.72c-.78.78-.78 2.05 0 2.83L4 21.41c.39.39.9.59 1.41.59.51 0 1.02-.2 1.41-.59l7.78-7.78 2.81-2.81c.8-.78.8-2.07 0-2.86zM5.41 20L4 18.59l7.72-7.72 1.47 1.35L5.41 20z\"/>\n",
       "  </svg>\n",
       "      </button>\n",
       "      \n",
       "  <style>\n",
       "    .colab-df-container {\n",
       "      display:flex;\n",
       "      flex-wrap:wrap;\n",
       "      gap: 12px;\n",
       "    }\n",
       "\n",
       "    .colab-df-convert {\n",
       "      background-color: #E8F0FE;\n",
       "      border: none;\n",
       "      border-radius: 50%;\n",
       "      cursor: pointer;\n",
       "      display: none;\n",
       "      fill: #1967D2;\n",
       "      height: 32px;\n",
       "      padding: 0 0 0 0;\n",
       "      width: 32px;\n",
       "    }\n",
       "\n",
       "    .colab-df-convert:hover {\n",
       "      background-color: #E2EBFA;\n",
       "      box-shadow: 0px 1px 2px rgba(60, 64, 67, 0.3), 0px 1px 3px 1px rgba(60, 64, 67, 0.15);\n",
       "      fill: #174EA6;\n",
       "    }\n",
       "\n",
       "    [theme=dark] .colab-df-convert {\n",
       "      background-color: #3B4455;\n",
       "      fill: #D2E3FC;\n",
       "    }\n",
       "\n",
       "    [theme=dark] .colab-df-convert:hover {\n",
       "      background-color: #434B5C;\n",
       "      box-shadow: 0px 1px 3px 1px rgba(0, 0, 0, 0.15);\n",
       "      filter: drop-shadow(0px 1px 2px rgba(0, 0, 0, 0.3));\n",
       "      fill: #FFFFFF;\n",
       "    }\n",
       "  </style>\n",
       "\n",
       "      <script>\n",
       "        const buttonEl =\n",
       "          document.querySelector('#df-14808931-5ec1-4313-8bef-601232e7154d button.colab-df-convert');\n",
       "        buttonEl.style.display =\n",
       "          google.colab.kernel.accessAllowed ? 'block' : 'none';\n",
       "\n",
       "        async function convertToInteractive(key) {\n",
       "          const element = document.querySelector('#df-14808931-5ec1-4313-8bef-601232e7154d');\n",
       "          const dataTable =\n",
       "            await google.colab.kernel.invokeFunction('convertToInteractive',\n",
       "                                                     [key], {});\n",
       "          if (!dataTable) return;\n",
       "\n",
       "          const docLinkHtml = 'Like what you see? Visit the ' +\n",
       "            '<a target=\"_blank\" href=https://colab.research.google.com/notebooks/data_table.ipynb>data table notebook</a>'\n",
       "            + ' to learn more about interactive tables.';\n",
       "          element.innerHTML = '';\n",
       "          dataTable['output_type'] = 'display_data';\n",
       "          await google.colab.output.renderOutput(dataTable, element);\n",
       "          const docLink = document.createElement('div');\n",
       "          docLink.innerHTML = docLinkHtml;\n",
       "          element.appendChild(docLink);\n",
       "        }\n",
       "      </script>\n",
       "    </div>\n",
       "  </div>\n",
       "  "
      ],
      "text/plain": [
       "            0         1         2         3         4         5         6     \\\n",
       "0       0.068014  0.082915  0.077628  0.074744  0.060804  0.063688  0.050710   \n",
       "1       0.104729  0.054513 -0.020131 -0.064918 -0.122825 -0.127801 -0.107443   \n",
       "2       0.002281 -0.031309 -0.007672 -0.020527 -0.003110 -0.011404  0.006013   \n",
       "3      -0.025235 -0.037732 -0.033406 -0.031964 -0.034848 -0.041097 -0.031484   \n",
       "4       0.097914 -0.100520 -0.044574 -0.079540 -0.071235 -0.029713 -0.041951   \n",
       "...          ...       ...       ...       ...       ...       ...       ...   \n",
       "116713  0.032558  0.033944  0.046413  0.056111  0.060267  0.066271  0.077816   \n",
       "116714  0.068695  0.059483  0.051071  0.044662  0.037051  0.041057  0.040656   \n",
       "116715  0.013392  0.030717  0.029805  0.016127  0.026613  0.024334  0.019775   \n",
       "116716 -0.057457 -0.065629 -0.101198 -0.114176 -0.141093 -0.184354 -0.222807   \n",
       "116717 -0.065742 -0.082698 -0.086365 -0.053368 -0.023122 -0.024038 -0.046494   \n",
       "\n",
       "            7         8         9     ...      2991      2992      2993  \\\n",
       "0       0.029561  0.010815  0.008412  ... -0.010334 -0.016102 -0.034368   \n",
       "1      -0.086633 -0.051799 -0.033251  ... -0.123729 -0.120563 -0.129158   \n",
       "2      -0.029236 -0.025089 -0.042091  ...  0.088122  0.057850  0.027992   \n",
       "3      -0.025716 -0.019948 -0.030522  ... -0.015141 -0.013699 -0.018025   \n",
       "4       0.000445 -0.031024  0.172217  ...  0.167409  0.220732  0.191011   \n",
       "...          ...       ...       ...  ...       ...       ...       ...   \n",
       "116713  0.058882  0.078278  0.051493  ...  0.024707  0.025631  0.015933   \n",
       "116714  0.046264  0.039054  0.045063  ...  0.035850  0.031444  0.026637   \n",
       "116715  0.038012  0.027069  0.031629  ...  0.013392  0.018863  0.034820   \n",
       "116716 -0.230017 -0.242514 -0.231459  ... -0.085817 -0.068993 -0.058899   \n",
       "116717 -0.133109 -0.211476 -0.300383  ... -0.135401 -0.128985 -0.091864   \n",
       "\n",
       "            2994      2995      2996      2997      2998      2999  3000  \n",
       "0      -0.055998 -0.074263 -0.071860 -0.077147 -0.084838 -0.090125     4  \n",
       "1      -0.149968 -0.173945 -0.187064 -0.171231 -0.149516 -0.121467     3  \n",
       "2       0.038359  0.040847  0.053703  0.072779  0.055362  0.029651     2  \n",
       "3      -0.020909 -0.021390 -0.002644 -0.020428 -0.025235 -0.024754     2  \n",
       "4       0.119767  0.165661  0.270996  0.200190  0.246520  0.166535     0  \n",
       "...          ...       ...       ...       ...       ...       ...   ...  \n",
       "116713  0.044565 -0.000231  0.018242 -0.028402  0.021475  0.028402     2  \n",
       "116714  0.023433  0.027839  0.023833  0.018626  0.005007  0.007010     4  \n",
       "116715  0.034364  0.042115  0.045306  0.041659  0.032996  0.024334     4  \n",
       "116716 -0.043999 -0.058419 -0.065629 -0.070916 -0.068513 -0.090143     2  \n",
       "116717 -0.071700 -0.102404 -0.157398 -0.150524 -0.087281 -0.042828     2  \n",
       "\n",
       "[116718 rows x 3001 columns]"
      ]
     },
     "execution_count": 11,
     "metadata": {},
     "output_type": "execute_result"
    }
   ],
   "source": [
    "transfer_df"
   ]
  },
  {
   "cell_type": "code",
   "execution_count": null,
   "metadata": {
    "id": "DMGy8iFB4xid"
   },
   "outputs": [],
   "source": [
    "x_transfer_set=transfer_df.drop([3000],axis=1)"
   ]
  },
  {
   "cell_type": "code",
   "execution_count": null,
   "metadata": {
    "colab": {
     "base_uri": "https://localhost:8080/",
     "height": 488
    },
    "id": "26NLli0t4xkH",
    "outputId": "349c51a9-831d-4dfc-a82d-098db99725af"
   },
   "outputs": [
    {
     "data": {
      "text/html": [
       "\n",
       "  <div id=\"df-ca810129-0bb2-4ecf-a789-54247d869a16\">\n",
       "    <div class=\"colab-df-container\">\n",
       "      <div>\n",
       "<style scoped>\n",
       "    .dataframe tbody tr th:only-of-type {\n",
       "        vertical-align: middle;\n",
       "    }\n",
       "\n",
       "    .dataframe tbody tr th {\n",
       "        vertical-align: top;\n",
       "    }\n",
       "\n",
       "    .dataframe thead th {\n",
       "        text-align: right;\n",
       "    }\n",
       "</style>\n",
       "<table border=\"1\" class=\"dataframe\">\n",
       "  <thead>\n",
       "    <tr style=\"text-align: right;\">\n",
       "      <th></th>\n",
       "      <th>0</th>\n",
       "      <th>1</th>\n",
       "      <th>2</th>\n",
       "      <th>3</th>\n",
       "      <th>4</th>\n",
       "      <th>5</th>\n",
       "      <th>6</th>\n",
       "      <th>7</th>\n",
       "      <th>8</th>\n",
       "      <th>9</th>\n",
       "      <th>...</th>\n",
       "      <th>2990</th>\n",
       "      <th>2991</th>\n",
       "      <th>2992</th>\n",
       "      <th>2993</th>\n",
       "      <th>2994</th>\n",
       "      <th>2995</th>\n",
       "      <th>2996</th>\n",
       "      <th>2997</th>\n",
       "      <th>2998</th>\n",
       "      <th>2999</th>\n",
       "    </tr>\n",
       "  </thead>\n",
       "  <tbody>\n",
       "    <tr>\n",
       "      <th>0</th>\n",
       "      <td>0.068014</td>\n",
       "      <td>0.082915</td>\n",
       "      <td>0.077628</td>\n",
       "      <td>0.074744</td>\n",
       "      <td>0.060804</td>\n",
       "      <td>0.063688</td>\n",
       "      <td>0.050710</td>\n",
       "      <td>0.029561</td>\n",
       "      <td>0.010815</td>\n",
       "      <td>0.008412</td>\n",
       "      <td>...</td>\n",
       "      <td>-0.007450</td>\n",
       "      <td>-0.010334</td>\n",
       "      <td>-0.016102</td>\n",
       "      <td>-0.034368</td>\n",
       "      <td>-0.055998</td>\n",
       "      <td>-0.074263</td>\n",
       "      <td>-0.071860</td>\n",
       "      <td>-0.077147</td>\n",
       "      <td>-0.084838</td>\n",
       "      <td>-0.090125</td>\n",
       "    </tr>\n",
       "    <tr>\n",
       "      <th>1</th>\n",
       "      <td>0.104729</td>\n",
       "      <td>0.054513</td>\n",
       "      <td>-0.020131</td>\n",
       "      <td>-0.064918</td>\n",
       "      <td>-0.122825</td>\n",
       "      <td>-0.127801</td>\n",
       "      <td>-0.107443</td>\n",
       "      <td>-0.086633</td>\n",
       "      <td>-0.051799</td>\n",
       "      <td>-0.033251</td>\n",
       "      <td>...</td>\n",
       "      <td>-0.102467</td>\n",
       "      <td>-0.123729</td>\n",
       "      <td>-0.120563</td>\n",
       "      <td>-0.129158</td>\n",
       "      <td>-0.149968</td>\n",
       "      <td>-0.173945</td>\n",
       "      <td>-0.187064</td>\n",
       "      <td>-0.171231</td>\n",
       "      <td>-0.149516</td>\n",
       "      <td>-0.121467</td>\n",
       "    </tr>\n",
       "    <tr>\n",
       "      <th>2</th>\n",
       "      <td>0.002281</td>\n",
       "      <td>-0.031309</td>\n",
       "      <td>-0.007672</td>\n",
       "      <td>-0.020527</td>\n",
       "      <td>-0.003110</td>\n",
       "      <td>-0.011404</td>\n",
       "      <td>0.006013</td>\n",
       "      <td>-0.029236</td>\n",
       "      <td>-0.025089</td>\n",
       "      <td>-0.042091</td>\n",
       "      <td>...</td>\n",
       "      <td>0.054532</td>\n",
       "      <td>0.088122</td>\n",
       "      <td>0.057850</td>\n",
       "      <td>0.027992</td>\n",
       "      <td>0.038359</td>\n",
       "      <td>0.040847</td>\n",
       "      <td>0.053703</td>\n",
       "      <td>0.072779</td>\n",
       "      <td>0.055362</td>\n",
       "      <td>0.029651</td>\n",
       "    </tr>\n",
       "    <tr>\n",
       "      <th>3</th>\n",
       "      <td>-0.025235</td>\n",
       "      <td>-0.037732</td>\n",
       "      <td>-0.033406</td>\n",
       "      <td>-0.031964</td>\n",
       "      <td>-0.034848</td>\n",
       "      <td>-0.041097</td>\n",
       "      <td>-0.031484</td>\n",
       "      <td>-0.025716</td>\n",
       "      <td>-0.019948</td>\n",
       "      <td>-0.030522</td>\n",
       "      <td>...</td>\n",
       "      <td>-0.012738</td>\n",
       "      <td>-0.015141</td>\n",
       "      <td>-0.013699</td>\n",
       "      <td>-0.018025</td>\n",
       "      <td>-0.020909</td>\n",
       "      <td>-0.021390</td>\n",
       "      <td>-0.002644</td>\n",
       "      <td>-0.020428</td>\n",
       "      <td>-0.025235</td>\n",
       "      <td>-0.024754</td>\n",
       "    </tr>\n",
       "    <tr>\n",
       "      <th>4</th>\n",
       "      <td>0.097914</td>\n",
       "      <td>-0.100520</td>\n",
       "      <td>-0.044574</td>\n",
       "      <td>-0.079540</td>\n",
       "      <td>-0.071235</td>\n",
       "      <td>-0.029713</td>\n",
       "      <td>-0.041951</td>\n",
       "      <td>0.000445</td>\n",
       "      <td>-0.031024</td>\n",
       "      <td>0.172217</td>\n",
       "      <td>...</td>\n",
       "      <td>0.264003</td>\n",
       "      <td>0.167409</td>\n",
       "      <td>0.220732</td>\n",
       "      <td>0.191011</td>\n",
       "      <td>0.119767</td>\n",
       "      <td>0.165661</td>\n",
       "      <td>0.270996</td>\n",
       "      <td>0.200190</td>\n",
       "      <td>0.246520</td>\n",
       "      <td>0.166535</td>\n",
       "    </tr>\n",
       "    <tr>\n",
       "      <th>...</th>\n",
       "      <td>...</td>\n",
       "      <td>...</td>\n",
       "      <td>...</td>\n",
       "      <td>...</td>\n",
       "      <td>...</td>\n",
       "      <td>...</td>\n",
       "      <td>...</td>\n",
       "      <td>...</td>\n",
       "      <td>...</td>\n",
       "      <td>...</td>\n",
       "      <td>...</td>\n",
       "      <td>...</td>\n",
       "      <td>...</td>\n",
       "      <td>...</td>\n",
       "      <td>...</td>\n",
       "      <td>...</td>\n",
       "      <td>...</td>\n",
       "      <td>...</td>\n",
       "      <td>...</td>\n",
       "      <td>...</td>\n",
       "      <td>...</td>\n",
       "    </tr>\n",
       "    <tr>\n",
       "      <th>116713</th>\n",
       "      <td>0.032558</td>\n",
       "      <td>0.033944</td>\n",
       "      <td>0.046413</td>\n",
       "      <td>0.056111</td>\n",
       "      <td>0.060267</td>\n",
       "      <td>0.066271</td>\n",
       "      <td>0.077816</td>\n",
       "      <td>0.058882</td>\n",
       "      <td>0.078278</td>\n",
       "      <td>0.051493</td>\n",
       "      <td>...</td>\n",
       "      <td>0.026093</td>\n",
       "      <td>0.024707</td>\n",
       "      <td>0.025631</td>\n",
       "      <td>0.015933</td>\n",
       "      <td>0.044565</td>\n",
       "      <td>-0.000231</td>\n",
       "      <td>0.018242</td>\n",
       "      <td>-0.028402</td>\n",
       "      <td>0.021475</td>\n",
       "      <td>0.028402</td>\n",
       "    </tr>\n",
       "    <tr>\n",
       "      <th>116714</th>\n",
       "      <td>0.068695</td>\n",
       "      <td>0.059483</td>\n",
       "      <td>0.051071</td>\n",
       "      <td>0.044662</td>\n",
       "      <td>0.037051</td>\n",
       "      <td>0.041057</td>\n",
       "      <td>0.040656</td>\n",
       "      <td>0.046264</td>\n",
       "      <td>0.039054</td>\n",
       "      <td>0.045063</td>\n",
       "      <td>...</td>\n",
       "      <td>0.032245</td>\n",
       "      <td>0.035850</td>\n",
       "      <td>0.031444</td>\n",
       "      <td>0.026637</td>\n",
       "      <td>0.023433</td>\n",
       "      <td>0.027839</td>\n",
       "      <td>0.023833</td>\n",
       "      <td>0.018626</td>\n",
       "      <td>0.005007</td>\n",
       "      <td>0.007010</td>\n",
       "    </tr>\n",
       "    <tr>\n",
       "      <th>116715</th>\n",
       "      <td>0.013392</td>\n",
       "      <td>0.030717</td>\n",
       "      <td>0.029805</td>\n",
       "      <td>0.016127</td>\n",
       "      <td>0.026613</td>\n",
       "      <td>0.024334</td>\n",
       "      <td>0.019775</td>\n",
       "      <td>0.038012</td>\n",
       "      <td>0.027069</td>\n",
       "      <td>0.031629</td>\n",
       "      <td>...</td>\n",
       "      <td>0.004273</td>\n",
       "      <td>0.013392</td>\n",
       "      <td>0.018863</td>\n",
       "      <td>0.034820</td>\n",
       "      <td>0.034364</td>\n",
       "      <td>0.042115</td>\n",
       "      <td>0.045306</td>\n",
       "      <td>0.041659</td>\n",
       "      <td>0.032996</td>\n",
       "      <td>0.024334</td>\n",
       "    </tr>\n",
       "    <tr>\n",
       "      <th>116716</th>\n",
       "      <td>-0.057457</td>\n",
       "      <td>-0.065629</td>\n",
       "      <td>-0.101198</td>\n",
       "      <td>-0.114176</td>\n",
       "      <td>-0.141093</td>\n",
       "      <td>-0.184354</td>\n",
       "      <td>-0.222807</td>\n",
       "      <td>-0.230017</td>\n",
       "      <td>-0.242514</td>\n",
       "      <td>-0.231459</td>\n",
       "      <td>...</td>\n",
       "      <td>-0.079087</td>\n",
       "      <td>-0.085817</td>\n",
       "      <td>-0.068993</td>\n",
       "      <td>-0.058899</td>\n",
       "      <td>-0.043999</td>\n",
       "      <td>-0.058419</td>\n",
       "      <td>-0.065629</td>\n",
       "      <td>-0.070916</td>\n",
       "      <td>-0.068513</td>\n",
       "      <td>-0.090143</td>\n",
       "    </tr>\n",
       "    <tr>\n",
       "      <th>116717</th>\n",
       "      <td>-0.065742</td>\n",
       "      <td>-0.082698</td>\n",
       "      <td>-0.086365</td>\n",
       "      <td>-0.053368</td>\n",
       "      <td>-0.023122</td>\n",
       "      <td>-0.024038</td>\n",
       "      <td>-0.046494</td>\n",
       "      <td>-0.133109</td>\n",
       "      <td>-0.211476</td>\n",
       "      <td>-0.300383</td>\n",
       "      <td>...</td>\n",
       "      <td>-0.111570</td>\n",
       "      <td>-0.135401</td>\n",
       "      <td>-0.128985</td>\n",
       "      <td>-0.091864</td>\n",
       "      <td>-0.071700</td>\n",
       "      <td>-0.102404</td>\n",
       "      <td>-0.157398</td>\n",
       "      <td>-0.150524</td>\n",
       "      <td>-0.087281</td>\n",
       "      <td>-0.042828</td>\n",
       "    </tr>\n",
       "  </tbody>\n",
       "</table>\n",
       "<p>116718 rows × 3000 columns</p>\n",
       "</div>\n",
       "      <button class=\"colab-df-convert\" onclick=\"convertToInteractive('df-ca810129-0bb2-4ecf-a789-54247d869a16')\"\n",
       "              title=\"Convert this dataframe to an interactive table.\"\n",
       "              style=\"display:none;\">\n",
       "        \n",
       "  <svg xmlns=\"http://www.w3.org/2000/svg\" height=\"24px\"viewBox=\"0 0 24 24\"\n",
       "       width=\"24px\">\n",
       "    <path d=\"M0 0h24v24H0V0z\" fill=\"none\"/>\n",
       "    <path d=\"M18.56 5.44l.94 2.06.94-2.06 2.06-.94-2.06-.94-.94-2.06-.94 2.06-2.06.94zm-11 1L8.5 8.5l.94-2.06 2.06-.94-2.06-.94L8.5 2.5l-.94 2.06-2.06.94zm10 10l.94 2.06.94-2.06 2.06-.94-2.06-.94-.94-2.06-.94 2.06-2.06.94z\"/><path d=\"M17.41 7.96l-1.37-1.37c-.4-.4-.92-.59-1.43-.59-.52 0-1.04.2-1.43.59L10.3 9.45l-7.72 7.72c-.78.78-.78 2.05 0 2.83L4 21.41c.39.39.9.59 1.41.59.51 0 1.02-.2 1.41-.59l7.78-7.78 2.81-2.81c.8-.78.8-2.07 0-2.86zM5.41 20L4 18.59l7.72-7.72 1.47 1.35L5.41 20z\"/>\n",
       "  </svg>\n",
       "      </button>\n",
       "      \n",
       "  <style>\n",
       "    .colab-df-container {\n",
       "      display:flex;\n",
       "      flex-wrap:wrap;\n",
       "      gap: 12px;\n",
       "    }\n",
       "\n",
       "    .colab-df-convert {\n",
       "      background-color: #E8F0FE;\n",
       "      border: none;\n",
       "      border-radius: 50%;\n",
       "      cursor: pointer;\n",
       "      display: none;\n",
       "      fill: #1967D2;\n",
       "      height: 32px;\n",
       "      padding: 0 0 0 0;\n",
       "      width: 32px;\n",
       "    }\n",
       "\n",
       "    .colab-df-convert:hover {\n",
       "      background-color: #E2EBFA;\n",
       "      box-shadow: 0px 1px 2px rgba(60, 64, 67, 0.3), 0px 1px 3px 1px rgba(60, 64, 67, 0.15);\n",
       "      fill: #174EA6;\n",
       "    }\n",
       "\n",
       "    [theme=dark] .colab-df-convert {\n",
       "      background-color: #3B4455;\n",
       "      fill: #D2E3FC;\n",
       "    }\n",
       "\n",
       "    [theme=dark] .colab-df-convert:hover {\n",
       "      background-color: #434B5C;\n",
       "      box-shadow: 0px 1px 3px 1px rgba(0, 0, 0, 0.15);\n",
       "      filter: drop-shadow(0px 1px 2px rgba(0, 0, 0, 0.3));\n",
       "      fill: #FFFFFF;\n",
       "    }\n",
       "  </style>\n",
       "\n",
       "      <script>\n",
       "        const buttonEl =\n",
       "          document.querySelector('#df-ca810129-0bb2-4ecf-a789-54247d869a16 button.colab-df-convert');\n",
       "        buttonEl.style.display =\n",
       "          google.colab.kernel.accessAllowed ? 'block' : 'none';\n",
       "\n",
       "        async function convertToInteractive(key) {\n",
       "          const element = document.querySelector('#df-ca810129-0bb2-4ecf-a789-54247d869a16');\n",
       "          const dataTable =\n",
       "            await google.colab.kernel.invokeFunction('convertToInteractive',\n",
       "                                                     [key], {});\n",
       "          if (!dataTable) return;\n",
       "\n",
       "          const docLinkHtml = 'Like what you see? Visit the ' +\n",
       "            '<a target=\"_blank\" href=https://colab.research.google.com/notebooks/data_table.ipynb>data table notebook</a>'\n",
       "            + ' to learn more about interactive tables.';\n",
       "          element.innerHTML = '';\n",
       "          dataTable['output_type'] = 'display_data';\n",
       "          await google.colab.output.renderOutput(dataTable, element);\n",
       "          const docLink = document.createElement('div');\n",
       "          docLink.innerHTML = docLinkHtml;\n",
       "          element.appendChild(docLink);\n",
       "        }\n",
       "      </script>\n",
       "    </div>\n",
       "  </div>\n",
       "  "
      ],
      "text/plain": [
       "            0         1         2         3         4         5         6     \\\n",
       "0       0.068014  0.082915  0.077628  0.074744  0.060804  0.063688  0.050710   \n",
       "1       0.104729  0.054513 -0.020131 -0.064918 -0.122825 -0.127801 -0.107443   \n",
       "2       0.002281 -0.031309 -0.007672 -0.020527 -0.003110 -0.011404  0.006013   \n",
       "3      -0.025235 -0.037732 -0.033406 -0.031964 -0.034848 -0.041097 -0.031484   \n",
       "4       0.097914 -0.100520 -0.044574 -0.079540 -0.071235 -0.029713 -0.041951   \n",
       "...          ...       ...       ...       ...       ...       ...       ...   \n",
       "116713  0.032558  0.033944  0.046413  0.056111  0.060267  0.066271  0.077816   \n",
       "116714  0.068695  0.059483  0.051071  0.044662  0.037051  0.041057  0.040656   \n",
       "116715  0.013392  0.030717  0.029805  0.016127  0.026613  0.024334  0.019775   \n",
       "116716 -0.057457 -0.065629 -0.101198 -0.114176 -0.141093 -0.184354 -0.222807   \n",
       "116717 -0.065742 -0.082698 -0.086365 -0.053368 -0.023122 -0.024038 -0.046494   \n",
       "\n",
       "            7         8         9     ...      2990      2991      2992  \\\n",
       "0       0.029561  0.010815  0.008412  ... -0.007450 -0.010334 -0.016102   \n",
       "1      -0.086633 -0.051799 -0.033251  ... -0.102467 -0.123729 -0.120563   \n",
       "2      -0.029236 -0.025089 -0.042091  ...  0.054532  0.088122  0.057850   \n",
       "3      -0.025716 -0.019948 -0.030522  ... -0.012738 -0.015141 -0.013699   \n",
       "4       0.000445 -0.031024  0.172217  ...  0.264003  0.167409  0.220732   \n",
       "...          ...       ...       ...  ...       ...       ...       ...   \n",
       "116713  0.058882  0.078278  0.051493  ...  0.026093  0.024707  0.025631   \n",
       "116714  0.046264  0.039054  0.045063  ...  0.032245  0.035850  0.031444   \n",
       "116715  0.038012  0.027069  0.031629  ...  0.004273  0.013392  0.018863   \n",
       "116716 -0.230017 -0.242514 -0.231459  ... -0.079087 -0.085817 -0.068993   \n",
       "116717 -0.133109 -0.211476 -0.300383  ... -0.111570 -0.135401 -0.128985   \n",
       "\n",
       "            2993      2994      2995      2996      2997      2998      2999  \n",
       "0      -0.034368 -0.055998 -0.074263 -0.071860 -0.077147 -0.084838 -0.090125  \n",
       "1      -0.129158 -0.149968 -0.173945 -0.187064 -0.171231 -0.149516 -0.121467  \n",
       "2       0.027992  0.038359  0.040847  0.053703  0.072779  0.055362  0.029651  \n",
       "3      -0.018025 -0.020909 -0.021390 -0.002644 -0.020428 -0.025235 -0.024754  \n",
       "4       0.191011  0.119767  0.165661  0.270996  0.200190  0.246520  0.166535  \n",
       "...          ...       ...       ...       ...       ...       ...       ...  \n",
       "116713  0.015933  0.044565 -0.000231  0.018242 -0.028402  0.021475  0.028402  \n",
       "116714  0.026637  0.023433  0.027839  0.023833  0.018626  0.005007  0.007010  \n",
       "116715  0.034820  0.034364  0.042115  0.045306  0.041659  0.032996  0.024334  \n",
       "116716 -0.058899 -0.043999 -0.058419 -0.065629 -0.070916 -0.068513 -0.090143  \n",
       "116717 -0.091864 -0.071700 -0.102404 -0.157398 -0.150524 -0.087281 -0.042828  \n",
       "\n",
       "[116718 rows x 3000 columns]"
      ]
     },
     "execution_count": 13,
     "metadata": {},
     "output_type": "execute_result"
    }
   ],
   "source": [
    "x_transfer_set"
   ]
  },
  {
   "cell_type": "code",
   "execution_count": null,
   "metadata": {
    "id": "ZdwwDlBb4xnN"
   },
   "outputs": [],
   "source": [
    "y_transfer=transfer_df[3000]"
   ]
  },
  {
   "cell_type": "code",
   "execution_count": null,
   "metadata": {
    "colab": {
     "base_uri": "https://localhost:8080/"
    },
    "id": "1PRf2NGF4xpJ",
    "outputId": "8e403312-d28d-4d4b-fe47-15342cef2019"
   },
   "outputs": [
    {
     "data": {
      "text/plain": [
       "0         4\n",
       "1         3\n",
       "2         2\n",
       "3         2\n",
       "4         0\n",
       "         ..\n",
       "116713    2\n",
       "116714    4\n",
       "116715    4\n",
       "116716    2\n",
       "116717    2\n",
       "Name: 3000, Length: 116718, dtype: int64"
      ]
     },
     "execution_count": 15,
     "metadata": {},
     "output_type": "execute_result"
    }
   ],
   "source": [
    "y_transfer"
   ]
  },
  {
   "cell_type": "code",
   "execution_count": null,
   "metadata": {
    "id": "rNaMnS6h469N"
   },
   "outputs": [],
   "source": [
    "x_transfer_set_rshp=np.array(x_transfer_set).reshape(116718,3000,1)"
   ]
  },
  {
   "cell_type": "code",
   "execution_count": null,
   "metadata": {
    "colab": {
     "base_uri": "https://localhost:8080/"
    },
    "id": "JjZUSILw46-9",
    "outputId": "64ab8ef1-7d5a-4952-c789-fb4583df501b"
   },
   "outputs": [
    {
     "data": {
      "text/plain": [
       "array([[[ 0.0680144 ],\n",
       "        [ 0.08291509],\n",
       "        [ 0.07762775],\n",
       "        ...,\n",
       "        [-0.07714708],\n",
       "        [-0.08483776],\n",
       "        [-0.09012509]],\n",
       "\n",
       "       [[ 0.1047289 ],\n",
       "        [ 0.05451331],\n",
       "        [-0.02013147],\n",
       "        ...,\n",
       "        [-0.17123062],\n",
       "        [-0.14951577],\n",
       "        [-0.12146743]],\n",
       "\n",
       "       [[ 0.00228081],\n",
       "        [-0.03130934],\n",
       "        [-0.00767183],\n",
       "        ...,\n",
       "        [ 0.07277867],\n",
       "        [ 0.05536155],\n",
       "        [ 0.02965057]],\n",
       "\n",
       "       ...,\n",
       "\n",
       "       [[ 0.01339153],\n",
       "        [ 0.03071675],\n",
       "        [ 0.0298049 ],\n",
       "        ...,\n",
       "        [ 0.041659  ],\n",
       "        [ 0.03299639],\n",
       "        [ 0.02433378]],\n",
       "\n",
       "       [[-0.0574574 ],\n",
       "        [-0.06562874],\n",
       "        [-0.10119811],\n",
       "        ...,\n",
       "        [-0.07091608],\n",
       "        [-0.06851275],\n",
       "        [-0.09014277]],\n",
       "\n",
       "       [[-0.06574184],\n",
       "        [-0.08269832],\n",
       "        [-0.08636458],\n",
       "        ...,\n",
       "        [-0.15052423],\n",
       "        [-0.08728115],\n",
       "        [-0.04282768]]])"
      ]
     },
     "execution_count": 17,
     "metadata": {},
     "output_type": "execute_result"
    }
   ],
   "source": [
    "x_transfer_set_rshp"
   ]
  },
  {
   "cell_type": "code",
   "execution_count": null,
   "metadata": {
    "id": "c98VDgIV47Bq"
   },
   "outputs": [],
   "source": [
    "y_transfer_=np_utils.to_categorical(y_transfer)"
   ]
  },
  {
   "cell_type": "code",
   "execution_count": null,
   "metadata": {
    "colab": {
     "base_uri": "https://localhost:8080/"
    },
    "id": "FvODpOWl47Ew",
    "outputId": "8c2e1684-68e7-497e-cef7-d99b22d7b1b2"
   },
   "outputs": [
    {
     "data": {
      "text/plain": [
       "array([[0., 0., 0., 0., 1.],\n",
       "       [0., 0., 0., 1., 0.],\n",
       "       [0., 0., 1., 0., 0.],\n",
       "       ...,\n",
       "       [0., 0., 0., 0., 1.],\n",
       "       [0., 0., 1., 0., 0.],\n",
       "       [0., 0., 1., 0., 0.]], dtype=float32)"
      ]
     },
     "execution_count": 19,
     "metadata": {},
     "output_type": "execute_result"
    }
   ],
   "source": [
    "y_transfer_"
   ]
  },
  {
   "cell_type": "code",
   "execution_count": null,
   "metadata": {
    "id": "dTbnH6yY5EmU"
   },
   "outputs": [],
   "source": [
    "subject_481_tst_df=pd.read_csv('/content/gdrive/My Drive/physionet/ensemble/50_subs/x_test_sub.csv',header=None)"
   ]
  },
  {
   "cell_type": "code",
   "execution_count": null,
   "metadata": {
    "colab": {
     "base_uri": "https://localhost:8080/",
     "height": 468
    },
    "id": "XyHCuQ_q5ExV",
    "outputId": "6f2c1d56-bba9-4b6a-ed86-5cbcd7ce741f"
   },
   "outputs": [
    {
     "data": {
      "text/html": [
       "\n",
       "  <div id=\"df-c8ea1015-6158-4a80-9903-fc991b1ee3d5\">\n",
       "    <div class=\"colab-df-container\">\n",
       "      <div>\n",
       "<style scoped>\n",
       "    .dataframe tbody tr th:only-of-type {\n",
       "        vertical-align: middle;\n",
       "    }\n",
       "\n",
       "    .dataframe tbody tr th {\n",
       "        vertical-align: top;\n",
       "    }\n",
       "\n",
       "    .dataframe thead th {\n",
       "        text-align: right;\n",
       "    }\n",
       "</style>\n",
       "<table border=\"1\" class=\"dataframe\">\n",
       "  <thead>\n",
       "    <tr style=\"text-align: right;\">\n",
       "      <th></th>\n",
       "      <th>0</th>\n",
       "      <th>1</th>\n",
       "      <th>2</th>\n",
       "      <th>3</th>\n",
       "      <th>4</th>\n",
       "      <th>5</th>\n",
       "      <th>6</th>\n",
       "      <th>7</th>\n",
       "      <th>8</th>\n",
       "      <th>9</th>\n",
       "      <th>...</th>\n",
       "      <th>2991</th>\n",
       "      <th>2992</th>\n",
       "      <th>2993</th>\n",
       "      <th>2994</th>\n",
       "      <th>2995</th>\n",
       "      <th>2996</th>\n",
       "      <th>2997</th>\n",
       "      <th>2998</th>\n",
       "      <th>2999</th>\n",
       "      <th>3000</th>\n",
       "    </tr>\n",
       "  </thead>\n",
       "  <tbody>\n",
       "    <tr>\n",
       "      <th>0</th>\n",
       "      <td>0.026201</td>\n",
       "      <td>0.021701</td>\n",
       "      <td>0.037902</td>\n",
       "      <td>0.021701</td>\n",
       "      <td>0.022601</td>\n",
       "      <td>-0.004401</td>\n",
       "      <td>0.019901</td>\n",
       "      <td>0.011800</td>\n",
       "      <td>-0.037704</td>\n",
       "      <td>0.031151</td>\n",
       "      <td>...</td>\n",
       "      <td>0.068504</td>\n",
       "      <td>0.052753</td>\n",
       "      <td>0.062654</td>\n",
       "      <td>0.027101</td>\n",
       "      <td>-0.001251</td>\n",
       "      <td>-0.031404</td>\n",
       "      <td>0.004599</td>\n",
       "      <td>-0.030053</td>\n",
       "      <td>-0.027803</td>\n",
       "      <td>4</td>\n",
       "    </tr>\n",
       "    <tr>\n",
       "      <th>1</th>\n",
       "      <td>-0.102959</td>\n",
       "      <td>-0.104309</td>\n",
       "      <td>-0.099359</td>\n",
       "      <td>-0.129061</td>\n",
       "      <td>-0.121861</td>\n",
       "      <td>-0.101159</td>\n",
       "      <td>-0.045355</td>\n",
       "      <td>-0.039954</td>\n",
       "      <td>-0.031404</td>\n",
       "      <td>-0.017902</td>\n",
       "      <td>...</td>\n",
       "      <td>0.038802</td>\n",
       "      <td>0.087406</td>\n",
       "      <td>0.138260</td>\n",
       "      <td>0.129709</td>\n",
       "      <td>0.124309</td>\n",
       "      <td>0.086506</td>\n",
       "      <td>0.072105</td>\n",
       "      <td>0.023501</td>\n",
       "      <td>-0.022853</td>\n",
       "      <td>2</td>\n",
       "    </tr>\n",
       "    <tr>\n",
       "      <th>2</th>\n",
       "      <td>-0.122673</td>\n",
       "      <td>-0.129459</td>\n",
       "      <td>-0.115887</td>\n",
       "      <td>-0.080600</td>\n",
       "      <td>-0.076529</td>\n",
       "      <td>-0.056171</td>\n",
       "      <td>-0.057076</td>\n",
       "      <td>-0.059790</td>\n",
       "      <td>-0.055719</td>\n",
       "      <td>-0.036718</td>\n",
       "      <td>...</td>\n",
       "      <td>0.084071</td>\n",
       "      <td>0.064618</td>\n",
       "      <td>0.064166</td>\n",
       "      <td>0.050594</td>\n",
       "      <td>0.028427</td>\n",
       "      <td>0.027974</td>\n",
       "      <td>0.044713</td>\n",
       "      <td>0.058284</td>\n",
       "      <td>0.060999</td>\n",
       "      <td>2</td>\n",
       "    </tr>\n",
       "    <tr>\n",
       "      <th>3</th>\n",
       "      <td>-0.088108</td>\n",
       "      <td>-0.084508</td>\n",
       "      <td>-0.039504</td>\n",
       "      <td>-0.067857</td>\n",
       "      <td>-0.053005</td>\n",
       "      <td>-0.080908</td>\n",
       "      <td>-0.124561</td>\n",
       "      <td>-0.005752</td>\n",
       "      <td>-0.089008</td>\n",
       "      <td>-0.053455</td>\n",
       "      <td>...</td>\n",
       "      <td>-0.067407</td>\n",
       "      <td>-0.017002</td>\n",
       "      <td>-0.103409</td>\n",
       "      <td>-0.083608</td>\n",
       "      <td>-0.025553</td>\n",
       "      <td>-0.054805</td>\n",
       "      <td>0.020801</td>\n",
       "      <td>-0.003501</td>\n",
       "      <td>-0.029153</td>\n",
       "      <td>0</td>\n",
       "    </tr>\n",
       "    <tr>\n",
       "      <th>4</th>\n",
       "      <td>0.136010</td>\n",
       "      <td>0.146811</td>\n",
       "      <td>0.200815</td>\n",
       "      <td>0.159862</td>\n",
       "      <td>0.163912</td>\n",
       "      <td>0.123859</td>\n",
       "      <td>0.130159</td>\n",
       "      <td>0.105407</td>\n",
       "      <td>0.109008</td>\n",
       "      <td>0.039702</td>\n",
       "      <td>...</td>\n",
       "      <td>0.091456</td>\n",
       "      <td>0.050503</td>\n",
       "      <td>0.057704</td>\n",
       "      <td>0.041502</td>\n",
       "      <td>0.019901</td>\n",
       "      <td>0.015850</td>\n",
       "      <td>0.043302</td>\n",
       "      <td>0.035652</td>\n",
       "      <td>0.047353</td>\n",
       "      <td>1</td>\n",
       "    </tr>\n",
       "    <tr>\n",
       "      <th>...</th>\n",
       "      <td>...</td>\n",
       "      <td>...</td>\n",
       "      <td>...</td>\n",
       "      <td>...</td>\n",
       "      <td>...</td>\n",
       "      <td>...</td>\n",
       "      <td>...</td>\n",
       "      <td>...</td>\n",
       "      <td>...</td>\n",
       "      <td>...</td>\n",
       "      <td>...</td>\n",
       "      <td>...</td>\n",
       "      <td>...</td>\n",
       "      <td>...</td>\n",
       "      <td>...</td>\n",
       "      <td>...</td>\n",
       "      <td>...</td>\n",
       "      <td>...</td>\n",
       "      <td>...</td>\n",
       "      <td>...</td>\n",
       "      <td>...</td>\n",
       "    </tr>\n",
       "    <tr>\n",
       "      <th>491</th>\n",
       "      <td>-0.056606</td>\n",
       "      <td>-0.027803</td>\n",
       "      <td>-0.049405</td>\n",
       "      <td>-0.039504</td>\n",
       "      <td>-0.010252</td>\n",
       "      <td>0.011350</td>\n",
       "      <td>0.004599</td>\n",
       "      <td>0.000099</td>\n",
       "      <td>-0.017452</td>\n",
       "      <td>-0.039504</td>\n",
       "      <td>...</td>\n",
       "      <td>0.022601</td>\n",
       "      <td>-0.032304</td>\n",
       "      <td>-0.155614</td>\n",
       "      <td>-0.108810</td>\n",
       "      <td>-0.101159</td>\n",
       "      <td>-0.018353</td>\n",
       "      <td>-0.080458</td>\n",
       "      <td>-0.070107</td>\n",
       "      <td>-0.024203</td>\n",
       "      <td>1</td>\n",
       "    </tr>\n",
       "    <tr>\n",
       "      <th>492</th>\n",
       "      <td>-0.022241</td>\n",
       "      <td>-0.010932</td>\n",
       "      <td>-0.014551</td>\n",
       "      <td>-0.015003</td>\n",
       "      <td>-0.006860</td>\n",
       "      <td>-0.017718</td>\n",
       "      <td>-0.023146</td>\n",
       "      <td>-0.025408</td>\n",
       "      <td>-0.015908</td>\n",
       "      <td>-0.029480</td>\n",
       "      <td>...</td>\n",
       "      <td>-0.015456</td>\n",
       "      <td>0.015307</td>\n",
       "      <td>0.024807</td>\n",
       "      <td>0.003545</td>\n",
       "      <td>-0.018170</td>\n",
       "      <td>-0.016813</td>\n",
       "      <td>0.002188</td>\n",
       "      <td>-0.003693</td>\n",
       "      <td>-0.000979</td>\n",
       "      <td>4</td>\n",
       "    </tr>\n",
       "    <tr>\n",
       "      <th>493</th>\n",
       "      <td>0.021188</td>\n",
       "      <td>0.054665</td>\n",
       "      <td>0.073213</td>\n",
       "      <td>0.074118</td>\n",
       "      <td>0.048332</td>\n",
       "      <td>0.034760</td>\n",
       "      <td>0.027974</td>\n",
       "      <td>0.044713</td>\n",
       "      <td>0.057832</td>\n",
       "      <td>0.051951</td>\n",
       "      <td>...</td>\n",
       "      <td>0.275885</td>\n",
       "      <td>0.258242</td>\n",
       "      <td>0.268647</td>\n",
       "      <td>0.303029</td>\n",
       "      <td>0.313886</td>\n",
       "      <td>0.315243</td>\n",
       "      <td>0.309815</td>\n",
       "      <td>0.301219</td>\n",
       "      <td>0.291267</td>\n",
       "      <td>3</td>\n",
       "    </tr>\n",
       "    <tr>\n",
       "      <th>494</th>\n",
       "      <td>0.084976</td>\n",
       "      <td>0.079547</td>\n",
       "      <td>0.075928</td>\n",
       "      <td>0.056022</td>\n",
       "      <td>0.067785</td>\n",
       "      <td>0.084071</td>\n",
       "      <td>0.134286</td>\n",
       "      <td>0.123881</td>\n",
       "      <td>0.118453</td>\n",
       "      <td>0.083618</td>\n",
       "      <td>...</td>\n",
       "      <td>0.103976</td>\n",
       "      <td>0.122977</td>\n",
       "      <td>0.118453</td>\n",
       "      <td>0.092214</td>\n",
       "      <td>0.057832</td>\n",
       "      <td>0.060546</td>\n",
       "      <td>0.058737</td>\n",
       "      <td>0.056475</td>\n",
       "      <td>0.035665</td>\n",
       "      <td>0</td>\n",
       "    </tr>\n",
       "    <tr>\n",
       "      <th>495</th>\n",
       "      <td>-0.044905</td>\n",
       "      <td>-0.029153</td>\n",
       "      <td>0.003249</td>\n",
       "      <td>-0.028703</td>\n",
       "      <td>-0.039954</td>\n",
       "      <td>-0.055256</td>\n",
       "      <td>-0.049405</td>\n",
       "      <td>-0.072357</td>\n",
       "      <td>-0.078657</td>\n",
       "      <td>-0.080458</td>\n",
       "      <td>...</td>\n",
       "      <td>0.074805</td>\n",
       "      <td>0.056804</td>\n",
       "      <td>0.062654</td>\n",
       "      <td>0.040152</td>\n",
       "      <td>0.033852</td>\n",
       "      <td>0.058604</td>\n",
       "      <td>0.072555</td>\n",
       "      <td>0.067154</td>\n",
       "      <td>0.082906</td>\n",
       "      <td>2</td>\n",
       "    </tr>\n",
       "  </tbody>\n",
       "</table>\n",
       "<p>496 rows × 3001 columns</p>\n",
       "</div>\n",
       "      <button class=\"colab-df-convert\" onclick=\"convertToInteractive('df-c8ea1015-6158-4a80-9903-fc991b1ee3d5')\"\n",
       "              title=\"Convert this dataframe to an interactive table.\"\n",
       "              style=\"display:none;\">\n",
       "        \n",
       "  <svg xmlns=\"http://www.w3.org/2000/svg\" height=\"24px\"viewBox=\"0 0 24 24\"\n",
       "       width=\"24px\">\n",
       "    <path d=\"M0 0h24v24H0V0z\" fill=\"none\"/>\n",
       "    <path d=\"M18.56 5.44l.94 2.06.94-2.06 2.06-.94-2.06-.94-.94-2.06-.94 2.06-2.06.94zm-11 1L8.5 8.5l.94-2.06 2.06-.94-2.06-.94L8.5 2.5l-.94 2.06-2.06.94zm10 10l.94 2.06.94-2.06 2.06-.94-2.06-.94-.94-2.06-.94 2.06-2.06.94z\"/><path d=\"M17.41 7.96l-1.37-1.37c-.4-.4-.92-.59-1.43-.59-.52 0-1.04.2-1.43.59L10.3 9.45l-7.72 7.72c-.78.78-.78 2.05 0 2.83L4 21.41c.39.39.9.59 1.41.59.51 0 1.02-.2 1.41-.59l7.78-7.78 2.81-2.81c.8-.78.8-2.07 0-2.86zM5.41 20L4 18.59l7.72-7.72 1.47 1.35L5.41 20z\"/>\n",
       "  </svg>\n",
       "      </button>\n",
       "      \n",
       "  <style>\n",
       "    .colab-df-container {\n",
       "      display:flex;\n",
       "      flex-wrap:wrap;\n",
       "      gap: 12px;\n",
       "    }\n",
       "\n",
       "    .colab-df-convert {\n",
       "      background-color: #E8F0FE;\n",
       "      border: none;\n",
       "      border-radius: 50%;\n",
       "      cursor: pointer;\n",
       "      display: none;\n",
       "      fill: #1967D2;\n",
       "      height: 32px;\n",
       "      padding: 0 0 0 0;\n",
       "      width: 32px;\n",
       "    }\n",
       "\n",
       "    .colab-df-convert:hover {\n",
       "      background-color: #E2EBFA;\n",
       "      box-shadow: 0px 1px 2px rgba(60, 64, 67, 0.3), 0px 1px 3px 1px rgba(60, 64, 67, 0.15);\n",
       "      fill: #174EA6;\n",
       "    }\n",
       "\n",
       "    [theme=dark] .colab-df-convert {\n",
       "      background-color: #3B4455;\n",
       "      fill: #D2E3FC;\n",
       "    }\n",
       "\n",
       "    [theme=dark] .colab-df-convert:hover {\n",
       "      background-color: #434B5C;\n",
       "      box-shadow: 0px 1px 3px 1px rgba(0, 0, 0, 0.15);\n",
       "      filter: drop-shadow(0px 1px 2px rgba(0, 0, 0, 0.3));\n",
       "      fill: #FFFFFF;\n",
       "    }\n",
       "  </style>\n",
       "\n",
       "      <script>\n",
       "        const buttonEl =\n",
       "          document.querySelector('#df-c8ea1015-6158-4a80-9903-fc991b1ee3d5 button.colab-df-convert');\n",
       "        buttonEl.style.display =\n",
       "          google.colab.kernel.accessAllowed ? 'block' : 'none';\n",
       "\n",
       "        async function convertToInteractive(key) {\n",
       "          const element = document.querySelector('#df-c8ea1015-6158-4a80-9903-fc991b1ee3d5');\n",
       "          const dataTable =\n",
       "            await google.colab.kernel.invokeFunction('convertToInteractive',\n",
       "                                                     [key], {});\n",
       "          if (!dataTable) return;\n",
       "\n",
       "          const docLinkHtml = 'Like what you see? Visit the ' +\n",
       "            '<a target=\"_blank\" href=https://colab.research.google.com/notebooks/data_table.ipynb>data table notebook</a>'\n",
       "            + ' to learn more about interactive tables.';\n",
       "          element.innerHTML = '';\n",
       "          dataTable['output_type'] = 'display_data';\n",
       "          await google.colab.output.renderOutput(dataTable, element);\n",
       "          const docLink = document.createElement('div');\n",
       "          docLink.innerHTML = docLinkHtml;\n",
       "          element.appendChild(docLink);\n",
       "        }\n",
       "      </script>\n",
       "    </div>\n",
       "  </div>\n",
       "  "
      ],
      "text/plain": [
       "         0         1         2         3         4         5         6     \\\n",
       "0    0.026201  0.021701  0.037902  0.021701  0.022601 -0.004401  0.019901   \n",
       "1   -0.102959 -0.104309 -0.099359 -0.129061 -0.121861 -0.101159 -0.045355   \n",
       "2   -0.122673 -0.129459 -0.115887 -0.080600 -0.076529 -0.056171 -0.057076   \n",
       "3   -0.088108 -0.084508 -0.039504 -0.067857 -0.053005 -0.080908 -0.124561   \n",
       "4    0.136010  0.146811  0.200815  0.159862  0.163912  0.123859  0.130159   \n",
       "..        ...       ...       ...       ...       ...       ...       ...   \n",
       "491 -0.056606 -0.027803 -0.049405 -0.039504 -0.010252  0.011350  0.004599   \n",
       "492 -0.022241 -0.010932 -0.014551 -0.015003 -0.006860 -0.017718 -0.023146   \n",
       "493  0.021188  0.054665  0.073213  0.074118  0.048332  0.034760  0.027974   \n",
       "494  0.084976  0.079547  0.075928  0.056022  0.067785  0.084071  0.134286   \n",
       "495 -0.044905 -0.029153  0.003249 -0.028703 -0.039954 -0.055256 -0.049405   \n",
       "\n",
       "         7         8         9     ...      2991      2992      2993  \\\n",
       "0    0.011800 -0.037704  0.031151  ...  0.068504  0.052753  0.062654   \n",
       "1   -0.039954 -0.031404 -0.017902  ...  0.038802  0.087406  0.138260   \n",
       "2   -0.059790 -0.055719 -0.036718  ...  0.084071  0.064618  0.064166   \n",
       "3   -0.005752 -0.089008 -0.053455  ... -0.067407 -0.017002 -0.103409   \n",
       "4    0.105407  0.109008  0.039702  ...  0.091456  0.050503  0.057704   \n",
       "..        ...       ...       ...  ...       ...       ...       ...   \n",
       "491  0.000099 -0.017452 -0.039504  ...  0.022601 -0.032304 -0.155614   \n",
       "492 -0.025408 -0.015908 -0.029480  ... -0.015456  0.015307  0.024807   \n",
       "493  0.044713  0.057832  0.051951  ...  0.275885  0.258242  0.268647   \n",
       "494  0.123881  0.118453  0.083618  ...  0.103976  0.122977  0.118453   \n",
       "495 -0.072357 -0.078657 -0.080458  ...  0.074805  0.056804  0.062654   \n",
       "\n",
       "         2994      2995      2996      2997      2998      2999  3000  \n",
       "0    0.027101 -0.001251 -0.031404  0.004599 -0.030053 -0.027803     4  \n",
       "1    0.129709  0.124309  0.086506  0.072105  0.023501 -0.022853     2  \n",
       "2    0.050594  0.028427  0.027974  0.044713  0.058284  0.060999     2  \n",
       "3   -0.083608 -0.025553 -0.054805  0.020801 -0.003501 -0.029153     0  \n",
       "4    0.041502  0.019901  0.015850  0.043302  0.035652  0.047353     1  \n",
       "..        ...       ...       ...       ...       ...       ...   ...  \n",
       "491 -0.108810 -0.101159 -0.018353 -0.080458 -0.070107 -0.024203     1  \n",
       "492  0.003545 -0.018170 -0.016813  0.002188 -0.003693 -0.000979     4  \n",
       "493  0.303029  0.313886  0.315243  0.309815  0.301219  0.291267     3  \n",
       "494  0.092214  0.057832  0.060546  0.058737  0.056475  0.035665     0  \n",
       "495  0.040152  0.033852  0.058604  0.072555  0.067154  0.082906     2  \n",
       "\n",
       "[496 rows x 3001 columns]"
      ]
     },
     "execution_count": 21,
     "metadata": {},
     "output_type": "execute_result"
    }
   ],
   "source": [
    "subject_481_tst_df"
   ]
  },
  {
   "cell_type": "code",
   "execution_count": null,
   "metadata": {
    "id": "C7t1UYKH5Ey5"
   },
   "outputs": [],
   "source": [
    "x_sub_set=subject_481_tst_df.drop([3000],axis=1)"
   ]
  },
  {
   "cell_type": "code",
   "execution_count": null,
   "metadata": {
    "colab": {
     "base_uri": "https://localhost:8080/",
     "height": 488
    },
    "id": "WpWsDmfm5E2d",
    "outputId": "c787ac72-4459-414c-abc6-3aa649a330c4"
   },
   "outputs": [
    {
     "data": {
      "text/html": [
       "\n",
       "  <div id=\"df-e3e5f309-4c70-44e4-9bfb-2ce9b4aad1f9\">\n",
       "    <div class=\"colab-df-container\">\n",
       "      <div>\n",
       "<style scoped>\n",
       "    .dataframe tbody tr th:only-of-type {\n",
       "        vertical-align: middle;\n",
       "    }\n",
       "\n",
       "    .dataframe tbody tr th {\n",
       "        vertical-align: top;\n",
       "    }\n",
       "\n",
       "    .dataframe thead th {\n",
       "        text-align: right;\n",
       "    }\n",
       "</style>\n",
       "<table border=\"1\" class=\"dataframe\">\n",
       "  <thead>\n",
       "    <tr style=\"text-align: right;\">\n",
       "      <th></th>\n",
       "      <th>0</th>\n",
       "      <th>1</th>\n",
       "      <th>2</th>\n",
       "      <th>3</th>\n",
       "      <th>4</th>\n",
       "      <th>5</th>\n",
       "      <th>6</th>\n",
       "      <th>7</th>\n",
       "      <th>8</th>\n",
       "      <th>9</th>\n",
       "      <th>...</th>\n",
       "      <th>2990</th>\n",
       "      <th>2991</th>\n",
       "      <th>2992</th>\n",
       "      <th>2993</th>\n",
       "      <th>2994</th>\n",
       "      <th>2995</th>\n",
       "      <th>2996</th>\n",
       "      <th>2997</th>\n",
       "      <th>2998</th>\n",
       "      <th>2999</th>\n",
       "    </tr>\n",
       "  </thead>\n",
       "  <tbody>\n",
       "    <tr>\n",
       "      <th>0</th>\n",
       "      <td>0.026201</td>\n",
       "      <td>0.021701</td>\n",
       "      <td>0.037902</td>\n",
       "      <td>0.021701</td>\n",
       "      <td>0.022601</td>\n",
       "      <td>-0.004401</td>\n",
       "      <td>0.019901</td>\n",
       "      <td>0.011800</td>\n",
       "      <td>-0.037704</td>\n",
       "      <td>0.031151</td>\n",
       "      <td>...</td>\n",
       "      <td>0.049153</td>\n",
       "      <td>0.068504</td>\n",
       "      <td>0.052753</td>\n",
       "      <td>0.062654</td>\n",
       "      <td>0.027101</td>\n",
       "      <td>-0.001251</td>\n",
       "      <td>-0.031404</td>\n",
       "      <td>0.004599</td>\n",
       "      <td>-0.030053</td>\n",
       "      <td>-0.027803</td>\n",
       "    </tr>\n",
       "    <tr>\n",
       "      <th>1</th>\n",
       "      <td>-0.102959</td>\n",
       "      <td>-0.104309</td>\n",
       "      <td>-0.099359</td>\n",
       "      <td>-0.129061</td>\n",
       "      <td>-0.121861</td>\n",
       "      <td>-0.101159</td>\n",
       "      <td>-0.045355</td>\n",
       "      <td>-0.039954</td>\n",
       "      <td>-0.031404</td>\n",
       "      <td>-0.017902</td>\n",
       "      <td>...</td>\n",
       "      <td>0.008200</td>\n",
       "      <td>0.038802</td>\n",
       "      <td>0.087406</td>\n",
       "      <td>0.138260</td>\n",
       "      <td>0.129709</td>\n",
       "      <td>0.124309</td>\n",
       "      <td>0.086506</td>\n",
       "      <td>0.072105</td>\n",
       "      <td>0.023501</td>\n",
       "      <td>-0.022853</td>\n",
       "    </tr>\n",
       "    <tr>\n",
       "      <th>2</th>\n",
       "      <td>-0.122673</td>\n",
       "      <td>-0.129459</td>\n",
       "      <td>-0.115887</td>\n",
       "      <td>-0.080600</td>\n",
       "      <td>-0.076529</td>\n",
       "      <td>-0.056171</td>\n",
       "      <td>-0.057076</td>\n",
       "      <td>-0.059790</td>\n",
       "      <td>-0.055719</td>\n",
       "      <td>-0.036718</td>\n",
       "      <td>...</td>\n",
       "      <td>0.084071</td>\n",
       "      <td>0.084071</td>\n",
       "      <td>0.064618</td>\n",
       "      <td>0.064166</td>\n",
       "      <td>0.050594</td>\n",
       "      <td>0.028427</td>\n",
       "      <td>0.027974</td>\n",
       "      <td>0.044713</td>\n",
       "      <td>0.058284</td>\n",
       "      <td>0.060999</td>\n",
       "    </tr>\n",
       "    <tr>\n",
       "      <th>3</th>\n",
       "      <td>-0.088108</td>\n",
       "      <td>-0.084508</td>\n",
       "      <td>-0.039504</td>\n",
       "      <td>-0.067857</td>\n",
       "      <td>-0.053005</td>\n",
       "      <td>-0.080908</td>\n",
       "      <td>-0.124561</td>\n",
       "      <td>-0.005752</td>\n",
       "      <td>-0.089008</td>\n",
       "      <td>-0.053455</td>\n",
       "      <td>...</td>\n",
       "      <td>-0.087208</td>\n",
       "      <td>-0.067407</td>\n",
       "      <td>-0.017002</td>\n",
       "      <td>-0.103409</td>\n",
       "      <td>-0.083608</td>\n",
       "      <td>-0.025553</td>\n",
       "      <td>-0.054805</td>\n",
       "      <td>0.020801</td>\n",
       "      <td>-0.003501</td>\n",
       "      <td>-0.029153</td>\n",
       "    </tr>\n",
       "    <tr>\n",
       "      <th>4</th>\n",
       "      <td>0.136010</td>\n",
       "      <td>0.146811</td>\n",
       "      <td>0.200815</td>\n",
       "      <td>0.159862</td>\n",
       "      <td>0.163912</td>\n",
       "      <td>0.123859</td>\n",
       "      <td>0.130159</td>\n",
       "      <td>0.105407</td>\n",
       "      <td>0.109008</td>\n",
       "      <td>0.039702</td>\n",
       "      <td>...</td>\n",
       "      <td>0.070305</td>\n",
       "      <td>0.091456</td>\n",
       "      <td>0.050503</td>\n",
       "      <td>0.057704</td>\n",
       "      <td>0.041502</td>\n",
       "      <td>0.019901</td>\n",
       "      <td>0.015850</td>\n",
       "      <td>0.043302</td>\n",
       "      <td>0.035652</td>\n",
       "      <td>0.047353</td>\n",
       "    </tr>\n",
       "    <tr>\n",
       "      <th>...</th>\n",
       "      <td>...</td>\n",
       "      <td>...</td>\n",
       "      <td>...</td>\n",
       "      <td>...</td>\n",
       "      <td>...</td>\n",
       "      <td>...</td>\n",
       "      <td>...</td>\n",
       "      <td>...</td>\n",
       "      <td>...</td>\n",
       "      <td>...</td>\n",
       "      <td>...</td>\n",
       "      <td>...</td>\n",
       "      <td>...</td>\n",
       "      <td>...</td>\n",
       "      <td>...</td>\n",
       "      <td>...</td>\n",
       "      <td>...</td>\n",
       "      <td>...</td>\n",
       "      <td>...</td>\n",
       "      <td>...</td>\n",
       "      <td>...</td>\n",
       "    </tr>\n",
       "    <tr>\n",
       "      <th>491</th>\n",
       "      <td>-0.056606</td>\n",
       "      <td>-0.027803</td>\n",
       "      <td>-0.049405</td>\n",
       "      <td>-0.039504</td>\n",
       "      <td>-0.010252</td>\n",
       "      <td>0.011350</td>\n",
       "      <td>0.004599</td>\n",
       "      <td>0.000099</td>\n",
       "      <td>-0.017452</td>\n",
       "      <td>-0.039504</td>\n",
       "      <td>...</td>\n",
       "      <td>-0.059756</td>\n",
       "      <td>0.022601</td>\n",
       "      <td>-0.032304</td>\n",
       "      <td>-0.155614</td>\n",
       "      <td>-0.108810</td>\n",
       "      <td>-0.101159</td>\n",
       "      <td>-0.018353</td>\n",
       "      <td>-0.080458</td>\n",
       "      <td>-0.070107</td>\n",
       "      <td>-0.024203</td>\n",
       "    </tr>\n",
       "    <tr>\n",
       "      <th>492</th>\n",
       "      <td>-0.022241</td>\n",
       "      <td>-0.010932</td>\n",
       "      <td>-0.014551</td>\n",
       "      <td>-0.015003</td>\n",
       "      <td>-0.006860</td>\n",
       "      <td>-0.017718</td>\n",
       "      <td>-0.023146</td>\n",
       "      <td>-0.025408</td>\n",
       "      <td>-0.015908</td>\n",
       "      <td>-0.029480</td>\n",
       "      <td>...</td>\n",
       "      <td>-0.045766</td>\n",
       "      <td>-0.015456</td>\n",
       "      <td>0.015307</td>\n",
       "      <td>0.024807</td>\n",
       "      <td>0.003545</td>\n",
       "      <td>-0.018170</td>\n",
       "      <td>-0.016813</td>\n",
       "      <td>0.002188</td>\n",
       "      <td>-0.003693</td>\n",
       "      <td>-0.000979</td>\n",
       "    </tr>\n",
       "    <tr>\n",
       "      <th>493</th>\n",
       "      <td>0.021188</td>\n",
       "      <td>0.054665</td>\n",
       "      <td>0.073213</td>\n",
       "      <td>0.074118</td>\n",
       "      <td>0.048332</td>\n",
       "      <td>0.034760</td>\n",
       "      <td>0.027974</td>\n",
       "      <td>0.044713</td>\n",
       "      <td>0.057832</td>\n",
       "      <td>0.051951</td>\n",
       "      <td>...</td>\n",
       "      <td>0.320672</td>\n",
       "      <td>0.275885</td>\n",
       "      <td>0.258242</td>\n",
       "      <td>0.268647</td>\n",
       "      <td>0.303029</td>\n",
       "      <td>0.313886</td>\n",
       "      <td>0.315243</td>\n",
       "      <td>0.309815</td>\n",
       "      <td>0.301219</td>\n",
       "      <td>0.291267</td>\n",
       "    </tr>\n",
       "    <tr>\n",
       "      <th>494</th>\n",
       "      <td>0.084976</td>\n",
       "      <td>0.079547</td>\n",
       "      <td>0.075928</td>\n",
       "      <td>0.056022</td>\n",
       "      <td>0.067785</td>\n",
       "      <td>0.084071</td>\n",
       "      <td>0.134286</td>\n",
       "      <td>0.123881</td>\n",
       "      <td>0.118453</td>\n",
       "      <td>0.083618</td>\n",
       "      <td>...</td>\n",
       "      <td>0.095381</td>\n",
       "      <td>0.103976</td>\n",
       "      <td>0.122977</td>\n",
       "      <td>0.118453</td>\n",
       "      <td>0.092214</td>\n",
       "      <td>0.057832</td>\n",
       "      <td>0.060546</td>\n",
       "      <td>0.058737</td>\n",
       "      <td>0.056475</td>\n",
       "      <td>0.035665</td>\n",
       "    </tr>\n",
       "    <tr>\n",
       "      <th>495</th>\n",
       "      <td>-0.044905</td>\n",
       "      <td>-0.029153</td>\n",
       "      <td>0.003249</td>\n",
       "      <td>-0.028703</td>\n",
       "      <td>-0.039954</td>\n",
       "      <td>-0.055256</td>\n",
       "      <td>-0.049405</td>\n",
       "      <td>-0.072357</td>\n",
       "      <td>-0.078657</td>\n",
       "      <td>-0.080458</td>\n",
       "      <td>...</td>\n",
       "      <td>0.091906</td>\n",
       "      <td>0.074805</td>\n",
       "      <td>0.056804</td>\n",
       "      <td>0.062654</td>\n",
       "      <td>0.040152</td>\n",
       "      <td>0.033852</td>\n",
       "      <td>0.058604</td>\n",
       "      <td>0.072555</td>\n",
       "      <td>0.067154</td>\n",
       "      <td>0.082906</td>\n",
       "    </tr>\n",
       "  </tbody>\n",
       "</table>\n",
       "<p>496 rows × 3000 columns</p>\n",
       "</div>\n",
       "      <button class=\"colab-df-convert\" onclick=\"convertToInteractive('df-e3e5f309-4c70-44e4-9bfb-2ce9b4aad1f9')\"\n",
       "              title=\"Convert this dataframe to an interactive table.\"\n",
       "              style=\"display:none;\">\n",
       "        \n",
       "  <svg xmlns=\"http://www.w3.org/2000/svg\" height=\"24px\"viewBox=\"0 0 24 24\"\n",
       "       width=\"24px\">\n",
       "    <path d=\"M0 0h24v24H0V0z\" fill=\"none\"/>\n",
       "    <path d=\"M18.56 5.44l.94 2.06.94-2.06 2.06-.94-2.06-.94-.94-2.06-.94 2.06-2.06.94zm-11 1L8.5 8.5l.94-2.06 2.06-.94-2.06-.94L8.5 2.5l-.94 2.06-2.06.94zm10 10l.94 2.06.94-2.06 2.06-.94-2.06-.94-.94-2.06-.94 2.06-2.06.94z\"/><path d=\"M17.41 7.96l-1.37-1.37c-.4-.4-.92-.59-1.43-.59-.52 0-1.04.2-1.43.59L10.3 9.45l-7.72 7.72c-.78.78-.78 2.05 0 2.83L4 21.41c.39.39.9.59 1.41.59.51 0 1.02-.2 1.41-.59l7.78-7.78 2.81-2.81c.8-.78.8-2.07 0-2.86zM5.41 20L4 18.59l7.72-7.72 1.47 1.35L5.41 20z\"/>\n",
       "  </svg>\n",
       "      </button>\n",
       "      \n",
       "  <style>\n",
       "    .colab-df-container {\n",
       "      display:flex;\n",
       "      flex-wrap:wrap;\n",
       "      gap: 12px;\n",
       "    }\n",
       "\n",
       "    .colab-df-convert {\n",
       "      background-color: #E8F0FE;\n",
       "      border: none;\n",
       "      border-radius: 50%;\n",
       "      cursor: pointer;\n",
       "      display: none;\n",
       "      fill: #1967D2;\n",
       "      height: 32px;\n",
       "      padding: 0 0 0 0;\n",
       "      width: 32px;\n",
       "    }\n",
       "\n",
       "    .colab-df-convert:hover {\n",
       "      background-color: #E2EBFA;\n",
       "      box-shadow: 0px 1px 2px rgba(60, 64, 67, 0.3), 0px 1px 3px 1px rgba(60, 64, 67, 0.15);\n",
       "      fill: #174EA6;\n",
       "    }\n",
       "\n",
       "    [theme=dark] .colab-df-convert {\n",
       "      background-color: #3B4455;\n",
       "      fill: #D2E3FC;\n",
       "    }\n",
       "\n",
       "    [theme=dark] .colab-df-convert:hover {\n",
       "      background-color: #434B5C;\n",
       "      box-shadow: 0px 1px 3px 1px rgba(0, 0, 0, 0.15);\n",
       "      filter: drop-shadow(0px 1px 2px rgba(0, 0, 0, 0.3));\n",
       "      fill: #FFFFFF;\n",
       "    }\n",
       "  </style>\n",
       "\n",
       "      <script>\n",
       "        const buttonEl =\n",
       "          document.querySelector('#df-e3e5f309-4c70-44e4-9bfb-2ce9b4aad1f9 button.colab-df-convert');\n",
       "        buttonEl.style.display =\n",
       "          google.colab.kernel.accessAllowed ? 'block' : 'none';\n",
       "\n",
       "        async function convertToInteractive(key) {\n",
       "          const element = document.querySelector('#df-e3e5f309-4c70-44e4-9bfb-2ce9b4aad1f9');\n",
       "          const dataTable =\n",
       "            await google.colab.kernel.invokeFunction('convertToInteractive',\n",
       "                                                     [key], {});\n",
       "          if (!dataTable) return;\n",
       "\n",
       "          const docLinkHtml = 'Like what you see? Visit the ' +\n",
       "            '<a target=\"_blank\" href=https://colab.research.google.com/notebooks/data_table.ipynb>data table notebook</a>'\n",
       "            + ' to learn more about interactive tables.';\n",
       "          element.innerHTML = '';\n",
       "          dataTable['output_type'] = 'display_data';\n",
       "          await google.colab.output.renderOutput(dataTable, element);\n",
       "          const docLink = document.createElement('div');\n",
       "          docLink.innerHTML = docLinkHtml;\n",
       "          element.appendChild(docLink);\n",
       "        }\n",
       "      </script>\n",
       "    </div>\n",
       "  </div>\n",
       "  "
      ],
      "text/plain": [
       "         0         1         2         3         4         5         6     \\\n",
       "0    0.026201  0.021701  0.037902  0.021701  0.022601 -0.004401  0.019901   \n",
       "1   -0.102959 -0.104309 -0.099359 -0.129061 -0.121861 -0.101159 -0.045355   \n",
       "2   -0.122673 -0.129459 -0.115887 -0.080600 -0.076529 -0.056171 -0.057076   \n",
       "3   -0.088108 -0.084508 -0.039504 -0.067857 -0.053005 -0.080908 -0.124561   \n",
       "4    0.136010  0.146811  0.200815  0.159862  0.163912  0.123859  0.130159   \n",
       "..        ...       ...       ...       ...       ...       ...       ...   \n",
       "491 -0.056606 -0.027803 -0.049405 -0.039504 -0.010252  0.011350  0.004599   \n",
       "492 -0.022241 -0.010932 -0.014551 -0.015003 -0.006860 -0.017718 -0.023146   \n",
       "493  0.021188  0.054665  0.073213  0.074118  0.048332  0.034760  0.027974   \n",
       "494  0.084976  0.079547  0.075928  0.056022  0.067785  0.084071  0.134286   \n",
       "495 -0.044905 -0.029153  0.003249 -0.028703 -0.039954 -0.055256 -0.049405   \n",
       "\n",
       "         7         8         9     ...      2990      2991      2992  \\\n",
       "0    0.011800 -0.037704  0.031151  ...  0.049153  0.068504  0.052753   \n",
       "1   -0.039954 -0.031404 -0.017902  ...  0.008200  0.038802  0.087406   \n",
       "2   -0.059790 -0.055719 -0.036718  ...  0.084071  0.084071  0.064618   \n",
       "3   -0.005752 -0.089008 -0.053455  ... -0.087208 -0.067407 -0.017002   \n",
       "4    0.105407  0.109008  0.039702  ...  0.070305  0.091456  0.050503   \n",
       "..        ...       ...       ...  ...       ...       ...       ...   \n",
       "491  0.000099 -0.017452 -0.039504  ... -0.059756  0.022601 -0.032304   \n",
       "492 -0.025408 -0.015908 -0.029480  ... -0.045766 -0.015456  0.015307   \n",
       "493  0.044713  0.057832  0.051951  ...  0.320672  0.275885  0.258242   \n",
       "494  0.123881  0.118453  0.083618  ...  0.095381  0.103976  0.122977   \n",
       "495 -0.072357 -0.078657 -0.080458  ...  0.091906  0.074805  0.056804   \n",
       "\n",
       "         2993      2994      2995      2996      2997      2998      2999  \n",
       "0    0.062654  0.027101 -0.001251 -0.031404  0.004599 -0.030053 -0.027803  \n",
       "1    0.138260  0.129709  0.124309  0.086506  0.072105  0.023501 -0.022853  \n",
       "2    0.064166  0.050594  0.028427  0.027974  0.044713  0.058284  0.060999  \n",
       "3   -0.103409 -0.083608 -0.025553 -0.054805  0.020801 -0.003501 -0.029153  \n",
       "4    0.057704  0.041502  0.019901  0.015850  0.043302  0.035652  0.047353  \n",
       "..        ...       ...       ...       ...       ...       ...       ...  \n",
       "491 -0.155614 -0.108810 -0.101159 -0.018353 -0.080458 -0.070107 -0.024203  \n",
       "492  0.024807  0.003545 -0.018170 -0.016813  0.002188 -0.003693 -0.000979  \n",
       "493  0.268647  0.303029  0.313886  0.315243  0.309815  0.301219  0.291267  \n",
       "494  0.118453  0.092214  0.057832  0.060546  0.058737  0.056475  0.035665  \n",
       "495  0.062654  0.040152  0.033852  0.058604  0.072555  0.067154  0.082906  \n",
       "\n",
       "[496 rows x 3000 columns]"
      ]
     },
     "execution_count": 23,
     "metadata": {},
     "output_type": "execute_result"
    }
   ],
   "source": [
    "x_sub_set"
   ]
  },
  {
   "cell_type": "code",
   "execution_count": null,
   "metadata": {
    "id": "BPdwO5su5E4n"
   },
   "outputs": [],
   "source": [
    "x_sub_set_rshp=np.array(x_sub_set).reshape(496,3000,1)"
   ]
  },
  {
   "cell_type": "code",
   "execution_count": null,
   "metadata": {
    "colab": {
     "base_uri": "https://localhost:8080/"
    },
    "id": "9KdMGW8U5E7x",
    "outputId": "002da386-a158-48b3-a76e-7e5f68ea30db"
   },
   "outputs": [
    {
     "data": {
      "text/plain": [
       "(496, 3000, 1)"
      ]
     },
     "execution_count": 18,
     "metadata": {},
     "output_type": "execute_result"
    }
   ],
   "source": [
    "x_sub_set_rshp.shape"
   ]
  },
  {
   "cell_type": "code",
   "execution_count": null,
   "metadata": {
    "id": "P8Z7JwyS5E-E"
   },
   "outputs": [],
   "source": [
    "y_sub_dt=subject_481_tst_df[3000]"
   ]
  },
  {
   "cell_type": "code",
   "execution_count": null,
   "metadata": {
    "colab": {
     "base_uri": "https://localhost:8080/"
    },
    "id": "P71fPO245FBM",
    "outputId": "1bd08356-325b-49ae-f65b-f82351fe81d5"
   },
   "outputs": [
    {
     "data": {
      "text/plain": [
       "0      4\n",
       "1      2\n",
       "2      2\n",
       "3      0\n",
       "4      1\n",
       "      ..\n",
       "491    1\n",
       "492    4\n",
       "493    3\n",
       "494    0\n",
       "495    2\n",
       "Name: 3000, Length: 496, dtype: int64"
      ]
     },
     "execution_count": 27,
     "metadata": {},
     "output_type": "execute_result"
    }
   ],
   "source": [
    "y_sub_dt"
   ]
  },
  {
   "cell_type": "code",
   "execution_count": null,
   "metadata": {
    "id": "HY8qwQoa5XEW"
   },
   "outputs": [],
   "source": [
    "y_sub_dt_=np_utils.to_categorical(y_sub_dt)"
   ]
  },
  {
   "cell_type": "code",
   "execution_count": null,
   "metadata": {
    "colab": {
     "base_uri": "https://localhost:8080/"
    },
    "id": "2JGUYzKw5XGM",
    "outputId": "bc39857b-d962-4345-9000-4cfbcf28c3b1"
   },
   "outputs": [
    {
     "data": {
      "text/plain": [
       "array([[0., 0., 0., 0., 1.],\n",
       "       [0., 0., 1., 0., 0.],\n",
       "       [0., 0., 1., 0., 0.],\n",
       "       ...,\n",
       "       [0., 0., 0., 1., 0.],\n",
       "       [1., 0., 0., 0., 0.],\n",
       "       [0., 0., 1., 0., 0.]], dtype=float32)"
      ]
     },
     "execution_count": 29,
     "metadata": {},
     "output_type": "execute_result"
    }
   ],
   "source": [
    "y_sub_dt_"
   ]
  },
  {
   "cell_type": "code",
   "execution_count": null,
   "metadata": {
    "colab": {
     "base_uri": "https://localhost:8080/"
    },
    "id": "FoHvk5Wo8F0O",
    "outputId": "e9beadfa-be04-413d-ce58-7d4a81ad1851"
   },
   "outputs": [
    {
     "name": "stdout",
     "output_type": "stream",
     "text": [
      "Looking in indexes: https://pypi.org/simple, https://us-python.pkg.dev/colab-wheels/public/simple/\n",
      "Collecting git+https://www.github.com/keras-team/keras-contrib.git\n",
      "  Cloning https://www.github.com/keras-team/keras-contrib.git to /tmp/pip-req-build-ium2l8jk\n",
      "  Running command git clone -q https://www.github.com/keras-team/keras-contrib.git /tmp/pip-req-build-ium2l8jk\n",
      "Requirement already satisfied: keras in /usr/local/lib/python3.7/dist-packages (from keras-contrib==2.0.8) (2.8.0)\n",
      "Building wheels for collected packages: keras-contrib\n",
      "  Building wheel for keras-contrib (setup.py) ... \u001b[?25l\u001b[?25hdone\n",
      "  Created wheel for keras-contrib: filename=keras_contrib-2.0.8-py3-none-any.whl size=101077 sha256=5eb9c1f0dc58eaf5b08311a340b8d375b9a43355798eb3953cf37c855ebe7775\n",
      "  Stored in directory: /tmp/pip-ephem-wheel-cache-bk__dty0/wheels/bb/1f/f2/b57495012683b6b20bbae94a3915ec79753111452d79886abc\n",
      "Successfully built keras-contrib\n",
      "Installing collected packages: keras-contrib\n",
      "Successfully installed keras-contrib-2.0.8\n"
     ]
    }
   ],
   "source": [
    "pip install git+https://www.github.com/keras-team/keras-contrib.git"
   ]
  },
  {
   "cell_type": "code",
   "execution_count": null,
   "metadata": {
    "id": "BdXITLn_8JGJ"
   },
   "outputs": [],
   "source": [
    "from keras_contrib.layers import CRF"
   ]
  },
  {
   "cell_type": "code",
   "execution_count": null,
   "metadata": {
    "id": "pN7qI0OE8BaQ"
   },
   "outputs": [],
   "source": [
    "from keras import optimizers, losses, activations, models\n",
    "from keras.layers import Dense, Input, Dropout, Convolution1D, MaxPool1D, GlobalMaxPool1D, GlobalAveragePooling1D, concatenate, SpatialDropout1D, TimeDistributed, Bidirectional, LSTM\n",
    "from keras_contrib.layers import CRF\n",
    "\n",
    "WINDOW_SIZE = 100"
   ]
  },
  {
   "cell_type": "code",
   "execution_count": null,
   "metadata": {
    "id": "0x9jglJO-LnA"
   },
   "outputs": [],
   "source": [
    "nclass = 5"
   ]
  },
  {
   "cell_type": "code",
   "execution_count": null,
   "metadata": {
    "id": "56vRSYNrGDOt"
   },
   "outputs": [],
   "source": [
    "#n_classes=5\n",
    "def model_b(n_classes=5, use_sub_layer=False, use_rnn=True, verbose=False):\n",
    "    inputLayer = Input(shape=(3000, 1), name='inLayer')\n",
    "    convFine = Conv1D(filters=64, kernel_size=int(Fs/2), strides=int(Fs/16), padding='same', activation='relu', name='fConv1')(inputLayer)\n",
    "    convFine = MaxPool1D(pool_size=8, strides=8, name='fMaxP1')(convFine)\n",
    "    convFine = Dropout(rate=0.5, name='fDrop1')(convFine)\n",
    "    convFine = Conv1D(filters=128, kernel_size=8, padding='same', activation='relu', name='fConv2')(convFine)\n",
    "    convFine = Conv1D(filters=128, kernel_size=8, padding='same', activation='relu', name='fConv3')(convFine)\n",
    "    convFine = Conv1D(filters=128, kernel_size=8, padding='same', activation='relu', name='fConv4')(convFine)\n",
    "    convFine = MaxPool1D(pool_size=4, strides=4, name='fMaxP2')(convFine)\n",
    "    fineShape = convFine.get_shape()\n",
    "    convFine = Flatten(name='fFlat1')(convFine)\n",
    "    \n",
    "    # network to learn coarse features\n",
    "    convCoarse = Conv1D(filters=32, kernel_size=Fs*4, strides=int(Fs/2), padding='same', activation='relu', name='cConv1')(inputLayer)\n",
    "    convCoarse = MaxPool1D(pool_size=4, strides=4, name='cMaxP1')(convCoarse)\n",
    "    convCoarse = Dropout(rate=0.5, name='cDrop1')(convCoarse)\n",
    "    convCoarse = Conv1D(filters=128, kernel_size=6, padding='same', activation='relu', name='cConv2')(convCoarse)\n",
    "    convCoarse = Conv1D(filters=128, kernel_size=6, padding='same', activation='relu', name='cConv3')(convCoarse)\n",
    "    convCoarse = Conv1D(filters=128, kernel_size=6, padding='same', activation='relu', name='cConv4')(convCoarse)\n",
    "    convCoarse = MaxPool1D(pool_size=2, strides=2, name='cMaxP2')(convCoarse)\n",
    "    coarseShape = convCoarse.get_shape()\n",
    "    convCoarse = Flatten(name='cFlat1')(convCoarse)\n",
    "    \n",
    "    # concatenate coarse and fine cnns\n",
    "    mergeLayer = concatenate([convFine, convCoarse], name='merge_1')\n",
    "    outLayer = Dropout(rate=0.5, name='mDrop1')(mergeLayer)\n",
    "    \n",
    "    outLayer = Reshape((1, outLayer.get_shape()[1]), name='reshape1')(outLayer)\n",
    "    outLayer = LSTM(64, return_sequences=True)(outLayer)\n",
    "    outLayer = LSTM(64, return_sequences=False)(outLayer)\n",
    "\n",
    "    # Classify\n",
    "    outLayer = Dense(n_classes, activation='softmax', name='outLayer')(outLayer)\n",
    "    model = Model(inputLayer, outLayer)\n",
    "    optimizer = Adam(lr=1e-4)\n",
    "    model.compile(optimizer=optimizer, loss='categorical_crossentropy', metrics=['acc'])\n",
    "    #model.compile(optimizer=optimizer, loss='categorical_crossentropy', metrics=['accuracy'])\n",
    "    if verbose:\n",
    "        model.summary()\n",
    "    return model"
   ]
  },
  {
   "cell_type": "markdown",
   "metadata": {
    "id": "fwntY_Ei1WzB"
   },
   "source": [
    "Checking for individual model accuracies wrt to the test set"
   ]
  },
  {
   "cell_type": "code",
   "execution_count": null,
   "metadata": {
    "colab": {
     "base_uri": "https://localhost:8080/"
    },
    "id": "t9wp3DH71dA_",
    "outputId": "29afbe5c-5c58-4ddf-e100-b089eb32c274"
   },
   "outputs": [
    {
     "name": "stdout",
     "output_type": "stream",
     "text": [
      "Model: \"model\"\n",
      "__________________________________________________________________________________________________\n",
      " Layer (type)                   Output Shape         Param #     Connected to                     \n",
      "==================================================================================================\n",
      " inLayer (InputLayer)           [(None, 3000, 1)]    0           []                               \n",
      "                                                                                                  \n",
      " fConv1 (Conv1D)                (None, 500, 64)      3264        ['inLayer[0][0]']                \n",
      "                                                                                                  \n",
      " cConv1 (Conv1D)                (None, 60, 32)       12832       ['inLayer[0][0]']                \n",
      "                                                                                                  \n",
      " fMaxP1 (MaxPooling1D)          (None, 62, 64)       0           ['fConv1[0][0]']                 \n",
      "                                                                                                  \n",
      " cMaxP1 (MaxPooling1D)          (None, 15, 32)       0           ['cConv1[0][0]']                 \n",
      "                                                                                                  \n",
      " fDrop1 (Dropout)               (None, 62, 64)       0           ['fMaxP1[0][0]']                 \n",
      "                                                                                                  \n",
      " cDrop1 (Dropout)               (None, 15, 32)       0           ['cMaxP1[0][0]']                 \n",
      "                                                                                                  \n",
      " fConv2 (Conv1D)                (None, 62, 128)      65664       ['fDrop1[0][0]']                 \n",
      "                                                                                                  \n",
      " cConv2 (Conv1D)                (None, 15, 128)      24704       ['cDrop1[0][0]']                 \n",
      "                                                                                                  \n",
      " fConv3 (Conv1D)                (None, 62, 128)      131200      ['fConv2[0][0]']                 \n",
      "                                                                                                  \n",
      " cConv3 (Conv1D)                (None, 15, 128)      98432       ['cConv2[0][0]']                 \n",
      "                                                                                                  \n",
      " fConv4 (Conv1D)                (None, 62, 128)      131200      ['fConv3[0][0]']                 \n",
      "                                                                                                  \n",
      " cConv4 (Conv1D)                (None, 15, 128)      98432       ['cConv3[0][0]']                 \n",
      "                                                                                                  \n",
      " fMaxP2 (MaxPooling1D)          (None, 15, 128)      0           ['fConv4[0][0]']                 \n",
      "                                                                                                  \n",
      " cMaxP2 (MaxPooling1D)          (None, 7, 128)       0           ['cConv4[0][0]']                 \n",
      "                                                                                                  \n",
      " fFlat1 (Flatten)               (None, 1920)         0           ['fMaxP2[0][0]']                 \n",
      "                                                                                                  \n",
      " cFlat1 (Flatten)               (None, 896)          0           ['cMaxP2[0][0]']                 \n",
      "                                                                                                  \n",
      " merge_1 (Concatenate)          (None, 2816)         0           ['fFlat1[0][0]',                 \n",
      "                                                                  'cFlat1[0][0]']                 \n",
      "                                                                                                  \n",
      " mDrop1 (Dropout)               (None, 2816)         0           ['merge_1[0][0]']                \n",
      "                                                                                                  \n",
      " reshape1 (Reshape)             (None, 1, 2816)      0           ['mDrop1[0][0]']                 \n",
      "                                                                                                  \n",
      " lstm (LSTM)                    (None, 1, 64)        737536      ['reshape1[0][0]']               \n",
      "                                                                                                  \n",
      " lstm_1 (LSTM)                  (None, 64)           33024       ['lstm[0][0]']                   \n",
      "                                                                                                  \n",
      " outLayer (Dense)               (None, 5)            325         ['lstm_1[0][0]']                 \n",
      "                                                                                                  \n",
      "==================================================================================================\n",
      "Total params: 1,336,613\n",
      "Trainable params: 1,336,613\n",
      "Non-trainable params: 0\n",
      "__________________________________________________________________________________________________\n",
      "Model: \"model_1\"\n",
      "__________________________________________________________________________________________________\n",
      " Layer (type)                   Output Shape         Param #     Connected to                     \n",
      "==================================================================================================\n",
      " inLayer (InputLayer)           [(None, 3000, 1)]    0           []                               \n",
      "                                                                                                  \n",
      " fConv1 (Conv1D)                (None, 500, 64)      3264        ['inLayer[0][0]']                \n",
      "                                                                                                  \n",
      " cConv1 (Conv1D)                (None, 60, 32)       12832       ['inLayer[0][0]']                \n",
      "                                                                                                  \n",
      " fMaxP1 (MaxPooling1D)          (None, 62, 64)       0           ['fConv1[0][0]']                 \n",
      "                                                                                                  \n",
      " cMaxP1 (MaxPooling1D)          (None, 15, 32)       0           ['cConv1[0][0]']                 \n",
      "                                                                                                  \n",
      " fDrop1 (Dropout)               (None, 62, 64)       0           ['fMaxP1[0][0]']                 \n",
      "                                                                                                  \n",
      " cDrop1 (Dropout)               (None, 15, 32)       0           ['cMaxP1[0][0]']                 \n",
      "                                                                                                  \n",
      " fConv2 (Conv1D)                (None, 62, 128)      65664       ['fDrop1[0][0]']                 \n",
      "                                                                                                  \n",
      " cConv2 (Conv1D)                (None, 15, 128)      24704       ['cDrop1[0][0]']                 \n",
      "                                                                                                  \n",
      " fConv3 (Conv1D)                (None, 62, 128)      131200      ['fConv2[0][0]']                 \n",
      "                                                                                                  \n",
      " cConv3 (Conv1D)                (None, 15, 128)      98432       ['cConv2[0][0]']                 \n",
      "                                                                                                  \n",
      " fConv4 (Conv1D)                (None, 62, 128)      131200      ['fConv3[0][0]']                 \n",
      "                                                                                                  \n",
      " cConv4 (Conv1D)                (None, 15, 128)      98432       ['cConv3[0][0]']                 \n",
      "                                                                                                  \n",
      " fMaxP2 (MaxPooling1D)          (None, 15, 128)      0           ['fConv4[0][0]']                 \n",
      "                                                                                                  \n",
      " cMaxP2 (MaxPooling1D)          (None, 7, 128)       0           ['cConv4[0][0]']                 \n",
      "                                                                                                  \n",
      " fFlat1 (Flatten)               (None, 1920)         0           ['fMaxP2[0][0]']                 \n",
      "                                                                                                  \n",
      " cFlat1 (Flatten)               (None, 896)          0           ['cMaxP2[0][0]']                 \n",
      "                                                                                                  \n",
      " merge_1 (Concatenate)          (None, 2816)         0           ['fFlat1[0][0]',                 \n",
      "                                                                  'cFlat1[0][0]']                 \n",
      "                                                                                                  \n",
      " mDrop1 (Dropout)               (None, 2816)         0           ['merge_1[0][0]']                \n",
      "                                                                                                  \n",
      " reshape1 (Reshape)             (None, 1, 2816)      0           ['mDrop1[0][0]']                 \n",
      "                                                                                                  \n",
      " lstm_2 (LSTM)                  (None, 1, 64)        737536      ['reshape1[0][0]']               \n",
      "                                                                                                  \n",
      " lstm_3 (LSTM)                  (None, 64)           33024       ['lstm_2[0][0]']                 \n",
      "                                                                                                  \n",
      " outLayer (Dense)               (None, 5)            325         ['lstm_3[0][0]']                 \n",
      "                                                                                                  \n",
      "==================================================================================================\n",
      "Total params: 1,336,613\n",
      "Trainable params: 1,336,613\n",
      "Non-trainable params: 0\n",
      "__________________________________________________________________________________________________\n",
      "Model: \"model_2\"\n",
      "__________________________________________________________________________________________________\n",
      " Layer (type)                   Output Shape         Param #     Connected to                     \n",
      "==================================================================================================\n",
      " inLayer (InputLayer)           [(None, 3000, 1)]    0           []                               \n",
      "                                                                                                  \n",
      " fConv1 (Conv1D)                (None, 500, 64)      3264        ['inLayer[0][0]']                \n",
      "                                                                                                  \n",
      " cConv1 (Conv1D)                (None, 60, 32)       12832       ['inLayer[0][0]']                \n",
      "                                                                                                  \n",
      " fMaxP1 (MaxPooling1D)          (None, 62, 64)       0           ['fConv1[0][0]']                 \n",
      "                                                                                                  \n",
      " cMaxP1 (MaxPooling1D)          (None, 15, 32)       0           ['cConv1[0][0]']                 \n",
      "                                                                                                  \n",
      " fDrop1 (Dropout)               (None, 62, 64)       0           ['fMaxP1[0][0]']                 \n",
      "                                                                                                  \n",
      " cDrop1 (Dropout)               (None, 15, 32)       0           ['cMaxP1[0][0]']                 \n",
      "                                                                                                  \n",
      " fConv2 (Conv1D)                (None, 62, 128)      65664       ['fDrop1[0][0]']                 \n",
      "                                                                                                  \n",
      " cConv2 (Conv1D)                (None, 15, 128)      24704       ['cDrop1[0][0]']                 \n",
      "                                                                                                  \n",
      " fConv3 (Conv1D)                (None, 62, 128)      131200      ['fConv2[0][0]']                 \n",
      "                                                                                                  \n",
      " cConv3 (Conv1D)                (None, 15, 128)      98432       ['cConv2[0][0]']                 \n",
      "                                                                                                  \n",
      " fConv4 (Conv1D)                (None, 62, 128)      131200      ['fConv3[0][0]']                 \n",
      "                                                                                                  \n",
      " cConv4 (Conv1D)                (None, 15, 128)      98432       ['cConv3[0][0]']                 \n",
      "                                                                                                  \n",
      " fMaxP2 (MaxPooling1D)          (None, 15, 128)      0           ['fConv4[0][0]']                 \n",
      "                                                                                                  \n",
      " cMaxP2 (MaxPooling1D)          (None, 7, 128)       0           ['cConv4[0][0]']                 \n",
      "                                                                                                  \n",
      " fFlat1 (Flatten)               (None, 1920)         0           ['fMaxP2[0][0]']                 \n",
      "                                                                                                  \n",
      " cFlat1 (Flatten)               (None, 896)          0           ['cMaxP2[0][0]']                 \n",
      "                                                                                                  \n",
      " merge_1 (Concatenate)          (None, 2816)         0           ['fFlat1[0][0]',                 \n",
      "                                                                  'cFlat1[0][0]']                 \n",
      "                                                                                                  \n",
      " mDrop1 (Dropout)               (None, 2816)         0           ['merge_1[0][0]']                \n",
      "                                                                                                  \n",
      " reshape1 (Reshape)             (None, 1, 2816)      0           ['mDrop1[0][0]']                 \n",
      "                                                                                                  \n",
      " lstm_4 (LSTM)                  (None, 1, 64)        737536      ['reshape1[0][0]']               \n",
      "                                                                                                  \n",
      " lstm_5 (LSTM)                  (None, 64)           33024       ['lstm_4[0][0]']                 \n",
      "                                                                                                  \n",
      " outLayer (Dense)               (None, 5)            325         ['lstm_5[0][0]']                 \n",
      "                                                                                                  \n",
      "==================================================================================================\n",
      "Total params: 1,336,613\n",
      "Trainable params: 1,336,613\n",
      "Non-trainable params: 0\n",
      "__________________________________________________________________________________________________\n"
     ]
    }
   ],
   "source": [
    "loaded_model_shuf1=model_b(verbose=VBS)\n",
    "loaded_model_shuf2=model_b(verbose=VBS)\n",
    "loaded_model_shuf3=model_b(verbose=VBS)"
   ]
  },
  {
   "cell_type": "code",
   "execution_count": null,
   "metadata": {
    "colab": {
     "base_uri": "https://localhost:8080/"
    },
    "id": "s0OQqqso1hYp",
    "outputId": "0c375516-4566-4f2d-e096-3966ef2dddf5"
   },
   "outputs": [
    {
     "name": "stdout",
     "output_type": "stream",
     "text": [
      "/content/gdrive/My Drive/physionet/dt_shuf1_phy/sub_482_75th_sub_with_50_sub_tr_dt/weights-phy_shuf1_30_epochs.ckpt\n"
     ]
    }
   ],
   "source": [
    "#dt_shuf1\n",
    "checkpoint_path_load_model_30_epochs_shuf1 = \"/content/gdrive/My Drive/physionet/dt_shuf1_phy/sub_482_75th_sub_with_50_sub_tr_dt/weights-phy_shuf1_30_epochs.ckpt\"\n",
    "checkpoint_load_model_30_epochs_shuf1_dir = os.path.dirname(checkpoint_path_load_model_30_epochs_shuf1)\n",
    "#latest_30_epochs_shuf1_s828=tensorflow.train.latest_checkpoint(checkpoint_load_model_300_epochs_shuf1_s828_dir)\n",
    "print(checkpoint_path_load_model_30_epochs_shuf1)"
   ]
  },
  {
   "cell_type": "code",
   "execution_count": null,
   "metadata": {
    "colab": {
     "base_uri": "https://localhost:8080/"
    },
    "id": "HclyKQh21hnA",
    "outputId": "e4147ce0-cb6b-468a-8222-978780bb8e0d"
   },
   "outputs": [
    {
     "name": "stdout",
     "output_type": "stream",
     "text": [
      "/content/gdrive/My Drive/physionet/dt_shuf2_phy/sub_482_75th_sub_with_50_sub_tr_dt/weights-phy_shuf2_30_epochs.ckpt\n"
     ]
    }
   ],
   "source": [
    "#dt_shuf2\n",
    "checkpoint_path_load_model_30_epochs_shuf2 = \"/content/gdrive/My Drive/physionet/dt_shuf2_phy/sub_482_75th_sub_with_50_sub_tr_dt/weights-phy_shuf2_30_epochs.ckpt\"\n",
    "checkpoint_load_model_30_epochs_shuf2_dir = os.path.dirname(checkpoint_path_load_model_30_epochs_shuf2)\n",
    "#latest_300_epochs_shuf2_s828=tensorflow.train.latest_checkpoint(checkpoint_load_model_300_epochs_shuf2_s828_dir)\n",
    "print(checkpoint_path_load_model_30_epochs_shuf2)"
   ]
  },
  {
   "cell_type": "code",
   "execution_count": null,
   "metadata": {
    "colab": {
     "base_uri": "https://localhost:8080/"
    },
    "id": "vU0_ouf21hxe",
    "outputId": "f796b6de-2e55-4a0f-e7f4-27e186e0da0b"
   },
   "outputs": [
    {
     "name": "stdout",
     "output_type": "stream",
     "text": [
      "/content/gdrive/My Drive/physionet/dt_shuf3_phy/sub_482_75th_sub_with_50_sub_tr_dt/weights-phy_shuf3_30_epochs.ckpt\n"
     ]
    }
   ],
   "source": [
    "#dt_shuf3\n",
    "checkpoint_path_load_model_30_epochs_shuf3 = \"/content/gdrive/My Drive/physionet/dt_shuf3_phy/sub_482_75th_sub_with_50_sub_tr_dt/weights-phy_shuf3_30_epochs.ckpt\"\n",
    "checkpoint_load_model_30_epochs_shuf3_dir = os.path.dirname(checkpoint_path_load_model_30_epochs_shuf3)\n",
    "#latest_300_epochs_shuf3_s828=tensorflow.train.latest_checkpoint(checkpoint_load_model_300_epochs_shuf3_s828_dir)\n",
    "print(checkpoint_path_load_model_30_epochs_shuf3)"
   ]
  },
  {
   "cell_type": "code",
   "execution_count": null,
   "metadata": {
    "colab": {
     "base_uri": "https://localhost:8080/"
    },
    "id": "UD549gRA1oxX",
    "outputId": "3545e715-3a61-4d53-d1ee-97d3fe353237"
   },
   "outputs": [
    {
     "data": {
      "text/plain": [
       "<tensorflow.python.training.tracking.util.CheckpointLoadStatus at 0x7f4424ac36d0>"
      ]
     },
     "execution_count": 36,
     "metadata": {},
     "output_type": "execute_result"
    }
   ],
   "source": [
    "loaded_model_shuf1.load_weights(checkpoint_path_load_model_30_epochs_shuf1)\n",
    "loaded_model_shuf2.load_weights(checkpoint_path_load_model_30_epochs_shuf2)\n",
    "loaded_model_shuf3.load_weights(checkpoint_path_load_model_30_epochs_shuf3)"
   ]
  },
  {
   "cell_type": "code",
   "execution_count": null,
   "metadata": {
    "id": "qBi0GBiu1sj-"
   },
   "outputs": [],
   "source": [
    "optimizer = Adam(lr=1e-4)"
   ]
  },
  {
   "cell_type": "code",
   "execution_count": null,
   "metadata": {
    "colab": {
     "base_uri": "https://localhost:8080/"
    },
    "id": "drDrKH5G1uq2",
    "outputId": "a88b9beb-3a65-476c-8259-25c9f2308d24"
   },
   "outputs": [
    {
     "name": "stdout",
     "output_type": "stream",
     "text": [
      "WARNING:tensorflow:Detecting that an object or model or tf.train.Checkpoint is being deleted with unrestored values. See the following logs for the specific values in question. To silence these warnings, use `status.expect_partial()`. See https://www.tensorflow.org/api_docs/python/tf/train/Checkpoint#restorefor details about the status object returned by the restore function.\n",
      "WARNING:tensorflow:Value in checkpoint could not be found in the restored object: (root).optimizer.iter\n",
      "WARNING:tensorflow:Value in checkpoint could not be found in the restored object: (root).optimizer.beta_1\n",
      "WARNING:tensorflow:Value in checkpoint could not be found in the restored object: (root).optimizer.beta_2\n",
      "WARNING:tensorflow:Value in checkpoint could not be found in the restored object: (root).optimizer.decay\n",
      "WARNING:tensorflow:Value in checkpoint could not be found in the restored object: (root).optimizer.learning_rate\n",
      "WARNING:tensorflow:Detecting that an object or model or tf.train.Checkpoint is being deleted with unrestored values. See the following logs for the specific values in question. To silence these warnings, use `status.expect_partial()`. See https://www.tensorflow.org/api_docs/python/tf/train/Checkpoint#restorefor details about the status object returned by the restore function.\n",
      "WARNING:tensorflow:Value in checkpoint could not be found in the restored object: (root).optimizer.iter\n",
      "WARNING:tensorflow:Value in checkpoint could not be found in the restored object: (root).optimizer.beta_1\n",
      "WARNING:tensorflow:Value in checkpoint could not be found in the restored object: (root).optimizer.beta_2\n",
      "WARNING:tensorflow:Value in checkpoint could not be found in the restored object: (root).optimizer.decay\n",
      "WARNING:tensorflow:Value in checkpoint could not be found in the restored object: (root).optimizer.learning_rate\n"
     ]
    }
   ],
   "source": [
    "loaded_model_shuf1.compile(optimizer=optimizer, loss='categorical_crossentropy', metrics=['accuracy'])\n",
    "loaded_model_shuf2.compile(optimizer=optimizer, loss='categorical_crossentropy', metrics=['accuracy'])\n",
    "loaded_model_shuf3.compile(optimizer=optimizer, loss='categorical_crossentropy', metrics=['accuracy'])"
   ]
  },
  {
   "cell_type": "code",
   "execution_count": null,
   "metadata": {
    "colab": {
     "base_uri": "https://localhost:8080/"
    },
    "id": "HJll-opo1xS2",
    "outputId": "f7db0d64-bf48-4885-89f9-c615ed2d1d4d"
   },
   "outputs": [
    {
     "name": "stdout",
     "output_type": "stream",
     "text": [
      "Model: \"model\"\n",
      "__________________________________________________________________________________________________\n",
      " Layer (type)                   Output Shape         Param #     Connected to                     \n",
      "==================================================================================================\n",
      " inLayer (InputLayer)           [(None, 3000, 1)]    0           []                               \n",
      "                                                                                                  \n",
      " fConv1 (Conv1D)                (None, 500, 64)      3264        ['inLayer[0][0]']                \n",
      "                                                                                                  \n",
      " cConv1 (Conv1D)                (None, 60, 32)       12832       ['inLayer[0][0]']                \n",
      "                                                                                                  \n",
      " fMaxP1 (MaxPooling1D)          (None, 62, 64)       0           ['fConv1[0][0]']                 \n",
      "                                                                                                  \n",
      " cMaxP1 (MaxPooling1D)          (None, 15, 32)       0           ['cConv1[0][0]']                 \n",
      "                                                                                                  \n",
      " fDrop1 (Dropout)               (None, 62, 64)       0           ['fMaxP1[0][0]']                 \n",
      "                                                                                                  \n",
      " cDrop1 (Dropout)               (None, 15, 32)       0           ['cMaxP1[0][0]']                 \n",
      "                                                                                                  \n",
      " fConv2 (Conv1D)                (None, 62, 128)      65664       ['fDrop1[0][0]']                 \n",
      "                                                                                                  \n",
      " cConv2 (Conv1D)                (None, 15, 128)      24704       ['cDrop1[0][0]']                 \n",
      "                                                                                                  \n",
      " fConv3 (Conv1D)                (None, 62, 128)      131200      ['fConv2[0][0]']                 \n",
      "                                                                                                  \n",
      " cConv3 (Conv1D)                (None, 15, 128)      98432       ['cConv2[0][0]']                 \n",
      "                                                                                                  \n",
      " fConv4 (Conv1D)                (None, 62, 128)      131200      ['fConv3[0][0]']                 \n",
      "                                                                                                  \n",
      " cConv4 (Conv1D)                (None, 15, 128)      98432       ['cConv3[0][0]']                 \n",
      "                                                                                                  \n",
      " fMaxP2 (MaxPooling1D)          (None, 15, 128)      0           ['fConv4[0][0]']                 \n",
      "                                                                                                  \n",
      " cMaxP2 (MaxPooling1D)          (None, 7, 128)       0           ['cConv4[0][0]']                 \n",
      "                                                                                                  \n",
      " fFlat1 (Flatten)               (None, 1920)         0           ['fMaxP2[0][0]']                 \n",
      "                                                                                                  \n",
      " cFlat1 (Flatten)               (None, 896)          0           ['cMaxP2[0][0]']                 \n",
      "                                                                                                  \n",
      " merge_1 (Concatenate)          (None, 2816)         0           ['fFlat1[0][0]',                 \n",
      "                                                                  'cFlat1[0][0]']                 \n",
      "                                                                                                  \n",
      " mDrop1 (Dropout)               (None, 2816)         0           ['merge_1[0][0]']                \n",
      "                                                                                                  \n",
      " reshape1 (Reshape)             (None, 1, 2816)      0           ['mDrop1[0][0]']                 \n",
      "                                                                                                  \n",
      " lstm (LSTM)                    (None, 1, 64)        737536      ['reshape1[0][0]']               \n",
      "                                                                                                  \n",
      " lstm_1 (LSTM)                  (None, 64)           33024       ['lstm[0][0]']                   \n",
      "                                                                                                  \n",
      " outLayer (Dense)               (None, 5)            325         ['lstm_1[0][0]']                 \n",
      "                                                                                                  \n",
      "==================================================================================================\n",
      "Total params: 1,336,613\n",
      "Trainable params: 1,336,613\n",
      "Non-trainable params: 0\n",
      "__________________________________________________________________________________________________\n"
     ]
    }
   ],
   "source": [
    "loaded_model_shuf1.summary()"
   ]
  },
  {
   "cell_type": "code",
   "execution_count": null,
   "metadata": {
    "colab": {
     "base_uri": "https://localhost:8080/"
    },
    "id": "nCLz_Ndq1x4j",
    "outputId": "763d4bbc-34fa-42a0-8141-14ade37fb7ad"
   },
   "outputs": [
    {
     "name": "stdout",
     "output_type": "stream",
     "text": [
      "Model: \"model_1\"\n",
      "__________________________________________________________________________________________________\n",
      " Layer (type)                   Output Shape         Param #     Connected to                     \n",
      "==================================================================================================\n",
      " inLayer (InputLayer)           [(None, 3000, 1)]    0           []                               \n",
      "                                                                                                  \n",
      " fConv1 (Conv1D)                (None, 500, 64)      3264        ['inLayer[0][0]']                \n",
      "                                                                                                  \n",
      " cConv1 (Conv1D)                (None, 60, 32)       12832       ['inLayer[0][0]']                \n",
      "                                                                                                  \n",
      " fMaxP1 (MaxPooling1D)          (None, 62, 64)       0           ['fConv1[0][0]']                 \n",
      "                                                                                                  \n",
      " cMaxP1 (MaxPooling1D)          (None, 15, 32)       0           ['cConv1[0][0]']                 \n",
      "                                                                                                  \n",
      " fDrop1 (Dropout)               (None, 62, 64)       0           ['fMaxP1[0][0]']                 \n",
      "                                                                                                  \n",
      " cDrop1 (Dropout)               (None, 15, 32)       0           ['cMaxP1[0][0]']                 \n",
      "                                                                                                  \n",
      " fConv2 (Conv1D)                (None, 62, 128)      65664       ['fDrop1[0][0]']                 \n",
      "                                                                                                  \n",
      " cConv2 (Conv1D)                (None, 15, 128)      24704       ['cDrop1[0][0]']                 \n",
      "                                                                                                  \n",
      " fConv3 (Conv1D)                (None, 62, 128)      131200      ['fConv2[0][0]']                 \n",
      "                                                                                                  \n",
      " cConv3 (Conv1D)                (None, 15, 128)      98432       ['cConv2[0][0]']                 \n",
      "                                                                                                  \n",
      " fConv4 (Conv1D)                (None, 62, 128)      131200      ['fConv3[0][0]']                 \n",
      "                                                                                                  \n",
      " cConv4 (Conv1D)                (None, 15, 128)      98432       ['cConv3[0][0]']                 \n",
      "                                                                                                  \n",
      " fMaxP2 (MaxPooling1D)          (None, 15, 128)      0           ['fConv4[0][0]']                 \n",
      "                                                                                                  \n",
      " cMaxP2 (MaxPooling1D)          (None, 7, 128)       0           ['cConv4[0][0]']                 \n",
      "                                                                                                  \n",
      " fFlat1 (Flatten)               (None, 1920)         0           ['fMaxP2[0][0]']                 \n",
      "                                                                                                  \n",
      " cFlat1 (Flatten)               (None, 896)          0           ['cMaxP2[0][0]']                 \n",
      "                                                                                                  \n",
      " merge_1 (Concatenate)          (None, 2816)         0           ['fFlat1[0][0]',                 \n",
      "                                                                  'cFlat1[0][0]']                 \n",
      "                                                                                                  \n",
      " mDrop1 (Dropout)               (None, 2816)         0           ['merge_1[0][0]']                \n",
      "                                                                                                  \n",
      " reshape1 (Reshape)             (None, 1, 2816)      0           ['mDrop1[0][0]']                 \n",
      "                                                                                                  \n",
      " lstm_2 (LSTM)                  (None, 1, 64)        737536      ['reshape1[0][0]']               \n",
      "                                                                                                  \n",
      " lstm_3 (LSTM)                  (None, 64)           33024       ['lstm_2[0][0]']                 \n",
      "                                                                                                  \n",
      " outLayer (Dense)               (None, 5)            325         ['lstm_3[0][0]']                 \n",
      "                                                                                                  \n",
      "==================================================================================================\n",
      "Total params: 1,336,613\n",
      "Trainable params: 1,336,613\n",
      "Non-trainable params: 0\n",
      "__________________________________________________________________________________________________\n"
     ]
    }
   ],
   "source": [
    "loaded_model_shuf2.summary()"
   ]
  },
  {
   "cell_type": "code",
   "execution_count": null,
   "metadata": {
    "colab": {
     "base_uri": "https://localhost:8080/"
    },
    "id": "9494z90d1x7d",
    "outputId": "7917f739-ff6b-45ae-c8a4-5fbc6608df8c"
   },
   "outputs": [
    {
     "name": "stdout",
     "output_type": "stream",
     "text": [
      "Model: \"model_2\"\n",
      "__________________________________________________________________________________________________\n",
      " Layer (type)                   Output Shape         Param #     Connected to                     \n",
      "==================================================================================================\n",
      " inLayer (InputLayer)           [(None, 3000, 1)]    0           []                               \n",
      "                                                                                                  \n",
      " fConv1 (Conv1D)                (None, 500, 64)      3264        ['inLayer[0][0]']                \n",
      "                                                                                                  \n",
      " cConv1 (Conv1D)                (None, 60, 32)       12832       ['inLayer[0][0]']                \n",
      "                                                                                                  \n",
      " fMaxP1 (MaxPooling1D)          (None, 62, 64)       0           ['fConv1[0][0]']                 \n",
      "                                                                                                  \n",
      " cMaxP1 (MaxPooling1D)          (None, 15, 32)       0           ['cConv1[0][0]']                 \n",
      "                                                                                                  \n",
      " fDrop1 (Dropout)               (None, 62, 64)       0           ['fMaxP1[0][0]']                 \n",
      "                                                                                                  \n",
      " cDrop1 (Dropout)               (None, 15, 32)       0           ['cMaxP1[0][0]']                 \n",
      "                                                                                                  \n",
      " fConv2 (Conv1D)                (None, 62, 128)      65664       ['fDrop1[0][0]']                 \n",
      "                                                                                                  \n",
      " cConv2 (Conv1D)                (None, 15, 128)      24704       ['cDrop1[0][0]']                 \n",
      "                                                                                                  \n",
      " fConv3 (Conv1D)                (None, 62, 128)      131200      ['fConv2[0][0]']                 \n",
      "                                                                                                  \n",
      " cConv3 (Conv1D)                (None, 15, 128)      98432       ['cConv2[0][0]']                 \n",
      "                                                                                                  \n",
      " fConv4 (Conv1D)                (None, 62, 128)      131200      ['fConv3[0][0]']                 \n",
      "                                                                                                  \n",
      " cConv4 (Conv1D)                (None, 15, 128)      98432       ['cConv3[0][0]']                 \n",
      "                                                                                                  \n",
      " fMaxP2 (MaxPooling1D)          (None, 15, 128)      0           ['fConv4[0][0]']                 \n",
      "                                                                                                  \n",
      " cMaxP2 (MaxPooling1D)          (None, 7, 128)       0           ['cConv4[0][0]']                 \n",
      "                                                                                                  \n",
      " fFlat1 (Flatten)               (None, 1920)         0           ['fMaxP2[0][0]']                 \n",
      "                                                                                                  \n",
      " cFlat1 (Flatten)               (None, 896)          0           ['cMaxP2[0][0]']                 \n",
      "                                                                                                  \n",
      " merge_1 (Concatenate)          (None, 2816)         0           ['fFlat1[0][0]',                 \n",
      "                                                                  'cFlat1[0][0]']                 \n",
      "                                                                                                  \n",
      " mDrop1 (Dropout)               (None, 2816)         0           ['merge_1[0][0]']                \n",
      "                                                                                                  \n",
      " reshape1 (Reshape)             (None, 1, 2816)      0           ['mDrop1[0][0]']                 \n",
      "                                                                                                  \n",
      " lstm_4 (LSTM)                  (None, 1, 64)        737536      ['reshape1[0][0]']               \n",
      "                                                                                                  \n",
      " lstm_5 (LSTM)                  (None, 64)           33024       ['lstm_4[0][0]']                 \n",
      "                                                                                                  \n",
      " outLayer (Dense)               (None, 5)            325         ['lstm_5[0][0]']                 \n",
      "                                                                                                  \n",
      "==================================================================================================\n",
      "Total params: 1,336,613\n",
      "Trainable params: 1,336,613\n",
      "Non-trainable params: 0\n",
      "__________________________________________________________________________________________________\n"
     ]
    }
   ],
   "source": [
    "loaded_model_shuf3.summary()"
   ]
  },
  {
   "cell_type": "code",
   "execution_count": null,
   "metadata": {
    "colab": {
     "base_uri": "https://localhost:8080/"
    },
    "id": "3KKBebHk14WA",
    "outputId": "b69aaeb2-7240-42fe-847e-8f00d18969ae"
   },
   "outputs": [
    {
     "data": {
      "text/plain": [
       "array([[9.09095816e-03, 8.80166739e-02, 5.98391667e-02, 9.15755081e-05,\n",
       "        8.42961669e-01],\n",
       "       [3.45676090e-04, 1.21684205e-02, 9.81667399e-01, 2.56890291e-03,\n",
       "        3.24961427e-03],\n",
       "       [4.49957479e-05, 1.36625674e-03, 9.94424284e-01, 1.82588631e-03,\n",
       "        2.33855681e-03],\n",
       "       ...,\n",
       "       [2.96721904e-04, 1.19348802e-03, 3.06014955e-01, 6.92255020e-01,\n",
       "        2.39852801e-04],\n",
       "       [9.95429397e-01, 3.52478633e-03, 3.23247048e-04, 5.78260297e-05,\n",
       "        6.64749241e-04],\n",
       "       [6.42487430e-05, 3.93863395e-03, 9.94493246e-01, 6.78736600e-04,\n",
       "        8.25152500e-04]], dtype=float32)"
      ]
     },
     "execution_count": 42,
     "metadata": {},
     "output_type": "execute_result"
    }
   ],
   "source": [
    "preds_m1 = loaded_model_shuf1.predict(x_sub_set_rshp)\n",
    "preds_m1"
   ]
  },
  {
   "cell_type": "code",
   "execution_count": null,
   "metadata": {
    "colab": {
     "base_uri": "https://localhost:8080/"
    },
    "id": "JdTftqQs14c6",
    "outputId": "f9398fb4-4169-4a34-e037-0e630be2cc47"
   },
   "outputs": [
    {
     "data": {
      "text/plain": [
       "array([[2.16020159e-02, 2.86050171e-01, 5.12999222e-02, 1.08726044e-05,\n",
       "        6.41037047e-01],\n",
       "       [3.77965788e-03, 1.37492791e-01, 8.54426026e-01, 4.26202139e-04,\n",
       "        3.87534476e-03],\n",
       "       [5.51248995e-05, 1.57884229e-03, 9.94818032e-01, 2.46819435e-03,\n",
       "        1.07976061e-03],\n",
       "       ...,\n",
       "       [1.11020345e-04, 5.63990965e-04, 4.69086885e-01, 5.29625058e-01,\n",
       "        6.13089243e-04],\n",
       "       [9.91531432e-01, 7.38599990e-03, 1.89782411e-04, 1.52278717e-05,\n",
       "        8.77673505e-04],\n",
       "       [1.14108720e-04, 4.96073114e-03, 9.93996382e-01, 3.13592143e-04,\n",
       "        6.15215045e-04]], dtype=float32)"
      ]
     },
     "execution_count": 43,
     "metadata": {},
     "output_type": "execute_result"
    }
   ],
   "source": [
    "preds_m2 = loaded_model_shuf2.predict(x_sub_set_rshp)\n",
    "preds_m2"
   ]
  },
  {
   "cell_type": "code",
   "execution_count": null,
   "metadata": {
    "colab": {
     "base_uri": "https://localhost:8080/"
    },
    "id": "c7K-HEHV14jF",
    "outputId": "09a9516d-65b3-4ff1-f696-9cbf91c0bef2"
   },
   "outputs": [
    {
     "data": {
      "text/plain": [
       "array([[7.60465721e-03, 1.06796898e-01, 7.26375729e-02, 2.31922841e-05,\n",
       "        8.12937677e-01],\n",
       "       [8.96413811e-04, 3.39324027e-02, 9.61639702e-01, 5.01133909e-04,\n",
       "        3.03026801e-03],\n",
       "       [2.83590016e-05, 6.27823989e-04, 9.96076405e-01, 2.52715731e-03,\n",
       "        7.40294170e-04],\n",
       "       ...,\n",
       "       [1.11981215e-04, 3.02836561e-04, 2.32980281e-01, 7.66378641e-01,\n",
       "        2.26210439e-04],\n",
       "       [9.92050827e-01, 4.26374469e-03, 2.50250159e-04, 3.45155713e-05,\n",
       "        3.40072392e-03],\n",
       "       [1.69225212e-04, 9.94790159e-03, 9.88698781e-01, 3.66225198e-04,\n",
       "        8.17831722e-04]], dtype=float32)"
      ]
     },
     "execution_count": 44,
     "metadata": {},
     "output_type": "execute_result"
    }
   ],
   "source": [
    "preds_m3 = loaded_model_shuf3.predict(x_sub_set_rshp)\n",
    "preds_m3"
   ]
  },
  {
   "cell_type": "code",
   "execution_count": null,
   "metadata": {
    "id": "eyeBDjht2Nix"
   },
   "outputs": [],
   "source": [
    "preds_m1_fin=np.argmax(preds_m1,axis=1)\n",
    "preds_m2_fin=np.argmax(preds_m2,axis=1)\n",
    "preds_m3_fin=np.argmax(preds_m3,axis=1)"
   ]
  },
  {
   "cell_type": "code",
   "execution_count": null,
   "metadata": {
    "colab": {
     "base_uri": "https://localhost:8080/"
    },
    "id": "ceUlusfC2NrQ",
    "outputId": "40d41b24-8dbf-4dd1-e03b-9099df6cb17b"
   },
   "outputs": [
    {
     "data": {
      "text/plain": [
       "array([0.88095238, 0.31372549, 0.94152047, 0.7826087 , 0.9       ])"
      ]
     },
     "execution_count": 46,
     "metadata": {},
     "output_type": "execute_result"
    }
   ],
   "source": [
    "from sklearn.metrics import confusion_matrix\n",
    "matrix_m1 = confusion_matrix(y_sub_dt, preds_m1_fin)\n",
    "matrix_m1.diagonal()/matrix_m1.sum(axis=1)"
   ]
  },
  {
   "cell_type": "code",
   "execution_count": null,
   "metadata": {
    "colab": {
     "base_uri": "https://localhost:8080/"
    },
    "id": "bLT68l6J2qfi",
    "outputId": "4073ceab-a9bc-46db-e45f-9d6008a0482d"
   },
   "outputs": [
    {
     "data": {
      "text/plain": [
       "array([0.86309524, 0.43137255, 0.96491228, 0.65217391, 0.86666667])"
      ]
     },
     "execution_count": 47,
     "metadata": {},
     "output_type": "execute_result"
    }
   ],
   "source": [
    "#from sklearn.metrics import confusion_matrix\n",
    "matrix_m2 = confusion_matrix(y_sub_dt, preds_m2_fin)\n",
    "matrix_m2.diagonal()/matrix_m2.sum(axis=1)"
   ]
  },
  {
   "cell_type": "code",
   "execution_count": null,
   "metadata": {
    "colab": {
     "base_uri": "https://localhost:8080/"
    },
    "id": "8UUxtpkh2uqC",
    "outputId": "461a9340-1e89-4b12-8ae7-e7ef8859714c"
   },
   "outputs": [
    {
     "data": {
      "text/plain": [
       "array([0.875     , 0.33333333, 0.93567251, 0.95652174, 0.91666667])"
      ]
     },
     "execution_count": 48,
     "metadata": {},
     "output_type": "execute_result"
    }
   ],
   "source": [
    "#from sklearn.metrics import confusion_matrix\n",
    "matrix_m3 = confusion_matrix(y_sub_dt, preds_m3_fin)\n",
    "matrix_m3.diagonal()/matrix_m3.sum(axis=1)"
   ]
  },
  {
   "cell_type": "code",
   "execution_count": null,
   "metadata": {
    "id": "XJhcjFCD50py"
   },
   "outputs": [],
   "source": [
    "from sklearn.metrics import classification_report"
   ]
  },
  {
   "cell_type": "code",
   "execution_count": null,
   "metadata": {
    "colab": {
     "base_uri": "https://localhost:8080/"
    },
    "id": "GNacQ_C72z1B",
    "outputId": "ce108187-40f7-4d4f-e526-aad6c35459f2"
   },
   "outputs": [
    {
     "name": "stdout",
     "output_type": "stream",
     "text": [
      "Precision: 0.7885203435804702\n",
      "Recall: 0.763761406927378\n",
      "F1 score: 0.7701183434433174\n",
      "              precision    recall  f1-score   support\n",
      "\n",
      "           0   0.936709  0.880952  0.907975       168\n",
      "           1   0.500000  0.313725  0.385542        51\n",
      "           2   0.805000  0.941520  0.867925       171\n",
      "           3   0.857143  0.782609  0.818182        46\n",
      "           4   0.843750  0.900000  0.870968        60\n",
      "\n",
      "    accuracy                       0.836694       496\n",
      "   macro avg   0.788520  0.763761  0.770118       496\n",
      "weighted avg   0.827774  0.836694  0.827645       496\n",
      "\n"
     ]
    }
   ],
   "source": [
    "#y_sub_dt\n",
    "from sklearn.metrics import precision_score, recall_score\n",
    "f1_m1 = f1_score(y_sub_dt, preds_m1_fin, average=\"macro\")\n",
    "prec_m1 = precision_score(y_sub_dt, preds_m1_fin, average=\"macro\")\n",
    "recall_m1 = recall_score(y_sub_dt, preds_m1_fin, average=\"macro\")\n",
    "if VBS:\n",
    "    print(\"Precision: {}\".format(prec_m1)) \n",
    "    print(\"Recall: {}\".format(recall_m1))\n",
    "    print(\"F1 score: {}\".format(f1_m1))\n",
    "\n",
    "    report_m1 = classification_report(y_sub_dt, preds_m1_fin, digits=6)\n",
    "    print(report_m1)"
   ]
  },
  {
   "cell_type": "code",
   "execution_count": null,
   "metadata": {
    "colab": {
     "base_uri": "https://localhost:8080/"
    },
    "id": "u7fsPQPM23-Z",
    "outputId": "4eece2e7-e693-45f9-e032-63e5654d4ef6"
   },
   "outputs": [
    {
     "name": "stdout",
     "output_type": "stream",
     "text": [
      "Precision: 0.8152322248773235\n",
      "Recall: 0.7556441295053491\n",
      "F1 score: 0.7769648932029863\n",
      "              precision    recall  f1-score   support\n",
      "\n",
      "           0   0.960265  0.863095  0.909091       168\n",
      "           1   0.458333  0.431373  0.444444        51\n",
      "           2   0.793269  0.964912  0.870712       171\n",
      "           3   0.967742  0.652174  0.779221        46\n",
      "           4   0.896552  0.866667  0.881356        60\n",
      "\n",
      "    accuracy                       0.834677       496\n",
      "   macro avg   0.815232  0.755644  0.776965       496\n",
      "weighted avg   0.844068  0.834677  0.832684       496\n",
      "\n"
     ]
    }
   ],
   "source": [
    "#y_sub_dt\n",
    "#from sklearn.metrics import precision_score, recall_score\n",
    "f1_m2 = f1_score(y_sub_dt, preds_m2_fin, average=\"macro\")\n",
    "prec_m2 = precision_score(y_sub_dt, preds_m2_fin, average=\"macro\")\n",
    "recall_m2 = recall_score(y_sub_dt, preds_m2_fin, average=\"macro\")\n",
    "if VBS:\n",
    "    print(\"Precision: {}\".format(prec_m2)) \n",
    "    print(\"Recall: {}\".format(recall_m2))\n",
    "    print(\"F1 score: {}\".format(f1_m2))\n",
    "\n",
    "    report_m2 = classification_report(y_sub_dt, preds_m2_fin, digits=6)\n",
    "    print(report_m2)"
   ]
  },
  {
   "cell_type": "code",
   "execution_count": null,
   "metadata": {
    "colab": {
     "base_uri": "https://localhost:8080/"
    },
    "id": "ew7-D28y24DJ",
    "outputId": "80b5034a-2d9c-48f9-a086-783c64837ecb"
   },
   "outputs": [
    {
     "name": "stdout",
     "output_type": "stream",
     "text": [
      "Precision: 0.8005161877950469\n",
      "Recall: 0.8034388507500635\n",
      "F1 score: 0.794623245698981\n",
      "              precision    recall  f1-score   support\n",
      "\n",
      "           0   0.942308  0.875000  0.907407       168\n",
      "           1   0.548387  0.333333  0.414634        51\n",
      "           2   0.837696  0.935673  0.883978       171\n",
      "           3   0.814815  0.956522  0.880000        46\n",
      "           4   0.859375  0.916667  0.887097        60\n",
      "\n",
      "    accuracy                       0.852823       496\n",
      "   macro avg   0.800516  0.803439  0.794623       496\n",
      "weighted avg   0.843882  0.852823  0.843663       496\n",
      "\n"
     ]
    }
   ],
   "source": [
    "#y_sub_dt\n",
    "#from sklearn.metrics import precision_score, recall_score\n",
    "f1_m3 = f1_score(y_sub_dt, preds_m3_fin, average=\"macro\")\n",
    "prec_m3 = precision_score(y_sub_dt, preds_m3_fin, average=\"macro\")\n",
    "recall_m3 = recall_score(y_sub_dt, preds_m3_fin, average=\"macro\")\n",
    "if VBS:\n",
    "    print(\"Precision: {}\".format(prec_m3)) \n",
    "    print(\"Recall: {}\".format(recall_m3))\n",
    "    print(\"F1 score: {}\".format(f1_m3))\n",
    "\n",
    "    report_m3 = classification_report(y_sub_dt, preds_m3_fin, digits=6)\n",
    "    print(report_m3)"
   ]
  },
  {
   "cell_type": "code",
   "execution_count": null,
   "metadata": {
    "id": "6LOvR2CYfnzT"
   },
   "outputs": [],
   "source": [
    "check_pt_path=\"/content/gdrive/My Drive/physionet/ensemble/teacher_wts_30_epochs_50_subs.ckpt\""
   ]
  },
  {
   "cell_type": "code",
   "execution_count": null,
   "metadata": {
    "id": "iwOwH1PiiF8F"
   },
   "outputs": [],
   "source": [
    "check_pt_path=\"/content/gdrive/My Drive/physionet/ensemble/teacher_wts_30_epochs_50_subs_trial_3.ckpt\""
   ]
  },
  {
   "cell_type": "code",
   "execution_count": null,
   "metadata": {
    "colab": {
     "base_uri": "https://localhost:8080/"
    },
    "id": "HIY5urqkfn2U",
    "outputId": "1da33305-b351-422d-eefa-a4f210820ae8"
   },
   "outputs": [
    {
     "name": "stdout",
     "output_type": "stream",
     "text": [
      "/content/gdrive/My Drive/physionet/ensemble/teacher_wts_30_epochs_50_subs_trial_3.ckpt\n"
     ]
    }
   ],
   "source": [
    "#print(latest_teacher_30_epochs)\n",
    "print(check_pt_path)"
   ]
  },
  {
   "cell_type": "code",
   "execution_count": null,
   "metadata": {
    "colab": {
     "base_uri": "https://localhost:8080/"
    },
    "id": "0v2TtPwqfu7a",
    "outputId": "c7c0f41d-07d5-4462-b9b1-c333bd0b731f"
   },
   "outputs": [
    {
     "name": "stdout",
     "output_type": "stream",
     "text": [
      "Model: \"model\"\n",
      "__________________________________________________________________________________________________\n",
      " Layer (type)                   Output Shape         Param #     Connected to                     \n",
      "==================================================================================================\n",
      " inLayer (InputLayer)           [(None, 3000, 1)]    0           []                               \n",
      "                                                                                                  \n",
      " fConv1 (Conv1D)                (None, 500, 64)      3264        ['inLayer[0][0]']                \n",
      "                                                                                                  \n",
      " cConv1 (Conv1D)                (None, 60, 32)       12832       ['inLayer[0][0]']                \n",
      "                                                                                                  \n",
      " fMaxP1 (MaxPooling1D)          (None, 62, 64)       0           ['fConv1[0][0]']                 \n",
      "                                                                                                  \n",
      " cMaxP1 (MaxPooling1D)          (None, 15, 32)       0           ['cConv1[0][0]']                 \n",
      "                                                                                                  \n",
      " fDrop1 (Dropout)               (None, 62, 64)       0           ['fMaxP1[0][0]']                 \n",
      "                                                                                                  \n",
      " cDrop1 (Dropout)               (None, 15, 32)       0           ['cMaxP1[0][0]']                 \n",
      "                                                                                                  \n",
      " fConv2 (Conv1D)                (None, 62, 128)      65664       ['fDrop1[0][0]']                 \n",
      "                                                                                                  \n",
      " cConv2 (Conv1D)                (None, 15, 128)      24704       ['cDrop1[0][0]']                 \n",
      "                                                                                                  \n",
      " fConv3 (Conv1D)                (None, 62, 128)      131200      ['fConv2[0][0]']                 \n",
      "                                                                                                  \n",
      " cConv3 (Conv1D)                (None, 15, 128)      98432       ['cConv2[0][0]']                 \n",
      "                                                                                                  \n",
      " fConv4 (Conv1D)                (None, 62, 128)      131200      ['fConv3[0][0]']                 \n",
      "                                                                                                  \n",
      " cConv4 (Conv1D)                (None, 15, 128)      98432       ['cConv3[0][0]']                 \n",
      "                                                                                                  \n",
      " fMaxP2 (MaxPooling1D)          (None, 15, 128)      0           ['fConv4[0][0]']                 \n",
      "                                                                                                  \n",
      " cMaxP2 (MaxPooling1D)          (None, 7, 128)       0           ['cConv4[0][0]']                 \n",
      "                                                                                                  \n",
      " fFlat1 (Flatten)               (None, 1920)         0           ['fMaxP2[0][0]']                 \n",
      "                                                                                                  \n",
      " cFlat1 (Flatten)               (None, 896)          0           ['cMaxP2[0][0]']                 \n",
      "                                                                                                  \n",
      " merge_1 (Concatenate)          (None, 2816)         0           ['fFlat1[0][0]',                 \n",
      "                                                                  'cFlat1[0][0]']                 \n",
      "                                                                                                  \n",
      " mDrop1 (Dropout)               (None, 2816)         0           ['merge_1[0][0]']                \n",
      "                                                                                                  \n",
      " reshape1 (Reshape)             (None, 1, 2816)      0           ['mDrop1[0][0]']                 \n",
      "                                                                                                  \n",
      " lstm (LSTM)                    (None, 1, 64)        737536      ['reshape1[0][0]']               \n",
      "                                                                                                  \n",
      " lstm_1 (LSTM)                  (None, 64)           33024       ['lstm[0][0]']                   \n",
      "                                                                                                  \n",
      " outLayer (Dense)               (None, 5)            325         ['lstm_1[0][0]']                 \n",
      "                                                                                                  \n",
      "==================================================================================================\n",
      "Total params: 1,336,613\n",
      "Trainable params: 1,336,613\n",
      "Non-trainable params: 0\n",
      "__________________________________________________________________________________________________\n"
     ]
    }
   ],
   "source": [
    "teacher_30_epochs=model_b(verbose=VBS)"
   ]
  },
  {
   "cell_type": "code",
   "execution_count": null,
   "metadata": {
    "colab": {
     "base_uri": "https://localhost:8080/"
    },
    "id": "PObMKnusfz4Z",
    "outputId": "5b4ad5e7-8433-4d5e-9e58-ba032212e85d"
   },
   "outputs": [
    {
     "data": {
      "text/plain": [
       "<tensorflow.python.training.tracking.util.CheckpointLoadStatus at 0x7fb7d1bb6ad0>"
      ]
     },
     "execution_count": 38,
     "metadata": {},
     "output_type": "execute_result"
    }
   ],
   "source": [
    "teacher_30_epochs.load_weights(check_pt_path)"
   ]
  },
  {
   "cell_type": "code",
   "execution_count": null,
   "metadata": {
    "id": "5yxdZka8fz78"
   },
   "outputs": [],
   "source": [
    "optimizer=Adam(lr=1e-4)"
   ]
  },
  {
   "cell_type": "code",
   "execution_count": null,
   "metadata": {
    "colab": {
     "base_uri": "https://localhost:8080/"
    },
    "id": "IzRq7B93fz_k",
    "outputId": "dc680926-a2cb-4b7f-f70f-34552646566e"
   },
   "outputs": [
    {
     "name": "stdout",
     "output_type": "stream",
     "text": [
      "16/16 [==============================] - 12s 9ms/step - loss: 0.7530 - acc: 0.8306\n"
     ]
    }
   ],
   "source": [
    "accuracy_teacher_model_30_epochs_wts_loaded = teacher_30_epochs.evaluate(x_sub_set_rshp, y_sub_dt_)"
   ]
  },
  {
   "cell_type": "code",
   "execution_count": null,
   "metadata": {
    "id": "DxBSNW41X7Ct"
   },
   "outputs": [],
   "source": [
    "preds_teacher = teacher_30_epochs.predict(x_sub_set_rshp)"
   ]
  },
  {
   "cell_type": "code",
   "execution_count": null,
   "metadata": {
    "colab": {
     "base_uri": "https://localhost:8080/"
    },
    "id": "tQWFoSm2YFUv",
    "outputId": "69692d3d-6116-42ad-814a-7bf6b8a06062"
   },
   "outputs": [
    {
     "data": {
      "text/plain": [
       "array([[1.93090327e-05, 1.46171649e-03, 7.06946477e-04, 2.54745089e-07,\n",
       "        9.97811854e-01],\n",
       "       [4.95352378e-06, 3.74415977e-05, 9.99899626e-01, 3.20490835e-05,\n",
       "        2.58152795e-05],\n",
       "       [1.70547719e-06, 3.21340985e-06, 9.99937177e-01, 3.92491711e-05,\n",
       "        1.87397491e-05],\n",
       "       ...,\n",
       "       [7.94460866e-05, 4.19738062e-05, 8.65633905e-01, 1.34232506e-01,\n",
       "        1.22090623e-05],\n",
       "       [9.98519480e-01, 1.19813754e-04, 1.49490133e-05, 2.39288602e-05,\n",
       "        1.32171356e-03],\n",
       "       [1.17589877e-06, 1.51540971e-05, 9.99966502e-01, 8.91519539e-06,\n",
       "        8.27779513e-06]], dtype=float32)"
      ]
     },
     "execution_count": 44,
     "metadata": {},
     "output_type": "execute_result"
    }
   ],
   "source": [
    "preds_teacher"
   ]
  },
  {
   "cell_type": "code",
   "execution_count": null,
   "metadata": {
    "id": "WfP47RQ7YON_"
   },
   "outputs": [],
   "source": [
    "preds_teacher_fin=np.argmax(preds_teacher,axis=1)"
   ]
  },
  {
   "cell_type": "code",
   "execution_count": null,
   "metadata": {
    "colab": {
     "base_uri": "https://localhost:8080/"
    },
    "id": "XP-I1_DFYSiy",
    "outputId": "67188273-b525-4f0a-93b2-ff98a8433ca7"
   },
   "outputs": [
    {
     "data": {
      "text/plain": [
       "array([4, 2, 2, 0, 0, 2, 3, 0, 1, 2, 0, 2, 0, 2, 1, 1, 2, 2, 0, 0, 4, 1,\n",
       "       1, 2, 0, 0, 3, 2, 2, 4, 3, 2, 0, 2, 0, 1, 0, 1, 0, 2, 2, 0, 0, 0,\n",
       "       0, 2, 2, 0, 0, 0, 3, 2, 2, 0, 0, 0, 2, 0, 0, 3, 3, 0, 3, 2, 0, 2,\n",
       "       4, 2, 0, 2, 2, 2, 2, 0, 1, 0, 0, 3, 0, 2, 0, 4, 2, 1, 2, 2, 0, 1,\n",
       "       2, 2, 0, 0, 2, 2, 2, 4, 1, 2, 4, 2, 3, 0, 1, 4, 2, 0, 3, 2, 0, 2,\n",
       "       0, 4, 2, 2, 1, 2, 2, 2, 4, 4, 4, 2, 2, 0, 2, 1, 2, 0, 2, 4, 2, 4,\n",
       "       2, 2, 2, 1, 3, 0, 3, 4, 4, 3, 2, 2, 0, 1, 2, 0, 2, 2, 4, 2, 2, 2,\n",
       "       0, 2, 0, 4, 0, 2, 2, 4, 2, 0, 0, 0, 4, 0, 2, 0, 2, 0, 0, 0, 2, 2,\n",
       "       4, 2, 0, 0, 4, 0, 0, 0, 2, 2, 2, 2, 2, 0, 3, 2, 0, 2, 2, 1, 2, 0,\n",
       "       2, 0, 2, 2, 4, 2, 0, 0, 4, 2, 2, 0, 4, 2, 0, 2, 0, 2, 2, 2, 4, 2,\n",
       "       0, 0, 0, 3, 0, 0, 2, 4, 0, 2, 0, 0, 4, 1, 1, 1, 2, 2, 0, 0, 2, 1,\n",
       "       1, 0, 2, 4, 2, 3, 4, 0, 4, 4, 2, 4, 2, 0, 2, 2, 0, 3, 4, 4, 3, 0,\n",
       "       0, 0, 0, 2, 2, 0, 2, 2, 2, 2, 2, 0, 3, 0, 2, 2, 2, 1, 0, 0, 0, 0,\n",
       "       2, 2, 4, 4, 0, 2, 0, 4, 2, 1, 0, 2, 2, 2, 4, 4, 0, 4, 0, 4, 2, 1,\n",
       "       2, 2, 3, 2, 4, 2, 0, 2, 2, 2, 2, 2, 4, 1, 0, 2, 2, 3, 2, 2, 2, 2,\n",
       "       4, 0, 2, 2, 2, 4, 0, 2, 0, 0, 2, 0, 3, 0, 0, 4, 2, 1, 2, 2, 2, 0,\n",
       "       2, 0, 4, 2, 0, 2, 3, 0, 0, 2, 0, 0, 2, 2, 0, 4, 2, 2, 1, 3, 2, 2,\n",
       "       4, 2, 2, 3, 0, 0, 3, 2, 2, 0, 1, 4, 1, 2, 2, 3, 4, 2, 0, 2, 2, 4,\n",
       "       0, 4, 1, 0, 0, 2, 4, 2, 0, 3, 0, 3, 0, 2, 2, 2, 0, 2, 2, 2, 2, 0,\n",
       "       3, 0, 2, 2, 2, 2, 0, 2, 2, 2, 1, 2, 3, 0, 2, 0, 0, 3, 2, 0, 0, 1,\n",
       "       2, 0, 0, 2, 2, 0, 4, 1, 2, 2, 2, 2, 2, 2, 4, 4, 2, 2, 0, 0, 2, 2,\n",
       "       4, 2, 2, 0, 4, 0, 0, 0, 2, 0, 2, 2, 2, 1, 0, 2, 0, 2, 0, 4, 4, 2,\n",
       "       0, 0, 4, 2, 2, 0, 1, 2, 4, 2, 0, 2])"
      ]
     },
     "execution_count": 46,
     "metadata": {},
     "output_type": "execute_result"
    }
   ],
   "source": [
    "preds_teacher_fin"
   ]
  },
  {
   "cell_type": "code",
   "execution_count": null,
   "metadata": {
    "colab": {
     "base_uri": "https://localhost:8080/"
    },
    "id": "PDbnBW2dBHIe",
    "outputId": "1b961838-6777-4629-c5d4-d94d803bae82"
   },
   "outputs": [
    {
     "data": {
      "text/plain": [
       "0.8306451612903226"
      ]
     },
     "execution_count": 47,
     "metadata": {},
     "output_type": "execute_result"
    }
   ],
   "source": [
    "#accuracy after incrementally training and predicting on x_train_sub[0:500](hold-out set) using loaded_model_shuf1_inc\n",
    "from sklearn.metrics import accuracy_score\n",
    "accuracy_score(y_sub_dt, preds_teacher_fin)"
   ]
  },
  {
   "cell_type": "code",
   "execution_count": null,
   "metadata": {
    "colab": {
     "base_uri": "https://localhost:8080/"
    },
    "id": "8QTWrLQCBS33",
    "outputId": "18fa5158-ce97-44f5-accf-b7b0983dc635"
   },
   "outputs": [
    {
     "data": {
      "text/plain": [
       "array([0.86309524, 0.31372549, 0.97076023, 0.65217391, 0.91666667])"
      ]
     },
     "execution_count": 48,
     "metadata": {},
     "output_type": "execute_result"
    }
   ],
   "source": [
    "from sklearn.metrics import confusion_matrix\n",
    "matrix = confusion_matrix(y_sub_dt, preds_teacher_fin)\n",
    "matrix.diagonal()/matrix.sum(axis=1)"
   ]
  },
  {
   "cell_type": "code",
   "execution_count": null,
   "metadata": {
    "colab": {
     "base_uri": "https://localhost:8080/"
    },
    "id": "flNZHOUJBjRN",
    "outputId": "fe166b33-bf22-4944-9c99-ca11777343dc"
   },
   "outputs": [
    {
     "name": "stdout",
     "output_type": "stream",
     "text": [
      "Precision: 0.7951523441130006\n",
      "Recall: 0.743284308383918\n",
      "F1 score: 0.7593360748599156\n",
      "              precision    recall  f1-score   support\n",
      "\n",
      "           0   0.947712  0.863095  0.903427       168\n",
      "           1   0.444444  0.313725  0.367816        51\n",
      "           2   0.786730  0.970760  0.869110       171\n",
      "           3   0.937500  0.652174  0.769231        46\n",
      "           4   0.859375  0.916667  0.887097        60\n",
      "\n",
      "    accuracy                       0.830645       496\n",
      "   macro avg   0.795152  0.743284  0.759336       496\n",
      "weighted avg   0.828832  0.830645  0.822102       496\n",
      "\n"
     ]
    }
   ],
   "source": [
    "#y_sub_dt\n",
    "from sklearn.metrics import precision_score, recall_score\n",
    "f1_cnn = f1_score(y_sub_dt, preds_teacher_fin, average=\"macro\")\n",
    "prec_cnn = precision_score(y_sub_dt, preds_teacher_fin, average=\"macro\")\n",
    "recall_cnn = recall_score(y_sub_dt, preds_teacher_fin, average=\"macro\")\n",
    "if VBS:\n",
    "    print(\"Precision: {}\".format(prec_cnn)) \n",
    "    print(\"Recall: {}\".format(recall_cnn))\n",
    "    print(\"F1 score: {}\".format(f1_cnn))\n",
    "\n",
    "    report = classification_report(y_sub_dt, preds_teacher_fin, digits=6)\n",
    "    print(report)"
   ]
  },
  {
   "cell_type": "code",
   "execution_count": null,
   "metadata": {
    "id": "s_v7mBvcRVib"
   },
   "outputs": [],
   "source": [
    "from keras.layers import Input, Dense, LSTM, MaxPooling1D, Conv1D\n",
    "from keras.models import Model"
   ]
  },
  {
   "cell_type": "code",
   "execution_count": null,
   "metadata": {
    "id": "DYeJNwK_CizT"
   },
   "outputs": [],
   "source": [
    "#student model\n",
    "def get_model_1d_cnn():\n",
    "    nclass = 5\n",
    "    inp = Input(shape=(3000, 1))\n",
    "    img_1 = Conv1D(4, kernel_size=6, activation=activations.relu, strides=1, padding=\"valid\")(inp)\n",
    "    #img_1 = Conv1D(128, kernel_size=5, activation=activations.relu, strides=1, padding=\"valid\")(img_1)\n",
    "    img_1 = MaxPooling1D(pool_size=2)(img_1)\n",
    "    #img_1 = SpatialDropout1D(rate=0.2)(img_1)\n",
    "    img_1 = Conv1D(4, kernel_size=5, activation=activations.relu, strides=1, padding=\"valid\")(img_1)\n",
    "    #img_1 = Conv1D(256, kernel_size=7, activation=activations.relu, strides=1, padding=\"valid\")(img_1)\n",
    "    img_1 = MaxPooling1D(pool_size=2)(img_1)\n",
    "    #img_1 = SpatialDropout1D(rate=0.01)(img_1)\n",
    "    img_1 = Conv1D(10, kernel_size=4, activation=activations.relu, strides=1, padding=\"valid\")(img_1)\n",
    "    #img_1 = Conv1D(64, kernel_size=4, activation=activations.relu, strides=1, padding=\"valid\")(img_1)\n",
    "    img_1 = MaxPooling1D(pool_size=2)(img_1)\n",
    "    #img_1 = SpatialDropout1D(rate=0.01)(img_1)\n",
    "    img_1 = Conv1D(10, kernel_size=4, activation=activations.relu, strides=1, padding=\"valid\")(img_1)\n",
    "    img_1 = MaxPooling1D(pool_size=2)(img_1)\n",
    "    #img_1 = Conv1D(64, kernel_size=6, activation=activations.relu, strides=1, padding=\"valid\")(img_1)\n",
    "    #img_1 = MaxPooling1D(pool_size=2)(img_1)\n",
    "    img_1 = Flatten()(img_1)\n",
    "\n",
    "    \n",
    "    dense_1 = Dropout(rate=0.5)(img_1)\n",
    "    #dense_1 = Dropout(rate=0.05)(Dense(64, activation=activations.relu, name=\"dense_2\")(dense_1))\n",
    "    dense_1 = Dense(nclass, activation=activations.softmax)(dense_1)\n",
    "\n",
    "    model = Model(inputs=inp, outputs=dense_1)\n",
    "    opt = Adam(0.001)\n",
    "\n",
    "    model.compile(optimizer=opt, loss='categorical_crossentropy', metrics=['acc'])\n",
    "    model.summary()\n",
    "    return model"
   ]
  },
  {
   "cell_type": "code",
   "execution_count": null,
   "metadata": {
    "colab": {
     "base_uri": "https://localhost:8080/"
    },
    "id": "qmYaMEx6RXX6",
    "outputId": "8bfe71ba-d80a-4432-82bf-2a0d0327b16c"
   },
   "outputs": [
    {
     "name": "stdout",
     "output_type": "stream",
     "text": [
      "Model: \"model\"\n",
      "_________________________________________________________________\n",
      " Layer (type)                Output Shape              Param #   \n",
      "=================================================================\n",
      " input_1 (InputLayer)        [(None, 3000, 1)]         0         \n",
      "                                                                 \n",
      " conv1d (Conv1D)             (None, 2995, 4)           28        \n",
      "                                                                 \n",
      " max_pooling1d (MaxPooling1D  (None, 1497, 4)          0         \n",
      " )                                                               \n",
      "                                                                 \n",
      " conv1d_1 (Conv1D)           (None, 1493, 4)           84        \n",
      "                                                                 \n",
      " max_pooling1d_1 (MaxPooling  (None, 746, 4)           0         \n",
      " 1D)                                                             \n",
      "                                                                 \n",
      " conv1d_2 (Conv1D)           (None, 743, 10)           170       \n",
      "                                                                 \n",
      " max_pooling1d_2 (MaxPooling  (None, 371, 10)          0         \n",
      " 1D)                                                             \n",
      "                                                                 \n",
      " conv1d_3 (Conv1D)           (None, 368, 10)           410       \n",
      "                                                                 \n",
      " max_pooling1d_3 (MaxPooling  (None, 184, 10)          0         \n",
      " 1D)                                                             \n",
      "                                                                 \n",
      " flatten (Flatten)           (None, 1840)              0         \n",
      "                                                                 \n",
      " dropout (Dropout)           (None, 1840)              0         \n",
      "                                                                 \n",
      " dense (Dense)               (None, 5)                 9205      \n",
      "                                                                 \n",
      "=================================================================\n",
      "Total params: 9,897\n",
      "Trainable params: 9,897\n",
      "Non-trainable params: 0\n",
      "_________________________________________________________________\n"
     ]
    }
   ],
   "source": [
    "m=get_model_1d_cnn()"
   ]
  },
  {
   "cell_type": "code",
   "execution_count": null,
   "metadata": {
    "id": "ZH2D3CBESTv3"
   },
   "outputs": [],
   "source": [
    "m.compile(optimizer=optimizer, loss='categorical_crossentropy', metrics=['accuracy'])"
   ]
  },
  {
   "cell_type": "code",
   "execution_count": null,
   "metadata": {
    "colab": {
     "base_uri": "https://localhost:8080/"
    },
    "id": "DnMoqqRQS_IC",
    "outputId": "2271aa6e-c7dd-4f1b-9a09-2f66673d825f"
   },
   "outputs": [
    {
     "name": "stdout",
     "output_type": "stream",
     "text": [
      "Epoch 1/30\n",
      "3648/3648 [==============================] - 30s 5ms/step - loss: 1.1210 - accuracy: 0.5474\n",
      "Epoch 2/30\n",
      "3648/3648 [==============================] - 19s 5ms/step - loss: 0.8103 - accuracy: 0.6878\n",
      "Epoch 3/30\n",
      "3648/3648 [==============================] - 19s 5ms/step - loss: 0.7550 - accuracy: 0.7081\n",
      "Epoch 4/30\n",
      "3648/3648 [==============================] - 19s 5ms/step - loss: 0.7294 - accuracy: 0.7143\n",
      "Epoch 5/30\n",
      "3648/3648 [==============================] - 19s 5ms/step - loss: 0.7075 - accuracy: 0.7192\n",
      "Epoch 6/30\n",
      "3648/3648 [==============================] - 19s 5ms/step - loss: 0.6859 - accuracy: 0.7277\n",
      "Epoch 7/30\n",
      "3648/3648 [==============================] - 19s 5ms/step - loss: 0.6649 - accuracy: 0.7341\n",
      "Epoch 8/30\n",
      "3648/3648 [==============================] - 19s 5ms/step - loss: 0.6443 - accuracy: 0.7418\n",
      "Epoch 9/30\n",
      "3648/3648 [==============================] - 19s 5ms/step - loss: 0.6236 - accuracy: 0.7490\n",
      "Epoch 10/30\n",
      "3648/3648 [==============================] - 19s 5ms/step - loss: 0.6044 - accuracy: 0.7545\n",
      "Epoch 11/30\n",
      "3648/3648 [==============================] - 19s 5ms/step - loss: 0.5861 - accuracy: 0.7619\n",
      "Epoch 12/30\n",
      "3648/3648 [==============================] - 19s 5ms/step - loss: 0.5698 - accuracy: 0.7681\n",
      "Epoch 13/30\n",
      "3648/3648 [==============================] - 19s 5ms/step - loss: 0.5566 - accuracy: 0.7733\n",
      "Epoch 14/30\n",
      "3648/3648 [==============================] - 19s 5ms/step - loss: 0.5453 - accuracy: 0.7776\n",
      "Epoch 15/30\n",
      "3648/3648 [==============================] - 19s 5ms/step - loss: 0.5358 - accuracy: 0.7826\n",
      "Epoch 16/30\n",
      "3648/3648 [==============================] - 19s 5ms/step - loss: 0.5278 - accuracy: 0.7880\n",
      "Epoch 17/30\n",
      "3648/3648 [==============================] - 19s 5ms/step - loss: 0.5200 - accuracy: 0.7902\n",
      "Epoch 18/30\n",
      "3648/3648 [==============================] - 19s 5ms/step - loss: 0.5118 - accuracy: 0.7936\n",
      "Epoch 19/30\n",
      "3648/3648 [==============================] - 19s 5ms/step - loss: 0.5052 - accuracy: 0.7974\n",
      "Epoch 20/30\n",
      "3648/3648 [==============================] - 19s 5ms/step - loss: 0.4989 - accuracy: 0.8000\n",
      "Epoch 21/30\n",
      "3648/3648 [==============================] - 19s 5ms/step - loss: 0.4943 - accuracy: 0.8023\n",
      "Epoch 22/30\n",
      "3648/3648 [==============================] - 19s 5ms/step - loss: 0.4874 - accuracy: 0.8042\n",
      "Epoch 23/30\n",
      "3648/3648 [==============================] - 19s 5ms/step - loss: 0.4822 - accuracy: 0.8068\n",
      "Epoch 24/30\n",
      "3648/3648 [==============================] - 19s 5ms/step - loss: 0.4782 - accuracy: 0.8078\n",
      "Epoch 25/30\n",
      "3648/3648 [==============================] - 19s 5ms/step - loss: 0.4741 - accuracy: 0.8106\n",
      "Epoch 26/30\n",
      "3648/3648 [==============================] - 19s 5ms/step - loss: 0.4680 - accuracy: 0.8134\n",
      "Epoch 27/30\n",
      "3648/3648 [==============================] - 19s 5ms/step - loss: 0.4658 - accuracy: 0.8132\n",
      "Epoch 28/30\n",
      "3648/3648 [==============================] - 19s 5ms/step - loss: 0.4608 - accuracy: 0.8161\n",
      "Epoch 29/30\n",
      "3648/3648 [==============================] - 19s 5ms/step - loss: 0.4578 - accuracy: 0.8171\n",
      "Epoch 30/30\n",
      "3648/3648 [==============================] - 19s 5ms/step - loss: 0.4515 - accuracy: 0.8209\n"
     ]
    }
   ],
   "source": [
    "hist_19_cnn = m.fit(x_transfer_set_rshp, y_transfer_, epochs=30)"
   ]
  },
  {
   "cell_type": "code",
   "execution_count": null,
   "metadata": {
    "colab": {
     "base_uri": "https://localhost:8080/"
    },
    "id": "OrAucEwdTLMk",
    "outputId": "1106c60e-e3c6-4724-ff8c-90c241120c7b"
   },
   "outputs": [
    {
     "name": "stdout",
     "output_type": "stream",
     "text": [
      "16/16 [==============================] - 0s 4ms/step - loss: 0.6009 - accuracy: 0.7762\n"
     ]
    }
   ],
   "source": [
    "accuracy_1d_cnn = m.evaluate(x_sub_set_rshp, y_sub_dt_)"
   ]
  },
  {
   "cell_type": "code",
   "execution_count": null,
   "metadata": {
    "id": "jF7kW89k0Rpm"
   },
   "outputs": [],
   "source": []
  },
  {
   "cell_type": "code",
   "execution_count": null,
   "metadata": {
    "id": "YdaoayuJd6_k"
   },
   "outputs": [],
   "source": [
    "preds_m = m.predict(x_sub_set_rshp)"
   ]
  },
  {
   "cell_type": "code",
   "execution_count": null,
   "metadata": {
    "id": "Hz697pd-d_KG"
   },
   "outputs": [],
   "source": [
    "preds_m_fin=np.argmax(preds_m,axis=1)"
   ]
  },
  {
   "cell_type": "code",
   "execution_count": null,
   "metadata": {
    "colab": {
     "base_uri": "https://localhost:8080/"
    },
    "id": "wDAsOxKvCKKX",
    "outputId": "ee163750-9f6c-4158-fe21-e23db991678b"
   },
   "outputs": [
    {
     "name": "stdout",
     "output_type": "stream",
     "text": [
      "Precision: 0.7524285981788733\n",
      "Recall: 0.6346764609734054\n",
      "F1 score: 0.6601169298539233\n",
      "              precision    recall  f1-score   support\n",
      "\n",
      "           0   0.881356  0.928571  0.904348       168\n",
      "           1   0.444444  0.156863  0.231884        51\n",
      "           2   0.695279  0.947368  0.801980       171\n",
      "           3   0.837838  0.673913  0.746988        46\n",
      "           4   0.903226  0.466667  0.615385        60\n",
      "\n",
      "    accuracy                       0.776210       496\n",
      "   macro avg   0.752429  0.634676  0.660117       496\n",
      "weighted avg   0.770890  0.776210  0.750362       496\n",
      "\n"
     ]
    }
   ],
   "source": [
    "#y_sub_dt\n",
    "from sklearn.metrics import precision_score, recall_score\n",
    "f1_m = f1_score(y_sub_dt, preds_m_fin, average=\"macro\")\n",
    "prec_m = precision_score(y_sub_dt, preds_m_fin, average=\"macro\")\n",
    "recall_m = recall_score(y_sub_dt, preds_m_fin, average=\"macro\")\n",
    "if VBS:\n",
    "    print(\"Precision: {}\".format(prec_m)) \n",
    "    print(\"Recall: {}\".format(recall_m))\n",
    "    print(\"F1 score: {}\".format(f1_m))\n",
    "\n",
    "    report = classification_report(y_sub_dt, preds_m_fin, digits=6)\n",
    "    print(report)"
   ]
  },
  {
   "cell_type": "code",
   "execution_count": null,
   "metadata": {
    "colab": {
     "base_uri": "https://localhost:8080/"
    },
    "id": "3lKbAJy8eOJ4",
    "outputId": "ceb7d657-e641-44a7-ffac-ac6b07ed65c6"
   },
   "outputs": [
    {
     "data": {
      "text/plain": [
       "array([0.92857143, 0.15686275, 0.94736842, 0.67391304, 0.46666667])"
      ]
     },
     "execution_count": 36,
     "metadata": {},
     "output_type": "execute_result"
    }
   ],
   "source": [
    "from sklearn.metrics import confusion_matrix\n",
    "matrix_m = confusion_matrix(y_sub_dt, preds_m_fin)\n",
    "matrix_m.diagonal()/matrix_m.sum(axis=1)"
   ]
  },
  {
   "cell_type": "code",
   "execution_count": null,
   "metadata": {
    "id": "RPnqA-ANqZ9Y"
   },
   "outputs": [],
   "source": [
    "cm_m = matrix_m.astype('float') / matrix_m.sum(axis=1)[:, np.newaxis]"
   ]
  },
  {
   "cell_type": "code",
   "execution_count": null,
   "metadata": {
    "colab": {
     "base_uri": "https://localhost:8080/"
    },
    "id": "FanU1SOgqaAX",
    "outputId": "8de45c4f-0c56-476b-b13c-cdb4aaea48a7"
   },
   "outputs": [
    {
     "data": {
      "text/plain": [
       "array([0.92857143, 0.15686275, 0.94736842, 0.67391304, 0.46666667])"
      ]
     },
     "execution_count": 38,
     "metadata": {},
     "output_type": "execute_result"
    }
   ],
   "source": [
    "cm_m.diagonal()"
   ]
  },
  {
   "cell_type": "code",
   "execution_count": null,
   "metadata": {
    "id": "mSsEZW7AqaDh"
   },
   "outputs": [],
   "source": []
  },
  {
   "cell_type": "code",
   "execution_count": null,
   "metadata": {
    "id": "IxDUOBTEVh2J"
   },
   "outputs": [],
   "source": [
    "import keras"
   ]
  },
  {
   "cell_type": "code",
   "execution_count": null,
   "metadata": {
    "colab": {
     "base_uri": "https://localhost:8080/"
    },
    "id": "1VcnqEdSgKWS",
    "outputId": "4f4c15c9-4829-413a-9f81-3f59e8264bb3"
   },
   "outputs": [
    {
     "name": "stdout",
     "output_type": "stream",
     "text": [
      "Model: \"model\"\n",
      "__________________________________________________________________________________________________\n",
      " Layer (type)                   Output Shape         Param #     Connected to                     \n",
      "==================================================================================================\n",
      " inLayer (InputLayer)           [(None, 3000, 1)]    0           []                               \n",
      "                                                                                                  \n",
      " fConv1 (Conv1D)                (None, 500, 64)      3264        ['inLayer[0][0]']                \n",
      "                                                                                                  \n",
      " cConv1 (Conv1D)                (None, 60, 32)       12832       ['inLayer[0][0]']                \n",
      "                                                                                                  \n",
      " fMaxP1 (MaxPooling1D)          (None, 62, 64)       0           ['fConv1[0][0]']                 \n",
      "                                                                                                  \n",
      " cMaxP1 (MaxPooling1D)          (None, 15, 32)       0           ['cConv1[0][0]']                 \n",
      "                                                                                                  \n",
      " fDrop1 (Dropout)               (None, 62, 64)       0           ['fMaxP1[0][0]']                 \n",
      "                                                                                                  \n",
      " cDrop1 (Dropout)               (None, 15, 32)       0           ['cMaxP1[0][0]']                 \n",
      "                                                                                                  \n",
      " fConv2 (Conv1D)                (None, 62, 128)      65664       ['fDrop1[0][0]']                 \n",
      "                                                                                                  \n",
      " cConv2 (Conv1D)                (None, 15, 128)      24704       ['cDrop1[0][0]']                 \n",
      "                                                                                                  \n",
      " fConv3 (Conv1D)                (None, 62, 128)      131200      ['fConv2[0][0]']                 \n",
      "                                                                                                  \n",
      " cConv3 (Conv1D)                (None, 15, 128)      98432       ['cConv2[0][0]']                 \n",
      "                                                                                                  \n",
      " fConv4 (Conv1D)                (None, 62, 128)      131200      ['fConv3[0][0]']                 \n",
      "                                                                                                  \n",
      " cConv4 (Conv1D)                (None, 15, 128)      98432       ['cConv3[0][0]']                 \n",
      "                                                                                                  \n",
      " fMaxP2 (MaxPooling1D)          (None, 15, 128)      0           ['fConv4[0][0]']                 \n",
      "                                                                                                  \n",
      " cMaxP2 (MaxPooling1D)          (None, 7, 128)       0           ['cConv4[0][0]']                 \n",
      "                                                                                                  \n",
      " fFlat1 (Flatten)               (None, 1920)         0           ['fMaxP2[0][0]']                 \n",
      "                                                                                                  \n",
      " cFlat1 (Flatten)               (None, 896)          0           ['cMaxP2[0][0]']                 \n",
      "                                                                                                  \n",
      " merge_1 (Concatenate)          (None, 2816)         0           ['fFlat1[0][0]',                 \n",
      "                                                                  'cFlat1[0][0]']                 \n",
      "                                                                                                  \n",
      " mDrop1 (Dropout)               (None, 2816)         0           ['merge_1[0][0]']                \n",
      "                                                                                                  \n",
      " reshape1 (Reshape)             (None, 1, 2816)      0           ['mDrop1[0][0]']                 \n",
      "                                                                                                  \n",
      " lstm (LSTM)                    (None, 1, 64)        737536      ['reshape1[0][0]']               \n",
      "                                                                                                  \n",
      " lstm_1 (LSTM)                  (None, 64)           33024       ['lstm[0][0]']                   \n",
      "                                                                                                  \n",
      " outLayer (Dense)               (None, 5)            325         ['lstm_1[0][0]']                 \n",
      "                                                                                                  \n",
      "==================================================================================================\n",
      "Total params: 1,336,613\n",
      "Trainable params: 1,336,613\n",
      "Non-trainable params: 0\n",
      "__________________________________________________________________________________________________\n"
     ]
    }
   ],
   "source": [
    "teacher_model=model_b(verbose=VBS)"
   ]
  },
  {
   "cell_type": "code",
   "execution_count": null,
   "metadata": {
    "id": "fDiW8dW5gKYm"
   },
   "outputs": [],
   "source": [
    "teacher_checkpt_path='/content/gdrive/My Drive/physionet/ensemble/teacher_wts_30_epochs_50_subs.ckpt'\n",
    "teacher_model.load_weights(teacher_checkpt_path)"
   ]
  },
  {
   "cell_type": "code",
   "execution_count": null,
   "metadata": {
    "colab": {
     "base_uri": "https://localhost:8080/"
    },
    "id": "l3z2vy6vpUma",
    "outputId": "c9564904-badb-4eb3-cc05-a0109867d591"
   },
   "outputs": [
    {
     "data": {
      "text/plain": [
       "<tensorflow.python.training.tracking.util.CheckpointLoadStatus at 0x7f8e15587c10>"
      ]
     },
     "execution_count": 31,
     "metadata": {},
     "output_type": "execute_result"
    }
   ],
   "source": [
    "teacher_checkpt_path='/content/gdrive/My Drive/physionet/ensemble/teacher_wts_30_epochs_50_subs_trial_3.ckpt'\n",
    "teacher_model.load_weights(teacher_checkpt_path)"
   ]
  },
  {
   "cell_type": "code",
   "execution_count": null,
   "metadata": {
    "id": "PoYcEbIKgKbl"
   },
   "outputs": [],
   "source": [
    "teacher_model.compile(optimizer=optimizer, loss='categorical_crossentropy', metrics=['accuracy'])"
   ]
  },
  {
   "cell_type": "code",
   "execution_count": null,
   "metadata": {
    "colab": {
     "base_uri": "https://localhost:8080/"
    },
    "id": "1A3FCrmEgSKO",
    "outputId": "2e05cd47-73da-4fa8-8947-e8826eed2d5f"
   },
   "outputs": [
    {
     "name": "stdout",
     "output_type": "stream",
     "text": [
      "16/16 [==============================] - 12s 9ms/step - loss: 0.7296 - accuracy: 0.8246\n"
     ]
    }
   ],
   "source": [
    "accuracy_teacher_model = teacher_model.evaluate(x_sub_set_rshp, y_sub_dt_)"
   ]
  },
  {
   "cell_type": "code",
   "execution_count": null,
   "metadata": {
    "id": "I8-760RQcDe9"
   },
   "outputs": [],
   "source": [
    "preds_teacher = teacher_model.predict(x_sub_set_rshp)"
   ]
  },
  {
   "cell_type": "code",
   "execution_count": null,
   "metadata": {
    "id": "BweCOuVVcO28"
   },
   "outputs": [],
   "source": [
    "preds_teacher_fin=np.argmax(preds_teacher,axis=1)"
   ]
  },
  {
   "cell_type": "code",
   "execution_count": null,
   "metadata": {
    "colab": {
     "base_uri": "https://localhost:8080/"
    },
    "id": "nCzDRnbXcYT_",
    "outputId": "cd94be62-890f-42cf-9a61-26cc89a34c77"
   },
   "outputs": [
    {
     "name": "stdout",
     "output_type": "stream",
     "text": [
      "              precision    recall  f1-score   support\n",
      "\n",
      "           0   0.948052  0.869048  0.906832       168\n",
      "           1   0.437500  0.274510  0.337349        51\n",
      "           2   0.769585  0.976608  0.860825       171\n",
      "           3   0.933333  0.608696  0.736842        46\n",
      "           4   0.857143  0.900000  0.878049        60\n",
      "\n",
      "    accuracy                       0.824597       496\n",
      "   macro avg   0.789123  0.725772  0.743979       496\n",
      "weighted avg   0.821666  0.824597  0.813168       496\n",
      "\n"
     ]
    }
   ],
   "source": [
    "print(classification_report(y_sub_dt, preds_teacher_fin, digits=6))"
   ]
  },
  {
   "cell_type": "code",
   "execution_count": null,
   "metadata": {
    "colab": {
     "base_uri": "https://localhost:8080/"
    },
    "id": "QFskldKkc6HJ",
    "outputId": "2b17a0d0-bbf2-4a8b-9076-178b2c2bf034"
   },
   "outputs": [
    {
     "data": {
      "text/plain": [
       "array([0.86904762, 0.2745098 , 0.97660819, 0.60869565, 0.9       ])"
      ]
     },
     "execution_count": 39,
     "metadata": {},
     "output_type": "execute_result"
    }
   ],
   "source": [
    "from sklearn.metrics import confusion_matrix\n",
    "matrix = confusion_matrix(y_sub_dt, preds_teacher_fin)\n",
    "matrix.diagonal()/matrix.sum(axis=1)"
   ]
  },
  {
   "cell_type": "code",
   "execution_count": null,
   "metadata": {
    "id": "Jtu_NJRYdVMW"
   },
   "outputs": [],
   "source": [
    "cm = matrix.astype('float') / matrix.sum(axis=1)[:, np.newaxis]"
   ]
  },
  {
   "cell_type": "code",
   "execution_count": null,
   "metadata": {
    "colab": {
     "base_uri": "https://localhost:8080/"
    },
    "id": "rV4JlLFEdsx9",
    "outputId": "e1403d08-731c-4eff-d631-6cb655e594d9"
   },
   "outputs": [
    {
     "data": {
      "text/plain": [
       "array([[0.86904762, 0.08928571, 0.        , 0.        , 0.04166667],\n",
       "       [0.1372549 , 0.2745098 , 0.54901961, 0.        , 0.03921569],\n",
       "       [0.        , 0.01169591, 0.97660819, 0.01169591, 0.        ],\n",
       "       [0.        , 0.        , 0.39130435, 0.60869565, 0.        ],\n",
       "       [0.01666667, 0.01666667, 0.06666667, 0.        , 0.9       ]])"
      ]
     },
     "execution_count": 41,
     "metadata": {},
     "output_type": "execute_result"
    }
   ],
   "source": [
    "cm"
   ]
  },
  {
   "cell_type": "code",
   "execution_count": null,
   "metadata": {
    "colab": {
     "base_uri": "https://localhost:8080/"
    },
    "id": "AZ6RJbDndxO3",
    "outputId": "b29d0579-3990-4476-c7e9-a948d67d5ce1"
   },
   "outputs": [
    {
     "data": {
      "text/plain": [
       "array([0.86904762, 0.2745098 , 0.97660819, 0.60869565, 0.9       ])"
      ]
     },
     "execution_count": 42,
     "metadata": {},
     "output_type": "execute_result"
    }
   ],
   "source": [
    "cm.diagonal()"
   ]
  },
  {
   "cell_type": "code",
   "execution_count": null,
   "metadata": {
    "colab": {
     "base_uri": "https://localhost:8080/"
    },
    "id": "bCf5BJdxgSNZ",
    "outputId": "f7cebf4b-55cc-4c18-9b4d-25d275904c57"
   },
   "outputs": [
    {
     "name": "stdout",
     "output_type": "stream",
     "text": [
      "Model: \"model_1\"\n",
      "_________________________________________________________________\n",
      " Layer (type)                Output Shape              Param #   \n",
      "=================================================================\n",
      " input_1 (InputLayer)        [(None, 3000, 1)]         0         \n",
      "                                                                 \n",
      " conv1d (Conv1D)             (None, 2995, 4)           28        \n",
      "                                                                 \n",
      " max_pooling1d (MaxPooling1D  (None, 1497, 4)          0         \n",
      " )                                                               \n",
      "                                                                 \n",
      " conv1d_1 (Conv1D)           (None, 1493, 4)           84        \n",
      "                                                                 \n",
      " max_pooling1d_1 (MaxPooling  (None, 746, 4)           0         \n",
      " 1D)                                                             \n",
      "                                                                 \n",
      " conv1d_2 (Conv1D)           (None, 743, 10)           170       \n",
      "                                                                 \n",
      " max_pooling1d_2 (MaxPooling  (None, 371, 10)          0         \n",
      " 1D)                                                             \n",
      "                                                                 \n",
      " conv1d_3 (Conv1D)           (None, 368, 10)           410       \n",
      "                                                                 \n",
      " max_pooling1d_3 (MaxPooling  (None, 184, 10)          0         \n",
      " 1D)                                                             \n",
      "                                                                 \n",
      " flatten (Flatten)           (None, 1840)              0         \n",
      "                                                                 \n",
      " dropout (Dropout)           (None, 1840)              0         \n",
      "                                                                 \n",
      " dense (Dense)               (None, 5)                 9205      \n",
      "                                                                 \n",
      "=================================================================\n",
      "Total params: 9,897\n",
      "Trainable params: 9,897\n",
      "Non-trainable params: 0\n",
      "_________________________________________________________________\n"
     ]
    }
   ],
   "source": [
    "#student_model=get_model_cnn() #issue with unmatched shape\n",
    "student_model=get_model_1d_cnn()"
   ]
  },
  {
   "cell_type": "code",
   "execution_count": null,
   "metadata": {
    "id": "lBSUd9Dbgc0i"
   },
   "outputs": [],
   "source": [
    "class Distiller(keras.Model):\n",
    "    def __init__(self, student, teacher):\n",
    "        super(Distiller, self).__init__()\n",
    "        self.teacher = teacher\n",
    "        self.student = student\n",
    "\n",
    "    def compile(\n",
    "        self,\n",
    "        optimizer,\n",
    "        metrics,\n",
    "        student_loss_fn,\n",
    "        distillation_loss_fn,\n",
    "        alpha=0.1,\n",
    "        temperature=3,\n",
    "    ):\n",
    "        \"\"\" Configure the distiller.\n",
    "\n",
    "        Args:\n",
    "            optimizer: Keras optimizer for the student weights\n",
    "            metrics: Keras metrics for evaluation\n",
    "            student_loss_fn: Loss function of difference between student\n",
    "                predictions and ground-truth\n",
    "            distillation_loss_fn: Loss function of difference between soft\n",
    "                student predictions and soft teacher predictions\n",
    "            alpha: weight to student_loss_fn and 1-alpha to distillation_loss_fn\n",
    "            temperature: Temperature for softening probability distributions.\n",
    "                Larger temperature gives softer distributions.\n",
    "        \"\"\"\n",
    "        super(Distiller, self).compile(optimizer=optimizer, metrics=metrics)\n",
    "        self.student_loss_fn = student_loss_fn\n",
    "        self.distillation_loss_fn = distillation_loss_fn\n",
    "        self.alpha = alpha\n",
    "        self.temperature = temperature\n",
    "\n",
    "    def train_step(self, data):\n",
    "        # Unpack data\n",
    "        x, y = data\n",
    "\n",
    "        # Forward pass of teacher\n",
    "        teacher_predictions = self.teacher(x, training=False)\n",
    "\n",
    "        with tf.GradientTape() as tape:\n",
    "            # Forward pass of student\n",
    "            student_predictions = self.student(x, training=True)\n",
    "\n",
    "            # Compute losses\n",
    "            student_loss = self.student_loss_fn(y, student_predictions)\n",
    "            distillation_loss = self.distillation_loss_fn(\n",
    "                tf.nn.softmax(teacher_predictions / self.temperature, axis=1),\n",
    "                tf.nn.softmax(student_predictions / self.temperature, axis=1),\n",
    "            )\n",
    "            loss = self.alpha * student_loss + (1 - self.alpha) * distillation_loss\n",
    "\n",
    "        # Compute gradients\n",
    "        trainable_vars = self.student.trainable_variables\n",
    "        gradients = tape.gradient(loss, trainable_vars)\n",
    "\n",
    "        # Update weights\n",
    "        self.optimizer.apply_gradients(zip(gradients, trainable_vars))\n",
    "\n",
    "        # Update the metrics configured in `compile()`.\n",
    "        self.compiled_metrics.update_state(y, student_predictions)\n",
    "\n",
    "        # Return a dict of performance\n",
    "        results = {m.name: m.result() for m in self.metrics}\n",
    "        results.update(\n",
    "            {\"student_loss\": student_loss, \"distillation_loss\": distillation_loss}\n",
    "        )\n",
    "        return results\n",
    "\n",
    "    def test_step(self, data):\n",
    "        # Unpack the data\n",
    "        x, y = data\n",
    "\n",
    "        # Compute predictions\n",
    "        y_prediction = self.student(x, training=False)\n",
    "\n",
    "        # Calculate the loss\n",
    "        student_loss = self.student_loss_fn(y, y_prediction)\n",
    "\n",
    "        # Update the metrics.\n",
    "        self.compiled_metrics.update_state(y, y_prediction)\n",
    "\n",
    "        # Return a dict of performance\n",
    "        results = {m.name: m.result() for m in self.metrics}\n",
    "        results.update({\"student_loss\": student_loss})\n",
    "        return results\n"
   ]
  },
  {
   "cell_type": "code",
   "execution_count": null,
   "metadata": {
    "id": "eWrrKJEJgfcJ"
   },
   "outputs": [],
   "source": [
    "import tensorflow as tf\n",
    "from tensorflow import keras\n",
    "from tensorflow.keras import layers\n",
    "import numpy as np\n"
   ]
  },
  {
   "cell_type": "code",
   "execution_count": null,
   "metadata": {
    "colab": {
     "base_uri": "https://localhost:8080/"
    },
    "id": "a7E3fKEjgffN",
    "outputId": "04618410-a309-43d8-90d0-808b4c8a5246"
   },
   "outputs": [
    {
     "name": "stdout",
     "output_type": "stream",
     "text": [
      "Epoch 1/40\n",
      "3648/3648 [==============================] - 47s 9ms/step - categorical_accuracy: 0.6525 - student_loss: 0.8502 - distillation_loss: 0.0027\n",
      "Epoch 2/40\n",
      "3648/3648 [==============================] - 31s 9ms/step - categorical_accuracy: 0.7377 - student_loss: 0.6322 - distillation_loss: 0.0020\n",
      "Epoch 3/40\n",
      "3648/3648 [==============================] - 31s 9ms/step - categorical_accuracy: 0.7706 - student_loss: 0.5508 - distillation_loss: 0.0018\n",
      "Epoch 4/40\n",
      "3648/3648 [==============================] - 32s 9ms/step - categorical_accuracy: 0.7849 - student_loss: 0.5201 - distillation_loss: 0.0017\n",
      "Epoch 5/40\n",
      "3648/3648 [==============================] - 31s 9ms/step - categorical_accuracy: 0.7946 - student_loss: 0.4981 - distillation_loss: 0.0016\n",
      "Epoch 6/40\n",
      "3648/3648 [==============================] - 31s 9ms/step - categorical_accuracy: 0.8044 - student_loss: 0.4746 - distillation_loss: 0.0015\n",
      "Epoch 7/40\n",
      "3648/3648 [==============================] - 31s 9ms/step - categorical_accuracy: 0.8138 - student_loss: 0.4558 - distillation_loss: 0.0014\n",
      "Epoch 8/40\n",
      "3648/3648 [==============================] - 31s 9ms/step - categorical_accuracy: 0.8221 - student_loss: 0.4389 - distillation_loss: 0.0013\n",
      "Epoch 9/40\n",
      "3648/3648 [==============================] - 31s 9ms/step - categorical_accuracy: 0.8286 - student_loss: 0.4252 - distillation_loss: 0.0013\n",
      "Epoch 10/40\n",
      "3648/3648 [==============================] - 31s 9ms/step - categorical_accuracy: 0.8329 - student_loss: 0.4131 - distillation_loss: 0.0013\n",
      "Epoch 11/40\n",
      "3648/3648 [==============================] - 32s 9ms/step - categorical_accuracy: 0.8384 - student_loss: 0.4041 - distillation_loss: 0.0012\n",
      "Epoch 12/40\n",
      "3648/3648 [==============================] - 32s 9ms/step - categorical_accuracy: 0.8409 - student_loss: 0.3959 - distillation_loss: 0.0012\n",
      "Epoch 13/40\n",
      "3648/3648 [==============================] - 31s 9ms/step - categorical_accuracy: 0.8419 - student_loss: 0.3920 - distillation_loss: 0.0012\n",
      "Epoch 14/40\n",
      "3648/3648 [==============================] - 32s 9ms/step - categorical_accuracy: 0.8453 - student_loss: 0.3870 - distillation_loss: 0.0012\n",
      "Epoch 15/40\n",
      "3648/3648 [==============================] - 31s 9ms/step - categorical_accuracy: 0.8488 - student_loss: 0.3809 - distillation_loss: 0.0011\n",
      "Epoch 16/40\n",
      "3648/3648 [==============================] - 31s 9ms/step - categorical_accuracy: 0.8489 - student_loss: 0.3785 - distillation_loss: 0.0011\n",
      "Epoch 17/40\n",
      "3648/3648 [==============================] - 31s 9ms/step - categorical_accuracy: 0.8497 - student_loss: 0.3749 - distillation_loss: 0.0011\n",
      "Epoch 18/40\n",
      "3648/3648 [==============================] - 31s 8ms/step - categorical_accuracy: 0.8497 - student_loss: 0.3741 - distillation_loss: 0.0011\n",
      "Epoch 19/40\n",
      "3648/3648 [==============================] - 31s 9ms/step - categorical_accuracy: 0.8525 - student_loss: 0.3703 - distillation_loss: 0.0011\n",
      "Epoch 20/40\n",
      "3648/3648 [==============================] - 31s 9ms/step - categorical_accuracy: 0.8532 - student_loss: 0.3670 - distillation_loss: 0.0011\n",
      "Epoch 21/40\n",
      "3648/3648 [==============================] - 31s 9ms/step - categorical_accuracy: 0.8545 - student_loss: 0.3646 - distillation_loss: 0.0011\n",
      "Epoch 22/40\n",
      "3648/3648 [==============================] - 31s 9ms/step - categorical_accuracy: 0.8564 - student_loss: 0.3615 - distillation_loss: 0.0011\n",
      "Epoch 23/40\n",
      "3648/3648 [==============================] - 32s 9ms/step - categorical_accuracy: 0.8560 - student_loss: 0.3611 - distillation_loss: 0.0011\n",
      "Epoch 24/40\n",
      "3648/3648 [==============================] - 32s 9ms/step - categorical_accuracy: 0.8566 - student_loss: 0.3598 - distillation_loss: 0.0011\n",
      "Epoch 25/40\n",
      "3648/3648 [==============================] - 32s 9ms/step - categorical_accuracy: 0.8564 - student_loss: 0.3587 - distillation_loss: 0.0011\n",
      "Epoch 26/40\n",
      "3648/3648 [==============================] - 32s 9ms/step - categorical_accuracy: 0.8577 - student_loss: 0.3569 - distillation_loss: 0.0011\n",
      "Epoch 27/40\n",
      "3648/3648 [==============================] - 32s 9ms/step - categorical_accuracy: 0.8572 - student_loss: 0.3566 - distillation_loss: 0.0011\n",
      "Epoch 28/40\n",
      "3648/3648 [==============================] - 32s 9ms/step - categorical_accuracy: 0.8577 - student_loss: 0.3542 - distillation_loss: 0.0011\n",
      "Epoch 29/40\n",
      "3648/3648 [==============================] - 32s 9ms/step - categorical_accuracy: 0.8590 - student_loss: 0.3530 - distillation_loss: 0.0011\n",
      "Epoch 30/40\n",
      "3648/3648 [==============================] - 32s 9ms/step - categorical_accuracy: 0.8597 - student_loss: 0.3522 - distillation_loss: 0.0011\n",
      "Epoch 31/40\n",
      "3648/3648 [==============================] - 32s 9ms/step - categorical_accuracy: 0.8605 - student_loss: 0.3496 - distillation_loss: 0.0010\n",
      "Epoch 32/40\n",
      "3648/3648 [==============================] - 32s 9ms/step - categorical_accuracy: 0.8624 - student_loss: 0.3478 - distillation_loss: 0.0010\n",
      "Epoch 33/40\n",
      "3648/3648 [==============================] - 32s 9ms/step - categorical_accuracy: 0.8618 - student_loss: 0.3507 - distillation_loss: 0.0010\n",
      "Epoch 34/40\n",
      "3648/3648 [==============================] - 32s 9ms/step - categorical_accuracy: 0.8609 - student_loss: 0.3493 - distillation_loss: 0.0010\n",
      "Epoch 35/40\n",
      "3648/3648 [==============================] - 32s 9ms/step - categorical_accuracy: 0.8624 - student_loss: 0.3483 - distillation_loss: 0.0010\n",
      "Epoch 36/40\n",
      "3648/3648 [==============================] - 32s 9ms/step - categorical_accuracy: 0.8609 - student_loss: 0.3483 - distillation_loss: 0.0010\n",
      "Epoch 37/40\n",
      "3648/3648 [==============================] - 32s 9ms/step - categorical_accuracy: 0.8622 - student_loss: 0.3462 - distillation_loss: 0.0010\n",
      "Epoch 38/40\n",
      "3648/3648 [==============================] - 32s 9ms/step - categorical_accuracy: 0.8633 - student_loss: 0.3468 - distillation_loss: 0.0010\n",
      "Epoch 39/40\n",
      "3648/3648 [==============================] - 32s 9ms/step - categorical_accuracy: 0.8625 - student_loss: 0.3458 - distillation_loss: 0.0010\n",
      "Epoch 40/40\n",
      "3648/3648 [==============================] - 32s 9ms/step - categorical_accuracy: 0.8627 - student_loss: 0.3450 - distillation_loss: 0.0010\n"
     ]
    },
    {
     "data": {
      "text/plain": [
       "<keras.callbacks.History at 0x7f8e15582290>"
      ]
     },
     "execution_count": 38,
     "metadata": {},
     "output_type": "execute_result"
    }
   ],
   "source": [
    "# Initialize and compile distiller\n",
    "distiller = Distiller(student=student_model, teacher=teacher_model)\n",
    "distiller.compile(\n",
    "    optimizer=keras.optimizers.Adam(),\n",
    "    metrics=[keras.metrics.CategoricalAccuracy()],\n",
    "    student_loss_fn=keras.losses.CategoricalCrossentropy(from_logits=True),\n",
    "    distillation_loss_fn=keras.losses.KLDivergence(),\n",
    "    alpha=0.9,\n",
    "    temperature=4,\n",
    ")\n",
    "\n",
    "# Distill teacher to student\n",
    "distiller.fit(x_transfer_set_rshp, y_transfer_, epochs=40)\n",
    "\n",
    "# Evaluate student on test dataset\n",
    "#distiller.evaluate(x_test, y_test)"
   ]
  },
  {
   "cell_type": "code",
   "execution_count": null,
   "metadata": {
    "colab": {
     "base_uri": "https://localhost:8080/"
    },
    "id": "Dn21NvKfgn-p",
    "outputId": "59b9d184-5720-4c8a-dfe0-691aeeb56f2a"
   },
   "outputs": [
    {
     "name": "stdout",
     "output_type": "stream",
     "text": [
      "16/16 [==============================] - 0s 4ms/step - categorical_accuracy: 0.8145 - student_loss: 0.6017\n"
     ]
    }
   ],
   "source": [
    "accuracy_distiller = distiller.evaluate(x_sub_set_rshp, y_sub_dt_)"
   ]
  },
  {
   "cell_type": "code",
   "execution_count": null,
   "metadata": {
    "id": "5jgPEG1xIOA6"
   },
   "outputs": [],
   "source": [
    "preds = student_model.predict(x_sub_set_rshp)"
   ]
  },
  {
   "cell_type": "code",
   "execution_count": null,
   "metadata": {
    "colab": {
     "base_uri": "https://localhost:8080/"
    },
    "id": "WSYvHlcKIhZ1",
    "outputId": "1c9e3837-5628-4145-9a41-56acd018ba8b"
   },
   "outputs": [
    {
     "data": {
      "text/plain": [
       "array([[3.07926573e-02, 5.21272123e-01, 9.26287323e-02, 1.64365073e-08,\n",
       "        3.55306476e-01],\n",
       "       [1.83104737e-06, 9.94674774e-05, 9.97432530e-01, 2.46591610e-03,\n",
       "        2.79289111e-07],\n",
       "       [2.25709465e-10, 1.00487305e-04, 9.99378800e-01, 5.20724047e-04,\n",
       "        6.20267615e-10],\n",
       "       ...,\n",
       "       [7.34642299e-07, 2.19179012e-04, 8.79621744e-01, 1.20154880e-01,\n",
       "        3.41218924e-06],\n",
       "       [9.49193537e-01, 3.26359831e-02, 1.53466230e-02, 3.20663162e-07,\n",
       "        2.82356469e-03],\n",
       "       [2.23695586e-08, 1.74879504e-04, 9.99761164e-01, 6.38009296e-05,\n",
       "        7.52239444e-08]], dtype=float32)"
      ]
     },
     "execution_count": 41,
     "metadata": {},
     "output_type": "execute_result"
    }
   ],
   "source": [
    "preds"
   ]
  },
  {
   "cell_type": "code",
   "execution_count": null,
   "metadata": {
    "id": "QaarHme1IyX6"
   },
   "outputs": [],
   "source": [
    "preds_fin=np.argmax(preds,axis=1)"
   ]
  },
  {
   "cell_type": "code",
   "execution_count": null,
   "metadata": {
    "colab": {
     "base_uri": "https://localhost:8080/"
    },
    "id": "dDSgCal1JaId",
    "outputId": "2c3a488a-2c54-4007-f3c3-e2648aaf9314"
   },
   "outputs": [
    {
     "data": {
      "text/plain": [
       "array([1, 2, 2, 0, 0, 2, 2, 0, 4, 2, 0, 2, 0, 2, 0, 0, 2, 2, 0, 0, 4, 0,\n",
       "       1, 2, 0, 0, 3, 2, 2, 4, 3, 2, 0, 2, 0, 2, 0, 0, 0, 2, 2, 0, 0, 0,\n",
       "       0, 2, 2, 0, 0, 0, 3, 2, 2, 0, 0, 0, 2, 0, 0, 3, 3, 0, 3, 2, 0, 2,\n",
       "       4, 2, 0, 2, 2, 2, 2, 0, 0, 0, 0, 3, 0, 2, 0, 2, 2, 1, 2, 2, 0, 2,\n",
       "       2, 2, 0, 0, 2, 2, 2, 4, 1, 2, 4, 2, 3, 0, 1, 2, 2, 0, 3, 2, 0, 2,\n",
       "       0, 4, 2, 2, 1, 2, 2, 2, 0, 2, 4, 2, 2, 0, 2, 4, 2, 0, 2, 4, 2, 4,\n",
       "       2, 2, 2, 0, 3, 0, 3, 4, 2, 3, 3, 2, 1, 1, 2, 0, 2, 2, 4, 2, 2, 2,\n",
       "       0, 2, 0, 4, 0, 2, 3, 4, 2, 0, 0, 0, 4, 0, 2, 0, 2, 0, 0, 0, 2, 2,\n",
       "       4, 2, 0, 0, 2, 0, 0, 0, 2, 2, 2, 2, 2, 0, 3, 2, 0, 2, 2, 1, 2, 0,\n",
       "       2, 0, 2, 2, 4, 2, 0, 0, 4, 2, 2, 0, 4, 2, 0, 2, 0, 1, 2, 2, 4, 2,\n",
       "       0, 0, 0, 3, 0, 0, 2, 4, 0, 2, 0, 0, 2, 0, 0, 1, 2, 2, 0, 1, 2, 1,\n",
       "       0, 1, 2, 4, 1, 3, 4, 0, 1, 4, 2, 4, 2, 0, 2, 2, 0, 3, 1, 4, 3, 0,\n",
       "       0, 0, 0, 2, 2, 0, 2, 2, 2, 2, 2, 0, 3, 0, 2, 2, 2, 1, 0, 0, 0, 0,\n",
       "       2, 2, 4, 4, 0, 2, 0, 4, 2, 2, 0, 2, 2, 2, 4, 4, 0, 4, 0, 4, 2, 4,\n",
       "       2, 2, 2, 2, 0, 2, 0, 2, 2, 2, 2, 2, 0, 0, 0, 2, 2, 3, 2, 2, 2, 3,\n",
       "       4, 0, 2, 2, 2, 0, 0, 2, 0, 0, 2, 0, 3, 0, 0, 4, 3, 1, 2, 2, 3, 0,\n",
       "       2, 0, 2, 2, 0, 2, 3, 0, 0, 2, 0, 0, 2, 3, 0, 2, 2, 2, 0, 3, 2, 2,\n",
       "       4, 2, 2, 3, 0, 0, 3, 2, 2, 0, 1, 1, 0, 2, 2, 3, 2, 2, 0, 2, 2, 4,\n",
       "       0, 4, 0, 0, 0, 2, 4, 2, 0, 3, 0, 3, 0, 2, 2, 2, 0, 2, 2, 2, 2, 0,\n",
       "       3, 0, 3, 2, 2, 2, 0, 2, 3, 2, 0, 2, 3, 0, 2, 0, 0, 3, 2, 0, 0, 0,\n",
       "       2, 0, 0, 2, 2, 0, 2, 0, 2, 0, 2, 2, 2, 2, 4, 4, 2, 2, 0, 0, 2, 2,\n",
       "       4, 2, 4, 0, 0, 0, 0, 0, 2, 0, 3, 2, 2, 2, 0, 2, 0, 2, 0, 4, 2, 2,\n",
       "       0, 0, 1, 3, 2, 0, 1, 2, 4, 2, 0, 2])"
      ]
     },
     "execution_count": 43,
     "metadata": {},
     "output_type": "execute_result"
    }
   ],
   "source": [
    "preds_fin"
   ]
  },
  {
   "cell_type": "code",
   "execution_count": null,
   "metadata": {
    "id": "J7dmXqVnKHds"
   },
   "outputs": [],
   "source": [
    "from sklearn.metrics import accuracy_score, recall_score, f1_score, precision_score"
   ]
  },
  {
   "cell_type": "code",
   "execution_count": null,
   "metadata": {
    "colab": {
     "base_uri": "https://localhost:8080/"
    },
    "id": "TvVHzG12IUmI",
    "outputId": "68293a95-0120-49da-e32a-28d661a4b321"
   },
   "outputs": [
    {
     "name": "stdout",
     "output_type": "stream",
     "text": [
      "0.8145161290322581\n"
     ]
    }
   ],
   "source": [
    "print(accuracy_score(y_sub_dt, preds_fin))\n",
    "#print(precision_score(y_sub_dt, preds_fin))\n",
    "#print(recall_score(y_sub_dt, preds_fin))\n",
    "#print(f1_score(y_sub_dt, preds_fin))"
   ]
  },
  {
   "cell_type": "code",
   "execution_count": null,
   "metadata": {
    "colab": {
     "base_uri": "https://localhost:8080/"
    },
    "id": "bn3Ug6BbFcvm",
    "outputId": "1ad0b77a-76ce-451f-e30a-cd0e17cfe882"
   },
   "outputs": [
    {
     "name": "stdout",
     "output_type": "stream",
     "text": [
      "Precision: 0.7690802677131886\n",
      "Recall: 0.6996606285534808\n",
      "F1 score: 0.7192364302544954\n",
      "              precision    recall  f1-score   support\n",
      "\n",
      "           0   0.912791  0.934524  0.923529       168\n",
      "           1   0.478261  0.215686  0.297297        51\n",
      "           2   0.757009  0.947368  0.841558       171\n",
      "           3   0.825000  0.717391  0.767442        46\n",
      "           4   0.872340  0.683333  0.766355        60\n",
      "\n",
      "    accuracy                       0.814516       496\n",
      "   macro avg   0.769080  0.699661  0.719236       496\n",
      "weighted avg   0.801369  0.814516  0.797390       496\n",
      "\n"
     ]
    }
   ],
   "source": [
    "#y_sub_dt\n",
    "from sklearn.metrics import precision_score, recall_score\n",
    "f1 = f1_score(y_sub_dt, preds_fin, average=\"macro\")\n",
    "prec = precision_score(y_sub_dt, preds_fin, average=\"macro\")\n",
    "recall = recall_score(y_sub_dt, preds_fin, average=\"macro\")\n",
    "if VBS:\n",
    "    print(\"Precision: {}\".format(prec)) \n",
    "    print(\"Recall: {}\".format(recall))\n",
    "    print(\"F1 score: {}\".format(f1))\n",
    "\n",
    "    report = classification_report(y_sub_dt, preds_fin, digits=6)\n",
    "    print(report)"
   ]
  },
  {
   "cell_type": "code",
   "execution_count": null,
   "metadata": {
    "colab": {
     "base_uri": "https://localhost:8080/"
    },
    "id": "dum3FdSXrFjm",
    "outputId": "7ad8244e-3606-4263-f82e-badb0d5b2bed"
   },
   "outputs": [
    {
     "data": {
      "text/plain": [
       "array([0.93452381, 0.21568627, 0.94736842, 0.7173913 , 0.68333333])"
      ]
     },
     "execution_count": 47,
     "metadata": {},
     "output_type": "execute_result"
    }
   ],
   "source": [
    "from sklearn.metrics import confusion_matrix\n",
    "matrix_stu = confusion_matrix(y_sub_dt, preds_fin)\n",
    "matrix_stu.diagonal()/matrix_stu.sum(axis=1)"
   ]
  },
  {
   "cell_type": "code",
   "execution_count": null,
   "metadata": {
    "id": "Qv4w5cq2rFmT"
   },
   "outputs": [],
   "source": [
    "cm_stu = matrix_stu.astype('float') / matrix_stu.sum(axis=1)[:, np.newaxis]"
   ]
  },
  {
   "cell_type": "code",
   "execution_count": null,
   "metadata": {
    "colab": {
     "base_uri": "https://localhost:8080/"
    },
    "id": "1lMfFsQ0rFpR",
    "outputId": "945ff7d9-c8fe-4e04-ed84-7a9fc88bc935"
   },
   "outputs": [
    {
     "data": {
      "text/plain": [
       "array([0.93452381, 0.21568627, 0.94736842, 0.7173913 , 0.68333333])"
      ]
     },
     "execution_count": 49,
     "metadata": {},
     "output_type": "execute_result"
    }
   ],
   "source": [
    "cm_stu.diagonal()"
   ]
  },
  {
   "cell_type": "code",
   "execution_count": null,
   "metadata": {
    "colab": {
     "base_uri": "https://localhost:8080/"
    },
    "id": "xPlEzjMdHhNw",
    "outputId": "fbd2cb90-3622-4849-a51f-7cbc9b7ab5c2"
   },
   "outputs": [
    {
     "name": "stdout",
     "output_type": "stream",
     "text": [
      "16/16 [==============================] - 0s 3ms/step - categorical_accuracy: 0.8145 - student_loss: 0.6017\n"
     ]
    }
   ],
   "source": [
    "accuracy_distiller = distiller.evaluate(x_sub_set_rshp, y_sub_dt_)"
   ]
  },
  {
   "cell_type": "code",
   "execution_count": null,
   "metadata": {
    "id": "0II4xauUhFx6"
   },
   "outputs": [],
   "source": [
    "#Distiller's performance (student model's prformance)\n",
    "\n",
    "#alpha=0.9,\n",
    "#temperature=4\n",
    "\n",
    "#30 epochs 85.57\n",
    "#40 epochs 84.85\n",
    "#50 epochs 83.88\n",
    "#60 epochs 83.88\n",
    "\n",
    "#alpha=0.9,\n",
    "#temperature=5\n",
    "\n",
    "#30 epochs 85.18\n",
    "#40 epochs 85.41\n",
    "#50 epochs 84.01\n",
    "#60 epochs "
   ]
  },
  {
   "cell_type": "code",
   "execution_count": null,
   "metadata": {
    "id": "dlgV5BnMhPwB"
   },
   "outputs": [],
   "source": []
  }
 ],
 "metadata": {
  "accelerator": "GPU",
  "colab": {
   "collapsed_sections": [],
   "machine_shape": "hm",
   "name": "sub_481(sub_2)KD_without_Personalization,_deep_sleep_net_(teacher)_and_simple_1d_cnn_(student).ipynb",
   "provenance": []
  },
  "kernelspec": {
   "display_name": "Python 3 (ipykernel)",
   "language": "python",
   "name": "python3"
  },
  "language_info": {
   "codemirror_mode": {
    "name": "ipython",
    "version": 3
   },
   "file_extension": ".py",
   "mimetype": "text/x-python",
   "name": "python",
   "nbconvert_exporter": "python",
   "pygments_lexer": "ipython3",
   "version": "3.11.3"
  }
 },
 "nbformat": 4,
 "nbformat_minor": 1
}
